{
 "metadata": {
  "language_info": {
   "codemirror_mode": {
    "name": "ipython",
    "version": 3
   },
   "file_extension": ".py",
   "mimetype": "text/x-python",
   "name": "python",
   "nbconvert_exporter": "python",
   "pygments_lexer": "ipython3",
   "version": "3.8.5-final"
  },
  "orig_nbformat": 2,
  "kernelspec": {
   "name": "canvas-data",
   "display_name": "canvas-data",
   "language": "python"
  }
 },
 "nbformat": 4,
 "nbformat_minor": 2,
 "cells": [
  {
   "cell_type": "code",
   "execution_count": 1,
   "metadata": {},
   "outputs": [
    {
     "output_type": "execute_result",
     "data": {
      "text/plain": [
       "True"
      ]
     },
     "metadata": {},
     "execution_count": 1
    }
   ],
   "source": [
    "import os\n",
    "import json\n",
    "import requests\n",
    "from dotenv import load_dotenv\n",
    "import plotly_express as px\n",
    "load_dotenv()"
   ]
  },
  {
   "cell_type": "code",
   "execution_count": 2,
   "metadata": {},
   "outputs": [],
   "source": [
    "import pandas as pd\n",
    "\n",
    "pd.set_option(\"display.max_columns\", None)\n",
    "pd.set_option(\"display.max_colwidth\", None)"
   ]
  },
  {
   "cell_type": "code",
   "execution_count": 3,
   "metadata": {},
   "outputs": [],
   "source": [
    "api_key = os.getenv(\"API-KEY\")\n",
    "headers = {\"Authorization\":\n",
    "           f\"Bearer {api_key}\"}"
   ]
  },
  {
   "cell_type": "code",
   "execution_count": 4,
   "metadata": {},
   "outputs": [],
   "source": [
    "def get_quizzes(course_id, headers):\n",
    "    \"\"\"This function returns a list of JSONs\n",
    "    that include all of the quizzes for a given course\n",
    "    The main purpose for this function is to find the\n",
    "    peer mentorship review quizzes we give the students\n",
    "    but this would return useful data about any quizzes\n",
    "    we were interested in.\n",
    "    USAGE:\n",
    "    This function requires that you have an API predefined.\n",
    "    Most users won't notice this in the front end as we'll\n",
    "    build the key into the program. If you're servicing in the\n",
    "    future headers should look like:\n",
    "    headers = {\"Authorization\":f\"Bearer {api_key}\"}\n",
    "    jsons = get_quizes(400, headers)\n",
    "    \"\"\"\n",
    "    r = requests.get(f\"https://lambdaschool.instructure.com/api/v1/courses/{course_id}/quizzes\", headers=headers)\n",
    "    raw = r.json()\n",
    "    for i in raw:\n",
    "        i[\"course_id\"] = course_id\n",
    "    return raw"
   ]
  },
  {
   "cell_type": "code",
   "execution_count": 5,
   "metadata": {},
   "outputs": [],
   "source": [
    "def get_submissions(course_id, quiz_id, headers):\n",
    "    \"\"\"Creates a small list of jsons\n",
    "    that can be made into a file very easily\n",
    "    then converted to a dataframe for exploration\n",
    "    This particular design is just for grabbing pagniated\n",
    "    information from the api and returning it in a useful\n",
    "    way.\n",
    "    Usage:\n",
    "    This function requires that you have an API predefined.\n",
    "    Most users won't notice this in the front end as we'll\n",
    "    build the key into the program. If you're servicing in the\n",
    "    future headers should look like:\n",
    "    headers = {\"Authorization\":f\"Bearer {api_key}\"}\n",
    "    Example ids used, not real\n",
    "    jsons = get_submissions(400, 1000)\n",
    "    with open(\"some_json_title.json\", \"w\") as outfile:\n",
    "        json.dump(data_set, outfile)\n",
    "    \"\"\"\n",
    "    r = requests.get(f\"https://lambdaschool.instructure.com/api/v1/courses/{course_id}/quizzes/{quiz_id}/submissions\", headers=headers)\n",
    "    data_set = []\n",
    "    raw = r.json()\n",
    "\n",
    "    for submission in raw[\"quiz_submissions\"]:\n",
    "        submission[\"course_id\"] = course_id\n",
    "        submission[\"quiz_id\"] = quiz_id\n",
    "        data_set.append(submission)\n",
    "\n",
    "    if \"next\" in r.links.keys():\n",
    "        while \"next\" in r.links.keys():\n",
    "            r = requests.get(r.links[\"next\"][\"url\"], headers=headers)\n",
    "            raw = r.json()\n",
    "            for submission in raw[\"quiz_submissions\"]:\n",
    "                submission[\"course_id\"] = course_id\n",
    "                submission[\"quiz_id\"] = quiz_id\n",
    "                data_set.append(submission)\n",
    "        if \"last\" in r.links.keys() and r.links['current']['url'] == r.links['last']['url']:\n",
    "            print('Done!')\n",
    "    else:\n",
    "        print(\"Just one page!\")\n",
    "    return data_set"
   ]
  },
  {
   "cell_type": "code",
   "execution_count": 6,
   "metadata": {},
   "outputs": [
    {
     "output_type": "execute_result",
     "data": {
      "text/plain": [
       "<Response [200]>"
      ]
     },
     "metadata": {},
     "execution_count": 6
    }
   ],
   "source": [
    "r = requests.get(\"https://lambdaschool.instructure.com/api/v1/accounts/1/courses?search_by=course&search_term=LLP&per_page=100\", headers=headers)\n",
    "r"
   ]
  },
  {
   "cell_type": "code",
   "execution_count": 7,
   "metadata": {},
   "outputs": [],
   "source": [
    "raw = r.json()\n",
    "raw\n",
    "#with open(\"LLP-Courses.json\", \"w\") as outfile:\n",
    "#    json.dump(raw, outfile)"
   ]
  },
  {
   "cell_type": "code",
   "execution_count": 9,
   "metadata": {},
   "outputs": [
    {
     "output_type": "execute_result",
     "data": {
      "text/plain": [
       "<Response [200]>"
      ]
     },
     "metadata": {},
     "execution_count": 9
    }
   ],
   "source": [
    "r = requests.get(\"https://lambdaschool.instructure.com/api/v1/accounts/1/users\", headers=headers)\n",
    "r"
   ]
  },
  {
   "cell_type": "code",
   "execution_count": null,
   "metadata": {},
   "outputs": [],
   "source": [
    "llp_courses_df = pd.read_json(\"LLP-Courses.json\")\n",
    "llp_courses_df.head()"
   ]
  },
  {
   "cell_type": "code",
   "execution_count": null,
   "metadata": {},
   "outputs": [],
   "source": [
    "llp_no_temp = llp_courses_df[llp_courses_df[\"course_code\"].str.contains(\"Template\")==False]\n",
    "llp_no_temp.head()"
   ]
  },
  {
   "cell_type": "code",
   "execution_count": null,
   "metadata": {},
   "outputs": [],
   "source": [
    "llp_2011_2010 = llp_no_temp[(llp_no_temp[\"course_code\"].str.contains(pat = \"201\\d\", regex = True))]\n",
    "llp_2011_2010.head()"
   ]
  },
  {
   "cell_type": "code",
   "execution_count": null,
   "metadata": {},
   "outputs": [],
   "source": [
    "quizzes_data = []\n",
    "for i in llp_2011_2010[\"id\"]:\n",
    "    for t in get_quizzes(i, headers):\n",
    "        quizzes_data.append(t)"
   ]
  },
  {
   "cell_type": "code",
   "execution_count": null,
   "metadata": {},
   "outputs": [],
   "source": [
    "with open(\"quizzes_llp_201X.json\", \"w\") as outfile:\n",
    "    json.dump(quizzes_data, outfile)"
   ]
  },
  {
   "cell_type": "code",
   "execution_count": null,
   "metadata": {},
   "outputs": [],
   "source": [
    "quizzes_df = pd.read_json(\"quizzes_llp_201X.json\")\n",
    "quizzes_df[[\"id\",\"title\", \"course_id\"]].head()"
   ]
  },
  {
   "cell_type": "code",
   "execution_count": null,
   "metadata": {},
   "outputs": [],
   "source": [
    "r = requests.get(f\"https://lambdaschool.instructure.com/api/v1/courses/495/quizzes/6780/submissions\", headers=headers)\n",
    "data_set = []\n",
    "raw = r.json()"
   ]
  },
  {
   "cell_type": "code",
   "execution_count": null,
   "metadata": {},
   "outputs": [],
   "source": [
    "for i in raw[\"quiz_submissions\"]:\r\n",
    "    i[\"course_id\"] = 495 "
   ]
  },
  {
   "cell_type": "code",
   "execution_count": null,
   "metadata": {},
   "outputs": [],
   "source": [
    "for i in quizzes_df[[\"id\", \"course_id\"]].itertuples():\n",
    "    submissions = get_submissions(i.course_id, i.id)\n",
    "    with open(f\"submissions_{i.id}.json\", \"w\") as outfile:\n",
    "        json.dump(submissions, outfile)"
   ]
  },
  {
   "cell_type": "code",
   "execution_count": null,
   "metadata": {},
   "outputs": [],
   "source": [
    "subs_6585_df = pd.read_json(\"submissions_6585.json\")\n",
    "subs_6585_df.head()"
   ]
  },
  {
   "cell_type": "code",
   "execution_count": null,
   "metadata": {},
   "outputs": [],
   "source": [
    "course_id = subs_6585_df[\"course_id\"][1]\n",
    "quiz_id = subs_6585_df[\"quiz_id\"][1]\n",
    "started_at = subs_6585_df[\"started_at\"][0]\n",
    "sub_id = subs_6585_df[\"id\"][1]\n",
    "r = requests.get(f\"https://lambdaschool.instructure.com/api/v1/courses/{course_id}/quizzes/{quiz_id}/submissions/{sub_id}/events\", headers=headers) "
   ]
  },
  {
   "cell_type": "code",
   "execution_count": null,
   "metadata": {
    "tags": []
   },
   "outputs": [],
   "source": [
    "raw2 = r.json()\n",
    "\n",
    "for i in raw2[\"quiz_submission_events\"]:\n",
    "    if \"event_data\" in i.keys():\n",
    "        if i[\"event_type\"] == \"question_answered\":\n",
    "            for t in i[\"event_data\"]:\n",
    "                if t[\"answer\"] != None and 0 < t[\"answer\"] < 4:\n",
    "                    print(t[\"answer\"]) "
   ]
  },
  {
   "cell_type": "code",
   "execution_count": 13,
   "metadata": {
    "tags": []
   },
   "outputs": [],
   "source": [
    "import glob\n",
    "subs_df = pd.DataFrame()\n",
    "path_to_json = \"\"\n",
    "json_pattern = os.path.join(path_to_json, \"submissions_*.json\")\n",
    "files_list = glob.glob(json_pattern)\n",
    "\n",
    "for f in files_list:\n",
    "    data = pd.read_json(f)\n",
    "    subs_df = subs_df.append(data)"
   ]
  },
  {
   "cell_type": "code",
   "execution_count": null,
   "metadata": {},
   "outputs": [],
   "source": []
  },
  {
   "cell_type": "code",
   "execution_count": 24,
   "metadata": {},
   "outputs": [
    {
     "output_type": "execute_result",
     "data": {
      "text/plain": [
       "id                                                                                                                                 97757\n",
       "quiz_id                                                                                                                             8562\n",
       "quiz_version                                                                                                                          53\n",
       "user_id                                                                                                                             2425\n",
       "submission_id                                                                                                                     538347\n",
       "score                                                                                                                                  1\n",
       "kept_score                                                                                                                             1\n",
       "started_at                                                                                                     2020-12-02 18:58:01+00:00\n",
       "end_at                                                                                                         2021-01-10 08:00:00+00:00\n",
       "finished_at                                                                                                    2020-12-02 18:59:32+00:00\n",
       "attempt                                                                                                                                1\n",
       "workflow_state                                                                                                                  complete\n",
       "fudge_points                                                                                                                         NaN\n",
       "quiz_points_possible                                                                                                                   1\n",
       "extra_attempts                                                                                                                       NaN\n",
       "extra_time                                                                                                                           NaT\n",
       "manually_unlocked                                                                                                                    NaN\n",
       "validation_token                                                        90fd31e676b647ae6fad4c3cc0369434af3e9b6eef72b092e33d5d05de24601e\n",
       "score_before_regrade                                                                                                                 NaN\n",
       "has_seen_results                                                                                                                       0\n",
       "time_spent                                                                                                                            91\n",
       "attempts_left                                                                                                                          0\n",
       "overdue_and_needs_submission                                                                                                           0\n",
       "excused?                                                                                                                           False\n",
       "html_url                                                 https://lambdaschool.instructure.com/courses/642/quizzes/8562/submissions/97757\n",
       "result_url                      https://lambdaschool.instructure.com/courses/642/quizzes/8562/history?quiz_submission_id=97757&version=1\n",
       "course_id                                                                                                                            642\n",
       "Name: 48, dtype: object"
      ]
     },
     "metadata": {},
     "execution_count": 24
    }
   ],
   "source": [
    "subs_df.iloc[4906]"
   ]
  },
  {
   "cell_type": "code",
   "execution_count": 26,
   "metadata": {},
   "outputs": [
    {
     "output_type": "execute_result",
     "data": {
      "text/plain": [
       "<Response [200]>"
      ]
     },
     "metadata": {},
     "execution_count": 26
    }
   ],
   "source": [
    "r = requests.get(f\"https://lambdaschool.instructure.com/api/v1/courses/642/quizzes/8562/submissions/97757/events\", headers=headers)\n",
    "r"
   ]
  },
  {
   "cell_type": "code",
   "execution_count": 28,
   "metadata": {},
   "outputs": [
    {
     "output_type": "execute_result",
     "data": {
      "text/plain": [
       "{'quiz_submission_events': [{'id': '1132590',\n",
       "   'event_type': 'submission_created',\n",
       "   'event_data': {'quiz_version': 53,\n",
       "    'quiz_data': [{'answers': [{'weight': 100,\n",
       "        'text': 'answer_text',\n",
       "        'id': 2455,\n",
       "        'numerical_answer_type': 'exact_answer',\n",
       "        'exact': 1.0,\n",
       "        'margin': 0.0},\n",
       "       {'weight': 100,\n",
       "        'text': 'answer_text',\n",
       "        'id': 8458,\n",
       "        'numerical_answer_type': 'exact_answer',\n",
       "        'exact': 2.0,\n",
       "        'margin': 0.0},\n",
       "       {'weight': 100,\n",
       "        'text': 'answer_text',\n",
       "        'id': 4060,\n",
       "        'numerical_answer_type': 'exact_answer',\n",
       "        'exact': 3.0,\n",
       "        'margin': 0.0}],\n",
       "      'correct_comments': '',\n",
       "      'incorrect_comments': '',\n",
       "      'question_text': '<div id=\"t-formula-bar-input-container\">\\n<div dir=\"ltr\">\\n<div id=\"t-formula-bar-input\">\\n<p class=\"cell-input disabled-input\" dir=\"ltr\" role=\"combobox\" aria-autocomplete=\"list\">How did your orientation go today?</p>\\n<p class=\"cell-input disabled-input\" dir=\"ltr\" role=\"combobox\" aria-autocomplete=\"list\"><span style=\"color: #1d1c1d; font-family: Slack-Lato, appleLogo, sans-serif; font-size: 12pt; font-style: normal; font-weight: 400; text-align: left; text-indent: 0px; white-space: normal; background-color: #ffffff; display: inline !important; float: none;\">Answer on a scale of 1-3, where 1 = below expectations, 2 = met expectations, and 3 = exceeded expectations.</span></p>\\n</div>\\n</div>\\n</div>',\n",
       "      'question_type': 'numerical_question',\n",
       "      'question_name': 'Question 1',\n",
       "      'migration_id': 'g775294b14c24a7fcdbd129044f5ac669',\n",
       "      'points_possible': 1.0,\n",
       "      'assessment_question_migration_id': 'gf47b767d37e06559ff801f2d253307ba',\n",
       "      'question_bank_name': 'Sprint 1, Module 1 - Mentor/Mentee Orientation',\n",
       "      'question_bank_migration_id': 'i4e617f9b3f2e929ba14aef04079c0d4c',\n",
       "      'is_quiz_question_bank': True,\n",
       "      'prepped_for_import': True,\n",
       "      'position': 1,\n",
       "      'id': 30573,\n",
       "      'assessment_question_id': None,\n",
       "      'published_at': '2020-12-02T18:45:24+00:00',\n",
       "      'name': 'Question 1'},\n",
       "     {'answers': [],\n",
       "      'correct_comments': '',\n",
       "      'incorrect_comments': '',\n",
       "      'question_text': '<div id=\"t-formula-bar-input-container\">\\n<div dir=\"ltr\">\\n<div id=\"t-formula-bar-input\">\\n<p class=\"cell-input disabled-input\" dir=\"ltr\" role=\"combobox\" aria-autocomplete=\"list\">What is one key take-away you\\'ve gained from today\\'s session?</p>\\n</div>\\n</div>\\n</div>',\n",
       "      'question_name': 'Question 2',\n",
       "      'migration_id': 'g3a19ce2ce15ba14e435f35b145c10576',\n",
       "      'points_possible': 1.0,\n",
       "      'assessment_question_migration_id': 'gf47b767d37e06559ff801f2d253307ba',\n",
       "      'question_type': 'essay_question',\n",
       "      'question_bank_name': 'Sprint 1, Module 1 - Mentor/Mentee Orientation',\n",
       "      'question_bank_migration_id': 'i4e617f9b3f2e929ba14aef04079c0d4c',\n",
       "      'is_quiz_question_bank': True,\n",
       "      'prepped_for_import': True,\n",
       "      'position': 2,\n",
       "      'id': 30574,\n",
       "      'assessment_question_id': None,\n",
       "      'published_at': '2020-12-02T18:45:24+00:00',\n",
       "      'name': 'Question 2'},\n",
       "     {'answers': [],\n",
       "      'correct_comments': '',\n",
       "      'incorrect_comments': '',\n",
       "      'question_text': '<div id=\"t-formula-bar-input-container\">\\n<div dir=\"ltr\">\\n<div id=\"t-formula-bar-input\">\\n<p class=\"cell-input disabled-input\" dir=\"ltr\" role=\"combobox\" aria-autocomplete=\"list\"><span>Do you have any questions or anything we should know about?</span></p>\\n</div>\\n</div>\\n</div>',\n",
       "      'question_name': 'Question 3',\n",
       "      'migration_id': 'gbbdcc6849ca7a580a407358cb1d9b246',\n",
       "      'points_possible': 1.0,\n",
       "      'assessment_question_migration_id': 'gf47b767d37e06559ff801f2d253307ba',\n",
       "      'question_type': 'essay_question',\n",
       "      'question_bank_name': 'Sprint 1, Module 1 - Mentor/Mentee Orientation',\n",
       "      'question_bank_migration_id': 'i4e617f9b3f2e929ba14aef04079c0d4c',\n",
       "      'is_quiz_question_bank': True,\n",
       "      'prepped_for_import': True,\n",
       "      'position': 3,\n",
       "      'id': 30575,\n",
       "      'assessment_question_id': None,\n",
       "      'published_at': '2020-12-02T18:45:24+00:00',\n",
       "      'name': 'Question 3'}]},\n",
       "   'created_at': '2020-12-02T18:58:01Z'},\n",
       "  {'id': '1132591',\n",
       "   'event_type': 'session_started',\n",
       "   'event_data': {'user_agent': 'Mozilla/5.0 (Windows NT 10.0; Win64; x64; rv:83.0) Gecko/20100101 Firefox/83.0'},\n",
       "   'created_at': '2020-12-02T18:58:02Z'},\n",
       "  {'id': '1132593',\n",
       "   'event_type': 'question_answered',\n",
       "   'event_data': [{'quiz_question_id': '30573', 'answer': 2.0},\n",
       "    {'quiz_question_id': '30574', 'answer': None},\n",
       "    {'quiz_question_id': '30575', 'answer': None}],\n",
       "   'created_at': '2020-12-02T18:58:09Z'},\n",
       "  {'id': '1132594',\n",
       "   'event_type': 'question_viewed',\n",
       "   'event_data': ['30573'],\n",
       "   'created_at': '2020-12-02T18:58:19Z'},\n",
       "  {'id': '1132595',\n",
       "   'event_type': 'page_blurred',\n",
       "   'event_data': None,\n",
       "   'created_at': '2020-12-02T18:58:19Z'},\n",
       "  {'id': '1132596',\n",
       "   'event_type': 'question_viewed',\n",
       "   'event_data': ['30574'],\n",
       "   'created_at': '2020-12-02T18:58:19Z'},\n",
       "  {'id': '1132597',\n",
       "   'event_type': 'page_focused',\n",
       "   'event_data': None,\n",
       "   'created_at': '2020-12-02T18:58:19Z'},\n",
       "  {'id': '1132598',\n",
       "   'event_type': 'page_blurred',\n",
       "   'event_data': None,\n",
       "   'created_at': '2020-12-02T18:58:19Z'},\n",
       "  {'id': '1132599',\n",
       "   'event_type': 'question_answered',\n",
       "   'event_data': [{'quiz_question_id': '30574', 'answer': '<p>H</p>'}],\n",
       "   'created_at': '2020-12-02T18:58:26Z'},\n",
       "  {'id': '1132600',\n",
       "   'event_type': 'page_focused',\n",
       "   'event_data': None,\n",
       "   'created_at': '2020-12-02T18:58:34Z'}]}"
      ]
     },
     "metadata": {},
     "execution_count": 28
    }
   ],
   "source": [
    "raw = r.json()\n",
    "raw"
   ]
  },
  {
   "cell_type": "code",
   "execution_count": 16,
   "metadata": {
    "tags": [
     "outputPrepend"
    ]
   },
   "outputs": [
    {
     "output_type": "stream",
     "name": "stdout",
     "text": [
      "\n",
      "884\n",
      "885\n",
      "886\n",
      "887\n",
      "888\n",
      "889\n",
      "890\n",
      "891\n",
      "892\n",
      "893\n",
      "894\n",
      "895\n",
      "896\n",
      "897\n",
      "898\n",
      "899\n",
      "900\n",
      "901\n",
      "902\n",
      "903\n",
      "904\n",
      "905\n",
      "906\n",
      "907\n",
      "908\n",
      "909\n",
      "910\n",
      "911\n",
      "912\n",
      "913\n",
      "914\n",
      "915\n",
      "916\n",
      "917\n",
      "918\n",
      "919\n",
      "920\n",
      "921\n",
      "922\n",
      "923\n",
      "924\n",
      "925\n",
      "926\n",
      "927\n",
      "928\n",
      "929\n",
      "930\n",
      "931\n",
      "932\n",
      "933\n",
      "934\n",
      "935\n",
      "936\n",
      "937\n",
      "938\n",
      "939\n",
      "940\n",
      "941\n",
      "942\n",
      "943\n",
      "944\n",
      "945\n",
      "946\n",
      "947\n",
      "948\n",
      "949\n",
      "950\n",
      "951\n",
      "952\n",
      "953\n",
      "954\n",
      "955\n",
      "956\n",
      "957\n",
      "958\n",
      "959\n",
      "960\n",
      "961\n",
      "962\n",
      "963\n",
      "964\n",
      "965\n",
      "966\n",
      "967\n",
      "968\n",
      "969\n",
      "970\n",
      "971\n",
      "972\n",
      "973\n",
      "974\n",
      "975\n",
      "976\n",
      "977\n",
      "978\n",
      "979\n",
      "980\n",
      "981\n",
      "982\n",
      "983\n",
      "984\n",
      "985\n",
      "986\n",
      "987\n",
      "988\n",
      "989\n",
      "990\n",
      "991\n",
      "992\n",
      "993\n",
      "994\n",
      "995\n",
      "996\n",
      "997\n",
      "998\n",
      "999\n",
      "1000\n",
      "1001\n",
      "1002\n",
      "1003\n",
      "1004\n",
      "1005\n",
      "1006\n",
      "1007\n",
      "1008\n",
      "1009\n",
      "1010\n",
      "1011\n",
      "1012\n",
      "1013\n",
      "1014\n",
      "1015\n",
      "1016\n",
      "1017\n",
      "1018\n",
      "1019\n",
      "1020\n",
      "1021\n",
      "1022\n",
      "1023\n",
      "1024\n",
      "1025\n",
      "1026\n",
      "1027\n",
      "1028\n",
      "1029\n",
      "1030\n",
      "1031\n",
      "1032\n",
      "1033\n",
      "1034\n",
      "1035\n",
      "1036\n",
      "1037\n",
      "1038\n",
      "1039\n",
      "1040\n",
      "1041\n",
      "1042\n",
      "1043\n",
      "1044\n",
      "1045\n",
      "1046\n",
      "1047\n",
      "1048\n",
      "1049\n",
      "1050\n",
      "1051\n",
      "1052\n",
      "1053\n",
      "1054\n",
      "1055\n",
      "1056\n",
      "1057\n",
      "1058\n",
      "1059\n",
      "1060\n",
      "1061\n",
      "1062\n",
      "1063\n",
      "1064\n",
      "1065\n",
      "1066\n",
      "1067\n",
      "1068\n",
      "1069\n",
      "1070\n",
      "1071\n",
      "1072\n",
      "1073\n",
      "1074\n",
      "1075\n",
      "1076\n",
      "1077\n",
      "1078\n",
      "1079\n",
      "1080\n",
      "1081\n",
      "1082\n",
      "1083\n",
      "1084\n",
      "1085\n",
      "1086\n",
      "1087\n",
      "1088\n",
      "1089\n",
      "1090\n",
      "1091\n",
      "1092\n",
      "1093\n",
      "1094\n",
      "1095\n",
      "1096\n",
      "1097\n",
      "1098\n",
      "1099\n",
      "1100\n",
      "1101\n",
      "1102\n",
      "1103\n",
      "1104\n",
      "1105\n",
      "1106\n",
      "1107\n",
      "1108\n",
      "1109\n",
      "1110\n",
      "1111\n",
      "1112\n",
      "1113\n",
      "1114\n",
      "1115\n",
      "1116\n",
      "1117\n",
      "1118\n",
      "1119\n",
      "1120\n",
      "1121\n",
      "1122\n",
      "1123\n",
      "1124\n",
      "1125\n",
      "1126\n",
      "1127\n",
      "1128\n",
      "1129\n",
      "1130\n",
      "1131\n",
      "1132\n",
      "1133\n",
      "1134\n",
      "1135\n",
      "1136\n",
      "1137\n",
      "1138\n",
      "1139\n",
      "1140\n",
      "1141\n",
      "1142\n",
      "1143\n",
      "1144\n",
      "1145\n",
      "1146\n",
      "1147\n",
      "1148\n",
      "1149\n",
      "1150\n",
      "1151\n",
      "1152\n",
      "1153\n",
      "1154\n",
      "1155\n",
      "1156\n",
      "1157\n",
      "1158\n",
      "1159\n",
      "1160\n",
      "1161\n",
      "1162\n",
      "1163\n",
      "1164\n",
      "1165\n",
      "1166\n",
      "1167\n",
      "1168\n",
      "1169\n",
      "1170\n",
      "1171\n",
      "1172\n",
      "1173\n",
      "1174\n",
      "1175\n",
      "1176\n",
      "1177\n",
      "1178\n",
      "1179\n",
      "1180\n",
      "1181\n",
      "1182\n",
      "1183\n",
      "1184\n",
      "1185\n",
      "1186\n",
      "1187\n",
      "1188\n",
      "1189\n",
      "1190\n",
      "1191\n",
      "1192\n",
      "1193\n",
      "1194\n",
      "1195\n",
      "1196\n",
      "1197\n",
      "1198\n",
      "1199\n",
      "1200\n",
      "1201\n",
      "1202\n",
      "1203\n",
      "1204\n",
      "1205\n",
      "1206\n",
      "1207\n",
      "1208\n",
      "1209\n",
      "1210\n",
      "1211\n",
      "1212\n",
      "1213\n",
      "1214\n",
      "1215\n",
      "1216\n",
      "1217\n",
      "1218\n",
      "1219\n",
      "1220\n",
      "1221\n",
      "1222\n",
      "1223\n",
      "1224\n",
      "1225\n",
      "1226\n",
      "1227\n",
      "1228\n",
      "1229\n",
      "1230\n",
      "1231\n",
      "1232\n",
      "1233\n",
      "1234\n",
      "1235\n",
      "1236\n",
      "1237\n",
      "1238\n",
      "1239\n",
      "1240\n",
      "1241\n",
      "1242\n",
      "1243\n",
      "1244\n",
      "1245\n",
      "1246\n",
      "1247\n",
      "1248\n",
      "1249\n",
      "1250\n",
      "1251\n",
      "1252\n",
      "1253\n",
      "1254\n",
      "1255\n",
      "1256\n",
      "1257\n",
      "1258\n",
      "1259\n",
      "1260\n",
      "1261\n",
      "1262\n",
      "1263\n",
      "1264\n",
      "1265\n",
      "1266\n",
      "1267\n",
      "1268\n",
      "1269\n",
      "1270\n",
      "1271\n",
      "1272\n",
      "1273\n",
      "1274\n",
      "1275\n",
      "1276\n",
      "1277\n",
      "1278\n",
      "1279\n",
      "1280\n",
      "1281\n",
      "1282\n",
      "1283\n",
      "1284\n",
      "1285\n",
      "1286\n",
      "1287\n",
      "1288\n",
      "1289\n",
      "1290\n",
      "1291\n",
      "1292\n",
      "1293\n",
      "1294\n",
      "1295\n",
      "1296\n",
      "1297\n",
      "1298\n",
      "1299\n",
      "1300\n",
      "1301\n",
      "1302\n",
      "1303\n",
      "1304\n",
      "1305\n",
      "1306\n",
      "1307\n",
      "1308\n",
      "1309\n",
      "1310\n",
      "1311\n",
      "1312\n",
      "1313\n",
      "1314\n",
      "1315\n",
      "1316\n",
      "1317\n",
      "1318\n",
      "1319\n",
      "1320\n",
      "1321\n",
      "1322\n",
      "1323\n",
      "1324\n",
      "1325\n",
      "1326\n",
      "1327\n",
      "1328\n",
      "1329\n",
      "1330\n",
      "1331\n",
      "1332\n",
      "1333\n",
      "1334\n",
      "1335\n",
      "1336\n",
      "1337\n",
      "1338\n",
      "1339\n",
      "1340\n",
      "1341\n",
      "1342\n",
      "1343\n",
      "1344\n",
      "1345\n",
      "1346\n",
      "1347\n",
      "1348\n",
      "1349\n",
      "1350\n",
      "1351\n",
      "1352\n",
      "1353\n",
      "1354\n",
      "1355\n",
      "1356\n",
      "1357\n",
      "1358\n",
      "1359\n",
      "1360\n",
      "1361\n",
      "1362\n",
      "1363\n",
      "1364\n",
      "1365\n",
      "1366\n",
      "1367\n",
      "1368\n",
      "1369\n",
      "1370\n",
      "1371\n",
      "1372\n",
      "1373\n",
      "1374\n",
      "1375\n",
      "1376\n",
      "1377\n",
      "1378\n",
      "1379\n",
      "1380\n",
      "1381\n",
      "1382\n",
      "1383\n",
      "1384\n",
      "1385\n",
      "1386\n",
      "1387\n",
      "1388\n",
      "1389\n",
      "1390\n",
      "1391\n",
      "1392\n",
      "1393\n",
      "1394\n",
      "1395\n",
      "1396\n",
      "1397\n",
      "1398\n",
      "1399\n",
      "1400\n",
      "1401\n",
      "1402\n",
      "1403\n",
      "1404\n",
      "1405\n",
      "1406\n",
      "1407\n",
      "1408\n",
      "1409\n",
      "1410\n",
      "1411\n",
      "1412\n",
      "1413\n",
      "1414\n",
      "1415\n",
      "1416\n",
      "1417\n",
      "1418\n",
      "1419\n",
      "1420\n",
      "1421\n",
      "1422\n",
      "1423\n",
      "1424\n",
      "1425\n",
      "1426\n",
      "1427\n",
      "1428\n",
      "1429\n",
      "1430\n",
      "1431\n",
      "1432\n",
      "1433\n",
      "1434\n",
      "1435\n",
      "1436\n",
      "1437\n",
      "1438\n",
      "1439\n",
      "1440\n",
      "1441\n",
      "1442\n",
      "1443\n",
      "1444\n",
      "1445\n",
      "1446\n",
      "1447\n",
      "1448\n",
      "1449\n",
      "1450\n",
      "1451\n",
      "1452\n",
      "1453\n",
      "1454\n",
      "1455\n",
      "1456\n",
      "1457\n",
      "1458\n",
      "1459\n",
      "1460\n",
      "1461\n",
      "1462\n",
      "1463\n",
      "1464\n",
      "1465\n",
      "1466\n",
      "1467\n",
      "1468\n",
      "1469\n",
      "1470\n",
      "1471\n",
      "1472\n",
      "1473\n",
      "1474\n",
      "1475\n",
      "1476\n",
      "1477\n",
      "1478\n",
      "1479\n",
      "1480\n",
      "1481\n",
      "1482\n",
      "1483\n",
      "1484\n",
      "1485\n",
      "1486\n",
      "1487\n",
      "1488\n",
      "1489\n",
      "1490\n",
      "1491\n",
      "1492\n",
      "1493\n",
      "1494\n",
      "1495\n",
      "1496\n",
      "1497\n",
      "1498\n",
      "1499\n",
      "1500\n",
      "1501\n",
      "1502\n",
      "1503\n",
      "1504\n",
      "1505\n",
      "1506\n",
      "1507\n",
      "1508\n",
      "1509\n",
      "1510\n",
      "1511\n",
      "1512\n",
      "1513\n",
      "1514\n",
      "1515\n",
      "1516\n",
      "1517\n",
      "1518\n",
      "1519\n",
      "1520\n",
      "1521\n",
      "1522\n",
      "1523\n",
      "1524\n",
      "1525\n",
      "1526\n",
      "1527\n",
      "1528\n",
      "1529\n",
      "1530\n",
      "1531\n",
      "1532\n",
      "1533\n",
      "1534\n",
      "1535\n",
      "1536\n",
      "1537\n",
      "1538\n",
      "1539\n",
      "1540\n",
      "1541\n",
      "1542\n",
      "1543\n",
      "1544\n",
      "1545\n",
      "1546\n",
      "1547\n",
      "1548\n",
      "1549\n",
      "1550\n",
      "1551\n",
      "1552\n",
      "1553\n",
      "1554\n",
      "1555\n",
      "1556\n",
      "1557\n",
      "1558\n",
      "1559\n",
      "1560\n",
      "1561\n",
      "1562\n",
      "1563\n",
      "1564\n",
      "1565\n",
      "1566\n",
      "1567\n",
      "1568\n",
      "1569\n",
      "1570\n",
      "1571\n",
      "1572\n",
      "1573\n",
      "1574\n",
      "1575\n",
      "1576\n",
      "1577\n",
      "1578\n",
      "1579\n",
      "1580\n",
      "1581\n",
      "1582\n",
      "1583\n",
      "1584\n",
      "1585\n",
      "1586\n",
      "1587\n",
      "1588\n",
      "1589\n",
      "1590\n",
      "1591\n",
      "1592\n",
      "1593\n",
      "1594\n",
      "1595\n",
      "1596\n",
      "1597\n",
      "1598\n",
      "1599\n",
      "1600\n",
      "1601\n",
      "1602\n",
      "1603\n",
      "1604\n",
      "1605\n",
      "1606\n",
      "1607\n",
      "1608\n",
      "1609\n",
      "1610\n",
      "1611\n",
      "1612\n",
      "1613\n",
      "1614\n",
      "1615\n",
      "1616\n",
      "1617\n",
      "1618\n",
      "1619\n",
      "1620\n",
      "1621\n",
      "1622\n",
      "1623\n",
      "1624\n",
      "1625\n",
      "1626\n",
      "1627\n",
      "1628\n",
      "1629\n",
      "1630\n",
      "1631\n",
      "1632\n",
      "1633\n",
      "1634\n",
      "1635\n",
      "1636\n",
      "1637\n",
      "1638\n",
      "1639\n",
      "1640\n",
      "1641\n",
      "1642\n",
      "1643\n",
      "1644\n",
      "1645\n",
      "1646\n",
      "1647\n",
      "1648\n",
      "1649\n",
      "1650\n",
      "1651\n",
      "1652\n",
      "1653\n",
      "1654\n",
      "1655\n",
      "1656\n",
      "1657\n",
      "1658\n",
      "1659\n",
      "1660\n",
      "1661\n",
      "1662\n",
      "1663\n",
      "1664\n",
      "1665\n",
      "1666\n",
      "1667\n",
      "1668\n",
      "1669\n",
      "1670\n",
      "1671\n",
      "1672\n",
      "1673\n",
      "1674\n",
      "1675\n",
      "1676\n",
      "1677\n",
      "1678\n",
      "1679\n",
      "1680\n",
      "1681\n",
      "1682\n",
      "1683\n",
      "1684\n",
      "1685\n",
      "1686\n",
      "1687\n",
      "1688\n",
      "1689\n",
      "1690\n",
      "1691\n",
      "1692\n",
      "1693\n",
      "1694\n",
      "1695\n",
      "1696\n",
      "1697\n",
      "1698\n",
      "1699\n",
      "1700\n",
      "1701\n",
      "1702\n",
      "1703\n",
      "1704\n",
      "1705\n",
      "1706\n",
      "1707\n",
      "1708\n",
      "1709\n",
      "1710\n",
      "1711\n",
      "1712\n",
      "1713\n",
      "1714\n",
      "1715\n",
      "1716\n",
      "1717\n",
      "1718\n",
      "1719\n",
      "1720\n",
      "1721\n",
      "1722\n",
      "1723\n",
      "1724\n",
      "1725\n",
      "1726\n",
      "1727\n",
      "1728\n",
      "1729\n",
      "1730\n",
      "1731\n",
      "1732\n",
      "1733\n",
      "1734\n",
      "1735\n",
      "1736\n",
      "1737\n",
      "1738\n",
      "1739\n",
      "1740\n",
      "1741\n",
      "1742\n",
      "1743\n",
      "1744\n",
      "1745\n",
      "1746\n",
      "1747\n",
      "1748\n",
      "1749\n",
      "1750\n",
      "1751\n",
      "1752\n",
      "1753\n",
      "1754\n",
      "1755\n",
      "1756\n",
      "1757\n",
      "1758\n",
      "1759\n",
      "1760\n",
      "1761\n",
      "1762\n",
      "1763\n",
      "1764\n",
      "1765\n",
      "1766\n",
      "1767\n",
      "1768\n",
      "1769\n",
      "1770\n",
      "1771\n",
      "1772\n",
      "1773\n",
      "1774\n",
      "1775\n",
      "1776\n",
      "1777\n",
      "1778\n",
      "1779\n",
      "1780\n",
      "1781\n",
      "1782\n",
      "1783\n",
      "1784\n",
      "1785\n",
      "1786\n",
      "1787\n",
      "1788\n",
      "1789\n",
      "1790\n",
      "1791\n",
      "1792\n",
      "1793\n",
      "1794\n",
      "1795\n",
      "1796\n",
      "1797\n",
      "1798\n",
      "1799\n",
      "1800\n",
      "1801\n",
      "1802\n",
      "1803\n",
      "1804\n",
      "1805\n",
      "1806\n",
      "1807\n",
      "1808\n",
      "1809\n",
      "1810\n",
      "1811\n",
      "1812\n",
      "1813\n",
      "1814\n",
      "1815\n",
      "1816\n",
      "1817\n",
      "1818\n",
      "1819\n",
      "1820\n",
      "1821\n",
      "1822\n",
      "1823\n",
      "1824\n",
      "1825\n",
      "1826\n",
      "1827\n",
      "1828\n",
      "1829\n",
      "1830\n",
      "1831\n",
      "1832\n",
      "1833\n",
      "1834\n",
      "1835\n",
      "1836\n",
      "1837\n",
      "1838\n",
      "1839\n",
      "1840\n",
      "1841\n",
      "1842\n",
      "1843\n",
      "1844\n",
      "1845\n",
      "1846\n",
      "1847\n",
      "1848\n",
      "1849\n",
      "1850\n",
      "1851\n",
      "1852\n",
      "1853\n",
      "1854\n",
      "1855\n",
      "1856\n",
      "1857\n",
      "1858\n",
      "1859\n",
      "1860\n",
      "1861\n",
      "1862\n",
      "1863\n",
      "1864\n",
      "1865\n",
      "1866\n",
      "1867\n",
      "1868\n",
      "1869\n",
      "1870\n",
      "1871\n",
      "1872\n",
      "1873\n",
      "1874\n",
      "1875\n",
      "1876\n",
      "1877\n",
      "1878\n",
      "1879\n",
      "1880\n",
      "1881\n",
      "1882\n",
      "1883\n",
      "1884\n",
      "1885\n",
      "1886\n",
      "1887\n",
      "1888\n",
      "1889\n",
      "1890\n",
      "1891\n",
      "1892\n",
      "1893\n",
      "1894\n",
      "1895\n",
      "1896\n",
      "1897\n",
      "1898\n",
      "1899\n",
      "1900\n",
      "1901\n",
      "1902\n",
      "1903\n",
      "1904\n",
      "1905\n",
      "1906\n",
      "1907\n",
      "1908\n",
      "1909\n",
      "1910\n",
      "1911\n",
      "1912\n",
      "1913\n",
      "1914\n",
      "1915\n",
      "1916\n",
      "1917\n",
      "1918\n",
      "1919\n",
      "1920\n",
      "1921\n",
      "1922\n",
      "1923\n",
      "1924\n",
      "1925\n",
      "1926\n",
      "1927\n",
      "1928\n",
      "1929\n",
      "1930\n",
      "1931\n",
      "1932\n",
      "1933\n",
      "1934\n",
      "1935\n",
      "1936\n",
      "1937\n",
      "1938\n",
      "1939\n",
      "1940\n",
      "1941\n",
      "1942\n",
      "1943\n",
      "1944\n",
      "1945\n",
      "1946\n",
      "1947\n",
      "1948\n",
      "1949\n",
      "1950\n",
      "1951\n",
      "1952\n",
      "1953\n",
      "1954\n",
      "1955\n",
      "1956\n",
      "1957\n",
      "1958\n",
      "1959\n",
      "1960\n",
      "1961\n",
      "1962\n",
      "1963\n",
      "1964\n",
      "1965\n",
      "1966\n",
      "1967\n",
      "1968\n",
      "1969\n",
      "1970\n",
      "1971\n",
      "1972\n",
      "1973\n",
      "1974\n",
      "1975\n",
      "1976\n",
      "1977\n",
      "1978\n",
      "1979\n",
      "1980\n",
      "1981\n",
      "1982\n",
      "1983\n",
      "1984\n",
      "1985\n",
      "1986\n",
      "1987\n",
      "1988\n",
      "1989\n",
      "1990\n",
      "1991\n",
      "1992\n",
      "1993\n",
      "1994\n",
      "1995\n",
      "1996\n",
      "1997\n",
      "1998\n",
      "1999\n",
      "2000\n",
      "2001\n",
      "2002\n",
      "2003\n",
      "2004\n",
      "2005\n",
      "2006\n",
      "2007\n",
      "2008\n",
      "2009\n",
      "2010\n",
      "2011\n",
      "2012\n",
      "2013\n",
      "2014\n",
      "2015\n",
      "2016\n",
      "2017\n",
      "2018\n",
      "2019\n",
      "2020\n",
      "2021\n",
      "2022\n",
      "2023\n",
      "2024\n",
      "2025\n",
      "2026\n",
      "2027\n",
      "2028\n",
      "2029\n",
      "2030\n",
      "2031\n",
      "2032\n",
      "2033\n",
      "2034\n",
      "2035\n",
      "2036\n",
      "2037\n",
      "2038\n",
      "2039\n",
      "2040\n",
      "2041\n",
      "2042\n",
      "2043\n",
      "2044\n",
      "2045\n",
      "2046\n",
      "2047\n",
      "2048\n",
      "2049\n",
      "2050\n",
      "2051\n",
      "2052\n",
      "2053\n",
      "2054\n",
      "2055\n",
      "2056\n",
      "2057\n",
      "2058\n",
      "2059\n",
      "2060\n",
      "2061\n",
      "2062\n",
      "2063\n",
      "2064\n",
      "2065\n",
      "2066\n",
      "2067\n",
      "2068\n",
      "2069\n",
      "2070\n",
      "2071\n",
      "2072\n",
      "2073\n",
      "2074\n",
      "2075\n",
      "2076\n",
      "2077\n",
      "2078\n",
      "2079\n",
      "2080\n",
      "2081\n",
      "2082\n",
      "2083\n",
      "2084\n",
      "2085\n",
      "2086\n",
      "2087\n",
      "2088\n",
      "2089\n",
      "2090\n",
      "2091\n",
      "2092\n",
      "2093\n",
      "2094\n",
      "2095\n",
      "2096\n",
      "2097\n",
      "2098\n",
      "2099\n",
      "2100\n",
      "2101\n",
      "2102\n",
      "2103\n",
      "2104\n",
      "2105\n",
      "2106\n",
      "2107\n",
      "2108\n",
      "2109\n",
      "2110\n",
      "2111\n",
      "2112\n",
      "2113\n",
      "2114\n",
      "2115\n",
      "2116\n",
      "2117\n",
      "2118\n",
      "2119\n",
      "2120\n",
      "2121\n",
      "2122\n",
      "2123\n",
      "2124\n",
      "2125\n",
      "2126\n",
      "2127\n",
      "2128\n",
      "2129\n",
      "2130\n",
      "2131\n",
      "2132\n",
      "2133\n",
      "2134\n",
      "2135\n",
      "2136\n",
      "2137\n",
      "2138\n",
      "2139\n",
      "2140\n",
      "2141\n",
      "2142\n",
      "2143\n",
      "2144\n",
      "2145\n",
      "2146\n",
      "2147\n",
      "2148\n",
      "2149\n",
      "2150\n",
      "2151\n",
      "2152\n",
      "2153\n",
      "2154\n",
      "2155\n",
      "2156\n",
      "2157\n",
      "2158\n",
      "2159\n",
      "2160\n",
      "2161\n",
      "2162\n",
      "2163\n",
      "2164\n",
      "2165\n",
      "2166\n",
      "2167\n",
      "2168\n",
      "2169\n",
      "2170\n",
      "2171\n",
      "2172\n",
      "2173\n",
      "2174\n",
      "2175\n",
      "2176\n",
      "2177\n",
      "2178\n",
      "2179\n",
      "2180\n",
      "2181\n",
      "2182\n",
      "2183\n",
      "2184\n",
      "2185\n",
      "2186\n",
      "2187\n",
      "2188\n",
      "2189\n",
      "2190\n",
      "2191\n",
      "2192\n",
      "2193\n",
      "2194\n",
      "2195\n",
      "2196\n",
      "2197\n",
      "2198\n",
      "2199\n",
      "2200\n",
      "2201\n",
      "2202\n",
      "2203\n",
      "2204\n",
      "2205\n",
      "2206\n",
      "2207\n",
      "2208\n",
      "2209\n",
      "2210\n",
      "2211\n",
      "2212\n",
      "2213\n",
      "2214\n",
      "2215\n",
      "2216\n",
      "2217\n",
      "2218\n",
      "2219\n",
      "2220\n",
      "2221\n",
      "2222\n",
      "2223\n",
      "2224\n",
      "2225\n",
      "2226\n",
      "2227\n",
      "2228\n",
      "2229\n",
      "2230\n",
      "2231\n",
      "2232\n",
      "2233\n",
      "2234\n",
      "2235\n",
      "2236\n",
      "2237\n",
      "2238\n",
      "2239\n",
      "2240\n",
      "2241\n",
      "2242\n",
      "2243\n",
      "2244\n",
      "2245\n",
      "2246\n",
      "2247\n",
      "2248\n",
      "2249\n",
      "2250\n",
      "2251\n",
      "2252\n",
      "2253\n",
      "2254\n",
      "2255\n",
      "2256\n",
      "2257\n",
      "2258\n",
      "2259\n",
      "2260\n",
      "2261\n",
      "2262\n",
      "2263\n",
      "2264\n",
      "2265\n",
      "2266\n",
      "2267\n",
      "2268\n",
      "2269\n",
      "2270\n",
      "2271\n",
      "2272\n",
      "2273\n",
      "2274\n",
      "2275\n",
      "2276\n",
      "2277\n",
      "2278\n",
      "2279\n",
      "2280\n",
      "2281\n",
      "2282\n",
      "2283\n",
      "2284\n",
      "2285\n",
      "2286\n",
      "2287\n",
      "2288\n",
      "2289\n",
      "2290\n",
      "2291\n",
      "2292\n",
      "2293\n",
      "2294\n",
      "2295\n",
      "2296\n",
      "2297\n",
      "2298\n",
      "2299\n",
      "2300\n",
      "2301\n",
      "2302\n",
      "2303\n",
      "2304\n",
      "2305\n",
      "2306\n",
      "2307\n",
      "2308\n",
      "2309\n",
      "2310\n",
      "2311\n",
      "2312\n",
      "2313\n",
      "2314\n",
      "2315\n",
      "2316\n",
      "2317\n",
      "2318\n",
      "2319\n",
      "2320\n",
      "2321\n",
      "2322\n",
      "2323\n",
      "2324\n",
      "2325\n",
      "2326\n",
      "2327\n",
      "2328\n",
      "2329\n",
      "2330\n",
      "2331\n",
      "2332\n",
      "2333\n",
      "2334\n",
      "2335\n",
      "2336\n",
      "2337\n",
      "2338\n",
      "2339\n",
      "2340\n",
      "2341\n",
      "2342\n",
      "2343\n",
      "2344\n",
      "2345\n",
      "2346\n",
      "2347\n",
      "2348\n",
      "2349\n",
      "2350\n",
      "2351\n",
      "2352\n",
      "2353\n",
      "2354\n",
      "2355\n",
      "2356\n",
      "2357\n",
      "2358\n",
      "2359\n",
      "2360\n",
      "2361\n",
      "2362\n",
      "2363\n",
      "2364\n",
      "2365\n",
      "2366\n",
      "2367\n",
      "2368\n",
      "2369\n",
      "2370\n",
      "2371\n",
      "2372\n",
      "2373\n",
      "2374\n",
      "2375\n",
      "2376\n",
      "2377\n",
      "2378\n",
      "2379\n",
      "2380\n",
      "2381\n",
      "2382\n",
      "2383\n",
      "2384\n",
      "2385\n",
      "2386\n",
      "2387\n",
      "2388\n",
      "2389\n",
      "2390\n",
      "2391\n",
      "2392\n",
      "2393\n",
      "2394\n",
      "2395\n",
      "2396\n",
      "2397\n",
      "2398\n",
      "2399\n",
      "2400\n",
      "2401\n",
      "2402\n",
      "2403\n",
      "2404\n",
      "2405\n",
      "2406\n",
      "2407\n",
      "2408\n",
      "2409\n",
      "2410\n",
      "2411\n",
      "2412\n",
      "2413\n",
      "2414\n",
      "2415\n",
      "2416\n",
      "2417\n",
      "2418\n",
      "2419\n",
      "2420\n",
      "2421\n",
      "2422\n",
      "2423\n",
      "2424\n",
      "2425\n",
      "2426\n",
      "2427\n",
      "2428\n",
      "2429\n",
      "2430\n",
      "2431\n",
      "2432\n",
      "2433\n",
      "2434\n",
      "2435\n",
      "2436\n",
      "2437\n",
      "2438\n",
      "2439\n",
      "2440\n",
      "2441\n",
      "2442\n",
      "2443\n",
      "2444\n",
      "2445\n",
      "2446\n",
      "2447\n",
      "2448\n",
      "2449\n",
      "2450\n",
      "2451\n",
      "2452\n",
      "2453\n",
      "2454\n",
      "2455\n",
      "2456\n",
      "2457\n",
      "2458\n",
      "2459\n",
      "2460\n",
      "2461\n",
      "2462\n",
      "2463\n",
      "2464\n",
      "2465\n",
      "2466\n",
      "2467\n",
      "2468\n",
      "2469\n",
      "2470\n",
      "2471\n",
      "2472\n",
      "2473\n",
      "2474\n",
      "2475\n",
      "2476\n",
      "2477\n",
      "2478\n",
      "2479\n",
      "2480\n",
      "2481\n",
      "2482\n",
      "2483\n",
      "2484\n",
      "2485\n",
      "2486\n",
      "2487\n",
      "2488\n",
      "2489\n",
      "2490\n",
      "2491\n",
      "2492\n",
      "2493\n",
      "2494\n",
      "2495\n",
      "2496\n",
      "2497\n",
      "2498\n",
      "2499\n",
      "2500\n",
      "2501\n",
      "2502\n",
      "2503\n",
      "2504\n",
      "2505\n",
      "2506\n",
      "2507\n",
      "2508\n",
      "2509\n",
      "2510\n",
      "2511\n",
      "2512\n",
      "2513\n",
      "2514\n",
      "2515\n",
      "2516\n",
      "2517\n",
      "2518\n",
      "2519\n",
      "2520\n",
      "2521\n",
      "2522\n",
      "2523\n",
      "2524\n",
      "2525\n",
      "2526\n",
      "2527\n",
      "2528\n",
      "2529\n",
      "2530\n",
      "2531\n",
      "2532\n",
      "2533\n",
      "2534\n",
      "2535\n",
      "2536\n",
      "2537\n",
      "2538\n",
      "2539\n",
      "2540\n",
      "2541\n",
      "2542\n",
      "2543\n",
      "2544\n",
      "2545\n",
      "2546\n",
      "2547\n",
      "2548\n",
      "2549\n",
      "2550\n",
      "2551\n",
      "2552\n",
      "2553\n",
      "2554\n",
      "2555\n",
      "2556\n",
      "2557\n",
      "2558\n",
      "2559\n",
      "2560\n",
      "2561\n",
      "2562\n",
      "2563\n",
      "2564\n",
      "2565\n",
      "2566\n",
      "2567\n",
      "2568\n",
      "2569\n",
      "2570\n",
      "2571\n",
      "2572\n",
      "2573\n",
      "2574\n",
      "2575\n",
      "2576\n",
      "2577\n",
      "2578\n",
      "2579\n",
      "2580\n",
      "2581\n",
      "2582\n",
      "2583\n",
      "2584\n",
      "2585\n",
      "2586\n",
      "2587\n",
      "2588\n",
      "2589\n",
      "2590\n",
      "2591\n",
      "2592\n",
      "2593\n",
      "2594\n",
      "2595\n",
      "2596\n",
      "2597\n",
      "2598\n",
      "2599\n",
      "2600\n",
      "2601\n",
      "2602\n",
      "2603\n",
      "2604\n",
      "2605\n",
      "2606\n",
      "2607\n",
      "2608\n",
      "2609\n",
      "2610\n",
      "2611\n",
      "2612\n",
      "2613\n",
      "2614\n",
      "2615\n",
      "2616\n",
      "2617\n",
      "2618\n",
      "2619\n",
      "2620\n",
      "2621\n",
      "2622\n",
      "2623\n",
      "2624\n",
      "2625\n",
      "2626\n",
      "2627\n",
      "2628\n",
      "2629\n",
      "2630\n",
      "2631\n",
      "2632\n",
      "2633\n",
      "2634\n",
      "2635\n",
      "2636\n",
      "2637\n",
      "2638\n",
      "2639\n",
      "2640\n",
      "2641\n",
      "2642\n",
      "2643\n",
      "2644\n",
      "2645\n",
      "2646\n",
      "2647\n",
      "2648\n",
      "2649\n",
      "2650\n",
      "2651\n",
      "2652\n",
      "2653\n",
      "2654\n",
      "2655\n",
      "2656\n",
      "2657\n",
      "2658\n",
      "2659\n",
      "2660\n",
      "2661\n",
      "2662\n",
      "2663\n",
      "2664\n",
      "2665\n",
      "2666\n",
      "2667\n",
      "2668\n",
      "2669\n",
      "2670\n",
      "2671\n",
      "2672\n",
      "2673\n",
      "2674\n",
      "2675\n",
      "2676\n",
      "2677\n",
      "2678\n",
      "2679\n",
      "2680\n",
      "2681\n",
      "2682\n",
      "2683\n",
      "2684\n",
      "2685\n",
      "2686\n",
      "2687\n",
      "2688\n",
      "2689\n",
      "2690\n",
      "2691\n",
      "2692\n",
      "2693\n",
      "2694\n",
      "2695\n",
      "2696\n",
      "2697\n",
      "2698\n",
      "2699\n",
      "2700\n",
      "2701\n",
      "2702\n",
      "2703\n",
      "2704\n",
      "2705\n",
      "2706\n",
      "2707\n",
      "2708\n",
      "2709\n",
      "2710\n",
      "2711\n",
      "2712\n",
      "2713\n",
      "2714\n",
      "2715\n",
      "2716\n",
      "2717\n",
      "2718\n",
      "2719\n",
      "2720\n",
      "2721\n",
      "2722\n",
      "2723\n",
      "2724\n",
      "2725\n",
      "2726\n",
      "2727\n",
      "2728\n",
      "2729\n",
      "2730\n",
      "2731\n",
      "2732\n",
      "2733\n",
      "2734\n",
      "2735\n",
      "2736\n",
      "2737\n",
      "2738\n",
      "2739\n",
      "2740\n",
      "2741\n",
      "2742\n",
      "2743\n",
      "2744\n",
      "2745\n",
      "2746\n",
      "2747\n",
      "2748\n",
      "2749\n",
      "2750\n",
      "2751\n",
      "2752\n",
      "2753\n",
      "2754\n",
      "2755\n",
      "2756\n",
      "2757\n",
      "2758\n",
      "2759\n",
      "2760\n",
      "2761\n",
      "2762\n",
      "2763\n",
      "2764\n",
      "2765\n",
      "2766\n",
      "2767\n",
      "2768\n",
      "2769\n",
      "2770\n",
      "2771\n",
      "2772\n",
      "2773\n",
      "2774\n",
      "2775\n",
      "2776\n",
      "2777\n",
      "2778\n",
      "2779\n",
      "2780\n",
      "2781\n",
      "2782\n",
      "2783\n",
      "2784\n",
      "2785\n",
      "2786\n",
      "2787\n",
      "2788\n",
      "2789\n",
      "2790\n",
      "2791\n",
      "2792\n",
      "2793\n",
      "2794\n",
      "2795\n",
      "2796\n",
      "2797\n",
      "2798\n",
      "2799\n",
      "2800\n",
      "2801\n",
      "2802\n",
      "2803\n",
      "2804\n",
      "2805\n",
      "2806\n",
      "2807\n",
      "2808\n",
      "2809\n",
      "2810\n",
      "2811\n",
      "2812\n",
      "2813\n",
      "2814\n",
      "2815\n",
      "2816\n",
      "2817\n",
      "2818\n",
      "2819\n",
      "2820\n",
      "2821\n",
      "2822\n",
      "2823\n",
      "2824\n",
      "2825\n",
      "2826\n",
      "2827\n",
      "2828\n",
      "2829\n",
      "2830\n",
      "2831\n",
      "2832\n",
      "2833\n",
      "2834\n",
      "2835\n",
      "2836\n",
      "2837\n",
      "2838\n",
      "2839\n",
      "2840\n",
      "2841\n",
      "2842\n",
      "2843\n",
      "2844\n",
      "2845\n",
      "2846\n",
      "2847\n",
      "2848\n",
      "2849\n",
      "2850\n",
      "2851\n",
      "2852\n",
      "2853\n",
      "2854\n",
      "2855\n",
      "2856\n",
      "2857\n",
      "2858\n",
      "2859\n",
      "2860\n",
      "2861\n",
      "2862\n",
      "2863\n",
      "2864\n",
      "2865\n",
      "2866\n",
      "2867\n",
      "2868\n",
      "2869\n",
      "2870\n",
      "2871\n",
      "2872\n",
      "2873\n",
      "2874\n",
      "2875\n",
      "2876\n",
      "2877\n",
      "2878\n",
      "2879\n",
      "2880\n",
      "2881\n",
      "2882\n",
      "2883\n",
      "2884\n",
      "2885\n",
      "2886\n",
      "2887\n",
      "2888\n",
      "2889\n",
      "2890\n",
      "2891\n",
      "2892\n",
      "2893\n",
      "2894\n",
      "2895\n",
      "2896\n",
      "2897\n",
      "2898\n",
      "2899\n",
      "2900\n",
      "2901\n",
      "2902\n",
      "2903\n",
      "2904\n",
      "2905\n",
      "2906\n",
      "2907\n",
      "2908\n",
      "2909\n",
      "2910\n",
      "2911\n",
      "2912\n",
      "2913\n",
      "2914\n",
      "2915\n",
      "2916\n",
      "2917\n",
      "2918\n",
      "2919\n",
      "2920\n",
      "2921\n",
      "2922\n",
      "2923\n",
      "2924\n",
      "2925\n",
      "2926\n",
      "2927\n",
      "2928\n",
      "2929\n",
      "2930\n",
      "2931\n",
      "2932\n",
      "2933\n",
      "2934\n",
      "2935\n",
      "2936\n",
      "2937\n",
      "2938\n",
      "2939\n",
      "2940\n",
      "2941\n",
      "2942\n",
      "2943\n",
      "2944\n",
      "2945\n",
      "2946\n",
      "2947\n",
      "2948\n",
      "2949\n",
      "2950\n",
      "2951\n",
      "2952\n",
      "2953\n",
      "2954\n",
      "2955\n",
      "2956\n",
      "2957\n",
      "2958\n",
      "2959\n",
      "2960\n",
      "2961\n",
      "2962\n",
      "2963\n",
      "2964\n",
      "2965\n",
      "2966\n",
      "2967\n",
      "2968\n",
      "2969\n",
      "2970\n",
      "2971\n",
      "2972\n",
      "2973\n",
      "2974\n",
      "2975\n",
      "2976\n",
      "2977\n",
      "2978\n",
      "2979\n",
      "2980\n",
      "2981\n",
      "2982\n",
      "2983\n",
      "2984\n",
      "2985\n",
      "2986\n",
      "2987\n",
      "2988\n",
      "2989\n",
      "2990\n",
      "2991\n",
      "2992\n",
      "2993\n",
      "2994\n",
      "2995\n",
      "2996\n",
      "2997\n",
      "2998\n",
      "2999\n",
      "3000\n",
      "3001\n",
      "3002\n",
      "3003\n",
      "3004\n",
      "3005\n",
      "3006\n",
      "3007\n",
      "3008\n",
      "3009\n",
      "3010\n",
      "3011\n",
      "3012\n",
      "3013\n",
      "3014\n",
      "3015\n",
      "3016\n",
      "3017\n",
      "3018\n",
      "3019\n",
      "3020\n",
      "3021\n",
      "3022\n",
      "3023\n",
      "3024\n",
      "3025\n",
      "3026\n",
      "3027\n",
      "3028\n",
      "3029\n",
      "3030\n",
      "3031\n",
      "3032\n",
      "3033\n",
      "3034\n",
      "3035\n",
      "3036\n",
      "3037\n",
      "3038\n",
      "3039\n",
      "3040\n",
      "3041\n",
      "3042\n",
      "3043\n",
      "3044\n",
      "3045\n",
      "3046\n",
      "3047\n",
      "3048\n",
      "3049\n",
      "3050\n",
      "3051\n",
      "3052\n",
      "3053\n",
      "3054\n",
      "3055\n",
      "3056\n",
      "3057\n",
      "3058\n",
      "3059\n",
      "3060\n",
      "3061\n",
      "3062\n",
      "3063\n",
      "3064\n",
      "3065\n",
      "3066\n",
      "3067\n",
      "3068\n",
      "3069\n",
      "3070\n",
      "3071\n",
      "3072\n",
      "3073\n",
      "3074\n",
      "3075\n",
      "3076\n",
      "3077\n",
      "3078\n",
      "3079\n",
      "3080\n",
      "3081\n",
      "3082\n",
      "3083\n",
      "3084\n",
      "3085\n",
      "3086\n",
      "3087\n",
      "3088\n",
      "3089\n",
      "3090\n",
      "3091\n",
      "3092\n",
      "3093\n",
      "3094\n",
      "3095\n",
      "3096\n",
      "3097\n",
      "3098\n",
      "3099\n",
      "3100\n",
      "3101\n",
      "3102\n",
      "3103\n",
      "3104\n",
      "3105\n",
      "3106\n",
      "3107\n",
      "3108\n",
      "3109\n",
      "3110\n",
      "3111\n",
      "3112\n",
      "3113\n",
      "3114\n",
      "3115\n",
      "3116\n",
      "3117\n",
      "3118\n",
      "3119\n",
      "3120\n",
      "3121\n",
      "3122\n",
      "3123\n",
      "3124\n",
      "3125\n",
      "3126\n",
      "3127\n",
      "3128\n",
      "3129\n",
      "3130\n",
      "3131\n",
      "3132\n",
      "3133\n",
      "3134\n",
      "3135\n",
      "3136\n",
      "3137\n",
      "3138\n",
      "3139\n",
      "3140\n",
      "3141\n",
      "3142\n",
      "3143\n",
      "3144\n",
      "3145\n",
      "3146\n",
      "3147\n",
      "3148\n",
      "3149\n",
      "3150\n",
      "3151\n",
      "3152\n",
      "3153\n",
      "3154\n",
      "3155\n",
      "3156\n",
      "3157\n",
      "3158\n",
      "3159\n",
      "3160\n",
      "3161\n",
      "3162\n",
      "3163\n",
      "3164\n",
      "3165\n",
      "3166\n",
      "3167\n",
      "3168\n",
      "3169\n",
      "3170\n",
      "3171\n",
      "3172\n",
      "3173\n",
      "3174\n",
      "3175\n",
      "3176\n",
      "3177\n",
      "3178\n",
      "3179\n",
      "3180\n",
      "3181\n",
      "3182\n",
      "3183\n",
      "3184\n",
      "3185\n",
      "3186\n",
      "3187\n",
      "3188\n",
      "3189\n",
      "3190\n",
      "3191\n",
      "3192\n",
      "3193\n",
      "3194\n",
      "3195\n",
      "3196\n",
      "3197\n",
      "3198\n",
      "3199\n",
      "3200\n",
      "3201\n",
      "3202\n",
      "3203\n",
      "3204\n",
      "3205\n",
      "3206\n",
      "3207\n",
      "3208\n",
      "3209\n",
      "3210\n",
      "3211\n",
      "3212\n",
      "3213\n",
      "3214\n",
      "3215\n",
      "3216\n",
      "3217\n",
      "3218\n",
      "3219\n",
      "3220\n",
      "3221\n",
      "3222\n",
      "3223\n",
      "3224\n",
      "3225\n",
      "3226\n",
      "3227\n",
      "3228\n",
      "3229\n",
      "3230\n",
      "3231\n",
      "3232\n",
      "3233\n",
      "3234\n",
      "3235\n",
      "3236\n",
      "3237\n",
      "3238\n",
      "3239\n",
      "3240\n",
      "3241\n",
      "3242\n",
      "3243\n",
      "3244\n",
      "3245\n",
      "3246\n",
      "3247\n",
      "3248\n",
      "3249\n",
      "3250\n",
      "3251\n",
      "3252\n",
      "3253\n",
      "3254\n",
      "3255\n",
      "3256\n",
      "3257\n",
      "3258\n",
      "3259\n",
      "3260\n",
      "3261\n",
      "3262\n",
      "3263\n",
      "3264\n",
      "3265\n",
      "3266\n",
      "3267\n",
      "3268\n",
      "3269\n",
      "3270\n",
      "3271\n",
      "3272\n",
      "3273\n",
      "3274\n",
      "3275\n",
      "3276\n",
      "3277\n",
      "3278\n",
      "3279\n",
      "3280\n",
      "3281\n",
      "3282\n",
      "3283\n",
      "3284\n",
      "3285\n",
      "3286\n",
      "3287\n",
      "3288\n",
      "3289\n",
      "3290\n",
      "3291\n",
      "3292\n",
      "3293\n",
      "3294\n",
      "3295\n",
      "3296\n",
      "3297\n",
      "3298\n",
      "3299\n",
      "3300\n",
      "3301\n",
      "3302\n",
      "3303\n",
      "3304\n",
      "3305\n",
      "3306\n",
      "3307\n",
      "3308\n",
      "3309\n",
      "3310\n",
      "3311\n",
      "3312\n",
      "3313\n",
      "3314\n",
      "3315\n",
      "3316\n",
      "3317\n",
      "3318\n",
      "3319\n",
      "3320\n",
      "3321\n",
      "3322\n",
      "3323\n",
      "3324\n",
      "3325\n",
      "3326\n",
      "3327\n",
      "3328\n",
      "3329\n",
      "3330\n",
      "3331\n",
      "3332\n",
      "3333\n",
      "3334\n",
      "3335\n",
      "3336\n",
      "3337\n",
      "3338\n",
      "3339\n",
      "3340\n",
      "3341\n",
      "3342\n",
      "3343\n",
      "3344\n",
      "3345\n",
      "3346\n",
      "3347\n",
      "3348\n",
      "3349\n",
      "3350\n",
      "3351\n",
      "3352\n",
      "3353\n",
      "3354\n",
      "3355\n",
      "3356\n",
      "3357\n",
      "3358\n",
      "3359\n",
      "3360\n",
      "3361\n",
      "3362\n",
      "3363\n",
      "3364\n",
      "3365\n",
      "3366\n",
      "3367\n",
      "3368\n",
      "3369\n",
      "3370\n",
      "3371\n",
      "3372\n",
      "3373\n",
      "3374\n",
      "3375\n",
      "3376\n",
      "3377\n",
      "3378\n",
      "3379\n",
      "3380\n",
      "3381\n",
      "3382\n",
      "3383\n",
      "3384\n",
      "3385\n",
      "3386\n",
      "3387\n",
      "3388\n",
      "3389\n",
      "3390\n",
      "3391\n",
      "3392\n",
      "3393\n",
      "3394\n",
      "3395\n",
      "3396\n",
      "3397\n",
      "3398\n",
      "3399\n",
      "3400\n",
      "3401\n",
      "3402\n",
      "3403\n",
      "3404\n",
      "3405\n",
      "3406\n",
      "3407\n",
      "3408\n",
      "3409\n",
      "3410\n",
      "3411\n",
      "3412\n",
      "3413\n",
      "3414\n",
      "3415\n",
      "3416\n",
      "3417\n",
      "3418\n",
      "3419\n",
      "3420\n",
      "3421\n",
      "3422\n",
      "3423\n",
      "3424\n",
      "3425\n",
      "3426\n",
      "3427\n",
      "3428\n",
      "3429\n",
      "3430\n",
      "3431\n",
      "3432\n",
      "3433\n",
      "3434\n",
      "3435\n",
      "3436\n",
      "3437\n",
      "3438\n",
      "3439\n",
      "3440\n",
      "3441\n",
      "3442\n",
      "3443\n",
      "3444\n",
      "3445\n",
      "3446\n",
      "3447\n",
      "3448\n",
      "3449\n",
      "3450\n",
      "3451\n",
      "3452\n",
      "3453\n",
      "3454\n",
      "3455\n",
      "3456\n",
      "3457\n",
      "3458\n",
      "3459\n",
      "3460\n",
      "3461\n",
      "3462\n",
      "3463\n",
      "3464\n",
      "3465\n",
      "3466\n",
      "3467\n",
      "3468\n",
      "3469\n",
      "3470\n",
      "3471\n",
      "3472\n",
      "3473\n",
      "3474\n",
      "3475\n",
      "3476\n",
      "3477\n",
      "3478\n",
      "3479\n",
      "3480\n",
      "3481\n",
      "3482\n",
      "3483\n",
      "3484\n",
      "3485\n",
      "3486\n",
      "3487\n",
      "3488\n",
      "3489\n",
      "3490\n",
      "3491\n",
      "3492\n",
      "3493\n",
      "3494\n",
      "3495\n",
      "3496\n",
      "3497\n",
      "3498\n",
      "3499\n",
      "3500\n",
      "3501\n",
      "3502\n",
      "3503\n",
      "3504\n",
      "3505\n",
      "3506\n",
      "3507\n",
      "3508\n",
      "3509\n",
      "3510\n",
      "3511\n",
      "3512\n",
      "3513\n",
      "3514\n",
      "3515\n",
      "3516\n",
      "3517\n",
      "3518\n",
      "3519\n",
      "3520\n",
      "3521\n",
      "3522\n",
      "3523\n",
      "3524\n",
      "3525\n",
      "3526\n",
      "3527\n",
      "3528\n",
      "3529\n",
      "3530\n",
      "3531\n",
      "3532\n",
      "3533\n",
      "3534\n",
      "3535\n",
      "3536\n",
      "3537\n",
      "3538\n",
      "3539\n",
      "3540\n",
      "3541\n",
      "3542\n",
      "3543\n",
      "3544\n",
      "3545\n",
      "3546\n",
      "3547\n",
      "3548\n",
      "3549\n",
      "3550\n",
      "3551\n",
      "3552\n",
      "3553\n",
      "3554\n",
      "3555\n",
      "3556\n",
      "3557\n",
      "3558\n",
      "3559\n",
      "3560\n",
      "3561\n",
      "3562\n",
      "3563\n",
      "3564\n",
      "3565\n",
      "3566\n",
      "3567\n",
      "3568\n",
      "3569\n",
      "3570\n",
      "3571\n",
      "3572\n",
      "3573\n",
      "3574\n",
      "3575\n",
      "3576\n",
      "3577\n",
      "3578\n",
      "3579\n",
      "3580\n",
      "3581\n",
      "3582\n",
      "3583\n",
      "3584\n",
      "3585\n",
      "3586\n",
      "3587\n",
      "3588\n",
      "3589\n",
      "3590\n",
      "3591\n",
      "3592\n",
      "3593\n",
      "3594\n",
      "3595\n",
      "3596\n",
      "3597\n",
      "3598\n",
      "3599\n",
      "3600\n",
      "3601\n",
      "3602\n",
      "3603\n",
      "3604\n",
      "3605\n",
      "3606\n",
      "3607\n",
      "3608\n",
      "3609\n",
      "3610\n",
      "3611\n",
      "3612\n",
      "3613\n",
      "3614\n",
      "3615\n",
      "3616\n",
      "3617\n",
      "3618\n",
      "3619\n",
      "3620\n",
      "3621\n",
      "3622\n",
      "3623\n",
      "3624\n",
      "3625\n",
      "3626\n",
      "3627\n",
      "3628\n",
      "3629\n",
      "3630\n",
      "3631\n",
      "3632\n",
      "3633\n",
      "3634\n",
      "3635\n",
      "3636\n",
      "3637\n",
      "3638\n",
      "3639\n",
      "3640\n",
      "3641\n",
      "3642\n",
      "3643\n",
      "3644\n",
      "3645\n",
      "3646\n",
      "3647\n",
      "3648\n",
      "3649\n",
      "3650\n",
      "3651\n",
      "3652\n",
      "3653\n",
      "3654\n",
      "3655\n",
      "3656\n",
      "3657\n",
      "3658\n",
      "3659\n",
      "3660\n",
      "3661\n",
      "3662\n",
      "3663\n",
      "3664\n",
      "3665\n",
      "3666\n",
      "3667\n",
      "3668\n",
      "3669\n",
      "3670\n",
      "3671\n",
      "3672\n",
      "3673\n",
      "3674\n",
      "3675\n",
      "3676\n",
      "3677\n",
      "3678\n",
      "3679\n",
      "3680\n",
      "3681\n",
      "3682\n",
      "3683\n",
      "3684\n",
      "3685\n",
      "3686\n",
      "3687\n",
      "3688\n",
      "3689\n",
      "3690\n",
      "3691\n",
      "3692\n",
      "3693\n",
      "3694\n",
      "3695\n",
      "3696\n",
      "3697\n",
      "3698\n",
      "3699\n",
      "3700\n",
      "3701\n",
      "3702\n",
      "3703\n",
      "3704\n",
      "3705\n",
      "3706\n",
      "3707\n",
      "3708\n",
      "3709\n",
      "3710\n",
      "3711\n",
      "3712\n",
      "3713\n",
      "3714\n",
      "3715\n",
      "3716\n",
      "3717\n",
      "3718\n",
      "3719\n",
      "3720\n",
      "3721\n",
      "3722\n",
      "3723\n",
      "3724\n",
      "3725\n",
      "3726\n",
      "3727\n",
      "3728\n",
      "3729\n",
      "3730\n",
      "3731\n",
      "3732\n",
      "3733\n",
      "3734\n",
      "3735\n",
      "3736\n",
      "3737\n",
      "3738\n",
      "3739\n",
      "3740\n",
      "3741\n",
      "3742\n",
      "3743\n",
      "3744\n",
      "3745\n",
      "3746\n",
      "3747\n",
      "3748\n",
      "3749\n",
      "3750\n",
      "3751\n",
      "3752\n",
      "3753\n",
      "3754\n",
      "3755\n",
      "3756\n",
      "3757\n",
      "3758\n",
      "3759\n",
      "3760\n",
      "3761\n",
      "3762\n",
      "3763\n",
      "3764\n",
      "3765\n",
      "3766\n",
      "3767\n",
      "3768\n",
      "3769\n",
      "3770\n",
      "3771\n",
      "3772\n",
      "3773\n",
      "3774\n",
      "3775\n",
      "3776\n",
      "3777\n",
      "3778\n",
      "3779\n",
      "3780\n",
      "3781\n",
      "3782\n",
      "3783\n",
      "3784\n",
      "3785\n",
      "3786\n",
      "3787\n",
      "3788\n",
      "3789\n",
      "3790\n",
      "3791\n",
      "3792\n",
      "3793\n",
      "3794\n",
      "3795\n",
      "3796\n",
      "3797\n",
      "3798\n",
      "3799\n",
      "3800\n",
      "3801\n",
      "3802\n",
      "3803\n",
      "3804\n",
      "3805\n",
      "3806\n",
      "3807\n",
      "3808\n",
      "3809\n",
      "3810\n",
      "3811\n",
      "3812\n",
      "3813\n",
      "3814\n",
      "3815\n",
      "3816\n",
      "3817\n",
      "3818\n",
      "3819\n",
      "3820\n",
      "3821\n",
      "3822\n",
      "3823\n",
      "3824\n",
      "3825\n",
      "3826\n",
      "3827\n",
      "3828\n",
      "3829\n",
      "3830\n",
      "3831\n",
      "3832\n",
      "3833\n",
      "3834\n",
      "3835\n",
      "3836\n",
      "3837\n",
      "3838\n",
      "3839\n",
      "3840\n",
      "3841\n",
      "3842\n",
      "3843\n",
      "3844\n",
      "3845\n",
      "3846\n",
      "3847\n",
      "3848\n",
      "3849\n",
      "3850\n",
      "3851\n",
      "3852\n",
      "3853\n",
      "3854\n",
      "3855\n",
      "3856\n",
      "3857\n",
      "3858\n",
      "3859\n",
      "3860\n",
      "3861\n",
      "3862\n",
      "3863\n",
      "3864\n",
      "3865\n",
      "3866\n",
      "3867\n",
      "3868\n",
      "3869\n",
      "3870\n",
      "3871\n",
      "3872\n",
      "3873\n",
      "3874\n",
      "3875\n",
      "3876\n",
      "3877\n",
      "3878\n",
      "3879\n",
      "3880\n",
      "3881\n",
      "3882\n",
      "3883\n",
      "3884\n",
      "3885\n",
      "3886\n",
      "3887\n",
      "3888\n",
      "3889\n",
      "3890\n",
      "3891\n",
      "3892\n",
      "3893\n",
      "3894\n",
      "3895\n",
      "3896\n",
      "3897\n",
      "3898\n",
      "3899\n",
      "3900\n",
      "3901\n",
      "3902\n",
      "3903\n",
      "3904\n",
      "3905\n",
      "3906\n",
      "3907\n",
      "3908\n",
      "3909\n",
      "3910\n",
      "3911\n",
      "3912\n",
      "3913\n",
      "3914\n",
      "3915\n",
      "3916\n",
      "3917\n",
      "3918\n",
      "3919\n",
      "3920\n",
      "3921\n",
      "3922\n",
      "3923\n",
      "3924\n",
      "3925\n",
      "3926\n",
      "3927\n",
      "3928\n",
      "3929\n",
      "3930\n",
      "3931\n",
      "3932\n",
      "3933\n",
      "3934\n",
      "3935\n",
      "3936\n",
      "3937\n",
      "3938\n",
      "3939\n",
      "3940\n",
      "3941\n",
      "3942\n",
      "3943\n",
      "3944\n",
      "3945\n",
      "3946\n",
      "3947\n",
      "3948\n",
      "3949\n",
      "3950\n",
      "3951\n",
      "3952\n",
      "3953\n",
      "3954\n",
      "3955\n",
      "3956\n",
      "3957\n",
      "3958\n",
      "3959\n",
      "3960\n",
      "3961\n",
      "3962\n",
      "3963\n",
      "3964\n",
      "3965\n",
      "3966\n",
      "3967\n",
      "3968\n",
      "3969\n",
      "3970\n",
      "3971\n",
      "3972\n",
      "3973\n",
      "3974\n",
      "3975\n",
      "3976\n",
      "3977\n",
      "3978\n",
      "3979\n",
      "3980\n",
      "3981\n",
      "3982\n",
      "3983\n",
      "3984\n",
      "3985\n",
      "3986\n",
      "3987\n",
      "3988\n",
      "3989\n",
      "3990\n",
      "3991\n",
      "3992\n",
      "3993\n",
      "3994\n",
      "3995\n",
      "3996\n",
      "3997\n",
      "3998\n",
      "3999\n",
      "4000\n",
      "4001\n",
      "4002\n",
      "4003\n",
      "4004\n",
      "4005\n",
      "4006\n",
      "4007\n",
      "4008\n",
      "4009\n",
      "4010\n",
      "4011\n",
      "4012\n",
      "4013\n",
      "4014\n",
      "4015\n",
      "4016\n",
      "4017\n",
      "4018\n",
      "4019\n",
      "4020\n",
      "4021\n",
      "4022\n",
      "4023\n",
      "4024\n",
      "4025\n",
      "4026\n",
      "4027\n",
      "4028\n",
      "4029\n",
      "4030\n",
      "4031\n",
      "4032\n",
      "4033\n",
      "4034\n",
      "4035\n",
      "4036\n",
      "4037\n",
      "4038\n",
      "4039\n",
      "4040\n",
      "4041\n",
      "4042\n",
      "4043\n",
      "4044\n",
      "4045\n",
      "4046\n",
      "4047\n",
      "4048\n",
      "4049\n",
      "4050\n",
      "4051\n",
      "4052\n",
      "4053\n",
      "4054\n",
      "4055\n",
      "4056\n",
      "4057\n",
      "4058\n",
      "4059\n",
      "4060\n",
      "4061\n",
      "4062\n",
      "4063\n",
      "4064\n",
      "4065\n",
      "4066\n",
      "4067\n",
      "4068\n",
      "4069\n",
      "4070\n",
      "4071\n",
      "4072\n",
      "4073\n",
      "4074\n",
      "4075\n",
      "4076\n",
      "4077\n",
      "4078\n",
      "4079\n",
      "4080\n",
      "4081\n",
      "4082\n",
      "4083\n",
      "4084\n",
      "4085\n",
      "4086\n",
      "4087\n",
      "4088\n",
      "4089\n",
      "4090\n",
      "4091\n",
      "4092\n",
      "4093\n",
      "4094\n",
      "4095\n",
      "4096\n",
      "4097\n",
      "4098\n",
      "4099\n",
      "4100\n",
      "4101\n",
      "4102\n",
      "4103\n",
      "4104\n",
      "4105\n",
      "4106\n",
      "4107\n",
      "4108\n",
      "4109\n",
      "4110\n",
      "4111\n",
      "4112\n",
      "4113\n",
      "4114\n",
      "4115\n",
      "4116\n",
      "4117\n",
      "4118\n",
      "4119\n",
      "4120\n",
      "4121\n",
      "4122\n",
      "4123\n",
      "4124\n",
      "4125\n",
      "4126\n",
      "4127\n",
      "4128\n",
      "4129\n",
      "4130\n",
      "4131\n",
      "4132\n",
      "4133\n",
      "4134\n",
      "4135\n",
      "4136\n",
      "4137\n",
      "4138\n",
      "4139\n",
      "4140\n",
      "4141\n",
      "4142\n",
      "4143\n",
      "4144\n",
      "4145\n",
      "4146\n",
      "4147\n",
      "4148\n",
      "4149\n",
      "4150\n",
      "4151\n",
      "4152\n",
      "4153\n",
      "4154\n",
      "4155\n",
      "4156\n",
      "4157\n",
      "4158\n",
      "4159\n",
      "4160\n",
      "4161\n",
      "4162\n",
      "4163\n",
      "4164\n",
      "4165\n",
      "4166\n",
      "4167\n",
      "4168\n",
      "4169\n",
      "4170\n",
      "4171\n",
      "4172\n",
      "4173\n",
      "4174\n",
      "4175\n",
      "4176\n",
      "4177\n",
      "4178\n",
      "4179\n",
      "4180\n",
      "4181\n",
      "4182\n",
      "4183\n",
      "4184\n",
      "4185\n",
      "4186\n",
      "4187\n",
      "4188\n",
      "4189\n",
      "4190\n",
      "4191\n",
      "4192\n",
      "4193\n",
      "4194\n",
      "4195\n",
      "4196\n",
      "4197\n",
      "4198\n",
      "4199\n",
      "4200\n",
      "4201\n",
      "4202\n",
      "4203\n",
      "4204\n",
      "4205\n",
      "4206\n",
      "4207\n",
      "4208\n",
      "4209\n",
      "4210\n",
      "4211\n",
      "4212\n",
      "4213\n",
      "4214\n",
      "4215\n",
      "4216\n",
      "4217\n",
      "4218\n",
      "4219\n",
      "4220\n",
      "4221\n",
      "4222\n",
      "4223\n",
      "4224\n",
      "4225\n",
      "4226\n",
      "4227\n",
      "4228\n",
      "4229\n",
      "4230\n",
      "4231\n",
      "4232\n",
      "4233\n",
      "4234\n",
      "4235\n",
      "4236\n",
      "4237\n",
      "4238\n",
      "4239\n",
      "4240\n",
      "4241\n",
      "4242\n",
      "4243\n",
      "4244\n",
      "4245\n",
      "4246\n",
      "4247\n",
      "4248\n",
      "4249\n",
      "4250\n",
      "4251\n",
      "4252\n",
      "4253\n",
      "4254\n",
      "4255\n",
      "4256\n",
      "4257\n",
      "4258\n",
      "4259\n",
      "4260\n",
      "4261\n",
      "4262\n",
      "4263\n",
      "4264\n",
      "4265\n",
      "4266\n",
      "4267\n",
      "4268\n",
      "4269\n",
      "4270\n",
      "4271\n",
      "4272\n",
      "4273\n",
      "4274\n",
      "4275\n",
      "4276\n",
      "4277\n",
      "4278\n",
      "4279\n",
      "4280\n",
      "4281\n",
      "4282\n",
      "4283\n",
      "4284\n",
      "4285\n",
      "4286\n",
      "4287\n",
      "4288\n",
      "4289\n",
      "4290\n",
      "4291\n",
      "4292\n",
      "4293\n",
      "4294\n",
      "4295\n",
      "4296\n",
      "4297\n",
      "4298\n",
      "4299\n",
      "4300\n",
      "4301\n",
      "4302\n",
      "4303\n",
      "4304\n",
      "4305\n",
      "4306\n",
      "4307\n",
      "4308\n",
      "4309\n",
      "4310\n",
      "4311\n",
      "4312\n",
      "4313\n",
      "4314\n",
      "4315\n",
      "4316\n",
      "4317\n",
      "4318\n",
      "4319\n",
      "4320\n",
      "4321\n",
      "4322\n",
      "4323\n",
      "4324\n",
      "4325\n",
      "4326\n",
      "4327\n",
      "4328\n",
      "4329\n",
      "4330\n",
      "4331\n",
      "4332\n",
      "4333\n",
      "4334\n",
      "4335\n",
      "4336\n",
      "4337\n",
      "4338\n",
      "4339\n",
      "4340\n",
      "4341\n",
      "4342\n",
      "4343\n",
      "4344\n",
      "4345\n",
      "4346\n",
      "4347\n",
      "4348\n",
      "4349\n",
      "4350\n",
      "4351\n",
      "4352\n",
      "4353\n",
      "4354\n",
      "4355\n",
      "4356\n",
      "4357\n",
      "4358\n",
      "4359\n",
      "4360\n",
      "4361\n",
      "4362\n",
      "4363\n",
      "4364\n",
      "4365\n",
      "4366\n",
      "4367\n",
      "4368\n",
      "4369\n",
      "4370\n",
      "4371\n",
      "4372\n",
      "4373\n",
      "4374\n",
      "4375\n",
      "4376\n",
      "4377\n",
      "4378\n",
      "4379\n",
      "4380\n",
      "4381\n",
      "4382\n",
      "4383\n",
      "4384\n",
      "4385\n",
      "4386\n",
      "4387\n",
      "4388\n",
      "4389\n",
      "4390\n",
      "4391\n",
      "4392\n",
      "4393\n",
      "4394\n",
      "4395\n",
      "4396\n",
      "4397\n",
      "4398\n",
      "4399\n",
      "4400\n",
      "4401\n",
      "4402\n",
      "4403\n",
      "4404\n",
      "4405\n",
      "4406\n",
      "4407\n",
      "4408\n",
      "4409\n",
      "4410\n",
      "4411\n",
      "4412\n",
      "4413\n",
      "4414\n",
      "4415\n",
      "4416\n",
      "4417\n",
      "4418\n",
      "4419\n",
      "4420\n",
      "4421\n",
      "4422\n",
      "4423\n",
      "4424\n",
      "4425\n",
      "4426\n",
      "4427\n",
      "4428\n",
      "4429\n",
      "4430\n",
      "4431\n",
      "4432\n",
      "4433\n",
      "4434\n",
      "4435\n",
      "4436\n",
      "4437\n",
      "4438\n",
      "4439\n",
      "4440\n",
      "4441\n",
      "4442\n",
      "4443\n",
      "4444\n",
      "4445\n",
      "4446\n",
      "4447\n",
      "4448\n",
      "4449\n",
      "4450\n",
      "4451\n",
      "4452\n",
      "4453\n",
      "4454\n",
      "4455\n",
      "4456\n",
      "4457\n",
      "4458\n",
      "4459\n",
      "4460\n",
      "4461\n",
      "4462\n",
      "4463\n",
      "4464\n",
      "4465\n",
      "4466\n",
      "4467\n",
      "4468\n",
      "4469\n",
      "4470\n",
      "4471\n",
      "4472\n",
      "4473\n",
      "4474\n",
      "4475\n",
      "4476\n",
      "4477\n",
      "4478\n",
      "4479\n",
      "4480\n",
      "4481\n",
      "4482\n",
      "4483\n",
      "4484\n",
      "4485\n",
      "4486\n",
      "4487\n",
      "4488\n",
      "4489\n",
      "4490\n",
      "4491\n",
      "4492\n",
      "4493\n",
      "4494\n",
      "4495\n",
      "4496\n",
      "4497\n",
      "4498\n",
      "4499\n",
      "4500\n",
      "4501\n",
      "4502\n",
      "4503\n",
      "4504\n",
      "4505\n",
      "4506\n",
      "4507\n",
      "4508\n",
      "4509\n",
      "4510\n",
      "4511\n",
      "4512\n",
      "4513\n",
      "4514\n",
      "4515\n",
      "4516\n",
      "4517\n",
      "4518\n",
      "4519\n",
      "4520\n",
      "4521\n",
      "4522\n",
      "4523\n",
      "4524\n",
      "4525\n",
      "4526\n",
      "4527\n",
      "4528\n",
      "4529\n",
      "4530\n",
      "4531\n",
      "4532\n",
      "4533\n",
      "4534\n",
      "4535\n",
      "4536\n",
      "4537\n",
      "4538\n",
      "4539\n",
      "4540\n",
      "4541\n",
      "4542\n",
      "4543\n",
      "4544\n",
      "4545\n",
      "4546\n",
      "4547\n",
      "4548\n",
      "4549\n",
      "4550\n",
      "4551\n",
      "4552\n",
      "4553\n",
      "4554\n",
      "4555\n",
      "4556\n",
      "4557\n",
      "4558\n",
      "4559\n",
      "4560\n",
      "4561\n",
      "4562\n",
      "4563\n",
      "4564\n",
      "4565\n",
      "4566\n",
      "4567\n",
      "4568\n",
      "4569\n",
      "4570\n",
      "4571\n",
      "4572\n",
      "4573\n",
      "4574\n",
      "4575\n",
      "4576\n",
      "4577\n",
      "4578\n",
      "4579\n",
      "4580\n",
      "4581\n",
      "4582\n",
      "4583\n",
      "4584\n",
      "4585\n",
      "4586\n",
      "4587\n",
      "4588\n",
      "4589\n",
      "4590\n",
      "4591\n",
      "4592\n",
      "4593\n",
      "4594\n",
      "4595\n",
      "4596\n",
      "4597\n",
      "4598\n",
      "4599\n",
      "4600\n",
      "4601\n",
      "4602\n",
      "4603\n",
      "4604\n",
      "4605\n",
      "4606\n",
      "4607\n",
      "4608\n",
      "4609\n",
      "4610\n",
      "4611\n",
      "4612\n",
      "4613\n",
      "4614\n",
      "4615\n",
      "4616\n",
      "4617\n",
      "4618\n",
      "4619\n",
      "4620\n",
      "4621\n",
      "4622\n",
      "4623\n",
      "4624\n",
      "4625\n",
      "4626\n",
      "4627\n",
      "4628\n",
      "4629\n",
      "4630\n",
      "4631\n",
      "4632\n",
      "4633\n",
      "4634\n",
      "4635\n",
      "4636\n",
      "4637\n",
      "4638\n",
      "4639\n",
      "4640\n",
      "4641\n",
      "4642\n",
      "4643\n",
      "4644\n",
      "4645\n",
      "4646\n",
      "4647\n",
      "4648\n",
      "4649\n",
      "4650\n",
      "4651\n",
      "4652\n",
      "4653\n",
      "4654\n",
      "4655\n",
      "4656\n",
      "4657\n",
      "4658\n",
      "4659\n",
      "4660\n",
      "4661\n",
      "4662\n",
      "4663\n",
      "4664\n",
      "4665\n",
      "4666\n",
      "4667\n",
      "4668\n",
      "4669\n",
      "4670\n",
      "4671\n",
      "4672\n",
      "4673\n",
      "4674\n",
      "4675\n",
      "4676\n",
      "4677\n",
      "4678\n",
      "4679\n",
      "4680\n",
      "4681\n",
      "4682\n",
      "4683\n",
      "4684\n",
      "4685\n",
      "4686\n",
      "4687\n",
      "4688\n",
      "4689\n",
      "4690\n",
      "4691\n",
      "4692\n",
      "4693\n",
      "4694\n",
      "4695\n",
      "4696\n",
      "4697\n",
      "4698\n",
      "4699\n",
      "4700\n",
      "4701\n",
      "4702\n",
      "4703\n",
      "4704\n",
      "4705\n",
      "4706\n",
      "4707\n",
      "4708\n",
      "4709\n",
      "4710\n",
      "4711\n",
      "4712\n",
      "4713\n",
      "4714\n",
      "4715\n",
      "4716\n",
      "4717\n",
      "4718\n",
      "4719\n",
      "4720\n",
      "4721\n",
      "4722\n",
      "4723\n",
      "4724\n",
      "4725\n",
      "4726\n",
      "4727\n",
      "4728\n",
      "4729\n",
      "4730\n",
      "4731\n",
      "4732\n",
      "4733\n",
      "4734\n",
      "4735\n",
      "4736\n",
      "4737\n",
      "4738\n",
      "4739\n",
      "4740\n",
      "4741\n",
      "4742\n",
      "4743\n",
      "4744\n",
      "4745\n",
      "4746\n",
      "4747\n",
      "4748\n",
      "4749\n",
      "4750\n",
      "4751\n",
      "4752\n",
      "4753\n",
      "4754\n",
      "4755\n",
      "4756\n",
      "4757\n",
      "4758\n",
      "4759\n",
      "4760\n",
      "4761\n",
      "4762\n",
      "4763\n",
      "4764\n",
      "4765\n",
      "4766\n",
      "4767\n",
      "4768\n",
      "4769\n",
      "4770\n",
      "4771\n",
      "4772\n",
      "4773\n",
      "4774\n",
      "4775\n",
      "4776\n",
      "4777\n",
      "4778\n",
      "4779\n",
      "4780\n",
      "4781\n",
      "4782\n",
      "4783\n",
      "4784\n",
      "4785\n",
      "4786\n",
      "4787\n",
      "4788\n",
      "4789\n",
      "4790\n",
      "4791\n",
      "4792\n",
      "4793\n",
      "4794\n",
      "4795\n",
      "4796\n",
      "4797\n",
      "4798\n",
      "4799\n",
      "4800\n",
      "4801\n",
      "4802\n",
      "4803\n",
      "4804\n",
      "4805\n",
      "4806\n",
      "4807\n",
      "4808\n",
      "4809\n",
      "4810\n",
      "4811\n",
      "4812\n",
      "4813\n",
      "4814\n",
      "4815\n",
      "4816\n",
      "4817\n",
      "4818\n",
      "4819\n",
      "4820\n",
      "4821\n",
      "4822\n",
      "4823\n",
      "4824\n",
      "4825\n",
      "4826\n",
      "4827\n",
      "4828\n",
      "4829\n",
      "4830\n",
      "4831\n",
      "4832\n",
      "4833\n",
      "4834\n",
      "4835\n",
      "4836\n",
      "4837\n",
      "4838\n",
      "4839\n",
      "4840\n",
      "4841\n",
      "4842\n",
      "4843\n",
      "4844\n",
      "4845\n",
      "4846\n",
      "4847\n",
      "4848\n",
      "4849\n",
      "4850\n",
      "4851\n",
      "4852\n",
      "4853\n",
      "4854\n",
      "4855\n",
      "4856\n",
      "4857\n",
      "4858\n",
      "4859\n",
      "4860\n",
      "4861\n",
      "4862\n",
      "4863\n",
      "4864\n",
      "4865\n",
      "4866\n",
      "4867\n",
      "4868\n",
      "4869\n",
      "4870\n",
      "4871\n",
      "4872\n",
      "4873\n",
      "4874\n",
      "4875\n",
      "4876\n",
      "4877\n",
      "4878\n",
      "4879\n",
      "4880\n",
      "4881\n",
      "4882\n",
      "4883\n",
      "4884\n",
      "4885\n",
      "4886\n",
      "4887\n",
      "4888\n",
      "4889\n",
      "4890\n",
      "4891\n",
      "4892\n",
      "4893\n",
      "4894\n",
      "4895\n",
      "4896\n",
      "4897\n",
      "4898\n",
      "4899\n",
      "4900\n",
      "4901\n",
      "4902\n",
      "4903\n",
      "4904\n",
      "4905\n",
      "4906\n"
     ]
    },
    {
     "output_type": "error",
     "ename": "JSONDecodeError",
     "evalue": "Extra data: line 1 column 5 (char 4)",
     "traceback": [
      "\u001b[1;31m---------------------------------------------------------------------------\u001b[0m",
      "\u001b[1;31mJSONDecodeError\u001b[0m                           Traceback (most recent call last)",
      "\u001b[1;32m<ipython-input-16-116aeab22e8e>\u001b[0m in \u001b[0;36m<module>\u001b[1;34m\u001b[0m\n\u001b[0;32m     10\u001b[0m     \u001b[0mcount\u001b[0m\u001b[1;33m+=\u001b[0m\u001b[1;36m1\u001b[0m\u001b[1;33m\u001b[0m\u001b[1;33m\u001b[0m\u001b[0m\n\u001b[0;32m     11\u001b[0m     \u001b[0mprint\u001b[0m\u001b[1;33m(\u001b[0m\u001b[0mcount\u001b[0m\u001b[1;33m)\u001b[0m\u001b[1;33m\u001b[0m\u001b[1;33m\u001b[0m\u001b[0m\n\u001b[1;32m---> 12\u001b[1;33m     \u001b[0mraw\u001b[0m \u001b[1;33m=\u001b[0m \u001b[0mr\u001b[0m\u001b[1;33m.\u001b[0m\u001b[0mjson\u001b[0m\u001b[1;33m(\u001b[0m\u001b[1;33m)\u001b[0m\u001b[1;33m\u001b[0m\u001b[1;33m\u001b[0m\u001b[0m\n\u001b[0m\u001b[0;32m     13\u001b[0m     \u001b[1;32mfor\u001b[0m \u001b[0mi\u001b[0m \u001b[1;32min\u001b[0m \u001b[0mraw\u001b[0m\u001b[1;33m[\u001b[0m\u001b[1;34m\"quiz_submission_events\"\u001b[0m\u001b[1;33m]\u001b[0m\u001b[1;33m:\u001b[0m\u001b[1;33m\u001b[0m\u001b[1;33m\u001b[0m\u001b[0m\n\u001b[0;32m     14\u001b[0m         \u001b[1;32mif\u001b[0m \u001b[1;34m\"event_data\"\u001b[0m \u001b[1;32min\u001b[0m \u001b[0mi\u001b[0m\u001b[1;33m.\u001b[0m\u001b[0mkeys\u001b[0m\u001b[1;33m(\u001b[0m\u001b[1;33m)\u001b[0m\u001b[1;33m:\u001b[0m\u001b[1;33m\u001b[0m\u001b[1;33m\u001b[0m\u001b[0m\n",
      "\u001b[1;32m~\\AppData\\Local\\Programs\\Python\\Python38\\lib\\site-packages\\requests\\models.py\u001b[0m in \u001b[0;36mjson\u001b[1;34m(self, **kwargs)\u001b[0m\n\u001b[0;32m    898\u001b[0m                     \u001b[1;31m# used.\u001b[0m\u001b[1;33m\u001b[0m\u001b[1;33m\u001b[0m\u001b[1;33m\u001b[0m\u001b[0m\n\u001b[0;32m    899\u001b[0m                     \u001b[1;32mpass\u001b[0m\u001b[1;33m\u001b[0m\u001b[1;33m\u001b[0m\u001b[0m\n\u001b[1;32m--> 900\u001b[1;33m         \u001b[1;32mreturn\u001b[0m \u001b[0mcomplexjson\u001b[0m\u001b[1;33m.\u001b[0m\u001b[0mloads\u001b[0m\u001b[1;33m(\u001b[0m\u001b[0mself\u001b[0m\u001b[1;33m.\u001b[0m\u001b[0mtext\u001b[0m\u001b[1;33m,\u001b[0m \u001b[1;33m**\u001b[0m\u001b[0mkwargs\u001b[0m\u001b[1;33m)\u001b[0m\u001b[1;33m\u001b[0m\u001b[1;33m\u001b[0m\u001b[0m\n\u001b[0m\u001b[0;32m    901\u001b[0m \u001b[1;33m\u001b[0m\u001b[0m\n\u001b[0;32m    902\u001b[0m     \u001b[1;33m@\u001b[0m\u001b[0mproperty\u001b[0m\u001b[1;33m\u001b[0m\u001b[1;33m\u001b[0m\u001b[0m\n",
      "\u001b[1;32m~\\AppData\\Local\\Programs\\Python\\Python38\\lib\\json\\__init__.py\u001b[0m in \u001b[0;36mloads\u001b[1;34m(s, cls, object_hook, parse_float, parse_int, parse_constant, object_pairs_hook, **kw)\u001b[0m\n\u001b[0;32m    355\u001b[0m             \u001b[0mparse_int\u001b[0m \u001b[1;32mis\u001b[0m \u001b[1;32mNone\u001b[0m \u001b[1;32mand\u001b[0m \u001b[0mparse_float\u001b[0m \u001b[1;32mis\u001b[0m \u001b[1;32mNone\u001b[0m \u001b[1;32mand\u001b[0m\u001b[1;33m\u001b[0m\u001b[1;33m\u001b[0m\u001b[0m\n\u001b[0;32m    356\u001b[0m             parse_constant is None and object_pairs_hook is None and not kw):\n\u001b[1;32m--> 357\u001b[1;33m         \u001b[1;32mreturn\u001b[0m \u001b[0m_default_decoder\u001b[0m\u001b[1;33m.\u001b[0m\u001b[0mdecode\u001b[0m\u001b[1;33m(\u001b[0m\u001b[0ms\u001b[0m\u001b[1;33m)\u001b[0m\u001b[1;33m\u001b[0m\u001b[1;33m\u001b[0m\u001b[0m\n\u001b[0m\u001b[0;32m    358\u001b[0m     \u001b[1;32mif\u001b[0m \u001b[0mcls\u001b[0m \u001b[1;32mis\u001b[0m \u001b[1;32mNone\u001b[0m\u001b[1;33m:\u001b[0m\u001b[1;33m\u001b[0m\u001b[1;33m\u001b[0m\u001b[0m\n\u001b[0;32m    359\u001b[0m         \u001b[0mcls\u001b[0m \u001b[1;33m=\u001b[0m \u001b[0mJSONDecoder\u001b[0m\u001b[1;33m\u001b[0m\u001b[1;33m\u001b[0m\u001b[0m\n",
      "\u001b[1;32m~\\AppData\\Local\\Programs\\Python\\Python38\\lib\\json\\decoder.py\u001b[0m in \u001b[0;36mdecode\u001b[1;34m(self, s, _w)\u001b[0m\n\u001b[0;32m    338\u001b[0m         \u001b[0mend\u001b[0m \u001b[1;33m=\u001b[0m \u001b[0m_w\u001b[0m\u001b[1;33m(\u001b[0m\u001b[0ms\u001b[0m\u001b[1;33m,\u001b[0m \u001b[0mend\u001b[0m\u001b[1;33m)\u001b[0m\u001b[1;33m.\u001b[0m\u001b[0mend\u001b[0m\u001b[1;33m(\u001b[0m\u001b[1;33m)\u001b[0m\u001b[1;33m\u001b[0m\u001b[1;33m\u001b[0m\u001b[0m\n\u001b[0;32m    339\u001b[0m         \u001b[1;32mif\u001b[0m \u001b[0mend\u001b[0m \u001b[1;33m!=\u001b[0m \u001b[0mlen\u001b[0m\u001b[1;33m(\u001b[0m\u001b[0ms\u001b[0m\u001b[1;33m)\u001b[0m\u001b[1;33m:\u001b[0m\u001b[1;33m\u001b[0m\u001b[1;33m\u001b[0m\u001b[0m\n\u001b[1;32m--> 340\u001b[1;33m             \u001b[1;32mraise\u001b[0m \u001b[0mJSONDecodeError\u001b[0m\u001b[1;33m(\u001b[0m\u001b[1;34m\"Extra data\"\u001b[0m\u001b[1;33m,\u001b[0m \u001b[0ms\u001b[0m\u001b[1;33m,\u001b[0m \u001b[0mend\u001b[0m\u001b[1;33m)\u001b[0m\u001b[1;33m\u001b[0m\u001b[1;33m\u001b[0m\u001b[0m\n\u001b[0m\u001b[0;32m    341\u001b[0m         \u001b[1;32mreturn\u001b[0m \u001b[0mobj\u001b[0m\u001b[1;33m\u001b[0m\u001b[1;33m\u001b[0m\u001b[0m\n\u001b[0;32m    342\u001b[0m \u001b[1;33m\u001b[0m\u001b[0m\n",
      "\u001b[1;31mJSONDecodeError\u001b[0m: Extra data: line 1 column 5 (char 4)"
     ]
    }
   ],
   "source": [
    "\n",
    "result_data = []\n",
    "count = 0\n",
    "for row in subs_df[[\"id\",\"user_id\",\"quiz_id\",\"started_at\",\"course_id\"]].iterrows():\n",
    "    sub_id = row[1][0]\n",
    "    user_id = row[1][1]\n",
    "    quiz_id = row[1][2]\n",
    "    started_at = row[1][3]\n",
    "    course_id = row[1][4]\n",
    "    r = requests.get(f\"https://lambdaschool.instructure.com/api/v1/courses/{course_id}/quizzes/{quiz_id}/submissions/{sub_id}/events\", headers=headers)\n",
    "    count+=1\n",
    "    print(count)\n",
    "    raw = r.json()\n",
    "    for i in raw[\"quiz_submission_events\"]:\n",
    "        if \"event_data\" in i.keys():\n",
    "            if i[\"event_type\"] == \"question_answered\":\n",
    "                for t in i[\"event_data\"]:\n",
    "                    if t[\"answer\"] != None and isinstance(t[\"answer\"], float):\n",
    "                        if t[\"answer\"] != None and 0 < t[\"answer\"] < 4:\n",
    "                            result_data.append([user_id, t[\"answer\"], started_at]) "
   ]
  },
  {
   "cell_type": "code",
   "execution_count": null,
   "metadata": {},
   "outputs": [],
   "source": [
    "result_data[0]"
   ]
  },
  {
   "cell_type": "code",
   "execution_count": 12,
   "metadata": {},
   "outputs": [],
   "source": [
    "result_df = pd.DataFrame(result_data, columns=[\"user_id\", \"score\", \"started_at\"])\n",
    "result_df = result_df.sort_values(\"started_at\")"
   ]
  },
  {
   "cell_type": "code",
   "execution_count": 23,
   "metadata": {},
   "outputs": [
    {
     "output_type": "display_data",
     "data": {
      "application/vnd.plotly.v1+json": {
       "config": {
        "plotlyServerURL": "https://plot.ly"
       },
       "data": [
        {
         "hovertemplate": "user_id=3164<br>started_at=%{x}<br>score=%{y}<extra></extra>",
         "legendgroup": "3164",
         "line": {
          "color": "#636efa",
          "dash": "solid"
         },
         "mode": "markers+lines",
         "name": "3164",
         "orientation": "v",
         "showlegend": true,
         "type": "scatter",
         "x": [
          "2020-10-26T15:06:58+00:00",
          "2020-10-27T16:02:34+00:00",
          "2020-10-29T15:30:23+00:00"
         ],
         "xaxis": "x",
         "y": [
          2,
          2,
          2
         ],
         "yaxis": "y"
        },
        {
         "hovertemplate": "user_id=616<br>started_at=%{x}<br>score=%{y}<extra></extra>",
         "legendgroup": "616",
         "line": {
          "color": "#EF553B",
          "dash": "solid"
         },
         "mode": "markers+lines",
         "name": "616",
         "orientation": "v",
         "showlegend": true,
         "type": "scatter",
         "x": [
          "2020-10-26T15:32:09+00:00",
          "2020-10-27T23:18:36+00:00",
          "2020-10-28T22:35:08+00:00"
         ],
         "xaxis": "x",
         "y": [
          2,
          2,
          2
         ],
         "yaxis": "y"
        },
        {
         "hovertemplate": "user_id=1204<br>started_at=%{x}<br>score=%{y}<extra></extra>",
         "legendgroup": "1204",
         "line": {
          "color": "#00cc96",
          "dash": "solid"
         },
         "mode": "markers+lines",
         "name": "1204",
         "orientation": "v",
         "showlegend": true,
         "type": "scatter",
         "x": [
          "2020-10-26T16:09:47+00:00",
          "2020-10-27T08:12:18+00:00",
          "2020-10-29T06:41:33+00:00"
         ],
         "xaxis": "x",
         "y": [
          3,
          3,
          3
         ],
         "yaxis": "y"
        },
        {
         "hovertemplate": "user_id=1162<br>started_at=%{x}<br>score=%{y}<extra></extra>",
         "legendgroup": "1162",
         "line": {
          "color": "#ab63fa",
          "dash": "solid"
         },
         "mode": "markers+lines",
         "name": "1162",
         "orientation": "v",
         "showlegend": true,
         "type": "scatter",
         "x": [
          "2020-10-26T16:34:49+00:00",
          "2020-10-27T21:40:40+00:00",
          "2020-10-28T23:06:11+00:00"
         ],
         "xaxis": "x",
         "y": [
          3,
          3,
          3
         ],
         "yaxis": "y"
        },
        {
         "hovertemplate": "user_id=3142<br>started_at=%{x}<br>score=%{y}<extra></extra>",
         "legendgroup": "3142",
         "line": {
          "color": "#FFA15A",
          "dash": "solid"
         },
         "mode": "markers+lines",
         "name": "3142",
         "orientation": "v",
         "showlegend": true,
         "type": "scatter",
         "x": [
          "2020-10-26T18:18:56+00:00"
         ],
         "xaxis": "x",
         "y": [
          2
         ],
         "yaxis": "y"
        },
        {
         "hovertemplate": "user_id=823<br>started_at=%{x}<br>score=%{y}<extra></extra>",
         "legendgroup": "823",
         "line": {
          "color": "#19d3f3",
          "dash": "solid"
         },
         "mode": "markers+lines",
         "name": "823",
         "orientation": "v",
         "showlegend": true,
         "type": "scatter",
         "x": [
          "2020-10-26T18:31:38+00:00",
          "2020-10-27T20:49:08+00:00",
          "2020-10-28T22:44:32+00:00"
         ],
         "xaxis": "x",
         "y": [
          2,
          2,
          2
         ],
         "yaxis": "y"
        },
        {
         "hovertemplate": "user_id=2355<br>started_at=%{x}<br>score=%{y}<extra></extra>",
         "legendgroup": "2355",
         "line": {
          "color": "#FF6692",
          "dash": "solid"
         },
         "mode": "markers+lines",
         "name": "2355",
         "orientation": "v",
         "showlegend": true,
         "type": "scatter",
         "x": [
          "2020-10-26T19:31:38+00:00",
          "2020-10-27T19:18:29+00:00",
          "2020-10-28T22:36:34+00:00"
         ],
         "xaxis": "x",
         "y": [
          2,
          3,
          2
         ],
         "yaxis": "y"
        },
        {
         "hovertemplate": "user_id=2464<br>started_at=%{x}<br>score=%{y}<extra></extra>",
         "legendgroup": "2464",
         "line": {
          "color": "#B6E880",
          "dash": "solid"
         },
         "mode": "markers+lines",
         "name": "2464",
         "orientation": "v",
         "showlegend": true,
         "type": "scatter",
         "x": [
          "2020-10-26T19:40:22+00:00",
          "2020-10-27T14:17:51+00:00",
          "2020-10-28T14:33:36+00:00"
         ],
         "xaxis": "x",
         "y": [
          3,
          3,
          3
         ],
         "yaxis": "y"
        },
        {
         "hovertemplate": "user_id=1138<br>started_at=%{x}<br>score=%{y}<extra></extra>",
         "legendgroup": "1138",
         "line": {
          "color": "#FF97FF",
          "dash": "solid"
         },
         "mode": "markers+lines",
         "name": "1138",
         "orientation": "v",
         "showlegend": true,
         "type": "scatter",
         "x": [
          "2020-10-26T20:02:43+00:00",
          "2020-10-28T00:38:53+00:00",
          "2020-10-29T01:45:42+00:00"
         ],
         "xaxis": "x",
         "y": [
          3,
          3,
          3
         ],
         "yaxis": "y"
        },
        {
         "hovertemplate": "user_id=564<br>started_at=%{x}<br>score=%{y}<extra></extra>",
         "legendgroup": "564",
         "line": {
          "color": "#FECB52",
          "dash": "solid"
         },
         "mode": "markers+lines",
         "name": "564",
         "orientation": "v",
         "showlegend": true,
         "type": "scatter",
         "x": [
          "2020-10-26T20:10:59+00:00"
         ],
         "xaxis": "x",
         "y": [
          2
         ],
         "yaxis": "y"
        },
        {
         "hovertemplate": "user_id=2459<br>started_at=%{x}<br>score=%{y}<extra></extra>",
         "legendgroup": "2459",
         "line": {
          "color": "#636efa",
          "dash": "solid"
         },
         "mode": "markers+lines",
         "name": "2459",
         "orientation": "v",
         "showlegend": true,
         "type": "scatter",
         "x": [
          "2020-10-26T20:14:50+00:00",
          "2020-10-27T23:43:28+00:00",
          "2020-10-27T23:43:50+00:00"
         ],
         "xaxis": "x",
         "y": [
          2,
          2,
          2
         ],
         "yaxis": "y"
        },
        {
         "hovertemplate": "user_id=1113<br>started_at=%{x}<br>score=%{y}<extra></extra>",
         "legendgroup": "1113",
         "line": {
          "color": "#EF553B",
          "dash": "solid"
         },
         "mode": "markers+lines",
         "name": "1113",
         "orientation": "v",
         "showlegend": true,
         "type": "scatter",
         "x": [
          "2020-10-26T20:16:16+00:00",
          "2020-10-27T21:00:44+00:00",
          "2020-10-28T22:55:49+00:00"
         ],
         "xaxis": "x",
         "y": [
          2,
          2,
          3
         ],
         "yaxis": "y"
        },
        {
         "hovertemplate": "user_id=2425<br>started_at=%{x}<br>score=%{y}<extra></extra>",
         "legendgroup": "2425",
         "line": {
          "color": "#00cc96",
          "dash": "solid"
         },
         "mode": "markers+lines",
         "name": "2425",
         "orientation": "v",
         "showlegend": true,
         "type": "scatter",
         "x": [
          "2020-10-26T20:22:31+00:00",
          "2020-10-28T19:35:33+00:00"
         ],
         "xaxis": "x",
         "y": [
          2,
          2
         ],
         "yaxis": "y"
        },
        {
         "hovertemplate": "user_id=3373<br>started_at=%{x}<br>score=%{y}<extra></extra>",
         "legendgroup": "3373",
         "line": {
          "color": "#ab63fa",
          "dash": "solid"
         },
         "mode": "markers+lines",
         "name": "3373",
         "orientation": "v",
         "showlegend": true,
         "type": "scatter",
         "x": [
          "2020-10-26T20:26:59+00:00",
          "2020-10-27T01:05:00+00:00"
         ],
         "xaxis": "x",
         "y": [
          2,
          3
         ],
         "yaxis": "y"
        },
        {
         "hovertemplate": "user_id=499<br>started_at=%{x}<br>score=%{y}<extra></extra>",
         "legendgroup": "499",
         "line": {
          "color": "#FFA15A",
          "dash": "solid"
         },
         "mode": "markers+lines",
         "name": "499",
         "orientation": "v",
         "showlegend": true,
         "type": "scatter",
         "x": [
          "2020-10-26T20:39:21+00:00",
          "2020-10-27T21:00:49+00:00",
          "2020-10-28T21:05:37+00:00"
         ],
         "xaxis": "x",
         "y": [
          2,
          3,
          3
         ],
         "yaxis": "y"
        },
        {
         "hovertemplate": "user_id=516<br>started_at=%{x}<br>score=%{y}<extra></extra>",
         "legendgroup": "516",
         "line": {
          "color": "#19d3f3",
          "dash": "solid"
         },
         "mode": "markers+lines",
         "name": "516",
         "orientation": "v",
         "showlegend": true,
         "type": "scatter",
         "x": [
          "2020-10-26T20:45:33+00:00",
          "2020-10-27T22:46:31+00:00",
          "2020-10-28T23:30:20+00:00"
         ],
         "xaxis": "x",
         "y": [
          2,
          2,
          3
         ],
         "yaxis": "y"
        },
        {
         "hovertemplate": "user_id=2451<br>started_at=%{x}<br>score=%{y}<extra></extra>",
         "legendgroup": "2451",
         "line": {
          "color": "#FF6692",
          "dash": "solid"
         },
         "mode": "markers+lines",
         "name": "2451",
         "orientation": "v",
         "showlegend": true,
         "type": "scatter",
         "x": [
          "2020-10-26T20:46:45+00:00",
          "2020-10-28T21:02:06+00:00",
          "2020-10-30T20:30:02+00:00"
         ],
         "xaxis": "x",
         "y": [
          3,
          3,
          3
         ],
         "yaxis": "y"
        },
        {
         "hovertemplate": "user_id=1282<br>started_at=%{x}<br>score=%{y}<extra></extra>",
         "legendgroup": "1282",
         "line": {
          "color": "#B6E880",
          "dash": "solid"
         },
         "mode": "markers+lines",
         "name": "1282",
         "orientation": "v",
         "showlegend": true,
         "type": "scatter",
         "x": [
          "2020-10-26T20:49:39+00:00",
          "2020-10-27T23:52:15+00:00",
          "2020-10-29T03:42:19+00:00"
         ],
         "xaxis": "x",
         "y": [
          3,
          3,
          1
         ],
         "yaxis": "y"
        },
        {
         "hovertemplate": "user_id=548<br>started_at=%{x}<br>score=%{y}<extra></extra>",
         "legendgroup": "548",
         "line": {
          "color": "#FF97FF",
          "dash": "solid"
         },
         "mode": "markers+lines",
         "name": "548",
         "orientation": "v",
         "showlegend": true,
         "type": "scatter",
         "x": [
          "2020-10-26T21:01:30+00:00",
          "2020-10-27T23:02:12+00:00",
          "2020-10-28T23:44:09+00:00"
         ],
         "xaxis": "x",
         "y": [
          2,
          3,
          3
         ],
         "yaxis": "y"
        },
        {
         "hovertemplate": "user_id=496<br>started_at=%{x}<br>score=%{y}<extra></extra>",
         "legendgroup": "496",
         "line": {
          "color": "#FECB52",
          "dash": "solid"
         },
         "mode": "markers+lines",
         "name": "496",
         "orientation": "v",
         "showlegend": true,
         "type": "scatter",
         "x": [
          "2020-10-26T21:02:14+00:00",
          "2020-10-27T22:28:09+00:00",
          "2020-10-28T23:28:11+00:00"
         ],
         "xaxis": "x",
         "y": [
          3,
          3,
          3
         ],
         "yaxis": "y"
        },
        {
         "hovertemplate": "user_id=560<br>started_at=%{x}<br>score=%{y}<extra></extra>",
         "legendgroup": "560",
         "line": {
          "color": "#636efa",
          "dash": "solid"
         },
         "mode": "markers+lines",
         "name": "560",
         "orientation": "v",
         "showlegend": true,
         "type": "scatter",
         "x": [
          "2020-10-26T21:02:31+00:00",
          "2020-10-27T20:26:36+00:00"
         ],
         "xaxis": "x",
         "y": [
          2,
          1
         ],
         "yaxis": "y"
        },
        {
         "hovertemplate": "user_id=614<br>started_at=%{x}<br>score=%{y}<extra></extra>",
         "legendgroup": "614",
         "line": {
          "color": "#EF553B",
          "dash": "solid"
         },
         "mode": "markers+lines",
         "name": "614",
         "orientation": "v",
         "showlegend": true,
         "type": "scatter",
         "x": [
          "2020-10-26T21:16:34+00:00",
          "2020-10-28T23:00:23+00:00",
          "2020-10-30T23:38:37+00:00"
         ],
         "xaxis": "x",
         "y": [
          2,
          2,
          2
         ],
         "yaxis": "y"
        },
        {
         "hovertemplate": "user_id=513<br>started_at=%{x}<br>score=%{y}<extra></extra>",
         "legendgroup": "513",
         "line": {
          "color": "#00cc96",
          "dash": "solid"
         },
         "mode": "markers+lines",
         "name": "513",
         "orientation": "v",
         "showlegend": true,
         "type": "scatter",
         "x": [
          "2020-10-26T21:18:53+00:00"
         ],
         "xaxis": "x",
         "y": [
          3
         ],
         "yaxis": "y"
        },
        {
         "hovertemplate": "user_id=498<br>started_at=%{x}<br>score=%{y}<extra></extra>",
         "legendgroup": "498",
         "line": {
          "color": "#ab63fa",
          "dash": "solid"
         },
         "mode": "markers+lines",
         "name": "498",
         "orientation": "v",
         "showlegend": true,
         "type": "scatter",
         "x": [
          "2020-10-26T21:20:45+00:00",
          "2020-10-26T21:20:45+00:00",
          "2020-10-29T15:02:14+00:00",
          "2020-10-29T15:06:54+00:00"
         ],
         "xaxis": "x",
         "y": [
          2,
          3,
          2,
          2
         ],
         "yaxis": "y"
        },
        {
         "hovertemplate": "user_id=508<br>started_at=%{x}<br>score=%{y}<extra></extra>",
         "legendgroup": "508",
         "line": {
          "color": "#FFA15A",
          "dash": "solid"
         },
         "mode": "markers+lines",
         "name": "508",
         "orientation": "v",
         "showlegend": true,
         "type": "scatter",
         "x": [
          "2020-10-26T21:23:47+00:00",
          "2020-10-27T21:06:57+00:00",
          "2020-10-28T22:59:55+00:00"
         ],
         "xaxis": "x",
         "y": [
          2,
          2,
          1
         ],
         "yaxis": "y"
        },
        {
         "hovertemplate": "user_id=2447<br>started_at=%{x}<br>score=%{y}<extra></extra>",
         "legendgroup": "2447",
         "line": {
          "color": "#19d3f3",
          "dash": "solid"
         },
         "mode": "markers+lines",
         "name": "2447",
         "orientation": "v",
         "showlegend": true,
         "type": "scatter",
         "x": [
          "2020-10-26T21:26:40+00:00",
          "2020-10-27T21:27:48+00:00",
          "2020-10-28T22:40:11+00:00"
         ],
         "xaxis": "x",
         "y": [
          2,
          2,
          2
         ],
         "yaxis": "y"
        },
        {
         "hovertemplate": "user_id=505<br>started_at=%{x}<br>score=%{y}<extra></extra>",
         "legendgroup": "505",
         "line": {
          "color": "#FF6692",
          "dash": "solid"
         },
         "mode": "markers+lines",
         "name": "505",
         "orientation": "v",
         "showlegend": true,
         "type": "scatter",
         "x": [
          "2020-10-26T21:27:25+00:00",
          "2020-10-30T15:56:52+00:00",
          "2020-10-30T15:57:30+00:00"
         ],
         "xaxis": "x",
         "y": [
          2,
          2,
          2
         ],
         "yaxis": "y"
        },
        {
         "hovertemplate": "user_id=2405<br>started_at=%{x}<br>score=%{y}<extra></extra>",
         "legendgroup": "2405",
         "line": {
          "color": "#B6E880",
          "dash": "solid"
         },
         "mode": "markers+lines",
         "name": "2405",
         "orientation": "v",
         "showlegend": true,
         "type": "scatter",
         "x": [
          "2020-10-26T21:32:44+00:00",
          "2020-10-28T04:32:16+00:00",
          "2020-10-29T05:23:38+00:00"
         ],
         "xaxis": "x",
         "y": [
          2,
          2,
          2
         ],
         "yaxis": "y"
        },
        {
         "hovertemplate": "user_id=530<br>started_at=%{x}<br>score=%{y}<extra></extra>",
         "legendgroup": "530",
         "line": {
          "color": "#FF97FF",
          "dash": "solid"
         },
         "mode": "markers+lines",
         "name": "530",
         "orientation": "v",
         "showlegend": true,
         "type": "scatter",
         "x": [
          "2020-10-26T21:36:45+00:00",
          "2020-10-26T21:38:23+00:00",
          "2020-10-28T23:01:13+00:00"
         ],
         "xaxis": "x",
         "y": [
          3,
          3,
          3
         ],
         "yaxis": "y"
        },
        {
         "hovertemplate": "user_id=816<br>started_at=%{x}<br>score=%{y}<extra></extra>",
         "legendgroup": "816",
         "line": {
          "color": "#FECB52",
          "dash": "solid"
         },
         "mode": "markers+lines",
         "name": "816",
         "orientation": "v",
         "showlegend": true,
         "type": "scatter",
         "x": [
          "2020-10-26T21:37:42+00:00",
          "2020-10-27T21:02:33+00:00",
          "2020-10-28T21:51:13+00:00"
         ],
         "xaxis": "x",
         "y": [
          2,
          2,
          2
         ],
         "yaxis": "y"
        },
        {
         "hovertemplate": "user_id=3154<br>started_at=%{x}<br>score=%{y}<extra></extra>",
         "legendgroup": "3154",
         "line": {
          "color": "#636efa",
          "dash": "solid"
         },
         "mode": "markers+lines",
         "name": "3154",
         "orientation": "v",
         "showlegend": true,
         "type": "scatter",
         "x": [
          "2020-10-26T21:43:12+00:00",
          "2020-10-27T00:59:52+00:00",
          "2020-10-29T04:43:05+00:00"
         ],
         "xaxis": "x",
         "y": [
          3,
          1,
          2
         ],
         "yaxis": "y"
        },
        {
         "hovertemplate": "user_id=605<br>started_at=%{x}<br>score=%{y}<extra></extra>",
         "legendgroup": "605",
         "line": {
          "color": "#EF553B",
          "dash": "solid"
         },
         "mode": "markers+lines",
         "name": "605",
         "orientation": "v",
         "showlegend": true,
         "type": "scatter",
         "x": [
          "2020-10-26T21:47:43+00:00",
          "2020-10-27T22:47:27+00:00",
          "2020-10-29T21:46:10+00:00"
         ],
         "xaxis": "x",
         "y": [
          2,
          2,
          1
         ],
         "yaxis": "y"
        },
        {
         "hovertemplate": "user_id=493<br>started_at=%{x}<br>score=%{y}<extra></extra>",
         "legendgroup": "493",
         "line": {
          "color": "#00cc96",
          "dash": "solid"
         },
         "mode": "markers+lines",
         "name": "493",
         "orientation": "v",
         "showlegend": true,
         "type": "scatter",
         "x": [
          "2020-10-26T21:53:47+00:00",
          "2020-10-27T22:14:00+00:00",
          "2020-10-28T23:35:43+00:00"
         ],
         "xaxis": "x",
         "y": [
          2,
          3,
          3
         ],
         "yaxis": "y"
        },
        {
         "hovertemplate": "user_id=2418<br>started_at=%{x}<br>score=%{y}<extra></extra>",
         "legendgroup": "2418",
         "line": {
          "color": "#ab63fa",
          "dash": "solid"
         },
         "mode": "markers+lines",
         "name": "2418",
         "orientation": "v",
         "showlegend": true,
         "type": "scatter",
         "x": [
          "2020-10-26T21:56:33+00:00",
          "2020-10-27T21:32:40+00:00",
          "2020-10-29T00:51:35+00:00"
         ],
         "xaxis": "x",
         "y": [
          3,
          2,
          2
         ],
         "yaxis": "y"
        },
        {
         "hovertemplate": "user_id=2443<br>started_at=%{x}<br>score=%{y}<extra></extra>",
         "legendgroup": "2443",
         "line": {
          "color": "#FFA15A",
          "dash": "solid"
         },
         "mode": "markers+lines",
         "name": "2443",
         "orientation": "v",
         "showlegend": true,
         "type": "scatter",
         "x": [
          "2020-10-26T21:58:46+00:00",
          "2020-10-27T23:12:19+00:00",
          "2020-10-29T02:26:38+00:00"
         ],
         "xaxis": "x",
         "y": [
          2,
          2,
          2
         ],
         "yaxis": "y"
        },
        {
         "hovertemplate": "user_id=584<br>started_at=%{x}<br>score=%{y}<extra></extra>",
         "legendgroup": "584",
         "line": {
          "color": "#19d3f3",
          "dash": "solid"
         },
         "mode": "markers+lines",
         "name": "584",
         "orientation": "v",
         "showlegend": true,
         "type": "scatter",
         "x": [
          "2020-10-26T22:20:54+00:00",
          "2020-10-27T19:13:11+00:00",
          "2020-10-28T21:40:26+00:00"
         ],
         "xaxis": "x",
         "y": [
          2,
          2,
          2
         ],
         "yaxis": "y"
        },
        {
         "hovertemplate": "user_id=2361<br>started_at=%{x}<br>score=%{y}<extra></extra>",
         "legendgroup": "2361",
         "line": {
          "color": "#FF6692",
          "dash": "solid"
         },
         "mode": "markers+lines",
         "name": "2361",
         "orientation": "v",
         "showlegend": true,
         "type": "scatter",
         "x": [
          "2020-10-26T22:23:11+00:00",
          "2020-10-28T20:57:39+00:00",
          "2020-11-02T16:47:06+00:00"
         ],
         "xaxis": "x",
         "y": [
          3,
          3,
          3
         ],
         "yaxis": "y"
        },
        {
         "hovertemplate": "user_id=1139<br>started_at=%{x}<br>score=%{y}<extra></extra>",
         "legendgroup": "1139",
         "line": {
          "color": "#B6E880",
          "dash": "solid"
         },
         "mode": "markers+lines",
         "name": "1139",
         "orientation": "v",
         "showlegend": true,
         "type": "scatter",
         "x": [
          "2020-10-26T22:25:51+00:00",
          "2020-10-29T00:08:17+00:00"
         ],
         "xaxis": "x",
         "y": [
          2,
          1
         ],
         "yaxis": "y"
        },
        {
         "hovertemplate": "user_id=1216<br>started_at=%{x}<br>score=%{y}<extra></extra>",
         "legendgroup": "1216",
         "line": {
          "color": "#FF97FF",
          "dash": "solid"
         },
         "mode": "markers+lines",
         "name": "1216",
         "orientation": "v",
         "showlegend": true,
         "type": "scatter",
         "x": [
          "2020-10-26T22:26:21+00:00",
          "2020-10-28T03:21:16+00:00",
          "2020-10-28T21:15:11+00:00",
          "2020-10-28T21:15:11+00:00"
         ],
         "xaxis": "x",
         "y": [
          2,
          2,
          3,
          2
         ],
         "yaxis": "y"
        },
        {
         "hovertemplate": "user_id=2414<br>started_at=%{x}<br>score=%{y}<extra></extra>",
         "legendgroup": "2414",
         "line": {
          "color": "#FECB52",
          "dash": "solid"
         },
         "mode": "markers+lines",
         "name": "2414",
         "orientation": "v",
         "showlegend": true,
         "type": "scatter",
         "x": [
          "2020-10-26T22:26:49+00:00",
          "2020-10-27T22:01:02+00:00",
          "2020-10-28T19:29:40+00:00"
         ],
         "xaxis": "x",
         "y": [
          2,
          2,
          2
         ],
         "yaxis": "y"
        },
        {
         "hovertemplate": "user_id=1020<br>started_at=%{x}<br>score=%{y}<extra></extra>",
         "legendgroup": "1020",
         "line": {
          "color": "#636efa",
          "dash": "solid"
         },
         "mode": "markers+lines",
         "name": "1020",
         "orientation": "v",
         "showlegend": true,
         "type": "scatter",
         "x": [
          "2020-10-26T22:27:57+00:00",
          "2020-10-27T22:39:33+00:00",
          "2020-10-28T22:57:28+00:00"
         ],
         "xaxis": "x",
         "y": [
          3,
          2,
          3
         ],
         "yaxis": "y"
        },
        {
         "hovertemplate": "user_id=2448<br>started_at=%{x}<br>score=%{y}<extra></extra>",
         "legendgroup": "2448",
         "line": {
          "color": "#EF553B",
          "dash": "solid"
         },
         "mode": "markers+lines",
         "name": "2448",
         "orientation": "v",
         "showlegend": true,
         "type": "scatter",
         "x": [
          "2020-10-26T22:30:22+00:00",
          "2020-10-27T23:19:14+00:00",
          "2020-10-28T22:36:07+00:00"
         ],
         "xaxis": "x",
         "y": [
          3,
          2,
          3
         ],
         "yaxis": "y"
        },
        {
         "hovertemplate": "user_id=620<br>started_at=%{x}<br>score=%{y}<extra></extra>",
         "legendgroup": "620",
         "line": {
          "color": "#00cc96",
          "dash": "solid"
         },
         "mode": "markers+lines",
         "name": "620",
         "orientation": "v",
         "showlegend": true,
         "type": "scatter",
         "x": [
          "2020-10-26T22:34:05+00:00",
          "2020-11-03T18:01:10+00:00",
          "2020-11-03T18:03:17+00:00"
         ],
         "xaxis": "x",
         "y": [
          2,
          2,
          2
         ],
         "yaxis": "y"
        },
        {
         "hovertemplate": "user_id=450<br>started_at=%{x}<br>score=%{y}<extra></extra>",
         "legendgroup": "450",
         "line": {
          "color": "#ab63fa",
          "dash": "solid"
         },
         "mode": "markers+lines",
         "name": "450",
         "orientation": "v",
         "showlegend": true,
         "type": "scatter",
         "x": [
          "2020-10-26T22:36:24+00:00",
          "2020-10-27T22:53:23+00:00",
          "2020-10-28T21:40:24+00:00"
         ],
         "xaxis": "x",
         "y": [
          2,
          3,
          2
         ],
         "yaxis": "y"
        },
        {
         "hovertemplate": "user_id=1294<br>started_at=%{x}<br>score=%{y}<extra></extra>",
         "legendgroup": "1294",
         "line": {
          "color": "#FFA15A",
          "dash": "solid"
         },
         "mode": "markers+lines",
         "name": "1294",
         "orientation": "v",
         "showlegend": true,
         "type": "scatter",
         "x": [
          "2020-10-26T22:42:25+00:00",
          "2020-10-27T21:19:50+00:00",
          "2020-10-29T02:42:29+00:00"
         ],
         "xaxis": "x",
         "y": [
          2,
          2,
          2
         ],
         "yaxis": "y"
        },
        {
         "hovertemplate": "user_id=1280<br>started_at=%{x}<br>score=%{y}<extra></extra>",
         "legendgroup": "1280",
         "line": {
          "color": "#19d3f3",
          "dash": "solid"
         },
         "mode": "markers+lines",
         "name": "1280",
         "orientation": "v",
         "showlegend": true,
         "type": "scatter",
         "x": [
          "2020-10-26T22:43:18+00:00",
          "2020-10-27T23:26:19+00:00",
          "2020-10-28T23:48:09+00:00"
         ],
         "xaxis": "x",
         "y": [
          2,
          2,
          3
         ],
         "yaxis": "y"
        },
        {
         "hovertemplate": "user_id=633<br>started_at=%{x}<br>score=%{y}<extra></extra>",
         "legendgroup": "633",
         "line": {
          "color": "#FF6692",
          "dash": "solid"
         },
         "mode": "markers+lines",
         "name": "633",
         "orientation": "v",
         "showlegend": true,
         "type": "scatter",
         "x": [
          "2020-10-26T22:45:34+00:00",
          "2020-10-26T22:47:46+00:00",
          "2020-10-27T22:49:41+00:00"
         ],
         "xaxis": "x",
         "y": [
          2,
          3,
          3
         ],
         "yaxis": "y"
        },
        {
         "hovertemplate": "user_id=536<br>started_at=%{x}<br>score=%{y}<extra></extra>",
         "legendgroup": "536",
         "line": {
          "color": "#B6E880",
          "dash": "solid"
         },
         "mode": "markers+lines",
         "name": "536",
         "orientation": "v",
         "showlegend": true,
         "type": "scatter",
         "x": [
          "2020-10-26T22:46:42+00:00",
          "2020-10-27T23:42:30+00:00",
          "2020-10-27T23:46:36+00:00"
         ],
         "xaxis": "x",
         "y": [
          2,
          3,
          3
         ],
         "yaxis": "y"
        },
        {
         "hovertemplate": "user_id=2450<br>started_at=%{x}<br>score=%{y}<extra></extra>",
         "legendgroup": "2450",
         "line": {
          "color": "#FF97FF",
          "dash": "solid"
         },
         "mode": "markers+lines",
         "name": "2450",
         "orientation": "v",
         "showlegend": true,
         "type": "scatter",
         "x": [
          "2020-10-26T22:49:58+00:00",
          "2020-11-13T22:27:47+00:00",
          "2020-11-13T22:28:13+00:00"
         ],
         "xaxis": "x",
         "y": [
          3,
          2,
          2
         ],
         "yaxis": "y"
        },
        {
         "hovertemplate": "user_id=168<br>started_at=%{x}<br>score=%{y}<extra></extra>",
         "legendgroup": "168",
         "line": {
          "color": "#FECB52",
          "dash": "solid"
         },
         "mode": "markers+lines",
         "name": "168",
         "orientation": "v",
         "showlegend": true,
         "type": "scatter",
         "x": [
          "2020-10-26T22:54:44+00:00",
          "2020-10-28T00:33:33+00:00",
          "2020-10-28T01:03:02+00:00"
         ],
         "xaxis": "x",
         "y": [
          2,
          2,
          2
         ],
         "yaxis": "y"
        },
        {
         "hovertemplate": "user_id=455<br>started_at=%{x}<br>score=%{y}<extra></extra>",
         "legendgroup": "455",
         "line": {
          "color": "#636efa",
          "dash": "solid"
         },
         "mode": "markers+lines",
         "name": "455",
         "orientation": "v",
         "showlegend": true,
         "type": "scatter",
         "x": [
          "2020-10-26T22:55:02+00:00",
          "2020-10-27T21:36:15+00:00",
          "2020-10-28T21:52:44+00:00"
         ],
         "xaxis": "x",
         "y": [
          2,
          3,
          2
         ],
         "yaxis": "y"
        },
        {
         "hovertemplate": "user_id=2880<br>started_at=%{x}<br>score=%{y}<extra></extra>",
         "legendgroup": "2880",
         "line": {
          "color": "#EF553B",
          "dash": "solid"
         },
         "mode": "markers+lines",
         "name": "2880",
         "orientation": "v",
         "showlegend": true,
         "type": "scatter",
         "x": [
          "2020-10-26T22:56:24+00:00",
          "2020-10-29T22:46:55+00:00",
          "2020-10-29T22:48:13+00:00"
         ],
         "xaxis": "x",
         "y": [
          2,
          2,
          2
         ],
         "yaxis": "y"
        },
        {
         "hovertemplate": "user_id=576<br>started_at=%{x}<br>score=%{y}<extra></extra>",
         "legendgroup": "576",
         "line": {
          "color": "#00cc96",
          "dash": "solid"
         },
         "mode": "markers+lines",
         "name": "576",
         "orientation": "v",
         "showlegend": true,
         "type": "scatter",
         "x": [
          "2020-10-26T23:04:10+00:00",
          "2020-10-27T21:21:25+00:00",
          "2020-10-28T15:59:37+00:00"
         ],
         "xaxis": "x",
         "y": [
          3,
          3,
          3
         ],
         "yaxis": "y"
        },
        {
         "hovertemplate": "user_id=2348<br>started_at=%{x}<br>score=%{y}<extra></extra>",
         "legendgroup": "2348",
         "line": {
          "color": "#ab63fa",
          "dash": "solid"
         },
         "mode": "markers+lines",
         "name": "2348",
         "orientation": "v",
         "showlegend": true,
         "type": "scatter",
         "x": [
          "2020-10-26T23:04:46+00:00",
          "2020-10-27T21:17:53+00:00",
          "2020-10-28T22:27:38+00:00"
         ],
         "xaxis": "x",
         "y": [
          2,
          2,
          2
         ],
         "yaxis": "y"
        },
        {
         "hovertemplate": "user_id=1120<br>started_at=%{x}<br>score=%{y}<extra></extra>",
         "legendgroup": "1120",
         "line": {
          "color": "#FFA15A",
          "dash": "solid"
         },
         "mode": "markers+lines",
         "name": "1120",
         "orientation": "v",
         "showlegend": true,
         "type": "scatter",
         "x": [
          "2020-10-26T23:05:17+00:00",
          "2020-10-28T00:50:55+00:00"
         ],
         "xaxis": "x",
         "y": [
          2,
          2
         ],
         "yaxis": "y"
        },
        {
         "hovertemplate": "user_id=2438<br>started_at=%{x}<br>score=%{y}<extra></extra>",
         "legendgroup": "2438",
         "line": {
          "color": "#19d3f3",
          "dash": "solid"
         },
         "mode": "markers+lines",
         "name": "2438",
         "orientation": "v",
         "showlegend": true,
         "type": "scatter",
         "x": [
          "2020-10-26T23:05:20+00:00",
          "2020-10-28T02:51:06+00:00",
          "2020-10-29T22:59:27+00:00"
         ],
         "xaxis": "x",
         "y": [
          2,
          2,
          2
         ],
         "yaxis": "y"
        },
        {
         "hovertemplate": "user_id=544<br>started_at=%{x}<br>score=%{y}<extra></extra>",
         "legendgroup": "544",
         "line": {
          "color": "#FF6692",
          "dash": "solid"
         },
         "mode": "markers+lines",
         "name": "544",
         "orientation": "v",
         "showlegend": true,
         "type": "scatter",
         "x": [
          "2020-10-26T23:08:10+00:00",
          "2020-10-27T23:03:01+00:00",
          "2020-11-05T22:50:24+00:00"
         ],
         "xaxis": "x",
         "y": [
          2,
          3,
          2
         ],
         "yaxis": "y"
        },
        {
         "hovertemplate": "user_id=261<br>started_at=%{x}<br>score=%{y}<extra></extra>",
         "legendgroup": "261",
         "line": {
          "color": "#B6E880",
          "dash": "solid"
         },
         "mode": "markers+lines",
         "name": "261",
         "orientation": "v",
         "showlegend": true,
         "type": "scatter",
         "x": [
          "2020-10-26T23:08:57+00:00",
          "2020-10-27T14:59:08+00:00",
          "2020-10-29T15:08:54+00:00",
          "2020-10-29T15:08:54+00:00"
         ],
         "xaxis": "x",
         "y": [
          2,
          2,
          2,
          1
         ],
         "yaxis": "y"
        },
        {
         "hovertemplate": "user_id=1011<br>started_at=%{x}<br>score=%{y}<extra></extra>",
         "legendgroup": "1011",
         "line": {
          "color": "#FF97FF",
          "dash": "solid"
         },
         "mode": "markers+lines",
         "name": "1011",
         "orientation": "v",
         "showlegend": true,
         "type": "scatter",
         "x": [
          "2020-10-26T23:10:51+00:00",
          "2020-10-26T23:11:21+00:00",
          "2020-11-19T20:38:41+00:00"
         ],
         "xaxis": "x",
         "y": [
          3,
          2,
          2
         ],
         "yaxis": "y"
        },
        {
         "hovertemplate": "user_id=606<br>started_at=%{x}<br>score=%{y}<extra></extra>",
         "legendgroup": "606",
         "line": {
          "color": "#FECB52",
          "dash": "solid"
         },
         "mode": "markers+lines",
         "name": "606",
         "orientation": "v",
         "showlegend": true,
         "type": "scatter",
         "x": [
          "2020-10-26T23:13:04+00:00",
          "2020-10-27T23:04:03+00:00",
          "2020-10-29T23:43:10+00:00"
         ],
         "xaxis": "x",
         "y": [
          2,
          2,
          2
         ],
         "yaxis": "y"
        },
        {
         "hovertemplate": "user_id=1158<br>started_at=%{x}<br>score=%{y}<extra></extra>",
         "legendgroup": "1158",
         "line": {
          "color": "#636efa",
          "dash": "solid"
         },
         "mode": "markers+lines",
         "name": "1158",
         "orientation": "v",
         "showlegend": true,
         "type": "scatter",
         "x": [
          "2020-10-26T23:13:44+00:00",
          "2020-10-26T23:13:50+00:00",
          "2020-10-28T23:50:58+00:00"
         ],
         "xaxis": "x",
         "y": [
          3,
          3,
          3
         ],
         "yaxis": "y"
        },
        {
         "hovertemplate": "user_id=247<br>started_at=%{x}<br>score=%{y}<extra></extra>",
         "legendgroup": "247",
         "line": {
          "color": "#EF553B",
          "dash": "solid"
         },
         "mode": "markers+lines",
         "name": "247",
         "orientation": "v",
         "showlegend": true,
         "type": "scatter",
         "x": [
          "2020-10-26T23:14:03+00:00"
         ],
         "xaxis": "x",
         "y": [
          3
         ],
         "yaxis": "y"
        },
        {
         "hovertemplate": "user_id=3356<br>started_at=%{x}<br>score=%{y}<extra></extra>",
         "legendgroup": "3356",
         "line": {
          "color": "#00cc96",
          "dash": "solid"
         },
         "mode": "markers+lines",
         "name": "3356",
         "orientation": "v",
         "showlegend": true,
         "type": "scatter",
         "x": [
          "2020-10-26T23:16:27+00:00",
          "2020-10-27T23:13:58+00:00",
          "2020-10-29T04:04:15+00:00"
         ],
         "xaxis": "x",
         "y": [
          2,
          3,
          2
         ],
         "yaxis": "y"
        },
        {
         "hovertemplate": "user_id=1232<br>started_at=%{x}<br>score=%{y}<extra></extra>",
         "legendgroup": "1232",
         "line": {
          "color": "#ab63fa",
          "dash": "solid"
         },
         "mode": "markers+lines",
         "name": "1232",
         "orientation": "v",
         "showlegend": true,
         "type": "scatter",
         "x": [
          "2020-10-26T23:19:25+00:00",
          "2020-10-26T23:20:24+00:00",
          "2020-10-28T00:08:15+00:00"
         ],
         "xaxis": "x",
         "y": [
          1,
          2,
          2
         ],
         "yaxis": "y"
        },
        {
         "hovertemplate": "user_id=2442<br>started_at=%{x}<br>score=%{y}<extra></extra>",
         "legendgroup": "2442",
         "line": {
          "color": "#FFA15A",
          "dash": "solid"
         },
         "mode": "markers+lines",
         "name": "2442",
         "orientation": "v",
         "showlegend": true,
         "type": "scatter",
         "x": [
          "2020-10-26T23:20:50+00:00",
          "2020-10-27T23:36:01+00:00",
          "2020-10-28T23:35:32+00:00"
         ],
         "xaxis": "x",
         "y": [
          2,
          2,
          2
         ],
         "yaxis": "y"
        },
        {
         "hovertemplate": "user_id=587<br>started_at=%{x}<br>score=%{y}<extra></extra>",
         "legendgroup": "587",
         "line": {
          "color": "#19d3f3",
          "dash": "solid"
         },
         "mode": "markers+lines",
         "name": "587",
         "orientation": "v",
         "showlegend": true,
         "type": "scatter",
         "x": [
          "2020-10-26T23:21:12+00:00",
          "2020-10-28T00:00:28+00:00",
          "2020-10-28T23:41:47+00:00"
         ],
         "xaxis": "x",
         "y": [
          2,
          3,
          2
         ],
         "yaxis": "y"
        },
        {
         "hovertemplate": "user_id=3278<br>started_at=%{x}<br>score=%{y}<extra></extra>",
         "legendgroup": "3278",
         "line": {
          "color": "#FF6692",
          "dash": "solid"
         },
         "mode": "markers+lines",
         "name": "3278",
         "orientation": "v",
         "showlegend": true,
         "type": "scatter",
         "x": [
          "2020-10-26T23:21:16+00:00",
          "2020-10-27T23:19:22+00:00",
          "2020-10-28T23:40:57+00:00"
         ],
         "xaxis": "x",
         "y": [
          2,
          2,
          2
         ],
         "yaxis": "y"
        },
        {
         "hovertemplate": "user_id=1141<br>started_at=%{x}<br>score=%{y}<extra></extra>",
         "legendgroup": "1141",
         "line": {
          "color": "#B6E880",
          "dash": "solid"
         },
         "mode": "markers+lines",
         "name": "1141",
         "orientation": "v",
         "showlegend": true,
         "type": "scatter",
         "x": [
          "2020-10-26T23:21:27+00:00",
          "2020-10-27T23:36:24+00:00",
          "2020-10-28T23:12:29+00:00"
         ],
         "xaxis": "x",
         "y": [
          3,
          3,
          3
         ],
         "yaxis": "y"
        },
        {
         "hovertemplate": "user_id=577<br>started_at=%{x}<br>score=%{y}<extra></extra>",
         "legendgroup": "577",
         "line": {
          "color": "#FF97FF",
          "dash": "solid"
         },
         "mode": "markers+lines",
         "name": "577",
         "orientation": "v",
         "showlegend": true,
         "type": "scatter",
         "x": [
          "2020-10-26T23:22:41+00:00",
          "2020-10-27T23:18:21+00:00",
          "2020-10-29T00:15:15+00:00",
          "2020-10-29T00:15:15+00:00"
         ],
         "xaxis": "x",
         "y": [
          2,
          2,
          1,
          2
         ],
         "yaxis": "y"
        },
        {
         "hovertemplate": "user_id=3128<br>started_at=%{x}<br>score=%{y}<extra></extra>",
         "legendgroup": "3128",
         "line": {
          "color": "#FECB52",
          "dash": "solid"
         },
         "mode": "markers+lines",
         "name": "3128",
         "orientation": "v",
         "showlegend": true,
         "type": "scatter",
         "x": [
          "2020-10-26T23:29:08+00:00"
         ],
         "xaxis": "x",
         "y": [
          2
         ],
         "yaxis": "y"
        },
        {
         "hovertemplate": "user_id=631<br>started_at=%{x}<br>score=%{y}<extra></extra>",
         "legendgroup": "631",
         "line": {
          "color": "#636efa",
          "dash": "solid"
         },
         "mode": "markers+lines",
         "name": "631",
         "orientation": "v",
         "showlegend": true,
         "type": "scatter",
         "x": [
          "2020-10-26T23:29:19+00:00",
          "2020-10-26T23:31:11+00:00",
          "2020-10-27T22:29:27+00:00"
         ],
         "xaxis": "x",
         "y": [
          2,
          2,
          2
         ],
         "yaxis": "y"
        },
        {
         "hovertemplate": "user_id=2797<br>started_at=%{x}<br>score=%{y}<extra></extra>",
         "legendgroup": "2797",
         "line": {
          "color": "#EF553B",
          "dash": "solid"
         },
         "mode": "markers+lines",
         "name": "2797",
         "orientation": "v",
         "showlegend": true,
         "type": "scatter",
         "x": [
          "2020-10-26T23:31:28+00:00",
          "2020-10-26T23:32:49+00:00",
          "2020-10-26T23:34:29+00:00"
         ],
         "xaxis": "x",
         "y": [
          3,
          3,
          3
         ],
         "yaxis": "y"
        },
        {
         "hovertemplate": "user_id=1274<br>started_at=%{x}<br>score=%{y}<extra></extra>",
         "legendgroup": "1274",
         "line": {
          "color": "#00cc96",
          "dash": "solid"
         },
         "mode": "markers+lines",
         "name": "1274",
         "orientation": "v",
         "showlegend": true,
         "type": "scatter",
         "x": [
          "2020-10-26T23:31:40+00:00",
          "2020-10-29T15:53:42+00:00",
          "2020-10-29T15:54:47+00:00"
         ],
         "xaxis": "x",
         "y": [
          2,
          1,
          1
         ],
         "yaxis": "y"
        },
        {
         "hovertemplate": "user_id=1271<br>started_at=%{x}<br>score=%{y}<extra></extra>",
         "legendgroup": "1271",
         "line": {
          "color": "#ab63fa",
          "dash": "solid"
         },
         "mode": "markers+lines",
         "name": "1271",
         "orientation": "v",
         "showlegend": true,
         "type": "scatter",
         "x": [
          "2020-10-26T23:31:50+00:00",
          "2020-11-05T00:10:05+00:00",
          "2020-11-05T00:16:33+00:00"
         ],
         "xaxis": "x",
         "y": [
          3,
          3,
          3
         ],
         "yaxis": "y"
        },
        {
         "hovertemplate": "user_id=3151<br>started_at=%{x}<br>score=%{y}<extra></extra>",
         "legendgroup": "3151",
         "line": {
          "color": "#FFA15A",
          "dash": "solid"
         },
         "mode": "markers+lines",
         "name": "3151",
         "orientation": "v",
         "showlegend": true,
         "type": "scatter",
         "x": [
          "2020-10-26T23:32:20+00:00",
          "2020-10-31T16:44:56+00:00",
          "2020-11-11T13:52:20+00:00"
         ],
         "xaxis": "x",
         "y": [
          3,
          3,
          3
         ],
         "yaxis": "y"
        },
        {
         "hovertemplate": "user_id=3300<br>started_at=%{x}<br>score=%{y}<extra></extra>",
         "legendgroup": "3300",
         "line": {
          "color": "#19d3f3",
          "dash": "solid"
         },
         "mode": "markers+lines",
         "name": "3300",
         "orientation": "v",
         "showlegend": true,
         "type": "scatter",
         "x": [
          "2020-10-26T23:33:30+00:00"
         ],
         "xaxis": "x",
         "y": [
          2
         ],
         "yaxis": "y"
        },
        {
         "hovertemplate": "user_id=1289<br>started_at=%{x}<br>score=%{y}<extra></extra>",
         "legendgroup": "1289",
         "line": {
          "color": "#FF6692",
          "dash": "solid"
         },
         "mode": "markers+lines",
         "name": "1289",
         "orientation": "v",
         "showlegend": true,
         "type": "scatter",
         "x": [
          "2020-10-26T23:36:05+00:00",
          "2020-10-27T23:49:29+00:00",
          "2020-10-29T01:13:02+00:00"
         ],
         "xaxis": "x",
         "y": [
          2,
          2,
          2
         ],
         "yaxis": "y"
        },
        {
         "hovertemplate": "user_id=2466<br>started_at=%{x}<br>score=%{y}<extra></extra>",
         "legendgroup": "2466",
         "line": {
          "color": "#B6E880",
          "dash": "solid"
         },
         "mode": "markers+lines",
         "name": "2466",
         "orientation": "v",
         "showlegend": true,
         "type": "scatter",
         "x": [
          "2020-10-26T23:37:34+00:00"
         ],
         "xaxis": "x",
         "y": [
          2
         ],
         "yaxis": "y"
        },
        {
         "hovertemplate": "user_id=1173<br>started_at=%{x}<br>score=%{y}<extra></extra>",
         "legendgroup": "1173",
         "line": {
          "color": "#FF97FF",
          "dash": "solid"
         },
         "mode": "markers+lines",
         "name": "1173",
         "orientation": "v",
         "showlegend": true,
         "type": "scatter",
         "x": [
          "2020-10-26T23:38:20+00:00",
          "2020-10-27T22:14:00+00:00"
         ],
         "xaxis": "x",
         "y": [
          3,
          3
         ],
         "yaxis": "y"
        },
        {
         "hovertemplate": "user_id=1277<br>started_at=%{x}<br>score=%{y}<extra></extra>",
         "legendgroup": "1277",
         "line": {
          "color": "#FECB52",
          "dash": "solid"
         },
         "mode": "markers+lines",
         "name": "1277",
         "orientation": "v",
         "showlegend": true,
         "type": "scatter",
         "x": [
          "2020-10-26T23:38:51+00:00",
          "2020-10-28T00:18:46+00:00",
          "2020-10-28T22:56:58+00:00"
         ],
         "xaxis": "x",
         "y": [
          3,
          3,
          3
         ],
         "yaxis": "y"
        },
        {
         "hovertemplate": "user_id=586<br>started_at=%{x}<br>score=%{y}<extra></extra>",
         "legendgroup": "586",
         "line": {
          "color": "#636efa",
          "dash": "solid"
         },
         "mode": "markers+lines",
         "name": "586",
         "orientation": "v",
         "showlegend": true,
         "type": "scatter",
         "x": [
          "2020-10-26T23:39:34+00:00",
          "2020-10-28T23:32:43+00:00"
         ],
         "xaxis": "x",
         "y": [
          3,
          3
         ],
         "yaxis": "y"
        },
        {
         "hovertemplate": "user_id=525<br>started_at=%{x}<br>score=%{y}<extra></extra>",
         "legendgroup": "525",
         "line": {
          "color": "#EF553B",
          "dash": "solid"
         },
         "mode": "markers+lines",
         "name": "525",
         "orientation": "v",
         "showlegend": true,
         "type": "scatter",
         "x": [
          "2020-10-26T23:40:07+00:00",
          "2020-10-28T23:21:37+00:00",
          "2020-10-29T14:38:15+00:00"
         ],
         "xaxis": "x",
         "y": [
          2,
          1,
          1
         ],
         "yaxis": "y"
        },
        {
         "hovertemplate": "user_id=1124<br>started_at=%{x}<br>score=%{y}<extra></extra>",
         "legendgroup": "1124",
         "line": {
          "color": "#00cc96",
          "dash": "solid"
         },
         "mode": "markers+lines",
         "name": "1124",
         "orientation": "v",
         "showlegend": true,
         "type": "scatter",
         "x": [
          "2020-10-26T23:40:33+00:00",
          "2020-10-27T23:55:12+00:00",
          "2020-10-28T23:33:38+00:00"
         ],
         "xaxis": "x",
         "y": [
          3,
          3,
          3
         ],
         "yaxis": "y"
        },
        {
         "hovertemplate": "user_id=3303<br>started_at=%{x}<br>score=%{y}<extra></extra>",
         "legendgroup": "3303",
         "line": {
          "color": "#ab63fa",
          "dash": "solid"
         },
         "mode": "markers+lines",
         "name": "3303",
         "orientation": "v",
         "showlegend": true,
         "type": "scatter",
         "x": [
          "2020-10-26T23:40:38+00:00",
          "2020-10-27T23:48:27+00:00",
          "2020-10-28T23:40:27+00:00"
         ],
         "xaxis": "x",
         "y": [
          2,
          2,
          2
         ],
         "yaxis": "y"
        },
        {
         "hovertemplate": "user_id=1266<br>started_at=%{x}<br>score=%{y}<extra></extra>",
         "legendgroup": "1266",
         "line": {
          "color": "#FFA15A",
          "dash": "solid"
         },
         "mode": "markers+lines",
         "name": "1266",
         "orientation": "v",
         "showlegend": true,
         "type": "scatter",
         "x": [
          "2020-10-26T23:40:42+00:00"
         ],
         "xaxis": "x",
         "y": [
          3
         ],
         "yaxis": "y"
        },
        {
         "hovertemplate": "user_id=3156<br>started_at=%{x}<br>score=%{y}<extra></extra>",
         "legendgroup": "3156",
         "line": {
          "color": "#19d3f3",
          "dash": "solid"
         },
         "mode": "markers+lines",
         "name": "3156",
         "orientation": "v",
         "showlegend": true,
         "type": "scatter",
         "x": [
          "2020-10-26T23:41:07+00:00",
          "2020-10-26T23:41:07+00:00",
          "2020-10-26T23:41:07+00:00"
         ],
         "xaxis": "x",
         "y": [
          1,
          2,
          1
         ],
         "yaxis": "y"
        },
        {
         "hovertemplate": "user_id=460<br>started_at=%{x}<br>score=%{y}<extra></extra>",
         "legendgroup": "460",
         "line": {
          "color": "#FF6692",
          "dash": "solid"
         },
         "mode": "markers+lines",
         "name": "460",
         "orientation": "v",
         "showlegend": true,
         "type": "scatter",
         "x": [
          "2020-10-26T23:42:09+00:00",
          "2020-10-27T21:20:18+00:00",
          "2020-10-29T15:28:42+00:00",
          "2020-10-29T15:28:42+00:00"
         ],
         "xaxis": "x",
         "y": [
          2,
          2,
          1,
          2
         ],
         "yaxis": "y"
        },
        {
         "hovertemplate": "user_id=3158<br>started_at=%{x}<br>score=%{y}<extra></extra>",
         "legendgroup": "3158",
         "line": {
          "color": "#B6E880",
          "dash": "solid"
         },
         "mode": "markers+lines",
         "name": "3158",
         "orientation": "v",
         "showlegend": true,
         "type": "scatter",
         "x": [
          "2020-10-26T23:42:11+00:00",
          "2020-10-27T23:16:55+00:00",
          "2020-10-28T23:18:10+00:00"
         ],
         "xaxis": "x",
         "y": [
          3,
          3,
          3
         ],
         "yaxis": "y"
        },
        {
         "hovertemplate": "user_id=1147<br>started_at=%{x}<br>score=%{y}<extra></extra>",
         "legendgroup": "1147",
         "line": {
          "color": "#FF97FF",
          "dash": "solid"
         },
         "mode": "markers+lines",
         "name": "1147",
         "orientation": "v",
         "showlegend": true,
         "type": "scatter",
         "x": [
          "2020-10-26T23:42:24+00:00",
          "2020-10-27T23:38:53+00:00",
          "2020-10-29T00:31:26+00:00"
         ],
         "xaxis": "x",
         "y": [
          2,
          2,
          2
         ],
         "yaxis": "y"
        },
        {
         "hovertemplate": "user_id=3355<br>started_at=%{x}<br>score=%{y}<extra></extra>",
         "legendgroup": "3355",
         "line": {
          "color": "#FECB52",
          "dash": "solid"
         },
         "mode": "markers+lines",
         "name": "3355",
         "orientation": "v",
         "showlegend": true,
         "type": "scatter",
         "x": [
          "2020-10-26T23:42:27+00:00",
          "2020-10-29T23:01:27+00:00",
          "2020-10-29T23:04:32+00:00",
          "2020-10-29T23:04:32+00:00"
         ],
         "xaxis": "x",
         "y": [
          2,
          2,
          1,
          2
         ],
         "yaxis": "y"
        },
        {
         "hovertemplate": "user_id=3167<br>started_at=%{x}<br>score=%{y}<extra></extra>",
         "legendgroup": "3167",
         "line": {
          "color": "#636efa",
          "dash": "solid"
         },
         "mode": "markers+lines",
         "name": "3167",
         "orientation": "v",
         "showlegend": true,
         "type": "scatter",
         "x": [
          "2020-10-26T23:43:30+00:00",
          "2020-10-29T01:47:15+00:00",
          "2020-10-29T01:48:48+00:00"
         ],
         "xaxis": "x",
         "y": [
          2,
          2,
          3
         ],
         "yaxis": "y"
        },
        {
         "hovertemplate": "user_id=3295<br>started_at=%{x}<br>score=%{y}<extra></extra>",
         "legendgroup": "3295",
         "line": {
          "color": "#EF553B",
          "dash": "solid"
         },
         "mode": "markers+lines",
         "name": "3295",
         "orientation": "v",
         "showlegend": true,
         "type": "scatter",
         "x": [
          "2020-10-26T23:43:34+00:00",
          "2020-10-28T23:32:41+00:00"
         ],
         "xaxis": "x",
         "y": [
          3,
          3
         ],
         "yaxis": "y"
        },
        {
         "hovertemplate": "user_id=1008<br>started_at=%{x}<br>score=%{y}<extra></extra>",
         "legendgroup": "1008",
         "line": {
          "color": "#00cc96",
          "dash": "solid"
         },
         "mode": "markers+lines",
         "name": "1008",
         "orientation": "v",
         "showlegend": true,
         "type": "scatter",
         "x": [
          "2020-10-26T23:43:40+00:00"
         ],
         "xaxis": "x",
         "y": [
          3
         ],
         "yaxis": "y"
        },
        {
         "hovertemplate": "user_id=3262<br>started_at=%{x}<br>score=%{y}<extra></extra>",
         "legendgroup": "3262",
         "line": {
          "color": "#ab63fa",
          "dash": "solid"
         },
         "mode": "markers+lines",
         "name": "3262",
         "orientation": "v",
         "showlegend": true,
         "type": "scatter",
         "x": [
          "2020-10-26T23:44:24+00:00",
          "2020-10-29T23:09:16+00:00"
         ],
         "xaxis": "x",
         "y": [
          2,
          2
         ],
         "yaxis": "y"
        },
        {
         "hovertemplate": "user_id=1188<br>started_at=%{x}<br>score=%{y}<extra></extra>",
         "legendgroup": "1188",
         "line": {
          "color": "#FFA15A",
          "dash": "solid"
         },
         "mode": "markers+lines",
         "name": "1188",
         "orientation": "v",
         "showlegend": true,
         "type": "scatter",
         "x": [
          "2020-10-26T23:44:32+00:00",
          "2020-10-28T23:37:58+00:00"
         ],
         "xaxis": "x",
         "y": [
          3,
          3
         ],
         "yaxis": "y"
        },
        {
         "hovertemplate": "user_id=3344<br>started_at=%{x}<br>score=%{y}<extra></extra>",
         "legendgroup": "3344",
         "line": {
          "color": "#19d3f3",
          "dash": "solid"
         },
         "mode": "markers+lines",
         "name": "3344",
         "orientation": "v",
         "showlegend": true,
         "type": "scatter",
         "x": [
          "2020-10-26T23:46:12+00:00",
          "2020-11-02T16:25:36+00:00"
         ],
         "xaxis": "x",
         "y": [
          2,
          2
         ],
         "yaxis": "y"
        },
        {
         "hovertemplate": "user_id=543<br>started_at=%{x}<br>score=%{y}<extra></extra>",
         "legendgroup": "543",
         "line": {
          "color": "#FF6692",
          "dash": "solid"
         },
         "mode": "markers+lines",
         "name": "543",
         "orientation": "v",
         "showlegend": true,
         "type": "scatter",
         "x": [
          "2020-10-26T23:48:20+00:00",
          "2020-10-27T23:39:16+00:00"
         ],
         "xaxis": "x",
         "y": [
          2,
          3
         ],
         "yaxis": "y"
        },
        {
         "hovertemplate": "user_id=595<br>started_at=%{x}<br>score=%{y}<extra></extra>",
         "legendgroup": "595",
         "line": {
          "color": "#B6E880",
          "dash": "solid"
         },
         "mode": "markers+lines",
         "name": "595",
         "orientation": "v",
         "showlegend": true,
         "type": "scatter",
         "x": [
          "2020-10-26T23:50:12+00:00",
          "2020-11-06T00:31:15+00:00",
          "2020-11-06T00:31:55+00:00"
         ],
         "xaxis": "x",
         "y": [
          2,
          2,
          2
         ],
         "yaxis": "y"
        },
        {
         "hovertemplate": "user_id=561<br>started_at=%{x}<br>score=%{y}<extra></extra>",
         "legendgroup": "561",
         "line": {
          "color": "#FF97FF",
          "dash": "solid"
         },
         "mode": "markers+lines",
         "name": "561",
         "orientation": "v",
         "showlegend": true,
         "type": "scatter",
         "x": [
          "2020-10-26T23:52:58+00:00",
          "2020-10-26T23:53:53+00:00"
         ],
         "xaxis": "x",
         "y": [
          3,
          3
         ],
         "yaxis": "y"
        },
        {
         "hovertemplate": "user_id=257<br>started_at=%{x}<br>score=%{y}<extra></extra>",
         "legendgroup": "257",
         "line": {
          "color": "#FECB52",
          "dash": "solid"
         },
         "mode": "markers+lines",
         "name": "257",
         "orientation": "v",
         "showlegend": true,
         "type": "scatter",
         "x": [
          "2020-10-26T23:55:06+00:00",
          "2020-10-27T22:20:02+00:00",
          "2020-10-28T23:37:34+00:00"
         ],
         "xaxis": "x",
         "y": [
          2,
          2,
          2
         ],
         "yaxis": "y"
        },
        {
         "hovertemplate": "user_id=3287<br>started_at=%{x}<br>score=%{y}<extra></extra>",
         "legendgroup": "3287",
         "line": {
          "color": "#636efa",
          "dash": "solid"
         },
         "mode": "markers+lines",
         "name": "3287",
         "orientation": "v",
         "showlegend": true,
         "type": "scatter",
         "x": [
          "2020-10-27T00:00:07+00:00",
          "2020-10-27T22:56:15+00:00",
          "2020-10-28T23:34:48+00:00"
         ],
         "xaxis": "x",
         "y": [
          2,
          2,
          2
         ],
         "yaxis": "y"
        },
        {
         "hovertemplate": "user_id=522<br>started_at=%{x}<br>score=%{y}<extra></extra>",
         "legendgroup": "522",
         "line": {
          "color": "#EF553B",
          "dash": "solid"
         },
         "mode": "markers+lines",
         "name": "522",
         "orientation": "v",
         "showlegend": true,
         "type": "scatter",
         "x": [
          "2020-10-27T00:02:54+00:00",
          "2020-10-27T00:04:15+00:00",
          "2020-10-29T22:47:32+00:00"
         ],
         "xaxis": "x",
         "y": [
          3,
          3,
          3
         ],
         "yaxis": "y"
        },
        {
         "hovertemplate": "user_id=1257<br>started_at=%{x}<br>score=%{y}<extra></extra>",
         "legendgroup": "1257",
         "line": {
          "color": "#00cc96",
          "dash": "solid"
         },
         "mode": "markers+lines",
         "name": "1257",
         "orientation": "v",
         "showlegend": true,
         "type": "scatter",
         "x": [
          "2020-10-27T00:03:32+00:00"
         ],
         "xaxis": "x",
         "y": [
          2
         ],
         "yaxis": "y"
        },
        {
         "hovertemplate": "user_id=621<br>started_at=%{x}<br>score=%{y}<extra></extra>",
         "legendgroup": "621",
         "line": {
          "color": "#ab63fa",
          "dash": "solid"
         },
         "mode": "markers+lines",
         "name": "621",
         "orientation": "v",
         "showlegend": true,
         "type": "scatter",
         "x": [
          "2020-10-27T00:03:54+00:00",
          "2020-10-27T00:04:29+00:00"
         ],
         "xaxis": "x",
         "y": [
          3,
          3
         ],
         "yaxis": "y"
        },
        {
         "hovertemplate": "user_id=1177<br>started_at=%{x}<br>score=%{y}<extra></extra>",
         "legendgroup": "1177",
         "line": {
          "color": "#FFA15A",
          "dash": "solid"
         },
         "mode": "markers+lines",
         "name": "1177",
         "orientation": "v",
         "showlegend": true,
         "type": "scatter",
         "x": [
          "2020-10-27T00:06:10+00:00",
          "2020-10-27T00:06:58+00:00",
          "2020-10-29T23:02:50+00:00"
         ],
         "xaxis": "x",
         "y": [
          3,
          3,
          3
         ],
         "yaxis": "y"
        },
        {
         "hovertemplate": "user_id=3152<br>started_at=%{x}<br>score=%{y}<extra></extra>",
         "legendgroup": "3152",
         "line": {
          "color": "#19d3f3",
          "dash": "solid"
         },
         "mode": "markers+lines",
         "name": "3152",
         "orientation": "v",
         "showlegend": true,
         "type": "scatter",
         "x": [
          "2020-10-27T00:13:25+00:00",
          "2020-10-30T04:07:20+00:00",
          "2020-10-30T04:08:14+00:00"
         ],
         "xaxis": "x",
         "y": [
          2,
          3,
          3
         ],
         "yaxis": "y"
        },
        {
         "hovertemplate": "user_id=1178<br>started_at=%{x}<br>score=%{y}<extra></extra>",
         "legendgroup": "1178",
         "line": {
          "color": "#FF6692",
          "dash": "solid"
         },
         "mode": "markers+lines",
         "name": "1178",
         "orientation": "v",
         "showlegend": true,
         "type": "scatter",
         "x": [
          "2020-10-27T00:17:50+00:00",
          "2020-10-28T00:15:20+00:00",
          "2020-10-30T16:46:35+00:00"
         ],
         "xaxis": "x",
         "y": [
          2,
          2,
          2
         ],
         "yaxis": "y"
        },
        {
         "hovertemplate": "user_id=2429<br>started_at=%{x}<br>score=%{y}<extra></extra>",
         "legendgroup": "2429",
         "line": {
          "color": "#B6E880",
          "dash": "solid"
         },
         "mode": "markers+lines",
         "name": "2429",
         "orientation": "v",
         "showlegend": true,
         "type": "scatter",
         "x": [
          "2020-10-27T00:17:54+00:00",
          "2020-10-28T00:04:20+00:00",
          "2020-10-28T23:12:50+00:00"
         ],
         "xaxis": "x",
         "y": [
          3,
          3,
          3
         ],
         "yaxis": "y"
        },
        {
         "hovertemplate": "user_id=1116<br>started_at=%{x}<br>score=%{y}<extra></extra>",
         "legendgroup": "1116",
         "line": {
          "color": "#FF97FF",
          "dash": "solid"
         },
         "mode": "markers+lines",
         "name": "1116",
         "orientation": "v",
         "showlegend": true,
         "type": "scatter",
         "x": [
          "2020-10-27T00:19:08+00:00",
          "2020-10-27T23:55:34+00:00",
          "2020-10-29T01:09:14+00:00"
         ],
         "xaxis": "x",
         "y": [
          3,
          3,
          3
         ],
         "yaxis": "y"
        },
        {
         "hovertemplate": "user_id=3308<br>started_at=%{x}<br>score=%{y}<extra></extra>",
         "legendgroup": "3308",
         "line": {
          "color": "#FECB52",
          "dash": "solid"
         },
         "mode": "markers+lines",
         "name": "3308",
         "orientation": "v",
         "showlegend": true,
         "type": "scatter",
         "x": [
          "2020-10-27T00:19:33+00:00",
          "2020-10-27T22:02:22+00:00",
          "2020-10-29T13:56:23+00:00"
         ],
         "xaxis": "x",
         "y": [
          3,
          3,
          3
         ],
         "yaxis": "y"
        },
        {
         "hovertemplate": "user_id=618<br>started_at=%{x}<br>score=%{y}<extra></extra>",
         "legendgroup": "618",
         "line": {
          "color": "#636efa",
          "dash": "solid"
         },
         "mode": "markers+lines",
         "name": "618",
         "orientation": "v",
         "showlegend": true,
         "type": "scatter",
         "x": [
          "2020-10-27T00:28:58+00:00",
          "2020-10-27T00:30:30+00:00",
          "2020-10-28T22:34:00+00:00"
         ],
         "xaxis": "x",
         "y": [
          2,
          3,
          3
         ],
         "yaxis": "y"
        },
        {
         "hovertemplate": "user_id=2449<br>started_at=%{x}<br>score=%{y}<extra></extra>",
         "legendgroup": "2449",
         "line": {
          "color": "#EF553B",
          "dash": "solid"
         },
         "mode": "markers+lines",
         "name": "2449",
         "orientation": "v",
         "showlegend": true,
         "type": "scatter",
         "x": [
          "2020-10-27T00:30:52+00:00",
          "2020-10-29T15:05:19+00:00"
         ],
         "xaxis": "x",
         "y": [
          2,
          2
         ],
         "yaxis": "y"
        },
        {
         "hovertemplate": "user_id=1194<br>started_at=%{x}<br>score=%{y}<extra></extra>",
         "legendgroup": "1194",
         "line": {
          "color": "#00cc96",
          "dash": "solid"
         },
         "mode": "markers+lines",
         "name": "1194",
         "orientation": "v",
         "showlegend": true,
         "type": "scatter",
         "x": [
          "2020-10-27T00:33:22+00:00",
          "2020-10-28T02:14:41+00:00",
          "2020-10-29T07:00:49+00:00"
         ],
         "xaxis": "x",
         "y": [
          3,
          3,
          3
         ],
         "yaxis": "y"
        },
        {
         "hovertemplate": "user_id=1163<br>started_at=%{x}<br>score=%{y}<extra></extra>",
         "legendgroup": "1163",
         "line": {
          "color": "#ab63fa",
          "dash": "solid"
         },
         "mode": "markers+lines",
         "name": "1163",
         "orientation": "v",
         "showlegend": true,
         "type": "scatter",
         "x": [
          "2020-10-27T00:38:06+00:00",
          "2020-10-27T23:55:07+00:00",
          "2020-10-28T23:49:35+00:00"
         ],
         "xaxis": "x",
         "y": [
          2,
          2,
          2
         ],
         "yaxis": "y"
        },
        {
         "hovertemplate": "user_id=3267<br>started_at=%{x}<br>score=%{y}<extra></extra>",
         "legendgroup": "3267",
         "line": {
          "color": "#FFA15A",
          "dash": "solid"
         },
         "mode": "markers+lines",
         "name": "3267",
         "orientation": "v",
         "showlegend": true,
         "type": "scatter",
         "x": [
          "2020-10-27T00:38:22+00:00",
          "2020-10-29T23:03:19+00:00",
          "2020-11-02T23:54:11+00:00"
         ],
         "xaxis": "x",
         "y": [
          2,
          2,
          2
         ],
         "yaxis": "y"
        },
        {
         "hovertemplate": "user_id=2444<br>started_at=%{x}<br>score=%{y}<extra></extra>",
         "legendgroup": "2444",
         "line": {
          "color": "#19d3f3",
          "dash": "solid"
         },
         "mode": "markers+lines",
         "name": "2444",
         "orientation": "v",
         "showlegend": true,
         "type": "scatter",
         "x": [
          "2020-10-27T00:40:33+00:00",
          "2020-10-27T21:14:46+00:00",
          "2020-10-28T23:22:28+00:00"
         ],
         "xaxis": "x",
         "y": [
          2,
          2,
          2
         ],
         "yaxis": "y"
        },
        {
         "hovertemplate": "user_id=1144<br>started_at=%{x}<br>score=%{y}<extra></extra>",
         "legendgroup": "1144",
         "line": {
          "color": "#FF6692",
          "dash": "solid"
         },
         "mode": "markers+lines",
         "name": "1144",
         "orientation": "v",
         "showlegend": true,
         "type": "scatter",
         "x": [
          "2020-10-27T00:40:53+00:00",
          "2020-10-28T00:20:11+00:00",
          "2020-10-29T01:42:22+00:00"
         ],
         "xaxis": "x",
         "y": [
          3,
          3,
          3
         ],
         "yaxis": "y"
        },
        {
         "hovertemplate": "user_id=3316<br>started_at=%{x}<br>score=%{y}<extra></extra>",
         "legendgroup": "3316",
         "line": {
          "color": "#B6E880",
          "dash": "solid"
         },
         "mode": "markers+lines",
         "name": "3316",
         "orientation": "v",
         "showlegend": true,
         "type": "scatter",
         "x": [
          "2020-10-27T00:42:58+00:00",
          "2020-10-27T00:42:58+00:00",
          "2020-10-27T23:49:46+00:00",
          "2020-10-29T00:40:31+00:00"
         ],
         "xaxis": "x",
         "y": [
          2,
          1,
          3,
          2
         ],
         "yaxis": "y"
        },
        {
         "hovertemplate": "user_id=1215<br>started_at=%{x}<br>score=%{y}<extra></extra>",
         "legendgroup": "1215",
         "line": {
          "color": "#FF97FF",
          "dash": "solid"
         },
         "mode": "markers+lines",
         "name": "1215",
         "orientation": "v",
         "showlegend": true,
         "type": "scatter",
         "x": [
          "2020-10-27T00:47:29+00:00",
          "2020-10-29T14:42:14+00:00",
          "2020-10-29T14:52:03+00:00"
         ],
         "xaxis": "x",
         "y": [
          2,
          2,
          3
         ],
         "yaxis": "y"
        },
        {
         "hovertemplate": "user_id=2415<br>started_at=%{x}<br>score=%{y}<extra></extra>",
         "legendgroup": "2415",
         "line": {
          "color": "#FECB52",
          "dash": "solid"
         },
         "mode": "markers+lines",
         "name": "2415",
         "orientation": "v",
         "showlegend": true,
         "type": "scatter",
         "x": [
          "2020-10-27T00:56:33+00:00",
          "2020-10-28T00:04:52+00:00",
          "2020-10-29T01:33:21+00:00"
         ],
         "xaxis": "x",
         "y": [
          2,
          2,
          2
         ],
         "yaxis": "y"
        },
        {
         "hovertemplate": "user_id=3263<br>started_at=%{x}<br>score=%{y}<extra></extra>",
         "legendgroup": "3263",
         "line": {
          "color": "#636efa",
          "dash": "solid"
         },
         "mode": "markers+lines",
         "name": "3263",
         "orientation": "v",
         "showlegend": true,
         "type": "scatter",
         "x": [
          "2020-10-27T00:56:43+00:00",
          "2020-10-27T23:52:37+00:00",
          "2020-10-29T23:06:48+00:00"
         ],
         "xaxis": "x",
         "y": [
          2,
          2,
          2
         ],
         "yaxis": "y"
        },
        {
         "hovertemplate": "user_id=2422<br>started_at=%{x}<br>score=%{y}<extra></extra>",
         "legendgroup": "2422",
         "line": {
          "color": "#EF553B",
          "dash": "solid"
         },
         "mode": "markers+lines",
         "name": "2422",
         "orientation": "v",
         "showlegend": true,
         "type": "scatter",
         "x": [
          "2020-10-27T00:58:19+00:00"
         ],
         "xaxis": "x",
         "y": [
          1
         ],
         "yaxis": "y"
        },
        {
         "hovertemplate": "user_id=3301<br>started_at=%{x}<br>score=%{y}<extra></extra>",
         "legendgroup": "3301",
         "line": {
          "color": "#00cc96",
          "dash": "solid"
         },
         "mode": "markers+lines",
         "name": "3301",
         "orientation": "v",
         "showlegend": true,
         "type": "scatter",
         "x": [
          "2020-10-27T01:03:11+00:00",
          "2020-10-28T04:04:09+00:00",
          "2020-10-28T21:57:45+00:00"
         ],
         "xaxis": "x",
         "y": [
          2,
          2,
          2
         ],
         "yaxis": "y"
        },
        {
         "hovertemplate": "user_id=2353<br>started_at=%{x}<br>score=%{y}<extra></extra>",
         "legendgroup": "2353",
         "line": {
          "color": "#ab63fa",
          "dash": "solid"
         },
         "mode": "markers+lines",
         "name": "2353",
         "orientation": "v",
         "showlegend": true,
         "type": "scatter",
         "x": [
          "2020-10-27T01:03:25+00:00",
          "2020-10-27T01:04:19+00:00",
          "2020-10-27T01:04:46+00:00"
         ],
         "xaxis": "x",
         "y": [
          2,
          2,
          2
         ],
         "yaxis": "y"
        },
        {
         "hovertemplate": "user_id=3302<br>started_at=%{x}<br>score=%{y}<extra></extra>",
         "legendgroup": "3302",
         "line": {
          "color": "#FFA15A",
          "dash": "solid"
         },
         "mode": "markers+lines",
         "name": "3302",
         "orientation": "v",
         "showlegend": true,
         "type": "scatter",
         "x": [
          "2020-10-27T01:06:08+00:00",
          "2020-10-27T05:18:07+00:00",
          "2020-10-29T06:44:35+00:00"
         ],
         "xaxis": "x",
         "y": [
          2,
          2,
          3
         ],
         "yaxis": "y"
        },
        {
         "hovertemplate": "user_id=892<br>started_at=%{x}<br>score=%{y}<extra></extra>",
         "legendgroup": "892",
         "line": {
          "color": "#19d3f3",
          "dash": "solid"
         },
         "mode": "markers+lines",
         "name": "892",
         "orientation": "v",
         "showlegend": true,
         "type": "scatter",
         "x": [
          "2020-10-27T01:12:42+00:00",
          "2020-10-28T04:51:40+00:00",
          "2020-10-29T03:52:55+00:00"
         ],
         "xaxis": "x",
         "y": [
          2,
          2,
          2
         ],
         "yaxis": "y"
        },
        {
         "hovertemplate": "user_id=3306<br>started_at=%{x}<br>score=%{y}<extra></extra>",
         "legendgroup": "3306",
         "line": {
          "color": "#FF6692",
          "dash": "solid"
         },
         "mode": "markers+lines",
         "name": "3306",
         "orientation": "v",
         "showlegend": true,
         "type": "scatter",
         "x": [
          "2020-10-27T01:20:09+00:00",
          "2020-10-27T23:02:24+00:00",
          "2020-10-29T23:10:27+00:00"
         ],
         "xaxis": "x",
         "y": [
          2,
          2,
          3
         ],
         "yaxis": "y"
        },
        {
         "hovertemplate": "user_id=893<br>started_at=%{x}<br>score=%{y}<extra></extra>",
         "legendgroup": "893",
         "line": {
          "color": "#B6E880",
          "dash": "solid"
         },
         "mode": "markers+lines",
         "name": "893",
         "orientation": "v",
         "showlegend": true,
         "type": "scatter",
         "x": [
          "2020-10-27T01:25:41+00:00",
          "2020-10-27T21:38:49+00:00",
          "2020-10-29T14:55:51+00:00"
         ],
         "xaxis": "x",
         "y": [
          2,
          2,
          2
         ],
         "yaxis": "y"
        },
        {
         "hovertemplate": "user_id=1263<br>started_at=%{x}<br>score=%{y}<extra></extra>",
         "legendgroup": "1263",
         "line": {
          "color": "#FF97FF",
          "dash": "solid"
         },
         "mode": "markers+lines",
         "name": "1263",
         "orientation": "v",
         "showlegend": true,
         "type": "scatter",
         "x": [
          "2020-10-27T01:27:36+00:00",
          "2020-10-27T01:30:11+00:00",
          "2020-10-28T23:29:05+00:00"
         ],
         "xaxis": "x",
         "y": [
          2,
          2,
          3
         ],
         "yaxis": "y"
        },
        {
         "hovertemplate": "user_id=1123<br>started_at=%{x}<br>score=%{y}<extra></extra>",
         "legendgroup": "1123",
         "line": {
          "color": "#FECB52",
          "dash": "solid"
         },
         "mode": "markers+lines",
         "name": "1123",
         "orientation": "v",
         "showlegend": true,
         "type": "scatter",
         "x": [
          "2020-10-27T01:36:25+00:00",
          "2020-10-28T02:04:52+00:00",
          "2020-10-29T03:56:30+00:00"
         ],
         "xaxis": "x",
         "y": [
          3,
          3,
          3
         ],
         "yaxis": "y"
        },
        {
         "hovertemplate": "user_id=3140<br>started_at=%{x}<br>score=%{y}<extra></extra>",
         "legendgroup": "3140",
         "line": {
          "color": "#636efa",
          "dash": "solid"
         },
         "mode": "markers+lines",
         "name": "3140",
         "orientation": "v",
         "showlegend": true,
         "type": "scatter",
         "x": [
          "2020-10-27T01:46:54+00:00",
          "2020-10-30T17:47:27+00:00",
          "2020-10-30T17:48:08+00:00"
         ],
         "xaxis": "x",
         "y": [
          3,
          3,
          2
         ],
         "yaxis": "y"
        },
        {
         "hovertemplate": "user_id=1192<br>started_at=%{x}<br>score=%{y}<extra></extra>",
         "legendgroup": "1192",
         "line": {
          "color": "#EF553B",
          "dash": "solid"
         },
         "mode": "markers+lines",
         "name": "1192",
         "orientation": "v",
         "showlegend": true,
         "type": "scatter",
         "x": [
          "2020-10-27T01:50:06+00:00",
          "2020-10-28T00:39:51+00:00",
          "2020-10-28T00:39:51+00:00",
          "2020-10-28T23:15:47+00:00"
         ],
         "xaxis": "x",
         "y": [
          3,
          2,
          3,
          3
         ],
         "yaxis": "y"
        },
        {
         "hovertemplate": "user_id=2421<br>started_at=%{x}<br>score=%{y}<extra></extra>",
         "legendgroup": "2421",
         "line": {
          "color": "#00cc96",
          "dash": "solid"
         },
         "mode": "markers+lines",
         "name": "2421",
         "orientation": "v",
         "showlegend": true,
         "type": "scatter",
         "x": [
          "2020-10-27T02:02:36+00:00",
          "2020-10-28T23:51:29+00:00"
         ],
         "xaxis": "x",
         "y": [
          2,
          2
         ],
         "yaxis": "y"
        },
        {
         "hovertemplate": "user_id=3304<br>started_at=%{x}<br>score=%{y}<extra></extra>",
         "legendgroup": "3304",
         "line": {
          "color": "#ab63fa",
          "dash": "solid"
         },
         "mode": "markers+lines",
         "name": "3304",
         "orientation": "v",
         "showlegend": true,
         "type": "scatter",
         "x": [
          "2020-10-27T02:31:47+00:00",
          "2020-10-27T21:11:55+00:00",
          "2020-10-28T23:55:38+00:00"
         ],
         "xaxis": "x",
         "y": [
          3,
          3,
          3
         ],
         "yaxis": "y"
        },
        {
         "hovertemplate": "user_id=3277<br>started_at=%{x}<br>score=%{y}<extra></extra>",
         "legendgroup": "3277",
         "line": {
          "color": "#FFA15A",
          "dash": "solid"
         },
         "mode": "markers+lines",
         "name": "3277",
         "orientation": "v",
         "showlegend": true,
         "type": "scatter",
         "x": [
          "2020-10-27T02:31:51+00:00",
          "2020-10-28T01:50:36+00:00",
          "2020-10-29T05:50:46+00:00"
         ],
         "xaxis": "x",
         "y": [
          2,
          2,
          3
         ],
         "yaxis": "y"
        },
        {
         "hovertemplate": "user_id=1292<br>started_at=%{x}<br>score=%{y}<extra></extra>",
         "legendgroup": "1292",
         "line": {
          "color": "#19d3f3",
          "dash": "solid"
         },
         "mode": "markers+lines",
         "name": "1292",
         "orientation": "v",
         "showlegend": true,
         "type": "scatter",
         "x": [
          "2020-10-27T02:54:41+00:00",
          "2020-10-28T00:03:47+00:00",
          "2020-10-28T23:48:52+00:00"
         ],
         "xaxis": "x",
         "y": [
          2,
          2,
          2
         ],
         "yaxis": "y"
        },
        {
         "hovertemplate": "user_id=558<br>started_at=%{x}<br>score=%{y}<extra></extra>",
         "legendgroup": "558",
         "line": {
          "color": "#FF6692",
          "dash": "solid"
         },
         "mode": "markers+lines",
         "name": "558",
         "orientation": "v",
         "showlegend": true,
         "type": "scatter",
         "x": [
          "2020-10-27T02:58:21+00:00",
          "2020-10-28T02:19:29+00:00",
          "2020-10-30T01:32:11+00:00"
         ],
         "xaxis": "x",
         "y": [
          3,
          2,
          2
         ],
         "yaxis": "y"
        },
        {
         "hovertemplate": "user_id=625<br>started_at=%{x}<br>score=%{y}<extra></extra>",
         "legendgroup": "625",
         "line": {
          "color": "#B6E880",
          "dash": "solid"
         },
         "mode": "markers+lines",
         "name": "625",
         "orientation": "v",
         "showlegend": true,
         "type": "scatter",
         "x": [
          "2020-10-27T03:16:00+00:00",
          "2020-10-28T13:41:39+00:00",
          "2020-10-29T00:19:54+00:00"
         ],
         "xaxis": "x",
         "y": [
          2,
          3,
          2
         ],
         "yaxis": "y"
        },
        {
         "hovertemplate": "user_id=2454<br>started_at=%{x}<br>score=%{y}<extra></extra>",
         "legendgroup": "2454",
         "line": {
          "color": "#FF97FF",
          "dash": "solid"
         },
         "mode": "markers+lines",
         "name": "2454",
         "orientation": "v",
         "showlegend": true,
         "type": "scatter",
         "x": [
          "2020-10-27T03:35:21+00:00",
          "2020-10-28T15:46:54+00:00",
          "2020-10-29T01:18:37+00:00"
         ],
         "xaxis": "x",
         "y": [
          2,
          3,
          3
         ],
         "yaxis": "y"
        },
        {
         "hovertemplate": "user_id=2404<br>started_at=%{x}<br>score=%{y}<extra></extra>",
         "legendgroup": "2404",
         "line": {
          "color": "#FECB52",
          "dash": "solid"
         },
         "mode": "markers+lines",
         "name": "2404",
         "orientation": "v",
         "showlegend": true,
         "type": "scatter",
         "x": [
          "2020-10-27T03:40:31+00:00",
          "2020-10-29T04:29:42+00:00",
          "2020-10-29T04:31:12+00:00"
         ],
         "xaxis": "x",
         "y": [
          2,
          2,
          2
         ],
         "yaxis": "y"
        },
        {
         "hovertemplate": "user_id=2457<br>started_at=%{x}<br>score=%{y}<extra></extra>",
         "legendgroup": "2457",
         "line": {
          "color": "#636efa",
          "dash": "solid"
         },
         "mode": "markers+lines",
         "name": "2457",
         "orientation": "v",
         "showlegend": true,
         "type": "scatter",
         "x": [
          "2020-10-27T04:43:40+00:00",
          "2020-10-27T21:41:29+00:00",
          "2020-10-29T02:24:47+00:00"
         ],
         "xaxis": "x",
         "y": [
          2,
          2,
          2
         ],
         "yaxis": "y"
        },
        {
         "hovertemplate": "user_id=3132<br>started_at=%{x}<br>score=%{y}<extra></extra>",
         "legendgroup": "3132",
         "line": {
          "color": "#EF553B",
          "dash": "solid"
         },
         "mode": "markers+lines",
         "name": "3132",
         "orientation": "v",
         "showlegend": true,
         "type": "scatter",
         "x": [
          "2020-10-27T05:17:53+00:00",
          "2020-10-27T05:35:43+00:00"
         ],
         "xaxis": "x",
         "y": [
          3,
          3
         ],
         "yaxis": "y"
        },
        {
         "hovertemplate": "user_id=826<br>started_at=%{x}<br>score=%{y}<extra></extra>",
         "legendgroup": "826",
         "line": {
          "color": "#00cc96",
          "dash": "solid"
         },
         "mode": "markers+lines",
         "name": "826",
         "orientation": "v",
         "showlegend": true,
         "type": "scatter",
         "x": [
          "2020-10-27T05:51:37+00:00",
          "2020-10-28T00:27:37+00:00",
          "2020-10-29T05:19:29+00:00"
         ],
         "xaxis": "x",
         "y": [
          2,
          2,
          2
         ],
         "yaxis": "y"
        },
        {
         "hovertemplate": "user_id=492<br>started_at=%{x}<br>score=%{y}<extra></extra>",
         "legendgroup": "492",
         "line": {
          "color": "#ab63fa",
          "dash": "solid"
         },
         "mode": "markers+lines",
         "name": "492",
         "orientation": "v",
         "showlegend": true,
         "type": "scatter",
         "x": [
          "2020-10-27T06:36:04+00:00",
          "2020-10-28T05:56:22+00:00"
         ],
         "xaxis": "x",
         "y": [
          2,
          2
         ],
         "yaxis": "y"
        },
        {
         "hovertemplate": "user_id=2431<br>started_at=%{x}<br>score=%{y}<extra></extra>",
         "legendgroup": "2431",
         "line": {
          "color": "#FFA15A",
          "dash": "solid"
         },
         "mode": "markers+lines",
         "name": "2431",
         "orientation": "v",
         "showlegend": true,
         "type": "scatter",
         "x": [
          "2020-10-27T07:16:37+00:00",
          "2020-10-28T13:15:22+00:00",
          "2020-10-29T04:50:02+00:00"
         ],
         "xaxis": "x",
         "y": [
          2,
          2,
          2
         ],
         "yaxis": "y"
        },
        {
         "hovertemplate": "user_id=2441<br>started_at=%{x}<br>score=%{y}<extra></extra>",
         "legendgroup": "2441",
         "line": {
          "color": "#19d3f3",
          "dash": "solid"
         },
         "mode": "markers+lines",
         "name": "2441",
         "orientation": "v",
         "showlegend": true,
         "type": "scatter",
         "x": [
          "2020-10-27T12:30:54+00:00",
          "2020-10-27T12:31:50+00:00",
          "2020-10-27T12:32:18+00:00"
         ],
         "xaxis": "x",
         "y": [
          2,
          2,
          2
         ],
         "yaxis": "y"
        },
        {
         "hovertemplate": "user_id=529<br>started_at=%{x}<br>score=%{y}<extra></extra>",
         "legendgroup": "529",
         "line": {
          "color": "#FF6692",
          "dash": "solid"
         },
         "mode": "markers+lines",
         "name": "529",
         "orientation": "v",
         "showlegend": true,
         "type": "scatter",
         "x": [
          "2020-10-27T12:40:19+00:00",
          "2020-10-27T23:27:54+00:00",
          "2020-10-29T19:37:06+00:00"
         ],
         "xaxis": "x",
         "y": [
          2,
          1,
          3
         ],
         "yaxis": "y"
        },
        {
         "hovertemplate": "user_id=3281<br>started_at=%{x}<br>score=%{y}<extra></extra>",
         "legendgroup": "3281",
         "line": {
          "color": "#B6E880",
          "dash": "solid"
         },
         "mode": "markers+lines",
         "name": "3281",
         "orientation": "v",
         "showlegend": true,
         "type": "scatter",
         "x": [
          "2020-10-27T14:02:36+00:00",
          "2020-10-31T19:09:51+00:00",
          "2020-10-31T19:18:46+00:00"
         ],
         "xaxis": "x",
         "y": [
          3,
          3,
          1
         ],
         "yaxis": "y"
        },
        {
         "hovertemplate": "user_id=502<br>started_at=%{x}<br>score=%{y}<extra></extra>",
         "legendgroup": "502",
         "line": {
          "color": "#FF97FF",
          "dash": "solid"
         },
         "mode": "markers+lines",
         "name": "502",
         "orientation": "v",
         "showlegend": true,
         "type": "scatter",
         "x": [
          "2020-10-27T14:13:52+00:00",
          "2020-10-27T21:01:07+00:00",
          "2020-10-29T22:08:07+00:00"
         ],
         "xaxis": "x",
         "y": [
          2,
          3,
          2
         ],
         "yaxis": "y"
        },
        {
         "hovertemplate": "user_id=2437<br>started_at=%{x}<br>score=%{y}<extra></extra>",
         "legendgroup": "2437",
         "line": {
          "color": "#FECB52",
          "dash": "solid"
         },
         "mode": "markers+lines",
         "name": "2437",
         "orientation": "v",
         "showlegend": true,
         "type": "scatter",
         "x": [
          "2020-10-27T14:21:40+00:00",
          "2020-10-27T14:22:43+00:00",
          "2020-10-29T03:35:13+00:00"
         ],
         "xaxis": "x",
         "y": [
          3,
          2,
          3
         ],
         "yaxis": "y"
        },
        {
         "hovertemplate": "user_id=1186<br>started_at=%{x}<br>score=%{y}<extra></extra>",
         "legendgroup": "1186",
         "line": {
          "color": "#636efa",
          "dash": "solid"
         },
         "mode": "markers+lines",
         "name": "1186",
         "orientation": "v",
         "showlegend": true,
         "type": "scatter",
         "x": [
          "2020-10-27T14:42:32+00:00",
          "2020-10-28T03:46:11+00:00",
          "2020-10-29T01:10:51+00:00"
         ],
         "xaxis": "x",
         "y": [
          2,
          2,
          2
         ],
         "yaxis": "y"
        },
        {
         "hovertemplate": "user_id=617<br>started_at=%{x}<br>score=%{y}<extra></extra>",
         "legendgroup": "617",
         "line": {
          "color": "#EF553B",
          "dash": "solid"
         },
         "mode": "markers+lines",
         "name": "617",
         "orientation": "v",
         "showlegend": true,
         "type": "scatter",
         "x": [
          "2020-10-27T15:00:21+00:00",
          "2020-10-27T23:25:18+00:00",
          "2020-11-05T01:14:36+00:00"
         ],
         "xaxis": "x",
         "y": [
          2,
          1,
          2
         ],
         "yaxis": "y"
        },
        {
         "hovertemplate": "user_id=1114<br>started_at=%{x}<br>score=%{y}<extra></extra>",
         "legendgroup": "1114",
         "line": {
          "color": "#00cc96",
          "dash": "solid"
         },
         "mode": "markers+lines",
         "name": "1114",
         "orientation": "v",
         "showlegend": true,
         "type": "scatter",
         "x": [
          "2020-10-27T15:01:14+00:00",
          "2020-10-27T23:27:53+00:00",
          "2020-10-29T00:21:56+00:00"
         ],
         "xaxis": "x",
         "y": [
          3,
          3,
          3
         ],
         "yaxis": "y"
        },
        {
         "hovertemplate": "user_id=2426<br>started_at=%{x}<br>score=%{y}<extra></extra>",
         "legendgroup": "2426",
         "line": {
          "color": "#ab63fa",
          "dash": "solid"
         },
         "mode": "markers+lines",
         "name": "2426",
         "orientation": "v",
         "showlegend": true,
         "type": "scatter",
         "x": [
          "2020-10-27T15:07:50+00:00",
          "2020-10-28T15:14:03+00:00",
          "2020-10-29T21:02:07+00:00"
         ],
         "xaxis": "x",
         "y": [
          2,
          2,
          2
         ],
         "yaxis": "y"
        },
        {
         "hovertemplate": "user_id=3169<br>started_at=%{x}<br>score=%{y}<extra></extra>",
         "legendgroup": "3169",
         "line": {
          "color": "#FFA15A",
          "dash": "solid"
         },
         "mode": "markers+lines",
         "name": "3169",
         "orientation": "v",
         "showlegend": true,
         "type": "scatter",
         "x": [
          "2020-10-27T15:28:51+00:00"
         ],
         "xaxis": "x",
         "y": [
          3
         ],
         "yaxis": "y"
        },
        {
         "hovertemplate": "user_id=532<br>started_at=%{x}<br>score=%{y}<extra></extra>",
         "legendgroup": "532",
         "line": {
          "color": "#19d3f3",
          "dash": "solid"
         },
         "mode": "markers+lines",
         "name": "532",
         "orientation": "v",
         "showlegend": true,
         "type": "scatter",
         "x": [
          "2020-10-27T15:53:34+00:00",
          "2020-10-27T21:29:49+00:00"
         ],
         "xaxis": "x",
         "y": [
          2,
          2
         ],
         "yaxis": "y"
        },
        {
         "hovertemplate": "user_id=514<br>started_at=%{x}<br>score=%{y}<extra></extra>",
         "legendgroup": "514",
         "line": {
          "color": "#FF6692",
          "dash": "solid"
         },
         "mode": "markers+lines",
         "name": "514",
         "orientation": "v",
         "showlegend": true,
         "type": "scatter",
         "x": [
          "2020-10-27T18:11:10+00:00",
          "2020-10-27T23:41:32+00:00",
          "2020-10-28T23:33:27+00:00"
         ],
         "xaxis": "x",
         "y": [
          2,
          2,
          2
         ],
         "yaxis": "y"
        },
        {
         "hovertemplate": "user_id=1108<br>started_at=%{x}<br>score=%{y}<extra></extra>",
         "legendgroup": "1108",
         "line": {
          "color": "#B6E880",
          "dash": "solid"
         },
         "mode": "markers+lines",
         "name": "1108",
         "orientation": "v",
         "showlegend": true,
         "type": "scatter",
         "x": [
          "2020-10-27T18:28:27+00:00",
          "2020-11-11T23:47:59+00:00"
         ],
         "xaxis": "x",
         "y": [
          2,
          3
         ],
         "yaxis": "y"
        },
        {
         "hovertemplate": "user_id=3276<br>started_at=%{x}<br>score=%{y}<extra></extra>",
         "legendgroup": "3276",
         "line": {
          "color": "#FF97FF",
          "dash": "solid"
         },
         "mode": "markers+lines",
         "name": "3276",
         "orientation": "v",
         "showlegend": true,
         "type": "scatter",
         "x": [
          "2020-10-27T19:21:31+00:00",
          "2020-10-28T06:53:31+00:00",
          "2020-10-28T23:51:45+00:00",
          "2020-10-28T23:51:45+00:00"
         ],
         "xaxis": "x",
         "y": [
          3,
          3,
          3,
          2
         ],
         "yaxis": "y"
        },
        {
         "hovertemplate": "user_id=1262<br>started_at=%{x}<br>score=%{y}<extra></extra>",
         "legendgroup": "1262",
         "line": {
          "color": "#FECB52",
          "dash": "solid"
         },
         "mode": "markers+lines",
         "name": "1262",
         "orientation": "v",
         "showlegend": true,
         "type": "scatter",
         "x": [
          "2020-10-27T19:52:51+00:00",
          "2020-10-27T19:52:51+00:00",
          "2020-10-27T22:57:54+00:00",
          "2020-10-29T00:02:52+00:00"
         ],
         "xaxis": "x",
         "y": [
          2,
          3,
          3,
          3
         ],
         "yaxis": "y"
        },
        {
         "hovertemplate": "user_id=601<br>started_at=%{x}<br>score=%{y}<extra></extra>",
         "legendgroup": "601",
         "line": {
          "color": "#636efa",
          "dash": "solid"
         },
         "mode": "markers+lines",
         "name": "601",
         "orientation": "v",
         "showlegend": true,
         "type": "scatter",
         "x": [
          "2020-10-27T20:28:40+00:00",
          "2020-10-29T21:21:17+00:00",
          "2020-10-29T21:21:37+00:00"
         ],
         "xaxis": "x",
         "y": [
          3,
          3,
          3
         ],
         "yaxis": "y"
        },
        {
         "hovertemplate": "user_id=77<br>started_at=%{x}<br>score=%{y}<extra></extra>",
         "legendgroup": "77",
         "line": {
          "color": "#EF553B",
          "dash": "solid"
         },
         "mode": "markers+lines",
         "name": "77",
         "orientation": "v",
         "showlegend": true,
         "type": "scatter",
         "x": [
          "2020-10-27T20:32:29+00:00",
          "2020-10-28T22:46:27+00:00",
          "2020-10-29T22:09:53+00:00"
         ],
         "xaxis": "x",
         "y": [
          3,
          3,
          3
         ],
         "yaxis": "y"
        },
        {
         "hovertemplate": "user_id=3273<br>started_at=%{x}<br>score=%{y}<extra></extra>",
         "legendgroup": "3273",
         "line": {
          "color": "#00cc96",
          "dash": "solid"
         },
         "mode": "markers+lines",
         "name": "3273",
         "orientation": "v",
         "showlegend": true,
         "type": "scatter",
         "x": [
          "2020-10-27T20:44:43+00:00",
          "2020-10-28T22:54:50+00:00",
          "2020-10-30T17:03:59+00:00"
         ],
         "xaxis": "x",
         "y": [
          2,
          2,
          2
         ],
         "yaxis": "y"
        },
        {
         "hovertemplate": "user_id=555<br>started_at=%{x}<br>score=%{y}<extra></extra>",
         "legendgroup": "555",
         "line": {
          "color": "#ab63fa",
          "dash": "solid"
         },
         "mode": "markers+lines",
         "name": "555",
         "orientation": "v",
         "showlegend": true,
         "type": "scatter",
         "x": [
          "2020-10-27T20:57:25+00:00",
          "2020-10-27T20:57:25+00:00",
          "2020-10-27T23:42:40+00:00",
          "2020-10-28T23:49:41+00:00"
         ],
         "xaxis": "x",
         "y": [
          3,
          2,
          2,
          2
         ],
         "yaxis": "y"
        },
        {
         "hovertemplate": "user_id=3139<br>started_at=%{x}<br>score=%{y}<extra></extra>",
         "legendgroup": "3139",
         "line": {
          "color": "#FFA15A",
          "dash": "solid"
         },
         "mode": "markers+lines",
         "name": "3139",
         "orientation": "v",
         "showlegend": true,
         "type": "scatter",
         "x": [
          "2020-10-27T20:57:26+00:00",
          "2020-10-27T20:58:15+00:00",
          "2020-10-28T23:27:16+00:00"
         ],
         "xaxis": "x",
         "y": [
          2,
          2,
          2
         ],
         "yaxis": "y"
        },
        {
         "hovertemplate": "user_id=3298<br>started_at=%{x}<br>score=%{y}<extra></extra>",
         "legendgroup": "3298",
         "line": {
          "color": "#19d3f3",
          "dash": "solid"
         },
         "mode": "markers+lines",
         "name": "3298",
         "orientation": "v",
         "showlegend": true,
         "type": "scatter",
         "x": [
          "2020-10-27T20:58:09+00:00",
          "2020-10-27T21:04:33+00:00",
          "2020-10-28T23:26:22+00:00"
         ],
         "xaxis": "x",
         "y": [
          3,
          3,
          3
         ],
         "yaxis": "y"
        },
        {
         "hovertemplate": "user_id=2726<br>started_at=%{x}<br>score=%{y}<extra></extra>",
         "legendgroup": "2726",
         "line": {
          "color": "#FF6692",
          "dash": "solid"
         },
         "mode": "markers+lines",
         "name": "2726",
         "orientation": "v",
         "showlegend": true,
         "type": "scatter",
         "x": [
          "2020-10-27T21:08:00+00:00",
          "2020-10-28T21:02:55+00:00",
          "2020-10-29T01:50:33+00:00"
         ],
         "xaxis": "x",
         "y": [
          3,
          3,
          2
         ],
         "yaxis": "y"
        },
        {
         "hovertemplate": "user_id=453<br>started_at=%{x}<br>score=%{y}<extra></extra>",
         "legendgroup": "453",
         "line": {
          "color": "#B6E880",
          "dash": "solid"
         },
         "mode": "markers+lines",
         "name": "453",
         "orientation": "v",
         "showlegend": true,
         "type": "scatter",
         "x": [
          "2020-10-27T21:09:22+00:00",
          "2020-10-28T23:04:05+00:00"
         ],
         "xaxis": "x",
         "y": [
          3,
          1
         ],
         "yaxis": "y"
        },
        {
         "hovertemplate": "user_id=2452<br>started_at=%{x}<br>score=%{y}<extra></extra>",
         "legendgroup": "2452",
         "line": {
          "color": "#FF97FF",
          "dash": "solid"
         },
         "mode": "markers+lines",
         "name": "2452",
         "orientation": "v",
         "showlegend": true,
         "type": "scatter",
         "x": [
          "2020-10-27T21:12:57+00:00",
          "2020-10-27T23:29:57+00:00",
          "2020-10-29T01:15:13+00:00"
         ],
         "xaxis": "x",
         "y": [
          3,
          3,
          2
         ],
         "yaxis": "y"
        },
        {
         "hovertemplate": "user_id=3339<br>started_at=%{x}<br>score=%{y}<extra></extra>",
         "legendgroup": "3339",
         "line": {
          "color": "#FECB52",
          "dash": "solid"
         },
         "mode": "markers+lines",
         "name": "3339",
         "orientation": "v",
         "showlegend": true,
         "type": "scatter",
         "x": [
          "2020-10-27T21:13:02+00:00",
          "2020-10-27T21:14:33+00:00",
          "2020-10-29T23:05:01+00:00"
         ],
         "xaxis": "x",
         "y": [
          3,
          3,
          3
         ],
         "yaxis": "y"
        },
        {
         "hovertemplate": "user_id=2458<br>started_at=%{x}<br>score=%{y}<extra></extra>",
         "legendgroup": "2458",
         "line": {
          "color": "#636efa",
          "dash": "solid"
         },
         "mode": "markers+lines",
         "name": "2458",
         "orientation": "v",
         "showlegend": true,
         "type": "scatter",
         "x": [
          "2020-10-27T21:19:11+00:00",
          "2020-11-13T15:56:28+00:00"
         ],
         "xaxis": "x",
         "y": [
          2,
          2
         ],
         "yaxis": "y"
        },
        {
         "hovertemplate": "user_id=3268<br>started_at=%{x}<br>score=%{y}<extra></extra>",
         "legendgroup": "3268",
         "line": {
          "color": "#EF553B",
          "dash": "solid"
         },
         "mode": "markers+lines",
         "name": "3268",
         "orientation": "v",
         "showlegend": true,
         "type": "scatter",
         "x": [
          "2020-10-27T21:21:35+00:00",
          "2020-10-28T20:40:17+00:00",
          "2020-10-30T22:02:49+00:00"
         ],
         "xaxis": "x",
         "y": [
          3,
          3,
          2
         ],
         "yaxis": "y"
        },
        {
         "hovertemplate": "user_id=623<br>started_at=%{x}<br>score=%{y}<extra></extra>",
         "legendgroup": "623",
         "line": {
          "color": "#00cc96",
          "dash": "solid"
         },
         "mode": "markers+lines",
         "name": "623",
         "orientation": "v",
         "showlegend": true,
         "type": "scatter",
         "x": [
          "2020-10-27T21:22:13+00:00"
         ],
         "xaxis": "x",
         "y": [
          2
         ],
         "yaxis": "y"
        },
        {
         "hovertemplate": "user_id=590<br>started_at=%{x}<br>score=%{y}<extra></extra>",
         "legendgroup": "590",
         "line": {
          "color": "#ab63fa",
          "dash": "solid"
         },
         "mode": "markers+lines",
         "name": "590",
         "orientation": "v",
         "showlegend": true,
         "type": "scatter",
         "x": [
          "2020-10-27T21:32:31+00:00"
         ],
         "xaxis": "x",
         "y": [
          1
         ],
         "yaxis": "y"
        },
        {
         "hovertemplate": "user_id=3322<br>started_at=%{x}<br>score=%{y}<extra></extra>",
         "legendgroup": "3322",
         "line": {
          "color": "#FFA15A",
          "dash": "solid"
         },
         "mode": "markers+lines",
         "name": "3322",
         "orientation": "v",
         "showlegend": true,
         "type": "scatter",
         "x": [
          "2020-10-27T21:48:18+00:00",
          "2020-10-28T06:29:51+00:00",
          "2020-10-28T06:35:26+00:00"
         ],
         "xaxis": "x",
         "y": [
          3,
          3,
          2
         ],
         "yaxis": "y"
        },
        {
         "hovertemplate": "user_id=82<br>started_at=%{x}<br>score=%{y}<extra></extra>",
         "legendgroup": "82",
         "line": {
          "color": "#19d3f3",
          "dash": "solid"
         },
         "mode": "markers+lines",
         "name": "82",
         "orientation": "v",
         "showlegend": true,
         "type": "scatter",
         "x": [
          "2020-10-27T21:54:13+00:00"
         ],
         "xaxis": "x",
         "y": [
          2
         ],
         "yaxis": "y"
        },
        {
         "hovertemplate": "user_id=3341<br>started_at=%{x}<br>score=%{y}<extra></extra>",
         "legendgroup": "3341",
         "line": {
          "color": "#FF6692",
          "dash": "solid"
         },
         "mode": "markers+lines",
         "name": "3341",
         "orientation": "v",
         "showlegend": true,
         "type": "scatter",
         "x": [
          "2020-10-27T22:06:14+00:00",
          "2020-10-28T20:42:14+00:00"
         ],
         "xaxis": "x",
         "y": [
          2,
          2
         ],
         "yaxis": "y"
        },
        {
         "hovertemplate": "user_id=2456<br>started_at=%{x}<br>score=%{y}<extra></extra>",
         "legendgroup": "2456",
         "line": {
          "color": "#B6E880",
          "dash": "solid"
         },
         "mode": "markers+lines",
         "name": "2456",
         "orientation": "v",
         "showlegend": true,
         "type": "scatter",
         "x": [
          "2020-10-27T22:11:17+00:00",
          "2020-10-27T23:29:39+00:00",
          "2020-10-29T05:37:27+00:00"
         ],
         "xaxis": "x",
         "y": [
          3,
          3,
          3
         ],
         "yaxis": "y"
        },
        {
         "hovertemplate": "user_id=2460<br>started_at=%{x}<br>score=%{y}<extra></extra>",
         "legendgroup": "2460",
         "line": {
          "color": "#FF97FF",
          "dash": "solid"
         },
         "mode": "markers+lines",
         "name": "2460",
         "orientation": "v",
         "showlegend": true,
         "type": "scatter",
         "x": [
          "2020-10-27T22:13:35+00:00"
         ],
         "xaxis": "x",
         "y": [
          3
         ],
         "yaxis": "y"
        },
        {
         "hovertemplate": "user_id=3311<br>started_at=%{x}<br>score=%{y}<extra></extra>",
         "legendgroup": "3311",
         "line": {
          "color": "#FECB52",
          "dash": "solid"
         },
         "mode": "markers+lines",
         "name": "3311",
         "orientation": "v",
         "showlegend": true,
         "type": "scatter",
         "x": [
          "2020-10-27T22:15:59+00:00",
          "2020-10-28T22:34:23+00:00"
         ],
         "xaxis": "x",
         "y": [
          2,
          2
         ],
         "yaxis": "y"
        },
        {
         "hovertemplate": "user_id=458<br>started_at=%{x}<br>score=%{y}<extra></extra>",
         "legendgroup": "458",
         "line": {
          "color": "#636efa",
          "dash": "solid"
         },
         "mode": "markers+lines",
         "name": "458",
         "orientation": "v",
         "showlegend": true,
         "type": "scatter",
         "x": [
          "2020-10-27T22:17:57+00:00"
         ],
         "xaxis": "x",
         "y": [
          3
         ],
         "yaxis": "y"
        },
        {
         "hovertemplate": "user_id=570<br>started_at=%{x}<br>score=%{y}<extra></extra>",
         "legendgroup": "570",
         "line": {
          "color": "#EF553B",
          "dash": "solid"
         },
         "mode": "markers+lines",
         "name": "570",
         "orientation": "v",
         "showlegend": true,
         "type": "scatter",
         "x": [
          "2020-10-27T22:33:08+00:00",
          "2020-10-27T23:41:59+00:00"
         ],
         "xaxis": "x",
         "y": [
          1,
          1
         ],
         "yaxis": "y"
        },
        {
         "hovertemplate": "user_id=123<br>started_at=%{x}<br>score=%{y}<extra></extra>",
         "legendgroup": "123",
         "line": {
          "color": "#00cc96",
          "dash": "solid"
         },
         "mode": "markers+lines",
         "name": "123",
         "orientation": "v",
         "showlegend": true,
         "type": "scatter",
         "x": [
          "2020-10-27T22:34:44+00:00",
          "2020-10-28T22:45:46+00:00",
          "2020-10-29T20:35:35+00:00"
         ],
         "xaxis": "x",
         "y": [
          2,
          2,
          2
         ],
         "yaxis": "y"
        },
        {
         "hovertemplate": "user_id=3357<br>started_at=%{x}<br>score=%{y}<extra></extra>",
         "legendgroup": "3357",
         "line": {
          "color": "#ab63fa",
          "dash": "solid"
         },
         "mode": "markers+lines",
         "name": "3357",
         "orientation": "v",
         "showlegend": true,
         "type": "scatter",
         "x": [
          "2020-10-27T22:44:39+00:00",
          "2020-10-27T23:57:10+00:00",
          "2020-10-30T18:13:42+00:00"
         ],
         "xaxis": "x",
         "y": [
          3,
          2,
          3
         ],
         "yaxis": "y"
        },
        {
         "hovertemplate": "user_id=3309<br>started_at=%{x}<br>score=%{y}<extra></extra>",
         "legendgroup": "3309",
         "line": {
          "color": "#FFA15A",
          "dash": "solid"
         },
         "mode": "markers+lines",
         "name": "3309",
         "orientation": "v",
         "showlegend": true,
         "type": "scatter",
         "x": [
          "2020-10-27T22:47:36+00:00",
          "2020-10-27T22:49:07+00:00"
         ],
         "xaxis": "x",
         "y": [
          2,
          2
         ],
         "yaxis": "y"
        },
        {
         "hovertemplate": "user_id=3269<br>started_at=%{x}<br>score=%{y}<extra></extra>",
         "legendgroup": "3269",
         "line": {
          "color": "#19d3f3",
          "dash": "solid"
         },
         "mode": "markers+lines",
         "name": "3269",
         "orientation": "v",
         "showlegend": true,
         "type": "scatter",
         "x": [
          "2020-10-27T22:54:18+00:00",
          "2020-10-28T22:29:08+00:00",
          "2020-10-28T23:00:11+00:00"
         ],
         "xaxis": "x",
         "y": [
          3,
          2,
          2
         ],
         "yaxis": "y"
        },
        {
         "hovertemplate": "user_id=1217<br>started_at=%{x}<br>score=%{y}<extra></extra>",
         "legendgroup": "1217",
         "line": {
          "color": "#FF6692",
          "dash": "solid"
         },
         "mode": "markers+lines",
         "name": "1217",
         "orientation": "v",
         "showlegend": true,
         "type": "scatter",
         "x": [
          "2020-10-27T22:56:31+00:00"
         ],
         "xaxis": "x",
         "y": [
          2
         ],
         "yaxis": "y"
        },
        {
         "hovertemplate": "user_id=3312<br>started_at=%{x}<br>score=%{y}<extra></extra>",
         "legendgroup": "3312",
         "line": {
          "color": "#B6E880",
          "dash": "solid"
         },
         "mode": "markers+lines",
         "name": "3312",
         "orientation": "v",
         "showlegend": true,
         "type": "scatter",
         "x": [
          "2020-10-27T22:57:06+00:00",
          "2020-10-28T19:09:59+00:00",
          "2020-10-30T03:23:06+00:00"
         ],
         "xaxis": "x",
         "y": [
          3,
          3,
          2
         ],
         "yaxis": "y"
        },
        {
         "hovertemplate": "user_id=2865<br>started_at=%{x}<br>score=%{y}<extra></extra>",
         "legendgroup": "2865",
         "line": {
          "color": "#FF97FF",
          "dash": "solid"
         },
         "mode": "markers+lines",
         "name": "2865",
         "orientation": "v",
         "showlegend": true,
         "type": "scatter",
         "x": [
          "2020-10-27T22:57:24+00:00",
          "2020-10-27T23:19:23+00:00",
          "2020-10-28T23:17:03+00:00"
         ],
         "xaxis": "x",
         "y": [
          3,
          3,
          3
         ],
         "yaxis": "y"
        },
        {
         "hovertemplate": "user_id=541<br>started_at=%{x}<br>score=%{y}<extra></extra>",
         "legendgroup": "541",
         "line": {
          "color": "#FECB52",
          "dash": "solid"
         },
         "mode": "markers+lines",
         "name": "541",
         "orientation": "v",
         "showlegend": true,
         "type": "scatter",
         "x": [
          "2020-10-27T22:59:36+00:00",
          "2020-10-29T01:11:16+00:00"
         ],
         "xaxis": "x",
         "y": [
          3,
          3
         ],
         "yaxis": "y"
        },
        {
         "hovertemplate": "user_id=1122<br>started_at=%{x}<br>score=%{y}<extra></extra>",
         "legendgroup": "1122",
         "line": {
          "color": "#636efa",
          "dash": "solid"
         },
         "mode": "markers+lines",
         "name": "1122",
         "orientation": "v",
         "showlegend": true,
         "type": "scatter",
         "x": [
          "2020-10-27T23:01:55+00:00"
         ],
         "xaxis": "x",
         "y": [
          2
         ],
         "yaxis": "y"
        },
        {
         "hovertemplate": "user_id=3265<br>started_at=%{x}<br>score=%{y}<extra></extra>",
         "legendgroup": "3265",
         "line": {
          "color": "#EF553B",
          "dash": "solid"
         },
         "mode": "markers+lines",
         "name": "3265",
         "orientation": "v",
         "showlegend": true,
         "type": "scatter",
         "x": [
          "2020-10-27T23:02:26+00:00",
          "2020-10-28T23:28:11+00:00"
         ],
         "xaxis": "x",
         "y": [
          3,
          3
         ],
         "yaxis": "y"
        },
        {
         "hovertemplate": "user_id=524<br>started_at=%{x}<br>score=%{y}<extra></extra>",
         "legendgroup": "524",
         "line": {
          "color": "#00cc96",
          "dash": "solid"
         },
         "mode": "markers+lines",
         "name": "524",
         "orientation": "v",
         "showlegend": true,
         "type": "scatter",
         "x": [
          "2020-10-27T23:03:14+00:00"
         ],
         "xaxis": "x",
         "y": [
          3
         ],
         "yaxis": "y"
        },
        {
         "hovertemplate": "user_id=608<br>started_at=%{x}<br>score=%{y}<extra></extra>",
         "legendgroup": "608",
         "line": {
          "color": "#ab63fa",
          "dash": "solid"
         },
         "mode": "markers+lines",
         "name": "608",
         "orientation": "v",
         "showlegend": true,
         "type": "scatter",
         "x": [
          "2020-10-27T23:03:24+00:00",
          "2020-10-28T00:07:49+00:00"
         ],
         "xaxis": "x",
         "y": [
          2,
          2
         ],
         "yaxis": "y"
        },
        {
         "hovertemplate": "user_id=3264<br>started_at=%{x}<br>score=%{y}<extra></extra>",
         "legendgroup": "3264",
         "line": {
          "color": "#FFA15A",
          "dash": "solid"
         },
         "mode": "markers+lines",
         "name": "3264",
         "orientation": "v",
         "showlegend": true,
         "type": "scatter",
         "x": [
          "2020-10-27T23:05:24+00:00",
          "2020-10-27T23:29:49+00:00",
          "2020-10-28T23:23:52+00:00"
         ],
         "xaxis": "x",
         "y": [
          3,
          3,
          3
         ],
         "yaxis": "y"
        },
        {
         "hovertemplate": "user_id=998<br>started_at=%{x}<br>score=%{y}<extra></extra>",
         "legendgroup": "998",
         "line": {
          "color": "#19d3f3",
          "dash": "solid"
         },
         "mode": "markers+lines",
         "name": "998",
         "orientation": "v",
         "showlegend": true,
         "type": "scatter",
         "x": [
          "2020-10-27T23:06:06+00:00",
          "2020-10-27T23:35:37+00:00",
          "2020-10-29T02:51:52+00:00"
         ],
         "xaxis": "x",
         "y": [
          3,
          2,
          3
         ],
         "yaxis": "y"
        },
        {
         "hovertemplate": "user_id=3162<br>started_at=%{x}<br>score=%{y}<extra></extra>",
         "legendgroup": "3162",
         "line": {
          "color": "#FF6692",
          "dash": "solid"
         },
         "mode": "markers+lines",
         "name": "3162",
         "orientation": "v",
         "showlegend": true,
         "type": "scatter",
         "x": [
          "2020-10-27T23:07:45+00:00"
         ],
         "xaxis": "x",
         "y": [
          2
         ],
         "yaxis": "y"
        },
        {
         "hovertemplate": "user_id=2419<br>started_at=%{x}<br>score=%{y}<extra></extra>",
         "legendgroup": "2419",
         "line": {
          "color": "#B6E880",
          "dash": "solid"
         },
         "mode": "markers+lines",
         "name": "2419",
         "orientation": "v",
         "showlegend": true,
         "type": "scatter",
         "x": [
          "2020-10-27T23:11:18+00:00",
          "2020-10-27T23:11:49+00:00",
          "2020-10-28T23:10:24+00:00"
         ],
         "xaxis": "x",
         "y": [
          2,
          2,
          2
         ],
         "yaxis": "y"
        },
        {
         "hovertemplate": "user_id=3157<br>started_at=%{x}<br>score=%{y}<extra></extra>",
         "legendgroup": "3157",
         "line": {
          "color": "#FF97FF",
          "dash": "solid"
         },
         "mode": "markers+lines",
         "name": "3157",
         "orientation": "v",
         "showlegend": true,
         "type": "scatter",
         "x": [
          "2020-10-27T23:14:49+00:00",
          "2020-10-27T23:59:20+00:00",
          "2020-10-28T23:40:11+00:00"
         ],
         "xaxis": "x",
         "y": [
          3,
          3,
          3
         ],
         "yaxis": "y"
        },
        {
         "hovertemplate": "user_id=3147<br>started_at=%{x}<br>score=%{y}<extra></extra>",
         "legendgroup": "3147",
         "line": {
          "color": "#FECB52",
          "dash": "solid"
         },
         "mode": "markers+lines",
         "name": "3147",
         "orientation": "v",
         "showlegend": true,
         "type": "scatter",
         "x": [
          "2020-10-27T23:18:56+00:00",
          "2020-11-10T03:50:36+00:00"
         ],
         "xaxis": "x",
         "y": [
          3,
          3
         ],
         "yaxis": "y"
        },
        {
         "hovertemplate": "user_id=3192<br>started_at=%{x}<br>score=%{y}<extra></extra>",
         "legendgroup": "3192",
         "line": {
          "color": "#636efa",
          "dash": "solid"
         },
         "mode": "markers+lines",
         "name": "3192",
         "orientation": "v",
         "showlegend": true,
         "type": "scatter",
         "x": [
          "2020-10-27T23:19:51+00:00",
          "2020-10-27T23:22:55+00:00",
          "2020-10-27T23:23:51+00:00"
         ],
         "xaxis": "x",
         "y": [
          3,
          3,
          3
         ],
         "yaxis": "y"
        },
        {
         "hovertemplate": "user_id=565<br>started_at=%{x}<br>score=%{y}<extra></extra>",
         "legendgroup": "565",
         "line": {
          "color": "#EF553B",
          "dash": "solid"
         },
         "mode": "markers+lines",
         "name": "565",
         "orientation": "v",
         "showlegend": true,
         "type": "scatter",
         "x": [
          "2020-10-27T23:23:38+00:00"
         ],
         "xaxis": "x",
         "y": [
          2
         ],
         "yaxis": "y"
        },
        {
         "hovertemplate": "user_id=3485<br>started_at=%{x}<br>score=%{y}<extra></extra>",
         "legendgroup": "3485",
         "line": {
          "color": "#00cc96",
          "dash": "solid"
         },
         "mode": "markers+lines",
         "name": "3485",
         "orientation": "v",
         "showlegend": true,
         "type": "scatter",
         "x": [
          "2020-10-27T23:33:53+00:00",
          "2020-10-27T23:34:52+00:00"
         ],
         "xaxis": "x",
         "y": [
          3,
          3
         ],
         "yaxis": "y"
        },
        {
         "hovertemplate": "user_id=459<br>started_at=%{x}<br>score=%{y}<extra></extra>",
         "legendgroup": "459",
         "line": {
          "color": "#ab63fa",
          "dash": "solid"
         },
         "mode": "markers+lines",
         "name": "459",
         "orientation": "v",
         "showlegend": true,
         "type": "scatter",
         "x": [
          "2020-10-27T23:36:48+00:00"
         ],
         "xaxis": "x",
         "y": [
          3
         ],
         "yaxis": "y"
        },
        {
         "hovertemplate": "user_id=3283<br>started_at=%{x}<br>score=%{y}<extra></extra>",
         "legendgroup": "3283",
         "line": {
          "color": "#FFA15A",
          "dash": "solid"
         },
         "mode": "markers+lines",
         "name": "3283",
         "orientation": "v",
         "showlegend": true,
         "type": "scatter",
         "x": [
          "2020-10-27T23:43:04+00:00",
          "2020-10-29T23:06:05+00:00",
          "2020-10-29T23:07:12+00:00"
         ],
         "xaxis": "x",
         "y": [
          1,
          1,
          1
         ],
         "yaxis": "y"
        },
        {
         "hovertemplate": "user_id=999<br>started_at=%{x}<br>score=%{y}<extra></extra>",
         "legendgroup": "999",
         "line": {
          "color": "#19d3f3",
          "dash": "solid"
         },
         "mode": "markers+lines",
         "name": "999",
         "orientation": "v",
         "showlegend": true,
         "type": "scatter",
         "x": [
          "2020-10-27T23:54:18+00:00"
         ],
         "xaxis": "x",
         "y": [
          2
         ],
         "yaxis": "y"
        },
        {
         "hovertemplate": "user_id=3314<br>started_at=%{x}<br>score=%{y}<extra></extra>",
         "legendgroup": "3314",
         "line": {
          "color": "#FF6692",
          "dash": "solid"
         },
         "mode": "markers+lines",
         "name": "3314",
         "orientation": "v",
         "showlegend": true,
         "type": "scatter",
         "x": [
          "2020-10-28T00:10:35+00:00",
          "2020-10-28T21:44:53+00:00",
          "2020-10-29T00:41:37+00:00"
         ],
         "xaxis": "x",
         "y": [
          2,
          2,
          2
         ],
         "yaxis": "y"
        },
        {
         "hovertemplate": "user_id=1006<br>started_at=%{x}<br>score=%{y}<extra></extra>",
         "legendgroup": "1006",
         "line": {
          "color": "#B6E880",
          "dash": "solid"
         },
         "mode": "markers+lines",
         "name": "1006",
         "orientation": "v",
         "showlegend": true,
         "type": "scatter",
         "x": [
          "2020-10-28T00:19:48+00:00"
         ],
         "xaxis": "x",
         "y": [
          3
         ],
         "yaxis": "y"
        },
        {
         "hovertemplate": "user_id=521<br>started_at=%{x}<br>score=%{y}<extra></extra>",
         "legendgroup": "521",
         "line": {
          "color": "#FF97FF",
          "dash": "solid"
         },
         "mode": "markers+lines",
         "name": "521",
         "orientation": "v",
         "showlegend": true,
         "type": "scatter",
         "x": [
          "2020-10-28T00:41:24+00:00",
          "2020-10-29T01:09:41+00:00"
         ],
         "xaxis": "x",
         "y": [
          3,
          3
         ],
         "yaxis": "y"
        },
        {
         "hovertemplate": "user_id=3285<br>started_at=%{x}<br>score=%{y}<extra></extra>",
         "legendgroup": "3285",
         "line": {
          "color": "#FECB52",
          "dash": "solid"
         },
         "mode": "markers+lines",
         "name": "3285",
         "orientation": "v",
         "showlegend": true,
         "type": "scatter",
         "x": [
          "2020-10-28T01:30:26+00:00",
          "2020-10-28T01:31:31+00:00",
          "2020-10-29T22:52:03+00:00"
         ],
         "xaxis": "x",
         "y": [
          3,
          3,
          3
         ],
         "yaxis": "y"
        },
        {
         "hovertemplate": "user_id=3323<br>started_at=%{x}<br>score=%{y}<extra></extra>",
         "legendgroup": "3323",
         "line": {
          "color": "#636efa",
          "dash": "solid"
         },
         "mode": "markers+lines",
         "name": "3323",
         "orientation": "v",
         "showlegend": true,
         "type": "scatter",
         "x": [
          "2020-10-28T01:57:07+00:00",
          "2020-10-28T01:58:52+00:00",
          "2020-10-28T02:00:28+00:00"
         ],
         "xaxis": "x",
         "y": [
          3,
          3,
          3
         ],
         "yaxis": "y"
        },
        {
         "hovertemplate": "user_id=1157<br>started_at=%{x}<br>score=%{y}<extra></extra>",
         "legendgroup": "1157",
         "line": {
          "color": "#EF553B",
          "dash": "solid"
         },
         "mode": "markers+lines",
         "name": "1157",
         "orientation": "v",
         "showlegend": true,
         "type": "scatter",
         "x": [
          "2020-10-28T01:59:43+00:00",
          "2020-10-28T21:49:06+00:00"
         ],
         "xaxis": "x",
         "y": [
          3,
          3
         ],
         "yaxis": "y"
        },
        {
         "hovertemplate": "user_id=1265<br>started_at=%{x}<br>score=%{y}<extra></extra>",
         "legendgroup": "1265",
         "line": {
          "color": "#00cc96",
          "dash": "solid"
         },
         "mode": "markers+lines",
         "name": "1265",
         "orientation": "v",
         "showlegend": true,
         "type": "scatter",
         "x": [
          "2020-10-28T02:14:06+00:00",
          "2020-10-28T02:15:33+00:00",
          "2020-10-29T03:54:10+00:00"
         ],
         "xaxis": "x",
         "y": [
          2,
          2,
          2
         ],
         "yaxis": "y"
        },
        {
         "hovertemplate": "user_id=3153<br>started_at=%{x}<br>score=%{y}<extra></extra>",
         "legendgroup": "3153",
         "line": {
          "color": "#ab63fa",
          "dash": "solid"
         },
         "mode": "markers+lines",
         "name": "3153",
         "orientation": "v",
         "showlegend": true,
         "type": "scatter",
         "x": [
          "2020-10-28T02:43:38+00:00",
          "2020-11-09T15:50:14+00:00",
          "2020-11-09T15:50:58+00:00"
         ],
         "xaxis": "x",
         "y": [
          1,
          3,
          3
         ],
         "yaxis": "y"
        },
        {
         "hovertemplate": "user_id=3284<br>started_at=%{x}<br>score=%{y}<extra></extra>",
         "legendgroup": "3284",
         "line": {
          "color": "#FFA15A",
          "dash": "solid"
         },
         "mode": "markers+lines",
         "name": "3284",
         "orientation": "v",
         "showlegend": true,
         "type": "scatter",
         "x": [
          "2020-10-28T03:19:42+00:00",
          "2020-10-28T03:23:01+00:00",
          "2020-10-29T00:53:05+00:00"
         ],
         "xaxis": "x",
         "y": [
          2,
          2,
          2
         ],
         "yaxis": "y"
        },
        {
         "hovertemplate": "user_id=1212<br>started_at=%{x}<br>score=%{y}<extra></extra>",
         "legendgroup": "1212",
         "line": {
          "color": "#19d3f3",
          "dash": "solid"
         },
         "mode": "markers+lines",
         "name": "1212",
         "orientation": "v",
         "showlegend": true,
         "type": "scatter",
         "x": [
          "2020-10-28T03:41:46+00:00",
          "2020-10-28T03:42:09+00:00",
          "2020-10-31T14:17:26+00:00"
         ],
         "xaxis": "x",
         "y": [
          2,
          2,
          2
         ],
         "yaxis": "y"
        },
        {
         "hovertemplate": "user_id=1115<br>started_at=%{x}<br>score=%{y}<extra></extra>",
         "legendgroup": "1115",
         "line": {
          "color": "#FF6692",
          "dash": "solid"
         },
         "mode": "markers+lines",
         "name": "1115",
         "orientation": "v",
         "showlegend": true,
         "type": "scatter",
         "x": [
          "2020-10-28T04:17:58+00:00",
          "2020-10-29T09:45:15+00:00"
         ],
         "xaxis": "x",
         "y": [
          2,
          2
         ],
         "yaxis": "y"
        },
        {
         "hovertemplate": "user_id=827<br>started_at=%{x}<br>score=%{y}<extra></extra>",
         "legendgroup": "827",
         "line": {
          "color": "#B6E880",
          "dash": "solid"
         },
         "mode": "markers+lines",
         "name": "827",
         "orientation": "v",
         "showlegend": true,
         "type": "scatter",
         "x": [
          "2020-10-28T04:24:44+00:00",
          "2020-11-11T01:56:34+00:00",
          "2020-11-11T01:57:01+00:00"
         ],
         "xaxis": "x",
         "y": [
          2,
          2,
          2
         ],
         "yaxis": "y"
        },
        {
         "hovertemplate": "user_id=1272<br>started_at=%{x}<br>score=%{y}<extra></extra>",
         "legendgroup": "1272",
         "line": {
          "color": "#FF97FF",
          "dash": "solid"
         },
         "mode": "markers+lines",
         "name": "1272",
         "orientation": "v",
         "showlegend": true,
         "type": "scatter",
         "x": [
          "2020-10-28T05:23:47+00:00",
          "2020-11-04T14:56:39+00:00",
          "2020-11-04T14:58:58+00:00"
         ],
         "xaxis": "x",
         "y": [
          2,
          2,
          2
         ],
         "yaxis": "y"
        },
        {
         "hovertemplate": "user_id=3347<br>started_at=%{x}<br>score=%{y}<extra></extra>",
         "legendgroup": "3347",
         "line": {
          "color": "#FECB52",
          "dash": "solid"
         },
         "mode": "markers+lines",
         "name": "3347",
         "orientation": "v",
         "showlegend": true,
         "type": "scatter",
         "x": [
          "2020-10-28T05:43:12+00:00"
         ],
         "xaxis": "x",
         "y": [
          1
         ],
         "yaxis": "y"
        },
        {
         "hovertemplate": "user_id=509<br>started_at=%{x}<br>score=%{y}<extra></extra>",
         "legendgroup": "509",
         "line": {
          "color": "#636efa",
          "dash": "solid"
         },
         "mode": "markers+lines",
         "name": "509",
         "orientation": "v",
         "showlegend": true,
         "type": "scatter",
         "x": [
          "2020-10-28T05:59:25+00:00",
          "2020-10-29T05:57:23+00:00"
         ],
         "xaxis": "x",
         "y": [
          3,
          3
         ],
         "yaxis": "y"
        },
        {
         "hovertemplate": "user_id=2424<br>started_at=%{x}<br>score=%{y}<extra></extra>",
         "legendgroup": "2424",
         "line": {
          "color": "#EF553B",
          "dash": "solid"
         },
         "mode": "markers+lines",
         "name": "2424",
         "orientation": "v",
         "showlegend": true,
         "type": "scatter",
         "x": [
          "2020-10-28T06:30:31+00:00"
         ],
         "xaxis": "x",
         "y": [
          2
         ],
         "yaxis": "y"
        },
        {
         "hovertemplate": "user_id=1278<br>started_at=%{x}<br>score=%{y}<extra></extra>",
         "legendgroup": "1278",
         "line": {
          "color": "#00cc96",
          "dash": "solid"
         },
         "mode": "markers+lines",
         "name": "1278",
         "orientation": "v",
         "showlegend": true,
         "type": "scatter",
         "x": [
          "2020-10-28T14:54:30+00:00"
         ],
         "xaxis": "x",
         "y": [
          2
         ],
         "yaxis": "y"
        },
        {
         "hovertemplate": "user_id=3271<br>started_at=%{x}<br>score=%{y}<extra></extra>",
         "legendgroup": "3271",
         "line": {
          "color": "#ab63fa",
          "dash": "solid"
         },
         "mode": "markers+lines",
         "name": "3271",
         "orientation": "v",
         "showlegend": true,
         "type": "scatter",
         "x": [
          "2020-10-28T15:20:47+00:00",
          "2020-10-28T15:21:49+00:00",
          "2020-10-28T21:40:07+00:00"
         ],
         "xaxis": "x",
         "y": [
          3,
          3,
          3
         ],
         "yaxis": "y"
        },
        {
         "hovertemplate": "user_id=518<br>started_at=%{x}<br>score=%{y}<extra></extra>",
         "legendgroup": "518",
         "line": {
          "color": "#FFA15A",
          "dash": "solid"
         },
         "mode": "markers+lines",
         "name": "518",
         "orientation": "v",
         "showlegend": true,
         "type": "scatter",
         "x": [
          "2020-10-28T15:25:19+00:00",
          "2020-10-28T15:29:24+00:00"
         ],
         "xaxis": "x",
         "y": [
          1,
          1
         ],
         "yaxis": "y"
        },
        {
         "hovertemplate": "user_id=523<br>started_at=%{x}<br>score=%{y}<extra></extra>",
         "legendgroup": "523",
         "line": {
          "color": "#19d3f3",
          "dash": "solid"
         },
         "mode": "markers+lines",
         "name": "523",
         "orientation": "v",
         "showlegend": true,
         "type": "scatter",
         "x": [
          "2020-10-28T16:09:13+00:00",
          "2020-10-28T16:10:04+00:00",
          "2020-10-29T17:26:01+00:00"
         ],
         "xaxis": "x",
         "y": [
          2,
          2,
          2
         ],
         "yaxis": "y"
        },
        {
         "hovertemplate": "user_id=592<br>started_at=%{x}<br>score=%{y}<extra></extra>",
         "legendgroup": "592",
         "line": {
          "color": "#FF6692",
          "dash": "solid"
         },
         "mode": "markers+lines",
         "name": "592",
         "orientation": "v",
         "showlegend": true,
         "type": "scatter",
         "x": [
          "2020-10-28T19:19:03+00:00",
          "2020-10-28T19:19:53+00:00",
          "2020-10-31T14:36:06+00:00"
         ],
         "xaxis": "x",
         "y": [
          2,
          2,
          2
         ],
         "yaxis": "y"
        },
        {
         "hovertemplate": "user_id=3232<br>started_at=%{x}<br>score=%{y}<extra></extra>",
         "legendgroup": "3232",
         "line": {
          "color": "#B6E880",
          "dash": "solid"
         },
         "mode": "markers+lines",
         "name": "3232",
         "orientation": "v",
         "showlegend": true,
         "type": "scatter",
         "x": [
          "2020-10-28T19:48:51+00:00"
         ],
         "xaxis": "x",
         "y": [
          3
         ],
         "yaxis": "y"
        },
        {
         "hovertemplate": "user_id=2333<br>started_at=%{x}<br>score=%{y}<extra></extra>",
         "legendgroup": "2333",
         "line": {
          "color": "#FF97FF",
          "dash": "solid"
         },
         "mode": "markers+lines",
         "name": "2333",
         "orientation": "v",
         "showlegend": true,
         "type": "scatter",
         "x": [
          "2020-10-28T20:04:46+00:00",
          "2020-10-28T20:05:28+00:00"
         ],
         "xaxis": "x",
         "y": [
          3,
          3
         ],
         "yaxis": "y"
        },
        {
         "hovertemplate": "user_id=3159<br>started_at=%{x}<br>score=%{y}<extra></extra>",
         "legendgroup": "3159",
         "line": {
          "color": "#FECB52",
          "dash": "solid"
         },
         "mode": "markers+lines",
         "name": "3159",
         "orientation": "v",
         "showlegend": true,
         "type": "scatter",
         "x": [
          "2020-10-28T20:17:02+00:00"
         ],
         "xaxis": "x",
         "y": [
          3
         ],
         "yaxis": "y"
        },
        {
         "hovertemplate": "user_id=252<br>started_at=%{x}<br>score=%{y}<extra></extra>",
         "legendgroup": "252",
         "line": {
          "color": "#636efa",
          "dash": "solid"
         },
         "mode": "markers+lines",
         "name": "252",
         "orientation": "v",
         "showlegend": true,
         "type": "scatter",
         "x": [
          "2020-10-28T20:58:28+00:00",
          "2020-10-28T20:59:31+00:00",
          "2020-10-28T23:06:41+00:00"
         ],
         "xaxis": "x",
         "y": [
          2,
          2,
          2
         ],
         "yaxis": "y"
        },
        {
         "hovertemplate": "user_id=567<br>started_at=%{x}<br>score=%{y}<extra></extra>",
         "legendgroup": "567",
         "line": {
          "color": "#EF553B",
          "dash": "solid"
         },
         "mode": "markers+lines",
         "name": "567",
         "orientation": "v",
         "showlegend": true,
         "type": "scatter",
         "x": [
          "2020-10-28T21:14:27+00:00",
          "2020-10-28T21:15:12+00:00",
          "2020-10-28T21:15:52+00:00"
         ],
         "xaxis": "x",
         "y": [
          2,
          2,
          2
         ],
         "yaxis": "y"
        },
        {
         "hovertemplate": "user_id=446<br>started_at=%{x}<br>score=%{y}<extra></extra>",
         "legendgroup": "446",
         "line": {
          "color": "#00cc96",
          "dash": "solid"
         },
         "mode": "markers+lines",
         "name": "446",
         "orientation": "v",
         "showlegend": true,
         "type": "scatter",
         "x": [
          "2020-10-28T22:43:08+00:00",
          "2020-10-28T22:43:51+00:00",
          "2020-10-30T22:45:46+00:00"
         ],
         "xaxis": "x",
         "y": [
          2,
          2,
          2
         ],
         "yaxis": "y"
        },
        {
         "hovertemplate": "user_id=253<br>started_at=%{x}<br>score=%{y}<extra></extra>",
         "legendgroup": "253",
         "line": {
          "color": "#ab63fa",
          "dash": "solid"
         },
         "mode": "markers+lines",
         "name": "253",
         "orientation": "v",
         "showlegend": true,
         "type": "scatter",
         "x": [
          "2020-10-28T23:19:13+00:00"
         ],
         "xaxis": "x",
         "y": [
          3
         ],
         "yaxis": "y"
        },
        {
         "hovertemplate": "user_id=632<br>started_at=%{x}<br>score=%{y}<extra></extra>",
         "legendgroup": "632",
         "line": {
          "color": "#FFA15A",
          "dash": "solid"
         },
         "mode": "markers+lines",
         "name": "632",
         "orientation": "v",
         "showlegend": true,
         "type": "scatter",
         "x": [
          "2020-10-28T23:27:24+00:00"
         ],
         "xaxis": "x",
         "y": [
          2
         ],
         "yaxis": "y"
        },
        {
         "hovertemplate": "user_id=2435<br>started_at=%{x}<br>score=%{y}<extra></extra>",
         "legendgroup": "2435",
         "line": {
          "color": "#19d3f3",
          "dash": "solid"
         },
         "mode": "markers+lines",
         "name": "2435",
         "orientation": "v",
         "showlegend": true,
         "type": "scatter",
         "x": [
          "2020-10-28T23:28:01+00:00"
         ],
         "xaxis": "x",
         "y": [
          3
         ],
         "yaxis": "y"
        },
        {
         "hovertemplate": "user_id=1137<br>started_at=%{x}<br>score=%{y}<extra></extra>",
         "legendgroup": "1137",
         "line": {
          "color": "#FF6692",
          "dash": "solid"
         },
         "mode": "markers+lines",
         "name": "1137",
         "orientation": "v",
         "showlegend": true,
         "type": "scatter",
         "x": [
          "2020-10-28T23:37:51+00:00",
          "2020-10-28T23:38:24+00:00",
          "2020-10-28T23:38:46+00:00"
         ],
         "xaxis": "x",
         "y": [
          2,
          2,
          2
         ],
         "yaxis": "y"
        },
        {
         "hovertemplate": "user_id=551<br>started_at=%{x}<br>score=%{y}<extra></extra>",
         "legendgroup": "551",
         "line": {
          "color": "#B6E880",
          "dash": "solid"
         },
         "mode": "markers+lines",
         "name": "551",
         "orientation": "v",
         "showlegend": true,
         "type": "scatter",
         "x": [
          "2020-10-29T00:02:27+00:00",
          "2020-10-29T00:09:40+00:00",
          "2020-10-29T00:10:05+00:00"
         ],
         "xaxis": "x",
         "y": [
          2,
          2,
          2
         ],
         "yaxis": "y"
        },
        {
         "hovertemplate": "user_id=2462<br>started_at=%{x}<br>score=%{y}<extra></extra>",
         "legendgroup": "2462",
         "line": {
          "color": "#FF97FF",
          "dash": "solid"
         },
         "mode": "markers+lines",
         "name": "2462",
         "orientation": "v",
         "showlegend": true,
         "type": "scatter",
         "x": [
          "2020-10-29T00:09:33+00:00",
          "2020-10-30T16:06:15+00:00"
         ],
         "xaxis": "x",
         "y": [
          3,
          3
         ],
         "yaxis": "y"
        },
        {
         "hovertemplate": "user_id=1149<br>started_at=%{x}<br>score=%{y}<extra></extra>",
         "legendgroup": "1149",
         "line": {
          "color": "#FECB52",
          "dash": "solid"
         },
         "mode": "markers+lines",
         "name": "1149",
         "orientation": "v",
         "showlegend": true,
         "type": "scatter",
         "x": [
          "2020-10-29T00:17:35+00:00",
          "2020-10-29T00:18:14+00:00"
         ],
         "xaxis": "x",
         "y": [
          2,
          2
         ],
         "yaxis": "y"
        },
        {
         "hovertemplate": "user_id=547<br>started_at=%{x}<br>score=%{y}<extra></extra>",
         "legendgroup": "547",
         "line": {
          "color": "#636efa",
          "dash": "solid"
         },
         "mode": "markers+lines",
         "name": "547",
         "orientation": "v",
         "showlegend": true,
         "type": "scatter",
         "x": [
          "2020-10-29T00:23:55+00:00"
         ],
         "xaxis": "x",
         "y": [
          2
         ],
         "yaxis": "y"
        },
        {
         "hovertemplate": "user_id=2468<br>started_at=%{x}<br>score=%{y}<extra></extra>",
         "legendgroup": "2468",
         "line": {
          "color": "#EF553B",
          "dash": "solid"
         },
         "mode": "markers+lines",
         "name": "2468",
         "orientation": "v",
         "showlegend": true,
         "type": "scatter",
         "x": [
          "2020-10-29T01:08:14+00:00"
         ],
         "xaxis": "x",
         "y": [
          3
         ],
         "yaxis": "y"
        },
        {
         "hovertemplate": "user_id=1001<br>started_at=%{x}<br>score=%{y}<extra></extra>",
         "legendgroup": "1001",
         "line": {
          "color": "#00cc96",
          "dash": "solid"
         },
         "mode": "markers+lines",
         "name": "1001",
         "orientation": "v",
         "showlegend": true,
         "type": "scatter",
         "x": [
          "2020-10-29T01:26:53+00:00"
         ],
         "xaxis": "x",
         "y": [
          1
         ],
         "yaxis": "y"
        },
        {
         "hovertemplate": "user_id=1256<br>started_at=%{x}<br>score=%{y}<extra></extra>",
         "legendgroup": "1256",
         "line": {
          "color": "#ab63fa",
          "dash": "solid"
         },
         "mode": "markers+lines",
         "name": "1256",
         "orientation": "v",
         "showlegend": true,
         "type": "scatter",
         "x": [
          "2020-10-29T01:45:39+00:00",
          "2020-10-29T01:46:30+00:00",
          "2020-10-29T01:47:17+00:00"
         ],
         "xaxis": "x",
         "y": [
          2,
          2,
          2
         ],
         "yaxis": "y"
        },
        {
         "hovertemplate": "user_id=3310<br>started_at=%{x}<br>score=%{y}<extra></extra>",
         "legendgroup": "3310",
         "line": {
          "color": "#FFA15A",
          "dash": "solid"
         },
         "mode": "markers+lines",
         "name": "3310",
         "orientation": "v",
         "showlegend": true,
         "type": "scatter",
         "x": [
          "2020-10-29T02:28:25+00:00",
          "2020-10-29T02:30:11+00:00",
          "2020-10-29T02:31:26+00:00"
         ],
         "xaxis": "x",
         "y": [
          2,
          3,
          3
         ],
         "yaxis": "y"
        },
        {
         "hovertemplate": "user_id=226<br>started_at=%{x}<br>score=%{y}<extra></extra>",
         "legendgroup": "226",
         "line": {
          "color": "#19d3f3",
          "dash": "solid"
         },
         "mode": "markers+lines",
         "name": "226",
         "orientation": "v",
         "showlegend": true,
         "type": "scatter",
         "x": [
          "2020-10-29T03:49:12+00:00",
          "2020-10-29T03:49:37+00:00"
         ],
         "xaxis": "x",
         "y": [
          2,
          2
         ],
         "yaxis": "y"
        },
        {
         "hovertemplate": "user_id=2413<br>started_at=%{x}<br>score=%{y}<extra></extra>",
         "legendgroup": "2413",
         "line": {
          "color": "#FF6692",
          "dash": "solid"
         },
         "mode": "markers+lines",
         "name": "2413",
         "orientation": "v",
         "showlegend": true,
         "type": "scatter",
         "x": [
          "2020-10-29T05:39:07+00:00"
         ],
         "xaxis": "x",
         "y": [
          2
         ],
         "yaxis": "y"
        },
        {
         "hovertemplate": "user_id=2386<br>started_at=%{x}<br>score=%{y}<extra></extra>",
         "legendgroup": "2386",
         "line": {
          "color": "#B6E880",
          "dash": "solid"
         },
         "mode": "markers+lines",
         "name": "2386",
         "orientation": "v",
         "showlegend": true,
         "type": "scatter",
         "x": [
          "2020-10-29T05:55:00+00:00",
          "2020-10-29T05:58:25+00:00"
         ],
         "xaxis": "x",
         "y": [
          2,
          2
         ],
         "yaxis": "y"
        },
        {
         "hovertemplate": "user_id=822<br>started_at=%{x}<br>score=%{y}<extra></extra>",
         "legendgroup": "822",
         "line": {
          "color": "#FF97FF",
          "dash": "solid"
         },
         "mode": "markers+lines",
         "name": "822",
         "orientation": "v",
         "showlegend": true,
         "type": "scatter",
         "x": [
          "2020-10-29T11:49:25+00:00"
         ],
         "xaxis": "x",
         "y": [
          3
         ],
         "yaxis": "y"
        },
        {
         "hovertemplate": "user_id=3261<br>started_at=%{x}<br>score=%{y}<extra></extra>",
         "legendgroup": "3261",
         "line": {
          "color": "#FECB52",
          "dash": "solid"
         },
         "mode": "markers+lines",
         "name": "3261",
         "orientation": "v",
         "showlegend": true,
         "type": "scatter",
         "x": [
          "2020-10-29T16:39:19+00:00",
          "2020-10-29T16:39:56+00:00",
          "2020-10-29T16:40:26+00:00"
         ],
         "xaxis": "x",
         "y": [
          3,
          3,
          3
         ],
         "yaxis": "y"
        },
        {
         "hovertemplate": "user_id=497<br>started_at=%{x}<br>score=%{y}<extra></extra>",
         "legendgroup": "497",
         "line": {
          "color": "#636efa",
          "dash": "solid"
         },
         "mode": "markers+lines",
         "name": "497",
         "orientation": "v",
         "showlegend": true,
         "type": "scatter",
         "x": [
          "2020-10-29T21:28:33+00:00",
          "2020-10-29T21:29:36+00:00"
         ],
         "xaxis": "x",
         "y": [
          2,
          2
         ],
         "yaxis": "y"
        },
        {
         "hovertemplate": "user_id=1258<br>started_at=%{x}<br>score=%{y}<extra></extra>",
         "legendgroup": "1258",
         "line": {
          "color": "#EF553B",
          "dash": "solid"
         },
         "mode": "markers+lines",
         "name": "1258",
         "orientation": "v",
         "showlegend": true,
         "type": "scatter",
         "x": [
          "2020-10-29T22:44:50+00:00",
          "2020-10-29T22:45:55+00:00"
         ],
         "xaxis": "x",
         "y": [
          3,
          3
         ],
         "yaxis": "y"
        },
        {
         "hovertemplate": "user_id=894<br>started_at=%{x}<br>score=%{y}<extra></extra>",
         "legendgroup": "894",
         "line": {
          "color": "#00cc96",
          "dash": "solid"
         },
         "mode": "markers+lines",
         "name": "894",
         "orientation": "v",
         "showlegend": true,
         "type": "scatter",
         "x": [
          "2020-10-29T22:58:07+00:00",
          "2020-10-29T22:58:40+00:00",
          "2020-10-29T22:59:03+00:00"
         ],
         "xaxis": "x",
         "y": [
          2,
          2,
          1
         ],
         "yaxis": "y"
        },
        {
         "hovertemplate": "user_id=451<br>started_at=%{x}<br>score=%{y}<extra></extra>",
         "legendgroup": "451",
         "line": {
          "color": "#ab63fa",
          "dash": "solid"
         },
         "mode": "markers+lines",
         "name": "451",
         "orientation": "v",
         "showlegend": true,
         "type": "scatter",
         "x": [
          "2020-10-29T22:58:48+00:00",
          "2020-10-29T22:59:34+00:00",
          "2020-10-29T23:00:25+00:00"
         ],
         "xaxis": "x",
         "y": [
          3,
          3,
          3
         ],
         "yaxis": "y"
        },
        {
         "hovertemplate": "user_id=3280<br>started_at=%{x}<br>score=%{y}<extra></extra>",
         "legendgroup": "3280",
         "line": {
          "color": "#FFA15A",
          "dash": "solid"
         },
         "mode": "markers+lines",
         "name": "3280",
         "orientation": "v",
         "showlegend": true,
         "type": "scatter",
         "x": [
          "2020-10-29T23:13:28+00:00",
          "2020-10-29T23:17:16+00:00",
          "2020-10-29T23:19:14+00:00"
         ],
         "xaxis": "x",
         "y": [
          2,
          2,
          2
         ],
         "yaxis": "y"
        },
        {
         "hovertemplate": "user_id=2455<br>started_at=%{x}<br>score=%{y}<extra></extra>",
         "legendgroup": "2455",
         "line": {
          "color": "#19d3f3",
          "dash": "solid"
         },
         "mode": "markers+lines",
         "name": "2455",
         "orientation": "v",
         "showlegend": true,
         "type": "scatter",
         "x": [
          "2020-10-29T23:28:55+00:00",
          "2020-10-29T23:29:39+00:00",
          "2020-10-29T23:30:08+00:00"
         ],
         "xaxis": "x",
         "y": [
          3,
          3,
          3
         ],
         "yaxis": "y"
        },
        {
         "hovertemplate": "user_id=3145<br>started_at=%{x}<br>score=%{y}<extra></extra>",
         "legendgroup": "3145",
         "line": {
          "color": "#FF6692",
          "dash": "solid"
         },
         "mode": "markers+lines",
         "name": "3145",
         "orientation": "v",
         "showlegend": true,
         "type": "scatter",
         "x": [
          "2020-10-29T23:30:04+00:00",
          "2020-10-30T03:46:39+00:00",
          "2020-10-30T03:47:13+00:00"
         ],
         "xaxis": "x",
         "y": [
          3,
          3,
          3
         ],
         "yaxis": "y"
        },
        {
         "hovertemplate": "user_id=3296<br>started_at=%{x}<br>score=%{y}<extra></extra>",
         "legendgroup": "3296",
         "line": {
          "color": "#B6E880",
          "dash": "solid"
         },
         "mode": "markers+lines",
         "name": "3296",
         "orientation": "v",
         "showlegend": true,
         "type": "scatter",
         "x": [
          "2020-10-29T23:48:21+00:00",
          "2020-10-29T23:49:38+00:00",
          "2020-10-29T23:51:14+00:00"
         ],
         "xaxis": "x",
         "y": [
          2,
          2,
          2
         ],
         "yaxis": "y"
        },
        {
         "hovertemplate": "user_id=1153<br>started_at=%{x}<br>score=%{y}<extra></extra>",
         "legendgroup": "1153",
         "line": {
          "color": "#FF97FF",
          "dash": "solid"
         },
         "mode": "markers+lines",
         "name": "1153",
         "orientation": "v",
         "showlegend": true,
         "type": "scatter",
         "x": [
          "2020-10-30T01:14:22+00:00",
          "2020-10-30T01:15:54+00:00",
          "2020-10-30T01:17:09+00:00"
         ],
         "xaxis": "x",
         "y": [
          3,
          3,
          3
         ],
         "yaxis": "y"
        },
        {
         "hovertemplate": "user_id=3161<br>started_at=%{x}<br>score=%{y}<extra></extra>",
         "legendgroup": "3161",
         "line": {
          "color": "#FECB52",
          "dash": "solid"
         },
         "mode": "markers+lines",
         "name": "3161",
         "orientation": "v",
         "showlegend": true,
         "type": "scatter",
         "x": [
          "2020-10-30T03:31:27+00:00",
          "2020-11-17T17:04:08+00:00"
         ],
         "xaxis": "x",
         "y": [
          2,
          2
         ],
         "yaxis": "y"
        },
        {
         "hovertemplate": "user_id=268<br>started_at=%{x}<br>score=%{y}<extra></extra>",
         "legendgroup": "268",
         "line": {
          "color": "#636efa",
          "dash": "solid"
         },
         "mode": "markers+lines",
         "name": "268",
         "orientation": "v",
         "showlegend": true,
         "type": "scatter",
         "x": [
          "2020-10-30T06:33:53+00:00",
          "2020-10-30T06:34:22+00:00",
          "2020-10-30T06:35:34+00:00"
         ],
         "xaxis": "x",
         "y": [
          2,
          2,
          2
         ],
         "yaxis": "y"
        },
        {
         "hovertemplate": "user_id=526<br>started_at=%{x}<br>score=%{y}<extra></extra>",
         "legendgroup": "526",
         "line": {
          "color": "#EF553B",
          "dash": "solid"
         },
         "mode": "markers+lines",
         "name": "526",
         "orientation": "v",
         "showlegend": true,
         "type": "scatter",
         "x": [
          "2020-10-30T14:26:19+00:00",
          "2020-10-30T14:26:38+00:00",
          "2020-10-30T14:26:57+00:00"
         ],
         "xaxis": "x",
         "y": [
          3,
          3,
          3
         ],
         "yaxis": "y"
        },
        {
         "hovertemplate": "user_id=3320<br>started_at=%{x}<br>score=%{y}<extra></extra>",
         "legendgroup": "3320",
         "line": {
          "color": "#00cc96",
          "dash": "solid"
         },
         "mode": "markers+lines",
         "name": "3320",
         "orientation": "v",
         "showlegend": true,
         "type": "scatter",
         "x": [
          "2020-10-30T20:43:45+00:00",
          "2020-11-02T20:27:30+00:00",
          "2020-11-02T20:28:12+00:00"
         ],
         "xaxis": "x",
         "y": [
          3,
          2,
          2
         ],
         "yaxis": "y"
        },
        {
         "hovertemplate": "user_id=264<br>started_at=%{x}<br>score=%{y}<extra></extra>",
         "legendgroup": "264",
         "line": {
          "color": "#ab63fa",
          "dash": "solid"
         },
         "mode": "markers+lines",
         "name": "264",
         "orientation": "v",
         "showlegend": true,
         "type": "scatter",
         "x": [
          "2020-10-31T01:03:59+00:00",
          "2020-10-31T02:15:09+00:00",
          "2020-10-31T02:16:59+00:00"
         ],
         "xaxis": "x",
         "y": [
          2,
          2,
          2
         ],
         "yaxis": "y"
        },
        {
         "hovertemplate": "user_id=3272<br>started_at=%{x}<br>score=%{y}<extra></extra>",
         "legendgroup": "3272",
         "line": {
          "color": "#FFA15A",
          "dash": "solid"
         },
         "mode": "markers+lines",
         "name": "3272",
         "orientation": "v",
         "showlegend": true,
         "type": "scatter",
         "x": [
          "2020-10-31T06:21:41+00:00"
         ],
         "xaxis": "x",
         "y": [
          3
         ],
         "yaxis": "y"
        },
        {
         "hovertemplate": "user_id=3190<br>started_at=%{x}<br>score=%{y}<extra></extra>",
         "legendgroup": "3190",
         "line": {
          "color": "#19d3f3",
          "dash": "solid"
         },
         "mode": "markers+lines",
         "name": "3190",
         "orientation": "v",
         "showlegend": true,
         "type": "scatter",
         "x": [
          "2020-11-04T04:55:45+00:00",
          "2020-11-04T04:57:52+00:00",
          "2020-11-04T04:59:47+00:00"
         ],
         "xaxis": "x",
         "y": [
          1,
          1,
          1
         ],
         "yaxis": "y"
        },
        {
         "hovertemplate": "user_id=1921<br>started_at=%{x}<br>score=%{y}<extra></extra>",
         "legendgroup": "1921",
         "line": {
          "color": "#FF6692",
          "dash": "solid"
         },
         "mode": "markers+lines",
         "name": "1921",
         "orientation": "v",
         "showlegend": true,
         "type": "scatter",
         "x": [
          "2020-11-04T23:34:51+00:00",
          "2020-11-04T23:35:36+00:00"
         ],
         "xaxis": "x",
         "y": [
          2,
          2
         ],
         "yaxis": "y"
        },
        {
         "hovertemplate": "user_id=2446<br>started_at=%{x}<br>score=%{y}<extra></extra>",
         "legendgroup": "2446",
         "line": {
          "color": "#B6E880",
          "dash": "solid"
         },
         "mode": "markers+lines",
         "name": "2446",
         "orientation": "v",
         "showlegend": true,
         "type": "scatter",
         "x": [
          "2020-11-05T00:19:48+00:00"
         ],
         "xaxis": "x",
         "y": [
          2
         ],
         "yaxis": "y"
        },
        {
         "hovertemplate": "user_id=1227<br>started_at=%{x}<br>score=%{y}<extra></extra>",
         "legendgroup": "1227",
         "line": {
          "color": "#FF97FF",
          "dash": "solid"
         },
         "mode": "markers+lines",
         "name": "1227",
         "orientation": "v",
         "showlegend": true,
         "type": "scatter",
         "x": [
          "2020-11-05T05:47:01+00:00",
          "2020-11-05T05:47:29+00:00"
         ],
         "xaxis": "x",
         "y": [
          3,
          3
         ],
         "yaxis": "y"
        },
        {
         "hovertemplate": "user_id=1827<br>started_at=%{x}<br>score=%{y}<extra></extra>",
         "legendgroup": "1827",
         "line": {
          "color": "#FECB52",
          "dash": "solid"
         },
         "mode": "markers+lines",
         "name": "1827",
         "orientation": "v",
         "showlegend": true,
         "type": "scatter",
         "x": [
          "2020-11-06T23:14:55+00:00",
          "2020-11-16T18:04:20+00:00"
         ],
         "xaxis": "x",
         "y": [
          2,
          2
         ],
         "yaxis": "y"
        },
        {
         "hovertemplate": "user_id=628<br>started_at=%{x}<br>score=%{y}<extra></extra>",
         "legendgroup": "628",
         "line": {
          "color": "#636efa",
          "dash": "solid"
         },
         "mode": "markers+lines",
         "name": "628",
         "orientation": "v",
         "showlegend": true,
         "type": "scatter",
         "x": [
          "2020-11-09T15:10:06+00:00",
          "2020-11-09T15:10:44+00:00",
          "2020-11-09T15:11:18+00:00"
         ],
         "xaxis": "x",
         "y": [
          2,
          2,
          2
         ],
         "yaxis": "y"
        },
        {
         "hovertemplate": "user_id=3144<br>started_at=%{x}<br>score=%{y}<extra></extra>",
         "legendgroup": "3144",
         "line": {
          "color": "#EF553B",
          "dash": "solid"
         },
         "mode": "markers+lines",
         "name": "3144",
         "orientation": "v",
         "showlegend": true,
         "type": "scatter",
         "x": [
          "2020-11-09T16:07:52+00:00",
          "2020-11-09T16:09:46+00:00",
          "2020-11-09T16:10:47+00:00"
         ],
         "xaxis": "x",
         "y": [
          3,
          3,
          3
         ],
         "yaxis": "y"
        },
        {
         "hovertemplate": "user_id=1210<br>started_at=%{x}<br>score=%{y}<extra></extra>",
         "legendgroup": "1210",
         "line": {
          "color": "#00cc96",
          "dash": "solid"
         },
         "mode": "markers+lines",
         "name": "1210",
         "orientation": "v",
         "showlegend": true,
         "type": "scatter",
         "x": [
          "2020-11-13T21:49:50+00:00"
         ],
         "xaxis": "x",
         "y": [
          3
         ],
         "yaxis": "y"
        },
        {
         "hovertemplate": "user_id=3279<br>started_at=%{x}<br>score=%{y}<extra></extra>",
         "legendgroup": "3279",
         "line": {
          "color": "#ab63fa",
          "dash": "solid"
         },
         "mode": "markers+lines",
         "name": "3279",
         "orientation": "v",
         "showlegend": true,
         "type": "scatter",
         "x": [
          "2020-11-14T20:01:38+00:00"
         ],
         "xaxis": "x",
         "y": [
          2
         ],
         "yaxis": "y"
        },
        {
         "hovertemplate": "user_id=512<br>started_at=%{x}<br>score=%{y}<extra></extra>",
         "legendgroup": "512",
         "line": {
          "color": "#FFA15A",
          "dash": "solid"
         },
         "mode": "markers+lines",
         "name": "512",
         "orientation": "v",
         "showlegend": true,
         "type": "scatter",
         "x": [
          "2020-11-20T19:24:30+00:00",
          "2020-11-20T19:25:01+00:00",
          "2020-11-20T19:25:47+00:00"
         ],
         "xaxis": "x",
         "y": [
          1,
          1,
          1
         ],
         "yaxis": "y"
        }
       ],
       "layout": {
        "legend": {
         "title": {
          "text": "user_id"
         },
         "tracegroupgap": 0
        },
        "margin": {
         "t": 60
        },
        "template": {
         "data": {
          "bar": [
           {
            "error_x": {
             "color": "#2a3f5f"
            },
            "error_y": {
             "color": "#2a3f5f"
            },
            "marker": {
             "line": {
              "color": "#E5ECF6",
              "width": 0.5
             }
            },
            "type": "bar"
           }
          ],
          "barpolar": [
           {
            "marker": {
             "line": {
              "color": "#E5ECF6",
              "width": 0.5
             }
            },
            "type": "barpolar"
           }
          ],
          "carpet": [
           {
            "aaxis": {
             "endlinecolor": "#2a3f5f",
             "gridcolor": "white",
             "linecolor": "white",
             "minorgridcolor": "white",
             "startlinecolor": "#2a3f5f"
            },
            "baxis": {
             "endlinecolor": "#2a3f5f",
             "gridcolor": "white",
             "linecolor": "white",
             "minorgridcolor": "white",
             "startlinecolor": "#2a3f5f"
            },
            "type": "carpet"
           }
          ],
          "choropleth": [
           {
            "colorbar": {
             "outlinewidth": 0,
             "ticks": ""
            },
            "type": "choropleth"
           }
          ],
          "contour": [
           {
            "colorbar": {
             "outlinewidth": 0,
             "ticks": ""
            },
            "colorscale": [
             [
              0,
              "#0d0887"
             ],
             [
              0.1111111111111111,
              "#46039f"
             ],
             [
              0.2222222222222222,
              "#7201a8"
             ],
             [
              0.3333333333333333,
              "#9c179e"
             ],
             [
              0.4444444444444444,
              "#bd3786"
             ],
             [
              0.5555555555555556,
              "#d8576b"
             ],
             [
              0.6666666666666666,
              "#ed7953"
             ],
             [
              0.7777777777777778,
              "#fb9f3a"
             ],
             [
              0.8888888888888888,
              "#fdca26"
             ],
             [
              1,
              "#f0f921"
             ]
            ],
            "type": "contour"
           }
          ],
          "contourcarpet": [
           {
            "colorbar": {
             "outlinewidth": 0,
             "ticks": ""
            },
            "type": "contourcarpet"
           }
          ],
          "heatmap": [
           {
            "colorbar": {
             "outlinewidth": 0,
             "ticks": ""
            },
            "colorscale": [
             [
              0,
              "#0d0887"
             ],
             [
              0.1111111111111111,
              "#46039f"
             ],
             [
              0.2222222222222222,
              "#7201a8"
             ],
             [
              0.3333333333333333,
              "#9c179e"
             ],
             [
              0.4444444444444444,
              "#bd3786"
             ],
             [
              0.5555555555555556,
              "#d8576b"
             ],
             [
              0.6666666666666666,
              "#ed7953"
             ],
             [
              0.7777777777777778,
              "#fb9f3a"
             ],
             [
              0.8888888888888888,
              "#fdca26"
             ],
             [
              1,
              "#f0f921"
             ]
            ],
            "type": "heatmap"
           }
          ],
          "heatmapgl": [
           {
            "colorbar": {
             "outlinewidth": 0,
             "ticks": ""
            },
            "colorscale": [
             [
              0,
              "#0d0887"
             ],
             [
              0.1111111111111111,
              "#46039f"
             ],
             [
              0.2222222222222222,
              "#7201a8"
             ],
             [
              0.3333333333333333,
              "#9c179e"
             ],
             [
              0.4444444444444444,
              "#bd3786"
             ],
             [
              0.5555555555555556,
              "#d8576b"
             ],
             [
              0.6666666666666666,
              "#ed7953"
             ],
             [
              0.7777777777777778,
              "#fb9f3a"
             ],
             [
              0.8888888888888888,
              "#fdca26"
             ],
             [
              1,
              "#f0f921"
             ]
            ],
            "type": "heatmapgl"
           }
          ],
          "histogram": [
           {
            "marker": {
             "colorbar": {
              "outlinewidth": 0,
              "ticks": ""
             }
            },
            "type": "histogram"
           }
          ],
          "histogram2d": [
           {
            "colorbar": {
             "outlinewidth": 0,
             "ticks": ""
            },
            "colorscale": [
             [
              0,
              "#0d0887"
             ],
             [
              0.1111111111111111,
              "#46039f"
             ],
             [
              0.2222222222222222,
              "#7201a8"
             ],
             [
              0.3333333333333333,
              "#9c179e"
             ],
             [
              0.4444444444444444,
              "#bd3786"
             ],
             [
              0.5555555555555556,
              "#d8576b"
             ],
             [
              0.6666666666666666,
              "#ed7953"
             ],
             [
              0.7777777777777778,
              "#fb9f3a"
             ],
             [
              0.8888888888888888,
              "#fdca26"
             ],
             [
              1,
              "#f0f921"
             ]
            ],
            "type": "histogram2d"
           }
          ],
          "histogram2dcontour": [
           {
            "colorbar": {
             "outlinewidth": 0,
             "ticks": ""
            },
            "colorscale": [
             [
              0,
              "#0d0887"
             ],
             [
              0.1111111111111111,
              "#46039f"
             ],
             [
              0.2222222222222222,
              "#7201a8"
             ],
             [
              0.3333333333333333,
              "#9c179e"
             ],
             [
              0.4444444444444444,
              "#bd3786"
             ],
             [
              0.5555555555555556,
              "#d8576b"
             ],
             [
              0.6666666666666666,
              "#ed7953"
             ],
             [
              0.7777777777777778,
              "#fb9f3a"
             ],
             [
              0.8888888888888888,
              "#fdca26"
             ],
             [
              1,
              "#f0f921"
             ]
            ],
            "type": "histogram2dcontour"
           }
          ],
          "mesh3d": [
           {
            "colorbar": {
             "outlinewidth": 0,
             "ticks": ""
            },
            "type": "mesh3d"
           }
          ],
          "parcoords": [
           {
            "line": {
             "colorbar": {
              "outlinewidth": 0,
              "ticks": ""
             }
            },
            "type": "parcoords"
           }
          ],
          "pie": [
           {
            "automargin": true,
            "type": "pie"
           }
          ],
          "scatter": [
           {
            "marker": {
             "colorbar": {
              "outlinewidth": 0,
              "ticks": ""
             }
            },
            "type": "scatter"
           }
          ],
          "scatter3d": [
           {
            "line": {
             "colorbar": {
              "outlinewidth": 0,
              "ticks": ""
             }
            },
            "marker": {
             "colorbar": {
              "outlinewidth": 0,
              "ticks": ""
             }
            },
            "type": "scatter3d"
           }
          ],
          "scattercarpet": [
           {
            "marker": {
             "colorbar": {
              "outlinewidth": 0,
              "ticks": ""
             }
            },
            "type": "scattercarpet"
           }
          ],
          "scattergeo": [
           {
            "marker": {
             "colorbar": {
              "outlinewidth": 0,
              "ticks": ""
             }
            },
            "type": "scattergeo"
           }
          ],
          "scattergl": [
           {
            "marker": {
             "colorbar": {
              "outlinewidth": 0,
              "ticks": ""
             }
            },
            "type": "scattergl"
           }
          ],
          "scattermapbox": [
           {
            "marker": {
             "colorbar": {
              "outlinewidth": 0,
              "ticks": ""
             }
            },
            "type": "scattermapbox"
           }
          ],
          "scatterpolar": [
           {
            "marker": {
             "colorbar": {
              "outlinewidth": 0,
              "ticks": ""
             }
            },
            "type": "scatterpolar"
           }
          ],
          "scatterpolargl": [
           {
            "marker": {
             "colorbar": {
              "outlinewidth": 0,
              "ticks": ""
             }
            },
            "type": "scatterpolargl"
           }
          ],
          "scatterternary": [
           {
            "marker": {
             "colorbar": {
              "outlinewidth": 0,
              "ticks": ""
             }
            },
            "type": "scatterternary"
           }
          ],
          "surface": [
           {
            "colorbar": {
             "outlinewidth": 0,
             "ticks": ""
            },
            "colorscale": [
             [
              0,
              "#0d0887"
             ],
             [
              0.1111111111111111,
              "#46039f"
             ],
             [
              0.2222222222222222,
              "#7201a8"
             ],
             [
              0.3333333333333333,
              "#9c179e"
             ],
             [
              0.4444444444444444,
              "#bd3786"
             ],
             [
              0.5555555555555556,
              "#d8576b"
             ],
             [
              0.6666666666666666,
              "#ed7953"
             ],
             [
              0.7777777777777778,
              "#fb9f3a"
             ],
             [
              0.8888888888888888,
              "#fdca26"
             ],
             [
              1,
              "#f0f921"
             ]
            ],
            "type": "surface"
           }
          ],
          "table": [
           {
            "cells": {
             "fill": {
              "color": "#EBF0F8"
             },
             "line": {
              "color": "white"
             }
            },
            "header": {
             "fill": {
              "color": "#C8D4E3"
             },
             "line": {
              "color": "white"
             }
            },
            "type": "table"
           }
          ]
         },
         "layout": {
          "annotationdefaults": {
           "arrowcolor": "#2a3f5f",
           "arrowhead": 0,
           "arrowwidth": 1
          },
          "autotypenumbers": "strict",
          "coloraxis": {
           "colorbar": {
            "outlinewidth": 0,
            "ticks": ""
           }
          },
          "colorscale": {
           "diverging": [
            [
             0,
             "#8e0152"
            ],
            [
             0.1,
             "#c51b7d"
            ],
            [
             0.2,
             "#de77ae"
            ],
            [
             0.3,
             "#f1b6da"
            ],
            [
             0.4,
             "#fde0ef"
            ],
            [
             0.5,
             "#f7f7f7"
            ],
            [
             0.6,
             "#e6f5d0"
            ],
            [
             0.7,
             "#b8e186"
            ],
            [
             0.8,
             "#7fbc41"
            ],
            [
             0.9,
             "#4d9221"
            ],
            [
             1,
             "#276419"
            ]
           ],
           "sequential": [
            [
             0,
             "#0d0887"
            ],
            [
             0.1111111111111111,
             "#46039f"
            ],
            [
             0.2222222222222222,
             "#7201a8"
            ],
            [
             0.3333333333333333,
             "#9c179e"
            ],
            [
             0.4444444444444444,
             "#bd3786"
            ],
            [
             0.5555555555555556,
             "#d8576b"
            ],
            [
             0.6666666666666666,
             "#ed7953"
            ],
            [
             0.7777777777777778,
             "#fb9f3a"
            ],
            [
             0.8888888888888888,
             "#fdca26"
            ],
            [
             1,
             "#f0f921"
            ]
           ],
           "sequentialminus": [
            [
             0,
             "#0d0887"
            ],
            [
             0.1111111111111111,
             "#46039f"
            ],
            [
             0.2222222222222222,
             "#7201a8"
            ],
            [
             0.3333333333333333,
             "#9c179e"
            ],
            [
             0.4444444444444444,
             "#bd3786"
            ],
            [
             0.5555555555555556,
             "#d8576b"
            ],
            [
             0.6666666666666666,
             "#ed7953"
            ],
            [
             0.7777777777777778,
             "#fb9f3a"
            ],
            [
             0.8888888888888888,
             "#fdca26"
            ],
            [
             1,
             "#f0f921"
            ]
           ]
          },
          "colorway": [
           "#636efa",
           "#EF553B",
           "#00cc96",
           "#ab63fa",
           "#FFA15A",
           "#19d3f3",
           "#FF6692",
           "#B6E880",
           "#FF97FF",
           "#FECB52"
          ],
          "font": {
           "color": "#2a3f5f"
          },
          "geo": {
           "bgcolor": "white",
           "lakecolor": "white",
           "landcolor": "#E5ECF6",
           "showlakes": true,
           "showland": true,
           "subunitcolor": "white"
          },
          "hoverlabel": {
           "align": "left"
          },
          "hovermode": "closest",
          "mapbox": {
           "style": "light"
          },
          "paper_bgcolor": "white",
          "plot_bgcolor": "#E5ECF6",
          "polar": {
           "angularaxis": {
            "gridcolor": "white",
            "linecolor": "white",
            "ticks": ""
           },
           "bgcolor": "#E5ECF6",
           "radialaxis": {
            "gridcolor": "white",
            "linecolor": "white",
            "ticks": ""
           }
          },
          "scene": {
           "xaxis": {
            "backgroundcolor": "#E5ECF6",
            "gridcolor": "white",
            "gridwidth": 2,
            "linecolor": "white",
            "showbackground": true,
            "ticks": "",
            "zerolinecolor": "white"
           },
           "yaxis": {
            "backgroundcolor": "#E5ECF6",
            "gridcolor": "white",
            "gridwidth": 2,
            "linecolor": "white",
            "showbackground": true,
            "ticks": "",
            "zerolinecolor": "white"
           },
           "zaxis": {
            "backgroundcolor": "#E5ECF6",
            "gridcolor": "white",
            "gridwidth": 2,
            "linecolor": "white",
            "showbackground": true,
            "ticks": "",
            "zerolinecolor": "white"
           }
          },
          "shapedefaults": {
           "line": {
            "color": "#2a3f5f"
           }
          },
          "ternary": {
           "aaxis": {
            "gridcolor": "white",
            "linecolor": "white",
            "ticks": ""
           },
           "baxis": {
            "gridcolor": "white",
            "linecolor": "white",
            "ticks": ""
           },
           "bgcolor": "#E5ECF6",
           "caxis": {
            "gridcolor": "white",
            "linecolor": "white",
            "ticks": ""
           }
          },
          "title": {
           "x": 0.05
          },
          "xaxis": {
           "automargin": true,
           "gridcolor": "white",
           "linecolor": "white",
           "ticks": "",
           "title": {
            "standoff": 15
           },
           "zerolinecolor": "white",
           "zerolinewidth": 2
          },
          "yaxis": {
           "automargin": true,
           "gridcolor": "white",
           "linecolor": "white",
           "ticks": "",
           "title": {
            "standoff": 15
           },
           "zerolinecolor": "white",
           "zerolinewidth": 2
          }
         }
        },
        "xaxis": {
         "anchor": "y",
         "domain": [
          0,
          1
         ],
         "title": {
          "text": "started_at"
         }
        },
        "yaxis": {
         "anchor": "x",
         "domain": [
          0,
          1
         ],
         "title": {
          "text": "score"
         }
        }
       }
      }
     },
     "metadata": {}
    }
   ],
   "source": [
    "fig = px.line(result_df,x=\"started_at\", y=\"score\", color=\"user_id\")\r\n",
    "fig.update_traces(mode=\"markers+lines\")\r\n",
    "fig.show()"
   ]
  },
  {
   "cell_type": "code",
   "execution_count": null,
   "metadata": {},
   "outputs": [],
   "source": [
    "result_df[\"user_id\"].unique()"
   ]
  },
  {
   "cell_type": "code",
   "execution_count": 21,
   "metadata": {},
   "outputs": [
    {
     "output_type": "display_data",
     "data": {
      "text/plain": "<Figure size 432x288 with 1 Axes>",
      "image/svg+xml": "<?xml version=\"1.0\" encoding=\"utf-8\" standalone=\"no\"?>\r\n<!DOCTYPE svg PUBLIC \"-//W3C//DTD SVG 1.1//EN\"\r\n  \"http://www.w3.org/Graphics/SVG/1.1/DTD/svg11.dtd\">\r\n<!-- Created with matplotlib (https://matplotlib.org/) -->\r\n<svg height=\"248.518125pt\" version=\"1.1\" viewBox=\"0 0 394.607084 248.518125\" width=\"394.607084pt\" xmlns=\"http://www.w3.org/2000/svg\" xmlns:xlink=\"http://www.w3.org/1999/xlink\">\r\n <metadata>\r\n  <rdf:RDF xmlns:cc=\"http://creativecommons.org/ns#\" xmlns:dc=\"http://purl.org/dc/elements/1.1/\" xmlns:rdf=\"http://www.w3.org/1999/02/22-rdf-syntax-ns#\">\r\n   <cc:Work>\r\n    <dc:type rdf:resource=\"http://purl.org/dc/dcmitype/StillImage\"/>\r\n    <dc:date>2021-01-04T14:54:20.296861</dc:date>\r\n    <dc:format>image/svg+xml</dc:format>\r\n    <dc:creator>\r\n     <cc:Agent>\r\n      <dc:title>Matplotlib v3.3.3, https://matplotlib.org/</dc:title>\r\n     </cc:Agent>\r\n    </dc:creator>\r\n   </cc:Work>\r\n  </rdf:RDF>\r\n </metadata>\r\n <defs>\r\n  <style type=\"text/css\">*{stroke-linecap:butt;stroke-linejoin:round;}</style>\r\n </defs>\r\n <g id=\"figure_1\">\r\n  <g id=\"patch_1\">\r\n   <path d=\"M 0 248.518125 \r\nL 394.607084 248.518125 \r\nL 394.607084 0 \r\nL 0 0 \r\nz\r\n\" style=\"fill:none;\"/>\r\n  </g>\r\n  <g id=\"axes_1\">\r\n   <g id=\"patch_2\">\r\n    <path d=\"M 36.465625 224.64 \r\nL 371.265625 224.64 \r\nL 371.265625 7.2 \r\nL 36.465625 7.2 \r\nz\r\n\" style=\"fill:#ffffff;\"/>\r\n   </g>\r\n   <g id=\"matplotlib.axis_1\">\r\n    <g id=\"xtick_1\">\r\n     <g id=\"line2d_1\">\r\n      <defs>\r\n       <path d=\"M 0 0 \r\nL 0 3.5 \r\n\" id=\"m18ffe7d39b\" style=\"stroke:#000000;stroke-width:0.8;\"/>\r\n      </defs>\r\n      <g>\r\n       <use style=\"stroke:#000000;stroke-width:0.8;\" x=\"80.33348\" xlink:href=\"#m18ffe7d39b\" y=\"224.64\"/>\r\n      </g>\r\n     </g>\r\n     <g id=\"text_1\">\r\n      <!-- 2020-10-29 -->\r\n      <g transform=\"translate(51.275667 239.238437)scale(0.1 -0.1)\">\r\n       <defs>\r\n        <path d=\"M 19.1875 8.296875 \r\nL 53.609375 8.296875 \r\nL 53.609375 0 \r\nL 7.328125 0 \r\nL 7.328125 8.296875 \r\nQ 12.9375 14.109375 22.625 23.890625 \r\nQ 32.328125 33.6875 34.8125 36.53125 \r\nQ 39.546875 41.84375 41.421875 45.53125 \r\nQ 43.3125 49.21875 43.3125 52.78125 \r\nQ 43.3125 58.59375 39.234375 62.25 \r\nQ 35.15625 65.921875 28.609375 65.921875 \r\nQ 23.96875 65.921875 18.8125 64.3125 \r\nQ 13.671875 62.703125 7.8125 59.421875 \r\nL 7.8125 69.390625 \r\nQ 13.765625 71.78125 18.9375 73 \r\nQ 24.125 74.21875 28.421875 74.21875 \r\nQ 39.75 74.21875 46.484375 68.546875 \r\nQ 53.21875 62.890625 53.21875 53.421875 \r\nQ 53.21875 48.921875 51.53125 44.890625 \r\nQ 49.859375 40.875 45.40625 35.40625 \r\nQ 44.1875 33.984375 37.640625 27.21875 \r\nQ 31.109375 20.453125 19.1875 8.296875 \r\nz\r\n\" id=\"DejaVuSans-50\"/>\r\n        <path d=\"M 31.78125 66.40625 \r\nQ 24.171875 66.40625 20.328125 58.90625 \r\nQ 16.5 51.421875 16.5 36.375 \r\nQ 16.5 21.390625 20.328125 13.890625 \r\nQ 24.171875 6.390625 31.78125 6.390625 \r\nQ 39.453125 6.390625 43.28125 13.890625 \r\nQ 47.125 21.390625 47.125 36.375 \r\nQ 47.125 51.421875 43.28125 58.90625 \r\nQ 39.453125 66.40625 31.78125 66.40625 \r\nz\r\nM 31.78125 74.21875 \r\nQ 44.046875 74.21875 50.515625 64.515625 \r\nQ 56.984375 54.828125 56.984375 36.375 \r\nQ 56.984375 17.96875 50.515625 8.265625 \r\nQ 44.046875 -1.421875 31.78125 -1.421875 \r\nQ 19.53125 -1.421875 13.0625 8.265625 \r\nQ 6.59375 17.96875 6.59375 36.375 \r\nQ 6.59375 54.828125 13.0625 64.515625 \r\nQ 19.53125 74.21875 31.78125 74.21875 \r\nz\r\n\" id=\"DejaVuSans-48\"/>\r\n        <path d=\"M 4.890625 31.390625 \r\nL 31.203125 31.390625 \r\nL 31.203125 23.390625 \r\nL 4.890625 23.390625 \r\nz\r\n\" id=\"DejaVuSans-45\"/>\r\n        <path d=\"M 12.40625 8.296875 \r\nL 28.515625 8.296875 \r\nL 28.515625 63.921875 \r\nL 10.984375 60.40625 \r\nL 10.984375 69.390625 \r\nL 28.421875 72.90625 \r\nL 38.28125 72.90625 \r\nL 38.28125 8.296875 \r\nL 54.390625 8.296875 \r\nL 54.390625 0 \r\nL 12.40625 0 \r\nz\r\n\" id=\"DejaVuSans-49\"/>\r\n        <path d=\"M 10.984375 1.515625 \r\nL 10.984375 10.5 \r\nQ 14.703125 8.734375 18.5 7.8125 \r\nQ 22.3125 6.890625 25.984375 6.890625 \r\nQ 35.75 6.890625 40.890625 13.453125 \r\nQ 46.046875 20.015625 46.78125 33.40625 \r\nQ 43.953125 29.203125 39.59375 26.953125 \r\nQ 35.25 24.703125 29.984375 24.703125 \r\nQ 19.046875 24.703125 12.671875 31.3125 \r\nQ 6.296875 37.9375 6.296875 49.421875 \r\nQ 6.296875 60.640625 12.9375 67.421875 \r\nQ 19.578125 74.21875 30.609375 74.21875 \r\nQ 43.265625 74.21875 49.921875 64.515625 \r\nQ 56.59375 54.828125 56.59375 36.375 \r\nQ 56.59375 19.140625 48.40625 8.859375 \r\nQ 40.234375 -1.421875 26.421875 -1.421875 \r\nQ 22.703125 -1.421875 18.890625 -0.6875 \r\nQ 15.09375 0.046875 10.984375 1.515625 \r\nz\r\nM 30.609375 32.421875 \r\nQ 37.25 32.421875 41.125 36.953125 \r\nQ 45.015625 41.5 45.015625 49.421875 \r\nQ 45.015625 57.28125 41.125 61.84375 \r\nQ 37.25 66.40625 30.609375 66.40625 \r\nQ 23.96875 66.40625 20.09375 61.84375 \r\nQ 16.21875 57.28125 16.21875 49.421875 \r\nQ 16.21875 41.5 20.09375 36.953125 \r\nQ 23.96875 32.421875 30.609375 32.421875 \r\nz\r\n\" id=\"DejaVuSans-57\"/>\r\n       </defs>\r\n       <use xlink:href=\"#DejaVuSans-50\"/>\r\n       <use x=\"63.623047\" xlink:href=\"#DejaVuSans-48\"/>\r\n       <use x=\"127.246094\" xlink:href=\"#DejaVuSans-50\"/>\r\n       <use x=\"190.869141\" xlink:href=\"#DejaVuSans-48\"/>\r\n       <use x=\"254.492188\" xlink:href=\"#DejaVuSans-45\"/>\r\n       <use x=\"290.576172\" xlink:href=\"#DejaVuSans-49\"/>\r\n       <use x=\"354.199219\" xlink:href=\"#DejaVuSans-48\"/>\r\n       <use x=\"417.822266\" xlink:href=\"#DejaVuSans-45\"/>\r\n       <use x=\"453.90625\" xlink:href=\"#DejaVuSans-50\"/>\r\n       <use x=\"517.529297\" xlink:href=\"#DejaVuSans-57\"/>\r\n      </g>\r\n     </g>\r\n    </g>\r\n    <g id=\"xtick_2\">\r\n     <g id=\"line2d_2\">\r\n      <g>\r\n       <use style=\"stroke:#000000;stroke-width:0.8;\" x=\"116.596409\" xlink:href=\"#m18ffe7d39b\" y=\"224.64\"/>\r\n      </g>\r\n     </g>\r\n     <g id=\"text_2\">\r\n      <!-- 2020-11-01 -->\r\n      <g transform=\"translate(87.538597 239.238437)scale(0.1 -0.1)\">\r\n       <use xlink:href=\"#DejaVuSans-50\"/>\r\n       <use x=\"63.623047\" xlink:href=\"#DejaVuSans-48\"/>\r\n       <use x=\"127.246094\" xlink:href=\"#DejaVuSans-50\"/>\r\n       <use x=\"190.869141\" xlink:href=\"#DejaVuSans-48\"/>\r\n       <use x=\"254.492188\" xlink:href=\"#DejaVuSans-45\"/>\r\n       <use x=\"290.576172\" xlink:href=\"#DejaVuSans-49\"/>\r\n       <use x=\"354.199219\" xlink:href=\"#DejaVuSans-49\"/>\r\n       <use x=\"417.822266\" xlink:href=\"#DejaVuSans-45\"/>\r\n       <use x=\"453.90625\" xlink:href=\"#DejaVuSans-48\"/>\r\n       <use x=\"517.529297\" xlink:href=\"#DejaVuSans-49\"/>\r\n      </g>\r\n     </g>\r\n    </g>\r\n    <g id=\"xtick_3\">\r\n     <g id=\"line2d_3\">\r\n      <g>\r\n       <use style=\"stroke:#000000;stroke-width:0.8;\" x=\"164.946982\" xlink:href=\"#m18ffe7d39b\" y=\"224.64\"/>\r\n      </g>\r\n     </g>\r\n     <g id=\"text_3\">\r\n      <!-- 2020-11-05 -->\r\n      <g transform=\"translate(135.889169 239.238437)scale(0.1 -0.1)\">\r\n       <defs>\r\n        <path d=\"M 10.796875 72.90625 \r\nL 49.515625 72.90625 \r\nL 49.515625 64.59375 \r\nL 19.828125 64.59375 \r\nL 19.828125 46.734375 \r\nQ 21.96875 47.46875 24.109375 47.828125 \r\nQ 26.265625 48.1875 28.421875 48.1875 \r\nQ 40.625 48.1875 47.75 41.5 \r\nQ 54.890625 34.8125 54.890625 23.390625 \r\nQ 54.890625 11.625 47.5625 5.09375 \r\nQ 40.234375 -1.421875 26.90625 -1.421875 \r\nQ 22.3125 -1.421875 17.546875 -0.640625 \r\nQ 12.796875 0.140625 7.71875 1.703125 \r\nL 7.71875 11.625 \r\nQ 12.109375 9.234375 16.796875 8.0625 \r\nQ 21.484375 6.890625 26.703125 6.890625 \r\nQ 35.15625 6.890625 40.078125 11.328125 \r\nQ 45.015625 15.765625 45.015625 23.390625 \r\nQ 45.015625 31 40.078125 35.4375 \r\nQ 35.15625 39.890625 26.703125 39.890625 \r\nQ 22.75 39.890625 18.8125 39.015625 \r\nQ 14.890625 38.140625 10.796875 36.28125 \r\nz\r\n\" id=\"DejaVuSans-53\"/>\r\n       </defs>\r\n       <use xlink:href=\"#DejaVuSans-50\"/>\r\n       <use x=\"63.623047\" xlink:href=\"#DejaVuSans-48\"/>\r\n       <use x=\"127.246094\" xlink:href=\"#DejaVuSans-50\"/>\r\n       <use x=\"190.869141\" xlink:href=\"#DejaVuSans-48\"/>\r\n       <use x=\"254.492188\" xlink:href=\"#DejaVuSans-45\"/>\r\n       <use x=\"290.576172\" xlink:href=\"#DejaVuSans-49\"/>\r\n       <use x=\"354.199219\" xlink:href=\"#DejaVuSans-49\"/>\r\n       <use x=\"417.822266\" xlink:href=\"#DejaVuSans-45\"/>\r\n       <use x=\"453.90625\" xlink:href=\"#DejaVuSans-48\"/>\r\n       <use x=\"517.529297\" xlink:href=\"#DejaVuSans-53\"/>\r\n      </g>\r\n     </g>\r\n    </g>\r\n    <g id=\"xtick_4\">\r\n     <g id=\"line2d_4\">\r\n      <g>\r\n       <use style=\"stroke:#000000;stroke-width:0.8;\" x=\"213.297554\" xlink:href=\"#m18ffe7d39b\" y=\"224.64\"/>\r\n      </g>\r\n     </g>\r\n     <g id=\"text_4\">\r\n      <!-- 2020-11-09 -->\r\n      <g transform=\"translate(184.239742 239.238437)scale(0.1 -0.1)\">\r\n       <use xlink:href=\"#DejaVuSans-50\"/>\r\n       <use x=\"63.623047\" xlink:href=\"#DejaVuSans-48\"/>\r\n       <use x=\"127.246094\" xlink:href=\"#DejaVuSans-50\"/>\r\n       <use x=\"190.869141\" xlink:href=\"#DejaVuSans-48\"/>\r\n       <use x=\"254.492188\" xlink:href=\"#DejaVuSans-45\"/>\r\n       <use x=\"290.576172\" xlink:href=\"#DejaVuSans-49\"/>\r\n       <use x=\"354.199219\" xlink:href=\"#DejaVuSans-49\"/>\r\n       <use x=\"417.822266\" xlink:href=\"#DejaVuSans-45\"/>\r\n       <use x=\"453.90625\" xlink:href=\"#DejaVuSans-48\"/>\r\n       <use x=\"517.529297\" xlink:href=\"#DejaVuSans-57\"/>\r\n      </g>\r\n     </g>\r\n    </g>\r\n    <g id=\"xtick_5\">\r\n     <g id=\"line2d_5\">\r\n      <g>\r\n       <use style=\"stroke:#000000;stroke-width:0.8;\" x=\"261.648127\" xlink:href=\"#m18ffe7d39b\" y=\"224.64\"/>\r\n      </g>\r\n     </g>\r\n     <g id=\"text_5\">\r\n      <!-- 2020-11-13 -->\r\n      <g transform=\"translate(232.590314 239.238437)scale(0.1 -0.1)\">\r\n       <defs>\r\n        <path d=\"M 40.578125 39.3125 \r\nQ 47.65625 37.796875 51.625 33 \r\nQ 55.609375 28.21875 55.609375 21.1875 \r\nQ 55.609375 10.40625 48.1875 4.484375 \r\nQ 40.765625 -1.421875 27.09375 -1.421875 \r\nQ 22.515625 -1.421875 17.65625 -0.515625 \r\nQ 12.796875 0.390625 7.625 2.203125 \r\nL 7.625 11.71875 \r\nQ 11.71875 9.328125 16.59375 8.109375 \r\nQ 21.484375 6.890625 26.8125 6.890625 \r\nQ 36.078125 6.890625 40.9375 10.546875 \r\nQ 45.796875 14.203125 45.796875 21.1875 \r\nQ 45.796875 27.640625 41.28125 31.265625 \r\nQ 36.765625 34.90625 28.71875 34.90625 \r\nL 20.21875 34.90625 \r\nL 20.21875 43.015625 \r\nL 29.109375 43.015625 \r\nQ 36.375 43.015625 40.234375 45.921875 \r\nQ 44.09375 48.828125 44.09375 54.296875 \r\nQ 44.09375 59.90625 40.109375 62.90625 \r\nQ 36.140625 65.921875 28.71875 65.921875 \r\nQ 24.65625 65.921875 20.015625 65.03125 \r\nQ 15.375 64.15625 9.8125 62.3125 \r\nL 9.8125 71.09375 \r\nQ 15.4375 72.65625 20.34375 73.4375 \r\nQ 25.25 74.21875 29.59375 74.21875 \r\nQ 40.828125 74.21875 47.359375 69.109375 \r\nQ 53.90625 64.015625 53.90625 55.328125 \r\nQ 53.90625 49.265625 50.4375 45.09375 \r\nQ 46.96875 40.921875 40.578125 39.3125 \r\nz\r\n\" id=\"DejaVuSans-51\"/>\r\n       </defs>\r\n       <use xlink:href=\"#DejaVuSans-50\"/>\r\n       <use x=\"63.623047\" xlink:href=\"#DejaVuSans-48\"/>\r\n       <use x=\"127.246094\" xlink:href=\"#DejaVuSans-50\"/>\r\n       <use x=\"190.869141\" xlink:href=\"#DejaVuSans-48\"/>\r\n       <use x=\"254.492188\" xlink:href=\"#DejaVuSans-45\"/>\r\n       <use x=\"290.576172\" xlink:href=\"#DejaVuSans-49\"/>\r\n       <use x=\"354.199219\" xlink:href=\"#DejaVuSans-49\"/>\r\n       <use x=\"417.822266\" xlink:href=\"#DejaVuSans-45\"/>\r\n       <use x=\"453.90625\" xlink:href=\"#DejaVuSans-49\"/>\r\n       <use x=\"517.529297\" xlink:href=\"#DejaVuSans-51\"/>\r\n      </g>\r\n     </g>\r\n    </g>\r\n    <g id=\"xtick_6\">\r\n     <g id=\"line2d_6\">\r\n      <g>\r\n       <use style=\"stroke:#000000;stroke-width:0.8;\" x=\"309.998699\" xlink:href=\"#m18ffe7d39b\" y=\"224.64\"/>\r\n      </g>\r\n     </g>\r\n     <g id=\"text_6\">\r\n      <!-- 2020-11-17 -->\r\n      <g transform=\"translate(280.940887 239.238437)scale(0.1 -0.1)\">\r\n       <defs>\r\n        <path d=\"M 8.203125 72.90625 \r\nL 55.078125 72.90625 \r\nL 55.078125 68.703125 \r\nL 28.609375 0 \r\nL 18.3125 0 \r\nL 43.21875 64.59375 \r\nL 8.203125 64.59375 \r\nz\r\n\" id=\"DejaVuSans-55\"/>\r\n       </defs>\r\n       <use xlink:href=\"#DejaVuSans-50\"/>\r\n       <use x=\"63.623047\" xlink:href=\"#DejaVuSans-48\"/>\r\n       <use x=\"127.246094\" xlink:href=\"#DejaVuSans-50\"/>\r\n       <use x=\"190.869141\" xlink:href=\"#DejaVuSans-48\"/>\r\n       <use x=\"254.492188\" xlink:href=\"#DejaVuSans-45\"/>\r\n       <use x=\"290.576172\" xlink:href=\"#DejaVuSans-49\"/>\r\n       <use x=\"354.199219\" xlink:href=\"#DejaVuSans-49\"/>\r\n       <use x=\"417.822266\" xlink:href=\"#DejaVuSans-45\"/>\r\n       <use x=\"453.90625\" xlink:href=\"#DejaVuSans-49\"/>\r\n       <use x=\"517.529297\" xlink:href=\"#DejaVuSans-55\"/>\r\n      </g>\r\n     </g>\r\n    </g>\r\n    <g id=\"xtick_7\">\r\n     <g id=\"line2d_7\">\r\n      <g>\r\n       <use style=\"stroke:#000000;stroke-width:0.8;\" x=\"358.349272\" xlink:href=\"#m18ffe7d39b\" y=\"224.64\"/>\r\n      </g>\r\n     </g>\r\n     <g id=\"text_7\">\r\n      <!-- 2020-11-21 -->\r\n      <g transform=\"translate(329.291459 239.238437)scale(0.1 -0.1)\">\r\n       <use xlink:href=\"#DejaVuSans-50\"/>\r\n       <use x=\"63.623047\" xlink:href=\"#DejaVuSans-48\"/>\r\n       <use x=\"127.246094\" xlink:href=\"#DejaVuSans-50\"/>\r\n       <use x=\"190.869141\" xlink:href=\"#DejaVuSans-48\"/>\r\n       <use x=\"254.492188\" xlink:href=\"#DejaVuSans-45\"/>\r\n       <use x=\"290.576172\" xlink:href=\"#DejaVuSans-49\"/>\r\n       <use x=\"354.199219\" xlink:href=\"#DejaVuSans-49\"/>\r\n       <use x=\"417.822266\" xlink:href=\"#DejaVuSans-45\"/>\r\n       <use x=\"453.90625\" xlink:href=\"#DejaVuSans-50\"/>\r\n       <use x=\"517.529297\" xlink:href=\"#DejaVuSans-49\"/>\r\n      </g>\r\n     </g>\r\n    </g>\r\n   </g>\r\n   <g id=\"matplotlib.axis_2\">\r\n    <g id=\"ytick_1\">\r\n     <g id=\"line2d_8\">\r\n      <defs>\r\n       <path d=\"M 0 0 \r\nL -3.5 0 \r\n\" id=\"m0c4ee88478\" style=\"stroke:#000000;stroke-width:0.8;\"/>\r\n      </defs>\r\n      <g>\r\n       <use style=\"stroke:#000000;stroke-width:0.8;\" x=\"36.465625\" xlink:href=\"#m0c4ee88478\" y=\"214.756364\"/>\r\n      </g>\r\n     </g>\r\n     <g id=\"text_8\">\r\n      <!-- 1.00 -->\r\n      <g transform=\"translate(7.2 218.555582)scale(0.1 -0.1)\">\r\n       <defs>\r\n        <path d=\"M 10.6875 12.40625 \r\nL 21 12.40625 \r\nL 21 0 \r\nL 10.6875 0 \r\nz\r\n\" id=\"DejaVuSans-46\"/>\r\n       </defs>\r\n       <use xlink:href=\"#DejaVuSans-49\"/>\r\n       <use x=\"63.623047\" xlink:href=\"#DejaVuSans-46\"/>\r\n       <use x=\"95.410156\" xlink:href=\"#DejaVuSans-48\"/>\r\n       <use x=\"159.033203\" xlink:href=\"#DejaVuSans-48\"/>\r\n      </g>\r\n     </g>\r\n    </g>\r\n    <g id=\"ytick_2\">\r\n     <g id=\"line2d_9\">\r\n      <g>\r\n       <use style=\"stroke:#000000;stroke-width:0.8;\" x=\"36.465625\" xlink:href=\"#m0c4ee88478\" y=\"190.047273\"/>\r\n      </g>\r\n     </g>\r\n     <g id=\"text_9\">\r\n      <!-- 1.25 -->\r\n      <g transform=\"translate(7.2 193.846491)scale(0.1 -0.1)\">\r\n       <use xlink:href=\"#DejaVuSans-49\"/>\r\n       <use x=\"63.623047\" xlink:href=\"#DejaVuSans-46\"/>\r\n       <use x=\"95.410156\" xlink:href=\"#DejaVuSans-50\"/>\r\n       <use x=\"159.033203\" xlink:href=\"#DejaVuSans-53\"/>\r\n      </g>\r\n     </g>\r\n    </g>\r\n    <g id=\"ytick_3\">\r\n     <g id=\"line2d_10\">\r\n      <g>\r\n       <use style=\"stroke:#000000;stroke-width:0.8;\" x=\"36.465625\" xlink:href=\"#m0c4ee88478\" y=\"165.338182\"/>\r\n      </g>\r\n     </g>\r\n     <g id=\"text_10\">\r\n      <!-- 1.50 -->\r\n      <g transform=\"translate(7.2 169.137401)scale(0.1 -0.1)\">\r\n       <use xlink:href=\"#DejaVuSans-49\"/>\r\n       <use x=\"63.623047\" xlink:href=\"#DejaVuSans-46\"/>\r\n       <use x=\"95.410156\" xlink:href=\"#DejaVuSans-53\"/>\r\n       <use x=\"159.033203\" xlink:href=\"#DejaVuSans-48\"/>\r\n      </g>\r\n     </g>\r\n    </g>\r\n    <g id=\"ytick_4\">\r\n     <g id=\"line2d_11\">\r\n      <g>\r\n       <use style=\"stroke:#000000;stroke-width:0.8;\" x=\"36.465625\" xlink:href=\"#m0c4ee88478\" y=\"140.629091\"/>\r\n      </g>\r\n     </g>\r\n     <g id=\"text_11\">\r\n      <!-- 1.75 -->\r\n      <g transform=\"translate(7.2 144.42831)scale(0.1 -0.1)\">\r\n       <use xlink:href=\"#DejaVuSans-49\"/>\r\n       <use x=\"63.623047\" xlink:href=\"#DejaVuSans-46\"/>\r\n       <use x=\"95.410156\" xlink:href=\"#DejaVuSans-55\"/>\r\n       <use x=\"159.033203\" xlink:href=\"#DejaVuSans-53\"/>\r\n      </g>\r\n     </g>\r\n    </g>\r\n    <g id=\"ytick_5\">\r\n     <g id=\"line2d_12\">\r\n      <g>\r\n       <use style=\"stroke:#000000;stroke-width:0.8;\" x=\"36.465625\" xlink:href=\"#m0c4ee88478\" y=\"115.92\"/>\r\n      </g>\r\n     </g>\r\n     <g id=\"text_12\">\r\n      <!-- 2.00 -->\r\n      <g transform=\"translate(7.2 119.719219)scale(0.1 -0.1)\">\r\n       <use xlink:href=\"#DejaVuSans-50\"/>\r\n       <use x=\"63.623047\" xlink:href=\"#DejaVuSans-46\"/>\r\n       <use x=\"95.410156\" xlink:href=\"#DejaVuSans-48\"/>\r\n       <use x=\"159.033203\" xlink:href=\"#DejaVuSans-48\"/>\r\n      </g>\r\n     </g>\r\n    </g>\r\n    <g id=\"ytick_6\">\r\n     <g id=\"line2d_13\">\r\n      <g>\r\n       <use style=\"stroke:#000000;stroke-width:0.8;\" x=\"36.465625\" xlink:href=\"#m0c4ee88478\" y=\"91.210909\"/>\r\n      </g>\r\n     </g>\r\n     <g id=\"text_13\">\r\n      <!-- 2.25 -->\r\n      <g transform=\"translate(7.2 95.010128)scale(0.1 -0.1)\">\r\n       <use xlink:href=\"#DejaVuSans-50\"/>\r\n       <use x=\"63.623047\" xlink:href=\"#DejaVuSans-46\"/>\r\n       <use x=\"95.410156\" xlink:href=\"#DejaVuSans-50\"/>\r\n       <use x=\"159.033203\" xlink:href=\"#DejaVuSans-53\"/>\r\n      </g>\r\n     </g>\r\n    </g>\r\n    <g id=\"ytick_7\">\r\n     <g id=\"line2d_14\">\r\n      <g>\r\n       <use style=\"stroke:#000000;stroke-width:0.8;\" x=\"36.465625\" xlink:href=\"#m0c4ee88478\" y=\"66.501818\"/>\r\n      </g>\r\n     </g>\r\n     <g id=\"text_14\">\r\n      <!-- 2.50 -->\r\n      <g transform=\"translate(7.2 70.301037)scale(0.1 -0.1)\">\r\n       <use xlink:href=\"#DejaVuSans-50\"/>\r\n       <use x=\"63.623047\" xlink:href=\"#DejaVuSans-46\"/>\r\n       <use x=\"95.410156\" xlink:href=\"#DejaVuSans-53\"/>\r\n       <use x=\"159.033203\" xlink:href=\"#DejaVuSans-48\"/>\r\n      </g>\r\n     </g>\r\n    </g>\r\n    <g id=\"ytick_8\">\r\n     <g id=\"line2d_15\">\r\n      <g>\r\n       <use style=\"stroke:#000000;stroke-width:0.8;\" x=\"36.465625\" xlink:href=\"#m0c4ee88478\" y=\"41.792727\"/>\r\n      </g>\r\n     </g>\r\n     <g id=\"text_15\">\r\n      <!-- 2.75 -->\r\n      <g transform=\"translate(7.2 45.591946)scale(0.1 -0.1)\">\r\n       <use xlink:href=\"#DejaVuSans-50\"/>\r\n       <use x=\"63.623047\" xlink:href=\"#DejaVuSans-46\"/>\r\n       <use x=\"95.410156\" xlink:href=\"#DejaVuSans-55\"/>\r\n       <use x=\"159.033203\" xlink:href=\"#DejaVuSans-53\"/>\r\n      </g>\r\n     </g>\r\n    </g>\r\n    <g id=\"ytick_9\">\r\n     <g id=\"line2d_16\">\r\n      <g>\r\n       <use style=\"stroke:#000000;stroke-width:0.8;\" x=\"36.465625\" xlink:href=\"#m0c4ee88478\" y=\"17.083636\"/>\r\n      </g>\r\n     </g>\r\n     <g id=\"text_16\">\r\n      <!-- 3.00 -->\r\n      <g transform=\"translate(7.2 20.882855)scale(0.1 -0.1)\">\r\n       <use xlink:href=\"#DejaVuSans-51\"/>\r\n       <use x=\"63.623047\" xlink:href=\"#DejaVuSans-46\"/>\r\n       <use x=\"95.410156\" xlink:href=\"#DejaVuSans-48\"/>\r\n       <use x=\"159.033203\" xlink:href=\"#DejaVuSans-48\"/>\r\n      </g>\r\n     </g>\r\n    </g>\r\n   </g>\r\n   <g id=\"line2d_17\">\r\n    <path clip-path=\"url(#pb2f71afc4d)\" d=\"M 55.533385 115.92 \r\nL 55.551853 17.083636 \r\nL 67.655585 17.083636 \r\n\" style=\"fill:none;stroke:#1f77b4;stroke-linecap:square;stroke-width:1.5;\"/>\r\n   </g>\r\n   <g id=\"line2d_18\">\r\n    <path clip-path=\"url(#pb2f71afc4d)\" d=\"M 55.723094 115.92 \r\nL 67.767507 17.083636 \r\nL 176.450389 115.92 \r\n\" style=\"fill:none;stroke:#ff7f0e;stroke-linecap:square;stroke-width:1.5;\"/>\r\n   </g>\r\n   <g id=\"line2d_19\">\r\n    <path clip-path=\"url(#pb2f71afc4d)\" d=\"M 55.745619 17.083636 \r\nL 55.749816 115.92 \r\nL 344.571737 115.92 \r\n\" style=\"fill:none;stroke:#2ca02c;stroke-linecap:square;stroke-width:1.5;\"/>\r\n   </g>\r\n   <g id=\"line2d_20\">\r\n    <path clip-path=\"url(#pb2f71afc4d)\" d=\"M 55.900631 115.92 \r\nL 55.916301 115.92 \r\nL 67.485742 115.92 \r\n\" style=\"fill:none;stroke:#d62728;stroke-linecap:square;stroke-width:1.5;\"/>\r\n   </g>\r\n   <g id=\"line2d_21\">\r\n    <path clip-path=\"url(#pb2f71afc4d)\" d=\"M 55.918679 17.083636 \r\nL 55.930011 17.083636 \r\nL 55.944002 17.083636 \r\n\" style=\"fill:none;stroke:#9467bd;stroke-linecap:square;stroke-width:1.5;\"/>\r\n   </g>\r\n   <g id=\"line2d_22\">\r\n    <path clip-path=\"url(#pb2f71afc4d)\" d=\"M 56.690525 115.92 \r\nL 56.69808 115.92 \r\nL 56.701858 115.92 \r\n\" style=\"fill:none;stroke:#8c564b;stroke-linecap:square;stroke-width:1.5;\"/>\r\n   </g>\r\n   <g id=\"line2d_23\">\r\n    <path clip-path=\"url(#pb2f71afc4d)\" d=\"M 62.461396 115.92 \r\nL 62.46923 115.92 \r\nL 62.473148 115.92 \r\n\" style=\"fill:none;stroke:#e377c2;stroke-linecap:square;stroke-width:1.5;\"/>\r\n   </g>\r\n   <g id=\"line2d_24\">\r\n    <path clip-path=\"url(#pb2f71afc4d)\" d=\"M 58.539347 115.92 \r\nL 67.0831 115.92 \r\nL 81.548819 115.92 \r\n\" style=\"fill:none;stroke:#7f7f7f;stroke-linecap:square;stroke-width:1.5;\"/>\r\n   </g>\r\n   <g id=\"line2d_25\">\r\n    <path clip-path=\"url(#pb2f71afc4d)\" d=\"M 67.758274 115.92 \r\n\" style=\"fill:none;stroke:#bcbd22;stroke-linecap:square;stroke-width:1.5;\"/>\r\n   </g>\r\n   <g id=\"line2d_26\">\r\n    <path clip-path=\"url(#pb2f71afc4d)\" d=\"M 67.90881 17.083636 \r\nL 67.934552 17.083636 \r\nL 67.942386 17.083636 \r\n\" style=\"fill:none;stroke:#17becf;stroke-linecap:square;stroke-width:1.5;\"/>\r\n   </g>\r\n   <g id=\"line2d_27\">\r\n    <path clip-path=\"url(#pb2f71afc4d)\" d=\"M 55.542899 115.92 \r\nL 68.098938 17.083636 \r\nL 68.133354 17.083636 \r\n\" style=\"fill:none;stroke:#1f77b4;stroke-linecap:square;stroke-width:1.5;\"/>\r\n   </g>\r\n   <g id=\"line2d_28\">\r\n    <path clip-path=\"url(#pb2f71afc4d)\" d=\"M 54.2681 115.92 \r\nL 68.107053 115.92 \r\nL 68.11013 115.92 \r\n\" style=\"fill:none;stroke:#ff7f0e;stroke-linecap:square;stroke-width:1.5;\"/>\r\n   </g>\r\n   <g id=\"line2d_29\">\r\n    <path clip-path=\"url(#pb2f71afc4d)\" d=\"M 55.817529 214.756364 \r\nL 55.825783 115.92 \r\nL 68.315089 115.92 \r\n\" style=\"fill:none;stroke:#2ca02c;stroke-linecap:square;stroke-width:1.5;\"/>\r\n   </g>\r\n   <g id=\"line2d_30\">\r\n    <path clip-path=\"url(#pb2f71afc4d)\" d=\"M 55.610332 115.92 \r\nL 68.527462 115.92 \r\nL 68.774951 115.92 \r\n\" style=\"fill:none;stroke:#d62728;stroke-linecap:square;stroke-width:1.5;\"/>\r\n   </g>\r\n   <g id=\"line2d_31\">\r\n    <path clip-path=\"url(#pb2f71afc4d)\" d=\"M 69.228937 17.083636 \r\nL 69.243627 17.083636 \r\nL 69.257057 17.083636 \r\n\" style=\"fill:none;stroke:#9467bd;stroke-linecap:square;stroke-width:1.5;\"/>\r\n   </g>\r\n   <g id=\"line2d_32\">\r\n    <path clip-path=\"url(#pb2f71afc4d)\" d=\"M 67.140321 17.083636 \r\nL 71.518314 17.083636 \r\nL 71.565182 115.92 \r\n\" style=\"fill:none;stroke:#8c564b;stroke-linecap:square;stroke-width:1.5;\"/>\r\n   </g>\r\n   <g id=\"line2d_33\">\r\n    <path clip-path=\"url(#pb2f71afc4d)\" d=\"M 53.97878 17.083636 \r\nL 63.359155 17.083636 \r\nL 75.579007 17.083636 \r\n\" style=\"fill:none;stroke:#e377c2;stroke-linecap:square;stroke-width:1.5;\"/>\r\n   </g>\r\n   <g id=\"line2d_34\">\r\n    <path clip-path=\"url(#pb2f71afc4d)\" d=\"M 75.754445 115.92 \r\n\" style=\"fill:none;stroke:#7f7f7f;stroke-linecap:square;stroke-width:1.5;\"/>\r\n   </g>\r\n   <g id=\"line2d_35\">\r\n    <path clip-path=\"url(#pb2f71afc4d)\" d=\"M 76.013127 214.756364 \r\nL 76.047403 214.756364 \r\n\" style=\"fill:none;stroke:#bcbd22;stroke-linecap:square;stroke-width:1.5;\"/>\r\n   </g>\r\n   <g id=\"line2d_36\">\r\n    <path clip-path=\"url(#pb2f71afc4d)\" d=\"M 55.689517 17.083636 \r\nL 66.914657 17.083636 \r\nL 76.301048 17.083636 \r\n\" style=\"fill:none;stroke:#17becf;stroke-linecap:square;stroke-width:1.5;\"/>\r\n   </g>\r\n   <g id=\"line2d_37\">\r\n    <path clip-path=\"url(#pb2f71afc4d)\" d=\"M 77.97513 115.92 \r\nL 77.982125 115.92 \r\nL 111.862922 115.92 \r\n\" style=\"fill:none;stroke:#1f77b4;stroke-linecap:square;stroke-width:1.5;\"/>\r\n   </g>\r\n   <g id=\"line2d_38\">\r\n    <path clip-path=\"url(#pb2f71afc4d)\" d=\"M 55.375994 115.92 \r\nL 67.247207 115.92 \r\nL 78.064249 115.92 \r\n\" style=\"fill:none;stroke:#ff7f0e;stroke-linecap:square;stroke-width:1.5;\"/>\r\n   </g>\r\n   <g id=\"line2d_39\">\r\n    <path clip-path=\"url(#pb2f71afc4d)\" d=\"M 54.332596 115.92 \r\nL 78.113634 115.92 \r\n\" style=\"fill:none;stroke:#2ca02c;stroke-linecap:square;stroke-width:1.5;\"/>\r\n   </g>\r\n   <g id=\"line2d_40\">\r\n    <path clip-path=\"url(#pb2f71afc4d)\" d=\"M 78.225277 17.083636 \r\n\" style=\"fill:none;stroke:#d62728;stroke-linecap:square;stroke-width:1.5;\"/>\r\n   </g>\r\n   <g id=\"line2d_41\">\r\n    <path clip-path=\"url(#pb2f71afc4d)\" d=\"M 78.358885 17.083636 \r\nL 78.364761 17.083636 \r\n\" style=\"fill:none;stroke:#9467bd;stroke-linecap:square;stroke-width:1.5;\"/>\r\n   </g>\r\n   <g id=\"line2d_42\">\r\n    <path clip-path=\"url(#pb2f71afc4d)\" d=\"M 67.290857 115.92 \r\nL 78.673387 115.92 \r\n\" style=\"fill:none;stroke:#8c564b;stroke-linecap:square;stroke-width:1.5;\"/>\r\n   </g>\r\n   <g id=\"line2d_43\">\r\n    <path clip-path=\"url(#pb2f71afc4d)\" d=\"M 54.473898 115.92 \r\nL 66.741736 17.083636 \r\nL 78.869672 17.083636 \r\n\" style=\"fill:none;stroke:#e377c2;stroke-linecap:square;stroke-width:1.5;\"/>\r\n   </g>\r\n   <g id=\"line2d_44\">\r\n    <path clip-path=\"url(#pb2f71afc4d)\" d=\"M 55.372077 115.92 \r\nL 69.935309 115.92 \r\nL 78.949976 115.92 \r\nL 78.949976 17.083636 \r\n\" style=\"fill:none;stroke:#7f7f7f;stroke-linecap:square;stroke-width:1.5;\"/>\r\n   </g>\r\n   <g id=\"line2d_45\">\r\n    <path clip-path=\"url(#pb2f71afc4d)\" d=\"M 78.94382 115.92 \r\nL 78.950116 115.92 \r\nL 78.955712 115.92 \r\n\" style=\"fill:none;stroke:#bcbd22;stroke-linecap:square;stroke-width:1.5;\"/>\r\n   </g>\r\n   <g id=\"line2d_46\">\r\n    <path clip-path=\"url(#pb2f71afc4d)\" d=\"M 75.975073 17.083636 \r\nL 75.983747 17.083636 \r\nL 79.159271 17.083636 \r\n\" style=\"fill:none;stroke:#17becf;stroke-linecap:square;stroke-width:1.5;\"/>\r\n   </g>\r\n   <g id=\"line2d_47\">\r\n    <path clip-path=\"url(#pb2f71afc4d)\" d=\"M 55.456439 115.92 \r\nL 67.686643 17.083636 \r\nL 79.16165 115.92 \r\n\" style=\"fill:none;stroke:#1f77b4;stroke-linecap:square;stroke-width:1.5;\"/>\r\n   </g>\r\n   <g id=\"line2d_48\">\r\n    <path clip-path=\"url(#pb2f71afc4d)\" d=\"M 55.326329 115.92 \r\nL 65.838241 115.92 \r\nL 79.16193 115.92 \r\n\" style=\"fill:none;stroke:#ff7f0e;stroke-linecap:square;stroke-width:1.5;\"/>\r\n   </g>\r\n   <g id=\"line2d_49\">\r\n    <path clip-path=\"url(#pb2f71afc4d)\" d=\"M 69.250762 17.083636 \r\nL 79.234679 17.083636 \r\n\" style=\"fill:none;stroke:#2ca02c;stroke-linecap:square;stroke-width:1.5;\"/>\r\n   </g>\r\n   <g id=\"line2d_50\">\r\n    <path clip-path=\"url(#pb2f71afc4d)\" d=\"M 54.963699 115.92 \r\nL 66.756286 115.92 \r\nL 79.252447 115.92 \r\n\" style=\"fill:none;stroke:#d62728;stroke-linecap:square;stroke-width:1.5;\"/>\r\n   </g>\r\n   <g id=\"line2d_51\">\r\n    <path clip-path=\"url(#pb2f71afc4d)\" d=\"M 55.61285 115.92 \r\nL 67.039171 17.083636 \r\nL 79.265178 115.92 \r\n\" style=\"fill:none;stroke:#9467bd;stroke-linecap:square;stroke-width:1.5;\"/>\r\n   </g>\r\n   <g id=\"line2d_52\">\r\n    <path clip-path=\"url(#pb2f71afc4d)\" d=\"M 56.688567 115.92 \r\nL 70.29528 115.92 \r\nL 79.307289 115.92 \r\n\" style=\"fill:none;stroke:#8c564b;stroke-linecap:square;stroke-width:1.5;\"/>\r\n   </g>\r\n   <g id=\"line2d_53\">\r\n    <path clip-path=\"url(#pb2f71afc4d)\" d=\"M 55.694554 115.92 \r\nL 66.884997 115.92 \r\nL 79.558136 115.92 \r\n\" style=\"fill:none;stroke:#e377c2;stroke-linecap:square;stroke-width:1.5;\"/>\r\n   </g>\r\n   <g id=\"line2d_54\">\r\n    <path clip-path=\"url(#pb2f71afc4d)\" d=\"M 56.401345 115.92 \r\nL 56.414216 17.083636 \r\nL 79.611579 17.083636 \r\n\" style=\"fill:none;stroke:#7f7f7f;stroke-linecap:square;stroke-width:1.5;\"/>\r\n   </g>\r\n   <g id=\"line2d_55\">\r\n    <path clip-path=\"url(#pb2f71afc4d)\" d=\"M 51.895201 115.92 \r\nL 67.898317 115.92 \r\nL 79.621092 115.92 \r\n\" style=\"fill:none;stroke:#bcbd22;stroke-linecap:square;stroke-width:1.5;\"/>\r\n   </g>\r\n   <g id=\"line2d_56\">\r\n    <path clip-path=\"url(#pb2f71afc4d)\" d=\"M 55.405794 17.083636 \r\nL 67.903633 115.92 \r\nL 79.629347 17.083636 \r\n\" style=\"fill:none;stroke:#17becf;stroke-linecap:square;stroke-width:1.5;\"/>\r\n   </g>\r\n   <g id=\"line2d_57\">\r\n    <path clip-path=\"url(#pb2f71afc4d)\" d=\"M 53.905471 115.92 \r\nL 65.88273 17.083636 \r\nL 79.633124 115.92 \r\n\" style=\"fill:none;stroke:#1f77b4;stroke-linecap:square;stroke-width:1.5;\"/>\r\n   </g>\r\n   <g id=\"line2d_58\">\r\n    <path clip-path=\"url(#pb2f71afc4d)\" d=\"M 54.871083 115.92 \r\nL 66.96824 115.92 \r\nL 79.663483 115.92 \r\n\" style=\"fill:none;stroke:#ff7f0e;stroke-linecap:square;stroke-width:1.5;\"/>\r\n   </g>\r\n   <g id=\"line2d_59\">\r\n    <path clip-path=\"url(#pb2f71afc4d)\" d=\"M 53.401819 115.92 \r\nL 66.643664 115.92 \r\nL 79.699998 115.92 \r\n\" style=\"fill:none;stroke:#2ca02c;stroke-linecap:square;stroke-width:1.5;\"/>\r\n   </g>\r\n   <g id=\"line2d_60\">\r\n    <path clip-path=\"url(#pb2f71afc4d)\" d=\"M 54.280132 115.92 \r\nL 66.741037 115.92 \r\nL 79.794712 17.083636 \r\n\" style=\"fill:none;stroke:#d62728;stroke-linecap:square;stroke-width:1.5;\"/>\r\n   </g>\r\n   <g id=\"line2d_61\">\r\n    <path clip-path=\"url(#pb2f71afc4d)\" d=\"M 55.980656 17.083636 \r\nL 68.403368 17.083636 \r\nL 79.804366 17.083636 \r\n\" style=\"fill:none;stroke:#9467bd;stroke-linecap:square;stroke-width:1.5;\"/>\r\n   </g>\r\n   <g id=\"line2d_62\">\r\n    <path clip-path=\"url(#pb2f71afc4d)\" d=\"M 55.385508 17.083636 \r\nL 67.570523 115.92 \r\nL 79.808563 17.083636 \r\n\" style=\"fill:none;stroke:#8c564b;stroke-linecap:square;stroke-width:1.5;\"/>\r\n   </g>\r\n   <g id=\"line2d_63\">\r\n    <path clip-path=\"url(#pb2f71afc4d)\" d=\"M 54.84688 115.92 \r\nL 66.793221 115.92 \r\nL 79.829128 214.756364 \r\n\" style=\"fill:none;stroke:#e377c2;stroke-linecap:square;stroke-width:1.5;\"/>\r\n   </g>\r\n   <g id=\"line2d_64\">\r\n    <path clip-path=\"url(#pb2f71afc4d)\" d=\"M 67.694338 17.083636 \r\nL 79.570727 115.92 \r\nL 79.831367 115.92 \r\n\" style=\"fill:none;stroke:#7f7f7f;stroke-linecap:square;stroke-width:1.5;\"/>\r\n   </g>\r\n   <g id=\"line2d_65\">\r\n    <path clip-path=\"url(#pb2f71afc4d)\" d=\"M 54.955725 17.083636 \r\nL 54.969435 17.083636 \r\nL 79.840041 17.083636 \r\n\" style=\"fill:none;stroke:#bcbd22;stroke-linecap:square;stroke-width:1.5;\"/>\r\n   </g>\r\n   <g id=\"line2d_66\">\r\n    <path clip-path=\"url(#pb2f71afc4d)\" d=\"M 66.813507 17.083636 \r\nL 79.864104 214.756364 \r\n\" style=\"fill:none;stroke:#17becf;stroke-linecap:square;stroke-width:1.5;\"/>\r\n   </g>\r\n   <g id=\"line2d_67\">\r\n    <path clip-path=\"url(#pb2f71afc4d)\" d=\"M 52.421237 17.083636 \r\nL 67.076245 17.083636 \r\nL 79.881732 17.083636 \r\n\" style=\"fill:none;stroke:#1f77b4;stroke-linecap:square;stroke-width:1.5;\"/>\r\n   </g>\r\n   <g id=\"line2d_68\">\r\n    <path clip-path=\"url(#pb2f71afc4d)\" d=\"M 78.809653 115.92 \r\nL 78.818467 115.92 \r\nL 79.885929 115.92 \r\n\" style=\"fill:none;stroke:#ff7f0e;stroke-linecap:square;stroke-width:1.5;\"/>\r\n   </g>\r\n   <g id=\"line2d_69\">\r\n    <path clip-path=\"url(#pb2f71afc4d)\" d=\"M 67.837039 115.92 \r\nL 67.841376 115.92 \r\nL 79.917128 115.92 \r\n\" style=\"fill:none;stroke:#2ca02c;stroke-linecap:square;stroke-width:1.5;\"/>\r\n   </g>\r\n   <g id=\"line2d_70\">\r\n    <path clip-path=\"url(#pb2f71afc4d)\" d=\"M 55.834597 17.083636 \r\nL 68.047734 17.083636 \r\nL 79.934615 17.083636 \r\n\" style=\"fill:none;stroke:#d62728;stroke-linecap:square;stroke-width:1.5;\"/>\r\n   </g>\r\n   <g id=\"line2d_71\">\r\n    <path clip-path=\"url(#pb2f71afc4d)\" d=\"M 56.30845 17.083636 \r\nL 68.282211 17.083636 \r\nL 79.937553 17.083636 \r\n\" style=\"fill:none;stroke:#9467bd;stroke-linecap:square;stroke-width:1.5;\"/>\r\n   </g>\r\n   <g id=\"line2d_72\">\r\n    <path clip-path=\"url(#pb2f71afc4d)\" d=\"M 57.082394 17.083636 \r\nL 68.580345 17.083636 \r\nL 68.580345 115.92 \r\nL 79.962316 17.083636 \r\n\" style=\"fill:none;stroke:#8c564b;stroke-linecap:square;stroke-width:1.5;\"/>\r\n   </g>\r\n   <g id=\"line2d_73\">\r\n    <path clip-path=\"url(#pb2f71afc4d)\" d=\"M 67.72036 17.083636 \r\nL 67.904892 17.083636 \r\nL 79.972949 17.083636 \r\n\" style=\"fill:none;stroke:#e377c2;stroke-linecap:square;stroke-width:1.5;\"/>\r\n   </g>\r\n   <g id=\"line2d_74\">\r\n    <path clip-path=\"url(#pb2f71afc4d)\" d=\"M 56.008637 17.083636 \r\nL 67.884187 17.083636 \r\nL 79.982322 17.083636 \r\n\" style=\"fill:none;stroke:#7f7f7f;stroke-linecap:square;stroke-width:1.5;\"/>\r\n   </g>\r\n   <g id=\"line2d_75\">\r\n    <path clip-path=\"url(#pb2f71afc4d)\" d=\"M 79.991136 17.083636 \r\n\" style=\"fill:none;stroke:#bcbd22;stroke-linecap:square;stroke-width:1.5;\"/>\r\n   </g>\r\n   <g id=\"line2d_76\">\r\n    <path clip-path=\"url(#pb2f71afc4d)\" d=\"M 56.498578 115.92 \r\nL 66.858835 115.92 \r\nL 80.018418 115.92 \r\n\" style=\"fill:none;stroke:#17becf;stroke-linecap:square;stroke-width:1.5;\"/>\r\n   </g>\r\n   <g id=\"line2d_77\">\r\n    <path clip-path=\"url(#pb2f71afc4d)\" d=\"M 67.787513 17.083636 \r\nL 67.992472 17.083636 \r\nL 80.030169 17.083636 \r\n\" style=\"fill:none;stroke:#1f77b4;stroke-linecap:square;stroke-width:1.5;\"/>\r\n   </g>\r\n   <g id=\"line2d_78\">\r\n    <path clip-path=\"url(#pb2f71afc4d)\" d=\"M 66.719352 17.083636 \r\nL 66.773075 17.083636 \r\nL 80.051155 17.083636 \r\n\" style=\"fill:none;stroke:#ff7f0e;stroke-linecap:square;stroke-width:1.5;\"/>\r\n   </g>\r\n   <g id=\"line2d_79\">\r\n    <path clip-path=\"url(#pb2f71afc4d)\" d=\"M 66.713336 115.92 \r\nL 66.720191 115.92 \r\nL 80.05871 115.92 \r\n\" style=\"fill:none;stroke:#2ca02c;stroke-linecap:square;stroke-width:1.5;\"/>\r\n   </g>\r\n   <g id=\"line2d_80\">\r\n    <path clip-path=\"url(#pb2f71afc4d)\" d=\"M 80.059829 115.92 \r\n\" style=\"fill:none;stroke:#d62728;stroke-linecap:square;stroke-width:1.5;\"/>\r\n   </g>\r\n   <g id=\"line2d_81\">\r\n    <path clip-path=\"url(#pb2f71afc4d)\" d=\"M 80.065005 17.083636 \r\n\" style=\"fill:none;stroke:#9467bd;stroke-linecap:square;stroke-width:1.5;\"/>\r\n   </g>\r\n   <g id=\"line2d_82\">\r\n    <path clip-path=\"url(#pb2f71afc4d)\" d=\"M 54.665985 17.083636 \r\nL 67.47483 17.083636 \r\nL 80.066404 17.083636 \r\n\" style=\"fill:none;stroke:#8c564b;stroke-linecap:square;stroke-width:1.5;\"/>\r\n   </g>\r\n   <g id=\"line2d_83\">\r\n    <path clip-path=\"url(#pb2f71afc4d)\" d=\"M 67.762611 17.083636 \r\nL 80.066404 17.083636 \r\n\" style=\"fill:none;stroke:#e377c2;stroke-linecap:square;stroke-width:1.5;\"/>\r\n   </g>\r\n   <g id=\"line2d_84\">\r\n    <path clip-path=\"url(#pb2f71afc4d)\" d=\"M 56.893525 115.92 \r\nL 56.91521 115.92 \r\nL 80.073959 17.083636 \r\n\" style=\"fill:none;stroke:#7f7f7f;stroke-linecap:square;stroke-width:1.5;\"/>\r\n   </g>\r\n   <g id=\"line2d_85\">\r\n    <path clip-path=\"url(#pb2f71afc4d)\" d=\"M 54.525942 115.92 \r\nL 67.629003 115.92 \r\nL 80.084452 17.083636 \r\n\" style=\"fill:none;stroke:#bcbd22;stroke-linecap:square;stroke-width:1.5;\"/>\r\n   </g>\r\n   <g id=\"line2d_86\">\r\n    <path clip-path=\"url(#pb2f71afc4d)\" d=\"M 56.020249 17.083636 \r\nL 80.104178 17.083636 \r\n\" style=\"fill:none;stroke:#17becf;stroke-linecap:square;stroke-width:1.5;\"/>\r\n   </g>\r\n   <g id=\"line2d_87\">\r\n    <path clip-path=\"url(#pb2f71afc4d)\" d=\"M 55.986672 17.083636 \r\nL 80.104458 17.083636 \r\n\" style=\"fill:none;stroke:#1f77b4;stroke-linecap:square;stroke-width:1.5;\"/>\r\n   </g>\r\n   <g id=\"line2d_88\">\r\n    <path clip-path=\"url(#pb2f71afc4d)\" d=\"M 65.317661 115.92 \r\nL 68.090824 115.92 \r\nL 80.110614 115.92 \r\n\" style=\"fill:none;stroke:#ff7f0e;stroke-linecap:square;stroke-width:1.5;\"/>\r\n   </g>\r\n   <g id=\"line2d_89\">\r\n    <path clip-path=\"url(#pb2f71afc4d)\" d=\"M 55.994926 17.083636 \r\nL 68.205544 17.083636 \r\nL 80.112153 17.083636 \r\n\" style=\"fill:none;stroke:#2ca02c;stroke-linecap:square;stroke-width:1.5;\"/>\r\n   </g>\r\n   <g id=\"line2d_90\">\r\n    <path clip-path=\"url(#pb2f71afc4d)\" d=\"M 56.159173 115.92 \r\nL 67.710707 115.92 \r\nL 80.121946 115.92 \r\n\" style=\"fill:none;stroke:#d62728;stroke-linecap:square;stroke-width:1.5;\"/>\r\n   </g>\r\n   <g id=\"line2d_91\">\r\n    <path clip-path=\"url(#pb2f71afc4d)\" d=\"M 55.829421 115.92 \r\nL 68.044516 115.92 \r\nL 80.128102 115.92 \r\n\" style=\"fill:none;stroke:#9467bd;stroke-linecap:square;stroke-width:1.5;\"/>\r\n   </g>\r\n   <g id=\"line2d_92\">\r\n    <path clip-path=\"url(#pb2f71afc4d)\" d=\"M 55.098706 115.92 \r\nL 67.356052 17.083636 \r\nL 80.129641 17.083636 \r\n\" style=\"fill:none;stroke:#8c564b;stroke-linecap:square;stroke-width:1.5;\"/>\r\n   </g>\r\n   <g id=\"line2d_93\">\r\n    <path clip-path=\"url(#pb2f71afc4d)\" d=\"M 56.117062 115.92 \r\nL 67.406697 115.92 \r\nL 80.14517 115.92 \r\n\" style=\"fill:none;stroke:#e377c2;stroke-linecap:square;stroke-width:1.5;\"/>\r\n   </g>\r\n   <g id=\"line2d_94\">\r\n    <path clip-path=\"url(#pb2f71afc4d)\" d=\"M 56.028363 17.083636 \r\nL 80.148528 17.083636 \r\n\" style=\"fill:none;stroke:#7f7f7f;stroke-linecap:square;stroke-width:1.5;\"/>\r\n   </g>\r\n   <g id=\"line2d_95\">\r\n    <path clip-path=\"url(#pb2f71afc4d)\" d=\"M 80.147548 115.92 \r\nL 80.152165 115.92 \r\nL 80.155243 115.92 \r\n\" style=\"fill:none;stroke:#bcbd22;stroke-linecap:square;stroke-width:1.5;\"/>\r\n   </g>\r\n   <g id=\"line2d_96\">\r\n    <path clip-path=\"url(#pb2f71afc4d)\" d=\"M 67.866559 17.083636 \r\nL 68.24024 17.083636 \r\nL 80.167135 17.083636 \r\n\" style=\"fill:none;stroke:#17becf;stroke-linecap:square;stroke-width:1.5;\"/>\r\n   </g>\r\n   <g id=\"line2d_97\">\r\n    <path clip-path=\"url(#pb2f71afc4d)\" d=\"M 55.995626 115.92 \r\nL 68.148884 115.92 \r\nL 80.169373 115.92 \r\n\" style=\"fill:none;stroke:#1f77b4;stroke-linecap:square;stroke-width:1.5;\"/>\r\n   </g>\r\n   <g id=\"line2d_98\">\r\n    <path clip-path=\"url(#pb2f71afc4d)\" d=\"M 55.833058 115.92 \r\nL 67.904752 115.92 \r\nL 80.17357 115.92 \r\n\" style=\"fill:none;stroke:#ff7f0e;stroke-linecap:square;stroke-width:1.5;\"/>\r\n   </g>\r\n   <g id=\"line2d_99\">\r\n    <path clip-path=\"url(#pb2f71afc4d)\" d=\"M 55.832499 115.92 \r\nL 68.249754 17.083636 \r\nL 80.180565 115.92 \r\n\" style=\"fill:none;stroke:#2ca02c;stroke-linecap:square;stroke-width:1.5;\"/>\r\n   </g>\r\n   <g id=\"line2d_100\">\r\n    <path clip-path=\"url(#pb2f71afc4d)\" d=\"M 54.659829 115.92 \r\nL 67.760652 17.083636 \r\nL 80.200432 17.083636 \r\n\" style=\"fill:none;stroke:#d62728;stroke-linecap:square;stroke-width:1.5;\"/>\r\n   </g>\r\n   <g id=\"line2d_101\">\r\n    <path clip-path=\"url(#pb2f71afc4d)\" d=\"M 55.514359 115.92 \r\nL 67.963092 115.92 \r\nL 80.234008 17.083636 \r\n\" style=\"fill:none;stroke:#9467bd;stroke-linecap:square;stroke-width:1.5;\"/>\r\n   </g>\r\n   <g id=\"line2d_102\">\r\n    <path clip-path=\"url(#pb2f71afc4d)\" d=\"M 57.62452 115.92 \r\nL 68.277595 115.92 \r\nL 80.240024 115.92 \r\n\" style=\"fill:none;stroke:#8c564b;stroke-linecap:square;stroke-width:1.5;\"/>\r\n   </g>\r\n   <g id=\"line2d_103\">\r\n    <path clip-path=\"url(#pb2f71afc4d)\" d=\"M 56.478012 115.92 \r\nL 68.204845 115.92 \r\nL 80.24604 115.92 \r\n\" style=\"fill:none;stroke:#e377c2;stroke-linecap:square;stroke-width:1.5;\"/>\r\n   </g>\r\n   <g id=\"line2d_104\">\r\n    <path clip-path=\"url(#pb2f71afc4d)\" d=\"M 66.713196 115.92 \r\nL 66.713196 17.083636 \r\nL 68.100337 115.92 \r\nL 80.24688 115.92 \r\n\" style=\"fill:none;stroke:#7f7f7f;stroke-linecap:square;stroke-width:1.5;\"/>\r\n   </g>\r\n   <g id=\"line2d_105\">\r\n    <path clip-path=\"url(#pb2f71afc4d)\" d=\"M 55.769822 17.083636 \r\nL 55.770661 17.083636 \r\nL 80.257652 17.083636 \r\n\" style=\"fill:none;stroke:#bcbd22;stroke-linecap:square;stroke-width:1.5;\"/>\r\n   </g>\r\n   <g id=\"line2d_106\">\r\n    <path clip-path=\"url(#pb2f71afc4d)\" d=\"M 57.187322 115.92 \r\nL 80.261989 115.92 \r\n\" style=\"fill:none;stroke:#17becf;stroke-linecap:square;stroke-width:1.5;\"/>\r\n   </g>\r\n   <g id=\"line2d_107\">\r\n    <path clip-path=\"url(#pb2f71afc4d)\" d=\"M 65.908193 17.083636 \r\nL 71.716977 17.083636 \r\nL 80.264228 17.083636 \r\nL 80.264228 115.92 \r\n\" style=\"fill:none;stroke:#1f77b4;stroke-linecap:square;stroke-width:1.5;\"/>\r\n   </g>\r\n   <g id=\"line2d_108\">\r\n    <path clip-path=\"url(#pb2f71afc4d)\" d=\"M 57.432293 17.083636 \r\nL 66.834912 17.083636 \r\nL 80.296825 17.083636 \r\n\" style=\"fill:none;stroke:#ff7f0e;stroke-linecap:square;stroke-width:1.5;\"/>\r\n   </g>\r\n   <g id=\"line2d_109\">\r\n    <path clip-path=\"url(#pb2f71afc4d)\" d=\"M 66.171211 17.083636 \r\nL 66.171211 115.92 \r\nL 67.724557 17.083636 \r\nL 80.357543 17.083636 \r\n\" style=\"fill:none;stroke:#2ca02c;stroke-linecap:square;stroke-width:1.5;\"/>\r\n   </g>\r\n   <g id=\"line2d_110\">\r\n    <path clip-path=\"url(#pb2f71afc4d)\" d=\"M 55.36788 115.92 \r\nL 80.403012 214.756364 \r\n\" style=\"fill:none;stroke:#d62728;stroke-linecap:square;stroke-width:1.5;\"/>\r\n   </g>\r\n   <g id=\"line2d_111\">\r\n    <path clip-path=\"url(#pb2f71afc4d)\" d=\"M 80.413644 17.083636 \r\nL 100.532015 17.083636 \r\n\" style=\"fill:none;stroke:#9467bd;stroke-linecap:square;stroke-width:1.5;\"/>\r\n   </g>\r\n   <g id=\"line2d_112\">\r\n    <path clip-path=\"url(#pb2f71afc4d)\" d=\"M 80.354045 115.92 \r\nL 80.414624 115.92 \r\nL 80.418121 115.92 \r\n\" style=\"fill:none;stroke:#8c564b;stroke-linecap:square;stroke-width:1.5;\"/>\r\n   </g>\r\n   <g id=\"line2d_113\">\r\n    <path clip-path=\"url(#pb2f71afc4d)\" d=\"M 55.84495 115.92 \r\nL 67.896218 115.92 \r\nL 80.461491 115.92 \r\nL 80.461491 214.756364 \r\n\" style=\"fill:none;stroke:#e377c2;stroke-linecap:square;stroke-width:1.5;\"/>\r\n   </g>\r\n   <g id=\"line2d_114\">\r\n    <path clip-path=\"url(#pb2f71afc4d)\" d=\"M 80.481078 115.92 \r\nL 80.486534 115.92 \r\n\" style=\"fill:none;stroke:#7f7f7f;stroke-linecap:square;stroke-width:1.5;\"/>\r\n   </g>\r\n   <g id=\"line2d_115\">\r\n    <path clip-path=\"url(#pb2f71afc4d)\" d=\"M 57.803456 115.92 \r\nL 75.142928 17.083636 \r\nL 80.500524 115.92 \r\n\" style=\"fill:none;stroke:#bcbd22;stroke-linecap:square;stroke-width:1.5;\"/>\r\n   </g>\r\n   <g id=\"line2d_116\">\r\n    <path clip-path=\"url(#pb2f71afc4d)\" d=\"M 63.723323 17.083636 \r\nL 67.976243 17.083636 \r\nL 80.517592 17.083636 \r\n\" style=\"fill:none;stroke:#17becf;stroke-linecap:square;stroke-width:1.5;\"/>\r\n   </g>\r\n   <g id=\"line2d_117\">\r\n    <path clip-path=\"url(#pb2f71afc4d)\" d=\"M 80.534241 115.92 \r\n\" style=\"fill:none;stroke:#1f77b4;stroke-linecap:square;stroke-width:1.5;\"/>\r\n   </g>\r\n   <g id=\"line2d_118\">\r\n    <path clip-path=\"url(#pb2f71afc4d)\" d=\"M 56.010456 115.92 \r\nL 68.068579 115.92 \r\nL 80.597337 115.92 \r\n\" style=\"fill:none;stroke:#ff7f0e;stroke-linecap:square;stroke-width:1.5;\"/>\r\n   </g>\r\n   <g id=\"line2d_119\">\r\n    <path clip-path=\"url(#pb2f71afc4d)\" d=\"M 56.518864 115.92 \r\nL 56.518864 214.756364 \r\nL 68.159936 17.083636 \r\nL 80.673585 115.92 \r\n\" style=\"fill:none;stroke:#2ca02c;stroke-linecap:square;stroke-width:1.5;\"/>\r\n   </g>\r\n   <g id=\"line2d_120\">\r\n    <path clip-path=\"url(#pb2f71afc4d)\" d=\"M 68.334675 115.92 \r\nL 79.199284 115.92 \r\nL 80.682818 115.92 \r\n\" style=\"fill:none;stroke:#d62728;stroke-linecap:square;stroke-width:1.5;\"/>\r\n   </g>\r\n   <g id=\"line2d_121\">\r\n    <path clip-path=\"url(#pb2f71afc4d)\" d=\"M 55.12193 17.083636 \r\nL 67.009092 115.92 \r\nL 80.76648 115.92 \r\n\" style=\"fill:none;stroke:#9467bd;stroke-linecap:square;stroke-width:1.5;\"/>\r\n   </g>\r\n   <g id=\"line2d_122\">\r\n    <path clip-path=\"url(#pb2f71afc4d)\" d=\"M 69.922158 115.92 \r\nL 69.949998 115.92 \r\nL 80.779072 115.92 \r\n\" style=\"fill:none;stroke:#8c564b;stroke-linecap:square;stroke-width:1.5;\"/>\r\n   </g>\r\n   <g id=\"line2d_123\">\r\n    <path clip-path=\"url(#pb2f71afc4d)\" d=\"M 80.906244 17.083636 \r\n\" style=\"fill:none;stroke:#e377c2;stroke-linecap:square;stroke-width:1.5;\"/>\r\n   </g>\r\n   <g id=\"line2d_124\">\r\n    <path clip-path=\"url(#pb2f71afc4d)\" d=\"M 56.318802 17.083636 \r\nL 68.208622 17.083636 \r\nL 80.914638 17.083636 \r\n\" style=\"fill:none;stroke:#7f7f7f;stroke-linecap:square;stroke-width:1.5;\"/>\r\n   </g>\r\n   <g id=\"line2d_125\">\r\n    <path clip-path=\"url(#pb2f71afc4d)\" d=\"M 68.593356 17.083636 \r\nL 80.918415 17.083636 \r\n\" style=\"fill:none;stroke:#bcbd22;stroke-linecap:square;stroke-width:1.5;\"/>\r\n   </g>\r\n   <g id=\"line2d_126\">\r\n    <path clip-path=\"url(#pb2f71afc4d)\" d=\"M 63.566352 115.92 \r\nL 70.144464 115.92 \r\nL 80.928209 115.92 \r\n\" style=\"fill:none;stroke:#17becf;stroke-linecap:square;stroke-width:1.5;\"/>\r\n   </g>\r\n   <g id=\"line2d_127\">\r\n    <path clip-path=\"url(#pb2f71afc4d)\" d=\"M 67.738827 17.083636 \r\nL 80.931706 17.083636 \r\n\" style=\"fill:none;stroke:#1f77b4;stroke-linecap:square;stroke-width:1.5;\"/>\r\n   </g>\r\n   <g id=\"line2d_128\">\r\n    <path clip-path=\"url(#pb2f71afc4d)\" d=\"M 55.957432 115.92 \r\nL 68.157558 115.92 \r\nL 80.946536 115.92 \r\n\" style=\"fill:none;stroke:#ff7f0e;stroke-linecap:square;stroke-width:1.5;\"/>\r\n   </g>\r\n   <g id=\"line2d_129\">\r\n    <path clip-path=\"url(#pb2f71afc4d)\" d=\"M 66.843586 17.083636 \r\nL 67.993591 17.083636 \r\nL 80.964863 115.92 \r\n\" style=\"fill:none;stroke:#2ca02c;stroke-linecap:square;stroke-width:1.5;\"/>\r\n   </g>\r\n   <g id=\"line2d_130\">\r\n    <path clip-path=\"url(#pb2f71afc4d)\" d=\"M 57.965884 115.92 \r\nL 76.194301 17.083636 \r\nL 80.993403 17.083636 \r\n\" style=\"fill:none;stroke:#d62728;stroke-linecap:square;stroke-width:1.5;\"/>\r\n   </g>\r\n   <g id=\"line2d_131\">\r\n    <path clip-path=\"url(#pb2f71afc4d)\" d=\"M 81.062795 214.756364 \r\n\" style=\"fill:none;stroke:#9467bd;stroke-linecap:square;stroke-width:1.5;\"/>\r\n   </g>\r\n   <g id=\"line2d_132\">\r\n    <path clip-path=\"url(#pb2f71afc4d)\" d=\"M 56.632885 115.92 \r\nL 68.286688 115.92 \r\nL 81.117078 115.92 \r\n\" style=\"fill:none;stroke:#8c564b;stroke-linecap:square;stroke-width:1.5;\"/>\r\n   </g>\r\n   <g id=\"line2d_133\">\r\n    <path clip-path=\"url(#pb2f71afc4d)\" d=\"M 56.501376 17.083636 \r\nL 68.415259 17.083636 \r\nL 81.192766 17.083636 \r\n\" style=\"fill:none;stroke:#e377c2;stroke-linecap:square;stroke-width:1.5;\"/>\r\n   </g>\r\n   <g id=\"line2d_134\">\r\n    <path clip-path=\"url(#pb2f71afc4d)\" d=\"M 54.16639 17.083636 \r\nL 68.572231 17.083636 \r\nL 81.220746 17.083636 \r\n\" style=\"fill:none;stroke:#7f7f7f;stroke-linecap:square;stroke-width:1.5;\"/>\r\n   </g>\r\n   <g id=\"line2d_135\">\r\n    <path clip-path=\"url(#pb2f71afc4d)\" d=\"M 81.220327 115.92 \r\nL 81.227462 115.92 \r\nL 81.234037 115.92 \r\n\" style=\"fill:none;stroke:#bcbd22;stroke-linecap:square;stroke-width:1.5;\"/>\r\n   </g>\r\n   <g id=\"line2d_136\">\r\n    <path clip-path=\"url(#pb2f71afc4d)\" d=\"M 56.019689 115.92 \r\nL 81.233757 115.92 \r\nL 81.246768 17.083636 \r\n\" style=\"fill:none;stroke:#17becf;stroke-linecap:square;stroke-width:1.5;\"/>\r\n   </g>\r\n   <g id=\"line2d_137\">\r\n    <path clip-path=\"url(#pb2f71afc4d)\" d=\"M 66.802035 17.083636 \r\nL 78.847007 17.083636 \r\nL 81.261458 115.92 \r\n\" style=\"fill:none;stroke:#1f77b4;stroke-linecap:square;stroke-width:1.5;\"/>\r\n   </g>\r\n   <g id=\"line2d_138\">\r\n    <path clip-path=\"url(#pb2f71afc4d)\" d=\"M 55.140537 115.92 \r\nL 67.845573 115.92 \r\nL 81.564349 115.92 \r\n\" style=\"fill:none;stroke:#ff7f0e;stroke-linecap:square;stroke-width:1.5;\"/>\r\n   </g>\r\n   <g id=\"line2d_139\">\r\n    <path clip-path=\"url(#pb2f71afc4d)\" d=\"M 81.579318 115.92 \r\nL 81.594148 17.083636 \r\nL 81.604641 17.083636 \r\n\" style=\"fill:none;stroke:#2ca02c;stroke-linecap:square;stroke-width:1.5;\"/>\r\n   </g>\r\n   <g id=\"line2d_140\">\r\n    <path clip-path=\"url(#pb2f71afc4d)\" d=\"M 55.506944 115.92 \r\nL 66.901366 115.92 \r\nL 81.697397 115.92 \r\n\" style=\"fill:none;stroke:#d62728;stroke-linecap:square;stroke-width:1.5;\"/>\r\n   </g>\r\n   <g id=\"line2d_141\">\r\n    <path clip-path=\"url(#pb2f71afc4d)\" d=\"M 67.793389 17.083636 \r\nL 68.041158 115.92 \r\nL 81.776162 17.083636 \r\n\" style=\"fill:none;stroke:#9467bd;stroke-linecap:square;stroke-width:1.5;\"/>\r\n   </g>\r\n   <g id=\"line2d_142\">\r\n    <path clip-path=\"url(#pb2f71afc4d)\" d=\"M 63.391193 17.083636 \r\nL 63.400007 115.92 \r\nL 82.140051 17.083636 \r\n\" style=\"fill:none;stroke:#8c564b;stroke-linecap:square;stroke-width:1.5;\"/>\r\n   </g>\r\n   <g id=\"line2d_143\">\r\n    <path clip-path=\"url(#pb2f71afc4d)\" d=\"M 54.560358 17.083636 \r\nL 68.180782 17.083636 \r\nL 82.19965 214.756364 \r\n\" style=\"fill:none;stroke:#e377c2;stroke-linecap:square;stroke-width:1.5;\"/>\r\n   </g>\r\n   <g id=\"line2d_144\">\r\n    <path clip-path=\"url(#pb2f71afc4d)\" d=\"M 82.25743 115.92 \r\nL 82.260927 115.92 \r\n\" style=\"fill:none;stroke:#7f7f7f;stroke-linecap:square;stroke-width:1.5;\"/>\r\n   </g>\r\n   <g id=\"line2d_145\">\r\n    <path clip-path=\"url(#pb2f71afc4d)\" d=\"M 56.768452 115.92 \r\nL 70.694144 115.92 \r\nL 82.288628 115.92 \r\n\" style=\"fill:none;stroke:#bcbd22;stroke-linecap:square;stroke-width:1.5;\"/>\r\n   </g>\r\n   <g id=\"line2d_146\">\r\n    <path clip-path=\"url(#pb2f71afc4d)\" d=\"M 69.371498 115.92 \r\nL 69.38367 115.92 \r\nL 82.299121 115.92 \r\n\" style=\"fill:none;stroke:#17becf;stroke-linecap:square;stroke-width:1.5;\"/>\r\n   </g>\r\n   <g id=\"line2d_147\">\r\n    <path clip-path=\"url(#pb2f71afc4d)\" d=\"M 56.967534 17.083636 \r\nL 69.293992 17.083636 \r\nL 82.318707 17.083636 \r\n\" style=\"fill:none;stroke:#1f77b4;stroke-linecap:square;stroke-width:1.5;\"/>\r\n   </g>\r\n   <g id=\"line2d_148\">\r\n    <path clip-path=\"url(#pb2f71afc4d)\" d=\"M 55.792626 115.92 \r\nL 67.859424 17.083636 \r\nL 82.383762 115.92 \r\n\" style=\"fill:none;stroke:#ff7f0e;stroke-linecap:square;stroke-width:1.5;\"/>\r\n   </g>\r\n   <g id=\"line2d_149\">\r\n    <path clip-path=\"url(#pb2f71afc4d)\" d=\"M 58.009254 115.92 \r\nL 82.597395 115.92 \r\nL 82.609986 115.92 \r\n\" style=\"fill:none;stroke:#2ca02c;stroke-linecap:square;stroke-width:1.5;\"/>\r\n   </g>\r\n   <g id=\"line2d_150\">\r\n    <path clip-path=\"url(#pb2f71afc4d)\" d=\"M 55.009867 17.083636 \r\nL 56.660726 214.756364 \r\nL 82.709737 115.92 \r\n\" style=\"fill:none;stroke:#d62728;stroke-linecap:square;stroke-width:1.5;\"/>\r\n   </g>\r\n   <g id=\"line2d_151\">\r\n    <path clip-path=\"url(#pb2f71afc4d)\" d=\"M 59.82324 115.92 \r\nL 74.922301 115.92 \r\nL 82.768077 115.92 \r\n\" style=\"fill:none;stroke:#9467bd;stroke-linecap:square;stroke-width:1.5;\"/>\r\n   </g>\r\n   <g id=\"line2d_152\">\r\n    <path clip-path=\"url(#pb2f71afc4d)\" d=\"M 59.109733 115.92 \r\nL 68.477656 115.92 \r\nL 83.015286 115.92 \r\n\" style=\"fill:none;stroke:#8c564b;stroke-linecap:square;stroke-width:1.5;\"/>\r\n   </g>\r\n   <g id=\"line2d_153\">\r\n    <path clip-path=\"url(#pb2f71afc4d)\" d=\"M 54.922008 115.92 \r\nL 70.531296 115.92 \r\nL 83.050122 115.92 \r\n\" style=\"fill:none;stroke:#e377c2;stroke-linecap:square;stroke-width:1.5;\"/>\r\n   </g>\r\n   <g id=\"line2d_154\">\r\n    <path clip-path=\"url(#pb2f71afc4d)\" d=\"M 67.333247 17.083636 \r\nL 67.991073 17.083636 \r\nL 83.166101 17.083636 \r\n\" style=\"fill:none;stroke:#7f7f7f;stroke-linecap:square;stroke-width:1.5;\"/>\r\n   </g>\r\n   <g id=\"line2d_155\">\r\n    <path clip-path=\"url(#pb2f71afc4d)\" d=\"M 83.180092 115.92 \r\n\" style=\"fill:none;stroke:#bcbd22;stroke-linecap:square;stroke-width:1.5;\"/>\r\n   </g>\r\n   <g id=\"line2d_156\">\r\n    <path clip-path=\"url(#pb2f71afc4d)\" d=\"M 57.432852 115.92 \r\nL 69.174235 115.92 \r\nL 83.277884 17.083636 \r\n\" style=\"fill:none;stroke:#17becf;stroke-linecap:square;stroke-width:1.5;\"/>\r\n   </g>\r\n   <g id=\"line2d_157\">\r\n    <path clip-path=\"url(#pb2f71afc4d)\" d=\"M 83.313419 115.92 \r\nL 83.3421 115.92 \r\n\" style=\"fill:none;stroke:#1f77b4;stroke-linecap:square;stroke-width:1.5;\"/>\r\n   </g>\r\n   <g id=\"line2d_158\">\r\n    <path clip-path=\"url(#pb2f71afc4d)\" d=\"M 71.262851 17.083636 \r\nL 83.333426 17.083636 \r\n\" style=\"fill:none;stroke:#ff7f0e;stroke-linecap:square;stroke-width:1.5;\"/>\r\n   </g>\r\n   <g id=\"line2d_159\">\r\n    <path clip-path=\"url(#pb2f71afc4d)\" d=\"M 52.211102 17.083636 \r\nL 60.290656 17.083636 \r\nL 83.704169 17.083636 \r\n\" style=\"fill:none;stroke:#2ca02c;stroke-linecap:square;stroke-width:1.5;\"/>\r\n   </g>\r\n   <g id=\"line2d_160\">\r\n    <path clip-path=\"url(#pb2f71afc4d)\" d=\"M 56.71333 115.92 \r\nL 58.828527 115.92 \r\nL 83.729632 17.083636 \r\n\" style=\"fill:none;stroke:#d62728;stroke-linecap:square;stroke-width:1.5;\"/>\r\n   </g>\r\n   <g id=\"line2d_161\">\r\n    <path clip-path=\"url(#pb2f71afc4d)\" d=\"M 56.43828 17.083636 \r\nL 69.376395 17.083636 \r\nL 83.865898 17.083636 \r\n\" style=\"fill:none;stroke:#9467bd;stroke-linecap:square;stroke-width:1.5;\"/>\r\n   </g>\r\n   <g id=\"line2d_162\">\r\n    <path clip-path=\"url(#pb2f71afc4d)\" d=\"M 70.411259 115.92 \r\nL 85.246183 115.92 \r\n\" style=\"fill:none;stroke:#8c564b;stroke-linecap:square;stroke-width:1.5;\"/>\r\n   </g>\r\n   <g id=\"line2d_163\">\r\n    <path clip-path=\"url(#pb2f71afc4d)\" d=\"M 56.3223 17.083636 \r\nL 67.258399 17.083636 \r\nL 87.354246 17.083636 \r\n\" style=\"fill:none;stroke:#e377c2;stroke-linecap:square;stroke-width:1.5;\"/>\r\n   </g>\r\n   <g id=\"line2d_164\">\r\n    <path clip-path=\"url(#pb2f71afc4d)\" d=\"M 55.991289 115.92 \r\nL 80.011282 214.756364 \r\nL 87.705683 214.756364 \r\n\" style=\"fill:none;stroke:#7f7f7f;stroke-linecap:square;stroke-width:1.5;\"/>\r\n   </g>\r\n   <g id=\"line2d_165\">\r\n    <path clip-path=\"url(#pb2f71afc4d)\" d=\"M 56.556778 115.92 \r\nL 87.73912 115.92 \r\nL 87.821523 17.083636 \r\n\" style=\"fill:none;stroke:#bcbd22;stroke-linecap:square;stroke-width:1.5;\"/>\r\n   </g>\r\n   <g id=\"line2d_166\">\r\n    <path clip-path=\"url(#pb2f71afc4d)\" d=\"M 56.877436 115.92 \r\nL 67.060716 115.92 \r\nL 87.853421 115.92 \r\n\" style=\"fill:none;stroke:#17becf;stroke-linecap:square;stroke-width:1.5;\"/>\r\n   </g>\r\n   <g id=\"line2d_167\">\r\n    <path clip-path=\"url(#pb2f71afc4d)\" d=\"M 54.821418 115.92 \r\nL 54.821418 17.083636 \r\nL 87.907004 115.92 \r\nL 87.946177 115.92 \r\n\" style=\"fill:none;stroke:#1f77b4;stroke-linecap:square;stroke-width:1.5;\"/>\r\n   </g>\r\n   <g id=\"line2d_168\">\r\n    <path clip-path=\"url(#pb2f71afc4d)\" d=\"M 55.72967 115.92 \r\nL 63.705695 115.92 \r\nL 87.962965 115.92 \r\nL 87.962965 214.756364 \r\n\" style=\"fill:none;stroke:#ff7f0e;stroke-linecap:square;stroke-width:1.5;\"/>\r\n   </g>\r\n   <g id=\"line2d_169\">\r\n    <path clip-path=\"url(#pb2f71afc4d)\" d=\"M 56.008357 115.92 \r\nL 66.905283 115.92 \r\nL 88.12917 214.756364 \r\nL 88.12917 115.92 \r\n\" style=\"fill:none;stroke:#2ca02c;stroke-linecap:square;stroke-width:1.5;\"/>\r\n   </g>\r\n   <g id=\"line2d_170\">\r\n    <path clip-path=\"url(#pb2f71afc4d)\" d=\"M 51.683807 115.92 \r\nL 64.238167 115.92 \r\nL 88.1433 115.92 \r\n\" style=\"fill:none;stroke:#d62728;stroke-linecap:square;stroke-width:1.5;\"/>\r\n   </g>\r\n   <g id=\"line2d_171\">\r\n    <path clip-path=\"url(#pb2f71afc4d)\" d=\"M 55.920358 115.92 \r\nL 88.339025 214.756364 \r\nL 88.348119 214.756364 \r\n\" style=\"fill:none;stroke:#9467bd;stroke-linecap:square;stroke-width:1.5;\"/>\r\n   </g>\r\n   <g id=\"line2d_172\">\r\n    <path clip-path=\"url(#pb2f71afc4d)\" d=\"M 88.72194 17.083636 \r\nL 88.727117 17.083636 \r\nL 88.731314 17.083636 \r\n\" style=\"fill:none;stroke:#8c564b;stroke-linecap:square;stroke-width:1.5;\"/>\r\n   </g>\r\n   <g id=\"line2d_173\">\r\n    <path clip-path=\"url(#pb2f71afc4d)\" d=\"M 76.381632 115.92 \r\nL 76.388767 115.92 \r\nL 89.113949 115.92 \r\n\" style=\"fill:none;stroke:#e377c2;stroke-linecap:square;stroke-width:1.5;\"/>\r\n   </g>\r\n   <g id=\"line2d_174\">\r\n    <path clip-path=\"url(#pb2f71afc4d)\" d=\"M 62.540441 115.92 \r\nL 67.976383 214.756364 \r\nL 90.214289 17.083636 \r\n\" style=\"fill:none;stroke:#7f7f7f;stroke-linecap:square;stroke-width:1.5;\"/>\r\n   </g>\r\n   <g id=\"line2d_175\">\r\n    <path clip-path=\"url(#pb2f71afc4d)\" d=\"M 67.530091 115.92 \r\nL 79.71035 115.92 \r\nL 90.705209 115.92 \r\n\" style=\"fill:none;stroke:#bcbd22;stroke-linecap:square;stroke-width:1.5;\"/>\r\n   </g>\r\n   <g id=\"line2d_176\">\r\n    <path clip-path=\"url(#pb2f71afc4d)\" d=\"M 63.778725 115.92 \r\nL 75.918552 115.92 \r\nL 90.927935 115.92 \r\n\" style=\"fill:none;stroke:#17becf;stroke-linecap:square;stroke-width:1.5;\"/>\r\n   </g>\r\n   <g id=\"line2d_177\">\r\n    <path clip-path=\"url(#pb2f71afc4d)\" d=\"M 66.471863 17.083636 \r\nL 91.088824 17.083636 \r\nL 91.091622 17.083636 \r\n\" style=\"fill:none;stroke:#1f77b4;stroke-linecap:square;stroke-width:1.5;\"/>\r\n   </g>\r\n   <g id=\"line2d_178\">\r\n    <path clip-path=\"url(#pb2f71afc4d)\" d=\"M 55.047781 115.92 \r\nL 67.636838 115.92 \r\nL 91.2977 214.756364 \r\n\" style=\"fill:none;stroke:#ff7f0e;stroke-linecap:square;stroke-width:1.5;\"/>\r\n   </g>\r\n   <g id=\"line2d_179\">\r\n    <path clip-path=\"url(#pb2f71afc4d)\" d=\"M 63.325718 115.92 \r\nL 66.744255 17.083636 \r\nL 91.481952 115.92 \r\n\" style=\"fill:none;stroke:#2ca02c;stroke-linecap:square;stroke-width:1.5;\"/>\r\n   </g>\r\n   <g id=\"line2d_180\">\r\n    <path clip-path=\"url(#pb2f71afc4d)\" d=\"M 66.503901 17.083636 \r\nL 79.716087 17.083636 \r\nL 91.496782 17.083636 \r\n\" style=\"fill:none;stroke:#d62728;stroke-linecap:square;stroke-width:1.5;\"/>\r\n   </g>\r\n   <g id=\"line2d_181\">\r\n    <path clip-path=\"url(#pb2f71afc4d)\" d=\"M 91.790159 17.083636 \r\nL 91.799253 17.083636 \r\n\" style=\"fill:none;stroke:#9467bd;stroke-linecap:square;stroke-width:1.5;\"/>\r\n   </g>\r\n   <g id=\"line2d_182\">\r\n    <path clip-path=\"url(#pb2f71afc4d)\" d=\"M 56.182537 17.083636 \r\nL 56.193869 17.083636 \r\nL 91.812823 17.083636 \r\n\" style=\"fill:none;stroke:#8c564b;stroke-linecap:square;stroke-width:1.5;\"/>\r\n   </g>\r\n   <g id=\"line2d_183\">\r\n    <path clip-path=\"url(#pb2f71afc4d)\" d=\"M 55.624323 115.92 \r\nL 91.807647 115.92 \r\nL 91.818559 115.92 \r\n\" style=\"fill:none;stroke:#e377c2;stroke-linecap:square;stroke-width:1.5;\"/>\r\n   </g>\r\n   <g id=\"line2d_184\">\r\n    <path clip-path=\"url(#pb2f71afc4d)\" d=\"M 69.004952 17.083636 \r\nL 69.014045 17.083636 \r\nL 91.850737 17.083636 \r\n\" style=\"fill:none;stroke:#7f7f7f;stroke-linecap:square;stroke-width:1.5;\"/>\r\n   </g>\r\n   <g id=\"line2d_185\">\r\n    <path clip-path=\"url(#pb2f71afc4d)\" d=\"M 91.901662 115.92 \r\nL 91.906279 115.92 \r\nL 91.909497 214.756364 \r\n\" style=\"fill:none;stroke:#bcbd22;stroke-linecap:square;stroke-width:1.5;\"/>\r\n   </g>\r\n   <g id=\"line2d_186\">\r\n    <path clip-path=\"url(#pb2f71afc4d)\" d=\"M 55.699311 115.92 \r\nL 69.682084 115.92 \r\nL 91.912854 115.92 \r\n\" style=\"fill:none;stroke:#17becf;stroke-linecap:square;stroke-width:1.5;\"/>\r\n   </g>\r\n   <g id=\"line2d_187\">\r\n    <path clip-path=\"url(#pb2f71afc4d)\" d=\"M 91.907398 17.083636 \r\nL 91.913834 17.083636 \r\nL 91.920969 17.083636 \r\n\" style=\"fill:none;stroke:#1f77b4;stroke-linecap:square;stroke-width:1.5;\"/>\r\n   </g>\r\n   <g id=\"line2d_188\">\r\n    <path clip-path=\"url(#pb2f71afc4d)\" d=\"M 56.209958 17.083636 \r\nL 56.216673 17.083636 \r\nL 91.941255 17.083636 \r\n\" style=\"fill:none;stroke:#ff7f0e;stroke-linecap:square;stroke-width:1.5;\"/>\r\n   </g>\r\n   <g id=\"line2d_189\">\r\n    <path clip-path=\"url(#pb2f71afc4d)\" d=\"M 56.010875 115.92 \r\nL 91.929643 115.92 \r\nL 91.955525 214.756364 \r\nL 91.955525 115.92 \r\n\" style=\"fill:none;stroke:#2ca02c;stroke-linecap:square;stroke-width:1.5;\"/>\r\n   </g>\r\n   <g id=\"line2d_190\">\r\n    <path clip-path=\"url(#pb2f71afc4d)\" d=\"M 66.844286 17.083636 \r\nL 66.857017 17.083636 \r\nL 91.959582 17.083636 \r\n\" style=\"fill:none;stroke:#d62728;stroke-linecap:square;stroke-width:1.5;\"/>\r\n   </g>\r\n   <g id=\"line2d_191\">\r\n    <path clip-path=\"url(#pb2f71afc4d)\" d=\"M 56.634284 115.92 \r\nL 68.183859 115.92 \r\nL 91.974552 115.92 \r\n\" style=\"fill:none;stroke:#9467bd;stroke-linecap:square;stroke-width:1.5;\"/>\r\n   </g>\r\n   <g id=\"line2d_192\">\r\n    <path clip-path=\"url(#pb2f71afc4d)\" d=\"M 68.103695 214.756364 \r\nL 91.968536 214.756364 \r\nL 91.977909 214.756364 \r\n\" style=\"fill:none;stroke:#8c564b;stroke-linecap:square;stroke-width:1.5;\"/>\r\n   </g>\r\n   <g id=\"line2d_193\">\r\n    <path clip-path=\"url(#pb2f71afc4d)\" d=\"M 56.830988 115.92 \r\nL 67.762331 115.92 \r\nL 92.00519 17.083636 \r\n\" style=\"fill:none;stroke:#e377c2;stroke-linecap:square;stroke-width:1.5;\"/>\r\n   </g>\r\n   <g id=\"line2d_194\">\r\n    <path clip-path=\"url(#pb2f71afc4d)\" d=\"M 92.030513 115.92 \r\nL 92.062411 115.92 \r\nL 92.078919 115.92 \r\n\" style=\"fill:none;stroke:#7f7f7f;stroke-linecap:square;stroke-width:1.5;\"/>\r\n   </g>\r\n   <g id=\"line2d_195\">\r\n    <path clip-path=\"url(#pb2f71afc4d)\" d=\"M 92.160203 17.083636 \r\nL 92.166359 17.083636 \r\nL 92.170416 17.083636 \r\n\" style=\"fill:none;stroke:#bcbd22;stroke-linecap:square;stroke-width:1.5;\"/>\r\n   </g>\r\n   <g id=\"line2d_196\">\r\n    <path clip-path=\"url(#pb2f71afc4d)\" d=\"M 55.764226 115.92 \r\nL 67.776181 115.92 \r\nL 92.279821 115.92 \r\n\" style=\"fill:none;stroke:#17becf;stroke-linecap:square;stroke-width:1.5;\"/>\r\n   </g>\r\n   <g id=\"line2d_197\">\r\n    <path clip-path=\"url(#pb2f71afc4d)\" d=\"M 92.32333 115.92 \r\nL 92.334103 115.92 \r\nL 92.347534 115.92 \r\n\" style=\"fill:none;stroke:#1f77b4;stroke-linecap:square;stroke-width:1.5;\"/>\r\n   </g>\r\n   <g id=\"line2d_198\">\r\n    <path clip-path=\"url(#pb2f71afc4d)\" d=\"M 93.045371 17.083636 \r\nL 93.058242 17.083636 \r\nL 93.068735 17.083636 \r\n\" style=\"fill:none;stroke:#ff7f0e;stroke-linecap:square;stroke-width:1.5;\"/>\r\n   </g>\r\n   <g id=\"line2d_199\">\r\n    <path clip-path=\"url(#pb2f71afc4d)\" d=\"M 57.655298 17.083636 \r\nL 69.416687 115.92 \r\nL 93.194928 115.92 \r\n\" style=\"fill:none;stroke:#2ca02c;stroke-linecap:square;stroke-width:1.5;\"/>\r\n   </g>\r\n   <g id=\"line2d_200\">\r\n    <path clip-path=\"url(#pb2f71afc4d)\" d=\"M 67.717842 17.083636 \r\nL 77.899023 17.083636 \r\nL 94.125984 115.92 \r\n\" style=\"fill:none;stroke:#d62728;stroke-linecap:square;stroke-width:1.5;\"/>\r\n   </g>\r\n   <g id=\"line2d_201\">\r\n    <path clip-path=\"url(#pb2f71afc4d)\" d=\"M 94.196076 115.92 \r\nL 318.595476 115.92 \r\n\" style=\"fill:none;stroke:#9467bd;stroke-linecap:square;stroke-width:1.5;\"/>\r\n   </g>\r\n   <g id=\"line2d_202\">\r\n    <path clip-path=\"url(#pb2f71afc4d)\" d=\"M 92.169857 17.083636 \r\nL 94.323667 17.083636 \r\nL 94.328424 17.083636 \r\n\" style=\"fill:none;stroke:#8c564b;stroke-linecap:square;stroke-width:1.5;\"/>\r\n   </g>\r\n   <g id=\"line2d_203\">\r\n    <path clip-path=\"url(#pb2f71afc4d)\" d=\"M 56.270816 115.92 \r\nL 94.497287 17.083636 \r\nL 94.504842 17.083636 \r\n\" style=\"fill:none;stroke:#e377c2;stroke-linecap:square;stroke-width:1.5;\"/>\r\n   </g>\r\n   <g id=\"line2d_204\">\r\n    <path clip-path=\"url(#pb2f71afc4d)\" d=\"M 95.727457 115.92 \r\nL 95.731514 115.92 \r\nL 95.741587 115.92 \r\n\" style=\"fill:none;stroke:#7f7f7f;stroke-linecap:square;stroke-width:1.5;\"/>\r\n   </g>\r\n   <g id=\"line2d_205\">\r\n    <path clip-path=\"url(#pb2f71afc4d)\" d=\"M 99.693155 17.083636 \r\nL 99.695813 17.083636 \r\nL 99.698472 17.083636 \r\n\" style=\"fill:none;stroke:#bcbd22;stroke-linecap:square;stroke-width:1.5;\"/>\r\n   </g>\r\n   <g id=\"line2d_206\">\r\n    <path clip-path=\"url(#pb2f71afc4d)\" d=\"M 54.877379 115.92 \r\nL 100.45325 115.92 \r\nL 100.458566 115.92 \r\n\" style=\"fill:none;stroke:#17becf;stroke-linecap:square;stroke-width:1.5;\"/>\r\n   </g>\r\n   <g id=\"line2d_207\">\r\n    <path clip-path=\"url(#pb2f71afc4d)\" d=\"M 56.30789 115.92 \r\nL 68.374548 115.92 \r\nL 100.870581 115.92 \r\n\" style=\"fill:none;stroke:#1f77b4;stroke-linecap:square;stroke-width:1.5;\"/>\r\n   </g>\r\n   <g id=\"line2d_208\">\r\n    <path clip-path=\"url(#pb2f71afc4d)\" d=\"M 66.60659 115.92 \r\nL 79.786458 115.92 \r\nL 101.01664 115.92 \r\n\" style=\"fill:none;stroke:#ff7f0e;stroke-linecap:square;stroke-width:1.5;\"/>\r\n   </g>\r\n   <g id=\"line2d_209\">\r\n    <path clip-path=\"url(#pb2f71afc4d)\" d=\"M 57.055533 17.083636 \r\nL 101.381508 17.083636 \r\nL 101.387244 115.92 \r\n\" style=\"fill:none;stroke:#2ca02c;stroke-linecap:square;stroke-width:1.5;\"/>\r\n   </g>\r\n   <g id=\"line2d_210\">\r\n    <path clip-path=\"url(#pb2f71afc4d)\" d=\"M 67.613334 17.083636 \r\nL 68.222053 115.92 \r\nL 101.601856 17.083636 \r\n\" style=\"fill:none;stroke:#d62728;stroke-linecap:square;stroke-width:1.5;\"/>\r\n   </g>\r\n   <g id=\"line2d_211\">\r\n    <path clip-path=\"url(#pb2f71afc4d)\" d=\"M 54.536015 17.083636 \r\nL 78.840152 17.083636 \r\nL 102.746264 17.083636 \r\n\" style=\"fill:none;stroke:#9467bd;stroke-linecap:square;stroke-width:1.5;\"/>\r\n   </g>\r\n   <g id=\"line2d_212\">\r\n    <path clip-path=\"url(#pb2f71afc4d)\" d=\"M 66.916056 17.083636 \r\nL 78.657019 17.083636 \r\nL 103.525106 115.92 \r\n\" style=\"fill:none;stroke:#8c564b;stroke-linecap:square;stroke-width:1.5;\"/>\r\n   </g>\r\n   <g id=\"line2d_213\">\r\n    <path clip-path=\"url(#pb2f71afc4d)\" d=\"M 79.688246 115.92 \r\nL 79.694262 115.92 \r\nL 103.885637 115.92 \r\n\" style=\"fill:none;stroke:#e377c2;stroke-linecap:square;stroke-width:1.5;\"/>\r\n   </g>\r\n   <g id=\"line2d_214\">\r\n    <path clip-path=\"url(#pb2f71afc4d)\" d=\"M 54.786302 115.92 \r\nL 79.833046 115.92 \r\nL 104.32927 115.92 \r\n\" style=\"fill:none;stroke:#7f7f7f;stroke-linecap:square;stroke-width:1.5;\"/>\r\n   </g>\r\n   <g id=\"line2d_215\">\r\n    <path clip-path=\"url(#pb2f71afc4d)\" d=\"M 105.045855 115.92 \r\nL 105.643242 115.92 \r\nL 105.658631 115.92 \r\n\" style=\"fill:none;stroke:#bcbd22;stroke-linecap:square;stroke-width:1.5;\"/>\r\n   </g>\r\n   <g id=\"line2d_216\">\r\n    <path clip-path=\"url(#pb2f71afc4d)\" d=\"M 70.10739 115.92 \r\nL 70.110607 115.92 \r\nL 111.70623 115.92 \r\n\" style=\"fill:none;stroke:#17becf;stroke-linecap:square;stroke-width:1.5;\"/>\r\n   </g>\r\n   <g id=\"line2d_217\">\r\n    <path clip-path=\"url(#pb2f71afc4d)\" d=\"M 55.925954 17.083636 \r\nL 112.944374 17.083636 \r\nL 244.45961 17.083636 \r\n\" style=\"fill:none;stroke:#1f77b4;stroke-linecap:square;stroke-width:1.5;\"/>\r\n   </g>\r\n   <g id=\"line2d_218\">\r\n    <path clip-path=\"url(#pb2f71afc4d)\" d=\"M 63.231143 17.083636 \r\nL 114.160833 17.083636 \r\nL 114.235681 214.756364 \r\n\" style=\"fill:none;stroke:#ff7f0e;stroke-linecap:square;stroke-width:1.5;\"/>\r\n   </g>\r\n   <g id=\"line2d_219\">\r\n    <path clip-path=\"url(#pb2f71afc4d)\" d=\"M 55.345495 17.083636 \r\nL 78.802798 17.083636 \r\nL 137.137848 17.083636 \r\n\" style=\"fill:none;stroke:#2ca02c;stroke-linecap:square;stroke-width:1.5;\"/>\r\n   </g>\r\n   <g id=\"line2d_220\">\r\n    <path clip-path=\"url(#pb2f71afc4d)\" d=\"M 102.861405 17.083636 \r\nL 138.987929 115.92 \r\nL 138.993805 115.92 \r\n\" style=\"fill:none;stroke:#d62728;stroke-linecap:square;stroke-width:1.5;\"/>\r\n   </g>\r\n   <g id=\"line2d_221\">\r\n    <path clip-path=\"url(#pb2f71afc4d)\" d=\"M 56.480251 115.92 \r\nL 91.945312 115.92 \r\nL 140.722869 115.92 \r\n\" style=\"fill:none;stroke:#9467bd;stroke-linecap:square;stroke-width:1.5;\"/>\r\n   </g>\r\n   <g id=\"line2d_222\">\r\n    <path clip-path=\"url(#pb2f71afc4d)\" d=\"M 55.436992 115.92 \r\nL 149.847221 115.92 \r\nL 149.864989 115.92 \r\n\" style=\"fill:none;stroke:#8c564b;stroke-linecap:square;stroke-width:1.5;\"/>\r\n   </g>\r\n   <g id=\"line2d_223\">\r\n    <path clip-path=\"url(#pb2f71afc4d)\" d=\"M 155.341922 214.756364 \r\nL 155.35969 214.756364 \r\nL 155.375779 214.756364 \r\n\" style=\"fill:none;stroke:#e377c2;stroke-linecap:square;stroke-width:1.5;\"/>\r\n   </g>\r\n   <g id=\"line2d_224\">\r\n    <path clip-path=\"url(#pb2f71afc4d)\" d=\"M 70.963738 115.92 \r\nL 160.385995 115.92 \r\nL 160.405441 115.92 \r\n\" style=\"fill:none;stroke:#7f7f7f;stroke-linecap:square;stroke-width:1.5;\"/>\r\n   </g>\r\n   <g id=\"line2d_225\">\r\n    <path clip-path=\"url(#pb2f71afc4d)\" d=\"M 164.735868 115.92 \r\nL 164.742163 115.92 \r\n\" style=\"fill:none;stroke:#bcbd22;stroke-linecap:square;stroke-width:1.5;\"/>\r\n   </g>\r\n   <g id=\"line2d_226\">\r\n    <path clip-path=\"url(#pb2f71afc4d)\" d=\"M 55.921757 17.083636 \r\nL 165.031623 17.083636 \r\nL 165.085906 17.083636 \r\n\" style=\"fill:none;stroke:#17becf;stroke-linecap:square;stroke-width:1.5;\"/>\r\n   </g>\r\n   <g id=\"line2d_227\">\r\n    <path clip-path=\"url(#pb2f71afc4d)\" d=\"M 63.715908 115.92 \r\nL 67.954558 214.756364 \r\nL 165.573189 115.92 \r\n\" style=\"fill:none;stroke:#1f77b4;stroke-linecap:square;stroke-width:1.5;\"/>\r\n   </g>\r\n   <g id=\"line2d_228\">\r\n    <path clip-path=\"url(#pb2f71afc4d)\" d=\"M 167.859908 17.083636 \r\nL 167.863825 17.083636 \r\n\" style=\"fill:none;stroke:#ff7f0e;stroke-linecap:square;stroke-width:1.5;\"/>\r\n   </g>\r\n   <g id=\"line2d_229\">\r\n    <path clip-path=\"url(#pb2f71afc4d)\" d=\"M 56.07593 115.92 \r\nL 177.296943 115.92 \r\nL 177.30254 115.92 \r\n\" style=\"fill:none;stroke:#2ca02c;stroke-linecap:square;stroke-width:1.5;\"/>\r\n   </g>\r\n   <g id=\"line2d_230\">\r\n    <path clip-path=\"url(#pb2f71afc4d)\" d=\"M 220.937113 115.92 \r\nL 220.942429 115.92 \r\nL 220.947186 115.92 \r\n\" style=\"fill:none;stroke:#d62728;stroke-linecap:square;stroke-width:1.5;\"/>\r\n   </g>\r\n   <g id=\"line2d_231\">\r\n    <path clip-path=\"url(#pb2f71afc4d)\" d=\"M 69.619407 214.756364 \r\nL 221.274 17.083636 \r\nL 221.280155 17.083636 \r\n\" style=\"fill:none;stroke:#9467bd;stroke-linecap:square;stroke-width:1.5;\"/>\r\n   </g>\r\n   <g id=\"line2d_232\">\r\n    <path clip-path=\"url(#pb2f71afc4d)\" d=\"M 221.422017 17.083636 \r\nL 221.437966 17.083636 \r\nL 221.4465 17.083636 \r\n\" style=\"fill:none;stroke:#8c564b;stroke-linecap:square;stroke-width:1.5;\"/>\r\n   </g>\r\n   <g id=\"line2d_233\">\r\n    <path clip-path=\"url(#pb2f71afc4d)\" d=\"M 67.901115 17.083636 \r\nL 227.320899 17.083636 \r\n\" style=\"fill:none;stroke:#e377c2;stroke-linecap:square;stroke-width:1.5;\"/>\r\n   </g>\r\n   <g id=\"line2d_234\">\r\n    <path clip-path=\"url(#pb2f71afc4d)\" d=\"M 70.46806 115.92 \r\nL 238.451324 115.92 \r\nL 238.455101 115.92 \r\n\" style=\"fill:none;stroke:#7f7f7f;stroke-linecap:square;stroke-width:1.5;\"/>\r\n   </g>\r\n   <g id=\"line2d_235\">\r\n    <path clip-path=\"url(#pb2f71afc4d)\" d=\"M 66.89591 115.92 \r\nL 269.676896 115.92 \r\n\" style=\"fill:none;stroke:#bcbd22;stroke-linecap:square;stroke-width:1.5;\"/>\r\n   </g>\r\n   <g id=\"line2d_236\">\r\n    <path clip-path=\"url(#pb2f71afc4d)\" d=\"M 55.57032 17.083636 \r\nL 272.961685 115.92 \r\nL 272.965323 115.92 \r\n\" style=\"fill:none;stroke:#17becf;stroke-linecap:square;stroke-width:1.5;\"/>\r\n   </g>\r\n   <g id=\"line2d_237\">\r\n    <path clip-path=\"url(#pb2f71afc4d)\" d=\"M 356.036671 214.756364 \r\nL 356.041008 214.756364 \r\nL 356.047443 214.756364 \r\n\" style=\"fill:none;stroke:#1f77b4;stroke-linecap:square;stroke-width:1.5;\"/>\r\n   </g>\r\n   <g id=\"line2d_238\">\r\n    <path clip-path=\"url(#pb2f71afc4d)\" d=\"M 56.099154 17.083636 \r\nL 56.106849 17.083636 \r\n\" style=\"fill:none;stroke:#ff7f0e;stroke-linecap:square;stroke-width:1.5;\"/>\r\n   </g>\r\n   <g id=\"line2d_239\">\r\n    <path clip-path=\"url(#pb2f71afc4d)\" d=\"M 56.190931 17.083636 \r\nL 56.195827 17.083636 \r\n\" style=\"fill:none;stroke:#2ca02c;stroke-linecap:square;stroke-width:1.5;\"/>\r\n   </g>\r\n   <g id=\"line2d_240\">\r\n    <path clip-path=\"url(#pb2f71afc4d)\" d=\"M 54.37009 115.92 \r\nL 56.703816 17.083636 \r\n\" style=\"fill:none;stroke:#d62728;stroke-linecap:square;stroke-width:1.5;\"/>\r\n   </g>\r\n   <g id=\"line2d_241\">\r\n    <path clip-path=\"url(#pb2f71afc4d)\" d=\"M 58.826569 17.083636 \r\nL 58.976265 17.083636 \r\n\" style=\"fill:none;stroke:#9467bd;stroke-linecap:square;stroke-width:1.5;\"/>\r\n   </g>\r\n   <g id=\"line2d_242\">\r\n    <path clip-path=\"url(#pb2f71afc4d)\" d=\"M 54.668363 115.92 \r\nL 66.454515 214.756364 \r\n\" style=\"fill:none;stroke:#8c564b;stroke-linecap:square;stroke-width:1.5;\"/>\r\n   </g>\r\n   <g id=\"line2d_243\">\r\n    <path clip-path=\"url(#pb2f71afc4d)\" d=\"M 64.16262 115.92 \r\nL 66.985168 115.92 \r\n\" style=\"fill:none;stroke:#e377c2;stroke-linecap:square;stroke-width:1.5;\"/>\r\n   </g>\r\n   <g id=\"line2d_244\">\r\n    <path clip-path=\"url(#pb2f71afc4d)\" d=\"M 67.007832 214.756364 \r\n\" style=\"fill:none;stroke:#7f7f7f;stroke-linecap:square;stroke-width:1.5;\"/>\r\n   </g>\r\n   <g id=\"line2d_245\">\r\n    <path clip-path=\"url(#pb2f71afc4d)\" d=\"M 67.352554 17.083636 \r\n\" style=\"fill:none;stroke:#bcbd22;stroke-linecap:square;stroke-width:1.5;\"/>\r\n   </g>\r\n   <g id=\"line2d_246\">\r\n    <path clip-path=\"url(#pb2f71afc4d)\" d=\"M 55.976319 17.083636 \r\nL 67.356052 17.083636 \r\n\" style=\"fill:none;stroke:#17becf;stroke-linecap:square;stroke-width:1.5;\"/>\r\n   </g>\r\n   <g id=\"line2d_247\">\r\n    <path clip-path=\"url(#pb2f71afc4d)\" d=\"M 67.638097 115.92 \r\nL 67.650828 115.92 \r\n\" style=\"fill:none;stroke:#1f77b4;stroke-linecap:square;stroke-width:1.5;\"/>\r\n   </g>\r\n   <g id=\"line2d_248\">\r\n    <path clip-path=\"url(#pb2f71afc4d)\" d=\"M 67.769326 17.083636 \r\n\" style=\"fill:none;stroke:#ff7f0e;stroke-linecap:square;stroke-width:1.5;\"/>\r\n   </g>\r\n   <g id=\"line2d_249\">\r\n    <path clip-path=\"url(#pb2f71afc4d)\" d=\"M 67.80724 115.92 \r\n\" style=\"fill:none;stroke:#2ca02c;stroke-linecap:square;stroke-width:1.5;\"/>\r\n   </g>\r\n   <g id=\"line2d_250\">\r\n    <path clip-path=\"url(#pb2f71afc4d)\" d=\"M 67.940568 115.92 \r\n\" style=\"fill:none;stroke:#d62728;stroke-linecap:square;stroke-width:1.5;\"/>\r\n   </g>\r\n   <g id=\"line2d_251\">\r\n    <path clip-path=\"url(#pb2f71afc4d)\" d=\"M 68.026608 17.083636 \r\nL 68.034862 17.083636 \r\n\" style=\"fill:none;stroke:#9467bd;stroke-linecap:square;stroke-width:1.5;\"/>\r\n   </g>\r\n   <g id=\"line2d_252\">\r\n    <path clip-path=\"url(#pb2f71afc4d)\" d=\"M 68.051091 17.083636 \r\n\" style=\"fill:none;stroke:#8c564b;stroke-linecap:square;stroke-width:1.5;\"/>\r\n   </g>\r\n   <g id=\"line2d_253\">\r\n    <path clip-path=\"url(#pb2f71afc4d)\" d=\"M 56.060261 115.92 \r\nL 68.071797 17.083636 \r\n\" style=\"fill:none;stroke:#e377c2;stroke-linecap:square;stroke-width:1.5;\"/>\r\n   </g>\r\n   <g id=\"line2d_254\">\r\n    <path clip-path=\"url(#pb2f71afc4d)\" d=\"M 67.516661 214.756364 \r\nL 68.094601 214.756364 \r\n\" style=\"fill:none;stroke:#7f7f7f;stroke-linecap:square;stroke-width:1.5;\"/>\r\n   </g>\r\n   <g id=\"line2d_255\">\r\n    <path clip-path=\"url(#pb2f71afc4d)\" d=\"M 67.770725 115.92 \r\nL 68.311451 115.92 \r\n\" style=\"fill:none;stroke:#bcbd22;stroke-linecap:square;stroke-width:1.5;\"/>\r\n   </g>\r\n   <g id=\"line2d_256\">\r\n    <path clip-path=\"url(#pb2f71afc4d)\" d=\"M 68.412042 17.083636 \r\n\" style=\"fill:none;stroke:#17becf;stroke-linecap:square;stroke-width:1.5;\"/>\r\n   </g>\r\n   <g id=\"line2d_257\">\r\n    <path clip-path=\"url(#pb2f71afc4d)\" d=\"M 55.698891 115.92 \r\nL 68.673241 115.92 \r\n\" style=\"fill:none;stroke:#1f77b4;stroke-linecap:square;stroke-width:1.5;\"/>\r\n   </g>\r\n   <g id=\"line2d_258\">\r\n    <path clip-path=\"url(#pb2f71afc4d)\" d=\"M 59.482855 115.92 \r\nL 71.237248 115.92 \r\n\" style=\"fill:none;stroke:#ff7f0e;stroke-linecap:square;stroke-width:1.5;\"/>\r\n   </g>\r\n   <g id=\"line2d_259\">\r\n    <path clip-path=\"url(#pb2f71afc4d)\" d=\"M 71.52391 115.92 \r\n\" style=\"fill:none;stroke:#2ca02c;stroke-linecap:square;stroke-width:1.5;\"/>\r\n   </g>\r\n   <g id=\"line2d_260\">\r\n    <path clip-path=\"url(#pb2f71afc4d)\" d=\"M 67.3727 115.92 \r\nL 79.614797 115.92 \r\n\" style=\"fill:none;stroke:#d62728;stroke-linecap:square;stroke-width:1.5;\"/>\r\n   </g>\r\n   <g id=\"line2d_261\">\r\n    <path clip-path=\"url(#pb2f71afc4d)\" d=\"M 86.288463 17.083636 \r\n\" style=\"fill:none;stroke:#9467bd;stroke-linecap:square;stroke-width:1.5;\"/>\r\n   </g>\r\n   <g id=\"line2d_262\">\r\n    <path clip-path=\"url(#pb2f71afc4d)\" d=\"M 56.417294 115.92 \r\nL 87.932886 115.92 \r\n\" style=\"fill:none;stroke:#8c564b;stroke-linecap:square;stroke-width:1.5;\"/>\r\n   </g>\r\n   <g id=\"line2d_263\">\r\n    <path clip-path=\"url(#pb2f71afc4d)\" d=\"M 91.149822 115.92 \r\nL 91.158636 115.92 \r\n\" style=\"fill:none;stroke:#e377c2;stroke-linecap:square;stroke-width:1.5;\"/>\r\n   </g>\r\n   <g id=\"line2d_264\">\r\n    <path clip-path=\"url(#pb2f71afc4d)\" d=\"M 56.027244 115.92 \r\nL 91.995257 115.92 \r\n\" style=\"fill:none;stroke:#7f7f7f;stroke-linecap:square;stroke-width:1.5;\"/>\r\n   </g>\r\n   <g id=\"line2d_265\">\r\n    <path clip-path=\"url(#pb2f71afc4d)\" d=\"M 56.042354 115.92 \r\nL 136.957372 115.92 \r\n\" style=\"fill:none;stroke:#bcbd22;stroke-linecap:square;stroke-width:1.5;\"/>\r\n   </g>\r\n   <g id=\"line2d_266\">\r\n    <path clip-path=\"url(#pb2f71afc4d)\" d=\"M 65.462741 115.92 \r\nL 249.459613 17.083636 \r\n\" style=\"fill:none;stroke:#17becf;stroke-linecap:square;stroke-width:1.5;\"/>\r\n   </g>\r\n   <g id=\"line2d_267\">\r\n    <path clip-path=\"url(#pb2f71afc4d)\" d=\"M 188.74383 115.92 \r\nL 307.013163 115.92 \r\n\" style=\"fill:none;stroke:#1f77b4;stroke-linecap:square;stroke-width:1.5;\"/>\r\n   </g>\r\n   <g id=\"line2d_268\">\r\n    <path clip-path=\"url(#pb2f71afc4d)\" d=\"M 53.295213 115.92 \r\n\" style=\"fill:none;stroke:#ff7f0e;stroke-linecap:square;stroke-width:1.5;\"/>\r\n   </g>\r\n   <g id=\"line2d_269\">\r\n    <path clip-path=\"url(#pb2f71afc4d)\" d=\"M 54.235782 115.92 \r\n\" style=\"fill:none;stroke:#2ca02c;stroke-linecap:square;stroke-width:1.5;\"/>\r\n   </g>\r\n   <g id=\"line2d_270\">\r\n    <path clip-path=\"url(#pb2f71afc4d)\" d=\"M 54.805748 17.083636 \r\n\" style=\"fill:none;stroke:#d62728;stroke-linecap:square;stroke-width:1.5;\"/>\r\n   </g>\r\n   <g id=\"line2d_271\">\r\n    <path clip-path=\"url(#pb2f71afc4d)\" d=\"M 55.77248 17.083636 \r\n\" style=\"fill:none;stroke:#9467bd;stroke-linecap:square;stroke-width:1.5;\"/>\r\n   </g>\r\n   <g id=\"line2d_272\">\r\n    <path clip-path=\"url(#pb2f71afc4d)\" d=\"M 55.899093 115.92 \r\n\" style=\"fill:none;stroke:#8c564b;stroke-linecap:square;stroke-width:1.5;\"/>\r\n   </g>\r\n   <g id=\"line2d_273\">\r\n    <path clip-path=\"url(#pb2f71afc4d)\" d=\"M 55.935747 115.92 \r\n\" style=\"fill:none;stroke:#e377c2;stroke-linecap:square;stroke-width:1.5;\"/>\r\n   </g>\r\n   <g id=\"line2d_274\">\r\n    <path clip-path=\"url(#pb2f71afc4d)\" d=\"M 55.969884 115.92 \r\n\" style=\"fill:none;stroke:#7f7f7f;stroke-linecap:square;stroke-width:1.5;\"/>\r\n   </g>\r\n   <g id=\"line2d_275\">\r\n    <path clip-path=\"url(#pb2f71afc4d)\" d=\"M 55.996185 17.083636 \r\n\" style=\"fill:none;stroke:#bcbd22;stroke-linecap:square;stroke-width:1.5;\"/>\r\n   </g>\r\n   <g id=\"line2d_276\">\r\n    <path clip-path=\"url(#pb2f71afc4d)\" d=\"M 55.999683 214.756364 \r\nL 55.999683 115.92 \r\nL 55.999683 214.756364 \r\n\" style=\"fill:none;stroke:#17becf;stroke-linecap:square;stroke-width:1.5;\"/>\r\n   </g>\r\n   <g id=\"line2d_277\">\r\n    <path clip-path=\"url(#pb2f71afc4d)\" d=\"M 56.021088 17.083636 \r\n\" style=\"fill:none;stroke:#1f77b4;stroke-linecap:square;stroke-width:1.5;\"/>\r\n   </g>\r\n   <g id=\"line2d_278\">\r\n    <path clip-path=\"url(#pb2f71afc4d)\" d=\"M 56.187853 115.92 \r\n\" style=\"fill:none;stroke:#ff7f0e;stroke-linecap:square;stroke-width:1.5;\"/>\r\n   </g>\r\n   <g id=\"line2d_279\">\r\n    <path clip-path=\"url(#pb2f71afc4d)\" d=\"M 56.647715 214.756364 \r\n\" style=\"fill:none;stroke:#2ca02c;stroke-linecap:square;stroke-width:1.5;\"/>\r\n   </g>\r\n   <g id=\"line2d_280\">\r\n    <path clip-path=\"url(#pb2f71afc4d)\" d=\"M 63.955143 17.083636 \r\n\" style=\"fill:none;stroke:#d62728;stroke-linecap:square;stroke-width:1.5;\"/>\r\n   </g>\r\n   <g id=\"line2d_281\">\r\n    <path clip-path=\"url(#pb2f71afc4d)\" d=\"M 66.921372 115.92 \r\n\" style=\"fill:none;stroke:#9467bd;stroke-linecap:square;stroke-width:1.5;\"/>\r\n   </g>\r\n   <g id=\"line2d_282\">\r\n    <path clip-path=\"url(#pb2f71afc4d)\" d=\"M 67.189987 115.92 \r\n\" style=\"fill:none;stroke:#8c564b;stroke-linecap:square;stroke-width:1.5;\"/>\r\n   </g>\r\n   <g id=\"line2d_283\">\r\n    <path clip-path=\"url(#pb2f71afc4d)\" d=\"M 67.389209 17.083636 \r\n\" style=\"fill:none;stroke:#e377c2;stroke-linecap:square;stroke-width:1.5;\"/>\r\n   </g>\r\n   <g id=\"line2d_284\">\r\n    <path clip-path=\"url(#pb2f71afc4d)\" d=\"M 67.712945 115.92 \r\n\" style=\"fill:none;stroke:#7f7f7f;stroke-linecap:square;stroke-width:1.5;\"/>\r\n   </g>\r\n   <g id=\"line2d_285\">\r\n    <path clip-path=\"url(#pb2f71afc4d)\" d=\"M 68.19799 115.92 \r\n\" style=\"fill:none;stroke:#bcbd22;stroke-linecap:square;stroke-width:1.5;\"/>\r\n   </g>\r\n   <g id=\"line2d_286\">\r\n    <path clip-path=\"url(#pb2f71afc4d)\" d=\"M 71.126725 214.756364 \r\n\" style=\"fill:none;stroke:#17becf;stroke-linecap:square;stroke-width:1.5;\"/>\r\n   </g>\r\n   <g id=\"line2d_287\">\r\n    <path clip-path=\"url(#pb2f71afc4d)\" d=\"M 78.461854 17.083636 \r\n\" style=\"fill:none;stroke:#1f77b4;stroke-linecap:square;stroke-width:1.5;\"/>\r\n   </g>\r\n   <g id=\"line2d_288\">\r\n    <path clip-path=\"url(#pb2f71afc4d)\" d=\"M 107.712691 17.083636 \r\n\" style=\"fill:none;stroke:#ff7f0e;stroke-linecap:square;stroke-width:1.5;\"/>\r\n   </g>\r\n   <g id=\"line2d_289\">\r\n    <path clip-path=\"url(#pb2f71afc4d)\" d=\"M 165.113187 115.92 \r\n\" style=\"fill:none;stroke:#2ca02c;stroke-linecap:square;stroke-width:1.5;\"/>\r\n   </g>\r\n   <g id=\"line2d_290\">\r\n    <path clip-path=\"url(#pb2f71afc4d)\" d=\"M 272.643125 17.083636 \r\n\" style=\"fill:none;stroke:#d62728;stroke-linecap:square;stroke-width:1.5;\"/>\r\n   </g>\r\n   <g id=\"line2d_291\">\r\n    <path clip-path=\"url(#pb2f71afc4d)\" d=\"M 283.822516 115.92 \r\n\" style=\"fill:none;stroke:#9467bd;stroke-linecap:square;stroke-width:1.5;\"/>\r\n   </g>\r\n   <g id=\"patch_3\">\r\n    <path d=\"M 36.465625 224.64 \r\nL 36.465625 7.2 \r\n\" style=\"fill:none;stroke:#000000;stroke-linecap:square;stroke-linejoin:miter;stroke-width:0.8;\"/>\r\n   </g>\r\n   <g id=\"patch_4\">\r\n    <path d=\"M 371.265625 224.64 \r\nL 371.265625 7.2 \r\n\" style=\"fill:none;stroke:#000000;stroke-linecap:square;stroke-linejoin:miter;stroke-width:0.8;\"/>\r\n   </g>\r\n   <g id=\"patch_5\">\r\n    <path d=\"M 36.465625 224.64 \r\nL 371.265625 224.64 \r\n\" style=\"fill:none;stroke:#000000;stroke-linecap:square;stroke-linejoin:miter;stroke-width:0.8;\"/>\r\n   </g>\r\n   <g id=\"patch_6\">\r\n    <path d=\"M 36.465625 7.2 \r\nL 371.265625 7.2 \r\n\" style=\"fill:none;stroke:#000000;stroke-linecap:square;stroke-linejoin:miter;stroke-width:0.8;\"/>\r\n   </g>\r\n  </g>\r\n </g>\r\n <defs>\r\n  <clipPath id=\"pb2f71afc4d\">\r\n   <rect height=\"217.44\" width=\"334.8\" x=\"36.465625\" y=\"7.2\"/>\r\n  </clipPath>\r\n </defs>\r\n</svg>\r\n",
      "image/png": "[encoded data removed]"
     },
     "metadata": {
      "needs_background": "light"
     }
    }
   ],
   "source": [
    "import matplotlib.pyplot as plt\n",
    "for i in result_df[\"user_id\"].unique():\n",
    "    df = result_df[result_df[\"user_id\"]==i]\n",
    "    df = df.sort_values(\"started_at\")\n",
    "    plt.plot(df[\"started_at\"], df[\"score\"])\n",
    "#plt.legend(result_df[\"user_id\"].unique())\n",
    "plt.show()"
   ]
  },
  {
   "cell_type": "code",
   "execution_count": 20,
   "metadata": {},
   "outputs": [
    {
     "output_type": "display_data",
     "data": {
      "text/plain": "<Figure size 864x576 with 1 Axes>",
      "image/svg+xml": "<?xml version=\"1.0\" encoding=\"utf-8\" standalone=\"no\"?>\r\n<!DOCTYPE svg PUBLIC \"-//W3C//DTD SVG 1.1//EN\"\r\n  \"http://www.w3.org/Graphics/SVG/1.1/DTD/svg11.dtd\">\r\n<!-- Created with matplotlib (https://matplotlib.org/) -->\r\n<svg height=\"465.958125pt\" version=\"1.1\" viewBox=\"0 0 734.56198 465.958125\" width=\"734.56198pt\" xmlns=\"http://www.w3.org/2000/svg\" xmlns:xlink=\"http://www.w3.org/1999/xlink\">\r\n <metadata>\r\n  <rdf:RDF xmlns:cc=\"http://creativecommons.org/ns#\" xmlns:dc=\"http://purl.org/dc/elements/1.1/\" xmlns:rdf=\"http://www.w3.org/1999/02/22-rdf-syntax-ns#\">\r\n   <cc:Work>\r\n    <dc:type rdf:resource=\"http://purl.org/dc/dcmitype/StillImage\"/>\r\n    <dc:date>2021-01-04T14:53:59.914082</dc:date>\r\n    <dc:format>image/svg+xml</dc:format>\r\n    <dc:creator>\r\n     <cc:Agent>\r\n      <dc:title>Matplotlib v3.3.3, https://matplotlib.org/</dc:title>\r\n     </cc:Agent>\r\n    </dc:creator>\r\n   </cc:Work>\r\n  </rdf:RDF>\r\n </metadata>\r\n <defs>\r\n  <style type=\"text/css\">*{stroke-linecap:butt;stroke-linejoin:round;}</style>\r\n </defs>\r\n <g id=\"figure_1\">\r\n  <g id=\"patch_1\">\r\n   <path d=\"M 0 465.958125 \r\nL 734.56198 465.958125 \r\nL 734.56198 0 \r\nL 0 0 \r\nz\r\n\" style=\"fill:none;\"/>\r\n  </g>\r\n  <g id=\"axes_1\">\r\n   <g id=\"patch_2\">\r\n    <path d=\"M 30.103125 442.08 \r\nL 699.703125 442.08 \r\nL 699.703125 7.2 \r\nL 30.103125 7.2 \r\nz\r\n\" style=\"fill:#ffffff;\"/>\r\n   </g>\r\n   <g id=\"matplotlib.axis_1\">\r\n    <g id=\"xtick_1\">\r\n     <g id=\"line2d_1\">\r\n      <defs>\r\n       <path d=\"M 0 0 \r\nL 0 3.5 \r\n\" id=\"mcc2a1d2e2b\" style=\"stroke:#000000;stroke-width:0.8;\"/>\r\n      </defs>\r\n      <g>\r\n       <use style=\"stroke:#000000;stroke-width:0.8;\" x=\"112.360639\" xlink:href=\"#mcc2a1d2e2b\" y=\"442.08\"/>\r\n      </g>\r\n     </g>\r\n     <g id=\"text_1\">\r\n      <!-- 2020-10-29 -->\r\n      <g transform=\"translate(83.302826 456.678437)scale(0.1 -0.1)\">\r\n       <defs>\r\n        <path d=\"M 19.1875 8.296875 \r\nL 53.609375 8.296875 \r\nL 53.609375 0 \r\nL 7.328125 0 \r\nL 7.328125 8.296875 \r\nQ 12.9375 14.109375 22.625 23.890625 \r\nQ 32.328125 33.6875 34.8125 36.53125 \r\nQ 39.546875 41.84375 41.421875 45.53125 \r\nQ 43.3125 49.21875 43.3125 52.78125 \r\nQ 43.3125 58.59375 39.234375 62.25 \r\nQ 35.15625 65.921875 28.609375 65.921875 \r\nQ 23.96875 65.921875 18.8125 64.3125 \r\nQ 13.671875 62.703125 7.8125 59.421875 \r\nL 7.8125 69.390625 \r\nQ 13.765625 71.78125 18.9375 73 \r\nQ 24.125 74.21875 28.421875 74.21875 \r\nQ 39.75 74.21875 46.484375 68.546875 \r\nQ 53.21875 62.890625 53.21875 53.421875 \r\nQ 53.21875 48.921875 51.53125 44.890625 \r\nQ 49.859375 40.875 45.40625 35.40625 \r\nQ 44.1875 33.984375 37.640625 27.21875 \r\nQ 31.109375 20.453125 19.1875 8.296875 \r\nz\r\n\" id=\"DejaVuSans-50\"/>\r\n        <path d=\"M 31.78125 66.40625 \r\nQ 24.171875 66.40625 20.328125 58.90625 \r\nQ 16.5 51.421875 16.5 36.375 \r\nQ 16.5 21.390625 20.328125 13.890625 \r\nQ 24.171875 6.390625 31.78125 6.390625 \r\nQ 39.453125 6.390625 43.28125 13.890625 \r\nQ 47.125 21.390625 47.125 36.375 \r\nQ 47.125 51.421875 43.28125 58.90625 \r\nQ 39.453125 66.40625 31.78125 66.40625 \r\nz\r\nM 31.78125 74.21875 \r\nQ 44.046875 74.21875 50.515625 64.515625 \r\nQ 56.984375 54.828125 56.984375 36.375 \r\nQ 56.984375 17.96875 50.515625 8.265625 \r\nQ 44.046875 -1.421875 31.78125 -1.421875 \r\nQ 19.53125 -1.421875 13.0625 8.265625 \r\nQ 6.59375 17.96875 6.59375 36.375 \r\nQ 6.59375 54.828125 13.0625 64.515625 \r\nQ 19.53125 74.21875 31.78125 74.21875 \r\nz\r\n\" id=\"DejaVuSans-48\"/>\r\n        <path d=\"M 4.890625 31.390625 \r\nL 31.203125 31.390625 \r\nL 31.203125 23.390625 \r\nL 4.890625 23.390625 \r\nz\r\n\" id=\"DejaVuSans-45\"/>\r\n        <path d=\"M 12.40625 8.296875 \r\nL 28.515625 8.296875 \r\nL 28.515625 63.921875 \r\nL 10.984375 60.40625 \r\nL 10.984375 69.390625 \r\nL 28.421875 72.90625 \r\nL 38.28125 72.90625 \r\nL 38.28125 8.296875 \r\nL 54.390625 8.296875 \r\nL 54.390625 0 \r\nL 12.40625 0 \r\nz\r\n\" id=\"DejaVuSans-49\"/>\r\n        <path d=\"M 10.984375 1.515625 \r\nL 10.984375 10.5 \r\nQ 14.703125 8.734375 18.5 7.8125 \r\nQ 22.3125 6.890625 25.984375 6.890625 \r\nQ 35.75 6.890625 40.890625 13.453125 \r\nQ 46.046875 20.015625 46.78125 33.40625 \r\nQ 43.953125 29.203125 39.59375 26.953125 \r\nQ 35.25 24.703125 29.984375 24.703125 \r\nQ 19.046875 24.703125 12.671875 31.3125 \r\nQ 6.296875 37.9375 6.296875 49.421875 \r\nQ 6.296875 60.640625 12.9375 67.421875 \r\nQ 19.578125 74.21875 30.609375 74.21875 \r\nQ 43.265625 74.21875 49.921875 64.515625 \r\nQ 56.59375 54.828125 56.59375 36.375 \r\nQ 56.59375 19.140625 48.40625 8.859375 \r\nQ 40.234375 -1.421875 26.421875 -1.421875 \r\nQ 22.703125 -1.421875 18.890625 -0.6875 \r\nQ 15.09375 0.046875 10.984375 1.515625 \r\nz\r\nM 30.609375 32.421875 \r\nQ 37.25 32.421875 41.125 36.953125 \r\nQ 45.015625 41.5 45.015625 49.421875 \r\nQ 45.015625 57.28125 41.125 61.84375 \r\nQ 37.25 66.40625 30.609375 66.40625 \r\nQ 23.96875 66.40625 20.09375 61.84375 \r\nQ 16.21875 57.28125 16.21875 49.421875 \r\nQ 16.21875 41.5 20.09375 36.953125 \r\nQ 23.96875 32.421875 30.609375 32.421875 \r\nz\r\n\" id=\"DejaVuSans-57\"/>\r\n       </defs>\r\n       <use xlink:href=\"#DejaVuSans-50\"/>\r\n       <use x=\"63.623047\" xlink:href=\"#DejaVuSans-48\"/>\r\n       <use x=\"127.246094\" xlink:href=\"#DejaVuSans-50\"/>\r\n       <use x=\"190.869141\" xlink:href=\"#DejaVuSans-48\"/>\r\n       <use x=\"254.492188\" xlink:href=\"#DejaVuSans-45\"/>\r\n       <use x=\"290.576172\" xlink:href=\"#DejaVuSans-49\"/>\r\n       <use x=\"354.199219\" xlink:href=\"#DejaVuSans-48\"/>\r\n       <use x=\"417.822266\" xlink:href=\"#DejaVuSans-45\"/>\r\n       <use x=\"453.90625\" xlink:href=\"#DejaVuSans-50\"/>\r\n       <use x=\"517.529297\" xlink:href=\"#DejaVuSans-57\"/>\r\n      </g>\r\n     </g>\r\n    </g>\r\n    <g id=\"xtick_2\">\r\n     <g id=\"line2d_2\">\r\n      <g>\r\n       <use style=\"stroke:#000000;stroke-width:0.8;\" x=\"188.788055\" xlink:href=\"#mcc2a1d2e2b\" y=\"442.08\"/>\r\n      </g>\r\n     </g>\r\n     <g id=\"text_2\">\r\n      <!-- 2020-11-01 -->\r\n      <g transform=\"translate(159.730243 456.678437)scale(0.1 -0.1)\">\r\n       <use xlink:href=\"#DejaVuSans-50\"/>\r\n       <use x=\"63.623047\" xlink:href=\"#DejaVuSans-48\"/>\r\n       <use x=\"127.246094\" xlink:href=\"#DejaVuSans-50\"/>\r\n       <use x=\"190.869141\" xlink:href=\"#DejaVuSans-48\"/>\r\n       <use x=\"254.492188\" xlink:href=\"#DejaVuSans-45\"/>\r\n       <use x=\"290.576172\" xlink:href=\"#DejaVuSans-49\"/>\r\n       <use x=\"354.199219\" xlink:href=\"#DejaVuSans-49\"/>\r\n       <use x=\"417.822266\" xlink:href=\"#DejaVuSans-45\"/>\r\n       <use x=\"453.90625\" xlink:href=\"#DejaVuSans-48\"/>\r\n       <use x=\"517.529297\" xlink:href=\"#DejaVuSans-49\"/>\r\n      </g>\r\n     </g>\r\n    </g>\r\n    <g id=\"xtick_3\">\r\n     <g id=\"line2d_3\">\r\n      <g>\r\n       <use style=\"stroke:#000000;stroke-width:0.8;\" x=\"290.691278\" xlink:href=\"#mcc2a1d2e2b\" y=\"442.08\"/>\r\n      </g>\r\n     </g>\r\n     <g id=\"text_3\">\r\n      <!-- 2020-11-05 -->\r\n      <g transform=\"translate(261.633465 456.678437)scale(0.1 -0.1)\">\r\n       <defs>\r\n        <path d=\"M 10.796875 72.90625 \r\nL 49.515625 72.90625 \r\nL 49.515625 64.59375 \r\nL 19.828125 64.59375 \r\nL 19.828125 46.734375 \r\nQ 21.96875 47.46875 24.109375 47.828125 \r\nQ 26.265625 48.1875 28.421875 48.1875 \r\nQ 40.625 48.1875 47.75 41.5 \r\nQ 54.890625 34.8125 54.890625 23.390625 \r\nQ 54.890625 11.625 47.5625 5.09375 \r\nQ 40.234375 -1.421875 26.90625 -1.421875 \r\nQ 22.3125 -1.421875 17.546875 -0.640625 \r\nQ 12.796875 0.140625 7.71875 1.703125 \r\nL 7.71875 11.625 \r\nQ 12.109375 9.234375 16.796875 8.0625 \r\nQ 21.484375 6.890625 26.703125 6.890625 \r\nQ 35.15625 6.890625 40.078125 11.328125 \r\nQ 45.015625 15.765625 45.015625 23.390625 \r\nQ 45.015625 31 40.078125 35.4375 \r\nQ 35.15625 39.890625 26.703125 39.890625 \r\nQ 22.75 39.890625 18.8125 39.015625 \r\nQ 14.890625 38.140625 10.796875 36.28125 \r\nz\r\n\" id=\"DejaVuSans-53\"/>\r\n       </defs>\r\n       <use xlink:href=\"#DejaVuSans-50\"/>\r\n       <use x=\"63.623047\" xlink:href=\"#DejaVuSans-48\"/>\r\n       <use x=\"127.246094\" xlink:href=\"#DejaVuSans-50\"/>\r\n       <use x=\"190.869141\" xlink:href=\"#DejaVuSans-48\"/>\r\n       <use x=\"254.492188\" xlink:href=\"#DejaVuSans-45\"/>\r\n       <use x=\"290.576172\" xlink:href=\"#DejaVuSans-49\"/>\r\n       <use x=\"354.199219\" xlink:href=\"#DejaVuSans-49\"/>\r\n       <use x=\"417.822266\" xlink:href=\"#DejaVuSans-45\"/>\r\n       <use x=\"453.90625\" xlink:href=\"#DejaVuSans-48\"/>\r\n       <use x=\"517.529297\" xlink:href=\"#DejaVuSans-53\"/>\r\n      </g>\r\n     </g>\r\n    </g>\r\n    <g id=\"xtick_4\">\r\n     <g id=\"line2d_4\">\r\n      <g>\r\n       <use style=\"stroke:#000000;stroke-width:0.8;\" x=\"392.5945\" xlink:href=\"#mcc2a1d2e2b\" y=\"442.08\"/>\r\n      </g>\r\n     </g>\r\n     <g id=\"text_4\">\r\n      <!-- 2020-11-09 -->\r\n      <g transform=\"translate(363.536688 456.678437)scale(0.1 -0.1)\">\r\n       <use xlink:href=\"#DejaVuSans-50\"/>\r\n       <use x=\"63.623047\" xlink:href=\"#DejaVuSans-48\"/>\r\n       <use x=\"127.246094\" xlink:href=\"#DejaVuSans-50\"/>\r\n       <use x=\"190.869141\" xlink:href=\"#DejaVuSans-48\"/>\r\n       <use x=\"254.492188\" xlink:href=\"#DejaVuSans-45\"/>\r\n       <use x=\"290.576172\" xlink:href=\"#DejaVuSans-49\"/>\r\n       <use x=\"354.199219\" xlink:href=\"#DejaVuSans-49\"/>\r\n       <use x=\"417.822266\" xlink:href=\"#DejaVuSans-45\"/>\r\n       <use x=\"453.90625\" xlink:href=\"#DejaVuSans-48\"/>\r\n       <use x=\"517.529297\" xlink:href=\"#DejaVuSans-57\"/>\r\n      </g>\r\n     </g>\r\n    </g>\r\n    <g id=\"xtick_5\">\r\n     <g id=\"line2d_5\">\r\n      <g>\r\n       <use style=\"stroke:#000000;stroke-width:0.8;\" x=\"494.497722\" xlink:href=\"#mcc2a1d2e2b\" y=\"442.08\"/>\r\n      </g>\r\n     </g>\r\n     <g id=\"text_5\">\r\n      <!-- 2020-11-13 -->\r\n      <g transform=\"translate(465.43991 456.678437)scale(0.1 -0.1)\">\r\n       <defs>\r\n        <path d=\"M 40.578125 39.3125 \r\nQ 47.65625 37.796875 51.625 33 \r\nQ 55.609375 28.21875 55.609375 21.1875 \r\nQ 55.609375 10.40625 48.1875 4.484375 \r\nQ 40.765625 -1.421875 27.09375 -1.421875 \r\nQ 22.515625 -1.421875 17.65625 -0.515625 \r\nQ 12.796875 0.390625 7.625 2.203125 \r\nL 7.625 11.71875 \r\nQ 11.71875 9.328125 16.59375 8.109375 \r\nQ 21.484375 6.890625 26.8125 6.890625 \r\nQ 36.078125 6.890625 40.9375 10.546875 \r\nQ 45.796875 14.203125 45.796875 21.1875 \r\nQ 45.796875 27.640625 41.28125 31.265625 \r\nQ 36.765625 34.90625 28.71875 34.90625 \r\nL 20.21875 34.90625 \r\nL 20.21875 43.015625 \r\nL 29.109375 43.015625 \r\nQ 36.375 43.015625 40.234375 45.921875 \r\nQ 44.09375 48.828125 44.09375 54.296875 \r\nQ 44.09375 59.90625 40.109375 62.90625 \r\nQ 36.140625 65.921875 28.71875 65.921875 \r\nQ 24.65625 65.921875 20.015625 65.03125 \r\nQ 15.375 64.15625 9.8125 62.3125 \r\nL 9.8125 71.09375 \r\nQ 15.4375 72.65625 20.34375 73.4375 \r\nQ 25.25 74.21875 29.59375 74.21875 \r\nQ 40.828125 74.21875 47.359375 69.109375 \r\nQ 53.90625 64.015625 53.90625 55.328125 \r\nQ 53.90625 49.265625 50.4375 45.09375 \r\nQ 46.96875 40.921875 40.578125 39.3125 \r\nz\r\n\" id=\"DejaVuSans-51\"/>\r\n       </defs>\r\n       <use xlink:href=\"#DejaVuSans-50\"/>\r\n       <use x=\"63.623047\" xlink:href=\"#DejaVuSans-48\"/>\r\n       <use x=\"127.246094\" xlink:href=\"#DejaVuSans-50\"/>\r\n       <use x=\"190.869141\" xlink:href=\"#DejaVuSans-48\"/>\r\n       <use x=\"254.492188\" xlink:href=\"#DejaVuSans-45\"/>\r\n       <use x=\"290.576172\" xlink:href=\"#DejaVuSans-49\"/>\r\n       <use x=\"354.199219\" xlink:href=\"#DejaVuSans-49\"/>\r\n       <use x=\"417.822266\" xlink:href=\"#DejaVuSans-45\"/>\r\n       <use x=\"453.90625\" xlink:href=\"#DejaVuSans-49\"/>\r\n       <use x=\"517.529297\" xlink:href=\"#DejaVuSans-51\"/>\r\n      </g>\r\n     </g>\r\n    </g>\r\n    <g id=\"xtick_6\">\r\n     <g id=\"line2d_6\">\r\n      <g>\r\n       <use style=\"stroke:#000000;stroke-width:0.8;\" x=\"596.400945\" xlink:href=\"#mcc2a1d2e2b\" y=\"442.08\"/>\r\n      </g>\r\n     </g>\r\n     <g id=\"text_6\">\r\n      <!-- 2020-11-17 -->\r\n      <g transform=\"translate(567.343132 456.678437)scale(0.1 -0.1)\">\r\n       <defs>\r\n        <path d=\"M 8.203125 72.90625 \r\nL 55.078125 72.90625 \r\nL 55.078125 68.703125 \r\nL 28.609375 0 \r\nL 18.3125 0 \r\nL 43.21875 64.59375 \r\nL 8.203125 64.59375 \r\nz\r\n\" id=\"DejaVuSans-55\"/>\r\n       </defs>\r\n       <use xlink:href=\"#DejaVuSans-50\"/>\r\n       <use x=\"63.623047\" xlink:href=\"#DejaVuSans-48\"/>\r\n       <use x=\"127.246094\" xlink:href=\"#DejaVuSans-50\"/>\r\n       <use x=\"190.869141\" xlink:href=\"#DejaVuSans-48\"/>\r\n       <use x=\"254.492188\" xlink:href=\"#DejaVuSans-45\"/>\r\n       <use x=\"290.576172\" xlink:href=\"#DejaVuSans-49\"/>\r\n       <use x=\"354.199219\" xlink:href=\"#DejaVuSans-49\"/>\r\n       <use x=\"417.822266\" xlink:href=\"#DejaVuSans-45\"/>\r\n       <use x=\"453.90625\" xlink:href=\"#DejaVuSans-49\"/>\r\n       <use x=\"517.529297\" xlink:href=\"#DejaVuSans-55\"/>\r\n      </g>\r\n     </g>\r\n    </g>\r\n    <g id=\"xtick_7\">\r\n     <g id=\"line2d_7\">\r\n      <g>\r\n       <use style=\"stroke:#000000;stroke-width:0.8;\" x=\"698.304167\" xlink:href=\"#mcc2a1d2e2b\" y=\"442.08\"/>\r\n      </g>\r\n     </g>\r\n     <g id=\"text_7\">\r\n      <!-- 2020-11-21 -->\r\n      <g transform=\"translate(669.246355 456.678437)scale(0.1 -0.1)\">\r\n       <use xlink:href=\"#DejaVuSans-50\"/>\r\n       <use x=\"63.623047\" xlink:href=\"#DejaVuSans-48\"/>\r\n       <use x=\"127.246094\" xlink:href=\"#DejaVuSans-50\"/>\r\n       <use x=\"190.869141\" xlink:href=\"#DejaVuSans-48\"/>\r\n       <use x=\"254.492188\" xlink:href=\"#DejaVuSans-45\"/>\r\n       <use x=\"290.576172\" xlink:href=\"#DejaVuSans-49\"/>\r\n       <use x=\"354.199219\" xlink:href=\"#DejaVuSans-49\"/>\r\n       <use x=\"417.822266\" xlink:href=\"#DejaVuSans-45\"/>\r\n       <use x=\"453.90625\" xlink:href=\"#DejaVuSans-50\"/>\r\n       <use x=\"517.529297\" xlink:href=\"#DejaVuSans-49\"/>\r\n      </g>\r\n     </g>\r\n    </g>\r\n   </g>\r\n   <g id=\"matplotlib.axis_2\">\r\n    <g id=\"ytick_1\">\r\n     <g id=\"line2d_8\">\r\n      <defs>\r\n       <path d=\"M 0 0 \r\nL -3.5 0 \r\n\" id=\"m75a6836998\" style=\"stroke:#000000;stroke-width:0.8;\"/>\r\n      </defs>\r\n      <g>\r\n       <use style=\"stroke:#000000;stroke-width:0.8;\" x=\"30.103125\" xlink:href=\"#m75a6836998\" y=\"422.312727\"/>\r\n      </g>\r\n     </g>\r\n     <g id=\"text_8\">\r\n      <!-- 2.0 -->\r\n      <g transform=\"translate(7.2 426.111946)scale(0.1 -0.1)\">\r\n       <defs>\r\n        <path d=\"M 10.6875 12.40625 \r\nL 21 12.40625 \r\nL 21 0 \r\nL 10.6875 0 \r\nz\r\n\" id=\"DejaVuSans-46\"/>\r\n       </defs>\r\n       <use xlink:href=\"#DejaVuSans-50\"/>\r\n       <use x=\"63.623047\" xlink:href=\"#DejaVuSans-46\"/>\r\n       <use x=\"95.410156\" xlink:href=\"#DejaVuSans-48\"/>\r\n      </g>\r\n     </g>\r\n    </g>\r\n    <g id=\"ytick_2\">\r\n     <g id=\"line2d_9\">\r\n      <g>\r\n       <use style=\"stroke:#000000;stroke-width:0.8;\" x=\"30.103125\" xlink:href=\"#m75a6836998\" y=\"343.243636\"/>\r\n      </g>\r\n     </g>\r\n     <g id=\"text_9\">\r\n      <!-- 2.2 -->\r\n      <g transform=\"translate(7.2 347.042855)scale(0.1 -0.1)\">\r\n       <use xlink:href=\"#DejaVuSans-50\"/>\r\n       <use x=\"63.623047\" xlink:href=\"#DejaVuSans-46\"/>\r\n       <use x=\"95.410156\" xlink:href=\"#DejaVuSans-50\"/>\r\n      </g>\r\n     </g>\r\n    </g>\r\n    <g id=\"ytick_3\">\r\n     <g id=\"line2d_10\">\r\n      <g>\r\n       <use style=\"stroke:#000000;stroke-width:0.8;\" x=\"30.103125\" xlink:href=\"#m75a6836998\" y=\"264.174545\"/>\r\n      </g>\r\n     </g>\r\n     <g id=\"text_10\">\r\n      <!-- 2.4 -->\r\n      <g transform=\"translate(7.2 267.973764)scale(0.1 -0.1)\">\r\n       <defs>\r\n        <path d=\"M 37.796875 64.3125 \r\nL 12.890625 25.390625 \r\nL 37.796875 25.390625 \r\nz\r\nM 35.203125 72.90625 \r\nL 47.609375 72.90625 \r\nL 47.609375 25.390625 \r\nL 58.015625 25.390625 \r\nL 58.015625 17.1875 \r\nL 47.609375 17.1875 \r\nL 47.609375 0 \r\nL 37.796875 0 \r\nL 37.796875 17.1875 \r\nL 4.890625 17.1875 \r\nL 4.890625 26.703125 \r\nz\r\n\" id=\"DejaVuSans-52\"/>\r\n       </defs>\r\n       <use xlink:href=\"#DejaVuSans-50\"/>\r\n       <use x=\"63.623047\" xlink:href=\"#DejaVuSans-46\"/>\r\n       <use x=\"95.410156\" xlink:href=\"#DejaVuSans-52\"/>\r\n      </g>\r\n     </g>\r\n    </g>\r\n    <g id=\"ytick_4\">\r\n     <g id=\"line2d_11\">\r\n      <g>\r\n       <use style=\"stroke:#000000;stroke-width:0.8;\" x=\"30.103125\" xlink:href=\"#m75a6836998\" y=\"185.105455\"/>\r\n      </g>\r\n     </g>\r\n     <g id=\"text_11\">\r\n      <!-- 2.6 -->\r\n      <g transform=\"translate(7.2 188.904673)scale(0.1 -0.1)\">\r\n       <defs>\r\n        <path d=\"M 33.015625 40.375 \r\nQ 26.375 40.375 22.484375 35.828125 \r\nQ 18.609375 31.296875 18.609375 23.390625 \r\nQ 18.609375 15.53125 22.484375 10.953125 \r\nQ 26.375 6.390625 33.015625 6.390625 \r\nQ 39.65625 6.390625 43.53125 10.953125 \r\nQ 47.40625 15.53125 47.40625 23.390625 \r\nQ 47.40625 31.296875 43.53125 35.828125 \r\nQ 39.65625 40.375 33.015625 40.375 \r\nz\r\nM 52.59375 71.296875 \r\nL 52.59375 62.3125 \r\nQ 48.875 64.0625 45.09375 64.984375 \r\nQ 41.3125 65.921875 37.59375 65.921875 \r\nQ 27.828125 65.921875 22.671875 59.328125 \r\nQ 17.53125 52.734375 16.796875 39.40625 \r\nQ 19.671875 43.65625 24.015625 45.921875 \r\nQ 28.375 48.1875 33.59375 48.1875 \r\nQ 44.578125 48.1875 50.953125 41.515625 \r\nQ 57.328125 34.859375 57.328125 23.390625 \r\nQ 57.328125 12.15625 50.6875 5.359375 \r\nQ 44.046875 -1.421875 33.015625 -1.421875 \r\nQ 20.359375 -1.421875 13.671875 8.265625 \r\nQ 6.984375 17.96875 6.984375 36.375 \r\nQ 6.984375 53.65625 15.1875 63.9375 \r\nQ 23.390625 74.21875 37.203125 74.21875 \r\nQ 40.921875 74.21875 44.703125 73.484375 \r\nQ 48.484375 72.75 52.59375 71.296875 \r\nz\r\n\" id=\"DejaVuSans-54\"/>\r\n       </defs>\r\n       <use xlink:href=\"#DejaVuSans-50\"/>\r\n       <use x=\"63.623047\" xlink:href=\"#DejaVuSans-46\"/>\r\n       <use x=\"95.410156\" xlink:href=\"#DejaVuSans-54\"/>\r\n      </g>\r\n     </g>\r\n    </g>\r\n    <g id=\"ytick_5\">\r\n     <g id=\"line2d_12\">\r\n      <g>\r\n       <use style=\"stroke:#000000;stroke-width:0.8;\" x=\"30.103125\" xlink:href=\"#m75a6836998\" y=\"106.036364\"/>\r\n      </g>\r\n     </g>\r\n     <g id=\"text_12\">\r\n      <!-- 2.8 -->\r\n      <g transform=\"translate(7.2 109.835582)scale(0.1 -0.1)\">\r\n       <defs>\r\n        <path d=\"M 31.78125 34.625 \r\nQ 24.75 34.625 20.71875 30.859375 \r\nQ 16.703125 27.09375 16.703125 20.515625 \r\nQ 16.703125 13.921875 20.71875 10.15625 \r\nQ 24.75 6.390625 31.78125 6.390625 \r\nQ 38.8125 6.390625 42.859375 10.171875 \r\nQ 46.921875 13.96875 46.921875 20.515625 \r\nQ 46.921875 27.09375 42.890625 30.859375 \r\nQ 38.875 34.625 31.78125 34.625 \r\nz\r\nM 21.921875 38.8125 \r\nQ 15.578125 40.375 12.03125 44.71875 \r\nQ 8.5 49.078125 8.5 55.328125 \r\nQ 8.5 64.0625 14.71875 69.140625 \r\nQ 20.953125 74.21875 31.78125 74.21875 \r\nQ 42.671875 74.21875 48.875 69.140625 \r\nQ 55.078125 64.0625 55.078125 55.328125 \r\nQ 55.078125 49.078125 51.53125 44.71875 \r\nQ 48 40.375 41.703125 38.8125 \r\nQ 48.828125 37.15625 52.796875 32.3125 \r\nQ 56.78125 27.484375 56.78125 20.515625 \r\nQ 56.78125 9.90625 50.3125 4.234375 \r\nQ 43.84375 -1.421875 31.78125 -1.421875 \r\nQ 19.734375 -1.421875 13.25 4.234375 \r\nQ 6.78125 9.90625 6.78125 20.515625 \r\nQ 6.78125 27.484375 10.78125 32.3125 \r\nQ 14.796875 37.15625 21.921875 38.8125 \r\nz\r\nM 18.3125 54.390625 \r\nQ 18.3125 48.734375 21.84375 45.5625 \r\nQ 25.390625 42.390625 31.78125 42.390625 \r\nQ 38.140625 42.390625 41.71875 45.5625 \r\nQ 45.3125 48.734375 45.3125 54.390625 \r\nQ 45.3125 60.0625 41.71875 63.234375 \r\nQ 38.140625 66.40625 31.78125 66.40625 \r\nQ 25.390625 66.40625 21.84375 63.234375 \r\nQ 18.3125 60.0625 18.3125 54.390625 \r\nz\r\n\" id=\"DejaVuSans-56\"/>\r\n       </defs>\r\n       <use xlink:href=\"#DejaVuSans-50\"/>\r\n       <use x=\"63.623047\" xlink:href=\"#DejaVuSans-46\"/>\r\n       <use x=\"95.410156\" xlink:href=\"#DejaVuSans-56\"/>\r\n      </g>\r\n     </g>\r\n    </g>\r\n    <g id=\"ytick_6\">\r\n     <g id=\"line2d_13\">\r\n      <g>\r\n       <use style=\"stroke:#000000;stroke-width:0.8;\" x=\"30.103125\" xlink:href=\"#m75a6836998\" y=\"26.967273\"/>\r\n      </g>\r\n     </g>\r\n     <g id=\"text_13\">\r\n      <!-- 3.0 -->\r\n      <g transform=\"translate(7.2 30.766491)scale(0.1 -0.1)\">\r\n       <use xlink:href=\"#DejaVuSans-51\"/>\r\n       <use x=\"63.623047\" xlink:href=\"#DejaVuSans-46\"/>\r\n       <use x=\"95.410156\" xlink:href=\"#DejaVuSans-48\"/>\r\n      </g>\r\n     </g>\r\n    </g>\r\n   </g>\r\n   <g id=\"line2d_14\">\r\n    <path clip-path=\"url(#pbe3b8c59a5)\" d=\"M 60.539489 26.967273 \r\nL 60.548334 422.312727 \r\nL 669.266761 422.312727 \r\n\" style=\"fill:none;stroke:#1f77b4;stroke-linecap:square;stroke-width:1.5;\"/>\r\n   </g>\r\n   <g id=\"patch_3\">\r\n    <path d=\"M 30.103125 442.08 \r\nL 30.103125 7.2 \r\n\" style=\"fill:none;stroke:#000000;stroke-linecap:square;stroke-linejoin:miter;stroke-width:0.8;\"/>\r\n   </g>\r\n   <g id=\"patch_4\">\r\n    <path d=\"M 699.703125 442.08 \r\nL 699.703125 7.2 \r\n\" style=\"fill:none;stroke:#000000;stroke-linecap:square;stroke-linejoin:miter;stroke-width:0.8;\"/>\r\n   </g>\r\n   <g id=\"patch_5\">\r\n    <path d=\"M 30.103125 442.08 \r\nL 699.703125 442.08 \r\n\" style=\"fill:none;stroke:#000000;stroke-linecap:square;stroke-linejoin:miter;stroke-width:0.8;\"/>\r\n   </g>\r\n   <g id=\"patch_6\">\r\n    <path d=\"M 30.103125 7.2 \r\nL 699.703125 7.2 \r\n\" style=\"fill:none;stroke:#000000;stroke-linecap:square;stroke-linejoin:miter;stroke-width:0.8;\"/>\r\n   </g>\r\n  </g>\r\n </g>\r\n <defs>\r\n  <clipPath id=\"pbe3b8c59a5\">\r\n   <rect height=\"434.88\" width=\"669.6\" x=\"30.103125\" y=\"7.2\"/>\r\n  </clipPath>\r\n </defs>\r\n</svg>\r\n",
      "image/png": "[encoded data removed]"
     },
     "metadata": {
      "needs_background": "light"
     }
    }
   ],
   "source": [
    "fig = plt.figure(figsize=(12,8))\n",
    "df = result_df[result_df[\"user_id\"]==1011]\n",
    "df = df.sort_values(\"started_at\")\n",
    "plt.plot(df[\"started_at\"], df[\"score\"])\n",
    "plt.show()"
   ]
  },
  {
   "cell_type": "code",
   "execution_count": 19,
   "metadata": {},
   "outputs": [
    {
     "output_type": "execute_result",
     "data": {
      "text/plain": [
       "     user_id  score                started_at\n",
       "516     1011    3.0 2020-10-26 23:10:51+00:00\n",
       "2       1011    2.0 2020-10-26 23:11:21+00:00\n",
       "457     1011    2.0 2020-11-19 20:38:41+00:00"
      ],
      "text/html": "<div>\n<style scoped>\n    .dataframe tbody tr th:only-of-type {\n        vertical-align: middle;\n    }\n\n    .dataframe tbody tr th {\n        vertical-align: top;\n    }\n\n    .dataframe thead th {\n        text-align: right;\n    }\n</style>\n<table border=\"1\" class=\"dataframe\">\n  <thead>\n    <tr style=\"text-align: right;\">\n      <th></th>\n      <th>user_id</th>\n      <th>score</th>\n      <th>started_at</th>\n    </tr>\n  </thead>\n  <tbody>\n    <tr>\n      <th>516</th>\n      <td>1011</td>\n      <td>3.0</td>\n      <td>2020-10-26 23:10:51+00:00</td>\n    </tr>\n    <tr>\n      <th>2</th>\n      <td>1011</td>\n      <td>2.0</td>\n      <td>2020-10-26 23:11:21+00:00</td>\n    </tr>\n    <tr>\n      <th>457</th>\n      <td>1011</td>\n      <td>2.0</td>\n      <td>2020-11-19 20:38:41+00:00</td>\n    </tr>\n  </tbody>\n</table>\n</div>"
     },
     "metadata": {},
     "execution_count": 19
    }
   ],
   "source": [
    "df.sort_values(\"started_at\")"
   ]
  },
  {
   "cell_type": "code",
   "execution_count": null,
   "metadata": {},
   "outputs": [],
   "source": [
    "result_pivot = result_df.pivot(index=\"started_at\", columns=\"user_id\", values=\"score\")\n",
    "result_pivot.plot()"
   ]
  },
  {
   "cell_type": "code",
   "execution_count": null,
   "metadata": {},
   "outputs": [],
   "source": [
    "st_544 = []\n",
    "for i in result_data:\n",
    "    if i[0] == 544:\n",
    "        st_544.append(i)"
   ]
  },
  {
   "cell_type": "code",
   "execution_count": null,
   "metadata": {},
   "outputs": [],
   "source": [
    "st_633 = []\n",
    "for i in result_data:\n",
    "    if i[0] == 633:\n",
    "        st_633.append(i)"
   ]
  },
  {
   "cell_type": "code",
   "execution_count": null,
   "metadata": {},
   "outputs": [],
   "source": [
    "st_544_633 = st_544+st_633\n",
    "st_544_633"
   ]
  },
  {
   "cell_type": "code",
   "execution_count": null,
   "metadata": {},
   "outputs": [],
   "source": [
    "import matplotlib.pyplot as plt\n",
    "plt.plot([i[2] for i in st_633], [i[1] for i in st_633])"
   ]
  },
  {
   "cell_type": "code",
   "execution_count": null,
   "metadata": {},
   "outputs": [],
   "source": [
    "counts = {3:0,2:0,1:0}\n",
    "for i in result_data:\n",
    "    if i[1] == 1:\n",
    "        counts[1]+=1\n",
    "    if i[1] == 2:\n",
    "        counts[2]+=1\n",
    "    if i[1] == 3:\n",
    "        counts[3]+=1\n",
    "counts"
   ]
  },
  {
   "cell_type": "code",
   "execution_count": null,
   "metadata": {},
   "outputs": [],
   "source": [
    "import matplotlib.pyplot as plt\n",
    "\n",
    "plt.bar(counts.keys(),counts.values(), color=[\"green\", \"grey\", \"red\"])"
   ]
  },
  {
   "cell_type": "code",
   "execution_count": null,
   "metadata": {},
   "outputs": [],
   "source": [
    "result_data\n",
    "[i for i in result_data if i[0]==633]"
   ]
  },
  {
   "cell_type": "code",
   "execution_count": null,
   "metadata": {},
   "outputs": [],
   "source": [
    "user_633 = course_495[course_495[\"user_id\"]==633]\n",
    "user_633"
   ]
  },
  {
   "cell_type": "code",
   "execution_count": null,
   "metadata": {},
   "outputs": [],
   "source": [
    "r = requests.get(\"https://lambdaschool.instructure.com/api/v1/courses/495/quizzes/6617/submissions\", headers=headers)\n",
    "r"
   ]
  },
  {
   "cell_type": "code",
   "execution_count": null,
   "metadata": {},
   "outputs": [],
   "source": [
    "raw = r.json()\n",
    "\n",
    "with open(\"submissions-6617.json\",\"w\") as outfile:\n",
    "    json.dump(raw[\"quiz_submissions\"], outfile)"
   ]
  },
  {
   "cell_type": "code",
   "execution_count": null,
   "metadata": {},
   "outputs": [],
   "source": [
    "sub_df_6617 = pd.read_json(\"submissions-6617.json\")\n",
    "sub_df_6617.head()"
   ]
  },
  {
   "cell_type": "code",
   "execution_count": null,
   "metadata": {},
   "outputs": [],
   "source": [
    "r = requests.get(\"https://lambdaschool.instructure.com/api/v1/courses/495/quizzes/6617/submissions/57046/events\", headers=headers)\n",
    "r"
   ]
  },
  {
   "cell_type": "code",
   "execution_count": null,
   "metadata": {},
   "outputs": [],
   "source": [
    "raw = r.json()[\"quiz_submission_events\"]\n",
    "for i in raw:\n",
    "    i[\"user_id\"] = 530"
   ]
  },
  {
   "cell_type": "code",
   "execution_count": null,
   "metadata": {},
   "outputs": [],
   "source": [
    "with open(\"events-57046.json\", \"w\") as outfile:\n",
    "    json.dump(raw, outfile)"
   ]
  },
  {
   "cell_type": "code",
   "execution_count": null,
   "metadata": {},
   "outputs": [],
   "source": [
    "events_df_57046 = pd.read_json(\"events-57046.json\")\n",
    "events_df_57046"
   ]
  },
  {
   "cell_type": "code",
   "execution_count": null,
   "metadata": {},
   "outputs": [],
   "source": [
    "\n",
    "def get_answer(df):\n",
    "    for i in df[\"event_data\"]:\n",
    "        if isinstance(i, list) and isinstance(i[0], str)==False:\n",
    "            if \"22635\" in i[0].values():\n",
    "                print(i[0][\"answer\"])\n",
    "get_answer(events_df_56623)"
   ]
  },
  {
   "cell_type": "code",
   "execution_count": null,
   "metadata": {},
   "outputs": [],
   "source": [
    "course_id = 495\n",
    "quiz_id = 6780\n",
    "submission_id = 56623\n",
    "r = requests.get(f\"https://lambdaschool.instructure.com/api/v1/courses/{course_id}/quizzes/{quiz_id}/submissions/{submission_id}/events\", headers=headers)\n",
    "r"
   ]
  },
  {
   "cell_type": "code",
   "execution_count": null,
   "metadata": {},
   "outputs": [],
   "source": []
  }
 ]
}