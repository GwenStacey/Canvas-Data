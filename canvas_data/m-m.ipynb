{
 "metadata": {
  "language_info": {
   "codemirror_mode": {
    "name": "ipython",
    "version": 3
   },
   "file_extension": ".py",
   "mimetype": "text/x-python",
   "name": "python",
   "nbconvert_exporter": "python",
   "pygments_lexer": "ipython3",
   "version": "3.8.5-final"
  },
  "orig_nbformat": 2,
  "kernelspec": {
   "name": "canvas-data",
   "display_name": "canvas-data",
   "language": "python"
  }
 },
 "nbformat": 4,
 "nbformat_minor": 2,
 "cells": [
  {
   "cell_type": "code",
   "execution_count": 1,
   "metadata": {},
   "outputs": [
    {
     "output_type": "execute_result",
     "data": {
      "text/plain": [
       "True"
      ]
     },
     "metadata": {},
     "execution_count": 1
    }
   ],
   "source": [
    "import os\n",
    "import json\n",
    "import requests\n",
    "from dotenv import load_dotenv\n",
    "\n",
    "load_dotenv()"
   ]
  },
  {
   "cell_type": "code",
   "execution_count": 2,
   "metadata": {},
   "outputs": [],
   "source": [
    "import pandas as pd\n",
    "\n",
    "pd.set_option(\"display.max_columns\", None)\n",
    "pd.set_option(\"display.max_colwidth\", None)"
   ]
  },
  {
   "cell_type": "code",
   "execution_count": 14,
   "metadata": {},
   "outputs": [],
   "source": [
    "api_key = os.getenv(\"API-KEY\")\n",
    "headers = {\"Authorization\":\n",
    "           f\"Bearer {api_key}\"}"
   ]
  },
  {
   "cell_type": "code",
   "execution_count": 15,
   "metadata": {},
   "outputs": [],
   "source": [
    "def get_quizzes(course_id, headers):\n",
    "    r = requests.get(f\"https://lambdaschool.instructure.com/api/v1/courses/{course_id}/quizzes\", headers=headers)\n",
    "    raw = r.json()\n",
    "    for i in raw:\n",
    "        i[\"course_id\"] = course_id\n",
    "    return raw"
   ]
  },
  {
   "cell_type": "code",
   "execution_count": 16,
   "metadata": {},
   "outputs": [],
   "source": [
    "def get_submissions(course_id, quiz_id):\n",
    "    \"\"\"Creates a small list of jsons\n",
    "    that can be made into a file very easily\n",
    "    then converted to a dataframe for exploration\n",
    "    This particular design is just for grabbing pagniated\n",
    "    information from the api and returning it in a useful\n",
    "    way.\n",
    "    Usage:\n",
    "    Example ids used, not real\n",
    "    jsons = get_submissions(400, 1000)\n",
    "    with open(\"some_json_title.json\", \"w\") as outfile:\n",
    "        json.dump(data_set, outfile)\n",
    "    \"\"\"\n",
    "    r = requests.get(f\"https://lambdaschool.instructure.com/api/v1/courses/{course_id}/quizzes/{quiz_id}/submissions\", headers=headers)\n",
    "    data_set = []\n",
    "    raw = r.json()\n",
    "\n",
    "    for submission in raw[\"quiz_submissions\"]:\n",
    "        submission[\"course_id\"] = course_id\n",
    "        submission[\"quiz_id\"] = quiz_id\n",
    "        data_set.append(submission)\n",
    "\n",
    "    if \"next\" in r.links.keys():\n",
    "        while \"next\" in r.links.keys():\n",
    "            r = requests.get(r.links[\"next\"][\"url\"], headers=headers)\n",
    "            raw = r.json()\n",
    "            for submission in raw[\"quiz_submissions\"]:\n",
    "                submission[\"course_id\"] = course_id\n",
    "                submission[\"quiz_id\"] = quiz_id\n",
    "                data_set.append(submission)\n",
    "        if \"last\" in r.links.keys() and r.links['current']['url'] == r.links['last']['url']:\n",
    "            print('Done!')\n",
    "    else:\n",
    "        print(\"Just one page!\")\n",
    "    return data_set"
   ]
  },
  {
   "cell_type": "code",
   "execution_count": 6,
   "metadata": {},
   "outputs": [
    {
     "output_type": "execute_result",
     "data": {
      "text/plain": [
       "<Response [200]>"
      ]
     },
     "metadata": {},
     "execution_count": 6
    }
   ],
   "source": [
    "r = requests.get(\"https://lambdaschool.instructure.com/api/v1/accounts/1/courses?search_by=course&search_term=LLP&per_page=100\", headers=headers)\n",
    "r"
   ]
  },
  {
   "cell_type": "code",
   "execution_count": 7,
   "metadata": {},
   "outputs": [],
   "source": [
    "raw = r.json()\n",
    "\n",
    "with open(\"LLP-Courses.json\", \"w\") as outfile:\n",
    "    json.dump(raw, outfile)"
   ]
  },
  {
   "cell_type": "code",
   "execution_count": 6,
   "metadata": {},
   "outputs": [
    {
     "output_type": "execute_result",
     "data": {
      "text/plain": [
       "    id                                      name  account_id  \\\n",
       "0  190        Lambda Leadership Program - Unit 2           1   \n",
       "1  283   Lambda Leadership - Rotation C Template           1   \n",
       "2  330         Lambda Leadership - Rotation C PT           1   \n",
       "3  331         Lambda Leadership - Rotation C FT           1   \n",
       "4  365  Lambda Leadership - Rotation C FT - LABS           1   \n",
       "\n",
       "                                       uuid                  start_at  \\\n",
       "0  J9daOUmhhQcLwEinxnXTJNRH86tZjobdOone45U1                       NaT   \n",
       "1  nwdlOihsde1UVKa4ijri9IupJuAJMQL2zSaIVlyG 2020-09-21 16:04:00+00:00   \n",
       "2  vRJPG8f5QRK6ungHvYamiOiGU2n4P9mKwwdKvA7s 2020-09-21 16:04:00+00:00   \n",
       "3  2gVSLHMWasuDBJpSomMzFwcI38EFs0qv3i1E5WLw 2020-09-21 16:04:00+00:00   \n",
       "4  uWxZkmEaLcb74oS1EZAESDX82zzXQrgpV6d54BBH 2020-09-23 23:47:00+00:00   \n",
       "\n",
       "   grading_standard_id  is_public                created_at  \\\n",
       "0                  NaN        0.0 2020-08-17 17:13:20+00:00   \n",
       "1                  NaN        0.0 2020-09-14 15:00:02+00:00   \n",
       "2                  NaN        0.0 2020-09-22 15:51:59+00:00   \n",
       "3                  NaN        0.0 2020-09-22 15:52:34+00:00   \n",
       "4                  NaN        0.0 2020-09-23 23:36:41+00:00   \n",
       "\n",
       "          course_code default_view  root_account_id  enrollment_term_id  \\\n",
       "0           LLP_unit2         wiki                1                 103   \n",
       "1  LLP_C_Template_Old         wiki                1                   1   \n",
       "2         LLP_PT_2009         wiki                1                 103   \n",
       "3         LLP_FT_2009         wiki                1                 103   \n",
       "4     LLP_FT_2009LABS         wiki                1                 103   \n",
       "\n",
       "   license  grade_passback_setting                    end_at  public_syllabus  \\\n",
       "0  private                     NaN 2020-12-07 08:00:00+00:00            False   \n",
       "1  private                     NaN                       NaT            False   \n",
       "2  private                     NaN 2020-11-23 07:00:00+00:00            False   \n",
       "3  private                     NaN 2020-10-26 06:00:00+00:00            False   \n",
       "4  private                     NaN 2020-10-26 06:00:00+00:00            False   \n",
       "\n",
       "   public_syllabus_to_auth  storage_quota_mb  is_public_to_auth_users  \\\n",
       "0                    False              2000                    False   \n",
       "1                    False              2000                    False   \n",
       "2                    False              2000                    False   \n",
       "3                    False              2000                    False   \n",
       "4                    False              2000                    False   \n",
       "\n",
       "   apply_assignment_group_weights  \\\n",
       "0                           False   \n",
       "1                           False   \n",
       "2                           False   \n",
       "3                           False   \n",
       "4                           False   \n",
       "\n",
       "                                                                                                              calendar  \\\n",
       "0  {'ics': 'https://lambdaschool.instructure.com/feeds/calendars/course_J9daOUmhhQcLwEinxnXTJNRH86tZjobdOone45U1.ics'}   \n",
       "1  {'ics': 'https://lambdaschool.instructure.com/feeds/calendars/course_nwdlOihsde1UVKa4ijri9IupJuAJMQL2zSaIVlyG.ics'}   \n",
       "2  {'ics': 'https://lambdaschool.instructure.com/feeds/calendars/course_vRJPG8f5QRK6ungHvYamiOiGU2n4P9mKwwdKvA7s.ics'}   \n",
       "3  {'ics': 'https://lambdaschool.instructure.com/feeds/calendars/course_2gVSLHMWasuDBJpSomMzFwcI38EFs0qv3i1E5WLw.ics'}   \n",
       "4  {'ics': 'https://lambdaschool.instructure.com/feeds/calendars/course_uWxZkmEaLcb74oS1EZAESDX82zzXQrgpV6d54BBH.ics'}   \n",
       "\n",
       "        time_zone  blueprint       sis_course_id  sis_import_id  \\\n",
       "0  America/Denver      False                None            NaN   \n",
       "1  America/Denver       True  LLP_C_Template_Old            NaN   \n",
       "2  America/Denver      False         LLP_PT_2009            NaN   \n",
       "3  America/Denver      False         LLP_FT_2009            NaN   \n",
       "4  America/Denver      False     LLP_FT_2009LABS            NaN   \n",
       "\n",
       "   integration_id  hide_final_grades workflow_state  \\\n",
       "0             NaN              False    unpublished   \n",
       "1             NaN              False      available   \n",
       "2             NaN              False      available   \n",
       "3             NaN              False      available   \n",
       "4             NaN              False      available   \n",
       "\n",
       "   restrict_enrollments_to_course_dates overridden_course_visibility  \\\n",
       "0                                  True                                \n",
       "1                                 False                                \n",
       "2                                  True                                \n",
       "3                                  True                                \n",
       "4                                  True                                \n",
       "\n",
       "                                                                 blueprint_restrictions  \\\n",
       "0                                                                                   NaN   \n",
       "1  {'content': False, 'points': False, 'due_dates': False, 'availability_dates': False}   \n",
       "2                                                                                   NaN   \n",
       "3                                                                                   NaN   \n",
       "4                                                                                   NaN   \n",
       "\n",
       "  course_format  \n",
       "0           NaN  \n",
       "1           NaN  \n",
       "2           NaN  \n",
       "3           NaN  \n",
       "4           NaN  "
      ],
      "text/html": "<div>\n<style scoped>\n    .dataframe tbody tr th:only-of-type {\n        vertical-align: middle;\n    }\n\n    .dataframe tbody tr th {\n        vertical-align: top;\n    }\n\n    .dataframe thead th {\n        text-align: right;\n    }\n</style>\n<table border=\"1\" class=\"dataframe\">\n  <thead>\n    <tr style=\"text-align: right;\">\n      <th></th>\n      <th>id</th>\n      <th>name</th>\n      <th>account_id</th>\n      <th>uuid</th>\n      <th>start_at</th>\n      <th>grading_standard_id</th>\n      <th>is_public</th>\n      <th>created_at</th>\n      <th>course_code</th>\n      <th>default_view</th>\n      <th>root_account_id</th>\n      <th>enrollment_term_id</th>\n      <th>license</th>\n      <th>grade_passback_setting</th>\n      <th>end_at</th>\n      <th>public_syllabus</th>\n      <th>public_syllabus_to_auth</th>\n      <th>storage_quota_mb</th>\n      <th>is_public_to_auth_users</th>\n      <th>apply_assignment_group_weights</th>\n      <th>calendar</th>\n      <th>time_zone</th>\n      <th>blueprint</th>\n      <th>sis_course_id</th>\n      <th>sis_import_id</th>\n      <th>integration_id</th>\n      <th>hide_final_grades</th>\n      <th>workflow_state</th>\n      <th>restrict_enrollments_to_course_dates</th>\n      <th>overridden_course_visibility</th>\n      <th>blueprint_restrictions</th>\n      <th>course_format</th>\n    </tr>\n  </thead>\n  <tbody>\n    <tr>\n      <th>0</th>\n      <td>190</td>\n      <td>Lambda Leadership Program - Unit 2</td>\n      <td>1</td>\n      <td>J9daOUmhhQcLwEinxnXTJNRH86tZjobdOone45U1</td>\n      <td>NaT</td>\n      <td>NaN</td>\n      <td>0.0</td>\n      <td>2020-08-17 17:13:20+00:00</td>\n      <td>LLP_unit2</td>\n      <td>wiki</td>\n      <td>1</td>\n      <td>103</td>\n      <td>private</td>\n      <td>NaN</td>\n      <td>2020-12-07 08:00:00+00:00</td>\n      <td>False</td>\n      <td>False</td>\n      <td>2000</td>\n      <td>False</td>\n      <td>False</td>\n      <td>{'ics': 'https://lambdaschool.instructure.com/feeds/calendars/course_J9daOUmhhQcLwEinxnXTJNRH86tZjobdOone45U1.ics'}</td>\n      <td>America/Denver</td>\n      <td>False</td>\n      <td>None</td>\n      <td>NaN</td>\n      <td>NaN</td>\n      <td>False</td>\n      <td>unpublished</td>\n      <td>True</td>\n      <td></td>\n      <td>NaN</td>\n      <td>NaN</td>\n    </tr>\n    <tr>\n      <th>1</th>\n      <td>283</td>\n      <td>Lambda Leadership - Rotation C Template</td>\n      <td>1</td>\n      <td>nwdlOihsde1UVKa4ijri9IupJuAJMQL2zSaIVlyG</td>\n      <td>2020-09-21 16:04:00+00:00</td>\n      <td>NaN</td>\n      <td>0.0</td>\n      <td>2020-09-14 15:00:02+00:00</td>\n      <td>LLP_C_Template_Old</td>\n      <td>wiki</td>\n      <td>1</td>\n      <td>1</td>\n      <td>private</td>\n      <td>NaN</td>\n      <td>NaT</td>\n      <td>False</td>\n      <td>False</td>\n      <td>2000</td>\n      <td>False</td>\n      <td>False</td>\n      <td>{'ics': 'https://lambdaschool.instructure.com/feeds/calendars/course_nwdlOihsde1UVKa4ijri9IupJuAJMQL2zSaIVlyG.ics'}</td>\n      <td>America/Denver</td>\n      <td>True</td>\n      <td>LLP_C_Template_Old</td>\n      <td>NaN</td>\n      <td>NaN</td>\n      <td>False</td>\n      <td>available</td>\n      <td>False</td>\n      <td></td>\n      <td>{'content': False, 'points': False, 'due_dates': False, 'availability_dates': False}</td>\n      <td>NaN</td>\n    </tr>\n    <tr>\n      <th>2</th>\n      <td>330</td>\n      <td>Lambda Leadership - Rotation C PT</td>\n      <td>1</td>\n      <td>vRJPG8f5QRK6ungHvYamiOiGU2n4P9mKwwdKvA7s</td>\n      <td>2020-09-21 16:04:00+00:00</td>\n      <td>NaN</td>\n      <td>0.0</td>\n      <td>2020-09-22 15:51:59+00:00</td>\n      <td>LLP_PT_2009</td>\n      <td>wiki</td>\n      <td>1</td>\n      <td>103</td>\n      <td>private</td>\n      <td>NaN</td>\n      <td>2020-11-23 07:00:00+00:00</td>\n      <td>False</td>\n      <td>False</td>\n      <td>2000</td>\n      <td>False</td>\n      <td>False</td>\n      <td>{'ics': 'https://lambdaschool.instructure.com/feeds/calendars/course_vRJPG8f5QRK6ungHvYamiOiGU2n4P9mKwwdKvA7s.ics'}</td>\n      <td>America/Denver</td>\n      <td>False</td>\n      <td>LLP_PT_2009</td>\n      <td>NaN</td>\n      <td>NaN</td>\n      <td>False</td>\n      <td>available</td>\n      <td>True</td>\n      <td></td>\n      <td>NaN</td>\n      <td>NaN</td>\n    </tr>\n    <tr>\n      <th>3</th>\n      <td>331</td>\n      <td>Lambda Leadership - Rotation C FT</td>\n      <td>1</td>\n      <td>2gVSLHMWasuDBJpSomMzFwcI38EFs0qv3i1E5WLw</td>\n      <td>2020-09-21 16:04:00+00:00</td>\n      <td>NaN</td>\n      <td>0.0</td>\n      <td>2020-09-22 15:52:34+00:00</td>\n      <td>LLP_FT_2009</td>\n      <td>wiki</td>\n      <td>1</td>\n      <td>103</td>\n      <td>private</td>\n      <td>NaN</td>\n      <td>2020-10-26 06:00:00+00:00</td>\n      <td>False</td>\n      <td>False</td>\n      <td>2000</td>\n      <td>False</td>\n      <td>False</td>\n      <td>{'ics': 'https://lambdaschool.instructure.com/feeds/calendars/course_2gVSLHMWasuDBJpSomMzFwcI38EFs0qv3i1E5WLw.ics'}</td>\n      <td>America/Denver</td>\n      <td>False</td>\n      <td>LLP_FT_2009</td>\n      <td>NaN</td>\n      <td>NaN</td>\n      <td>False</td>\n      <td>available</td>\n      <td>True</td>\n      <td></td>\n      <td>NaN</td>\n      <td>NaN</td>\n    </tr>\n    <tr>\n      <th>4</th>\n      <td>365</td>\n      <td>Lambda Leadership - Rotation C FT - LABS</td>\n      <td>1</td>\n      <td>uWxZkmEaLcb74oS1EZAESDX82zzXQrgpV6d54BBH</td>\n      <td>2020-09-23 23:47:00+00:00</td>\n      <td>NaN</td>\n      <td>0.0</td>\n      <td>2020-09-23 23:36:41+00:00</td>\n      <td>LLP_FT_2009LABS</td>\n      <td>wiki</td>\n      <td>1</td>\n      <td>103</td>\n      <td>private</td>\n      <td>NaN</td>\n      <td>2020-10-26 06:00:00+00:00</td>\n      <td>False</td>\n      <td>False</td>\n      <td>2000</td>\n      <td>False</td>\n      <td>False</td>\n      <td>{'ics': 'https://lambdaschool.instructure.com/feeds/calendars/course_uWxZkmEaLcb74oS1EZAESDX82zzXQrgpV6d54BBH.ics'}</td>\n      <td>America/Denver</td>\n      <td>False</td>\n      <td>LLP_FT_2009LABS</td>\n      <td>NaN</td>\n      <td>NaN</td>\n      <td>False</td>\n      <td>available</td>\n      <td>True</td>\n      <td></td>\n      <td>NaN</td>\n      <td>NaN</td>\n    </tr>\n  </tbody>\n</table>\n</div>"
     },
     "metadata": {},
     "execution_count": 6
    }
   ],
   "source": [
    "llp_courses_df = pd.read_json(\"LLP-Courses.json\")\n",
    "llp_courses_df.head()"
   ]
  },
  {
   "cell_type": "code",
   "execution_count": 7,
   "metadata": {},
   "outputs": [
    {
     "output_type": "execute_result",
     "data": {
      "text/plain": [
       "    id                                      name  account_id  \\\n",
       "0  190        Lambda Leadership Program - Unit 2           1   \n",
       "2  330         Lambda Leadership - Rotation C PT           1   \n",
       "3  331         Lambda Leadership - Rotation C FT           1   \n",
       "4  365  Lambda Leadership - Rotation C FT - LABS           1   \n",
       "5  366  Lambda Leadership - Rotation C PT - LABS           1   \n",
       "\n",
       "                                       uuid                  start_at  \\\n",
       "0  J9daOUmhhQcLwEinxnXTJNRH86tZjobdOone45U1                       NaT   \n",
       "2  vRJPG8f5QRK6ungHvYamiOiGU2n4P9mKwwdKvA7s 2020-09-21 16:04:00+00:00   \n",
       "3  2gVSLHMWasuDBJpSomMzFwcI38EFs0qv3i1E5WLw 2020-09-21 16:04:00+00:00   \n",
       "4  uWxZkmEaLcb74oS1EZAESDX82zzXQrgpV6d54BBH 2020-09-23 23:47:00+00:00   \n",
       "5  AYSKbWrvCW3JiOUsmyELDOPg6vggoofc923Rlvnf 2020-09-23 23:52:12+00:00   \n",
       "\n",
       "   grading_standard_id  is_public                created_at      course_code  \\\n",
       "0                  NaN        0.0 2020-08-17 17:13:20+00:00        LLP_unit2   \n",
       "2                  NaN        0.0 2020-09-22 15:51:59+00:00      LLP_PT_2009   \n",
       "3                  NaN        0.0 2020-09-22 15:52:34+00:00      LLP_FT_2009   \n",
       "4                  NaN        0.0 2020-09-23 23:36:41+00:00  LLP_FT_2009LABS   \n",
       "5                  NaN        0.0 2020-09-23 23:49:39+00:00  LLP_PT_2009LABS   \n",
       "\n",
       "  default_view  root_account_id  enrollment_term_id  license  \\\n",
       "0         wiki                1                 103  private   \n",
       "2         wiki                1                 103  private   \n",
       "3         wiki                1                 103  private   \n",
       "4         wiki                1                 103  private   \n",
       "5         wiki                1                 103  private   \n",
       "\n",
       "   grade_passback_setting                    end_at  public_syllabus  \\\n",
       "0                     NaN 2020-12-07 08:00:00+00:00            False   \n",
       "2                     NaN 2020-11-23 07:00:00+00:00            False   \n",
       "3                     NaN 2020-10-26 06:00:00+00:00            False   \n",
       "4                     NaN 2020-10-26 06:00:00+00:00            False   \n",
       "5                     NaN 2020-11-30 07:00:00+00:00            False   \n",
       "\n",
       "   public_syllabus_to_auth  storage_quota_mb  is_public_to_auth_users  \\\n",
       "0                    False              2000                    False   \n",
       "2                    False              2000                    False   \n",
       "3                    False              2000                    False   \n",
       "4                    False              2000                    False   \n",
       "5                    False              2000                    False   \n",
       "\n",
       "   apply_assignment_group_weights  \\\n",
       "0                           False   \n",
       "2                           False   \n",
       "3                           False   \n",
       "4                           False   \n",
       "5                           False   \n",
       "\n",
       "                                                                                                              calendar  \\\n",
       "0  {'ics': 'https://lambdaschool.instructure.com/feeds/calendars/course_J9daOUmhhQcLwEinxnXTJNRH86tZjobdOone45U1.ics'}   \n",
       "2  {'ics': 'https://lambdaschool.instructure.com/feeds/calendars/course_vRJPG8f5QRK6ungHvYamiOiGU2n4P9mKwwdKvA7s.ics'}   \n",
       "3  {'ics': 'https://lambdaschool.instructure.com/feeds/calendars/course_2gVSLHMWasuDBJpSomMzFwcI38EFs0qv3i1E5WLw.ics'}   \n",
       "4  {'ics': 'https://lambdaschool.instructure.com/feeds/calendars/course_uWxZkmEaLcb74oS1EZAESDX82zzXQrgpV6d54BBH.ics'}   \n",
       "5  {'ics': 'https://lambdaschool.instructure.com/feeds/calendars/course_AYSKbWrvCW3JiOUsmyELDOPg6vggoofc923Rlvnf.ics'}   \n",
       "\n",
       "        time_zone  blueprint    sis_course_id  sis_import_id  integration_id  \\\n",
       "0  America/Denver      False             None            NaN             NaN   \n",
       "2  America/Denver      False      LLP_PT_2009            NaN             NaN   \n",
       "3  America/Denver      False      LLP_FT_2009            NaN             NaN   \n",
       "4  America/Denver      False  LLP_FT_2009LABS            NaN             NaN   \n",
       "5  America/Denver      False  LLP_PT_2009LABS            NaN             NaN   \n",
       "\n",
       "   hide_final_grades workflow_state  restrict_enrollments_to_course_dates  \\\n",
       "0              False    unpublished                                  True   \n",
       "2              False      available                                  True   \n",
       "3              False      available                                  True   \n",
       "4              False      available                                  True   \n",
       "5              False      available                                  True   \n",
       "\n",
       "  overridden_course_visibility blueprint_restrictions course_format  \n",
       "0                                                 NaN           NaN  \n",
       "2                                                 NaN           NaN  \n",
       "3                                                 NaN           NaN  \n",
       "4                                                 NaN           NaN  \n",
       "5                                                 NaN           NaN  "
      ],
      "text/html": "<div>\n<style scoped>\n    .dataframe tbody tr th:only-of-type {\n        vertical-align: middle;\n    }\n\n    .dataframe tbody tr th {\n        vertical-align: top;\n    }\n\n    .dataframe thead th {\n        text-align: right;\n    }\n</style>\n<table border=\"1\" class=\"dataframe\">\n  <thead>\n    <tr style=\"text-align: right;\">\n      <th></th>\n      <th>id</th>\n      <th>name</th>\n      <th>account_id</th>\n      <th>uuid</th>\n      <th>start_at</th>\n      <th>grading_standard_id</th>\n      <th>is_public</th>\n      <th>created_at</th>\n      <th>course_code</th>\n      <th>default_view</th>\n      <th>root_account_id</th>\n      <th>enrollment_term_id</th>\n      <th>license</th>\n      <th>grade_passback_setting</th>\n      <th>end_at</th>\n      <th>public_syllabus</th>\n      <th>public_syllabus_to_auth</th>\n      <th>storage_quota_mb</th>\n      <th>is_public_to_auth_users</th>\n      <th>apply_assignment_group_weights</th>\n      <th>calendar</th>\n      <th>time_zone</th>\n      <th>blueprint</th>\n      <th>sis_course_id</th>\n      <th>sis_import_id</th>\n      <th>integration_id</th>\n      <th>hide_final_grades</th>\n      <th>workflow_state</th>\n      <th>restrict_enrollments_to_course_dates</th>\n      <th>overridden_course_visibility</th>\n      <th>blueprint_restrictions</th>\n      <th>course_format</th>\n    </tr>\n  </thead>\n  <tbody>\n    <tr>\n      <th>0</th>\n      <td>190</td>\n      <td>Lambda Leadership Program - Unit 2</td>\n      <td>1</td>\n      <td>J9daOUmhhQcLwEinxnXTJNRH86tZjobdOone45U1</td>\n      <td>NaT</td>\n      <td>NaN</td>\n      <td>0.0</td>\n      <td>2020-08-17 17:13:20+00:00</td>\n      <td>LLP_unit2</td>\n      <td>wiki</td>\n      <td>1</td>\n      <td>103</td>\n      <td>private</td>\n      <td>NaN</td>\n      <td>2020-12-07 08:00:00+00:00</td>\n      <td>False</td>\n      <td>False</td>\n      <td>2000</td>\n      <td>False</td>\n      <td>False</td>\n      <td>{'ics': 'https://lambdaschool.instructure.com/feeds/calendars/course_J9daOUmhhQcLwEinxnXTJNRH86tZjobdOone45U1.ics'}</td>\n      <td>America/Denver</td>\n      <td>False</td>\n      <td>None</td>\n      <td>NaN</td>\n      <td>NaN</td>\n      <td>False</td>\n      <td>unpublished</td>\n      <td>True</td>\n      <td></td>\n      <td>NaN</td>\n      <td>NaN</td>\n    </tr>\n    <tr>\n      <th>2</th>\n      <td>330</td>\n      <td>Lambda Leadership - Rotation C PT</td>\n      <td>1</td>\n      <td>vRJPG8f5QRK6ungHvYamiOiGU2n4P9mKwwdKvA7s</td>\n      <td>2020-09-21 16:04:00+00:00</td>\n      <td>NaN</td>\n      <td>0.0</td>\n      <td>2020-09-22 15:51:59+00:00</td>\n      <td>LLP_PT_2009</td>\n      <td>wiki</td>\n      <td>1</td>\n      <td>103</td>\n      <td>private</td>\n      <td>NaN</td>\n      <td>2020-11-23 07:00:00+00:00</td>\n      <td>False</td>\n      <td>False</td>\n      <td>2000</td>\n      <td>False</td>\n      <td>False</td>\n      <td>{'ics': 'https://lambdaschool.instructure.com/feeds/calendars/course_vRJPG8f5QRK6ungHvYamiOiGU2n4P9mKwwdKvA7s.ics'}</td>\n      <td>America/Denver</td>\n      <td>False</td>\n      <td>LLP_PT_2009</td>\n      <td>NaN</td>\n      <td>NaN</td>\n      <td>False</td>\n      <td>available</td>\n      <td>True</td>\n      <td></td>\n      <td>NaN</td>\n      <td>NaN</td>\n    </tr>\n    <tr>\n      <th>3</th>\n      <td>331</td>\n      <td>Lambda Leadership - Rotation C FT</td>\n      <td>1</td>\n      <td>2gVSLHMWasuDBJpSomMzFwcI38EFs0qv3i1E5WLw</td>\n      <td>2020-09-21 16:04:00+00:00</td>\n      <td>NaN</td>\n      <td>0.0</td>\n      <td>2020-09-22 15:52:34+00:00</td>\n      <td>LLP_FT_2009</td>\n      <td>wiki</td>\n      <td>1</td>\n      <td>103</td>\n      <td>private</td>\n      <td>NaN</td>\n      <td>2020-10-26 06:00:00+00:00</td>\n      <td>False</td>\n      <td>False</td>\n      <td>2000</td>\n      <td>False</td>\n      <td>False</td>\n      <td>{'ics': 'https://lambdaschool.instructure.com/feeds/calendars/course_2gVSLHMWasuDBJpSomMzFwcI38EFs0qv3i1E5WLw.ics'}</td>\n      <td>America/Denver</td>\n      <td>False</td>\n      <td>LLP_FT_2009</td>\n      <td>NaN</td>\n      <td>NaN</td>\n      <td>False</td>\n      <td>available</td>\n      <td>True</td>\n      <td></td>\n      <td>NaN</td>\n      <td>NaN</td>\n    </tr>\n    <tr>\n      <th>4</th>\n      <td>365</td>\n      <td>Lambda Leadership - Rotation C FT - LABS</td>\n      <td>1</td>\n      <td>uWxZkmEaLcb74oS1EZAESDX82zzXQrgpV6d54BBH</td>\n      <td>2020-09-23 23:47:00+00:00</td>\n      <td>NaN</td>\n      <td>0.0</td>\n      <td>2020-09-23 23:36:41+00:00</td>\n      <td>LLP_FT_2009LABS</td>\n      <td>wiki</td>\n      <td>1</td>\n      <td>103</td>\n      <td>private</td>\n      <td>NaN</td>\n      <td>2020-10-26 06:00:00+00:00</td>\n      <td>False</td>\n      <td>False</td>\n      <td>2000</td>\n      <td>False</td>\n      <td>False</td>\n      <td>{'ics': 'https://lambdaschool.instructure.com/feeds/calendars/course_uWxZkmEaLcb74oS1EZAESDX82zzXQrgpV6d54BBH.ics'}</td>\n      <td>America/Denver</td>\n      <td>False</td>\n      <td>LLP_FT_2009LABS</td>\n      <td>NaN</td>\n      <td>NaN</td>\n      <td>False</td>\n      <td>available</td>\n      <td>True</td>\n      <td></td>\n      <td>NaN</td>\n      <td>NaN</td>\n    </tr>\n    <tr>\n      <th>5</th>\n      <td>366</td>\n      <td>Lambda Leadership - Rotation C PT - LABS</td>\n      <td>1</td>\n      <td>AYSKbWrvCW3JiOUsmyELDOPg6vggoofc923Rlvnf</td>\n      <td>2020-09-23 23:52:12+00:00</td>\n      <td>NaN</td>\n      <td>0.0</td>\n      <td>2020-09-23 23:49:39+00:00</td>\n      <td>LLP_PT_2009LABS</td>\n      <td>wiki</td>\n      <td>1</td>\n      <td>103</td>\n      <td>private</td>\n      <td>NaN</td>\n      <td>2020-11-30 07:00:00+00:00</td>\n      <td>False</td>\n      <td>False</td>\n      <td>2000</td>\n      <td>False</td>\n      <td>False</td>\n      <td>{'ics': 'https://lambdaschool.instructure.com/feeds/calendars/course_AYSKbWrvCW3JiOUsmyELDOPg6vggoofc923Rlvnf.ics'}</td>\n      <td>America/Denver</td>\n      <td>False</td>\n      <td>LLP_PT_2009LABS</td>\n      <td>NaN</td>\n      <td>NaN</td>\n      <td>False</td>\n      <td>available</td>\n      <td>True</td>\n      <td></td>\n      <td>NaN</td>\n      <td>NaN</td>\n    </tr>\n  </tbody>\n</table>\n</div>"
     },
     "metadata": {},
     "execution_count": 7
    }
   ],
   "source": [
    "llp_no_temp = llp_courses_df[llp_courses_df[\"course_code\"].str.contains(\"Template\")==False]\n",
    "llp_no_temp.head()"
   ]
  },
  {
   "cell_type": "code",
   "execution_count": 8,
   "metadata": {},
   "outputs": [
    {
     "output_type": "execute_result",
     "data": {
      "text/plain": [
       "     id                                      name  account_id  \\\n",
       "10  495         Lambda Leadership - Rotation D FT           1   \n",
       "11  496  Lambda Leadership - Rotation D FT - LABS           1   \n",
       "12  497      Lambda Leadership Rotation D PT - CS           1   \n",
       "13  498         Lambda Leadership - Rotation D PT           1   \n",
       "14  499  Lambda Leadership - Rotation D PT - LABS           1   \n",
       "\n",
       "                                        uuid                  start_at  \\\n",
       "10  7ipq4T9Ri5RbXF7mUj1S50L6iENrhGVRuuztcHwC                       NaT   \n",
       "11  IjyCCp6uptzjrqa60OSD1aBmmtP4kXyCVOszeGmO 2020-10-27 00:00:00+00:00   \n",
       "12  C9HwCQPOumpo4TrpI19j3oSLipcqgTuQqTN9vCO4                       NaT   \n",
       "13  OFv2ybAkoPJoLxIoVsdpIi83BfWAJAlmi3xkav8m                       NaT   \n",
       "14  9DrTvr5BbTjEqTGzamu0yyyRG8XcB8Va9HZR5yv6 2020-10-29 00:00:00+00:00   \n",
       "\n",
       "    grading_standard_id  is_public                created_at  \\\n",
       "10                  NaN        0.0 2020-10-22 18:05:22+00:00   \n",
       "11                  NaN        0.0 2020-10-22 18:05:22+00:00   \n",
       "12                  NaN        0.0 2020-10-22 18:05:22+00:00   \n",
       "13                  NaN        0.0 2020-10-22 18:05:22+00:00   \n",
       "14                  NaN        0.0 2020-10-22 18:05:22+00:00   \n",
       "\n",
       "         course_code default_view  root_account_id  enrollment_term_id  \\\n",
       "10       LLP_FT_2010         wiki                1                 103   \n",
       "11  LLP_FT_2010_LABS         wiki                1                 103   \n",
       "12    LLP_PT_2010_CS         wiki                1                   1   \n",
       "13       LLP_PT_2010         wiki                1                   1   \n",
       "14  LLP_PT_2010_LABS         wiki                1                   1   \n",
       "\n",
       "    license  grade_passback_setting                    end_at  \\\n",
       "10  private                     NaN 2020-12-07 08:00:00+00:00   \n",
       "11  private                     NaN 2020-11-20 00:00:00+00:00   \n",
       "12  private                     NaN 2021-01-11 08:00:00+00:00   \n",
       "13  private                     NaN 2021-01-11 08:00:00+00:00   \n",
       "14  private                     NaN 2021-01-08 00:00:00+00:00   \n",
       "\n",
       "    public_syllabus  public_syllabus_to_auth  storage_quota_mb  \\\n",
       "10            False                    False              2000   \n",
       "11            False                    False              2000   \n",
       "12            False                    False              2000   \n",
       "13            False                    False              2000   \n",
       "14            False                    False              2000   \n",
       "\n",
       "    is_public_to_auth_users  apply_assignment_group_weights  \\\n",
       "10                    False                           False   \n",
       "11                    False                           False   \n",
       "12                    False                           False   \n",
       "13                    False                           False   \n",
       "14                    False                           False   \n",
       "\n",
       "                                                                                                               calendar  \\\n",
       "10  {'ics': 'https://lambdaschool.instructure.com/feeds/calendars/course_7ipq4T9Ri5RbXF7mUj1S50L6iENrhGVRuuztcHwC.ics'}   \n",
       "11  {'ics': 'https://lambdaschool.instructure.com/feeds/calendars/course_IjyCCp6uptzjrqa60OSD1aBmmtP4kXyCVOszeGmO.ics'}   \n",
       "12  {'ics': 'https://lambdaschool.instructure.com/feeds/calendars/course_C9HwCQPOumpo4TrpI19j3oSLipcqgTuQqTN9vCO4.ics'}   \n",
       "13  {'ics': 'https://lambdaschool.instructure.com/feeds/calendars/course_OFv2ybAkoPJoLxIoVsdpIi83BfWAJAlmi3xkav8m.ics'}   \n",
       "14  {'ics': 'https://lambdaschool.instructure.com/feeds/calendars/course_9DrTvr5BbTjEqTGzamu0yyyRG8XcB8Va9HZR5yv6.ics'}   \n",
       "\n",
       "              time_zone  blueprint     sis_course_id  sis_import_id  \\\n",
       "10  America/Los_Angeles      False       LLP_FT_2010          567.0   \n",
       "11  America/Los_Angeles      False  LLP_FT_2010_LABS          567.0   \n",
       "12  America/Los_Angeles      False    LLP_PT_2010_CS          567.0   \n",
       "13  America/Los_Angeles      False       LLP_PT_2010          567.0   \n",
       "14  America/Los_Angeles      False  LLP_PT_2010_LABS          567.0   \n",
       "\n",
       "    integration_id  hide_final_grades workflow_state  \\\n",
       "10             NaN              False      available   \n",
       "11             NaN              False      available   \n",
       "12             NaN              False      available   \n",
       "13             NaN              False      available   \n",
       "14             NaN              False      available   \n",
       "\n",
       "    restrict_enrollments_to_course_dates overridden_course_visibility  \\\n",
       "10                                  True                                \n",
       "11                                  True                                \n",
       "12                                  True                                \n",
       "13                                  True                                \n",
       "14                                  True                                \n",
       "\n",
       "   blueprint_restrictions course_format  \n",
       "10                    NaN        online  \n",
       "11                    NaN        online  \n",
       "12                    NaN        online  \n",
       "13                    NaN        online  \n",
       "14                    NaN        online  "
      ],
      "text/html": "<div>\n<style scoped>\n    .dataframe tbody tr th:only-of-type {\n        vertical-align: middle;\n    }\n\n    .dataframe tbody tr th {\n        vertical-align: top;\n    }\n\n    .dataframe thead th {\n        text-align: right;\n    }\n</style>\n<table border=\"1\" class=\"dataframe\">\n  <thead>\n    <tr style=\"text-align: right;\">\n      <th></th>\n      <th>id</th>\n      <th>name</th>\n      <th>account_id</th>\n      <th>uuid</th>\n      <th>start_at</th>\n      <th>grading_standard_id</th>\n      <th>is_public</th>\n      <th>created_at</th>\n      <th>course_code</th>\n      <th>default_view</th>\n      <th>root_account_id</th>\n      <th>enrollment_term_id</th>\n      <th>license</th>\n      <th>grade_passback_setting</th>\n      <th>end_at</th>\n      <th>public_syllabus</th>\n      <th>public_syllabus_to_auth</th>\n      <th>storage_quota_mb</th>\n      <th>is_public_to_auth_users</th>\n      <th>apply_assignment_group_weights</th>\n      <th>calendar</th>\n      <th>time_zone</th>\n      <th>blueprint</th>\n      <th>sis_course_id</th>\n      <th>sis_import_id</th>\n      <th>integration_id</th>\n      <th>hide_final_grades</th>\n      <th>workflow_state</th>\n      <th>restrict_enrollments_to_course_dates</th>\n      <th>overridden_course_visibility</th>\n      <th>blueprint_restrictions</th>\n      <th>course_format</th>\n    </tr>\n  </thead>\n  <tbody>\n    <tr>\n      <th>10</th>\n      <td>495</td>\n      <td>Lambda Leadership - Rotation D FT</td>\n      <td>1</td>\n      <td>7ipq4T9Ri5RbXF7mUj1S50L6iENrhGVRuuztcHwC</td>\n      <td>NaT</td>\n      <td>NaN</td>\n      <td>0.0</td>\n      <td>2020-10-22 18:05:22+00:00</td>\n      <td>LLP_FT_2010</td>\n      <td>wiki</td>\n      <td>1</td>\n      <td>103</td>\n      <td>private</td>\n      <td>NaN</td>\n      <td>2020-12-07 08:00:00+00:00</td>\n      <td>False</td>\n      <td>False</td>\n      <td>2000</td>\n      <td>False</td>\n      <td>False</td>\n      <td>{'ics': 'https://lambdaschool.instructure.com/feeds/calendars/course_7ipq4T9Ri5RbXF7mUj1S50L6iENrhGVRuuztcHwC.ics'}</td>\n      <td>America/Los_Angeles</td>\n      <td>False</td>\n      <td>LLP_FT_2010</td>\n      <td>567.0</td>\n      <td>NaN</td>\n      <td>False</td>\n      <td>available</td>\n      <td>True</td>\n      <td></td>\n      <td>NaN</td>\n      <td>online</td>\n    </tr>\n    <tr>\n      <th>11</th>\n      <td>496</td>\n      <td>Lambda Leadership - Rotation D FT - LABS</td>\n      <td>1</td>\n      <td>IjyCCp6uptzjrqa60OSD1aBmmtP4kXyCVOszeGmO</td>\n      <td>2020-10-27 00:00:00+00:00</td>\n      <td>NaN</td>\n      <td>0.0</td>\n      <td>2020-10-22 18:05:22+00:00</td>\n      <td>LLP_FT_2010_LABS</td>\n      <td>wiki</td>\n      <td>1</td>\n      <td>103</td>\n      <td>private</td>\n      <td>NaN</td>\n      <td>2020-11-20 00:00:00+00:00</td>\n      <td>False</td>\n      <td>False</td>\n      <td>2000</td>\n      <td>False</td>\n      <td>False</td>\n      <td>{'ics': 'https://lambdaschool.instructure.com/feeds/calendars/course_IjyCCp6uptzjrqa60OSD1aBmmtP4kXyCVOszeGmO.ics'}</td>\n      <td>America/Los_Angeles</td>\n      <td>False</td>\n      <td>LLP_FT_2010_LABS</td>\n      <td>567.0</td>\n      <td>NaN</td>\n      <td>False</td>\n      <td>available</td>\n      <td>True</td>\n      <td></td>\n      <td>NaN</td>\n      <td>online</td>\n    </tr>\n    <tr>\n      <th>12</th>\n      <td>497</td>\n      <td>Lambda Leadership Rotation D PT - CS</td>\n      <td>1</td>\n      <td>C9HwCQPOumpo4TrpI19j3oSLipcqgTuQqTN9vCO4</td>\n      <td>NaT</td>\n      <td>NaN</td>\n      <td>0.0</td>\n      <td>2020-10-22 18:05:22+00:00</td>\n      <td>LLP_PT_2010_CS</td>\n      <td>wiki</td>\n      <td>1</td>\n      <td>1</td>\n      <td>private</td>\n      <td>NaN</td>\n      <td>2021-01-11 08:00:00+00:00</td>\n      <td>False</td>\n      <td>False</td>\n      <td>2000</td>\n      <td>False</td>\n      <td>False</td>\n      <td>{'ics': 'https://lambdaschool.instructure.com/feeds/calendars/course_C9HwCQPOumpo4TrpI19j3oSLipcqgTuQqTN9vCO4.ics'}</td>\n      <td>America/Los_Angeles</td>\n      <td>False</td>\n      <td>LLP_PT_2010_CS</td>\n      <td>567.0</td>\n      <td>NaN</td>\n      <td>False</td>\n      <td>available</td>\n      <td>True</td>\n      <td></td>\n      <td>NaN</td>\n      <td>online</td>\n    </tr>\n    <tr>\n      <th>13</th>\n      <td>498</td>\n      <td>Lambda Leadership - Rotation D PT</td>\n      <td>1</td>\n      <td>OFv2ybAkoPJoLxIoVsdpIi83BfWAJAlmi3xkav8m</td>\n      <td>NaT</td>\n      <td>NaN</td>\n      <td>0.0</td>\n      <td>2020-10-22 18:05:22+00:00</td>\n      <td>LLP_PT_2010</td>\n      <td>wiki</td>\n      <td>1</td>\n      <td>1</td>\n      <td>private</td>\n      <td>NaN</td>\n      <td>2021-01-11 08:00:00+00:00</td>\n      <td>False</td>\n      <td>False</td>\n      <td>2000</td>\n      <td>False</td>\n      <td>False</td>\n      <td>{'ics': 'https://lambdaschool.instructure.com/feeds/calendars/course_OFv2ybAkoPJoLxIoVsdpIi83BfWAJAlmi3xkav8m.ics'}</td>\n      <td>America/Los_Angeles</td>\n      <td>False</td>\n      <td>LLP_PT_2010</td>\n      <td>567.0</td>\n      <td>NaN</td>\n      <td>False</td>\n      <td>available</td>\n      <td>True</td>\n      <td></td>\n      <td>NaN</td>\n      <td>online</td>\n    </tr>\n    <tr>\n      <th>14</th>\n      <td>499</td>\n      <td>Lambda Leadership - Rotation D PT - LABS</td>\n      <td>1</td>\n      <td>9DrTvr5BbTjEqTGzamu0yyyRG8XcB8Va9HZR5yv6</td>\n      <td>2020-10-29 00:00:00+00:00</td>\n      <td>NaN</td>\n      <td>0.0</td>\n      <td>2020-10-22 18:05:22+00:00</td>\n      <td>LLP_PT_2010_LABS</td>\n      <td>wiki</td>\n      <td>1</td>\n      <td>1</td>\n      <td>private</td>\n      <td>NaN</td>\n      <td>2021-01-08 00:00:00+00:00</td>\n      <td>False</td>\n      <td>False</td>\n      <td>2000</td>\n      <td>False</td>\n      <td>False</td>\n      <td>{'ics': 'https://lambdaschool.instructure.com/feeds/calendars/course_9DrTvr5BbTjEqTGzamu0yyyRG8XcB8Va9HZR5yv6.ics'}</td>\n      <td>America/Los_Angeles</td>\n      <td>False</td>\n      <td>LLP_PT_2010_LABS</td>\n      <td>567.0</td>\n      <td>NaN</td>\n      <td>False</td>\n      <td>available</td>\n      <td>True</td>\n      <td></td>\n      <td>NaN</td>\n      <td>online</td>\n    </tr>\n  </tbody>\n</table>\n</div>"
     },
     "metadata": {},
     "execution_count": 8
    }
   ],
   "source": [
    "llp_2011_2010 = llp_no_temp[(llp_no_temp[\"course_code\"].str.contains(pat = \"201\\d\", regex = True))]\n",
    "llp_2011_2010.head()"
   ]
  },
  {
   "cell_type": "code",
   "execution_count": 12,
   "metadata": {},
   "outputs": [],
   "source": [
    "quizzes_data = []\n",
    "for i in llp_2011_2010[\"id\"]:\n",
    "    for t in get_quizzes(i, headers):\n",
    "        quizzes_data.append(t)"
   ]
  },
  {
   "cell_type": "code",
   "execution_count": 13,
   "metadata": {},
   "outputs": [],
   "source": [
    "with open(\"quizzes_llp_201X.json\", \"w\") as outfile:\n",
    "    json.dump(quizzes_data, outfile)"
   ]
  },
  {
   "cell_type": "code",
   "execution_count": 14,
   "metadata": {},
   "outputs": [
    {
     "output_type": "execute_result",
     "data": {
      "text/plain": [
       "     id                                           title  course_id\n",
       "0  6780  Sprint 1, Module 1 - Mentor/Mentee Orientation        495\n",
       "1  6617  Sprint 1, Module 2 - Mentor/Mentee Orientation        495\n",
       "2  6788                Sprint 1 - Track Team Reflection        495\n",
       "3  6876                      Sprint 2 - Team Reflection        495\n",
       "4  6610           Sprint 3 - Mentorship (2) Reflection         495"
      ],
      "text/html": "<div>\n<style scoped>\n    .dataframe tbody tr th:only-of-type {\n        vertical-align: middle;\n    }\n\n    .dataframe tbody tr th {\n        vertical-align: top;\n    }\n\n    .dataframe thead th {\n        text-align: right;\n    }\n</style>\n<table border=\"1\" class=\"dataframe\">\n  <thead>\n    <tr style=\"text-align: right;\">\n      <th></th>\n      <th>id</th>\n      <th>title</th>\n      <th>course_id</th>\n    </tr>\n  </thead>\n  <tbody>\n    <tr>\n      <th>0</th>\n      <td>6780</td>\n      <td>Sprint 1, Module 1 - Mentor/Mentee Orientation</td>\n      <td>495</td>\n    </tr>\n    <tr>\n      <th>1</th>\n      <td>6617</td>\n      <td>Sprint 1, Module 2 - Mentor/Mentee Orientation</td>\n      <td>495</td>\n    </tr>\n    <tr>\n      <th>2</th>\n      <td>6788</td>\n      <td>Sprint 1 - Track Team Reflection</td>\n      <td>495</td>\n    </tr>\n    <tr>\n      <th>3</th>\n      <td>6876</td>\n      <td>Sprint 2 - Team Reflection</td>\n      <td>495</td>\n    </tr>\n    <tr>\n      <th>4</th>\n      <td>6610</td>\n      <td>Sprint 3 - Mentorship (2) Reflection</td>\n      <td>495</td>\n    </tr>\n  </tbody>\n</table>\n</div>"
     },
     "metadata": {},
     "execution_count": 14
    }
   ],
   "source": [
    "quizzes_df = pd.read_json(\"quizzes_llp_201X.json\")\n",
    "quizzes_df[[\"id\",\"title\", \"course_id\"]].head()"
   ]
  },
  {
   "cell_type": "code",
   "execution_count": 29,
   "metadata": {},
   "outputs": [],
   "source": [
    "r = requests.get(f\"https://lambdaschool.instructure.com/api/v1/courses/495/quizzes/6780/submissions\", headers=headers)\n",
    "data_set = []\n",
    "raw = r.json()"
   ]
  },
  {
   "cell_type": "code",
   "execution_count": 36,
   "metadata": {},
   "outputs": [],
   "source": [
    "for i in raw[\"quiz_submissions\"]:\r\n",
    "    i[\"course_id\"] = 495 "
   ]
  },
  {
   "cell_type": "code",
   "execution_count": 38,
   "metadata": {},
   "outputs": [
    {
     "output_type": "stream",
     "name": "stdout",
     "text": [
      "Done!\n",
      "Done!\n",
      "Done!\n",
      "Done!\n",
      "Done!\n",
      "Done!\n",
      "Done!\n",
      "Just one page!\n",
      "Done!\n",
      "Done!\n",
      "Done!\n",
      "Done!\n",
      "Done!\n",
      "Done!\n",
      "Done!\n",
      "Done!\n",
      "Done!\n",
      "Done!\n",
      "Done!\n",
      "Done!\n",
      "Just one page!\n",
      "Just one page!\n",
      "Done!\n",
      "Just one page!\n",
      "Done!\n",
      "Done!\n",
      "Done!\n",
      "Done!\n",
      "Done!\n",
      "Done!\n",
      "Just one page!\n",
      "Done!\n",
      "Done!\n",
      "Done!\n",
      "Done!\n",
      "Done!\n",
      "Just one page!\n",
      "Just one page!\n",
      "Just one page!\n",
      "Just one page!\n",
      "Just one page!\n",
      "Just one page!\n",
      "Done!\n",
      "Just one page!\n",
      "Done!\n",
      "Done!\n",
      "Just one page!\n",
      "Just one page!\n",
      "Just one page!\n",
      "Done!\n",
      "Done!\n",
      "Done!\n",
      "Done!\n",
      "Done!\n",
      "Done!\n",
      "Done!\n",
      "Done!\n",
      "Done!\n",
      "Done!\n",
      "Done!\n",
      "Just one page!\n",
      "Done!\n",
      "Done!\n",
      "Done!\n",
      "Just one page!\n",
      "Done!\n",
      "Just one page!\n",
      "Just one page!\n",
      "Done!\n",
      "Just one page!\n",
      "Just one page!\n",
      "Just one page!\n",
      "Just one page!\n",
      "Done!\n",
      "Done!\n",
      "Done!\n",
      "Done!\n",
      "Done!\n",
      "Done!\n",
      "Done!\n",
      "Just one page!\n",
      "Done!\n",
      "Done!\n",
      "Done!\n",
      "Done!\n",
      "Done!\n",
      "Just one page!\n",
      "Done!\n",
      "Just one page!\n",
      "Just one page!\n",
      "Just one page!\n",
      "Just one page!\n",
      "Done!\n",
      "Done!\n",
      "Just one page!\n",
      "Just one page!\n",
      "Just one page!\n",
      "Just one page!\n",
      "Just one page!\n",
      "Just one page!\n",
      "Just one page!\n",
      "Just one page!\n",
      "Just one page!\n",
      "Just one page!\n",
      "Just one page!\n",
      "Done!\n",
      "Done!\n",
      "Done!\n",
      "Done!\n",
      "Just one page!\n",
      "Done!\n",
      "Done!\n",
      "Done!\n",
      "Done!\n",
      "Done!\n",
      "Done!\n",
      "Done!\n",
      "Done!\n",
      "Done!\n",
      "Done!\n"
     ]
    }
   ],
   "source": [
    "for i in quizzes_df[[\"id\", \"course_id\"]].itertuples():\n",
    "    submissions = get_submissions(i.course_id, i.id)\n",
    "    with open(f\"submissions_{i.id}.json\", \"w\") as outfile:\n",
    "        json.dump(submissions, outfile)"
   ]
  },
  {
   "cell_type": "code",
   "execution_count": 16,
   "metadata": {},
   "outputs": [
    {
     "output_type": "execute_result",
     "data": {
      "text/plain": [
       "      id  quiz_id  quiz_version  user_id  submission_id  score  kept_score  \\\n",
       "0  57233     6585           103      633         309005      1           1   \n",
       "1  57294     6585           103      544         318896      1           1   \n",
       "2  57299     6585           103      579         312007      1           1   \n",
       "3  57302     6585           103     1011         314947      1           1   \n",
       "4  57366     6585           103      631         322392      1           1   \n",
       "\n",
       "                 started_at                    end_at  \\\n",
       "0 2020-10-26 22:47:46+00:00 2020-11-21 07:59:59+00:00   \n",
       "1 2020-10-26 23:08:10+00:00 2020-11-21 07:59:59+00:00   \n",
       "2 2020-10-26 23:10:50+00:00 2020-11-21 07:59:59+00:00   \n",
       "3 2020-10-26 23:11:21+00:00 2020-11-21 07:59:59+00:00   \n",
       "4 2020-10-26 23:31:11+00:00 2020-11-21 07:59:59+00:00   \n",
       "\n",
       "                finished_at  attempt workflow_state  fudge_points  \\\n",
       "0 2020-10-27 22:50:48+00:00        1       complete           NaN   \n",
       "1 2020-11-06 02:01:55+00:00        1       complete           NaN   \n",
       "2 2020-11-21 07:59:59+00:00        1       complete           NaN   \n",
       "3 2020-11-19 20:40:47+00:00        1       complete           NaN   \n",
       "4 2020-10-27 22:32:06+00:00        1       complete           NaN   \n",
       "\n",
       "   quiz_points_possible  extra_attempts extra_time  manually_unlocked  \\\n",
       "0                     1             NaN        NaT                NaN   \n",
       "1                     1             NaN        NaT                NaN   \n",
       "2                     1             NaN        NaT                NaN   \n",
       "3                     1             NaN        NaT                NaN   \n",
       "4                     1             NaN        NaT                NaN   \n",
       "\n",
       "                                                   validation_token  \\\n",
       "0  5e9f574072efc917ebfd543dadced88ad27cb1d1006bf73d8a1b26526534a1d3   \n",
       "1  4ea64d0996617807a3c655f8e95ae42a6319de0d8cb689915672fa930082ba58   \n",
       "2  4f3a8e2ae3ffc807258bb85db4c2118255e51015d10a16734c5a3f7783c7d94c   \n",
       "3  48a83c07c6e2eeb9cbed95f48c820a5742591a781eb90c902c43b2346ec4739b   \n",
       "4  17b98f2724d7708d8770f905b461972dd5675336ac89b578fa92240ebe22726f   \n",
       "\n",
       "   score_before_regrade  has_seen_results  time_spent  attempts_left  \\\n",
       "0                   NaN               0.0       86582              0   \n",
       "1                   NaN               0.0      874425              0   \n",
       "2                   NaN               NaN     2191748              0   \n",
       "3                   NaN               0.0     2064566              0   \n",
       "4                   NaN               0.0       82855              0   \n",
       "\n",
       "   overdue_and_needs_submission  excused?  \\\n",
       "0                         False     False   \n",
       "1                         False     False   \n",
       "2                         False     False   \n",
       "3                         False     False   \n",
       "4                         False     False   \n",
       "\n",
       "                                                                          html_url  \\\n",
       "0  https://lambdaschool.instructure.com/courses/495/quizzes/6585/submissions/57233   \n",
       "1  https://lambdaschool.instructure.com/courses/495/quizzes/6585/submissions/57294   \n",
       "2  https://lambdaschool.instructure.com/courses/495/quizzes/6585/submissions/57299   \n",
       "3  https://lambdaschool.instructure.com/courses/495/quizzes/6585/submissions/57302   \n",
       "4  https://lambdaschool.instructure.com/courses/495/quizzes/6585/submissions/57366   \n",
       "\n",
       "                                                                                                 result_url  \\\n",
       "0  https://lambdaschool.instructure.com/courses/495/quizzes/6585/history?quiz_submission_id=57233&version=1   \n",
       "1  https://lambdaschool.instructure.com/courses/495/quizzes/6585/history?quiz_submission_id=57294&version=1   \n",
       "2  https://lambdaschool.instructure.com/courses/495/quizzes/6585/history?quiz_submission_id=57299&version=1   \n",
       "3  https://lambdaschool.instructure.com/courses/495/quizzes/6585/history?quiz_submission_id=57302&version=1   \n",
       "4  https://lambdaschool.instructure.com/courses/495/quizzes/6585/history?quiz_submission_id=57366&version=1   \n",
       "\n",
       "   course_id  \n",
       "0        495  \n",
       "1        495  \n",
       "2        495  \n",
       "3        495  \n",
       "4        495  "
      ],
      "text/html": "<div>\n<style scoped>\n    .dataframe tbody tr th:only-of-type {\n        vertical-align: middle;\n    }\n\n    .dataframe tbody tr th {\n        vertical-align: top;\n    }\n\n    .dataframe thead th {\n        text-align: right;\n    }\n</style>\n<table border=\"1\" class=\"dataframe\">\n  <thead>\n    <tr style=\"text-align: right;\">\n      <th></th>\n      <th>id</th>\n      <th>quiz_id</th>\n      <th>quiz_version</th>\n      <th>user_id</th>\n      <th>submission_id</th>\n      <th>score</th>\n      <th>kept_score</th>\n      <th>started_at</th>\n      <th>end_at</th>\n      <th>finished_at</th>\n      <th>attempt</th>\n      <th>workflow_state</th>\n      <th>fudge_points</th>\n      <th>quiz_points_possible</th>\n      <th>extra_attempts</th>\n      <th>extra_time</th>\n      <th>manually_unlocked</th>\n      <th>validation_token</th>\n      <th>score_before_regrade</th>\n      <th>has_seen_results</th>\n      <th>time_spent</th>\n      <th>attempts_left</th>\n      <th>overdue_and_needs_submission</th>\n      <th>excused?</th>\n      <th>html_url</th>\n      <th>result_url</th>\n      <th>course_id</th>\n    </tr>\n  </thead>\n  <tbody>\n    <tr>\n      <th>0</th>\n      <td>57233</td>\n      <td>6585</td>\n      <td>103</td>\n      <td>633</td>\n      <td>309005</td>\n      <td>1</td>\n      <td>1</td>\n      <td>2020-10-26 22:47:46+00:00</td>\n      <td>2020-11-21 07:59:59+00:00</td>\n      <td>2020-10-27 22:50:48+00:00</td>\n      <td>1</td>\n      <td>complete</td>\n      <td>NaN</td>\n      <td>1</td>\n      <td>NaN</td>\n      <td>NaT</td>\n      <td>NaN</td>\n      <td>5e9f574072efc917ebfd543dadced88ad27cb1d1006bf73d8a1b26526534a1d3</td>\n      <td>NaN</td>\n      <td>0.0</td>\n      <td>86582</td>\n      <td>0</td>\n      <td>False</td>\n      <td>False</td>\n      <td>https://lambdaschool.instructure.com/courses/495/quizzes/6585/submissions/57233</td>\n      <td>https://lambdaschool.instructure.com/courses/495/quizzes/6585/history?quiz_submission_id=57233&amp;version=1</td>\n      <td>495</td>\n    </tr>\n    <tr>\n      <th>1</th>\n      <td>57294</td>\n      <td>6585</td>\n      <td>103</td>\n      <td>544</td>\n      <td>318896</td>\n      <td>1</td>\n      <td>1</td>\n      <td>2020-10-26 23:08:10+00:00</td>\n      <td>2020-11-21 07:59:59+00:00</td>\n      <td>2020-11-06 02:01:55+00:00</td>\n      <td>1</td>\n      <td>complete</td>\n      <td>NaN</td>\n      <td>1</td>\n      <td>NaN</td>\n      <td>NaT</td>\n      <td>NaN</td>\n      <td>4ea64d0996617807a3c655f8e95ae42a6319de0d8cb689915672fa930082ba58</td>\n      <td>NaN</td>\n      <td>0.0</td>\n      <td>874425</td>\n      <td>0</td>\n      <td>False</td>\n      <td>False</td>\n      <td>https://lambdaschool.instructure.com/courses/495/quizzes/6585/submissions/57294</td>\n      <td>https://lambdaschool.instructure.com/courses/495/quizzes/6585/history?quiz_submission_id=57294&amp;version=1</td>\n      <td>495</td>\n    </tr>\n    <tr>\n      <th>2</th>\n      <td>57299</td>\n      <td>6585</td>\n      <td>103</td>\n      <td>579</td>\n      <td>312007</td>\n      <td>1</td>\n      <td>1</td>\n      <td>2020-10-26 23:10:50+00:00</td>\n      <td>2020-11-21 07:59:59+00:00</td>\n      <td>2020-11-21 07:59:59+00:00</td>\n      <td>1</td>\n      <td>complete</td>\n      <td>NaN</td>\n      <td>1</td>\n      <td>NaN</td>\n      <td>NaT</td>\n      <td>NaN</td>\n      <td>4f3a8e2ae3ffc807258bb85db4c2118255e51015d10a16734c5a3f7783c7d94c</td>\n      <td>NaN</td>\n      <td>NaN</td>\n      <td>2191748</td>\n      <td>0</td>\n      <td>False</td>\n      <td>False</td>\n      <td>https://lambdaschool.instructure.com/courses/495/quizzes/6585/submissions/57299</td>\n      <td>https://lambdaschool.instructure.com/courses/495/quizzes/6585/history?quiz_submission_id=57299&amp;version=1</td>\n      <td>495</td>\n    </tr>\n    <tr>\n      <th>3</th>\n      <td>57302</td>\n      <td>6585</td>\n      <td>103</td>\n      <td>1011</td>\n      <td>314947</td>\n      <td>1</td>\n      <td>1</td>\n      <td>2020-10-26 23:11:21+00:00</td>\n      <td>2020-11-21 07:59:59+00:00</td>\n      <td>2020-11-19 20:40:47+00:00</td>\n      <td>1</td>\n      <td>complete</td>\n      <td>NaN</td>\n      <td>1</td>\n      <td>NaN</td>\n      <td>NaT</td>\n      <td>NaN</td>\n      <td>48a83c07c6e2eeb9cbed95f48c820a5742591a781eb90c902c43b2346ec4739b</td>\n      <td>NaN</td>\n      <td>0.0</td>\n      <td>2064566</td>\n      <td>0</td>\n      <td>False</td>\n      <td>False</td>\n      <td>https://lambdaschool.instructure.com/courses/495/quizzes/6585/submissions/57302</td>\n      <td>https://lambdaschool.instructure.com/courses/495/quizzes/6585/history?quiz_submission_id=57302&amp;version=1</td>\n      <td>495</td>\n    </tr>\n    <tr>\n      <th>4</th>\n      <td>57366</td>\n      <td>6585</td>\n      <td>103</td>\n      <td>631</td>\n      <td>322392</td>\n      <td>1</td>\n      <td>1</td>\n      <td>2020-10-26 23:31:11+00:00</td>\n      <td>2020-11-21 07:59:59+00:00</td>\n      <td>2020-10-27 22:32:06+00:00</td>\n      <td>1</td>\n      <td>complete</td>\n      <td>NaN</td>\n      <td>1</td>\n      <td>NaN</td>\n      <td>NaT</td>\n      <td>NaN</td>\n      <td>17b98f2724d7708d8770f905b461972dd5675336ac89b578fa92240ebe22726f</td>\n      <td>NaN</td>\n      <td>0.0</td>\n      <td>82855</td>\n      <td>0</td>\n      <td>False</td>\n      <td>False</td>\n      <td>https://lambdaschool.instructure.com/courses/495/quizzes/6585/submissions/57366</td>\n      <td>https://lambdaschool.instructure.com/courses/495/quizzes/6585/history?quiz_submission_id=57366&amp;version=1</td>\n      <td>495</td>\n    </tr>\n  </tbody>\n</table>\n</div>"
     },
     "metadata": {},
     "execution_count": 16
    }
   ],
   "source": [
    "subs_6585_df = pd.read_json(\"submissions_6585.json\")\n",
    "subs_6585_df.head()"
   ]
  },
  {
   "cell_type": "code",
   "execution_count": 60,
   "metadata": {},
   "outputs": [],
   "source": [
    "course_id = subs_6585_df[\"course_id\"][1]\n",
    "quiz_id = subs_6585_df[\"quiz_id\"][1]\n",
    "sub_id = subs_6585_df[\"id\"][1]\n",
    "r = requests.get(f\"https://lambdaschool.instructure.com/api/v1/courses/{course_id}/quizzes/{quiz_id}/submissions/{sub_id}/events\", headers=headers) "
   ]
  },
  {
   "cell_type": "code",
   "execution_count": 110,
   "metadata": {
    "tags": []
   },
   "outputs": [
    {
     "output_type": "stream",
     "name": "stdout",
     "text": [
      "2.0\n"
     ]
    }
   ],
   "source": [
    "raw2 = r.json()\n",
    "\n",
    "for i in raw2[\"quiz_submission_events\"]:\n",
    "    if \"event_data\" in i.keys():\n",
    "        if i[\"event_type\"] == \"question_answered\":\n",
    "            for t in i[\"event_data\"]:\n",
    "                if t[\"answer\"] != None and 0 < t[\"answer\"] < 4:\n",
    "                    print(t[\"answer\"]) "
   ]
  },
  {
   "cell_type": "code",
   "execution_count": 10,
   "metadata": {
    "tags": []
   },
   "outputs": [],
   "source": [
    "import glob\n",
    "subs_df = pd.DataFrame()\n",
    "path_to_json = \"\"\n",
    "json_pattern = os.path.join(path_to_json, \"submissions_*.json\")\n",
    "files_list = glob.glob(json_pattern)\n",
    "\n",
    "for f in files_list:\n",
    "    data = pd.read_json(f)\n",
    "    subs_df = subs_df.append(data)"
   ]
  },
  {
   "cell_type": "code",
   "execution_count": 11,
   "metadata": {},
   "outputs": [
    {
     "output_type": "execute_result",
     "data": {
      "text/plain": [
       "        id  quiz_id  quiz_version  user_id  submission_id  score  kept_score  \\\n",
       "0    57233     6585           103      633         309005    1.0         1.0   \n",
       "1    57294     6585           103      544         318896    1.0         1.0   \n",
       "2    57299     6585           103      579         312007    1.0         1.0   \n",
       "3    57302     6585           103     1011         314947    1.0         1.0   \n",
       "4    57366     6585           103      631         322392    1.0         1.0   \n",
       "..     ...      ...           ...      ...            ...    ...         ...   \n",
       "9   108106     8789           225     2813         551054    1.0         1.0   \n",
       "10  108234     8789           226     2178         551046    1.0         1.0   \n",
       "11  108244     8789           226     2808         556003    1.0         1.0   \n",
       "12  109378     8789           248     1962         551043    1.0         1.0   \n",
       "13  113456     8789           321     1932         550383    1.0         1.0   \n",
       "\n",
       "                  started_at                     end_at  \\\n",
       "0  2020-10-26 22:47:46+00:00  2020-11-21 07:59:59+00:00   \n",
       "1  2020-10-26 23:08:10+00:00  2020-11-21 07:59:59+00:00   \n",
       "2  2020-10-26 23:10:50+00:00  2020-11-21 07:59:59+00:00   \n",
       "3  2020-10-26 23:11:21+00:00  2020-11-21 07:59:59+00:00   \n",
       "4  2020-10-26 23:31:11+00:00  2020-11-21 07:59:59+00:00   \n",
       "..                       ...                        ...   \n",
       "9  2020-12-10 00:07:18+00:00  2021-02-08 08:00:00+00:00   \n",
       "10 2020-12-10 00:53:17+00:00  2021-02-08 08:00:00+00:00   \n",
       "11 2020-12-10 00:55:50+00:00  2021-02-08 08:00:00+00:00   \n",
       "12 2020-12-10 22:56:33+00:00  2021-02-08 08:00:00+00:00   \n",
       "13 2020-12-14 01:47:55+00:00  2021-02-08 08:00:00+00:00   \n",
       "\n",
       "                  finished_at  attempt workflow_state  fudge_points  \\\n",
       "0   2020-10-27 22:50:48+00:00        1       complete           NaN   \n",
       "1   2020-11-06 02:01:55+00:00        1       complete           NaN   \n",
       "2   2020-11-21 07:59:59+00:00        1       complete           NaN   \n",
       "3   2020-11-19 20:40:47+00:00        1       complete           NaN   \n",
       "4   2020-10-27 22:32:06+00:00        1       complete           NaN   \n",
       "..                        ...      ...            ...           ...   \n",
       "9   2020-12-10 00:07:28+00:00        1       complete           NaN   \n",
       "10  2020-12-10 00:54:17+00:00        1       complete           NaN   \n",
       "11  2020-12-10 00:56:18+00:00        1       complete           NaN   \n",
       "12  2020-12-10 22:56:47+00:00        1       complete           NaN   \n",
       "13  2020-12-14 01:49:12+00:00        1       complete           NaN   \n",
       "\n",
       "    quiz_points_possible  extra_attempts extra_time  manually_unlocked  \\\n",
       "0                      1             NaN        NaT                NaN   \n",
       "1                      1             NaN        NaT                NaN   \n",
       "2                      1             NaN        NaT                NaN   \n",
       "3                      1             NaN        NaT                NaN   \n",
       "4                      1             NaN        NaT                NaN   \n",
       "..                   ...             ...        ...                ...   \n",
       "9                      1             NaN        NaT                NaN   \n",
       "10                     1             NaN        NaT                NaN   \n",
       "11                     1             NaN        NaT                NaN   \n",
       "12                     1             NaN        NaT                NaN   \n",
       "13                     1             NaN        NaT                NaN   \n",
       "\n",
       "                                                    validation_token  \\\n",
       "0   5e9f574072efc917ebfd543dadced88ad27cb1d1006bf73d8a1b26526534a1d3   \n",
       "1   4ea64d0996617807a3c655f8e95ae42a6319de0d8cb689915672fa930082ba58   \n",
       "2   4f3a8e2ae3ffc807258bb85db4c2118255e51015d10a16734c5a3f7783c7d94c   \n",
       "3   48a83c07c6e2eeb9cbed95f48c820a5742591a781eb90c902c43b2346ec4739b   \n",
       "4   17b98f2724d7708d8770f905b461972dd5675336ac89b578fa92240ebe22726f   \n",
       "..                                                               ...   \n",
       "9   aeda659036adfc8804b1cde647e36ec093e8af37229d677f45ee90d62794f0b4   \n",
       "10  0d6931b852c4183ba22ec836e538eafe74a9862dbf3854d6900a2fd6784e9aef   \n",
       "11  e8a641b794f585881da2c728a3b541c5f59eba7dad9ec4c8b09d0ed77e183f7f   \n",
       "12  1bd9ab31464ac5840a474b2ba6b6c8f477710b2f71dad960aca080e933e9c03c   \n",
       "13  f1d2e8dc793ded74c72ce96cb5e9dda7f8406b7f4dcc2d869d97e70880fc4144   \n",
       "\n",
       "    score_before_regrade  has_seen_results  time_spent  attempts_left  \\\n",
       "0                    NaN               0.0     86582.0              0   \n",
       "1                    NaN               0.0    874425.0              0   \n",
       "2                    NaN               NaN   2191748.0              0   \n",
       "3                    NaN               0.0   2064566.0              0   \n",
       "4                    NaN               0.0     82855.0              0   \n",
       "..                   ...               ...         ...            ...   \n",
       "9                    NaN               0.0        10.0              0   \n",
       "10                   NaN               0.0        60.0              0   \n",
       "11                   NaN               0.0        28.0              0   \n",
       "12                   NaN               0.0        13.0              0   \n",
       "13                   NaN               0.0        77.0              0   \n",
       "\n",
       "    overdue_and_needs_submission  excused?  \\\n",
       "0                            0.0     False   \n",
       "1                            0.0     False   \n",
       "2                            0.0     False   \n",
       "3                            0.0     False   \n",
       "4                            0.0     False   \n",
       "..                           ...       ...   \n",
       "9                            0.0     False   \n",
       "10                           0.0     False   \n",
       "11                           0.0     False   \n",
       "12                           0.0     False   \n",
       "13                           0.0     False   \n",
       "\n",
       "                                                                            html_url  \\\n",
       "0    https://lambdaschool.instructure.com/courses/495/quizzes/6585/submissions/57233   \n",
       "1    https://lambdaschool.instructure.com/courses/495/quizzes/6585/submissions/57294   \n",
       "2    https://lambdaschool.instructure.com/courses/495/quizzes/6585/submissions/57299   \n",
       "3    https://lambdaschool.instructure.com/courses/495/quizzes/6585/submissions/57302   \n",
       "4    https://lambdaschool.instructure.com/courses/495/quizzes/6585/submissions/57366   \n",
       "..                                                                               ...   \n",
       "9   https://lambdaschool.instructure.com/courses/644/quizzes/8789/submissions/108106   \n",
       "10  https://lambdaschool.instructure.com/courses/644/quizzes/8789/submissions/108234   \n",
       "11  https://lambdaschool.instructure.com/courses/644/quizzes/8789/submissions/108244   \n",
       "12  https://lambdaschool.instructure.com/courses/644/quizzes/8789/submissions/109378   \n",
       "13  https://lambdaschool.instructure.com/courses/644/quizzes/8789/submissions/113456   \n",
       "\n",
       "                                                                                                   result_url  \\\n",
       "0    https://lambdaschool.instructure.com/courses/495/quizzes/6585/history?quiz_submission_id=57233&version=1   \n",
       "1    https://lambdaschool.instructure.com/courses/495/quizzes/6585/history?quiz_submission_id=57294&version=1   \n",
       "2    https://lambdaschool.instructure.com/courses/495/quizzes/6585/history?quiz_submission_id=57299&version=1   \n",
       "3    https://lambdaschool.instructure.com/courses/495/quizzes/6585/history?quiz_submission_id=57302&version=1   \n",
       "4    https://lambdaschool.instructure.com/courses/495/quizzes/6585/history?quiz_submission_id=57366&version=1   \n",
       "..                                                                                                        ...   \n",
       "9   https://lambdaschool.instructure.com/courses/644/quizzes/8789/history?quiz_submission_id=108106&version=1   \n",
       "10  https://lambdaschool.instructure.com/courses/644/quizzes/8789/history?quiz_submission_id=108234&version=1   \n",
       "11  https://lambdaschool.instructure.com/courses/644/quizzes/8789/history?quiz_submission_id=108244&version=1   \n",
       "12  https://lambdaschool.instructure.com/courses/644/quizzes/8789/history?quiz_submission_id=109378&version=1   \n",
       "13  https://lambdaschool.instructure.com/courses/644/quizzes/8789/history?quiz_submission_id=113456&version=1   \n",
       "\n",
       "    course_id  \n",
       "0         495  \n",
       "1         495  \n",
       "2         495  \n",
       "3         495  \n",
       "4         495  \n",
       "..        ...  \n",
       "9         644  \n",
       "10        644  \n",
       "11        644  \n",
       "12        644  \n",
       "13        644  \n",
       "\n",
       "[5934 rows x 27 columns]"
      ],
      "text/html": "<div>\n<style scoped>\n    .dataframe tbody tr th:only-of-type {\n        vertical-align: middle;\n    }\n\n    .dataframe tbody tr th {\n        vertical-align: top;\n    }\n\n    .dataframe thead th {\n        text-align: right;\n    }\n</style>\n<table border=\"1\" class=\"dataframe\">\n  <thead>\n    <tr style=\"text-align: right;\">\n      <th></th>\n      <th>id</th>\n      <th>quiz_id</th>\n      <th>quiz_version</th>\n      <th>user_id</th>\n      <th>submission_id</th>\n      <th>score</th>\n      <th>kept_score</th>\n      <th>started_at</th>\n      <th>end_at</th>\n      <th>finished_at</th>\n      <th>attempt</th>\n      <th>workflow_state</th>\n      <th>fudge_points</th>\n      <th>quiz_points_possible</th>\n      <th>extra_attempts</th>\n      <th>extra_time</th>\n      <th>manually_unlocked</th>\n      <th>validation_token</th>\n      <th>score_before_regrade</th>\n      <th>has_seen_results</th>\n      <th>time_spent</th>\n      <th>attempts_left</th>\n      <th>overdue_and_needs_submission</th>\n      <th>excused?</th>\n      <th>html_url</th>\n      <th>result_url</th>\n      <th>course_id</th>\n    </tr>\n  </thead>\n  <tbody>\n    <tr>\n      <th>0</th>\n      <td>57233</td>\n      <td>6585</td>\n      <td>103</td>\n      <td>633</td>\n      <td>309005</td>\n      <td>1.0</td>\n      <td>1.0</td>\n      <td>2020-10-26 22:47:46+00:00</td>\n      <td>2020-11-21 07:59:59+00:00</td>\n      <td>2020-10-27 22:50:48+00:00</td>\n      <td>1</td>\n      <td>complete</td>\n      <td>NaN</td>\n      <td>1</td>\n      <td>NaN</td>\n      <td>NaT</td>\n      <td>NaN</td>\n      <td>5e9f574072efc917ebfd543dadced88ad27cb1d1006bf73d8a1b26526534a1d3</td>\n      <td>NaN</td>\n      <td>0.0</td>\n      <td>86582.0</td>\n      <td>0</td>\n      <td>0.0</td>\n      <td>False</td>\n      <td>https://lambdaschool.instructure.com/courses/495/quizzes/6585/submissions/57233</td>\n      <td>https://lambdaschool.instructure.com/courses/495/quizzes/6585/history?quiz_submission_id=57233&amp;version=1</td>\n      <td>495</td>\n    </tr>\n    <tr>\n      <th>1</th>\n      <td>57294</td>\n      <td>6585</td>\n      <td>103</td>\n      <td>544</td>\n      <td>318896</td>\n      <td>1.0</td>\n      <td>1.0</td>\n      <td>2020-10-26 23:08:10+00:00</td>\n      <td>2020-11-21 07:59:59+00:00</td>\n      <td>2020-11-06 02:01:55+00:00</td>\n      <td>1</td>\n      <td>complete</td>\n      <td>NaN</td>\n      <td>1</td>\n      <td>NaN</td>\n      <td>NaT</td>\n      <td>NaN</td>\n      <td>4ea64d0996617807a3c655f8e95ae42a6319de0d8cb689915672fa930082ba58</td>\n      <td>NaN</td>\n      <td>0.0</td>\n      <td>874425.0</td>\n      <td>0</td>\n      <td>0.0</td>\n      <td>False</td>\n      <td>https://lambdaschool.instructure.com/courses/495/quizzes/6585/submissions/57294</td>\n      <td>https://lambdaschool.instructure.com/courses/495/quizzes/6585/history?quiz_submission_id=57294&amp;version=1</td>\n      <td>495</td>\n    </tr>\n    <tr>\n      <th>2</th>\n      <td>57299</td>\n      <td>6585</td>\n      <td>103</td>\n      <td>579</td>\n      <td>312007</td>\n      <td>1.0</td>\n      <td>1.0</td>\n      <td>2020-10-26 23:10:50+00:00</td>\n      <td>2020-11-21 07:59:59+00:00</td>\n      <td>2020-11-21 07:59:59+00:00</td>\n      <td>1</td>\n      <td>complete</td>\n      <td>NaN</td>\n      <td>1</td>\n      <td>NaN</td>\n      <td>NaT</td>\n      <td>NaN</td>\n      <td>4f3a8e2ae3ffc807258bb85db4c2118255e51015d10a16734c5a3f7783c7d94c</td>\n      <td>NaN</td>\n      <td>NaN</td>\n      <td>2191748.0</td>\n      <td>0</td>\n      <td>0.0</td>\n      <td>False</td>\n      <td>https://lambdaschool.instructure.com/courses/495/quizzes/6585/submissions/57299</td>\n      <td>https://lambdaschool.instructure.com/courses/495/quizzes/6585/history?quiz_submission_id=57299&amp;version=1</td>\n      <td>495</td>\n    </tr>\n    <tr>\n      <th>3</th>\n      <td>57302</td>\n      <td>6585</td>\n      <td>103</td>\n      <td>1011</td>\n      <td>314947</td>\n      <td>1.0</td>\n      <td>1.0</td>\n      <td>2020-10-26 23:11:21+00:00</td>\n      <td>2020-11-21 07:59:59+00:00</td>\n      <td>2020-11-19 20:40:47+00:00</td>\n      <td>1</td>\n      <td>complete</td>\n      <td>NaN</td>\n      <td>1</td>\n      <td>NaN</td>\n      <td>NaT</td>\n      <td>NaN</td>\n      <td>48a83c07c6e2eeb9cbed95f48c820a5742591a781eb90c902c43b2346ec4739b</td>\n      <td>NaN</td>\n      <td>0.0</td>\n      <td>2064566.0</td>\n      <td>0</td>\n      <td>0.0</td>\n      <td>False</td>\n      <td>https://lambdaschool.instructure.com/courses/495/quizzes/6585/submissions/57302</td>\n      <td>https://lambdaschool.instructure.com/courses/495/quizzes/6585/history?quiz_submission_id=57302&amp;version=1</td>\n      <td>495</td>\n    </tr>\n    <tr>\n      <th>4</th>\n      <td>57366</td>\n      <td>6585</td>\n      <td>103</td>\n      <td>631</td>\n      <td>322392</td>\n      <td>1.0</td>\n      <td>1.0</td>\n      <td>2020-10-26 23:31:11+00:00</td>\n      <td>2020-11-21 07:59:59+00:00</td>\n      <td>2020-10-27 22:32:06+00:00</td>\n      <td>1</td>\n      <td>complete</td>\n      <td>NaN</td>\n      <td>1</td>\n      <td>NaN</td>\n      <td>NaT</td>\n      <td>NaN</td>\n      <td>17b98f2724d7708d8770f905b461972dd5675336ac89b578fa92240ebe22726f</td>\n      <td>NaN</td>\n      <td>0.0</td>\n      <td>82855.0</td>\n      <td>0</td>\n      <td>0.0</td>\n      <td>False</td>\n      <td>https://lambdaschool.instructure.com/courses/495/quizzes/6585/submissions/57366</td>\n      <td>https://lambdaschool.instructure.com/courses/495/quizzes/6585/history?quiz_submission_id=57366&amp;version=1</td>\n      <td>495</td>\n    </tr>\n    <tr>\n      <th>...</th>\n      <td>...</td>\n      <td>...</td>\n      <td>...</td>\n      <td>...</td>\n      <td>...</td>\n      <td>...</td>\n      <td>...</td>\n      <td>...</td>\n      <td>...</td>\n      <td>...</td>\n      <td>...</td>\n      <td>...</td>\n      <td>...</td>\n      <td>...</td>\n      <td>...</td>\n      <td>...</td>\n      <td>...</td>\n      <td>...</td>\n      <td>...</td>\n      <td>...</td>\n      <td>...</td>\n      <td>...</td>\n      <td>...</td>\n      <td>...</td>\n      <td>...</td>\n      <td>...</td>\n      <td>...</td>\n    </tr>\n    <tr>\n      <th>9</th>\n      <td>108106</td>\n      <td>8789</td>\n      <td>225</td>\n      <td>2813</td>\n      <td>551054</td>\n      <td>1.0</td>\n      <td>1.0</td>\n      <td>2020-12-10 00:07:18+00:00</td>\n      <td>2021-02-08 08:00:00+00:00</td>\n      <td>2020-12-10 00:07:28+00:00</td>\n      <td>1</td>\n      <td>complete</td>\n      <td>NaN</td>\n      <td>1</td>\n      <td>NaN</td>\n      <td>NaT</td>\n      <td>NaN</td>\n      <td>aeda659036adfc8804b1cde647e36ec093e8af37229d677f45ee90d62794f0b4</td>\n      <td>NaN</td>\n      <td>0.0</td>\n      <td>10.0</td>\n      <td>0</td>\n      <td>0.0</td>\n      <td>False</td>\n      <td>https://lambdaschool.instructure.com/courses/644/quizzes/8789/submissions/108106</td>\n      <td>https://lambdaschool.instructure.com/courses/644/quizzes/8789/history?quiz_submission_id=108106&amp;version=1</td>\n      <td>644</td>\n    </tr>\n    <tr>\n      <th>10</th>\n      <td>108234</td>\n      <td>8789</td>\n      <td>226</td>\n      <td>2178</td>\n      <td>551046</td>\n      <td>1.0</td>\n      <td>1.0</td>\n      <td>2020-12-10 00:53:17+00:00</td>\n      <td>2021-02-08 08:00:00+00:00</td>\n      <td>2020-12-10 00:54:17+00:00</td>\n      <td>1</td>\n      <td>complete</td>\n      <td>NaN</td>\n      <td>1</td>\n      <td>NaN</td>\n      <td>NaT</td>\n      <td>NaN</td>\n      <td>0d6931b852c4183ba22ec836e538eafe74a9862dbf3854d6900a2fd6784e9aef</td>\n      <td>NaN</td>\n      <td>0.0</td>\n      <td>60.0</td>\n      <td>0</td>\n      <td>0.0</td>\n      <td>False</td>\n      <td>https://lambdaschool.instructure.com/courses/644/quizzes/8789/submissions/108234</td>\n      <td>https://lambdaschool.instructure.com/courses/644/quizzes/8789/history?quiz_submission_id=108234&amp;version=1</td>\n      <td>644</td>\n    </tr>\n    <tr>\n      <th>11</th>\n      <td>108244</td>\n      <td>8789</td>\n      <td>226</td>\n      <td>2808</td>\n      <td>556003</td>\n      <td>1.0</td>\n      <td>1.0</td>\n      <td>2020-12-10 00:55:50+00:00</td>\n      <td>2021-02-08 08:00:00+00:00</td>\n      <td>2020-12-10 00:56:18+00:00</td>\n      <td>1</td>\n      <td>complete</td>\n      <td>NaN</td>\n      <td>1</td>\n      <td>NaN</td>\n      <td>NaT</td>\n      <td>NaN</td>\n      <td>e8a641b794f585881da2c728a3b541c5f59eba7dad9ec4c8b09d0ed77e183f7f</td>\n      <td>NaN</td>\n      <td>0.0</td>\n      <td>28.0</td>\n      <td>0</td>\n      <td>0.0</td>\n      <td>False</td>\n      <td>https://lambdaschool.instructure.com/courses/644/quizzes/8789/submissions/108244</td>\n      <td>https://lambdaschool.instructure.com/courses/644/quizzes/8789/history?quiz_submission_id=108244&amp;version=1</td>\n      <td>644</td>\n    </tr>\n    <tr>\n      <th>12</th>\n      <td>109378</td>\n      <td>8789</td>\n      <td>248</td>\n      <td>1962</td>\n      <td>551043</td>\n      <td>1.0</td>\n      <td>1.0</td>\n      <td>2020-12-10 22:56:33+00:00</td>\n      <td>2021-02-08 08:00:00+00:00</td>\n      <td>2020-12-10 22:56:47+00:00</td>\n      <td>1</td>\n      <td>complete</td>\n      <td>NaN</td>\n      <td>1</td>\n      <td>NaN</td>\n      <td>NaT</td>\n      <td>NaN</td>\n      <td>1bd9ab31464ac5840a474b2ba6b6c8f477710b2f71dad960aca080e933e9c03c</td>\n      <td>NaN</td>\n      <td>0.0</td>\n      <td>13.0</td>\n      <td>0</td>\n      <td>0.0</td>\n      <td>False</td>\n      <td>https://lambdaschool.instructure.com/courses/644/quizzes/8789/submissions/109378</td>\n      <td>https://lambdaschool.instructure.com/courses/644/quizzes/8789/history?quiz_submission_id=109378&amp;version=1</td>\n      <td>644</td>\n    </tr>\n    <tr>\n      <th>13</th>\n      <td>113456</td>\n      <td>8789</td>\n      <td>321</td>\n      <td>1932</td>\n      <td>550383</td>\n      <td>1.0</td>\n      <td>1.0</td>\n      <td>2020-12-14 01:47:55+00:00</td>\n      <td>2021-02-08 08:00:00+00:00</td>\n      <td>2020-12-14 01:49:12+00:00</td>\n      <td>1</td>\n      <td>complete</td>\n      <td>NaN</td>\n      <td>1</td>\n      <td>NaN</td>\n      <td>NaT</td>\n      <td>NaN</td>\n      <td>f1d2e8dc793ded74c72ce96cb5e9dda7f8406b7f4dcc2d869d97e70880fc4144</td>\n      <td>NaN</td>\n      <td>0.0</td>\n      <td>77.0</td>\n      <td>0</td>\n      <td>0.0</td>\n      <td>False</td>\n      <td>https://lambdaschool.instructure.com/courses/644/quizzes/8789/submissions/113456</td>\n      <td>https://lambdaschool.instructure.com/courses/644/quizzes/8789/history?quiz_submission_id=113456&amp;version=1</td>\n      <td>644</td>\n    </tr>\n  </tbody>\n</table>\n<p>5934 rows × 27 columns</p>\n</div>"
     },
     "metadata": {},
     "execution_count": 11
    }
   ],
   "source": [
    "subs_df"
   ]
  },
  {
   "cell_type": "code",
   "execution_count": 13,
   "metadata": {},
   "outputs": [
    {
     "output_type": "execute_result",
     "data": {
      "text/plain": [
       "        id  quiz_id  quiz_version  user_id  submission_id  score  kept_score  \\\n",
       "0    57233     6585           103      633         309005    1.0         1.0   \n",
       "1    57294     6585           103      544         318896    1.0         1.0   \n",
       "2    57299     6585           103      579         312007    1.0         1.0   \n",
       "3    57302     6585           103     1011         314947    1.0         1.0   \n",
       "4    57366     6585           103      631         322392    1.0         1.0   \n",
       "..     ...      ...           ...      ...            ...    ...         ...   \n",
       "174  87979     6876           627      251         314716    1.0         1.0   \n",
       "175  90406     6876           671      577         323656    1.0         1.0   \n",
       "176  90487     6876           672     2468         307302    1.0         1.0   \n",
       "177  90884     6876           675     1011         316164    1.0         1.0   \n",
       "178  92125     6876           695     2452         322174    1.0         1.0   \n",
       "\n",
       "                   started_at                     end_at  \\\n",
       "0   2020-10-26 22:47:46+00:00  2020-11-21 07:59:59+00:00   \n",
       "1   2020-10-26 23:08:10+00:00  2020-11-21 07:59:59+00:00   \n",
       "2   2020-10-26 23:10:50+00:00  2020-11-21 07:59:59+00:00   \n",
       "3   2020-10-26 23:11:21+00:00  2020-11-21 07:59:59+00:00   \n",
       "4   2020-10-26 23:31:11+00:00  2020-11-21 07:59:59+00:00   \n",
       "..                        ...                        ...   \n",
       "174 2020-11-17 19:47:02+00:00  2020-11-21 07:59:59+00:00   \n",
       "175 2020-11-19 16:25:54+00:00  2020-11-21 07:59:59+00:00   \n",
       "176 2020-11-19 16:51:53+00:00  2020-11-21 07:59:59+00:00   \n",
       "177 2020-11-19 20:42:35+00:00  2020-11-21 07:59:59+00:00   \n",
       "178 2020-11-20 15:51:43+00:00  2020-11-21 07:59:59+00:00   \n",
       "\n",
       "                   finished_at  attempt workflow_state  fudge_points  \\\n",
       "0    2020-10-27 22:50:48+00:00        1       complete           NaN   \n",
       "1    2020-11-06 02:01:55+00:00        1       complete           NaN   \n",
       "2    2020-11-21 07:59:59+00:00        1       complete           NaN   \n",
       "3    2020-11-19 20:40:47+00:00        1       complete           NaN   \n",
       "4    2020-10-27 22:32:06+00:00        1       complete           NaN   \n",
       "..                         ...      ...            ...           ...   \n",
       "174  2020-11-21 07:59:59+00:00        1       complete           NaN   \n",
       "175  2020-11-19 16:27:49+00:00        1       complete           NaN   \n",
       "176  2020-11-19 16:52:20+00:00        1       complete           NaN   \n",
       "177  2020-11-19 20:43:50+00:00        1       complete           NaN   \n",
       "178  2020-11-20 15:52:48+00:00        1       complete           NaN   \n",
       "\n",
       "     quiz_points_possible  extra_attempts extra_time  manually_unlocked  \\\n",
       "0                       1             NaN        NaT                NaN   \n",
       "1                       1             NaN        NaT                NaN   \n",
       "2                       1             NaN        NaT                NaN   \n",
       "3                       1             NaN        NaT                NaN   \n",
       "4                       1             NaN        NaT                NaN   \n",
       "..                    ...             ...        ...                ...   \n",
       "174                     1             NaN        NaT                NaN   \n",
       "175                     1             NaN        NaT                NaN   \n",
       "176                     1             NaN        NaT                NaN   \n",
       "177                     1             NaN        NaT                NaN   \n",
       "178                     1             NaN        NaT                NaN   \n",
       "\n",
       "                                                     validation_token  \\\n",
       "0    5e9f574072efc917ebfd543dadced88ad27cb1d1006bf73d8a1b26526534a1d3   \n",
       "1    4ea64d0996617807a3c655f8e95ae42a6319de0d8cb689915672fa930082ba58   \n",
       "2    4f3a8e2ae3ffc807258bb85db4c2118255e51015d10a16734c5a3f7783c7d94c   \n",
       "3    48a83c07c6e2eeb9cbed95f48c820a5742591a781eb90c902c43b2346ec4739b   \n",
       "4    17b98f2724d7708d8770f905b461972dd5675336ac89b578fa92240ebe22726f   \n",
       "..                                                                ...   \n",
       "174  5a9f2364c356a540a9875f4df7f6025de4d56369d4676317296c460dbc52693b   \n",
       "175  f8a8962046a56e269bf9dada9d02028ef0d4dc5224a9fc15c38ab8075a17beb0   \n",
       "176  f34e930487b5c4636a6675fc1b1bf125da1bf6569dc265cc380b69823455898d   \n",
       "177  589554b9f6e34971a89f50e7d997567597fe53e76fd24486cdf5eb70f5a9e1e8   \n",
       "178  92fe70472708c24438658caa8f4c695b333f0f98a00b9b5c2d0006692109d047   \n",
       "\n",
       "     score_before_regrade  has_seen_results  time_spent  attempts_left  \\\n",
       "0                     NaN               0.0     86582.0              0   \n",
       "1                     NaN               0.0    874425.0              0   \n",
       "2                     NaN               NaN   2191748.0              0   \n",
       "3                     NaN               0.0   2064566.0              0   \n",
       "4                     NaN               0.0     82855.0              0   \n",
       "..                    ...               ...         ...            ...   \n",
       "174                   NaN               NaN    303176.0              0   \n",
       "175                   NaN               0.0       116.0              0   \n",
       "176                   NaN               0.0        26.0              0   \n",
       "177                   NaN               0.0        75.0              0   \n",
       "178                   NaN               0.0        65.0              0   \n",
       "\n",
       "     overdue_and_needs_submission  excused?  \\\n",
       "0                             0.0     False   \n",
       "1                             0.0     False   \n",
       "2                             0.0     False   \n",
       "3                             0.0     False   \n",
       "4                             0.0     False   \n",
       "..                            ...       ...   \n",
       "174                           0.0     False   \n",
       "175                           0.0     False   \n",
       "176                           0.0     False   \n",
       "177                           0.0     False   \n",
       "178                           0.0     False   \n",
       "\n",
       "                                                                            html_url  \\\n",
       "0    https://lambdaschool.instructure.com/courses/495/quizzes/6585/submissions/57233   \n",
       "1    https://lambdaschool.instructure.com/courses/495/quizzes/6585/submissions/57294   \n",
       "2    https://lambdaschool.instructure.com/courses/495/quizzes/6585/submissions/57299   \n",
       "3    https://lambdaschool.instructure.com/courses/495/quizzes/6585/submissions/57302   \n",
       "4    https://lambdaschool.instructure.com/courses/495/quizzes/6585/submissions/57366   \n",
       "..                                                                               ...   \n",
       "174  https://lambdaschool.instructure.com/courses/495/quizzes/6876/submissions/87979   \n",
       "175  https://lambdaschool.instructure.com/courses/495/quizzes/6876/submissions/90406   \n",
       "176  https://lambdaschool.instructure.com/courses/495/quizzes/6876/submissions/90487   \n",
       "177  https://lambdaschool.instructure.com/courses/495/quizzes/6876/submissions/90884   \n",
       "178  https://lambdaschool.instructure.com/courses/495/quizzes/6876/submissions/92125   \n",
       "\n",
       "                                                                                                   result_url  \\\n",
       "0    https://lambdaschool.instructure.com/courses/495/quizzes/6585/history?quiz_submission_id=57233&version=1   \n",
       "1    https://lambdaschool.instructure.com/courses/495/quizzes/6585/history?quiz_submission_id=57294&version=1   \n",
       "2    https://lambdaschool.instructure.com/courses/495/quizzes/6585/history?quiz_submission_id=57299&version=1   \n",
       "3    https://lambdaschool.instructure.com/courses/495/quizzes/6585/history?quiz_submission_id=57302&version=1   \n",
       "4    https://lambdaschool.instructure.com/courses/495/quizzes/6585/history?quiz_submission_id=57366&version=1   \n",
       "..                                                                                                        ...   \n",
       "174  https://lambdaschool.instructure.com/courses/495/quizzes/6876/history?quiz_submission_id=87979&version=1   \n",
       "175  https://lambdaschool.instructure.com/courses/495/quizzes/6876/history?quiz_submission_id=90406&version=1   \n",
       "176  https://lambdaschool.instructure.com/courses/495/quizzes/6876/history?quiz_submission_id=90487&version=1   \n",
       "177  https://lambdaschool.instructure.com/courses/495/quizzes/6876/history?quiz_submission_id=90884&version=1   \n",
       "178  https://lambdaschool.instructure.com/courses/495/quizzes/6876/history?quiz_submission_id=92125&version=1   \n",
       "\n",
       "     course_id  \n",
       "0          495  \n",
       "1          495  \n",
       "2          495  \n",
       "3          495  \n",
       "4          495  \n",
       "..         ...  \n",
       "174        495  \n",
       "175        495  \n",
       "176        495  \n",
       "177        495  \n",
       "178        495  \n",
       "\n",
       "[1644 rows x 27 columns]"
      ],
      "text/html": "<div>\n<style scoped>\n    .dataframe tbody tr th:only-of-type {\n        vertical-align: middle;\n    }\n\n    .dataframe tbody tr th {\n        vertical-align: top;\n    }\n\n    .dataframe thead th {\n        text-align: right;\n    }\n</style>\n<table border=\"1\" class=\"dataframe\">\n  <thead>\n    <tr style=\"text-align: right;\">\n      <th></th>\n      <th>id</th>\n      <th>quiz_id</th>\n      <th>quiz_version</th>\n      <th>user_id</th>\n      <th>submission_id</th>\n      <th>score</th>\n      <th>kept_score</th>\n      <th>started_at</th>\n      <th>end_at</th>\n      <th>finished_at</th>\n      <th>attempt</th>\n      <th>workflow_state</th>\n      <th>fudge_points</th>\n      <th>quiz_points_possible</th>\n      <th>extra_attempts</th>\n      <th>extra_time</th>\n      <th>manually_unlocked</th>\n      <th>validation_token</th>\n      <th>score_before_regrade</th>\n      <th>has_seen_results</th>\n      <th>time_spent</th>\n      <th>attempts_left</th>\n      <th>overdue_and_needs_submission</th>\n      <th>excused?</th>\n      <th>html_url</th>\n      <th>result_url</th>\n      <th>course_id</th>\n    </tr>\n  </thead>\n  <tbody>\n    <tr>\n      <th>0</th>\n      <td>57233</td>\n      <td>6585</td>\n      <td>103</td>\n      <td>633</td>\n      <td>309005</td>\n      <td>1.0</td>\n      <td>1.0</td>\n      <td>2020-10-26 22:47:46+00:00</td>\n      <td>2020-11-21 07:59:59+00:00</td>\n      <td>2020-10-27 22:50:48+00:00</td>\n      <td>1</td>\n      <td>complete</td>\n      <td>NaN</td>\n      <td>1</td>\n      <td>NaN</td>\n      <td>NaT</td>\n      <td>NaN</td>\n      <td>5e9f574072efc917ebfd543dadced88ad27cb1d1006bf73d8a1b26526534a1d3</td>\n      <td>NaN</td>\n      <td>0.0</td>\n      <td>86582.0</td>\n      <td>0</td>\n      <td>0.0</td>\n      <td>False</td>\n      <td>https://lambdaschool.instructure.com/courses/495/quizzes/6585/submissions/57233</td>\n      <td>https://lambdaschool.instructure.com/courses/495/quizzes/6585/history?quiz_submission_id=57233&amp;version=1</td>\n      <td>495</td>\n    </tr>\n    <tr>\n      <th>1</th>\n      <td>57294</td>\n      <td>6585</td>\n      <td>103</td>\n      <td>544</td>\n      <td>318896</td>\n      <td>1.0</td>\n      <td>1.0</td>\n      <td>2020-10-26 23:08:10+00:00</td>\n      <td>2020-11-21 07:59:59+00:00</td>\n      <td>2020-11-06 02:01:55+00:00</td>\n      <td>1</td>\n      <td>complete</td>\n      <td>NaN</td>\n      <td>1</td>\n      <td>NaN</td>\n      <td>NaT</td>\n      <td>NaN</td>\n      <td>4ea64d0996617807a3c655f8e95ae42a6319de0d8cb689915672fa930082ba58</td>\n      <td>NaN</td>\n      <td>0.0</td>\n      <td>874425.0</td>\n      <td>0</td>\n      <td>0.0</td>\n      <td>False</td>\n      <td>https://lambdaschool.instructure.com/courses/495/quizzes/6585/submissions/57294</td>\n      <td>https://lambdaschool.instructure.com/courses/495/quizzes/6585/history?quiz_submission_id=57294&amp;version=1</td>\n      <td>495</td>\n    </tr>\n    <tr>\n      <th>2</th>\n      <td>57299</td>\n      <td>6585</td>\n      <td>103</td>\n      <td>579</td>\n      <td>312007</td>\n      <td>1.0</td>\n      <td>1.0</td>\n      <td>2020-10-26 23:10:50+00:00</td>\n      <td>2020-11-21 07:59:59+00:00</td>\n      <td>2020-11-21 07:59:59+00:00</td>\n      <td>1</td>\n      <td>complete</td>\n      <td>NaN</td>\n      <td>1</td>\n      <td>NaN</td>\n      <td>NaT</td>\n      <td>NaN</td>\n      <td>4f3a8e2ae3ffc807258bb85db4c2118255e51015d10a16734c5a3f7783c7d94c</td>\n      <td>NaN</td>\n      <td>NaN</td>\n      <td>2191748.0</td>\n      <td>0</td>\n      <td>0.0</td>\n      <td>False</td>\n      <td>https://lambdaschool.instructure.com/courses/495/quizzes/6585/submissions/57299</td>\n      <td>https://lambdaschool.instructure.com/courses/495/quizzes/6585/history?quiz_submission_id=57299&amp;version=1</td>\n      <td>495</td>\n    </tr>\n    <tr>\n      <th>3</th>\n      <td>57302</td>\n      <td>6585</td>\n      <td>103</td>\n      <td>1011</td>\n      <td>314947</td>\n      <td>1.0</td>\n      <td>1.0</td>\n      <td>2020-10-26 23:11:21+00:00</td>\n      <td>2020-11-21 07:59:59+00:00</td>\n      <td>2020-11-19 20:40:47+00:00</td>\n      <td>1</td>\n      <td>complete</td>\n      <td>NaN</td>\n      <td>1</td>\n      <td>NaN</td>\n      <td>NaT</td>\n      <td>NaN</td>\n      <td>48a83c07c6e2eeb9cbed95f48c820a5742591a781eb90c902c43b2346ec4739b</td>\n      <td>NaN</td>\n      <td>0.0</td>\n      <td>2064566.0</td>\n      <td>0</td>\n      <td>0.0</td>\n      <td>False</td>\n      <td>https://lambdaschool.instructure.com/courses/495/quizzes/6585/submissions/57302</td>\n      <td>https://lambdaschool.instructure.com/courses/495/quizzes/6585/history?quiz_submission_id=57302&amp;version=1</td>\n      <td>495</td>\n    </tr>\n    <tr>\n      <th>4</th>\n      <td>57366</td>\n      <td>6585</td>\n      <td>103</td>\n      <td>631</td>\n      <td>322392</td>\n      <td>1.0</td>\n      <td>1.0</td>\n      <td>2020-10-26 23:31:11+00:00</td>\n      <td>2020-11-21 07:59:59+00:00</td>\n      <td>2020-10-27 22:32:06+00:00</td>\n      <td>1</td>\n      <td>complete</td>\n      <td>NaN</td>\n      <td>1</td>\n      <td>NaN</td>\n      <td>NaT</td>\n      <td>NaN</td>\n      <td>17b98f2724d7708d8770f905b461972dd5675336ac89b578fa92240ebe22726f</td>\n      <td>NaN</td>\n      <td>0.0</td>\n      <td>82855.0</td>\n      <td>0</td>\n      <td>0.0</td>\n      <td>False</td>\n      <td>https://lambdaschool.instructure.com/courses/495/quizzes/6585/submissions/57366</td>\n      <td>https://lambdaschool.instructure.com/courses/495/quizzes/6585/history?quiz_submission_id=57366&amp;version=1</td>\n      <td>495</td>\n    </tr>\n    <tr>\n      <th>...</th>\n      <td>...</td>\n      <td>...</td>\n      <td>...</td>\n      <td>...</td>\n      <td>...</td>\n      <td>...</td>\n      <td>...</td>\n      <td>...</td>\n      <td>...</td>\n      <td>...</td>\n      <td>...</td>\n      <td>...</td>\n      <td>...</td>\n      <td>...</td>\n      <td>...</td>\n      <td>...</td>\n      <td>...</td>\n      <td>...</td>\n      <td>...</td>\n      <td>...</td>\n      <td>...</td>\n      <td>...</td>\n      <td>...</td>\n      <td>...</td>\n      <td>...</td>\n      <td>...</td>\n      <td>...</td>\n    </tr>\n    <tr>\n      <th>174</th>\n      <td>87979</td>\n      <td>6876</td>\n      <td>627</td>\n      <td>251</td>\n      <td>314716</td>\n      <td>1.0</td>\n      <td>1.0</td>\n      <td>2020-11-17 19:47:02+00:00</td>\n      <td>2020-11-21 07:59:59+00:00</td>\n      <td>2020-11-21 07:59:59+00:00</td>\n      <td>1</td>\n      <td>complete</td>\n      <td>NaN</td>\n      <td>1</td>\n      <td>NaN</td>\n      <td>NaT</td>\n      <td>NaN</td>\n      <td>5a9f2364c356a540a9875f4df7f6025de4d56369d4676317296c460dbc52693b</td>\n      <td>NaN</td>\n      <td>NaN</td>\n      <td>303176.0</td>\n      <td>0</td>\n      <td>0.0</td>\n      <td>False</td>\n      <td>https://lambdaschool.instructure.com/courses/495/quizzes/6876/submissions/87979</td>\n      <td>https://lambdaschool.instructure.com/courses/495/quizzes/6876/history?quiz_submission_id=87979&amp;version=1</td>\n      <td>495</td>\n    </tr>\n    <tr>\n      <th>175</th>\n      <td>90406</td>\n      <td>6876</td>\n      <td>671</td>\n      <td>577</td>\n      <td>323656</td>\n      <td>1.0</td>\n      <td>1.0</td>\n      <td>2020-11-19 16:25:54+00:00</td>\n      <td>2020-11-21 07:59:59+00:00</td>\n      <td>2020-11-19 16:27:49+00:00</td>\n      <td>1</td>\n      <td>complete</td>\n      <td>NaN</td>\n      <td>1</td>\n      <td>NaN</td>\n      <td>NaT</td>\n      <td>NaN</td>\n      <td>f8a8962046a56e269bf9dada9d02028ef0d4dc5224a9fc15c38ab8075a17beb0</td>\n      <td>NaN</td>\n      <td>0.0</td>\n      <td>116.0</td>\n      <td>0</td>\n      <td>0.0</td>\n      <td>False</td>\n      <td>https://lambdaschool.instructure.com/courses/495/quizzes/6876/submissions/90406</td>\n      <td>https://lambdaschool.instructure.com/courses/495/quizzes/6876/history?quiz_submission_id=90406&amp;version=1</td>\n      <td>495</td>\n    </tr>\n    <tr>\n      <th>176</th>\n      <td>90487</td>\n      <td>6876</td>\n      <td>672</td>\n      <td>2468</td>\n      <td>307302</td>\n      <td>1.0</td>\n      <td>1.0</td>\n      <td>2020-11-19 16:51:53+00:00</td>\n      <td>2020-11-21 07:59:59+00:00</td>\n      <td>2020-11-19 16:52:20+00:00</td>\n      <td>1</td>\n      <td>complete</td>\n      <td>NaN</td>\n      <td>1</td>\n      <td>NaN</td>\n      <td>NaT</td>\n      <td>NaN</td>\n      <td>f34e930487b5c4636a6675fc1b1bf125da1bf6569dc265cc380b69823455898d</td>\n      <td>NaN</td>\n      <td>0.0</td>\n      <td>26.0</td>\n      <td>0</td>\n      <td>0.0</td>\n      <td>False</td>\n      <td>https://lambdaschool.instructure.com/courses/495/quizzes/6876/submissions/90487</td>\n      <td>https://lambdaschool.instructure.com/courses/495/quizzes/6876/history?quiz_submission_id=90487&amp;version=1</td>\n      <td>495</td>\n    </tr>\n    <tr>\n      <th>177</th>\n      <td>90884</td>\n      <td>6876</td>\n      <td>675</td>\n      <td>1011</td>\n      <td>316164</td>\n      <td>1.0</td>\n      <td>1.0</td>\n      <td>2020-11-19 20:42:35+00:00</td>\n      <td>2020-11-21 07:59:59+00:00</td>\n      <td>2020-11-19 20:43:50+00:00</td>\n      <td>1</td>\n      <td>complete</td>\n      <td>NaN</td>\n      <td>1</td>\n      <td>NaN</td>\n      <td>NaT</td>\n      <td>NaN</td>\n      <td>589554b9f6e34971a89f50e7d997567597fe53e76fd24486cdf5eb70f5a9e1e8</td>\n      <td>NaN</td>\n      <td>0.0</td>\n      <td>75.0</td>\n      <td>0</td>\n      <td>0.0</td>\n      <td>False</td>\n      <td>https://lambdaschool.instructure.com/courses/495/quizzes/6876/submissions/90884</td>\n      <td>https://lambdaschool.instructure.com/courses/495/quizzes/6876/history?quiz_submission_id=90884&amp;version=1</td>\n      <td>495</td>\n    </tr>\n    <tr>\n      <th>178</th>\n      <td>92125</td>\n      <td>6876</td>\n      <td>695</td>\n      <td>2452</td>\n      <td>322174</td>\n      <td>1.0</td>\n      <td>1.0</td>\n      <td>2020-11-20 15:51:43+00:00</td>\n      <td>2020-11-21 07:59:59+00:00</td>\n      <td>2020-11-20 15:52:48+00:00</td>\n      <td>1</td>\n      <td>complete</td>\n      <td>NaN</td>\n      <td>1</td>\n      <td>NaN</td>\n      <td>NaT</td>\n      <td>NaN</td>\n      <td>92fe70472708c24438658caa8f4c695b333f0f98a00b9b5c2d0006692109d047</td>\n      <td>NaN</td>\n      <td>0.0</td>\n      <td>65.0</td>\n      <td>0</td>\n      <td>0.0</td>\n      <td>False</td>\n      <td>https://lambdaschool.instructure.com/courses/495/quizzes/6876/submissions/92125</td>\n      <td>https://lambdaschool.instructure.com/courses/495/quizzes/6876/history?quiz_submission_id=92125&amp;version=1</td>\n      <td>495</td>\n    </tr>\n  </tbody>\n</table>\n<p>1644 rows × 27 columns</p>\n</div>"
     },
     "metadata": {},
     "execution_count": 13
    }
   ],
   "source": [
    "course_495 = subs_df[subs_df[\"course_id\"]==495]\n",
    "course_495"
   ]
  },
  {
   "cell_type": "code",
   "execution_count": 17,
   "metadata": {
    "tags": []
   },
   "outputs": [],
   "source": [
    "result_data = []\n",
    "for row in course_495[[\"id\",\"user_id\",\"quiz_id\",\"course_id\"]].iterrows():\n",
    "    sub_id = row[1][0]\n",
    "    user_id = row[1][1]\n",
    "    quiz_id = row[1][2]\n",
    "    course_id = row[1][3]\n",
    "    r = requests.get(f\"https://lambdaschool.instructure.com/api/v1/courses/{course_id}/quizzes/{quiz_id}/submissions/{sub_id}/events\", headers=headers)\n",
    "    raw = r.json()\n",
    "    for i in raw[\"quiz_submission_events\"]:\n",
    "        if \"event_data\" in i.keys():\n",
    "            if i[\"event_type\"] == \"question_answered\":\n",
    "                for t in i[\"event_data\"]:\n",
    "                    if t[\"answer\"] != None and isinstance(t[\"answer\"], float):\n",
    "                        if t[\"answer\"] != None and 0 < t[\"answer\"] < 4:\n",
    "                            result_data.append([user_id, t[\"answer\"]]) "
   ]
  },
  {
   "cell_type": "code",
   "execution_count": 18,
   "metadata": {},
   "outputs": [
    {
     "output_type": "execute_result",
     "data": {
      "text/plain": [
       "705"
      ]
     },
     "metadata": {},
     "execution_count": 18
    }
   ],
   "source": [
    "len(result_data)"
   ]
  },
  {
   "cell_type": "code",
   "execution_count": 19,
   "metadata": {},
   "outputs": [
    {
     "output_type": "execute_result",
     "data": {
      "text/plain": [
       "{3: 280, 2: 384, 1: 41}"
      ]
     },
     "metadata": {},
     "execution_count": 19
    }
   ],
   "source": [
    "counts = {3:0,2:0,1:0}\n",
    "for i in result_data:\n",
    "    if i[1] == 1:\n",
    "        counts[1]+=1\n",
    "    if i[1] == 2:\n",
    "        counts[2]+=1\n",
    "    if i[1] == 3:\n",
    "        counts[3]+=1\n",
    "counts"
   ]
  },
  {
   "cell_type": "code",
   "execution_count": 25,
   "metadata": {},
   "outputs": [
    {
     "output_type": "execute_result",
     "data": {
      "text/plain": [
       "<BarContainer object of 3 artists>"
      ]
     },
     "metadata": {},
     "execution_count": 25
    },
    {
     "output_type": "display_data",
     "data": {
      "text/plain": "<Figure size 432x288 with 1 Axes>",
      "image/svg+xml": "<?xml version=\"1.0\" encoding=\"utf-8\" standalone=\"no\"?>\r\n<!DOCTYPE svg PUBLIC \"-//W3C//DTD SVG 1.1//EN\"\r\n  \"http://www.w3.org/Graphics/SVG/1.1/DTD/svg11.dtd\">\r\n<!-- Created with matplotlib (https://matplotlib.org/) -->\r\n<svg height=\"250.591629pt\" version=\"1.1\" viewBox=\"0 0 378.891011 250.591629\" width=\"378.891011pt\" xmlns=\"http://www.w3.org/2000/svg\" xmlns:xlink=\"http://www.w3.org/1999/xlink\">\r\n <metadata>\r\n  <rdf:RDF xmlns:cc=\"http://creativecommons.org/ns#\" xmlns:dc=\"http://purl.org/dc/elements/1.1/\" xmlns:rdf=\"http://www.w3.org/1999/02/22-rdf-syntax-ns#\">\r\n   <cc:Work>\r\n    <dc:type rdf:resource=\"http://purl.org/dc/dcmitype/StillImage\"/>\r\n    <dc:date>2020-12-23T15:44:23.612285</dc:date>\r\n    <dc:format>image/svg+xml</dc:format>\r\n    <dc:creator>\r\n     <cc:Agent>\r\n      <dc:title>Matplotlib v3.3.3, https://matplotlib.org/</dc:title>\r\n     </cc:Agent>\r\n    </dc:creator>\r\n   </cc:Work>\r\n  </rdf:RDF>\r\n </metadata>\r\n <defs>\r\n  <style type=\"text/css\">*{stroke-linecap:butt;stroke-linejoin:round;}</style>\r\n </defs>\r\n <g id=\"figure_1\">\r\n  <g id=\"patch_1\">\r\n   <path d=\"M 0 250.591629 \r\nL 378.891011 250.591629 \r\nL 378.891011 0 \r\nL 0 0 \r\nz\r\n\" style=\"fill:none;\"/>\r\n  </g>\r\n  <g id=\"axes_1\">\r\n   <g id=\"patch_2\">\r\n    <path d=\"M 33.2875 226.713504 \r\nL 368.0875 226.713504 \r\nL 368.0875 9.273504 \r\nL 33.2875 9.273504 \r\nz\r\n\" style=\"fill:#ffffff;\"/>\r\n   </g>\r\n   <g id=\"patch_3\">\r\n    <path clip-path=\"url(#pf44ae25a01)\" d=\"M 265.908279 226.713504 \r\nL 352.869318 226.713504 \r\nL 352.869318 75.713504 \r\nL 265.908279 75.713504 \r\nz\r\n\" style=\"fill:#008000;\"/>\r\n   </g>\r\n   <g id=\"patch_4\">\r\n    <path clip-path=\"url(#pf44ae25a01)\" d=\"M 157.206981 226.713504 \r\nL 244.168019 226.713504 \r\nL 244.168019 19.62779 \r\nL 157.206981 19.62779 \r\nz\r\n\" style=\"fill:#808080;\"/>\r\n   </g>\r\n   <g id=\"patch_5\">\r\n    <path clip-path=\"url(#pf44ae25a01)\" d=\"M 48.505682 226.713504 \r\nL 135.466721 226.713504 \r\nL 135.466721 204.60279 \r\nL 48.505682 204.60279 \r\nz\r\n\" style=\"fill:#ff0000;\"/>\r\n   </g>\r\n   <g id=\"matplotlib.axis_1\">\r\n    <g id=\"xtick_1\">\r\n     <g id=\"line2d_1\">\r\n      <defs>\r\n       <path d=\"M 0 0 \r\nL 0 3.5 \r\n\" id=\"m2f9daade2a\" style=\"stroke:#000000;stroke-width:0.8;\"/>\r\n      </defs>\r\n      <g>\r\n       <use style=\"stroke:#000000;stroke-width:0.8;\" x=\"37.635552\" xlink:href=\"#m2f9daade2a\" y=\"226.713504\"/>\r\n      </g>\r\n     </g>\r\n     <g id=\"text_1\">\r\n      <!-- 0.5 -->\r\n      <g transform=\"translate(29.683989 241.311942)scale(0.1 -0.1)\">\r\n       <defs>\r\n        <path d=\"M 31.78125 66.40625 \r\nQ 24.171875 66.40625 20.328125 58.90625 \r\nQ 16.5 51.421875 16.5 36.375 \r\nQ 16.5 21.390625 20.328125 13.890625 \r\nQ 24.171875 6.390625 31.78125 6.390625 \r\nQ 39.453125 6.390625 43.28125 13.890625 \r\nQ 47.125 21.390625 47.125 36.375 \r\nQ 47.125 51.421875 43.28125 58.90625 \r\nQ 39.453125 66.40625 31.78125 66.40625 \r\nz\r\nM 31.78125 74.21875 \r\nQ 44.046875 74.21875 50.515625 64.515625 \r\nQ 56.984375 54.828125 56.984375 36.375 \r\nQ 56.984375 17.96875 50.515625 8.265625 \r\nQ 44.046875 -1.421875 31.78125 -1.421875 \r\nQ 19.53125 -1.421875 13.0625 8.265625 \r\nQ 6.59375 17.96875 6.59375 36.375 \r\nQ 6.59375 54.828125 13.0625 64.515625 \r\nQ 19.53125 74.21875 31.78125 74.21875 \r\nz\r\n\" id=\"DejaVuSans-48\"/>\r\n        <path d=\"M 10.6875 12.40625 \r\nL 21 12.40625 \r\nL 21 0 \r\nL 10.6875 0 \r\nz\r\n\" id=\"DejaVuSans-46\"/>\r\n        <path d=\"M 10.796875 72.90625 \r\nL 49.515625 72.90625 \r\nL 49.515625 64.59375 \r\nL 19.828125 64.59375 \r\nL 19.828125 46.734375 \r\nQ 21.96875 47.46875 24.109375 47.828125 \r\nQ 26.265625 48.1875 28.421875 48.1875 \r\nQ 40.625 48.1875 47.75 41.5 \r\nQ 54.890625 34.8125 54.890625 23.390625 \r\nQ 54.890625 11.625 47.5625 5.09375 \r\nQ 40.234375 -1.421875 26.90625 -1.421875 \r\nQ 22.3125 -1.421875 17.546875 -0.640625 \r\nQ 12.796875 0.140625 7.71875 1.703125 \r\nL 7.71875 11.625 \r\nQ 12.109375 9.234375 16.796875 8.0625 \r\nQ 21.484375 6.890625 26.703125 6.890625 \r\nQ 35.15625 6.890625 40.078125 11.328125 \r\nQ 45.015625 15.765625 45.015625 23.390625 \r\nQ 45.015625 31 40.078125 35.4375 \r\nQ 35.15625 39.890625 26.703125 39.890625 \r\nQ 22.75 39.890625 18.8125 39.015625 \r\nQ 14.890625 38.140625 10.796875 36.28125 \r\nz\r\n\" id=\"DejaVuSans-53\"/>\r\n       </defs>\r\n       <use xlink:href=\"#DejaVuSans-48\"/>\r\n       <use x=\"63.623047\" xlink:href=\"#DejaVuSans-46\"/>\r\n       <use x=\"95.410156\" xlink:href=\"#DejaVuSans-53\"/>\r\n      </g>\r\n     </g>\r\n    </g>\r\n    <g id=\"xtick_2\">\r\n     <g id=\"line2d_2\">\r\n      <g>\r\n       <use style=\"stroke:#000000;stroke-width:0.8;\" x=\"91.986201\" xlink:href=\"#m2f9daade2a\" y=\"226.713504\"/>\r\n      </g>\r\n     </g>\r\n     <g id=\"text_2\">\r\n      <!-- 1.0 -->\r\n      <g transform=\"translate(84.034639 241.311942)scale(0.1 -0.1)\">\r\n       <defs>\r\n        <path d=\"M 12.40625 8.296875 \r\nL 28.515625 8.296875 \r\nL 28.515625 63.921875 \r\nL 10.984375 60.40625 \r\nL 10.984375 69.390625 \r\nL 28.421875 72.90625 \r\nL 38.28125 72.90625 \r\nL 38.28125 8.296875 \r\nL 54.390625 8.296875 \r\nL 54.390625 0 \r\nL 12.40625 0 \r\nz\r\n\" id=\"DejaVuSans-49\"/>\r\n       </defs>\r\n       <use xlink:href=\"#DejaVuSans-49\"/>\r\n       <use x=\"63.623047\" xlink:href=\"#DejaVuSans-46\"/>\r\n       <use x=\"95.410156\" xlink:href=\"#DejaVuSans-48\"/>\r\n      </g>\r\n     </g>\r\n    </g>\r\n    <g id=\"xtick_3\">\r\n     <g id=\"line2d_3\">\r\n      <g>\r\n       <use style=\"stroke:#000000;stroke-width:0.8;\" x=\"146.336851\" xlink:href=\"#m2f9daade2a\" y=\"226.713504\"/>\r\n      </g>\r\n     </g>\r\n     <g id=\"text_3\">\r\n      <!-- 1.5 -->\r\n      <g transform=\"translate(138.385288 241.311942)scale(0.1 -0.1)\">\r\n       <use xlink:href=\"#DejaVuSans-49\"/>\r\n       <use x=\"63.623047\" xlink:href=\"#DejaVuSans-46\"/>\r\n       <use x=\"95.410156\" xlink:href=\"#DejaVuSans-53\"/>\r\n      </g>\r\n     </g>\r\n    </g>\r\n    <g id=\"xtick_4\">\r\n     <g id=\"line2d_4\">\r\n      <g>\r\n       <use style=\"stroke:#000000;stroke-width:0.8;\" x=\"200.6875\" xlink:href=\"#m2f9daade2a\" y=\"226.713504\"/>\r\n      </g>\r\n     </g>\r\n     <g id=\"text_4\">\r\n      <!-- 2.0 -->\r\n      <g transform=\"translate(192.735938 241.311942)scale(0.1 -0.1)\">\r\n       <defs>\r\n        <path d=\"M 19.1875 8.296875 \r\nL 53.609375 8.296875 \r\nL 53.609375 0 \r\nL 7.328125 0 \r\nL 7.328125 8.296875 \r\nQ 12.9375 14.109375 22.625 23.890625 \r\nQ 32.328125 33.6875 34.8125 36.53125 \r\nQ 39.546875 41.84375 41.421875 45.53125 \r\nQ 43.3125 49.21875 43.3125 52.78125 \r\nQ 43.3125 58.59375 39.234375 62.25 \r\nQ 35.15625 65.921875 28.609375 65.921875 \r\nQ 23.96875 65.921875 18.8125 64.3125 \r\nQ 13.671875 62.703125 7.8125 59.421875 \r\nL 7.8125 69.390625 \r\nQ 13.765625 71.78125 18.9375 73 \r\nQ 24.125 74.21875 28.421875 74.21875 \r\nQ 39.75 74.21875 46.484375 68.546875 \r\nQ 53.21875 62.890625 53.21875 53.421875 \r\nQ 53.21875 48.921875 51.53125 44.890625 \r\nQ 49.859375 40.875 45.40625 35.40625 \r\nQ 44.1875 33.984375 37.640625 27.21875 \r\nQ 31.109375 20.453125 19.1875 8.296875 \r\nz\r\n\" id=\"DejaVuSans-50\"/>\r\n       </defs>\r\n       <use xlink:href=\"#DejaVuSans-50\"/>\r\n       <use x=\"63.623047\" xlink:href=\"#DejaVuSans-46\"/>\r\n       <use x=\"95.410156\" xlink:href=\"#DejaVuSans-48\"/>\r\n      </g>\r\n     </g>\r\n    </g>\r\n    <g id=\"xtick_5\">\r\n     <g id=\"line2d_5\">\r\n      <g>\r\n       <use style=\"stroke:#000000;stroke-width:0.8;\" x=\"255.038149\" xlink:href=\"#m2f9daade2a\" y=\"226.713504\"/>\r\n      </g>\r\n     </g>\r\n     <g id=\"text_5\">\r\n      <!-- 2.5 -->\r\n      <g transform=\"translate(247.086587 241.311942)scale(0.1 -0.1)\">\r\n       <use xlink:href=\"#DejaVuSans-50\"/>\r\n       <use x=\"63.623047\" xlink:href=\"#DejaVuSans-46\"/>\r\n       <use x=\"95.410156\" xlink:href=\"#DejaVuSans-53\"/>\r\n      </g>\r\n     </g>\r\n    </g>\r\n    <g id=\"xtick_6\">\r\n     <g id=\"line2d_6\">\r\n      <g>\r\n       <use style=\"stroke:#000000;stroke-width:0.8;\" x=\"309.388799\" xlink:href=\"#m2f9daade2a\" y=\"226.713504\"/>\r\n      </g>\r\n     </g>\r\n     <g id=\"text_6\">\r\n      <!-- 3.0 -->\r\n      <g transform=\"translate(301.437236 241.311942)scale(0.1 -0.1)\">\r\n       <defs>\r\n        <path d=\"M 40.578125 39.3125 \r\nQ 47.65625 37.796875 51.625 33 \r\nQ 55.609375 28.21875 55.609375 21.1875 \r\nQ 55.609375 10.40625 48.1875 4.484375 \r\nQ 40.765625 -1.421875 27.09375 -1.421875 \r\nQ 22.515625 -1.421875 17.65625 -0.515625 \r\nQ 12.796875 0.390625 7.625 2.203125 \r\nL 7.625 11.71875 \r\nQ 11.71875 9.328125 16.59375 8.109375 \r\nQ 21.484375 6.890625 26.8125 6.890625 \r\nQ 36.078125 6.890625 40.9375 10.546875 \r\nQ 45.796875 14.203125 45.796875 21.1875 \r\nQ 45.796875 27.640625 41.28125 31.265625 \r\nQ 36.765625 34.90625 28.71875 34.90625 \r\nL 20.21875 34.90625 \r\nL 20.21875 43.015625 \r\nL 29.109375 43.015625 \r\nQ 36.375 43.015625 40.234375 45.921875 \r\nQ 44.09375 48.828125 44.09375 54.296875 \r\nQ 44.09375 59.90625 40.109375 62.90625 \r\nQ 36.140625 65.921875 28.71875 65.921875 \r\nQ 24.65625 65.921875 20.015625 65.03125 \r\nQ 15.375 64.15625 9.8125 62.3125 \r\nL 9.8125 71.09375 \r\nQ 15.4375 72.65625 20.34375 73.4375 \r\nQ 25.25 74.21875 29.59375 74.21875 \r\nQ 40.828125 74.21875 47.359375 69.109375 \r\nQ 53.90625 64.015625 53.90625 55.328125 \r\nQ 53.90625 49.265625 50.4375 45.09375 \r\nQ 46.96875 40.921875 40.578125 39.3125 \r\nz\r\n\" id=\"DejaVuSans-51\"/>\r\n       </defs>\r\n       <use xlink:href=\"#DejaVuSans-51\"/>\r\n       <use x=\"63.623047\" xlink:href=\"#DejaVuSans-46\"/>\r\n       <use x=\"95.410156\" xlink:href=\"#DejaVuSans-48\"/>\r\n      </g>\r\n     </g>\r\n    </g>\r\n    <g id=\"xtick_7\">\r\n     <g id=\"line2d_7\">\r\n      <g>\r\n       <use style=\"stroke:#000000;stroke-width:0.8;\" x=\"363.739448\" xlink:href=\"#m2f9daade2a\" y=\"226.713504\"/>\r\n      </g>\r\n     </g>\r\n     <g id=\"text_7\">\r\n      <!-- 3.5 -->\r\n      <g transform=\"translate(355.787886 241.311942)scale(0.1 -0.1)\">\r\n       <use xlink:href=\"#DejaVuSans-51\"/>\r\n       <use x=\"63.623047\" xlink:href=\"#DejaVuSans-46\"/>\r\n       <use x=\"95.410156\" xlink:href=\"#DejaVuSans-53\"/>\r\n      </g>\r\n     </g>\r\n    </g>\r\n   </g>\r\n   <g id=\"matplotlib.axis_2\">\r\n    <g id=\"ytick_1\">\r\n     <g id=\"line2d_8\">\r\n      <defs>\r\n       <path d=\"M 0 0 \r\nL -3.5 0 \r\n\" id=\"m8a66e6fc0e\" style=\"stroke:#000000;stroke-width:0.8;\"/>\r\n      </defs>\r\n      <g>\r\n       <use style=\"stroke:#000000;stroke-width:0.8;\" x=\"33.2875\" xlink:href=\"#m8a66e6fc0e\" y=\"226.713504\"/>\r\n      </g>\r\n     </g>\r\n     <g id=\"text_8\">\r\n      <!-- 0 -->\r\n      <g transform=\"translate(19.925 230.512723)scale(0.1 -0.1)\">\r\n       <use xlink:href=\"#DejaVuSans-48\"/>\r\n      </g>\r\n     </g>\r\n    </g>\r\n    <g id=\"ytick_2\">\r\n     <g id=\"line2d_9\">\r\n      <g>\r\n       <use style=\"stroke:#000000;stroke-width:0.8;\" x=\"33.2875\" xlink:href=\"#m8a66e6fc0e\" y=\"199.749219\"/>\r\n      </g>\r\n     </g>\r\n     <g id=\"text_9\">\r\n      <!-- 50 -->\r\n      <g transform=\"translate(13.5625 203.548437)scale(0.1 -0.1)\">\r\n       <use xlink:href=\"#DejaVuSans-53\"/>\r\n       <use x=\"63.623047\" xlink:href=\"#DejaVuSans-48\"/>\r\n      </g>\r\n     </g>\r\n    </g>\r\n    <g id=\"ytick_3\">\r\n     <g id=\"line2d_10\">\r\n      <g>\r\n       <use style=\"stroke:#000000;stroke-width:0.8;\" x=\"33.2875\" xlink:href=\"#m8a66e6fc0e\" y=\"172.784933\"/>\r\n      </g>\r\n     </g>\r\n     <g id=\"text_10\">\r\n      <!-- 100 -->\r\n      <g transform=\"translate(7.2 176.584152)scale(0.1 -0.1)\">\r\n       <use xlink:href=\"#DejaVuSans-49\"/>\r\n       <use x=\"63.623047\" xlink:href=\"#DejaVuSans-48\"/>\r\n       <use x=\"127.246094\" xlink:href=\"#DejaVuSans-48\"/>\r\n      </g>\r\n     </g>\r\n    </g>\r\n    <g id=\"ytick_4\">\r\n     <g id=\"line2d_11\">\r\n      <g>\r\n       <use style=\"stroke:#000000;stroke-width:0.8;\" x=\"33.2875\" xlink:href=\"#m8a66e6fc0e\" y=\"145.820647\"/>\r\n      </g>\r\n     </g>\r\n     <g id=\"text_11\">\r\n      <!-- 150 -->\r\n      <g transform=\"translate(7.2 149.619866)scale(0.1 -0.1)\">\r\n       <use xlink:href=\"#DejaVuSans-49\"/>\r\n       <use x=\"63.623047\" xlink:href=\"#DejaVuSans-53\"/>\r\n       <use x=\"127.246094\" xlink:href=\"#DejaVuSans-48\"/>\r\n      </g>\r\n     </g>\r\n    </g>\r\n    <g id=\"ytick_5\">\r\n     <g id=\"line2d_12\">\r\n      <g>\r\n       <use style=\"stroke:#000000;stroke-width:0.8;\" x=\"33.2875\" xlink:href=\"#m8a66e6fc0e\" y=\"118.856362\"/>\r\n      </g>\r\n     </g>\r\n     <g id=\"text_12\">\r\n      <!-- 200 -->\r\n      <g transform=\"translate(7.2 122.65558)scale(0.1 -0.1)\">\r\n       <use xlink:href=\"#DejaVuSans-50\"/>\r\n       <use x=\"63.623047\" xlink:href=\"#DejaVuSans-48\"/>\r\n       <use x=\"127.246094\" xlink:href=\"#DejaVuSans-48\"/>\r\n      </g>\r\n     </g>\r\n    </g>\r\n    <g id=\"ytick_6\">\r\n     <g id=\"line2d_13\">\r\n      <g>\r\n       <use style=\"stroke:#000000;stroke-width:0.8;\" x=\"33.2875\" xlink:href=\"#m8a66e6fc0e\" y=\"91.892076\"/>\r\n      </g>\r\n     </g>\r\n     <g id=\"text_13\">\r\n      <!-- 250 -->\r\n      <g transform=\"translate(7.2 95.691295)scale(0.1 -0.1)\">\r\n       <use xlink:href=\"#DejaVuSans-50\"/>\r\n       <use x=\"63.623047\" xlink:href=\"#DejaVuSans-53\"/>\r\n       <use x=\"127.246094\" xlink:href=\"#DejaVuSans-48\"/>\r\n      </g>\r\n     </g>\r\n    </g>\r\n    <g id=\"ytick_7\">\r\n     <g id=\"line2d_14\">\r\n      <g>\r\n       <use style=\"stroke:#000000;stroke-width:0.8;\" x=\"33.2875\" xlink:href=\"#m8a66e6fc0e\" y=\"64.92779\"/>\r\n      </g>\r\n     </g>\r\n     <g id=\"text_14\">\r\n      <!-- 300 -->\r\n      <g transform=\"translate(7.2 68.727009)scale(0.1 -0.1)\">\r\n       <use xlink:href=\"#DejaVuSans-51\"/>\r\n       <use x=\"63.623047\" xlink:href=\"#DejaVuSans-48\"/>\r\n       <use x=\"127.246094\" xlink:href=\"#DejaVuSans-48\"/>\r\n      </g>\r\n     </g>\r\n    </g>\r\n    <g id=\"ytick_8\">\r\n     <g id=\"line2d_15\">\r\n      <g>\r\n       <use style=\"stroke:#000000;stroke-width:0.8;\" x=\"33.2875\" xlink:href=\"#m8a66e6fc0e\" y=\"37.963504\"/>\r\n      </g>\r\n     </g>\r\n     <g id=\"text_15\">\r\n      <!-- 350 -->\r\n      <g transform=\"translate(7.2 41.762723)scale(0.1 -0.1)\">\r\n       <use xlink:href=\"#DejaVuSans-51\"/>\r\n       <use x=\"63.623047\" xlink:href=\"#DejaVuSans-53\"/>\r\n       <use x=\"127.246094\" xlink:href=\"#DejaVuSans-48\"/>\r\n      </g>\r\n     </g>\r\n    </g>\r\n    <g id=\"ytick_9\">\r\n     <g id=\"line2d_16\">\r\n      <g>\r\n       <use style=\"stroke:#000000;stroke-width:0.8;\" x=\"33.2875\" xlink:href=\"#m8a66e6fc0e\" y=\"10.999219\"/>\r\n      </g>\r\n     </g>\r\n     <g id=\"text_16\">\r\n      <!-- 400 -->\r\n      <g transform=\"translate(7.2 14.798437)scale(0.1 -0.1)\">\r\n       <defs>\r\n        <path d=\"M 37.796875 64.3125 \r\nL 12.890625 25.390625 \r\nL 37.796875 25.390625 \r\nz\r\nM 35.203125 72.90625 \r\nL 47.609375 72.90625 \r\nL 47.609375 25.390625 \r\nL 58.015625 25.390625 \r\nL 58.015625 17.1875 \r\nL 47.609375 17.1875 \r\nL 47.609375 0 \r\nL 37.796875 0 \r\nL 37.796875 17.1875 \r\nL 4.890625 17.1875 \r\nL 4.890625 26.703125 \r\nz\r\n\" id=\"DejaVuSans-52\"/>\r\n       </defs>\r\n       <use xlink:href=\"#DejaVuSans-52\"/>\r\n       <use x=\"63.623047\" xlink:href=\"#DejaVuSans-48\"/>\r\n       <use x=\"127.246094\" xlink:href=\"#DejaVuSans-48\"/>\r\n      </g>\r\n     </g>\r\n    </g>\r\n   </g>\r\n   <g id=\"patch_6\">\r\n    <path d=\"M 33.2875 226.713504 \r\nL 33.2875 9.273504 \r\n\" style=\"fill:none;stroke:#000000;stroke-linecap:square;stroke-linejoin:miter;stroke-width:0.8;\"/>\r\n   </g>\r\n   <g id=\"patch_7\">\r\n    <path d=\"M 368.0875 226.713504 \r\nL 368.0875 9.273504 \r\n\" style=\"fill:none;stroke:#000000;stroke-linecap:square;stroke-linejoin:miter;stroke-width:0.8;\"/>\r\n   </g>\r\n   <g id=\"patch_8\">\r\n    <path d=\"M 33.2875 226.713504 \r\nL 368.0875 226.713504 \r\n\" style=\"fill:none;stroke:#000000;stroke-linecap:square;stroke-linejoin:miter;stroke-width:0.8;\"/>\r\n   </g>\r\n   <g id=\"patch_9\">\r\n    <path d=\"M 33.2875 9.273504 \r\nL 368.0875 9.273504 \r\n\" style=\"fill:none;stroke:#000000;stroke-linecap:square;stroke-linejoin:miter;stroke-width:0.8;\"/>\r\n   </g>\r\n  </g>\r\n </g>\r\n <defs>\r\n  <clipPath id=\"pf44ae25a01\">\r\n   <rect height=\"217.44\" width=\"334.8\" x=\"33.2875\" y=\"9.273504\"/>\r\n  </clipPath>\r\n </defs>\r\n</svg>\r\n",
      "image/png": "[encoded data removed]"
     },
     "metadata": {
      "needs_background": "light"
     }
    }
   ],
   "source": [
    "import matplotlib.pyplot as plt\n",
    "\n",
    "plt.bar(counts.keys(),counts.values(), color=[\"green\", \"grey\", \"red\"])"
   ]
  },
  {
   "cell_type": "code",
   "execution_count": 30,
   "metadata": {},
   "outputs": [
    {
     "output_type": "execute_result",
     "data": {
      "text/plain": [
       "[[633, 3.0], [633, 3.0], [633, 2.0]]"
      ]
     },
     "metadata": {},
     "execution_count": 30
    }
   ],
   "source": [
    "result_data\n",
    "[i for i in result_data if i[0]==633]"
   ]
  },
  {
   "cell_type": "code",
   "execution_count": 32,
   "metadata": {},
   "outputs": [
    {
     "output_type": "execute_result",
     "data": {
      "text/plain": [
       "        id  quiz_id  quiz_version  user_id  submission_id  score  kept_score  \\\n",
       "0    57233     6585           103      633         309005    1.0         1.0   \n",
       "10   85037     6610           529      633         309055    1.0         1.0   \n",
       "65   58584     6617           127      633         309105    1.0         1.0   \n",
       "122  85047     6721           529      633         309480    1.0         1.0   \n",
       "53   57223     6780           103      633         309780    1.0         1.0   \n",
       "0    57236     6788           103      633         309805    1.0         1.0   \n",
       "9    64771     6819           194      633         309984    1.0         1.0   \n",
       "5    85041     6824           529      633         310009    1.0         1.0   \n",
       "22   71750     6876           336      633         310284    1.0         1.0   \n",
       "\n",
       "                   started_at                     end_at  \\\n",
       "0   2020-10-26 22:47:46+00:00  2020-11-21 07:59:59+00:00   \n",
       "10  2020-11-13 18:22:01+00:00  2020-11-21 07:59:59+00:00   \n",
       "65  2020-10-27 22:49:41+00:00  2020-11-21 07:59:59+00:00   \n",
       "122 2020-11-13 18:23:02+00:00  2020-11-21 07:59:59+00:00   \n",
       "53  2020-10-26 22:45:34+00:00  2020-11-21 07:59:59+00:00   \n",
       "0   2020-10-26 22:49:16+00:00  2020-11-21 07:59:59+00:00   \n",
       "9   2020-10-30 17:07:21+00:00  2020-11-21 07:59:59+00:00   \n",
       "5   2020-11-13 18:22:29+00:00  2020-11-21 07:59:59+00:00   \n",
       "22  2020-11-05 16:40:12+00:00  2020-11-21 07:59:59+00:00   \n",
       "\n",
       "                   finished_at  attempt workflow_state  fudge_points  \\\n",
       "0    2020-10-27 22:50:48+00:00        1       complete           NaN   \n",
       "10   2020-11-21 07:59:59+00:00        1       complete           NaN   \n",
       "65   2020-10-27 22:49:57+00:00        1       complete           NaN   \n",
       "122  2020-11-13 18:25:12+00:00        1       complete           NaN   \n",
       "53   2020-10-26 22:45:53+00:00        1       complete           NaN   \n",
       "0    2020-11-05 16:33:17+00:00        1       complete           NaN   \n",
       "9    2020-10-30 17:09:36+00:00        1       complete           NaN   \n",
       "5    2020-11-21 07:59:59+00:00        1       complete           NaN   \n",
       "22   2020-11-05 16:43:46+00:00        1       complete           NaN   \n",
       "\n",
       "     quiz_points_possible  extra_attempts extra_time  manually_unlocked  \\\n",
       "0                       1             NaN        NaT                NaN   \n",
       "10                      1             NaN        NaT                NaN   \n",
       "65                      1             NaN        NaT                NaN   \n",
       "122                     1             NaN        NaT                NaN   \n",
       "53                      1             NaN        NaT                NaN   \n",
       "0                       1             NaN        NaT                NaN   \n",
       "9                       1             NaN        NaT                NaN   \n",
       "5                       1             NaN        NaT                NaN   \n",
       "22                      1             NaN        NaT                NaN   \n",
       "\n",
       "                                                     validation_token  \\\n",
       "0    5e9f574072efc917ebfd543dadced88ad27cb1d1006bf73d8a1b26526534a1d3   \n",
       "10   727b711812f1ee536f5f6865c4e4f7101e1ce8469a0220847312c8a612602770   \n",
       "65   4b1a6c119ffd1e3cf8e74d830f71fd0a0ecf43028267c73d73ecec6f291ad092   \n",
       "122  601996d7575080e8ffa21a7362381fda8bf2198981798906f5f62c01c1b50449   \n",
       "53   95db12ee2f40783a143dc2307c671f4d7735b12484733e325b4d108ee45b2baa   \n",
       "0    9c2cbf12ed03b445afc2516608ea7d41b6c9787cadadcf01b2c724d2754db93f   \n",
       "9    04df1d508b328becf770a3baf94d75de6e987e9c62e2667c37ad96666c5c52bf   \n",
       "5    262c13f82f5095b2c568e15de4d1df580a463e523e569ff39ca6fe445462367b   \n",
       "22   14d6dd93226eb817c33ce79276b0d76619050fdb8774507645d0a94db88c2cfb   \n",
       "\n",
       "     score_before_regrade  has_seen_results  time_spent  attempts_left  \\\n",
       "0                     NaN               0.0     86582.0              0   \n",
       "10                    NaN               NaN    653877.0              0   \n",
       "65                    NaN               0.0        16.0              0   \n",
       "122                   NaN               0.0       130.0              0   \n",
       "53                    NaN               0.0        18.0              0   \n",
       "0                     NaN               0.0    841440.0              0   \n",
       "9                     NaN               0.0       135.0              0   \n",
       "5                     NaN               NaN    653849.0              0   \n",
       "22                    NaN               0.0       214.0              0   \n",
       "\n",
       "     overdue_and_needs_submission  excused?  \\\n",
       "0                             0.0     False   \n",
       "10                            0.0     False   \n",
       "65                            0.0     False   \n",
       "122                           0.0     False   \n",
       "53                            0.0     False   \n",
       "0                             0.0     False   \n",
       "9                             0.0     False   \n",
       "5                             0.0     False   \n",
       "22                            0.0     False   \n",
       "\n",
       "                                                                            html_url  \\\n",
       "0    https://lambdaschool.instructure.com/courses/495/quizzes/6585/submissions/57233   \n",
       "10   https://lambdaschool.instructure.com/courses/495/quizzes/6610/submissions/85037   \n",
       "65   https://lambdaschool.instructure.com/courses/495/quizzes/6617/submissions/58584   \n",
       "122  https://lambdaschool.instructure.com/courses/495/quizzes/6721/submissions/85047   \n",
       "53   https://lambdaschool.instructure.com/courses/495/quizzes/6780/submissions/57223   \n",
       "0    https://lambdaschool.instructure.com/courses/495/quizzes/6788/submissions/57236   \n",
       "9    https://lambdaschool.instructure.com/courses/495/quizzes/6819/submissions/64771   \n",
       "5    https://lambdaschool.instructure.com/courses/495/quizzes/6824/submissions/85041   \n",
       "22   https://lambdaschool.instructure.com/courses/495/quizzes/6876/submissions/71750   \n",
       "\n",
       "                                                                                                   result_url  \\\n",
       "0    https://lambdaschool.instructure.com/courses/495/quizzes/6585/history?quiz_submission_id=57233&version=1   \n",
       "10   https://lambdaschool.instructure.com/courses/495/quizzes/6610/history?quiz_submission_id=85037&version=1   \n",
       "65   https://lambdaschool.instructure.com/courses/495/quizzes/6617/history?quiz_submission_id=58584&version=1   \n",
       "122  https://lambdaschool.instructure.com/courses/495/quizzes/6721/history?quiz_submission_id=85047&version=1   \n",
       "53   https://lambdaschool.instructure.com/courses/495/quizzes/6780/history?quiz_submission_id=57223&version=1   \n",
       "0    https://lambdaschool.instructure.com/courses/495/quizzes/6788/history?quiz_submission_id=57236&version=1   \n",
       "9    https://lambdaschool.instructure.com/courses/495/quizzes/6819/history?quiz_submission_id=64771&version=1   \n",
       "5    https://lambdaschool.instructure.com/courses/495/quizzes/6824/history?quiz_submission_id=85041&version=1   \n",
       "22   https://lambdaschool.instructure.com/courses/495/quizzes/6876/history?quiz_submission_id=71750&version=1   \n",
       "\n",
       "     course_id  \n",
       "0          495  \n",
       "10         495  \n",
       "65         495  \n",
       "122        495  \n",
       "53         495  \n",
       "0          495  \n",
       "9          495  \n",
       "5          495  \n",
       "22         495  "
      ],
      "text/html": "<div>\n<style scoped>\n    .dataframe tbody tr th:only-of-type {\n        vertical-align: middle;\n    }\n\n    .dataframe tbody tr th {\n        vertical-align: top;\n    }\n\n    .dataframe thead th {\n        text-align: right;\n    }\n</style>\n<table border=\"1\" class=\"dataframe\">\n  <thead>\n    <tr style=\"text-align: right;\">\n      <th></th>\n      <th>id</th>\n      <th>quiz_id</th>\n      <th>quiz_version</th>\n      <th>user_id</th>\n      <th>submission_id</th>\n      <th>score</th>\n      <th>kept_score</th>\n      <th>started_at</th>\n      <th>end_at</th>\n      <th>finished_at</th>\n      <th>attempt</th>\n      <th>workflow_state</th>\n      <th>fudge_points</th>\n      <th>quiz_points_possible</th>\n      <th>extra_attempts</th>\n      <th>extra_time</th>\n      <th>manually_unlocked</th>\n      <th>validation_token</th>\n      <th>score_before_regrade</th>\n      <th>has_seen_results</th>\n      <th>time_spent</th>\n      <th>attempts_left</th>\n      <th>overdue_and_needs_submission</th>\n      <th>excused?</th>\n      <th>html_url</th>\n      <th>result_url</th>\n      <th>course_id</th>\n    </tr>\n  </thead>\n  <tbody>\n    <tr>\n      <th>0</th>\n      <td>57233</td>\n      <td>6585</td>\n      <td>103</td>\n      <td>633</td>\n      <td>309005</td>\n      <td>1.0</td>\n      <td>1.0</td>\n      <td>2020-10-26 22:47:46+00:00</td>\n      <td>2020-11-21 07:59:59+00:00</td>\n      <td>2020-10-27 22:50:48+00:00</td>\n      <td>1</td>\n      <td>complete</td>\n      <td>NaN</td>\n      <td>1</td>\n      <td>NaN</td>\n      <td>NaT</td>\n      <td>NaN</td>\n      <td>5e9f574072efc917ebfd543dadced88ad27cb1d1006bf73d8a1b26526534a1d3</td>\n      <td>NaN</td>\n      <td>0.0</td>\n      <td>86582.0</td>\n      <td>0</td>\n      <td>0.0</td>\n      <td>False</td>\n      <td>https://lambdaschool.instructure.com/courses/495/quizzes/6585/submissions/57233</td>\n      <td>https://lambdaschool.instructure.com/courses/495/quizzes/6585/history?quiz_submission_id=57233&amp;version=1</td>\n      <td>495</td>\n    </tr>\n    <tr>\n      <th>10</th>\n      <td>85037</td>\n      <td>6610</td>\n      <td>529</td>\n      <td>633</td>\n      <td>309055</td>\n      <td>1.0</td>\n      <td>1.0</td>\n      <td>2020-11-13 18:22:01+00:00</td>\n      <td>2020-11-21 07:59:59+00:00</td>\n      <td>2020-11-21 07:59:59+00:00</td>\n      <td>1</td>\n      <td>complete</td>\n      <td>NaN</td>\n      <td>1</td>\n      <td>NaN</td>\n      <td>NaT</td>\n      <td>NaN</td>\n      <td>727b711812f1ee536f5f6865c4e4f7101e1ce8469a0220847312c8a612602770</td>\n      <td>NaN</td>\n      <td>NaN</td>\n      <td>653877.0</td>\n      <td>0</td>\n      <td>0.0</td>\n      <td>False</td>\n      <td>https://lambdaschool.instructure.com/courses/495/quizzes/6610/submissions/85037</td>\n      <td>https://lambdaschool.instructure.com/courses/495/quizzes/6610/history?quiz_submission_id=85037&amp;version=1</td>\n      <td>495</td>\n    </tr>\n    <tr>\n      <th>65</th>\n      <td>58584</td>\n      <td>6617</td>\n      <td>127</td>\n      <td>633</td>\n      <td>309105</td>\n      <td>1.0</td>\n      <td>1.0</td>\n      <td>2020-10-27 22:49:41+00:00</td>\n      <td>2020-11-21 07:59:59+00:00</td>\n      <td>2020-10-27 22:49:57+00:00</td>\n      <td>1</td>\n      <td>complete</td>\n      <td>NaN</td>\n      <td>1</td>\n      <td>NaN</td>\n      <td>NaT</td>\n      <td>NaN</td>\n      <td>4b1a6c119ffd1e3cf8e74d830f71fd0a0ecf43028267c73d73ecec6f291ad092</td>\n      <td>NaN</td>\n      <td>0.0</td>\n      <td>16.0</td>\n      <td>0</td>\n      <td>0.0</td>\n      <td>False</td>\n      <td>https://lambdaschool.instructure.com/courses/495/quizzes/6617/submissions/58584</td>\n      <td>https://lambdaschool.instructure.com/courses/495/quizzes/6617/history?quiz_submission_id=58584&amp;version=1</td>\n      <td>495</td>\n    </tr>\n    <tr>\n      <th>122</th>\n      <td>85047</td>\n      <td>6721</td>\n      <td>529</td>\n      <td>633</td>\n      <td>309480</td>\n      <td>1.0</td>\n      <td>1.0</td>\n      <td>2020-11-13 18:23:02+00:00</td>\n      <td>2020-11-21 07:59:59+00:00</td>\n      <td>2020-11-13 18:25:12+00:00</td>\n      <td>1</td>\n      <td>complete</td>\n      <td>NaN</td>\n      <td>1</td>\n      <td>NaN</td>\n      <td>NaT</td>\n      <td>NaN</td>\n      <td>601996d7575080e8ffa21a7362381fda8bf2198981798906f5f62c01c1b50449</td>\n      <td>NaN</td>\n      <td>0.0</td>\n      <td>130.0</td>\n      <td>0</td>\n      <td>0.0</td>\n      <td>False</td>\n      <td>https://lambdaschool.instructure.com/courses/495/quizzes/6721/submissions/85047</td>\n      <td>https://lambdaschool.instructure.com/courses/495/quizzes/6721/history?quiz_submission_id=85047&amp;version=1</td>\n      <td>495</td>\n    </tr>\n    <tr>\n      <th>53</th>\n      <td>57223</td>\n      <td>6780</td>\n      <td>103</td>\n      <td>633</td>\n      <td>309780</td>\n      <td>1.0</td>\n      <td>1.0</td>\n      <td>2020-10-26 22:45:34+00:00</td>\n      <td>2020-11-21 07:59:59+00:00</td>\n      <td>2020-10-26 22:45:53+00:00</td>\n      <td>1</td>\n      <td>complete</td>\n      <td>NaN</td>\n      <td>1</td>\n      <td>NaN</td>\n      <td>NaT</td>\n      <td>NaN</td>\n      <td>95db12ee2f40783a143dc2307c671f4d7735b12484733e325b4d108ee45b2baa</td>\n      <td>NaN</td>\n      <td>0.0</td>\n      <td>18.0</td>\n      <td>0</td>\n      <td>0.0</td>\n      <td>False</td>\n      <td>https://lambdaschool.instructure.com/courses/495/quizzes/6780/submissions/57223</td>\n      <td>https://lambdaschool.instructure.com/courses/495/quizzes/6780/history?quiz_submission_id=57223&amp;version=1</td>\n      <td>495</td>\n    </tr>\n    <tr>\n      <th>0</th>\n      <td>57236</td>\n      <td>6788</td>\n      <td>103</td>\n      <td>633</td>\n      <td>309805</td>\n      <td>1.0</td>\n      <td>1.0</td>\n      <td>2020-10-26 22:49:16+00:00</td>\n      <td>2020-11-21 07:59:59+00:00</td>\n      <td>2020-11-05 16:33:17+00:00</td>\n      <td>1</td>\n      <td>complete</td>\n      <td>NaN</td>\n      <td>1</td>\n      <td>NaN</td>\n      <td>NaT</td>\n      <td>NaN</td>\n      <td>9c2cbf12ed03b445afc2516608ea7d41b6c9787cadadcf01b2c724d2754db93f</td>\n      <td>NaN</td>\n      <td>0.0</td>\n      <td>841440.0</td>\n      <td>0</td>\n      <td>0.0</td>\n      <td>False</td>\n      <td>https://lambdaschool.instructure.com/courses/495/quizzes/6788/submissions/57236</td>\n      <td>https://lambdaschool.instructure.com/courses/495/quizzes/6788/history?quiz_submission_id=57236&amp;version=1</td>\n      <td>495</td>\n    </tr>\n    <tr>\n      <th>9</th>\n      <td>64771</td>\n      <td>6819</td>\n      <td>194</td>\n      <td>633</td>\n      <td>309984</td>\n      <td>1.0</td>\n      <td>1.0</td>\n      <td>2020-10-30 17:07:21+00:00</td>\n      <td>2020-11-21 07:59:59+00:00</td>\n      <td>2020-10-30 17:09:36+00:00</td>\n      <td>1</td>\n      <td>complete</td>\n      <td>NaN</td>\n      <td>1</td>\n      <td>NaN</td>\n      <td>NaT</td>\n      <td>NaN</td>\n      <td>04df1d508b328becf770a3baf94d75de6e987e9c62e2667c37ad96666c5c52bf</td>\n      <td>NaN</td>\n      <td>0.0</td>\n      <td>135.0</td>\n      <td>0</td>\n      <td>0.0</td>\n      <td>False</td>\n      <td>https://lambdaschool.instructure.com/courses/495/quizzes/6819/submissions/64771</td>\n      <td>https://lambdaschool.instructure.com/courses/495/quizzes/6819/history?quiz_submission_id=64771&amp;version=1</td>\n      <td>495</td>\n    </tr>\n    <tr>\n      <th>5</th>\n      <td>85041</td>\n      <td>6824</td>\n      <td>529</td>\n      <td>633</td>\n      <td>310009</td>\n      <td>1.0</td>\n      <td>1.0</td>\n      <td>2020-11-13 18:22:29+00:00</td>\n      <td>2020-11-21 07:59:59+00:00</td>\n      <td>2020-11-21 07:59:59+00:00</td>\n      <td>1</td>\n      <td>complete</td>\n      <td>NaN</td>\n      <td>1</td>\n      <td>NaN</td>\n      <td>NaT</td>\n      <td>NaN</td>\n      <td>262c13f82f5095b2c568e15de4d1df580a463e523e569ff39ca6fe445462367b</td>\n      <td>NaN</td>\n      <td>NaN</td>\n      <td>653849.0</td>\n      <td>0</td>\n      <td>0.0</td>\n      <td>False</td>\n      <td>https://lambdaschool.instructure.com/courses/495/quizzes/6824/submissions/85041</td>\n      <td>https://lambdaschool.instructure.com/courses/495/quizzes/6824/history?quiz_submission_id=85041&amp;version=1</td>\n      <td>495</td>\n    </tr>\n    <tr>\n      <th>22</th>\n      <td>71750</td>\n      <td>6876</td>\n      <td>336</td>\n      <td>633</td>\n      <td>310284</td>\n      <td>1.0</td>\n      <td>1.0</td>\n      <td>2020-11-05 16:40:12+00:00</td>\n      <td>2020-11-21 07:59:59+00:00</td>\n      <td>2020-11-05 16:43:46+00:00</td>\n      <td>1</td>\n      <td>complete</td>\n      <td>NaN</td>\n      <td>1</td>\n      <td>NaN</td>\n      <td>NaT</td>\n      <td>NaN</td>\n      <td>14d6dd93226eb817c33ce79276b0d76619050fdb8774507645d0a94db88c2cfb</td>\n      <td>NaN</td>\n      <td>0.0</td>\n      <td>214.0</td>\n      <td>0</td>\n      <td>0.0</td>\n      <td>False</td>\n      <td>https://lambdaschool.instructure.com/courses/495/quizzes/6876/submissions/71750</td>\n      <td>https://lambdaschool.instructure.com/courses/495/quizzes/6876/history?quiz_submission_id=71750&amp;version=1</td>\n      <td>495</td>\n    </tr>\n  </tbody>\n</table>\n</div>"
     },
     "metadata": {},
     "execution_count": 32
    }
   ],
   "source": [
    "user_633 = course_495[course_495[\"user_id\"]==633]\n",
    "user_633"
   ]
  },
  {
   "cell_type": "code",
   "execution_count": 32,
   "metadata": {},
   "outputs": [],
   "source": [
    "r = requests.get(\"https://lambdaschool.instructure.com/api/v1/courses/495/quizzes/6617/submissions\", headers=headers)\n",
    "r"
   ]
  },
  {
   "cell_type": "code",
   "execution_count": 34,
   "metadata": {},
   "outputs": [],
   "source": [
    "raw = r.json()\n",
    "\n",
    "with open(\"submissions-6617.json\",\"w\") as outfile:\n",
    "    json.dump(raw[\"quiz_submissions\"], outfile)"
   ]
  },
  {
   "cell_type": "code",
   "execution_count": 35,
   "metadata": {},
   "outputs": [
    {
     "output_type": "execute_result",
     "data": {
      "text/plain": [
       "      id  quiz_id  quiz_version  user_id  submission_id  score  kept_score  \\\n",
       "0  57046     6617           101      530         309114      1           1   \n",
       "1  57051     6617           101     3154         328659      1           1   \n",
       "2  57309     6617           103     1158         315038      1           1   \n",
       "3  57312     6617           103      247         303109      1           1   \n",
       "4  57331     6617           103     1232         322486      1           1   \n",
       "\n",
       "                 started_at                    end_at  \\\n",
       "0 2020-10-26 21:38:23+00:00 2020-11-21 07:59:59+00:00   \n",
       "1 2020-10-26 21:43:12+00:00 2020-11-21 07:59:59+00:00   \n",
       "2 2020-10-26 23:13:50+00:00 2020-11-21 07:59:59+00:00   \n",
       "3 2020-10-26 23:14:41+00:00 2020-11-21 07:59:59+00:00   \n",
       "4 2020-10-26 23:20:24+00:00 2020-11-21 07:59:59+00:00   \n",
       "\n",
       "                finished_at  attempt workflow_state  fudge_points  \\\n",
       "0 2020-10-26 21:46:11+00:00        1       complete           NaN   \n",
       "1 2020-10-27 23:49:39+00:00        1       complete           NaN   \n",
       "2 2020-10-28 00:18:02+00:00        1       complete           NaN   \n",
       "3 2020-11-21 07:59:59+00:00        1       complete           NaN   \n",
       "4 2020-10-26 23:20:43+00:00        1       complete           NaN   \n",
       "\n",
       "   quiz_points_possible  extra_attempts extra_time  manually_unlocked  \\\n",
       "0                     1             NaN        NaT                NaN   \n",
       "1                     1             NaN        NaT                NaN   \n",
       "2                     1             NaN        NaT                NaN   \n",
       "3                     1             NaN        NaT                NaN   \n",
       "4                     1             NaN        NaT                NaN   \n",
       "\n",
       "                                                   validation_token  \\\n",
       "0  d9fa7cec3dc1d1f13063935dd7769bb2d27eb0ec17039e56f0cbb33a1aa9a210   \n",
       "1  5cfce816547c268ec2c40d014942a1b31374541fe3d621f3bc0264a946a28f07   \n",
       "2  46563984d27a996c24bea3dcaba3ff0ddad608d665ae5057d729467f2e9795f0   \n",
       "3  c2850e5ebfbc7b2872fcd3ba72b752779d81751e10e72a1f2be0eb3cf5c265ac   \n",
       "4  6f96316920863b1ebf9302f9a0a9df0a9f07177c43a58c50499fa69c19de3e93   \n",
       "\n",
       "   score_before_regrade  has_seen_results  time_spent  attempts_left  \\\n",
       "0                   NaN               0.0         468              0   \n",
       "1                   NaN               0.0       93986              0   \n",
       "2                   NaN               0.0       90252              0   \n",
       "3                   NaN               NaN     2191517              0   \n",
       "4                   NaN               0.0          19              0   \n",
       "\n",
       "   overdue_and_needs_submission  excused?  \\\n",
       "0                         False     False   \n",
       "1                         False     False   \n",
       "2                         False     False   \n",
       "3                         False     False   \n",
       "4                         False     False   \n",
       "\n",
       "                                                                          html_url  \\\n",
       "0  https://lambdaschool.instructure.com/courses/495/quizzes/6617/submissions/57046   \n",
       "1  https://lambdaschool.instructure.com/courses/495/quizzes/6617/submissions/57051   \n",
       "2  https://lambdaschool.instructure.com/courses/495/quizzes/6617/submissions/57309   \n",
       "3  https://lambdaschool.instructure.com/courses/495/quizzes/6617/submissions/57312   \n",
       "4  https://lambdaschool.instructure.com/courses/495/quizzes/6617/submissions/57331   \n",
       "\n",
       "                                                                                                 result_url  \n",
       "0  https://lambdaschool.instructure.com/courses/495/quizzes/6617/history?quiz_submission_id=57046&version=1  \n",
       "1  https://lambdaschool.instructure.com/courses/495/quizzes/6617/history?quiz_submission_id=57051&version=1  \n",
       "2  https://lambdaschool.instructure.com/courses/495/quizzes/6617/history?quiz_submission_id=57309&version=1  \n",
       "3  https://lambdaschool.instructure.com/courses/495/quizzes/6617/history?quiz_submission_id=57312&version=1  \n",
       "4  https://lambdaschool.instructure.com/courses/495/quizzes/6617/history?quiz_submission_id=57331&version=1  "
      ],
      "text/html": "<div>\n<style scoped>\n    .dataframe tbody tr th:only-of-type {\n        vertical-align: middle;\n    }\n\n    .dataframe tbody tr th {\n        vertical-align: top;\n    }\n\n    .dataframe thead th {\n        text-align: right;\n    }\n</style>\n<table border=\"1\" class=\"dataframe\">\n  <thead>\n    <tr style=\"text-align: right;\">\n      <th></th>\n      <th>id</th>\n      <th>quiz_id</th>\n      <th>quiz_version</th>\n      <th>user_id</th>\n      <th>submission_id</th>\n      <th>score</th>\n      <th>kept_score</th>\n      <th>started_at</th>\n      <th>end_at</th>\n      <th>finished_at</th>\n      <th>attempt</th>\n      <th>workflow_state</th>\n      <th>fudge_points</th>\n      <th>quiz_points_possible</th>\n      <th>extra_attempts</th>\n      <th>extra_time</th>\n      <th>manually_unlocked</th>\n      <th>validation_token</th>\n      <th>score_before_regrade</th>\n      <th>has_seen_results</th>\n      <th>time_spent</th>\n      <th>attempts_left</th>\n      <th>overdue_and_needs_submission</th>\n      <th>excused?</th>\n      <th>html_url</th>\n      <th>result_url</th>\n    </tr>\n  </thead>\n  <tbody>\n    <tr>\n      <th>0</th>\n      <td>57046</td>\n      <td>6617</td>\n      <td>101</td>\n      <td>530</td>\n      <td>309114</td>\n      <td>1</td>\n      <td>1</td>\n      <td>2020-10-26 21:38:23+00:00</td>\n      <td>2020-11-21 07:59:59+00:00</td>\n      <td>2020-10-26 21:46:11+00:00</td>\n      <td>1</td>\n      <td>complete</td>\n      <td>NaN</td>\n      <td>1</td>\n      <td>NaN</td>\n      <td>NaT</td>\n      <td>NaN</td>\n      <td>d9fa7cec3dc1d1f13063935dd7769bb2d27eb0ec17039e56f0cbb33a1aa9a210</td>\n      <td>NaN</td>\n      <td>0.0</td>\n      <td>468</td>\n      <td>0</td>\n      <td>False</td>\n      <td>False</td>\n      <td>https://lambdaschool.instructure.com/courses/495/quizzes/6617/submissions/57046</td>\n      <td>https://lambdaschool.instructure.com/courses/495/quizzes/6617/history?quiz_submission_id=57046&amp;version=1</td>\n    </tr>\n    <tr>\n      <th>1</th>\n      <td>57051</td>\n      <td>6617</td>\n      <td>101</td>\n      <td>3154</td>\n      <td>328659</td>\n      <td>1</td>\n      <td>1</td>\n      <td>2020-10-26 21:43:12+00:00</td>\n      <td>2020-11-21 07:59:59+00:00</td>\n      <td>2020-10-27 23:49:39+00:00</td>\n      <td>1</td>\n      <td>complete</td>\n      <td>NaN</td>\n      <td>1</td>\n      <td>NaN</td>\n      <td>NaT</td>\n      <td>NaN</td>\n      <td>5cfce816547c268ec2c40d014942a1b31374541fe3d621f3bc0264a946a28f07</td>\n      <td>NaN</td>\n      <td>0.0</td>\n      <td>93986</td>\n      <td>0</td>\n      <td>False</td>\n      <td>False</td>\n      <td>https://lambdaschool.instructure.com/courses/495/quizzes/6617/submissions/57051</td>\n      <td>https://lambdaschool.instructure.com/courses/495/quizzes/6617/history?quiz_submission_id=57051&amp;version=1</td>\n    </tr>\n    <tr>\n      <th>2</th>\n      <td>57309</td>\n      <td>6617</td>\n      <td>103</td>\n      <td>1158</td>\n      <td>315038</td>\n      <td>1</td>\n      <td>1</td>\n      <td>2020-10-26 23:13:50+00:00</td>\n      <td>2020-11-21 07:59:59+00:00</td>\n      <td>2020-10-28 00:18:02+00:00</td>\n      <td>1</td>\n      <td>complete</td>\n      <td>NaN</td>\n      <td>1</td>\n      <td>NaN</td>\n      <td>NaT</td>\n      <td>NaN</td>\n      <td>46563984d27a996c24bea3dcaba3ff0ddad608d665ae5057d729467f2e9795f0</td>\n      <td>NaN</td>\n      <td>0.0</td>\n      <td>90252</td>\n      <td>0</td>\n      <td>False</td>\n      <td>False</td>\n      <td>https://lambdaschool.instructure.com/courses/495/quizzes/6617/submissions/57309</td>\n      <td>https://lambdaschool.instructure.com/courses/495/quizzes/6617/history?quiz_submission_id=57309&amp;version=1</td>\n    </tr>\n    <tr>\n      <th>3</th>\n      <td>57312</td>\n      <td>6617</td>\n      <td>103</td>\n      <td>247</td>\n      <td>303109</td>\n      <td>1</td>\n      <td>1</td>\n      <td>2020-10-26 23:14:41+00:00</td>\n      <td>2020-11-21 07:59:59+00:00</td>\n      <td>2020-11-21 07:59:59+00:00</td>\n      <td>1</td>\n      <td>complete</td>\n      <td>NaN</td>\n      <td>1</td>\n      <td>NaN</td>\n      <td>NaT</td>\n      <td>NaN</td>\n      <td>c2850e5ebfbc7b2872fcd3ba72b752779d81751e10e72a1f2be0eb3cf5c265ac</td>\n      <td>NaN</td>\n      <td>NaN</td>\n      <td>2191517</td>\n      <td>0</td>\n      <td>False</td>\n      <td>False</td>\n      <td>https://lambdaschool.instructure.com/courses/495/quizzes/6617/submissions/57312</td>\n      <td>https://lambdaschool.instructure.com/courses/495/quizzes/6617/history?quiz_submission_id=57312&amp;version=1</td>\n    </tr>\n    <tr>\n      <th>4</th>\n      <td>57331</td>\n      <td>6617</td>\n      <td>103</td>\n      <td>1232</td>\n      <td>322486</td>\n      <td>1</td>\n      <td>1</td>\n      <td>2020-10-26 23:20:24+00:00</td>\n      <td>2020-11-21 07:59:59+00:00</td>\n      <td>2020-10-26 23:20:43+00:00</td>\n      <td>1</td>\n      <td>complete</td>\n      <td>NaN</td>\n      <td>1</td>\n      <td>NaN</td>\n      <td>NaT</td>\n      <td>NaN</td>\n      <td>6f96316920863b1ebf9302f9a0a9df0a9f07177c43a58c50499fa69c19de3e93</td>\n      <td>NaN</td>\n      <td>0.0</td>\n      <td>19</td>\n      <td>0</td>\n      <td>False</td>\n      <td>False</td>\n      <td>https://lambdaschool.instructure.com/courses/495/quizzes/6617/submissions/57331</td>\n      <td>https://lambdaschool.instructure.com/courses/495/quizzes/6617/history?quiz_submission_id=57331&amp;version=1</td>\n    </tr>\n  </tbody>\n</table>\n</div>"
     },
     "metadata": {},
     "execution_count": 35
    }
   ],
   "source": [
    "sub_df_6617 = pd.read_json(\"submissions-6617.json\")\n",
    "sub_df_6617.head()"
   ]
  },
  {
   "cell_type": "code",
   "execution_count": 37,
   "metadata": {},
   "outputs": [
    {
     "output_type": "execute_result",
     "data": {
      "text/plain": [
       "<Response [200]>"
      ]
     },
     "metadata": {},
     "execution_count": 37
    }
   ],
   "source": [
    "r = requests.get(\"https://lambdaschool.instructure.com/api/v1/courses/495/quizzes/6617/submissions/57046/events\", headers=headers)\n",
    "r"
   ]
  },
  {
   "cell_type": "code",
   "execution_count": 38,
   "metadata": {},
   "outputs": [],
   "source": [
    "raw = r.json()[\"quiz_submission_events\"]\n",
    "for i in raw:\n",
    "    i[\"user_id\"] = 530"
   ]
  },
  {
   "cell_type": "code",
   "execution_count": 39,
   "metadata": {},
   "outputs": [],
   "source": [
    "with open(\"events-57046.json\", \"w\") as outfile:\n",
    "    json.dump(raw, outfile)"
   ]
  },
  {
   "cell_type": "code",
   "execution_count": 40,
   "metadata": {},
   "outputs": [
    {
     "output_type": "execute_result",
     "data": {
      "text/plain": [
       "                                                                                                                                                                                                                                                                                                                                                                                                                                                                                                                                                                                                                                                                                                                                                                                                                                                                                                                                                                                                                                                                                                                                                                                                                                                                              [22087]   \n",
       "5                                                                                                                                                                                                                                                                                                                                                                                                                                                                                                                                                                                                                                                                                                                                                                                                                                                                                                                                                                                                                                                                                                                                                                                                                                                                                                                                                                                                                                                                                                                                                                                                                                                                                                                                                                                                                                                                                                                                                                                                                                                                                                                                                                                                                                                                                                                                                                                                                                                                                                                                                                                                                                                                                                                                                                                                                                                                                                                                                                                                                                                                                                                                                                                                                                                                                                                                                                                                                                                                                                                                                                                                                                                                         {'user_agent': 'Mozilla/5.0 (Windows NT 10.0; Win64; x64) AppleWebKit/537.36 (KHTML, like Gecko) Chrome/86.0.4240.75 Safari/537.36'}   \n",
       "6                                                                                                                                                                                                                                                                                                                                                                                                                                                                                                                                                                                                                                                                                                                                                                                                                                                                                                                                                                                                                                                                                                                                                                                                                                                                                                                                                                                                                                                                                                                                                                                                                                                                                                                                                                                                                                                                                                                                                                                                                                                                                                                                                                                                                                                                                                                                                                                                                                                                                                                                                                                                                                                                                                                                                                                                                                                                                                                                                                                                                                                                                                                                                                                                                                                                                                                                                                                                                                                                                                                                                                                                                                                                                                                                                        [{'quiz_question_id': '22087', 'answer': '<p>T</p>'}]   \n",
       "7                                                                                                                                                                                                                                                                                                                                                                                                                                                                                                                                                                                                                                                                                                                                                                                                                                                                                                                                                                                                                                                                                                                                                                                                                                                                                                                                                                                                                                                                                                                                                                                                                                                                                                                                                                                                                                                                                                                                                                                                                                                                                                                                                                                                                                                                                                                                                                                                                                                                                                                                                                                                                                                                                                                                                                                                                                                                                                                                                                                                                                                                                                                                                                                                                                                                                                                                                                                                                                                                                                                                                                                                                                                                                                                                                                                                      [22085]   \n",
       "8                                                                                                                                                                                                                                                                                                                                                                                                                                                                                                                                                                                                                                                                                                                                                                                                                                                                                                                                                                                                                                                                                                                                                                                                                                                                                                                                                                                                                                                                                                                                                                                                                                                                                                                                                                                                                                                                                                                                                                                                                                                                                                                                                                                                                                                                                                                                                                                                                                                                                                                                                                                                                                                                                                                                                                                                                                                                                                                                                                                                                                                                                                                                                                                                                                                                                                                                                                                                                                                                                                                                                                                                                                                                                                                       [{'quiz_question_id': '22087', 'answer': '<p>There are always going to be&nbsp;</p>'}]   \n",
       "9                                                                                                                                                                                                                                                                                                                                                                                                                                                                                                                                                                                                                                                                                                                                                                                                                                                                                                                                                                                                                                                                                                                                                                                                                                                                                                                                                                                                                                                                                                                                                                                                                                                                                                                                                                                                                                                                                                                                                                                                                                                                                                                                                                                                                                                                                                                                                                                                                                                                                                                                                                                                                                                                                                                                                                                                                                                                                                                                                                                                                                                                                                                                                                                                                                                                                                                                                                                                                                                                                                                                                                                                     [{'quiz_question_id': '22087', 'answer': '<p>There are always going to be different tendencies and personalities in the workplace, but it is important that you learn to get along with your co-w</p>'}]   \n",
       "\n",
       "                 created_at  user_id  \n",
       "0 2020-10-26 21:38:23+00:00      530  \n",
       "1 2020-10-26 21:38:24+00:00      530  \n",
       "2 2020-10-26 21:38:40+00:00      530  \n",
       "3 2020-10-26 21:38:40+00:00      530  \n",
       "4 2020-10-26 21:38:40+00:00      530  \n",
       "5 2020-10-26 21:45:05+00:00      530  \n",
       "6 2020-10-26 21:45:10+00:00      530  \n",
       "7 2020-10-26 21:45:20+00:00      530  \n",
       "8 2020-10-26 21:45:20+00:00      530  \n",
       "9 2020-10-26 21:45:50+00:00      530  "
      ],
      "text/html": "<div>\n<style scoped>\n    .dataframe tbody tr th:only-of-type {\n        vertical-align: middle;\n    }\n\n    .dataframe tbody tr th {\n        vertical-align: top;\n    }\n\n    .dataframe thead th {\n        text-align: right;\n    }\n</style>\n<table border=\"1\" class=\"dataframe\">\n  <thead>\n    <tr style=\"text-align: right;\">\n      <th></th>\n      <th>id</th>\n      <th>event_type</th>\n      <th>event_data</th>\n      <th>created_at</th>\n      <th>user_id</th>\n    </tr>\n  </thead>\n  <tbody>\n    <tr>\n      <th>0</th>\n      <td>641105</td>\n      <td>submission_created</td>\n      <td>{'quiz_version': 101, 'quiz_data': [{'answers': [{'weight': 100, 'text': 'answer_text', 'id': 2598, 'numerical_answer_type': 'exact_answer', 'exact': 1.0, 'margin': 0.0}, {'weight': 100, 'text': 'answer_text', 'id': 2967, 'numerical_answer_type': 'exact_answer', 'exact': 2.0, 'margin': 0.0}, {'weight': 100, 'text': 'answer_text', 'id': 1988, 'numerical_answer_type': 'exact_answer', 'exact': 3.0, 'margin': 0.0}], 'correct_comments': '', 'incorrect_comments': '', 'question_text': '&lt;div id=\"t-formula-bar-input-container\"&gt;\n&lt;div dir=\"ltr\"&gt;\n&lt;div id=\"t-formula-bar-input\"&gt;\n&lt;p class=\"cell-input disabled-input\" dir=\"ltr\" role=\"combobox\" aria-autocomplete=\"list\"&gt;How did your orientation go today?&lt;/p&gt;\n&lt;p class=\"cell-input disabled-input\" dir=\"ltr\" role=\"combobox\" aria-autocomplete=\"list\"&gt;&lt;span style=\"color: #1d1c1d; font-family: Slack-Lato, appleLogo, sans-serif; font-size: 12pt; font-style: normal; font-weight: 400; text-align: left; text-indent: 0px; white-space: normal; background-color: #ffffff; display: inline !important; float: none;\"&gt;Answer on a scale of 1-3, where 1 = below expectations, 2 = met expectations, and 3 = exceeded expectations.&lt;/span&gt;&lt;/p&gt;\n&lt;/div&gt;\n&lt;/div&gt;\n&lt;/div&gt;', 'question_type': 'numerical_question', 'question_name': 'Question 1', 'migration_id': 'mastercourse_16855_145_dbe668329244508a33f6459f4759c677', 'points_possible': 1.0, 'assessment_question_migration_id': 'mastercourse_16855_145_f47b767d37e06559ff801f2d253307ba', 'question_bank_name': 'Sprint 1, Module 2 - Mentor/Mentee Orientation', 'question_bank_migration_id': 'i594b28f22fd550093f9e8edb8aefa1c6', 'is_quiz_question_bank': True, 'prepped_for_import': True, 'position': 1, 'id': 22085, 'assessment_question_id': None, 'published_at': '2020-10-26T20:44:17+00:00', 'name': 'Question 1'}, {'answers': [], 'correct_comments': '', 'incorrect_comments': '', 'question_text': '&lt;div id=\"t-formula-bar-input-container\"&gt;\n&lt;div dir=\"ltr\"&gt;\n&lt;div id=\"t-formula-bar-input\"&gt;\n&lt;p class=\"cell-input disabled-input\" dir=\"ltr\" role=\"combobox\" aria-autocomplete=\"list\"&gt;What is one key take-away you've gained from today's session?&lt;/p&gt;\n&lt;/div&gt;\n&lt;/div&gt;\n&lt;/div&gt;', 'question_name': 'Question 2', 'migration_id': 'mastercourse_16855_145_593232abad6356f1961dfba33cc0392f', 'points_possible': 1.0, 'assessment_question_migration_id': 'mastercourse_16855_145_f47b767d37e06559ff801f2d253307ba', 'question_type': 'essay_question', 'question_bank_name': 'Sprint 1, Module 2 - Mentor/Mentee Orientation', 'question_bank_migration_id': 'i594b28f22fd550093f9e8edb8aefa1c6', 'is_quiz_question_bank': True, 'prepped_for_import': True, 'position': 2, 'id': 22087, 'assessment_question_id': None, 'published_at': '2020-10-26T20:44:17+00:00', 'name': 'Question 2'}, {'answers': [], 'correct_comments': '', 'incorrect_comments': '', 'question_text': '&lt;div id=\"t-formula-bar-input-container\"&gt;\n&lt;div dir=\"ltr\"&gt;\n&lt;div id=\"t-formula-bar-input\"&gt;\n&lt;p class=\"cell-input disabled-input\" dir=\"ltr\" role=\"combobox\" aria-autocomplete=\"list\"&gt;&lt;span&gt;Do you have any questions or anything we should know about?&lt;/span&gt;&lt;/p&gt;\n&lt;/div&gt;\n&lt;/div&gt;\n&lt;/div&gt;', 'question_name': 'Question 3', 'migration_id': 'mastercourse_16855_145_b5f72156ed2d2464e6d21f8e57feb68e', 'points_possible': 1.0, 'assessment_question_migration_id': 'mastercourse_16855_145_f47b767d37e06559ff801f2d253307ba', 'question_type': 'essay_question', 'question_bank_name': 'Sprint 1, Module 2 - Mentor/Mentee Orientation', 'question_bank_migration_id': 'i594b28f22fd550093f9e8edb8aefa1c6', 'is_quiz_question_bank': True, 'prepped_for_import': True, 'position': 3, 'id': 22089, 'assessment_question_id': None, 'published_at': '2020-10-26T20:44:17+00:00', 'name': 'Question 3'}]}</td>\n      <td>2020-10-26 21:38:23+00:00</td>\n      <td>530</td>\n    </tr>\n    <tr>\n      <th>1</th>\n      <td>641106</td>\n      <td>session_started</td>\n      <td>{'user_agent': 'Mozilla/5.0 (Windows NT 10.0; Win64; x64) AppleWebKit/537.36 (KHTML, like Gecko) Chrome/86.0.4240.75 Safari/537.36'}</td>\n      <td>2020-10-26 21:38:24+00:00</td>\n      <td>530</td>\n    </tr>\n    <tr>\n      <th>2</th>\n      <td>641108</td>\n      <td>question_viewed</td>\n      <td>[22085]</td>\n      <td>2020-10-26 21:38:40+00:00</td>\n      <td>530</td>\n    </tr>\n    <tr>\n      <th>3</th>\n      <td>641109</td>\n      <td>question_answered</td>\n      <td>[{'quiz_question_id': '22085', 'answer': 3.0}, {'quiz_question_id': '22087', 'answer': None}, {'quiz_question_id': '22089', 'answer': None}]</td>\n      <td>2020-10-26 21:38:40+00:00</td>\n      <td>530</td>\n    </tr>\n    <tr>\n      <th>4</th>\n      <td>641110</td>\n      <td>question_viewed</td>\n      <td>[22087]</td>\n      <td>2020-10-26 21:38:40+00:00</td>\n      <td>530</td>\n    </tr>\n    <tr>\n      <th>5</th>\n      <td>641216</td>\n      <td>session_started</td>\n      <td>{'user_agent': 'Mozilla/5.0 (Windows NT 10.0; Win64; x64) AppleWebKit/537.36 (KHTML, like Gecko) Chrome/86.0.4240.75 Safari/537.36'}</td>\n      <td>2020-10-26 21:45:05+00:00</td>\n      <td>530</td>\n    </tr>\n    <tr>\n      <th>6</th>\n      <td>641218</td>\n      <td>question_answered</td>\n      <td>[{'quiz_question_id': '22087', 'answer': '&lt;p&gt;T&lt;/p&gt;'}]</td>\n      <td>2020-10-26 21:45:10+00:00</td>\n      <td>530</td>\n    </tr>\n    <tr>\n      <th>7</th>\n      <td>641221</td>\n      <td>question_viewed</td>\n      <td>[22085]</td>\n      <td>2020-10-26 21:45:20+00:00</td>\n      <td>530</td>\n    </tr>\n    <tr>\n      <th>8</th>\n      <td>641222</td>\n      <td>question_answered</td>\n      <td>[{'quiz_question_id': '22087', 'answer': '&lt;p&gt;There are always going to be&amp;nbsp;&lt;/p&gt;'}]</td>\n      <td>2020-10-26 21:45:20+00:00</td>\n      <td>530</td>\n    </tr>\n    <tr>\n      <th>9</th>\n      <td>641231</td>\n      <td>question_answered</td>\n      <td>[{'quiz_question_id': '22087', 'answer': '&lt;p&gt;There are always going to be different tendencies and personalities in the workplace, but it is important that you learn to get along with your co-w&lt;/p&gt;'}]</td>\n      <td>2020-10-26 21:45:50+00:00</td>\n      <td>530</td>\n    </tr>\n  </tbody>\n</table>\n</div>"
     },
     "metadata": {},
     "execution_count": 40
    }
   ],
   "source": [
    "events_df_57046 = pd.read_json(\"events-57046.json\")\n",
    "events_df_57046"
   ]
  },
  {
   "cell_type": "code",
   "execution_count": 16,
   "metadata": {},
   "outputs": [],
   "source": [
    "def get_submissions(r):\n",
    "    \"\"\"Creates a small list of jsons\n",
    "    that can be made into a file very easily\n",
    "    then converted to a dataframe for exploration\n",
    "    This particular design is just for grabbing pagniated\n",
    "    information from the api and returning it in a useful\n",
    "    way.\n",
    "    Usage:\n",
    "    jsons = get_submissions(valid_api_request)\"\"\"\n",
    "    data_set = []\n",
    "    raw = r.json()\n",
    "\n",
    "    for submission in raw:\n",
    "        data_set.append(submission)\n",
    "\n",
    "    if \"next\" in r.links.keys():\n",
    "        while \"next\" in r.links.keys():\n",
    "            r = requests.get(r.links[\"next\"][\"url\"], headers=headers)\n",
    "            raw = r.json()\n",
    "            for submission in raw:\n",
    "                data_set.append(submission)\n",
    "        if \"last\" in r.links.keys() and r.links['current']['url'] == r.links['last']['url']:\n",
    "            print('Done!')\n",
    "    else:\n",
    "        print(\"Just one page!\")\n",
    "    return data_set"
   ]
  },
  {
   "cell_type": "code",
   "execution_count": 15,
   "metadata": {},
   "outputs": [
    {
     "output_type": "stream",
     "name": "stdout",
     "text": [
      "2.0\n"
     ]
    }
   ],
   "source": [
    "\n",
    "def get_answer(df):\n",
    "    for i in df[\"event_data\"]:\n",
    "        if isinstance(i, list) and isinstance(i[0], str)==False:\n",
    "            if \"22635\" in i[0].values():\n",
    "                print(i[0][\"answer\"])\n",
    "get_answer(events_df_56623)"
   ]
  },
  {
   "cell_type": "code",
   "execution_count": 17,
   "metadata": {},
   "outputs": [
    {
     "output_type": "execute_result",
     "data": {
      "text/plain": [
       "<Response [200]>"
      ]
     },
     "metadata": {},
     "execution_count": 17
    }
   ],
   "source": [
    "course_id = 495\n",
    "quiz_id = 6780\n",
    "submission_id = 56623\n",
    "r = requests.get(f\"https://lambdaschool.instructure.com/api/v1/courses/{course_id}/quizzes/{quiz_id}/submissions/{submission_id}/events\", headers=headers)\n",
    "r"
   ]
  },
  {
   "cell_type": "code",
   "execution_count": null,
   "metadata": {},
   "outputs": [],
   "source": []
  }
 ]
}