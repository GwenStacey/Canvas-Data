{
 "metadata": {
  "language_info": {
   "codemirror_mode": {
    "name": "ipython",
    "version": 3
   },
   "file_extension": ".py",
   "mimetype": "text/x-python",
   "name": "python",
   "nbconvert_exporter": "python",
   "pygments_lexer": "ipython3",
   "version": "3.8.5-final"
  },
  "orig_nbformat": 2,
  "kernelspec": {
   "name": "canvas-data",
   "display_name": "canvas-data",
   "language": "python"
  }
 },
 "nbformat": 4,
 "nbformat_minor": 2,
 "cells": [
  {
   "cell_type": "code",
   "execution_count": 1,
   "metadata": {},
   "outputs": [
    {
     "output_type": "execute_result",
     "data": {
      "text/plain": [
       "True"
      ]
     },
     "metadata": {},
     "execution_count": 1
    }
   ],
   "source": [
    "import os\n",
    "import json\n",
    "import requests\n",
    "from dotenv import load_dotenv\n",
    "\n",
    "load_dotenv()"
   ]
  },
  {
   "cell_type": "code",
   "execution_count": 2,
   "metadata": {},
   "outputs": [],
   "source": [
    "import pandas as pd\n",
    "\n",
    "pd.set_option(\"display.max_columns\", None)\n",
    "pd.set_option(\"display.max_colwidth\", None)"
   ]
  },
  {
   "cell_type": "code",
   "execution_count": 3,
   "metadata": {},
   "outputs": [],
   "source": [
    "api_key = os.getenv(\"API-KEY\")\n",
    "headers = {\"Authorization\":\n",
    "           f\"Bearer {api_key}\"}"
   ]
  },
  {
   "cell_type": "code",
   "execution_count": 6,
   "metadata": {},
   "outputs": [],
   "source": [
    "def get_quizzes(course_id, headers):\n",
    "    r = requests.get(f\"https://lambdaschool.instructure.com/api/v1/courses/{course_id}/quizzes\", headers=headers)\n",
    "    raw = r.json()\n",
    "    for i in raw:\n",
    "        i[\"course_id\"] = course_id\n",
    "    return raw"
   ]
  },
  {
   "cell_type": "code",
   "execution_count": 37,
   "metadata": {},
   "outputs": [],
   "source": [
    "def get_submissions(course_id, quiz_id):\n",
    "    \"\"\"Creates a small list of jsons\n",
    "    that can be made into a file very easily\n",
    "    then converted to a dataframe for exploration\n",
    "    This particular design is just for grabbing pagniated\n",
    "    information from the api and returning it in a useful\n",
    "    way.\n",
    "    Usage:\n",
    "    Example ids used, not real\n",
    "    jsons = get_submissions(400, 1000)\n",
    "    with open(\"some_json_title.json\", \"w\") as outfile:\n",
    "        json.dump(data_set, outfile)\n",
    "    \"\"\"\n",
    "    r = requests.get(f\"https://lambdaschool.instructure.com/api/v1/courses/{course_id}/quizzes/{quiz_id}/submissions\", headers=headers)\n",
    "    data_set = []\n",
    "    raw = r.json()\n",
    "\n",
    "    for submission in raw[\"quiz_submissions\"]:\n",
    "        submission[\"course_id\"] = course_id\n",
    "        submission[\"quiz_id\"] = quiz_id\n",
    "        data_set.append(submission)\n",
    "\n",
    "    if \"next\" in r.links.keys():\n",
    "        while \"next\" in r.links.keys():\n",
    "            r = requests.get(r.links[\"next\"][\"url\"], headers=headers)\n",
    "            raw = r.json()\n",
    "            for submission in raw[\"quiz_submissions\"]:\n",
    "                submission[\"course_id\"] = course_id\n",
    "                submission[\"quiz_id\"] = quiz_id\n",
    "                data_set.append(submission)\n",
    "        if \"last\" in r.links.keys() and r.links['current']['url'] == r.links['last']['url']:\n",
    "            print('Done!')\n",
    "    else:\n",
    "        print(\"Just one page!\")\n",
    "    return data_set"
   ]
  },
  {
   "cell_type": "code",
   "execution_count": 4,
   "metadata": {},
   "outputs": [
    {
     "output_type": "execute_result",
     "data": {
      "text/plain": [
       "<Response [200]>"
      ]
     },
     "metadata": {},
     "execution_count": 4
    }
   ],
   "source": [
    "r = requests.get(\"https://lambdaschool.instructure.com/api/v1/accounts/1/courses?search_by=course&search_term=LLP&per_page=100\", headers=headers)\n",
    "r"
   ]
  },
  {
   "cell_type": "code",
   "execution_count": 5,
   "metadata": {},
   "outputs": [],
   "source": [
    "raw = r.json()\n",
    "\n",
    "with open(\"LLP-Courses.json\", \"w\") as outfile:\n",
    "    json.dump(raw, outfile)"
   ]
  },
  {
   "cell_type": "code",
   "execution_count": 8,
   "metadata": {},
   "outputs": [
    {
     "output_type": "execute_result",
     "data": {
      "text/plain": [
       "    id                                      name  account_id  \\\n",
       "0  190        Lambda Leadership Program - Unit 2           1   \n",
       "1  283   Lambda Leadership - Rotation C Template           1   \n",
       "2  330         Lambda Leadership - Rotation C PT           1   \n",
       "3  331         Lambda Leadership - Rotation C FT           1   \n",
       "4  365  Lambda Leadership - Rotation C FT - LABS           1   \n",
       "\n",
       "                                       uuid                  start_at  \\\n",
       "0  J9daOUmhhQcLwEinxnXTJNRH86tZjobdOone45U1                       NaT   \n",
       "1  nwdlOihsde1UVKa4ijri9IupJuAJMQL2zSaIVlyG 2020-09-21 16:04:00+00:00   \n",
       "2  vRJPG8f5QRK6ungHvYamiOiGU2n4P9mKwwdKvA7s 2020-09-21 16:04:00+00:00   \n",
       "3  2gVSLHMWasuDBJpSomMzFwcI38EFs0qv3i1E5WLw 2020-09-21 16:04:00+00:00   \n",
       "4  uWxZkmEaLcb74oS1EZAESDX82zzXQrgpV6d54BBH 2020-09-23 23:47:00+00:00   \n",
       "\n",
       "   grading_standard_id  is_public                created_at  \\\n",
       "0                  NaN        0.0 2020-08-17 17:13:20+00:00   \n",
       "1                  NaN        0.0 2020-09-14 15:00:02+00:00   \n",
       "2                  NaN        0.0 2020-09-22 15:51:59+00:00   \n",
       "3                  NaN        0.0 2020-09-22 15:52:34+00:00   \n",
       "4                  NaN        0.0 2020-09-23 23:36:41+00:00   \n",
       "\n",
       "          course_code default_view  root_account_id  enrollment_term_id  \\\n",
       "0           LLP_unit2         wiki                1                 103   \n",
       "1  LLP_C_Template_Old         wiki                1                   1   \n",
       "2         LLP_PT_2009         wiki                1                 103   \n",
       "3         LLP_FT_2009         wiki                1                 103   \n",
       "4     LLP_FT_2009LABS         wiki                1                 103   \n",
       "\n",
       "   license  grade_passback_setting                    end_at  public_syllabus  \\\n",
       "0  private                     NaN 2020-12-07 08:00:00+00:00            False   \n",
       "1  private                     NaN                       NaT            False   \n",
       "2  private                     NaN 2020-11-23 07:00:00+00:00            False   \n",
       "3  private                     NaN 2020-10-26 06:00:00+00:00            False   \n",
       "4  private                     NaN 2020-10-26 06:00:00+00:00            False   \n",
       "\n",
       "   public_syllabus_to_auth  storage_quota_mb  is_public_to_auth_users  \\\n",
       "0                    False              2000                    False   \n",
       "1                    False              2000                    False   \n",
       "2                    False              2000                    False   \n",
       "3                    False              2000                    False   \n",
       "4                    False              2000                    False   \n",
       "\n",
       "   apply_assignment_group_weights  \\\n",
       "0                           False   \n",
       "1                           False   \n",
       "2                           False   \n",
       "3                           False   \n",
       "4                           False   \n",
       "\n",
       "                                                                                                              calendar  \\\n",
       "0  {'ics': 'https://lambdaschool.instructure.com/feeds/calendars/course_J9daOUmhhQcLwEinxnXTJNRH86tZjobdOone45U1.ics'}   \n",
       "1  {'ics': 'https://lambdaschool.instructure.com/feeds/calendars/course_nwdlOihsde1UVKa4ijri9IupJuAJMQL2zSaIVlyG.ics'}   \n",
       "2  {'ics': 'https://lambdaschool.instructure.com/feeds/calendars/course_vRJPG8f5QRK6ungHvYamiOiGU2n4P9mKwwdKvA7s.ics'}   \n",
       "3  {'ics': 'https://lambdaschool.instructure.com/feeds/calendars/course_2gVSLHMWasuDBJpSomMzFwcI38EFs0qv3i1E5WLw.ics'}   \n",
       "4  {'ics': 'https://lambdaschool.instructure.com/feeds/calendars/course_uWxZkmEaLcb74oS1EZAESDX82zzXQrgpV6d54BBH.ics'}   \n",
       "\n",
       "        time_zone  blueprint       sis_course_id  sis_import_id  \\\n",
       "0  America/Denver      False                None            NaN   \n",
       "1  America/Denver       True  LLP_C_Template_Old            NaN   \n",
       "2  America/Denver      False         LLP_PT_2009            NaN   \n",
       "3  America/Denver      False         LLP_FT_2009            NaN   \n",
       "4  America/Denver      False     LLP_FT_2009LABS            NaN   \n",
       "\n",
       "   integration_id  hide_final_grades workflow_state  \\\n",
       "0             NaN              False    unpublished   \n",
       "1             NaN              False      available   \n",
       "2             NaN              False      available   \n",
       "3             NaN              False      available   \n",
       "4             NaN              False      available   \n",
       "\n",
       "   restrict_enrollments_to_course_dates overridden_course_visibility  \\\n",
       "0                                  True                                \n",
       "1                                 False                                \n",
       "2                                  True                                \n",
       "3                                  True                                \n",
       "4                                  True                                \n",
       "\n",
       "                                                                 blueprint_restrictions  \\\n",
       "0                                                                                   NaN   \n",
       "1  {'content': False, 'points': False, 'due_dates': False, 'availability_dates': False}   \n",
       "2                                                                                   NaN   \n",
       "3                                                                                   NaN   \n",
       "4                                                                                   NaN   \n",
       "\n",
       "  course_format  \n",
       "0           NaN  \n",
       "1           NaN  \n",
       "2           NaN  \n",
       "3           NaN  \n",
       "4           NaN  "
      ],
      "text/html": "<div>\n<style scoped>\n    .dataframe tbody tr th:only-of-type {\n        vertical-align: middle;\n    }\n\n    .dataframe tbody tr th {\n        vertical-align: top;\n    }\n\n    .dataframe thead th {\n        text-align: right;\n    }\n</style>\n<table border=\"1\" class=\"dataframe\">\n  <thead>\n    <tr style=\"text-align: right;\">\n      <th></th>\n      <th>id</th>\n      <th>name</th>\n      <th>account_id</th>\n      <th>uuid</th>\n      <th>start_at</th>\n      <th>grading_standard_id</th>\n      <th>is_public</th>\n      <th>created_at</th>\n      <th>course_code</th>\n      <th>default_view</th>\n      <th>root_account_id</th>\n      <th>enrollment_term_id</th>\n      <th>license</th>\n      <th>grade_passback_setting</th>\n      <th>end_at</th>\n      <th>public_syllabus</th>\n      <th>public_syllabus_to_auth</th>\n      <th>storage_quota_mb</th>\n      <th>is_public_to_auth_users</th>\n      <th>apply_assignment_group_weights</th>\n      <th>calendar</th>\n      <th>time_zone</th>\n      <th>blueprint</th>\n      <th>sis_course_id</th>\n      <th>sis_import_id</th>\n      <th>integration_id</th>\n      <th>hide_final_grades</th>\n      <th>workflow_state</th>\n      <th>restrict_enrollments_to_course_dates</th>\n      <th>overridden_course_visibility</th>\n      <th>blueprint_restrictions</th>\n      <th>course_format</th>\n    </tr>\n  </thead>\n  <tbody>\n    <tr>\n      <th>0</th>\n      <td>190</td>\n      <td>Lambda Leadership Program - Unit 2</td>\n      <td>1</td>\n      <td>J9daOUmhhQcLwEinxnXTJNRH86tZjobdOone45U1</td>\n      <td>NaT</td>\n      <td>NaN</td>\n      <td>0.0</td>\n      <td>2020-08-17 17:13:20+00:00</td>\n      <td>LLP_unit2</td>\n      <td>wiki</td>\n      <td>1</td>\n      <td>103</td>\n      <td>private</td>\n      <td>NaN</td>\n      <td>2020-12-07 08:00:00+00:00</td>\n      <td>False</td>\n      <td>False</td>\n      <td>2000</td>\n      <td>False</td>\n      <td>False</td>\n      <td>{'ics': 'https://lambdaschool.instructure.com/feeds/calendars/course_J9daOUmhhQcLwEinxnXTJNRH86tZjobdOone45U1.ics'}</td>\n      <td>America/Denver</td>\n      <td>False</td>\n      <td>None</td>\n      <td>NaN</td>\n      <td>NaN</td>\n      <td>False</td>\n      <td>unpublished</td>\n      <td>True</td>\n      <td></td>\n      <td>NaN</td>\n      <td>NaN</td>\n    </tr>\n    <tr>\n      <th>1</th>\n      <td>283</td>\n      <td>Lambda Leadership - Rotation C Template</td>\n      <td>1</td>\n      <td>nwdlOihsde1UVKa4ijri9IupJuAJMQL2zSaIVlyG</td>\n      <td>2020-09-21 16:04:00+00:00</td>\n      <td>NaN</td>\n      <td>0.0</td>\n      <td>2020-09-14 15:00:02+00:00</td>\n      <td>LLP_C_Template_Old</td>\n      <td>wiki</td>\n      <td>1</td>\n      <td>1</td>\n      <td>private</td>\n      <td>NaN</td>\n      <td>NaT</td>\n      <td>False</td>\n      <td>False</td>\n      <td>2000</td>\n      <td>False</td>\n      <td>False</td>\n      <td>{'ics': 'https://lambdaschool.instructure.com/feeds/calendars/course_nwdlOihsde1UVKa4ijri9IupJuAJMQL2zSaIVlyG.ics'}</td>\n      <td>America/Denver</td>\n      <td>True</td>\n      <td>LLP_C_Template_Old</td>\n      <td>NaN</td>\n      <td>NaN</td>\n      <td>False</td>\n      <td>available</td>\n      <td>False</td>\n      <td></td>\n      <td>{'content': False, 'points': False, 'due_dates': False, 'availability_dates': False}</td>\n      <td>NaN</td>\n    </tr>\n    <tr>\n      <th>2</th>\n      <td>330</td>\n      <td>Lambda Leadership - Rotation C PT</td>\n      <td>1</td>\n      <td>vRJPG8f5QRK6ungHvYamiOiGU2n4P9mKwwdKvA7s</td>\n      <td>2020-09-21 16:04:00+00:00</td>\n      <td>NaN</td>\n      <td>0.0</td>\n      <td>2020-09-22 15:51:59+00:00</td>\n      <td>LLP_PT_2009</td>\n      <td>wiki</td>\n      <td>1</td>\n      <td>103</td>\n      <td>private</td>\n      <td>NaN</td>\n      <td>2020-11-23 07:00:00+00:00</td>\n      <td>False</td>\n      <td>False</td>\n      <td>2000</td>\n      <td>False</td>\n      <td>False</td>\n      <td>{'ics': 'https://lambdaschool.instructure.com/feeds/calendars/course_vRJPG8f5QRK6ungHvYamiOiGU2n4P9mKwwdKvA7s.ics'}</td>\n      <td>America/Denver</td>\n      <td>False</td>\n      <td>LLP_PT_2009</td>\n      <td>NaN</td>\n      <td>NaN</td>\n      <td>False</td>\n      <td>available</td>\n      <td>True</td>\n      <td></td>\n      <td>NaN</td>\n      <td>NaN</td>\n    </tr>\n    <tr>\n      <th>3</th>\n      <td>331</td>\n      <td>Lambda Leadership - Rotation C FT</td>\n      <td>1</td>\n      <td>2gVSLHMWasuDBJpSomMzFwcI38EFs0qv3i1E5WLw</td>\n      <td>2020-09-21 16:04:00+00:00</td>\n      <td>NaN</td>\n      <td>0.0</td>\n      <td>2020-09-22 15:52:34+00:00</td>\n      <td>LLP_FT_2009</td>\n      <td>wiki</td>\n      <td>1</td>\n      <td>103</td>\n      <td>private</td>\n      <td>NaN</td>\n      <td>2020-10-26 06:00:00+00:00</td>\n      <td>False</td>\n      <td>False</td>\n      <td>2000</td>\n      <td>False</td>\n      <td>False</td>\n      <td>{'ics': 'https://lambdaschool.instructure.com/feeds/calendars/course_2gVSLHMWasuDBJpSomMzFwcI38EFs0qv3i1E5WLw.ics'}</td>\n      <td>America/Denver</td>\n      <td>False</td>\n      <td>LLP_FT_2009</td>\n      <td>NaN</td>\n      <td>NaN</td>\n      <td>False</td>\n      <td>available</td>\n      <td>True</td>\n      <td></td>\n      <td>NaN</td>\n      <td>NaN</td>\n    </tr>\n    <tr>\n      <th>4</th>\n      <td>365</td>\n      <td>Lambda Leadership - Rotation C FT - LABS</td>\n      <td>1</td>\n      <td>uWxZkmEaLcb74oS1EZAESDX82zzXQrgpV6d54BBH</td>\n      <td>2020-09-23 23:47:00+00:00</td>\n      <td>NaN</td>\n      <td>0.0</td>\n      <td>2020-09-23 23:36:41+00:00</td>\n      <td>LLP_FT_2009LABS</td>\n      <td>wiki</td>\n      <td>1</td>\n      <td>103</td>\n      <td>private</td>\n      <td>NaN</td>\n      <td>2020-10-26 06:00:00+00:00</td>\n      <td>False</td>\n      <td>False</td>\n      <td>2000</td>\n      <td>False</td>\n      <td>False</td>\n      <td>{'ics': 'https://lambdaschool.instructure.com/feeds/calendars/course_uWxZkmEaLcb74oS1EZAESDX82zzXQrgpV6d54BBH.ics'}</td>\n      <td>America/Denver</td>\n      <td>False</td>\n      <td>LLP_FT_2009LABS</td>\n      <td>NaN</td>\n      <td>NaN</td>\n      <td>False</td>\n      <td>available</td>\n      <td>True</td>\n      <td></td>\n      <td>NaN</td>\n      <td>NaN</td>\n    </tr>\n  </tbody>\n</table>\n</div>"
     },
     "metadata": {},
     "execution_count": 8
    }
   ],
   "source": [
    "llp_courses_df = pd.read_json(\"LLP-Courses.json\")\n",
    "llp_courses_df.head()"
   ]
  },
  {
   "cell_type": "code",
   "execution_count": 9,
   "metadata": {},
   "outputs": [
    {
     "output_type": "execute_result",
     "data": {
      "text/plain": [
       "    id                                      name  account_id  \\\n",
       "0  190        Lambda Leadership Program - Unit 2           1   \n",
       "2  330         Lambda Leadership - Rotation C PT           1   \n",
       "3  331         Lambda Leadership - Rotation C FT           1   \n",
       "4  365  Lambda Leadership - Rotation C FT - LABS           1   \n",
       "5  366  Lambda Leadership - Rotation C PT - LABS           1   \n",
       "\n",
       "                                       uuid                  start_at  \\\n",
       "0  J9daOUmhhQcLwEinxnXTJNRH86tZjobdOone45U1                       NaT   \n",
       "2  vRJPG8f5QRK6ungHvYamiOiGU2n4P9mKwwdKvA7s 2020-09-21 16:04:00+00:00   \n",
       "3  2gVSLHMWasuDBJpSomMzFwcI38EFs0qv3i1E5WLw 2020-09-21 16:04:00+00:00   \n",
       "4  uWxZkmEaLcb74oS1EZAESDX82zzXQrgpV6d54BBH 2020-09-23 23:47:00+00:00   \n",
       "5  AYSKbWrvCW3JiOUsmyELDOPg6vggoofc923Rlvnf 2020-09-23 23:52:12+00:00   \n",
       "\n",
       "   grading_standard_id  is_public                created_at      course_code  \\\n",
       "0                  NaN        0.0 2020-08-17 17:13:20+00:00        LLP_unit2   \n",
       "2                  NaN        0.0 2020-09-22 15:51:59+00:00      LLP_PT_2009   \n",
       "3                  NaN        0.0 2020-09-22 15:52:34+00:00      LLP_FT_2009   \n",
       "4                  NaN        0.0 2020-09-23 23:36:41+00:00  LLP_FT_2009LABS   \n",
       "5                  NaN        0.0 2020-09-23 23:49:39+00:00  LLP_PT_2009LABS   \n",
       "\n",
       "  default_view  root_account_id  enrollment_term_id  license  \\\n",
       "0         wiki                1                 103  private   \n",
       "2         wiki                1                 103  private   \n",
       "3         wiki                1                 103  private   \n",
       "4         wiki                1                 103  private   \n",
       "5         wiki                1                 103  private   \n",
       "\n",
       "   grade_passback_setting                    end_at  public_syllabus  \\\n",
       "0                     NaN 2020-12-07 08:00:00+00:00            False   \n",
       "2                     NaN 2020-11-23 07:00:00+00:00            False   \n",
       "3                     NaN 2020-10-26 06:00:00+00:00            False   \n",
       "4                     NaN 2020-10-26 06:00:00+00:00            False   \n",
       "5                     NaN 2020-11-30 07:00:00+00:00            False   \n",
       "\n",
       "   public_syllabus_to_auth  storage_quota_mb  is_public_to_auth_users  \\\n",
       "0                    False              2000                    False   \n",
       "2                    False              2000                    False   \n",
       "3                    False              2000                    False   \n",
       "4                    False              2000                    False   \n",
       "5                    False              2000                    False   \n",
       "\n",
       "   apply_assignment_group_weights  \\\n",
       "0                           False   \n",
       "2                           False   \n",
       "3                           False   \n",
       "4                           False   \n",
       "5                           False   \n",
       "\n",
       "                                                                                                              calendar  \\\n",
       "0  {'ics': 'https://lambdaschool.instructure.com/feeds/calendars/course_J9daOUmhhQcLwEinxnXTJNRH86tZjobdOone45U1.ics'}   \n",
       "2  {'ics': 'https://lambdaschool.instructure.com/feeds/calendars/course_vRJPG8f5QRK6ungHvYamiOiGU2n4P9mKwwdKvA7s.ics'}   \n",
       "3  {'ics': 'https://lambdaschool.instructure.com/feeds/calendars/course_2gVSLHMWasuDBJpSomMzFwcI38EFs0qv3i1E5WLw.ics'}   \n",
       "4  {'ics': 'https://lambdaschool.instructure.com/feeds/calendars/course_uWxZkmEaLcb74oS1EZAESDX82zzXQrgpV6d54BBH.ics'}   \n",
       "5  {'ics': 'https://lambdaschool.instructure.com/feeds/calendars/course_AYSKbWrvCW3JiOUsmyELDOPg6vggoofc923Rlvnf.ics'}   \n",
       "\n",
       "        time_zone  blueprint    sis_course_id  sis_import_id  integration_id  \\\n",
       "0  America/Denver      False             None            NaN             NaN   \n",
       "2  America/Denver      False      LLP_PT_2009            NaN             NaN   \n",
       "3  America/Denver      False      LLP_FT_2009            NaN             NaN   \n",
       "4  America/Denver      False  LLP_FT_2009LABS            NaN             NaN   \n",
       "5  America/Denver      False  LLP_PT_2009LABS            NaN             NaN   \n",
       "\n",
       "   hide_final_grades workflow_state  restrict_enrollments_to_course_dates  \\\n",
       "0              False    unpublished                                  True   \n",
       "2              False      available                                  True   \n",
       "3              False      available                                  True   \n",
       "4              False      available                                  True   \n",
       "5              False      available                                  True   \n",
       "\n",
       "  overridden_course_visibility blueprint_restrictions course_format  \n",
       "0                                                 NaN           NaN  \n",
       "2                                                 NaN           NaN  \n",
       "3                                                 NaN           NaN  \n",
       "4                                                 NaN           NaN  \n",
       "5                                                 NaN           NaN  "
      ],
      "text/html": "<div>\n<style scoped>\n    .dataframe tbody tr th:only-of-type {\n        vertical-align: middle;\n    }\n\n    .dataframe tbody tr th {\n        vertical-align: top;\n    }\n\n    .dataframe thead th {\n        text-align: right;\n    }\n</style>\n<table border=\"1\" class=\"dataframe\">\n  <thead>\n    <tr style=\"text-align: right;\">\n      <th></th>\n      <th>id</th>\n      <th>name</th>\n      <th>account_id</th>\n      <th>uuid</th>\n      <th>start_at</th>\n      <th>grading_standard_id</th>\n      <th>is_public</th>\n      <th>created_at</th>\n      <th>course_code</th>\n      <th>default_view</th>\n      <th>root_account_id</th>\n      <th>enrollment_term_id</th>\n      <th>license</th>\n      <th>grade_passback_setting</th>\n      <th>end_at</th>\n      <th>public_syllabus</th>\n      <th>public_syllabus_to_auth</th>\n      <th>storage_quota_mb</th>\n      <th>is_public_to_auth_users</th>\n      <th>apply_assignment_group_weights</th>\n      <th>calendar</th>\n      <th>time_zone</th>\n      <th>blueprint</th>\n      <th>sis_course_id</th>\n      <th>sis_import_id</th>\n      <th>integration_id</th>\n      <th>hide_final_grades</th>\n      <th>workflow_state</th>\n      <th>restrict_enrollments_to_course_dates</th>\n      <th>overridden_course_visibility</th>\n      <th>blueprint_restrictions</th>\n      <th>course_format</th>\n    </tr>\n  </thead>\n  <tbody>\n    <tr>\n      <th>0</th>\n      <td>190</td>\n      <td>Lambda Leadership Program - Unit 2</td>\n      <td>1</td>\n      <td>J9daOUmhhQcLwEinxnXTJNRH86tZjobdOone45U1</td>\n      <td>NaT</td>\n      <td>NaN</td>\n      <td>0.0</td>\n      <td>2020-08-17 17:13:20+00:00</td>\n      <td>LLP_unit2</td>\n      <td>wiki</td>\n      <td>1</td>\n      <td>103</td>\n      <td>private</td>\n      <td>NaN</td>\n      <td>2020-12-07 08:00:00+00:00</td>\n      <td>False</td>\n      <td>False</td>\n      <td>2000</td>\n      <td>False</td>\n      <td>False</td>\n      <td>{'ics': 'https://lambdaschool.instructure.com/feeds/calendars/course_J9daOUmhhQcLwEinxnXTJNRH86tZjobdOone45U1.ics'}</td>\n      <td>America/Denver</td>\n      <td>False</td>\n      <td>None</td>\n      <td>NaN</td>\n      <td>NaN</td>\n      <td>False</td>\n      <td>unpublished</td>\n      <td>True</td>\n      <td></td>\n      <td>NaN</td>\n      <td>NaN</td>\n    </tr>\n    <tr>\n      <th>2</th>\n      <td>330</td>\n      <td>Lambda Leadership - Rotation C PT</td>\n      <td>1</td>\n      <td>vRJPG8f5QRK6ungHvYamiOiGU2n4P9mKwwdKvA7s</td>\n      <td>2020-09-21 16:04:00+00:00</td>\n      <td>NaN</td>\n      <td>0.0</td>\n      <td>2020-09-22 15:51:59+00:00</td>\n      <td>LLP_PT_2009</td>\n      <td>wiki</td>\n      <td>1</td>\n      <td>103</td>\n      <td>private</td>\n      <td>NaN</td>\n      <td>2020-11-23 07:00:00+00:00</td>\n      <td>False</td>\n      <td>False</td>\n      <td>2000</td>\n      <td>False</td>\n      <td>False</td>\n      <td>{'ics': 'https://lambdaschool.instructure.com/feeds/calendars/course_vRJPG8f5QRK6ungHvYamiOiGU2n4P9mKwwdKvA7s.ics'}</td>\n      <td>America/Denver</td>\n      <td>False</td>\n      <td>LLP_PT_2009</td>\n      <td>NaN</td>\n      <td>NaN</td>\n      <td>False</td>\n      <td>available</td>\n      <td>True</td>\n      <td></td>\n      <td>NaN</td>\n      <td>NaN</td>\n    </tr>\n    <tr>\n      <th>3</th>\n      <td>331</td>\n      <td>Lambda Leadership - Rotation C FT</td>\n      <td>1</td>\n      <td>2gVSLHMWasuDBJpSomMzFwcI38EFs0qv3i1E5WLw</td>\n      <td>2020-09-21 16:04:00+00:00</td>\n      <td>NaN</td>\n      <td>0.0</td>\n      <td>2020-09-22 15:52:34+00:00</td>\n      <td>LLP_FT_2009</td>\n      <td>wiki</td>\n      <td>1</td>\n      <td>103</td>\n      <td>private</td>\n      <td>NaN</td>\n      <td>2020-10-26 06:00:00+00:00</td>\n      <td>False</td>\n      <td>False</td>\n      <td>2000</td>\n      <td>False</td>\n      <td>False</td>\n      <td>{'ics': 'https://lambdaschool.instructure.com/feeds/calendars/course_2gVSLHMWasuDBJpSomMzFwcI38EFs0qv3i1E5WLw.ics'}</td>\n      <td>America/Denver</td>\n      <td>False</td>\n      <td>LLP_FT_2009</td>\n      <td>NaN</td>\n      <td>NaN</td>\n      <td>False</td>\n      <td>available</td>\n      <td>True</td>\n      <td></td>\n      <td>NaN</td>\n      <td>NaN</td>\n    </tr>\n    <tr>\n      <th>4</th>\n      <td>365</td>\n      <td>Lambda Leadership - Rotation C FT - LABS</td>\n      <td>1</td>\n      <td>uWxZkmEaLcb74oS1EZAESDX82zzXQrgpV6d54BBH</td>\n      <td>2020-09-23 23:47:00+00:00</td>\n      <td>NaN</td>\n      <td>0.0</td>\n      <td>2020-09-23 23:36:41+00:00</td>\n      <td>LLP_FT_2009LABS</td>\n      <td>wiki</td>\n      <td>1</td>\n      <td>103</td>\n      <td>private</td>\n      <td>NaN</td>\n      <td>2020-10-26 06:00:00+00:00</td>\n      <td>False</td>\n      <td>False</td>\n      <td>2000</td>\n      <td>False</td>\n      <td>False</td>\n      <td>{'ics': 'https://lambdaschool.instructure.com/feeds/calendars/course_uWxZkmEaLcb74oS1EZAESDX82zzXQrgpV6d54BBH.ics'}</td>\n      <td>America/Denver</td>\n      <td>False</td>\n      <td>LLP_FT_2009LABS</td>\n      <td>NaN</td>\n      <td>NaN</td>\n      <td>False</td>\n      <td>available</td>\n      <td>True</td>\n      <td></td>\n      <td>NaN</td>\n      <td>NaN</td>\n    </tr>\n    <tr>\n      <th>5</th>\n      <td>366</td>\n      <td>Lambda Leadership - Rotation C PT - LABS</td>\n      <td>1</td>\n      <td>AYSKbWrvCW3JiOUsmyELDOPg6vggoofc923Rlvnf</td>\n      <td>2020-09-23 23:52:12+00:00</td>\n      <td>NaN</td>\n      <td>0.0</td>\n      <td>2020-09-23 23:49:39+00:00</td>\n      <td>LLP_PT_2009LABS</td>\n      <td>wiki</td>\n      <td>1</td>\n      <td>103</td>\n      <td>private</td>\n      <td>NaN</td>\n      <td>2020-11-30 07:00:00+00:00</td>\n      <td>False</td>\n      <td>False</td>\n      <td>2000</td>\n      <td>False</td>\n      <td>False</td>\n      <td>{'ics': 'https://lambdaschool.instructure.com/feeds/calendars/course_AYSKbWrvCW3JiOUsmyELDOPg6vggoofc923Rlvnf.ics'}</td>\n      <td>America/Denver</td>\n      <td>False</td>\n      <td>LLP_PT_2009LABS</td>\n      <td>NaN</td>\n      <td>NaN</td>\n      <td>False</td>\n      <td>available</td>\n      <td>True</td>\n      <td></td>\n      <td>NaN</td>\n      <td>NaN</td>\n    </tr>\n  </tbody>\n</table>\n</div>"
     },
     "metadata": {},
     "execution_count": 9
    }
   ],
   "source": [
    "llp_no_temp = llp_courses_df[llp_courses_df[\"course_code\"].str.contains(\"Template\")==False]\n",
    "llp_no_temp.head()"
   ]
  },
  {
   "cell_type": "code",
   "execution_count": 11,
   "metadata": {},
   "outputs": [
    {
     "output_type": "execute_result",
     "data": {
      "text/plain": [
       "     id                                      name  account_id  \\\n",
       "10  495         Lambda Leadership - Rotation D FT           1   \n",
       "11  496  Lambda Leadership - Rotation D FT - LABS           1   \n",
       "12  497      Lambda Leadership Rotation D PT - CS           1   \n",
       "13  498         Lambda Leadership - Rotation D PT           1   \n",
       "14  499  Lambda Leadership - Rotation D PT - LABS           1   \n",
       "\n",
       "                                        uuid                  start_at  \\\n",
       "10  7ipq4T9Ri5RbXF7mUj1S50L6iENrhGVRuuztcHwC                       NaT   \n",
       "11  IjyCCp6uptzjrqa60OSD1aBmmtP4kXyCVOszeGmO 2020-10-27 00:00:00+00:00   \n",
       "12  C9HwCQPOumpo4TrpI19j3oSLipcqgTuQqTN9vCO4                       NaT   \n",
       "13  OFv2ybAkoPJoLxIoVsdpIi83BfWAJAlmi3xkav8m                       NaT   \n",
       "14  9DrTvr5BbTjEqTGzamu0yyyRG8XcB8Va9HZR5yv6 2020-10-29 00:00:00+00:00   \n",
       "\n",
       "    grading_standard_id  is_public                created_at  \\\n",
       "10                  NaN        0.0 2020-10-22 18:05:22+00:00   \n",
       "11                  NaN        0.0 2020-10-22 18:05:22+00:00   \n",
       "12                  NaN        0.0 2020-10-22 18:05:22+00:00   \n",
       "13                  NaN        0.0 2020-10-22 18:05:22+00:00   \n",
       "14                  NaN        0.0 2020-10-22 18:05:22+00:00   \n",
       "\n",
       "         course_code default_view  root_account_id  enrollment_term_id  \\\n",
       "10       LLP_FT_2010         wiki                1                 103   \n",
       "11  LLP_FT_2010_LABS         wiki                1                 103   \n",
       "12    LLP_PT_2010_CS         wiki                1                   1   \n",
       "13       LLP_PT_2010         wiki                1                   1   \n",
       "14  LLP_PT_2010_LABS         wiki                1                   1   \n",
       "\n",
       "    license  grade_passback_setting                    end_at  \\\n",
       "10  private                     NaN 2020-12-07 08:00:00+00:00   \n",
       "11  private                     NaN 2020-11-20 00:00:00+00:00   \n",
       "12  private                     NaN 2021-01-11 08:00:00+00:00   \n",
       "13  private                     NaN 2021-01-11 08:00:00+00:00   \n",
       "14  private                     NaN 2021-01-08 00:00:00+00:00   \n",
       "\n",
       "    public_syllabus  public_syllabus_to_auth  storage_quota_mb  \\\n",
       "10            False                    False              2000   \n",
       "11            False                    False              2000   \n",
       "12            False                    False              2000   \n",
       "13            False                    False              2000   \n",
       "14            False                    False              2000   \n",
       "\n",
       "    is_public_to_auth_users  apply_assignment_group_weights  \\\n",
       "10                    False                           False   \n",
       "11                    False                           False   \n",
       "12                    False                           False   \n",
       "13                    False                           False   \n",
       "14                    False                           False   \n",
       "\n",
       "                                                                                                               calendar  \\\n",
       "10  {'ics': 'https://lambdaschool.instructure.com/feeds/calendars/course_7ipq4T9Ri5RbXF7mUj1S50L6iENrhGVRuuztcHwC.ics'}   \n",
       "11  {'ics': 'https://lambdaschool.instructure.com/feeds/calendars/course_IjyCCp6uptzjrqa60OSD1aBmmtP4kXyCVOszeGmO.ics'}   \n",
       "12  {'ics': 'https://lambdaschool.instructure.com/feeds/calendars/course_C9HwCQPOumpo4TrpI19j3oSLipcqgTuQqTN9vCO4.ics'}   \n",
       "13  {'ics': 'https://lambdaschool.instructure.com/feeds/calendars/course_OFv2ybAkoPJoLxIoVsdpIi83BfWAJAlmi3xkav8m.ics'}   \n",
       "14  {'ics': 'https://lambdaschool.instructure.com/feeds/calendars/course_9DrTvr5BbTjEqTGzamu0yyyRG8XcB8Va9HZR5yv6.ics'}   \n",
       "\n",
       "              time_zone  blueprint     sis_course_id  sis_import_id  \\\n",
       "10  America/Los_Angeles      False       LLP_FT_2010          567.0   \n",
       "11  America/Los_Angeles      False  LLP_FT_2010_LABS          567.0   \n",
       "12  America/Los_Angeles      False    LLP_PT_2010_CS          567.0   \n",
       "13  America/Los_Angeles      False       LLP_PT_2010          567.0   \n",
       "14  America/Los_Angeles      False  LLP_PT_2010_LABS          567.0   \n",
       "\n",
       "    integration_id  hide_final_grades workflow_state  \\\n",
       "10             NaN              False      available   \n",
       "11             NaN              False      available   \n",
       "12             NaN              False      available   \n",
       "13             NaN              False      available   \n",
       "14             NaN              False      available   \n",
       "\n",
       "    restrict_enrollments_to_course_dates overridden_course_visibility  \\\n",
       "10                                  True                                \n",
       "11                                  True                                \n",
       "12                                  True                                \n",
       "13                                  True                                \n",
       "14                                  True                                \n",
       "\n",
       "   blueprint_restrictions course_format  \n",
       "10                    NaN        online  \n",
       "11                    NaN        online  \n",
       "12                    NaN        online  \n",
       "13                    NaN        online  \n",
       "14                    NaN        online  "
      ],
      "text/html": "<div>\n<style scoped>\n    .dataframe tbody tr th:only-of-type {\n        vertical-align: middle;\n    }\n\n    .dataframe tbody tr th {\n        vertical-align: top;\n    }\n\n    .dataframe thead th {\n        text-align: right;\n    }\n</style>\n<table border=\"1\" class=\"dataframe\">\n  <thead>\n    <tr style=\"text-align: right;\">\n      <th></th>\n      <th>id</th>\n      <th>name</th>\n      <th>account_id</th>\n      <th>uuid</th>\n      <th>start_at</th>\n      <th>grading_standard_id</th>\n      <th>is_public</th>\n      <th>created_at</th>\n      <th>course_code</th>\n      <th>default_view</th>\n      <th>root_account_id</th>\n      <th>enrollment_term_id</th>\n      <th>license</th>\n      <th>grade_passback_setting</th>\n      <th>end_at</th>\n      <th>public_syllabus</th>\n      <th>public_syllabus_to_auth</th>\n      <th>storage_quota_mb</th>\n      <th>is_public_to_auth_users</th>\n      <th>apply_assignment_group_weights</th>\n      <th>calendar</th>\n      <th>time_zone</th>\n      <th>blueprint</th>\n      <th>sis_course_id</th>\n      <th>sis_import_id</th>\n      <th>integration_id</th>\n      <th>hide_final_grades</th>\n      <th>workflow_state</th>\n      <th>restrict_enrollments_to_course_dates</th>\n      <th>overridden_course_visibility</th>\n      <th>blueprint_restrictions</th>\n      <th>course_format</th>\n    </tr>\n  </thead>\n  <tbody>\n    <tr>\n      <th>10</th>\n      <td>495</td>\n      <td>Lambda Leadership - Rotation D FT</td>\n      <td>1</td>\n      <td>7ipq4T9Ri5RbXF7mUj1S50L6iENrhGVRuuztcHwC</td>\n      <td>NaT</td>\n      <td>NaN</td>\n      <td>0.0</td>\n      <td>2020-10-22 18:05:22+00:00</td>\n      <td>LLP_FT_2010</td>\n      <td>wiki</td>\n      <td>1</td>\n      <td>103</td>\n      <td>private</td>\n      <td>NaN</td>\n      <td>2020-12-07 08:00:00+00:00</td>\n      <td>False</td>\n      <td>False</td>\n      <td>2000</td>\n      <td>False</td>\n      <td>False</td>\n      <td>{'ics': 'https://lambdaschool.instructure.com/feeds/calendars/course_7ipq4T9Ri5RbXF7mUj1S50L6iENrhGVRuuztcHwC.ics'}</td>\n      <td>America/Los_Angeles</td>\n      <td>False</td>\n      <td>LLP_FT_2010</td>\n      <td>567.0</td>\n      <td>NaN</td>\n      <td>False</td>\n      <td>available</td>\n      <td>True</td>\n      <td></td>\n      <td>NaN</td>\n      <td>online</td>\n    </tr>\n    <tr>\n      <th>11</th>\n      <td>496</td>\n      <td>Lambda Leadership - Rotation D FT - LABS</td>\n      <td>1</td>\n      <td>IjyCCp6uptzjrqa60OSD1aBmmtP4kXyCVOszeGmO</td>\n      <td>2020-10-27 00:00:00+00:00</td>\n      <td>NaN</td>\n      <td>0.0</td>\n      <td>2020-10-22 18:05:22+00:00</td>\n      <td>LLP_FT_2010_LABS</td>\n      <td>wiki</td>\n      <td>1</td>\n      <td>103</td>\n      <td>private</td>\n      <td>NaN</td>\n      <td>2020-11-20 00:00:00+00:00</td>\n      <td>False</td>\n      <td>False</td>\n      <td>2000</td>\n      <td>False</td>\n      <td>False</td>\n      <td>{'ics': 'https://lambdaschool.instructure.com/feeds/calendars/course_IjyCCp6uptzjrqa60OSD1aBmmtP4kXyCVOszeGmO.ics'}</td>\n      <td>America/Los_Angeles</td>\n      <td>False</td>\n      <td>LLP_FT_2010_LABS</td>\n      <td>567.0</td>\n      <td>NaN</td>\n      <td>False</td>\n      <td>available</td>\n      <td>True</td>\n      <td></td>\n      <td>NaN</td>\n      <td>online</td>\n    </tr>\n    <tr>\n      <th>12</th>\n      <td>497</td>\n      <td>Lambda Leadership Rotation D PT - CS</td>\n      <td>1</td>\n      <td>C9HwCQPOumpo4TrpI19j3oSLipcqgTuQqTN9vCO4</td>\n      <td>NaT</td>\n      <td>NaN</td>\n      <td>0.0</td>\n      <td>2020-10-22 18:05:22+00:00</td>\n      <td>LLP_PT_2010_CS</td>\n      <td>wiki</td>\n      <td>1</td>\n      <td>1</td>\n      <td>private</td>\n      <td>NaN</td>\n      <td>2021-01-11 08:00:00+00:00</td>\n      <td>False</td>\n      <td>False</td>\n      <td>2000</td>\n      <td>False</td>\n      <td>False</td>\n      <td>{'ics': 'https://lambdaschool.instructure.com/feeds/calendars/course_C9HwCQPOumpo4TrpI19j3oSLipcqgTuQqTN9vCO4.ics'}</td>\n      <td>America/Los_Angeles</td>\n      <td>False</td>\n      <td>LLP_PT_2010_CS</td>\n      <td>567.0</td>\n      <td>NaN</td>\n      <td>False</td>\n      <td>available</td>\n      <td>True</td>\n      <td></td>\n      <td>NaN</td>\n      <td>online</td>\n    </tr>\n    <tr>\n      <th>13</th>\n      <td>498</td>\n      <td>Lambda Leadership - Rotation D PT</td>\n      <td>1</td>\n      <td>OFv2ybAkoPJoLxIoVsdpIi83BfWAJAlmi3xkav8m</td>\n      <td>NaT</td>\n      <td>NaN</td>\n      <td>0.0</td>\n      <td>2020-10-22 18:05:22+00:00</td>\n      <td>LLP_PT_2010</td>\n      <td>wiki</td>\n      <td>1</td>\n      <td>1</td>\n      <td>private</td>\n      <td>NaN</td>\n      <td>2021-01-11 08:00:00+00:00</td>\n      <td>False</td>\n      <td>False</td>\n      <td>2000</td>\n      <td>False</td>\n      <td>False</td>\n      <td>{'ics': 'https://lambdaschool.instructure.com/feeds/calendars/course_OFv2ybAkoPJoLxIoVsdpIi83BfWAJAlmi3xkav8m.ics'}</td>\n      <td>America/Los_Angeles</td>\n      <td>False</td>\n      <td>LLP_PT_2010</td>\n      <td>567.0</td>\n      <td>NaN</td>\n      <td>False</td>\n      <td>available</td>\n      <td>True</td>\n      <td></td>\n      <td>NaN</td>\n      <td>online</td>\n    </tr>\n    <tr>\n      <th>14</th>\n      <td>499</td>\n      <td>Lambda Leadership - Rotation D PT - LABS</td>\n      <td>1</td>\n      <td>9DrTvr5BbTjEqTGzamu0yyyRG8XcB8Va9HZR5yv6</td>\n      <td>2020-10-29 00:00:00+00:00</td>\n      <td>NaN</td>\n      <td>0.0</td>\n      <td>2020-10-22 18:05:22+00:00</td>\n      <td>LLP_PT_2010_LABS</td>\n      <td>wiki</td>\n      <td>1</td>\n      <td>1</td>\n      <td>private</td>\n      <td>NaN</td>\n      <td>2021-01-08 00:00:00+00:00</td>\n      <td>False</td>\n      <td>False</td>\n      <td>2000</td>\n      <td>False</td>\n      <td>False</td>\n      <td>{'ics': 'https://lambdaschool.instructure.com/feeds/calendars/course_9DrTvr5BbTjEqTGzamu0yyyRG8XcB8Va9HZR5yv6.ics'}</td>\n      <td>America/Los_Angeles</td>\n      <td>False</td>\n      <td>LLP_PT_2010_LABS</td>\n      <td>567.0</td>\n      <td>NaN</td>\n      <td>False</td>\n      <td>available</td>\n      <td>True</td>\n      <td></td>\n      <td>NaN</td>\n      <td>online</td>\n    </tr>\n  </tbody>\n</table>\n</div>"
     },
     "metadata": {},
     "execution_count": 11
    }
   ],
   "source": [
    "llp_2011_2010 = llp_no_temp[(llp_no_temp[\"course_code\"].str.contains(pat = \"201\\d\", regex = True))]\n",
    "llp_2011_2010.head()"
   ]
  },
  {
   "cell_type": "code",
   "execution_count": 12,
   "metadata": {},
   "outputs": [],
   "source": [
    "quizzes_data = []\n",
    "for i in llp_2011_2010[\"id\"]:\n",
    "    for t in get_quizzes(i, headers):\n",
    "        quizzes_data.append(t)"
   ]
  },
  {
   "cell_type": "code",
   "execution_count": 13,
   "metadata": {},
   "outputs": [],
   "source": [
    "with open(\"quizzes_llp_201X.json\", \"w\") as outfile:\n",
    "    json.dump(quizzes_data, outfile)"
   ]
  },
  {
   "cell_type": "code",
   "execution_count": 14,
   "metadata": {},
   "outputs": [
    {
     "output_type": "execute_result",
     "data": {
      "text/plain": [
       "     id                                           title  course_id\n",
       "0  6780  Sprint 1, Module 1 - Mentor/Mentee Orientation        495\n",
       "1  6617  Sprint 1, Module 2 - Mentor/Mentee Orientation        495\n",
       "2  6788                Sprint 1 - Track Team Reflection        495\n",
       "3  6876                      Sprint 2 - Team Reflection        495\n",
       "4  6610           Sprint 3 - Mentorship (2) Reflection         495"
      ],
      "text/html": "<div>\n<style scoped>\n    .dataframe tbody tr th:only-of-type {\n        vertical-align: middle;\n    }\n\n    .dataframe tbody tr th {\n        vertical-align: top;\n    }\n\n    .dataframe thead th {\n        text-align: right;\n    }\n</style>\n<table border=\"1\" class=\"dataframe\">\n  <thead>\n    <tr style=\"text-align: right;\">\n      <th></th>\n      <th>id</th>\n      <th>title</th>\n      <th>course_id</th>\n    </tr>\n  </thead>\n  <tbody>\n    <tr>\n      <th>0</th>\n      <td>6780</td>\n      <td>Sprint 1, Module 1 - Mentor/Mentee Orientation</td>\n      <td>495</td>\n    </tr>\n    <tr>\n      <th>1</th>\n      <td>6617</td>\n      <td>Sprint 1, Module 2 - Mentor/Mentee Orientation</td>\n      <td>495</td>\n    </tr>\n    <tr>\n      <th>2</th>\n      <td>6788</td>\n      <td>Sprint 1 - Track Team Reflection</td>\n      <td>495</td>\n    </tr>\n    <tr>\n      <th>3</th>\n      <td>6876</td>\n      <td>Sprint 2 - Team Reflection</td>\n      <td>495</td>\n    </tr>\n    <tr>\n      <th>4</th>\n      <td>6610</td>\n      <td>Sprint 3 - Mentorship (2) Reflection</td>\n      <td>495</td>\n    </tr>\n  </tbody>\n</table>\n</div>"
     },
     "metadata": {},
     "execution_count": 14
    }
   ],
   "source": [
    "quizzes_df = pd.read_json(\"quizzes_llp_201X.json\")\n",
    "quizzes_df[[\"id\",\"title\", \"course_id\"]].head()"
   ]
  },
  {
   "cell_type": "code",
   "execution_count": 29,
   "metadata": {},
   "outputs": [],
   "source": [
    "r = requests.get(f\"https://lambdaschool.instructure.com/api/v1/courses/495/quizzes/6780/submissions\", headers=headers)\n",
    "data_set = []\n",
    "raw = r.json()"
   ]
  },
  {
   "cell_type": "code",
   "execution_count": 36,
   "metadata": {},
   "outputs": [],
   "source": [
    "for i in raw[\"quiz_submissions\"]:\r\n",
    "    i[\"course_id\"] = 495 "
   ]
  },
  {
   "cell_type": "code",
   "execution_count": 38,
   "metadata": {},
   "outputs": [
    {
     "output_type": "stream",
     "name": "stdout",
     "text": [
      "Done!\n",
      "Done!\n",
      "Done!\n",
      "Done!\n",
      "Done!\n",
      "Done!\n",
      "Done!\n",
      "Just one page!\n",
      "Done!\n",
      "Done!\n",
      "Done!\n",
      "Done!\n",
      "Done!\n",
      "Done!\n",
      "Done!\n",
      "Done!\n",
      "Done!\n",
      "Done!\n",
      "Done!\n",
      "Done!\n",
      "Just one page!\n",
      "Just one page!\n",
      "Done!\n",
      "Just one page!\n",
      "Done!\n",
      "Done!\n",
      "Done!\n",
      "Done!\n",
      "Done!\n",
      "Done!\n",
      "Just one page!\n",
      "Done!\n",
      "Done!\n",
      "Done!\n",
      "Done!\n",
      "Done!\n",
      "Just one page!\n",
      "Just one page!\n",
      "Just one page!\n",
      "Just one page!\n",
      "Just one page!\n",
      "Just one page!\n",
      "Done!\n",
      "Just one page!\n",
      "Done!\n",
      "Done!\n",
      "Just one page!\n",
      "Just one page!\n",
      "Just one page!\n",
      "Done!\n",
      "Done!\n",
      "Done!\n",
      "Done!\n",
      "Done!\n",
      "Done!\n",
      "Done!\n",
      "Done!\n",
      "Done!\n",
      "Done!\n",
      "Done!\n",
      "Just one page!\n",
      "Done!\n",
      "Done!\n",
      "Done!\n",
      "Just one page!\n",
      "Done!\n",
      "Just one page!\n",
      "Just one page!\n",
      "Done!\n",
      "Just one page!\n",
      "Just one page!\n",
      "Just one page!\n",
      "Just one page!\n",
      "Done!\n",
      "Done!\n",
      "Done!\n",
      "Done!\n",
      "Done!\n",
      "Done!\n",
      "Done!\n",
      "Just one page!\n",
      "Done!\n",
      "Done!\n",
      "Done!\n",
      "Done!\n",
      "Done!\n",
      "Just one page!\n",
      "Done!\n",
      "Just one page!\n",
      "Just one page!\n",
      "Just one page!\n",
      "Just one page!\n",
      "Done!\n",
      "Done!\n",
      "Just one page!\n",
      "Just one page!\n",
      "Just one page!\n",
      "Just one page!\n",
      "Just one page!\n",
      "Just one page!\n",
      "Just one page!\n",
      "Just one page!\n",
      "Just one page!\n",
      "Just one page!\n",
      "Just one page!\n",
      "Done!\n",
      "Done!\n",
      "Done!\n",
      "Done!\n",
      "Just one page!\n",
      "Done!\n",
      "Done!\n",
      "Done!\n",
      "Done!\n",
      "Done!\n",
      "Done!\n",
      "Done!\n",
      "Done!\n",
      "Done!\n",
      "Done!\n"
     ]
    }
   ],
   "source": [
    "for i in quizzes_df[[\"id\", \"course_id\"]].itertuples():\n",
    "    submissions = get_submissions(i.course_id, i.id)\n",
    "    with open(f\"submissions_{i.id}.json\", \"w\") as outfile:\n",
    "        json.dump(submissions, outfile)"
   ]
  },
  {
   "cell_type": "code",
   "execution_count": 39,
   "metadata": {},
   "outputs": [
    {
     "output_type": "execute_result",
     "data": {
      "text/plain": [
       "      id  quiz_id  quiz_version  user_id  submission_id  score  kept_score  \\\n",
       "0  57233     6585           103      633         309005      1           1   \n",
       "1  57294     6585           103      544         318896      1           1   \n",
       "2  57299     6585           103      579         312007      1           1   \n",
       "3  57302     6585           103     1011         314947      1           1   \n",
       "4  57366     6585           103      631         322392      1           1   \n",
       "\n",
       "                 started_at                    end_at  \\\n",
       "0 2020-10-26 22:47:46+00:00 2020-11-21 07:59:59+00:00   \n",
       "1 2020-10-26 23:08:10+00:00 2020-11-21 07:59:59+00:00   \n",
       "2 2020-10-26 23:10:50+00:00 2020-11-21 07:59:59+00:00   \n",
       "3 2020-10-26 23:11:21+00:00 2020-11-21 07:59:59+00:00   \n",
       "4 2020-10-26 23:31:11+00:00 2020-11-21 07:59:59+00:00   \n",
       "\n",
       "                finished_at  attempt workflow_state  fudge_points  \\\n",
       "0 2020-10-27 22:50:48+00:00        1       complete           NaN   \n",
       "1 2020-11-06 02:01:55+00:00        1       complete           NaN   \n",
       "2 2020-11-21 07:59:59+00:00        1       complete           NaN   \n",
       "3 2020-11-19 20:40:47+00:00        1       complete           NaN   \n",
       "4 2020-10-27 22:32:06+00:00        1       complete           NaN   \n",
       "\n",
       "   quiz_points_possible  extra_attempts extra_time  manually_unlocked  \\\n",
       "0                     1             NaN        NaT                NaN   \n",
       "1                     1             NaN        NaT                NaN   \n",
       "2                     1             NaN        NaT                NaN   \n",
       "3                     1             NaN        NaT                NaN   \n",
       "4                     1             NaN        NaT                NaN   \n",
       "\n",
       "                                                   validation_token  \\\n",
       "0  5e9f574072efc917ebfd543dadced88ad27cb1d1006bf73d8a1b26526534a1d3   \n",
       "1  4ea64d0996617807a3c655f8e95ae42a6319de0d8cb689915672fa930082ba58   \n",
       "2  4f3a8e2ae3ffc807258bb85db4c2118255e51015d10a16734c5a3f7783c7d94c   \n",
       "3  48a83c07c6e2eeb9cbed95f48c820a5742591a781eb90c902c43b2346ec4739b   \n",
       "4  17b98f2724d7708d8770f905b461972dd5675336ac89b578fa92240ebe22726f   \n",
       "\n",
       "   score_before_regrade  has_seen_results  time_spent  attempts_left  \\\n",
       "0                   NaN               0.0       86582              0   \n",
       "1                   NaN               0.0      874425              0   \n",
       "2                   NaN               NaN     2191748              0   \n",
       "3                   NaN               0.0     2064566              0   \n",
       "4                   NaN               0.0       82855              0   \n",
       "\n",
       "   overdue_and_needs_submission  excused?  \\\n",
       "0                         False     False   \n",
       "1                         False     False   \n",
       "2                         False     False   \n",
       "3                         False     False   \n",
       "4                         False     False   \n",
       "\n",
       "                                                                          html_url  \\\n",
       "0  https://lambdaschool.instructure.com/courses/495/quizzes/6585/submissions/57233   \n",
       "1  https://lambdaschool.instructure.com/courses/495/quizzes/6585/submissions/57294   \n",
       "2  https://lambdaschool.instructure.com/courses/495/quizzes/6585/submissions/57299   \n",
       "3  https://lambdaschool.instructure.com/courses/495/quizzes/6585/submissions/57302   \n",
       "4  https://lambdaschool.instructure.com/courses/495/quizzes/6585/submissions/57366   \n",
       "\n",
       "                                                                                                 result_url  \\\n",
       "0  https://lambdaschool.instructure.com/courses/495/quizzes/6585/history?quiz_submission_id=57233&version=1   \n",
       "1  https://lambdaschool.instructure.com/courses/495/quizzes/6585/history?quiz_submission_id=57294&version=1   \n",
       "2  https://lambdaschool.instructure.com/courses/495/quizzes/6585/history?quiz_submission_id=57299&version=1   \n",
       "3  https://lambdaschool.instructure.com/courses/495/quizzes/6585/history?quiz_submission_id=57302&version=1   \n",
       "4  https://lambdaschool.instructure.com/courses/495/quizzes/6585/history?quiz_submission_id=57366&version=1   \n",
       "\n",
       "   course_id  \n",
       "0        495  \n",
       "1        495  \n",
       "2        495  \n",
       "3        495  \n",
       "4        495  "
      ],
      "text/html": "<div>\n<style scoped>\n    .dataframe tbody tr th:only-of-type {\n        vertical-align: middle;\n    }\n\n    .dataframe tbody tr th {\n        vertical-align: top;\n    }\n\n    .dataframe thead th {\n        text-align: right;\n    }\n</style>\n<table border=\"1\" class=\"dataframe\">\n  <thead>\n    <tr style=\"text-align: right;\">\n      <th></th>\n      <th>id</th>\n      <th>quiz_id</th>\n      <th>quiz_version</th>\n      <th>user_id</th>\n      <th>submission_id</th>\n      <th>score</th>\n      <th>kept_score</th>\n      <th>started_at</th>\n      <th>end_at</th>\n      <th>finished_at</th>\n      <th>attempt</th>\n      <th>workflow_state</th>\n      <th>fudge_points</th>\n      <th>quiz_points_possible</th>\n      <th>extra_attempts</th>\n      <th>extra_time</th>\n      <th>manually_unlocked</th>\n      <th>validation_token</th>\n      <th>score_before_regrade</th>\n      <th>has_seen_results</th>\n      <th>time_spent</th>\n      <th>attempts_left</th>\n      <th>overdue_and_needs_submission</th>\n      <th>excused?</th>\n      <th>html_url</th>\n      <th>result_url</th>\n      <th>course_id</th>\n    </tr>\n  </thead>\n  <tbody>\n    <tr>\n      <th>0</th>\n      <td>57233</td>\n      <td>6585</td>\n      <td>103</td>\n      <td>633</td>\n      <td>309005</td>\n      <td>1</td>\n      <td>1</td>\n      <td>2020-10-26 22:47:46+00:00</td>\n      <td>2020-11-21 07:59:59+00:00</td>\n      <td>2020-10-27 22:50:48+00:00</td>\n      <td>1</td>\n      <td>complete</td>\n      <td>NaN</td>\n      <td>1</td>\n      <td>NaN</td>\n      <td>NaT</td>\n      <td>NaN</td>\n      <td>5e9f574072efc917ebfd543dadced88ad27cb1d1006bf73d8a1b26526534a1d3</td>\n      <td>NaN</td>\n      <td>0.0</td>\n      <td>86582</td>\n      <td>0</td>\n      <td>False</td>\n      <td>False</td>\n      <td>https://lambdaschool.instructure.com/courses/495/quizzes/6585/submissions/57233</td>\n      <td>https://lambdaschool.instructure.com/courses/495/quizzes/6585/history?quiz_submission_id=57233&amp;version=1</td>\n      <td>495</td>\n    </tr>\n    <tr>\n      <th>1</th>\n      <td>57294</td>\n      <td>6585</td>\n      <td>103</td>\n      <td>544</td>\n      <td>318896</td>\n      <td>1</td>\n      <td>1</td>\n      <td>2020-10-26 23:08:10+00:00</td>\n      <td>2020-11-21 07:59:59+00:00</td>\n      <td>2020-11-06 02:01:55+00:00</td>\n      <td>1</td>\n      <td>complete</td>\n      <td>NaN</td>\n      <td>1</td>\n      <td>NaN</td>\n      <td>NaT</td>\n      <td>NaN</td>\n      <td>4ea64d0996617807a3c655f8e95ae42a6319de0d8cb689915672fa930082ba58</td>\n      <td>NaN</td>\n      <td>0.0</td>\n      <td>874425</td>\n      <td>0</td>\n      <td>False</td>\n      <td>False</td>\n      <td>https://lambdaschool.instructure.com/courses/495/quizzes/6585/submissions/57294</td>\n      <td>https://lambdaschool.instructure.com/courses/495/quizzes/6585/history?quiz_submission_id=57294&amp;version=1</td>\n      <td>495</td>\n    </tr>\n    <tr>\n      <th>2</th>\n      <td>57299</td>\n      <td>6585</td>\n      <td>103</td>\n      <td>579</td>\n      <td>312007</td>\n      <td>1</td>\n      <td>1</td>\n      <td>2020-10-26 23:10:50+00:00</td>\n      <td>2020-11-21 07:59:59+00:00</td>\n      <td>2020-11-21 07:59:59+00:00</td>\n      <td>1</td>\n      <td>complete</td>\n      <td>NaN</td>\n      <td>1</td>\n      <td>NaN</td>\n      <td>NaT</td>\n      <td>NaN</td>\n      <td>4f3a8e2ae3ffc807258bb85db4c2118255e51015d10a16734c5a3f7783c7d94c</td>\n      <td>NaN</td>\n      <td>NaN</td>\n      <td>2191748</td>\n      <td>0</td>\n      <td>False</td>\n      <td>False</td>\n      <td>https://lambdaschool.instructure.com/courses/495/quizzes/6585/submissions/57299</td>\n      <td>https://lambdaschool.instructure.com/courses/495/quizzes/6585/history?quiz_submission_id=57299&amp;version=1</td>\n      <td>495</td>\n    </tr>\n    <tr>\n      <th>3</th>\n      <td>57302</td>\n      <td>6585</td>\n      <td>103</td>\n      <td>1011</td>\n      <td>314947</td>\n      <td>1</td>\n      <td>1</td>\n      <td>2020-10-26 23:11:21+00:00</td>\n      <td>2020-11-21 07:59:59+00:00</td>\n      <td>2020-11-19 20:40:47+00:00</td>\n      <td>1</td>\n      <td>complete</td>\n      <td>NaN</td>\n      <td>1</td>\n      <td>NaN</td>\n      <td>NaT</td>\n      <td>NaN</td>\n      <td>48a83c07c6e2eeb9cbed95f48c820a5742591a781eb90c902c43b2346ec4739b</td>\n      <td>NaN</td>\n      <td>0.0</td>\n      <td>2064566</td>\n      <td>0</td>\n      <td>False</td>\n      <td>False</td>\n      <td>https://lambdaschool.instructure.com/courses/495/quizzes/6585/submissions/57302</td>\n      <td>https://lambdaschool.instructure.com/courses/495/quizzes/6585/history?quiz_submission_id=57302&amp;version=1</td>\n      <td>495</td>\n    </tr>\n    <tr>\n      <th>4</th>\n      <td>57366</td>\n      <td>6585</td>\n      <td>103</td>\n      <td>631</td>\n      <td>322392</td>\n      <td>1</td>\n      <td>1</td>\n      <td>2020-10-26 23:31:11+00:00</td>\n      <td>2020-11-21 07:59:59+00:00</td>\n      <td>2020-10-27 22:32:06+00:00</td>\n      <td>1</td>\n      <td>complete</td>\n      <td>NaN</td>\n      <td>1</td>\n      <td>NaN</td>\n      <td>NaT</td>\n      <td>NaN</td>\n      <td>17b98f2724d7708d8770f905b461972dd5675336ac89b578fa92240ebe22726f</td>\n      <td>NaN</td>\n      <td>0.0</td>\n      <td>82855</td>\n      <td>0</td>\n      <td>False</td>\n      <td>False</td>\n      <td>https://lambdaschool.instructure.com/courses/495/quizzes/6585/submissions/57366</td>\n      <td>https://lambdaschool.instructure.com/courses/495/quizzes/6585/history?quiz_submission_id=57366&amp;version=1</td>\n      <td>495</td>\n    </tr>\n  </tbody>\n</table>\n</div>"
     },
     "metadata": {},
     "execution_count": 39
    }
   ],
   "source": [
    "subs_6585_df = pd.read_json(\"submissions_6585.json\")\n",
    "subs_6585_df.head()"
   ]
  },
  {
   "cell_type": "code",
   "execution_count": 60,
   "metadata": {},
   "outputs": [],
   "source": [
    "course_id = subs_6585_df[\"course_id\"][1]\n",
    "quiz_id = subs_6585_df[\"quiz_id\"][1]\n",
    "sub_id = subs_6585_df[\"id\"][1]\n",
    "r = requests.get(f\"https://lambdaschool.instructure.com/api/v1/courses/{course_id}/quizzes/{quiz_id}/submissions/{sub_id}/events\", headers=headers) "
   ]
  },
  {
   "cell_type": "code",
   "execution_count": 110,
   "metadata": {
    "tags": []
   },
   "outputs": [
    {
     "output_type": "stream",
     "name": "stdout",
     "text": [
      "2.0\n"
     ]
    }
   ],
   "source": [
    "raw2 = r.json()\n",
    "\n",
    "for i in raw2[\"quiz_submission_events\"]:\n",
    "    if \"event_data\" in i.keys():\n",
    "        if i[\"event_type\"] == \"question_answered\":\n",
    "            for t in i[\"event_data\"]:\n",
    "                if t[\"answer\"] != None and 0 < t[\"answer\"] < 4:\n",
    "                    print(t[\"answer\"]) "
   ]
  },
  {
   "cell_type": "code",
   "execution_count": 96,
   "metadata": {},
   "outputs": [
    {
     "output_type": "execute_result",
     "data": {
      "text/plain": [
       "       id          event_type  \\\n",
       "0  644116  submission_created   \n",
       "1  644117     session_started   \n",
       "2  827965     session_started   \n",
       "3  827981   question_answered   \n",
       "4  827987     question_viewed   \n",
       "5  827988     question_viewed   \n",
       "\n",
       "                                                                                                                                                                                                                                                                                                                                                                                                                                                                                                                                                                                                                                                                                                                                                                                                                                                                                                                                                                                                                                                                                                                                                                                                                                                                                                                                                                                                                                                                                                                                                                                                                                                                                                                                                                                                                                                                                                                                                                                                                                                                                                                                                                                                                                                                                                                                                                                        event_data  \\\n",
       "0  {'quiz_version': 103, 'quiz_data': [{'answers': [{'weight': 100, 'text': 'answer_text', 'id': 5581, 'numerical_answer_type': 'exact_answer', 'exact': 1.0, 'margin': 0.0}, {'weight': 100, 'text': 'answer_text', 'id': 75, 'numerical_answer_type': 'exact_answer', 'exact': 2.0, 'margin': 0.0}, {'weight': 100, 'text': 'answer_text', 'id': 7386, 'numerical_answer_type': 'exact_answer', 'exact': 2.0, 'margin': 0.0}], 'correct_comments': '', 'incorrect_comments': '', 'question_text': '\n",
       "<p><span style=\"font-size: 12pt;\">How did your meeting with your mentor go today?</span></p>\n",
       "<p><span style=\"color: #1d1c1d; font-family: Slack-Lato, appleLogo, sans-serif; font-size: 12pt; font-style: normal; font-weight: 400; text-align: left; text-indent: 0px; white-space: normal; background-color: #ffffff; display: inline !important; float: none;\">Answer on a scale of 1-3, where 1 = below expectations, 2 = met expectations, and 3 = exceeded expectations.</span></p>\n",
       "', 'question_type': 'numerical_question', 'question_name': 'Question 1', 'migration_id': 'mastercourse_16855_145_d683257e40ec6c2461734207fea7ab4f', 'points_possible': 1.0, 'assessment_question_migration_id': 'mastercourse_16855_145_f47b767d37e06559ff801f2d253307ba', 'question_bank_name': 'Sprint 1, Module 3 - Team and Leadership Reflection', 'question_bank_migration_id': 'i17ed369bf5b2d4815e2c8f1fb8e94177', 'is_quiz_question_bank': True, 'prepped_for_import': True, 'position': 1, 'id': 21971, 'assessment_question_id': None, 'published_at': '2020-10-26T22:43:19+00:00', 'name': 'Question 1'}, {'answers': [], 'correct_comments': '', 'incorrect_comments': '', 'question_text': '[Optional] Anything specific we should know about your mentor session?', 'question_name': 'Question 2', 'migration_id': 'mastercourse_16855_145_6206c046f043d65c61091e855016e584', 'points_possible': 1.0, 'assessment_question_migration_id': 'mastercourse_16855_145_f47b767d37e06559ff801f2d253307ba', 'question_type': 'essay_question', 'question_bank_name': 'Sprint 1, Module 3 - Team and Leadership Reflection', 'question_bank_migration_id': 'i17ed369bf5b2d4815e2c8f1fb8e94177', 'is_quiz_question_bank': True, 'prepped_for_import': True, 'position': 2, 'id': 21972, 'assessment_question_id': None, 'published_at': '2020-10-26T22:43:19+00:00', 'name': 'Question 2'}]}   \n",
       "1                                                                                                                                                                                                                                                                                                                                                                                                                                                                                                                                                                                                                                                                                                                                                                                                                                                                                                                                                                                                                                                                                                                                                                                                                                                                                                                                                                                                                                                                                                                                                                                                                                                                                                                                                                                                                                                                                                                                                                                                                                                                                                                                                                                                                                                            {'user_agent': 'Mozilla/5.0 (Windows NT 10.0; Win64; x64) AppleWebKit/537.36 (KHTML, like Gecko) Chrome/86.0.4240.111 Safari/537.36'}   \n",
       "2                                                                                                                                                                                                                                                                                                                                                                                                                                                                                                                                                                                                                                                                                                                                                                                                                                                                                                                                                                                                                                                                                                                                                                                                                                                                                                                                                                                                                                                                                                                                                                                                                                                                                                                                                                                                                                                                                                                                                                                                                                                                                                                                                                                                                                                            {'user_agent': 'Mozilla/5.0 (Windows NT 10.0; Win64; x64) AppleWebKit/537.36 (KHTML, like Gecko) Chrome/86.0.4240.183 Safari/537.36'}   \n",
       "3                                                                                                                                                                                                                                                                                                                                                                                                                                                                                                                                                                                                                                                                                                                                                                                                                                                                                                                                                                                                                                                                                                                                                                                                                                                                                                                                                                                                                                                                                                                                                                                                                                                                                                                                                                                                                                                                                                                                                                                                                                                                                                                                                                                                                                                                                                    [{'quiz_question_id': '21971', 'answer': 2.0}, {'quiz_question_id': '21972', 'answer': None}]   \n",
       "4                                                                                                                                                                                                                                                                                                                                                                                                                                                                                                                                                                                                                                                                                                                                                                                                                                                                                                                                                                                                                                                                                                                                                                                                                                                                                                                                                                                                                                                                                                                                                                                                                                                                                                                                                                                                                                                                                                                                                                                                                                                                                                                                                                                                                                                                                                                                                                                          [21971]   \n",
       "5                                                                                                                                                                                                                                                                                                                                                                                                                                                                                                                                                                                                                                                                                                                                                                                                                                                                                                                                                                                                                                                                                                                                                                                                                                                                                                                                                                                                                                                                                                                                                                                                                                                                                                                                                                                                                                                                                                                                                                                                                                                                                                                                                                                                                                                                                                                                                                                          [21972]   \n",
       "\n",
       "             created_at  \n",
       "0  2020-10-26T23:08:10Z  \n",
       "1  2020-10-26T23:08:11Z  \n",
       "2  2020-11-06T02:01:45Z  \n",
       "3  2020-11-06T02:01:54Z  \n",
       "4  2020-11-06T02:01:57Z  \n",
       "5  2020-11-06T02:01:57Z  "
      ],
      "text/html": "<div>\n<style scoped>\n    .dataframe tbody tr th:only-of-type {\n        vertical-align: middle;\n    }\n\n    .dataframe tbody tr th {\n        vertical-align: top;\n    }\n\n    .dataframe thead th {\n        text-align: right;\n    }\n</style>\n<table border=\"1\" class=\"dataframe\">\n  <thead>\n    <tr style=\"text-align: right;\">\n      <th></th>\n      <th>id</th>\n      <th>event_type</th>\n      <th>event_data</th>\n      <th>created_at</th>\n    </tr>\n  </thead>\n  <tbody>\n    <tr>\n      <th>0</th>\n      <td>644116</td>\n      <td>submission_created</td>\n      <td>{'quiz_version': 103, 'quiz_data': [{'answers': [{'weight': 100, 'text': 'answer_text', 'id': 5581, 'numerical_answer_type': 'exact_answer', 'exact': 1.0, 'margin': 0.0}, {'weight': 100, 'text': 'answer_text', 'id': 75, 'numerical_answer_type': 'exact_answer', 'exact': 2.0, 'margin': 0.0}, {'weight': 100, 'text': 'answer_text', 'id': 7386, 'numerical_answer_type': 'exact_answer', 'exact': 2.0, 'margin': 0.0}], 'correct_comments': '', 'incorrect_comments': '', 'question_text': '\n&lt;p&gt;&lt;span style=\"font-size: 12pt;\"&gt;How did your meeting with your mentor go today?&lt;/span&gt;&lt;/p&gt;\n&lt;p&gt;&lt;span style=\"color: #1d1c1d; font-family: Slack-Lato, appleLogo, sans-serif; font-size: 12pt; font-style: normal; font-weight: 400; text-align: left; text-indent: 0px; white-space: normal; background-color: #ffffff; display: inline !important; float: none;\"&gt;Answer on a scale of 1-3, where 1 = below expectations, 2 = met expectations, and 3 = exceeded expectations.&lt;/span&gt;&lt;/p&gt;\n', 'question_type': 'numerical_question', 'question_name': 'Question 1', 'migration_id': 'mastercourse_16855_145_d683257e40ec6c2461734207fea7ab4f', 'points_possible': 1.0, 'assessment_question_migration_id': 'mastercourse_16855_145_f47b767d37e06559ff801f2d253307ba', 'question_bank_name': 'Sprint 1, Module 3 - Team and Leadership Reflection', 'question_bank_migration_id': 'i17ed369bf5b2d4815e2c8f1fb8e94177', 'is_quiz_question_bank': True, 'prepped_for_import': True, 'position': 1, 'id': 21971, 'assessment_question_id': None, 'published_at': '2020-10-26T22:43:19+00:00', 'name': 'Question 1'}, {'answers': [], 'correct_comments': '', 'incorrect_comments': '', 'question_text': '[Optional] Anything specific we should know about your mentor session?', 'question_name': 'Question 2', 'migration_id': 'mastercourse_16855_145_6206c046f043d65c61091e855016e584', 'points_possible': 1.0, 'assessment_question_migration_id': 'mastercourse_16855_145_f47b767d37e06559ff801f2d253307ba', 'question_type': 'essay_question', 'question_bank_name': 'Sprint 1, Module 3 - Team and Leadership Reflection', 'question_bank_migration_id': 'i17ed369bf5b2d4815e2c8f1fb8e94177', 'is_quiz_question_bank': True, 'prepped_for_import': True, 'position': 2, 'id': 21972, 'assessment_question_id': None, 'published_at': '2020-10-26T22:43:19+00:00', 'name': 'Question 2'}]}</td>\n      <td>2020-10-26T23:08:10Z</td>\n    </tr>\n    <tr>\n      <th>1</th>\n      <td>644117</td>\n      <td>session_started</td>\n      <td>{'user_agent': 'Mozilla/5.0 (Windows NT 10.0; Win64; x64) AppleWebKit/537.36 (KHTML, like Gecko) Chrome/86.0.4240.111 Safari/537.36'}</td>\n      <td>2020-10-26T23:08:11Z</td>\n    </tr>\n    <tr>\n      <th>2</th>\n      <td>827965</td>\n      <td>session_started</td>\n      <td>{'user_agent': 'Mozilla/5.0 (Windows NT 10.0; Win64; x64) AppleWebKit/537.36 (KHTML, like Gecko) Chrome/86.0.4240.183 Safari/537.36'}</td>\n      <td>2020-11-06T02:01:45Z</td>\n    </tr>\n    <tr>\n      <th>3</th>\n      <td>827981</td>\n      <td>question_answered</td>\n      <td>[{'quiz_question_id': '21971', 'answer': 2.0}, {'quiz_question_id': '21972', 'answer': None}]</td>\n      <td>2020-11-06T02:01:54Z</td>\n    </tr>\n    <tr>\n      <th>4</th>\n      <td>827987</td>\n      <td>question_viewed</td>\n      <td>[21971]</td>\n      <td>2020-11-06T02:01:57Z</td>\n    </tr>\n    <tr>\n      <th>5</th>\n      <td>827988</td>\n      <td>question_viewed</td>\n      <td>[21972]</td>\n      <td>2020-11-06T02:01:57Z</td>\n    </tr>\n  </tbody>\n</table>\n</div>"
     },
     "metadata": {},
     "execution_count": 96
    }
   ],
   "source": [
    "sub_57294_df"
   ]
  },
  {
   "cell_type": "code",
   "execution_count": 78,
   "metadata": {},
   "outputs": [
    {
     "output_type": "execute_result",
     "data": {
      "text/plain": [
       "       id         event_type  \\\n",
       "4  660260  question_answered   \n",
       "5  660262  question_answered   \n",
       "\n",
       "                                                                                      event_data  \\\n",
       "4  [{'quiz_question_id': '21971', 'answer': 3.0}, {'quiz_question_id': '21972', 'answer': None}]   \n",
       "5                                         [{'quiz_question_id': '21972', 'answer': '<p>no</p>'}]   \n",
       "\n",
       "             created_at  \n",
       "4  2020-10-27T22:50:46Z  \n",
       "5  2020-10-27T22:50:48Z  "
      ],
      "text/html": "<div>\n<style scoped>\n    .dataframe tbody tr th:only-of-type {\n        vertical-align: middle;\n    }\n\n    .dataframe tbody tr th {\n        vertical-align: top;\n    }\n\n    .dataframe thead th {\n        text-align: right;\n    }\n</style>\n<table border=\"1\" class=\"dataframe\">\n  <thead>\n    <tr style=\"text-align: right;\">\n      <th></th>\n      <th>id</th>\n      <th>event_type</th>\n      <th>event_data</th>\n      <th>created_at</th>\n    </tr>\n  </thead>\n  <tbody>\n    <tr>\n      <th>4</th>\n      <td>660260</td>\n      <td>question_answered</td>\n      <td>[{'quiz_question_id': '21971', 'answer': 3.0}, {'quiz_question_id': '21972', 'answer': None}]</td>\n      <td>2020-10-27T22:50:46Z</td>\n    </tr>\n    <tr>\n      <th>5</th>\n      <td>660262</td>\n      <td>question_answered</td>\n      <td>[{'quiz_question_id': '21972', 'answer': '&lt;p&gt;no&lt;/p&gt;'}]</td>\n      <td>2020-10-27T22:50:48Z</td>\n    </tr>\n  </tbody>\n</table>\n</div>"
     },
     "metadata": {},
     "execution_count": 78
    }
   ],
   "source": [
    "#sub_643374_df = sub_643374_df[sub_643374_df[\"event_type\"] == \"question_answered\"]\n",
    "sub_643374_df"
   ]
  },
  {
   "cell_type": "code",
   "execution_count": 81,
   "metadata": {},
   "outputs": [],
   "source": [
    "event_data_df = sub_643374_df[\"event_data\"].apply(pd.Series)"
   ]
  },
  {
   "cell_type": "code",
   "execution_count": 88,
   "metadata": {},
   "outputs": [],
   "source": [
    "for i in sub_643374_df[\"event_data\"]:"
   ]
  },
  {
   "cell_type": "code",
   "execution_count": 95,
   "metadata": {},
   "outputs": [
    {
     "output_type": "execute_result",
     "data": {
      "text/plain": [
       "  quiz_question_id  answer\n",
       "0            21971     3.0"
      ],
      "text/html": "<div>\n<style scoped>\n    .dataframe tbody tr th:only-of-type {\n        vertical-align: middle;\n    }\n\n    .dataframe tbody tr th {\n        vertical-align: top;\n    }\n\n    .dataframe thead th {\n        text-align: right;\n    }\n</style>\n<table border=\"1\" class=\"dataframe\">\n  <thead>\n    <tr style=\"text-align: right;\">\n      <th></th>\n      <th>quiz_question_id</th>\n      <th>answer</th>\n    </tr>\n  </thead>\n  <tbody>\n    <tr>\n      <th>0</th>\n      <td>21971</td>\n      <td>3.0</td>\n    </tr>\n  </tbody>\n</table>\n</div>"
     },
     "metadata": {},
     "execution_count": 95
    }
   ],
   "source": [
    "pd.DataFrame(this_thing, index=[0])"
   ]
  },
  {
   "cell_type": "code",
   "execution_count": 92,
   "metadata": {},
   "outputs": [],
   "source": [
    "this_thing = sub_643374_df[\"event_data\"][4][0]"
   ]
  },
  {
   "cell_type": "code",
   "execution_count": 32,
   "metadata": {},
   "outputs": [],
   "source": [
    "r = requests.get(\"https://lambdaschool.instructure.com/api/v1/courses/495/quizzes/6617/submissions\", headers=headers)\n",
    "r"
   ]
  },
  {
   "cell_type": "code",
   "execution_count": 34,
   "metadata": {},
   "outputs": [],
   "source": [
    "raw = r.json()\n",
    "\n",
    "with open(\"submissions-6617.json\",\"w\") as outfile:\n",
    "    json.dump(raw[\"quiz_submissions\"], outfile)"
   ]
  },
  {
   "cell_type": "code",
   "execution_count": 35,
   "metadata": {},
   "outputs": [
    {
     "output_type": "execute_result",
     "data": {
      "text/plain": [
       "      id  quiz_id  quiz_version  user_id  submission_id  score  kept_score  \\\n",
       "0  57046     6617           101      530         309114      1           1   \n",
       "1  57051     6617           101     3154         328659      1           1   \n",
       "2  57309     6617           103     1158         315038      1           1   \n",
       "3  57312     6617           103      247         303109      1           1   \n",
       "4  57331     6617           103     1232         322486      1           1   \n",
       "\n",
       "                 started_at                    end_at  \\\n",
       "0 2020-10-26 21:38:23+00:00 2020-11-21 07:59:59+00:00   \n",
       "1 2020-10-26 21:43:12+00:00 2020-11-21 07:59:59+00:00   \n",
       "2 2020-10-26 23:13:50+00:00 2020-11-21 07:59:59+00:00   \n",
       "3 2020-10-26 23:14:41+00:00 2020-11-21 07:59:59+00:00   \n",
       "4 2020-10-26 23:20:24+00:00 2020-11-21 07:59:59+00:00   \n",
       "\n",
       "                finished_at  attempt workflow_state  fudge_points  \\\n",
       "0 2020-10-26 21:46:11+00:00        1       complete           NaN   \n",
       "1 2020-10-27 23:49:39+00:00        1       complete           NaN   \n",
       "2 2020-10-28 00:18:02+00:00        1       complete           NaN   \n",
       "3 2020-11-21 07:59:59+00:00        1       complete           NaN   \n",
       "4 2020-10-26 23:20:43+00:00        1       complete           NaN   \n",
       "\n",
       "   quiz_points_possible  extra_attempts extra_time  manually_unlocked  \\\n",
       "0                     1             NaN        NaT                NaN   \n",
       "1                     1             NaN        NaT                NaN   \n",
       "2                     1             NaN        NaT                NaN   \n",
       "3                     1             NaN        NaT                NaN   \n",
       "4                     1             NaN        NaT                NaN   \n",
       "\n",
       "                                                   validation_token  \\\n",
       "0  d9fa7cec3dc1d1f13063935dd7769bb2d27eb0ec17039e56f0cbb33a1aa9a210   \n",
       "1  5cfce816547c268ec2c40d014942a1b31374541fe3d621f3bc0264a946a28f07   \n",
       "2  46563984d27a996c24bea3dcaba3ff0ddad608d665ae5057d729467f2e9795f0   \n",
       "3  c2850e5ebfbc7b2872fcd3ba72b752779d81751e10e72a1f2be0eb3cf5c265ac   \n",
       "4  6f96316920863b1ebf9302f9a0a9df0a9f07177c43a58c50499fa69c19de3e93   \n",
       "\n",
       "   score_before_regrade  has_seen_results  time_spent  attempts_left  \\\n",
       "0                   NaN               0.0         468              0   \n",
       "1                   NaN               0.0       93986              0   \n",
       "2                   NaN               0.0       90252              0   \n",
       "3                   NaN               NaN     2191517              0   \n",
       "4                   NaN               0.0          19              0   \n",
       "\n",
       "   overdue_and_needs_submission  excused?  \\\n",
       "0                         False     False   \n",
       "1                         False     False   \n",
       "2                         False     False   \n",
       "3                         False     False   \n",
       "4                         False     False   \n",
       "\n",
       "                                                                          html_url  \\\n",
       "0  https://lambdaschool.instructure.com/courses/495/quizzes/6617/submissions/57046   \n",
       "1  https://lambdaschool.instructure.com/courses/495/quizzes/6617/submissions/57051   \n",
       "2  https://lambdaschool.instructure.com/courses/495/quizzes/6617/submissions/57309   \n",
       "3  https://lambdaschool.instructure.com/courses/495/quizzes/6617/submissions/57312   \n",
       "4  https://lambdaschool.instructure.com/courses/495/quizzes/6617/submissions/57331   \n",
       "\n",
       "                                                                                                 result_url  \n",
       "0  https://lambdaschool.instructure.com/courses/495/quizzes/6617/history?quiz_submission_id=57046&version=1  \n",
       "1  https://lambdaschool.instructure.com/courses/495/quizzes/6617/history?quiz_submission_id=57051&version=1  \n",
       "2  https://lambdaschool.instructure.com/courses/495/quizzes/6617/history?quiz_submission_id=57309&version=1  \n",
       "3  https://lambdaschool.instructure.com/courses/495/quizzes/6617/history?quiz_submission_id=57312&version=1  \n",
       "4  https://lambdaschool.instructure.com/courses/495/quizzes/6617/history?quiz_submission_id=57331&version=1  "
      ],
      "text/html": "<div>\n<style scoped>\n    .dataframe tbody tr th:only-of-type {\n        vertical-align: middle;\n    }\n\n    .dataframe tbody tr th {\n        vertical-align: top;\n    }\n\n    .dataframe thead th {\n        text-align: right;\n    }\n</style>\n<table border=\"1\" class=\"dataframe\">\n  <thead>\n    <tr style=\"text-align: right;\">\n      <th></th>\n      <th>id</th>\n      <th>quiz_id</th>\n      <th>quiz_version</th>\n      <th>user_id</th>\n      <th>submission_id</th>\n      <th>score</th>\n      <th>kept_score</th>\n      <th>started_at</th>\n      <th>end_at</th>\n      <th>finished_at</th>\n      <th>attempt</th>\n      <th>workflow_state</th>\n      <th>fudge_points</th>\n      <th>quiz_points_possible</th>\n      <th>extra_attempts</th>\n      <th>extra_time</th>\n      <th>manually_unlocked</th>\n      <th>validation_token</th>\n      <th>score_before_regrade</th>\n      <th>has_seen_results</th>\n      <th>time_spent</th>\n      <th>attempts_left</th>\n      <th>overdue_and_needs_submission</th>\n      <th>excused?</th>\n      <th>html_url</th>\n      <th>result_url</th>\n    </tr>\n  </thead>\n  <tbody>\n    <tr>\n      <th>0</th>\n      <td>57046</td>\n      <td>6617</td>\n      <td>101</td>\n      <td>530</td>\n      <td>309114</td>\n      <td>1</td>\n      <td>1</td>\n      <td>2020-10-26 21:38:23+00:00</td>\n      <td>2020-11-21 07:59:59+00:00</td>\n      <td>2020-10-26 21:46:11+00:00</td>\n      <td>1</td>\n      <td>complete</td>\n      <td>NaN</td>\n      <td>1</td>\n      <td>NaN</td>\n      <td>NaT</td>\n      <td>NaN</td>\n      <td>d9fa7cec3dc1d1f13063935dd7769bb2d27eb0ec17039e56f0cbb33a1aa9a210</td>\n      <td>NaN</td>\n      <td>0.0</td>\n      <td>468</td>\n      <td>0</td>\n      <td>False</td>\n      <td>False</td>\n      <td>https://lambdaschool.instructure.com/courses/495/quizzes/6617/submissions/57046</td>\n      <td>https://lambdaschool.instructure.com/courses/495/quizzes/6617/history?quiz_submission_id=57046&amp;version=1</td>\n    </tr>\n    <tr>\n      <th>1</th>\n      <td>57051</td>\n      <td>6617</td>\n      <td>101</td>\n      <td>3154</td>\n      <td>328659</td>\n      <td>1</td>\n      <td>1</td>\n      <td>2020-10-26 21:43:12+00:00</td>\n      <td>2020-11-21 07:59:59+00:00</td>\n      <td>2020-10-27 23:49:39+00:00</td>\n      <td>1</td>\n      <td>complete</td>\n      <td>NaN</td>\n      <td>1</td>\n      <td>NaN</td>\n      <td>NaT</td>\n      <td>NaN</td>\n      <td>5cfce816547c268ec2c40d014942a1b31374541fe3d621f3bc0264a946a28f07</td>\n      <td>NaN</td>\n      <td>0.0</td>\n      <td>93986</td>\n      <td>0</td>\n      <td>False</td>\n      <td>False</td>\n      <td>https://lambdaschool.instructure.com/courses/495/quizzes/6617/submissions/57051</td>\n      <td>https://lambdaschool.instructure.com/courses/495/quizzes/6617/history?quiz_submission_id=57051&amp;version=1</td>\n    </tr>\n    <tr>\n      <th>2</th>\n      <td>57309</td>\n      <td>6617</td>\n      <td>103</td>\n      <td>1158</td>\n      <td>315038</td>\n      <td>1</td>\n      <td>1</td>\n      <td>2020-10-26 23:13:50+00:00</td>\n      <td>2020-11-21 07:59:59+00:00</td>\n      <td>2020-10-28 00:18:02+00:00</td>\n      <td>1</td>\n      <td>complete</td>\n      <td>NaN</td>\n      <td>1</td>\n      <td>NaN</td>\n      <td>NaT</td>\n      <td>NaN</td>\n      <td>46563984d27a996c24bea3dcaba3ff0ddad608d665ae5057d729467f2e9795f0</td>\n      <td>NaN</td>\n      <td>0.0</td>\n      <td>90252</td>\n      <td>0</td>\n      <td>False</td>\n      <td>False</td>\n      <td>https://lambdaschool.instructure.com/courses/495/quizzes/6617/submissions/57309</td>\n      <td>https://lambdaschool.instructure.com/courses/495/quizzes/6617/history?quiz_submission_id=57309&amp;version=1</td>\n    </tr>\n    <tr>\n      <th>3</th>\n      <td>57312</td>\n      <td>6617</td>\n      <td>103</td>\n      <td>247</td>\n      <td>303109</td>\n      <td>1</td>\n      <td>1</td>\n      <td>2020-10-26 23:14:41+00:00</td>\n      <td>2020-11-21 07:59:59+00:00</td>\n      <td>2020-11-21 07:59:59+00:00</td>\n      <td>1</td>\n      <td>complete</td>\n      <td>NaN</td>\n      <td>1</td>\n      <td>NaN</td>\n      <td>NaT</td>\n      <td>NaN</td>\n      <td>c2850e5ebfbc7b2872fcd3ba72b752779d81751e10e72a1f2be0eb3cf5c265ac</td>\n      <td>NaN</td>\n      <td>NaN</td>\n      <td>2191517</td>\n      <td>0</td>\n      <td>False</td>\n      <td>False</td>\n      <td>https://lambdaschool.instructure.com/courses/495/quizzes/6617/submissions/57312</td>\n      <td>https://lambdaschool.instructure.com/courses/495/quizzes/6617/history?quiz_submission_id=57312&amp;version=1</td>\n    </tr>\n    <tr>\n      <th>4</th>\n      <td>57331</td>\n      <td>6617</td>\n      <td>103</td>\n      <td>1232</td>\n      <td>322486</td>\n      <td>1</td>\n      <td>1</td>\n      <td>2020-10-26 23:20:24+00:00</td>\n      <td>2020-11-21 07:59:59+00:00</td>\n      <td>2020-10-26 23:20:43+00:00</td>\n      <td>1</td>\n      <td>complete</td>\n      <td>NaN</td>\n      <td>1</td>\n      <td>NaN</td>\n      <td>NaT</td>\n      <td>NaN</td>\n      <td>6f96316920863b1ebf9302f9a0a9df0a9f07177c43a58c50499fa69c19de3e93</td>\n      <td>NaN</td>\n      <td>0.0</td>\n      <td>19</td>\n      <td>0</td>\n      <td>False</td>\n      <td>False</td>\n      <td>https://lambdaschool.instructure.com/courses/495/quizzes/6617/submissions/57331</td>\n      <td>https://lambdaschool.instructure.com/courses/495/quizzes/6617/history?quiz_submission_id=57331&amp;version=1</td>\n    </tr>\n  </tbody>\n</table>\n</div>"
     },
     "metadata": {},
     "execution_count": 35
    }
   ],
   "source": [
    "sub_df_6617 = pd.read_json(\"submissions-6617.json\")\n",
    "sub_df_6617.head()"
   ]
  },
  {
   "cell_type": "code",
   "execution_count": 37,
   "metadata": {},
   "outputs": [
    {
     "output_type": "execute_result",
     "data": {
      "text/plain": [
       "<Response [200]>"
      ]
     },
     "metadata": {},
     "execution_count": 37
    }
   ],
   "source": [
    "r = requests.get(\"https://lambdaschool.instructure.com/api/v1/courses/495/quizzes/6617/submissions/57046/events\", headers=headers)\n",
    "r"
   ]
  },
  {
   "cell_type": "code",
   "execution_count": 38,
   "metadata": {},
   "outputs": [],
   "source": [
    "raw = r.json()[\"quiz_submission_events\"]\n",
    "for i in raw:\n",
    "    i[\"user_id\"] = 530"
   ]
  },
  {
   "cell_type": "code",
   "execution_count": 39,
   "metadata": {},
   "outputs": [],
   "source": [
    "with open(\"events-57046.json\", \"w\") as outfile:\n",
    "    json.dump(raw, outfile)"
   ]
  },
  {
   "cell_type": "code",
   "execution_count": 40,
   "metadata": {},
   "outputs": [
    {
     "output_type": "execute_result",
     "data": {
      "text/plain": [
       "                                                                                                                                                                                                                                                                                                                                                                                                                                                                                                                                                                                                                                                                                                                                                                                                                                                                                                                                                                                                                                                                                                                                                                                                                                                                              [22087]   \n",
       "5                                                                                                                                                                                                                                                                                                                                                                                                                                                                                                                                                                                                                                                                                                                                                                                                                                                                                                                                                                                                                                                                                                                                                                                                                                                                                                                                                                                                                                                                                                                                                                                                                                                                                                                                                                                                                                                                                                                                                                                                                                                                                                                                                                                                                                                                                                                                                                                                                                                                                                                                                                                                                                                                                                                                                                                                                                                                                                                                                                                                                                                                                                                                                                                                                                                                                                                                                                                                                                                                                                                                                                                                                                                                         {'user_agent': 'Mozilla/5.0 (Windows NT 10.0; Win64; x64) AppleWebKit/537.36 (KHTML, like Gecko) Chrome/86.0.4240.75 Safari/537.36'}   \n",
       "6                                                                                                                                                                                                                                                                                                                                                                                                                                                                                                                                                                                                                                                                                                                                                                                                                                                                                                                                                                                                                                                                                                                                                                                                                                                                                                                                                                                                                                                                                                                                                                                                                                                                                                                                                                                                                                                                                                                                                                                                                                                                                                                                                                                                                                                                                                                                                                                                                                                                                                                                                                                                                                                                                                                                                                                                                                                                                                                                                                                                                                                                                                                                                                                                                                                                                                                                                                                                                                                                                                                                                                                                                                                                                                                                                        [{'quiz_question_id': '22087', 'answer': '<p>T</p>'}]   \n",
       "7                                                                                                                                                                                                                                                                                                                                                                                                                                                                                                                                                                                                                                                                                                                                                                                                                                                                                                                                                                                                                                                                                                                                                                                                                                                                                                                                                                                                                                                                                                                                                                                                                                                                                                                                                                                                                                                                                                                                                                                                                                                                                                                                                                                                                                                                                                                                                                                                                                                                                                                                                                                                                                                                                                                                                                                                                                                                                                                                                                                                                                                                                                                                                                                                                                                                                                                                                                                                                                                                                                                                                                                                                                                                                                                                                                                                      [22085]   \n",
       "8                                                                                                                                                                                                                                                                                                                                                                                                                                                                                                                                                                                                                                                                                                                                                                                                                                                                                                                                                                                                                                                                                                                                                                                                                                                                                                                                                                                                                                                                                                                                                                                                                                                                                                                                                                                                                                                                                                                                                                                                                                                                                                                                                                                                                                                                                                                                                                                                                                                                                                                                                                                                                                                                                                                                                                                                                                                                                                                                                                                                                                                                                                                                                                                                                                                                                                                                                                                                                                                                                                                                                                                                                                                                                                                       [{'quiz_question_id': '22087', 'answer': '<p>There are always going to be&nbsp;</p>'}]   \n",
       "9                                                                                                                                                                                                                                                                                                                                                                                                                                                                                                                                                                                                                                                                                                                                                                                                                                                                                                                                                                                                                                                                                                                                                                                                                                                                                                                                                                                                                                                                                                                                                                                                                                                                                                                                                                                                                                                                                                                                                                                                                                                                                                                                                                                                                                                                                                                                                                                                                                                                                                                                                                                                                                                                                                                                                                                                                                                                                                                                                                                                                                                                                                                                                                                                                                                                                                                                                                                                                                                                                                                                                                                                     [{'quiz_question_id': '22087', 'answer': '<p>There are always going to be different tendencies and personalities in the workplace, but it is important that you learn to get along with your co-w</p>'}]   \n",
       "\n",
       "                 created_at  user_id  \n",
       "0 2020-10-26 21:38:23+00:00      530  \n",
       "1 2020-10-26 21:38:24+00:00      530  \n",
       "2 2020-10-26 21:38:40+00:00      530  \n",
       "3 2020-10-26 21:38:40+00:00      530  \n",
       "4 2020-10-26 21:38:40+00:00      530  \n",
       "5 2020-10-26 21:45:05+00:00      530  \n",
       "6 2020-10-26 21:45:10+00:00      530  \n",
       "7 2020-10-26 21:45:20+00:00      530  \n",
       "8 2020-10-26 21:45:20+00:00      530  \n",
       "9 2020-10-26 21:45:50+00:00      530  "
      ],
      "text/html": "<div>\n<style scoped>\n    .dataframe tbody tr th:only-of-type {\n        vertical-align: middle;\n    }\n\n    .dataframe tbody tr th {\n        vertical-align: top;\n    }\n\n    .dataframe thead th {\n        text-align: right;\n    }\n</style>\n<table border=\"1\" class=\"dataframe\">\n  <thead>\n    <tr style=\"text-align: right;\">\n      <th></th>\n      <th>id</th>\n      <th>event_type</th>\n      <th>event_data</th>\n      <th>created_at</th>\n      <th>user_id</th>\n    </tr>\n  </thead>\n  <tbody>\n    <tr>\n      <th>0</th>\n      <td>641105</td>\n      <td>submission_created</td>\n      <td>{'quiz_version': 101, 'quiz_data': [{'answers': [{'weight': 100, 'text': 'answer_text', 'id': 2598, 'numerical_answer_type': 'exact_answer', 'exact': 1.0, 'margin': 0.0}, {'weight': 100, 'text': 'answer_text', 'id': 2967, 'numerical_answer_type': 'exact_answer', 'exact': 2.0, 'margin': 0.0}, {'weight': 100, 'text': 'answer_text', 'id': 1988, 'numerical_answer_type': 'exact_answer', 'exact': 3.0, 'margin': 0.0}], 'correct_comments': '', 'incorrect_comments': '', 'question_text': '&lt;div id=\"t-formula-bar-input-container\"&gt;\n&lt;div dir=\"ltr\"&gt;\n&lt;div id=\"t-formula-bar-input\"&gt;\n&lt;p class=\"cell-input disabled-input\" dir=\"ltr\" role=\"combobox\" aria-autocomplete=\"list\"&gt;How did your orientation go today?&lt;/p&gt;\n&lt;p class=\"cell-input disabled-input\" dir=\"ltr\" role=\"combobox\" aria-autocomplete=\"list\"&gt;&lt;span style=\"color: #1d1c1d; font-family: Slack-Lato, appleLogo, sans-serif; font-size: 12pt; font-style: normal; font-weight: 400; text-align: left; text-indent: 0px; white-space: normal; background-color: #ffffff; display: inline !important; float: none;\"&gt;Answer on a scale of 1-3, where 1 = below expectations, 2 = met expectations, and 3 = exceeded expectations.&lt;/span&gt;&lt;/p&gt;\n&lt;/div&gt;\n&lt;/div&gt;\n&lt;/div&gt;', 'question_type': 'numerical_question', 'question_name': 'Question 1', 'migration_id': 'mastercourse_16855_145_dbe668329244508a33f6459f4759c677', 'points_possible': 1.0, 'assessment_question_migration_id': 'mastercourse_16855_145_f47b767d37e06559ff801f2d253307ba', 'question_bank_name': 'Sprint 1, Module 2 - Mentor/Mentee Orientation', 'question_bank_migration_id': 'i594b28f22fd550093f9e8edb8aefa1c6', 'is_quiz_question_bank': True, 'prepped_for_import': True, 'position': 1, 'id': 22085, 'assessment_question_id': None, 'published_at': '2020-10-26T20:44:17+00:00', 'name': 'Question 1'}, {'answers': [], 'correct_comments': '', 'incorrect_comments': '', 'question_text': '&lt;div id=\"t-formula-bar-input-container\"&gt;\n&lt;div dir=\"ltr\"&gt;\n&lt;div id=\"t-formula-bar-input\"&gt;\n&lt;p class=\"cell-input disabled-input\" dir=\"ltr\" role=\"combobox\" aria-autocomplete=\"list\"&gt;What is one key take-away you've gained from today's session?&lt;/p&gt;\n&lt;/div&gt;\n&lt;/div&gt;\n&lt;/div&gt;', 'question_name': 'Question 2', 'migration_id': 'mastercourse_16855_145_593232abad6356f1961dfba33cc0392f', 'points_possible': 1.0, 'assessment_question_migration_id': 'mastercourse_16855_145_f47b767d37e06559ff801f2d253307ba', 'question_type': 'essay_question', 'question_bank_name': 'Sprint 1, Module 2 - Mentor/Mentee Orientation', 'question_bank_migration_id': 'i594b28f22fd550093f9e8edb8aefa1c6', 'is_quiz_question_bank': True, 'prepped_for_import': True, 'position': 2, 'id': 22087, 'assessment_question_id': None, 'published_at': '2020-10-26T20:44:17+00:00', 'name': 'Question 2'}, {'answers': [], 'correct_comments': '', 'incorrect_comments': '', 'question_text': '&lt;div id=\"t-formula-bar-input-container\"&gt;\n&lt;div dir=\"ltr\"&gt;\n&lt;div id=\"t-formula-bar-input\"&gt;\n&lt;p class=\"cell-input disabled-input\" dir=\"ltr\" role=\"combobox\" aria-autocomplete=\"list\"&gt;&lt;span&gt;Do you have any questions or anything we should know about?&lt;/span&gt;&lt;/p&gt;\n&lt;/div&gt;\n&lt;/div&gt;\n&lt;/div&gt;', 'question_name': 'Question 3', 'migration_id': 'mastercourse_16855_145_b5f72156ed2d2464e6d21f8e57feb68e', 'points_possible': 1.0, 'assessment_question_migration_id': 'mastercourse_16855_145_f47b767d37e06559ff801f2d253307ba', 'question_type': 'essay_question', 'question_bank_name': 'Sprint 1, Module 2 - Mentor/Mentee Orientation', 'question_bank_migration_id': 'i594b28f22fd550093f9e8edb8aefa1c6', 'is_quiz_question_bank': True, 'prepped_for_import': True, 'position': 3, 'id': 22089, 'assessment_question_id': None, 'published_at': '2020-10-26T20:44:17+00:00', 'name': 'Question 3'}]}</td>\n      <td>2020-10-26 21:38:23+00:00</td>\n      <td>530</td>\n    </tr>\n    <tr>\n      <th>1</th>\n      <td>641106</td>\n      <td>session_started</td>\n      <td>{'user_agent': 'Mozilla/5.0 (Windows NT 10.0; Win64; x64) AppleWebKit/537.36 (KHTML, like Gecko) Chrome/86.0.4240.75 Safari/537.36'}</td>\n      <td>2020-10-26 21:38:24+00:00</td>\n      <td>530</td>\n    </tr>\n    <tr>\n      <th>2</th>\n      <td>641108</td>\n      <td>question_viewed</td>\n      <td>[22085]</td>\n      <td>2020-10-26 21:38:40+00:00</td>\n      <td>530</td>\n    </tr>\n    <tr>\n      <th>3</th>\n      <td>641109</td>\n      <td>question_answered</td>\n      <td>[{'quiz_question_id': '22085', 'answer': 3.0}, {'quiz_question_id': '22087', 'answer': None}, {'quiz_question_id': '22089', 'answer': None}]</td>\n      <td>2020-10-26 21:38:40+00:00</td>\n      <td>530</td>\n    </tr>\n    <tr>\n      <th>4</th>\n      <td>641110</td>\n      <td>question_viewed</td>\n      <td>[22087]</td>\n      <td>2020-10-26 21:38:40+00:00</td>\n      <td>530</td>\n    </tr>\n    <tr>\n      <th>5</th>\n      <td>641216</td>\n      <td>session_started</td>\n      <td>{'user_agent': 'Mozilla/5.0 (Windows NT 10.0; Win64; x64) AppleWebKit/537.36 (KHTML, like Gecko) Chrome/86.0.4240.75 Safari/537.36'}</td>\n      <td>2020-10-26 21:45:05+00:00</td>\n      <td>530</td>\n    </tr>\n    <tr>\n      <th>6</th>\n      <td>641218</td>\n      <td>question_answered</td>\n      <td>[{'quiz_question_id': '22087', 'answer': '&lt;p&gt;T&lt;/p&gt;'}]</td>\n      <td>2020-10-26 21:45:10+00:00</td>\n      <td>530</td>\n    </tr>\n    <tr>\n      <th>7</th>\n      <td>641221</td>\n      <td>question_viewed</td>\n      <td>[22085]</td>\n      <td>2020-10-26 21:45:20+00:00</td>\n      <td>530</td>\n    </tr>\n    <tr>\n      <th>8</th>\n      <td>641222</td>\n      <td>question_answered</td>\n      <td>[{'quiz_question_id': '22087', 'answer': '&lt;p&gt;There are always going to be&amp;nbsp;&lt;/p&gt;'}]</td>\n      <td>2020-10-26 21:45:20+00:00</td>\n      <td>530</td>\n    </tr>\n    <tr>\n      <th>9</th>\n      <td>641231</td>\n      <td>question_answered</td>\n      <td>[{'quiz_question_id': '22087', 'answer': '&lt;p&gt;There are always going to be different tendencies and personalities in the workplace, but it is important that you learn to get along with your co-w&lt;/p&gt;'}]</td>\n      <td>2020-10-26 21:45:50+00:00</td>\n      <td>530</td>\n    </tr>\n  </tbody>\n</table>\n</div>"
     },
     "metadata": {},
     "execution_count": 40
    }
   ],
   "source": [
    "events_df_57046 = pd.read_json(\"events-57046.json\")\n",
    "events_df_57046"
   ]
  },
  {
   "cell_type": "code",
   "execution_count": 16,
   "metadata": {},
   "outputs": [],
   "source": [
    "def get_submissions(r):\n",
    "    \"\"\"Creates a small list of jsons\n",
    "    that can be made into a file very easily\n",
    "    then converted to a dataframe for exploration\n",
    "    This particular design is just for grabbing pagniated\n",
    "    information from the api and returning it in a useful\n",
    "    way.\n",
    "    Usage:\n",
    "    jsons = get_submissions(valid_api_request)\"\"\"\n",
    "    data_set = []\n",
    "    raw = r.json()\n",
    "\n",
    "    for submission in raw:\n",
    "        data_set.append(submission)\n",
    "\n",
    "    if \"next\" in r.links.keys():\n",
    "        while \"next\" in r.links.keys():\n",
    "            r = requests.get(r.links[\"next\"][\"url\"], headers=headers)\n",
    "            raw = r.json()\n",
    "            for submission in raw:\n",
    "                data_set.append(submission)\n",
    "        if \"last\" in r.links.keys() and r.links['current']['url'] == r.links['last']['url']:\n",
    "            print('Done!')\n",
    "    else:\n",
    "        print(\"Just one page!\")\n",
    "    return data_set"
   ]
  },
  {
   "cell_type": "code",
   "execution_count": 15,
   "metadata": {},
   "outputs": [
    {
     "output_type": "stream",
     "name": "stdout",
     "text": [
      "2.0\n"
     ]
    }
   ],
   "source": [
    "\n",
    "def get_answer(df):\n",
    "    for i in df[\"event_data\"]:\n",
    "        if isinstance(i, list) and isinstance(i[0], str)==False:\n",
    "            if \"22635\" in i[0].values():\n",
    "                print(i[0][\"answer\"])\n",
    "get_answer(events_df_56623)"
   ]
  },
  {
   "cell_type": "code",
   "execution_count": 17,
   "metadata": {},
   "outputs": [
    {
     "output_type": "execute_result",
     "data": {
      "text/plain": [
       "<Response [200]>"
      ]
     },
     "metadata": {},
     "execution_count": 17
    }
   ],
   "source": [
    "course_id = 495\n",
    "quiz_id = 6780\n",
    "submission_id = 56623\n",
    "r = requests.get(f\"https://lambdaschool.instructure.com/api/v1/courses/{course_id}/quizzes/{quiz_id}/submissions/{submission_id}/events\", headers=headers)\n",
    "r"
   ]
  },
  {
   "cell_type": "code",
   "execution_count": null,
   "metadata": {},
   "outputs": [],
   "source": []
  }
 ]
}