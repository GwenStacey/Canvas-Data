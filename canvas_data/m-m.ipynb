{
 "metadata": {
  "language_info": {
   "codemirror_mode": {
    "name": "ipython",
    "version": 3
   },
   "file_extension": ".py",
   "mimetype": "text/x-python",
   "name": "python",
   "nbconvert_exporter": "python",
   "pygments_lexer": "ipython3",
   "version": "3.8.5-final"
  },
  "orig_nbformat": 2,
  "kernelspec": {
   "name": "canvas-data",
   "display_name": "canvas-data",
   "language": "python"
  }
 },
 "nbformat": 4,
 "nbformat_minor": 2,
 "cells": [
  {
   "cell_type": "code",
   "execution_count": 78,
   "metadata": {},
   "outputs": [
    {
     "output_type": "execute_result",
     "data": {
      "text/plain": [
       "True"
      ]
     },
     "metadata": {},
     "execution_count": 78
    }
   ],
   "source": [
    "import os\n",
    "import json\n",
    "import requests\n",
    "from dotenv import load_dotenv\n",
    "\n",
    "load_dotenv()"
   ]
  },
  {
   "cell_type": "code",
   "execution_count": 83,
   "metadata": {},
   "outputs": [],
   "source": [
    "import pandas as pd"
   ]
  },
  {
   "cell_type": "code",
   "execution_count": 79,
   "metadata": {},
   "outputs": [],
   "source": [
    "api_key = os.getenv(\"API-KEY\")\n",
    "headers = {\"Authorization\":\n",
    "           f\"Bearer {api_key}\"}"
   ]
  },
  {
   "cell_type": "code",
   "execution_count": 80,
   "metadata": {},
   "outputs": [],
   "source": [
    "r = requests.get(\"https://lambdaschool.instructure.com/api/v1/courses/495/assignments\", headers=headers)"
   ]
  },
  {
   "cell_type": "code",
   "execution_count": 81,
   "metadata": {},
   "outputs": [
    {
     "output_type": "execute_result",
     "data": {
      "text/plain": [
       "<Response [200]>"
      ]
     },
     "metadata": {},
     "execution_count": 81
    }
   ],
   "source": [
    "r"
   ]
  },
  {
   "cell_type": "code",
   "execution_count": 82,
   "metadata": {},
   "outputs": [],
   "source": [
    "raw = r.json()\n",
    "\n",
    "with open(\"m-m.json\", \"w\") as outfile:\n",
    "    json.dump(raw, outfile)"
   ]
  },
  {
   "cell_type": "code",
   "execution_count": 84,
   "metadata": {},
   "outputs": [],
   "source": [
    "m_m_df = pd.read_json(\"m-m.json\")"
   ]
  },
  {
   "cell_type": "code",
   "execution_count": 85,
   "metadata": {},
   "outputs": [
    {
     "output_type": "execute_result",
     "data": {
      "text/plain": [
       "     id description                    due_at unlock_at  \\\n",
       "0  8088             2020-10-30 06:59:59+00:00       NaT   \n",
       "1  8176             2020-11-06 07:59:00+00:00       NaT   \n",
       "2  8020             2020-11-13 07:59:00+00:00       NaT   \n",
       "3  8080             2020-10-27 06:59:59+00:00       NaT   \n",
       "4  7887             2020-10-28 06:59:59+00:00       NaT   \n",
       "\n",
       "                    lock_at  points_possible grading_type  \\\n",
       "0 2020-11-21 07:59:59+00:00                1       points   \n",
       "1 2020-11-21 07:59:59+00:00                1       points   \n",
       "2 2020-11-21 07:59:59+00:00                1       points   \n",
       "3 2020-11-21 07:59:59+00:00                1       points   \n",
       "4 2020-11-21 07:59:59+00:00                1       points   \n",
       "\n",
       "   assignment_group_id  grading_standard_id                created_at  ...  \\\n",
       "0                 2467                  NaN 2020-10-22 18:05:48+00:00  ...   \n",
       "1                 2467                  NaN 2020-10-22 18:05:57+00:00  ...   \n",
       "2                 2467                  NaN 2020-10-22 18:05:43+00:00  ...   \n",
       "3                 2467                  NaN 2020-10-22 18:05:48+00:00  ...   \n",
       "4                 2467                  NaN 2020-10-22 18:05:36+00:00  ...   \n",
       "\n",
       "  quiz_id  anonymous_submissions  published  unpublishable  \\\n",
       "0    6788                  False       True          False   \n",
       "1    6876                  False       True          False   \n",
       "2    6721                  False       True          False   \n",
       "3    6780                  False       True          False   \n",
       "4    6617                  False       True          False   \n",
       "\n",
       "   only_visible_to_overrides  locked_for_user  \\\n",
       "0                      False            False   \n",
       "1                      False            False   \n",
       "2                      False            False   \n",
       "3                      False            False   \n",
       "4                      False            False   \n",
       "\n",
       "                            submissions_download_url  post_manually  \\\n",
       "0  https://lambdaschool.instructure.com/courses/4...          False   \n",
       "1  https://lambdaschool.instructure.com/courses/4...          False   \n",
       "2  https://lambdaschool.instructure.com/courses/4...          False   \n",
       "3  https://lambdaschool.instructure.com/courses/4...          False   \n",
       "4  https://lambdaschool.instructure.com/courses/4...          False   \n",
       "\n",
       "   anonymize_students  require_lockdown_browser  \n",
       "0               False                     False  \n",
       "1               False                     False  \n",
       "2               False                     False  \n",
       "3               False                     False  \n",
       "4               False                     False  \n",
       "\n",
       "[5 rows x 61 columns]"
      ],
      "text/html": "<div>\n<style scoped>\n    .dataframe tbody tr th:only-of-type {\n        vertical-align: middle;\n    }\n\n    .dataframe tbody tr th {\n        vertical-align: top;\n    }\n\n    .dataframe thead th {\n        text-align: right;\n    }\n</style>\n<table border=\"1\" class=\"dataframe\">\n  <thead>\n    <tr style=\"text-align: right;\">\n      <th></th>\n      <th>id</th>\n      <th>description</th>\n      <th>due_at</th>\n      <th>unlock_at</th>\n      <th>lock_at</th>\n      <th>points_possible</th>\n      <th>grading_type</th>\n      <th>assignment_group_id</th>\n      <th>grading_standard_id</th>\n      <th>created_at</th>\n      <th>...</th>\n      <th>quiz_id</th>\n      <th>anonymous_submissions</th>\n      <th>published</th>\n      <th>unpublishable</th>\n      <th>only_visible_to_overrides</th>\n      <th>locked_for_user</th>\n      <th>submissions_download_url</th>\n      <th>post_manually</th>\n      <th>anonymize_students</th>\n      <th>require_lockdown_browser</th>\n    </tr>\n  </thead>\n  <tbody>\n    <tr>\n      <th>0</th>\n      <td>8088</td>\n      <td></td>\n      <td>2020-10-30 06:59:59+00:00</td>\n      <td>NaT</td>\n      <td>2020-11-21 07:59:59+00:00</td>\n      <td>1</td>\n      <td>points</td>\n      <td>2467</td>\n      <td>NaN</td>\n      <td>2020-10-22 18:05:48+00:00</td>\n      <td>...</td>\n      <td>6788</td>\n      <td>False</td>\n      <td>True</td>\n      <td>False</td>\n      <td>False</td>\n      <td>False</td>\n      <td>https://lambdaschool.instructure.com/courses/4...</td>\n      <td>False</td>\n      <td>False</td>\n      <td>False</td>\n    </tr>\n    <tr>\n      <th>1</th>\n      <td>8176</td>\n      <td></td>\n      <td>2020-11-06 07:59:00+00:00</td>\n      <td>NaT</td>\n      <td>2020-11-21 07:59:59+00:00</td>\n      <td>1</td>\n      <td>points</td>\n      <td>2467</td>\n      <td>NaN</td>\n      <td>2020-10-22 18:05:57+00:00</td>\n      <td>...</td>\n      <td>6876</td>\n      <td>False</td>\n      <td>True</td>\n      <td>False</td>\n      <td>False</td>\n      <td>False</td>\n      <td>https://lambdaschool.instructure.com/courses/4...</td>\n      <td>False</td>\n      <td>False</td>\n      <td>False</td>\n    </tr>\n    <tr>\n      <th>2</th>\n      <td>8020</td>\n      <td></td>\n      <td>2020-11-13 07:59:00+00:00</td>\n      <td>NaT</td>\n      <td>2020-11-21 07:59:59+00:00</td>\n      <td>1</td>\n      <td>points</td>\n      <td>2467</td>\n      <td>NaN</td>\n      <td>2020-10-22 18:05:43+00:00</td>\n      <td>...</td>\n      <td>6721</td>\n      <td>False</td>\n      <td>True</td>\n      <td>False</td>\n      <td>False</td>\n      <td>False</td>\n      <td>https://lambdaschool.instructure.com/courses/4...</td>\n      <td>False</td>\n      <td>False</td>\n      <td>False</td>\n    </tr>\n    <tr>\n      <th>3</th>\n      <td>8080</td>\n      <td></td>\n      <td>2020-10-27 06:59:59+00:00</td>\n      <td>NaT</td>\n      <td>2020-11-21 07:59:59+00:00</td>\n      <td>1</td>\n      <td>points</td>\n      <td>2467</td>\n      <td>NaN</td>\n      <td>2020-10-22 18:05:48+00:00</td>\n      <td>...</td>\n      <td>6780</td>\n      <td>False</td>\n      <td>True</td>\n      <td>False</td>\n      <td>False</td>\n      <td>False</td>\n      <td>https://lambdaschool.instructure.com/courses/4...</td>\n      <td>False</td>\n      <td>False</td>\n      <td>False</td>\n    </tr>\n    <tr>\n      <th>4</th>\n      <td>7887</td>\n      <td></td>\n      <td>2020-10-28 06:59:59+00:00</td>\n      <td>NaT</td>\n      <td>2020-11-21 07:59:59+00:00</td>\n      <td>1</td>\n      <td>points</td>\n      <td>2467</td>\n      <td>NaN</td>\n      <td>2020-10-22 18:05:36+00:00</td>\n      <td>...</td>\n      <td>6617</td>\n      <td>False</td>\n      <td>True</td>\n      <td>False</td>\n      <td>False</td>\n      <td>False</td>\n      <td>https://lambdaschool.instructure.com/courses/4...</td>\n      <td>False</td>\n      <td>False</td>\n      <td>False</td>\n    </tr>\n  </tbody>\n</table>\n<p>5 rows × 61 columns</p>\n</div>"
     },
     "metadata": {},
     "execution_count": 85
    }
   ],
   "source": [
    "m_m_df.head()"
   ]
  },
  {
   "cell_type": "code",
   "execution_count": null,
   "metadata": {},
   "outputs": [],
   "source": []
  }
 ]
}