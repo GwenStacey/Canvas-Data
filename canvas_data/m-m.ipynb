{
 "metadata": {
  "language_info": {
   "codemirror_mode": {
    "name": "ipython",
    "version": 3
   },
   "file_extension": ".py",
   "mimetype": "text/x-python",
   "name": "python",
   "nbconvert_exporter": "python",
   "pygments_lexer": "ipython3",
   "version": "3.8.5-final"
  },
  "orig_nbformat": 2,
  "kernelspec": {
   "name": "canvas-data",
   "display_name": "canvas-data",
   "language": "python"
  }
 },
 "nbformat": 4,
 "nbformat_minor": 2,
 "cells": [
  {
   "cell_type": "code",
   "execution_count": 1,
   "metadata": {},
   "outputs": [
    {
     "output_type": "execute_result",
     "data": {
      "text/plain": [
       "True"
      ]
     },
     "metadata": {},
     "execution_count": 1
    }
   ],
   "source": [
    "import os\n",
    "import json\n",
    "import requests\n",
    "from dotenv import load_dotenv\n",
    "\n",
    "load_dotenv()"
   ]
  },
  {
   "cell_type": "code",
   "execution_count": 2,
   "metadata": {},
   "outputs": [],
   "source": [
    "import pandas as pd\n",
    "\n",
    "pd.set_option(\"display.max_columns\", None)\n",
    "pd.set_option(\"display.max_colwidth\", None)"
   ]
  },
  {
   "cell_type": "code",
   "execution_count": 3,
   "metadata": {},
   "outputs": [],
   "source": [
    "api_key = os.getenv(\"API-KEY\")\n",
    "headers = {\"Authorization\":\n",
    "           f\"Bearer {api_key}\"}"
   ]
  },
  {
   "cell_type": "code",
   "execution_count": 4,
   "metadata": {},
   "outputs": [
    {
     "output_type": "execute_result",
     "data": {
      "text/plain": [
       "<Response [200]>"
      ]
     },
     "metadata": {},
     "execution_count": 4
    }
   ],
   "source": [
    "r = requests.get(\"https://lambdaschool.instructure.com/api/v1/accounts/1/courses?search_by=course&search_term=LLP&per_page=100\", headers=headers)\n",
    "r"
   ]
  },
  {
   "cell_type": "code",
   "execution_count": 5,
   "metadata": {},
   "outputs": [],
   "source": [
    "raw = r.json()\n",
    "\n",
    "with open(\"LLP-Courses.json\", \"w\") as outfile:\n",
    "    json.dump(raw, outfile)"
   ]
  },
  {
   "cell_type": "code",
   "execution_count": 6,
   "metadata": {},
   "outputs": [
    {
     "output_type": "execute_result",
     "data": {
      "text/plain": [
       "                                                   calendar  \\\n",
       "0   {'ics': 'https://lambdaschool.instructure.com/feeds/calendars/course_J9daOUmhhQcLwEinxnXTJNRH86tZjobdOone45U1.ics'}   \n",
       "1   {'ics': 'https://lambdaschool.instructure.com/feeds/calendars/course_nwdlOihsde1UVKa4ijri9IupJuAJMQL2zSaIVlyG.ics'}   \n",
       "2   {'ics': 'https://lambdaschool.instructure.com/feeds/calendars/course_vRJPG8f5QRK6ungHvYamiOiGU2n4P9mKwwdKvA7s.ics'}   \n",
       "3   {'ics': 'https://lambdaschool.instructure.com/feeds/calendars/course_2gVSLHMWasuDBJpSomMzFwcI38EFs0qv3i1E5WLw.ics'}   \n",
       "4   {'ics': 'https://lambdaschool.instructure.com/feeds/calendars/course_uWxZkmEaLcb74oS1EZAESDX82zzXQrgpV6d54BBH.ics'}   \n",
       "5   {'ics': 'https://lambdaschool.instructure.com/feeds/calendars/course_AYSKbWrvCW3JiOUsmyELDOPg6vggoofc923Rlvnf.ics'}   \n",
       "6   {'ics': 'https://lambdaschool.instructure.com/feeds/calendars/course_pHq7LPRQhN0zr4l0RNmpXFfzVOSzAWpKliiwyxqk.ics'}   \n",
       "7   {'ics': 'https://lambdaschool.instructure.com/feeds/calendars/course_d9jJBBwL2yR1EiBfB5X4BSzvo8XvoSk3yzAcJWYG.ics'}   \n",
       "8   {'ics': 'https://lambdaschool.instructure.com/feeds/calendars/course_fOb8zb8yDpfkKvpKjsae0bwTyj7JoT6nZxkP7V2M.ics'}   \n",
       "9   {'ics': 'https://lambdaschool.instructure.com/feeds/calendars/course_fV5T2YzL2Ez1NnLvsNpbsFxcuXtYiAT4TNoGYmyX.ics'}   \n",
       "10  {'ics': 'https://lambdaschool.instructure.com/feeds/calendars/course_7ipq4T9Ri5RbXF7mUj1S50L6iENrhGVRuuztcHwC.ics'}   \n",
       "11  {'ics': 'https://lambdaschool.instructure.com/feeds/calendars/course_IjyCCp6uptzjrqa60OSD1aBmmtP4kXyCVOszeGmO.ics'}   \n",
       "12  {'ics': 'https://lambdaschool.instructure.com/feeds/calendars/course_C9HwCQPOumpo4TrpI19j3oSLipcqgTuQqTN9vCO4.ics'}   \n",
       "13  {'ics': 'https://lambdaschool.instructure.com/feeds/calendars/course_OFv2ybAkoPJoLxIoVsdpIi83BfWAJAlmi3xkav8m.ics'}   \n",
       "14  {'ics': 'https://lambdaschool.instructure.com/feeds/calendars/course_9DrTvr5BbTjEqTGzamu0yyyRG8XcB8Va9HZR5yv6.ics'}   \n",
       "15  {'ics': 'https://lambdaschool.instructure.com/feeds/calendars/course_g24g03eMlNSvebaRGAbat3xISWcR8LkdEvGaSg91.ics'}   \n",
       "16  {'ics': 'https://lambdaschool.instructure.com/feeds/calendars/course_N84Wc7wOmJr8X7Jws8rNKuhojzwcE5YX13IjRDMl.ics'}   \n",
       "17  {'ics': 'https://lambdaschool.instructure.com/feeds/calendars/course_9IOinWrs0gx37KuekPOysm4Gd3uY49XYdmd6RZci.ics'}   \n",
       "18  {'ics': 'https://lambdaschool.instructure.com/feeds/calendars/course_SpbJexBh0aSo0dHSI1fqTm9ZAIECCLvIaqUKhx0i.ics'}   \n",
       "19  {'ics': 'https://lambdaschool.instructure.com/feeds/calendars/course_dsXtdQzJlk3wy9HDnQpfiivh1hJ1q0eyr4HvsQ4t.ics'}   \n",
       "20  {'ics': 'https://lambdaschool.instructure.com/feeds/calendars/course_FXAy3ZfJCcCJdL9TvstxhQj7HycrqsJSRkNqIF6R.ics'}   \n",
       "21  {'ics': 'https://lambdaschool.instructure.com/feeds/calendars/course_FSKzdOioJxsojE8vBuRLOCKLOUH3dZ2ZJkrSng5l.ics'}   \n",
       "22  {'ics': 'https://lambdaschool.instructure.com/feeds/calendars/course_NPNTPhNi3O0tkbibNhMBSpHffcFPDkSDn5NmhSIE.ics'}   \n",
       "23  {'ics': 'https://lambdaschool.instructure.com/feeds/calendars/course_QFWnngewRY4Fc3wrvEgF05e3Rqr7pMwOCg7IcjkC.ics'}   \n",
       "24  {'ics': 'https://lambdaschool.instructure.com/feeds/calendars/course_qup75Bwf8IrkpnaLJj5zk6Aj69T9Vdz5qOCXIRST.ics'}   \n",
       "25  {'ics': 'https://lambdaschool.instructure.com/feeds/calendars/course_8berRwvRlnlOC3pqFFEApCsDgIlJYrO5JlT3G6jX.ics'}   \n",
       "26  {'ics': 'https://lambdaschool.instructure.com/feeds/calendars/course_yGKApd1FzfZrqorpnr17iWyYq9nnEvEAiJRdGlFC.ics'}   \n",
       "27  {'ics': 'https://lambdaschool.instructure.com/feeds/calendars/course_1x82TBKdKWMsdimlwih2gVwJzdFsVnamCS3XujMA.ics'}   \n",
       "28  {'ics': 'https://lambdaschool.instructure.com/feeds/calendars/course_660wsC7QlcnfHicKENPhVJo27zeWCpWFATz7tksB.ics'}   \n",
       "29  {'ics': 'https://lambdaschool.instructure.com/feeds/calendars/course_33rTyElW3GhVPVeZkw4QtUrUGfa0AuyJ5HH7Syw0.ics'}   \n",
       "30  {'ics': 'https://lambdaschool.instructure.com/feeds/calendars/course_DJmpotvX4kcczQpMCU5XgQqgrNiQLEhuCcjlhkCV.ics'}   \n",
       "31  {'ics': 'https://lambdaschool.instructure.com/feeds/calendars/course_RbTACDiZGH90KXUWuTThzSb8TBQGqbMXZG8DZGKG.ics'}   \n",
       "32  {'ics': 'https://lambdaschool.instructure.com/feeds/calendars/course_WD2X1FrBx7b29UfaM5oZjr0R9Q00dccrwBUopjpy.ics'}   \n",
       "33  {'ics': 'https://lambdaschool.instructure.com/feeds/calendars/course_vtblMXE5bqAjeDgI9qTtBWOhaVsH4LX1ag2RBMPv.ics'}   \n",
       "34  {'ics': 'https://lambdaschool.instructure.com/feeds/calendars/course_AkmTNGiutn8oUBi3B0B114eANiIr6UNUvk1IaDFo.ics'}   \n",
       "35  {'ics': 'https://lambdaschool.instructure.com/feeds/calendars/course_aQHW1NV7J7BoFh0im9VIxWrIORlwMihcBfP6KBPb.ics'}   \n",
       "36  {'ics': 'https://lambdaschool.instructure.com/feeds/calendars/course_TqVIKDjIinZ8bSWeOiL5v0oS0V62JEjvGW3pCDXk.ics'}   \n",
       "37  {'ics': 'https://lambdaschool.instructure.com/feeds/calendars/course_ZnCZW5ZFK6eEIFXrWTT2xUIpBQChD7qFxaSIKzXL.ics'}   \n",
       "38  {'ics': 'https://lambdaschool.instructure.com/feeds/calendars/course_c0SJTsASikQuQSAilURbZEg5o1dYXXMSc1YMB8lj.ics'}   \n",
       "39  {'ics': 'https://lambdaschool.instructure.com/feeds/calendars/course_BoCA0dejsj632PpjGzTMQPpC9EDPtVbrTpr3s8ll.ics'}   \n",
       "40  {'ics': 'https://lambdaschool.instructure.com/feeds/calendars/course_EXohSk3W96MMLJdA6SZ7RPAKsynvS233R1AZJRaC.ics'}   \n",
       "41  {'ics': 'https://lambdaschool.instructure.com/feeds/calendars/course_vVSPsjQrpJO07pB0IdxQGPGM5FcNOeDuy70ylc0i.ics'}   \n",
       "42  {'ics': 'https://lambdaschool.instructure.com/feeds/calendars/course_CODhGJ1WbnjRS3O6gJgSVDSalHyRTYxVba79aOjM.ics'}   \n",
       "43  {'ics': 'https://lambdaschool.instructure.com/feeds/calendars/course_RHyvCo4JYds5ptztp6fIU7cEbqlVO413k0KzC7ra.ics'}   \n",
       "44  {'ics': 'https://lambdaschool.instructure.com/feeds/calendars/course_7RqTOvtth33K9iqNDsfXntOr6xtBjy1XZW1LLoIx.ics'}   \n",
       "\n",
       "              time_zone  blueprint       sis_course_id  sis_import_id  \\\n",
       "0        America/Denver      False                None            NaN   \n",
       "1        America/Denver       True  LLP_C_Template_Old            NaN   \n",
       "2        America/Denver      False         LLP_PT_2009            NaN   \n",
       "3        America/Denver      False         LLP_FT_2009            NaN   \n",
       "4        America/Denver      False     LLP_FT_2009LABS            NaN   \n",
       "5        America/Denver      False     LLP_PT_2009LABS            NaN   \n",
       "6   America/Los_Angeles      False      LLP_FT_2009_CS            NaN   \n",
       "7   America/Los_Angeles      False      LLP_PT_2009_CS            NaN   \n",
       "8   America/Los_Angeles       True   LLP_D_FT_Template            NaN   \n",
       "9   America/Los_Angeles       True                None            NaN   \n",
       "10  America/Los_Angeles      False         LLP_FT_2010          567.0   \n",
       "11  America/Los_Angeles      False    LLP_FT_2010_LABS          567.0   \n",
       "12  America/Los_Angeles      False      LLP_PT_2010_CS          567.0   \n",
       "13  America/Los_Angeles      False         LLP_PT_2010          567.0   \n",
       "14  America/Los_Angeles      False    LLP_PT_2010_LABS          567.0   \n",
       "15  America/Los_Angeles      False      LLP_FT_2010_CS          569.0   \n",
       "16  America/Los_Angeles      False                None            NaN   \n",
       "17  America/Los_Angeles       True    LLP_1.3_Template            NaN   \n",
       "18  America/Los_Angeles       True    LLP_3.2_Template            NaN   \n",
       "19  America/Los_Angeles       True    LLP_2.2_Template            NaN   \n",
       "20  America/Los_Angeles       True    LLP_5.2_Template            NaN   \n",
       "21  America/Los_Angeles       True    LLP_4.2_Template            NaN   \n",
       "22  America/Los_Angeles       True    LLP_1.1_Template            NaN   \n",
       "23  America/Los_Angeles       True    LLP_2.1_Template            NaN   \n",
       "24  America/Los_Angeles       True    LLP_4.3_Template            NaN   \n",
       "25  America/Los_Angeles       True    LLP_4.1_Template            NaN   \n",
       "26  America/Los_Angeles       True    LLP_5.1_Template            NaN   \n",
       "27  America/Los_Angeles       True    LLP_3.1_Template            NaN   \n",
       "28  America/Los_Angeles       True    LLP_1.2_Template            NaN   \n",
       "29  America/Los_Angeles       True    LLP_1.4_Template            NaN   \n",
       "30  America/Los_Angeles       True    LLP_2.3_Template            NaN   \n",
       "31  America/Los_Angeles       True    LLP_3.3_Template            NaN   \n",
       "32  America/Los_Angeles       True    LLP_5.3_Template            NaN   \n",
       "33  America/Los_Angeles      False                None            NaN   \n",
       "34  America/Los_Angeles      False    LLP_FT_2011_LABS            NaN   \n",
       "35  America/Los_Angeles      False      LLP_FT_2011_CS            NaN   \n",
       "36  America/Los_Angeles      False         LLP_PT_2011            NaN   \n",
       "37  America/Los_Angeles      False    LLP_PT_2011_LABS            NaN   \n",
       "38  America/Los_Angeles      False      LLP_PT_2011_CS            NaN   \n",
       "39  America/Los_Angeles      False         LLP_FT_2011            NaN   \n",
       "40  America/Los_Angeles       True      LLP_C_Template            NaN   \n",
       "41  America/Los_Angeles       True      LLP_A_Template            NaN   \n",
       "42  America/Los_Angeles       True      LLP_E_Template            NaN   \n",
       "43  America/Los_Angeles       True      LLP_B_Template            NaN   \n",
       "44  America/Los_Angeles       True      LLP_D_Template            NaN   \n",
       "\n",
       "    integration_id  hide_final_grades workflow_state  \\\n",
       "0              NaN              False    unpublished   \n",
       "1              NaN              False      available   \n",
       "2              NaN              False      available   \n",
       "3              NaN              False      available   \n",
       "4              NaN              False      available   \n",
       "5              NaN              False      available   \n",
       "6              NaN              False      available   \n",
       "7              NaN              False      available   \n",
       "8              NaN              False    unpublished   \n",
       "9              NaN              False    unpublished   \n",
       "10             NaN              False      available   \n",
       "11             NaN              False      available   \n",
       "12             NaN              False      available   \n",
       "13             NaN              False      available   \n",
       "14             NaN              False      available   \n",
       "15             NaN              False      available   \n",
       "16             NaN              False      available   \n",
       "17             NaN              False      available   \n",
       "18             NaN              False      available   \n",
       "19             NaN              False      available   \n",
       "20             NaN              False      available   \n",
       "21             NaN              False      available   \n",
       "22             NaN              False      available   \n",
       "23             NaN              False      available   \n",
       "24             NaN              False      available   \n",
       "25             NaN              False      available   \n",
       "26             NaN              False      available   \n",
       "27             NaN              False      available   \n",
       "28             NaN              False      available   \n",
       "29             NaN              False      available   \n",
       "30             NaN              False      available   \n",
       "31             NaN              False      available   \n",
       "32             NaN              False      available   \n",
       "33             NaN              False    unpublished   \n",
       "34             NaN              False      available   \n",
       "35             NaN              False      available   \n",
       "36             NaN              False      available   \n",
       "37             NaN              False      available   \n",
       "38             NaN              False      available   \n",
       "39             NaN              False      available   \n",
       "40             NaN              False      available   \n",
       "41             NaN              False      available   \n",
       "42             NaN              False      available   \n",
       "43             NaN              False      available   \n",
       "44             NaN              False      available   \n",
       "\n",
       "    restrict_enrollments_to_course_dates overridden_course_visibility  \\\n",
       "0                                   True                                \n",
       "1                                  False                                \n",
       "2                                   True                                \n",
       "3                                   True                                \n",
       "4                                   True                                \n",
       "5                                   True                                \n",
       "6                                   True                                \n",
       "7                                   True                                \n",
       "8                                  False                                \n",
       "9                                  False                                \n",
       "10                                  True                                \n",
       "11                                  True                                \n",
       "12                                  True                                \n",
       "13                                  True                                \n",
       "14                                  True                                \n",
       "15                                  True                                \n",
       "16                                 False                                \n",
       "17                                 False                          NaN   \n",
       "18                                 False                          NaN   \n",
       "19                                 False                          NaN   \n",
       "20                                 False                          NaN   \n",
       "21                                 False                          NaN   \n",
       "22                                 False                          NaN   \n",
       "23                                 False                          NaN   \n",
       "24                                 False                          NaN   \n",
       "25                                 False                          NaN   \n",
       "26                                 False                          NaN   \n",
       "27                                 False                          NaN   \n",
       "28                                 False                          NaN   \n",
       "29                                 False                          NaN   \n",
       "30                                 False                          NaN   \n",
       "31                                 False                          NaN   \n",
       "32                                 False                          NaN   \n",
       "33                                  True                                \n",
       "34                                  True                                \n",
       "35                                  True                                \n",
       "36                                  True                                \n",
       "37                                  True                                \n",
       "38                                  True                                \n",
       "39                                  True                                \n",
       "40                                 False                          NaN   \n",
       "41                                 False                          NaN   \n",
       "42                                 False                          NaN   \n",
       "43                                 False                          NaN   \n",
       "44                                 False                          NaN   \n",
       "\n",
       "                                                                  blueprint_restrictions  \\\n",
       "0                                                                                    NaN   \n",
       "1   {'content': False, 'points': False, 'due_dates': False, 'availability_dates': False}   \n",
       "2                                                                                    NaN   \n",
       "3                                                                                    NaN   \n",
       "4                                                                                    NaN   \n",
       "5                                                                                    NaN   \n",
       "6                                                                                    NaN   \n",
       "7                                                                                    NaN   \n",
       "8   {'content': False, 'points': False, 'due_dates': False, 'availability_dates': False}   \n",
       "9    {'content': True, 'points': False, 'due_dates': False, 'availability_dates': False}   \n",
       "10                                                                                   NaN   \n",
       "11                                                                                   NaN   \n",
       "12                                                                                   NaN   \n",
       "13                                                                                   NaN   \n",
       "14                                                                                   NaN   \n",
       "15                                                                                   NaN   \n",
       "16                                                                                   NaN   \n",
       "17  {'content': False, 'points': False, 'due_dates': False, 'availability_dates': False}   \n",
       "18  {'content': False, 'points': False, 'due_dates': False, 'availability_dates': False}   \n",
       "19  {'content': False, 'points': False, 'due_dates': False, 'availability_dates': False}   \n",
       "20  {'content': False, 'points': False, 'due_dates': False, 'availability_dates': False}   \n",
       "21  {'content': False, 'points': False, 'due_dates': False, 'availability_dates': False}   \n",
       "22  {'content': False, 'points': False, 'due_dates': False, 'availability_dates': False}   \n",
       "23  {'content': False, 'points': False, 'due_dates': False, 'availability_dates': False}   \n",
       "24  {'content': False, 'points': False, 'due_dates': False, 'availability_dates': False}   \n",
       "25  {'content': False, 'points': False, 'due_dates': False, 'availability_dates': False}   \n",
       "26  {'content': False, 'points': False, 'due_dates': False, 'availability_dates': False}   \n",
       "27  {'content': False, 'points': False, 'due_dates': False, 'availability_dates': False}   \n",
       "28  {'content': False, 'points': False, 'due_dates': False, 'availability_dates': False}   \n",
       "29  {'content': False, 'points': False, 'due_dates': False, 'availability_dates': False}   \n",
       "30  {'content': False, 'points': False, 'due_dates': False, 'availability_dates': False}   \n",
       "31  {'content': False, 'points': False, 'due_dates': False, 'availability_dates': False}   \n",
       "32  {'content': False, 'points': False, 'due_dates': False, 'availability_dates': False}   \n",
       "33                                                                                   NaN   \n",
       "34                                                                                   NaN   \n",
       "35                                                                                   NaN   \n",
       "36                                                                                   NaN   \n",
       "37                                                                                   NaN   \n",
       "38                                                                                   NaN   \n",
       "39                                                                                   NaN   \n",
       "40  {'content': False, 'points': False, 'due_dates': False, 'availability_dates': False}   \n",
       "41  {'content': False, 'points': False, 'due_dates': False, 'availability_dates': False}   \n",
       "42  {'content': False, 'points': False, 'due_dates': False, 'availability_dates': False}   \n",
       "43  {'content': False, 'points': False, 'due_dates': False, 'availability_dates': False}   \n",
       "44  {'content': False, 'points': False, 'due_dates': False, 'availability_dates': False}   \n",
       "\n",
       "   course_format  \n",
       "0            NaN  \n",
       "1            NaN  \n",
       "2            NaN  \n",
       "3            NaN  \n",
       "4            NaN  \n",
       "5            NaN  \n",
       "6            NaN  \n",
       "7            NaN  \n",
       "8            NaN  \n",
       "9            NaN  \n",
       "10        online  \n",
       "11        online  \n",
       "12        online  \n",
       "13        online  \n",
       "14        online  \n",
       "15        online  \n",
       "16           NaN  \n",
       "17           NaN  \n",
       "18           NaN  \n",
       "19           NaN  \n",
       "20           NaN  \n",
       "21           NaN  \n",
       "22           NaN  \n",
       "23           NaN  \n",
       "24           NaN  \n",
       "25           NaN  \n",
       "26           NaN  \n",
       "27           NaN  \n",
       "28           NaN  \n",
       "29           NaN  \n",
       "30           NaN  \n",
       "31           NaN  \n",
       "32           NaN  \n",
       "33           NaN  \n",
       "34           NaN  \n",
       "35           NaN  \n",
       "36           NaN  \n",
       "37           NaN  \n",
       "38           NaN  \n",
       "39           NaN  \n",
       "40           NaN  \n",
       "41           NaN  \n",
       "42           NaN  \n",
       "43           NaN  \n",
       "44           NaN  "
      ],
      "text/html": "<div>\n<style scoped>\n    .dataframe tbody tr th:only-of-type {\n        vertical-align: middle;\n    }\n\n    .dataframe tbody tr th {\n        vertical-align: top;\n    }\n\n    .dataframe thead th {\n        text-align: right;\n    }\n</style>\n<table border=\"1\" class=\"dataframe\">\n  <thead>\n    <tr style=\"text-align: right;\">\n      <th></th>\n      <th>id</th>\n      <th>name</th>\n      <th>account_id</th>\n      <th>uuid</th>\n      <th>start_at</th>\n      <th>grading_standard_id</th>\n      <th>is_public</th>\n      <th>created_at</th>\n      <th>course_code</th>\n      <th>default_view</th>\n      <th>root_account_id</th>\n      <th>enrollment_term_id</th>\n      <th>license</th>\n      <th>grade_passback_setting</th>\n      <th>end_at</th>\n      <th>public_syllabus</th>\n      <th>public_syllabus_to_auth</th>\n      <th>storage_quota_mb</th>\n      <th>is_public_to_auth_users</th>\n      <th>apply_assignment_group_weights</th>\n      <th>calendar</th>\n      <th>time_zone</th>\n      <th>blueprint</th>\n      <th>sis_course_id</th>\n      <th>sis_import_id</th>\n      <th>integration_id</th>\n      <th>hide_final_grades</th>\n      <th>workflow_state</th>\n      <th>restrict_enrollments_to_course_dates</th>\n      <th>overridden_course_visibility</th>\n      <th>blueprint_restrictions</th>\n      <th>course_format</th>\n    </tr>\n  </thead>\n  <tbody>\n    <tr>\n      <th>0</th>\n      <td>190</td>\n      <td>Lambda Leadership Program - Unit 2</td>\n      <td>1</td>\n      <td>J9daOUmhhQcLwEinxnXTJNRH86tZjobdOone45U1</td>\n      <td>NaT</td>\n      <td>NaN</td>\n      <td>0.0</td>\n      <td>2020-08-17 17:13:20+00:00</td>\n      <td>LLP_unit2</td>\n      <td>wiki</td>\n      <td>1</td>\n      <td>103</td>\n      <td>private</td>\n      <td>NaN</td>\n      <td>2020-12-07 08:00:00+00:00</td>\n      <td>False</td>\n      <td>False</td>\n      <td>2000</td>\n      <td>False</td>\n      <td>False</td>\n      <td>{'ics': 'https://lambdaschool.instructure.com/feeds/calendars/course_J9daOUmhhQcLwEinxnXTJNRH86tZjobdOone45U1.ics'}</td>\n      <td>America/Denver</td>\n      <td>False</td>\n      <td>None</td>\n      <td>NaN</td>\n      <td>NaN</td>\n      <td>False</td>\n      <td>unpublished</td>\n      <td>True</td>\n      <td></td>\n      <td>NaN</td>\n      <td>NaN</td>\n    </tr>\n    <tr>\n      <th>1</th>\n      <td>283</td>\n      <td>Lambda Leadership - Rotation C Template</td>\n      <td>1</td>\n      <td>nwdlOihsde1UVKa4ijri9IupJuAJMQL2zSaIVlyG</td>\n      <td>2020-09-21 16:04:00+00:00</td>\n      <td>NaN</td>\n      <td>0.0</td>\n      <td>2020-09-14 15:00:02+00:00</td>\n      <td>LLP_C_Template_Old</td>\n      <td>wiki</td>\n      <td>1</td>\n      <td>1</td>\n      <td>private</td>\n      <td>NaN</td>\n      <td>NaT</td>\n      <td>False</td>\n      <td>False</td>\n      <td>2000</td>\n      <td>False</td>\n      <td>False</td>\n      <td>{'ics': 'https://lambdaschool.instructure.com/feeds/calendars/course_nwdlOihsde1UVKa4ijri9IupJuAJMQL2zSaIVlyG.ics'}</td>\n      <td>America/Denver</td>\n      <td>True</td>\n      <td>LLP_C_Template_Old</td>\n      <td>NaN</td>\n      <td>NaN</td>\n      <td>False</td>\n      <td>available</td>\n      <td>False</td>\n      <td></td>\n      <td>{'content': False, 'points': False, 'due_dates': False, 'availability_dates': False}</td>\n      <td>NaN</td>\n    </tr>\n    <tr>\n      <th>2</th>\n      <td>330</td>\n      <td>Lambda Leadership - Rotation C PT</td>\n      <td>1</td>\n      <td>vRJPG8f5QRK6ungHvYamiOiGU2n4P9mKwwdKvA7s</td>\n      <td>2020-09-21 16:04:00+00:00</td>\n      <td>NaN</td>\n      <td>0.0</td>\n      <td>2020-09-22 15:51:59+00:00</td>\n      <td>LLP_PT_2009</td>\n      <td>wiki</td>\n      <td>1</td>\n      <td>103</td>\n      <td>private</td>\n      <td>NaN</td>\n      <td>2020-11-23 07:00:00+00:00</td>\n      <td>False</td>\n      <td>False</td>\n      <td>2000</td>\n      <td>False</td>\n      <td>False</td>\n      <td>{'ics': 'https://lambdaschool.instructure.com/feeds/calendars/course_vRJPG8f5QRK6ungHvYamiOiGU2n4P9mKwwdKvA7s.ics'}</td>\n      <td>America/Denver</td>\n      <td>False</td>\n      <td>LLP_PT_2009</td>\n      <td>NaN</td>\n      <td>NaN</td>\n      <td>False</td>\n      <td>available</td>\n      <td>True</td>\n      <td></td>\n      <td>NaN</td>\n      <td>NaN</td>\n    </tr>\n    <tr>\n      <th>3</th>\n      <td>331</td>\n      <td>Lambda Leadership - Rotation C FT</td>\n      <td>1</td>\n      <td>2gVSLHMWasuDBJpSomMzFwcI38EFs0qv3i1E5WLw</td>\n      <td>2020-09-21 16:04:00+00:00</td>\n      <td>NaN</td>\n      <td>0.0</td>\n      <td>2020-09-22 15:52:34+00:00</td>\n      <td>LLP_FT_2009</td>\n      <td>wiki</td>\n      <td>1</td>\n      <td>103</td>\n      <td>private</td>\n      <td>NaN</td>\n      <td>2020-10-26 06:00:00+00:00</td>\n      <td>False</td>\n      <td>False</td>\n      <td>2000</td>\n      <td>False</td>\n      <td>False</td>\n      <td>{'ics': 'https://lambdaschool.instructure.com/feeds/calendars/course_2gVSLHMWasuDBJpSomMzFwcI38EFs0qv3i1E5WLw.ics'}</td>\n      <td>America/Denver</td>\n      <td>False</td>\n      <td>LLP_FT_2009</td>\n      <td>NaN</td>\n      <td>NaN</td>\n      <td>False</td>\n      <td>available</td>\n      <td>True</td>\n      <td></td>\n      <td>NaN</td>\n      <td>NaN</td>\n    </tr>\n    <tr>\n      <th>4</th>\n      <td>365</td>\n      <td>Lambda Leadership - Rotation C FT - LABS</td>\n      <td>1</td>\n      <td>uWxZkmEaLcb74oS1EZAESDX82zzXQrgpV6d54BBH</td>\n      <td>2020-09-23 23:47:00+00:00</td>\n      <td>NaN</td>\n      <td>0.0</td>\n      <td>2020-09-23 23:36:41+00:00</td>\n      <td>LLP_FT_2009LABS</td>\n      <td>wiki</td>\n      <td>1</td>\n      <td>103</td>\n      <td>private</td>\n      <td>NaN</td>\n      <td>2020-10-26 06:00:00+00:00</td>\n      <td>False</td>\n      <td>False</td>\n      <td>2000</td>\n      <td>False</td>\n      <td>False</td>\n      <td>{'ics': 'https://lambdaschool.instructure.com/feeds/calendars/course_uWxZkmEaLcb74oS1EZAESDX82zzXQrgpV6d54BBH.ics'}</td>\n      <td>America/Denver</td>\n      <td>False</td>\n      <td>LLP_FT_2009LABS</td>\n      <td>NaN</td>\n      <td>NaN</td>\n      <td>False</td>\n      <td>available</td>\n      <td>True</td>\n      <td></td>\n      <td>NaN</td>\n      <td>NaN</td>\n    </tr>\n    <tr>\n      <th>5</th>\n      <td>366</td>\n      <td>Lambda Leadership - Rotation C PT - LABS</td>\n      <td>1</td>\n      <td>AYSKbWrvCW3JiOUsmyELDOPg6vggoofc923Rlvnf</td>\n      <td>2020-09-23 23:52:12+00:00</td>\n      <td>NaN</td>\n      <td>0.0</td>\n      <td>2020-09-23 23:49:39+00:00</td>\n      <td>LLP_PT_2009LABS</td>\n      <td>wiki</td>\n      <td>1</td>\n      <td>103</td>\n      <td>private</td>\n      <td>NaN</td>\n      <td>2020-11-30 07:00:00+00:00</td>\n      <td>False</td>\n      <td>False</td>\n      <td>2000</td>\n      <td>False</td>\n      <td>False</td>\n      <td>{'ics': 'https://lambdaschool.instructure.com/feeds/calendars/course_AYSKbWrvCW3JiOUsmyELDOPg6vggoofc923Rlvnf.ics'}</td>\n      <td>America/Denver</td>\n      <td>False</td>\n      <td>LLP_PT_2009LABS</td>\n      <td>NaN</td>\n      <td>NaN</td>\n      <td>False</td>\n      <td>available</td>\n      <td>True</td>\n      <td></td>\n      <td>NaN</td>\n      <td>NaN</td>\n    </tr>\n    <tr>\n      <th>6</th>\n      <td>391</td>\n      <td>Lambda Leadership Rotation C - CS</td>\n      <td>1</td>\n      <td>pHq7LPRQhN0zr4l0RNmpXFfzVOSzAWpKliiwyxqk</td>\n      <td>2020-09-29 21:25:00+00:00</td>\n      <td>NaN</td>\n      <td>0.0</td>\n      <td>2020-09-29 17:02:27+00:00</td>\n      <td>LLP_FT_2009_CS</td>\n      <td>wiki</td>\n      <td>1</td>\n      <td>103</td>\n      <td>private</td>\n      <td>NaN</td>\n      <td>2020-10-25 07:00:00+00:00</td>\n      <td>False</td>\n      <td>False</td>\n      <td>2000</td>\n      <td>False</td>\n      <td>False</td>\n      <td>{'ics': 'https://lambdaschool.instructure.com/feeds/calendars/course_pHq7LPRQhN0zr4l0RNmpXFfzVOSzAWpKliiwyxqk.ics'}</td>\n      <td>America/Los_Angeles</td>\n      <td>False</td>\n      <td>LLP_FT_2009_CS</td>\n      <td>NaN</td>\n      <td>NaN</td>\n      <td>False</td>\n      <td>available</td>\n      <td>True</td>\n      <td></td>\n      <td>NaN</td>\n      <td>NaN</td>\n    </tr>\n    <tr>\n      <th>7</th>\n      <td>393</td>\n      <td>Lambda Leadership Rotation C PT - CS</td>\n      <td>1</td>\n      <td>d9jJBBwL2yR1EiBfB5X4BSzvo8XvoSk3yzAcJWYG</td>\n      <td>2020-09-27 04:00:00+00:00</td>\n      <td>NaN</td>\n      <td>0.0</td>\n      <td>2020-09-29 19:56:24+00:00</td>\n      <td>LLP_PT_2009_CS</td>\n      <td>wiki</td>\n      <td>1</td>\n      <td>103</td>\n      <td>private</td>\n      <td>NaN</td>\n      <td>2020-11-30 05:00:00+00:00</td>\n      <td>False</td>\n      <td>False</td>\n      <td>2000</td>\n      <td>False</td>\n      <td>False</td>\n      <td>{'ics': 'https://lambdaschool.instructure.com/feeds/calendars/course_d9jJBBwL2yR1EiBfB5X4BSzvo8XvoSk3yzAcJWYG.ics'}</td>\n      <td>America/Los_Angeles</td>\n      <td>False</td>\n      <td>LLP_PT_2009_CS</td>\n      <td>NaN</td>\n      <td>NaN</td>\n      <td>False</td>\n      <td>available</td>\n      <td>True</td>\n      <td></td>\n      <td>NaN</td>\n      <td>NaN</td>\n    </tr>\n    <tr>\n      <th>8</th>\n      <td>408</td>\n      <td>Lambda Leadership - Rotation D</td>\n      <td>1</td>\n      <td>fOb8zb8yDpfkKvpKjsae0bwTyj7JoT6nZxkP7V2M</td>\n      <td>NaT</td>\n      <td>NaN</td>\n      <td>0.0</td>\n      <td>2020-10-14 17:25:05+00:00</td>\n      <td>LLP_D_FT_Template</td>\n      <td>wiki</td>\n      <td>1</td>\n      <td>1</td>\n      <td>private</td>\n      <td>NaN</td>\n      <td>NaT</td>\n      <td>False</td>\n      <td>False</td>\n      <td>2000</td>\n      <td>False</td>\n      <td>False</td>\n      <td>{'ics': 'https://lambdaschool.instructure.com/feeds/calendars/course_fOb8zb8yDpfkKvpKjsae0bwTyj7JoT6nZxkP7V2M.ics'}</td>\n      <td>America/Los_Angeles</td>\n      <td>True</td>\n      <td>LLP_D_FT_Template</td>\n      <td>NaN</td>\n      <td>NaN</td>\n      <td>False</td>\n      <td>unpublished</td>\n      <td>False</td>\n      <td></td>\n      <td>{'content': False, 'points': False, 'due_dates': False, 'availability_dates': False}</td>\n      <td>NaN</td>\n    </tr>\n    <tr>\n      <th>9</th>\n      <td>427</td>\n      <td>Lambda Leadership - Rotation D - Part Time</td>\n      <td>1</td>\n      <td>fV5T2YzL2Ez1NnLvsNpbsFxcuXtYiAT4TNoGYmyX</td>\n      <td>NaT</td>\n      <td>NaN</td>\n      <td>0.0</td>\n      <td>2020-10-21 21:47:24+00:00</td>\n      <td>LLP_D_PT_Template</td>\n      <td>wiki</td>\n      <td>1</td>\n      <td>1</td>\n      <td>private</td>\n      <td>NaN</td>\n      <td>NaT</td>\n      <td>False</td>\n      <td>False</td>\n      <td>2000</td>\n      <td>False</td>\n      <td>False</td>\n      <td>{'ics': 'https://lambdaschool.instructure.com/feeds/calendars/course_fV5T2YzL2Ez1NnLvsNpbsFxcuXtYiAT4TNoGYmyX.ics'}</td>\n      <td>America/Los_Angeles</td>\n      <td>True</td>\n      <td>None</td>\n      <td>NaN</td>\n      <td>NaN</td>\n      <td>False</td>\n      <td>unpublished</td>\n      <td>False</td>\n      <td></td>\n      <td>{'content': True, 'points': False, 'due_dates': False, 'availability_dates': False}</td>\n      <td>NaN</td>\n    </tr>\n    <tr>\n      <th>10</th>\n      <td>495</td>\n      <td>Lambda Leadership - Rotation D FT</td>\n      <td>1</td>\n      <td>7ipq4T9Ri5RbXF7mUj1S50L6iENrhGVRuuztcHwC</td>\n      <td>NaT</td>\n      <td>NaN</td>\n      <td>0.0</td>\n      <td>2020-10-22 18:05:22+00:00</td>\n      <td>LLP_FT_2010</td>\n      <td>wiki</td>\n      <td>1</td>\n      <td>103</td>\n      <td>private</td>\n      <td>NaN</td>\n      <td>2020-12-07 08:00:00+00:00</td>\n      <td>False</td>\n      <td>False</td>\n      <td>2000</td>\n      <td>False</td>\n      <td>False</td>\n      <td>{'ics': 'https://lambdaschool.instructure.com/feeds/calendars/course_7ipq4T9Ri5RbXF7mUj1S50L6iENrhGVRuuztcHwC.ics'}</td>\n      <td>America/Los_Angeles</td>\n      <td>False</td>\n      <td>LLP_FT_2010</td>\n      <td>567.0</td>\n      <td>NaN</td>\n      <td>False</td>\n      <td>available</td>\n      <td>True</td>\n      <td></td>\n      <td>NaN</td>\n      <td>online</td>\n    </tr>\n    <tr>\n      <th>11</th>\n      <td>496</td>\n      <td>Lambda Leadership - Rotation D FT - LABS</td>\n      <td>1</td>\n      <td>IjyCCp6uptzjrqa60OSD1aBmmtP4kXyCVOszeGmO</td>\n      <td>2020-10-27 00:00:00+00:00</td>\n      <td>NaN</td>\n      <td>0.0</td>\n      <td>2020-10-22 18:05:22+00:00</td>\n      <td>LLP_FT_2010_LABS</td>\n      <td>wiki</td>\n      <td>1</td>\n      <td>103</td>\n      <td>private</td>\n      <td>NaN</td>\n      <td>2020-11-20 00:00:00+00:00</td>\n      <td>False</td>\n      <td>False</td>\n      <td>2000</td>\n      <td>False</td>\n      <td>False</td>\n      <td>{'ics': 'https://lambdaschool.instructure.com/feeds/calendars/course_IjyCCp6uptzjrqa60OSD1aBmmtP4kXyCVOszeGmO.ics'}</td>\n      <td>America/Los_Angeles</td>\n      <td>False</td>\n      <td>LLP_FT_2010_LABS</td>\n      <td>567.0</td>\n      <td>NaN</td>\n      <td>False</td>\n      <td>available</td>\n      <td>True</td>\n      <td></td>\n      <td>NaN</td>\n      <td>online</td>\n    </tr>\n    <tr>\n      <th>12</th>\n      <td>497</td>\n      <td>Lambda Leadership Rotation D PT - CS</td>\n      <td>1</td>\n      <td>C9HwCQPOumpo4TrpI19j3oSLipcqgTuQqTN9vCO4</td>\n      <td>NaT</td>\n      <td>NaN</td>\n      <td>0.0</td>\n      <td>2020-10-22 18:05:22+00:00</td>\n      <td>LLP_PT_2010_CS</td>\n      <td>wiki</td>\n      <td>1</td>\n      <td>1</td>\n      <td>private</td>\n      <td>NaN</td>\n      <td>2021-01-11 08:00:00+00:00</td>\n      <td>False</td>\n      <td>False</td>\n      <td>2000</td>\n      <td>False</td>\n      <td>False</td>\n      <td>{'ics': 'https://lambdaschool.instructure.com/feeds/calendars/course_C9HwCQPOumpo4TrpI19j3oSLipcqgTuQqTN9vCO4.ics'}</td>\n      <td>America/Los_Angeles</td>\n      <td>False</td>\n      <td>LLP_PT_2010_CS</td>\n      <td>567.0</td>\n      <td>NaN</td>\n      <td>False</td>\n      <td>available</td>\n      <td>True</td>\n      <td></td>\n      <td>NaN</td>\n      <td>online</td>\n    </tr>\n    <tr>\n      <th>13</th>\n      <td>498</td>\n      <td>Lambda Leadership - Rotation D PT</td>\n      <td>1</td>\n      <td>OFv2ybAkoPJoLxIoVsdpIi83BfWAJAlmi3xkav8m</td>\n      <td>NaT</td>\n      <td>NaN</td>\n      <td>0.0</td>\n      <td>2020-10-22 18:05:22+00:00</td>\n      <td>LLP_PT_2010</td>\n      <td>wiki</td>\n      <td>1</td>\n      <td>1</td>\n      <td>private</td>\n      <td>NaN</td>\n      <td>2021-01-11 08:00:00+00:00</td>\n      <td>False</td>\n      <td>False</td>\n      <td>2000</td>\n      <td>False</td>\n      <td>False</td>\n      <td>{'ics': 'https://lambdaschool.instructure.com/feeds/calendars/course_OFv2ybAkoPJoLxIoVsdpIi83BfWAJAlmi3xkav8m.ics'}</td>\n      <td>America/Los_Angeles</td>\n      <td>False</td>\n      <td>LLP_PT_2010</td>\n      <td>567.0</td>\n      <td>NaN</td>\n      <td>False</td>\n      <td>available</td>\n      <td>True</td>\n      <td></td>\n      <td>NaN</td>\n      <td>online</td>\n    </tr>\n    <tr>\n      <th>14</th>\n      <td>499</td>\n      <td>Lambda Leadership - Rotation D PT - LABS</td>\n      <td>1</td>\n      <td>9DrTvr5BbTjEqTGzamu0yyyRG8XcB8Va9HZR5yv6</td>\n      <td>2020-10-29 00:00:00+00:00</td>\n      <td>NaN</td>\n      <td>0.0</td>\n      <td>2020-10-22 18:05:22+00:00</td>\n      <td>LLP_PT_2010_LABS</td>\n      <td>wiki</td>\n      <td>1</td>\n      <td>1</td>\n      <td>private</td>\n      <td>NaN</td>\n      <td>2021-01-08 00:00:00+00:00</td>\n      <td>False</td>\n      <td>False</td>\n      <td>2000</td>\n      <td>False</td>\n      <td>False</td>\n      <td>{'ics': 'https://lambdaschool.instructure.com/feeds/calendars/course_9DrTvr5BbTjEqTGzamu0yyyRG8XcB8Va9HZR5yv6.ics'}</td>\n      <td>America/Los_Angeles</td>\n      <td>False</td>\n      <td>LLP_PT_2010_LABS</td>\n      <td>567.0</td>\n      <td>NaN</td>\n      <td>False</td>\n      <td>available</td>\n      <td>True</td>\n      <td></td>\n      <td>NaN</td>\n      <td>online</td>\n    </tr>\n    <tr>\n      <th>15</th>\n      <td>509</td>\n      <td>Lambda Leadership - Rotation D FT - CS</td>\n      <td>1</td>\n      <td>g24g03eMlNSvebaRGAbat3xISWcR8LkdEvGaSg91</td>\n      <td>NaT</td>\n      <td>NaN</td>\n      <td>0.0</td>\n      <td>2020-10-22 21:24:32+00:00</td>\n      <td>LLP_FT_2010_CS</td>\n      <td>wiki</td>\n      <td>1</td>\n      <td>103</td>\n      <td>private</td>\n      <td>NaN</td>\n      <td>2020-11-30 08:00:00+00:00</td>\n      <td>False</td>\n      <td>False</td>\n      <td>2000</td>\n      <td>False</td>\n      <td>False</td>\n      <td>{'ics': 'https://lambdaschool.instructure.com/feeds/calendars/course_g24g03eMlNSvebaRGAbat3xISWcR8LkdEvGaSg91.ics'}</td>\n      <td>America/Los_Angeles</td>\n      <td>False</td>\n      <td>LLP_FT_2010_CS</td>\n      <td>569.0</td>\n      <td>NaN</td>\n      <td>False</td>\n      <td>available</td>\n      <td>True</td>\n      <td></td>\n      <td>NaN</td>\n      <td>online</td>\n    </tr>\n    <tr>\n      <th>16</th>\n      <td>527</td>\n      <td>LLP Practice</td>\n      <td>1</td>\n      <td>N84Wc7wOmJr8X7Jws8rNKuhojzwcE5YX13IjRDMl</td>\n      <td>2020-11-06 22:21:00+00:00</td>\n      <td>NaN</td>\n      <td>0.0</td>\n      <td>2020-11-06 22:06:23+00:00</td>\n      <td>LLP_Practice</td>\n      <td>wiki</td>\n      <td>1</td>\n      <td>1</td>\n      <td>private</td>\n      <td>NaN</td>\n      <td>NaT</td>\n      <td>False</td>\n      <td>False</td>\n      <td>2000</td>\n      <td>False</td>\n      <td>False</td>\n      <td>{'ics': 'https://lambdaschool.instructure.com/feeds/calendars/course_N84Wc7wOmJr8X7Jws8rNKuhojzwcE5YX13IjRDMl.ics'}</td>\n      <td>America/Los_Angeles</td>\n      <td>False</td>\n      <td>None</td>\n      <td>NaN</td>\n      <td>NaN</td>\n      <td>False</td>\n      <td>available</td>\n      <td>False</td>\n      <td></td>\n      <td>NaN</td>\n      <td>NaN</td>\n    </tr>\n    <tr>\n      <th>17</th>\n      <td>531</td>\n      <td>Project Management</td>\n      <td>1</td>\n      <td>9IOinWrs0gx37KuekPOysm4Gd3uY49XYdmd6RZci</td>\n      <td>2020-11-12 23:42:21+00:00</td>\n      <td>NaN</td>\n      <td>NaN</td>\n      <td>2020-11-12 23:41:16+00:00</td>\n      <td>LLP_1.3_Template</td>\n      <td>modules</td>\n      <td>1</td>\n      <td>1</td>\n      <td>None</td>\n      <td>NaN</td>\n      <td>NaT</td>\n      <td>False</td>\n      <td>False</td>\n      <td>2000</td>\n      <td>False</td>\n      <td>True</td>\n      <td>{'ics': 'https://lambdaschool.instructure.com/feeds/calendars/course_9IOinWrs0gx37KuekPOysm4Gd3uY49XYdmd6RZci.ics'}</td>\n      <td>America/Los_Angeles</td>\n      <td>True</td>\n      <td>LLP_1.3_Template</td>\n      <td>NaN</td>\n      <td>NaN</td>\n      <td>False</td>\n      <td>available</td>\n      <td>False</td>\n      <td>NaN</td>\n      <td>{'content': False, 'points': False, 'due_dates': False, 'availability_dates': False}</td>\n      <td>NaN</td>\n    </tr>\n    <tr>\n      <th>18</th>\n      <td>532</td>\n      <td>Providing and Receiving Feedback</td>\n      <td>1</td>\n      <td>SpbJexBh0aSo0dHSI1fqTm9ZAIECCLvIaqUKhx0i</td>\n      <td>2020-11-12 23:42:16+00:00</td>\n      <td>NaN</td>\n      <td>NaN</td>\n      <td>2020-11-12 23:41:16+00:00</td>\n      <td>LLP_3.2_Template</td>\n      <td>modules</td>\n      <td>1</td>\n      <td>1</td>\n      <td>None</td>\n      <td>NaN</td>\n      <td>NaT</td>\n      <td>False</td>\n      <td>False</td>\n      <td>2000</td>\n      <td>False</td>\n      <td>True</td>\n      <td>{'ics': 'https://lambdaschool.instructure.com/feeds/calendars/course_SpbJexBh0aSo0dHSI1fqTm9ZAIECCLvIaqUKhx0i.ics'}</td>\n      <td>America/Los_Angeles</td>\n      <td>True</td>\n      <td>LLP_3.2_Template</td>\n      <td>NaN</td>\n      <td>NaN</td>\n      <td>False</td>\n      <td>available</td>\n      <td>False</td>\n      <td>NaN</td>\n      <td>{'content': False, 'points': False, 'due_dates': False, 'availability_dates': False}</td>\n      <td>NaN</td>\n    </tr>\n    <tr>\n      <th>19</th>\n      <td>533</td>\n      <td>Remote Teams</td>\n      <td>1</td>\n      <td>dsXtdQzJlk3wy9HDnQpfiivh1hJ1q0eyr4HvsQ4t</td>\n      <td>2020-11-12 23:42:17+00:00</td>\n      <td>NaN</td>\n      <td>NaN</td>\n      <td>2020-11-12 23:41:16+00:00</td>\n      <td>LLP_2.2_Template</td>\n      <td>modules</td>\n      <td>1</td>\n      <td>1</td>\n      <td>None</td>\n      <td>NaN</td>\n      <td>NaT</td>\n      <td>False</td>\n      <td>False</td>\n      <td>2000</td>\n      <td>False</td>\n      <td>True</td>\n      <td>{'ics': 'https://lambdaschool.instructure.com/feeds/calendars/course_dsXtdQzJlk3wy9HDnQpfiivh1hJ1q0eyr4HvsQ4t.ics'}</td>\n      <td>America/Los_Angeles</td>\n      <td>True</td>\n      <td>LLP_2.2_Template</td>\n      <td>NaN</td>\n      <td>NaN</td>\n      <td>False</td>\n      <td>available</td>\n      <td>False</td>\n      <td>NaN</td>\n      <td>{'content': False, 'points': False, 'due_dates': False, 'availability_dates': False}</td>\n      <td>NaN</td>\n    </tr>\n    <tr>\n      <th>20</th>\n      <td>534</td>\n      <td>Equity and Diversity</td>\n      <td>1</td>\n      <td>FXAy3ZfJCcCJdL9TvstxhQj7HycrqsJSRkNqIF6R</td>\n      <td>2020-11-12 23:42:14+00:00</td>\n      <td>NaN</td>\n      <td>NaN</td>\n      <td>2020-11-12 23:41:16+00:00</td>\n      <td>LLP_5.2_Template</td>\n      <td>modules</td>\n      <td>1</td>\n      <td>1</td>\n      <td>None</td>\n      <td>NaN</td>\n      <td>NaT</td>\n      <td>False</td>\n      <td>False</td>\n      <td>2000</td>\n      <td>False</td>\n      <td>True</td>\n      <td>{'ics': 'https://lambdaschool.instructure.com/feeds/calendars/course_FXAy3ZfJCcCJdL9TvstxhQj7HycrqsJSRkNqIF6R.ics'}</td>\n      <td>America/Los_Angeles</td>\n      <td>True</td>\n      <td>LLP_5.2_Template</td>\n      <td>NaN</td>\n      <td>NaN</td>\n      <td>False</td>\n      <td>available</td>\n      <td>False</td>\n      <td>NaN</td>\n      <td>{'content': False, 'points': False, 'due_dates': False, 'availability_dates': False}</td>\n      <td>NaN</td>\n    </tr>\n    <tr>\n      <th>21</th>\n      <td>535</td>\n      <td>Constructive Dialogue Through Inquiry</td>\n      <td>1</td>\n      <td>FSKzdOioJxsojE8vBuRLOCKLOUH3dZ2ZJkrSng5l</td>\n      <td>2020-11-12 23:42:16+00:00</td>\n      <td>NaN</td>\n      <td>NaN</td>\n      <td>2020-11-12 23:41:16+00:00</td>\n      <td>LLP_4.2_Template</td>\n      <td>modules</td>\n      <td>1</td>\n      <td>1</td>\n      <td>None</td>\n      <td>NaN</td>\n      <td>NaT</td>\n      <td>False</td>\n      <td>False</td>\n      <td>2000</td>\n      <td>False</td>\n      <td>True</td>\n      <td>{'ics': 'https://lambdaschool.instructure.com/feeds/calendars/course_FSKzdOioJxsojE8vBuRLOCKLOUH3dZ2ZJkrSng5l.ics'}</td>\n      <td>America/Los_Angeles</td>\n      <td>True</td>\n      <td>LLP_4.2_Template</td>\n      <td>NaN</td>\n      <td>NaN</td>\n      <td>False</td>\n      <td>available</td>\n      <td>False</td>\n      <td>NaN</td>\n      <td>{'content': False, 'points': False, 'due_dates': False, 'availability_dates': False}</td>\n      <td>NaN</td>\n    </tr>\n    <tr>\n      <th>22</th>\n      <td>536</td>\n      <td>Metacognition</td>\n      <td>1</td>\n      <td>NPNTPhNi3O0tkbibNhMBSpHffcFPDkSDn5NmhSIE</td>\n      <td>2020-11-12 23:42:46+00:00</td>\n      <td>NaN</td>\n      <td>NaN</td>\n      <td>2020-11-12 23:41:16+00:00</td>\n      <td>LLP_1.1_Template</td>\n      <td>modules</td>\n      <td>1</td>\n      <td>1</td>\n      <td>None</td>\n      <td>NaN</td>\n      <td>NaT</td>\n      <td>False</td>\n      <td>False</td>\n      <td>2000</td>\n      <td>False</td>\n      <td>True</td>\n      <td>{'ics': 'https://lambdaschool.instructure.com/feeds/calendars/course_NPNTPhNi3O0tkbibNhMBSpHffcFPDkSDn5NmhSIE.ics'}</td>\n      <td>America/Los_Angeles</td>\n      <td>True</td>\n      <td>LLP_1.1_Template</td>\n      <td>NaN</td>\n      <td>NaN</td>\n      <td>False</td>\n      <td>available</td>\n      <td>False</td>\n      <td>NaN</td>\n      <td>{'content': False, 'points': False, 'due_dates': False, 'availability_dates': False}</td>\n      <td>NaN</td>\n    </tr>\n    <tr>\n      <th>23</th>\n      <td>537</td>\n      <td>Trust in a Team</td>\n      <td>1</td>\n      <td>QFWnngewRY4Fc3wrvEgF05e3Rqr7pMwOCg7IcjkC</td>\n      <td>2020-11-12 23:42:18+00:00</td>\n      <td>NaN</td>\n      <td>NaN</td>\n      <td>2020-11-12 23:41:16+00:00</td>\n      <td>LLP_2.1_Template</td>\n      <td>modules</td>\n      <td>1</td>\n      <td>1</td>\n      <td>None</td>\n      <td>NaN</td>\n      <td>NaT</td>\n      <td>False</td>\n      <td>False</td>\n      <td>2000</td>\n      <td>False</td>\n      <td>True</td>\n      <td>{'ics': 'https://lambdaschool.instructure.com/feeds/calendars/course_QFWnngewRY4Fc3wrvEgF05e3Rqr7pMwOCg7IcjkC.ics'}</td>\n      <td>America/Los_Angeles</td>\n      <td>True</td>\n      <td>LLP_2.1_Template</td>\n      <td>NaN</td>\n      <td>NaN</td>\n      <td>False</td>\n      <td>available</td>\n      <td>False</td>\n      <td>NaN</td>\n      <td>{'content': False, 'points': False, 'due_dates': False, 'availability_dates': False}</td>\n      <td>NaN</td>\n    </tr>\n    <tr>\n      <th>24</th>\n      <td>538</td>\n      <td>Advocating for Yourself and Others</td>\n      <td>1</td>\n      <td>qup75Bwf8IrkpnaLJj5zk6Aj69T9Vdz5qOCXIRST</td>\n      <td>2020-11-12 23:42:15+00:00</td>\n      <td>NaN</td>\n      <td>NaN</td>\n      <td>2020-11-12 23:41:16+00:00</td>\n      <td>LLP_4.3_Template</td>\n      <td>modules</td>\n      <td>1</td>\n      <td>1</td>\n      <td>None</td>\n      <td>NaN</td>\n      <td>NaT</td>\n      <td>False</td>\n      <td>False</td>\n      <td>2000</td>\n      <td>False</td>\n      <td>True</td>\n      <td>{'ics': 'https://lambdaschool.instructure.com/feeds/calendars/course_qup75Bwf8IrkpnaLJj5zk6Aj69T9Vdz5qOCXIRST.ics'}</td>\n      <td>America/Los_Angeles</td>\n      <td>True</td>\n      <td>LLP_4.3_Template</td>\n      <td>NaN</td>\n      <td>NaN</td>\n      <td>False</td>\n      <td>available</td>\n      <td>False</td>\n      <td>NaN</td>\n      <td>{'content': False, 'points': False, 'due_dates': False, 'availability_dates': False}</td>\n      <td>NaN</td>\n    </tr>\n    <tr>\n      <th>25</th>\n      <td>539</td>\n      <td>Communicating and Collaborating Effectively</td>\n      <td>1</td>\n      <td>8berRwvRlnlOC3pqFFEApCsDgIlJYrO5JlT3G6jX</td>\n      <td>2020-11-12 23:42:17+00:00</td>\n      <td>NaN</td>\n      <td>NaN</td>\n      <td>2020-11-12 23:41:16+00:00</td>\n      <td>LLP_4.1_Template</td>\n      <td>modules</td>\n      <td>1</td>\n      <td>1</td>\n      <td>None</td>\n      <td>NaN</td>\n      <td>NaT</td>\n      <td>False</td>\n      <td>False</td>\n      <td>2000</td>\n      <td>False</td>\n      <td>True</td>\n      <td>{'ics': 'https://lambdaschool.instructure.com/feeds/calendars/course_8berRwvRlnlOC3pqFFEApCsDgIlJYrO5JlT3G6jX.ics'}</td>\n      <td>America/Los_Angeles</td>\n      <td>True</td>\n      <td>LLP_4.1_Template</td>\n      <td>NaN</td>\n      <td>NaN</td>\n      <td>False</td>\n      <td>available</td>\n      <td>False</td>\n      <td>NaN</td>\n      <td>{'content': False, 'points': False, 'due_dates': False, 'availability_dates': False}</td>\n      <td>NaN</td>\n    </tr>\n    <tr>\n      <th>26</th>\n      <td>540</td>\n      <td>Time Management</td>\n      <td>1</td>\n      <td>yGKApd1FzfZrqorpnr17iWyYq9nnEvEAiJRdGlFC</td>\n      <td>2020-11-12 23:42:16+00:00</td>\n      <td>NaN</td>\n      <td>NaN</td>\n      <td>2020-11-12 23:41:16+00:00</td>\n      <td>LLP_5.1_Template</td>\n      <td>modules</td>\n      <td>1</td>\n      <td>1</td>\n      <td>None</td>\n      <td>NaN</td>\n      <td>NaT</td>\n      <td>False</td>\n      <td>False</td>\n      <td>2000</td>\n      <td>False</td>\n      <td>True</td>\n      <td>{'ics': 'https://lambdaschool.instructure.com/feeds/calendars/course_yGKApd1FzfZrqorpnr17iWyYq9nnEvEAiJRdGlFC.ics'}</td>\n      <td>America/Los_Angeles</td>\n      <td>True</td>\n      <td>LLP_5.1_Template</td>\n      <td>NaN</td>\n      <td>NaN</td>\n      <td>False</td>\n      <td>available</td>\n      <td>False</td>\n      <td>NaN</td>\n      <td>{'content': False, 'points': False, 'due_dates': False, 'availability_dates': False}</td>\n      <td>NaN</td>\n    </tr>\n    <tr>\n      <th>27</th>\n      <td>541</td>\n      <td>Goal-Setting</td>\n      <td>1</td>\n      <td>1x82TBKdKWMsdimlwih2gVwJzdFsVnamCS3XujMA</td>\n      <td>2020-11-12 23:42:17+00:00</td>\n      <td>NaN</td>\n      <td>NaN</td>\n      <td>2020-11-12 23:41:16+00:00</td>\n      <td>LLP_3.1_Template</td>\n      <td>modules</td>\n      <td>1</td>\n      <td>1</td>\n      <td>None</td>\n      <td>NaN</td>\n      <td>NaT</td>\n      <td>False</td>\n      <td>False</td>\n      <td>2000</td>\n      <td>False</td>\n      <td>True</td>\n      <td>{'ics': 'https://lambdaschool.instructure.com/feeds/calendars/course_1x82TBKdKWMsdimlwih2gVwJzdFsVnamCS3XujMA.ics'}</td>\n      <td>America/Los_Angeles</td>\n      <td>True</td>\n      <td>LLP_3.1_Template</td>\n      <td>NaN</td>\n      <td>NaN</td>\n      <td>False</td>\n      <td>available</td>\n      <td>False</td>\n      <td>NaN</td>\n      <td>{'content': False, 'points': False, 'due_dates': False, 'availability_dates': False}</td>\n      <td>NaN</td>\n    </tr>\n    <tr>\n      <th>28</th>\n      <td>542</td>\n      <td>Conflict Management</td>\n      <td>1</td>\n      <td>660wsC7QlcnfHicKENPhVJo27zeWCpWFATz7tksB</td>\n      <td>2020-11-12 23:42:22+00:00</td>\n      <td>NaN</td>\n      <td>NaN</td>\n      <td>2020-11-12 23:41:16+00:00</td>\n      <td>LLP_1.2_Template</td>\n      <td>modules</td>\n      <td>1</td>\n      <td>1</td>\n      <td>None</td>\n      <td>NaN</td>\n      <td>NaT</td>\n      <td>False</td>\n      <td>False</td>\n      <td>2000</td>\n      <td>False</td>\n      <td>True</td>\n      <td>{'ics': 'https://lambdaschool.instructure.com/feeds/calendars/course_660wsC7QlcnfHicKENPhVJo27zeWCpWFATz7tksB.ics'}</td>\n      <td>America/Los_Angeles</td>\n      <td>True</td>\n      <td>LLP_1.2_Template</td>\n      <td>NaN</td>\n      <td>NaN</td>\n      <td>False</td>\n      <td>available</td>\n      <td>False</td>\n      <td>NaN</td>\n      <td>{'content': False, 'points': False, 'due_dates': False, 'availability_dates': False}</td>\n      <td>NaN</td>\n    </tr>\n    <tr>\n      <th>29</th>\n      <td>543</td>\n      <td>GitHub</td>\n      <td>1</td>\n      <td>33rTyElW3GhVPVeZkw4QtUrUGfa0AuyJ5HH7Syw0</td>\n      <td>2020-11-12 23:42:19+00:00</td>\n      <td>NaN</td>\n      <td>NaN</td>\n      <td>2020-11-12 23:41:16+00:00</td>\n      <td>LLP_1.4_Template</td>\n      <td>modules</td>\n      <td>1</td>\n      <td>1</td>\n      <td>None</td>\n      <td>NaN</td>\n      <td>NaT</td>\n      <td>False</td>\n      <td>False</td>\n      <td>2000</td>\n      <td>False</td>\n      <td>True</td>\n      <td>{'ics': 'https://lambdaschool.instructure.com/feeds/calendars/course_33rTyElW3GhVPVeZkw4QtUrUGfa0AuyJ5HH7Syw0.ics'}</td>\n      <td>America/Los_Angeles</td>\n      <td>True</td>\n      <td>LLP_1.4_Template</td>\n      <td>NaN</td>\n      <td>NaN</td>\n      <td>False</td>\n      <td>available</td>\n      <td>False</td>\n      <td>NaN</td>\n      <td>{'content': False, 'points': False, 'due_dates': False, 'availability_dates': False}</td>\n      <td>NaN</td>\n    </tr>\n    <tr>\n      <th>30</th>\n      <td>544</td>\n      <td>How to Use and Be a Mentor</td>\n      <td>1</td>\n      <td>DJmpotvX4kcczQpMCU5XgQqgrNiQLEhuCcjlhkCV</td>\n      <td>2020-11-12 23:42:16+00:00</td>\n      <td>NaN</td>\n      <td>NaN</td>\n      <td>2020-11-12 23:41:16+00:00</td>\n      <td>LLP_2.3_Template</td>\n      <td>modules</td>\n      <td>1</td>\n      <td>1</td>\n      <td>None</td>\n      <td>NaN</td>\n      <td>NaT</td>\n      <td>False</td>\n      <td>False</td>\n      <td>2000</td>\n      <td>False</td>\n      <td>True</td>\n      <td>{'ics': 'https://lambdaschool.instructure.com/feeds/calendars/course_DJmpotvX4kcczQpMCU5XgQqgrNiQLEhuCcjlhkCV.ics'}</td>\n      <td>America/Los_Angeles</td>\n      <td>True</td>\n      <td>LLP_2.3_Template</td>\n      <td>NaN</td>\n      <td>NaN</td>\n      <td>False</td>\n      <td>available</td>\n      <td>False</td>\n      <td>NaN</td>\n      <td>{'content': False, 'points': False, 'due_dates': False, 'availability_dates': False}</td>\n      <td>NaN</td>\n    </tr>\n    <tr>\n      <th>31</th>\n      <td>545</td>\n      <td>Breaking Down Complex Problems</td>\n      <td>1</td>\n      <td>RbTACDiZGH90KXUWuTThzSb8TBQGqbMXZG8DZGKG</td>\n      <td>2020-11-12 23:42:15+00:00</td>\n      <td>NaN</td>\n      <td>NaN</td>\n      <td>2020-11-12 23:41:16+00:00</td>\n      <td>LLP_3.3_Template</td>\n      <td>modules</td>\n      <td>1</td>\n      <td>1</td>\n      <td>None</td>\n      <td>NaN</td>\n      <td>NaT</td>\n      <td>False</td>\n      <td>False</td>\n      <td>2000</td>\n      <td>False</td>\n      <td>True</td>\n      <td>{'ics': 'https://lambdaschool.instructure.com/feeds/calendars/course_RbTACDiZGH90KXUWuTThzSb8TBQGqbMXZG8DZGKG.ics'}</td>\n      <td>America/Los_Angeles</td>\n      <td>True</td>\n      <td>LLP_3.3_Template</td>\n      <td>NaN</td>\n      <td>NaN</td>\n      <td>False</td>\n      <td>available</td>\n      <td>False</td>\n      <td>NaN</td>\n      <td>{'content': False, 'points': False, 'due_dates': False, 'availability_dates': False}</td>\n      <td>NaN</td>\n    </tr>\n    <tr>\n      <th>32</th>\n      <td>546</td>\n      <td>Evaluating Emerging Technologies</td>\n      <td>1</td>\n      <td>WD2X1FrBx7b29UfaM5oZjr0R9Q00dccrwBUopjpy</td>\n      <td>2020-11-12 23:42:15+00:00</td>\n      <td>NaN</td>\n      <td>NaN</td>\n      <td>2020-11-12 23:41:16+00:00</td>\n      <td>LLP_5.3_Template</td>\n      <td>modules</td>\n      <td>1</td>\n      <td>1</td>\n      <td>None</td>\n      <td>NaN</td>\n      <td>NaT</td>\n      <td>False</td>\n      <td>False</td>\n      <td>2000</td>\n      <td>False</td>\n      <td>True</td>\n      <td>{'ics': 'https://lambdaschool.instructure.com/feeds/calendars/course_WD2X1FrBx7b29UfaM5oZjr0R9Q00dccrwBUopjpy.ics'}</td>\n      <td>America/Los_Angeles</td>\n      <td>True</td>\n      <td>LLP_5.3_Template</td>\n      <td>NaN</td>\n      <td>NaN</td>\n      <td>False</td>\n      <td>available</td>\n      <td>False</td>\n      <td>NaN</td>\n      <td>{'content': False, 'points': False, 'due_dates': False, 'availability_dates': False}</td>\n      <td>NaN</td>\n    </tr>\n    <tr>\n      <th>33</th>\n      <td>548</td>\n      <td>Lambda Leadership - Rotation E Template</td>\n      <td>1</td>\n      <td>vtblMXE5bqAjeDgI9qTtBWOhaVsH4LX1ag2RBMPv</td>\n      <td>2020-11-30 13:00:00+00:00</td>\n      <td>NaN</td>\n      <td>0.0</td>\n      <td>2020-11-17 18:11:53+00:00</td>\n      <td>LLP_E_FT_Template</td>\n      <td>wiki</td>\n      <td>1</td>\n      <td>1</td>\n      <td>private</td>\n      <td>NaN</td>\n      <td>2021-01-10 00:00:00+00:00</td>\n      <td>False</td>\n      <td>False</td>\n      <td>2000</td>\n      <td>False</td>\n      <td>False</td>\n      <td>{'ics': 'https://lambdaschool.instructure.com/feeds/calendars/course_vtblMXE5bqAjeDgI9qTtBWOhaVsH4LX1ag2RBMPv.ics'}</td>\n      <td>America/Los_Angeles</td>\n      <td>False</td>\n      <td>None</td>\n      <td>NaN</td>\n      <td>NaN</td>\n      <td>False</td>\n      <td>unpublished</td>\n      <td>True</td>\n      <td></td>\n      <td>NaN</td>\n      <td>NaN</td>\n    </tr>\n    <tr>\n      <th>34</th>\n      <td>641</td>\n      <td>Lambda Leadership FT LABS - Rotation E</td>\n      <td>1</td>\n      <td>AkmTNGiutn8oUBi3B0B114eANiIr6UNUvk1IaDFo</td>\n      <td>2020-12-01 00:12:55+00:00</td>\n      <td>NaN</td>\n      <td>0.0</td>\n      <td>2020-11-27 20:08:08+00:00</td>\n      <td>LLP_FT_2011_LABS</td>\n      <td>wiki</td>\n      <td>1</td>\n      <td>1</td>\n      <td>private</td>\n      <td>NaN</td>\n      <td>2021-01-12 08:00:00+00:00</td>\n      <td>False</td>\n      <td>False</td>\n      <td>2000</td>\n      <td>False</td>\n      <td>False</td>\n      <td>{'ics': 'https://lambdaschool.instructure.com/feeds/calendars/course_AkmTNGiutn8oUBi3B0B114eANiIr6UNUvk1IaDFo.ics'}</td>\n      <td>America/Los_Angeles</td>\n      <td>False</td>\n      <td>LLP_FT_2011_LABS</td>\n      <td>NaN</td>\n      <td>NaN</td>\n      <td>False</td>\n      <td>available</td>\n      <td>True</td>\n      <td></td>\n      <td>NaN</td>\n      <td>NaN</td>\n    </tr>\n    <tr>\n      <th>35</th>\n      <td>642</td>\n      <td>Lambda Leadership FT CS - Rotation E</td>\n      <td>1</td>\n      <td>aQHW1NV7J7BoFh0im9VIxWrIORlwMihcBfP6KBPb</td>\n      <td>2020-12-01 00:12:40+00:00</td>\n      <td>NaN</td>\n      <td>0.0</td>\n      <td>2020-11-27 20:39:57+00:00</td>\n      <td>LLP_FT_2011_CS</td>\n      <td>wiki</td>\n      <td>1</td>\n      <td>1</td>\n      <td>private</td>\n      <td>NaN</td>\n      <td>2021-01-10 08:00:00+00:00</td>\n      <td>False</td>\n      <td>False</td>\n      <td>2000</td>\n      <td>False</td>\n      <td>False</td>\n      <td>{'ics': 'https://lambdaschool.instructure.com/feeds/calendars/course_aQHW1NV7J7BoFh0im9VIxWrIORlwMihcBfP6KBPb.ics'}</td>\n      <td>America/Los_Angeles</td>\n      <td>False</td>\n      <td>LLP_FT_2011_CS</td>\n      <td>NaN</td>\n      <td>NaN</td>\n      <td>False</td>\n      <td>available</td>\n      <td>True</td>\n      <td></td>\n      <td>NaN</td>\n      <td>NaN</td>\n    </tr>\n    <tr>\n      <th>36</th>\n      <td>643</td>\n      <td>Lambda Leadership PT - Rotation E</td>\n      <td>1</td>\n      <td>TqVIKDjIinZ8bSWeOiL5v0oS0V62JEjvGW3pCDXk</td>\n      <td>2020-12-01 00:13:12+00:00</td>\n      <td>NaN</td>\n      <td>0.0</td>\n      <td>2020-11-27 20:40:31+00:00</td>\n      <td>LLP_PT_2011</td>\n      <td>wiki</td>\n      <td>1</td>\n      <td>1</td>\n      <td>private</td>\n      <td>NaN</td>\n      <td>2021-02-08 08:00:00+00:00</td>\n      <td>False</td>\n      <td>False</td>\n      <td>2000</td>\n      <td>False</td>\n      <td>False</td>\n      <td>{'ics': 'https://lambdaschool.instructure.com/feeds/calendars/course_TqVIKDjIinZ8bSWeOiL5v0oS0V62JEjvGW3pCDXk.ics'}</td>\n      <td>America/Los_Angeles</td>\n      <td>False</td>\n      <td>LLP_PT_2011</td>\n      <td>NaN</td>\n      <td>NaN</td>\n      <td>False</td>\n      <td>available</td>\n      <td>True</td>\n      <td></td>\n      <td>NaN</td>\n      <td>NaN</td>\n    </tr>\n    <tr>\n      <th>37</th>\n      <td>644</td>\n      <td>Lambda Leadership PT LABS - Rotation E</td>\n      <td>1</td>\n      <td>ZnCZW5ZFK6eEIFXrWTT2xUIpBQChD7qFxaSIKzXL</td>\n      <td>2020-12-01 00:13:00+00:00</td>\n      <td>NaN</td>\n      <td>0.0</td>\n      <td>2020-11-27 20:41:09+00:00</td>\n      <td>LLP_PT_2011_LABS</td>\n      <td>wiki</td>\n      <td>1</td>\n      <td>1</td>\n      <td>private</td>\n      <td>NaN</td>\n      <td>2021-02-08 08:00:00+00:00</td>\n      <td>False</td>\n      <td>False</td>\n      <td>2000</td>\n      <td>False</td>\n      <td>False</td>\n      <td>{'ics': 'https://lambdaschool.instructure.com/feeds/calendars/course_ZnCZW5ZFK6eEIFXrWTT2xUIpBQChD7qFxaSIKzXL.ics'}</td>\n      <td>America/Los_Angeles</td>\n      <td>False</td>\n      <td>LLP_PT_2011_LABS</td>\n      <td>NaN</td>\n      <td>NaN</td>\n      <td>False</td>\n      <td>available</td>\n      <td>True</td>\n      <td></td>\n      <td>NaN</td>\n      <td>NaN</td>\n    </tr>\n    <tr>\n      <th>38</th>\n      <td>645</td>\n      <td>Lambda Leadership PT CS - Rotation E</td>\n      <td>1</td>\n      <td>c0SJTsASikQuQSAilURbZEg5o1dYXXMSc1YMB8lj</td>\n      <td>2020-12-01 00:13:25+00:00</td>\n      <td>NaN</td>\n      <td>0.0</td>\n      <td>2020-11-27 20:41:40+00:00</td>\n      <td>LLP_PT_2011_CS</td>\n      <td>wiki</td>\n      <td>1</td>\n      <td>1</td>\n      <td>private</td>\n      <td>NaN</td>\n      <td>2021-02-08 08:00:00+00:00</td>\n      <td>False</td>\n      <td>False</td>\n      <td>2000</td>\n      <td>False</td>\n      <td>False</td>\n      <td>{'ics': 'https://lambdaschool.instructure.com/feeds/calendars/course_c0SJTsASikQuQSAilURbZEg5o1dYXXMSc1YMB8lj.ics'}</td>\n      <td>America/Los_Angeles</td>\n      <td>False</td>\n      <td>LLP_PT_2011_CS</td>\n      <td>NaN</td>\n      <td>NaN</td>\n      <td>False</td>\n      <td>available</td>\n      <td>True</td>\n      <td></td>\n      <td>NaN</td>\n      <td>NaN</td>\n    </tr>\n    <tr>\n      <th>39</th>\n      <td>646</td>\n      <td>Lambda Leadership FT - Rotation E</td>\n      <td>1</td>\n      <td>BoCA0dejsj632PpjGzTMQPpC9EDPtVbrTpr3s8ll</td>\n      <td>2020-12-01 00:12:24+00:00</td>\n      <td>NaN</td>\n      <td>0.0</td>\n      <td>2020-11-27 20:46:44+00:00</td>\n      <td>LLP_FT_2011</td>\n      <td>wiki</td>\n      <td>1</td>\n      <td>1</td>\n      <td>private</td>\n      <td>NaN</td>\n      <td>2021-01-11 08:00:00+00:00</td>\n      <td>False</td>\n      <td>False</td>\n      <td>2000</td>\n      <td>False</td>\n      <td>False</td>\n      <td>{'ics': 'https://lambdaschool.instructure.com/feeds/calendars/course_BoCA0dejsj632PpjGzTMQPpC9EDPtVbrTpr3s8ll.ics'}</td>\n      <td>America/Los_Angeles</td>\n      <td>False</td>\n      <td>LLP_FT_2011</td>\n      <td>NaN</td>\n      <td>NaN</td>\n      <td>False</td>\n      <td>available</td>\n      <td>True</td>\n      <td></td>\n      <td>NaN</td>\n      <td>NaN</td>\n    </tr>\n    <tr>\n      <th>40</th>\n      <td>649</td>\n      <td>Unit 03 - Lambda Leadership - Rotation C</td>\n      <td>1</td>\n      <td>EXohSk3W96MMLJdA6SZ7RPAKsynvS233R1AZJRaC</td>\n      <td>2020-12-09 20:40:45+00:00</td>\n      <td>NaN</td>\n      <td>NaN</td>\n      <td>2020-12-09 20:40:44+00:00</td>\n      <td>LLP_C_Template</td>\n      <td>modules</td>\n      <td>1</td>\n      <td>1</td>\n      <td>None</td>\n      <td>NaN</td>\n      <td>NaT</td>\n      <td>False</td>\n      <td>False</td>\n      <td>2000</td>\n      <td>False</td>\n      <td>True</td>\n      <td>{'ics': 'https://lambdaschool.instructure.com/feeds/calendars/course_EXohSk3W96MMLJdA6SZ7RPAKsynvS233R1AZJRaC.ics'}</td>\n      <td>America/Los_Angeles</td>\n      <td>True</td>\n      <td>LLP_C_Template</td>\n      <td>NaN</td>\n      <td>NaN</td>\n      <td>False</td>\n      <td>available</td>\n      <td>False</td>\n      <td>NaN</td>\n      <td>{'content': False, 'points': False, 'due_dates': False, 'availability_dates': False}</td>\n      <td>NaN</td>\n    </tr>\n    <tr>\n      <th>41</th>\n      <td>650</td>\n      <td>Unit 01 - Lambda Leadership - Rotation A</td>\n      <td>1</td>\n      <td>vVSPsjQrpJO07pB0IdxQGPGM5FcNOeDuy70ylc0i</td>\n      <td>2020-12-09 20:40:44+00:00</td>\n      <td>NaN</td>\n      <td>NaN</td>\n      <td>2020-12-09 20:40:44+00:00</td>\n      <td>LLP_A_Template</td>\n      <td>modules</td>\n      <td>1</td>\n      <td>1</td>\n      <td>None</td>\n      <td>NaN</td>\n      <td>NaT</td>\n      <td>False</td>\n      <td>False</td>\n      <td>2000</td>\n      <td>False</td>\n      <td>True</td>\n      <td>{'ics': 'https://lambdaschool.instructure.com/feeds/calendars/course_vVSPsjQrpJO07pB0IdxQGPGM5FcNOeDuy70ylc0i.ics'}</td>\n      <td>America/Los_Angeles</td>\n      <td>True</td>\n      <td>LLP_A_Template</td>\n      <td>NaN</td>\n      <td>NaN</td>\n      <td>False</td>\n      <td>available</td>\n      <td>False</td>\n      <td>NaN</td>\n      <td>{'content': False, 'points': False, 'due_dates': False, 'availability_dates': False}</td>\n      <td>NaN</td>\n    </tr>\n    <tr>\n      <th>42</th>\n      <td>651</td>\n      <td>Unit 05 - Lambda Leadership - Rotation E</td>\n      <td>1</td>\n      <td>CODhGJ1WbnjRS3O6gJgSVDSalHyRTYxVba79aOjM</td>\n      <td>2020-12-09 20:40:44+00:00</td>\n      <td>NaN</td>\n      <td>NaN</td>\n      <td>2020-12-09 20:40:44+00:00</td>\n      <td>LLP_E_Template</td>\n      <td>modules</td>\n      <td>1</td>\n      <td>1</td>\n      <td>None</td>\n      <td>NaN</td>\n      <td>NaT</td>\n      <td>False</td>\n      <td>False</td>\n      <td>2000</td>\n      <td>False</td>\n      <td>True</td>\n      <td>{'ics': 'https://lambdaschool.instructure.com/feeds/calendars/course_CODhGJ1WbnjRS3O6gJgSVDSalHyRTYxVba79aOjM.ics'}</td>\n      <td>America/Los_Angeles</td>\n      <td>True</td>\n      <td>LLP_E_Template</td>\n      <td>NaN</td>\n      <td>NaN</td>\n      <td>False</td>\n      <td>available</td>\n      <td>False</td>\n      <td>NaN</td>\n      <td>{'content': False, 'points': False, 'due_dates': False, 'availability_dates': False}</td>\n      <td>NaN</td>\n    </tr>\n    <tr>\n      <th>43</th>\n      <td>652</td>\n      <td>Unit 02 - Lambda Leadership - Rotation B</td>\n      <td>1</td>\n      <td>RHyvCo4JYds5ptztp6fIU7cEbqlVO413k0KzC7ra</td>\n      <td>2020-12-09 20:40:44+00:00</td>\n      <td>NaN</td>\n      <td>NaN</td>\n      <td>2020-12-09 20:40:44+00:00</td>\n      <td>LLP_B_Template</td>\n      <td>modules</td>\n      <td>1</td>\n      <td>1</td>\n      <td>None</td>\n      <td>NaN</td>\n      <td>NaT</td>\n      <td>False</td>\n      <td>False</td>\n      <td>2000</td>\n      <td>False</td>\n      <td>True</td>\n      <td>{'ics': 'https://lambdaschool.instructure.com/feeds/calendars/course_RHyvCo4JYds5ptztp6fIU7cEbqlVO413k0KzC7ra.ics'}</td>\n      <td>America/Los_Angeles</td>\n      <td>True</td>\n      <td>LLP_B_Template</td>\n      <td>NaN</td>\n      <td>NaN</td>\n      <td>False</td>\n      <td>available</td>\n      <td>False</td>\n      <td>NaN</td>\n      <td>{'content': False, 'points': False, 'due_dates': False, 'availability_dates': False}</td>\n      <td>NaN</td>\n    </tr>\n    <tr>\n      <th>44</th>\n      <td>653</td>\n      <td>Unit 04 - Lambda Leadership - Rotation D</td>\n      <td>1</td>\n      <td>7RqTOvtth33K9iqNDsfXntOr6xtBjy1XZW1LLoIx</td>\n      <td>2020-12-09 20:40:44+00:00</td>\n      <td>NaN</td>\n      <td>NaN</td>\n      <td>2020-12-09 20:40:44+00:00</td>\n      <td>LLP_D_Template</td>\n      <td>modules</td>\n      <td>1</td>\n      <td>1</td>\n      <td>None</td>\n      <td>NaN</td>\n      <td>NaT</td>\n      <td>False</td>\n      <td>False</td>\n      <td>2000</td>\n      <td>False</td>\n      <td>True</td>\n      <td>{'ics': 'https://lambdaschool.instructure.com/feeds/calendars/course_7RqTOvtth33K9iqNDsfXntOr6xtBjy1XZW1LLoIx.ics'}</td>\n      <td>America/Los_Angeles</td>\n      <td>True</td>\n      <td>LLP_D_Template</td>\n      <td>NaN</td>\n      <td>NaN</td>\n      <td>False</td>\n      <td>available</td>\n      <td>False</td>\n      <td>NaN</td>\n      <td>{'content': False, 'points': False, 'due_dates': False, 'availability_dates': False}</td>\n      <td>NaN</td>\n    </tr>\n  </tbody>\n</table>\n</div>"
     },
     "metadata": {},
     "execution_count": 6
    }
   ],
   "source": [
    "llp_courses_df = pd.read_json(\"LLP-Courses.json\")\n",
    "llp_courses_df"
   ]
  },
  {
   "cell_type": "code",
   "execution_count": 41,
   "metadata": {},
   "outputs": [],
   "source": [
    "r = requests.get(\"https://lambdaschool.instructure.com/api/v1/courses/495/quizzes\", headers=headers)"
   ]
  },
  {
   "cell_type": "code",
   "execution_count": 42,
   "metadata": {},
   "outputs": [
    {
     "output_type": "execute_result",
     "data": {
      "text/plain": [
       "<Response [200]>"
      ]
     },
     "metadata": {},
     "execution_count": 42
    }
   ],
   "source": [
    "r"
   ]
  },
  {
   "cell_type": "code",
   "execution_count": 45,
   "metadata": {},
   "outputs": [],
   "source": [
    "raw = r.json()\n",
    "for i in raw:\n",
    "    i[\"course_id\"] = 495\n",
    "with open(\"m-m-quizzes-495.json\", \"w\") as outfile:\n",
    "    json.dump(raw, outfile)"
   ]
  },
  {
   "cell_type": "code",
   "execution_count": 46,
   "metadata": {},
   "outputs": [],
   "source": [
    "m_m_quiz_495_df = pd.read_json(\"m-m-quizzes-495.json\")"
   ]
  },
  {
   "cell_type": "code",
   "execution_count": 47,
   "metadata": {},
   "outputs": [
    {
     "output_type": "execute_result",
     "data": {
      "text/plain": [
       "     id                                                     title  course_id\n",
       "0  6780            Sprint 1, Module 1 - Mentor/Mentee Orientation        495\n",
       "1  6617            Sprint 1, Module 2 - Mentor/Mentee Orientation        495\n",
       "2  6788                          Sprint 1 - Track Team Reflection        495\n",
       "3  6876                                Sprint 2 - Team Reflection        495\n",
       "4  6610                     Sprint 3 - Mentorship (2) Reflection         495\n",
       "5  6824                          Sprint 3 - Mentorship Reflection        495\n",
       "6  6721                                Sprint 3 - Team Reflection        495\n",
       "7  6814                     Sprint 1 - Mentorship (2) Reflection         495\n",
       "8  6819                          Sprint 1 - Mentorship Reflection        495\n",
       "9  6585  Sprint 1, Module 3 - Mentee's Peer Mentorship Reflection        495"
      ],
      "text/html": "<div>\n<style scoped>\n    .dataframe tbody tr th:only-of-type {\n        vertical-align: middle;\n    }\n\n    .dataframe tbody tr th {\n        vertical-align: top;\n    }\n\n    .dataframe thead th {\n        text-align: right;\n    }\n</style>\n<table border=\"1\" class=\"dataframe\">\n  <thead>\n    <tr style=\"text-align: right;\">\n      <th></th>\n      <th>id</th>\n      <th>title</th>\n      <th>course_id</th>\n    </tr>\n  </thead>\n  <tbody>\n    <tr>\n      <th>0</th>\n      <td>6780</td>\n      <td>Sprint 1, Module 1 - Mentor/Mentee Orientation</td>\n      <td>495</td>\n    </tr>\n    <tr>\n      <th>1</th>\n      <td>6617</td>\n      <td>Sprint 1, Module 2 - Mentor/Mentee Orientation</td>\n      <td>495</td>\n    </tr>\n    <tr>\n      <th>2</th>\n      <td>6788</td>\n      <td>Sprint 1 - Track Team Reflection</td>\n      <td>495</td>\n    </tr>\n    <tr>\n      <th>3</th>\n      <td>6876</td>\n      <td>Sprint 2 - Team Reflection</td>\n      <td>495</td>\n    </tr>\n    <tr>\n      <th>4</th>\n      <td>6610</td>\n      <td>Sprint 3 - Mentorship (2) Reflection</td>\n      <td>495</td>\n    </tr>\n    <tr>\n      <th>5</th>\n      <td>6824</td>\n      <td>Sprint 3 - Mentorship Reflection</td>\n      <td>495</td>\n    </tr>\n    <tr>\n      <th>6</th>\n      <td>6721</td>\n      <td>Sprint 3 - Team Reflection</td>\n      <td>495</td>\n    </tr>\n    <tr>\n      <th>7</th>\n      <td>6814</td>\n      <td>Sprint 1 - Mentorship (2) Reflection</td>\n      <td>495</td>\n    </tr>\n    <tr>\n      <th>8</th>\n      <td>6819</td>\n      <td>Sprint 1 - Mentorship Reflection</td>\n      <td>495</td>\n    </tr>\n    <tr>\n      <th>9</th>\n      <td>6585</td>\n      <td>Sprint 1, Module 3 - Mentee's Peer Mentorship Reflection</td>\n      <td>495</td>\n    </tr>\n  </tbody>\n</table>\n</div>"
     },
     "metadata": {},
     "execution_count": 47
    }
   ],
   "source": [
    "m_m_quiz_495_df[[\"id\", \"title\",\"course_id\"]]"
   ]
  },
  {
   "cell_type": "code",
   "execution_count": 92,
   "metadata": {},
   "outputs": [
    {
     "output_type": "execute_result",
     "data": {
      "text/plain": [
       "     id                                                                 name\n",
       "0  8088                                     Sprint 1 - Track Team Reflection\n",
       "1  8176                                           Sprint 2 - Team Reflection\n",
       "2  8020                                           Sprint 3 - Team Reflection\n",
       "3  8080                       Sprint 1, Module 1 - Mentor/Mentee Orientation\n",
       "4  7887                       Sprint 1, Module 2 - Mentor/Mentee Orientation\n",
       "5  7851             Sprint 1, Module 3 - Mentee's Peer Mentorship Reflection\n",
       "6  8092             Sprint 1, Module 4 - Mentee's Peer Mentorship Reflection\n",
       "7  7936             Sprint 1, Module 3 - Mentor's Peer Mentorship Reflection\n",
       "8  7952             Sprint 1, Module 4 - Mentor's Peer Mentorship Reflection\n",
       "9  7914  Sprint 1, Module 3 - Mentor's Peer Mentorship Reflection, Mentee #2"
      ],
      "text/html": "<div>\n<style scoped>\n    .dataframe tbody tr th:only-of-type {\n        vertical-align: middle;\n    }\n\n    .dataframe tbody tr th {\n        vertical-align: top;\n    }\n\n    .dataframe thead th {\n        text-align: right;\n    }\n</style>\n<table border=\"1\" class=\"dataframe\">\n  <thead>\n    <tr style=\"text-align: right;\">\n      <th></th>\n      <th>id</th>\n      <th>name</th>\n    </tr>\n  </thead>\n  <tbody>\n    <tr>\n      <th>0</th>\n      <td>8088</td>\n      <td>Sprint 1 - Track Team Reflection</td>\n    </tr>\n    <tr>\n      <th>1</th>\n      <td>8176</td>\n      <td>Sprint 2 - Team Reflection</td>\n    </tr>\n    <tr>\n      <th>2</th>\n      <td>8020</td>\n      <td>Sprint 3 - Team Reflection</td>\n    </tr>\n    <tr>\n      <th>3</th>\n      <td>8080</td>\n      <td>Sprint 1, Module 1 - Mentor/Mentee Orientation</td>\n    </tr>\n    <tr>\n      <th>4</th>\n      <td>7887</td>\n      <td>Sprint 1, Module 2 - Mentor/Mentee Orientation</td>\n    </tr>\n    <tr>\n      <th>5</th>\n      <td>7851</td>\n      <td>Sprint 1, Module 3 - Mentee's Peer Mentorship Reflection</td>\n    </tr>\n    <tr>\n      <th>6</th>\n      <td>8092</td>\n      <td>Sprint 1, Module 4 - Mentee's Peer Mentorship Reflection</td>\n    </tr>\n    <tr>\n      <th>7</th>\n      <td>7936</td>\n      <td>Sprint 1, Module 3 - Mentor's Peer Mentorship Reflection</td>\n    </tr>\n    <tr>\n      <th>8</th>\n      <td>7952</td>\n      <td>Sprint 1, Module 4 - Mentor's Peer Mentorship Reflection</td>\n    </tr>\n    <tr>\n      <th>9</th>\n      <td>7914</td>\n      <td>Sprint 1, Module 3 - Mentor's Peer Mentorship Reflection, Mentee #2</td>\n    </tr>\n  </tbody>\n</table>\n</div>"
     },
     "metadata": {},
     "execution_count": 92
    }
   ],
   "source": [
    "m_m_df[[\"id\",\"name\"]]"
   ]
  },
  {
   "cell_type": "code",
   "execution_count": 32,
   "metadata": {},
   "outputs": [],
   "source": [
    "r = requests.get(\"https://lambdaschool.instructure.com/api/v1/courses/495/quizzes/6617/submissions\", headers=headers)\n",
    "r"
   ]
  },
  {
   "cell_type": "code",
   "execution_count": 34,
   "metadata": {},
   "outputs": [],
   "source": [
    "raw = r.json()\n",
    "\n",
    "with open(\"submissions-6617.json\",\"w\") as outfile:\n",
    "    json.dump(raw[\"quiz_submissions\"], outfile)"
   ]
  },
  {
   "cell_type": "code",
   "execution_count": 35,
   "metadata": {},
   "outputs": [
    {
     "output_type": "execute_result",
     "data": {
      "text/plain": [
       "      id  quiz_id  quiz_version  user_id  submission_id  score  kept_score  \\\n",
       "0  57046     6617           101      530         309114      1           1   \n",
       "1  57051     6617           101     3154         328659      1           1   \n",
       "2  57309     6617           103     1158         315038      1           1   \n",
       "3  57312     6617           103      247         303109      1           1   \n",
       "4  57331     6617           103     1232         322486      1           1   \n",
       "\n",
       "                 started_at                    end_at  \\\n",
       "0 2020-10-26 21:38:23+00:00 2020-11-21 07:59:59+00:00   \n",
       "1 2020-10-26 21:43:12+00:00 2020-11-21 07:59:59+00:00   \n",
       "2 2020-10-26 23:13:50+00:00 2020-11-21 07:59:59+00:00   \n",
       "3 2020-10-26 23:14:41+00:00 2020-11-21 07:59:59+00:00   \n",
       "4 2020-10-26 23:20:24+00:00 2020-11-21 07:59:59+00:00   \n",
       "\n",
       "                finished_at  attempt workflow_state  fudge_points  \\\n",
       "0 2020-10-26 21:46:11+00:00        1       complete           NaN   \n",
       "1 2020-10-27 23:49:39+00:00        1       complete           NaN   \n",
       "2 2020-10-28 00:18:02+00:00        1       complete           NaN   \n",
       "3 2020-11-21 07:59:59+00:00        1       complete           NaN   \n",
       "4 2020-10-26 23:20:43+00:00        1       complete           NaN   \n",
       "\n",
       "   quiz_points_possible  extra_attempts extra_time  manually_unlocked  \\\n",
       "0                     1             NaN        NaT                NaN   \n",
       "1                     1             NaN        NaT                NaN   \n",
       "2                     1             NaN        NaT                NaN   \n",
       "3                     1             NaN        NaT                NaN   \n",
       "4                     1             NaN        NaT                NaN   \n",
       "\n",
       "                                                   validation_token  \\\n",
       "0  d9fa7cec3dc1d1f13063935dd7769bb2d27eb0ec17039e56f0cbb33a1aa9a210   \n",
       "1  5cfce816547c268ec2c40d014942a1b31374541fe3d621f3bc0264a946a28f07   \n",
       "2  46563984d27a996c24bea3dcaba3ff0ddad608d665ae5057d729467f2e9795f0   \n",
       "3  c2850e5ebfbc7b2872fcd3ba72b752779d81751e10e72a1f2be0eb3cf5c265ac   \n",
       "4  6f96316920863b1ebf9302f9a0a9df0a9f07177c43a58c50499fa69c19de3e93   \n",
       "\n",
       "   score_before_regrade  has_seen_results  time_spent  attempts_left  \\\n",
       "0                   NaN               0.0         468              0   \n",
       "1                   NaN               0.0       93986              0   \n",
       "2                   NaN               0.0       90252              0   \n",
       "3                   NaN               NaN     2191517              0   \n",
       "4                   NaN               0.0          19              0   \n",
       "\n",
       "   overdue_and_needs_submission  excused?  \\\n",
       "0                         False     False   \n",
       "1                         False     False   \n",
       "2                         False     False   \n",
       "3                         False     False   \n",
       "4                         False     False   \n",
       "\n",
       "                                                                          html_url  \\\n",
       "0  https://lambdaschool.instructure.com/courses/495/quizzes/6617/submissions/57046   \n",
       "1  https://lambdaschool.instructure.com/courses/495/quizzes/6617/submissions/57051   \n",
       "2  https://lambdaschool.instructure.com/courses/495/quizzes/6617/submissions/57309   \n",
       "3  https://lambdaschool.instructure.com/courses/495/quizzes/6617/submissions/57312   \n",
       "4  https://lambdaschool.instructure.com/courses/495/quizzes/6617/submissions/57331   \n",
       "\n",
       "                                                                                                 result_url  \n",
       "0  https://lambdaschool.instructure.com/courses/495/quizzes/6617/history?quiz_submission_id=57046&version=1  \n",
       "1  https://lambdaschool.instructure.com/courses/495/quizzes/6617/history?quiz_submission_id=57051&version=1  \n",
       "2  https://lambdaschool.instructure.com/courses/495/quizzes/6617/history?quiz_submission_id=57309&version=1  \n",
       "3  https://lambdaschool.instructure.com/courses/495/quizzes/6617/history?quiz_submission_id=57312&version=1  \n",
       "4  https://lambdaschool.instructure.com/courses/495/quizzes/6617/history?quiz_submission_id=57331&version=1  "
      ],
      "text/html": "<div>\n<style scoped>\n    .dataframe tbody tr th:only-of-type {\n        vertical-align: middle;\n    }\n\n    .dataframe tbody tr th {\n        vertical-align: top;\n    }\n\n    .dataframe thead th {\n        text-align: right;\n    }\n</style>\n<table border=\"1\" class=\"dataframe\">\n  <thead>\n    <tr style=\"text-align: right;\">\n      <th></th>\n      <th>id</th>\n      <th>quiz_id</th>\n      <th>quiz_version</th>\n      <th>user_id</th>\n      <th>submission_id</th>\n      <th>score</th>\n      <th>kept_score</th>\n      <th>started_at</th>\n      <th>end_at</th>\n      <th>finished_at</th>\n      <th>attempt</th>\n      <th>workflow_state</th>\n      <th>fudge_points</th>\n      <th>quiz_points_possible</th>\n      <th>extra_attempts</th>\n      <th>extra_time</th>\n      <th>manually_unlocked</th>\n      <th>validation_token</th>\n      <th>score_before_regrade</th>\n      <th>has_seen_results</th>\n      <th>time_spent</th>\n      <th>attempts_left</th>\n      <th>overdue_and_needs_submission</th>\n      <th>excused?</th>\n      <th>html_url</th>\n      <th>result_url</th>\n    </tr>\n  </thead>\n  <tbody>\n    <tr>\n      <th>0</th>\n      <td>57046</td>\n      <td>6617</td>\n      <td>101</td>\n      <td>530</td>\n      <td>309114</td>\n      <td>1</td>\n      <td>1</td>\n      <td>2020-10-26 21:38:23+00:00</td>\n      <td>2020-11-21 07:59:59+00:00</td>\n      <td>2020-10-26 21:46:11+00:00</td>\n      <td>1</td>\n      <td>complete</td>\n      <td>NaN</td>\n      <td>1</td>\n      <td>NaN</td>\n      <td>NaT</td>\n      <td>NaN</td>\n      <td>d9fa7cec3dc1d1f13063935dd7769bb2d27eb0ec17039e56f0cbb33a1aa9a210</td>\n      <td>NaN</td>\n      <td>0.0</td>\n      <td>468</td>\n      <td>0</td>\n      <td>False</td>\n      <td>False</td>\n      <td>https://lambdaschool.instructure.com/courses/495/quizzes/6617/submissions/57046</td>\n      <td>https://lambdaschool.instructure.com/courses/495/quizzes/6617/history?quiz_submission_id=57046&amp;version=1</td>\n    </tr>\n    <tr>\n      <th>1</th>\n      <td>57051</td>\n      <td>6617</td>\n      <td>101</td>\n      <td>3154</td>\n      <td>328659</td>\n      <td>1</td>\n      <td>1</td>\n      <td>2020-10-26 21:43:12+00:00</td>\n      <td>2020-11-21 07:59:59+00:00</td>\n      <td>2020-10-27 23:49:39+00:00</td>\n      <td>1</td>\n      <td>complete</td>\n      <td>NaN</td>\n      <td>1</td>\n      <td>NaN</td>\n      <td>NaT</td>\n      <td>NaN</td>\n      <td>5cfce816547c268ec2c40d014942a1b31374541fe3d621f3bc0264a946a28f07</td>\n      <td>NaN</td>\n      <td>0.0</td>\n      <td>93986</td>\n      <td>0</td>\n      <td>False</td>\n      <td>False</td>\n      <td>https://lambdaschool.instructure.com/courses/495/quizzes/6617/submissions/57051</td>\n      <td>https://lambdaschool.instructure.com/courses/495/quizzes/6617/history?quiz_submission_id=57051&amp;version=1</td>\n    </tr>\n    <tr>\n      <th>2</th>\n      <td>57309</td>\n      <td>6617</td>\n      <td>103</td>\n      <td>1158</td>\n      <td>315038</td>\n      <td>1</td>\n      <td>1</td>\n      <td>2020-10-26 23:13:50+00:00</td>\n      <td>2020-11-21 07:59:59+00:00</td>\n      <td>2020-10-28 00:18:02+00:00</td>\n      <td>1</td>\n      <td>complete</td>\n      <td>NaN</td>\n      <td>1</td>\n      <td>NaN</td>\n      <td>NaT</td>\n      <td>NaN</td>\n      <td>46563984d27a996c24bea3dcaba3ff0ddad608d665ae5057d729467f2e9795f0</td>\n      <td>NaN</td>\n      <td>0.0</td>\n      <td>90252</td>\n      <td>0</td>\n      <td>False</td>\n      <td>False</td>\n      <td>https://lambdaschool.instructure.com/courses/495/quizzes/6617/submissions/57309</td>\n      <td>https://lambdaschool.instructure.com/courses/495/quizzes/6617/history?quiz_submission_id=57309&amp;version=1</td>\n    </tr>\n    <tr>\n      <th>3</th>\n      <td>57312</td>\n      <td>6617</td>\n      <td>103</td>\n      <td>247</td>\n      <td>303109</td>\n      <td>1</td>\n      <td>1</td>\n      <td>2020-10-26 23:14:41+00:00</td>\n      <td>2020-11-21 07:59:59+00:00</td>\n      <td>2020-11-21 07:59:59+00:00</td>\n      <td>1</td>\n      <td>complete</td>\n      <td>NaN</td>\n      <td>1</td>\n      <td>NaN</td>\n      <td>NaT</td>\n      <td>NaN</td>\n      <td>c2850e5ebfbc7b2872fcd3ba72b752779d81751e10e72a1f2be0eb3cf5c265ac</td>\n      <td>NaN</td>\n      <td>NaN</td>\n      <td>2191517</td>\n      <td>0</td>\n      <td>False</td>\n      <td>False</td>\n      <td>https://lambdaschool.instructure.com/courses/495/quizzes/6617/submissions/57312</td>\n      <td>https://lambdaschool.instructure.com/courses/495/quizzes/6617/history?quiz_submission_id=57312&amp;version=1</td>\n    </tr>\n    <tr>\n      <th>4</th>\n      <td>57331</td>\n      <td>6617</td>\n      <td>103</td>\n      <td>1232</td>\n      <td>322486</td>\n      <td>1</td>\n      <td>1</td>\n      <td>2020-10-26 23:20:24+00:00</td>\n      <td>2020-11-21 07:59:59+00:00</td>\n      <td>2020-10-26 23:20:43+00:00</td>\n      <td>1</td>\n      <td>complete</td>\n      <td>NaN</td>\n      <td>1</td>\n      <td>NaN</td>\n      <td>NaT</td>\n      <td>NaN</td>\n      <td>6f96316920863b1ebf9302f9a0a9df0a9f07177c43a58c50499fa69c19de3e93</td>\n      <td>NaN</td>\n      <td>0.0</td>\n      <td>19</td>\n      <td>0</td>\n      <td>False</td>\n      <td>False</td>\n      <td>https://lambdaschool.instructure.com/courses/495/quizzes/6617/submissions/57331</td>\n      <td>https://lambdaschool.instructure.com/courses/495/quizzes/6617/history?quiz_submission_id=57331&amp;version=1</td>\n    </tr>\n  </tbody>\n</table>\n</div>"
     },
     "metadata": {},
     "execution_count": 35
    }
   ],
   "source": [
    "sub_df_6617 = pd.read_json(\"submissions-6617.json\")\n",
    "sub_df_6617.head()"
   ]
  },
  {
   "cell_type": "code",
   "execution_count": 37,
   "metadata": {},
   "outputs": [
    {
     "output_type": "execute_result",
     "data": {
      "text/plain": [
       "<Response [200]>"
      ]
     },
     "metadata": {},
     "execution_count": 37
    }
   ],
   "source": [
    "r = requests.get(\"https://lambdaschool.instructure.com/api/v1/courses/495/quizzes/6617/submissions/57046/events\", headers=headers)\n",
    "r"
   ]
  },
  {
   "cell_type": "code",
   "execution_count": 38,
   "metadata": {},
   "outputs": [],
   "source": [
    "raw = r.json()[\"quiz_submission_events\"]\n",
    "for i in raw:\n",
    "    i[\"user_id\"] = 530"
   ]
  },
  {
   "cell_type": "code",
   "execution_count": 39,
   "metadata": {},
   "outputs": [],
   "source": [
    "with open(\"events-57046.json\", \"w\") as outfile:\n",
    "    json.dump(raw, outfile)"
   ]
  },
  {
   "cell_type": "code",
   "execution_count": 40,
   "metadata": {},
   "outputs": [
    {
     "output_type": "execute_result",
     "data": {
      "text/plain": [
       "                                                                                                                                                                                                                                                                                                                                                                                                                                                                                                                                                                                                                                                                                                                                                                                                                                                                                                                                                                                                                                                                                                                                                                                                                                                                              [22087]   \n",
       "5                                                                                                                                                                                                                                                                                                                                                                                                                                                                                                                                                                                                                                                                                                                                                                                                                                                                                                                                                                                                                                                                                                                                                                                                                                                                                                                                                                                                                                                                                                                                                                                                                                                                                                                                                                                                                                                                                                                                                                                                                                                                                                                                                                                                                                                                                                                                                                                                                                                                                                                                                                                                                                                                                                                                                                                                                                                                                                                                                                                                                                                                                                                                                                                                                                                                                                                                                                                                                                                                                                                                                                                                                                                                         {'user_agent': 'Mozilla/5.0 (Windows NT 10.0; Win64; x64) AppleWebKit/537.36 (KHTML, like Gecko) Chrome/86.0.4240.75 Safari/537.36'}   \n",
       "6                                                                                                                                                                                                                                                                                                                                                                                                                                                                                                                                                                                                                                                                                                                                                                                                                                                                                                                                                                                                                                                                                                                                                                                                                                                                                                                                                                                                                                                                                                                                                                                                                                                                                                                                                                                                                                                                                                                                                                                                                                                                                                                                                                                                                                                                                                                                                                                                                                                                                                                                                                                                                                                                                                                                                                                                                                                                                                                                                                                                                                                                                                                                                                                                                                                                                                                                                                                                                                                                                                                                                                                                                                                                                                                                                        [{'quiz_question_id': '22087', 'answer': '<p>T</p>'}]   \n",
       "7                                                                                                                                                                                                                                                                                                                                                                                                                                                                                                                                                                                                                                                                                                                                                                                                                                                                                                                                                                                                                                                                                                                                                                                                                                                                                                                                                                                                                                                                                                                                                                                                                                                                                                                                                                                                                                                                                                                                                                                                                                                                                                                                                                                                                                                                                                                                                                                                                                                                                                                                                                                                                                                                                                                                                                                                                                                                                                                                                                                                                                                                                                                                                                                                                                                                                                                                                                                                                                                                                                                                                                                                                                                                                                                                                                                                      [22085]   \n",
       "8                                                                                                                                                                                                                                                                                                                                                                                                                                                                                                                                                                                                                                                                                                                                                                                                                                                                                                                                                                                                                                                                                                                                                                                                                                                                                                                                                                                                                                                                                                                                                                                                                                                                                                                                                                                                                                                                                                                                                                                                                                                                                                                                                                                                                                                                                                                                                                                                                                                                                                                                                                                                                                                                                                                                                                                                                                                                                                                                                                                                                                                                                                                                                                                                                                                                                                                                                                                                                                                                                                                                                                                                                                                                                                                       [{'quiz_question_id': '22087', 'answer': '<p>There are always going to be&nbsp;</p>'}]   \n",
       "9                                                                                                                                                                                                                                                                                                                                                                                                                                                                                                                                                                                                                                                                                                                                                                                                                                                                                                                                                                                                                                                                                                                                                                                                                                                                                                                                                                                                                                                                                                                                                                                                                                                                                                                                                                                                                                                                                                                                                                                                                                                                                                                                                                                                                                                                                                                                                                                                                                                                                                                                                                                                                                                                                                                                                                                                                                                                                                                                                                                                                                                                                                                                                                                                                                                                                                                                                                                                                                                                                                                                                                                                     [{'quiz_question_id': '22087', 'answer': '<p>There are always going to be different tendencies and personalities in the workplace, but it is important that you learn to get along with your co-w</p>'}]   \n",
       "\n",
       "                 created_at  user_id  \n",
       "0 2020-10-26 21:38:23+00:00      530  \n",
       "1 2020-10-26 21:38:24+00:00      530  \n",
       "2 2020-10-26 21:38:40+00:00      530  \n",
       "3 2020-10-26 21:38:40+00:00      530  \n",
       "4 2020-10-26 21:38:40+00:00      530  \n",
       "5 2020-10-26 21:45:05+00:00      530  \n",
       "6 2020-10-26 21:45:10+00:00      530  \n",
       "7 2020-10-26 21:45:20+00:00      530  \n",
       "8 2020-10-26 21:45:20+00:00      530  \n",
       "9 2020-10-26 21:45:50+00:00      530  "
      ],
      "text/html": "<div>\n<style scoped>\n    .dataframe tbody tr th:only-of-type {\n        vertical-align: middle;\n    }\n\n    .dataframe tbody tr th {\n        vertical-align: top;\n    }\n\n    .dataframe thead th {\n        text-align: right;\n    }\n</style>\n<table border=\"1\" class=\"dataframe\">\n  <thead>\n    <tr style=\"text-align: right;\">\n      <th></th>\n      <th>id</th>\n      <th>event_type</th>\n      <th>event_data</th>\n      <th>created_at</th>\n      <th>user_id</th>\n    </tr>\n  </thead>\n  <tbody>\n    <tr>\n      <th>0</th>\n      <td>641105</td>\n      <td>submission_created</td>\n      <td>{'quiz_version': 101, 'quiz_data': [{'answers': [{'weight': 100, 'text': 'answer_text', 'id': 2598, 'numerical_answer_type': 'exact_answer', 'exact': 1.0, 'margin': 0.0}, {'weight': 100, 'text': 'answer_text', 'id': 2967, 'numerical_answer_type': 'exact_answer', 'exact': 2.0, 'margin': 0.0}, {'weight': 100, 'text': 'answer_text', 'id': 1988, 'numerical_answer_type': 'exact_answer', 'exact': 3.0, 'margin': 0.0}], 'correct_comments': '', 'incorrect_comments': '', 'question_text': '&lt;div id=\"t-formula-bar-input-container\"&gt;\n&lt;div dir=\"ltr\"&gt;\n&lt;div id=\"t-formula-bar-input\"&gt;\n&lt;p class=\"cell-input disabled-input\" dir=\"ltr\" role=\"combobox\" aria-autocomplete=\"list\"&gt;How did your orientation go today?&lt;/p&gt;\n&lt;p class=\"cell-input disabled-input\" dir=\"ltr\" role=\"combobox\" aria-autocomplete=\"list\"&gt;&lt;span style=\"color: #1d1c1d; font-family: Slack-Lato, appleLogo, sans-serif; font-size: 12pt; font-style: normal; font-weight: 400; text-align: left; text-indent: 0px; white-space: normal; background-color: #ffffff; display: inline !important; float: none;\"&gt;Answer on a scale of 1-3, where 1 = below expectations, 2 = met expectations, and 3 = exceeded expectations.&lt;/span&gt;&lt;/p&gt;\n&lt;/div&gt;\n&lt;/div&gt;\n&lt;/div&gt;', 'question_type': 'numerical_question', 'question_name': 'Question 1', 'migration_id': 'mastercourse_16855_145_dbe668329244508a33f6459f4759c677', 'points_possible': 1.0, 'assessment_question_migration_id': 'mastercourse_16855_145_f47b767d37e06559ff801f2d253307ba', 'question_bank_name': 'Sprint 1, Module 2 - Mentor/Mentee Orientation', 'question_bank_migration_id': 'i594b28f22fd550093f9e8edb8aefa1c6', 'is_quiz_question_bank': True, 'prepped_for_import': True, 'position': 1, 'id': 22085, 'assessment_question_id': None, 'published_at': '2020-10-26T20:44:17+00:00', 'name': 'Question 1'}, {'answers': [], 'correct_comments': '', 'incorrect_comments': '', 'question_text': '&lt;div id=\"t-formula-bar-input-container\"&gt;\n&lt;div dir=\"ltr\"&gt;\n&lt;div id=\"t-formula-bar-input\"&gt;\n&lt;p class=\"cell-input disabled-input\" dir=\"ltr\" role=\"combobox\" aria-autocomplete=\"list\"&gt;What is one key take-away you've gained from today's session?&lt;/p&gt;\n&lt;/div&gt;\n&lt;/div&gt;\n&lt;/div&gt;', 'question_name': 'Question 2', 'migration_id': 'mastercourse_16855_145_593232abad6356f1961dfba33cc0392f', 'points_possible': 1.0, 'assessment_question_migration_id': 'mastercourse_16855_145_f47b767d37e06559ff801f2d253307ba', 'question_type': 'essay_question', 'question_bank_name': 'Sprint 1, Module 2 - Mentor/Mentee Orientation', 'question_bank_migration_id': 'i594b28f22fd550093f9e8edb8aefa1c6', 'is_quiz_question_bank': True, 'prepped_for_import': True, 'position': 2, 'id': 22087, 'assessment_question_id': None, 'published_at': '2020-10-26T20:44:17+00:00', 'name': 'Question 2'}, {'answers': [], 'correct_comments': '', 'incorrect_comments': '', 'question_text': '&lt;div id=\"t-formula-bar-input-container\"&gt;\n&lt;div dir=\"ltr\"&gt;\n&lt;div id=\"t-formula-bar-input\"&gt;\n&lt;p class=\"cell-input disabled-input\" dir=\"ltr\" role=\"combobox\" aria-autocomplete=\"list\"&gt;&lt;span&gt;Do you have any questions or anything we should know about?&lt;/span&gt;&lt;/p&gt;\n&lt;/div&gt;\n&lt;/div&gt;\n&lt;/div&gt;', 'question_name': 'Question 3', 'migration_id': 'mastercourse_16855_145_b5f72156ed2d2464e6d21f8e57feb68e', 'points_possible': 1.0, 'assessment_question_migration_id': 'mastercourse_16855_145_f47b767d37e06559ff801f2d253307ba', 'question_type': 'essay_question', 'question_bank_name': 'Sprint 1, Module 2 - Mentor/Mentee Orientation', 'question_bank_migration_id': 'i594b28f22fd550093f9e8edb8aefa1c6', 'is_quiz_question_bank': True, 'prepped_for_import': True, 'position': 3, 'id': 22089, 'assessment_question_id': None, 'published_at': '2020-10-26T20:44:17+00:00', 'name': 'Question 3'}]}</td>\n      <td>2020-10-26 21:38:23+00:00</td>\n      <td>530</td>\n    </tr>\n    <tr>\n      <th>1</th>\n      <td>641106</td>\n      <td>session_started</td>\n      <td>{'user_agent': 'Mozilla/5.0 (Windows NT 10.0; Win64; x64) AppleWebKit/537.36 (KHTML, like Gecko) Chrome/86.0.4240.75 Safari/537.36'}</td>\n      <td>2020-10-26 21:38:24+00:00</td>\n      <td>530</td>\n    </tr>\n    <tr>\n      <th>2</th>\n      <td>641108</td>\n      <td>question_viewed</td>\n      <td>[22085]</td>\n      <td>2020-10-26 21:38:40+00:00</td>\n      <td>530</td>\n    </tr>\n    <tr>\n      <th>3</th>\n      <td>641109</td>\n      <td>question_answered</td>\n      <td>[{'quiz_question_id': '22085', 'answer': 3.0}, {'quiz_question_id': '22087', 'answer': None}, {'quiz_question_id': '22089', 'answer': None}]</td>\n      <td>2020-10-26 21:38:40+00:00</td>\n      <td>530</td>\n    </tr>\n    <tr>\n      <th>4</th>\n      <td>641110</td>\n      <td>question_viewed</td>\n      <td>[22087]</td>\n      <td>2020-10-26 21:38:40+00:00</td>\n      <td>530</td>\n    </tr>\n    <tr>\n      <th>5</th>\n      <td>641216</td>\n      <td>session_started</td>\n      <td>{'user_agent': 'Mozilla/5.0 (Windows NT 10.0; Win64; x64) AppleWebKit/537.36 (KHTML, like Gecko) Chrome/86.0.4240.75 Safari/537.36'}</td>\n      <td>2020-10-26 21:45:05+00:00</td>\n      <td>530</td>\n    </tr>\n    <tr>\n      <th>6</th>\n      <td>641218</td>\n      <td>question_answered</td>\n      <td>[{'quiz_question_id': '22087', 'answer': '&lt;p&gt;T&lt;/p&gt;'}]</td>\n      <td>2020-10-26 21:45:10+00:00</td>\n      <td>530</td>\n    </tr>\n    <tr>\n      <th>7</th>\n      <td>641221</td>\n      <td>question_viewed</td>\n      <td>[22085]</td>\n      <td>2020-10-26 21:45:20+00:00</td>\n      <td>530</td>\n    </tr>\n    <tr>\n      <th>8</th>\n      <td>641222</td>\n      <td>question_answered</td>\n      <td>[{'quiz_question_id': '22087', 'answer': '&lt;p&gt;There are always going to be&amp;nbsp;&lt;/p&gt;'}]</td>\n      <td>2020-10-26 21:45:20+00:00</td>\n      <td>530</td>\n    </tr>\n    <tr>\n      <th>9</th>\n      <td>641231</td>\n      <td>question_answered</td>\n      <td>[{'quiz_question_id': '22087', 'answer': '&lt;p&gt;There are always going to be different tendencies and personalities in the workplace, but it is important that you learn to get along with your co-w&lt;/p&gt;'}]</td>\n      <td>2020-10-26 21:45:50+00:00</td>\n      <td>530</td>\n    </tr>\n  </tbody>\n</table>\n</div>"
     },
     "metadata": {},
     "execution_count": 40
    }
   ],
   "source": [
    "events_df_57046 = pd.read_json(\"events-57046.json\")\n",
    "events_df_57046"
   ]
  },
  {
   "cell_type": "code",
   "execution_count": 16,
   "metadata": {},
   "outputs": [],
   "source": [
    "def get_submissions(r):\n",
    "    \"\"\"Creates a small list of jsons\n",
    "    that can be made into a file very easily\n",
    "    then converted to a dataframe for exploration\n",
    "    This particular design is just for grabbing pagniated\n",
    "    information from the api and returning it in a useful\n",
    "    way.\n",
    "    Usage:\n",
    "    jsons = get_submissions(valid_api_request)\"\"\"\n",
    "    data_set = []\n",
    "    raw = r.json()\n",
    "\n",
    "    for submission in raw:\n",
    "        data_set.append(submission)\n",
    "\n",
    "    if \"next\" in r.links.keys():\n",
    "        while \"next\" in r.links.keys():\n",
    "            r = requests.get(r.links[\"next\"][\"url\"], headers=headers)\n",
    "            raw = r.json()\n",
    "            for submission in raw:\n",
    "                data_set.append(submission)\n",
    "        if \"last\" in r.links.keys() and r.links['current']['url'] == r.links['last']['url']:\n",
    "            print('Done!')\n",
    "    else:\n",
    "        print(\"Just one page!\")\n",
    "    return data_set"
   ]
  },
  {
   "cell_type": "code",
   "execution_count": 15,
   "metadata": {},
   "outputs": [
    {
     "output_type": "stream",
     "name": "stdout",
     "text": [
      "2.0\n"
     ]
    }
   ],
   "source": [
    "\n",
    "def get_answer(df):\n",
    "    for i in df[\"event_data\"]:\n",
    "        if isinstance(i, list) and isinstance(i[0], str)==False:\n",
    "            if \"22635\" in i[0].values():\n",
    "                print(i[0][\"answer\"])\n",
    "get_answer(events_df_56623)"
   ]
  },
  {
   "cell_type": "code",
   "execution_count": 17,
   "metadata": {},
   "outputs": [
    {
     "output_type": "execute_result",
     "data": {
      "text/plain": [
       "<Response [200]>"
      ]
     },
     "metadata": {},
     "execution_count": 17
    }
   ],
   "source": [
    "course_id = 495\n",
    "quiz_id = 6780\n",
    "submission_id = 56623\n",
    "r = requests.get(f\"https://lambdaschool.instructure.com/api/v1/courses/{course_id}/quizzes/{quiz_id}/submissions/{submission_id}/events\", headers=headers)\n",
    "r"
   ]
  },
  {
   "cell_type": "code",
   "execution_count": null,
   "metadata": {},
   "outputs": [],
   "source": []
  }
 ]
}