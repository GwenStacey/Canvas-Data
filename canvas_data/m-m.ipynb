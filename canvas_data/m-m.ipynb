{
 "metadata": {
  "language_info": {
   "codemirror_mode": {
    "name": "ipython",
    "version": 3
   },
   "file_extension": ".py",
   "mimetype": "text/x-python",
   "name": "python",
   "nbconvert_exporter": "python",
   "pygments_lexer": "ipython3",
   "version": "3.8.5-final"
  },
  "orig_nbformat": 2,
  "kernelspec": {
   "name": "canvas-data",
   "display_name": "canvas-data",
   "language": "python"
  }
 },
 "nbformat": 4,
 "nbformat_minor": 2,
 "cells": [
  {
   "cell_type": "code",
   "execution_count": 1,
   "metadata": {},
   "outputs": [
    {
     "output_type": "execute_result",
     "data": {
      "text/plain": [
       "True"
      ]
     },
     "metadata": {},
     "execution_count": 1
    }
   ],
   "source": [
    "import os\n",
    "import json\n",
    "import requests\n",
    "from dotenv import load_dotenv\n",
    "import plotly_express as px\n",
    "load_dotenv()"
   ]
  },
  {
   "cell_type": "code",
   "execution_count": 2,
   "metadata": {},
   "outputs": [],
   "source": [
    "import pandas as pd\n",
    "\n",
    "pd.set_option(\"display.max_columns\", None)\n",
    "pd.set_option(\"display.max_colwidth\", None)"
   ]
  },
  {
   "cell_type": "code",
   "execution_count": 3,
   "metadata": {},
   "outputs": [],
   "source": [
    "api_key = os.getenv(\"API-KEY\")\n",
    "headers = {\"Authorization\":\n",
    "           f\"Bearer {api_key}\"}"
   ]
  },
  {
   "cell_type": "code",
   "execution_count": 4,
   "metadata": {},
   "outputs": [],
   "source": [
    "def get_quizzes(course_id, headers):\n",
    "    \"\"\"This function returns a list of JSONs\n",
    "    that include all of the quizzes for a given course\n",
    "    The main purpose for this function is to find the\n",
    "    peer mentorship review quizzes we give the students\n",
    "    but this would return useful data about any quizzes\n",
    "    we were interested in.\n",
    "    USAGE:\n",
    "    This function requires that you have an API predefined.\n",
    "    Most users won't notice this in the front end as we'll\n",
    "    build the key into the program. If you're servicing in the\n",
    "    future headers should look like:\n",
    "    headers = {\"Authorization\":f\"Bearer {api_key}\"}\n",
    "    jsons = get_quizes(400, headers)\n",
    "    \"\"\"\n",
    "    r = requests.get(f\"https://lambdaschool.instructure.com/api/v1/courses/{course_id}/quizzes\", headers=headers)\n",
    "    raw = r.json()\n",
    "    for i in raw:\n",
    "        i[\"course_id\"] = course_id\n",
    "    return raw"
   ]
  },
  {
   "cell_type": "code",
   "execution_count": 5,
   "metadata": {},
   "outputs": [],
   "source": [
    "def get_submissions(course_id, quiz_id, headers):\n",
    "    \"\"\"Creates a small list of jsons\n",
    "    that can be made into a file very easily\n",
    "    then converted to a dataframe for exploration\n",
    "    This particular design is just for grabbing pagniated\n",
    "    information from the api and returning it in a useful\n",
    "    way.\n",
    "    Usage:\n",
    "    This function requires that you have an API predefined.\n",
    "    Most users won't notice this in the front end as we'll\n",
    "    build the key into the program. If you're servicing in the\n",
    "    future headers should look like:\n",
    "    headers = {\"Authorization\":f\"Bearer {api_key}\"}\n",
    "    Example ids used, not real\n",
    "    jsons = get_submissions(400, 1000)\n",
    "    with open(\"some_json_title.json\", \"w\") as outfile:\n",
    "        json.dump(data_set, outfile)\n",
    "    \"\"\"\n",
    "    r = requests.get(f\"https://lambdaschool.instructure.com/api/v1/courses/{course_id}/quizzes/{quiz_id}/submissions\", headers=headers)\n",
    "    data_set = []\n",
    "    raw = r.json()\n",
    "\n",
    "    for submission in raw[\"quiz_submissions\"]:\n",
    "        submission[\"course_id\"] = course_id\n",
    "        submission[\"quiz_id\"] = quiz_id\n",
    "        data_set.append(submission)\n",
    "\n",
    "    if \"next\" in r.links.keys():\n",
    "        while \"next\" in r.links.keys():\n",
    "            r = requests.get(r.links[\"next\"][\"url\"], headers=headers)\n",
    "            raw = r.json()\n",
    "            for submission in raw[\"quiz_submissions\"]:\n",
    "                submission[\"course_id\"] = course_id\n",
    "                submission[\"quiz_id\"] = quiz_id\n",
    "                data_set.append(submission)\n",
    "        if \"last\" in r.links.keys() and r.links['current']['url'] == r.links['last']['url']:\n",
    "            print('Done!')\n",
    "    else:\n",
    "        print(\"Just one page!\")\n",
    "    return data_set"
   ]
  },
  {
   "cell_type": "code",
   "execution_count": 6,
   "metadata": {},
   "outputs": [
    {
     "output_type": "execute_result",
     "data": {
      "text/plain": [
       "<Response [200]>"
      ]
     },
     "metadata": {},
     "execution_count": 6
    }
   ],
   "source": [
    "r = requests.get(\"https://lambdaschool.instructure.com/api/v1/accounts/1/courses?search_by=course&search_term=LLP&per_page=100\", headers=headers)\n",
    "r"
   ]
  },
  {
   "cell_type": "code",
   "execution_count": 7,
   "metadata": {},
   "outputs": [],
   "source": [
    "raw = r.json()\n",
    "\n",
    "with open(\"LLP-Courses.json\", \"w\") as outfile:\n",
    "    json.dump(raw, outfile)"
   ]
  },
  {
   "cell_type": "code",
   "execution_count": 9,
   "metadata": {},
   "outputs": [
    {
     "output_type": "execute_result",
     "data": {
      "text/plain": [
       "<Response [200]>"
      ]
     },
     "metadata": {},
     "execution_count": 9
    }
   ],
   "source": [
    "r = requests.get(\"https://lambdaschool.instructure.com/api/v1/accounts/1/users\", headers=headers)\n",
    "r"
   ]
  },
  {
   "cell_type": "code",
   "execution_count": null,
   "metadata": {},
   "outputs": [],
   "source": [
    "llp_courses_df = pd.read_json(\"LLP-Courses.json\")\n",
    "llp_courses_df.head()"
   ]
  },
  {
   "cell_type": "code",
   "execution_count": null,
   "metadata": {},
   "outputs": [],
   "source": [
    "llp_no_temp = llp_courses_df[llp_courses_df[\"course_code\"].str.contains(\"Template\")==False]\n",
    "llp_no_temp.head()"
   ]
  },
  {
   "cell_type": "code",
   "execution_count": null,
   "metadata": {},
   "outputs": [],
   "source": [
    "llp_2011_2010 = llp_no_temp[(llp_no_temp[\"course_code\"].str.contains(pat = \"201\\d\", regex = True))]\n",
    "llp_2011_2010.head()"
   ]
  },
  {
   "cell_type": "code",
   "execution_count": null,
   "metadata": {},
   "outputs": [],
   "source": [
    "quizzes_data = []\n",
    "for i in llp_2011_2010[\"id\"]:\n",
    "    for t in get_quizzes(i, headers):\n",
    "        quizzes_data.append(t)"
   ]
  },
  {
   "cell_type": "code",
   "execution_count": null,
   "metadata": {},
   "outputs": [],
   "source": [
    "with open(\"quizzes_llp_201X.json\", \"w\") as outfile:\n",
    "    json.dump(quizzes_data, outfile)"
   ]
  },
  {
   "cell_type": "code",
   "execution_count": null,
   "metadata": {},
   "outputs": [],
   "source": [
    "quizzes_df = pd.read_json(\"quizzes_llp_201X.json\")\n",
    "quizzes_df[[\"id\",\"title\", \"course_id\"]].head()"
   ]
  },
  {
   "cell_type": "code",
   "execution_count": null,
   "metadata": {},
   "outputs": [],
   "source": [
    "r = requests.get(f\"https://lambdaschool.instructure.com/api/v1/courses/495/quizzes/6780/submissions\", headers=headers)\n",
    "data_set = []\n",
    "raw = r.json()"
   ]
  },
  {
   "cell_type": "code",
   "execution_count": null,
   "metadata": {},
   "outputs": [],
   "source": [
    "for i in raw[\"quiz_submissions\"]:\r\n",
    "    i[\"course_id\"] = 495 "
   ]
  },
  {
   "cell_type": "code",
   "execution_count": null,
   "metadata": {},
   "outputs": [],
   "source": [
    "for i in quizzes_df[[\"id\", \"course_id\"]].itertuples():\n",
    "    submissions = get_submissions(i.course_id, i.id)\n",
    "    with open(f\"submissions_{i.id}.json\", \"w\") as outfile:\n",
    "        json.dump(submissions, outfile)"
   ]
  },
  {
   "cell_type": "code",
   "execution_count": null,
   "metadata": {},
   "outputs": [],
   "source": [
    "subs_6585_df = pd.read_json(\"submissions_6585.json\")\n",
    "subs_6585_df.head()"
   ]
  },
  {
   "cell_type": "code",
   "execution_count": null,
   "metadata": {},
   "outputs": [],
   "source": [
    "course_id = subs_6585_df[\"course_id\"][1]\n",
    "quiz_id = subs_6585_df[\"quiz_id\"][1]\n",
    "started_at = subs_6585_df[\"started_at\"][0]\n",
    "sub_id = subs_6585_df[\"id\"][1]\n",
    "r = requests.get(f\"https://lambdaschool.instructure.com/api/v1/courses/{course_id}/quizzes/{quiz_id}/submissions/{sub_id}/events\", headers=headers) "
   ]
  },
  {
   "cell_type": "code",
   "execution_count": null,
   "metadata": {
    "tags": []
   },
   "outputs": [],
   "source": [
    "raw2 = r.json()\n",
    "\n",
    "for i in raw2[\"quiz_submission_events\"]:\n",
    "    if \"event_data\" in i.keys():\n",
    "        if i[\"event_type\"] == \"question_answered\":\n",
    "            for t in i[\"event_data\"]:\n",
    "                if t[\"answer\"] != None and 0 < t[\"answer\"] < 4:\n",
    "                    print(t[\"answer\"]) "
   ]
  },
  {
   "cell_type": "code",
   "execution_count": 8,
   "metadata": {
    "tags": []
   },
   "outputs": [],
   "source": [
    "import glob\n",
    "subs_df = pd.DataFrame()\n",
    "path_to_json = \"\"\n",
    "json_pattern = os.path.join(path_to_json, \"submissions_*.json\")\n",
    "files_list = glob.glob(json_pattern)\n",
    "\n",
    "for f in files_list:\n",
    "    data = pd.read_json(f)\n",
    "    subs_df = subs_df.append(data)"
   ]
  },
  {
   "cell_type": "code",
   "execution_count": 9,
   "metadata": {},
   "outputs": [
    {
     "output_type": "execute_result",
     "data": {
      "text/plain": [
       "        id  quiz_id  quiz_version  user_id  submission_id  score  kept_score  \\\n",
       "0    57233     6585           103      633         309005    1.0         1.0   \n",
       "1    57294     6585           103      544         318896    1.0         1.0   \n",
       "2    57299     6585           103      579         312007    1.0         1.0   \n",
       "3    57302     6585           103     1011         314947    1.0         1.0   \n",
       "4    57366     6585           103      631         322392    1.0         1.0   \n",
       "..     ...      ...           ...      ...            ...    ...         ...   \n",
       "9   108106     8789           225     2813         551054    1.0         1.0   \n",
       "10  108234     8789           226     2178         551046    1.0         1.0   \n",
       "11  108244     8789           226     2808         556003    1.0         1.0   \n",
       "12  109378     8789           248     1962         551043    1.0         1.0   \n",
       "13  113456     8789           321     1932         550383    1.0         1.0   \n",
       "\n",
       "                  started_at                     end_at  \\\n",
       "0  2020-10-26 22:47:46+00:00  2020-11-21 07:59:59+00:00   \n",
       "1  2020-10-26 23:08:10+00:00  2020-11-21 07:59:59+00:00   \n",
       "2  2020-10-26 23:10:50+00:00  2020-11-21 07:59:59+00:00   \n",
       "3  2020-10-26 23:11:21+00:00  2020-11-21 07:59:59+00:00   \n",
       "4  2020-10-26 23:31:11+00:00  2020-11-21 07:59:59+00:00   \n",
       "..                       ...                        ...   \n",
       "9  2020-12-10 00:07:18+00:00  2021-02-08 08:00:00+00:00   \n",
       "10 2020-12-10 00:53:17+00:00  2021-02-08 08:00:00+00:00   \n",
       "11 2020-12-10 00:55:50+00:00  2021-02-08 08:00:00+00:00   \n",
       "12 2020-12-10 22:56:33+00:00  2021-02-08 08:00:00+00:00   \n",
       "13 2020-12-14 01:47:55+00:00  2021-02-08 08:00:00+00:00   \n",
       "\n",
       "                  finished_at  attempt workflow_state  fudge_points  \\\n",
       "0   2020-10-27 22:50:48+00:00        1       complete           NaN   \n",
       "1   2020-11-06 02:01:55+00:00        1       complete           NaN   \n",
       "2   2020-11-21 07:59:59+00:00        1       complete           NaN   \n",
       "3   2020-11-19 20:40:47+00:00        1       complete           NaN   \n",
       "4   2020-10-27 22:32:06+00:00        1       complete           NaN   \n",
       "..                        ...      ...            ...           ...   \n",
       "9   2020-12-10 00:07:28+00:00        1       complete           NaN   \n",
       "10  2020-12-10 00:54:17+00:00        1       complete           NaN   \n",
       "11  2020-12-10 00:56:18+00:00        1       complete           NaN   \n",
       "12  2020-12-10 22:56:47+00:00        1       complete           NaN   \n",
       "13  2020-12-14 01:49:12+00:00        1       complete           NaN   \n",
       "\n",
       "    quiz_points_possible  extra_attempts extra_time  manually_unlocked  \\\n",
       "0                      1             NaN        NaT                NaN   \n",
       "1                      1             NaN        NaT                NaN   \n",
       "2                      1             NaN        NaT                NaN   \n",
       "3                      1             NaN        NaT                NaN   \n",
       "4                      1             NaN        NaT                NaN   \n",
       "..                   ...             ...        ...                ...   \n",
       "9                      1             NaN        NaT                NaN   \n",
       "10                     1             NaN        NaT                NaN   \n",
       "11                     1             NaN        NaT                NaN   \n",
       "12                     1             NaN        NaT                NaN   \n",
       "13                     1             NaN        NaT                NaN   \n",
       "\n",
       "                                                    validation_token  \\\n",
       "0   5e9f574072efc917ebfd543dadced88ad27cb1d1006bf73d8a1b26526534a1d3   \n",
       "1   4ea64d0996617807a3c655f8e95ae42a6319de0d8cb689915672fa930082ba58   \n",
       "2   4f3a8e2ae3ffc807258bb85db4c2118255e51015d10a16734c5a3f7783c7d94c   \n",
       "3   48a83c07c6e2eeb9cbed95f48c820a5742591a781eb90c902c43b2346ec4739b   \n",
       "4   17b98f2724d7708d8770f905b461972dd5675336ac89b578fa92240ebe22726f   \n",
       "..                                                               ...   \n",
       "9   aeda659036adfc8804b1cde647e36ec093e8af37229d677f45ee90d62794f0b4   \n",
       "10  0d6931b852c4183ba22ec836e538eafe74a9862dbf3854d6900a2fd6784e9aef   \n",
       "11  e8a641b794f585881da2c728a3b541c5f59eba7dad9ec4c8b09d0ed77e183f7f   \n",
       "12  1bd9ab31464ac5840a474b2ba6b6c8f477710b2f71dad960aca080e933e9c03c   \n",
       "13  f1d2e8dc793ded74c72ce96cb5e9dda7f8406b7f4dcc2d869d97e70880fc4144   \n",
       "\n",
       "    score_before_regrade  has_seen_results  time_spent  attempts_left  \\\n",
       "0                    NaN               0.0     86582.0              0   \n",
       "1                    NaN               0.0    874425.0              0   \n",
       "2                    NaN               NaN   2191748.0              0   \n",
       "3                    NaN               0.0   2064566.0              0   \n",
       "4                    NaN               0.0     82855.0              0   \n",
       "..                   ...               ...         ...            ...   \n",
       "9                    NaN               0.0        10.0              0   \n",
       "10                   NaN               0.0        60.0              0   \n",
       "11                   NaN               0.0        28.0              0   \n",
       "12                   NaN               0.0        13.0              0   \n",
       "13                   NaN               0.0        77.0              0   \n",
       "\n",
       "    overdue_and_needs_submission  excused?  \\\n",
       "0                            0.0     False   \n",
       "1                            0.0     False   \n",
       "2                            0.0     False   \n",
       "3                            0.0     False   \n",
       "4                            0.0     False   \n",
       "..                           ...       ...   \n",
       "9                            0.0     False   \n",
       "10                           0.0     False   \n",
       "11                           0.0     False   \n",
       "12                           0.0     False   \n",
       "13                           0.0     False   \n",
       "\n",
       "                                                                            html_url  \\\n",
       "0    https://lambdaschool.instructure.com/courses/495/quizzes/6585/submissions/57233   \n",
       "1    https://lambdaschool.instructure.com/courses/495/quizzes/6585/submissions/57294   \n",
       "2    https://lambdaschool.instructure.com/courses/495/quizzes/6585/submissions/57299   \n",
       "3    https://lambdaschool.instructure.com/courses/495/quizzes/6585/submissions/57302   \n",
       "4    https://lambdaschool.instructure.com/courses/495/quizzes/6585/submissions/57366   \n",
       "..                                                                               ...   \n",
       "9   https://lambdaschool.instructure.com/courses/644/quizzes/8789/submissions/108106   \n",
       "10  https://lambdaschool.instructure.com/courses/644/quizzes/8789/submissions/108234   \n",
       "11  https://lambdaschool.instructure.com/courses/644/quizzes/8789/submissions/108244   \n",
       "12  https://lambdaschool.instructure.com/courses/644/quizzes/8789/submissions/109378   \n",
       "13  https://lambdaschool.instructure.com/courses/644/quizzes/8789/submissions/113456   \n",
       "\n",
       "                                                                                                   result_url  \\\n",
       "0    https://lambdaschool.instructure.com/courses/495/quizzes/6585/history?quiz_submission_id=57233&version=1   \n",
       "1    https://lambdaschool.instructure.com/courses/495/quizzes/6585/history?quiz_submission_id=57294&version=1   \n",
       "2    https://lambdaschool.instructure.com/courses/495/quizzes/6585/history?quiz_submission_id=57299&version=1   \n",
       "3    https://lambdaschool.instructure.com/courses/495/quizzes/6585/history?quiz_submission_id=57302&version=1   \n",
       "4    https://lambdaschool.instructure.com/courses/495/quizzes/6585/history?quiz_submission_id=57366&version=1   \n",
       "..                                                                                                        ...   \n",
       "9   https://lambdaschool.instructure.com/courses/644/quizzes/8789/history?quiz_submission_id=108106&version=1   \n",
       "10  https://lambdaschool.instructure.com/courses/644/quizzes/8789/history?quiz_submission_id=108234&version=1   \n",
       "11  https://lambdaschool.instructure.com/courses/644/quizzes/8789/history?quiz_submission_id=108244&version=1   \n",
       "12  https://lambdaschool.instructure.com/courses/644/quizzes/8789/history?quiz_submission_id=109378&version=1   \n",
       "13  https://lambdaschool.instructure.com/courses/644/quizzes/8789/history?quiz_submission_id=113456&version=1   \n",
       "\n",
       "    course_id  \n",
       "0         495  \n",
       "1         495  \n",
       "2         495  \n",
       "3         495  \n",
       "4         495  \n",
       "..        ...  \n",
       "9         644  \n",
       "10        644  \n",
       "11        644  \n",
       "12        644  \n",
       "13        644  \n",
       "\n",
       "[5934 rows x 27 columns]"
      ],
      "text/html": "<div>\n<style scoped>\n    .dataframe tbody tr th:only-of-type {\n        vertical-align: middle;\n    }\n\n    .dataframe tbody tr th {\n        vertical-align: top;\n    }\n\n    .dataframe thead th {\n        text-align: right;\n    }\n</style>\n<table border=\"1\" class=\"dataframe\">\n  <thead>\n    <tr style=\"text-align: right;\">\n      <th></th>\n      <th>id</th>\n      <th>quiz_id</th>\n      <th>quiz_version</th>\n      <th>user_id</th>\n      <th>submission_id</th>\n      <th>score</th>\n      <th>kept_score</th>\n      <th>started_at</th>\n      <th>end_at</th>\n      <th>finished_at</th>\n      <th>attempt</th>\n      <th>workflow_state</th>\n      <th>fudge_points</th>\n      <th>quiz_points_possible</th>\n      <th>extra_attempts</th>\n      <th>extra_time</th>\n      <th>manually_unlocked</th>\n      <th>validation_token</th>\n      <th>score_before_regrade</th>\n      <th>has_seen_results</th>\n      <th>time_spent</th>\n      <th>attempts_left</th>\n      <th>overdue_and_needs_submission</th>\n      <th>excused?</th>\n      <th>html_url</th>\n      <th>result_url</th>\n      <th>course_id</th>\n    </tr>\n  </thead>\n  <tbody>\n    <tr>\n      <th>0</th>\n      <td>57233</td>\n      <td>6585</td>\n      <td>103</td>\n      <td>633</td>\n      <td>309005</td>\n      <td>1.0</td>\n      <td>1.0</td>\n      <td>2020-10-26 22:47:46+00:00</td>\n      <td>2020-11-21 07:59:59+00:00</td>\n      <td>2020-10-27 22:50:48+00:00</td>\n      <td>1</td>\n      <td>complete</td>\n      <td>NaN</td>\n      <td>1</td>\n      <td>NaN</td>\n      <td>NaT</td>\n      <td>NaN</td>\n      <td>5e9f574072efc917ebfd543dadced88ad27cb1d1006bf73d8a1b26526534a1d3</td>\n      <td>NaN</td>\n      <td>0.0</td>\n      <td>86582.0</td>\n      <td>0</td>\n      <td>0.0</td>\n      <td>False</td>\n      <td>https://lambdaschool.instructure.com/courses/495/quizzes/6585/submissions/57233</td>\n      <td>https://lambdaschool.instructure.com/courses/495/quizzes/6585/history?quiz_submission_id=57233&amp;version=1</td>\n      <td>495</td>\n    </tr>\n    <tr>\n      <th>1</th>\n      <td>57294</td>\n      <td>6585</td>\n      <td>103</td>\n      <td>544</td>\n      <td>318896</td>\n      <td>1.0</td>\n      <td>1.0</td>\n      <td>2020-10-26 23:08:10+00:00</td>\n      <td>2020-11-21 07:59:59+00:00</td>\n      <td>2020-11-06 02:01:55+00:00</td>\n      <td>1</td>\n      <td>complete</td>\n      <td>NaN</td>\n      <td>1</td>\n      <td>NaN</td>\n      <td>NaT</td>\n      <td>NaN</td>\n      <td>4ea64d0996617807a3c655f8e95ae42a6319de0d8cb689915672fa930082ba58</td>\n      <td>NaN</td>\n      <td>0.0</td>\n      <td>874425.0</td>\n      <td>0</td>\n      <td>0.0</td>\n      <td>False</td>\n      <td>https://lambdaschool.instructure.com/courses/495/quizzes/6585/submissions/57294</td>\n      <td>https://lambdaschool.instructure.com/courses/495/quizzes/6585/history?quiz_submission_id=57294&amp;version=1</td>\n      <td>495</td>\n    </tr>\n    <tr>\n      <th>2</th>\n      <td>57299</td>\n      <td>6585</td>\n      <td>103</td>\n      <td>579</td>\n      <td>312007</td>\n      <td>1.0</td>\n      <td>1.0</td>\n      <td>2020-10-26 23:10:50+00:00</td>\n      <td>2020-11-21 07:59:59+00:00</td>\n      <td>2020-11-21 07:59:59+00:00</td>\n      <td>1</td>\n      <td>complete</td>\n      <td>NaN</td>\n      <td>1</td>\n      <td>NaN</td>\n      <td>NaT</td>\n      <td>NaN</td>\n      <td>4f3a8e2ae3ffc807258bb85db4c2118255e51015d10a16734c5a3f7783c7d94c</td>\n      <td>NaN</td>\n      <td>NaN</td>\n      <td>2191748.0</td>\n      <td>0</td>\n      <td>0.0</td>\n      <td>False</td>\n      <td>https://lambdaschool.instructure.com/courses/495/quizzes/6585/submissions/57299</td>\n      <td>https://lambdaschool.instructure.com/courses/495/quizzes/6585/history?quiz_submission_id=57299&amp;version=1</td>\n      <td>495</td>\n    </tr>\n    <tr>\n      <th>3</th>\n      <td>57302</td>\n      <td>6585</td>\n      <td>103</td>\n      <td>1011</td>\n      <td>314947</td>\n      <td>1.0</td>\n      <td>1.0</td>\n      <td>2020-10-26 23:11:21+00:00</td>\n      <td>2020-11-21 07:59:59+00:00</td>\n      <td>2020-11-19 20:40:47+00:00</td>\n      <td>1</td>\n      <td>complete</td>\n      <td>NaN</td>\n      <td>1</td>\n      <td>NaN</td>\n      <td>NaT</td>\n      <td>NaN</td>\n      <td>48a83c07c6e2eeb9cbed95f48c820a5742591a781eb90c902c43b2346ec4739b</td>\n      <td>NaN</td>\n      <td>0.0</td>\n      <td>2064566.0</td>\n      <td>0</td>\n      <td>0.0</td>\n      <td>False</td>\n      <td>https://lambdaschool.instructure.com/courses/495/quizzes/6585/submissions/57302</td>\n      <td>https://lambdaschool.instructure.com/courses/495/quizzes/6585/history?quiz_submission_id=57302&amp;version=1</td>\n      <td>495</td>\n    </tr>\n    <tr>\n      <th>4</th>\n      <td>57366</td>\n      <td>6585</td>\n      <td>103</td>\n      <td>631</td>\n      <td>322392</td>\n      <td>1.0</td>\n      <td>1.0</td>\n      <td>2020-10-26 23:31:11+00:00</td>\n      <td>2020-11-21 07:59:59+00:00</td>\n      <td>2020-10-27 22:32:06+00:00</td>\n      <td>1</td>\n      <td>complete</td>\n      <td>NaN</td>\n      <td>1</td>\n      <td>NaN</td>\n      <td>NaT</td>\n      <td>NaN</td>\n      <td>17b98f2724d7708d8770f905b461972dd5675336ac89b578fa92240ebe22726f</td>\n      <td>NaN</td>\n      <td>0.0</td>\n      <td>82855.0</td>\n      <td>0</td>\n      <td>0.0</td>\n      <td>False</td>\n      <td>https://lambdaschool.instructure.com/courses/495/quizzes/6585/submissions/57366</td>\n      <td>https://lambdaschool.instructure.com/courses/495/quizzes/6585/history?quiz_submission_id=57366&amp;version=1</td>\n      <td>495</td>\n    </tr>\n    <tr>\n      <th>...</th>\n      <td>...</td>\n      <td>...</td>\n      <td>...</td>\n      <td>...</td>\n      <td>...</td>\n      <td>...</td>\n      <td>...</td>\n      <td>...</td>\n      <td>...</td>\n      <td>...</td>\n      <td>...</td>\n      <td>...</td>\n      <td>...</td>\n      <td>...</td>\n      <td>...</td>\n      <td>...</td>\n      <td>...</td>\n      <td>...</td>\n      <td>...</td>\n      <td>...</td>\n      <td>...</td>\n      <td>...</td>\n      <td>...</td>\n      <td>...</td>\n      <td>...</td>\n      <td>...</td>\n      <td>...</td>\n    </tr>\n    <tr>\n      <th>9</th>\n      <td>108106</td>\n      <td>8789</td>\n      <td>225</td>\n      <td>2813</td>\n      <td>551054</td>\n      <td>1.0</td>\n      <td>1.0</td>\n      <td>2020-12-10 00:07:18+00:00</td>\n      <td>2021-02-08 08:00:00+00:00</td>\n      <td>2020-12-10 00:07:28+00:00</td>\n      <td>1</td>\n      <td>complete</td>\n      <td>NaN</td>\n      <td>1</td>\n      <td>NaN</td>\n      <td>NaT</td>\n      <td>NaN</td>\n      <td>aeda659036adfc8804b1cde647e36ec093e8af37229d677f45ee90d62794f0b4</td>\n      <td>NaN</td>\n      <td>0.0</td>\n      <td>10.0</td>\n      <td>0</td>\n      <td>0.0</td>\n      <td>False</td>\n      <td>https://lambdaschool.instructure.com/courses/644/quizzes/8789/submissions/108106</td>\n      <td>https://lambdaschool.instructure.com/courses/644/quizzes/8789/history?quiz_submission_id=108106&amp;version=1</td>\n      <td>644</td>\n    </tr>\n    <tr>\n      <th>10</th>\n      <td>108234</td>\n      <td>8789</td>\n      <td>226</td>\n      <td>2178</td>\n      <td>551046</td>\n      <td>1.0</td>\n      <td>1.0</td>\n      <td>2020-12-10 00:53:17+00:00</td>\n      <td>2021-02-08 08:00:00+00:00</td>\n      <td>2020-12-10 00:54:17+00:00</td>\n      <td>1</td>\n      <td>complete</td>\n      <td>NaN</td>\n      <td>1</td>\n      <td>NaN</td>\n      <td>NaT</td>\n      <td>NaN</td>\n      <td>0d6931b852c4183ba22ec836e538eafe74a9862dbf3854d6900a2fd6784e9aef</td>\n      <td>NaN</td>\n      <td>0.0</td>\n      <td>60.0</td>\n      <td>0</td>\n      <td>0.0</td>\n      <td>False</td>\n      <td>https://lambdaschool.instructure.com/courses/644/quizzes/8789/submissions/108234</td>\n      <td>https://lambdaschool.instructure.com/courses/644/quizzes/8789/history?quiz_submission_id=108234&amp;version=1</td>\n      <td>644</td>\n    </tr>\n    <tr>\n      <th>11</th>\n      <td>108244</td>\n      <td>8789</td>\n      <td>226</td>\n      <td>2808</td>\n      <td>556003</td>\n      <td>1.0</td>\n      <td>1.0</td>\n      <td>2020-12-10 00:55:50+00:00</td>\n      <td>2021-02-08 08:00:00+00:00</td>\n      <td>2020-12-10 00:56:18+00:00</td>\n      <td>1</td>\n      <td>complete</td>\n      <td>NaN</td>\n      <td>1</td>\n      <td>NaN</td>\n      <td>NaT</td>\n      <td>NaN</td>\n      <td>e8a641b794f585881da2c728a3b541c5f59eba7dad9ec4c8b09d0ed77e183f7f</td>\n      <td>NaN</td>\n      <td>0.0</td>\n      <td>28.0</td>\n      <td>0</td>\n      <td>0.0</td>\n      <td>False</td>\n      <td>https://lambdaschool.instructure.com/courses/644/quizzes/8789/submissions/108244</td>\n      <td>https://lambdaschool.instructure.com/courses/644/quizzes/8789/history?quiz_submission_id=108244&amp;version=1</td>\n      <td>644</td>\n    </tr>\n    <tr>\n      <th>12</th>\n      <td>109378</td>\n      <td>8789</td>\n      <td>248</td>\n      <td>1962</td>\n      <td>551043</td>\n      <td>1.0</td>\n      <td>1.0</td>\n      <td>2020-12-10 22:56:33+00:00</td>\n      <td>2021-02-08 08:00:00+00:00</td>\n      <td>2020-12-10 22:56:47+00:00</td>\n      <td>1</td>\n      <td>complete</td>\n      <td>NaN</td>\n      <td>1</td>\n      <td>NaN</td>\n      <td>NaT</td>\n      <td>NaN</td>\n      <td>1bd9ab31464ac5840a474b2ba6b6c8f477710b2f71dad960aca080e933e9c03c</td>\n      <td>NaN</td>\n      <td>0.0</td>\n      <td>13.0</td>\n      <td>0</td>\n      <td>0.0</td>\n      <td>False</td>\n      <td>https://lambdaschool.instructure.com/courses/644/quizzes/8789/submissions/109378</td>\n      <td>https://lambdaschool.instructure.com/courses/644/quizzes/8789/history?quiz_submission_id=109378&amp;version=1</td>\n      <td>644</td>\n    </tr>\n    <tr>\n      <th>13</th>\n      <td>113456</td>\n      <td>8789</td>\n      <td>321</td>\n      <td>1932</td>\n      <td>550383</td>\n      <td>1.0</td>\n      <td>1.0</td>\n      <td>2020-12-14 01:47:55+00:00</td>\n      <td>2021-02-08 08:00:00+00:00</td>\n      <td>2020-12-14 01:49:12+00:00</td>\n      <td>1</td>\n      <td>complete</td>\n      <td>NaN</td>\n      <td>1</td>\n      <td>NaN</td>\n      <td>NaT</td>\n      <td>NaN</td>\n      <td>f1d2e8dc793ded74c72ce96cb5e9dda7f8406b7f4dcc2d869d97e70880fc4144</td>\n      <td>NaN</td>\n      <td>0.0</td>\n      <td>77.0</td>\n      <td>0</td>\n      <td>0.0</td>\n      <td>False</td>\n      <td>https://lambdaschool.instructure.com/courses/644/quizzes/8789/submissions/113456</td>\n      <td>https://lambdaschool.instructure.com/courses/644/quizzes/8789/history?quiz_submission_id=113456&amp;version=1</td>\n      <td>644</td>\n    </tr>\n  </tbody>\n</table>\n<p>5934 rows × 27 columns</p>\n</div>"
     },
     "metadata": {},
     "execution_count": 9
    }
   ],
   "source": [
    "subs_df"
   ]
  },
  {
   "cell_type": "code",
   "execution_count": 10,
   "metadata": {},
   "outputs": [
    {
     "output_type": "execute_result",
     "data": {
      "text/plain": [
       "        id  quiz_id  quiz_version  user_id  submission_id  score  kept_score  \\\n",
       "0    57233     6585           103      633         309005    1.0         1.0   \n",
       "1    57294     6585           103      544         318896    1.0         1.0   \n",
       "2    57299     6585           103      579         312007    1.0         1.0   \n",
       "3    57302     6585           103     1011         314947    1.0         1.0   \n",
       "4    57366     6585           103      631         322392    1.0         1.0   \n",
       "..     ...      ...           ...      ...            ...    ...         ...   \n",
       "174  87979     6876           627      251         314716    1.0         1.0   \n",
       "175  90406     6876           671      577         323656    1.0         1.0   \n",
       "176  90487     6876           672     2468         307302    1.0         1.0   \n",
       "177  90884     6876           675     1011         316164    1.0         1.0   \n",
       "178  92125     6876           695     2452         322174    1.0         1.0   \n",
       "\n",
       "                   started_at                     end_at  \\\n",
       "0   2020-10-26 22:47:46+00:00  2020-11-21 07:59:59+00:00   \n",
       "1   2020-10-26 23:08:10+00:00  2020-11-21 07:59:59+00:00   \n",
       "2   2020-10-26 23:10:50+00:00  2020-11-21 07:59:59+00:00   \n",
       "3   2020-10-26 23:11:21+00:00  2020-11-21 07:59:59+00:00   \n",
       "4   2020-10-26 23:31:11+00:00  2020-11-21 07:59:59+00:00   \n",
       "..                        ...                        ...   \n",
       "174 2020-11-17 19:47:02+00:00  2020-11-21 07:59:59+00:00   \n",
       "175 2020-11-19 16:25:54+00:00  2020-11-21 07:59:59+00:00   \n",
       "176 2020-11-19 16:51:53+00:00  2020-11-21 07:59:59+00:00   \n",
       "177 2020-11-19 20:42:35+00:00  2020-11-21 07:59:59+00:00   \n",
       "178 2020-11-20 15:51:43+00:00  2020-11-21 07:59:59+00:00   \n",
       "\n",
       "                   finished_at  attempt workflow_state  fudge_points  \\\n",
       "0    2020-10-27 22:50:48+00:00        1       complete           NaN   \n",
       "1    2020-11-06 02:01:55+00:00        1       complete           NaN   \n",
       "2    2020-11-21 07:59:59+00:00        1       complete           NaN   \n",
       "3    2020-11-19 20:40:47+00:00        1       complete           NaN   \n",
       "4    2020-10-27 22:32:06+00:00        1       complete           NaN   \n",
       "..                         ...      ...            ...           ...   \n",
       "174  2020-11-21 07:59:59+00:00        1       complete           NaN   \n",
       "175  2020-11-19 16:27:49+00:00        1       complete           NaN   \n",
       "176  2020-11-19 16:52:20+00:00        1       complete           NaN   \n",
       "177  2020-11-19 20:43:50+00:00        1       complete           NaN   \n",
       "178  2020-11-20 15:52:48+00:00        1       complete           NaN   \n",
       "\n",
       "     quiz_points_possible  extra_attempts extra_time  manually_unlocked  \\\n",
       "0                       1             NaN        NaT                NaN   \n",
       "1                       1             NaN        NaT                NaN   \n",
       "2                       1             NaN        NaT                NaN   \n",
       "3                       1             NaN        NaT                NaN   \n",
       "4                       1             NaN        NaT                NaN   \n",
       "..                    ...             ...        ...                ...   \n",
       "174                     1             NaN        NaT                NaN   \n",
       "175                     1             NaN        NaT                NaN   \n",
       "176                     1             NaN        NaT                NaN   \n",
       "177                     1             NaN        NaT                NaN   \n",
       "178                     1             NaN        NaT                NaN   \n",
       "\n",
       "                                                     validation_token  \\\n",
       "0    5e9f574072efc917ebfd543dadced88ad27cb1d1006bf73d8a1b26526534a1d3   \n",
       "1    4ea64d0996617807a3c655f8e95ae42a6319de0d8cb689915672fa930082ba58   \n",
       "2    4f3a8e2ae3ffc807258bb85db4c2118255e51015d10a16734c5a3f7783c7d94c   \n",
       "3    48a83c07c6e2eeb9cbed95f48c820a5742591a781eb90c902c43b2346ec4739b   \n",
       "4    17b98f2724d7708d8770f905b461972dd5675336ac89b578fa92240ebe22726f   \n",
       "..                                                                ...   \n",
       "174  5a9f2364c356a540a9875f4df7f6025de4d56369d4676317296c460dbc52693b   \n",
       "175  f8a8962046a56e269bf9dada9d02028ef0d4dc5224a9fc15c38ab8075a17beb0   \n",
       "176  f34e930487b5c4636a6675fc1b1bf125da1bf6569dc265cc380b69823455898d   \n",
       "177  589554b9f6e34971a89f50e7d997567597fe53e76fd24486cdf5eb70f5a9e1e8   \n",
       "178  92fe70472708c24438658caa8f4c695b333f0f98a00b9b5c2d0006692109d047   \n",
       "\n",
       "     score_before_regrade  has_seen_results  time_spent  attempts_left  \\\n",
       "0                     NaN               0.0     86582.0              0   \n",
       "1                     NaN               0.0    874425.0              0   \n",
       "2                     NaN               NaN   2191748.0              0   \n",
       "3                     NaN               0.0   2064566.0              0   \n",
       "4                     NaN               0.0     82855.0              0   \n",
       "..                    ...               ...         ...            ...   \n",
       "174                   NaN               NaN    303176.0              0   \n",
       "175                   NaN               0.0       116.0              0   \n",
       "176                   NaN               0.0        26.0              0   \n",
       "177                   NaN               0.0        75.0              0   \n",
       "178                   NaN               0.0        65.0              0   \n",
       "\n",
       "     overdue_and_needs_submission  excused?  \\\n",
       "0                             0.0     False   \n",
       "1                             0.0     False   \n",
       "2                             0.0     False   \n",
       "3                             0.0     False   \n",
       "4                             0.0     False   \n",
       "..                            ...       ...   \n",
       "174                           0.0     False   \n",
       "175                           0.0     False   \n",
       "176                           0.0     False   \n",
       "177                           0.0     False   \n",
       "178                           0.0     False   \n",
       "\n",
       "                                                                            html_url  \\\n",
       "0    https://lambdaschool.instructure.com/courses/495/quizzes/6585/submissions/57233   \n",
       "1    https://lambdaschool.instructure.com/courses/495/quizzes/6585/submissions/57294   \n",
       "2    https://lambdaschool.instructure.com/courses/495/quizzes/6585/submissions/57299   \n",
       "3    https://lambdaschool.instructure.com/courses/495/quizzes/6585/submissions/57302   \n",
       "4    https://lambdaschool.instructure.com/courses/495/quizzes/6585/submissions/57366   \n",
       "..                                                                               ...   \n",
       "174  https://lambdaschool.instructure.com/courses/495/quizzes/6876/submissions/87979   \n",
       "175  https://lambdaschool.instructure.com/courses/495/quizzes/6876/submissions/90406   \n",
       "176  https://lambdaschool.instructure.com/courses/495/quizzes/6876/submissions/90487   \n",
       "177  https://lambdaschool.instructure.com/courses/495/quizzes/6876/submissions/90884   \n",
       "178  https://lambdaschool.instructure.com/courses/495/quizzes/6876/submissions/92125   \n",
       "\n",
       "                                                                                                   result_url  \\\n",
       "0    https://lambdaschool.instructure.com/courses/495/quizzes/6585/history?quiz_submission_id=57233&version=1   \n",
       "1    https://lambdaschool.instructure.com/courses/495/quizzes/6585/history?quiz_submission_id=57294&version=1   \n",
       "2    https://lambdaschool.instructure.com/courses/495/quizzes/6585/history?quiz_submission_id=57299&version=1   \n",
       "3    https://lambdaschool.instructure.com/courses/495/quizzes/6585/history?quiz_submission_id=57302&version=1   \n",
       "4    https://lambdaschool.instructure.com/courses/495/quizzes/6585/history?quiz_submission_id=57366&version=1   \n",
       "..                                                                                                        ...   \n",
       "174  https://lambdaschool.instructure.com/courses/495/quizzes/6876/history?quiz_submission_id=87979&version=1   \n",
       "175  https://lambdaschool.instructure.com/courses/495/quizzes/6876/history?quiz_submission_id=90406&version=1   \n",
       "176  https://lambdaschool.instructure.com/courses/495/quizzes/6876/history?quiz_submission_id=90487&version=1   \n",
       "177  https://lambdaschool.instructure.com/courses/495/quizzes/6876/history?quiz_submission_id=90884&version=1   \n",
       "178  https://lambdaschool.instructure.com/courses/495/quizzes/6876/history?quiz_submission_id=92125&version=1   \n",
       "\n",
       "     course_id  \n",
       "0          495  \n",
       "1          495  \n",
       "2          495  \n",
       "3          495  \n",
       "4          495  \n",
       "..         ...  \n",
       "174        495  \n",
       "175        495  \n",
       "176        495  \n",
       "177        495  \n",
       "178        495  \n",
       "\n",
       "[1644 rows x 27 columns]"
      ],
      "text/html": "<div>\n<style scoped>\n    .dataframe tbody tr th:only-of-type {\n        vertical-align: middle;\n    }\n\n    .dataframe tbody tr th {\n        vertical-align: top;\n    }\n\n    .dataframe thead th {\n        text-align: right;\n    }\n</style>\n<table border=\"1\" class=\"dataframe\">\n  <thead>\n    <tr style=\"text-align: right;\">\n      <th></th>\n      <th>id</th>\n      <th>quiz_id</th>\n      <th>quiz_version</th>\n      <th>user_id</th>\n      <th>submission_id</th>\n      <th>score</th>\n      <th>kept_score</th>\n      <th>started_at</th>\n      <th>end_at</th>\n      <th>finished_at</th>\n      <th>attempt</th>\n      <th>workflow_state</th>\n      <th>fudge_points</th>\n      <th>quiz_points_possible</th>\n      <th>extra_attempts</th>\n      <th>extra_time</th>\n      <th>manually_unlocked</th>\n      <th>validation_token</th>\n      <th>score_before_regrade</th>\n      <th>has_seen_results</th>\n      <th>time_spent</th>\n      <th>attempts_left</th>\n      <th>overdue_and_needs_submission</th>\n      <th>excused?</th>\n      <th>html_url</th>\n      <th>result_url</th>\n      <th>course_id</th>\n    </tr>\n  </thead>\n  <tbody>\n    <tr>\n      <th>0</th>\n      <td>57233</td>\n      <td>6585</td>\n      <td>103</td>\n      <td>633</td>\n      <td>309005</td>\n      <td>1.0</td>\n      <td>1.0</td>\n      <td>2020-10-26 22:47:46+00:00</td>\n      <td>2020-11-21 07:59:59+00:00</td>\n      <td>2020-10-27 22:50:48+00:00</td>\n      <td>1</td>\n      <td>complete</td>\n      <td>NaN</td>\n      <td>1</td>\n      <td>NaN</td>\n      <td>NaT</td>\n      <td>NaN</td>\n      <td>5e9f574072efc917ebfd543dadced88ad27cb1d1006bf73d8a1b26526534a1d3</td>\n      <td>NaN</td>\n      <td>0.0</td>\n      <td>86582.0</td>\n      <td>0</td>\n      <td>0.0</td>\n      <td>False</td>\n      <td>https://lambdaschool.instructure.com/courses/495/quizzes/6585/submissions/57233</td>\n      <td>https://lambdaschool.instructure.com/courses/495/quizzes/6585/history?quiz_submission_id=57233&amp;version=1</td>\n      <td>495</td>\n    </tr>\n    <tr>\n      <th>1</th>\n      <td>57294</td>\n      <td>6585</td>\n      <td>103</td>\n      <td>544</td>\n      <td>318896</td>\n      <td>1.0</td>\n      <td>1.0</td>\n      <td>2020-10-26 23:08:10+00:00</td>\n      <td>2020-11-21 07:59:59+00:00</td>\n      <td>2020-11-06 02:01:55+00:00</td>\n      <td>1</td>\n      <td>complete</td>\n      <td>NaN</td>\n      <td>1</td>\n      <td>NaN</td>\n      <td>NaT</td>\n      <td>NaN</td>\n      <td>4ea64d0996617807a3c655f8e95ae42a6319de0d8cb689915672fa930082ba58</td>\n      <td>NaN</td>\n      <td>0.0</td>\n      <td>874425.0</td>\n      <td>0</td>\n      <td>0.0</td>\n      <td>False</td>\n      <td>https://lambdaschool.instructure.com/courses/495/quizzes/6585/submissions/57294</td>\n      <td>https://lambdaschool.instructure.com/courses/495/quizzes/6585/history?quiz_submission_id=57294&amp;version=1</td>\n      <td>495</td>\n    </tr>\n    <tr>\n      <th>2</th>\n      <td>57299</td>\n      <td>6585</td>\n      <td>103</td>\n      <td>579</td>\n      <td>312007</td>\n      <td>1.0</td>\n      <td>1.0</td>\n      <td>2020-10-26 23:10:50+00:00</td>\n      <td>2020-11-21 07:59:59+00:00</td>\n      <td>2020-11-21 07:59:59+00:00</td>\n      <td>1</td>\n      <td>complete</td>\n      <td>NaN</td>\n      <td>1</td>\n      <td>NaN</td>\n      <td>NaT</td>\n      <td>NaN</td>\n      <td>4f3a8e2ae3ffc807258bb85db4c2118255e51015d10a16734c5a3f7783c7d94c</td>\n      <td>NaN</td>\n      <td>NaN</td>\n      <td>2191748.0</td>\n      <td>0</td>\n      <td>0.0</td>\n      <td>False</td>\n      <td>https://lambdaschool.instructure.com/courses/495/quizzes/6585/submissions/57299</td>\n      <td>https://lambdaschool.instructure.com/courses/495/quizzes/6585/history?quiz_submission_id=57299&amp;version=1</td>\n      <td>495</td>\n    </tr>\n    <tr>\n      <th>3</th>\n      <td>57302</td>\n      <td>6585</td>\n      <td>103</td>\n      <td>1011</td>\n      <td>314947</td>\n      <td>1.0</td>\n      <td>1.0</td>\n      <td>2020-10-26 23:11:21+00:00</td>\n      <td>2020-11-21 07:59:59+00:00</td>\n      <td>2020-11-19 20:40:47+00:00</td>\n      <td>1</td>\n      <td>complete</td>\n      <td>NaN</td>\n      <td>1</td>\n      <td>NaN</td>\n      <td>NaT</td>\n      <td>NaN</td>\n      <td>48a83c07c6e2eeb9cbed95f48c820a5742591a781eb90c902c43b2346ec4739b</td>\n      <td>NaN</td>\n      <td>0.0</td>\n      <td>2064566.0</td>\n      <td>0</td>\n      <td>0.0</td>\n      <td>False</td>\n      <td>https://lambdaschool.instructure.com/courses/495/quizzes/6585/submissions/57302</td>\n      <td>https://lambdaschool.instructure.com/courses/495/quizzes/6585/history?quiz_submission_id=57302&amp;version=1</td>\n      <td>495</td>\n    </tr>\n    <tr>\n      <th>4</th>\n      <td>57366</td>\n      <td>6585</td>\n      <td>103</td>\n      <td>631</td>\n      <td>322392</td>\n      <td>1.0</td>\n      <td>1.0</td>\n      <td>2020-10-26 23:31:11+00:00</td>\n      <td>2020-11-21 07:59:59+00:00</td>\n      <td>2020-10-27 22:32:06+00:00</td>\n      <td>1</td>\n      <td>complete</td>\n      <td>NaN</td>\n      <td>1</td>\n      <td>NaN</td>\n      <td>NaT</td>\n      <td>NaN</td>\n      <td>17b98f2724d7708d8770f905b461972dd5675336ac89b578fa92240ebe22726f</td>\n      <td>NaN</td>\n      <td>0.0</td>\n      <td>82855.0</td>\n      <td>0</td>\n      <td>0.0</td>\n      <td>False</td>\n      <td>https://lambdaschool.instructure.com/courses/495/quizzes/6585/submissions/57366</td>\n      <td>https://lambdaschool.instructure.com/courses/495/quizzes/6585/history?quiz_submission_id=57366&amp;version=1</td>\n      <td>495</td>\n    </tr>\n    <tr>\n      <th>...</th>\n      <td>...</td>\n      <td>...</td>\n      <td>...</td>\n      <td>...</td>\n      <td>...</td>\n      <td>...</td>\n      <td>...</td>\n      <td>...</td>\n      <td>...</td>\n      <td>...</td>\n      <td>...</td>\n      <td>...</td>\n      <td>...</td>\n      <td>...</td>\n      <td>...</td>\n      <td>...</td>\n      <td>...</td>\n      <td>...</td>\n      <td>...</td>\n      <td>...</td>\n      <td>...</td>\n      <td>...</td>\n      <td>...</td>\n      <td>...</td>\n      <td>...</td>\n      <td>...</td>\n      <td>...</td>\n    </tr>\n    <tr>\n      <th>174</th>\n      <td>87979</td>\n      <td>6876</td>\n      <td>627</td>\n      <td>251</td>\n      <td>314716</td>\n      <td>1.0</td>\n      <td>1.0</td>\n      <td>2020-11-17 19:47:02+00:00</td>\n      <td>2020-11-21 07:59:59+00:00</td>\n      <td>2020-11-21 07:59:59+00:00</td>\n      <td>1</td>\n      <td>complete</td>\n      <td>NaN</td>\n      <td>1</td>\n      <td>NaN</td>\n      <td>NaT</td>\n      <td>NaN</td>\n      <td>5a9f2364c356a540a9875f4df7f6025de4d56369d4676317296c460dbc52693b</td>\n      <td>NaN</td>\n      <td>NaN</td>\n      <td>303176.0</td>\n      <td>0</td>\n      <td>0.0</td>\n      <td>False</td>\n      <td>https://lambdaschool.instructure.com/courses/495/quizzes/6876/submissions/87979</td>\n      <td>https://lambdaschool.instructure.com/courses/495/quizzes/6876/history?quiz_submission_id=87979&amp;version=1</td>\n      <td>495</td>\n    </tr>\n    <tr>\n      <th>175</th>\n      <td>90406</td>\n      <td>6876</td>\n      <td>671</td>\n      <td>577</td>\n      <td>323656</td>\n      <td>1.0</td>\n      <td>1.0</td>\n      <td>2020-11-19 16:25:54+00:00</td>\n      <td>2020-11-21 07:59:59+00:00</td>\n      <td>2020-11-19 16:27:49+00:00</td>\n      <td>1</td>\n      <td>complete</td>\n      <td>NaN</td>\n      <td>1</td>\n      <td>NaN</td>\n      <td>NaT</td>\n      <td>NaN</td>\n      <td>f8a8962046a56e269bf9dada9d02028ef0d4dc5224a9fc15c38ab8075a17beb0</td>\n      <td>NaN</td>\n      <td>0.0</td>\n      <td>116.0</td>\n      <td>0</td>\n      <td>0.0</td>\n      <td>False</td>\n      <td>https://lambdaschool.instructure.com/courses/495/quizzes/6876/submissions/90406</td>\n      <td>https://lambdaschool.instructure.com/courses/495/quizzes/6876/history?quiz_submission_id=90406&amp;version=1</td>\n      <td>495</td>\n    </tr>\n    <tr>\n      <th>176</th>\n      <td>90487</td>\n      <td>6876</td>\n      <td>672</td>\n      <td>2468</td>\n      <td>307302</td>\n      <td>1.0</td>\n      <td>1.0</td>\n      <td>2020-11-19 16:51:53+00:00</td>\n      <td>2020-11-21 07:59:59+00:00</td>\n      <td>2020-11-19 16:52:20+00:00</td>\n      <td>1</td>\n      <td>complete</td>\n      <td>NaN</td>\n      <td>1</td>\n      <td>NaN</td>\n      <td>NaT</td>\n      <td>NaN</td>\n      <td>f34e930487b5c4636a6675fc1b1bf125da1bf6569dc265cc380b69823455898d</td>\n      <td>NaN</td>\n      <td>0.0</td>\n      <td>26.0</td>\n      <td>0</td>\n      <td>0.0</td>\n      <td>False</td>\n      <td>https://lambdaschool.instructure.com/courses/495/quizzes/6876/submissions/90487</td>\n      <td>https://lambdaschool.instructure.com/courses/495/quizzes/6876/history?quiz_submission_id=90487&amp;version=1</td>\n      <td>495</td>\n    </tr>\n    <tr>\n      <th>177</th>\n      <td>90884</td>\n      <td>6876</td>\n      <td>675</td>\n      <td>1011</td>\n      <td>316164</td>\n      <td>1.0</td>\n      <td>1.0</td>\n      <td>2020-11-19 20:42:35+00:00</td>\n      <td>2020-11-21 07:59:59+00:00</td>\n      <td>2020-11-19 20:43:50+00:00</td>\n      <td>1</td>\n      <td>complete</td>\n      <td>NaN</td>\n      <td>1</td>\n      <td>NaN</td>\n      <td>NaT</td>\n      <td>NaN</td>\n      <td>589554b9f6e34971a89f50e7d997567597fe53e76fd24486cdf5eb70f5a9e1e8</td>\n      <td>NaN</td>\n      <td>0.0</td>\n      <td>75.0</td>\n      <td>0</td>\n      <td>0.0</td>\n      <td>False</td>\n      <td>https://lambdaschool.instructure.com/courses/495/quizzes/6876/submissions/90884</td>\n      <td>https://lambdaschool.instructure.com/courses/495/quizzes/6876/history?quiz_submission_id=90884&amp;version=1</td>\n      <td>495</td>\n    </tr>\n    <tr>\n      <th>178</th>\n      <td>92125</td>\n      <td>6876</td>\n      <td>695</td>\n      <td>2452</td>\n      <td>322174</td>\n      <td>1.0</td>\n      <td>1.0</td>\n      <td>2020-11-20 15:51:43+00:00</td>\n      <td>2020-11-21 07:59:59+00:00</td>\n      <td>2020-11-20 15:52:48+00:00</td>\n      <td>1</td>\n      <td>complete</td>\n      <td>NaN</td>\n      <td>1</td>\n      <td>NaN</td>\n      <td>NaT</td>\n      <td>NaN</td>\n      <td>92fe70472708c24438658caa8f4c695b333f0f98a00b9b5c2d0006692109d047</td>\n      <td>NaN</td>\n      <td>0.0</td>\n      <td>65.0</td>\n      <td>0</td>\n      <td>0.0</td>\n      <td>False</td>\n      <td>https://lambdaschool.instructure.com/courses/495/quizzes/6876/submissions/92125</td>\n      <td>https://lambdaschool.instructure.com/courses/495/quizzes/6876/history?quiz_submission_id=92125&amp;version=1</td>\n      <td>495</td>\n    </tr>\n  </tbody>\n</table>\n<p>1644 rows × 27 columns</p>\n</div>"
     },
     "metadata": {},
     "execution_count": 10
    }
   ],
   "source": [
    "course_495 = subs_df[subs_df[\"course_id\"]==495]\n",
    "course_495"
   ]
  },
  {
   "cell_type": "code",
   "execution_count": 11,
   "metadata": {
    "tags": []
   },
   "outputs": [
    {
     "output_type": "error",
     "ename": "JSONDecodeError",
     "evalue": "Extra data: line 1 column 5 (char 4)",
     "traceback": [
      "\u001b[1;31m---------------------------------------------------------------------------\u001b[0m",
      "\u001b[1;31mJSONDecodeError\u001b[0m                           Traceback (most recent call last)",
      "\u001b[1;32m<ipython-input-11-a1123f89e605>\u001b[0m in \u001b[0;36m<module>\u001b[1;34m\u001b[0m\n\u001b[0;32m      7\u001b[0m     \u001b[0mcourse_id\u001b[0m \u001b[1;33m=\u001b[0m \u001b[0mrow\u001b[0m\u001b[1;33m[\u001b[0m\u001b[1;36m1\u001b[0m\u001b[1;33m]\u001b[0m\u001b[1;33m[\u001b[0m\u001b[1;36m4\u001b[0m\u001b[1;33m]\u001b[0m\u001b[1;33m\u001b[0m\u001b[1;33m\u001b[0m\u001b[0m\n\u001b[0;32m      8\u001b[0m     \u001b[0mr\u001b[0m \u001b[1;33m=\u001b[0m \u001b[0mrequests\u001b[0m\u001b[1;33m.\u001b[0m\u001b[0mget\u001b[0m\u001b[1;33m(\u001b[0m\u001b[1;34mf\"https://lambdaschool.instructure.com/api/v1/courses/{course_id}/quizzes/{quiz_id}/submissions/{sub_id}/events\"\u001b[0m\u001b[1;33m,\u001b[0m \u001b[0mheaders\u001b[0m\u001b[1;33m=\u001b[0m\u001b[0mheaders\u001b[0m\u001b[1;33m)\u001b[0m\u001b[1;33m\u001b[0m\u001b[1;33m\u001b[0m\u001b[0m\n\u001b[1;32m----> 9\u001b[1;33m     \u001b[0mraw\u001b[0m \u001b[1;33m=\u001b[0m \u001b[0mr\u001b[0m\u001b[1;33m.\u001b[0m\u001b[0mjson\u001b[0m\u001b[1;33m(\u001b[0m\u001b[1;33m)\u001b[0m\u001b[1;33m\u001b[0m\u001b[1;33m\u001b[0m\u001b[0m\n\u001b[0m\u001b[0;32m     10\u001b[0m     \u001b[1;32mfor\u001b[0m \u001b[0mi\u001b[0m \u001b[1;32min\u001b[0m \u001b[0mraw\u001b[0m\u001b[1;33m[\u001b[0m\u001b[1;34m\"quiz_submission_events\"\u001b[0m\u001b[1;33m]\u001b[0m\u001b[1;33m:\u001b[0m\u001b[1;33m\u001b[0m\u001b[1;33m\u001b[0m\u001b[0m\n\u001b[0;32m     11\u001b[0m         \u001b[1;32mif\u001b[0m \u001b[1;34m\"event_data\"\u001b[0m \u001b[1;32min\u001b[0m \u001b[0mi\u001b[0m\u001b[1;33m.\u001b[0m\u001b[0mkeys\u001b[0m\u001b[1;33m(\u001b[0m\u001b[1;33m)\u001b[0m\u001b[1;33m:\u001b[0m\u001b[1;33m\u001b[0m\u001b[1;33m\u001b[0m\u001b[0m\n",
      "\u001b[1;32m~\\AppData\\Local\\Programs\\Python\\Python38\\lib\\site-packages\\requests\\models.py\u001b[0m in \u001b[0;36mjson\u001b[1;34m(self, **kwargs)\u001b[0m\n\u001b[0;32m    898\u001b[0m                     \u001b[1;31m# used.\u001b[0m\u001b[1;33m\u001b[0m\u001b[1;33m\u001b[0m\u001b[1;33m\u001b[0m\u001b[0m\n\u001b[0;32m    899\u001b[0m                     \u001b[1;32mpass\u001b[0m\u001b[1;33m\u001b[0m\u001b[1;33m\u001b[0m\u001b[0m\n\u001b[1;32m--> 900\u001b[1;33m         \u001b[1;32mreturn\u001b[0m \u001b[0mcomplexjson\u001b[0m\u001b[1;33m.\u001b[0m\u001b[0mloads\u001b[0m\u001b[1;33m(\u001b[0m\u001b[0mself\u001b[0m\u001b[1;33m.\u001b[0m\u001b[0mtext\u001b[0m\u001b[1;33m,\u001b[0m \u001b[1;33m**\u001b[0m\u001b[0mkwargs\u001b[0m\u001b[1;33m)\u001b[0m\u001b[1;33m\u001b[0m\u001b[1;33m\u001b[0m\u001b[0m\n\u001b[0m\u001b[0;32m    901\u001b[0m \u001b[1;33m\u001b[0m\u001b[0m\n\u001b[0;32m    902\u001b[0m     \u001b[1;33m@\u001b[0m\u001b[0mproperty\u001b[0m\u001b[1;33m\u001b[0m\u001b[1;33m\u001b[0m\u001b[0m\n",
      "\u001b[1;32m~\\AppData\\Local\\Programs\\Python\\Python38\\lib\\json\\__init__.py\u001b[0m in \u001b[0;36mloads\u001b[1;34m(s, cls, object_hook, parse_float, parse_int, parse_constant, object_pairs_hook, **kw)\u001b[0m\n\u001b[0;32m    355\u001b[0m             \u001b[0mparse_int\u001b[0m \u001b[1;32mis\u001b[0m \u001b[1;32mNone\u001b[0m \u001b[1;32mand\u001b[0m \u001b[0mparse_float\u001b[0m \u001b[1;32mis\u001b[0m \u001b[1;32mNone\u001b[0m \u001b[1;32mand\u001b[0m\u001b[1;33m\u001b[0m\u001b[1;33m\u001b[0m\u001b[0m\n\u001b[0;32m    356\u001b[0m             parse_constant is None and object_pairs_hook is None and not kw):\n\u001b[1;32m--> 357\u001b[1;33m         \u001b[1;32mreturn\u001b[0m \u001b[0m_default_decoder\u001b[0m\u001b[1;33m.\u001b[0m\u001b[0mdecode\u001b[0m\u001b[1;33m(\u001b[0m\u001b[0ms\u001b[0m\u001b[1;33m)\u001b[0m\u001b[1;33m\u001b[0m\u001b[1;33m\u001b[0m\u001b[0m\n\u001b[0m\u001b[0;32m    358\u001b[0m     \u001b[1;32mif\u001b[0m \u001b[0mcls\u001b[0m \u001b[1;32mis\u001b[0m \u001b[1;32mNone\u001b[0m\u001b[1;33m:\u001b[0m\u001b[1;33m\u001b[0m\u001b[1;33m\u001b[0m\u001b[0m\n\u001b[0;32m    359\u001b[0m         \u001b[0mcls\u001b[0m \u001b[1;33m=\u001b[0m \u001b[0mJSONDecoder\u001b[0m\u001b[1;33m\u001b[0m\u001b[1;33m\u001b[0m\u001b[0m\n",
      "\u001b[1;32m~\\AppData\\Local\\Programs\\Python\\Python38\\lib\\json\\decoder.py\u001b[0m in \u001b[0;36mdecode\u001b[1;34m(self, s, _w)\u001b[0m\n\u001b[0;32m    338\u001b[0m         \u001b[0mend\u001b[0m \u001b[1;33m=\u001b[0m \u001b[0m_w\u001b[0m\u001b[1;33m(\u001b[0m\u001b[0ms\u001b[0m\u001b[1;33m,\u001b[0m \u001b[0mend\u001b[0m\u001b[1;33m)\u001b[0m\u001b[1;33m.\u001b[0m\u001b[0mend\u001b[0m\u001b[1;33m(\u001b[0m\u001b[1;33m)\u001b[0m\u001b[1;33m\u001b[0m\u001b[1;33m\u001b[0m\u001b[0m\n\u001b[0;32m    339\u001b[0m         \u001b[1;32mif\u001b[0m \u001b[0mend\u001b[0m \u001b[1;33m!=\u001b[0m \u001b[0mlen\u001b[0m\u001b[1;33m(\u001b[0m\u001b[0ms\u001b[0m\u001b[1;33m)\u001b[0m\u001b[1;33m:\u001b[0m\u001b[1;33m\u001b[0m\u001b[1;33m\u001b[0m\u001b[0m\n\u001b[1;32m--> 340\u001b[1;33m             \u001b[1;32mraise\u001b[0m \u001b[0mJSONDecodeError\u001b[0m\u001b[1;33m(\u001b[0m\u001b[1;34m\"Extra data\"\u001b[0m\u001b[1;33m,\u001b[0m \u001b[0ms\u001b[0m\u001b[1;33m,\u001b[0m \u001b[0mend\u001b[0m\u001b[1;33m)\u001b[0m\u001b[1;33m\u001b[0m\u001b[1;33m\u001b[0m\u001b[0m\n\u001b[0m\u001b[0;32m    341\u001b[0m         \u001b[1;32mreturn\u001b[0m \u001b[0mobj\u001b[0m\u001b[1;33m\u001b[0m\u001b[1;33m\u001b[0m\u001b[0m\n\u001b[0;32m    342\u001b[0m \u001b[1;33m\u001b[0m\u001b[0m\n",
      "\u001b[1;31mJSONDecodeError\u001b[0m: Extra data: line 1 column 5 (char 4)"
     ]
    }
   ],
   "source": [
    "\n",
    "result_data = []\n",
    "for row in subs_df[[\"id\",\"user_id\",\"quiz_id\",\"started_at\",\"course_id\"]].iterrows():\n",
    "    sub_id = row[1][0]\n",
    "    user_id = row[1][1]\n",
    "    quiz_id = row[1][2]\n",
    "    started_at = row[1][3]\n",
    "    course_id = row[1][4]\n",
    "    r = requests.get(f\"https://lambdaschool.instructure.com/api/v1/courses/{course_id}/quizzes/{quiz_id}/submissions/{sub_id}/events\", headers=headers)\n",
    "    raw = r.json()\n",
    "    for i in raw[\"quiz_submission_events\"]:\n",
    "        if \"event_data\" in i.keys():\n",
    "            if i[\"event_type\"] == \"question_answered\":\n",
    "                for t in i[\"event_data\"]:\n",
    "                    if t[\"answer\"] != None and isinstance(t[\"answer\"], float):\n",
    "                        if t[\"answer\"] != None and 0 < t[\"answer\"] < 4:\n",
    "                            result_data.append([user_id, t[\"answer\"], started_at]) "
   ]
  },
  {
   "cell_type": "code",
   "execution_count": null,
   "metadata": {},
   "outputs": [],
   "source": [
    "result_data[0]"
   ]
  },
  {
   "cell_type": "code",
   "execution_count": 12,
   "metadata": {},
   "outputs": [],
   "source": [
    "result_df = pd.DataFrame(result_data, columns=[\"user_id\", \"score\", \"started_at\"])\n",
    "result_df = result_df.sort_values(\"started_at\")"
   ]
  },
  {
   "cell_type": "code",
   "execution_count": 23,
   "metadata": {},
   "outputs": [
    {
     "output_type": "display_data",
     "data": {
      "application/vnd.plotly.v1+json": {
       "config": {
        "plotlyServerURL": "https://plot.ly"
       },
       "data": [
        {
         "hovertemplate": "user_id=3164<br>started_at=%{x}<br>score=%{y}<extra></extra>",
         "legendgroup": "3164",
         "line": {
          "color": "#636efa",
          "dash": "solid"
         },
         "mode": "markers+lines",
         "name": "3164",
         "orientation": "v",
         "showlegend": true,
         "type": "scatter",
         "x": [
          "2020-10-26T15:06:58+00:00",
          "2020-10-27T16:02:34+00:00",
          "2020-10-29T15:30:23+00:00"
         ],
         "xaxis": "x",
         "y": [
          2,
          2,
          2
         ],
         "yaxis": "y"
        },
        {
         "hovertemplate": "user_id=616<br>started_at=%{x}<br>score=%{y}<extra></extra>",
         "legendgroup": "616",
         "line": {
          "color": "#EF553B",
          "dash": "solid"
         },
         "mode": "markers+lines",
         "name": "616",
         "orientation": "v",
         "showlegend": true,
         "type": "scatter",
         "x": [
          "2020-10-26T15:32:09+00:00",
          "2020-10-27T23:18:36+00:00",
          "2020-10-28T22:35:08+00:00"
         ],
         "xaxis": "x",
         "y": [
          2,
          2,
          2
         ],
         "yaxis": "y"
        },
        {
         "hovertemplate": "user_id=1204<br>started_at=%{x}<br>score=%{y}<extra></extra>",
         "legendgroup": "1204",
         "line": {
          "color": "#00cc96",
          "dash": "solid"
         },
         "mode": "markers+lines",
         "name": "1204",
         "orientation": "v",
         "showlegend": true,
         "type": "scatter",
         "x": [
          "2020-10-26T16:09:47+00:00",
          "2020-10-27T08:12:18+00:00",
          "2020-10-29T06:41:33+00:00"
         ],
         "xaxis": "x",
         "y": [
          3,
          3,
          3
         ],
         "yaxis": "y"
        },
        {
         "hovertemplate": "user_id=1162<br>started_at=%{x}<br>score=%{y}<extra></extra>",
         "legendgroup": "1162",
         "line": {
          "color": "#ab63fa",
          "dash": "solid"
         },
         "mode": "markers+lines",
         "name": "1162",
         "orientation": "v",
         "showlegend": true,
         "type": "scatter",
         "x": [
          "2020-10-26T16:34:49+00:00",
          "2020-10-27T21:40:40+00:00",
          "2020-10-28T23:06:11+00:00"
         ],
         "xaxis": "x",
         "y": [
          3,
          3,
          3
         ],
         "yaxis": "y"
        },
        {
         "hovertemplate": "user_id=3142<br>started_at=%{x}<br>score=%{y}<extra></extra>",
         "legendgroup": "3142",
         "line": {
          "color": "#FFA15A",
          "dash": "solid"
         },
         "mode": "markers+lines",
         "name": "3142",
         "orientation": "v",
         "showlegend": true,
         "type": "scatter",
         "x": [
          "2020-10-26T18:18:56+00:00"
         ],
         "xaxis": "x",
         "y": [
          2
         ],
         "yaxis": "y"
        },
        {
         "hovertemplate": "user_id=823<br>started_at=%{x}<br>score=%{y}<extra></extra>",
         "legendgroup": "823",
         "line": {
          "color": "#19d3f3",
          "dash": "solid"
         },
         "mode": "markers+lines",
         "name": "823",
         "orientation": "v",
         "showlegend": true,
         "type": "scatter",
         "x": [
          "2020-10-26T18:31:38+00:00",
          "2020-10-27T20:49:08+00:00",
          "2020-10-28T22:44:32+00:00"
         ],
         "xaxis": "x",
         "y": [
          2,
          2,
          2
         ],
         "yaxis": "y"
        },
        {
         "hovertemplate": "user_id=2355<br>started_at=%{x}<br>score=%{y}<extra></extra>",
         "legendgroup": "2355",
         "line": {
          "color": "#FF6692",
          "dash": "solid"
         },
         "mode": "markers+lines",
         "name": "2355",
         "orientation": "v",
         "showlegend": true,
         "type": "scatter",
         "x": [
          "2020-10-26T19:31:38+00:00",
          "2020-10-27T19:18:29+00:00",
          "2020-10-28T22:36:34+00:00"
         ],
         "xaxis": "x",
         "y": [
          2,
          3,
          2
         ],
         "yaxis": "y"
        },
        {
         "hovertemplate": "user_id=2464<br>started_at=%{x}<br>score=%{y}<extra></extra>",
         "legendgroup": "2464",
         "line": {
          "color": "#B6E880",
          "dash": "solid"
         },
         "mode": "markers+lines",
         "name": "2464",
         "orientation": "v",
         "showlegend": true,
         "type": "scatter",
         "x": [
          "2020-10-26T19:40:22+00:00",
          "2020-10-27T14:17:51+00:00",
          "2020-10-28T14:33:36+00:00"
         ],
         "xaxis": "x",
         "y": [
          3,
          3,
          3
         ],
         "yaxis": "y"
        },
        {
         "hovertemplate": "user_id=1138<br>started_at=%{x}<br>score=%{y}<extra></extra>",
         "legendgroup": "1138",
         "line": {
          "color": "#FF97FF",
          "dash": "solid"
         },
         "mode": "markers+lines",
         "name": "1138",
         "orientation": "v",
         "showlegend": true,
         "type": "scatter",
         "x": [
          "2020-10-26T20:02:43+00:00",
          "2020-10-28T00:38:53+00:00",
          "2020-10-29T01:45:42+00:00"
         ],
         "xaxis": "x",
         "y": [
          3,
          3,
          3
         ],
         "yaxis": "y"
        },
        {
         "hovertemplate": "user_id=564<br>started_at=%{x}<br>score=%{y}<extra></extra>",
         "legendgroup": "564",
         "line": {
          "color": "#FECB52",
          "dash": "solid"
         },
         "mode": "markers+lines",
         "name": "564",
         "orientation": "v",
         "showlegend": true,
         "type": "scatter",
         "x": [
          "2020-10-26T20:10:59+00:00"
         ],
         "xaxis": "x",
         "y": [
          2
         ],
         "yaxis": "y"
        },
        {
         "hovertemplate": "user_id=2459<br>started_at=%{x}<br>score=%{y}<extra></extra>",
         "legendgroup": "2459",
         "line": {
          "color": "#636efa",
          "dash": "solid"
         },
         "mode": "markers+lines",
         "name": "2459",
         "orientation": "v",
         "showlegend": true,
         "type": "scatter",
         "x": [
          "2020-10-26T20:14:50+00:00",
          "2020-10-27T23:43:28+00:00",
          "2020-10-27T23:43:50+00:00"
         ],
         "xaxis": "x",
         "y": [
          2,
          2,
          2
         ],
         "yaxis": "y"
        },
        {
         "hovertemplate": "user_id=1113<br>started_at=%{x}<br>score=%{y}<extra></extra>",
         "legendgroup": "1113",
         "line": {
          "color": "#EF553B",
          "dash": "solid"
         },
         "mode": "markers+lines",
         "name": "1113",
         "orientation": "v",
         "showlegend": true,
         "type": "scatter",
         "x": [
          "2020-10-26T20:16:16+00:00",
          "2020-10-27T21:00:44+00:00",
          "2020-10-28T22:55:49+00:00"
         ],
         "xaxis": "x",
         "y": [
          2,
          2,
          3
         ],
         "yaxis": "y"
        },
        {
         "hovertemplate": "user_id=2425<br>started_at=%{x}<br>score=%{y}<extra></extra>",
         "legendgroup": "2425",
         "line": {
          "color": "#00cc96",
          "dash": "solid"
         },
         "mode": "markers+lines",
         "name": "2425",
         "orientation": "v",
         "showlegend": true,
         "type": "scatter",
         "x": [
          "2020-10-26T20:22:31+00:00",
          "2020-10-28T19:35:33+00:00"
         ],
         "xaxis": "x",
         "y": [
          2,
          2
         ],
         "yaxis": "y"
        },
        {
         "hovertemplate": "user_id=3373<br>started_at=%{x}<br>score=%{y}<extra></extra>",
         "legendgroup": "3373",
         "line": {
          "color": "#ab63fa",
          "dash": "solid"
         },
         "mode": "markers+lines",
         "name": "3373",
         "orientation": "v",
         "showlegend": true,
         "type": "scatter",
         "x": [
          "2020-10-26T20:26:59+00:00",
          "2020-10-27T01:05:00+00:00"
         ],
         "xaxis": "x",
         "y": [
          2,
          3
         ],
         "yaxis": "y"
        },
        {
         "hovertemplate": "user_id=499<br>started_at=%{x}<br>score=%{y}<extra></extra>",
         "legendgroup": "499",
         "line": {
          "color": "#FFA15A",
          "dash": "solid"
         },
         "mode": "markers+lines",
         "name": "499",
         "orientation": "v",
         "showlegend": true,
         "type": "scatter",
         "x": [
          "2020-10-26T20:39:21+00:00",
          "2020-10-27T21:00:49+00:00",
          "2020-10-28T21:05:37+00:00"
         ],
         "xaxis": "x",
         "y": [
          2,
          3,
          3
         ],
         "yaxis": "y"
        },
        {
         "hovertemplate": "user_id=516<br>started_at=%{x}<br>score=%{y}<extra></extra>",
         "legendgroup": "516",
         "line": {
          "color": "#19d3f3",
          "dash": "solid"
         },
         "mode": "markers+lines",
         "name": "516",
         "orientation": "v",
         "showlegend": true,
         "type": "scatter",
         "x": [
          "2020-10-26T20:45:33+00:00",
          "2020-10-27T22:46:31+00:00",
          "2020-10-28T23:30:20+00:00"
         ],
         "xaxis": "x",
         "y": [
          2,
          2,
          3
         ],
         "yaxis": "y"
        },
        {
         "hovertemplate": "user_id=2451<br>started_at=%{x}<br>score=%{y}<extra></extra>",
         "legendgroup": "2451",
         "line": {
          "color": "#FF6692",
          "dash": "solid"
         },
         "mode": "markers+lines",
         "name": "2451",
         "orientation": "v",
         "showlegend": true,
         "type": "scatter",
         "x": [
          "2020-10-26T20:46:45+00:00",
          "2020-10-28T21:02:06+00:00",
          "2020-10-30T20:30:02+00:00"
         ],
         "xaxis": "x",
         "y": [
          3,
          3,
          3
         ],
         "yaxis": "y"
        },
        {
         "hovertemplate": "user_id=1282<br>started_at=%{x}<br>score=%{y}<extra></extra>",
         "legendgroup": "1282",
         "line": {
          "color": "#B6E880",
          "dash": "solid"
         },
         "mode": "markers+lines",
         "name": "1282",
         "orientation": "v",
         "showlegend": true,
         "type": "scatter",
         "x": [
          "2020-10-26T20:49:39+00:00",
          "2020-10-27T23:52:15+00:00",
          "2020-10-29T03:42:19+00:00"
         ],
         "xaxis": "x",
         "y": [
          3,
          3,
          1
         ],
         "yaxis": "y"
        },
        {
         "hovertemplate": "user_id=548<br>started_at=%{x}<br>score=%{y}<extra></extra>",
         "legendgroup": "548",
         "line": {
          "color": "#FF97FF",
          "dash": "solid"
         },
         "mode": "markers+lines",
         "name": "548",
         "orientation": "v",
         "showlegend": true,
         "type": "scatter",
         "x": [
          "2020-10-26T21:01:30+00:00",
          "2020-10-27T23:02:12+00:00",
          "2020-10-28T23:44:09+00:00"
         ],
         "xaxis": "x",
         "y": [
          2,
          3,
          3
         ],
         "yaxis": "y"
        },
        {
         "hovertemplate": "user_id=496<br>started_at=%{x}<br>score=%{y}<extra></extra>",
         "legendgroup": "496",
         "line": {
          "color": "#FECB52",
          "dash": "solid"
         },
         "mode": "markers+lines",
         "name": "496",
         "orientation": "v",
         "showlegend": true,
         "type": "scatter",
         "x": [
          "2020-10-26T21:02:14+00:00",
          "2020-10-27T22:28:09+00:00",
          "2020-10-28T23:28:11+00:00"
         ],
         "xaxis": "x",
         "y": [
          3,
          3,
          3
         ],
         "yaxis": "y"
        },
        {
         "hovertemplate": "user_id=560<br>started_at=%{x}<br>score=%{y}<extra></extra>",
         "legendgroup": "560",
         "line": {
          "color": "#636efa",
          "dash": "solid"
         },
         "mode": "markers+lines",
         "name": "560",
         "orientation": "v",
         "showlegend": true,
         "type": "scatter",
         "x": [
          "2020-10-26T21:02:31+00:00",
          "2020-10-27T20:26:36+00:00"
         ],
         "xaxis": "x",
         "y": [
          2,
          1
         ],
         "yaxis": "y"
        },
        {
         "hovertemplate": "user_id=614<br>started_at=%{x}<br>score=%{y}<extra></extra>",
         "legendgroup": "614",
         "line": {
          "color": "#EF553B",
          "dash": "solid"
         },
         "mode": "markers+lines",
         "name": "614",
         "orientation": "v",
         "showlegend": true,
         "type": "scatter",
         "x": [
          "2020-10-26T21:16:34+00:00",
          "2020-10-28T23:00:23+00:00",
          "2020-10-30T23:38:37+00:00"
         ],
         "xaxis": "x",
         "y": [
          2,
          2,
          2
         ],
         "yaxis": "y"
        },
        {
         "hovertemplate": "user_id=513<br>started_at=%{x}<br>score=%{y}<extra></extra>",
         "legendgroup": "513",
         "line": {
          "color": "#00cc96",
          "dash": "solid"
         },
         "mode": "markers+lines",
         "name": "513",
         "orientation": "v",
         "showlegend": true,
         "type": "scatter",
         "x": [
          "2020-10-26T21:18:53+00:00"
         ],
         "xaxis": "x",
         "y": [
          3
         ],
         "yaxis": "y"
        },
        {
         "hovertemplate": "user_id=498<br>started_at=%{x}<br>score=%{y}<extra></extra>",
         "legendgroup": "498",
         "line": {
          "color": "#ab63fa",
          "dash": "solid"
         },
         "mode": "markers+lines",
         "name": "498",
         "orientation": "v",
         "showlegend": true,
         "type": "scatter",
         "x": [
          "2020-10-26T21:20:45+00:00",
          "2020-10-26T21:20:45+00:00",
          "2020-10-29T15:02:14+00:00",
          "2020-10-29T15:06:54+00:00"
         ],
         "xaxis": "x",
         "y": [
          2,
          3,
          2,
          2
         ],
         "yaxis": "y"
        },
        {
         "hovertemplate": "user_id=508<br>started_at=%{x}<br>score=%{y}<extra></extra>",
         "legendgroup": "508",
         "line": {
          "color": "#FFA15A",
          "dash": "solid"
         },
         "mode": "markers+lines",
         "name": "508",
         "orientation": "v",
         "showlegend": true,
         "type": "scatter",
         "x": [
          "2020-10-26T21:23:47+00:00",
          "2020-10-27T21:06:57+00:00",
          "2020-10-28T22:59:55+00:00"
         ],
         "xaxis": "x",
         "y": [
          2,
          2,
          1
         ],
         "yaxis": "y"
        },
        {
         "hovertemplate": "user_id=2447<br>started_at=%{x}<br>score=%{y}<extra></extra>",
         "legendgroup": "2447",
         "line": {
          "color": "#19d3f3",
          "dash": "solid"
         },
         "mode": "markers+lines",
         "name": "2447",
         "orientation": "v",
         "showlegend": true,
         "type": "scatter",
         "x": [
          "2020-10-26T21:26:40+00:00",
          "2020-10-27T21:27:48+00:00",
          "2020-10-28T22:40:11+00:00"
         ],
         "xaxis": "x",
         "y": [
          2,
          2,
          2
         ],
         "yaxis": "y"
        },
        {
         "hovertemplate": "user_id=505<br>started_at=%{x}<br>score=%{y}<extra></extra>",
         "legendgroup": "505",
         "line": {
          "color": "#FF6692",
          "dash": "solid"
         },
         "mode": "markers+lines",
         "name": "505",
         "orientation": "v",
         "showlegend": true,
         "type": "scatter",
         "x": [
          "2020-10-26T21:27:25+00:00",
          "2020-10-30T15:56:52+00:00",
          "2020-10-30T15:57:30+00:00"
         ],
         "xaxis": "x",
         "y": [
          2,
          2,
          2
         ],
         "yaxis": "y"
        },
        {
         "hovertemplate": "user_id=2405<br>started_at=%{x}<br>score=%{y}<extra></extra>",
         "legendgroup": "2405",
         "line": {
          "color": "#B6E880",
          "dash": "solid"
         },
         "mode": "markers+lines",
         "name": "2405",
         "orientation": "v",
         "showlegend": true,
         "type": "scatter",
         "x": [
          "2020-10-26T21:32:44+00:00",
          "2020-10-28T04:32:16+00:00",
          "2020-10-29T05:23:38+00:00"
         ],
         "xaxis": "x",
         "y": [
          2,
          2,
          2
         ],
         "yaxis": "y"
        },
        {
         "hovertemplate": "user_id=530<br>started_at=%{x}<br>score=%{y}<extra></extra>",
         "legendgroup": "530",
         "line": {
          "color": "#FF97FF",
          "dash": "solid"
         },
         "mode": "markers+lines",
         "name": "530",
         "orientation": "v",
         "showlegend": true,
         "type": "scatter",
         "x": [
          "2020-10-26T21:36:45+00:00",
          "2020-10-26T21:38:23+00:00",
          "2020-10-28T23:01:13+00:00"
         ],
         "xaxis": "x",
         "y": [
          3,
          3,
          3
         ],
         "yaxis": "y"
        },
        {
         "hovertemplate": "user_id=816<br>started_at=%{x}<br>score=%{y}<extra></extra>",
         "legendgroup": "816",
         "line": {
          "color": "#FECB52",
          "dash": "solid"
         },
         "mode": "markers+lines",
         "name": "816",
         "orientation": "v",
         "showlegend": true,
         "type": "scatter",
         "x": [
          "2020-10-26T21:37:42+00:00",
          "2020-10-27T21:02:33+00:00",
          "2020-10-28T21:51:13+00:00"
         ],
         "xaxis": "x",
         "y": [
          2,
          2,
          2
         ],
         "yaxis": "y"
        },
        {
         "hovertemplate": "user_id=3154<br>started_at=%{x}<br>score=%{y}<extra></extra>",
         "legendgroup": "3154",
         "line": {
          "color": "#636efa",
          "dash": "solid"
         },
         "mode": "markers+lines",
         "name": "3154",
         "orientation": "v",
         "showlegend": true,
         "type": "scatter",
         "x": [
          "2020-10-26T21:43:12+00:00",
          "2020-10-27T00:59:52+00:00",
          "2020-10-29T04:43:05+00:00"
         ],
         "xaxis": "x",
         "y": [
          3,
          1,
          2
         ],
         "yaxis": "y"
        },
        {
         "hovertemplate": "user_id=605<br>started_at=%{x}<br>score=%{y}<extra></extra>",
         "legendgroup": "605",
         "line": {
          "color": "#EF553B",
          "dash": "solid"
         },
         "mode": "markers+lines",
         "name": "605",
         "orientation": "v",
         "showlegend": true,
         "type": "scatter",
         "x": [
          "2020-10-26T21:47:43+00:00",
          "2020-10-27T22:47:27+00:00",
          "2020-10-29T21:46:10+00:00"
         ],
         "xaxis": "x",
         "y": [
          2,
          2,
          1
         ],
         "yaxis": "y"
        },
        {
         "hovertemplate": "user_id=493<br>started_at=%{x}<br>score=%{y}<extra></extra>",
         "legendgroup": "493",
         "line": {
          "color": "#00cc96",
          "dash": "solid"
         },
         "mode": "markers+lines",
         "name": "493",
         "orientation": "v",
         "showlegend": true,
         "type": "scatter",
         "x": [
          "2020-10-26T21:53:47+00:00",
          "2020-10-27T22:14:00+00:00",
          "2020-10-28T23:35:43+00:00"
         ],
         "xaxis": "x",
         "y": [
          2,
          3,
          3
         ],
         "yaxis": "y"
        },
        {
         "hovertemplate": "user_id=2418<br>started_at=%{x}<br>score=%{y}<extra></extra>",
         "legendgroup": "2418",
         "line": {
          "color": "#ab63fa",
          "dash": "solid"
         },
         "mode": "markers+lines",
         "name": "2418",
         "orientation": "v",
         "showlegend": true,
         "type": "scatter",
         "x": [
          "2020-10-26T21:56:33+00:00",
          "2020-10-27T21:32:40+00:00",
          "2020-10-29T00:51:35+00:00"
         ],
         "xaxis": "x",
         "y": [
          3,
          2,
          2
         ],
         "yaxis": "y"
        },
        {
         "hovertemplate": "user_id=2443<br>started_at=%{x}<br>score=%{y}<extra></extra>",
         "legendgroup": "2443",
         "line": {
          "color": "#FFA15A",
          "dash": "solid"
         },
         "mode": "markers+lines",
         "name": "2443",
         "orientation": "v",
         "showlegend": true,
         "type": "scatter",
         "x": [
          "2020-10-26T21:58:46+00:00",
          "2020-10-27T23:12:19+00:00",
          "2020-10-29T02:26:38+00:00"
         ],
         "xaxis": "x",
         "y": [
          2,
          2,
          2
         ],
         "yaxis": "y"
        },
        {
         "hovertemplate": "user_id=584<br>started_at=%{x}<br>score=%{y}<extra></extra>",
         "legendgroup": "584",
         "line": {
          "color": "#19d3f3",
          "dash": "solid"
         },
         "mode": "markers+lines",
         "name": "584",
         "orientation": "v",
         "showlegend": true,
         "type": "scatter",
         "x": [
          "2020-10-26T22:20:54+00:00",
          "2020-10-27T19:13:11+00:00",
          "2020-10-28T21:40:26+00:00"
         ],
         "xaxis": "x",
         "y": [
          2,
          2,
          2
         ],
         "yaxis": "y"
        },
        {
         "hovertemplate": "user_id=2361<br>started_at=%{x}<br>score=%{y}<extra></extra>",
         "legendgroup": "2361",
         "line": {
          "color": "#FF6692",
          "dash": "solid"
         },
         "mode": "markers+lines",
         "name": "2361",
         "orientation": "v",
         "showlegend": true,
         "type": "scatter",
         "x": [
          "2020-10-26T22:23:11+00:00",
          "2020-10-28T20:57:39+00:00",
          "2020-11-02T16:47:06+00:00"
         ],
         "xaxis": "x",
         "y": [
          3,
          3,
          3
         ],
         "yaxis": "y"
        },
        {
         "hovertemplate": "user_id=1139<br>started_at=%{x}<br>score=%{y}<extra></extra>",
         "legendgroup": "1139",
         "line": {
          "color": "#B6E880",
          "dash": "solid"
         },
         "mode": "markers+lines",
         "name": "1139",
         "orientation": "v",
         "showlegend": true,
         "type": "scatter",
         "x": [
          "2020-10-26T22:25:51+00:00",
          "2020-10-29T00:08:17+00:00"
         ],
         "xaxis": "x",
         "y": [
          2,
          1
         ],
         "yaxis": "y"
        },
        {
         "hovertemplate": "user_id=1216<br>started_at=%{x}<br>score=%{y}<extra></extra>",
         "legendgroup": "1216",
         "line": {
          "color": "#FF97FF",
          "dash": "solid"
         },
         "mode": "markers+lines",
         "name": "1216",
         "orientation": "v",
         "showlegend": true,
         "type": "scatter",
         "x": [
          "2020-10-26T22:26:21+00:00",
          "2020-10-28T03:21:16+00:00",
          "2020-10-28T21:15:11+00:00",
          "2020-10-28T21:15:11+00:00"
         ],
         "xaxis": "x",
         "y": [
          2,
          2,
          3,
          2
         ],
         "yaxis": "y"
        },
        {
         "hovertemplate": "user_id=2414<br>started_at=%{x}<br>score=%{y}<extra></extra>",
         "legendgroup": "2414",
         "line": {
          "color": "#FECB52",
          "dash": "solid"
         },
         "mode": "markers+lines",
         "name": "2414",
         "orientation": "v",
         "showlegend": true,
         "type": "scatter",
         "x": [
          "2020-10-26T22:26:49+00:00",
          "2020-10-27T22:01:02+00:00",
          "2020-10-28T19:29:40+00:00"
         ],
         "xaxis": "x",
         "y": [
          2,
          2,
          2
         ],
         "yaxis": "y"
        },
        {
         "hovertemplate": "user_id=1020<br>started_at=%{x}<br>score=%{y}<extra></extra>",
         "legendgroup": "1020",
         "line": {
          "color": "#636efa",
          "dash": "solid"
         },
         "mode": "markers+lines",
         "name": "1020",
         "orientation": "v",
         "showlegend": true,
         "type": "scatter",
         "x": [
          "2020-10-26T22:27:57+00:00",
          "2020-10-27T22:39:33+00:00",
          "2020-10-28T22:57:28+00:00"
         ],
         "xaxis": "x",
         "y": [
          3,
          2,
          3
         ],
         "yaxis": "y"
        },
        {
         "hovertemplate": "user_id=2448<br>started_at=%{x}<br>score=%{y}<extra></extra>",
         "legendgroup": "2448",
         "line": {
          "color": "#EF553B",
          "dash": "solid"
         },
         "mode": "markers+lines",
         "name": "2448",
         "orientation": "v",
         "showlegend": true,
         "type": "scatter",
         "x": [
          "2020-10-26T22:30:22+00:00",
          "2020-10-27T23:19:14+00:00",
          "2020-10-28T22:36:07+00:00"
         ],
         "xaxis": "x",
         "y": [
          3,
          2,
          3
         ],
         "yaxis": "y"
        },
        {
         "hovertemplate": "user_id=620<br>started_at=%{x}<br>score=%{y}<extra></extra>",
         "legendgroup": "620",
         "line": {
          "color": "#00cc96",
          "dash": "solid"
         },
         "mode": "markers+lines",
         "name": "620",
         "orientation": "v",
         "showlegend": true,
         "type": "scatter",
         "x": [
          "2020-10-26T22:34:05+00:00",
          "2020-11-03T18:01:10+00:00",
          "2020-11-03T18:03:17+00:00"
         ],
         "xaxis": "x",
         "y": [
          2,
          2,
          2
         ],
         "yaxis": "y"
        },
        {
         "hovertemplate": "user_id=450<br>started_at=%{x}<br>score=%{y}<extra></extra>",
         "legendgroup": "450",
         "line": {
          "color": "#ab63fa",
          "dash": "solid"
         },
         "mode": "markers+lines",
         "name": "450",
         "orientation": "v",
         "showlegend": true,
         "type": "scatter",
         "x": [
          "2020-10-26T22:36:24+00:00",
          "2020-10-27T22:53:23+00:00",
          "2020-10-28T21:40:24+00:00"
         ],
         "xaxis": "x",
         "y": [
          2,
          3,
          2
         ],
         "yaxis": "y"
        },
        {
         "hovertemplate": "user_id=1294<br>started_at=%{x}<br>score=%{y}<extra></extra>",
         "legendgroup": "1294",
         "line": {
          "color": "#FFA15A",
          "dash": "solid"
         },
         "mode": "markers+lines",
         "name": "1294",
         "orientation": "v",
         "showlegend": true,
         "type": "scatter",
         "x": [
          "2020-10-26T22:42:25+00:00",
          "2020-10-27T21:19:50+00:00",
          "2020-10-29T02:42:29+00:00"
         ],
         "xaxis": "x",
         "y": [
          2,
          2,
          2
         ],
         "yaxis": "y"
        },
        {
         "hovertemplate": "user_id=1280<br>started_at=%{x}<br>score=%{y}<extra></extra>",
         "legendgroup": "1280",
         "line": {
          "color": "#19d3f3",
          "dash": "solid"
         },
         "mode": "markers+lines",
         "name": "1280",
         "orientation": "v",
         "showlegend": true,
         "type": "scatter",
         "x": [
          "2020-10-26T22:43:18+00:00",
          "2020-10-27T23:26:19+00:00",
          "2020-10-28T23:48:09+00:00"
         ],
         "xaxis": "x",
         "y": [
          2,
          2,
          3
         ],
         "yaxis": "y"
        },
        {
         "hovertemplate": "user_id=633<br>started_at=%{x}<br>score=%{y}<extra></extra>",
         "legendgroup": "633",
         "line": {
          "color": "#FF6692",
          "dash": "solid"
         },
         "mode": "markers+lines",
         "name": "633",
         "orientation": "v",
         "showlegend": true,
         "type": "scatter",
         "x": [
          "2020-10-26T22:45:34+00:00",
          "2020-10-26T22:47:46+00:00",
          "2020-10-27T22:49:41+00:00"
         ],
         "xaxis": "x",
         "y": [
          2,
          3,
          3
         ],
         "yaxis": "y"
        },
        {
         "hovertemplate": "user_id=536<br>started_at=%{x}<br>score=%{y}<extra></extra>",
         "legendgroup": "536",
         "line": {
          "color": "#B6E880",
          "dash": "solid"
         },
         "mode": "markers+lines",
         "name": "536",
         "orientation": "v",
         "showlegend": true,
         "type": "scatter",
         "x": [
          "2020-10-26T22:46:42+00:00",
          "2020-10-27T23:42:30+00:00",
          "2020-10-27T23:46:36+00:00"
         ],
         "xaxis": "x",
         "y": [
          2,
          3,
          3
         ],
         "yaxis": "y"
        },
        {
         "hovertemplate": "user_id=2450<br>started_at=%{x}<br>score=%{y}<extra></extra>",
         "legendgroup": "2450",
         "line": {
          "color": "#FF97FF",
          "dash": "solid"
         },
         "mode": "markers+lines",
         "name": "2450",
         "orientation": "v",
         "showlegend": true,
         "type": "scatter",
         "x": [
          "2020-10-26T22:49:58+00:00",
          "2020-11-13T22:27:47+00:00",
          "2020-11-13T22:28:13+00:00"
         ],
         "xaxis": "x",
         "y": [
          3,
          2,
          2
         ],
         "yaxis": "y"
        },
        {
         "hovertemplate": "user_id=168<br>started_at=%{x}<br>score=%{y}<extra></extra>",
         "legendgroup": "168",
         "line": {
          "color": "#FECB52",
          "dash": "solid"
         },
         "mode": "markers+lines",
         "name": "168",
         "orientation": "v",
         "showlegend": true,
         "type": "scatter",
         "x": [
          "2020-10-26T22:54:44+00:00",
          "2020-10-28T00:33:33+00:00",
          "2020-10-28T01:03:02+00:00"
         ],
         "xaxis": "x",
         "y": [
          2,
          2,
          2
         ],
         "yaxis": "y"
        },
        {
         "hovertemplate": "user_id=455<br>started_at=%{x}<br>score=%{y}<extra></extra>",
         "legendgroup": "455",
         "line": {
          "color": "#636efa",
          "dash": "solid"
         },
         "mode": "markers+lines",
         "name": "455",
         "orientation": "v",
         "showlegend": true,
         "type": "scatter",
         "x": [
          "2020-10-26T22:55:02+00:00",
          "2020-10-27T21:36:15+00:00",
          "2020-10-28T21:52:44+00:00"
         ],
         "xaxis": "x",
         "y": [
          2,
          3,
          2
         ],
         "yaxis": "y"
        },
        {
         "hovertemplate": "user_id=2880<br>started_at=%{x}<br>score=%{y}<extra></extra>",
         "legendgroup": "2880",
         "line": {
          "color": "#EF553B",
          "dash": "solid"
         },
         "mode": "markers+lines",
         "name": "2880",
         "orientation": "v",
         "showlegend": true,
         "type": "scatter",
         "x": [
          "2020-10-26T22:56:24+00:00",
          "2020-10-29T22:46:55+00:00",
          "2020-10-29T22:48:13+00:00"
         ],
         "xaxis": "x",
         "y": [
          2,
          2,
          2
         ],
         "yaxis": "y"
        },
        {
         "hovertemplate": "user_id=576<br>started_at=%{x}<br>score=%{y}<extra></extra>",
         "legendgroup": "576",
         "line": {
          "color": "#00cc96",
          "dash": "solid"
         },
         "mode": "markers+lines",
         "name": "576",
         "orientation": "v",
         "showlegend": true,
         "type": "scatter",
         "x": [
          "2020-10-26T23:04:10+00:00",
          "2020-10-27T21:21:25+00:00",
          "2020-10-28T15:59:37+00:00"
         ],
         "xaxis": "x",
         "y": [
          3,
          3,
          3
         ],
         "yaxis": "y"
        },
        {
         "hovertemplate": "user_id=2348<br>started_at=%{x}<br>score=%{y}<extra></extra>",
         "legendgroup": "2348",
         "line": {
          "color": "#ab63fa",
          "dash": "solid"
         },
         "mode": "markers+lines",
         "name": "2348",
         "orientation": "v",
         "showlegend": true,
         "type": "scatter",
         "x": [
          "2020-10-26T23:04:46+00:00",
          "2020-10-27T21:17:53+00:00",
          "2020-10-28T22:27:38+00:00"
         ],
         "xaxis": "x",
         "y": [
          2,
          2,
          2
         ],
         "yaxis": "y"
        },
        {
         "hovertemplate": "user_id=1120<br>started_at=%{x}<br>score=%{y}<extra></extra>",
         "legendgroup": "1120",
         "line": {
          "color": "#FFA15A",
          "dash": "solid"
         },
         "mode": "markers+lines",
         "name": "1120",
         "orientation": "v",
         "showlegend": true,
         "type": "scatter",
         "x": [
          "2020-10-26T23:05:17+00:00",
          "2020-10-28T00:50:55+00:00"
         ],
         "xaxis": "x",
         "y": [
          2,
          2
         ],
         "yaxis": "y"
        },
        {
         "hovertemplate": "user_id=2438<br>started_at=%{x}<br>score=%{y}<extra></extra>",
         "legendgroup": "2438",
         "line": {
          "color": "#19d3f3",
          "dash": "solid"
         },
         "mode": "markers+lines",
         "name": "2438",
         "orientation": "v",
         "showlegend": true,
         "type": "scatter",
         "x": [
          "2020-10-26T23:05:20+00:00",
          "2020-10-28T02:51:06+00:00",
          "2020-10-29T22:59:27+00:00"
         ],
         "xaxis": "x",
         "y": [
          2,
          2,
          2
         ],
         "yaxis": "y"
        },
        {
         "hovertemplate": "user_id=544<br>started_at=%{x}<br>score=%{y}<extra></extra>",
         "legendgroup": "544",
         "line": {
          "color": "#FF6692",
          "dash": "solid"
         },
         "mode": "markers+lines",
         "name": "544",
         "orientation": "v",
         "showlegend": true,
         "type": "scatter",
         "x": [
          "2020-10-26T23:08:10+00:00",
          "2020-10-27T23:03:01+00:00",
          "2020-11-05T22:50:24+00:00"
         ],
         "xaxis": "x",
         "y": [
          2,
          3,
          2
         ],
         "yaxis": "y"
        },
        {
         "hovertemplate": "user_id=261<br>started_at=%{x}<br>score=%{y}<extra></extra>",
         "legendgroup": "261",
         "line": {
          "color": "#B6E880",
          "dash": "solid"
         },
         "mode": "markers+lines",
         "name": "261",
         "orientation": "v",
         "showlegend": true,
         "type": "scatter",
         "x": [
          "2020-10-26T23:08:57+00:00",
          "2020-10-27T14:59:08+00:00",
          "2020-10-29T15:08:54+00:00",
          "2020-10-29T15:08:54+00:00"
         ],
         "xaxis": "x",
         "y": [
          2,
          2,
          2,
          1
         ],
         "yaxis": "y"
        },
        {
         "hovertemplate": "user_id=1011<br>started_at=%{x}<br>score=%{y}<extra></extra>",
         "legendgroup": "1011",
         "line": {
          "color": "#FF97FF",
          "dash": "solid"
         },
         "mode": "markers+lines",
         "name": "1011",
         "orientation": "v",
         "showlegend": true,
         "type": "scatter",
         "x": [
          "2020-10-26T23:10:51+00:00",
          "2020-10-26T23:11:21+00:00",
          "2020-11-19T20:38:41+00:00"
         ],
         "xaxis": "x",
         "y": [
          3,
          2,
          2
         ],
         "yaxis": "y"
        },
        {
         "hovertemplate": "user_id=606<br>started_at=%{x}<br>score=%{y}<extra></extra>",
         "legendgroup": "606",
         "line": {
          "color": "#FECB52",
          "dash": "solid"
         },
         "mode": "markers+lines",
         "name": "606",
         "orientation": "v",
         "showlegend": true,
         "type": "scatter",
         "x": [
          "2020-10-26T23:13:04+00:00",
          "2020-10-27T23:04:03+00:00",
          "2020-10-29T23:43:10+00:00"
         ],
         "xaxis": "x",
         "y": [
          2,
          2,
          2
         ],
         "yaxis": "y"
        },
        {
         "hovertemplate": "user_id=1158<br>started_at=%{x}<br>score=%{y}<extra></extra>",
         "legendgroup": "1158",
         "line": {
          "color": "#636efa",
          "dash": "solid"
         },
         "mode": "markers+lines",
         "name": "1158",
         "orientation": "v",
         "showlegend": true,
         "type": "scatter",
         "x": [
          "2020-10-26T23:13:44+00:00",
          "2020-10-26T23:13:50+00:00",
          "2020-10-28T23:50:58+00:00"
         ],
         "xaxis": "x",
         "y": [
          3,
          3,
          3
         ],
         "yaxis": "y"
        },
        {
         "hovertemplate": "user_id=247<br>started_at=%{x}<br>score=%{y}<extra></extra>",
         "legendgroup": "247",
         "line": {
          "color": "#EF553B",
          "dash": "solid"
         },
         "mode": "markers+lines",
         "name": "247",
         "orientation": "v",
         "showlegend": true,
         "type": "scatter",
         "x": [
          "2020-10-26T23:14:03+00:00"
         ],
         "xaxis": "x",
         "y": [
          3
         ],
         "yaxis": "y"
        },
        {
         "hovertemplate": "user_id=3356<br>started_at=%{x}<br>score=%{y}<extra></extra>",
         "legendgroup": "3356",
         "line": {
          "color": "#00cc96",
          "dash": "solid"
         },
         "mode": "markers+lines",
         "name": "3356",
         "orientation": "v",
         "showlegend": true,
         "type": "scatter",
         "x": [
          "2020-10-26T23:16:27+00:00",
          "2020-10-27T23:13:58+00:00",
          "2020-10-29T04:04:15+00:00"
         ],
         "xaxis": "x",
         "y": [
          2,
          3,
          2
         ],
         "yaxis": "y"
        },
        {
         "hovertemplate": "user_id=1232<br>started_at=%{x}<br>score=%{y}<extra></extra>",
         "legendgroup": "1232",
         "line": {
          "color": "#ab63fa",
          "dash": "solid"
         },
         "mode": "markers+lines",
         "name": "1232",
         "orientation": "v",
         "showlegend": true,
         "type": "scatter",
         "x": [
          "2020-10-26T23:19:25+00:00",
          "2020-10-26T23:20:24+00:00",
          "2020-10-28T00:08:15+00:00"
         ],
         "xaxis": "x",
         "y": [
          1,
          2,
          2
         ],
         "yaxis": "y"
        },
        {
         "hovertemplate": "user_id=2442<br>started_at=%{x}<br>score=%{y}<extra></extra>",
         "legendgroup": "2442",
         "line": {
          "color": "#FFA15A",
          "dash": "solid"
         },
         "mode": "markers+lines",
         "name": "2442",
         "orientation": "v",
         "showlegend": true,
         "type": "scatter",
         "x": [
          "2020-10-26T23:20:50+00:00",
          "2020-10-27T23:36:01+00:00",
          "2020-10-28T23:35:32+00:00"
         ],
         "xaxis": "x",
         "y": [
          2,
          2,
          2
         ],
         "yaxis": "y"
        },
        {
         "hovertemplate": "user_id=587<br>started_at=%{x}<br>score=%{y}<extra></extra>",
         "legendgroup": "587",
         "line": {
          "color": "#19d3f3",
          "dash": "solid"
         },
         "mode": "markers+lines",
         "name": "587",
         "orientation": "v",
         "showlegend": true,
         "type": "scatter",
         "x": [
          "2020-10-26T23:21:12+00:00",
          "2020-10-28T00:00:28+00:00",
          "2020-10-28T23:41:47+00:00"
         ],
         "xaxis": "x",
         "y": [
          2,
          3,
          2
         ],
         "yaxis": "y"
        },
        {
         "hovertemplate": "user_id=3278<br>started_at=%{x}<br>score=%{y}<extra></extra>",
         "legendgroup": "3278",
         "line": {
          "color": "#FF6692",
          "dash": "solid"
         },
         "mode": "markers+lines",
         "name": "3278",
         "orientation": "v",
         "showlegend": true,
         "type": "scatter",
         "x": [
          "2020-10-26T23:21:16+00:00",
          "2020-10-27T23:19:22+00:00",
          "2020-10-28T23:40:57+00:00"
         ],
         "xaxis": "x",
         "y": [
          2,
          2,
          2
         ],
         "yaxis": "y"
        },
        {
         "hovertemplate": "user_id=1141<br>started_at=%{x}<br>score=%{y}<extra></extra>",
         "legendgroup": "1141",
         "line": {
          "color": "#B6E880",
          "dash": "solid"
         },
         "mode": "markers+lines",
         "name": "1141",
         "orientation": "v",
         "showlegend": true,
         "type": "scatter",
         "x": [
          "2020-10-26T23:21:27+00:00",
          "2020-10-27T23:36:24+00:00",
          "2020-10-28T23:12:29+00:00"
         ],
         "xaxis": "x",
         "y": [
          3,
          3,
          3
         ],
         "yaxis": "y"
        },
        {
         "hovertemplate": "user_id=577<br>started_at=%{x}<br>score=%{y}<extra></extra>",
         "legendgroup": "577",
         "line": {
          "color": "#FF97FF",
          "dash": "solid"
         },
         "mode": "markers+lines",
         "name": "577",
         "orientation": "v",
         "showlegend": true,
         "type": "scatter",
         "x": [
          "2020-10-26T23:22:41+00:00",
          "2020-10-27T23:18:21+00:00",
          "2020-10-29T00:15:15+00:00",
          "2020-10-29T00:15:15+00:00"
         ],
         "xaxis": "x",
         "y": [
          2,
          2,
          1,
          2
         ],
         "yaxis": "y"
        },
        {
         "hovertemplate": "user_id=3128<br>started_at=%{x}<br>score=%{y}<extra></extra>",
         "legendgroup": "3128",
         "line": {
          "color": "#FECB52",
          "dash": "solid"
         },
         "mode": "markers+lines",
         "name": "3128",
         "orientation": "v",
         "showlegend": true,
         "type": "scatter",
         "x": [
          "2020-10-26T23:29:08+00:00"
         ],
         "xaxis": "x",
         "y": [
          2
         ],
         "yaxis": "y"
        },
        {
         "hovertemplate": "user_id=631<br>started_at=%{x}<br>score=%{y}<extra></extra>",
         "legendgroup": "631",
         "line": {
          "color": "#636efa",
          "dash": "solid"
         },
         "mode": "markers+lines",
         "name": "631",
         "orientation": "v",
         "showlegend": true,
         "type": "scatter",
         "x": [
          "2020-10-26T23:29:19+00:00",
          "2020-10-26T23:31:11+00:00",
          "2020-10-27T22:29:27+00:00"
         ],
         "xaxis": "x",
         "y": [
          2,
          2,
          2
         ],
         "yaxis": "y"
        },
        {
         "hovertemplate": "user_id=2797<br>started_at=%{x}<br>score=%{y}<extra></extra>",
         "legendgroup": "2797",
         "line": {
          "color": "#EF553B",
          "dash": "solid"
         },
         "mode": "markers+lines",
         "name": "2797",
         "orientation": "v",
         "showlegend": true,
         "type": "scatter",
         "x": [
          "2020-10-26T23:31:28+00:00",
          "2020-10-26T23:32:49+00:00",
          "2020-10-26T23:34:29+00:00"
         ],
         "xaxis": "x",
         "y": [
          3,
          3,
          3
         ],
         "yaxis": "y"
        },
        {
         "hovertemplate": "user_id=1274<br>started_at=%{x}<br>score=%{y}<extra></extra>",
         "legendgroup": "1274",
         "line": {
          "color": "#00cc96",
          "dash": "solid"
         },
         "mode": "markers+lines",
         "name": "1274",
         "orientation": "v",
         "showlegend": true,
         "type": "scatter",
         "x": [
          "2020-10-26T23:31:40+00:00",
          "2020-10-29T15:53:42+00:00",
          "2020-10-29T15:54:47+00:00"
         ],
         "xaxis": "x",
         "y": [
          2,
          1,
          1
         ],
         "yaxis": "y"
        },
        {
         "hovertemplate": "user_id=1271<br>started_at=%{x}<br>score=%{y}<extra></extra>",
         "legendgroup": "1271",
         "line": {
          "color": "#ab63fa",
          "dash": "solid"
         },
         "mode": "markers+lines",
         "name": "1271",
         "orientation": "v",
         "showlegend": true,
         "type": "scatter",
         "x": [
          "2020-10-26T23:31:50+00:00",
          "2020-11-05T00:10:05+00:00",
          "2020-11-05T00:16:33+00:00"
         ],
         "xaxis": "x",
         "y": [
          3,
          3,
          3
         ],
         "yaxis": "y"
        },
        {
         "hovertemplate": "user_id=3151<br>started_at=%{x}<br>score=%{y}<extra></extra>",
         "legendgroup": "3151",
         "line": {
          "color": "#FFA15A",
          "dash": "solid"
         },
         "mode": "markers+lines",
         "name": "3151",
         "orientation": "v",
         "showlegend": true,
         "type": "scatter",
         "x": [
          "2020-10-26T23:32:20+00:00",
          "2020-10-31T16:44:56+00:00",
          "2020-11-11T13:52:20+00:00"
         ],
         "xaxis": "x",
         "y": [
          3,
          3,
          3
         ],
         "yaxis": "y"
        },
        {
         "hovertemplate": "user_id=3300<br>started_at=%{x}<br>score=%{y}<extra></extra>",
         "legendgroup": "3300",
         "line": {
          "color": "#19d3f3",
          "dash": "solid"
         },
         "mode": "markers+lines",
         "name": "3300",
         "orientation": "v",
         "showlegend": true,
         "type": "scatter",
         "x": [
          "2020-10-26T23:33:30+00:00"
         ],
         "xaxis": "x",
         "y": [
          2
         ],
         "yaxis": "y"
        },
        {
         "hovertemplate": "user_id=1289<br>started_at=%{x}<br>score=%{y}<extra></extra>",
         "legendgroup": "1289",
         "line": {
          "color": "#FF6692",
          "dash": "solid"
         },
         "mode": "markers+lines",
         "name": "1289",
         "orientation": "v",
         "showlegend": true,
         "type": "scatter",
         "x": [
          "2020-10-26T23:36:05+00:00",
          "2020-10-27T23:49:29+00:00",
          "2020-10-29T01:13:02+00:00"
         ],
         "xaxis": "x",
         "y": [
          2,
          2,
          2
         ],
         "yaxis": "y"
        },
        {
         "hovertemplate": "user_id=2466<br>started_at=%{x}<br>score=%{y}<extra></extra>",
         "legendgroup": "2466",
         "line": {
          "color": "#B6E880",
          "dash": "solid"
         },
         "mode": "markers+lines",
         "name": "2466",
         "orientation": "v",
         "showlegend": true,
         "type": "scatter",
         "x": [
          "2020-10-26T23:37:34+00:00"
         ],
         "xaxis": "x",
         "y": [
          2
         ],
         "yaxis": "y"
        },
        {
         "hovertemplate": "user_id=1173<br>started_at=%{x}<br>score=%{y}<extra></extra>",
         "legendgroup": "1173",
         "line": {
          "color": "#FF97FF",
          "dash": "solid"
         },
         "mode": "markers+lines",
         "name": "1173",
         "orientation": "v",
         "showlegend": true,
         "type": "scatter",
         "x": [
          "2020-10-26T23:38:20+00:00",
          "2020-10-27T22:14:00+00:00"
         ],
         "xaxis": "x",
         "y": [
          3,
          3
         ],
         "yaxis": "y"
        },
        {
         "hovertemplate": "user_id=1277<br>started_at=%{x}<br>score=%{y}<extra></extra>",
         "legendgroup": "1277",
         "line": {
          "color": "#FECB52",
          "dash": "solid"
         },
         "mode": "markers+lines",
         "name": "1277",
         "orientation": "v",
         "showlegend": true,
         "type": "scatter",
         "x": [
          "2020-10-26T23:38:51+00:00",
          "2020-10-28T00:18:46+00:00",
          "2020-10-28T22:56:58+00:00"
         ],
         "xaxis": "x",
         "y": [
          3,
          3,
          3
         ],
         "yaxis": "y"
        },
        {
         "hovertemplate": "user_id=586<br>started_at=%{x}<br>score=%{y}<extra></extra>",
         "legendgroup": "586",
         "line": {
          "color": "#636efa",
          "dash": "solid"
         },
         "mode": "markers+lines",
         "name": "586",
         "orientation": "v",
         "showlegend": true,
         "type": "scatter",
         "x": [
          "2020-10-26T23:39:34+00:00",
          "2020-10-28T23:32:43+00:00"
         ],
         "xaxis": "x",
         "y": [
          3,
          3
         ],
         "yaxis": "y"
        },
        {
         "hovertemplate": "user_id=525<br>started_at=%{x}<br>score=%{y}<extra></extra>",
         "legendgroup": "525",
         "line": {
          "color": "#EF553B",
          "dash": "solid"
         },
         "mode": "markers+lines",
         "name": "525",
         "orientation": "v",
         "showlegend": true,
         "type": "scatter",
         "x": [
          "2020-10-26T23:40:07+00:00",
          "2020-10-28T23:21:37+00:00",
          "2020-10-29T14:38:15+00:00"
         ],
         "xaxis": "x",
         "y": [
          2,
          1,
          1
         ],
         "yaxis": "y"
        },
        {
         "hovertemplate": "user_id=1124<br>started_at=%{x}<br>score=%{y}<extra></extra>",
         "legendgroup": "1124",
         "line": {
          "color": "#00cc96",
          "dash": "solid"
         },
         "mode": "markers+lines",
         "name": "1124",
         "orientation": "v",
         "showlegend": true,
         "type": "scatter",
         "x": [
          "2020-10-26T23:40:33+00:00",
          "2020-10-27T23:55:12+00:00",
          "2020-10-28T23:33:38+00:00"
         ],
         "xaxis": "x",
         "y": [
          3,
          3,
          3
         ],
         "yaxis": "y"
        },
        {
         "hovertemplate": "user_id=3303<br>started_at=%{x}<br>score=%{y}<extra></extra>",
         "legendgroup": "3303",
         "line": {
          "color": "#ab63fa",
          "dash": "solid"
         },
         "mode": "markers+lines",
         "name": "3303",
         "orientation": "v",
         "showlegend": true,
         "type": "scatter",
         "x": [
          "2020-10-26T23:40:38+00:00",
          "2020-10-27T23:48:27+00:00",
          "2020-10-28T23:40:27+00:00"
         ],
         "xaxis": "x",
         "y": [
          2,
          2,
          2
         ],
         "yaxis": "y"
        },
        {
         "hovertemplate": "user_id=1266<br>started_at=%{x}<br>score=%{y}<extra></extra>",
         "legendgroup": "1266",
         "line": {
          "color": "#FFA15A",
          "dash": "solid"
         },
         "mode": "markers+lines",
         "name": "1266",
         "orientation": "v",
         "showlegend": true,
         "type": "scatter",
         "x": [
          "2020-10-26T23:40:42+00:00"
         ],
         "xaxis": "x",
         "y": [
          3
         ],
         "yaxis": "y"
        },
        {
         "hovertemplate": "user_id=3156<br>started_at=%{x}<br>score=%{y}<extra></extra>",
         "legendgroup": "3156",
         "line": {
          "color": "#19d3f3",
          "dash": "solid"
         },
         "mode": "markers+lines",
         "name": "3156",
         "orientation": "v",
         "showlegend": true,
         "type": "scatter",
         "x": [
          "2020-10-26T23:41:07+00:00",
          "2020-10-26T23:41:07+00:00",
          "2020-10-26T23:41:07+00:00"
         ],
         "xaxis": "x",
         "y": [
          1,
          2,
          1
         ],
         "yaxis": "y"
        },
        {
         "hovertemplate": "user_id=460<br>started_at=%{x}<br>score=%{y}<extra></extra>",
         "legendgroup": "460",
         "line": {
          "color": "#FF6692",
          "dash": "solid"
         },
         "mode": "markers+lines",
         "name": "460",
         "orientation": "v",
         "showlegend": true,
         "type": "scatter",
         "x": [
          "2020-10-26T23:42:09+00:00",
          "2020-10-27T21:20:18+00:00",
          "2020-10-29T15:28:42+00:00",
          "2020-10-29T15:28:42+00:00"
         ],
         "xaxis": "x",
         "y": [
          2,
          2,
          1,
          2
         ],
         "yaxis": "y"
        },
        {
         "hovertemplate": "user_id=3158<br>started_at=%{x}<br>score=%{y}<extra></extra>",
         "legendgroup": "3158",
         "line": {
          "color": "#B6E880",
          "dash": "solid"
         },
         "mode": "markers+lines",
         "name": "3158",
         "orientation": "v",
         "showlegend": true,
         "type": "scatter",
         "x": [
          "2020-10-26T23:42:11+00:00",
          "2020-10-27T23:16:55+00:00",
          "2020-10-28T23:18:10+00:00"
         ],
         "xaxis": "x",
         "y": [
          3,
          3,
          3
         ],
         "yaxis": "y"
        },
        {
         "hovertemplate": "user_id=1147<br>started_at=%{x}<br>score=%{y}<extra></extra>",
         "legendgroup": "1147",
         "line": {
          "color": "#FF97FF",
          "dash": "solid"
         },
         "mode": "markers+lines",
         "name": "1147",
         "orientation": "v",
         "showlegend": true,
         "type": "scatter",
         "x": [
          "2020-10-26T23:42:24+00:00",
          "2020-10-27T23:38:53+00:00",
          "2020-10-29T00:31:26+00:00"
         ],
         "xaxis": "x",
         "y": [
          2,
          2,
          2
         ],
         "yaxis": "y"
        },
        {
         "hovertemplate": "user_id=3355<br>started_at=%{x}<br>score=%{y}<extra></extra>",
         "legendgroup": "3355",
         "line": {
          "color": "#FECB52",
          "dash": "solid"
         },
         "mode": "markers+lines",
         "name": "3355",
         "orientation": "v",
         "showlegend": true,
         "type": "scatter",
         "x": [
          "2020-10-26T23:42:27+00:00",
          "2020-10-29T23:01:27+00:00",
          "2020-10-29T23:04:32+00:00",
          "2020-10-29T23:04:32+00:00"
         ],
         "xaxis": "x",
         "y": [
          2,
          2,
          1,
          2
         ],
         "yaxis": "y"
        },
        {
         "hovertemplate": "user_id=3167<br>started_at=%{x}<br>score=%{y}<extra></extra>",
         "legendgroup": "3167",
         "line": {
          "color": "#636efa",
          "dash": "solid"
         },
         "mode": "markers+lines",
         "name": "3167",
         "orientation": "v",
         "showlegend": true,
         "type": "scatter",
         "x": [
          "2020-10-26T23:43:30+00:00",
          "2020-10-29T01:47:15+00:00",
          "2020-10-29T01:48:48+00:00"
         ],
         "xaxis": "x",
         "y": [
          2,
          2,
          3
         ],
         "yaxis": "y"
        },
        {
         "hovertemplate": "user_id=3295<br>started_at=%{x}<br>score=%{y}<extra></extra>",
         "legendgroup": "3295",
         "line": {
          "color": "#EF553B",
          "dash": "solid"
         },
         "mode": "markers+lines",
         "name": "3295",
         "orientation": "v",
         "showlegend": true,
         "type": "scatter",
         "x": [
          "2020-10-26T23:43:34+00:00",
          "2020-10-28T23:32:41+00:00"
         ],
         "xaxis": "x",
         "y": [
          3,
          3
         ],
         "yaxis": "y"
        },
        {
         "hovertemplate": "user_id=1008<br>started_at=%{x}<br>score=%{y}<extra></extra>",
         "legendgroup": "1008",
         "line": {
          "color": "#00cc96",
          "dash": "solid"
         },
         "mode": "markers+lines",
         "name": "1008",
         "orientation": "v",
         "showlegend": true,
         "type": "scatter",
         "x": [
          "2020-10-26T23:43:40+00:00"
         ],
         "xaxis": "x",
         "y": [
          3
         ],
         "yaxis": "y"
        },
        {
         "hovertemplate": "user_id=3262<br>started_at=%{x}<br>score=%{y}<extra></extra>",
         "legendgroup": "3262",
         "line": {
          "color": "#ab63fa",
          "dash": "solid"
         },
         "mode": "markers+lines",
         "name": "3262",
         "orientation": "v",
         "showlegend": true,
         "type": "scatter",
         "x": [
          "2020-10-26T23:44:24+00:00",
          "2020-10-29T23:09:16+00:00"
         ],
         "xaxis": "x",
         "y": [
          2,
          2
         ],
         "yaxis": "y"
        },
        {
         "hovertemplate": "user_id=1188<br>started_at=%{x}<br>score=%{y}<extra></extra>",
         "legendgroup": "1188",
         "line": {
          "color": "#FFA15A",
          "dash": "solid"
         },
         "mode": "markers+lines",
         "name": "1188",
         "orientation": "v",
         "showlegend": true,
         "type": "scatter",
         "x": [
          "2020-10-26T23:44:32+00:00",
          "2020-10-28T23:37:58+00:00"
         ],
         "xaxis": "x",
         "y": [
          3,
          3
         ],
         "yaxis": "y"
        },
        {
         "hovertemplate": "user_id=3344<br>started_at=%{x}<br>score=%{y}<extra></extra>",
         "legendgroup": "3344",
         "line": {
          "color": "#19d3f3",
          "dash": "solid"
         },
         "mode": "markers+lines",
         "name": "3344",
         "orientation": "v",
         "showlegend": true,
         "type": "scatter",
         "x": [
          "2020-10-26T23:46:12+00:00",
          "2020-11-02T16:25:36+00:00"
         ],
         "xaxis": "x",
         "y": [
          2,
          2
         ],
         "yaxis": "y"
        },
        {
         "hovertemplate": "user_id=543<br>started_at=%{x}<br>score=%{y}<extra></extra>",
         "legendgroup": "543",
         "line": {
          "color": "#FF6692",
          "dash": "solid"
         },
         "mode": "markers+lines",
         "name": "543",
         "orientation": "v",
         "showlegend": true,
         "type": "scatter",
         "x": [
          "2020-10-26T23:48:20+00:00",
          "2020-10-27T23:39:16+00:00"
         ],
         "xaxis": "x",
         "y": [
          2,
          3
         ],
         "yaxis": "y"
        },
        {
         "hovertemplate": "user_id=595<br>started_at=%{x}<br>score=%{y}<extra></extra>",
         "legendgroup": "595",
         "line": {
          "color": "#B6E880",
          "dash": "solid"
         },
         "mode": "markers+lines",
         "name": "595",
         "orientation": "v",
         "showlegend": true,
         "type": "scatter",
         "x": [
          "2020-10-26T23:50:12+00:00",
          "2020-11-06T00:31:15+00:00",
          "2020-11-06T00:31:55+00:00"
         ],
         "xaxis": "x",
         "y": [
          2,
          2,
          2
         ],
         "yaxis": "y"
        },
        {
         "hovertemplate": "user_id=561<br>started_at=%{x}<br>score=%{y}<extra></extra>",
         "legendgroup": "561",
         "line": {
          "color": "#FF97FF",
          "dash": "solid"
         },
         "mode": "markers+lines",
         "name": "561",
         "orientation": "v",
         "showlegend": true,
         "type": "scatter",
         "x": [
          "2020-10-26T23:52:58+00:00",
          "2020-10-26T23:53:53+00:00"
         ],
         "xaxis": "x",
         "y": [
          3,
          3
         ],
         "yaxis": "y"
        },
        {
         "hovertemplate": "user_id=257<br>started_at=%{x}<br>score=%{y}<extra></extra>",
         "legendgroup": "257",
         "line": {
          "color": "#FECB52",
          "dash": "solid"
         },
         "mode": "markers+lines",
         "name": "257",
         "orientation": "v",
         "showlegend": true,
         "type": "scatter",
         "x": [
          "2020-10-26T23:55:06+00:00",
          "2020-10-27T22:20:02+00:00",
          "2020-10-28T23:37:34+00:00"
         ],
         "xaxis": "x",
         "y": [
          2,
          2,
          2
         ],
         "yaxis": "y"
        },
        {
         "hovertemplate": "user_id=3287<br>started_at=%{x}<br>score=%{y}<extra></extra>",
         "legendgroup": "3287",
         "line": {
          "color": "#636efa",
          "dash": "solid"
         },
         "mode": "markers+lines",
         "name": "3287",
         "orientation": "v",
         "showlegend": true,
         "type": "scatter",
         "x": [
          "2020-10-27T00:00:07+00:00",
          "2020-10-27T22:56:15+00:00",
          "2020-10-28T23:34:48+00:00"
         ],
         "xaxis": "x",
         "y": [
          2,
          2,
          2
         ],
         "yaxis": "y"
        },
        {
         "hovertemplate": "user_id=522<br>started_at=%{x}<br>score=%{y}<extra></extra>",
         "legendgroup": "522",
         "line": {
          "color": "#EF553B",
          "dash": "solid"
         },
         "mode": "markers+lines",
         "name": "522",
         "orientation": "v",
         "showlegend": true,
         "type": "scatter",
         "x": [
          "2020-10-27T00:02:54+00:00",
          "2020-10-27T00:04:15+00:00",
          "2020-10-29T22:47:32+00:00"
         ],
         "xaxis": "x",
         "y": [
          3,
          3,
          3
         ],
         "yaxis": "y"
        },
        {
         "hovertemplate": "user_id=1257<br>started_at=%{x}<br>score=%{y}<extra></extra>",
         "legendgroup": "1257",
         "line": {
          "color": "#00cc96",
          "dash": "solid"
         },
         "mode": "markers+lines",
         "name": "1257",
         "orientation": "v",
         "showlegend": true,
         "type": "scatter",
         "x": [
          "2020-10-27T00:03:32+00:00"
         ],
         "xaxis": "x",
         "y": [
          2
         ],
         "yaxis": "y"
        },
        {
         "hovertemplate": "user_id=621<br>started_at=%{x}<br>score=%{y}<extra></extra>",
         "legendgroup": "621",
         "line": {
          "color": "#ab63fa",
          "dash": "solid"
         },
         "mode": "markers+lines",
         "name": "621",
         "orientation": "v",
         "showlegend": true,
         "type": "scatter",
         "x": [
          "2020-10-27T00:03:54+00:00",
          "2020-10-27T00:04:29+00:00"
         ],
         "xaxis": "x",
         "y": [
          3,
          3
         ],
         "yaxis": "y"
        },
        {
         "hovertemplate": "user_id=1177<br>started_at=%{x}<br>score=%{y}<extra></extra>",
         "legendgroup": "1177",
         "line": {
          "color": "#FFA15A",
          "dash": "solid"
         },
         "mode": "markers+lines",
         "name": "1177",
         "orientation": "v",
         "showlegend": true,
         "type": "scatter",
         "x": [
          "2020-10-27T00:06:10+00:00",
          "2020-10-27T00:06:58+00:00",
          "2020-10-29T23:02:50+00:00"
         ],
         "xaxis": "x",
         "y": [
          3,
          3,
          3
         ],
         "yaxis": "y"
        },
        {
         "hovertemplate": "user_id=3152<br>started_at=%{x}<br>score=%{y}<extra></extra>",
         "legendgroup": "3152",
         "line": {
          "color": "#19d3f3",
          "dash": "solid"
         },
         "mode": "markers+lines",
         "name": "3152",
         "orientation": "v",
         "showlegend": true,
         "type": "scatter",
         "x": [
          "2020-10-27T00:13:25+00:00",
          "2020-10-30T04:07:20+00:00",
          "2020-10-30T04:08:14+00:00"
         ],
         "xaxis": "x",
         "y": [
          2,
          3,
          3
         ],
         "yaxis": "y"
        },
        {
         "hovertemplate": "user_id=1178<br>started_at=%{x}<br>score=%{y}<extra></extra>",
         "legendgroup": "1178",
         "line": {
          "color": "#FF6692",
          "dash": "solid"
         },
         "mode": "markers+lines",
         "name": "1178",
         "orientation": "v",
         "showlegend": true,
         "type": "scatter",
         "x": [
          "2020-10-27T00:17:50+00:00",
          "2020-10-28T00:15:20+00:00",
          "2020-10-30T16:46:35+00:00"
         ],
         "xaxis": "x",
         "y": [
          2,
          2,
          2
         ],
         "yaxis": "y"
        },
        {
         "hovertemplate": "user_id=2429<br>started_at=%{x}<br>score=%{y}<extra></extra>",
         "legendgroup": "2429",
         "line": {
          "color": "#B6E880",
          "dash": "solid"
         },
         "mode": "markers+lines",
         "name": "2429",
         "orientation": "v",
         "showlegend": true,
         "type": "scatter",
         "x": [
          "2020-10-27T00:17:54+00:00",
          "2020-10-28T00:04:20+00:00",
          "2020-10-28T23:12:50+00:00"
         ],
         "xaxis": "x",
         "y": [
          3,
          3,
          3
         ],
         "yaxis": "y"
        },
        {
         "hovertemplate": "user_id=1116<br>started_at=%{x}<br>score=%{y}<extra></extra>",
         "legendgroup": "1116",
         "line": {
          "color": "#FF97FF",
          "dash": "solid"
         },
         "mode": "markers+lines",
         "name": "1116",
         "orientation": "v",
         "showlegend": true,
         "type": "scatter",
         "x": [
          "2020-10-27T00:19:08+00:00",
          "2020-10-27T23:55:34+00:00",
          "2020-10-29T01:09:14+00:00"
         ],
         "xaxis": "x",
         "y": [
          3,
          3,
          3
         ],
         "yaxis": "y"
        },
        {
         "hovertemplate": "user_id=3308<br>started_at=%{x}<br>score=%{y}<extra></extra>",
         "legendgroup": "3308",
         "line": {
          "color": "#FECB52",
          "dash": "solid"
         },
         "mode": "markers+lines",
         "name": "3308",
         "orientation": "v",
         "showlegend": true,
         "type": "scatter",
         "x": [
          "2020-10-27T00:19:33+00:00",
          "2020-10-27T22:02:22+00:00",
          "2020-10-29T13:56:23+00:00"
         ],
         "xaxis": "x",
         "y": [
          3,
          3,
          3
         ],
         "yaxis": "y"
        },
        {
         "hovertemplate": "user_id=618<br>started_at=%{x}<br>score=%{y}<extra></extra>",
         "legendgroup": "618",
         "line": {
          "color": "#636efa",
          "dash": "solid"
         },
         "mode": "markers+lines",
         "name": "618",
         "orientation": "v",
         "showlegend": true,
         "type": "scatter",
         "x": [
          "2020-10-27T00:28:58+00:00",
          "2020-10-27T00:30:30+00:00",
          "2020-10-28T22:34:00+00:00"
         ],
         "xaxis": "x",
         "y": [
          2,
          3,
          3
         ],
         "yaxis": "y"
        },
        {
         "hovertemplate": "user_id=2449<br>started_at=%{x}<br>score=%{y}<extra></extra>",
         "legendgroup": "2449",
         "line": {
          "color": "#EF553B",
          "dash": "solid"
         },
         "mode": "markers+lines",
         "name": "2449",
         "orientation": "v",
         "showlegend": true,
         "type": "scatter",
         "x": [
          "2020-10-27T00:30:52+00:00",
          "2020-10-29T15:05:19+00:00"
         ],
         "xaxis": "x",
         "y": [
          2,
          2
         ],
         "yaxis": "y"
        },
        {
         "hovertemplate": "user_id=1194<br>started_at=%{x}<br>score=%{y}<extra></extra>",
         "legendgroup": "1194",
         "line": {
          "color": "#00cc96",
          "dash": "solid"
         },
         "mode": "markers+lines",
         "name": "1194",
         "orientation": "v",
         "showlegend": true,
         "type": "scatter",
         "x": [
          "2020-10-27T00:33:22+00:00",
          "2020-10-28T02:14:41+00:00",
          "2020-10-29T07:00:49+00:00"
         ],
         "xaxis": "x",
         "y": [
          3,
          3,
          3
         ],
         "yaxis": "y"
        },
        {
         "hovertemplate": "user_id=1163<br>started_at=%{x}<br>score=%{y}<extra></extra>",
         "legendgroup": "1163",
         "line": {
          "color": "#ab63fa",
          "dash": "solid"
         },
         "mode": "markers+lines",
         "name": "1163",
         "orientation": "v",
         "showlegend": true,
         "type": "scatter",
         "x": [
          "2020-10-27T00:38:06+00:00",
          "2020-10-27T23:55:07+00:00",
          "2020-10-28T23:49:35+00:00"
         ],
         "xaxis": "x",
         "y": [
          2,
          2,
          2
         ],
         "yaxis": "y"
        },
        {
         "hovertemplate": "user_id=3267<br>started_at=%{x}<br>score=%{y}<extra></extra>",
         "legendgroup": "3267",
         "line": {
          "color": "#FFA15A",
          "dash": "solid"
         },
         "mode": "markers+lines",
         "name": "3267",
         "orientation": "v",
         "showlegend": true,
         "type": "scatter",
         "x": [
          "2020-10-27T00:38:22+00:00",
          "2020-10-29T23:03:19+00:00",
          "2020-11-02T23:54:11+00:00"
         ],
         "xaxis": "x",
         "y": [
          2,
          2,
          2
         ],
         "yaxis": "y"
        },
        {
         "hovertemplate": "user_id=2444<br>started_at=%{x}<br>score=%{y}<extra></extra>",
         "legendgroup": "2444",
         "line": {
          "color": "#19d3f3",
          "dash": "solid"
         },
         "mode": "markers+lines",
         "name": "2444",
         "orientation": "v",
         "showlegend": true,
         "type": "scatter",
         "x": [
          "2020-10-27T00:40:33+00:00",
          "2020-10-27T21:14:46+00:00",
          "2020-10-28T23:22:28+00:00"
         ],
         "xaxis": "x",
         "y": [
          2,
          2,
          2
         ],
         "yaxis": "y"
        },
        {
         "hovertemplate": "user_id=1144<br>started_at=%{x}<br>score=%{y}<extra></extra>",
         "legendgroup": "1144",
         "line": {
          "color": "#FF6692",
          "dash": "solid"
         },
         "mode": "markers+lines",
         "name": "1144",
         "orientation": "v",
         "showlegend": true,
         "type": "scatter",
         "x": [
          "2020-10-27T00:40:53+00:00",
          "2020-10-28T00:20:11+00:00",
          "2020-10-29T01:42:22+00:00"
         ],
         "xaxis": "x",
         "y": [
          3,
          3,
          3
         ],
         "yaxis": "y"
        },
        {
         "hovertemplate": "user_id=3316<br>started_at=%{x}<br>score=%{y}<extra></extra>",
         "legendgroup": "3316",
         "line": {
          "color": "#B6E880",
          "dash": "solid"
         },
         "mode": "markers+lines",
         "name": "3316",
         "orientation": "v",
         "showlegend": true,
         "type": "scatter",
         "x": [
          "2020-10-27T00:42:58+00:00",
          "2020-10-27T00:42:58+00:00",
          "2020-10-27T23:49:46+00:00",
          "2020-10-29T00:40:31+00:00"
         ],
         "xaxis": "x",
         "y": [
          2,
          1,
          3,
          2
         ],
         "yaxis": "y"
        },
        {
         "hovertemplate": "user_id=1215<br>started_at=%{x}<br>score=%{y}<extra></extra>",
         "legendgroup": "1215",
         "line": {
          "color": "#FF97FF",
          "dash": "solid"
         },
         "mode": "markers+lines",
         "name": "1215",
         "orientation": "v",
         "showlegend": true,
         "type": "scatter",
         "x": [
          "2020-10-27T00:47:29+00:00",
          "2020-10-29T14:42:14+00:00",
          "2020-10-29T14:52:03+00:00"
         ],
         "xaxis": "x",
         "y": [
          2,
          2,
          3
         ],
         "yaxis": "y"
        },
        {
         "hovertemplate": "user_id=2415<br>started_at=%{x}<br>score=%{y}<extra></extra>",
         "legendgroup": "2415",
         "line": {
          "color": "#FECB52",
          "dash": "solid"
         },
         "mode": "markers+lines",
         "name": "2415",
         "orientation": "v",
         "showlegend": true,
         "type": "scatter",
         "x": [
          "2020-10-27T00:56:33+00:00",
          "2020-10-28T00:04:52+00:00",
          "2020-10-29T01:33:21+00:00"
         ],
         "xaxis": "x",
         "y": [
          2,
          2,
          2
         ],
         "yaxis": "y"
        },
        {
         "hovertemplate": "user_id=3263<br>started_at=%{x}<br>score=%{y}<extra></extra>",
         "legendgroup": "3263",
         "line": {
          "color": "#636efa",
          "dash": "solid"
         },
         "mode": "markers+lines",
         "name": "3263",
         "orientation": "v",
         "showlegend": true,
         "type": "scatter",
         "x": [
          "2020-10-27T00:56:43+00:00",
          "2020-10-27T23:52:37+00:00",
          "2020-10-29T23:06:48+00:00"
         ],
         "xaxis": "x",
         "y": [
          2,
          2,
          2
         ],
         "yaxis": "y"
        },
        {
         "hovertemplate": "user_id=2422<br>started_at=%{x}<br>score=%{y}<extra></extra>",
         "legendgroup": "2422",
         "line": {
          "color": "#EF553B",
          "dash": "solid"
         },
         "mode": "markers+lines",
         "name": "2422",
         "orientation": "v",
         "showlegend": true,
         "type": "scatter",
         "x": [
          "2020-10-27T00:58:19+00:00"
         ],
         "xaxis": "x",
         "y": [
          1
         ],
         "yaxis": "y"
        },
        {
         "hovertemplate": "user_id=3301<br>started_at=%{x}<br>score=%{y}<extra></extra>",
         "legendgroup": "3301",
         "line": {
          "color": "#00cc96",
          "dash": "solid"
         },
         "mode": "markers+lines",
         "name": "3301",
         "orientation": "v",
         "showlegend": true,
         "type": "scatter",
         "x": [
          "2020-10-27T01:03:11+00:00",
          "2020-10-28T04:04:09+00:00",
          "2020-10-28T21:57:45+00:00"
         ],
         "xaxis": "x",
         "y": [
          2,
          2,
          2
         ],
         "yaxis": "y"
        },
        {
         "hovertemplate": "user_id=2353<br>started_at=%{x}<br>score=%{y}<extra></extra>",
         "legendgroup": "2353",
         "line": {
          "color": "#ab63fa",
          "dash": "solid"
         },
         "mode": "markers+lines",
         "name": "2353",
         "orientation": "v",
         "showlegend": true,
         "type": "scatter",
         "x": [
          "2020-10-27T01:03:25+00:00",
          "2020-10-27T01:04:19+00:00",
          "2020-10-27T01:04:46+00:00"
         ],
         "xaxis": "x",
         "y": [
          2,
          2,
          2
         ],
         "yaxis": "y"
        },
        {
         "hovertemplate": "user_id=3302<br>started_at=%{x}<br>score=%{y}<extra></extra>",
         "legendgroup": "3302",
         "line": {
          "color": "#FFA15A",
          "dash": "solid"
         },
         "mode": "markers+lines",
         "name": "3302",
         "orientation": "v",
         "showlegend": true,
         "type": "scatter",
         "x": [
          "2020-10-27T01:06:08+00:00",
          "2020-10-27T05:18:07+00:00",
          "2020-10-29T06:44:35+00:00"
         ],
         "xaxis": "x",
         "y": [
          2,
          2,
          3
         ],
         "yaxis": "y"
        },
        {
         "hovertemplate": "user_id=892<br>started_at=%{x}<br>score=%{y}<extra></extra>",
         "legendgroup": "892",
         "line": {
          "color": "#19d3f3",
          "dash": "solid"
         },
         "mode": "markers+lines",
         "name": "892",
         "orientation": "v",
         "showlegend": true,
         "type": "scatter",
         "x": [
          "2020-10-27T01:12:42+00:00",
          "2020-10-28T04:51:40+00:00",
          "2020-10-29T03:52:55+00:00"
         ],
         "xaxis": "x",
         "y": [
          2,
          2,
          2
         ],
         "yaxis": "y"
        },
        {
         "hovertemplate": "user_id=3306<br>started_at=%{x}<br>score=%{y}<extra></extra>",
         "legendgroup": "3306",
         "line": {
          "color": "#FF6692",
          "dash": "solid"
         },
         "mode": "markers+lines",
         "name": "3306",
         "orientation": "v",
         "showlegend": true,
         "type": "scatter",
         "x": [
          "2020-10-27T01:20:09+00:00",
          "2020-10-27T23:02:24+00:00",
          "2020-10-29T23:10:27+00:00"
         ],
         "xaxis": "x",
         "y": [
          2,
          2,
          3
         ],
         "yaxis": "y"
        },
        {
         "hovertemplate": "user_id=893<br>started_at=%{x}<br>score=%{y}<extra></extra>",
         "legendgroup": "893",
         "line": {
          "color": "#B6E880",
          "dash": "solid"
         },
         "mode": "markers+lines",
         "name": "893",
         "orientation": "v",
         "showlegend": true,
         "type": "scatter",
         "x": [
          "2020-10-27T01:25:41+00:00",
          "2020-10-27T21:38:49+00:00",
          "2020-10-29T14:55:51+00:00"
         ],
         "xaxis": "x",
         "y": [
          2,
          2,
          2
         ],
         "yaxis": "y"
        },
        {
         "hovertemplate": "user_id=1263<br>started_at=%{x}<br>score=%{y}<extra></extra>",
         "legendgroup": "1263",
         "line": {
          "color": "#FF97FF",
          "dash": "solid"
         },
         "mode": "markers+lines",
         "name": "1263",
         "orientation": "v",
         "showlegend": true,
         "type": "scatter",
         "x": [
          "2020-10-27T01:27:36+00:00",
          "2020-10-27T01:30:11+00:00",
          "2020-10-28T23:29:05+00:00"
         ],
         "xaxis": "x",
         "y": [
          2,
          2,
          3
         ],
         "yaxis": "y"
        },
        {
         "hovertemplate": "user_id=1123<br>started_at=%{x}<br>score=%{y}<extra></extra>",
         "legendgroup": "1123",
         "line": {
          "color": "#FECB52",
          "dash": "solid"
         },
         "mode": "markers+lines",
         "name": "1123",
         "orientation": "v",
         "showlegend": true,
         "type": "scatter",
         "x": [
          "2020-10-27T01:36:25+00:00",
          "2020-10-28T02:04:52+00:00",
          "2020-10-29T03:56:30+00:00"
         ],
         "xaxis": "x",
         "y": [
          3,
          3,
          3
         ],
         "yaxis": "y"
        },
        {
         "hovertemplate": "user_id=3140<br>started_at=%{x}<br>score=%{y}<extra></extra>",
         "legendgroup": "3140",
         "line": {
          "color": "#636efa",
          "dash": "solid"
         },
         "mode": "markers+lines",
         "name": "3140",
         "orientation": "v",
         "showlegend": true,
         "type": "scatter",
         "x": [
          "2020-10-27T01:46:54+00:00",
          "2020-10-30T17:47:27+00:00",
          "2020-10-30T17:48:08+00:00"
         ],
         "xaxis": "x",
         "y": [
          3,
          3,
          2
         ],
         "yaxis": "y"
        },
        {
         "hovertemplate": "user_id=1192<br>started_at=%{x}<br>score=%{y}<extra></extra>",
         "legendgroup": "1192",
         "line": {
          "color": "#EF553B",
          "dash": "solid"
         },
         "mode": "markers+lines",
         "name": "1192",
         "orientation": "v",
         "showlegend": true,
         "type": "scatter",
         "x": [
          "2020-10-27T01:50:06+00:00",
          "2020-10-28T00:39:51+00:00",
          "2020-10-28T00:39:51+00:00",
          "2020-10-28T23:15:47+00:00"
         ],
         "xaxis": "x",
         "y": [
          3,
          2,
          3,
          3
         ],
         "yaxis": "y"
        },
        {
         "hovertemplate": "user_id=2421<br>started_at=%{x}<br>score=%{y}<extra></extra>",
         "legendgroup": "2421",
         "line": {
          "color": "#00cc96",
          "dash": "solid"
         },
         "mode": "markers+lines",
         "name": "2421",
         "orientation": "v",
         "showlegend": true,
         "type": "scatter",
         "x": [
          "2020-10-27T02:02:36+00:00",
          "2020-10-28T23:51:29+00:00"
         ],
         "xaxis": "x",
         "y": [
          2,
          2
         ],
         "yaxis": "y"
        },
        {
         "hovertemplate": "user_id=3304<br>started_at=%{x}<br>score=%{y}<extra></extra>",
         "legendgroup": "3304",
         "line": {
          "color": "#ab63fa",
          "dash": "solid"
         },
         "mode": "markers+lines",
         "name": "3304",
         "orientation": "v",
         "showlegend": true,
         "type": "scatter",
         "x": [
          "2020-10-27T02:31:47+00:00",
          "2020-10-27T21:11:55+00:00",
          "2020-10-28T23:55:38+00:00"
         ],
         "xaxis": "x",
         "y": [
          3,
          3,
          3
         ],
         "yaxis": "y"
        },
        {
         "hovertemplate": "user_id=3277<br>started_at=%{x}<br>score=%{y}<extra></extra>",
         "legendgroup": "3277",
         "line": {
          "color": "#FFA15A",
          "dash": "solid"
         },
         "mode": "markers+lines",
         "name": "3277",
         "orientation": "v",
         "showlegend": true,
         "type": "scatter",
         "x": [
          "2020-10-27T02:31:51+00:00",
          "2020-10-28T01:50:36+00:00",
          "2020-10-29T05:50:46+00:00"
         ],
         "xaxis": "x",
         "y": [
          2,
          2,
          3
         ],
         "yaxis": "y"
        },
        {
         "hovertemplate": "user_id=1292<br>started_at=%{x}<br>score=%{y}<extra></extra>",
         "legendgroup": "1292",
         "line": {
          "color": "#19d3f3",
          "dash": "solid"
         },
         "mode": "markers+lines",
         "name": "1292",
         "orientation": "v",
         "showlegend": true,
         "type": "scatter",
         "x": [
          "2020-10-27T02:54:41+00:00",
          "2020-10-28T00:03:47+00:00",
          "2020-10-28T23:48:52+00:00"
         ],
         "xaxis": "x",
         "y": [
          2,
          2,
          2
         ],
         "yaxis": "y"
        },
        {
         "hovertemplate": "user_id=558<br>started_at=%{x}<br>score=%{y}<extra></extra>",
         "legendgroup": "558",
         "line": {
          "color": "#FF6692",
          "dash": "solid"
         },
         "mode": "markers+lines",
         "name": "558",
         "orientation": "v",
         "showlegend": true,
         "type": "scatter",
         "x": [
          "2020-10-27T02:58:21+00:00",
          "2020-10-28T02:19:29+00:00",
          "2020-10-30T01:32:11+00:00"
         ],
         "xaxis": "x",
         "y": [
          3,
          2,
          2
         ],
         "yaxis": "y"
        },
        {
         "hovertemplate": "user_id=625<br>started_at=%{x}<br>score=%{y}<extra></extra>",
         "legendgroup": "625",
         "line": {
          "color": "#B6E880",
          "dash": "solid"
         },
         "mode": "markers+lines",
         "name": "625",
         "orientation": "v",
         "showlegend": true,
         "type": "scatter",
         "x": [
          "2020-10-27T03:16:00+00:00",
          "2020-10-28T13:41:39+00:00",
          "2020-10-29T00:19:54+00:00"
         ],
         "xaxis": "x",
         "y": [
          2,
          3,
          2
         ],
         "yaxis": "y"
        },
        {
         "hovertemplate": "user_id=2454<br>started_at=%{x}<br>score=%{y}<extra></extra>",
         "legendgroup": "2454",
         "line": {
          "color": "#FF97FF",
          "dash": "solid"
         },
         "mode": "markers+lines",
         "name": "2454",
         "orientation": "v",
         "showlegend": true,
         "type": "scatter",
         "x": [
          "2020-10-27T03:35:21+00:00",
          "2020-10-28T15:46:54+00:00",
          "2020-10-29T01:18:37+00:00"
         ],
         "xaxis": "x",
         "y": [
          2,
          3,
          3
         ],
         "yaxis": "y"
        },
        {
         "hovertemplate": "user_id=2404<br>started_at=%{x}<br>score=%{y}<extra></extra>",
         "legendgroup": "2404",
         "line": {
          "color": "#FECB52",
          "dash": "solid"
         },
         "mode": "markers+lines",
         "name": "2404",
         "orientation": "v",
         "showlegend": true,
         "type": "scatter",
         "x": [
          "2020-10-27T03:40:31+00:00",
          "2020-10-29T04:29:42+00:00",
          "2020-10-29T04:31:12+00:00"
         ],
         "xaxis": "x",
         "y": [
          2,
          2,
          2
         ],
         "yaxis": "y"
        },
        {
         "hovertemplate": "user_id=2457<br>started_at=%{x}<br>score=%{y}<extra></extra>",
         "legendgroup": "2457",
         "line": {
          "color": "#636efa",
          "dash": "solid"
         },
         "mode": "markers+lines",
         "name": "2457",
         "orientation": "v",
         "showlegend": true,
         "type": "scatter",
         "x": [
          "2020-10-27T04:43:40+00:00",
          "2020-10-27T21:41:29+00:00",
          "2020-10-29T02:24:47+00:00"
         ],
         "xaxis": "x",
         "y": [
          2,
          2,
          2
         ],
         "yaxis": "y"
        },
        {
         "hovertemplate": "user_id=3132<br>started_at=%{x}<br>score=%{y}<extra></extra>",
         "legendgroup": "3132",
         "line": {
          "color": "#EF553B",
          "dash": "solid"
         },
         "mode": "markers+lines",
         "name": "3132",
         "orientation": "v",
         "showlegend": true,
         "type": "scatter",
         "x": [
          "2020-10-27T05:17:53+00:00",
          "2020-10-27T05:35:43+00:00"
         ],
         "xaxis": "x",
         "y": [
          3,
          3
         ],
         "yaxis": "y"
        },
        {
         "hovertemplate": "user_id=826<br>started_at=%{x}<br>score=%{y}<extra></extra>",
         "legendgroup": "826",
         "line": {
          "color": "#00cc96",
          "dash": "solid"
         },
         "mode": "markers+lines",
         "name": "826",
         "orientation": "v",
         "showlegend": true,
         "type": "scatter",
         "x": [
          "2020-10-27T05:51:37+00:00",
          "2020-10-28T00:27:37+00:00",
          "2020-10-29T05:19:29+00:00"
         ],
         "xaxis": "x",
         "y": [
          2,
          2,
          2
         ],
         "yaxis": "y"
        },
        {
         "hovertemplate": "user_id=492<br>started_at=%{x}<br>score=%{y}<extra></extra>",
         "legendgroup": "492",
         "line": {
          "color": "#ab63fa",
          "dash": "solid"
         },
         "mode": "markers+lines",
         "name": "492",
         "orientation": "v",
         "showlegend": true,
         "type": "scatter",
         "x": [
          "2020-10-27T06:36:04+00:00",
          "2020-10-28T05:56:22+00:00"
         ],
         "xaxis": "x",
         "y": [
          2,
          2
         ],
         "yaxis": "y"
        },
        {
         "hovertemplate": "user_id=2431<br>started_at=%{x}<br>score=%{y}<extra></extra>",
         "legendgroup": "2431",
         "line": {
          "color": "#FFA15A",
          "dash": "solid"
         },
         "mode": "markers+lines",
         "name": "2431",
         "orientation": "v",
         "showlegend": true,
         "type": "scatter",
         "x": [
          "2020-10-27T07:16:37+00:00",
          "2020-10-28T13:15:22+00:00",
          "2020-10-29T04:50:02+00:00"
         ],
         "xaxis": "x",
         "y": [
          2,
          2,
          2
         ],
         "yaxis": "y"
        },
        {
         "hovertemplate": "user_id=2441<br>started_at=%{x}<br>score=%{y}<extra></extra>",
         "legendgroup": "2441",
         "line": {
          "color": "#19d3f3",
          "dash": "solid"
         },
         "mode": "markers+lines",
         "name": "2441",
         "orientation": "v",
         "showlegend": true,
         "type": "scatter",
         "x": [
          "2020-10-27T12:30:54+00:00",
          "2020-10-27T12:31:50+00:00",
          "2020-10-27T12:32:18+00:00"
         ],
         "xaxis": "x",
         "y": [
          2,
          2,
          2
         ],
         "yaxis": "y"
        },
        {
         "hovertemplate": "user_id=529<br>started_at=%{x}<br>score=%{y}<extra></extra>",
         "legendgroup": "529",
         "line": {
          "color": "#FF6692",
          "dash": "solid"
         },
         "mode": "markers+lines",
         "name": "529",
         "orientation": "v",
         "showlegend": true,
         "type": "scatter",
         "x": [
          "2020-10-27T12:40:19+00:00",
          "2020-10-27T23:27:54+00:00",
          "2020-10-29T19:37:06+00:00"
         ],
         "xaxis": "x",
         "y": [
          2,
          1,
          3
         ],
         "yaxis": "y"
        },
        {
         "hovertemplate": "user_id=3281<br>started_at=%{x}<br>score=%{y}<extra></extra>",
         "legendgroup": "3281",
         "line": {
          "color": "#B6E880",
          "dash": "solid"
         },
         "mode": "markers+lines",
         "name": "3281",
         "orientation": "v",
         "showlegend": true,
         "type": "scatter",
         "x": [
          "2020-10-27T14:02:36+00:00",
          "2020-10-31T19:09:51+00:00",
          "2020-10-31T19:18:46+00:00"
         ],
         "xaxis": "x",
         "y": [
          3,
          3,
          1
         ],
         "yaxis": "y"
        },
        {
         "hovertemplate": "user_id=502<br>started_at=%{x}<br>score=%{y}<extra></extra>",
         "legendgroup": "502",
         "line": {
          "color": "#FF97FF",
          "dash": "solid"
         },
         "mode": "markers+lines",
         "name": "502",
         "orientation": "v",
         "showlegend": true,
         "type": "scatter",
         "x": [
          "2020-10-27T14:13:52+00:00",
          "2020-10-27T21:01:07+00:00",
          "2020-10-29T22:08:07+00:00"
         ],
         "xaxis": "x",
         "y": [
          2,
          3,
          2
         ],
         "yaxis": "y"
        },
        {
         "hovertemplate": "user_id=2437<br>started_at=%{x}<br>score=%{y}<extra></extra>",
         "legendgroup": "2437",
         "line": {
          "color": "#FECB52",
          "dash": "solid"
         },
         "mode": "markers+lines",
         "name": "2437",
         "orientation": "v",
         "showlegend": true,
         "type": "scatter",
         "x": [
          "2020-10-27T14:21:40+00:00",
          "2020-10-27T14:22:43+00:00",
          "2020-10-29T03:35:13+00:00"
         ],
         "xaxis": "x",
         "y": [
          3,
          2,
          3
         ],
         "yaxis": "y"
        },
        {
         "hovertemplate": "user_id=1186<br>started_at=%{x}<br>score=%{y}<extra></extra>",
         "legendgroup": "1186",
         "line": {
          "color": "#636efa",
          "dash": "solid"
         },
         "mode": "markers+lines",
         "name": "1186",
         "orientation": "v",
         "showlegend": true,
         "type": "scatter",
         "x": [
          "2020-10-27T14:42:32+00:00",
          "2020-10-28T03:46:11+00:00",
          "2020-10-29T01:10:51+00:00"
         ],
         "xaxis": "x",
         "y": [
          2,
          2,
          2
         ],
         "yaxis": "y"
        },
        {
         "hovertemplate": "user_id=617<br>started_at=%{x}<br>score=%{y}<extra></extra>",
         "legendgroup": "617",
         "line": {
          "color": "#EF553B",
          "dash": "solid"
         },
         "mode": "markers+lines",
         "name": "617",
         "orientation": "v",
         "showlegend": true,
         "type": "scatter",
         "x": [
          "2020-10-27T15:00:21+00:00",
          "2020-10-27T23:25:18+00:00",
          "2020-11-05T01:14:36+00:00"
         ],
         "xaxis": "x",
         "y": [
          2,
          1,
          2
         ],
         "yaxis": "y"
        },
        {
         "hovertemplate": "user_id=1114<br>started_at=%{x}<br>score=%{y}<extra></extra>",
         "legendgroup": "1114",
         "line": {
          "color": "#00cc96",
          "dash": "solid"
         },
         "mode": "markers+lines",
         "name": "1114",
         "orientation": "v",
         "showlegend": true,
         "type": "scatter",
         "x": [
          "2020-10-27T15:01:14+00:00",
          "2020-10-27T23:27:53+00:00",
          "2020-10-29T00:21:56+00:00"
         ],
         "xaxis": "x",
         "y": [
          3,
          3,
          3
         ],
         "yaxis": "y"
        },
        {
         "hovertemplate": "user_id=2426<br>started_at=%{x}<br>score=%{y}<extra></extra>",
         "legendgroup": "2426",
         "line": {
          "color": "#ab63fa",
          "dash": "solid"
         },
         "mode": "markers+lines",
         "name": "2426",
         "orientation": "v",
         "showlegend": true,
         "type": "scatter",
         "x": [
          "2020-10-27T15:07:50+00:00",
          "2020-10-28T15:14:03+00:00",
          "2020-10-29T21:02:07+00:00"
         ],
         "xaxis": "x",
         "y": [
          2,
          2,
          2
         ],
         "yaxis": "y"
        },
        {
         "hovertemplate": "user_id=3169<br>started_at=%{x}<br>score=%{y}<extra></extra>",
         "legendgroup": "3169",
         "line": {
          "color": "#FFA15A",
          "dash": "solid"
         },
         "mode": "markers+lines",
         "name": "3169",
         "orientation": "v",
         "showlegend": true,
         "type": "scatter",
         "x": [
          "2020-10-27T15:28:51+00:00"
         ],
         "xaxis": "x",
         "y": [
          3
         ],
         "yaxis": "y"
        },
        {
         "hovertemplate": "user_id=532<br>started_at=%{x}<br>score=%{y}<extra></extra>",
         "legendgroup": "532",
         "line": {
          "color": "#19d3f3",
          "dash": "solid"
         },
         "mode": "markers+lines",
         "name": "532",
         "orientation": "v",
         "showlegend": true,
         "type": "scatter",
         "x": [
          "2020-10-27T15:53:34+00:00",
          "2020-10-27T21:29:49+00:00"
         ],
         "xaxis": "x",
         "y": [
          2,
          2
         ],
         "yaxis": "y"
        },
        {
         "hovertemplate": "user_id=514<br>started_at=%{x}<br>score=%{y}<extra></extra>",
         "legendgroup": "514",
         "line": {
          "color": "#FF6692",
          "dash": "solid"
         },
         "mode": "markers+lines",
         "name": "514",
         "orientation": "v",
         "showlegend": true,
         "type": "scatter",
         "x": [
          "2020-10-27T18:11:10+00:00",
          "2020-10-27T23:41:32+00:00",
          "2020-10-28T23:33:27+00:00"
         ],
         "xaxis": "x",
         "y": [
          2,
          2,
          2
         ],
         "yaxis": "y"
        },
        {
         "hovertemplate": "user_id=1108<br>started_at=%{x}<br>score=%{y}<extra></extra>",
         "legendgroup": "1108",
         "line": {
          "color": "#B6E880",
          "dash": "solid"
         },
         "mode": "markers+lines",
         "name": "1108",
         "orientation": "v",
         "showlegend": true,
         "type": "scatter",
         "x": [
          "2020-10-27T18:28:27+00:00",
          "2020-11-11T23:47:59+00:00"
         ],
         "xaxis": "x",
         "y": [
          2,
          3
         ],
         "yaxis": "y"
        },
        {
         "hovertemplate": "user_id=3276<br>started_at=%{x}<br>score=%{y}<extra></extra>",
         "legendgroup": "3276",
         "line": {
          "color": "#FF97FF",
          "dash": "solid"
         },
         "mode": "markers+lines",
         "name": "3276",
         "orientation": "v",
         "showlegend": true,
         "type": "scatter",
         "x": [
          "2020-10-27T19:21:31+00:00",
          "2020-10-28T06:53:31+00:00",
          "2020-10-28T23:51:45+00:00",
          "2020-10-28T23:51:45+00:00"
         ],
         "xaxis": "x",
         "y": [
          3,
          3,
          3,
          2
         ],
         "yaxis": "y"
        },
        {
         "hovertemplate": "user_id=1262<br>started_at=%{x}<br>score=%{y}<extra></extra>",
         "legendgroup": "1262",
         "line": {
          "color": "#FECB52",
          "dash": "solid"
         },
         "mode": "markers+lines",
         "name": "1262",
         "orientation": "v",
         "showlegend": true,
         "type": "scatter",
         "x": [
          "2020-10-27T19:52:51+00:00",
          "2020-10-27T19:52:51+00:00",
          "2020-10-27T22:57:54+00:00",
          "2020-10-29T00:02:52+00:00"
         ],
         "xaxis": "x",
         "y": [
          2,
          3,
          3,
          3
         ],
         "yaxis": "y"
        },
        {
         "hovertemplate": "user_id=601<br>started_at=%{x}<br>score=%{y}<extra></extra>",
         "legendgroup": "601",
         "line": {
          "color": "#636efa",
          "dash": "solid"
         },
         "mode": "markers+lines",
         "name": "601",
         "orientation": "v",
         "showlegend": true,
         "type": "scatter",
         "x": [
          "2020-10-27T20:28:40+00:00",
          "2020-10-29T21:21:17+00:00",
          "2020-10-29T21:21:37+00:00"
         ],
         "xaxis": "x",
         "y": [
          3,
          3,
          3
         ],
         "yaxis": "y"
        },
        {
         "hovertemplate": "user_id=77<br>started_at=%{x}<br>score=%{y}<extra></extra>",
         "legendgroup": "77",
         "line": {
          "color": "#EF553B",
          "dash": "solid"
         },
         "mode": "markers+lines",
         "name": "77",
         "orientation": "v",
         "showlegend": true,
         "type": "scatter",
         "x": [
          "2020-10-27T20:32:29+00:00",
          "2020-10-28T22:46:27+00:00",
          "2020-10-29T22:09:53+00:00"
         ],
         "xaxis": "x",
         "y": [
          3,
          3,
          3
         ],
         "yaxis": "y"
        },
        {
         "hovertemplate": "user_id=3273<br>started_at=%{x}<br>score=%{y}<extra></extra>",
         "legendgroup": "3273",
         "line": {
          "color": "#00cc96",
          "dash": "solid"
         },
         "mode": "markers+lines",
         "name": "3273",
         "orientation": "v",
         "showlegend": true,
         "type": "scatter",
         "x": [
          "2020-10-27T20:44:43+00:00",
          "2020-10-28T22:54:50+00:00",
          "2020-10-30T17:03:59+00:00"
         ],
         "xaxis": "x",
         "y": [
          2,
          2,
          2
         ],
         "yaxis": "y"
        },
        {
         "hovertemplate": "user_id=555<br>started_at=%{x}<br>score=%{y}<extra></extra>",
         "legendgroup": "555",
         "line": {
          "color": "#ab63fa",
          "dash": "solid"
         },
         "mode": "markers+lines",
         "name": "555",
         "orientation": "v",
         "showlegend": true,
         "type": "scatter",
         "x": [
          "2020-10-27T20:57:25+00:00",
          "2020-10-27T20:57:25+00:00",
          "2020-10-27T23:42:40+00:00",
          "2020-10-28T23:49:41+00:00"
         ],
         "xaxis": "x",
         "y": [
          3,
          2,
          2,
          2
         ],
         "yaxis": "y"
        },
        {
         "hovertemplate": "user_id=3139<br>started_at=%{x}<br>score=%{y}<extra></extra>",
         "legendgroup": "3139",
         "line": {
          "color": "#FFA15A",
          "dash": "solid"
         },
         "mode": "markers+lines",
         "name": "3139",
         "orientation": "v",
         "showlegend": true,
         "type": "scatter",
         "x": [
          "2020-10-27T20:57:26+00:00",
          "2020-10-27T20:58:15+00:00",
          "2020-10-28T23:27:16+00:00"
         ],
         "xaxis": "x",
         "y": [
          2,
          2,
          2
         ],
         "yaxis": "y"
        },
        {
         "hovertemplate": "user_id=3298<br>started_at=%{x}<br>score=%{y}<extra></extra>",
         "legendgroup": "3298",
         "line": {
          "color": "#19d3f3",
          "dash": "solid"
         },
         "mode": "markers+lines",
         "name": "3298",
         "orientation": "v",
         "showlegend": true,
         "type": "scatter",
         "x": [
          "2020-10-27T20:58:09+00:00",
          "2020-10-27T21:04:33+00:00",
          "2020-10-28T23:26:22+00:00"
         ],
         "xaxis": "x",
         "y": [
          3,
          3,
          3
         ],
         "yaxis": "y"
        },
        {
         "hovertemplate": "user_id=2726<br>started_at=%{x}<br>score=%{y}<extra></extra>",
         "legendgroup": "2726",
         "line": {
          "color": "#FF6692",
          "dash": "solid"
         },
         "mode": "markers+lines",
         "name": "2726",
         "orientation": "v",
         "showlegend": true,
         "type": "scatter",
         "x": [
          "2020-10-27T21:08:00+00:00",
          "2020-10-28T21:02:55+00:00",
          "2020-10-29T01:50:33+00:00"
         ],
         "xaxis": "x",
         "y": [
          3,
          3,
          2
         ],
         "yaxis": "y"
        },
        {
         "hovertemplate": "user_id=453<br>started_at=%{x}<br>score=%{y}<extra></extra>",
         "legendgroup": "453",
         "line": {
          "color": "#B6E880",
          "dash": "solid"
         },
         "mode": "markers+lines",
         "name": "453",
         "orientation": "v",
         "showlegend": true,
         "type": "scatter",
         "x": [
          "2020-10-27T21:09:22+00:00",
          "2020-10-28T23:04:05+00:00"
         ],
         "xaxis": "x",
         "y": [
          3,
          1
         ],
         "yaxis": "y"
        },
        {
         "hovertemplate": "user_id=2452<br>started_at=%{x}<br>score=%{y}<extra></extra>",
         "legendgroup": "2452",
         "line": {
          "color": "#FF97FF",
          "dash": "solid"
         },
         "mode": "markers+lines",
         "name": "2452",
         "orientation": "v",
         "showlegend": true,
         "type": "scatter",
         "x": [
          "2020-10-27T21:12:57+00:00",
          "2020-10-27T23:29:57+00:00",
          "2020-10-29T01:15:13+00:00"
         ],
         "xaxis": "x",
         "y": [
          3,
          3,
          2
         ],
         "yaxis": "y"
        },
        {
         "hovertemplate": "user_id=3339<br>started_at=%{x}<br>score=%{y}<extra></extra>",
         "legendgroup": "3339",
         "line": {
          "color": "#FECB52",
          "dash": "solid"
         },
         "mode": "markers+lines",
         "name": "3339",
         "orientation": "v",
         "showlegend": true,
         "type": "scatter",
         "x": [
          "2020-10-27T21:13:02+00:00",
          "2020-10-27T21:14:33+00:00",
          "2020-10-29T23:05:01+00:00"
         ],
         "xaxis": "x",
         "y": [
          3,
          3,
          3
         ],
         "yaxis": "y"
        },
        {
         "hovertemplate": "user_id=2458<br>started_at=%{x}<br>score=%{y}<extra></extra>",
         "legendgroup": "2458",
         "line": {
          "color": "#636efa",
          "dash": "solid"
         },
         "mode": "markers+lines",
         "name": "2458",
         "orientation": "v",
         "showlegend": true,
         "type": "scatter",
         "x": [
          "2020-10-27T21:19:11+00:00",
          "2020-11-13T15:56:28+00:00"
         ],
         "xaxis": "x",
         "y": [
          2,
          2
         ],
         "yaxis": "y"
        },
        {
         "hovertemplate": "user_id=3268<br>started_at=%{x}<br>score=%{y}<extra></extra>",
         "legendgroup": "3268",
         "line": {
          "color": "#EF553B",
          "dash": "solid"
         },
         "mode": "markers+lines",
         "name": "3268",
         "orientation": "v",
         "showlegend": true,
         "type": "scatter",
         "x": [
          "2020-10-27T21:21:35+00:00",
          "2020-10-28T20:40:17+00:00",
          "2020-10-30T22:02:49+00:00"
         ],
         "xaxis": "x",
         "y": [
          3,
          3,
          2
         ],
         "yaxis": "y"
        },
        {
         "hovertemplate": "user_id=623<br>started_at=%{x}<br>score=%{y}<extra></extra>",
         "legendgroup": "623",
         "line": {
          "color": "#00cc96",
          "dash": "solid"
         },
         "mode": "markers+lines",
         "name": "623",
         "orientation": "v",
         "showlegend": true,
         "type": "scatter",
         "x": [
          "2020-10-27T21:22:13+00:00"
         ],
         "xaxis": "x",
         "y": [
          2
         ],
         "yaxis": "y"
        },
        {
         "hovertemplate": "user_id=590<br>started_at=%{x}<br>score=%{y}<extra></extra>",
         "legendgroup": "590",
         "line": {
          "color": "#ab63fa",
          "dash": "solid"
         },
         "mode": "markers+lines",
         "name": "590",
         "orientation": "v",
         "showlegend": true,
         "type": "scatter",
         "x": [
          "2020-10-27T21:32:31+00:00"
         ],
         "xaxis": "x",
         "y": [
          1
         ],
         "yaxis": "y"
        },
        {
         "hovertemplate": "user_id=3322<br>started_at=%{x}<br>score=%{y}<extra></extra>",
         "legendgroup": "3322",
         "line": {
          "color": "#FFA15A",
          "dash": "solid"
         },
         "mode": "markers+lines",
         "name": "3322",
         "orientation": "v",
         "showlegend": true,
         "type": "scatter",
         "x": [
          "2020-10-27T21:48:18+00:00",
          "2020-10-28T06:29:51+00:00",
          "2020-10-28T06:35:26+00:00"
         ],
         "xaxis": "x",
         "y": [
          3,
          3,
          2
         ],
         "yaxis": "y"
        },
        {
         "hovertemplate": "user_id=82<br>started_at=%{x}<br>score=%{y}<extra></extra>",
         "legendgroup": "82",
         "line": {
          "color": "#19d3f3",
          "dash": "solid"
         },
         "mode": "markers+lines",
         "name": "82",
         "orientation": "v",
         "showlegend": true,
         "type": "scatter",
         "x": [
          "2020-10-27T21:54:13+00:00"
         ],
         "xaxis": "x",
         "y": [
          2
         ],
         "yaxis": "y"
        },
        {
         "hovertemplate": "user_id=3341<br>started_at=%{x}<br>score=%{y}<extra></extra>",
         "legendgroup": "3341",
         "line": {
          "color": "#FF6692",
          "dash": "solid"
         },
         "mode": "markers+lines",
         "name": "3341",
         "orientation": "v",
         "showlegend": true,
         "type": "scatter",
         "x": [
          "2020-10-27T22:06:14+00:00",
          "2020-10-28T20:42:14+00:00"
         ],
         "xaxis": "x",
         "y": [
          2,
          2
         ],
         "yaxis": "y"
        },
        {
         "hovertemplate": "user_id=2456<br>started_at=%{x}<br>score=%{y}<extra></extra>",
         "legendgroup": "2456",
         "line": {
          "color": "#B6E880",
          "dash": "solid"
         },
         "mode": "markers+lines",
         "name": "2456",
         "orientation": "v",
         "showlegend": true,
         "type": "scatter",
         "x": [
          "2020-10-27T22:11:17+00:00",
          "2020-10-27T23:29:39+00:00",
          "2020-10-29T05:37:27+00:00"
         ],
         "xaxis": "x",
         "y": [
          3,
          3,
          3
         ],
         "yaxis": "y"
        },
        {
         "hovertemplate": "user_id=2460<br>started_at=%{x}<br>score=%{y}<extra></extra>",
         "legendgroup": "2460",
         "line": {
          "color": "#FF97FF",
          "dash": "solid"
         },
         "mode": "markers+lines",
         "name": "2460",
         "orientation": "v",
         "showlegend": true,
         "type": "scatter",
         "x": [
          "2020-10-27T22:13:35+00:00"
         ],
         "xaxis": "x",
         "y": [
          3
         ],
         "yaxis": "y"
        },
        {
         "hovertemplate": "user_id=3311<br>started_at=%{x}<br>score=%{y}<extra></extra>",
         "legendgroup": "3311",
         "line": {
          "color": "#FECB52",
          "dash": "solid"
         },
         "mode": "markers+lines",
         "name": "3311",
         "orientation": "v",
         "showlegend": true,
         "type": "scatter",
         "x": [
          "2020-10-27T22:15:59+00:00",
          "2020-10-28T22:34:23+00:00"
         ],
         "xaxis": "x",
         "y": [
          2,
          2
         ],
         "yaxis": "y"
        },
        {
         "hovertemplate": "user_id=458<br>started_at=%{x}<br>score=%{y}<extra></extra>",
         "legendgroup": "458",
         "line": {
          "color": "#636efa",
          "dash": "solid"
         },
         "mode": "markers+lines",
         "name": "458",
         "orientation": "v",
         "showlegend": true,
         "type": "scatter",
         "x": [
          "2020-10-27T22:17:57+00:00"
         ],
         "xaxis": "x",
         "y": [
          3
         ],
         "yaxis": "y"
        },
        {
         "hovertemplate": "user_id=570<br>started_at=%{x}<br>score=%{y}<extra></extra>",
         "legendgroup": "570",
         "line": {
          "color": "#EF553B",
          "dash": "solid"
         },
         "mode": "markers+lines",
         "name": "570",
         "orientation": "v",
         "showlegend": true,
         "type": "scatter",
         "x": [
          "2020-10-27T22:33:08+00:00",
          "2020-10-27T23:41:59+00:00"
         ],
         "xaxis": "x",
         "y": [
          1,
          1
         ],
         "yaxis": "y"
        },
        {
         "hovertemplate": "user_id=123<br>started_at=%{x}<br>score=%{y}<extra></extra>",
         "legendgroup": "123",
         "line": {
          "color": "#00cc96",
          "dash": "solid"
         },
         "mode": "markers+lines",
         "name": "123",
         "orientation": "v",
         "showlegend": true,
         "type": "scatter",
         "x": [
          "2020-10-27T22:34:44+00:00",
          "2020-10-28T22:45:46+00:00",
          "2020-10-29T20:35:35+00:00"
         ],
         "xaxis": "x",
         "y": [
          2,
          2,
          2
         ],
         "yaxis": "y"
        },
        {
         "hovertemplate": "user_id=3357<br>started_at=%{x}<br>score=%{y}<extra></extra>",
         "legendgroup": "3357",
         "line": {
          "color": "#ab63fa",
          "dash": "solid"
         },
         "mode": "markers+lines",
         "name": "3357",
         "orientation": "v",
         "showlegend": true,
         "type": "scatter",
         "x": [
          "2020-10-27T22:44:39+00:00",
          "2020-10-27T23:57:10+00:00",
          "2020-10-30T18:13:42+00:00"
         ],
         "xaxis": "x",
         "y": [
          3,
          2,
          3
         ],
         "yaxis": "y"
        },
        {
         "hovertemplate": "user_id=3309<br>started_at=%{x}<br>score=%{y}<extra></extra>",
         "legendgroup": "3309",
         "line": {
          "color": "#FFA15A",
          "dash": "solid"
         },
         "mode": "markers+lines",
         "name": "3309",
         "orientation": "v",
         "showlegend": true,
         "type": "scatter",
         "x": [
          "2020-10-27T22:47:36+00:00",
          "2020-10-27T22:49:07+00:00"
         ],
         "xaxis": "x",
         "y": [
          2,
          2
         ],
         "yaxis": "y"
        },
        {
         "hovertemplate": "user_id=3269<br>started_at=%{x}<br>score=%{y}<extra></extra>",
         "legendgroup": "3269",
         "line": {
          "color": "#19d3f3",
          "dash": "solid"
         },
         "mode": "markers+lines",
         "name": "3269",
         "orientation": "v",
         "showlegend": true,
         "type": "scatter",
         "x": [
          "2020-10-27T22:54:18+00:00",
          "2020-10-28T22:29:08+00:00",
          "2020-10-28T23:00:11+00:00"
         ],
         "xaxis": "x",
         "y": [
          3,
          2,
          2
         ],
         "yaxis": "y"
        },
        {
         "hovertemplate": "user_id=1217<br>started_at=%{x}<br>score=%{y}<extra></extra>",
         "legendgroup": "1217",
         "line": {
          "color": "#FF6692",
          "dash": "solid"
         },
         "mode": "markers+lines",
         "name": "1217",
         "orientation": "v",
         "showlegend": true,
         "type": "scatter",
         "x": [
          "2020-10-27T22:56:31+00:00"
         ],
         "xaxis": "x",
         "y": [
          2
         ],
         "yaxis": "y"
        },
        {
         "hovertemplate": "user_id=3312<br>started_at=%{x}<br>score=%{y}<extra></extra>",
         "legendgroup": "3312",
         "line": {
          "color": "#B6E880",
          "dash": "solid"
         },
         "mode": "markers+lines",
         "name": "3312",
         "orientation": "v",
         "showlegend": true,
         "type": "scatter",
         "x": [
          "2020-10-27T22:57:06+00:00",
          "2020-10-28T19:09:59+00:00",
          "2020-10-30T03:23:06+00:00"
         ],
         "xaxis": "x",
         "y": [
          3,
          3,
          2
         ],
         "yaxis": "y"
        },
        {
         "hovertemplate": "user_id=2865<br>started_at=%{x}<br>score=%{y}<extra></extra>",
         "legendgroup": "2865",
         "line": {
          "color": "#FF97FF",
          "dash": "solid"
         },
         "mode": "markers+lines",
         "name": "2865",
         "orientation": "v",
         "showlegend": true,
         "type": "scatter",
         "x": [
          "2020-10-27T22:57:24+00:00",
          "2020-10-27T23:19:23+00:00",
          "2020-10-28T23:17:03+00:00"
         ],
         "xaxis": "x",
         "y": [
          3,
          3,
          3
         ],
         "yaxis": "y"
        },
        {
         "hovertemplate": "user_id=541<br>started_at=%{x}<br>score=%{y}<extra></extra>",
         "legendgroup": "541",
         "line": {
          "color": "#FECB52",
          "dash": "solid"
         },
         "mode": "markers+lines",
         "name": "541",
         "orientation": "v",
         "showlegend": true,
         "type": "scatter",
         "x": [
          "2020-10-27T22:59:36+00:00",
          "2020-10-29T01:11:16+00:00"
         ],
         "xaxis": "x",
         "y": [
          3,
          3
         ],
         "yaxis": "y"
        },
        {
         "hovertemplate": "user_id=1122<br>started_at=%{x}<br>score=%{y}<extra></extra>",
         "legendgroup": "1122",
         "line": {
          "color": "#636efa",
          "dash": "solid"
         },
         "mode": "markers+lines",
         "name": "1122",
         "orientation": "v",
         "showlegend": true,
         "type": "scatter",
         "x": [
          "2020-10-27T23:01:55+00:00"
         ],
         "xaxis": "x",
         "y": [
          2
         ],
         "yaxis": "y"
        },
        {
         "hovertemplate": "user_id=3265<br>started_at=%{x}<br>score=%{y}<extra></extra>",
         "legendgroup": "3265",
         "line": {
          "color": "#EF553B",
          "dash": "solid"
         },
         "mode": "markers+lines",
         "name": "3265",
         "orientation": "v",
         "showlegend": true,
         "type": "scatter",
         "x": [
          "2020-10-27T23:02:26+00:00",
          "2020-10-28T23:28:11+00:00"
         ],
         "xaxis": "x",
         "y": [
          3,
          3
         ],
         "yaxis": "y"
        },
        {
         "hovertemplate": "user_id=524<br>started_at=%{x}<br>score=%{y}<extra></extra>",
         "legendgroup": "524",
         "line": {
          "color": "#00cc96",
          "dash": "solid"
         },
         "mode": "markers+lines",
         "name": "524",
         "orientation": "v",
         "showlegend": true,
         "type": "scatter",
         "x": [
          "2020-10-27T23:03:14+00:00"
         ],
         "xaxis": "x",
         "y": [
          3
         ],
         "yaxis": "y"
        },
        {
         "hovertemplate": "user_id=608<br>started_at=%{x}<br>score=%{y}<extra></extra>",
         "legendgroup": "608",
         "line": {
          "color": "#ab63fa",
          "dash": "solid"
         },
         "mode": "markers+lines",
         "name": "608",
         "orientation": "v",
         "showlegend": true,
         "type": "scatter",
         "x": [
          "2020-10-27T23:03:24+00:00",
          "2020-10-28T00:07:49+00:00"
         ],
         "xaxis": "x",
         "y": [
          2,
          2
         ],
         "yaxis": "y"
        },
        {
         "hovertemplate": "user_id=3264<br>started_at=%{x}<br>score=%{y}<extra></extra>",
         "legendgroup": "3264",
         "line": {
          "color": "#FFA15A",
          "dash": "solid"
         },
         "mode": "markers+lines",
         "name": "3264",
         "orientation": "v",
         "showlegend": true,
         "type": "scatter",
         "x": [
          "2020-10-27T23:05:24+00:00",
          "2020-10-27T23:29:49+00:00",
          "2020-10-28T23:23:52+00:00"
         ],
         "xaxis": "x",
         "y": [
          3,
          3,
          3
         ],
         "yaxis": "y"
        },
        {
         "hovertemplate": "user_id=998<br>started_at=%{x}<br>score=%{y}<extra></extra>",
         "legendgroup": "998",
         "line": {
          "color": "#19d3f3",
          "dash": "solid"
         },
         "mode": "markers+lines",
         "name": "998",
         "orientation": "v",
         "showlegend": true,
         "type": "scatter",
         "x": [
          "2020-10-27T23:06:06+00:00",
          "2020-10-27T23:35:37+00:00",
          "2020-10-29T02:51:52+00:00"
         ],
         "xaxis": "x",
         "y": [
          3,
          2,
          3
         ],
         "yaxis": "y"
        },
        {
         "hovertemplate": "user_id=3162<br>started_at=%{x}<br>score=%{y}<extra></extra>",
         "legendgroup": "3162",
         "line": {
          "color": "#FF6692",
          "dash": "solid"
         },
         "mode": "markers+lines",
         "name": "3162",
         "orientation": "v",
         "showlegend": true,
         "type": "scatter",
         "x": [
          "2020-10-27T23:07:45+00:00"
         ],
         "xaxis": "x",
         "y": [
          2
         ],
         "yaxis": "y"
        },
        {
         "hovertemplate": "user_id=2419<br>started_at=%{x}<br>score=%{y}<extra></extra>",
         "legendgroup": "2419",
         "line": {
          "color": "#B6E880",
          "dash": "solid"
         },
         "mode": "markers+lines",
         "name": "2419",
         "orientation": "v",
         "showlegend": true,
         "type": "scatter",
         "x": [
          "2020-10-27T23:11:18+00:00",
          "2020-10-27T23:11:49+00:00",
          "2020-10-28T23:10:24+00:00"
         ],
         "xaxis": "x",
         "y": [
          2,
          2,
          2
         ],
         "yaxis": "y"
        },
        {
         "hovertemplate": "user_id=3157<br>started_at=%{x}<br>score=%{y}<extra></extra>",
         "legendgroup": "3157",
         "line": {
          "color": "#FF97FF",
          "dash": "solid"
         },
         "mode": "markers+lines",
         "name": "3157",
         "orientation": "v",
         "showlegend": true,
         "type": "scatter",
         "x": [
          "2020-10-27T23:14:49+00:00",
          "2020-10-27T23:59:20+00:00",
          "2020-10-28T23:40:11+00:00"
         ],
         "xaxis": "x",
         "y": [
          3,
          3,
          3
         ],
         "yaxis": "y"
        },
        {
         "hovertemplate": "user_id=3147<br>started_at=%{x}<br>score=%{y}<extra></extra>",
         "legendgroup": "3147",
         "line": {
          "color": "#FECB52",
          "dash": "solid"
         },
         "mode": "markers+lines",
         "name": "3147",
         "orientation": "v",
         "showlegend": true,
         "type": "scatter",
         "x": [
          "2020-10-27T23:18:56+00:00",
          "2020-11-10T03:50:36+00:00"
         ],
         "xaxis": "x",
         "y": [
          3,
          3
         ],
         "yaxis": "y"
        },
        {
         "hovertemplate": "user_id=3192<br>started_at=%{x}<br>score=%{y}<extra></extra>",
         "legendgroup": "3192",
         "line": {
          "color": "#636efa",
          "dash": "solid"
         },
         "mode": "markers+lines",
         "name": "3192",
         "orientation": "v",
         "showlegend": true,
         "type": "scatter",
         "x": [
          "2020-10-27T23:19:51+00:00",
          "2020-10-27T23:22:55+00:00",
          "2020-10-27T23:23:51+00:00"
         ],
         "xaxis": "x",
         "y": [
          3,
          3,
          3
         ],
         "yaxis": "y"
        },
        {
         "hovertemplate": "user_id=565<br>started_at=%{x}<br>score=%{y}<extra></extra>",
         "legendgroup": "565",
         "line": {
          "color": "#EF553B",
          "dash": "solid"
         },
         "mode": "markers+lines",
         "name": "565",
         "orientation": "v",
         "showlegend": true,
         "type": "scatter",
         "x": [
          "2020-10-27T23:23:38+00:00"
         ],
         "xaxis": "x",
         "y": [
          2
         ],
         "yaxis": "y"
        },
        {
         "hovertemplate": "user_id=3485<br>started_at=%{x}<br>score=%{y}<extra></extra>",
         "legendgroup": "3485",
         "line": {
          "color": "#00cc96",
          "dash": "solid"
         },
         "mode": "markers+lines",
         "name": "3485",
         "orientation": "v",
         "showlegend": true,
         "type": "scatter",
         "x": [
          "2020-10-27T23:33:53+00:00",
          "2020-10-27T23:34:52+00:00"
         ],
         "xaxis": "x",
         "y": [
          3,
          3
         ],
         "yaxis": "y"
        },
        {
         "hovertemplate": "user_id=459<br>started_at=%{x}<br>score=%{y}<extra></extra>",
         "legendgroup": "459",
         "line": {
          "color": "#ab63fa",
          "dash": "solid"
         },
         "mode": "markers+lines",
         "name": "459",
         "orientation": "v",
         "showlegend": true,
         "type": "scatter",
         "x": [
          "2020-10-27T23:36:48+00:00"
         ],
         "xaxis": "x",
         "y": [
          3
         ],
         "yaxis": "y"
        },
        {
         "hovertemplate": "user_id=3283<br>started_at=%{x}<br>score=%{y}<extra></extra>",
         "legendgroup": "3283",
         "line": {
          "color": "#FFA15A",
          "dash": "solid"
         },
         "mode": "markers+lines",
         "name": "3283",
         "orientation": "v",
         "showlegend": true,
         "type": "scatter",
         "x": [
          "2020-10-27T23:43:04+00:00",
          "2020-10-29T23:06:05+00:00",
          "2020-10-29T23:07:12+00:00"
         ],
         "xaxis": "x",
         "y": [
          1,
          1,
          1
         ],
         "yaxis": "y"
        },
        {
         "hovertemplate": "user_id=999<br>started_at=%{x}<br>score=%{y}<extra></extra>",
         "legendgroup": "999",
         "line": {
          "color": "#19d3f3",
          "dash": "solid"
         },
         "mode": "markers+lines",
         "name": "999",
         "orientation": "v",
         "showlegend": true,
         "type": "scatter",
         "x": [
          "2020-10-27T23:54:18+00:00"
         ],
         "xaxis": "x",
         "y": [
          2
         ],
         "yaxis": "y"
        },
        {
         "hovertemplate": "user_id=3314<br>started_at=%{x}<br>score=%{y}<extra></extra>",
         "legendgroup": "3314",
         "line": {
          "color": "#FF6692",
          "dash": "solid"
         },
         "mode": "markers+lines",
         "name": "3314",
         "orientation": "v",
         "showlegend": true,
         "type": "scatter",
         "x": [
          "2020-10-28T00:10:35+00:00",
          "2020-10-28T21:44:53+00:00",
          "2020-10-29T00:41:37+00:00"
         ],
         "xaxis": "x",
         "y": [
          2,
          2,
          2
         ],
         "yaxis": "y"
        },
        {
         "hovertemplate": "user_id=1006<br>started_at=%{x}<br>score=%{y}<extra></extra>",
         "legendgroup": "1006",
         "line": {
          "color": "#B6E880",
          "dash": "solid"
         },
         "mode": "markers+lines",
         "name": "1006",
         "orientation": "v",
         "showlegend": true,
         "type": "scatter",
         "x": [
          "2020-10-28T00:19:48+00:00"
         ],
         "xaxis": "x",
         "y": [
          3
         ],
         "yaxis": "y"
        },
        {
         "hovertemplate": "user_id=521<br>started_at=%{x}<br>score=%{y}<extra></extra>",
         "legendgroup": "521",
         "line": {
          "color": "#FF97FF",
          "dash": "solid"
         },
         "mode": "markers+lines",
         "name": "521",
         "orientation": "v",
         "showlegend": true,
         "type": "scatter",
         "x": [
          "2020-10-28T00:41:24+00:00",
          "2020-10-29T01:09:41+00:00"
         ],
         "xaxis": "x",
         "y": [
          3,
          3
         ],
         "yaxis": "y"
        },
        {
         "hovertemplate": "user_id=3285<br>started_at=%{x}<br>score=%{y}<extra></extra>",
         "legendgroup": "3285",
         "line": {
          "color": "#FECB52",
          "dash": "solid"
         },
         "mode": "markers+lines",
         "name": "3285",
         "orientation": "v",
         "showlegend": true,
         "type": "scatter",
         "x": [
          "2020-10-28T01:30:26+00:00",
          "2020-10-28T01:31:31+00:00",
          "2020-10-29T22:52:03+00:00"
         ],
         "xaxis": "x",
         "y": [
          3,
          3,
          3
         ],
         "yaxis": "y"
        },
        {
         "hovertemplate": "user_id=3323<br>started_at=%{x}<br>score=%{y}<extra></extra>",
         "legendgroup": "3323",
         "line": {
          "color": "#636efa",
          "dash": "solid"
         },
         "mode": "markers+lines",
         "name": "3323",
         "orientation": "v",
         "showlegend": true,
         "type": "scatter",
         "x": [
          "2020-10-28T01:57:07+00:00",
          "2020-10-28T01:58:52+00:00",
          "2020-10-28T02:00:28+00:00"
         ],
         "xaxis": "x",
         "y": [
          3,
          3,
          3
         ],
         "yaxis": "y"
        },
        {
         "hovertemplate": "user_id=1157<br>started_at=%{x}<br>score=%{y}<extra></extra>",
         "legendgroup": "1157",
         "line": {
          "color": "#EF553B",
          "dash": "solid"
         },
         "mode": "markers+lines",
         "name": "1157",
         "orientation": "v",
         "showlegend": true,
         "type": "scatter",
         "x": [
          "2020-10-28T01:59:43+00:00",
          "2020-10-28T21:49:06+00:00"
         ],
         "xaxis": "x",
         "y": [
          3,
          3
         ],
         "yaxis": "y"
        },
        {
         "hovertemplate": "user_id=1265<br>started_at=%{x}<br>score=%{y}<extra></extra>",
         "legendgroup": "1265",
         "line": {
          "color": "#00cc96",
          "dash": "solid"
         },
         "mode": "markers+lines",
         "name": "1265",
         "orientation": "v",
         "showlegend": true,
         "type": "scatter",
         "x": [
          "2020-10-28T02:14:06+00:00",
          "2020-10-28T02:15:33+00:00",
          "2020-10-29T03:54:10+00:00"
         ],
         "xaxis": "x",
         "y": [
          2,
          2,
          2
         ],
         "yaxis": "y"
        },
        {
         "hovertemplate": "user_id=3153<br>started_at=%{x}<br>score=%{y}<extra></extra>",
         "legendgroup": "3153",
         "line": {
          "color": "#ab63fa",
          "dash": "solid"
         },
         "mode": "markers+lines",
         "name": "3153",
         "orientation": "v",
         "showlegend": true,
         "type": "scatter",
         "x": [
          "2020-10-28T02:43:38+00:00",
          "2020-11-09T15:50:14+00:00",
          "2020-11-09T15:50:58+00:00"
         ],
         "xaxis": "x",
         "y": [
          1,
          3,
          3
         ],
         "yaxis": "y"
        },
        {
         "hovertemplate": "user_id=3284<br>started_at=%{x}<br>score=%{y}<extra></extra>",
         "legendgroup": "3284",
         "line": {
          "color": "#FFA15A",
          "dash": "solid"
         },
         "mode": "markers+lines",
         "name": "3284",
         "orientation": "v",
         "showlegend": true,
         "type": "scatter",
         "x": [
          "2020-10-28T03:19:42+00:00",
          "2020-10-28T03:23:01+00:00",
          "2020-10-29T00:53:05+00:00"
         ],
         "xaxis": "x",
         "y": [
          2,
          2,
          2
         ],
         "yaxis": "y"
        },
        {
         "hovertemplate": "user_id=1212<br>started_at=%{x}<br>score=%{y}<extra></extra>",
         "legendgroup": "1212",
         "line": {
          "color": "#19d3f3",
          "dash": "solid"
         },
         "mode": "markers+lines",
         "name": "1212",
         "orientation": "v",
         "showlegend": true,
         "type": "scatter",
         "x": [
          "2020-10-28T03:41:46+00:00",
          "2020-10-28T03:42:09+00:00",
          "2020-10-31T14:17:26+00:00"
         ],
         "xaxis": "x",
         "y": [
          2,
          2,
          2
         ],
         "yaxis": "y"
        },
        {
         "hovertemplate": "user_id=1115<br>started_at=%{x}<br>score=%{y}<extra></extra>",
         "legendgroup": "1115",
         "line": {
          "color": "#FF6692",
          "dash": "solid"
         },
         "mode": "markers+lines",
         "name": "1115",
         "orientation": "v",
         "showlegend": true,
         "type": "scatter",
         "x": [
          "2020-10-28T04:17:58+00:00",
          "2020-10-29T09:45:15+00:00"
         ],
         "xaxis": "x",
         "y": [
          2,
          2
         ],
         "yaxis": "y"
        },
        {
         "hovertemplate": "user_id=827<br>started_at=%{x}<br>score=%{y}<extra></extra>",
         "legendgroup": "827",
         "line": {
          "color": "#B6E880",
          "dash": "solid"
         },
         "mode": "markers+lines",
         "name": "827",
         "orientation": "v",
         "showlegend": true,
         "type": "scatter",
         "x": [
          "2020-10-28T04:24:44+00:00",
          "2020-11-11T01:56:34+00:00",
          "2020-11-11T01:57:01+00:00"
         ],
         "xaxis": "x",
         "y": [
          2,
          2,
          2
         ],
         "yaxis": "y"
        },
        {
         "hovertemplate": "user_id=1272<br>started_at=%{x}<br>score=%{y}<extra></extra>",
         "legendgroup": "1272",
         "line": {
          "color": "#FF97FF",
          "dash": "solid"
         },
         "mode": "markers+lines",
         "name": "1272",
         "orientation": "v",
         "showlegend": true,
         "type": "scatter",
         "x": [
          "2020-10-28T05:23:47+00:00",
          "2020-11-04T14:56:39+00:00",
          "2020-11-04T14:58:58+00:00"
         ],
         "xaxis": "x",
         "y": [
          2,
          2,
          2
         ],
         "yaxis": "y"
        },
        {
         "hovertemplate": "user_id=3347<br>started_at=%{x}<br>score=%{y}<extra></extra>",
         "legendgroup": "3347",
         "line": {
          "color": "#FECB52",
          "dash": "solid"
         },
         "mode": "markers+lines",
         "name": "3347",
         "orientation": "v",
         "showlegend": true,
         "type": "scatter",
         "x": [
          "2020-10-28T05:43:12+00:00"
         ],
         "xaxis": "x",
         "y": [
          1
         ],
         "yaxis": "y"
        },
        {
         "hovertemplate": "user_id=509<br>started_at=%{x}<br>score=%{y}<extra></extra>",
         "legendgroup": "509",
         "line": {
          "color": "#636efa",
          "dash": "solid"
         },
         "mode": "markers+lines",
         "name": "509",
         "orientation": "v",
         "showlegend": true,
         "type": "scatter",
         "x": [
          "2020-10-28T05:59:25+00:00",
          "2020-10-29T05:57:23+00:00"
         ],
         "xaxis": "x",
         "y": [
          3,
          3
         ],
         "yaxis": "y"
        },
        {
         "hovertemplate": "user_id=2424<br>started_at=%{x}<br>score=%{y}<extra></extra>",
         "legendgroup": "2424",
         "line": {
          "color": "#EF553B",
          "dash": "solid"
         },
         "mode": "markers+lines",
         "name": "2424",
         "orientation": "v",
         "showlegend": true,
         "type": "scatter",
         "x": [
          "2020-10-28T06:30:31+00:00"
         ],
         "xaxis": "x",
         "y": [
          2
         ],
         "yaxis": "y"
        },
        {
         "hovertemplate": "user_id=1278<br>started_at=%{x}<br>score=%{y}<extra></extra>",
         "legendgroup": "1278",
         "line": {
          "color": "#00cc96",
          "dash": "solid"
         },
         "mode": "markers+lines",
         "name": "1278",
         "orientation": "v",
         "showlegend": true,
         "type": "scatter",
         "x": [
          "2020-10-28T14:54:30+00:00"
         ],
         "xaxis": "x",
         "y": [
          2
         ],
         "yaxis": "y"
        },
        {
         "hovertemplate": "user_id=3271<br>started_at=%{x}<br>score=%{y}<extra></extra>",
         "legendgroup": "3271",
         "line": {
          "color": "#ab63fa",
          "dash": "solid"
         },
         "mode": "markers+lines",
         "name": "3271",
         "orientation": "v",
         "showlegend": true,
         "type": "scatter",
         "x": [
          "2020-10-28T15:20:47+00:00",
          "2020-10-28T15:21:49+00:00",
          "2020-10-28T21:40:07+00:00"
         ],
         "xaxis": "x",
         "y": [
          3,
          3,
          3
         ],
         "yaxis": "y"
        },
        {
         "hovertemplate": "user_id=518<br>started_at=%{x}<br>score=%{y}<extra></extra>",
         "legendgroup": "518",
         "line": {
          "color": "#FFA15A",
          "dash": "solid"
         },
         "mode": "markers+lines",
         "name": "518",
         "orientation": "v",
         "showlegend": true,
         "type": "scatter",
         "x": [
          "2020-10-28T15:25:19+00:00",
          "2020-10-28T15:29:24+00:00"
         ],
         "xaxis": "x",
         "y": [
          1,
          1
         ],
         "yaxis": "y"
        },
        {
         "hovertemplate": "user_id=523<br>started_at=%{x}<br>score=%{y}<extra></extra>",
         "legendgroup": "523",
         "line": {
          "color": "#19d3f3",
          "dash": "solid"
         },
         "mode": "markers+lines",
         "name": "523",
         "orientation": "v",
         "showlegend": true,
         "type": "scatter",
         "x": [
          "2020-10-28T16:09:13+00:00",
          "2020-10-28T16:10:04+00:00",
          "2020-10-29T17:26:01+00:00"
         ],
         "xaxis": "x",
         "y": [
          2,
          2,
          2
         ],
         "yaxis": "y"
        },
        {
         "hovertemplate": "user_id=592<br>started_at=%{x}<br>score=%{y}<extra></extra>",
         "legendgroup": "592",
         "line": {
          "color": "#FF6692",
          "dash": "solid"
         },
         "mode": "markers+lines",
         "name": "592",
         "orientation": "v",
         "showlegend": true,
         "type": "scatter",
         "x": [
          "2020-10-28T19:19:03+00:00",
          "2020-10-28T19:19:53+00:00",
          "2020-10-31T14:36:06+00:00"
         ],
         "xaxis": "x",
         "y": [
          2,
          2,
          2
         ],
         "yaxis": "y"
        },
        {
         "hovertemplate": "user_id=3232<br>started_at=%{x}<br>score=%{y}<extra></extra>",
         "legendgroup": "3232",
         "line": {
          "color": "#B6E880",
          "dash": "solid"
         },
         "mode": "markers+lines",
         "name": "3232",
         "orientation": "v",
         "showlegend": true,
         "type": "scatter",
         "x": [
          "2020-10-28T19:48:51+00:00"
         ],
         "xaxis": "x",
         "y": [
          3
         ],
         "yaxis": "y"
        },
        {
         "hovertemplate": "user_id=2333<br>started_at=%{x}<br>score=%{y}<extra></extra>",
         "legendgroup": "2333",
         "line": {
          "color": "#FF97FF",
          "dash": "solid"
         },
         "mode": "markers+lines",
         "name": "2333",
         "orientation": "v",
         "showlegend": true,
         "type": "scatter",
         "x": [
          "2020-10-28T20:04:46+00:00",
          "2020-10-28T20:05:28+00:00"
         ],
         "xaxis": "x",
         "y": [
          3,
          3
         ],
         "yaxis": "y"
        },
        {
         "hovertemplate": "user_id=3159<br>started_at=%{x}<br>score=%{y}<extra></extra>",
         "legendgroup": "3159",
         "line": {
          "color": "#FECB52",
          "dash": "solid"
         },
         "mode": "markers+lines",
         "name": "3159",
         "orientation": "v",
         "showlegend": true,
         "type": "scatter",
         "x": [
          "2020-10-28T20:17:02+00:00"
         ],
         "xaxis": "x",
         "y": [
          3
         ],
         "yaxis": "y"
        },
        {
         "hovertemplate": "user_id=252<br>started_at=%{x}<br>score=%{y}<extra></extra>",
         "legendgroup": "252",
         "line": {
          "color": "#636efa",
          "dash": "solid"
         },
         "mode": "markers+lines",
         "name": "252",
         "orientation": "v",
         "showlegend": true,
         "type": "scatter",
         "x": [
          "2020-10-28T20:58:28+00:00",
          "2020-10-28T20:59:31+00:00",
          "2020-10-28T23:06:41+00:00"
         ],
         "xaxis": "x",
         "y": [
          2,
          2,
          2
         ],
         "yaxis": "y"
        },
        {
         "hovertemplate": "user_id=567<br>started_at=%{x}<br>score=%{y}<extra></extra>",
         "legendgroup": "567",
         "line": {
          "color": "#EF553B",
          "dash": "solid"
         },
         "mode": "markers+lines",
         "name": "567",
         "orientation": "v",
         "showlegend": true,
         "type": "scatter",
         "x": [
          "2020-10-28T21:14:27+00:00",
          "2020-10-28T21:15:12+00:00",
          "2020-10-28T21:15:52+00:00"
         ],
         "xaxis": "x",
         "y": [
          2,
          2,
          2
         ],
         "yaxis": "y"
        },
        {
         "hovertemplate": "user_id=446<br>started_at=%{x}<br>score=%{y}<extra></extra>",
         "legendgroup": "446",
         "line": {
          "color": "#00cc96",
          "dash": "solid"
         },
         "mode": "markers+lines",
         "name": "446",
         "orientation": "v",
         "showlegend": true,
         "type": "scatter",
         "x": [
          "2020-10-28T22:43:08+00:00",
          "2020-10-28T22:43:51+00:00",
          "2020-10-30T22:45:46+00:00"
         ],
         "xaxis": "x",
         "y": [
          2,
          2,
          2
         ],
         "yaxis": "y"
        },
        {
         "hovertemplate": "user_id=253<br>started_at=%{x}<br>score=%{y}<extra></extra>",
         "legendgroup": "253",
         "line": {
          "color": "#ab63fa",
          "dash": "solid"
         },
         "mode": "markers+lines",
         "name": "253",
         "orientation": "v",
         "showlegend": true,
         "type": "scatter",
         "x": [
          "2020-10-28T23:19:13+00:00"
         ],
         "xaxis": "x",
         "y": [
          3
         ],
         "yaxis": "y"
        },
        {
         "hovertemplate": "user_id=632<br>started_at=%{x}<br>score=%{y}<extra></extra>",
         "legendgroup": "632",
         "line": {
          "color": "#FFA15A",
          "dash": "solid"
         },
         "mode": "markers+lines",
         "name": "632",
         "orientation": "v",
         "showlegend": true,
         "type": "scatter",
         "x": [
          "2020-10-28T23:27:24+00:00"
         ],
         "xaxis": "x",
         "y": [
          2
         ],
         "yaxis": "y"
        },
        {
         "hovertemplate": "user_id=2435<br>started_at=%{x}<br>score=%{y}<extra></extra>",
         "legendgroup": "2435",
         "line": {
          "color": "#19d3f3",
          "dash": "solid"
         },
         "mode": "markers+lines",
         "name": "2435",
         "orientation": "v",
         "showlegend": true,
         "type": "scatter",
         "x": [
          "2020-10-28T23:28:01+00:00"
         ],
         "xaxis": "x",
         "y": [
          3
         ],
         "yaxis": "y"
        },
        {
         "hovertemplate": "user_id=1137<br>started_at=%{x}<br>score=%{y}<extra></extra>",
         "legendgroup": "1137",
         "line": {
          "color": "#FF6692",
          "dash": "solid"
         },
         "mode": "markers+lines",
         "name": "1137",
         "orientation": "v",
         "showlegend": true,
         "type": "scatter",
         "x": [
          "2020-10-28T23:37:51+00:00",
          "2020-10-28T23:38:24+00:00",
          "2020-10-28T23:38:46+00:00"
         ],
         "xaxis": "x",
         "y": [
          2,
          2,
          2
         ],
         "yaxis": "y"
        },
        {
         "hovertemplate": "user_id=551<br>started_at=%{x}<br>score=%{y}<extra></extra>",
         "legendgroup": "551",
         "line": {
          "color": "#B6E880",
          "dash": "solid"
         },
         "mode": "markers+lines",
         "name": "551",
         "orientation": "v",
         "showlegend": true,
         "type": "scatter",
         "x": [
          "2020-10-29T00:02:27+00:00",
          "2020-10-29T00:09:40+00:00",
          "2020-10-29T00:10:05+00:00"
         ],
         "xaxis": "x",
         "y": [
          2,
          2,
          2
         ],
         "yaxis": "y"
        },
        {
         "hovertemplate": "user_id=2462<br>started_at=%{x}<br>score=%{y}<extra></extra>",
         "legendgroup": "2462",
         "line": {
          "color": "#FF97FF",
          "dash": "solid"
         },
         "mode": "markers+lines",
         "name": "2462",
         "orientation": "v",
         "showlegend": true,
         "type": "scatter",
         "x": [
          "2020-10-29T00:09:33+00:00",
          "2020-10-30T16:06:15+00:00"
         ],
         "xaxis": "x",
         "y": [
          3,
          3
         ],
         "yaxis": "y"
        },
        {
         "hovertemplate": "user_id=1149<br>started_at=%{x}<br>score=%{y}<extra></extra>",
         "legendgroup": "1149",
         "line": {
          "color": "#FECB52",
          "dash": "solid"
         },
         "mode": "markers+lines",
         "name": "1149",
         "orientation": "v",
         "showlegend": true,
         "type": "scatter",
         "x": [
          "2020-10-29T00:17:35+00:00",
          "2020-10-29T00:18:14+00:00"
         ],
         "xaxis": "x",
         "y": [
          2,
          2
         ],
         "yaxis": "y"
        },
        {
         "hovertemplate": "user_id=547<br>started_at=%{x}<br>score=%{y}<extra></extra>",
         "legendgroup": "547",
         "line": {
          "color": "#636efa",
          "dash": "solid"
         },
         "mode": "markers+lines",
         "name": "547",
         "orientation": "v",
         "showlegend": true,
         "type": "scatter",
         "x": [
          "2020-10-29T00:23:55+00:00"
         ],
         "xaxis": "x",
         "y": [
          2
         ],
         "yaxis": "y"
        },
        {
         "hovertemplate": "user_id=2468<br>started_at=%{x}<br>score=%{y}<extra></extra>",
         "legendgroup": "2468",
         "line": {
          "color": "#EF553B",
          "dash": "solid"
         },
         "mode": "markers+lines",
         "name": "2468",
         "orientation": "v",
         "showlegend": true,
         "type": "scatter",
         "x": [
          "2020-10-29T01:08:14+00:00"
         ],
         "xaxis": "x",
         "y": [
          3
         ],
         "yaxis": "y"
        },
        {
         "hovertemplate": "user_id=1001<br>started_at=%{x}<br>score=%{y}<extra></extra>",
         "legendgroup": "1001",
         "line": {
          "color": "#00cc96",
          "dash": "solid"
         },
         "mode": "markers+lines",
         "name": "1001",
         "orientation": "v",
         "showlegend": true,
         "type": "scatter",
         "x": [
          "2020-10-29T01:26:53+00:00"
         ],
         "xaxis": "x",
         "y": [
          1
         ],
         "yaxis": "y"
        },
        {
         "hovertemplate": "user_id=1256<br>started_at=%{x}<br>score=%{y}<extra></extra>",
         "legendgroup": "1256",
         "line": {
          "color": "#ab63fa",
          "dash": "solid"
         },
         "mode": "markers+lines",
         "name": "1256",
         "orientation": "v",
         "showlegend": true,
         "type": "scatter",
         "x": [
          "2020-10-29T01:45:39+00:00",
          "2020-10-29T01:46:30+00:00",
          "2020-10-29T01:47:17+00:00"
         ],
         "xaxis": "x",
         "y": [
          2,
          2,
          2
         ],
         "yaxis": "y"
        },
        {
         "hovertemplate": "user_id=3310<br>started_at=%{x}<br>score=%{y}<extra></extra>",
         "legendgroup": "3310",
         "line": {
          "color": "#FFA15A",
          "dash": "solid"
         },
         "mode": "markers+lines",
         "name": "3310",
         "orientation": "v",
         "showlegend": true,
         "type": "scatter",
         "x": [
          "2020-10-29T02:28:25+00:00",
          "2020-10-29T02:30:11+00:00",
          "2020-10-29T02:31:26+00:00"
         ],
         "xaxis": "x",
         "y": [
          2,
          3,
          3
         ],
         "yaxis": "y"
        },
        {
         "hovertemplate": "user_id=226<br>started_at=%{x}<br>score=%{y}<extra></extra>",
         "legendgroup": "226",
         "line": {
          "color": "#19d3f3",
          "dash": "solid"
         },
         "mode": "markers+lines",
         "name": "226",
         "orientation": "v",
         "showlegend": true,
         "type": "scatter",
         "x": [
          "2020-10-29T03:49:12+00:00",
          "2020-10-29T03:49:37+00:00"
         ],
         "xaxis": "x",
         "y": [
          2,
          2
         ],
         "yaxis": "y"
        },
        {
         "hovertemplate": "user_id=2413<br>started_at=%{x}<br>score=%{y}<extra></extra>",
         "legendgroup": "2413",
         "line": {
          "color": "#FF6692",
          "dash": "solid"
         },
         "mode": "markers+lines",
         "name": "2413",
         "orientation": "v",
         "showlegend": true,
         "type": "scatter",
         "x": [
          "2020-10-29T05:39:07+00:00"
         ],
         "xaxis": "x",
         "y": [
          2
         ],
         "yaxis": "y"
        },
        {
         "hovertemplate": "user_id=2386<br>started_at=%{x}<br>score=%{y}<extra></extra>",
         "legendgroup": "2386",
         "line": {
          "color": "#B6E880",
          "dash": "solid"
         },
         "mode": "markers+lines",
         "name": "2386",
         "orientation": "v",
         "showlegend": true,
         "type": "scatter",
         "x": [
          "2020-10-29T05:55:00+00:00",
          "2020-10-29T05:58:25+00:00"
         ],
         "xaxis": "x",
         "y": [
          2,
          2
         ],
         "yaxis": "y"
        },
        {
         "hovertemplate": "user_id=822<br>started_at=%{x}<br>score=%{y}<extra></extra>",
         "legendgroup": "822",
         "line": {
          "color": "#FF97FF",
          "dash": "solid"
         },
         "mode": "markers+lines",
         "name": "822",
         "orientation": "v",
         "showlegend": true,
         "type": "scatter",
         "x": [
          "2020-10-29T11:49:25+00:00"
         ],
         "xaxis": "x",
         "y": [
          3
         ],
         "yaxis": "y"
        },
        {
         "hovertemplate": "user_id=3261<br>started_at=%{x}<br>score=%{y}<extra></extra>",
         "legendgroup": "3261",
         "line": {
          "color": "#FECB52",
          "dash": "solid"
         },
         "mode": "markers+lines",
         "name": "3261",
         "orientation": "v",
         "showlegend": true,
         "type": "scatter",
         "x": [
          "2020-10-29T16:39:19+00:00",
          "2020-10-29T16:39:56+00:00",
          "2020-10-29T16:40:26+00:00"
         ],
         "xaxis": "x",
         "y": [
          3,
          3,
          3
         ],
         "yaxis": "y"
        },
        {
         "hovertemplate": "user_id=497<br>started_at=%{x}<br>score=%{y}<extra></extra>",
         "legendgroup": "497",
         "line": {
          "color": "#636efa",
          "dash": "solid"
         },
         "mode": "markers+lines",
         "name": "497",
         "orientation": "v",
         "showlegend": true,
         "type": "scatter",
         "x": [
          "2020-10-29T21:28:33+00:00",
          "2020-10-29T21:29:36+00:00"
         ],
         "xaxis": "x",
         "y": [
          2,
          2
         ],
         "yaxis": "y"
        },
        {
         "hovertemplate": "user_id=1258<br>started_at=%{x}<br>score=%{y}<extra></extra>",
         "legendgroup": "1258",
         "line": {
          "color": "#EF553B",
          "dash": "solid"
         },
         "mode": "markers+lines",
         "name": "1258",
         "orientation": "v",
         "showlegend": true,
         "type": "scatter",
         "x": [
          "2020-10-29T22:44:50+00:00",
          "2020-10-29T22:45:55+00:00"
         ],
         "xaxis": "x",
         "y": [
          3,
          3
         ],
         "yaxis": "y"
        },
        {
         "hovertemplate": "user_id=894<br>started_at=%{x}<br>score=%{y}<extra></extra>",
         "legendgroup": "894",
         "line": {
          "color": "#00cc96",
          "dash": "solid"
         },
         "mode": "markers+lines",
         "name": "894",
         "orientation": "v",
         "showlegend": true,
         "type": "scatter",
         "x": [
          "2020-10-29T22:58:07+00:00",
          "2020-10-29T22:58:40+00:00",
          "2020-10-29T22:59:03+00:00"
         ],
         "xaxis": "x",
         "y": [
          2,
          2,
          1
         ],
         "yaxis": "y"
        },
        {
         "hovertemplate": "user_id=451<br>started_at=%{x}<br>score=%{y}<extra></extra>",
         "legendgroup": "451",
         "line": {
          "color": "#ab63fa",
          "dash": "solid"
         },
         "mode": "markers+lines",
         "name": "451",
         "orientation": "v",
         "showlegend": true,
         "type": "scatter",
         "x": [
          "2020-10-29T22:58:48+00:00",
          "2020-10-29T22:59:34+00:00",
          "2020-10-29T23:00:25+00:00"
         ],
         "xaxis": "x",
         "y": [
          3,
          3,
          3
         ],
         "yaxis": "y"
        },
        {
         "hovertemplate": "user_id=3280<br>started_at=%{x}<br>score=%{y}<extra></extra>",
         "legendgroup": "3280",
         "line": {
          "color": "#FFA15A",
          "dash": "solid"
         },
         "mode": "markers+lines",
         "name": "3280",
         "orientation": "v",
         "showlegend": true,
         "type": "scatter",
         "x": [
          "2020-10-29T23:13:28+00:00",
          "2020-10-29T23:17:16+00:00",
          "2020-10-29T23:19:14+00:00"
         ],
         "xaxis": "x",
         "y": [
          2,
          2,
          2
         ],
         "yaxis": "y"
        },
        {
         "hovertemplate": "user_id=2455<br>started_at=%{x}<br>score=%{y}<extra></extra>",
         "legendgroup": "2455",
         "line": {
          "color": "#19d3f3",
          "dash": "solid"
         },
         "mode": "markers+lines",
         "name": "2455",
         "orientation": "v",
         "showlegend": true,
         "type": "scatter",
         "x": [
          "2020-10-29T23:28:55+00:00",
          "2020-10-29T23:29:39+00:00",
          "2020-10-29T23:30:08+00:00"
         ],
         "xaxis": "x",
         "y": [
          3,
          3,
          3
         ],
         "yaxis": "y"
        },
        {
         "hovertemplate": "user_id=3145<br>started_at=%{x}<br>score=%{y}<extra></extra>",
         "legendgroup": "3145",
         "line": {
          "color": "#FF6692",
          "dash": "solid"
         },
         "mode": "markers+lines",
         "name": "3145",
         "orientation": "v",
         "showlegend": true,
         "type": "scatter",
         "x": [
          "2020-10-29T23:30:04+00:00",
          "2020-10-30T03:46:39+00:00",
          "2020-10-30T03:47:13+00:00"
         ],
         "xaxis": "x",
         "y": [
          3,
          3,
          3
         ],
         "yaxis": "y"
        },
        {
         "hovertemplate": "user_id=3296<br>started_at=%{x}<br>score=%{y}<extra></extra>",
         "legendgroup": "3296",
         "line": {
          "color": "#B6E880",
          "dash": "solid"
         },
         "mode": "markers+lines",
         "name": "3296",
         "orientation": "v",
         "showlegend": true,
         "type": "scatter",
         "x": [
          "2020-10-29T23:48:21+00:00",
          "2020-10-29T23:49:38+00:00",
          "2020-10-29T23:51:14+00:00"
         ],
         "xaxis": "x",
         "y": [
          2,
          2,
          2
         ],
         "yaxis": "y"
        },
        {
         "hovertemplate": "user_id=1153<br>started_at=%{x}<br>score=%{y}<extra></extra>",
         "legendgroup": "1153",
         "line": {
          "color": "#FF97FF",
          "dash": "solid"
         },
         "mode": "markers+lines",
         "name": "1153",
         "orientation": "v",
         "showlegend": true,
         "type": "scatter",
         "x": [
          "2020-10-30T01:14:22+00:00",
          "2020-10-30T01:15:54+00:00",
          "2020-10-30T01:17:09+00:00"
         ],
         "xaxis": "x",
         "y": [
          3,
          3,
          3
         ],
         "yaxis": "y"
        },
        {
         "hovertemplate": "user_id=3161<br>started_at=%{x}<br>score=%{y}<extra></extra>",
         "legendgroup": "3161",
         "line": {
          "color": "#FECB52",
          "dash": "solid"
         },
         "mode": "markers+lines",
         "name": "3161",
         "orientation": "v",
         "showlegend": true,
         "type": "scatter",
         "x": [
          "2020-10-30T03:31:27+00:00",
          "2020-11-17T17:04:08+00:00"
         ],
         "xaxis": "x",
         "y": [
          2,
          2
         ],
         "yaxis": "y"
        },
        {
         "hovertemplate": "user_id=268<br>started_at=%{x}<br>score=%{y}<extra></extra>",
         "legendgroup": "268",
         "line": {
          "color": "#636efa",
          "dash": "solid"
         },
         "mode": "markers+lines",
         "name": "268",
         "orientation": "v",
         "showlegend": true,
         "type": "scatter",
         "x": [
          "2020-10-30T06:33:53+00:00",
          "2020-10-30T06:34:22+00:00",
          "2020-10-30T06:35:34+00:00"
         ],
         "xaxis": "x",
         "y": [
          2,
          2,
          2
         ],
         "yaxis": "y"
        },
        {
         "hovertemplate": "user_id=526<br>started_at=%{x}<br>score=%{y}<extra></extra>",
         "legendgroup": "526",
         "line": {
          "color": "#EF553B",
          "dash": "solid"
         },
         "mode": "markers+lines",
         "name": "526",
         "orientation": "v",
         "showlegend": true,
         "type": "scatter",
         "x": [
          "2020-10-30T14:26:19+00:00",
          "2020-10-30T14:26:38+00:00",
          "2020-10-30T14:26:57+00:00"
         ],
         "xaxis": "x",
         "y": [
          3,
          3,
          3
         ],
         "yaxis": "y"
        },
        {
         "hovertemplate": "user_id=3320<br>started_at=%{x}<br>score=%{y}<extra></extra>",
         "legendgroup": "3320",
         "line": {
          "color": "#00cc96",
          "dash": "solid"
         },
         "mode": "markers+lines",
         "name": "3320",
         "orientation": "v",
         "showlegend": true,
         "type": "scatter",
         "x": [
          "2020-10-30T20:43:45+00:00",
          "2020-11-02T20:27:30+00:00",
          "2020-11-02T20:28:12+00:00"
         ],
         "xaxis": "x",
         "y": [
          3,
          2,
          2
         ],
         "yaxis": "y"
        },
        {
         "hovertemplate": "user_id=264<br>started_at=%{x}<br>score=%{y}<extra></extra>",
         "legendgroup": "264",
         "line": {
          "color": "#ab63fa",
          "dash": "solid"
         },
         "mode": "markers+lines",
         "name": "264",
         "orientation": "v",
         "showlegend": true,
         "type": "scatter",
         "x": [
          "2020-10-31T01:03:59+00:00",
          "2020-10-31T02:15:09+00:00",
          "2020-10-31T02:16:59+00:00"
         ],
         "xaxis": "x",
         "y": [
          2,
          2,
          2
         ],
         "yaxis": "y"
        },
        {
         "hovertemplate": "user_id=3272<br>started_at=%{x}<br>score=%{y}<extra></extra>",
         "legendgroup": "3272",
         "line": {
          "color": "#FFA15A",
          "dash": "solid"
         },
         "mode": "markers+lines",
         "name": "3272",
         "orientation": "v",
         "showlegend": true,
         "type": "scatter",
         "x": [
          "2020-10-31T06:21:41+00:00"
         ],
         "xaxis": "x",
         "y": [
          3
         ],
         "yaxis": "y"
        },
        {
         "hovertemplate": "user_id=3190<br>started_at=%{x}<br>score=%{y}<extra></extra>",
         "legendgroup": "3190",
         "line": {
          "color": "#19d3f3",
          "dash": "solid"
         },
         "mode": "markers+lines",
         "name": "3190",
         "orientation": "v",
         "showlegend": true,
         "type": "scatter",
         "x": [
          "2020-11-04T04:55:45+00:00",
          "2020-11-04T04:57:52+00:00",
          "2020-11-04T04:59:47+00:00"
         ],
         "xaxis": "x",
         "y": [
          1,
          1,
          1
         ],
         "yaxis": "y"
        },
        {
         "hovertemplate": "user_id=1921<br>started_at=%{x}<br>score=%{y}<extra></extra>",
         "legendgroup": "1921",
         "line": {
          "color": "#FF6692",
          "dash": "solid"
         },
         "mode": "markers+lines",
         "name": "1921",
         "orientation": "v",
         "showlegend": true,
         "type": "scatter",
         "x": [
          "2020-11-04T23:34:51+00:00",
          "2020-11-04T23:35:36+00:00"
         ],
         "xaxis": "x",
         "y": [
          2,
          2
         ],
         "yaxis": "y"
        },
        {
         "hovertemplate": "user_id=2446<br>started_at=%{x}<br>score=%{y}<extra></extra>",
         "legendgroup": "2446",
         "line": {
          "color": "#B6E880",
          "dash": "solid"
         },
         "mode": "markers+lines",
         "name": "2446",
         "orientation": "v",
         "showlegend": true,
         "type": "scatter",
         "x": [
          "2020-11-05T00:19:48+00:00"
         ],
         "xaxis": "x",
         "y": [
          2
         ],
         "yaxis": "y"
        },
        {
         "hovertemplate": "user_id=1227<br>started_at=%{x}<br>score=%{y}<extra></extra>",
         "legendgroup": "1227",
         "line": {
          "color": "#FF97FF",
          "dash": "solid"
         },
         "mode": "markers+lines",
         "name": "1227",
         "orientation": "v",
         "showlegend": true,
         "type": "scatter",
         "x": [
          "2020-11-05T05:47:01+00:00",
          "2020-11-05T05:47:29+00:00"
         ],
         "xaxis": "x",
         "y": [
          3,
          3
         ],
         "yaxis": "y"
        },
        {
         "hovertemplate": "user_id=1827<br>started_at=%{x}<br>score=%{y}<extra></extra>",
         "legendgroup": "1827",
         "line": {
          "color": "#FECB52",
          "dash": "solid"
         },
         "mode": "markers+lines",
         "name": "1827",
         "orientation": "v",
         "showlegend": true,
         "type": "scatter",
         "x": [
          "2020-11-06T23:14:55+00:00",
          "2020-11-16T18:04:20+00:00"
         ],
         "xaxis": "x",
         "y": [
          2,
          2
         ],
         "yaxis": "y"
        },
        {
         "hovertemplate": "user_id=628<br>started_at=%{x}<br>score=%{y}<extra></extra>",
         "legendgroup": "628",
         "line": {
          "color": "#636efa",
          "dash": "solid"
         },
         "mode": "markers+lines",
         "name": "628",
         "orientation": "v",
         "showlegend": true,
         "type": "scatter",
         "x": [
          "2020-11-09T15:10:06+00:00",
          "2020-11-09T15:10:44+00:00",
          "2020-11-09T15:11:18+00:00"
         ],
         "xaxis": "x",
         "y": [
          2,
          2,
          2
         ],
         "yaxis": "y"
        },
        {
         "hovertemplate": "user_id=3144<br>started_at=%{x}<br>score=%{y}<extra></extra>",
         "legendgroup": "3144",
         "line": {
          "color": "#EF553B",
          "dash": "solid"
         },
         "mode": "markers+lines",
         "name": "3144",
         "orientation": "v",
         "showlegend": true,
         "type": "scatter",
         "x": [
          "2020-11-09T16:07:52+00:00",
          "2020-11-09T16:09:46+00:00",
          "2020-11-09T16:10:47+00:00"
         ],
         "xaxis": "x",
         "y": [
          3,
          3,
          3
         ],
         "yaxis": "y"
        },
        {
         "hovertemplate": "user_id=1210<br>started_at=%{x}<br>score=%{y}<extra></extra>",
         "legendgroup": "1210",
         "line": {
          "color": "#00cc96",
          "dash": "solid"
         },
         "mode": "markers+lines",
         "name": "1210",
         "orientation": "v",
         "showlegend": true,
         "type": "scatter",
         "x": [
          "2020-11-13T21:49:50+00:00"
         ],
         "xaxis": "x",
         "y": [
          3
         ],
         "yaxis": "y"
        },
        {
         "hovertemplate": "user_id=3279<br>started_at=%{x}<br>score=%{y}<extra></extra>",
         "legendgroup": "3279",
         "line": {
          "color": "#ab63fa",
          "dash": "solid"
         },
         "mode": "markers+lines",
         "name": "3279",
         "orientation": "v",
         "showlegend": true,
         "type": "scatter",
         "x": [
          "2020-11-14T20:01:38+00:00"
         ],
         "xaxis": "x",
         "y": [
          2
         ],
         "yaxis": "y"
        },
        {
         "hovertemplate": "user_id=512<br>started_at=%{x}<br>score=%{y}<extra></extra>",
         "legendgroup": "512",
         "line": {
          "color": "#FFA15A",
          "dash": "solid"
         },
         "mode": "markers+lines",
         "name": "512",
         "orientation": "v",
         "showlegend": true,
         "type": "scatter",
         "x": [
          "2020-11-20T19:24:30+00:00",
          "2020-11-20T19:25:01+00:00",
          "2020-11-20T19:25:47+00:00"
         ],
         "xaxis": "x",
         "y": [
          1,
          1,
          1
         ],
         "yaxis": "y"
        }
       ],
       "layout": {
        "legend": {
         "title": {
          "text": "user_id"
         },
         "tracegroupgap": 0
        },
        "margin": {
         "t": 60
        },
        "template": {
         "data": {
          "bar": [
           {
            "error_x": {
             "color": "#2a3f5f"
            },
            "error_y": {
             "color": "#2a3f5f"
            },
            "marker": {
             "line": {
              "color": "#E5ECF6",
              "width": 0.5
             }
            },
            "type": "bar"
           }
          ],
          "barpolar": [
           {
            "marker": {
             "line": {
              "color": "#E5ECF6",
              "width": 0.5
             }
            },
            "type": "barpolar"
           }
          ],
          "carpet": [
           {
            "aaxis": {
             "endlinecolor": "#2a3f5f",
             "gridcolor": "white",
             "linecolor": "white",
             "minorgridcolor": "white",
             "startlinecolor": "#2a3f5f"
            },
            "baxis": {
             "endlinecolor": "#2a3f5f",
             "gridcolor": "white",
             "linecolor": "white",
             "minorgridcolor": "white",
             "startlinecolor": "#2a3f5f"
            },
            "type": "carpet"
           }
          ],
          "choropleth": [
           {
            "colorbar": {
             "outlinewidth": 0,
             "ticks": ""
            },
            "type": "choropleth"
           }
          ],
          "contour": [
           {
            "colorbar": {
             "outlinewidth": 0,
             "ticks": ""
            },
            "colorscale": [
             [
              0,
              "#0d0887"
             ],
             [
              0.1111111111111111,
              "#46039f"
             ],
             [
              0.2222222222222222,
              "#7201a8"
             ],
             [
              0.3333333333333333,
              "#9c179e"
             ],
             [
              0.4444444444444444,
              "#bd3786"
             ],
             [
              0.5555555555555556,
              "#d8576b"
             ],
             [
              0.6666666666666666,
              "#ed7953"
             ],
             [
              0.7777777777777778,
              "#fb9f3a"
             ],
             [
              0.8888888888888888,
              "#fdca26"
             ],
             [
              1,
              "#f0f921"
             ]
            ],
            "type": "contour"
           }
          ],
          "contourcarpet": [
           {
            "colorbar": {
             "outlinewidth": 0,
             "ticks": ""
            },
            "type": "contourcarpet"
           }
          ],
          "heatmap": [
           {
            "colorbar": {
             "outlinewidth": 0,
             "ticks": ""
            },
            "colorscale": [
             [
              0,
              "#0d0887"
             ],
             [
              0.1111111111111111,
              "#46039f"
             ],
             [
              0.2222222222222222,
              "#7201a8"
             ],
             [
              0.3333333333333333,
              "#9c179e"
             ],
             [
              0.4444444444444444,
              "#bd3786"
             ],
             [
              0.5555555555555556,
              "#d8576b"
             ],
             [
              0.6666666666666666,
              "#ed7953"
             ],
             [
              0.7777777777777778,
              "#fb9f3a"
             ],
             [
              0.8888888888888888,
              "#fdca26"
             ],
             [
              1,
              "#f0f921"
             ]
            ],
            "type": "heatmap"
           }
          ],
          "heatmapgl": [
           {
            "colorbar": {
             "outlinewidth": 0,
             "ticks": ""
            },
            "colorscale": [
             [
              0,
              "#0d0887"
             ],
             [
              0.1111111111111111,
              "#46039f"
             ],
             [
              0.2222222222222222,
              "#7201a8"
             ],
             [
              0.3333333333333333,
              "#9c179e"
             ],
             [
              0.4444444444444444,
              "#bd3786"
             ],
             [
              0.5555555555555556,
              "#d8576b"
             ],
             [
              0.6666666666666666,
              "#ed7953"
             ],
             [
              0.7777777777777778,
              "#fb9f3a"
             ],
             [
              0.8888888888888888,
              "#fdca26"
             ],
             [
              1,
              "#f0f921"
             ]
            ],
            "type": "heatmapgl"
           }
          ],
          "histogram": [
           {
            "marker": {
             "colorbar": {
              "outlinewidth": 0,
              "ticks": ""
             }
            },
            "type": "histogram"
           }
          ],
          "histogram2d": [
           {
            "colorbar": {
             "outlinewidth": 0,
             "ticks": ""
            },
            "colorscale": [
             [
              0,
              "#0d0887"
             ],
             [
              0.1111111111111111,
              "#46039f"
             ],
             [
              0.2222222222222222,
              "#7201a8"
             ],
             [
              0.3333333333333333,
              "#9c179e"
             ],
             [
              0.4444444444444444,
              "#bd3786"
             ],
             [
              0.5555555555555556,
              "#d8576b"
             ],
             [
              0.6666666666666666,
              "#ed7953"
             ],
             [
              0.7777777777777778,
              "#fb9f3a"
             ],
             [
              0.8888888888888888,
              "#fdca26"
             ],
             [
              1,
              "#f0f921"
             ]
            ],
            "type": "histogram2d"
           }
          ],
          "histogram2dcontour": [
           {
            "colorbar": {
             "outlinewidth": 0,
             "ticks": ""
            },
            "colorscale": [
             [
              0,
              "#0d0887"
             ],
             [
              0.1111111111111111,
              "#46039f"
             ],
             [
              0.2222222222222222,
              "#7201a8"
             ],
             [
              0.3333333333333333,
              "#9c179e"
             ],
             [
              0.4444444444444444,
              "#bd3786"
             ],
             [
              0.5555555555555556,
              "#d8576b"
             ],
             [
              0.6666666666666666,
              "#ed7953"
             ],
             [
              0.7777777777777778,
              "#fb9f3a"
             ],
             [
              0.8888888888888888,
              "#fdca26"
             ],
             [
              1,
              "#f0f921"
             ]
            ],
            "type": "histogram2dcontour"
           }
          ],
          "mesh3d": [
           {
            "colorbar": {
             "outlinewidth": 0,
             "ticks": ""
            },
            "type": "mesh3d"
           }
          ],
          "parcoords": [
           {
            "line": {
             "colorbar": {
              "outlinewidth": 0,
              "ticks": ""
             }
            },
            "type": "parcoords"
           }
          ],
          "pie": [
           {
            "automargin": true,
            "type": "pie"
           }
          ],
          "scatter": [
           {
            "marker": {
             "colorbar": {
              "outlinewidth": 0,
              "ticks": ""
             }
            },
            "type": "scatter"
           }
          ],
          "scatter3d": [
           {
            "line": {
             "colorbar": {
              "outlinewidth": 0,
              "ticks": ""
             }
            },
            "marker": {
             "colorbar": {
              "outlinewidth": 0,
              "ticks": ""
             }
            },
            "type": "scatter3d"
           }
          ],
          "scattercarpet": [
           {
            "marker": {
             "colorbar": {
              "outlinewidth": 0,
              "ticks": ""
             }
            },
            "type": "scattercarpet"
           }
          ],
          "scattergeo": [
           {
            "marker": {
             "colorbar": {
              "outlinewidth": 0,
              "ticks": ""
             }
            },
            "type": "scattergeo"
           }
          ],
          "scattergl": [
           {
            "marker": {
             "colorbar": {
              "outlinewidth": 0,
              "ticks": ""
             }
            },
            "type": "scattergl"
           }
          ],
          "scattermapbox": [
           {
            "marker": {
             "colorbar": {
              "outlinewidth": 0,
              "ticks": ""
             }
            },
            "type": "scattermapbox"
           }
          ],
          "scatterpolar": [
           {
            "marker": {
             "colorbar": {
              "outlinewidth": 0,
              "ticks": ""
             }
            },
            "type": "scatterpolar"
           }
          ],
          "scatterpolargl": [
           {
            "marker": {
             "colorbar": {
              "outlinewidth": 0,
              "ticks": ""
             }
            },
            "type": "scatterpolargl"
           }
          ],
          "scatterternary": [
           {
            "marker": {
             "colorbar": {
              "outlinewidth": 0,
              "ticks": ""
             }
            },
            "type": "scatterternary"
           }
          ],
          "surface": [
           {
            "colorbar": {
             "outlinewidth": 0,
             "ticks": ""
            },
            "colorscale": [
             [
              0,
              "#0d0887"
             ],
             [
              0.1111111111111111,
              "#46039f"
             ],
             [
              0.2222222222222222,
              "#7201a8"
             ],
             [
              0.3333333333333333,
              "#9c179e"
             ],
             [
              0.4444444444444444,
              "#bd3786"
             ],
             [
              0.5555555555555556,
              "#d8576b"
             ],
             [
              0.6666666666666666,
              "#ed7953"
             ],
             [
              0.7777777777777778,
              "#fb9f3a"
             ],
             [
              0.8888888888888888,
              "#fdca26"
             ],
             [
              1,
              "#f0f921"
             ]
            ],
            "type": "surface"
           }
          ],
          "table": [
           {
            "cells": {
             "fill": {
              "color": "#EBF0F8"
             },
             "line": {
              "color": "white"
             }
            },
            "header": {
             "fill": {
              "color": "#C8D4E3"
             },
             "line": {
              "color": "white"
             }
            },
            "type": "table"
           }
          ]
         },
         "layout": {
          "annotationdefaults": {
           "arrowcolor": "#2a3f5f",
           "arrowhead": 0,
           "arrowwidth": 1
          },
          "autotypenumbers": "strict",
          "coloraxis": {
           "colorbar": {
            "outlinewidth": 0,
            "ticks": ""
           }
          },
          "colorscale": {
           "diverging": [
            [
             0,
             "#8e0152"
            ],
            [
             0.1,
             "#c51b7d"
            ],
            [
             0.2,
             "#de77ae"
            ],
            [
             0.3,
             "#f1b6da"
            ],
            [
             0.4,
             "#fde0ef"
            ],
            [
             0.5,
             "#f7f7f7"
            ],
            [
             0.6,
             "#e6f5d0"
            ],
            [
             0.7,
             "#b8e186"
            ],
            [
             0.8,
             "#7fbc41"
            ],
            [
             0.9,
             "#4d9221"
            ],
            [
             1,
             "#276419"
            ]
           ],
           "sequential": [
            [
             0,
             "#0d0887"
            ],
            [
             0.1111111111111111,
             "#46039f"
            ],
            [
             0.2222222222222222,
             "#7201a8"
            ],
            [
             0.3333333333333333,
             "#9c179e"
            ],
            [
             0.4444444444444444,
             "#bd3786"
            ],
            [
             0.5555555555555556,
             "#d8576b"
            ],
            [
             0.6666666666666666,
             "#ed7953"
            ],
            [
             0.7777777777777778,
             "#fb9f3a"
            ],
            [
             0.8888888888888888,
             "#fdca26"
            ],
            [
             1,
             "#f0f921"
            ]
           ],
           "sequentialminus": [
            [
             0,
             "#0d0887"
            ],
            [
             0.1111111111111111,
             "#46039f"
            ],
            [
             0.2222222222222222,
             "#7201a8"
            ],
            [
             0.3333333333333333,
             "#9c179e"
            ],
            [
             0.4444444444444444,
             "#bd3786"
            ],
            [
             0.5555555555555556,
             "#d8576b"
            ],
            [
             0.6666666666666666,
             "#ed7953"
            ],
            [
             0.7777777777777778,
             "#fb9f3a"
            ],
            [
             0.8888888888888888,
             "#fdca26"
            ],
            [
             1,
             "#f0f921"
            ]
           ]
          },
          "colorway": [
           "#636efa",
           "#EF553B",
           "#00cc96",
           "#ab63fa",
           "#FFA15A",
           "#19d3f3",
           "#FF6692",
           "#B6E880",
           "#FF97FF",
           "#FECB52"
          ],
          "font": {
           "color": "#2a3f5f"
          },
          "geo": {
           "bgcolor": "white",
           "lakecolor": "white",
           "landcolor": "#E5ECF6",
           "showlakes": true,
           "showland": true,
           "subunitcolor": "white"
          },
          "hoverlabel": {
           "align": "left"
          },
          "hovermode": "closest",
          "mapbox": {
           "style": "light"
          },
          "paper_bgcolor": "white",
          "plot_bgcolor": "#E5ECF6",
          "polar": {
           "angularaxis": {
            "gridcolor": "white",
            "linecolor": "white",
            "ticks": ""
           },
           "bgcolor": "#E5ECF6",
           "radialaxis": {
            "gridcolor": "white",
            "linecolor": "white",
            "ticks": ""
           }
          },
          "scene": {
           "xaxis": {
            "backgroundcolor": "#E5ECF6",
            "gridcolor": "white",
            "gridwidth": 2,
            "linecolor": "white",
            "showbackground": true,
            "ticks": "",
            "zerolinecolor": "white"
           },
           "yaxis": {
            "backgroundcolor": "#E5ECF6",
            "gridcolor": "white",
            "gridwidth": 2,
            "linecolor": "white",
            "showbackground": true,
            "ticks": "",
            "zerolinecolor": "white"
           },
           "zaxis": {
            "backgroundcolor": "#E5ECF6",
            "gridcolor": "white",
            "gridwidth": 2,
            "linecolor": "white",
            "showbackground": true,
            "ticks": "",
            "zerolinecolor": "white"
           }
          },
          "shapedefaults": {
           "line": {
            "color": "#2a3f5f"
           }
          },
          "ternary": {
           "aaxis": {
            "gridcolor": "white",
            "linecolor": "white",
            "ticks": ""
           },
           "baxis": {
            "gridcolor": "white",
            "linecolor": "white",
            "ticks": ""
           },
           "bgcolor": "#E5ECF6",
           "caxis": {
            "gridcolor": "white",
            "linecolor": "white",
            "ticks": ""
           }
          },
          "title": {
           "x": 0.05
          },
          "xaxis": {
           "automargin": true,
           "gridcolor": "white",
           "linecolor": "white",
           "ticks": "",
           "title": {
            "standoff": 15
           },
           "zerolinecolor": "white",
           "zerolinewidth": 2
          },
          "yaxis": {
           "automargin": true,
           "gridcolor": "white",
           "linecolor": "white",
           "ticks": "",
           "title": {
            "standoff": 15
           },
           "zerolinecolor": "white",
           "zerolinewidth": 2
          }
         }
        },
        "xaxis": {
         "anchor": "y",
         "domain": [
          0,
          1
         ],
         "title": {
          "text": "started_at"
         }
        },
        "yaxis": {
         "anchor": "x",
         "domain": [
          0,
          1
         ],
         "title": {
          "text": "score"
         }
        }
       }
      }
     },
     "metadata": {}
    }
   ],
   "source": [
    "fig = px.line(result_df,x=\"started_at\", y=\"score\", color=\"user_id\")\r\n",
    "fig.update_traces(mode=\"markers+lines\")\r\n",
    "fig.show()"
   ]
  },
  {
   "cell_type": "code",
   "execution_count": null,
   "metadata": {},
   "outputs": [],
   "source": [
    "result_df[\"user_id\"].unique()"
   ]
  },
  {
   "cell_type": "code",
   "execution_count": 21,
   "metadata": {},
   "outputs": [
    {
     "output_type": "display_data",
     "data": {
      "text/plain": "<Figure size 432x288 with 1 Axes>",
      "image/svg+xml": "<?xml version=\"1.0\" encoding=\"utf-8\" standalone=\"no\"?>\r\n<!DOCTYPE svg PUBLIC \"-//W3C//DTD SVG 1.1//EN\"\r\n  \"http://www.w3.org/Graphics/SVG/1.1/DTD/svg11.dtd\">\r\n<!-- Created with matplotlib (https://matplotlib.org/) -->\r\n<svg height=\"248.518125pt\" version=\"1.1\" viewBox=\"0 0 394.607084 248.518125\" width=\"394.607084pt\" xmlns=\"http://www.w3.org/2000/svg\" xmlns:xlink=\"http://www.w3.org/1999/xlink\">\r\n <metadata>\r\n  <rdf:RDF xmlns:cc=\"http://creativecommons.org/ns#\" xmlns:dc=\"http://purl.org/dc/elements/1.1/\" xmlns:rdf=\"http://www.w3.org/1999/02/22-rdf-syntax-ns#\">\r\n   <cc:Work>\r\n    <dc:type rdf:resource=\"http://purl.org/dc/dcmitype/StillImage\"/>\r\n    <dc:date>2021-01-04T14:54:20.296861</dc:date>\r\n    <dc:format>image/svg+xml</dc:format>\r\n    <dc:creator>\r\n     <cc:Agent>\r\n      <dc:title>Matplotlib v3.3.3, https://matplotlib.org/</dc:title>\r\n     </cc:Agent>\r\n    </dc:creator>\r\n   </cc:Work>\r\n  </rdf:RDF>\r\n </metadata>\r\n <defs>\r\n  <style type=\"text/css\">*{stroke-linecap:butt;stroke-linejoin:round;}</style>\r\n </defs>\r\n <g id=\"figure_1\">\r\n  <g id=\"patch_1\">\r\n   <path d=\"M 0 248.518125 \r\nL 394.607084 248.518125 \r\nL 394.607084 0 \r\nL 0 0 \r\nz\r\n\" style=\"fill:none;\"/>\r\n  </g>\r\n  <g id=\"axes_1\">\r\n   <g id=\"patch_2\">\r\n    <path d=\"M 36.465625 224.64 \r\nL 371.265625 224.64 \r\nL 371.265625 7.2 \r\nL 36.465625 7.2 \r\nz\r\n\" style=\"fill:#ffffff;\"/>\r\n   </g>\r\n   <g id=\"matplotlib.axis_1\">\r\n    <g id=\"xtick_1\">\r\n     <g id=\"line2d_1\">\r\n      <defs>\r\n       <path d=\"M 0 0 \r\nL 0 3.5 \r\n\" id=\"m18ffe7d39b\" style=\"stroke:#000000;stroke-width:0.8;\"/>\r\n      </defs>\r\n      <g>\r\n       <use style=\"stroke:#000000;stroke-width:0.8;\" x=\"80.33348\" xlink:href=\"#m18ffe7d39b\" y=\"224.64\"/>\r\n      </g>\r\n     </g>\r\n     <g id=\"text_1\">\r\n      <!-- 2020-10-29 -->\r\n      <g transform=\"translate(51.275667 239.238437)scale(0.1 -0.1)\">\r\n       <defs>\r\n        <path d=\"M 19.1875 8.296875 \r\nL 53.609375 8.296875 \r\nL 53.609375 0 \r\nL 7.328125 0 \r\nL 7.328125 8.296875 \r\nQ 12.9375 14.109375 22.625 23.890625 \r\nQ 32.328125 33.6875 34.8125 36.53125 \r\nQ 39.546875 41.84375 41.421875 45.53125 \r\nQ 43.3125 49.21875 43.3125 52.78125 \r\nQ 43.3125 58.59375 39.234375 62.25 \r\nQ 35.15625 65.921875 28.609375 65.921875 \r\nQ 23.96875 65.921875 18.8125 64.3125 \r\nQ 13.671875 62.703125 7.8125 59.421875 \r\nL 7.8125 69.390625 \r\nQ 13.765625 71.78125 18.9375 73 \r\nQ 24.125 74.21875 28.421875 74.21875 \r\nQ 39.75 74.21875 46.484375 68.546875 \r\nQ 53.21875 62.890625 53.21875 53.421875 \r\nQ 53.21875 48.921875 51.53125 44.890625 \r\nQ 49.859375 40.875 45.40625 35.40625 \r\nQ 44.1875 33.984375 37.640625 27.21875 \r\nQ 31.109375 20.453125 19.1875 8.296875 \r\nz\r\n\" id=\"DejaVuSans-50\"/>\r\n        <path d=\"M 31.78125 66.40625 \r\nQ 24.171875 66.40625 20.328125 58.90625 \r\nQ 16.5 51.421875 16.5 36.375 \r\nQ 16.5 21.390625 20.328125 13.890625 \r\nQ 24.171875 6.390625 31.78125 6.390625 \r\nQ 39.453125 6.390625 43.28125 13.890625 \r\nQ 47.125 21.390625 47.125 36.375 \r\nQ 47.125 51.421875 43.28125 58.90625 \r\nQ 39.453125 66.40625 31.78125 66.40625 \r\nz\r\nM 31.78125 74.21875 \r\nQ 44.046875 74.21875 50.515625 64.515625 \r\nQ 56.984375 54.828125 56.984375 36.375 \r\nQ 56.984375 17.96875 50.515625 8.265625 \r\nQ 44.046875 -1.421875 31.78125 -1.421875 \r\nQ 19.53125 -1.421875 13.0625 8.265625 \r\nQ 6.59375 17.96875 6.59375 36.375 \r\nQ 6.59375 54.828125 13.0625 64.515625 \r\nQ 19.53125 74.21875 31.78125 74.21875 \r\nz\r\n\" id=\"DejaVuSans-48\"/>\r\n        <path d=\"M 4.890625 31.390625 \r\nL 31.203125 31.390625 \r\nL 31.203125 23.390625 \r\nL 4.890625 23.390625 \r\nz\r\n\" id=\"DejaVuSans-45\"/>\r\n        <path d=\"M 12.40625 8.296875 \r\nL 28.515625 8.296875 \r\nL 28.515625 63.921875 \r\nL 10.984375 60.40625 \r\nL 10.984375 69.390625 \r\nL 28.421875 72.90625 \r\nL 38.28125 72.90625 \r\nL 38.28125 8.296875 \r\nL 54.390625 8.296875 \r\nL 54.390625 0 \r\nL 12.40625 0 \r\nz\r\n\" id=\"DejaVuSans-49\"/>\r\n        <path d=\"M 10.984375 1.515625 \r\nL 10.984375 10.5 \r\nQ 14.703125 8.734375 18.5 7.8125 \r\nQ 22.3125 6.890625 25.984375 6.890625 \r\nQ 35.75 6.890625 40.890625 13.453125 \r\nQ 46.046875 20.015625 46.78125 33.40625 \r\nQ 43.953125 29.203125 39.59375 26.953125 \r\nQ 35.25 24.703125 29.984375 24.703125 \r\nQ 19.046875 24.703125 12.671875 31.3125 \r\nQ 6.296875 37.9375 6.296875 49.421875 \r\nQ 6.296875 60.640625 12.9375 67.421875 \r\nQ 19.578125 74.21875 30.609375 74.21875 \r\nQ 43.265625 74.21875 49.921875 64.515625 \r\nQ 56.59375 54.828125 56.59375 36.375 \r\nQ 56.59375 19.140625 48.40625 8.859375 \r\nQ 40.234375 -1.421875 26.421875 -1.421875 \r\nQ 22.703125 -1.421875 18.890625 -0.6875 \r\nQ 15.09375 0.046875 10.984375 1.515625 \r\nz\r\nM 30.609375 32.421875 \r\nQ 37.25 32.421875 41.125 36.953125 \r\nQ 45.015625 41.5 45.015625 49.421875 \r\nQ 45.015625 57.28125 41.125 61.84375 \r\nQ 37.25 66.40625 30.609375 66.40625 \r\nQ 23.96875 66.40625 20.09375 61.84375 \r\nQ 16.21875 57.28125 16.21875 49.421875 \r\nQ 16.21875 41.5 20.09375 36.953125 \r\nQ 23.96875 32.421875 30.609375 32.421875 \r\nz\r\n\" id=\"DejaVuSans-57\"/>\r\n       </defs>\r\n       <use xlink:href=\"#DejaVuSans-50\"/>\r\n       <use x=\"63.623047\" xlink:href=\"#DejaVuSans-48\"/>\r\n       <use x=\"127.246094\" xlink:href=\"#DejaVuSans-50\"/>\r\n       <use x=\"190.869141\" xlink:href=\"#DejaVuSans-48\"/>\r\n       <use x=\"254.492188\" xlink:href=\"#DejaVuSans-45\"/>\r\n       <use x=\"290.576172\" xlink:href=\"#DejaVuSans-49\"/>\r\n       <use x=\"354.199219\" xlink:href=\"#DejaVuSans-48\"/>\r\n       <use x=\"417.822266\" xlink:href=\"#DejaVuSans-45\"/>\r\n       <use x=\"453.90625\" xlink:href=\"#DejaVuSans-50\"/>\r\n       <use x=\"517.529297\" xlink:href=\"#DejaVuSans-57\"/>\r\n      </g>\r\n     </g>\r\n    </g>\r\n    <g id=\"xtick_2\">\r\n     <g id=\"line2d_2\">\r\n      <g>\r\n       <use style=\"stroke:#000000;stroke-width:0.8;\" x=\"116.596409\" xlink:href=\"#m18ffe7d39b\" y=\"224.64\"/>\r\n      </g>\r\n     </g>\r\n     <g id=\"text_2\">\r\n      <!-- 2020-11-01 -->\r\n      <g transform=\"translate(87.538597 239.238437)scale(0.1 -0.1)\">\r\n       <use xlink:href=\"#DejaVuSans-50\"/>\r\n       <use x=\"63.623047\" xlink:href=\"#DejaVuSans-48\"/>\r\n       <use x=\"127.246094\" xlink:href=\"#DejaVuSans-50\"/>\r\n       <use x=\"190.869141\" xlink:href=\"#DejaVuSans-48\"/>\r\n       <use x=\"254.492188\" xlink:href=\"#DejaVuSans-45\"/>\r\n       <use x=\"290.576172\" xlink:href=\"#DejaVuSans-49\"/>\r\n       <use x=\"354.199219\" xlink:href=\"#DejaVuSans-49\"/>\r\n       <use x=\"417.822266\" xlink:href=\"#DejaVuSans-45\"/>\r\n       <use x=\"453.90625\" xlink:href=\"#DejaVuSans-48\"/>\r\n       <use x=\"517.529297\" xlink:href=\"#DejaVuSans-49\"/>\r\n      </g>\r\n     </g>\r\n    </g>\r\n    <g id=\"xtick_3\">\r\n     <g id=\"line2d_3\">\r\n      <g>\r\n       <use style=\"stroke:#000000;stroke-width:0.8;\" x=\"164.946982\" xlink:href=\"#m18ffe7d39b\" y=\"224.64\"/>\r\n      </g>\r\n     </g>\r\n     <g id=\"text_3\">\r\n      <!-- 2020-11-05 -->\r\n      <g transform=\"translate(135.889169 239.238437)scale(0.1 -0.1)\">\r\n       <defs>\r\n        <path d=\"M 10.796875 72.90625 \r\nL 49.515625 72.90625 \r\nL 49.515625 64.59375 \r\nL 19.828125 64.59375 \r\nL 19.828125 46.734375 \r\nQ 21.96875 47.46875 24.109375 47.828125 \r\nQ 26.265625 48.1875 28.421875 48.1875 \r\nQ 40.625 48.1875 47.75 41.5 \r\nQ 54.890625 34.8125 54.890625 23.390625 \r\nQ 54.890625 11.625 47.5625 5.09375 \r\nQ 40.234375 -1.421875 26.90625 -1.421875 \r\nQ 22.3125 -1.421875 17.546875 -0.640625 \r\nQ 12.796875 0.140625 7.71875 1.703125 \r\nL 7.71875 11.625 \r\nQ 12.109375 9.234375 16.796875 8.0625 \r\nQ 21.484375 6.890625 26.703125 6.890625 \r\nQ 35.15625 6.890625 40.078125 11.328125 \r\nQ 45.015625 15.765625 45.015625 23.390625 \r\nQ 45.015625 31 40.078125 35.4375 \r\nQ 35.15625 39.890625 26.703125 39.890625 \r\nQ 22.75 39.890625 18.8125 39.015625 \r\nQ 14.890625 38.140625 10.796875 36.28125 \r\nz\r\n\" id=\"DejaVuSans-53\"/>\r\n       </defs>\r\n       <use xlink:href=\"#DejaVuSans-50\"/>\r\n       <use x=\"63.623047\" xlink:href=\"#DejaVuSans-48\"/>\r\n       <use x=\"127.246094\" xlink:href=\"#DejaVuSans-50\"/>\r\n       <use x=\"190.869141\" xlink:href=\"#DejaVuSans-48\"/>\r\n       <use x=\"254.492188\" xlink:href=\"#DejaVuSans-45\"/>\r\n       <use x=\"290.576172\" xlink:href=\"#DejaVuSans-49\"/>\r\n       <use x=\"354.199219\" xlink:href=\"#DejaVuSans-49\"/>\r\n       <use x=\"417.822266\" xlink:href=\"#DejaVuSans-45\"/>\r\n       <use x=\"453.90625\" xlink:href=\"#DejaVuSans-48\"/>\r\n       <use x=\"517.529297\" xlink:href=\"#DejaVuSans-53\"/>\r\n      </g>\r\n     </g>\r\n    </g>\r\n    <g id=\"xtick_4\">\r\n     <g id=\"line2d_4\">\r\n      <g>\r\n       <use style=\"stroke:#000000;stroke-width:0.8;\" x=\"213.297554\" xlink:href=\"#m18ffe7d39b\" y=\"224.64\"/>\r\n      </g>\r\n     </g>\r\n     <g id=\"text_4\">\r\n      <!-- 2020-11-09 -->\r\n      <g transform=\"translate(184.239742 239.238437)scale(0.1 -0.1)\">\r\n       <use xlink:href=\"#DejaVuSans-50\"/>\r\n       <use x=\"63.623047\" xlink:href=\"#DejaVuSans-48\"/>\r\n       <use x=\"127.246094\" xlink:href=\"#DejaVuSans-50\"/>\r\n       <use x=\"190.869141\" xlink:href=\"#DejaVuSans-48\"/>\r\n       <use x=\"254.492188\" xlink:href=\"#DejaVuSans-45\"/>\r\n       <use x=\"290.576172\" xlink:href=\"#DejaVuSans-49\"/>\r\n       <use x=\"354.199219\" xlink:href=\"#DejaVuSans-49\"/>\r\n       <use x=\"417.822266\" xlink:href=\"#DejaVuSans-45\"/>\r\n       <use x=\"453.90625\" xlink:href=\"#DejaVuSans-48\"/>\r\n       <use x=\"517.529297\" xlink:href=\"#DejaVuSans-57\"/>\r\n      </g>\r\n     </g>\r\n    </g>\r\n    <g id=\"xtick_5\">\r\n     <g id=\"line2d_5\">\r\n      <g>\r\n       <use style=\"stroke:#000000;stroke-width:0.8;\" x=\"261.648127\" xlink:href=\"#m18ffe7d39b\" y=\"224.64\"/>\r\n      </g>\r\n     </g>\r\n     <g id=\"text_5\">\r\n      <!-- 2020-11-13 -->\r\n      <g transform=\"translate(232.590314 239.238437)scale(0.1 -0.1)\">\r\n       <defs>\r\n        <path d=\"M 40.578125 39.3125 \r\nQ 47.65625 37.796875 51.625 33 \r\nQ 55.609375 28.21875 55.609375 21.1875 \r\nQ 55.609375 10.40625 48.1875 4.484375 \r\nQ 40.765625 -1.421875 27.09375 -1.421875 \r\nQ 22.515625 -1.421875 17.65625 -0.515625 \r\nQ 12.796875 0.390625 7.625 2.203125 \r\nL 7.625 11.71875 \r\nQ 11.71875 9.328125 16.59375 8.109375 \r\nQ 21.484375 6.890625 26.8125 6.890625 \r\nQ 36.078125 6.890625 40.9375 10.546875 \r\nQ 45.796875 14.203125 45.796875 21.1875 \r\nQ 45.796875 27.640625 41.28125 31.265625 \r\nQ 36.765625 34.90625 28.71875 34.90625 \r\nL 20.21875 34.90625 \r\nL 20.21875 43.015625 \r\nL 29.109375 43.015625 \r\nQ 36.375 43.015625 40.234375 45.921875 \r\nQ 44.09375 48.828125 44.09375 54.296875 \r\nQ 44.09375 59.90625 40.109375 62.90625 \r\nQ 36.140625 65.921875 28.71875 65.921875 \r\nQ 24.65625 65.921875 20.015625 65.03125 \r\nQ 15.375 64.15625 9.8125 62.3125 \r\nL 9.8125 71.09375 \r\nQ 15.4375 72.65625 20.34375 73.4375 \r\nQ 25.25 74.21875 29.59375 74.21875 \r\nQ 40.828125 74.21875 47.359375 69.109375 \r\nQ 53.90625 64.015625 53.90625 55.328125 \r\nQ 53.90625 49.265625 50.4375 45.09375 \r\nQ 46.96875 40.921875 40.578125 39.3125 \r\nz\r\n\" id=\"DejaVuSans-51\"/>\r\n       </defs>\r\n       <use xlink:href=\"#DejaVuSans-50\"/>\r\n       <use x=\"63.623047\" xlink:href=\"#DejaVuSans-48\"/>\r\n       <use x=\"127.246094\" xlink:href=\"#DejaVuSans-50\"/>\r\n       <use x=\"190.869141\" xlink:href=\"#DejaVuSans-48\"/>\r\n       <use x=\"254.492188\" xlink:href=\"#DejaVuSans-45\"/>\r\n       <use x=\"290.576172\" xlink:href=\"#DejaVuSans-49\"/>\r\n       <use x=\"354.199219\" xlink:href=\"#DejaVuSans-49\"/>\r\n       <use x=\"417.822266\" xlink:href=\"#DejaVuSans-45\"/>\r\n       <use x=\"453.90625\" xlink:href=\"#DejaVuSans-49\"/>\r\n       <use x=\"517.529297\" xlink:href=\"#DejaVuSans-51\"/>\r\n      </g>\r\n     </g>\r\n    </g>\r\n    <g id=\"xtick_6\">\r\n     <g id=\"line2d_6\">\r\n      <g>\r\n       <use style=\"stroke:#000000;stroke-width:0.8;\" x=\"309.998699\" xlink:href=\"#m18ffe7d39b\" y=\"224.64\"/>\r\n      </g>\r\n     </g>\r\n     <g id=\"text_6\">\r\n      <!-- 2020-11-17 -->\r\n      <g transform=\"translate(280.940887 239.238437)scale(0.1 -0.1)\">\r\n       <defs>\r\n        <path d=\"M 8.203125 72.90625 \r\nL 55.078125 72.90625 \r\nL 55.078125 68.703125 \r\nL 28.609375 0 \r\nL 18.3125 0 \r\nL 43.21875 64.59375 \r\nL 8.203125 64.59375 \r\nz\r\n\" id=\"DejaVuSans-55\"/>\r\n       </defs>\r\n       <use xlink:href=\"#DejaVuSans-50\"/>\r\n       <use x=\"63.623047\" xlink:href=\"#DejaVuSans-48\"/>\r\n       <use x=\"127.246094\" xlink:href=\"#DejaVuSans-50\"/>\r\n       <use x=\"190.869141\" xlink:href=\"#DejaVuSans-48\"/>\r\n       <use x=\"254.492188\" xlink:href=\"#DejaVuSans-45\"/>\r\n       <use x=\"290.576172\" xlink:href=\"#DejaVuSans-49\"/>\r\n       <use x=\"354.199219\" xlink:href=\"#DejaVuSans-49\"/>\r\n       <use x=\"417.822266\" xlink:href=\"#DejaVuSans-45\"/>\r\n       <use x=\"453.90625\" xlink:href=\"#DejaVuSans-49\"/>\r\n       <use x=\"517.529297\" xlink:href=\"#DejaVuSans-55\"/>\r\n      </g>\r\n     </g>\r\n    </g>\r\n    <g id=\"xtick_7\">\r\n     <g id=\"line2d_7\">\r\n      <g>\r\n       <use style=\"stroke:#000000;stroke-width:0.8;\" x=\"358.349272\" xlink:href=\"#m18ffe7d39b\" y=\"224.64\"/>\r\n      </g>\r\n     </g>\r\n     <g id=\"text_7\">\r\n      <!-- 2020-11-21 -->\r\n      <g transform=\"translate(329.291459 239.238437)scale(0.1 -0.1)\">\r\n       <use xlink:href=\"#DejaVuSans-50\"/>\r\n       <use x=\"63.623047\" xlink:href=\"#DejaVuSans-48\"/>\r\n       <use x=\"127.246094\" xlink:href=\"#DejaVuSans-50\"/>\r\n       <use x=\"190.869141\" xlink:href=\"#DejaVuSans-48\"/>\r\n       <use x=\"254.492188\" xlink:href=\"#DejaVuSans-45\"/>\r\n       <use x=\"290.576172\" xlink:href=\"#DejaVuSans-49\"/>\r\n       <use x=\"354.199219\" xlink:href=\"#DejaVuSans-49\"/>\r\n       <use x=\"417.822266\" xlink:href=\"#DejaVuSans-45\"/>\r\n       <use x=\"453.90625\" xlink:href=\"#DejaVuSans-50\"/>\r\n       <use x=\"517.529297\" xlink:href=\"#DejaVuSans-49\"/>\r\n      </g>\r\n     </g>\r\n    </g>\r\n   </g>\r\n   <g id=\"matplotlib.axis_2\">\r\n    <g id=\"ytick_1\">\r\n     <g id=\"line2d_8\">\r\n      <defs>\r\n       <path d=\"M 0 0 \r\nL -3.5 0 \r\n\" id=\"m0c4ee88478\" style=\"stroke:#000000;stroke-width:0.8;\"/>\r\n      </defs>\r\n      <g>\r\n       <use style=\"stroke:#000000;stroke-width:0.8;\" x=\"36.465625\" xlink:href=\"#m0c4ee88478\" y=\"214.756364\"/>\r\n      </g>\r\n     </g>\r\n     <g id=\"text_8\">\r\n      <!-- 1.00 -->\r\n      <g transform=\"translate(7.2 218.555582)scale(0.1 -0.1)\">\r\n       <defs>\r\n        <path d=\"M 10.6875 12.40625 \r\nL 21 12.40625 \r\nL 21 0 \r\nL 10.6875 0 \r\nz\r\n\" id=\"DejaVuSans-46\"/>\r\n       </defs>\r\n       <use xlink:href=\"#DejaVuSans-49\"/>\r\n       <use x=\"63.623047\" xlink:href=\"#DejaVuSans-46\"/>\r\n       <use x=\"95.410156\" xlink:href=\"#DejaVuSans-48\"/>\r\n       <use x=\"159.033203\" xlink:href=\"#DejaVuSans-48\"/>\r\n      </g>\r\n     </g>\r\n    </g>\r\n    <g id=\"ytick_2\">\r\n     <g id=\"line2d_9\">\r\n      <g>\r\n       <use style=\"stroke:#000000;stroke-width:0.8;\" x=\"36.465625\" xlink:href=\"#m0c4ee88478\" y=\"190.047273\"/>\r\n      </g>\r\n     </g>\r\n     <g id=\"text_9\">\r\n      <!-- 1.25 -->\r\n      <g transform=\"translate(7.2 193.846491)scale(0.1 -0.1)\">\r\n       <use xlink:href=\"#DejaVuSans-49\"/>\r\n       <use x=\"63.623047\" xlink:href=\"#DejaVuSans-46\"/>\r\n       <use x=\"95.410156\" xlink:href=\"#DejaVuSans-50\"/>\r\n       <use x=\"159.033203\" xlink:href=\"#DejaVuSans-53\"/>\r\n      </g>\r\n     </g>\r\n    </g>\r\n    <g id=\"ytick_3\">\r\n     <g id=\"line2d_10\">\r\n      <g>\r\n       <use style=\"stroke:#000000;stroke-width:0.8;\" x=\"36.465625\" xlink:href=\"#m0c4ee88478\" y=\"165.338182\"/>\r\n      </g>\r\n     </g>\r\n     <g id=\"text_10\">\r\n      <!-- 1.50 -->\r\n      <g transform=\"translate(7.2 169.137401)scale(0.1 -0.1)\">\r\n       <use xlink:href=\"#DejaVuSans-49\"/>\r\n       <use x=\"63.623047\" xlink:href=\"#DejaVuSans-46\"/>\r\n       <use x=\"95.410156\" xlink:href=\"#DejaVuSans-53\"/>\r\n       <use x=\"159.033203\" xlink:href=\"#DejaVuSans-48\"/>\r\n      </g>\r\n     </g>\r\n    </g>\r\n    <g id=\"ytick_4\">\r\n     <g id=\"line2d_11\">\r\n      <g>\r\n       <use style=\"stroke:#000000;stroke-width:0.8;\" x=\"36.465625\" xlink:href=\"#m0c4ee88478\" y=\"140.629091\"/>\r\n      </g>\r\n     </g>\r\n     <g id=\"text_11\">\r\n      <!-- 1.75 -->\r\n      <g transform=\"translate(7.2 144.42831)scale(0.1 -0.1)\">\r\n       <use xlink:href=\"#DejaVuSans-49\"/>\r\n       <use x=\"63.623047\" xlink:href=\"#DejaVuSans-46\"/>\r\n       <use x=\"95.410156\" xlink:href=\"#DejaVuSans-55\"/>\r\n       <use x=\"159.033203\" xlink:href=\"#DejaVuSans-53\"/>\r\n      </g>\r\n     </g>\r\n    </g>\r\n    <g id=\"ytick_5\">\r\n     <g id=\"line2d_12\">\r\n      <g>\r\n       <use style=\"stroke:#000000;stroke-width:0.8;\" x=\"36.465625\" xlink:href=\"#m0c4ee88478\" y=\"115.92\"/>\r\n      </g>\r\n     </g>\r\n     <g id=\"text_12\">\r\n      <!-- 2.00 -->\r\n      <g transform=\"translate(7.2 119.719219)scale(0.1 -0.1)\">\r\n       <use xlink:href=\"#DejaVuSans-50\"/>\r\n       <use x=\"63.623047\" xlink:href=\"#DejaVuSans-46\"/>\r\n       <use x=\"95.410156\" xlink:href=\"#DejaVuSans-48\"/>\r\n       <use x=\"159.033203\" xlink:href=\"#DejaVuSans-48\"/>\r\n      </g>\r\n     </g>\r\n    </g>\r\n    <g id=\"ytick_6\">\r\n     <g id=\"line2d_13\">\r\n      <g>\r\n       <use style=\"stroke:#000000;stroke-width:0.8;\" x=\"36.465625\" xlink:href=\"#m0c4ee88478\" y=\"91.210909\"/>\r\n      </g>\r\n     </g>\r\n     <g id=\"text_13\">\r\n      <!-- 2.25 -->\r\n      <g transform=\"translate(7.2 95.010128)scale(0.1 -0.1)\">\r\n       <use xlink:href=\"#DejaVuSans-50\"/>\r\n       <use x=\"63.623047\" xlink:href=\"#DejaVuSans-46\"/>\r\n       <use x=\"95.410156\" xlink:href=\"#DejaVuSans-50\"/>\r\n       <use x=\"159.033203\" xlink:href=\"#DejaVuSans-53\"/>\r\n      </g>\r\n     </g>\r\n    </g>\r\n    <g id=\"ytick_7\">\r\n     <g id=\"line2d_14\">\r\n      <g>\r\n       <use style=\"stroke:#000000;stroke-width:0.8;\" x=\"36.465625\" xlink:href=\"#m0c4ee88478\" y=\"66.501818\"/>\r\n      </g>\r\n     </g>\r\n     <g id=\"text_14\">\r\n      <!-- 2.50 -->\r\n      <g transform=\"translate(7.2 70.301037)scale(0.1 -0.1)\">\r\n       <use xlink:href=\"#DejaVuSans-50\"/>\r\n       <use x=\"63.623047\" xlink:href=\"#DejaVuSans-46\"/>\r\n       <use x=\"95.410156\" xlink:href=\"#DejaVuSans-53\"/>\r\n       <use x=\"159.033203\" xlink:href=\"#DejaVuSans-48\"/>\r\n      </g>\r\n     </g>\r\n    </g>\r\n    <g id=\"ytick_8\">\r\n     <g id=\"line2d_15\">\r\n      <g>\r\n       <use style=\"stroke:#000000;stroke-width:0.8;\" x=\"36.465625\" xlink:href=\"#m0c4ee88478\" y=\"41.792727\"/>\r\n      </g>\r\n     </g>\r\n     <g id=\"text_15\">\r\n      <!-- 2.75 -->\r\n      <g transform=\"translate(7.2 45.591946)scale(0.1 -0.1)\">\r\n       <use xlink:href=\"#DejaVuSans-50\"/>\r\n       <use x=\"63.623047\" xlink:href=\"#DejaVuSans-46\"/>\r\n       <use x=\"95.410156\" xlink:href=\"#DejaVuSans-55\"/>\r\n       <use x=\"159.033203\" xlink:href=\"#DejaVuSans-53\"/>\r\n      </g>\r\n     </g>\r\n    </g>\r\n    <g id=\"ytick_9\">\r\n     <g id=\"line2d_16\">\r\n      <g>\r\n       <use style=\"stroke:#000000;stroke-width:0.8;\" x=\"36.465625\" xlink:href=\"#m0c4ee88478\" y=\"17.083636\"/>\r\n      </g>\r\n     </g>\r\n     <g id=\"text_16\">\r\n      <!-- 3.00 -->\r\n      <g transform=\"translate(7.2 20.882855)scale(0.1 -0.1)\">\r\n       <use xlink:href=\"#DejaVuSans-51\"/>\r\n       <use x=\"63.623047\" xlink:href=\"#DejaVuSans-46\"/>\r\n       <use x=\"95.410156\" xlink:href=\"#DejaVuSans-48\"/>\r\n       <use x=\"159.033203\" xlink:href=\"#DejaVuSans-48\"/>\r\n      </g>\r\n     </g>\r\n    </g>\r\n   </g>\r\n   <g id=\"line2d_17\">\r\n    <path clip-path=\"url(#pb2f71afc4d)\" d=\"M 55.533385 115.92 \r\nL 55.551853 17.083636 \r\nL 67.655585 17.083636 \r\n\" style=\"fill:none;stroke:#1f77b4;stroke-linecap:square;stroke-width:1.5;\"/>\r\n   </g>\r\n   <g id=\"line2d_18\">\r\n    <path clip-path=\"url(#pb2f71afc4d)\" d=\"M 55.723094 115.92 \r\nL 67.767507 17.083636 \r\nL 176.450389 115.92 \r\n\" style=\"fill:none;stroke:#ff7f0e;stroke-linecap:square;stroke-width:1.5;\"/>\r\n   </g>\r\n   <g id=\"line2d_19\">\r\n    <path clip-path=\"url(#pb2f71afc4d)\" d=\"M 55.745619 17.083636 \r\nL 55.749816 115.92 \r\nL 344.571737 115.92 \r\n\" style=\"fill:none;stroke:#2ca02c;stroke-linecap:square;stroke-width:1.5;\"/>\r\n   </g>\r\n   <g id=\"line2d_20\">\r\n    <path clip-path=\"url(#pb2f71afc4d)\" d=\"M 55.900631 115.92 \r\nL 55.916301 115.92 \r\nL 67.485742 115.92 \r\n\" style=\"fill:none;stroke:#d62728;stroke-linecap:square;stroke-width:1.5;\"/>\r\n   </g>\r\n   <g id=\"line2d_21\">\r\n    <path clip-path=\"url(#pb2f71afc4d)\" d=\"M 55.918679 17.083636 \r\nL 55.930011 17.083636 \r\nL 55.944002 17.083636 \r\n\" style=\"fill:none;stroke:#9467bd;stroke-linecap:square;stroke-width:1.5;\"/>\r\n   </g>\r\n   <g id=\"line2d_22\">\r\n    <path clip-path=\"url(#pb2f71afc4d)\" d=\"M 56.690525 115.92 \r\nL 56.69808 115.92 \r\nL 56.701858 115.92 \r\n\" style=\"fill:none;stroke:#8c564b;stroke-linecap:square;stroke-width:1.5;\"/>\r\n   </g>\r\n   <g id=\"line2d_23\">\r\n    <path clip-path=\"url(#pb2f71afc4d)\" d=\"M 62.461396 115.92 \r\nL 62.46923 115.92 \r\nL 62.473148 115.92 \r\n\" style=\"fill:none;stroke:#e377c2;stroke-linecap:square;stroke-width:1.5;\"/>\r\n   </g>\r\n   <g id=\"line2d_24\">\r\n    <path clip-path=\"url(#pb2f71afc4d)\" d=\"M 58.539347 115.92 \r\nL 67.0831 115.92 \r\nL 81.548819 115.92 \r\n\" style=\"fill:none;stroke:#7f7f7f;stroke-linecap:square;stroke-width:1.5;\"/>\r\n   </g>\r\n   <g id=\"line2d_25\">\r\n    <path clip-path=\"url(#pb2f71afc4d)\" d=\"M 67.758274 115.92 \r\n\" style=\"fill:none;stroke:#bcbd22;stroke-linecap:square;stroke-width:1.5;\"/>\r\n   </g>\r\n   <g id=\"line2d_26\">\r\n    <path clip-path=\"url(#pb2f71afc4d)\" d=\"M 67.90881 17.083636 \r\nL 67.934552 17.083636 \r\nL 67.942386 17.083636 \r\n\" style=\"fill:none;stroke:#17becf;stroke-linecap:square;stroke-width:1.5;\"/>\r\n   </g>\r\n   <g id=\"line2d_27\">\r\n    <path clip-path=\"url(#pb2f71afc4d)\" d=\"M 55.542899 115.92 \r\nL 68.098938 17.083636 \r\nL 68.133354 17.083636 \r\n\" style=\"fill:none;stroke:#1f77b4;stroke-linecap:square;stroke-width:1.5;\"/>\r\n   </g>\r\n   <g id=\"line2d_28\">\r\n    <path clip-path=\"url(#pb2f71afc4d)\" d=\"M 54.2681 115.92 \r\nL 68.107053 115.92 \r\nL 68.11013 115.92 \r\n\" style=\"fill:none;stroke:#ff7f0e;stroke-linecap:square;stroke-width:1.5;\"/>\r\n   </g>\r\n   <g id=\"line2d_29\">\r\n    <path clip-path=\"url(#pb2f71afc4d)\" d=\"M 55.817529 214.756364 \r\nL 55.825783 115.92 \r\nL 68.315089 115.92 \r\n\" style=\"fill:none;stroke:#2ca02c;stroke-linecap:square;stroke-width:1.5;\"/>\r\n   </g>\r\n   <g id=\"line2d_30\">\r\n    <path clip-path=\"url(#pb2f71afc4d)\" d=\"M 55.610332 115.92 \r\nL 68.527462 115.92 \r\nL 68.774951 115.92 \r\n\" style=\"fill:none;stroke:#d62728;stroke-linecap:square;stroke-width:1.5;\"/>\r\n   </g>\r\n   <g id=\"line2d_31\">\r\n    <path clip-path=\"url(#pb2f71afc4d)\" d=\"M 69.228937 17.083636 \r\nL 69.243627 17.083636 \r\nL 69.257057 17.083636 \r\n\" style=\"fill:none;stroke:#9467bd;stroke-linecap:square;stroke-width:1.5;\"/>\r\n   </g>\r\n   <g id=\"line2d_32\">\r\n    <path clip-path=\"url(#pb2f71afc4d)\" d=\"M 67.140321 17.083636 \r\nL 71.518314 17.083636 \r\nL 71.565182 115.92 \r\n\" style=\"fill:none;stroke:#8c564b;stroke-linecap:square;stroke-width:1.5;\"/>\r\n   </g>\r\n   <g id=\"line2d_33\">\r\n    <path clip-path=\"url(#pb2f71afc4d)\" d=\"M 53.97878 17.083636 \r\nL 63.359155 17.083636 \r\nL 75.579007 17.083636 \r\n\" style=\"fill:none;stroke:#e377c2;stroke-linecap:square;stroke-width:1.5;\"/>\r\n   </g>\r\n   <g id=\"line2d_34\">\r\n    <path clip-path=\"url(#pb2f71afc4d)\" d=\"M 75.754445 115.92 \r\n\" style=\"fill:none;stroke:#7f7f7f;stroke-linecap:square;stroke-width:1.5;\"/>\r\n   </g>\r\n   <g id=\"line2d_35\">\r\n    <path clip-path=\"url(#pb2f71afc4d)\" d=\"M 76.013127 214.756364 \r\nL 76.047403 214.756364 \r\n\" style=\"fill:none;stroke:#bcbd22;stroke-linecap:square;stroke-width:1.5;\"/>\r\n   </g>\r\n   <g id=\"line2d_36\">\r\n    <path clip-path=\"url(#pb2f71afc4d)\" d=\"M 55.689517 17.083636 \r\nL 66.914657 17.083636 \r\nL 76.301048 17.083636 \r\n\" style=\"fill:none;stroke:#17becf;stroke-linecap:square;stroke-width:1.5;\"/>\r\n   </g>\r\n   <g id=\"line2d_37\">\r\n    <path clip-path=\"url(#pb2f71afc4d)\" d=\"M 77.97513 115.92 \r\nL 77.982125 115.92 \r\nL 111.862922 115.92 \r\n\" style=\"fill:none;stroke:#1f77b4;stroke-linecap:square;stroke-width:1.5;\"/>\r\n   </g>\r\n   <g id=\"line2d_38\">\r\n    <path clip-path=\"url(#pb2f71afc4d)\" d=\"M 55.375994 115.92 \r\nL 67.247207 115.92 \r\nL 78.064249 115.92 \r\n\" style=\"fill:none;stroke:#ff7f0e;stroke-linecap:square;stroke-width:1.5;\"/>\r\n   </g>\r\n   <g id=\"line2d_39\">\r\n    <path clip-path=\"url(#pb2f71afc4d)\" d=\"M 54.332596 115.92 \r\nL 78.113634 115.92 \r\n\" style=\"fill:none;stroke:#2ca02c;stroke-linecap:square;stroke-width:1.5;\"/>\r\n   </g>\r\n   <g id=\"line2d_40\">\r\n    <path clip-path=\"url(#pb2f71afc4d)\" d=\"M 78.225277 17.083636 \r\n\" style=\"fill:none;stroke:#d62728;stroke-linecap:square;stroke-width:1.5;\"/>\r\n   </g>\r\n   <g id=\"line2d_41\">\r\n    <path clip-path=\"url(#pb2f71afc4d)\" d=\"M 78.358885 17.083636 \r\nL 78.364761 17.083636 \r\n\" style=\"fill:none;stroke:#9467bd;stroke-linecap:square;stroke-width:1.5;\"/>\r\n   </g>\r\n   <g id=\"line2d_42\">\r\n    <path clip-path=\"url(#pb2f71afc4d)\" d=\"M 67.290857 115.92 \r\nL 78.673387 115.92 \r\n\" style=\"fill:none;stroke:#8c564b;stroke-linecap:square;stroke-width:1.5;\"/>\r\n   </g>\r\n   <g id=\"line2d_43\">\r\n    <path clip-path=\"url(#pb2f71afc4d)\" d=\"M 54.473898 115.92 \r\nL 66.741736 17.083636 \r\nL 78.869672 17.083636 \r\n\" style=\"fill:none;stroke:#e377c2;stroke-linecap:square;stroke-width:1.5;\"/>\r\n   </g>\r\n   <g id=\"line2d_44\">\r\n    <path clip-path=\"url(#pb2f71afc4d)\" d=\"M 55.372077 115.92 \r\nL 69.935309 115.92 \r\nL 78.949976 115.92 \r\nL 78.949976 17.083636 \r\n\" style=\"fill:none;stroke:#7f7f7f;stroke-linecap:square;stroke-width:1.5;\"/>\r\n   </g>\r\n   <g id=\"line2d_45\">\r\n    <path clip-path=\"url(#pb2f71afc4d)\" d=\"M 78.94382 115.92 \r\nL 78.950116 115.92 \r\nL 78.955712 115.92 \r\n\" style=\"fill:none;stroke:#bcbd22;stroke-linecap:square;stroke-width:1.5;\"/>\r\n   </g>\r\n   <g id=\"line2d_46\">\r\n    <path clip-path=\"url(#pb2f71afc4d)\" d=\"M 75.975073 17.083636 \r\nL 75.983747 17.083636 \r\nL 79.159271 17.083636 \r\n\" style=\"fill:none;stroke:#17becf;stroke-linecap:square;stroke-width:1.5;\"/>\r\n   </g>\r\n   <g id=\"line2d_47\">\r\n    <path clip-path=\"url(#pb2f71afc4d)\" d=\"M 55.456439 115.92 \r\nL 67.686643 17.083636 \r\nL 79.16165 115.92 \r\n\" style=\"fill:none;stroke:#1f77b4;stroke-linecap:square;stroke-width:1.5;\"/>\r\n   </g>\r\n   <g id=\"line2d_48\">\r\n    <path clip-path=\"url(#pb2f71afc4d)\" d=\"M 55.326329 115.92 \r\nL 65.838241 115.92 \r\nL 79.16193 115.92 \r\n\" style=\"fill:none;stroke:#ff7f0e;stroke-linecap:square;stroke-width:1.5;\"/>\r\n   </g>\r\n   <g id=\"line2d_49\">\r\n    <path clip-path=\"url(#pb2f71afc4d)\" d=\"M 69.250762 17.083636 \r\nL 79.234679 17.083636 \r\n\" style=\"fill:none;stroke:#2ca02c;stroke-linecap:square;stroke-width:1.5;\"/>\r\n   </g>\r\n   <g id=\"line2d_50\">\r\n    <path clip-path=\"url(#pb2f71afc4d)\" d=\"M 54.963699 115.92 \r\nL 66.756286 115.92 \r\nL 79.252447 115.92 \r\n\" style=\"fill:none;stroke:#d62728;stroke-linecap:square;stroke-width:1.5;\"/>\r\n   </g>\r\n   <g id=\"line2d_51\">\r\n    <path clip-path=\"url(#pb2f71afc4d)\" d=\"M 55.61285 115.92 \r\nL 67.039171 17.083636 \r\nL 79.265178 115.92 \r\n\" style=\"fill:none;stroke:#9467bd;stroke-linecap:square;stroke-width:1.5;\"/>\r\n   </g>\r\n   <g id=\"line2d_52\">\r\n    <path clip-path=\"url(#pb2f71afc4d)\" d=\"M 56.688567 115.92 \r\nL 70.29528 115.92 \r\nL 79.307289 115.92 \r\n\" style=\"fill:none;stroke:#8c564b;stroke-linecap:square;stroke-width:1.5;\"/>\r\n   </g>\r\n   <g id=\"line2d_53\">\r\n    <path clip-path=\"url(#pb2f71afc4d)\" d=\"M 55.694554 115.92 \r\nL 66.884997 115.92 \r\nL 79.558136 115.92 \r\n\" style=\"fill:none;stroke:#e377c2;stroke-linecap:square;stroke-width:1.5;\"/>\r\n   </g>\r\n   <g id=\"line2d_54\">\r\n    <path clip-path=\"url(#pb2f71afc4d)\" d=\"M 56.401345 115.92 \r\nL 56.414216 17.083636 \r\nL 79.611579 17.083636 \r\n\" style=\"fill:none;stroke:#7f7f7f;stroke-linecap:square;stroke-width:1.5;\"/>\r\n   </g>\r\n   <g id=\"line2d_55\">\r\n    <path clip-path=\"url(#pb2f71afc4d)\" d=\"M 51.895201 115.92 \r\nL 67.898317 115.92 \r\nL 79.621092 115.92 \r\n\" style=\"fill:none;stroke:#bcbd22;stroke-linecap:square;stroke-width:1.5;\"/>\r\n   </g>\r\n   <g id=\"line2d_56\">\r\n    <path clip-path=\"url(#pb2f71afc4d)\" d=\"M 55.405794 17.083636 \r\nL 67.903633 115.92 \r\nL 79.629347 17.083636 \r\n\" style=\"fill:none;stroke:#17becf;stroke-linecap:square;stroke-width:1.5;\"/>\r\n   </g>\r\n   <g id=\"line2d_57\">\r\n    <path clip-path=\"url(#pb2f71afc4d)\" d=\"M 53.905471 115.92 \r\nL 65.88273 17.083636 \r\nL 79.633124 115.92 \r\n\" style=\"fill:none;stroke:#1f77b4;stroke-linecap:square;stroke-width:1.5;\"/>\r\n   </g>\r\n   <g id=\"line2d_58\">\r\n    <path clip-path=\"url(#pb2f71afc4d)\" d=\"M 54.871083 115.92 \r\nL 66.96824 115.92 \r\nL 79.663483 115.92 \r\n\" style=\"fill:none;stroke:#ff7f0e;stroke-linecap:square;stroke-width:1.5;\"/>\r\n   </g>\r\n   <g id=\"line2d_59\">\r\n    <path clip-path=\"url(#pb2f71afc4d)\" d=\"M 53.401819 115.92 \r\nL 66.643664 115.92 \r\nL 79.699998 115.92 \r\n\" style=\"fill:none;stroke:#2ca02c;stroke-linecap:square;stroke-width:1.5;\"/>\r\n   </g>\r\n   <g id=\"line2d_60\">\r\n    <path clip-path=\"url(#pb2f71afc4d)\" d=\"M 54.280132 115.92 \r\nL 66.741037 115.92 \r\nL 79.794712 17.083636 \r\n\" style=\"fill:none;stroke:#d62728;stroke-linecap:square;stroke-width:1.5;\"/>\r\n   </g>\r\n   <g id=\"line2d_61\">\r\n    <path clip-path=\"url(#pb2f71afc4d)\" d=\"M 55.980656 17.083636 \r\nL 68.403368 17.083636 \r\nL 79.804366 17.083636 \r\n\" style=\"fill:none;stroke:#9467bd;stroke-linecap:square;stroke-width:1.5;\"/>\r\n   </g>\r\n   <g id=\"line2d_62\">\r\n    <path clip-path=\"url(#pb2f71afc4d)\" d=\"M 55.385508 17.083636 \r\nL 67.570523 115.92 \r\nL 79.808563 17.083636 \r\n\" style=\"fill:none;stroke:#8c564b;stroke-linecap:square;stroke-width:1.5;\"/>\r\n   </g>\r\n   <g id=\"line2d_63\">\r\n    <path clip-path=\"url(#pb2f71afc4d)\" d=\"M 54.84688 115.92 \r\nL 66.793221 115.92 \r\nL 79.829128 214.756364 \r\n\" style=\"fill:none;stroke:#e377c2;stroke-linecap:square;stroke-width:1.5;\"/>\r\n   </g>\r\n   <g id=\"line2d_64\">\r\n    <path clip-path=\"url(#pb2f71afc4d)\" d=\"M 67.694338 17.083636 \r\nL 79.570727 115.92 \r\nL 79.831367 115.92 \r\n\" style=\"fill:none;stroke:#7f7f7f;stroke-linecap:square;stroke-width:1.5;\"/>\r\n   </g>\r\n   <g id=\"line2d_65\">\r\n    <path clip-path=\"url(#pb2f71afc4d)\" d=\"M 54.955725 17.083636 \r\nL 54.969435 17.083636 \r\nL 79.840041 17.083636 \r\n\" style=\"fill:none;stroke:#bcbd22;stroke-linecap:square;stroke-width:1.5;\"/>\r\n   </g>\r\n   <g id=\"line2d_66\">\r\n    <path clip-path=\"url(#pb2f71afc4d)\" d=\"M 66.813507 17.083636 \r\nL 79.864104 214.756364 \r\n\" style=\"fill:none;stroke:#17becf;stroke-linecap:square;stroke-width:1.5;\"/>\r\n   </g>\r\n   <g id=\"line2d_67\">\r\n    <path clip-path=\"url(#pb2f71afc4d)\" d=\"M 52.421237 17.083636 \r\nL 67.076245 17.083636 \r\nL 79.881732 17.083636 \r\n\" style=\"fill:none;stroke:#1f77b4;stroke-linecap:square;stroke-width:1.5;\"/>\r\n   </g>\r\n   <g id=\"line2d_68\">\r\n    <path clip-path=\"url(#pb2f71afc4d)\" d=\"M 78.809653 115.92 \r\nL 78.818467 115.92 \r\nL 79.885929 115.92 \r\n\" style=\"fill:none;stroke:#ff7f0e;stroke-linecap:square;stroke-width:1.5;\"/>\r\n   </g>\r\n   <g id=\"line2d_69\">\r\n    <path clip-path=\"url(#pb2f71afc4d)\" d=\"M 67.837039 115.92 \r\nL 67.841376 115.92 \r\nL 79.917128 115.92 \r\n\" style=\"fill:none;stroke:#2ca02c;stroke-linecap:square;stroke-width:1.5;\"/>\r\n   </g>\r\n   <g id=\"line2d_70\">\r\n    <path clip-path=\"url(#pb2f71afc4d)\" d=\"M 55.834597 17.083636 \r\nL 68.047734 17.083636 \r\nL 79.934615 17.083636 \r\n\" style=\"fill:none;stroke:#d62728;stroke-linecap:square;stroke-width:1.5;\"/>\r\n   </g>\r\n   <g id=\"line2d_71\">\r\n    <path clip-path=\"url(#pb2f71afc4d)\" d=\"M 56.30845 17.083636 \r\nL 68.282211 17.083636 \r\nL 79.937553 17.083636 \r\n\" style=\"fill:none;stroke:#9467bd;stroke-linecap:square;stroke-width:1.5;\"/>\r\n   </g>\r\n   <g id=\"line2d_72\">\r\n    <path clip-path=\"url(#pb2f71afc4d)\" d=\"M 57.082394 17.083636 \r\nL 68.580345 17.083636 \r\nL 68.580345 115.92 \r\nL 79.962316 17.083636 \r\n\" style=\"fill:none;stroke:#8c564b;stroke-linecap:square;stroke-width:1.5;\"/>\r\n   </g>\r\n   <g id=\"line2d_73\">\r\n    <path clip-path=\"url(#pb2f71afc4d)\" d=\"M 67.72036 17.083636 \r\nL 67.904892 17.083636 \r\nL 79.972949 17.083636 \r\n\" style=\"fill:none;stroke:#e377c2;stroke-linecap:square;stroke-width:1.5;\"/>\r\n   </g>\r\n   <g id=\"line2d_74\">\r\n    <path clip-path=\"url(#pb2f71afc4d)\" d=\"M 56.008637 17.083636 \r\nL 67.884187 17.083636 \r\nL 79.982322 17.083636 \r\n\" style=\"fill:none;stroke:#7f7f7f;stroke-linecap:square;stroke-width:1.5;\"/>\r\n   </g>\r\n   <g id=\"line2d_75\">\r\n    <path clip-path=\"url(#pb2f71afc4d)\" d=\"M 79.991136 17.083636 \r\n\" style=\"fill:none;stroke:#bcbd22;stroke-linecap:square;stroke-width:1.5;\"/>\r\n   </g>\r\n   <g id=\"line2d_76\">\r\n    <path clip-path=\"url(#pb2f71afc4d)\" d=\"M 56.498578 115.92 \r\nL 66.858835 115.92 \r\nL 80.018418 115.92 \r\n\" style=\"fill:none;stroke:#17becf;stroke-linecap:square;stroke-width:1.5;\"/>\r\n   </g>\r\n   <g id=\"line2d_77\">\r\n    <path clip-path=\"url(#pb2f71afc4d)\" d=\"M 67.787513 17.083636 \r\nL 67.992472 17.083636 \r\nL 80.030169 17.083636 \r\n\" style=\"fill:none;stroke:#1f77b4;stroke-linecap:square;stroke-width:1.5;\"/>\r\n   </g>\r\n   <g id=\"line2d_78\">\r\n    <path clip-path=\"url(#pb2f71afc4d)\" d=\"M 66.719352 17.083636 \r\nL 66.773075 17.083636 \r\nL 80.051155 17.083636 \r\n\" style=\"fill:none;stroke:#ff7f0e;stroke-linecap:square;stroke-width:1.5;\"/>\r\n   </g>\r\n   <g id=\"line2d_79\">\r\n    <path clip-path=\"url(#pb2f71afc4d)\" d=\"M 66.713336 115.92 \r\nL 66.720191 115.92 \r\nL 80.05871 115.92 \r\n\" style=\"fill:none;stroke:#2ca02c;stroke-linecap:square;stroke-width:1.5;\"/>\r\n   </g>\r\n   <g id=\"line2d_80\">\r\n    <path clip-path=\"url(#pb2f71afc4d)\" d=\"M 80.059829 115.92 \r\n\" style=\"fill:none;stroke:#d62728;stroke-linecap:square;stroke-width:1.5;\"/>\r\n   </g>\r\n   <g id=\"line2d_81\">\r\n    <path clip-path=\"url(#pb2f71afc4d)\" d=\"M 80.065005 17.083636 \r\n\" style=\"fill:none;stroke:#9467bd;stroke-linecap:square;stroke-width:1.5;\"/>\r\n   </g>\r\n   <g id=\"line2d_82\">\r\n    <path clip-path=\"url(#pb2f71afc4d)\" d=\"M 54.665985 17.083636 \r\nL 67.47483 17.083636 \r\nL 80.066404 17.083636 \r\n\" style=\"fill:none;stroke:#8c564b;stroke-linecap:square;stroke-width:1.5;\"/>\r\n   </g>\r\n   <g id=\"line2d_83\">\r\n    <path clip-path=\"url(#pb2f71afc4d)\" d=\"M 67.762611 17.083636 \r\nL 80.066404 17.083636 \r\n\" style=\"fill:none;stroke:#e377c2;stroke-linecap:square;stroke-width:1.5;\"/>\r\n   </g>\r\n   <g id=\"line2d_84\">\r\n    <path clip-path=\"url(#pb2f71afc4d)\" d=\"M 56.893525 115.92 \r\nL 56.91521 115.92 \r\nL 80.073959 17.083636 \r\n\" style=\"fill:none;stroke:#7f7f7f;stroke-linecap:square;stroke-width:1.5;\"/>\r\n   </g>\r\n   <g id=\"line2d_85\">\r\n    <path clip-path=\"url(#pb2f71afc4d)\" d=\"M 54.525942 115.92 \r\nL 67.629003 115.92 \r\nL 80.084452 17.083636 \r\n\" style=\"fill:none;stroke:#bcbd22;stroke-linecap:square;stroke-width:1.5;\"/>\r\n   </g>\r\n   <g id=\"line2d_86\">\r\n    <path clip-path=\"url(#pb2f71afc4d)\" d=\"M 56.020249 17.083636 \r\nL 80.104178 17.083636 \r\n\" style=\"fill:none;stroke:#17becf;stroke-linecap:square;stroke-width:1.5;\"/>\r\n   </g>\r\n   <g id=\"line2d_87\">\r\n    <path clip-path=\"url(#pb2f71afc4d)\" d=\"M 55.986672 17.083636 \r\nL 80.104458 17.083636 \r\n\" style=\"fill:none;stroke:#1f77b4;stroke-linecap:square;stroke-width:1.5;\"/>\r\n   </g>\r\n   <g id=\"line2d_88\">\r\n    <path clip-path=\"url(#pb2f71afc4d)\" d=\"M 65.317661 115.92 \r\nL 68.090824 115.92 \r\nL 80.110614 115.92 \r\n\" style=\"fill:none;stroke:#ff7f0e;stroke-linecap:square;stroke-width:1.5;\"/>\r\n   </g>\r\n   <g id=\"line2d_89\">\r\n    <path clip-path=\"url(#pb2f71afc4d)\" d=\"M 55.994926 17.083636 \r\nL 68.205544 17.083636 \r\nL 80.112153 17.083636 \r\n\" style=\"fill:none;stroke:#2ca02c;stroke-linecap:square;stroke-width:1.5;\"/>\r\n   </g>\r\n   <g id=\"line2d_90\">\r\n    <path clip-path=\"url(#pb2f71afc4d)\" d=\"M 56.159173 115.92 \r\nL 67.710707 115.92 \r\nL 80.121946 115.92 \r\n\" style=\"fill:none;stroke:#d62728;stroke-linecap:square;stroke-width:1.5;\"/>\r\n   </g>\r\n   <g id=\"line2d_91\">\r\n    <path clip-path=\"url(#pb2f71afc4d)\" d=\"M 55.829421 115.92 \r\nL 68.044516 115.92 \r\nL 80.128102 115.92 \r\n\" style=\"fill:none;stroke:#9467bd;stroke-linecap:square;stroke-width:1.5;\"/>\r\n   </g>\r\n   <g id=\"line2d_92\">\r\n    <path clip-path=\"url(#pb2f71afc4d)\" d=\"M 55.098706 115.92 \r\nL 67.356052 17.083636 \r\nL 80.129641 17.083636 \r\n\" style=\"fill:none;stroke:#8c564b;stroke-linecap:square;stroke-width:1.5;\"/>\r\n   </g>\r\n   <g id=\"line2d_93\">\r\n    <path clip-path=\"url(#pb2f71afc4d)\" d=\"M 56.117062 115.92 \r\nL 67.406697 115.92 \r\nL 80.14517 115.92 \r\n\" style=\"fill:none;stroke:#e377c2;stroke-linecap:square;stroke-width:1.5;\"/>\r\n   </g>\r\n   <g id=\"line2d_94\">\r\n    <path clip-path=\"url(#pb2f71afc4d)\" d=\"M 56.028363 17.083636 \r\nL 80.148528 17.083636 \r\n\" style=\"fill:none;stroke:#7f7f7f;stroke-linecap:square;stroke-width:1.5;\"/>\r\n   </g>\r\n   <g id=\"line2d_95\">\r\n    <path clip-path=\"url(#pb2f71afc4d)\" d=\"M 80.147548 115.92 \r\nL 80.152165 115.92 \r\nL 80.155243 115.92 \r\n\" style=\"fill:none;stroke:#bcbd22;stroke-linecap:square;stroke-width:1.5;\"/>\r\n   </g>\r\n   <g id=\"line2d_96\">\r\n    <path clip-path=\"url(#pb2f71afc4d)\" d=\"M 67.866559 17.083636 \r\nL 68.24024 17.083636 \r\nL 80.167135 17.083636 \r\n\" style=\"fill:none;stroke:#17becf;stroke-linecap:square;stroke-width:1.5;\"/>\r\n   </g>\r\n   <g id=\"line2d_97\">\r\n    <path clip-path=\"url(#pb2f71afc4d)\" d=\"M 55.995626 115.92 \r\nL 68.148884 115.92 \r\nL 80.169373 115.92 \r\n\" style=\"fill:none;stroke:#1f77b4;stroke-linecap:square;stroke-width:1.5;\"/>\r\n   </g>\r\n   <g id=\"line2d_98\">\r\n    <path clip-path=\"url(#pb2f71afc4d)\" d=\"M 55.833058 115.92 \r\nL 67.904752 115.92 \r\nL 80.17357 115.92 \r\n\" style=\"fill:none;stroke:#ff7f0e;stroke-linecap:square;stroke-width:1.5;\"/>\r\n   </g>\r\n   <g id=\"line2d_99\">\r\n    <path clip-path=\"url(#pb2f71afc4d)\" d=\"M 55.832499 115.92 \r\nL 68.249754 17.083636 \r\nL 80.180565 115.92 \r\n\" style=\"fill:none;stroke:#2ca02c;stroke-linecap:square;stroke-width:1.5;\"/>\r\n   </g>\r\n   <g id=\"line2d_100\">\r\n    <path clip-path=\"url(#pb2f71afc4d)\" d=\"M 54.659829 115.92 \r\nL 67.760652 17.083636 \r\nL 80.200432 17.083636 \r\n\" style=\"fill:none;stroke:#d62728;stroke-linecap:square;stroke-width:1.5;\"/>\r\n   </g>\r\n   <g id=\"line2d_101\">\r\n    <path clip-path=\"url(#pb2f71afc4d)\" d=\"M 55.514359 115.92 \r\nL 67.963092 115.92 \r\nL 80.234008 17.083636 \r\n\" style=\"fill:none;stroke:#9467bd;stroke-linecap:square;stroke-width:1.5;\"/>\r\n   </g>\r\n   <g id=\"line2d_102\">\r\n    <path clip-path=\"url(#pb2f71afc4d)\" d=\"M 57.62452 115.92 \r\nL 68.277595 115.92 \r\nL 80.240024 115.92 \r\n\" style=\"fill:none;stroke:#8c564b;stroke-linecap:square;stroke-width:1.5;\"/>\r\n   </g>\r\n   <g id=\"line2d_103\">\r\n    <path clip-path=\"url(#pb2f71afc4d)\" d=\"M 56.478012 115.92 \r\nL 68.204845 115.92 \r\nL 80.24604 115.92 \r\n\" style=\"fill:none;stroke:#e377c2;stroke-linecap:square;stroke-width:1.5;\"/>\r\n   </g>\r\n   <g id=\"line2d_104\">\r\n    <path clip-path=\"url(#pb2f71afc4d)\" d=\"M 66.713196 115.92 \r\nL 66.713196 17.083636 \r\nL 68.100337 115.92 \r\nL 80.24688 115.92 \r\n\" style=\"fill:none;stroke:#7f7f7f;stroke-linecap:square;stroke-width:1.5;\"/>\r\n   </g>\r\n   <g id=\"line2d_105\">\r\n    <path clip-path=\"url(#pb2f71afc4d)\" d=\"M 55.769822 17.083636 \r\nL 55.770661 17.083636 \r\nL 80.257652 17.083636 \r\n\" style=\"fill:none;stroke:#bcbd22;stroke-linecap:square;stroke-width:1.5;\"/>\r\n   </g>\r\n   <g id=\"line2d_106\">\r\n    <path clip-path=\"url(#pb2f71afc4d)\" d=\"M 57.187322 115.92 \r\nL 80.261989 115.92 \r\n\" style=\"fill:none;stroke:#17becf;stroke-linecap:square;stroke-width:1.5;\"/>\r\n   </g>\r\n   <g id=\"line2d_107\">\r\n    <path clip-path=\"url(#pb2f71afc4d)\" d=\"M 65.908193 17.083636 \r\nL 71.716977 17.083636 \r\nL 80.264228 17.083636 \r\nL 80.264228 115.92 \r\n\" style=\"fill:none;stroke:#1f77b4;stroke-linecap:square;stroke-width:1.5;\"/>\r\n   </g>\r\n   <g id=\"line2d_108\">\r\n    <path clip-path=\"url(#pb2f71afc4d)\" d=\"M 57.432293 17.083636 \r\nL 66.834912 17.083636 \r\nL 80.296825 17.083636 \r\n\" style=\"fill:none;stroke:#ff7f0e;stroke-linecap:square;stroke-width:1.5;\"/>\r\n   </g>\r\n   <g id=\"line2d_109\">\r\n    <path clip-path=\"url(#pb2f71afc4d)\" d=\"M 66.171211 17.083636 \r\nL 66.171211 115.92 \r\nL 67.724557 17.083636 \r\nL 80.357543 17.083636 \r\n\" style=\"fill:none;stroke:#2ca02c;stroke-linecap:square;stroke-width:1.5;\"/>\r\n   </g>\r\n   <g id=\"line2d_110\">\r\n    <path clip-path=\"url(#pb2f71afc4d)\" d=\"M 55.36788 115.92 \r\nL 80.403012 214.756364 \r\n\" style=\"fill:none;stroke:#d62728;stroke-linecap:square;stroke-width:1.5;\"/>\r\n   </g>\r\n   <g id=\"line2d_111\">\r\n    <path clip-path=\"url(#pb2f71afc4d)\" d=\"M 80.413644 17.083636 \r\nL 100.532015 17.083636 \r\n\" style=\"fill:none;stroke:#9467bd;stroke-linecap:square;stroke-width:1.5;\"/>\r\n   </g>\r\n   <g id=\"line2d_112\">\r\n    <path clip-path=\"url(#pb2f71afc4d)\" d=\"M 80.354045 115.92 \r\nL 80.414624 115.92 \r\nL 80.418121 115.92 \r\n\" style=\"fill:none;stroke:#8c564b;stroke-linecap:square;stroke-width:1.5;\"/>\r\n   </g>\r\n   <g id=\"line2d_113\">\r\n    <path clip-path=\"url(#pb2f71afc4d)\" d=\"M 55.84495 115.92 \r\nL 67.896218 115.92 \r\nL 80.461491 115.92 \r\nL 80.461491 214.756364 \r\n\" style=\"fill:none;stroke:#e377c2;stroke-linecap:square;stroke-width:1.5;\"/>\r\n   </g>\r\n   <g id=\"line2d_114\">\r\n    <path clip-path=\"url(#pb2f71afc4d)\" d=\"M 80.481078 115.92 \r\nL 80.486534 115.92 \r\n\" style=\"fill:none;stroke:#7f7f7f;stroke-linecap:square;stroke-width:1.5;\"/>\r\n   </g>\r\n   <g id=\"line2d_115\">\r\n    <path clip-path=\"url(#pb2f71afc4d)\" d=\"M 57.803456 115.92 \r\nL 75.142928 17.083636 \r\nL 80.500524 115.92 \r\n\" style=\"fill:none;stroke:#bcbd22;stroke-linecap:square;stroke-width:1.5;\"/>\r\n   </g>\r\n   <g id=\"line2d_116\">\r\n    <path clip-path=\"url(#pb2f71afc4d)\" d=\"M 63.723323 17.083636 \r\nL 67.976243 17.083636 \r\nL 80.517592 17.083636 \r\n\" style=\"fill:none;stroke:#17becf;stroke-linecap:square;stroke-width:1.5;\"/>\r\n   </g>\r\n   <g id=\"line2d_117\">\r\n    <path clip-path=\"url(#pb2f71afc4d)\" d=\"M 80.534241 115.92 \r\n\" style=\"fill:none;stroke:#1f77b4;stroke-linecap:square;stroke-width:1.5;\"/>\r\n   </g>\r\n   <g id=\"line2d_118\">\r\n    <path clip-path=\"url(#pb2f71afc4d)\" d=\"M 56.010456 115.92 \r\nL 68.068579 115.92 \r\nL 80.597337 115.92 \r\n\" style=\"fill:none;stroke:#ff7f0e;stroke-linecap:square;stroke-width:1.5;\"/>\r\n   </g>\r\n   <g id=\"line2d_119\">\r\n    <path clip-path=\"url(#pb2f71afc4d)\" d=\"M 56.518864 115.92 \r\nL 56.518864 214.756364 \r\nL 68.159936 17.083636 \r\nL 80.673585 115.92 \r\n\" style=\"fill:none;stroke:#2ca02c;stroke-linecap:square;stroke-width:1.5;\"/>\r\n   </g>\r\n   <g id=\"line2d_120\">\r\n    <path clip-path=\"url(#pb2f71afc4d)\" d=\"M 68.334675 115.92 \r\nL 79.199284 115.92 \r\nL 80.682818 115.92 \r\n\" style=\"fill:none;stroke:#d62728;stroke-linecap:square;stroke-width:1.5;\"/>\r\n   </g>\r\n   <g id=\"line2d_121\">\r\n    <path clip-path=\"url(#pb2f71afc4d)\" d=\"M 55.12193 17.083636 \r\nL 67.009092 115.92 \r\nL 80.76648 115.92 \r\n\" style=\"fill:none;stroke:#9467bd;stroke-linecap:square;stroke-width:1.5;\"/>\r\n   </g>\r\n   <g id=\"line2d_122\">\r\n    <path clip-path=\"url(#pb2f71afc4d)\" d=\"M 69.922158 115.92 \r\nL 69.949998 115.92 \r\nL 80.779072 115.92 \r\n\" style=\"fill:none;stroke:#8c564b;stroke-linecap:square;stroke-width:1.5;\"/>\r\n   </g>\r\n   <g id=\"line2d_123\">\r\n    <path clip-path=\"url(#pb2f71afc4d)\" d=\"M 80.906244 17.083636 \r\n\" style=\"fill:none;stroke:#e377c2;stroke-linecap:square;stroke-width:1.5;\"/>\r\n   </g>\r\n   <g id=\"line2d_124\">\r\n    <path clip-path=\"url(#pb2f71afc4d)\" d=\"M 56.318802 17.083636 \r\nL 68.208622 17.083636 \r\nL 80.914638 17.083636 \r\n\" style=\"fill:none;stroke:#7f7f7f;stroke-linecap:square;stroke-width:1.5;\"/>\r\n   </g>\r\n   <g id=\"line2d_125\">\r\n    <path clip-path=\"url(#pb2f71afc4d)\" d=\"M 68.593356 17.083636 \r\nL 80.918415 17.083636 \r\n\" style=\"fill:none;stroke:#bcbd22;stroke-linecap:square;stroke-width:1.5;\"/>\r\n   </g>\r\n   <g id=\"line2d_126\">\r\n    <path clip-path=\"url(#pb2f71afc4d)\" d=\"M 63.566352 115.92 \r\nL 70.144464 115.92 \r\nL 80.928209 115.92 \r\n\" style=\"fill:none;stroke:#17becf;stroke-linecap:square;stroke-width:1.5;\"/>\r\n   </g>\r\n   <g id=\"line2d_127\">\r\n    <path clip-path=\"url(#pb2f71afc4d)\" d=\"M 67.738827 17.083636 \r\nL 80.931706 17.083636 \r\n\" style=\"fill:none;stroke:#1f77b4;stroke-linecap:square;stroke-width:1.5;\"/>\r\n   </g>\r\n   <g id=\"line2d_128\">\r\n    <path clip-path=\"url(#pb2f71afc4d)\" d=\"M 55.957432 115.92 \r\nL 68.157558 115.92 \r\nL 80.946536 115.92 \r\n\" style=\"fill:none;stroke:#ff7f0e;stroke-linecap:square;stroke-width:1.5;\"/>\r\n   </g>\r\n   <g id=\"line2d_129\">\r\n    <path clip-path=\"url(#pb2f71afc4d)\" d=\"M 66.843586 17.083636 \r\nL 67.993591 17.083636 \r\nL 80.964863 115.92 \r\n\" style=\"fill:none;stroke:#2ca02c;stroke-linecap:square;stroke-width:1.5;\"/>\r\n   </g>\r\n   <g id=\"line2d_130\">\r\n    <path clip-path=\"url(#pb2f71afc4d)\" d=\"M 57.965884 115.92 \r\nL 76.194301 17.083636 \r\nL 80.993403 17.083636 \r\n\" style=\"fill:none;stroke:#d62728;stroke-linecap:square;stroke-width:1.5;\"/>\r\n   </g>\r\n   <g id=\"line2d_131\">\r\n    <path clip-path=\"url(#pb2f71afc4d)\" d=\"M 81.062795 214.756364 \r\n\" style=\"fill:none;stroke:#9467bd;stroke-linecap:square;stroke-width:1.5;\"/>\r\n   </g>\r\n   <g id=\"line2d_132\">\r\n    <path clip-path=\"url(#pb2f71afc4d)\" d=\"M 56.632885 115.92 \r\nL 68.286688 115.92 \r\nL 81.117078 115.92 \r\n\" style=\"fill:none;stroke:#8c564b;stroke-linecap:square;stroke-width:1.5;\"/>\r\n   </g>\r\n   <g id=\"line2d_133\">\r\n    <path clip-path=\"url(#pb2f71afc4d)\" d=\"M 56.501376 17.083636 \r\nL 68.415259 17.083636 \r\nL 81.192766 17.083636 \r\n\" style=\"fill:none;stroke:#e377c2;stroke-linecap:square;stroke-width:1.5;\"/>\r\n   </g>\r\n   <g id=\"line2d_134\">\r\n    <path clip-path=\"url(#pb2f71afc4d)\" d=\"M 54.16639 17.083636 \r\nL 68.572231 17.083636 \r\nL 81.220746 17.083636 \r\n\" style=\"fill:none;stroke:#7f7f7f;stroke-linecap:square;stroke-width:1.5;\"/>\r\n   </g>\r\n   <g id=\"line2d_135\">\r\n    <path clip-path=\"url(#pb2f71afc4d)\" d=\"M 81.220327 115.92 \r\nL 81.227462 115.92 \r\nL 81.234037 115.92 \r\n\" style=\"fill:none;stroke:#bcbd22;stroke-linecap:square;stroke-width:1.5;\"/>\r\n   </g>\r\n   <g id=\"line2d_136\">\r\n    <path clip-path=\"url(#pb2f71afc4d)\" d=\"M 56.019689 115.92 \r\nL 81.233757 115.92 \r\nL 81.246768 17.083636 \r\n\" style=\"fill:none;stroke:#17becf;stroke-linecap:square;stroke-width:1.5;\"/>\r\n   </g>\r\n   <g id=\"line2d_137\">\r\n    <path clip-path=\"url(#pb2f71afc4d)\" d=\"M 66.802035 17.083636 \r\nL 78.847007 17.083636 \r\nL 81.261458 115.92 \r\n\" style=\"fill:none;stroke:#1f77b4;stroke-linecap:square;stroke-width:1.5;\"/>\r\n   </g>\r\n   <g id=\"line2d_138\">\r\n    <path clip-path=\"url(#pb2f71afc4d)\" d=\"M 55.140537 115.92 \r\nL 67.845573 115.92 \r\nL 81.564349 115.92 \r\n\" style=\"fill:none;stroke:#ff7f0e;stroke-linecap:square;stroke-width:1.5;\"/>\r\n   </g>\r\n   <g id=\"line2d_139\">\r\n    <path clip-path=\"url(#pb2f71afc4d)\" d=\"M 81.579318 115.92 \r\nL 81.594148 17.083636 \r\nL 81.604641 17.083636 \r\n\" style=\"fill:none;stroke:#2ca02c;stroke-linecap:square;stroke-width:1.5;\"/>\r\n   </g>\r\n   <g id=\"line2d_140\">\r\n    <path clip-path=\"url(#pb2f71afc4d)\" d=\"M 55.506944 115.92 \r\nL 66.901366 115.92 \r\nL 81.697397 115.92 \r\n\" style=\"fill:none;stroke:#d62728;stroke-linecap:square;stroke-width:1.5;\"/>\r\n   </g>\r\n   <g id=\"line2d_141\">\r\n    <path clip-path=\"url(#pb2f71afc4d)\" d=\"M 67.793389 17.083636 \r\nL 68.041158 115.92 \r\nL 81.776162 17.083636 \r\n\" style=\"fill:none;stroke:#9467bd;stroke-linecap:square;stroke-width:1.5;\"/>\r\n   </g>\r\n   <g id=\"line2d_142\">\r\n    <path clip-path=\"url(#pb2f71afc4d)\" d=\"M 63.391193 17.083636 \r\nL 63.400007 115.92 \r\nL 82.140051 17.083636 \r\n\" style=\"fill:none;stroke:#8c564b;stroke-linecap:square;stroke-width:1.5;\"/>\r\n   </g>\r\n   <g id=\"line2d_143\">\r\n    <path clip-path=\"url(#pb2f71afc4d)\" d=\"M 54.560358 17.083636 \r\nL 68.180782 17.083636 \r\nL 82.19965 214.756364 \r\n\" style=\"fill:none;stroke:#e377c2;stroke-linecap:square;stroke-width:1.5;\"/>\r\n   </g>\r\n   <g id=\"line2d_144\">\r\n    <path clip-path=\"url(#pb2f71afc4d)\" d=\"M 82.25743 115.92 \r\nL 82.260927 115.92 \r\n\" style=\"fill:none;stroke:#7f7f7f;stroke-linecap:square;stroke-width:1.5;\"/>\r\n   </g>\r\n   <g id=\"line2d_145\">\r\n    <path clip-path=\"url(#pb2f71afc4d)\" d=\"M 56.768452 115.92 \r\nL 70.694144 115.92 \r\nL 82.288628 115.92 \r\n\" style=\"fill:none;stroke:#bcbd22;stroke-linecap:square;stroke-width:1.5;\"/>\r\n   </g>\r\n   <g id=\"line2d_146\">\r\n    <path clip-path=\"url(#pb2f71afc4d)\" d=\"M 69.371498 115.92 \r\nL 69.38367 115.92 \r\nL 82.299121 115.92 \r\n\" style=\"fill:none;stroke:#17becf;stroke-linecap:square;stroke-width:1.5;\"/>\r\n   </g>\r\n   <g id=\"line2d_147\">\r\n    <path clip-path=\"url(#pb2f71afc4d)\" d=\"M 56.967534 17.083636 \r\nL 69.293992 17.083636 \r\nL 82.318707 17.083636 \r\n\" style=\"fill:none;stroke:#1f77b4;stroke-linecap:square;stroke-width:1.5;\"/>\r\n   </g>\r\n   <g id=\"line2d_148\">\r\n    <path clip-path=\"url(#pb2f71afc4d)\" d=\"M 55.792626 115.92 \r\nL 67.859424 17.083636 \r\nL 82.383762 115.92 \r\n\" style=\"fill:none;stroke:#ff7f0e;stroke-linecap:square;stroke-width:1.5;\"/>\r\n   </g>\r\n   <g id=\"line2d_149\">\r\n    <path clip-path=\"url(#pb2f71afc4d)\" d=\"M 58.009254 115.92 \r\nL 82.597395 115.92 \r\nL 82.609986 115.92 \r\n\" style=\"fill:none;stroke:#2ca02c;stroke-linecap:square;stroke-width:1.5;\"/>\r\n   </g>\r\n   <g id=\"line2d_150\">\r\n    <path clip-path=\"url(#pb2f71afc4d)\" d=\"M 55.009867 17.083636 \r\nL 56.660726 214.756364 \r\nL 82.709737 115.92 \r\n\" style=\"fill:none;stroke:#d62728;stroke-linecap:square;stroke-width:1.5;\"/>\r\n   </g>\r\n   <g id=\"line2d_151\">\r\n    <path clip-path=\"url(#pb2f71afc4d)\" d=\"M 59.82324 115.92 \r\nL 74.922301 115.92 \r\nL 82.768077 115.92 \r\n\" style=\"fill:none;stroke:#9467bd;stroke-linecap:square;stroke-width:1.5;\"/>\r\n   </g>\r\n   <g id=\"line2d_152\">\r\n    <path clip-path=\"url(#pb2f71afc4d)\" d=\"M 59.109733 115.92 \r\nL 68.477656 115.92 \r\nL 83.015286 115.92 \r\n\" style=\"fill:none;stroke:#8c564b;stroke-linecap:square;stroke-width:1.5;\"/>\r\n   </g>\r\n   <g id=\"line2d_153\">\r\n    <path clip-path=\"url(#pb2f71afc4d)\" d=\"M 54.922008 115.92 \r\nL 70.531296 115.92 \r\nL 83.050122 115.92 \r\n\" style=\"fill:none;stroke:#e377c2;stroke-linecap:square;stroke-width:1.5;\"/>\r\n   </g>\r\n   <g id=\"line2d_154\">\r\n    <path clip-path=\"url(#pb2f71afc4d)\" d=\"M 67.333247 17.083636 \r\nL 67.991073 17.083636 \r\nL 83.166101 17.083636 \r\n\" style=\"fill:none;stroke:#7f7f7f;stroke-linecap:square;stroke-width:1.5;\"/>\r\n   </g>\r\n   <g id=\"line2d_155\">\r\n    <path clip-path=\"url(#pb2f71afc4d)\" d=\"M 83.180092 115.92 \r\n\" style=\"fill:none;stroke:#bcbd22;stroke-linecap:square;stroke-width:1.5;\"/>\r\n   </g>\r\n   <g id=\"line2d_156\">\r\n    <path clip-path=\"url(#pb2f71afc4d)\" d=\"M 57.432852 115.92 \r\nL 69.174235 115.92 \r\nL 83.277884 17.083636 \r\n\" style=\"fill:none;stroke:#17becf;stroke-linecap:square;stroke-width:1.5;\"/>\r\n   </g>\r\n   <g id=\"line2d_157\">\r\n    <path clip-path=\"url(#pb2f71afc4d)\" d=\"M 83.313419 115.92 \r\nL 83.3421 115.92 \r\n\" style=\"fill:none;stroke:#1f77b4;stroke-linecap:square;stroke-width:1.5;\"/>\r\n   </g>\r\n   <g id=\"line2d_158\">\r\n    <path clip-path=\"url(#pb2f71afc4d)\" d=\"M 71.262851 17.083636 \r\nL 83.333426 17.083636 \r\n\" style=\"fill:none;stroke:#ff7f0e;stroke-linecap:square;stroke-width:1.5;\"/>\r\n   </g>\r\n   <g id=\"line2d_159\">\r\n    <path clip-path=\"url(#pb2f71afc4d)\" d=\"M 52.211102 17.083636 \r\nL 60.290656 17.083636 \r\nL 83.704169 17.083636 \r\n\" style=\"fill:none;stroke:#2ca02c;stroke-linecap:square;stroke-width:1.5;\"/>\r\n   </g>\r\n   <g id=\"line2d_160\">\r\n    <path clip-path=\"url(#pb2f71afc4d)\" d=\"M 56.71333 115.92 \r\nL 58.828527 115.92 \r\nL 83.729632 17.083636 \r\n\" style=\"fill:none;stroke:#d62728;stroke-linecap:square;stroke-width:1.5;\"/>\r\n   </g>\r\n   <g id=\"line2d_161\">\r\n    <path clip-path=\"url(#pb2f71afc4d)\" d=\"M 56.43828 17.083636 \r\nL 69.376395 17.083636 \r\nL 83.865898 17.083636 \r\n\" style=\"fill:none;stroke:#9467bd;stroke-linecap:square;stroke-width:1.5;\"/>\r\n   </g>\r\n   <g id=\"line2d_162\">\r\n    <path clip-path=\"url(#pb2f71afc4d)\" d=\"M 70.411259 115.92 \r\nL 85.246183 115.92 \r\n\" style=\"fill:none;stroke:#8c564b;stroke-linecap:square;stroke-width:1.5;\"/>\r\n   </g>\r\n   <g id=\"line2d_163\">\r\n    <path clip-path=\"url(#pb2f71afc4d)\" d=\"M 56.3223 17.083636 \r\nL 67.258399 17.083636 \r\nL 87.354246 17.083636 \r\n\" style=\"fill:none;stroke:#e377c2;stroke-linecap:square;stroke-width:1.5;\"/>\r\n   </g>\r\n   <g id=\"line2d_164\">\r\n    <path clip-path=\"url(#pb2f71afc4d)\" d=\"M 55.991289 115.92 \r\nL 80.011282 214.756364 \r\nL 87.705683 214.756364 \r\n\" style=\"fill:none;stroke:#7f7f7f;stroke-linecap:square;stroke-width:1.5;\"/>\r\n   </g>\r\n   <g id=\"line2d_165\">\r\n    <path clip-path=\"url(#pb2f71afc4d)\" d=\"M 56.556778 115.92 \r\nL 87.73912 115.92 \r\nL 87.821523 17.083636 \r\n\" style=\"fill:none;stroke:#bcbd22;stroke-linecap:square;stroke-width:1.5;\"/>\r\n   </g>\r\n   <g id=\"line2d_166\">\r\n    <path clip-path=\"url(#pb2f71afc4d)\" d=\"M 56.877436 115.92 \r\nL 67.060716 115.92 \r\nL 87.853421 115.92 \r\n\" style=\"fill:none;stroke:#17becf;stroke-linecap:square;stroke-width:1.5;\"/>\r\n   </g>\r\n   <g id=\"line2d_167\">\r\n    <path clip-path=\"url(#pb2f71afc4d)\" d=\"M 54.821418 115.92 \r\nL 54.821418 17.083636 \r\nL 87.907004 115.92 \r\nL 87.946177 115.92 \r\n\" style=\"fill:none;stroke:#1f77b4;stroke-linecap:square;stroke-width:1.5;\"/>\r\n   </g>\r\n   <g id=\"line2d_168\">\r\n    <path clip-path=\"url(#pb2f71afc4d)\" d=\"M 55.72967 115.92 \r\nL 63.705695 115.92 \r\nL 87.962965 115.92 \r\nL 87.962965 214.756364 \r\n\" style=\"fill:none;stroke:#ff7f0e;stroke-linecap:square;stroke-width:1.5;\"/>\r\n   </g>\r\n   <g id=\"line2d_169\">\r\n    <path clip-path=\"url(#pb2f71afc4d)\" d=\"M 56.008357 115.92 \r\nL 66.905283 115.92 \r\nL 88.12917 214.756364 \r\nL 88.12917 115.92 \r\n\" style=\"fill:none;stroke:#2ca02c;stroke-linecap:square;stroke-width:1.5;\"/>\r\n   </g>\r\n   <g id=\"line2d_170\">\r\n    <path clip-path=\"url(#pb2f71afc4d)\" d=\"M 51.683807 115.92 \r\nL 64.238167 115.92 \r\nL 88.1433 115.92 \r\n\" style=\"fill:none;stroke:#d62728;stroke-linecap:square;stroke-width:1.5;\"/>\r\n   </g>\r\n   <g id=\"line2d_171\">\r\n    <path clip-path=\"url(#pb2f71afc4d)\" d=\"M 55.920358 115.92 \r\nL 88.339025 214.756364 \r\nL 88.348119 214.756364 \r\n\" style=\"fill:none;stroke:#9467bd;stroke-linecap:square;stroke-width:1.5;\"/>\r\n   </g>\r\n   <g id=\"line2d_172\">\r\n    <path clip-path=\"url(#pb2f71afc4d)\" d=\"M 88.72194 17.083636 \r\nL 88.727117 17.083636 \r\nL 88.731314 17.083636 \r\n\" style=\"fill:none;stroke:#8c564b;stroke-linecap:square;stroke-width:1.5;\"/>\r\n   </g>\r\n   <g id=\"line2d_173\">\r\n    <path clip-path=\"url(#pb2f71afc4d)\" d=\"M 76.381632 115.92 \r\nL 76.388767 115.92 \r\nL 89.113949 115.92 \r\n\" style=\"fill:none;stroke:#e377c2;stroke-linecap:square;stroke-width:1.5;\"/>\r\n   </g>\r\n   <g id=\"line2d_174\">\r\n    <path clip-path=\"url(#pb2f71afc4d)\" d=\"M 62.540441 115.92 \r\nL 67.976383 214.756364 \r\nL 90.214289 17.083636 \r\n\" style=\"fill:none;stroke:#7f7f7f;stroke-linecap:square;stroke-width:1.5;\"/>\r\n   </g>\r\n   <g id=\"line2d_175\">\r\n    <path clip-path=\"url(#pb2f71afc4d)\" d=\"M 67.530091 115.92 \r\nL 79.71035 115.92 \r\nL 90.705209 115.92 \r\n\" style=\"fill:none;stroke:#bcbd22;stroke-linecap:square;stroke-width:1.5;\"/>\r\n   </g>\r\n   <g id=\"line2d_176\">\r\n    <path clip-path=\"url(#pb2f71afc4d)\" d=\"M 63.778725 115.92 \r\nL 75.918552 115.92 \r\nL 90.927935 115.92 \r\n\" style=\"fill:none;stroke:#17becf;stroke-linecap:square;stroke-width:1.5;\"/>\r\n   </g>\r\n   <g id=\"line2d_177\">\r\n    <path clip-path=\"url(#pb2f71afc4d)\" d=\"M 66.471863 17.083636 \r\nL 91.088824 17.083636 \r\nL 91.091622 17.083636 \r\n\" style=\"fill:none;stroke:#1f77b4;stroke-linecap:square;stroke-width:1.5;\"/>\r\n   </g>\r\n   <g id=\"line2d_178\">\r\n    <path clip-path=\"url(#pb2f71afc4d)\" d=\"M 55.047781 115.92 \r\nL 67.636838 115.92 \r\nL 91.2977 214.756364 \r\n\" style=\"fill:none;stroke:#ff7f0e;stroke-linecap:square;stroke-width:1.5;\"/>\r\n   </g>\r\n   <g id=\"line2d_179\">\r\n    <path clip-path=\"url(#pb2f71afc4d)\" d=\"M 63.325718 115.92 \r\nL 66.744255 17.083636 \r\nL 91.481952 115.92 \r\n\" style=\"fill:none;stroke:#2ca02c;stroke-linecap:square;stroke-width:1.5;\"/>\r\n   </g>\r\n   <g id=\"line2d_180\">\r\n    <path clip-path=\"url(#pb2f71afc4d)\" d=\"M 66.503901 17.083636 \r\nL 79.716087 17.083636 \r\nL 91.496782 17.083636 \r\n\" style=\"fill:none;stroke:#d62728;stroke-linecap:square;stroke-width:1.5;\"/>\r\n   </g>\r\n   <g id=\"line2d_181\">\r\n    <path clip-path=\"url(#pb2f71afc4d)\" d=\"M 91.790159 17.083636 \r\nL 91.799253 17.083636 \r\n\" style=\"fill:none;stroke:#9467bd;stroke-linecap:square;stroke-width:1.5;\"/>\r\n   </g>\r\n   <g id=\"line2d_182\">\r\n    <path clip-path=\"url(#pb2f71afc4d)\" d=\"M 56.182537 17.083636 \r\nL 56.193869 17.083636 \r\nL 91.812823 17.083636 \r\n\" style=\"fill:none;stroke:#8c564b;stroke-linecap:square;stroke-width:1.5;\"/>\r\n   </g>\r\n   <g id=\"line2d_183\">\r\n    <path clip-path=\"url(#pb2f71afc4d)\" d=\"M 55.624323 115.92 \r\nL 91.807647 115.92 \r\nL 91.818559 115.92 \r\n\" style=\"fill:none;stroke:#e377c2;stroke-linecap:square;stroke-width:1.5;\"/>\r\n   </g>\r\n   <g id=\"line2d_184\">\r\n    <path clip-path=\"url(#pb2f71afc4d)\" d=\"M 69.004952 17.083636 \r\nL 69.014045 17.083636 \r\nL 91.850737 17.083636 \r\n\" style=\"fill:none;stroke:#7f7f7f;stroke-linecap:square;stroke-width:1.5;\"/>\r\n   </g>\r\n   <g id=\"line2d_185\">\r\n    <path clip-path=\"url(#pb2f71afc4d)\" d=\"M 91.901662 115.92 \r\nL 91.906279 115.92 \r\nL 91.909497 214.756364 \r\n\" style=\"fill:none;stroke:#bcbd22;stroke-linecap:square;stroke-width:1.5;\"/>\r\n   </g>\r\n   <g id=\"line2d_186\">\r\n    <path clip-path=\"url(#pb2f71afc4d)\" d=\"M 55.699311 115.92 \r\nL 69.682084 115.92 \r\nL 91.912854 115.92 \r\n\" style=\"fill:none;stroke:#17becf;stroke-linecap:square;stroke-width:1.5;\"/>\r\n   </g>\r\n   <g id=\"line2d_187\">\r\n    <path clip-path=\"url(#pb2f71afc4d)\" d=\"M 91.907398 17.083636 \r\nL 91.913834 17.083636 \r\nL 91.920969 17.083636 \r\n\" style=\"fill:none;stroke:#1f77b4;stroke-linecap:square;stroke-width:1.5;\"/>\r\n   </g>\r\n   <g id=\"line2d_188\">\r\n    <path clip-path=\"url(#pb2f71afc4d)\" d=\"M 56.209958 17.083636 \r\nL 56.216673 17.083636 \r\nL 91.941255 17.083636 \r\n\" style=\"fill:none;stroke:#ff7f0e;stroke-linecap:square;stroke-width:1.5;\"/>\r\n   </g>\r\n   <g id=\"line2d_189\">\r\n    <path clip-path=\"url(#pb2f71afc4d)\" d=\"M 56.010875 115.92 \r\nL 91.929643 115.92 \r\nL 91.955525 214.756364 \r\nL 91.955525 115.92 \r\n\" style=\"fill:none;stroke:#2ca02c;stroke-linecap:square;stroke-width:1.5;\"/>\r\n   </g>\r\n   <g id=\"line2d_190\">\r\n    <path clip-path=\"url(#pb2f71afc4d)\" d=\"M 66.844286 17.083636 \r\nL 66.857017 17.083636 \r\nL 91.959582 17.083636 \r\n\" style=\"fill:none;stroke:#d62728;stroke-linecap:square;stroke-width:1.5;\"/>\r\n   </g>\r\n   <g id=\"line2d_191\">\r\n    <path clip-path=\"url(#pb2f71afc4d)\" d=\"M 56.634284 115.92 \r\nL 68.183859 115.92 \r\nL 91.974552 115.92 \r\n\" style=\"fill:none;stroke:#9467bd;stroke-linecap:square;stroke-width:1.5;\"/>\r\n   </g>\r\n   <g id=\"line2d_192\">\r\n    <path clip-path=\"url(#pb2f71afc4d)\" d=\"M 68.103695 214.756364 \r\nL 91.968536 214.756364 \r\nL 91.977909 214.756364 \r\n\" style=\"fill:none;stroke:#8c564b;stroke-linecap:square;stroke-width:1.5;\"/>\r\n   </g>\r\n   <g id=\"line2d_193\">\r\n    <path clip-path=\"url(#pb2f71afc4d)\" d=\"M 56.830988 115.92 \r\nL 67.762331 115.92 \r\nL 92.00519 17.083636 \r\n\" style=\"fill:none;stroke:#e377c2;stroke-linecap:square;stroke-width:1.5;\"/>\r\n   </g>\r\n   <g id=\"line2d_194\">\r\n    <path clip-path=\"url(#pb2f71afc4d)\" d=\"M 92.030513 115.92 \r\nL 92.062411 115.92 \r\nL 92.078919 115.92 \r\n\" style=\"fill:none;stroke:#7f7f7f;stroke-linecap:square;stroke-width:1.5;\"/>\r\n   </g>\r\n   <g id=\"line2d_195\">\r\n    <path clip-path=\"url(#pb2f71afc4d)\" d=\"M 92.160203 17.083636 \r\nL 92.166359 17.083636 \r\nL 92.170416 17.083636 \r\n\" style=\"fill:none;stroke:#bcbd22;stroke-linecap:square;stroke-width:1.5;\"/>\r\n   </g>\r\n   <g id=\"line2d_196\">\r\n    <path clip-path=\"url(#pb2f71afc4d)\" d=\"M 55.764226 115.92 \r\nL 67.776181 115.92 \r\nL 92.279821 115.92 \r\n\" style=\"fill:none;stroke:#17becf;stroke-linecap:square;stroke-width:1.5;\"/>\r\n   </g>\r\n   <g id=\"line2d_197\">\r\n    <path clip-path=\"url(#pb2f71afc4d)\" d=\"M 92.32333 115.92 \r\nL 92.334103 115.92 \r\nL 92.347534 115.92 \r\n\" style=\"fill:none;stroke:#1f77b4;stroke-linecap:square;stroke-width:1.5;\"/>\r\n   </g>\r\n   <g id=\"line2d_198\">\r\n    <path clip-path=\"url(#pb2f71afc4d)\" d=\"M 93.045371 17.083636 \r\nL 93.058242 17.083636 \r\nL 93.068735 17.083636 \r\n\" style=\"fill:none;stroke:#ff7f0e;stroke-linecap:square;stroke-width:1.5;\"/>\r\n   </g>\r\n   <g id=\"line2d_199\">\r\n    <path clip-path=\"url(#pb2f71afc4d)\" d=\"M 57.655298 17.083636 \r\nL 69.416687 115.92 \r\nL 93.194928 115.92 \r\n\" style=\"fill:none;stroke:#2ca02c;stroke-linecap:square;stroke-width:1.5;\"/>\r\n   </g>\r\n   <g id=\"line2d_200\">\r\n    <path clip-path=\"url(#pb2f71afc4d)\" d=\"M 67.717842 17.083636 \r\nL 77.899023 17.083636 \r\nL 94.125984 115.92 \r\n\" style=\"fill:none;stroke:#d62728;stroke-linecap:square;stroke-width:1.5;\"/>\r\n   </g>\r\n   <g id=\"line2d_201\">\r\n    <path clip-path=\"url(#pb2f71afc4d)\" d=\"M 94.196076 115.92 \r\nL 318.595476 115.92 \r\n\" style=\"fill:none;stroke:#9467bd;stroke-linecap:square;stroke-width:1.5;\"/>\r\n   </g>\r\n   <g id=\"line2d_202\">\r\n    <path clip-path=\"url(#pb2f71afc4d)\" d=\"M 92.169857 17.083636 \r\nL 94.323667 17.083636 \r\nL 94.328424 17.083636 \r\n\" style=\"fill:none;stroke:#8c564b;stroke-linecap:square;stroke-width:1.5;\"/>\r\n   </g>\r\n   <g id=\"line2d_203\">\r\n    <path clip-path=\"url(#pb2f71afc4d)\" d=\"M 56.270816 115.92 \r\nL 94.497287 17.083636 \r\nL 94.504842 17.083636 \r\n\" style=\"fill:none;stroke:#e377c2;stroke-linecap:square;stroke-width:1.5;\"/>\r\n   </g>\r\n   <g id=\"line2d_204\">\r\n    <path clip-path=\"url(#pb2f71afc4d)\" d=\"M 95.727457 115.92 \r\nL 95.731514 115.92 \r\nL 95.741587 115.92 \r\n\" style=\"fill:none;stroke:#7f7f7f;stroke-linecap:square;stroke-width:1.5;\"/>\r\n   </g>\r\n   <g id=\"line2d_205\">\r\n    <path clip-path=\"url(#pb2f71afc4d)\" d=\"M 99.693155 17.083636 \r\nL 99.695813 17.083636 \r\nL 99.698472 17.083636 \r\n\" style=\"fill:none;stroke:#bcbd22;stroke-linecap:square;stroke-width:1.5;\"/>\r\n   </g>\r\n   <g id=\"line2d_206\">\r\n    <path clip-path=\"url(#pb2f71afc4d)\" d=\"M 54.877379 115.92 \r\nL 100.45325 115.92 \r\nL 100.458566 115.92 \r\n\" style=\"fill:none;stroke:#17becf;stroke-linecap:square;stroke-width:1.5;\"/>\r\n   </g>\r\n   <g id=\"line2d_207\">\r\n    <path clip-path=\"url(#pb2f71afc4d)\" d=\"M 56.30789 115.92 \r\nL 68.374548 115.92 \r\nL 100.870581 115.92 \r\n\" style=\"fill:none;stroke:#1f77b4;stroke-linecap:square;stroke-width:1.5;\"/>\r\n   </g>\r\n   <g id=\"line2d_208\">\r\n    <path clip-path=\"url(#pb2f71afc4d)\" d=\"M 66.60659 115.92 \r\nL 79.786458 115.92 \r\nL 101.01664 115.92 \r\n\" style=\"fill:none;stroke:#ff7f0e;stroke-linecap:square;stroke-width:1.5;\"/>\r\n   </g>\r\n   <g id=\"line2d_209\">\r\n    <path clip-path=\"url(#pb2f71afc4d)\" d=\"M 57.055533 17.083636 \r\nL 101.381508 17.083636 \r\nL 101.387244 115.92 \r\n\" style=\"fill:none;stroke:#2ca02c;stroke-linecap:square;stroke-width:1.5;\"/>\r\n   </g>\r\n   <g id=\"line2d_210\">\r\n    <path clip-path=\"url(#pb2f71afc4d)\" d=\"M 67.613334 17.083636 \r\nL 68.222053 115.92 \r\nL 101.601856 17.083636 \r\n\" style=\"fill:none;stroke:#d62728;stroke-linecap:square;stroke-width:1.5;\"/>\r\n   </g>\r\n   <g id=\"line2d_211\">\r\n    <path clip-path=\"url(#pb2f71afc4d)\" d=\"M 54.536015 17.083636 \r\nL 78.840152 17.083636 \r\nL 102.746264 17.083636 \r\n\" style=\"fill:none;stroke:#9467bd;stroke-linecap:square;stroke-width:1.5;\"/>\r\n   </g>\r\n   <g id=\"line2d_212\">\r\n    <path clip-path=\"url(#pb2f71afc4d)\" d=\"M 66.916056 17.083636 \r\nL 78.657019 17.083636 \r\nL 103.525106 115.92 \r\n\" style=\"fill:none;stroke:#8c564b;stroke-linecap:square;stroke-width:1.5;\"/>\r\n   </g>\r\n   <g id=\"line2d_213\">\r\n    <path clip-path=\"url(#pb2f71afc4d)\" d=\"M 79.688246 115.92 \r\nL 79.694262 115.92 \r\nL 103.885637 115.92 \r\n\" style=\"fill:none;stroke:#e377c2;stroke-linecap:square;stroke-width:1.5;\"/>\r\n   </g>\r\n   <g id=\"line2d_214\">\r\n    <path clip-path=\"url(#pb2f71afc4d)\" d=\"M 54.786302 115.92 \r\nL 79.833046 115.92 \r\nL 104.32927 115.92 \r\n\" style=\"fill:none;stroke:#7f7f7f;stroke-linecap:square;stroke-width:1.5;\"/>\r\n   </g>\r\n   <g id=\"line2d_215\">\r\n    <path clip-path=\"url(#pb2f71afc4d)\" d=\"M 105.045855 115.92 \r\nL 105.643242 115.92 \r\nL 105.658631 115.92 \r\n\" style=\"fill:none;stroke:#bcbd22;stroke-linecap:square;stroke-width:1.5;\"/>\r\n   </g>\r\n   <g id=\"line2d_216\">\r\n    <path clip-path=\"url(#pb2f71afc4d)\" d=\"M 70.10739 115.92 \r\nL 70.110607 115.92 \r\nL 111.70623 115.92 \r\n\" style=\"fill:none;stroke:#17becf;stroke-linecap:square;stroke-width:1.5;\"/>\r\n   </g>\r\n   <g id=\"line2d_217\">\r\n    <path clip-path=\"url(#pb2f71afc4d)\" d=\"M 55.925954 17.083636 \r\nL 112.944374 17.083636 \r\nL 244.45961 17.083636 \r\n\" style=\"fill:none;stroke:#1f77b4;stroke-linecap:square;stroke-width:1.5;\"/>\r\n   </g>\r\n   <g id=\"line2d_218\">\r\n    <path clip-path=\"url(#pb2f71afc4d)\" d=\"M 63.231143 17.083636 \r\nL 114.160833 17.083636 \r\nL 114.235681 214.756364 \r\n\" style=\"fill:none;stroke:#ff7f0e;stroke-linecap:square;stroke-width:1.5;\"/>\r\n   </g>\r\n   <g id=\"line2d_219\">\r\n    <path clip-path=\"url(#pb2f71afc4d)\" d=\"M 55.345495 17.083636 \r\nL 78.802798 17.083636 \r\nL 137.137848 17.083636 \r\n\" style=\"fill:none;stroke:#2ca02c;stroke-linecap:square;stroke-width:1.5;\"/>\r\n   </g>\r\n   <g id=\"line2d_220\">\r\n    <path clip-path=\"url(#pb2f71afc4d)\" d=\"M 102.861405 17.083636 \r\nL 138.987929 115.92 \r\nL 138.993805 115.92 \r\n\" style=\"fill:none;stroke:#d62728;stroke-linecap:square;stroke-width:1.5;\"/>\r\n   </g>\r\n   <g id=\"line2d_221\">\r\n    <path clip-path=\"url(#pb2f71afc4d)\" d=\"M 56.480251 115.92 \r\nL 91.945312 115.92 \r\nL 140.722869 115.92 \r\n\" style=\"fill:none;stroke:#9467bd;stroke-linecap:square;stroke-width:1.5;\"/>\r\n   </g>\r\n   <g id=\"line2d_222\">\r\n    <path clip-path=\"url(#pb2f71afc4d)\" d=\"M 55.436992 115.92 \r\nL 149.847221 115.92 \r\nL 149.864989 115.92 \r\n\" style=\"fill:none;stroke:#8c564b;stroke-linecap:square;stroke-width:1.5;\"/>\r\n   </g>\r\n   <g id=\"line2d_223\">\r\n    <path clip-path=\"url(#pb2f71afc4d)\" d=\"M 155.341922 214.756364 \r\nL 155.35969 214.756364 \r\nL 155.375779 214.756364 \r\n\" style=\"fill:none;stroke:#e377c2;stroke-linecap:square;stroke-width:1.5;\"/>\r\n   </g>\r\n   <g id=\"line2d_224\">\r\n    <path clip-path=\"url(#pb2f71afc4d)\" d=\"M 70.963738 115.92 \r\nL 160.385995 115.92 \r\nL 160.405441 115.92 \r\n\" style=\"fill:none;stroke:#7f7f7f;stroke-linecap:square;stroke-width:1.5;\"/>\r\n   </g>\r\n   <g id=\"line2d_225\">\r\n    <path clip-path=\"url(#pb2f71afc4d)\" d=\"M 164.735868 115.92 \r\nL 164.742163 115.92 \r\n\" style=\"fill:none;stroke:#bcbd22;stroke-linecap:square;stroke-width:1.5;\"/>\r\n   </g>\r\n   <g id=\"line2d_226\">\r\n    <path clip-path=\"url(#pb2f71afc4d)\" d=\"M 55.921757 17.083636 \r\nL 165.031623 17.083636 \r\nL 165.085906 17.083636 \r\n\" style=\"fill:none;stroke:#17becf;stroke-linecap:square;stroke-width:1.5;\"/>\r\n   </g>\r\n   <g id=\"line2d_227\">\r\n    <path clip-path=\"url(#pb2f71afc4d)\" d=\"M 63.715908 115.92 \r\nL 67.954558 214.756364 \r\nL 165.573189 115.92 \r\n\" style=\"fill:none;stroke:#1f77b4;stroke-linecap:square;stroke-width:1.5;\"/>\r\n   </g>\r\n   <g id=\"line2d_228\">\r\n    <path clip-path=\"url(#pb2f71afc4d)\" d=\"M 167.859908 17.083636 \r\nL 167.863825 17.083636 \r\n\" style=\"fill:none;stroke:#ff7f0e;stroke-linecap:square;stroke-width:1.5;\"/>\r\n   </g>\r\n   <g id=\"line2d_229\">\r\n    <path clip-path=\"url(#pb2f71afc4d)\" d=\"M 56.07593 115.92 \r\nL 177.296943 115.92 \r\nL 177.30254 115.92 \r\n\" style=\"fill:none;stroke:#2ca02c;stroke-linecap:square;stroke-width:1.5;\"/>\r\n   </g>\r\n   <g id=\"line2d_230\">\r\n    <path clip-path=\"url(#pb2f71afc4d)\" d=\"M 220.937113 115.92 \r\nL 220.942429 115.92 \r\nL 220.947186 115.92 \r\n\" style=\"fill:none;stroke:#d62728;stroke-linecap:square;stroke-width:1.5;\"/>\r\n   </g>\r\n   <g id=\"line2d_231\">\r\n    <path clip-path=\"url(#pb2f71afc4d)\" d=\"M 69.619407 214.756364 \r\nL 221.274 17.083636 \r\nL 221.280155 17.083636 \r\n\" style=\"fill:none;stroke:#9467bd;stroke-linecap:square;stroke-width:1.5;\"/>\r\n   </g>\r\n   <g id=\"line2d_232\">\r\n    <path clip-path=\"url(#pb2f71afc4d)\" d=\"M 221.422017 17.083636 \r\nL 221.437966 17.083636 \r\nL 221.4465 17.083636 \r\n\" style=\"fill:none;stroke:#8c564b;stroke-linecap:square;stroke-width:1.5;\"/>\r\n   </g>\r\n   <g id=\"line2d_233\">\r\n    <path clip-path=\"url(#pb2f71afc4d)\" d=\"M 67.901115 17.083636 \r\nL 227.320899 17.083636 \r\n\" style=\"fill:none;stroke:#e377c2;stroke-linecap:square;stroke-width:1.5;\"/>\r\n   </g>\r\n   <g id=\"line2d_234\">\r\n    <path clip-path=\"url(#pb2f71afc4d)\" d=\"M 70.46806 115.92 \r\nL 238.451324 115.92 \r\nL 238.455101 115.92 \r\n\" style=\"fill:none;stroke:#7f7f7f;stroke-linecap:square;stroke-width:1.5;\"/>\r\n   </g>\r\n   <g id=\"line2d_235\">\r\n    <path clip-path=\"url(#pb2f71afc4d)\" d=\"M 66.89591 115.92 \r\nL 269.676896 115.92 \r\n\" style=\"fill:none;stroke:#bcbd22;stroke-linecap:square;stroke-width:1.5;\"/>\r\n   </g>\r\n   <g id=\"line2d_236\">\r\n    <path clip-path=\"url(#pb2f71afc4d)\" d=\"M 55.57032 17.083636 \r\nL 272.961685 115.92 \r\nL 272.965323 115.92 \r\n\" style=\"fill:none;stroke:#17becf;stroke-linecap:square;stroke-width:1.5;\"/>\r\n   </g>\r\n   <g id=\"line2d_237\">\r\n    <path clip-path=\"url(#pb2f71afc4d)\" d=\"M 356.036671 214.756364 \r\nL 356.041008 214.756364 \r\nL 356.047443 214.756364 \r\n\" style=\"fill:none;stroke:#1f77b4;stroke-linecap:square;stroke-width:1.5;\"/>\r\n   </g>\r\n   <g id=\"line2d_238\">\r\n    <path clip-path=\"url(#pb2f71afc4d)\" d=\"M 56.099154 17.083636 \r\nL 56.106849 17.083636 \r\n\" style=\"fill:none;stroke:#ff7f0e;stroke-linecap:square;stroke-width:1.5;\"/>\r\n   </g>\r\n   <g id=\"line2d_239\">\r\n    <path clip-path=\"url(#pb2f71afc4d)\" d=\"M 56.190931 17.083636 \r\nL 56.195827 17.083636 \r\n\" style=\"fill:none;stroke:#2ca02c;stroke-linecap:square;stroke-width:1.5;\"/>\r\n   </g>\r\n   <g id=\"line2d_240\">\r\n    <path clip-path=\"url(#pb2f71afc4d)\" d=\"M 54.37009 115.92 \r\nL 56.703816 17.083636 \r\n\" style=\"fill:none;stroke:#d62728;stroke-linecap:square;stroke-width:1.5;\"/>\r\n   </g>\r\n   <g id=\"line2d_241\">\r\n    <path clip-path=\"url(#pb2f71afc4d)\" d=\"M 58.826569 17.083636 \r\nL 58.976265 17.083636 \r\n\" style=\"fill:none;stroke:#9467bd;stroke-linecap:square;stroke-width:1.5;\"/>\r\n   </g>\r\n   <g id=\"line2d_242\">\r\n    <path clip-path=\"url(#pb2f71afc4d)\" d=\"M 54.668363 115.92 \r\nL 66.454515 214.756364 \r\n\" style=\"fill:none;stroke:#8c564b;stroke-linecap:square;stroke-width:1.5;\"/>\r\n   </g>\r\n   <g id=\"line2d_243\">\r\n    <path clip-path=\"url(#pb2f71afc4d)\" d=\"M 64.16262 115.92 \r\nL 66.985168 115.92 \r\n\" style=\"fill:none;stroke:#e377c2;stroke-linecap:square;stroke-width:1.5;\"/>\r\n   </g>\r\n   <g id=\"line2d_244\">\r\n    <path clip-path=\"url(#pb2f71afc4d)\" d=\"M 67.007832 214.756364 \r\n\" style=\"fill:none;stroke:#7f7f7f;stroke-linecap:square;stroke-width:1.5;\"/>\r\n   </g>\r\n   <g id=\"line2d_245\">\r\n    <path clip-path=\"url(#pb2f71afc4d)\" d=\"M 67.352554 17.083636 \r\n\" style=\"fill:none;stroke:#bcbd22;stroke-linecap:square;stroke-width:1.5;\"/>\r\n   </g>\r\n   <g id=\"line2d_246\">\r\n    <path clip-path=\"url(#pb2f71afc4d)\" d=\"M 55.976319 17.083636 \r\nL 67.356052 17.083636 \r\n\" style=\"fill:none;stroke:#17becf;stroke-linecap:square;stroke-width:1.5;\"/>\r\n   </g>\r\n   <g id=\"line2d_247\">\r\n    <path clip-path=\"url(#pb2f71afc4d)\" d=\"M 67.638097 115.92 \r\nL 67.650828 115.92 \r\n\" style=\"fill:none;stroke:#1f77b4;stroke-linecap:square;stroke-width:1.5;\"/>\r\n   </g>\r\n   <g id=\"line2d_248\">\r\n    <path clip-path=\"url(#pb2f71afc4d)\" d=\"M 67.769326 17.083636 \r\n\" style=\"fill:none;stroke:#ff7f0e;stroke-linecap:square;stroke-width:1.5;\"/>\r\n   </g>\r\n   <g id=\"line2d_249\">\r\n    <path clip-path=\"url(#pb2f71afc4d)\" d=\"M 67.80724 115.92 \r\n\" style=\"fill:none;stroke:#2ca02c;stroke-linecap:square;stroke-width:1.5;\"/>\r\n   </g>\r\n   <g id=\"line2d_250\">\r\n    <path clip-path=\"url(#pb2f71afc4d)\" d=\"M 67.940568 115.92 \r\n\" style=\"fill:none;stroke:#d62728;stroke-linecap:square;stroke-width:1.5;\"/>\r\n   </g>\r\n   <g id=\"line2d_251\">\r\n    <path clip-path=\"url(#pb2f71afc4d)\" d=\"M 68.026608 17.083636 \r\nL 68.034862 17.083636 \r\n\" style=\"fill:none;stroke:#9467bd;stroke-linecap:square;stroke-width:1.5;\"/>\r\n   </g>\r\n   <g id=\"line2d_252\">\r\n    <path clip-path=\"url(#pb2f71afc4d)\" d=\"M 68.051091 17.083636 \r\n\" style=\"fill:none;stroke:#8c564b;stroke-linecap:square;stroke-width:1.5;\"/>\r\n   </g>\r\n   <g id=\"line2d_253\">\r\n    <path clip-path=\"url(#pb2f71afc4d)\" d=\"M 56.060261 115.92 \r\nL 68.071797 17.083636 \r\n\" style=\"fill:none;stroke:#e377c2;stroke-linecap:square;stroke-width:1.5;\"/>\r\n   </g>\r\n   <g id=\"line2d_254\">\r\n    <path clip-path=\"url(#pb2f71afc4d)\" d=\"M 67.516661 214.756364 \r\nL 68.094601 214.756364 \r\n\" style=\"fill:none;stroke:#7f7f7f;stroke-linecap:square;stroke-width:1.5;\"/>\r\n   </g>\r\n   <g id=\"line2d_255\">\r\n    <path clip-path=\"url(#pb2f71afc4d)\" d=\"M 67.770725 115.92 \r\nL 68.311451 115.92 \r\n\" style=\"fill:none;stroke:#bcbd22;stroke-linecap:square;stroke-width:1.5;\"/>\r\n   </g>\r\n   <g id=\"line2d_256\">\r\n    <path clip-path=\"url(#pb2f71afc4d)\" d=\"M 68.412042 17.083636 \r\n\" style=\"fill:none;stroke:#17becf;stroke-linecap:square;stroke-width:1.5;\"/>\r\n   </g>\r\n   <g id=\"line2d_257\">\r\n    <path clip-path=\"url(#pb2f71afc4d)\" d=\"M 55.698891 115.92 \r\nL 68.673241 115.92 \r\n\" style=\"fill:none;stroke:#1f77b4;stroke-linecap:square;stroke-width:1.5;\"/>\r\n   </g>\r\n   <g id=\"line2d_258\">\r\n    <path clip-path=\"url(#pb2f71afc4d)\" d=\"M 59.482855 115.92 \r\nL 71.237248 115.92 \r\n\" style=\"fill:none;stroke:#ff7f0e;stroke-linecap:square;stroke-width:1.5;\"/>\r\n   </g>\r\n   <g id=\"line2d_259\">\r\n    <path clip-path=\"url(#pb2f71afc4d)\" d=\"M 71.52391 115.92 \r\n\" style=\"fill:none;stroke:#2ca02c;stroke-linecap:square;stroke-width:1.5;\"/>\r\n   </g>\r\n   <g id=\"line2d_260\">\r\n    <path clip-path=\"url(#pb2f71afc4d)\" d=\"M 67.3727 115.92 \r\nL 79.614797 115.92 \r\n\" style=\"fill:none;stroke:#d62728;stroke-linecap:square;stroke-width:1.5;\"/>\r\n   </g>\r\n   <g id=\"line2d_261\">\r\n    <path clip-path=\"url(#pb2f71afc4d)\" d=\"M 86.288463 17.083636 \r\n\" style=\"fill:none;stroke:#9467bd;stroke-linecap:square;stroke-width:1.5;\"/>\r\n   </g>\r\n   <g id=\"line2d_262\">\r\n    <path clip-path=\"url(#pb2f71afc4d)\" d=\"M 56.417294 115.92 \r\nL 87.932886 115.92 \r\n\" style=\"fill:none;stroke:#8c564b;stroke-linecap:square;stroke-width:1.5;\"/>\r\n   </g>\r\n   <g id=\"line2d_263\">\r\n    <path clip-path=\"url(#pb2f71afc4d)\" d=\"M 91.149822 115.92 \r\nL 91.158636 115.92 \r\n\" style=\"fill:none;stroke:#e377c2;stroke-linecap:square;stroke-width:1.5;\"/>\r\n   </g>\r\n   <g id=\"line2d_264\">\r\n    <path clip-path=\"url(#pb2f71afc4d)\" d=\"M 56.027244 115.92 \r\nL 91.995257 115.92 \r\n\" style=\"fill:none;stroke:#7f7f7f;stroke-linecap:square;stroke-width:1.5;\"/>\r\n   </g>\r\n   <g id=\"line2d_265\">\r\n    <path clip-path=\"url(#pb2f71afc4d)\" d=\"M 56.042354 115.92 \r\nL 136.957372 115.92 \r\n\" style=\"fill:none;stroke:#bcbd22;stroke-linecap:square;stroke-width:1.5;\"/>\r\n   </g>\r\n   <g id=\"line2d_266\">\r\n    <path clip-path=\"url(#pb2f71afc4d)\" d=\"M 65.462741 115.92 \r\nL 249.459613 17.083636 \r\n\" style=\"fill:none;stroke:#17becf;stroke-linecap:square;stroke-width:1.5;\"/>\r\n   </g>\r\n   <g id=\"line2d_267\">\r\n    <path clip-path=\"url(#pb2f71afc4d)\" d=\"M 188.74383 115.92 \r\nL 307.013163 115.92 \r\n\" style=\"fill:none;stroke:#1f77b4;stroke-linecap:square;stroke-width:1.5;\"/>\r\n   </g>\r\n   <g id=\"line2d_268\">\r\n    <path clip-path=\"url(#pb2f71afc4d)\" d=\"M 53.295213 115.92 \r\n\" style=\"fill:none;stroke:#ff7f0e;stroke-linecap:square;stroke-width:1.5;\"/>\r\n   </g>\r\n   <g id=\"line2d_269\">\r\n    <path clip-path=\"url(#pb2f71afc4d)\" d=\"M 54.235782 115.92 \r\n\" style=\"fill:none;stroke:#2ca02c;stroke-linecap:square;stroke-width:1.5;\"/>\r\n   </g>\r\n   <g id=\"line2d_270\">\r\n    <path clip-path=\"url(#pb2f71afc4d)\" d=\"M 54.805748 17.083636 \r\n\" style=\"fill:none;stroke:#d62728;stroke-linecap:square;stroke-width:1.5;\"/>\r\n   </g>\r\n   <g id=\"line2d_271\">\r\n    <path clip-path=\"url(#pb2f71afc4d)\" d=\"M 55.77248 17.083636 \r\n\" style=\"fill:none;stroke:#9467bd;stroke-linecap:square;stroke-width:1.5;\"/>\r\n   </g>\r\n   <g id=\"line2d_272\">\r\n    <path clip-path=\"url(#pb2f71afc4d)\" d=\"M 55.899093 115.92 \r\n\" style=\"fill:none;stroke:#8c564b;stroke-linecap:square;stroke-width:1.5;\"/>\r\n   </g>\r\n   <g id=\"line2d_273\">\r\n    <path clip-path=\"url(#pb2f71afc4d)\" d=\"M 55.935747 115.92 \r\n\" style=\"fill:none;stroke:#e377c2;stroke-linecap:square;stroke-width:1.5;\"/>\r\n   </g>\r\n   <g id=\"line2d_274\">\r\n    <path clip-path=\"url(#pb2f71afc4d)\" d=\"M 55.969884 115.92 \r\n\" style=\"fill:none;stroke:#7f7f7f;stroke-linecap:square;stroke-width:1.5;\"/>\r\n   </g>\r\n   <g id=\"line2d_275\">\r\n    <path clip-path=\"url(#pb2f71afc4d)\" d=\"M 55.996185 17.083636 \r\n\" style=\"fill:none;stroke:#bcbd22;stroke-linecap:square;stroke-width:1.5;\"/>\r\n   </g>\r\n   <g id=\"line2d_276\">\r\n    <path clip-path=\"url(#pb2f71afc4d)\" d=\"M 55.999683 214.756364 \r\nL 55.999683 115.92 \r\nL 55.999683 214.756364 \r\n\" style=\"fill:none;stroke:#17becf;stroke-linecap:square;stroke-width:1.5;\"/>\r\n   </g>\r\n   <g id=\"line2d_277\">\r\n    <path clip-path=\"url(#pb2f71afc4d)\" d=\"M 56.021088 17.083636 \r\n\" style=\"fill:none;stroke:#1f77b4;stroke-linecap:square;stroke-width:1.5;\"/>\r\n   </g>\r\n   <g id=\"line2d_278\">\r\n    <path clip-path=\"url(#pb2f71afc4d)\" d=\"M 56.187853 115.92 \r\n\" style=\"fill:none;stroke:#ff7f0e;stroke-linecap:square;stroke-width:1.5;\"/>\r\n   </g>\r\n   <g id=\"line2d_279\">\r\n    <path clip-path=\"url(#pb2f71afc4d)\" d=\"M 56.647715 214.756364 \r\n\" style=\"fill:none;stroke:#2ca02c;stroke-linecap:square;stroke-width:1.5;\"/>\r\n   </g>\r\n   <g id=\"line2d_280\">\r\n    <path clip-path=\"url(#pb2f71afc4d)\" d=\"M 63.955143 17.083636 \r\n\" style=\"fill:none;stroke:#d62728;stroke-linecap:square;stroke-width:1.5;\"/>\r\n   </g>\r\n   <g id=\"line2d_281\">\r\n    <path clip-path=\"url(#pb2f71afc4d)\" d=\"M 66.921372 115.92 \r\n\" style=\"fill:none;stroke:#9467bd;stroke-linecap:square;stroke-width:1.5;\"/>\r\n   </g>\r\n   <g id=\"line2d_282\">\r\n    <path clip-path=\"url(#pb2f71afc4d)\" d=\"M 67.189987 115.92 \r\n\" style=\"fill:none;stroke:#8c564b;stroke-linecap:square;stroke-width:1.5;\"/>\r\n   </g>\r\n   <g id=\"line2d_283\">\r\n    <path clip-path=\"url(#pb2f71afc4d)\" d=\"M 67.389209 17.083636 \r\n\" style=\"fill:none;stroke:#e377c2;stroke-linecap:square;stroke-width:1.5;\"/>\r\n   </g>\r\n   <g id=\"line2d_284\">\r\n    <path clip-path=\"url(#pb2f71afc4d)\" d=\"M 67.712945 115.92 \r\n\" style=\"fill:none;stroke:#7f7f7f;stroke-linecap:square;stroke-width:1.5;\"/>\r\n   </g>\r\n   <g id=\"line2d_285\">\r\n    <path clip-path=\"url(#pb2f71afc4d)\" d=\"M 68.19799 115.92 \r\n\" style=\"fill:none;stroke:#bcbd22;stroke-linecap:square;stroke-width:1.5;\"/>\r\n   </g>\r\n   <g id=\"line2d_286\">\r\n    <path clip-path=\"url(#pb2f71afc4d)\" d=\"M 71.126725 214.756364 \r\n\" style=\"fill:none;stroke:#17becf;stroke-linecap:square;stroke-width:1.5;\"/>\r\n   </g>\r\n   <g id=\"line2d_287\">\r\n    <path clip-path=\"url(#pb2f71afc4d)\" d=\"M 78.461854 17.083636 \r\n\" style=\"fill:none;stroke:#1f77b4;stroke-linecap:square;stroke-width:1.5;\"/>\r\n   </g>\r\n   <g id=\"line2d_288\">\r\n    <path clip-path=\"url(#pb2f71afc4d)\" d=\"M 107.712691 17.083636 \r\n\" style=\"fill:none;stroke:#ff7f0e;stroke-linecap:square;stroke-width:1.5;\"/>\r\n   </g>\r\n   <g id=\"line2d_289\">\r\n    <path clip-path=\"url(#pb2f71afc4d)\" d=\"M 165.113187 115.92 \r\n\" style=\"fill:none;stroke:#2ca02c;stroke-linecap:square;stroke-width:1.5;\"/>\r\n   </g>\r\n   <g id=\"line2d_290\">\r\n    <path clip-path=\"url(#pb2f71afc4d)\" d=\"M 272.643125 17.083636 \r\n\" style=\"fill:none;stroke:#d62728;stroke-linecap:square;stroke-width:1.5;\"/>\r\n   </g>\r\n   <g id=\"line2d_291\">\r\n    <path clip-path=\"url(#pb2f71afc4d)\" d=\"M 283.822516 115.92 \r\n\" style=\"fill:none;stroke:#9467bd;stroke-linecap:square;stroke-width:1.5;\"/>\r\n   </g>\r\n   <g id=\"patch_3\">\r\n    <path d=\"M 36.465625 224.64 \r\nL 36.465625 7.2 \r\n\" style=\"fill:none;stroke:#000000;stroke-linecap:square;stroke-linejoin:miter;stroke-width:0.8;\"/>\r\n   </g>\r\n   <g id=\"patch_4\">\r\n    <path d=\"M 371.265625 224.64 \r\nL 371.265625 7.2 \r\n\" style=\"fill:none;stroke:#000000;stroke-linecap:square;stroke-linejoin:miter;stroke-width:0.8;\"/>\r\n   </g>\r\n   <g id=\"patch_5\">\r\n    <path d=\"M 36.465625 224.64 \r\nL 371.265625 224.64 \r\n\" style=\"fill:none;stroke:#000000;stroke-linecap:square;stroke-linejoin:miter;stroke-width:0.8;\"/>\r\n   </g>\r\n   <g id=\"patch_6\">\r\n    <path d=\"M 36.465625 7.2 \r\nL 371.265625 7.2 \r\n\" style=\"fill:none;stroke:#000000;stroke-linecap:square;stroke-linejoin:miter;stroke-width:0.8;\"/>\r\n   </g>\r\n  </g>\r\n </g>\r\n <defs>\r\n  <clipPath id=\"pb2f71afc4d\">\r\n   <rect height=\"217.44\" width=\"334.8\" x=\"36.465625\" y=\"7.2\"/>\r\n  </clipPath>\r\n </defs>\r\n</svg>\r\n",
      "image/png": "[encoded data removed]"
     },
     "metadata": {
      "needs_background": "light"
     }
    }
   ],
   "source": [
    "import matplotlib.pyplot as plt\n",
    "for i in result_df[\"user_id\"].unique():\n",
    "    df = result_df[result_df[\"user_id\"]==i]\n",
    "    df = df.sort_values(\"started_at\")\n",
    "    plt.plot(df[\"started_at\"], df[\"score\"])\n",
    "#plt.legend(result_df[\"user_id\"].unique())\n",
    "plt.show()"
   ]
  },
  {
   "cell_type": "code",
   "execution_count": 20,
   "metadata": {},
   "outputs": [
    {
     "output_type": "display_data",
     "data": {
      "text/plain": "<Figure size 864x576 with 1 Axes>",
      "image/svg+xml": "<?xml version=\"1.0\" encoding=\"utf-8\" standalone=\"no\"?>\r\n<!DOCTYPE svg PUBLIC \"-//W3C//DTD SVG 1.1//EN\"\r\n  \"http://www.w3.org/Graphics/SVG/1.1/DTD/svg11.dtd\">\r\n<!-- Created with matplotlib (https://matplotlib.org/) -->\r\n<svg height=\"465.958125pt\" version=\"1.1\" viewBox=\"0 0 734.56198 465.958125\" width=\"734.56198pt\" xmlns=\"http://www.w3.org/2000/svg\" xmlns:xlink=\"http://www.w3.org/1999/xlink\">\r\n <metadata>\r\n  <rdf:RDF xmlns:cc=\"http://creativecommons.org/ns#\" xmlns:dc=\"http://purl.org/dc/elements/1.1/\" xmlns:rdf=\"http://www.w3.org/1999/02/22-rdf-syntax-ns#\">\r\n   <cc:Work>\r\n    <dc:type rdf:resource=\"http://purl.org/dc/dcmitype/StillImage\"/>\r\n    <dc:date>2021-01-04T14:53:59.914082</dc:date>\r\n    <dc:format>image/svg+xml</dc:format>\r\n    <dc:creator>\r\n     <cc:Agent>\r\n      <dc:title>Matplotlib v3.3.3, https://matplotlib.org/</dc:title>\r\n     </cc:Agent>\r\n    </dc:creator>\r\n   </cc:Work>\r\n  </rdf:RDF>\r\n </metadata>\r\n <defs>\r\n  <style type=\"text/css\">*{stroke-linecap:butt;stroke-linejoin:round;}</style>\r\n </defs>\r\n <g id=\"figure_1\">\r\n  <g id=\"patch_1\">\r\n   <path d=\"M 0 465.958125 \r\nL 734.56198 465.958125 \r\nL 734.56198 0 \r\nL 0 0 \r\nz\r\n\" style=\"fill:none;\"/>\r\n  </g>\r\n  <g id=\"axes_1\">\r\n   <g id=\"patch_2\">\r\n    <path d=\"M 30.103125 442.08 \r\nL 699.703125 442.08 \r\nL 699.703125 7.2 \r\nL 30.103125 7.2 \r\nz\r\n\" style=\"fill:#ffffff;\"/>\r\n   </g>\r\n   <g id=\"matplotlib.axis_1\">\r\n    <g id=\"xtick_1\">\r\n     <g id=\"line2d_1\">\r\n      <defs>\r\n       <path d=\"M 0 0 \r\nL 0 3.5 \r\n\" id=\"mcc2a1d2e2b\" style=\"stroke:#000000;stroke-width:0.8;\"/>\r\n      </defs>\r\n      <g>\r\n       <use style=\"stroke:#000000;stroke-width:0.8;\" x=\"112.360639\" xlink:href=\"#mcc2a1d2e2b\" y=\"442.08\"/>\r\n      </g>\r\n     </g>\r\n     <g id=\"text_1\">\r\n      <!-- 2020-10-29 -->\r\n      <g transform=\"translate(83.302826 456.678437)scale(0.1 -0.1)\">\r\n       <defs>\r\n        <path d=\"M 19.1875 8.296875 \r\nL 53.609375 8.296875 \r\nL 53.609375 0 \r\nL 7.328125 0 \r\nL 7.328125 8.296875 \r\nQ 12.9375 14.109375 22.625 23.890625 \r\nQ 32.328125 33.6875 34.8125 36.53125 \r\nQ 39.546875 41.84375 41.421875 45.53125 \r\nQ 43.3125 49.21875 43.3125 52.78125 \r\nQ 43.3125 58.59375 39.234375 62.25 \r\nQ 35.15625 65.921875 28.609375 65.921875 \r\nQ 23.96875 65.921875 18.8125 64.3125 \r\nQ 13.671875 62.703125 7.8125 59.421875 \r\nL 7.8125 69.390625 \r\nQ 13.765625 71.78125 18.9375 73 \r\nQ 24.125 74.21875 28.421875 74.21875 \r\nQ 39.75 74.21875 46.484375 68.546875 \r\nQ 53.21875 62.890625 53.21875 53.421875 \r\nQ 53.21875 48.921875 51.53125 44.890625 \r\nQ 49.859375 40.875 45.40625 35.40625 \r\nQ 44.1875 33.984375 37.640625 27.21875 \r\nQ 31.109375 20.453125 19.1875 8.296875 \r\nz\r\n\" id=\"DejaVuSans-50\"/>\r\n        <path d=\"M 31.78125 66.40625 \r\nQ 24.171875 66.40625 20.328125 58.90625 \r\nQ 16.5 51.421875 16.5 36.375 \r\nQ 16.5 21.390625 20.328125 13.890625 \r\nQ 24.171875 6.390625 31.78125 6.390625 \r\nQ 39.453125 6.390625 43.28125 13.890625 \r\nQ 47.125 21.390625 47.125 36.375 \r\nQ 47.125 51.421875 43.28125 58.90625 \r\nQ 39.453125 66.40625 31.78125 66.40625 \r\nz\r\nM 31.78125 74.21875 \r\nQ 44.046875 74.21875 50.515625 64.515625 \r\nQ 56.984375 54.828125 56.984375 36.375 \r\nQ 56.984375 17.96875 50.515625 8.265625 \r\nQ 44.046875 -1.421875 31.78125 -1.421875 \r\nQ 19.53125 -1.421875 13.0625 8.265625 \r\nQ 6.59375 17.96875 6.59375 36.375 \r\nQ 6.59375 54.828125 13.0625 64.515625 \r\nQ 19.53125 74.21875 31.78125 74.21875 \r\nz\r\n\" id=\"DejaVuSans-48\"/>\r\n        <path d=\"M 4.890625 31.390625 \r\nL 31.203125 31.390625 \r\nL 31.203125 23.390625 \r\nL 4.890625 23.390625 \r\nz\r\n\" id=\"DejaVuSans-45\"/>\r\n        <path d=\"M 12.40625 8.296875 \r\nL 28.515625 8.296875 \r\nL 28.515625 63.921875 \r\nL 10.984375 60.40625 \r\nL 10.984375 69.390625 \r\nL 28.421875 72.90625 \r\nL 38.28125 72.90625 \r\nL 38.28125 8.296875 \r\nL 54.390625 8.296875 \r\nL 54.390625 0 \r\nL 12.40625 0 \r\nz\r\n\" id=\"DejaVuSans-49\"/>\r\n        <path d=\"M 10.984375 1.515625 \r\nL 10.984375 10.5 \r\nQ 14.703125 8.734375 18.5 7.8125 \r\nQ 22.3125 6.890625 25.984375 6.890625 \r\nQ 35.75 6.890625 40.890625 13.453125 \r\nQ 46.046875 20.015625 46.78125 33.40625 \r\nQ 43.953125 29.203125 39.59375 26.953125 \r\nQ 35.25 24.703125 29.984375 24.703125 \r\nQ 19.046875 24.703125 12.671875 31.3125 \r\nQ 6.296875 37.9375 6.296875 49.421875 \r\nQ 6.296875 60.640625 12.9375 67.421875 \r\nQ 19.578125 74.21875 30.609375 74.21875 \r\nQ 43.265625 74.21875 49.921875 64.515625 \r\nQ 56.59375 54.828125 56.59375 36.375 \r\nQ 56.59375 19.140625 48.40625 8.859375 \r\nQ 40.234375 -1.421875 26.421875 -1.421875 \r\nQ 22.703125 -1.421875 18.890625 -0.6875 \r\nQ 15.09375 0.046875 10.984375 1.515625 \r\nz\r\nM 30.609375 32.421875 \r\nQ 37.25 32.421875 41.125 36.953125 \r\nQ 45.015625 41.5 45.015625 49.421875 \r\nQ 45.015625 57.28125 41.125 61.84375 \r\nQ 37.25 66.40625 30.609375 66.40625 \r\nQ 23.96875 66.40625 20.09375 61.84375 \r\nQ 16.21875 57.28125 16.21875 49.421875 \r\nQ 16.21875 41.5 20.09375 36.953125 \r\nQ 23.96875 32.421875 30.609375 32.421875 \r\nz\r\n\" id=\"DejaVuSans-57\"/>\r\n       </defs>\r\n       <use xlink:href=\"#DejaVuSans-50\"/>\r\n       <use x=\"63.623047\" xlink:href=\"#DejaVuSans-48\"/>\r\n       <use x=\"127.246094\" xlink:href=\"#DejaVuSans-50\"/>\r\n       <use x=\"190.869141\" xlink:href=\"#DejaVuSans-48\"/>\r\n       <use x=\"254.492188\" xlink:href=\"#DejaVuSans-45\"/>\r\n       <use x=\"290.576172\" xlink:href=\"#DejaVuSans-49\"/>\r\n       <use x=\"354.199219\" xlink:href=\"#DejaVuSans-48\"/>\r\n       <use x=\"417.822266\" xlink:href=\"#DejaVuSans-45\"/>\r\n       <use x=\"453.90625\" xlink:href=\"#DejaVuSans-50\"/>\r\n       <use x=\"517.529297\" xlink:href=\"#DejaVuSans-57\"/>\r\n      </g>\r\n     </g>\r\n    </g>\r\n    <g id=\"xtick_2\">\r\n     <g id=\"line2d_2\">\r\n      <g>\r\n       <use style=\"stroke:#000000;stroke-width:0.8;\" x=\"188.788055\" xlink:href=\"#mcc2a1d2e2b\" y=\"442.08\"/>\r\n      </g>\r\n     </g>\r\n     <g id=\"text_2\">\r\n      <!-- 2020-11-01 -->\r\n      <g transform=\"translate(159.730243 456.678437)scale(0.1 -0.1)\">\r\n       <use xlink:href=\"#DejaVuSans-50\"/>\r\n       <use x=\"63.623047\" xlink:href=\"#DejaVuSans-48\"/>\r\n       <use x=\"127.246094\" xlink:href=\"#DejaVuSans-50\"/>\r\n       <use x=\"190.869141\" xlink:href=\"#DejaVuSans-48\"/>\r\n       <use x=\"254.492188\" xlink:href=\"#DejaVuSans-45\"/>\r\n       <use x=\"290.576172\" xlink:href=\"#DejaVuSans-49\"/>\r\n       <use x=\"354.199219\" xlink:href=\"#DejaVuSans-49\"/>\r\n       <use x=\"417.822266\" xlink:href=\"#DejaVuSans-45\"/>\r\n       <use x=\"453.90625\" xlink:href=\"#DejaVuSans-48\"/>\r\n       <use x=\"517.529297\" xlink:href=\"#DejaVuSans-49\"/>\r\n      </g>\r\n     </g>\r\n    </g>\r\n    <g id=\"xtick_3\">\r\n     <g id=\"line2d_3\">\r\n      <g>\r\n       <use style=\"stroke:#000000;stroke-width:0.8;\" x=\"290.691278\" xlink:href=\"#mcc2a1d2e2b\" y=\"442.08\"/>\r\n      </g>\r\n     </g>\r\n     <g id=\"text_3\">\r\n      <!-- 2020-11-05 -->\r\n      <g transform=\"translate(261.633465 456.678437)scale(0.1 -0.1)\">\r\n       <defs>\r\n        <path d=\"M 10.796875 72.90625 \r\nL 49.515625 72.90625 \r\nL 49.515625 64.59375 \r\nL 19.828125 64.59375 \r\nL 19.828125 46.734375 \r\nQ 21.96875 47.46875 24.109375 47.828125 \r\nQ 26.265625 48.1875 28.421875 48.1875 \r\nQ 40.625 48.1875 47.75 41.5 \r\nQ 54.890625 34.8125 54.890625 23.390625 \r\nQ 54.890625 11.625 47.5625 5.09375 \r\nQ 40.234375 -1.421875 26.90625 -1.421875 \r\nQ 22.3125 -1.421875 17.546875 -0.640625 \r\nQ 12.796875 0.140625 7.71875 1.703125 \r\nL 7.71875 11.625 \r\nQ 12.109375 9.234375 16.796875 8.0625 \r\nQ 21.484375 6.890625 26.703125 6.890625 \r\nQ 35.15625 6.890625 40.078125 11.328125 \r\nQ 45.015625 15.765625 45.015625 23.390625 \r\nQ 45.015625 31 40.078125 35.4375 \r\nQ 35.15625 39.890625 26.703125 39.890625 \r\nQ 22.75 39.890625 18.8125 39.015625 \r\nQ 14.890625 38.140625 10.796875 36.28125 \r\nz\r\n\" id=\"DejaVuSans-53\"/>\r\n       </defs>\r\n       <use xlink:href=\"#DejaVuSans-50\"/>\r\n       <use x=\"63.623047\" xlink:href=\"#DejaVuSans-48\"/>\r\n       <use x=\"127.246094\" xlink:href=\"#DejaVuSans-50\"/>\r\n       <use x=\"190.869141\" xlink:href=\"#DejaVuSans-48\"/>\r\n       <use x=\"254.492188\" xlink:href=\"#DejaVuSans-45\"/>\r\n       <use x=\"290.576172\" xlink:href=\"#DejaVuSans-49\"/>\r\n       <use x=\"354.199219\" xlink:href=\"#DejaVuSans-49\"/>\r\n       <use x=\"417.822266\" xlink:href=\"#DejaVuSans-45\"/>\r\n       <use x=\"453.90625\" xlink:href=\"#DejaVuSans-48\"/>\r\n       <use x=\"517.529297\" xlink:href=\"#DejaVuSans-53\"/>\r\n      </g>\r\n     </g>\r\n    </g>\r\n    <g id=\"xtick_4\">\r\n     <g id=\"line2d_4\">\r\n      <g>\r\n       <use style=\"stroke:#000000;stroke-width:0.8;\" x=\"392.5945\" xlink:href=\"#mcc2a1d2e2b\" y=\"442.08\"/>\r\n      </g>\r\n     </g>\r\n     <g id=\"text_4\">\r\n      <!-- 2020-11-09 -->\r\n      <g transform=\"translate(363.536688 456.678437)scale(0.1 -0.1)\">\r\n       <use xlink:href=\"#DejaVuSans-50\"/>\r\n       <use x=\"63.623047\" xlink:href=\"#DejaVuSans-48\"/>\r\n       <use x=\"127.246094\" xlink:href=\"#DejaVuSans-50\"/>\r\n       <use x=\"190.869141\" xlink:href=\"#DejaVuSans-48\"/>\r\n       <use x=\"254.492188\" xlink:href=\"#DejaVuSans-45\"/>\r\n       <use x=\"290.576172\" xlink:href=\"#DejaVuSans-49\"/>\r\n       <use x=\"354.199219\" xlink:href=\"#DejaVuSans-49\"/>\r\n       <use x=\"417.822266\" xlink:href=\"#DejaVuSans-45\"/>\r\n       <use x=\"453.90625\" xlink:href=\"#DejaVuSans-48\"/>\r\n       <use x=\"517.529297\" xlink:href=\"#DejaVuSans-57\"/>\r\n      </g>\r\n     </g>\r\n    </g>\r\n    <g id=\"xtick_5\">\r\n     <g id=\"line2d_5\">\r\n      <g>\r\n       <use style=\"stroke:#000000;stroke-width:0.8;\" x=\"494.497722\" xlink:href=\"#mcc2a1d2e2b\" y=\"442.08\"/>\r\n      </g>\r\n     </g>\r\n     <g id=\"text_5\">\r\n      <!-- 2020-11-13 -->\r\n      <g transform=\"translate(465.43991 456.678437)scale(0.1 -0.1)\">\r\n       <defs>\r\n        <path d=\"M 40.578125 39.3125 \r\nQ 47.65625 37.796875 51.625 33 \r\nQ 55.609375 28.21875 55.609375 21.1875 \r\nQ 55.609375 10.40625 48.1875 4.484375 \r\nQ 40.765625 -1.421875 27.09375 -1.421875 \r\nQ 22.515625 -1.421875 17.65625 -0.515625 \r\nQ 12.796875 0.390625 7.625 2.203125 \r\nL 7.625 11.71875 \r\nQ 11.71875 9.328125 16.59375 8.109375 \r\nQ 21.484375 6.890625 26.8125 6.890625 \r\nQ 36.078125 6.890625 40.9375 10.546875 \r\nQ 45.796875 14.203125 45.796875 21.1875 \r\nQ 45.796875 27.640625 41.28125 31.265625 \r\nQ 36.765625 34.90625 28.71875 34.90625 \r\nL 20.21875 34.90625 \r\nL 20.21875 43.015625 \r\nL 29.109375 43.015625 \r\nQ 36.375 43.015625 40.234375 45.921875 \r\nQ 44.09375 48.828125 44.09375 54.296875 \r\nQ 44.09375 59.90625 40.109375 62.90625 \r\nQ 36.140625 65.921875 28.71875 65.921875 \r\nQ 24.65625 65.921875 20.015625 65.03125 \r\nQ 15.375 64.15625 9.8125 62.3125 \r\nL 9.8125 71.09375 \r\nQ 15.4375 72.65625 20.34375 73.4375 \r\nQ 25.25 74.21875 29.59375 74.21875 \r\nQ 40.828125 74.21875 47.359375 69.109375 \r\nQ 53.90625 64.015625 53.90625 55.328125 \r\nQ 53.90625 49.265625 50.4375 45.09375 \r\nQ 46.96875 40.921875 40.578125 39.3125 \r\nz\r\n\" id=\"DejaVuSans-51\"/>\r\n       </defs>\r\n       <use xlink:href=\"#DejaVuSans-50\"/>\r\n       <use x=\"63.623047\" xlink:href=\"#DejaVuSans-48\"/>\r\n       <use x=\"127.246094\" xlink:href=\"#DejaVuSans-50\"/>\r\n       <use x=\"190.869141\" xlink:href=\"#DejaVuSans-48\"/>\r\n       <use x=\"254.492188\" xlink:href=\"#DejaVuSans-45\"/>\r\n       <use x=\"290.576172\" xlink:href=\"#DejaVuSans-49\"/>\r\n       <use x=\"354.199219\" xlink:href=\"#DejaVuSans-49\"/>\r\n       <use x=\"417.822266\" xlink:href=\"#DejaVuSans-45\"/>\r\n       <use x=\"453.90625\" xlink:href=\"#DejaVuSans-49\"/>\r\n       <use x=\"517.529297\" xlink:href=\"#DejaVuSans-51\"/>\r\n      </g>\r\n     </g>\r\n    </g>\r\n    <g id=\"xtick_6\">\r\n     <g id=\"line2d_6\">\r\n      <g>\r\n       <use style=\"stroke:#000000;stroke-width:0.8;\" x=\"596.400945\" xlink:href=\"#mcc2a1d2e2b\" y=\"442.08\"/>\r\n      </g>\r\n     </g>\r\n     <g id=\"text_6\">\r\n      <!-- 2020-11-17 -->\r\n      <g transform=\"translate(567.343132 456.678437)scale(0.1 -0.1)\">\r\n       <defs>\r\n        <path d=\"M 8.203125 72.90625 \r\nL 55.078125 72.90625 \r\nL 55.078125 68.703125 \r\nL 28.609375 0 \r\nL 18.3125 0 \r\nL 43.21875 64.59375 \r\nL 8.203125 64.59375 \r\nz\r\n\" id=\"DejaVuSans-55\"/>\r\n       </defs>\r\n       <use xlink:href=\"#DejaVuSans-50\"/>\r\n       <use x=\"63.623047\" xlink:href=\"#DejaVuSans-48\"/>\r\n       <use x=\"127.246094\" xlink:href=\"#DejaVuSans-50\"/>\r\n       <use x=\"190.869141\" xlink:href=\"#DejaVuSans-48\"/>\r\n       <use x=\"254.492188\" xlink:href=\"#DejaVuSans-45\"/>\r\n       <use x=\"290.576172\" xlink:href=\"#DejaVuSans-49\"/>\r\n       <use x=\"354.199219\" xlink:href=\"#DejaVuSans-49\"/>\r\n       <use x=\"417.822266\" xlink:href=\"#DejaVuSans-45\"/>\r\n       <use x=\"453.90625\" xlink:href=\"#DejaVuSans-49\"/>\r\n       <use x=\"517.529297\" xlink:href=\"#DejaVuSans-55\"/>\r\n      </g>\r\n     </g>\r\n    </g>\r\n    <g id=\"xtick_7\">\r\n     <g id=\"line2d_7\">\r\n      <g>\r\n       <use style=\"stroke:#000000;stroke-width:0.8;\" x=\"698.304167\" xlink:href=\"#mcc2a1d2e2b\" y=\"442.08\"/>\r\n      </g>\r\n     </g>\r\n     <g id=\"text_7\">\r\n      <!-- 2020-11-21 -->\r\n      <g transform=\"translate(669.246355 456.678437)scale(0.1 -0.1)\">\r\n       <use xlink:href=\"#DejaVuSans-50\"/>\r\n       <use x=\"63.623047\" xlink:href=\"#DejaVuSans-48\"/>\r\n       <use x=\"127.246094\" xlink:href=\"#DejaVuSans-50\"/>\r\n       <use x=\"190.869141\" xlink:href=\"#DejaVuSans-48\"/>\r\n       <use x=\"254.492188\" xlink:href=\"#DejaVuSans-45\"/>\r\n       <use x=\"290.576172\" xlink:href=\"#DejaVuSans-49\"/>\r\n       <use x=\"354.199219\" xlink:href=\"#DejaVuSans-49\"/>\r\n       <use x=\"417.822266\" xlink:href=\"#DejaVuSans-45\"/>\r\n       <use x=\"453.90625\" xlink:href=\"#DejaVuSans-50\"/>\r\n       <use x=\"517.529297\" xlink:href=\"#DejaVuSans-49\"/>\r\n      </g>\r\n     </g>\r\n    </g>\r\n   </g>\r\n   <g id=\"matplotlib.axis_2\">\r\n    <g id=\"ytick_1\">\r\n     <g id=\"line2d_8\">\r\n      <defs>\r\n       <path d=\"M 0 0 \r\nL -3.5 0 \r\n\" id=\"m75a6836998\" style=\"stroke:#000000;stroke-width:0.8;\"/>\r\n      </defs>\r\n      <g>\r\n       <use style=\"stroke:#000000;stroke-width:0.8;\" x=\"30.103125\" xlink:href=\"#m75a6836998\" y=\"422.312727\"/>\r\n      </g>\r\n     </g>\r\n     <g id=\"text_8\">\r\n      <!-- 2.0 -->\r\n      <g transform=\"translate(7.2 426.111946)scale(0.1 -0.1)\">\r\n       <defs>\r\n        <path d=\"M 10.6875 12.40625 \r\nL 21 12.40625 \r\nL 21 0 \r\nL 10.6875 0 \r\nz\r\n\" id=\"DejaVuSans-46\"/>\r\n       </defs>\r\n       <use xlink:href=\"#DejaVuSans-50\"/>\r\n       <use x=\"63.623047\" xlink:href=\"#DejaVuSans-46\"/>\r\n       <use x=\"95.410156\" xlink:href=\"#DejaVuSans-48\"/>\r\n      </g>\r\n     </g>\r\n    </g>\r\n    <g id=\"ytick_2\">\r\n     <g id=\"line2d_9\">\r\n      <g>\r\n       <use style=\"stroke:#000000;stroke-width:0.8;\" x=\"30.103125\" xlink:href=\"#m75a6836998\" y=\"343.243636\"/>\r\n      </g>\r\n     </g>\r\n     <g id=\"text_9\">\r\n      <!-- 2.2 -->\r\n      <g transform=\"translate(7.2 347.042855)scale(0.1 -0.1)\">\r\n       <use xlink:href=\"#DejaVuSans-50\"/>\r\n       <use x=\"63.623047\" xlink:href=\"#DejaVuSans-46\"/>\r\n       <use x=\"95.410156\" xlink:href=\"#DejaVuSans-50\"/>\r\n      </g>\r\n     </g>\r\n    </g>\r\n    <g id=\"ytick_3\">\r\n     <g id=\"line2d_10\">\r\n      <g>\r\n       <use style=\"stroke:#000000;stroke-width:0.8;\" x=\"30.103125\" xlink:href=\"#m75a6836998\" y=\"264.174545\"/>\r\n      </g>\r\n     </g>\r\n     <g id=\"text_10\">\r\n      <!-- 2.4 -->\r\n      <g transform=\"translate(7.2 267.973764)scale(0.1 -0.1)\">\r\n       <defs>\r\n        <path d=\"M 37.796875 64.3125 \r\nL 12.890625 25.390625 \r\nL 37.796875 25.390625 \r\nz\r\nM 35.203125 72.90625 \r\nL 47.609375 72.90625 \r\nL 47.609375 25.390625 \r\nL 58.015625 25.390625 \r\nL 58.015625 17.1875 \r\nL 47.609375 17.1875 \r\nL 47.609375 0 \r\nL 37.796875 0 \r\nL 37.796875 17.1875 \r\nL 4.890625 17.1875 \r\nL 4.890625 26.703125 \r\nz\r\n\" id=\"DejaVuSans-52\"/>\r\n       </defs>\r\n       <use xlink:href=\"#DejaVuSans-50\"/>\r\n       <use x=\"63.623047\" xlink:href=\"#DejaVuSans-46\"/>\r\n       <use x=\"95.410156\" xlink:href=\"#DejaVuSans-52\"/>\r\n      </g>\r\n     </g>\r\n    </g>\r\n    <g id=\"ytick_4\">\r\n     <g id=\"line2d_11\">\r\n      <g>\r\n       <use style=\"stroke:#000000;stroke-width:0.8;\" x=\"30.103125\" xlink:href=\"#m75a6836998\" y=\"185.105455\"/>\r\n      </g>\r\n     </g>\r\n     <g id=\"text_11\">\r\n      <!-- 2.6 -->\r\n      <g transform=\"translate(7.2 188.904673)scale(0.1 -0.1)\">\r\n       <defs>\r\n        <path d=\"M 33.015625 40.375 \r\nQ 26.375 40.375 22.484375 35.828125 \r\nQ 18.609375 31.296875 18.609375 23.390625 \r\nQ 18.609375 15.53125 22.484375 10.953125 \r\nQ 26.375 6.390625 33.015625 6.390625 \r\nQ 39.65625 6.390625 43.53125 10.953125 \r\nQ 47.40625 15.53125 47.40625 23.390625 \r\nQ 47.40625 31.296875 43.53125 35.828125 \r\nQ 39.65625 40.375 33.015625 40.375 \r\nz\r\nM 52.59375 71.296875 \r\nL 52.59375 62.3125 \r\nQ 48.875 64.0625 45.09375 64.984375 \r\nQ 41.3125 65.921875 37.59375 65.921875 \r\nQ 27.828125 65.921875 22.671875 59.328125 \r\nQ 17.53125 52.734375 16.796875 39.40625 \r\nQ 19.671875 43.65625 24.015625 45.921875 \r\nQ 28.375 48.1875 33.59375 48.1875 \r\nQ 44.578125 48.1875 50.953125 41.515625 \r\nQ 57.328125 34.859375 57.328125 23.390625 \r\nQ 57.328125 12.15625 50.6875 5.359375 \r\nQ 44.046875 -1.421875 33.015625 -1.421875 \r\nQ 20.359375 -1.421875 13.671875 8.265625 \r\nQ 6.984375 17.96875 6.984375 36.375 \r\nQ 6.984375 53.65625 15.1875 63.9375 \r\nQ 23.390625 74.21875 37.203125 74.21875 \r\nQ 40.921875 74.21875 44.703125 73.484375 \r\nQ 48.484375 72.75 52.59375 71.296875 \r\nz\r\n\" id=\"DejaVuSans-54\"/>\r\n       </defs>\r\n       <use xlink:href=\"#DejaVuSans-50\"/>\r\n       <use x=\"63.623047\" xlink:href=\"#DejaVuSans-46\"/>\r\n       <use x=\"95.410156\" xlink:href=\"#DejaVuSans-54\"/>\r\n      </g>\r\n     </g>\r\n    </g>\r\n    <g id=\"ytick_5\">\r\n     <g id=\"line2d_12\">\r\n      <g>\r\n       <use style=\"stroke:#000000;stroke-width:0.8;\" x=\"30.103125\" xlink:href=\"#m75a6836998\" y=\"106.036364\"/>\r\n      </g>\r\n     </g>\r\n     <g id=\"text_12\">\r\n      <!-- 2.8 -->\r\n      <g transform=\"translate(7.2 109.835582)scale(0.1 -0.1)\">\r\n       <defs>\r\n        <path d=\"M 31.78125 34.625 \r\nQ 24.75 34.625 20.71875 30.859375 \r\nQ 16.703125 27.09375 16.703125 20.515625 \r\nQ 16.703125 13.921875 20.71875 10.15625 \r\nQ 24.75 6.390625 31.78125 6.390625 \r\nQ 38.8125 6.390625 42.859375 10.171875 \r\nQ 46.921875 13.96875 46.921875 20.515625 \r\nQ 46.921875 27.09375 42.890625 30.859375 \r\nQ 38.875 34.625 31.78125 34.625 \r\nz\r\nM 21.921875 38.8125 \r\nQ 15.578125 40.375 12.03125 44.71875 \r\nQ 8.5 49.078125 8.5 55.328125 \r\nQ 8.5 64.0625 14.71875 69.140625 \r\nQ 20.953125 74.21875 31.78125 74.21875 \r\nQ 42.671875 74.21875 48.875 69.140625 \r\nQ 55.078125 64.0625 55.078125 55.328125 \r\nQ 55.078125 49.078125 51.53125 44.71875 \r\nQ 48 40.375 41.703125 38.8125 \r\nQ 48.828125 37.15625 52.796875 32.3125 \r\nQ 56.78125 27.484375 56.78125 20.515625 \r\nQ 56.78125 9.90625 50.3125 4.234375 \r\nQ 43.84375 -1.421875 31.78125 -1.421875 \r\nQ 19.734375 -1.421875 13.25 4.234375 \r\nQ 6.78125 9.90625 6.78125 20.515625 \r\nQ 6.78125 27.484375 10.78125 32.3125 \r\nQ 14.796875 37.15625 21.921875 38.8125 \r\nz\r\nM 18.3125 54.390625 \r\nQ 18.3125 48.734375 21.84375 45.5625 \r\nQ 25.390625 42.390625 31.78125 42.390625 \r\nQ 38.140625 42.390625 41.71875 45.5625 \r\nQ 45.3125 48.734375 45.3125 54.390625 \r\nQ 45.3125 60.0625 41.71875 63.234375 \r\nQ 38.140625 66.40625 31.78125 66.40625 \r\nQ 25.390625 66.40625 21.84375 63.234375 \r\nQ 18.3125 60.0625 18.3125 54.390625 \r\nz\r\n\" id=\"DejaVuSans-56\"/>\r\n       </defs>\r\n       <use xlink:href=\"#DejaVuSans-50\"/>\r\n       <use x=\"63.623047\" xlink:href=\"#DejaVuSans-46\"/>\r\n       <use x=\"95.410156\" xlink:href=\"#DejaVuSans-56\"/>\r\n      </g>\r\n     </g>\r\n    </g>\r\n    <g id=\"ytick_6\">\r\n     <g id=\"line2d_13\">\r\n      <g>\r\n       <use style=\"stroke:#000000;stroke-width:0.8;\" x=\"30.103125\" xlink:href=\"#m75a6836998\" y=\"26.967273\"/>\r\n      </g>\r\n     </g>\r\n     <g id=\"text_13\">\r\n      <!-- 3.0 -->\r\n      <g transform=\"translate(7.2 30.766491)scale(0.1 -0.1)\">\r\n       <use xlink:href=\"#DejaVuSans-51\"/>\r\n       <use x=\"63.623047\" xlink:href=\"#DejaVuSans-46\"/>\r\n       <use x=\"95.410156\" xlink:href=\"#DejaVuSans-48\"/>\r\n      </g>\r\n     </g>\r\n    </g>\r\n   </g>\r\n   <g id=\"line2d_14\">\r\n    <path clip-path=\"url(#pbe3b8c59a5)\" d=\"M 60.539489 26.967273 \r\nL 60.548334 422.312727 \r\nL 669.266761 422.312727 \r\n\" style=\"fill:none;stroke:#1f77b4;stroke-linecap:square;stroke-width:1.5;\"/>\r\n   </g>\r\n   <g id=\"patch_3\">\r\n    <path d=\"M 30.103125 442.08 \r\nL 30.103125 7.2 \r\n\" style=\"fill:none;stroke:#000000;stroke-linecap:square;stroke-linejoin:miter;stroke-width:0.8;\"/>\r\n   </g>\r\n   <g id=\"patch_4\">\r\n    <path d=\"M 699.703125 442.08 \r\nL 699.703125 7.2 \r\n\" style=\"fill:none;stroke:#000000;stroke-linecap:square;stroke-linejoin:miter;stroke-width:0.8;\"/>\r\n   </g>\r\n   <g id=\"patch_5\">\r\n    <path d=\"M 30.103125 442.08 \r\nL 699.703125 442.08 \r\n\" style=\"fill:none;stroke:#000000;stroke-linecap:square;stroke-linejoin:miter;stroke-width:0.8;\"/>\r\n   </g>\r\n   <g id=\"patch_6\">\r\n    <path d=\"M 30.103125 7.2 \r\nL 699.703125 7.2 \r\n\" style=\"fill:none;stroke:#000000;stroke-linecap:square;stroke-linejoin:miter;stroke-width:0.8;\"/>\r\n   </g>\r\n  </g>\r\n </g>\r\n <defs>\r\n  <clipPath id=\"pbe3b8c59a5\">\r\n   <rect height=\"434.88\" width=\"669.6\" x=\"30.103125\" y=\"7.2\"/>\r\n  </clipPath>\r\n </defs>\r\n</svg>\r\n",
      "image/png": "[encoded data removed]"
     },
     "metadata": {
      "needs_background": "light"
     }
    }
   ],
   "source": [
    "fig = plt.figure(figsize=(12,8))\n",
    "df = result_df[result_df[\"user_id\"]==1011]\n",
    "df = df.sort_values(\"started_at\")\n",
    "plt.plot(df[\"started_at\"], df[\"score\"])\n",
    "plt.show()"
   ]
  },
  {
   "cell_type": "code",
   "execution_count": 19,
   "metadata": {},
   "outputs": [
    {
     "output_type": "execute_result",
     "data": {
      "text/plain": [
       "     user_id  score                started_at\n",
       "516     1011    3.0 2020-10-26 23:10:51+00:00\n",
       "2       1011    2.0 2020-10-26 23:11:21+00:00\n",
       "457     1011    2.0 2020-11-19 20:38:41+00:00"
      ],
      "text/html": "<div>\n<style scoped>\n    .dataframe tbody tr th:only-of-type {\n        vertical-align: middle;\n    }\n\n    .dataframe tbody tr th {\n        vertical-align: top;\n    }\n\n    .dataframe thead th {\n        text-align: right;\n    }\n</style>\n<table border=\"1\" class=\"dataframe\">\n  <thead>\n    <tr style=\"text-align: right;\">\n      <th></th>\n      <th>user_id</th>\n      <th>score</th>\n      <th>started_at</th>\n    </tr>\n  </thead>\n  <tbody>\n    <tr>\n      <th>516</th>\n      <td>1011</td>\n      <td>3.0</td>\n      <td>2020-10-26 23:10:51+00:00</td>\n    </tr>\n    <tr>\n      <th>2</th>\n      <td>1011</td>\n      <td>2.0</td>\n      <td>2020-10-26 23:11:21+00:00</td>\n    </tr>\n    <tr>\n      <th>457</th>\n      <td>1011</td>\n      <td>2.0</td>\n      <td>2020-11-19 20:38:41+00:00</td>\n    </tr>\n  </tbody>\n</table>\n</div>"
     },
     "metadata": {},
     "execution_count": 19
    }
   ],
   "source": [
    "df.sort_values(\"started_at\")"
   ]
  },
  {
   "cell_type": "code",
   "execution_count": null,
   "metadata": {},
   "outputs": [],
   "source": [
    "result_pivot = result_df.pivot(index=\"started_at\", columns=\"user_id\", values=\"score\")\n",
    "result_pivot.plot()"
   ]
  },
  {
   "cell_type": "code",
   "execution_count": null,
   "metadata": {},
   "outputs": [],
   "source": [
    "st_544 = []\n",
    "for i in result_data:\n",
    "    if i[0] == 544:\n",
    "        st_544.append(i)"
   ]
  },
  {
   "cell_type": "code",
   "execution_count": null,
   "metadata": {},
   "outputs": [],
   "source": [
    "st_633 = []\n",
    "for i in result_data:\n",
    "    if i[0] == 633:\n",
    "        st_633.append(i)"
   ]
  },
  {
   "cell_type": "code",
   "execution_count": null,
   "metadata": {},
   "outputs": [],
   "source": [
    "st_544_633 = st_544+st_633\n",
    "st_544_633"
   ]
  },
  {
   "cell_type": "code",
   "execution_count": null,
   "metadata": {},
   "outputs": [],
   "source": [
    "import matplotlib.pyplot as plt\n",
    "plt.plot([i[2] for i in st_633], [i[1] for i in st_633])"
   ]
  },
  {
   "cell_type": "code",
   "execution_count": null,
   "metadata": {},
   "outputs": [],
   "source": [
    "counts = {3:0,2:0,1:0}\n",
    "for i in result_data:\n",
    "    if i[1] == 1:\n",
    "        counts[1]+=1\n",
    "    if i[1] == 2:\n",
    "        counts[2]+=1\n",
    "    if i[1] == 3:\n",
    "        counts[3]+=1\n",
    "counts"
   ]
  },
  {
   "cell_type": "code",
   "execution_count": null,
   "metadata": {},
   "outputs": [],
   "source": [
    "import matplotlib.pyplot as plt\n",
    "\n",
    "plt.bar(counts.keys(),counts.values(), color=[\"green\", \"grey\", \"red\"])"
   ]
  },
  {
   "cell_type": "code",
   "execution_count": null,
   "metadata": {},
   "outputs": [],
   "source": [
    "result_data\n",
    "[i for i in result_data if i[0]==633]"
   ]
  },
  {
   "cell_type": "code",
   "execution_count": null,
   "metadata": {},
   "outputs": [],
   "source": [
    "user_633 = course_495[course_495[\"user_id\"]==633]\n",
    "user_633"
   ]
  },
  {
   "cell_type": "code",
   "execution_count": null,
   "metadata": {},
   "outputs": [],
   "source": [
    "r = requests.get(\"https://lambdaschool.instructure.com/api/v1/courses/495/quizzes/6617/submissions\", headers=headers)\n",
    "r"
   ]
  },
  {
   "cell_type": "code",
   "execution_count": null,
   "metadata": {},
   "outputs": [],
   "source": [
    "raw = r.json()\n",
    "\n",
    "with open(\"submissions-6617.json\",\"w\") as outfile:\n",
    "    json.dump(raw[\"quiz_submissions\"], outfile)"
   ]
  },
  {
   "cell_type": "code",
   "execution_count": null,
   "metadata": {},
   "outputs": [],
   "source": [
    "sub_df_6617 = pd.read_json(\"submissions-6617.json\")\n",
    "sub_df_6617.head()"
   ]
  },
  {
   "cell_type": "code",
   "execution_count": null,
   "metadata": {},
   "outputs": [],
   "source": [
    "r = requests.get(\"https://lambdaschool.instructure.com/api/v1/courses/495/quizzes/6617/submissions/57046/events\", headers=headers)\n",
    "r"
   ]
  },
  {
   "cell_type": "code",
   "execution_count": null,
   "metadata": {},
   "outputs": [],
   "source": [
    "raw = r.json()[\"quiz_submission_events\"]\n",
    "for i in raw:\n",
    "    i[\"user_id\"] = 530"
   ]
  },
  {
   "cell_type": "code",
   "execution_count": null,
   "metadata": {},
   "outputs": [],
   "source": [
    "with open(\"events-57046.json\", \"w\") as outfile:\n",
    "    json.dump(raw, outfile)"
   ]
  },
  {
   "cell_type": "code",
   "execution_count": null,
   "metadata": {},
   "outputs": [],
   "source": [
    "events_df_57046 = pd.read_json(\"events-57046.json\")\n",
    "events_df_57046"
   ]
  },
  {
   "cell_type": "code",
   "execution_count": null,
   "metadata": {},
   "outputs": [],
   "source": [
    "\n",
    "def get_answer(df):\n",
    "    for i in df[\"event_data\"]:\n",
    "        if isinstance(i, list) and isinstance(i[0], str)==False:\n",
    "            if \"22635\" in i[0].values():\n",
    "                print(i[0][\"answer\"])\n",
    "get_answer(events_df_56623)"
   ]
  },
  {
   "cell_type": "code",
   "execution_count": null,
   "metadata": {},
   "outputs": [],
   "source": [
    "course_id = 495\n",
    "quiz_id = 6780\n",
    "submission_id = 56623\n",
    "r = requests.get(f\"https://lambdaschool.instructure.com/api/v1/courses/{course_id}/quizzes/{quiz_id}/submissions/{submission_id}/events\", headers=headers)\n",
    "r"
   ]
  },
  {
   "cell_type": "code",
   "execution_count": null,
   "metadata": {},
   "outputs": [],
   "source": []
  }
 ]
}