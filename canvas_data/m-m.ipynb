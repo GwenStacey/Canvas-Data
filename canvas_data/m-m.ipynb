{
 "metadata": {
  "language_info": {
   "codemirror_mode": {
    "name": "ipython",
    "version": 3
   },
   "file_extension": ".py",
   "mimetype": "text/x-python",
   "name": "python",
   "nbconvert_exporter": "python",
   "pygments_lexer": "ipython3",
   "version": "3.8.5-final"
  },
  "orig_nbformat": 2,
  "kernelspec": {
   "name": "canvas-data",
   "display_name": "canvas-data",
   "language": "python"
  }
 },
 "nbformat": 4,
 "nbformat_minor": 2,
 "cells": [
  {
   "cell_type": "code",
   "execution_count": 1,
   "metadata": {},
   "outputs": [
    {
     "output_type": "execute_result",
     "data": {
      "text/plain": [
       "True"
      ]
     },
     "metadata": {},
     "execution_count": 1
    }
   ],
   "source": [
    "import os\n",
    "import json\n",
    "import requests\n",
    "from dotenv import load_dotenv\n",
    "\n",
    "load_dotenv()"
   ]
  },
  {
   "cell_type": "code",
   "execution_count": 2,
   "metadata": {},
   "outputs": [],
   "source": [
    "import pandas as pd\n",
    "\n",
    "pd.set_option(\"display.max_columns\", None)\n",
    "pd.set_option(\"display.max_colwidth\", None)"
   ]
  },
  {
   "cell_type": "code",
   "execution_count": 3,
   "metadata": {},
   "outputs": [],
   "source": [
    "api_key = os.getenv(\"API-KEY\")\n",
    "headers = {\"Authorization\":\n",
    "           f\"Bearer {api_key}\"}"
   ]
  },
  {
   "cell_type": "code",
   "execution_count": 4,
   "metadata": {},
   "outputs": [],
   "source": [
    "r = requests.get(\"https://lambdaschool.instructure.com/api/v1/courses/495/assignments\", headers=headers)"
   ]
  },
  {
   "cell_type": "code",
   "execution_count": 81,
   "metadata": {},
   "outputs": [
    {
     "output_type": "execute_result",
     "data": {
      "text/plain": [
       "<Response [200]>"
      ]
     },
     "metadata": {},
     "execution_count": 81
    }
   ],
   "source": [
    "r"
   ]
  },
  {
   "cell_type": "code",
   "execution_count": 82,
   "metadata": {},
   "outputs": [],
   "source": [
    "raw = r.json()\n",
    "\n",
    "with open(\"m-m.json\", \"w\") as outfile:\n",
    "    json.dump(raw, outfile)"
   ]
  },
  {
   "cell_type": "code",
   "execution_count": 84,
   "metadata": {},
   "outputs": [],
   "source": [
    "m_m_df = pd.read_json(\"m-m.json\")"
   ]
  },
  {
   "cell_type": "code",
   "execution_count": 88,
   "metadata": {},
   "outputs": [
    {
     "output_type": "execute_result",
     "data": {
      "text/plain": [
       "     id description                    due_at unlock_at  \\\n",
       "0  8088             2020-10-30 06:59:59+00:00       NaT   \n",
       "1  8176             2020-11-06 07:59:00+00:00       NaT   \n",
       "2  8020             2020-11-13 07:59:00+00:00       NaT   \n",
       "3  8080             2020-10-27 06:59:59+00:00       NaT   \n",
       "4  7887             2020-10-28 06:59:59+00:00       NaT   \n",
       "5  7851                                   NaT       NaT   \n",
       "6  8092                                   NaT       NaT   \n",
       "7  7936                                   NaT       NaT   \n",
       "8  7952                                   NaT       NaT   \n",
       "9  7914                                   NaT       NaT   \n",
       "\n",
       "                    lock_at  points_possible grading_type  \\\n",
       "0 2020-11-21 07:59:59+00:00                1       points   \n",
       "1 2020-11-21 07:59:59+00:00                1       points   \n",
       "2 2020-11-21 07:59:59+00:00                1       points   \n",
       "3 2020-11-21 07:59:59+00:00                1       points   \n",
       "4 2020-11-21 07:59:59+00:00                1       points   \n",
       "5 2020-11-21 07:59:59+00:00                1       points   \n",
       "6 2020-11-21 07:59:59+00:00                1       points   \n",
       "7 2020-11-21 07:59:59+00:00                1       points   \n",
       "8 2020-11-21 07:59:59+00:00                1       points   \n",
       "9 2020-11-21 07:59:59+00:00                1       points   \n",
       "\n",
       "   assignment_group_id  grading_standard_id                created_at  \\\n",
       "0                 2467                  NaN 2020-10-22 18:05:48+00:00   \n",
       "1                 2467                  NaN 2020-10-22 18:05:57+00:00   \n",
       "2                 2467                  NaN 2020-10-22 18:05:43+00:00   \n",
       "3                 2467                  NaN 2020-10-22 18:05:48+00:00   \n",
       "4                 2467                  NaN 2020-10-22 18:05:36+00:00   \n",
       "5                 2467                  NaN 2020-10-22 18:05:34+00:00   \n",
       "6                 2467                  NaN 2020-10-22 18:05:49+00:00   \n",
       "7                 2467                  NaN 2020-10-22 18:05:38+00:00   \n",
       "8                 2467                  NaN 2020-10-22 18:05:39+00:00   \n",
       "9                 2467                  NaN 2020-10-22 18:05:37+00:00   \n",
       "\n",
       "                 updated_at  peer_reviews  automatic_peer_reviews  position  \\\n",
       "0 2020-10-22 18:05:49+00:00         False                   False         2   \n",
       "1 2020-10-22 18:05:57+00:00         False                   False        11   \n",
       "2 2020-10-22 18:05:43+00:00         False                   False        12   \n",
       "3 2020-10-22 18:05:48+00:00         False                   False        24   \n",
       "4 2020-10-22 18:05:36+00:00         False                   False        25   \n",
       "5 2020-11-02 19:52:16+00:00         False                   False        26   \n",
       "6 2020-11-02 19:52:56+00:00         False                   False        28   \n",
       "7 2020-11-02 19:52:24+00:00         False                   False        29   \n",
       "8 2020-11-02 19:53:03+00:00         False                   False        30   \n",
       "9 2020-11-02 19:52:29+00:00         False                   False        31   \n",
       "\n",
       "   grade_group_students_individually  anonymous_peer_reviews  \\\n",
       "0                              False                   False   \n",
       "1                              False                   False   \n",
       "2                              False                   False   \n",
       "3                              False                   False   \n",
       "4                              False                   False   \n",
       "5                              False                   False   \n",
       "6                              False                   False   \n",
       "7                              False                   False   \n",
       "8                              False                   False   \n",
       "9                              False                   False   \n",
       "\n",
       "   group_category_id  post_to_sis  moderated_grading  omit_from_final_grade  \\\n",
       "0                NaN        False              False                  False   \n",
       "1                NaN        False              False                  False   \n",
       "2                NaN        False              False                  False   \n",
       "3                NaN        False              False                  False   \n",
       "4                NaN        False              False                  False   \n",
       "5                NaN        False              False                  False   \n",
       "6                NaN        False              False                  False   \n",
       "7                NaN        False              False                  False   \n",
       "8                NaN        False              False                  False   \n",
       "9                NaN        False              False                  False   \n",
       "\n",
       "   intra_group_peer_reviews  anonymous_instructor_annotations  \\\n",
       "0                     False                             False   \n",
       "1                     False                             False   \n",
       "2                     False                             False   \n",
       "3                     False                             False   \n",
       "4                     False                             False   \n",
       "5                     False                             False   \n",
       "6                     False                             False   \n",
       "7                     False                             False   \n",
       "8                     False                             False   \n",
       "9                     False                             False   \n",
       "\n",
       "   anonymous_grading  graders_anonymous_to_graders  grader_count  \\\n",
       "0              False                         False             0   \n",
       "1              False                         False             0   \n",
       "2              False                         False             0   \n",
       "3              False                         False             0   \n",
       "4              False                         False             0   \n",
       "5              False                         False             0   \n",
       "6              False                         False             0   \n",
       "7              False                         False             0   \n",
       "8              False                         False             0   \n",
       "9              False                         False             0   \n",
       "\n",
       "   grader_comments_visible_to_graders  final_grader_id  \\\n",
       "0                                True              NaN   \n",
       "1                                True              NaN   \n",
       "2                                True              NaN   \n",
       "3                                True              NaN   \n",
       "4                                True              NaN   \n",
       "5                                True              NaN   \n",
       "6                                True              NaN   \n",
       "7                                True              NaN   \n",
       "8                                True              NaN   \n",
       "9                                True              NaN   \n",
       "\n",
       "   grader_names_visible_to_final_grader  allowed_attempts  \\\n",
       "0                                  True                -1   \n",
       "1                                  True                -1   \n",
       "2                                  True                -1   \n",
       "3                                  True                -1   \n",
       "4                                  True                -1   \n",
       "5                                  True                -1   \n",
       "6                                  True                -1   \n",
       "7                                  True                -1   \n",
       "8                                  True                -1   \n",
       "9                                  True                -1   \n",
       "\n",
       "                                       secure_params  course_id  \\\n",
       "0  eyJ0eXAiOiJKV1QiLCJhbGciOiJIUzI1NiJ9.eyJsdGlfY...        495   \n",
       "1  eyJ0eXAiOiJKV1QiLCJhbGciOiJIUzI1NiJ9.eyJsdGlfY...        495   \n",
       "2  eyJ0eXAiOiJKV1QiLCJhbGciOiJIUzI1NiJ9.eyJsdGlfY...        495   \n",
       "3  eyJ0eXAiOiJKV1QiLCJhbGciOiJIUzI1NiJ9.eyJsdGlfY...        495   \n",
       "4  eyJ0eXAiOiJKV1QiLCJhbGciOiJIUzI1NiJ9.eyJsdGlfY...        495   \n",
       "5  eyJ0eXAiOiJKV1QiLCJhbGciOiJIUzI1NiJ9.eyJsdGlfY...        495   \n",
       "6  eyJ0eXAiOiJKV1QiLCJhbGciOiJIUzI1NiJ9.eyJsdGlfY...        495   \n",
       "7  eyJ0eXAiOiJKV1QiLCJhbGciOiJIUzI1NiJ9.eyJsdGlfY...        495   \n",
       "8  eyJ0eXAiOiJKV1QiLCJhbGciOiJIUzI1NiJ9.eyJsdGlfY...        495   \n",
       "9  eyJ0eXAiOiJKV1QiLCJhbGciOiJIUzI1NiJ9.eyJsdGlfY...        495   \n",
       "\n",
       "                                                name submission_types  \\\n",
       "0                   Sprint 1 - Track Team Reflection    [online_quiz]   \n",
       "1                         Sprint 2 - Team Reflection    [online_quiz]   \n",
       "2                         Sprint 3 - Team Reflection    [online_quiz]   \n",
       "3     Sprint 1, Module 1 - Mentor/Mentee Orientation    [online_quiz]   \n",
       "4     Sprint 1, Module 2 - Mentor/Mentee Orientation    [online_quiz]   \n",
       "5  Sprint 1, Module 3 - Mentee's Peer Mentorship ...    [online_quiz]   \n",
       "6  Sprint 1, Module 4 - Mentee's Peer Mentorship ...    [online_quiz]   \n",
       "7  Sprint 1, Module 3 - Mentor's Peer Mentorship ...    [online_quiz]   \n",
       "8  Sprint 1, Module 4 - Mentor's Peer Mentorship ...    [online_quiz]   \n",
       "9  Sprint 1, Module 3 - Mentor's Peer Mentorship ...    [online_quiz]   \n",
       "\n",
       "   has_submitted_submissions  due_date_required  max_name_length  \\\n",
       "0                       True              False              255   \n",
       "1                       True              False              255   \n",
       "2                       True              False              255   \n",
       "3                       True              False              255   \n",
       "4                       True              False              255   \n",
       "5                       True              False              255   \n",
       "6                       True              False              255   \n",
       "7                       True              False              255   \n",
       "8                       True              False              255   \n",
       "9                       True              False              255   \n",
       "\n",
       "   in_closed_grading_period  is_quiz_assignment  can_duplicate  \\\n",
       "0                     False               False          False   \n",
       "1                     False               False          False   \n",
       "2                     False               False          False   \n",
       "3                     False               False          False   \n",
       "4                     False               False          False   \n",
       "5                     False               False          False   \n",
       "6                     False               False          False   \n",
       "7                     False               False          False   \n",
       "8                     False               False          False   \n",
       "9                     False               False          False   \n",
       "\n",
       "   original_course_id  original_assignment_id  original_assignment_name  \\\n",
       "0                 NaN                     NaN                       NaN   \n",
       "1                 NaN                     NaN                       NaN   \n",
       "2                 NaN                     NaN                       NaN   \n",
       "3                 NaN                     NaN                       NaN   \n",
       "4                 NaN                     NaN                       NaN   \n",
       "5                 NaN                     NaN                       NaN   \n",
       "6                 NaN                     NaN                       NaN   \n",
       "7                 NaN                     NaN                       NaN   \n",
       "8                 NaN                     NaN                       NaN   \n",
       "9                 NaN                     NaN                       NaN   \n",
       "\n",
       "   original_quiz_id workflow_state  muted  \\\n",
       "0               NaN      published   True   \n",
       "1               NaN      published   True   \n",
       "2               NaN      published   True   \n",
       "3               NaN      published   True   \n",
       "4               NaN      published   True   \n",
       "5               NaN      published   True   \n",
       "6               NaN      published   True   \n",
       "7               NaN      published   True   \n",
       "8               NaN      published   True   \n",
       "9               NaN      published   True   \n",
       "\n",
       "                                            html_url  has_overrides  \\\n",
       "0  https://lambdaschool.instructure.com/courses/4...          False   \n",
       "1  https://lambdaschool.instructure.com/courses/4...          False   \n",
       "2  https://lambdaschool.instructure.com/courses/4...          False   \n",
       "3  https://lambdaschool.instructure.com/courses/4...          False   \n",
       "4  https://lambdaschool.instructure.com/courses/4...          False   \n",
       "5  https://lambdaschool.instructure.com/courses/4...           True   \n",
       "6  https://lambdaschool.instructure.com/courses/4...           True   \n",
       "7  https://lambdaschool.instructure.com/courses/4...           True   \n",
       "8  https://lambdaschool.instructure.com/courses/4...           True   \n",
       "9  https://lambdaschool.instructure.com/courses/4...           True   \n",
       "\n",
       "   needs_grading_count  sis_assignment_id  integration_id integration_data  \\\n",
       "0                    0                NaN             NaN               {}   \n",
       "1                    0                NaN             NaN               {}   \n",
       "2                    0                NaN             NaN               {}   \n",
       "3                    0                NaN             NaN               {}   \n",
       "4                    0                NaN             NaN               {}   \n",
       "5                    0                NaN             NaN               {}   \n",
       "6                    0                NaN             NaN               {}   \n",
       "7                    0                NaN             NaN               {}   \n",
       "8                    0                NaN             NaN               {}   \n",
       "9                    0                NaN             NaN               {}   \n",
       "\n",
       "   quiz_id  anonymous_submissions  published  unpublishable  \\\n",
       "0     6788                  False       True          False   \n",
       "1     6876                  False       True          False   \n",
       "2     6721                  False       True          False   \n",
       "3     6780                  False       True          False   \n",
       "4     6617                  False       True          False   \n",
       "5     6585                  False       True          False   \n",
       "6     6792                  False       True          False   \n",
       "7     6659                  False       True          False   \n",
       "8     6674                  False       True          False   \n",
       "9     6641                  False       True          False   \n",
       "\n",
       "   only_visible_to_overrides  locked_for_user  \\\n",
       "0                      False            False   \n",
       "1                      False            False   \n",
       "2                      False            False   \n",
       "3                      False            False   \n",
       "4                      False            False   \n",
       "5                       True            False   \n",
       "6                       True            False   \n",
       "7                       True            False   \n",
       "8                       True            False   \n",
       "9                       True            False   \n",
       "\n",
       "                            submissions_download_url  post_manually  \\\n",
       "0  https://lambdaschool.instructure.com/courses/4...          False   \n",
       "1  https://lambdaschool.instructure.com/courses/4...          False   \n",
       "2  https://lambdaschool.instructure.com/courses/4...          False   \n",
       "3  https://lambdaschool.instructure.com/courses/4...          False   \n",
       "4  https://lambdaschool.instructure.com/courses/4...          False   \n",
       "5  https://lambdaschool.instructure.com/courses/4...          False   \n",
       "6  https://lambdaschool.instructure.com/courses/4...          False   \n",
       "7  https://lambdaschool.instructure.com/courses/4...          False   \n",
       "8  https://lambdaschool.instructure.com/courses/4...          False   \n",
       "9  https://lambdaschool.instructure.com/courses/4...          False   \n",
       "\n",
       "   anonymize_students  require_lockdown_browser  \n",
       "0               False                     False  \n",
       "1               False                     False  \n",
       "2               False                     False  \n",
       "3               False                     False  \n",
       "4               False                     False  \n",
       "5               False                     False  \n",
       "6               False                     False  \n",
       "7               False                     False  \n",
       "8               False                     False  \n",
       "9               False                     False  "
      ],
      "text/html": "<div>\n<style scoped>\n    .dataframe tbody tr th:only-of-type {\n        vertical-align: middle;\n    }\n\n    .dataframe tbody tr th {\n        vertical-align: top;\n    }\n\n    .dataframe thead th {\n        text-align: right;\n    }\n</style>\n<table border=\"1\" class=\"dataframe\">\n  <thead>\n    <tr style=\"text-align: right;\">\n      <th></th>\n      <th>id</th>\n      <th>description</th>\n      <th>due_at</th>\n      <th>unlock_at</th>\n      <th>lock_at</th>\n      <th>points_possible</th>\n      <th>grading_type</th>\n      <th>assignment_group_id</th>\n      <th>grading_standard_id</th>\n      <th>created_at</th>\n      <th>updated_at</th>\n      <th>peer_reviews</th>\n      <th>automatic_peer_reviews</th>\n      <th>position</th>\n      <th>grade_group_students_individually</th>\n      <th>anonymous_peer_reviews</th>\n      <th>group_category_id</th>\n      <th>post_to_sis</th>\n      <th>moderated_grading</th>\n      <th>omit_from_final_grade</th>\n      <th>intra_group_peer_reviews</th>\n      <th>anonymous_instructor_annotations</th>\n      <th>anonymous_grading</th>\n      <th>graders_anonymous_to_graders</th>\n      <th>grader_count</th>\n      <th>grader_comments_visible_to_graders</th>\n      <th>final_grader_id</th>\n      <th>grader_names_visible_to_final_grader</th>\n      <th>allowed_attempts</th>\n      <th>secure_params</th>\n      <th>course_id</th>\n      <th>name</th>\n      <th>submission_types</th>\n      <th>has_submitted_submissions</th>\n      <th>due_date_required</th>\n      <th>max_name_length</th>\n      <th>in_closed_grading_period</th>\n      <th>is_quiz_assignment</th>\n      <th>can_duplicate</th>\n      <th>original_course_id</th>\n      <th>original_assignment_id</th>\n      <th>original_assignment_name</th>\n      <th>original_quiz_id</th>\n      <th>workflow_state</th>\n      <th>muted</th>\n      <th>html_url</th>\n      <th>has_overrides</th>\n      <th>needs_grading_count</th>\n      <th>sis_assignment_id</th>\n      <th>integration_id</th>\n      <th>integration_data</th>\n      <th>quiz_id</th>\n      <th>anonymous_submissions</th>\n      <th>published</th>\n      <th>unpublishable</th>\n      <th>only_visible_to_overrides</th>\n      <th>locked_for_user</th>\n      <th>submissions_download_url</th>\n      <th>post_manually</th>\n      <th>anonymize_students</th>\n      <th>require_lockdown_browser</th>\n    </tr>\n  </thead>\n  <tbody>\n    <tr>\n      <th>0</th>\n      <td>8088</td>\n      <td></td>\n      <td>2020-10-30 06:59:59+00:00</td>\n      <td>NaT</td>\n      <td>2020-11-21 07:59:59+00:00</td>\n      <td>1</td>\n      <td>points</td>\n      <td>2467</td>\n      <td>NaN</td>\n      <td>2020-10-22 18:05:48+00:00</td>\n      <td>2020-10-22 18:05:49+00:00</td>\n      <td>False</td>\n      <td>False</td>\n      <td>2</td>\n      <td>False</td>\n      <td>False</td>\n      <td>NaN</td>\n      <td>False</td>\n      <td>False</td>\n      <td>False</td>\n      <td>False</td>\n      <td>False</td>\n      <td>False</td>\n      <td>False</td>\n      <td>0</td>\n      <td>True</td>\n      <td>NaN</td>\n      <td>True</td>\n      <td>-1</td>\n      <td>eyJ0eXAiOiJKV1QiLCJhbGciOiJIUzI1NiJ9.eyJsdGlfY...</td>\n      <td>495</td>\n      <td>Sprint 1 - Track Team Reflection</td>\n      <td>[online_quiz]</td>\n      <td>True</td>\n      <td>False</td>\n      <td>255</td>\n      <td>False</td>\n      <td>False</td>\n      <td>False</td>\n      <td>NaN</td>\n      <td>NaN</td>\n      <td>NaN</td>\n      <td>NaN</td>\n      <td>published</td>\n      <td>True</td>\n      <td>https://lambdaschool.instructure.com/courses/4...</td>\n      <td>False</td>\n      <td>0</td>\n      <td>NaN</td>\n      <td>NaN</td>\n      <td>{}</td>\n      <td>6788</td>\n      <td>False</td>\n      <td>True</td>\n      <td>False</td>\n      <td>False</td>\n      <td>False</td>\n      <td>https://lambdaschool.instructure.com/courses/4...</td>\n      <td>False</td>\n      <td>False</td>\n      <td>False</td>\n    </tr>\n    <tr>\n      <th>1</th>\n      <td>8176</td>\n      <td></td>\n      <td>2020-11-06 07:59:00+00:00</td>\n      <td>NaT</td>\n      <td>2020-11-21 07:59:59+00:00</td>\n      <td>1</td>\n      <td>points</td>\n      <td>2467</td>\n      <td>NaN</td>\n      <td>2020-10-22 18:05:57+00:00</td>\n      <td>2020-10-22 18:05:57+00:00</td>\n      <td>False</td>\n      <td>False</td>\n      <td>11</td>\n      <td>False</td>\n      <td>False</td>\n      <td>NaN</td>\n      <td>False</td>\n      <td>False</td>\n      <td>False</td>\n      <td>False</td>\n      <td>False</td>\n      <td>False</td>\n      <td>False</td>\n      <td>0</td>\n      <td>True</td>\n      <td>NaN</td>\n      <td>True</td>\n      <td>-1</td>\n      <td>eyJ0eXAiOiJKV1QiLCJhbGciOiJIUzI1NiJ9.eyJsdGlfY...</td>\n      <td>495</td>\n      <td>Sprint 2 - Team Reflection</td>\n      <td>[online_quiz]</td>\n      <td>True</td>\n      <td>False</td>\n      <td>255</td>\n      <td>False</td>\n      <td>False</td>\n      <td>False</td>\n      <td>NaN</td>\n      <td>NaN</td>\n      <td>NaN</td>\n      <td>NaN</td>\n      <td>published</td>\n      <td>True</td>\n      <td>https://lambdaschool.instructure.com/courses/4...</td>\n      <td>False</td>\n      <td>0</td>\n      <td>NaN</td>\n      <td>NaN</td>\n      <td>{}</td>\n      <td>6876</td>\n      <td>False</td>\n      <td>True</td>\n      <td>False</td>\n      <td>False</td>\n      <td>False</td>\n      <td>https://lambdaschool.instructure.com/courses/4...</td>\n      <td>False</td>\n      <td>False</td>\n      <td>False</td>\n    </tr>\n    <tr>\n      <th>2</th>\n      <td>8020</td>\n      <td></td>\n      <td>2020-11-13 07:59:00+00:00</td>\n      <td>NaT</td>\n      <td>2020-11-21 07:59:59+00:00</td>\n      <td>1</td>\n      <td>points</td>\n      <td>2467</td>\n      <td>NaN</td>\n      <td>2020-10-22 18:05:43+00:00</td>\n      <td>2020-10-22 18:05:43+00:00</td>\n      <td>False</td>\n      <td>False</td>\n      <td>12</td>\n      <td>False</td>\n      <td>False</td>\n      <td>NaN</td>\n      <td>False</td>\n      <td>False</td>\n      <td>False</td>\n      <td>False</td>\n      <td>False</td>\n      <td>False</td>\n      <td>False</td>\n      <td>0</td>\n      <td>True</td>\n      <td>NaN</td>\n      <td>True</td>\n      <td>-1</td>\n      <td>eyJ0eXAiOiJKV1QiLCJhbGciOiJIUzI1NiJ9.eyJsdGlfY...</td>\n      <td>495</td>\n      <td>Sprint 3 - Team Reflection</td>\n      <td>[online_quiz]</td>\n      <td>True</td>\n      <td>False</td>\n      <td>255</td>\n      <td>False</td>\n      <td>False</td>\n      <td>False</td>\n      <td>NaN</td>\n      <td>NaN</td>\n      <td>NaN</td>\n      <td>NaN</td>\n      <td>published</td>\n      <td>True</td>\n      <td>https://lambdaschool.instructure.com/courses/4...</td>\n      <td>False</td>\n      <td>0</td>\n      <td>NaN</td>\n      <td>NaN</td>\n      <td>{}</td>\n      <td>6721</td>\n      <td>False</td>\n      <td>True</td>\n      <td>False</td>\n      <td>False</td>\n      <td>False</td>\n      <td>https://lambdaschool.instructure.com/courses/4...</td>\n      <td>False</td>\n      <td>False</td>\n      <td>False</td>\n    </tr>\n    <tr>\n      <th>3</th>\n      <td>8080</td>\n      <td></td>\n      <td>2020-10-27 06:59:59+00:00</td>\n      <td>NaT</td>\n      <td>2020-11-21 07:59:59+00:00</td>\n      <td>1</td>\n      <td>points</td>\n      <td>2467</td>\n      <td>NaN</td>\n      <td>2020-10-22 18:05:48+00:00</td>\n      <td>2020-10-22 18:05:48+00:00</td>\n      <td>False</td>\n      <td>False</td>\n      <td>24</td>\n      <td>False</td>\n      <td>False</td>\n      <td>NaN</td>\n      <td>False</td>\n      <td>False</td>\n      <td>False</td>\n      <td>False</td>\n      <td>False</td>\n      <td>False</td>\n      <td>False</td>\n      <td>0</td>\n      <td>True</td>\n      <td>NaN</td>\n      <td>True</td>\n      <td>-1</td>\n      <td>eyJ0eXAiOiJKV1QiLCJhbGciOiJIUzI1NiJ9.eyJsdGlfY...</td>\n      <td>495</td>\n      <td>Sprint 1, Module 1 - Mentor/Mentee Orientation</td>\n      <td>[online_quiz]</td>\n      <td>True</td>\n      <td>False</td>\n      <td>255</td>\n      <td>False</td>\n      <td>False</td>\n      <td>False</td>\n      <td>NaN</td>\n      <td>NaN</td>\n      <td>NaN</td>\n      <td>NaN</td>\n      <td>published</td>\n      <td>True</td>\n      <td>https://lambdaschool.instructure.com/courses/4...</td>\n      <td>False</td>\n      <td>0</td>\n      <td>NaN</td>\n      <td>NaN</td>\n      <td>{}</td>\n      <td>6780</td>\n      <td>False</td>\n      <td>True</td>\n      <td>False</td>\n      <td>False</td>\n      <td>False</td>\n      <td>https://lambdaschool.instructure.com/courses/4...</td>\n      <td>False</td>\n      <td>False</td>\n      <td>False</td>\n    </tr>\n    <tr>\n      <th>4</th>\n      <td>7887</td>\n      <td></td>\n      <td>2020-10-28 06:59:59+00:00</td>\n      <td>NaT</td>\n      <td>2020-11-21 07:59:59+00:00</td>\n      <td>1</td>\n      <td>points</td>\n      <td>2467</td>\n      <td>NaN</td>\n      <td>2020-10-22 18:05:36+00:00</td>\n      <td>2020-10-22 18:05:36+00:00</td>\n      <td>False</td>\n      <td>False</td>\n      <td>25</td>\n      <td>False</td>\n      <td>False</td>\n      <td>NaN</td>\n      <td>False</td>\n      <td>False</td>\n      <td>False</td>\n      <td>False</td>\n      <td>False</td>\n      <td>False</td>\n      <td>False</td>\n      <td>0</td>\n      <td>True</td>\n      <td>NaN</td>\n      <td>True</td>\n      <td>-1</td>\n      <td>eyJ0eXAiOiJKV1QiLCJhbGciOiJIUzI1NiJ9.eyJsdGlfY...</td>\n      <td>495</td>\n      <td>Sprint 1, Module 2 - Mentor/Mentee Orientation</td>\n      <td>[online_quiz]</td>\n      <td>True</td>\n      <td>False</td>\n      <td>255</td>\n      <td>False</td>\n      <td>False</td>\n      <td>False</td>\n      <td>NaN</td>\n      <td>NaN</td>\n      <td>NaN</td>\n      <td>NaN</td>\n      <td>published</td>\n      <td>True</td>\n      <td>https://lambdaschool.instructure.com/courses/4...</td>\n      <td>False</td>\n      <td>0</td>\n      <td>NaN</td>\n      <td>NaN</td>\n      <td>{}</td>\n      <td>6617</td>\n      <td>False</td>\n      <td>True</td>\n      <td>False</td>\n      <td>False</td>\n      <td>False</td>\n      <td>https://lambdaschool.instructure.com/courses/4...</td>\n      <td>False</td>\n      <td>False</td>\n      <td>False</td>\n    </tr>\n    <tr>\n      <th>5</th>\n      <td>7851</td>\n      <td></td>\n      <td>NaT</td>\n      <td>NaT</td>\n      <td>2020-11-21 07:59:59+00:00</td>\n      <td>1</td>\n      <td>points</td>\n      <td>2467</td>\n      <td>NaN</td>\n      <td>2020-10-22 18:05:34+00:00</td>\n      <td>2020-11-02 19:52:16+00:00</td>\n      <td>False</td>\n      <td>False</td>\n      <td>26</td>\n      <td>False</td>\n      <td>False</td>\n      <td>NaN</td>\n      <td>False</td>\n      <td>False</td>\n      <td>False</td>\n      <td>False</td>\n      <td>False</td>\n      <td>False</td>\n      <td>False</td>\n      <td>0</td>\n      <td>True</td>\n      <td>NaN</td>\n      <td>True</td>\n      <td>-1</td>\n      <td>eyJ0eXAiOiJKV1QiLCJhbGciOiJIUzI1NiJ9.eyJsdGlfY...</td>\n      <td>495</td>\n      <td>Sprint 1, Module 3 - Mentee's Peer Mentorship ...</td>\n      <td>[online_quiz]</td>\n      <td>True</td>\n      <td>False</td>\n      <td>255</td>\n      <td>False</td>\n      <td>False</td>\n      <td>False</td>\n      <td>NaN</td>\n      <td>NaN</td>\n      <td>NaN</td>\n      <td>NaN</td>\n      <td>published</td>\n      <td>True</td>\n      <td>https://lambdaschool.instructure.com/courses/4...</td>\n      <td>True</td>\n      <td>0</td>\n      <td>NaN</td>\n      <td>NaN</td>\n      <td>{}</td>\n      <td>6585</td>\n      <td>False</td>\n      <td>True</td>\n      <td>False</td>\n      <td>True</td>\n      <td>False</td>\n      <td>https://lambdaschool.instructure.com/courses/4...</td>\n      <td>False</td>\n      <td>False</td>\n      <td>False</td>\n    </tr>\n    <tr>\n      <th>6</th>\n      <td>8092</td>\n      <td></td>\n      <td>NaT</td>\n      <td>NaT</td>\n      <td>2020-11-21 07:59:59+00:00</td>\n      <td>1</td>\n      <td>points</td>\n      <td>2467</td>\n      <td>NaN</td>\n      <td>2020-10-22 18:05:49+00:00</td>\n      <td>2020-11-02 19:52:56+00:00</td>\n      <td>False</td>\n      <td>False</td>\n      <td>28</td>\n      <td>False</td>\n      <td>False</td>\n      <td>NaN</td>\n      <td>False</td>\n      <td>False</td>\n      <td>False</td>\n      <td>False</td>\n      <td>False</td>\n      <td>False</td>\n      <td>False</td>\n      <td>0</td>\n      <td>True</td>\n      <td>NaN</td>\n      <td>True</td>\n      <td>-1</td>\n      <td>eyJ0eXAiOiJKV1QiLCJhbGciOiJIUzI1NiJ9.eyJsdGlfY...</td>\n      <td>495</td>\n      <td>Sprint 1, Module 4 - Mentee's Peer Mentorship ...</td>\n      <td>[online_quiz]</td>\n      <td>True</td>\n      <td>False</td>\n      <td>255</td>\n      <td>False</td>\n      <td>False</td>\n      <td>False</td>\n      <td>NaN</td>\n      <td>NaN</td>\n      <td>NaN</td>\n      <td>NaN</td>\n      <td>published</td>\n      <td>True</td>\n      <td>https://lambdaschool.instructure.com/courses/4...</td>\n      <td>True</td>\n      <td>0</td>\n      <td>NaN</td>\n      <td>NaN</td>\n      <td>{}</td>\n      <td>6792</td>\n      <td>False</td>\n      <td>True</td>\n      <td>False</td>\n      <td>True</td>\n      <td>False</td>\n      <td>https://lambdaschool.instructure.com/courses/4...</td>\n      <td>False</td>\n      <td>False</td>\n      <td>False</td>\n    </tr>\n    <tr>\n      <th>7</th>\n      <td>7936</td>\n      <td></td>\n      <td>NaT</td>\n      <td>NaT</td>\n      <td>2020-11-21 07:59:59+00:00</td>\n      <td>1</td>\n      <td>points</td>\n      <td>2467</td>\n      <td>NaN</td>\n      <td>2020-10-22 18:05:38+00:00</td>\n      <td>2020-11-02 19:52:24+00:00</td>\n      <td>False</td>\n      <td>False</td>\n      <td>29</td>\n      <td>False</td>\n      <td>False</td>\n      <td>NaN</td>\n      <td>False</td>\n      <td>False</td>\n      <td>False</td>\n      <td>False</td>\n      <td>False</td>\n      <td>False</td>\n      <td>False</td>\n      <td>0</td>\n      <td>True</td>\n      <td>NaN</td>\n      <td>True</td>\n      <td>-1</td>\n      <td>eyJ0eXAiOiJKV1QiLCJhbGciOiJIUzI1NiJ9.eyJsdGlfY...</td>\n      <td>495</td>\n      <td>Sprint 1, Module 3 - Mentor's Peer Mentorship ...</td>\n      <td>[online_quiz]</td>\n      <td>True</td>\n      <td>False</td>\n      <td>255</td>\n      <td>False</td>\n      <td>False</td>\n      <td>False</td>\n      <td>NaN</td>\n      <td>NaN</td>\n      <td>NaN</td>\n      <td>NaN</td>\n      <td>published</td>\n      <td>True</td>\n      <td>https://lambdaschool.instructure.com/courses/4...</td>\n      <td>True</td>\n      <td>0</td>\n      <td>NaN</td>\n      <td>NaN</td>\n      <td>{}</td>\n      <td>6659</td>\n      <td>False</td>\n      <td>True</td>\n      <td>False</td>\n      <td>True</td>\n      <td>False</td>\n      <td>https://lambdaschool.instructure.com/courses/4...</td>\n      <td>False</td>\n      <td>False</td>\n      <td>False</td>\n    </tr>\n    <tr>\n      <th>8</th>\n      <td>7952</td>\n      <td></td>\n      <td>NaT</td>\n      <td>NaT</td>\n      <td>2020-11-21 07:59:59+00:00</td>\n      <td>1</td>\n      <td>points</td>\n      <td>2467</td>\n      <td>NaN</td>\n      <td>2020-10-22 18:05:39+00:00</td>\n      <td>2020-11-02 19:53:03+00:00</td>\n      <td>False</td>\n      <td>False</td>\n      <td>30</td>\n      <td>False</td>\n      <td>False</td>\n      <td>NaN</td>\n      <td>False</td>\n      <td>False</td>\n      <td>False</td>\n      <td>False</td>\n      <td>False</td>\n      <td>False</td>\n      <td>False</td>\n      <td>0</td>\n      <td>True</td>\n      <td>NaN</td>\n      <td>True</td>\n      <td>-1</td>\n      <td>eyJ0eXAiOiJKV1QiLCJhbGciOiJIUzI1NiJ9.eyJsdGlfY...</td>\n      <td>495</td>\n      <td>Sprint 1, Module 4 - Mentor's Peer Mentorship ...</td>\n      <td>[online_quiz]</td>\n      <td>True</td>\n      <td>False</td>\n      <td>255</td>\n      <td>False</td>\n      <td>False</td>\n      <td>False</td>\n      <td>NaN</td>\n      <td>NaN</td>\n      <td>NaN</td>\n      <td>NaN</td>\n      <td>published</td>\n      <td>True</td>\n      <td>https://lambdaschool.instructure.com/courses/4...</td>\n      <td>True</td>\n      <td>0</td>\n      <td>NaN</td>\n      <td>NaN</td>\n      <td>{}</td>\n      <td>6674</td>\n      <td>False</td>\n      <td>True</td>\n      <td>False</td>\n      <td>True</td>\n      <td>False</td>\n      <td>https://lambdaschool.instructure.com/courses/4...</td>\n      <td>False</td>\n      <td>False</td>\n      <td>False</td>\n    </tr>\n    <tr>\n      <th>9</th>\n      <td>7914</td>\n      <td></td>\n      <td>NaT</td>\n      <td>NaT</td>\n      <td>2020-11-21 07:59:59+00:00</td>\n      <td>1</td>\n      <td>points</td>\n      <td>2467</td>\n      <td>NaN</td>\n      <td>2020-10-22 18:05:37+00:00</td>\n      <td>2020-11-02 19:52:29+00:00</td>\n      <td>False</td>\n      <td>False</td>\n      <td>31</td>\n      <td>False</td>\n      <td>False</td>\n      <td>NaN</td>\n      <td>False</td>\n      <td>False</td>\n      <td>False</td>\n      <td>False</td>\n      <td>False</td>\n      <td>False</td>\n      <td>False</td>\n      <td>0</td>\n      <td>True</td>\n      <td>NaN</td>\n      <td>True</td>\n      <td>-1</td>\n      <td>eyJ0eXAiOiJKV1QiLCJhbGciOiJIUzI1NiJ9.eyJsdGlfY...</td>\n      <td>495</td>\n      <td>Sprint 1, Module 3 - Mentor's Peer Mentorship ...</td>\n      <td>[online_quiz]</td>\n      <td>True</td>\n      <td>False</td>\n      <td>255</td>\n      <td>False</td>\n      <td>False</td>\n      <td>False</td>\n      <td>NaN</td>\n      <td>NaN</td>\n      <td>NaN</td>\n      <td>NaN</td>\n      <td>published</td>\n      <td>True</td>\n      <td>https://lambdaschool.instructure.com/courses/4...</td>\n      <td>True</td>\n      <td>0</td>\n      <td>NaN</td>\n      <td>NaN</td>\n      <td>{}</td>\n      <td>6641</td>\n      <td>False</td>\n      <td>True</td>\n      <td>False</td>\n      <td>True</td>\n      <td>False</td>\n      <td>https://lambdaschool.instructure.com/courses/4...</td>\n      <td>False</td>\n      <td>False</td>\n      <td>False</td>\n    </tr>\n  </tbody>\n</table>\n</div>"
     },
     "metadata": {},
     "execution_count": 88
    }
   ],
   "source": [
    "m_m_df"
   ]
  },
  {
   "cell_type": "code",
   "execution_count": 92,
   "metadata": {},
   "outputs": [
    {
     "output_type": "execute_result",
     "data": {
      "text/plain": [
       "     id                                                                 name\n",
       "0  8088                                     Sprint 1 - Track Team Reflection\n",
       "1  8176                                           Sprint 2 - Team Reflection\n",
       "2  8020                                           Sprint 3 - Team Reflection\n",
       "3  8080                       Sprint 1, Module 1 - Mentor/Mentee Orientation\n",
       "4  7887                       Sprint 1, Module 2 - Mentor/Mentee Orientation\n",
       "5  7851             Sprint 1, Module 3 - Mentee's Peer Mentorship Reflection\n",
       "6  8092             Sprint 1, Module 4 - Mentee's Peer Mentorship Reflection\n",
       "7  7936             Sprint 1, Module 3 - Mentor's Peer Mentorship Reflection\n",
       "8  7952             Sprint 1, Module 4 - Mentor's Peer Mentorship Reflection\n",
       "9  7914  Sprint 1, Module 3 - Mentor's Peer Mentorship Reflection, Mentee #2"
      ],
      "text/html": "<div>\n<style scoped>\n    .dataframe tbody tr th:only-of-type {\n        vertical-align: middle;\n    }\n\n    .dataframe tbody tr th {\n        vertical-align: top;\n    }\n\n    .dataframe thead th {\n        text-align: right;\n    }\n</style>\n<table border=\"1\" class=\"dataframe\">\n  <thead>\n    <tr style=\"text-align: right;\">\n      <th></th>\n      <th>id</th>\n      <th>name</th>\n    </tr>\n  </thead>\n  <tbody>\n    <tr>\n      <th>0</th>\n      <td>8088</td>\n      <td>Sprint 1 - Track Team Reflection</td>\n    </tr>\n    <tr>\n      <th>1</th>\n      <td>8176</td>\n      <td>Sprint 2 - Team Reflection</td>\n    </tr>\n    <tr>\n      <th>2</th>\n      <td>8020</td>\n      <td>Sprint 3 - Team Reflection</td>\n    </tr>\n    <tr>\n      <th>3</th>\n      <td>8080</td>\n      <td>Sprint 1, Module 1 - Mentor/Mentee Orientation</td>\n    </tr>\n    <tr>\n      <th>4</th>\n      <td>7887</td>\n      <td>Sprint 1, Module 2 - Mentor/Mentee Orientation</td>\n    </tr>\n    <tr>\n      <th>5</th>\n      <td>7851</td>\n      <td>Sprint 1, Module 3 - Mentee's Peer Mentorship Reflection</td>\n    </tr>\n    <tr>\n      <th>6</th>\n      <td>8092</td>\n      <td>Sprint 1, Module 4 - Mentee's Peer Mentorship Reflection</td>\n    </tr>\n    <tr>\n      <th>7</th>\n      <td>7936</td>\n      <td>Sprint 1, Module 3 - Mentor's Peer Mentorship Reflection</td>\n    </tr>\n    <tr>\n      <th>8</th>\n      <td>7952</td>\n      <td>Sprint 1, Module 4 - Mentor's Peer Mentorship Reflection</td>\n    </tr>\n    <tr>\n      <th>9</th>\n      <td>7914</td>\n      <td>Sprint 1, Module 3 - Mentor's Peer Mentorship Reflection, Mentee #2</td>\n    </tr>\n  </tbody>\n</table>\n</div>"
     },
     "metadata": {},
     "execution_count": 92
    }
   ],
   "source": [
    "m_m_df[[\"id\",\"name\"]]"
   ]
  },
  {
   "cell_type": "code",
   "execution_count": 4,
   "metadata": {},
   "outputs": [],
   "source": [
    "r = requests.get(\"https://lambdaschool.instructure.com/api/v1/courses/495/quizzes/6780/submissions\", headers=headers)"
   ]
  },
  {
   "cell_type": "code",
   "execution_count": 5,
   "metadata": {},
   "outputs": [
    {
     "output_type": "execute_result",
     "data": {
      "text/plain": [
       "<Response [200]>"
      ]
     },
     "metadata": {},
     "execution_count": 5
    }
   ],
   "source": [
    "r"
   ]
  },
  {
   "cell_type": "code",
   "execution_count": 7,
   "metadata": {},
   "outputs": [],
   "source": [
    "raw = r.json()\n",
    "\n",
    "with open(\"submissions-6780.json\",\"w\") as outfile:\n",
    "    json.dump(raw[\"quiz_submissions\"], outfile)"
   ]
  },
  {
   "cell_type": "code",
   "execution_count": 4,
   "metadata": {},
   "outputs": [
    {
     "output_type": "execute_result",
     "data": {
      "text/plain": [
       "      id  quiz_id  quiz_version  user_id  submission_id  score  kept_score  \\\n",
       "0  56612     6780            95     3164         326129      1           1   \n",
       "1  56613     6780            95      453         314219      1           1   \n",
       "2  56623     6780            95      616         306786      1           1   \n",
       "3  56646     6780            96     1204         329346      1           1   \n",
       "4  56649     6780            96      259         311293      1           1   \n",
       "\n",
       "                 started_at                    end_at  \\\n",
       "0 2020-10-26 15:06:58+00:00 2020-11-21 07:59:59+00:00   \n",
       "1 2020-10-26 15:07:21+00:00 2020-11-21 07:59:59+00:00   \n",
       "2 2020-10-26 15:32:09+00:00 2020-11-21 07:59:59+00:00   \n",
       "3 2020-10-26 16:09:47+00:00 2020-11-21 07:59:59+00:00   \n",
       "4 2020-10-26 16:17:03+00:00 2020-11-21 07:59:59+00:00   \n",
       "\n",
       "                finished_at  attempt workflow_state  fudge_points  \\\n",
       "0 2020-10-29 15:29:16+00:00        1       complete           NaN   \n",
       "1 2020-10-27 16:03:13+00:00        1       complete           NaN   \n",
       "2 2020-10-26 22:52:04+00:00        1       complete           NaN   \n",
       "3 2020-10-26 16:10:27+00:00        1       complete           NaN   \n",
       "4 2020-11-21 07:59:59+00:00        1       complete           NaN   \n",
       "\n",
       "   quiz_points_possible  extra_attempts extra_time  manually_unlocked  \\\n",
       "0                     1             NaN        NaT                NaN   \n",
       "1                     1             NaN        NaT                NaN   \n",
       "2                     1             NaN        NaT                NaN   \n",
       "3                     1             NaN        NaT                NaN   \n",
       "4                     1             NaN        NaT                NaN   \n",
       "\n",
       "                                                   validation_token  \\\n",
       "0  6f14f6e7c507ab9a81a88fe38fd93e4d49f5febcd4ae89b06ac01e8b83b039ab   \n",
       "1  2e462d5e864ec1cde85437eaa882dead7992900247912e7e8e696c2d74be12cf   \n",
       "2  84d0a735b6c714337e9f3b5bb41575d9e86b2173051df302e9008a22cc6fcfb0   \n",
       "3  e49ebdcef59229bcc242185fefa0e24d270551543532bc062144a2deaa7c4e52   \n",
       "4  b7c4199ce920a429807ca2cf4bd057f807b73882182e67659fe7ed2737414bdb   \n",
       "\n",
       "   score_before_regrade  has_seen_results  time_spent  attempts_left  \\\n",
       "0                   NaN               0.0      260538              0   \n",
       "1                   NaN               0.0       89753              0   \n",
       "2                   NaN               0.0       26395              0   \n",
       "3                   NaN               0.0          40              0   \n",
       "4                   NaN               NaN     2216576              0   \n",
       "\n",
       "   overdue_and_needs_submission  excused?  \\\n",
       "0                         False     False   \n",
       "1                         False     False   \n",
       "2                         False     False   \n",
       "3                         False     False   \n",
       "4                         False     False   \n",
       "\n",
       "                                                                          html_url  \\\n",
       "0  https://lambdaschool.instructure.com/courses/495/quizzes/6780/submissions/56612   \n",
       "1  https://lambdaschool.instructure.com/courses/495/quizzes/6780/submissions/56613   \n",
       "2  https://lambdaschool.instructure.com/courses/495/quizzes/6780/submissions/56623   \n",
       "3  https://lambdaschool.instructure.com/courses/495/quizzes/6780/submissions/56646   \n",
       "4  https://lambdaschool.instructure.com/courses/495/quizzes/6780/submissions/56649   \n",
       "\n",
       "                                                                                                 result_url  \n",
       "0  https://lambdaschool.instructure.com/courses/495/quizzes/6780/history?quiz_submission_id=56612&version=1  \n",
       "1  https://lambdaschool.instructure.com/courses/495/quizzes/6780/history?quiz_submission_id=56613&version=1  \n",
       "2  https://lambdaschool.instructure.com/courses/495/quizzes/6780/history?quiz_submission_id=56623&version=1  \n",
       "3  https://lambdaschool.instructure.com/courses/495/quizzes/6780/history?quiz_submission_id=56646&version=1  \n",
       "4  https://lambdaschool.instructure.com/courses/495/quizzes/6780/history?quiz_submission_id=56649&version=1  "
      ],
      "text/html": "<div>\n<style scoped>\n    .dataframe tbody tr th:only-of-type {\n        vertical-align: middle;\n    }\n\n    .dataframe tbody tr th {\n        vertical-align: top;\n    }\n\n    .dataframe thead th {\n        text-align: right;\n    }\n</style>\n<table border=\"1\" class=\"dataframe\">\n  <thead>\n    <tr style=\"text-align: right;\">\n      <th></th>\n      <th>id</th>\n      <th>quiz_id</th>\n      <th>quiz_version</th>\n      <th>user_id</th>\n      <th>submission_id</th>\n      <th>score</th>\n      <th>kept_score</th>\n      <th>started_at</th>\n      <th>end_at</th>\n      <th>finished_at</th>\n      <th>attempt</th>\n      <th>workflow_state</th>\n      <th>fudge_points</th>\n      <th>quiz_points_possible</th>\n      <th>extra_attempts</th>\n      <th>extra_time</th>\n      <th>manually_unlocked</th>\n      <th>validation_token</th>\n      <th>score_before_regrade</th>\n      <th>has_seen_results</th>\n      <th>time_spent</th>\n      <th>attempts_left</th>\n      <th>overdue_and_needs_submission</th>\n      <th>excused?</th>\n      <th>html_url</th>\n      <th>result_url</th>\n    </tr>\n  </thead>\n  <tbody>\n    <tr>\n      <th>0</th>\n      <td>56612</td>\n      <td>6780</td>\n      <td>95</td>\n      <td>3164</td>\n      <td>326129</td>\n      <td>1</td>\n      <td>1</td>\n      <td>2020-10-26 15:06:58+00:00</td>\n      <td>2020-11-21 07:59:59+00:00</td>\n      <td>2020-10-29 15:29:16+00:00</td>\n      <td>1</td>\n      <td>complete</td>\n      <td>NaN</td>\n      <td>1</td>\n      <td>NaN</td>\n      <td>NaT</td>\n      <td>NaN</td>\n      <td>6f14f6e7c507ab9a81a88fe38fd93e4d49f5febcd4ae89b06ac01e8b83b039ab</td>\n      <td>NaN</td>\n      <td>0.0</td>\n      <td>260538</td>\n      <td>0</td>\n      <td>False</td>\n      <td>False</td>\n      <td>https://lambdaschool.instructure.com/courses/495/quizzes/6780/submissions/56612</td>\n      <td>https://lambdaschool.instructure.com/courses/495/quizzes/6780/history?quiz_submission_id=56612&amp;version=1</td>\n    </tr>\n    <tr>\n      <th>1</th>\n      <td>56613</td>\n      <td>6780</td>\n      <td>95</td>\n      <td>453</td>\n      <td>314219</td>\n      <td>1</td>\n      <td>1</td>\n      <td>2020-10-26 15:07:21+00:00</td>\n      <td>2020-11-21 07:59:59+00:00</td>\n      <td>2020-10-27 16:03:13+00:00</td>\n      <td>1</td>\n      <td>complete</td>\n      <td>NaN</td>\n      <td>1</td>\n      <td>NaN</td>\n      <td>NaT</td>\n      <td>NaN</td>\n      <td>2e462d5e864ec1cde85437eaa882dead7992900247912e7e8e696c2d74be12cf</td>\n      <td>NaN</td>\n      <td>0.0</td>\n      <td>89753</td>\n      <td>0</td>\n      <td>False</td>\n      <td>False</td>\n      <td>https://lambdaschool.instructure.com/courses/495/quizzes/6780/submissions/56613</td>\n      <td>https://lambdaschool.instructure.com/courses/495/quizzes/6780/history?quiz_submission_id=56613&amp;version=1</td>\n    </tr>\n    <tr>\n      <th>2</th>\n      <td>56623</td>\n      <td>6780</td>\n      <td>95</td>\n      <td>616</td>\n      <td>306786</td>\n      <td>1</td>\n      <td>1</td>\n      <td>2020-10-26 15:32:09+00:00</td>\n      <td>2020-11-21 07:59:59+00:00</td>\n      <td>2020-10-26 22:52:04+00:00</td>\n      <td>1</td>\n      <td>complete</td>\n      <td>NaN</td>\n      <td>1</td>\n      <td>NaN</td>\n      <td>NaT</td>\n      <td>NaN</td>\n      <td>84d0a735b6c714337e9f3b5bb41575d9e86b2173051df302e9008a22cc6fcfb0</td>\n      <td>NaN</td>\n      <td>0.0</td>\n      <td>26395</td>\n      <td>0</td>\n      <td>False</td>\n      <td>False</td>\n      <td>https://lambdaschool.instructure.com/courses/495/quizzes/6780/submissions/56623</td>\n      <td>https://lambdaschool.instructure.com/courses/495/quizzes/6780/history?quiz_submission_id=56623&amp;version=1</td>\n    </tr>\n    <tr>\n      <th>3</th>\n      <td>56646</td>\n      <td>6780</td>\n      <td>96</td>\n      <td>1204</td>\n      <td>329346</td>\n      <td>1</td>\n      <td>1</td>\n      <td>2020-10-26 16:09:47+00:00</td>\n      <td>2020-11-21 07:59:59+00:00</td>\n      <td>2020-10-26 16:10:27+00:00</td>\n      <td>1</td>\n      <td>complete</td>\n      <td>NaN</td>\n      <td>1</td>\n      <td>NaN</td>\n      <td>NaT</td>\n      <td>NaN</td>\n      <td>e49ebdcef59229bcc242185fefa0e24d270551543532bc062144a2deaa7c4e52</td>\n      <td>NaN</td>\n      <td>0.0</td>\n      <td>40</td>\n      <td>0</td>\n      <td>False</td>\n      <td>False</td>\n      <td>https://lambdaschool.instructure.com/courses/495/quizzes/6780/submissions/56646</td>\n      <td>https://lambdaschool.instructure.com/courses/495/quizzes/6780/history?quiz_submission_id=56646&amp;version=1</td>\n    </tr>\n    <tr>\n      <th>4</th>\n      <td>56649</td>\n      <td>6780</td>\n      <td>96</td>\n      <td>259</td>\n      <td>311293</td>\n      <td>1</td>\n      <td>1</td>\n      <td>2020-10-26 16:17:03+00:00</td>\n      <td>2020-11-21 07:59:59+00:00</td>\n      <td>2020-11-21 07:59:59+00:00</td>\n      <td>1</td>\n      <td>complete</td>\n      <td>NaN</td>\n      <td>1</td>\n      <td>NaN</td>\n      <td>NaT</td>\n      <td>NaN</td>\n      <td>b7c4199ce920a429807ca2cf4bd057f807b73882182e67659fe7ed2737414bdb</td>\n      <td>NaN</td>\n      <td>NaN</td>\n      <td>2216576</td>\n      <td>0</td>\n      <td>False</td>\n      <td>False</td>\n      <td>https://lambdaschool.instructure.com/courses/495/quizzes/6780/submissions/56649</td>\n      <td>https://lambdaschool.instructure.com/courses/495/quizzes/6780/history?quiz_submission_id=56649&amp;version=1</td>\n    </tr>\n  </tbody>\n</table>\n</div>"
     },
     "metadata": {},
     "execution_count": 4
    }
   ],
   "source": [
    "sub_df = pd.read_json(\"submissions-6780.json\")\n",
    "sub_df.head()"
   ]
  },
  {
   "cell_type": "code",
   "execution_count": 5,
   "metadata": {},
   "outputs": [
    {
     "output_type": "execute_result",
     "data": {
      "text/plain": [
       "<Response [200]>"
      ]
     },
     "metadata": {},
     "execution_count": 5
    }
   ],
   "source": [
    "r = requests.get(\"https://lambdaschool.instructure.com/api/v1/courses/495/quizzes/6780/submissions/56623/events\", headers=headers)\n",
    "r"
   ]
  },
  {
   "cell_type": "code",
   "execution_count": 6,
   "metadata": {},
   "outputs": [],
   "source": [
    "raw = r.json()[\"quiz_submission_events\"]\n",
    "for i in raw:\n",
    "    i[\"user_id\"] = 616"
   ]
  },
  {
   "cell_type": "code",
   "execution_count": 7,
   "metadata": {},
   "outputs": [],
   "source": [
    "with open(\"events-56623.json\", \"w\") as outfile:\n",
    "    json.dump(raw, outfile)"
   ]
  },
  {
   "cell_type": "code",
   "execution_count": 8,
   "metadata": {},
   "outputs": [
    {
     "output_type": "execute_result",
     "data": {
      "text/plain": [
       "                                                                                                                                                                                                                                                                                                                                                                                                                                                                                                                                                                                                                                                                                                                                                                                                                                                                                                                                                                                                                                                                                                                                              [{'quiz_question_id': '22635', 'answer': 2.0}, {'quiz_question_id': '22636', 'answer': None}, {'quiz_question_id': '22637', 'answer': None}]   \n",
       "5                                                                                                                                                                                                                                                                                                                                                                                                                                                                                                                                                                                                                                                                                                                                                                                                                                                                                                                                                                                                                                                                                                                                                                                                                                                                                                                                                                                                                                                                                                                                                                                                                                                                                                                                                                                                                                                                                                                                                                                                                                                                                                                                                                                                                                                                                                                                                                                                                                                                                                                                                                                                                                                                                                                                                                                                                                                                                                                                                                                                                                                                                                                                                                                                                                                                                                                                                                                                                                                                                                                                                                                                                                                                                                                                                       [{'quiz_question_id': '22636', 'answer': '<p>I</p>'}]   \n",
       "6                                                                                                                                                                                                                                                                                                                                                                                                                                                                                                                                                                                                                                                                                                                                                                                                                                                                                                                                                                                                                                                                                                                                                                                                                                                                                                                                                                                                                                                                                                                                                                                                                                                                                                                                                                                                                                                                                                                                                                                                                                                                                                                                                                                                                                                                                                                                                                                                                                                                                                                                                                                                                                                                                                                                                                                                                                                                                                                                                                                                                                                                                                                                                                                                                                                                                                                                                                                                                                                                                                                                                                                                                                                                                                                                                                                                     [22635]   \n",
       "7                                                                                                                                                                                                                                                                                                                                                                                                                                                                                                                                                                                                                                                                                                                                                                                                                                                                                                                                                                                                                                                                                                                                                                                                                                                                                                                                                                                                                                                                                                                                                                                                                                                                                                                                                                                                                                                                                                                                                                                                                                                                                                                                                                                                                                                                                                                                                                                                                                                                                                                                                                                                                                                                                                                                                                                                                                                                                                                                                                                                                                                                                                                                                                                                                                                                                                                                                                                                                                                                                                                                                                                                                                                                                                     [{'quiz_question_id': '22636', 'answer': '<p>It's pretty cool that I can make an impact in&nbsp;</p>'}]   \n",
       "8                                                                                                                                                                                                                                                                                                                                                                                                                                                                                                                                                                                                                                                                                                                                                                                                                                                                                                                                                                                                                                                                                                                                                                                                                                                                                                                                                                                                                                                                                                                                                                                                                                                                                                                                                                                                                                                                                                                                                                                                                                                                                                                                                                                                                                                                                                                                                                                                                                                                                                                                                                                                                                                                                                                                                                                                                                                                                                                                                                                                                                                                                                                                                                                                                                                                                                                                                                                                                                                                                                                                                                                                                                                                                                                                                                                                     [22636]   \n",
       "9                                                                                                                                                                                                                                                                                                                                                                                                                                                                                                                                                                                                                                                                                                                                                                                                                                                                                                                                                                                                                                                                                                                                                                                                                                                                                                                                                                                                                                                                                                                                                                                                                                                                                                                                                                                                                                                                                                                                                                                                                                                                                                                                                                                                                                                                                                                                                                                                                                                                                                                                                                                                                                                                                                                                                                                                                                                                                                                                                                                                                                                                                                                                                                                                                                                                                                                                                                                                                                                                                                                                                       [{'quiz_question_id': '22636', 'answer': '<p>It's pretty cool that I can make an impact in someone's experience. It won't be by giving them answers, but rather by building a relationship with them and then helping to lead them to answers.</p>'}]   \n",
       "\n",
       "                 created_at  user_id  \n",
       "0 2020-10-26 15:32:10+00:00      616  \n",
       "1 2020-10-26 15:32:10+00:00      616  \n",
       "2 2020-10-26 15:32:20+00:00      616  \n",
       "3 2020-10-26 22:51:15+00:00      616  \n",
       "4 2020-10-26 22:51:19+00:00      616  \n",
       "5 2020-10-26 22:51:23+00:00      616  \n",
       "6 2020-10-26 22:51:30+00:00      616  \n",
       "7 2020-10-26 22:51:30+00:00      616  \n",
       "8 2020-10-26 22:52:00+00:00      616  \n",
       "9 2020-10-26 22:52:00+00:00      616  "
      ],
      "text/html": "<div>\n<style scoped>\n    .dataframe tbody tr th:only-of-type {\n        vertical-align: middle;\n    }\n\n    .dataframe tbody tr th {\n        vertical-align: top;\n    }\n\n    .dataframe thead th {\n        text-align: right;\n    }\n</style>\n<table border=\"1\" class=\"dataframe\">\n  <thead>\n    <tr style=\"text-align: right;\">\n      <th></th>\n      <th>id</th>\n      <th>event_type</th>\n      <th>event_data</th>\n      <th>created_at</th>\n      <th>user_id</th>\n    </tr>\n  </thead>\n  <tbody>\n    <tr>\n      <th>0</th>\n      <td>635196</td>\n      <td>submission_created</td>\n      <td>{'quiz_version': 95, 'quiz_data': [{'answers': [{'weight': 100, 'text': 'answer_text', 'id': 2455, 'numerical_answer_type': 'exact_answer', 'exact': 1.0, 'margin': 0.0}, {'weight': 100, 'text': 'answer_text', 'id': 8458, 'numerical_answer_type': 'exact_answer', 'exact': 2.0, 'margin': 0.0}, {'weight': 100, 'text': 'answer_text', 'id': 4060, 'numerical_answer_type': 'exact_answer', 'exact': 3.0, 'margin': 0.0}], 'correct_comments': '', 'incorrect_comments': '', 'question_text': '&lt;div id=\"t-formula-bar-input-container\"&gt;\n&lt;div dir=\"ltr\"&gt;\n&lt;div id=\"t-formula-bar-input\"&gt;\n&lt;p class=\"cell-input disabled-input\" dir=\"ltr\" role=\"combobox\" aria-autocomplete=\"list\"&gt;How did your orientation go today?&lt;/p&gt;\n&lt;p class=\"cell-input disabled-input\" dir=\"ltr\" role=\"combobox\" aria-autocomplete=\"list\"&gt;&lt;span style=\"color: #1d1c1d; font-family: Slack-Lato, appleLogo, sans-serif; font-size: 12pt; font-style: normal; font-weight: 400; text-align: left; text-indent: 0px; white-space: normal; background-color: #ffffff; display: inline !important; float: none;\"&gt;Answer on a scale of 1-3, where 1 = below expectations, 2 = met expectations, and 3 = exceeded expectations.&lt;/span&gt;&lt;/p&gt;\n&lt;/div&gt;\n&lt;/div&gt;\n&lt;/div&gt;', 'question_type': 'numerical_question', 'question_name': 'Question 1', 'migration_id': 'mastercourse_16855_145_43098bcecca3bcbf6098697482c7c483', 'points_possible': 1.0, 'assessment_question_migration_id': 'mastercourse_16855_145_f47b767d37e06559ff801f2d253307ba', 'question_bank_name': 'Sprint 1, Module 1 - Mentor/Mentee Orientation', 'question_bank_migration_id': 'ia38a3f5ef54ba1c460d106b564b00163', 'is_quiz_question_bank': True, 'prepped_for_import': True, 'position': 1, 'id': 22635, 'assessment_question_id': None, 'published_at': '2020-10-26T14:44:31+00:00', 'name': 'Question 1'}, {'answers': [], 'correct_comments': '', 'incorrect_comments': '', 'question_text': '&lt;div id=\"t-formula-bar-input-container\"&gt;\n&lt;div dir=\"ltr\"&gt;\n&lt;div id=\"t-formula-bar-input\"&gt;\n&lt;p class=\"cell-input disabled-input\" dir=\"ltr\" role=\"combobox\" aria-autocomplete=\"list\"&gt;What is one key take-away you've gained from today's session?&lt;/p&gt;\n&lt;/div&gt;\n&lt;/div&gt;\n&lt;/div&gt;', 'question_name': 'Question 2', 'migration_id': 'mastercourse_16855_145_d6de3cc9d13e43ae6307a8c7c5930775', 'points_possible': 1.0, 'assessment_question_migration_id': 'mastercourse_16855_145_f47b767d37e06559ff801f2d253307ba', 'question_type': 'essay_question', 'question_bank_name': 'Sprint 1, Module 1 - Mentor/Mentee Orientation', 'question_bank_migration_id': 'ia38a3f5ef54ba1c460d106b564b00163', 'is_quiz_question_bank': True, 'prepped_for_import': True, 'position': 2, 'id': 22636, 'assessment_question_id': None, 'published_at': '2020-10-26T14:44:31+00:00', 'name': 'Question 2'}, {'answers': [], 'correct_comments': '', 'incorrect_comments': '', 'question_text': '&lt;div id=\"t-formula-bar-input-container\"&gt;\n&lt;div dir=\"ltr\"&gt;\n&lt;div id=\"t-formula-bar-input\"&gt;\n&lt;p class=\"cell-input disabled-input\" dir=\"ltr\" role=\"combobox\" aria-autocomplete=\"list\"&gt;&lt;span&gt;Do you have any questions or anything we should know about?&lt;/span&gt;&lt;/p&gt;\n&lt;/div&gt;\n&lt;/div&gt;\n&lt;/div&gt;', 'question_name': 'Question 3', 'migration_id': 'mastercourse_16855_145_90c988693d7535dd83db491b8a2daeee', 'points_possible': 1.0, 'assessment_question_migration_id': 'mastercourse_16855_145_f47b767d37e06559ff801f2d253307ba', 'question_type': 'essay_question', 'question_bank_name': 'Sprint 1, Module 1 - Mentor/Mentee Orientation', 'question_bank_migration_id': 'ia38a3f5ef54ba1c460d106b564b00163', 'is_quiz_question_bank': True, 'prepped_for_import': True, 'position': 3, 'id': 22637, 'assessment_question_id': None, 'published_at': '2020-10-26T14:44:31+00:00', 'name': 'Question 3'}]}</td>\n      <td>2020-10-26 15:32:10+00:00</td>\n      <td>616</td>\n    </tr>\n    <tr>\n      <th>1</th>\n      <td>635197</td>\n      <td>session_started</td>\n      <td>{'user_agent': 'Mozilla/5.0 (Windows NT 10.0; Win64; x64) AppleWebKit/537.36 (KHTML, like Gecko) Chrome/86.0.4240.75 Safari/537.36'}</td>\n      <td>2020-10-26 15:32:10+00:00</td>\n      <td>616</td>\n    </tr>\n    <tr>\n      <th>2</th>\n      <td>635202</td>\n      <td>question_viewed</td>\n      <td>[22635, 22636]</td>\n      <td>2020-10-26 15:32:20+00:00</td>\n      <td>616</td>\n    </tr>\n    <tr>\n      <th>3</th>\n      <td>643473</td>\n      <td>session_started</td>\n      <td>{'user_agent': 'Mozilla/5.0 (Windows NT 10.0; Win64; x64) AppleWebKit/537.36 (KHTML, like Gecko) Chrome/86.0.4240.75 Safari/537.36'}</td>\n      <td>2020-10-26 22:51:15+00:00</td>\n      <td>616</td>\n    </tr>\n    <tr>\n      <th>4</th>\n      <td>643477</td>\n      <td>question_answered</td>\n      <td>[{'quiz_question_id': '22635', 'answer': 2.0}, {'quiz_question_id': '22636', 'answer': None}, {'quiz_question_id': '22637', 'answer': None}]</td>\n      <td>2020-10-26 22:51:19+00:00</td>\n      <td>616</td>\n    </tr>\n    <tr>\n      <th>5</th>\n      <td>643480</td>\n      <td>question_answered</td>\n      <td>[{'quiz_question_id': '22636', 'answer': '&lt;p&gt;I&lt;/p&gt;'}]</td>\n      <td>2020-10-26 22:51:23+00:00</td>\n      <td>616</td>\n    </tr>\n    <tr>\n      <th>6</th>\n      <td>643481</td>\n      <td>question_viewed</td>\n      <td>[22635]</td>\n      <td>2020-10-26 22:51:30+00:00</td>\n      <td>616</td>\n    </tr>\n    <tr>\n      <th>7</th>\n      <td>643482</td>\n      <td>question_answered</td>\n      <td>[{'quiz_question_id': '22636', 'answer': '&lt;p&gt;It's pretty cool that I can make an impact in&amp;nbsp;&lt;/p&gt;'}]</td>\n      <td>2020-10-26 22:51:30+00:00</td>\n      <td>616</td>\n    </tr>\n    <tr>\n      <th>8</th>\n      <td>643495</td>\n      <td>question_viewed</td>\n      <td>[22636]</td>\n      <td>2020-10-26 22:52:00+00:00</td>\n      <td>616</td>\n    </tr>\n    <tr>\n      <th>9</th>\n      <td>643496</td>\n      <td>question_answered</td>\n      <td>[{'quiz_question_id': '22636', 'answer': '&lt;p&gt;It's pretty cool that I can make an impact in someone's experience. It won't be by giving them answers, but rather by building a relationship with them and then helping to lead them to answers.&lt;/p&gt;'}]</td>\n      <td>2020-10-26 22:52:00+00:00</td>\n      <td>616</td>\n    </tr>\n  </tbody>\n</table>\n</div>"
     },
     "metadata": {},
     "execution_count": 8
    }
   ],
   "source": [
    "events_df_56623 = pd.read_json(\"events-56623.json\")\n",
    "events_df_56623"
   ]
  },
  {
   "cell_type": "code",
   "execution_count": null,
   "metadata": {},
   "outputs": [],
   "source": [
    "def get_submissions(r):\n",
    "    data_set = []\n",
    "    raw = r.json()\n",
    "\n",
    "    for submission in raw:\n",
    "        data_set.append(submission)\n",
    "\n",
    "    if \"next\" in r.links.keys():\n",
    "        while \"next\" in r.links.keys():\n",
    "            r = requests.get(r.links[\"next\"][\"url\"], headers=headers)\n",
    "            raw = r.json()\n",
    "            for submission in raw:\n",
    "                data_set.append(submission)\n",
    "        if \"last\" in r.links.keys() and r.links['current']['url'] == r.links['last']['url']:\n",
    "            print('Done!')\n",
    "    else:\n",
    "        print(\"Just one page!\")\n",
    "    return data_set"
   ]
  },
  {
   "cell_type": "code",
   "execution_count": 15,
   "metadata": {},
   "outputs": [
    {
     "output_type": "stream",
     "name": "stdout",
     "text": [
      "2.0\n"
     ]
    }
   ],
   "source": [
    "r = requests.get(f\"https://lambdaschool.instructure.com/api/v1/courses/{course_id}/quizzes/{quiz_id}/submissions/{submission_id}/events\", headers=headers)\n",
    "def get_answer(df):\n",
    "    for i in df[\"event_data\"]:\n",
    "        if isinstance(i, list) and isinstance(i[0], str)==False:\n",
    "            if \"22635\" in i[0].values():\n",
    "                print(i[0][\"answer\"])\n",
    "get_answer(events_df_56623)"
   ]
  },
  {
   "cell_type": "code",
   "execution_count": 32,
   "metadata": {},
   "outputs": [
    {
     "output_type": "execute_result",
     "data": {
      "text/plain": [
       "<Response [200]>"
      ]
     },
     "metadata": {},
     "execution_count": 32
    }
   ],
   "source": [
    "r = requests.get(\"https://lambdaschool.instructure.com/api/v1/courses/495/quizzes/6780/submission_users\", headers=headers)\n",
    "r"
   ]
  },
  {
   "cell_type": "code",
   "execution_count": null,
   "metadata": {},
   "outputs": [],
   "source": []
  }
 ]
}