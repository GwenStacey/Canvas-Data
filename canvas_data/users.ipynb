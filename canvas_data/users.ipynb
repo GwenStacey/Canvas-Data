{
 "metadata": {
  "language_info": {
   "codemirror_mode": {
    "name": "ipython",
    "version": 3
   },
   "file_extension": ".py",
   "mimetype": "text/x-python",
   "name": "python",
   "nbconvert_exporter": "python",
   "pygments_lexer": "ipython3",
   "version": "3.8.5-final"
  },
  "orig_nbformat": 2,
  "kernelspec": {
   "name": "canvas-data",
   "display_name": "canvas-data",
   "language": "python"
  }
 },
 "nbformat": 4,
 "nbformat_minor": 2,
 "cells": [
  {
   "cell_type": "code",
   "execution_count": 1,
   "metadata": {},
   "outputs": [
    {
     "output_type": "execute_result",
     "data": {
      "text/plain": [
       "True"
      ]
     },
     "metadata": {},
     "execution_count": 1
    }
   ],
   "source": [
    "import os\n",
    "import json\n",
    "import requests\n",
    "from dotenv import load_dotenv\n",
    "import plotly_express as px\n",
    "load_dotenv()"
   ]
  },
  {
   "cell_type": "code",
   "execution_count": 2,
   "metadata": {},
   "outputs": [],
   "source": [
    "import pandas as pd\n",
    "\n",
    "pd.set_option(\"display.max_columns\", None)\n",
    "pd.set_option(\"display.max_colwidth\", None)"
   ]
  },
  {
   "cell_type": "code",
   "execution_count": 3,
   "metadata": {},
   "outputs": [],
   "source": [
    "api_key = os.getenv(\"API-KEY\")\n",
    "headers = {\"Authorization\":\n",
    "           f\"Bearer {api_key}\"}"
   ]
  },
  {
   "cell_type": "code",
   "execution_count": 37,
   "metadata": {},
   "outputs": [
    {
     "output_type": "execute_result",
     "data": {
      "text/plain": [
       "<Response [200]>"
      ]
     },
     "metadata": {},
     "execution_count": 37
    }
   ],
   "source": [
    "r = requests.get(\"https://lambdaschool.instructure.com/api/v1/accounts/1/users\", headers=headers)\n",
    "r"
   ]
  },
  {
   "cell_type": "code",
   "execution_count": 38,
   "metadata": {},
   "outputs": [
    {
     "output_type": "execute_result",
     "data": {
      "text/plain": [
       "[{'id': 4239,\n",
       "  'name': 'Gilad Abada',\n",
       "  'created_at': '2020-12-09T14:20:58-07:00',\n",
       "  'sortable_name': 'Abada, Gilad',\n",
       "  'short_name': 'Gilad Abada',\n",
       "  'sis_user_id': '4c105a1b-ab63-470e-be91-0b712feed716',\n",
       "  'integration_id': None,\n",
       "  'sis_import_id': 778,\n",
       "  'login_id': '4c105a1b-ab63-470e-be91-0b712feed716'},\n",
       " {'id': 4547,\n",
       "  'name': 'Daniel J Abbott',\n",
       "  'created_at': '2020-12-09T14:21:23-07:00',\n",
       "  'sortable_name': 'Abbott, Daniel J',\n",
       "  'short_name': 'Daniel J Abbott',\n",
       "  'sis_user_id': '5111c17d-3171-429f-b223-39548ffa6e24',\n",
       "  'integration_id': None,\n",
       "  'sis_import_id': 778,\n",
       "  'login_id': '5111c17d-3171-429f-b223-39548ffa6e24'},\n",
       " {'id': 2040,\n",
       "  'name': 'Wayne Abbruscato-Orr',\n",
       "  'created_at': '2020-09-21T18:52:35-06:00',\n",
       "  'sortable_name': 'Abbruscato-Orr, Wayne',\n",
       "  'short_name': 'Wayne Abbruscato-Orr',\n",
       "  'sis_user_id': '5ee400a7-91d6-48e9-b785-235818cfeea8',\n",
       "  'integration_id': None,\n",
       "  'sis_import_id': None,\n",
       "  'login_id': '5ee400a7-91d6-48e9-b785-235818cfeea8'},\n",
       " {'id': 1231,\n",
       "  'name': 'Adham Abdelfattah',\n",
       "  'created_at': '2020-09-18T14:46:43-06:00',\n",
       "  'sortable_name': 'Abdelfattah, Adham',\n",
       "  'short_name': 'Adham Abdelfattah',\n",
       "  'sis_user_id': '18135bc6-feb1-4e69-98b5-f7a1edbdece5',\n",
       "  'integration_id': None,\n",
       "  'sis_import_id': None,\n",
       "  'login_id': '18135bc6-feb1-4e69-98b5-f7a1edbdece5'},\n",
       " {'id': 4917,\n",
       "  'name': 'Anas Abdelsalam',\n",
       "  'created_at': '2021-01-06T11:13:42-07:00',\n",
       "  'sortable_name': 'Abdelsalam, Anas',\n",
       "  'short_name': 'Anas Abdelsalam',\n",
       "  'sis_user_id': 'caeadaa2-ec63-4e83-b0a7-232f8a6009c0',\n",
       "  'integration_id': None,\n",
       "  'sis_import_id': None,\n",
       "  'login_id': 'caeadaa2-ec63-4e83-b0a7-232f8a6009c0'},\n",
       " {'id': 1719,\n",
       "  'name': 'Remon Abdou',\n",
       "  'created_at': '2020-09-21T18:50:05-06:00',\n",
       "  'sortable_name': 'Abdou, Remon',\n",
       "  'short_name': 'Remon Abdou',\n",
       "  'sis_user_id': '257e24cd-70e4-4d5a-b5cb-75969c200dc9',\n",
       "  'integration_id': None,\n",
       "  'sis_import_id': None,\n",
       "  'login_id': '257e24cd-70e4-4d5a-b5cb-75969c200dc9'},\n",
       " {'id': 842,\n",
       "  'name': 'Yusuf Abdulla',\n",
       "  'created_at': '2020-08-28T16:47:26-06:00',\n",
       "  'sortable_name': 'Abdulla, Yusuf',\n",
       "  'short_name': 'Yusuf Abdulla',\n",
       "  'sis_user_id': '0aeae043-e234-4e99-ae13-d281c2d05313',\n",
       "  'integration_id': None,\n",
       "  'sis_import_id': 248,\n",
       "  'login_id': '0aeae043-e234-4e99-ae13-d281c2d05313'},\n",
       " {'id': 1973,\n",
       "  'name': 'Jesus Luis Abellan Matilla',\n",
       "  'created_at': '2020-09-21T18:52:03-06:00',\n",
       "  'sortable_name': 'Abellan Matilla, Jesus Luis',\n",
       "  'short_name': 'Jesus Luis Abellan Matilla',\n",
       "  'sis_user_id': 'e93b8f41-b206-4453-965a-e200a31d1f3d',\n",
       "  'integration_id': None,\n",
       "  'sis_import_id': None,\n",
       "  'login_id': 'e93b8f41-b206-4453-965a-e200a31d1f3d',\n",
       "  'pronouns': 'He/Him'},\n",
       " {'id': 3501,\n",
       "  'name': 'Paul Abernathy',\n",
       "  'created_at': '2020-10-27T10:46:54-06:00',\n",
       "  'sortable_name': 'Abernathy, Paul',\n",
       "  'short_name': 'Paul Abernathy',\n",
       "  'sis_user_id': 'e19948fd-624c-4633-a822-7425fb4a86a6',\n",
       "  'integration_id': None,\n",
       "  'sis_import_id': 632,\n",
       "  'login_id': 'e19948fd-624c-4633-a822-7425fb4a86a6'},\n",
       " {'id': 1254,\n",
       "  'name': 'Samuel Aberra',\n",
       "  'created_at': '2020-09-21T15:58:12-06:00',\n",
       "  'sortable_name': 'Aberra, Samuel',\n",
       "  'short_name': 'Samuel Aberra',\n",
       "  'sis_user_id': '7dcdb4ab-a489-4944-97c2-d0d7ce8fd174',\n",
       "  'integration_id': None,\n",
       "  'sis_import_id': None,\n",
       "  'login_id': '7dcdb4ab-a489-4944-97c2-d0d7ce8fd174'}]"
      ]
     },
     "metadata": {},
     "execution_count": 38
    }
   ],
   "source": [
    "raw = r.json()\n",
    "raw"
   ]
  },
  {
   "cell_type": "code",
   "execution_count": 11,
   "metadata": {},
   "outputs": [],
   "source": [
    "df = pd.DataFrame(raw)"
   ]
  },
  {
   "cell_type": "code",
   "execution_count": 13,
   "metadata": {},
   "outputs": [
    {
     "output_type": "execute_result",
     "data": {
      "text/plain": [
       "     id                  name                 created_at  \\\n",
       "0  4239           Gilad Abada  2020-12-09T14:20:58-07:00   \n",
       "1  4547       Daniel J Abbott  2020-12-09T14:21:23-07:00   \n",
       "2  2040  Wayne Abbruscato-Orr  2020-09-21T18:52:35-06:00   \n",
       "3  1231     Adham Abdelfattah  2020-09-18T14:46:43-06:00   \n",
       "4  4917       Anas Abdelsalam  2021-01-06T11:13:42-07:00   \n",
       "\n",
       "           sortable_name            short_name  \\\n",
       "0           Abada, Gilad           Gilad Abada   \n",
       "1       Abbott, Daniel J       Daniel J Abbott   \n",
       "2  Abbruscato-Orr, Wayne  Wayne Abbruscato-Orr   \n",
       "3     Abdelfattah, Adham     Adham Abdelfattah   \n",
       "4       Abdelsalam, Anas       Anas Abdelsalam   \n",
       "\n",
       "                            sis_user_id integration_id  sis_import_id  \\\n",
       "0  4c105a1b-ab63-470e-be91-0b712feed716           None          778.0   \n",
       "1  5111c17d-3171-429f-b223-39548ffa6e24           None          778.0   \n",
       "2  5ee400a7-91d6-48e9-b785-235818cfeea8           None            NaN   \n",
       "3  18135bc6-feb1-4e69-98b5-f7a1edbdece5           None            NaN   \n",
       "4  caeadaa2-ec63-4e83-b0a7-232f8a6009c0           None            NaN   \n",
       "\n",
       "                               login_id pronouns  \n",
       "0  4c105a1b-ab63-470e-be91-0b712feed716      NaN  \n",
       "1  5111c17d-3171-429f-b223-39548ffa6e24      NaN  \n",
       "2  5ee400a7-91d6-48e9-b785-235818cfeea8      NaN  \n",
       "3  18135bc6-feb1-4e69-98b5-f7a1edbdece5      NaN  \n",
       "4  caeadaa2-ec63-4e83-b0a7-232f8a6009c0      NaN  "
      ],
      "text/html": "<div>\n<style scoped>\n    .dataframe tbody tr th:only-of-type {\n        vertical-align: middle;\n    }\n\n    .dataframe tbody tr th {\n        vertical-align: top;\n    }\n\n    .dataframe thead th {\n        text-align: right;\n    }\n</style>\n<table border=\"1\" class=\"dataframe\">\n  <thead>\n    <tr style=\"text-align: right;\">\n      <th></th>\n      <th>id</th>\n      <th>name</th>\n      <th>created_at</th>\n      <th>sortable_name</th>\n      <th>short_name</th>\n      <th>sis_user_id</th>\n      <th>integration_id</th>\n      <th>sis_import_id</th>\n      <th>login_id</th>\n      <th>pronouns</th>\n    </tr>\n  </thead>\n  <tbody>\n    <tr>\n      <th>0</th>\n      <td>4239</td>\n      <td>Gilad Abada</td>\n      <td>2020-12-09T14:20:58-07:00</td>\n      <td>Abada, Gilad</td>\n      <td>Gilad Abada</td>\n      <td>4c105a1b-ab63-470e-be91-0b712feed716</td>\n      <td>None</td>\n      <td>778.0</td>\n      <td>4c105a1b-ab63-470e-be91-0b712feed716</td>\n      <td>NaN</td>\n    </tr>\n    <tr>\n      <th>1</th>\n      <td>4547</td>\n      <td>Daniel J Abbott</td>\n      <td>2020-12-09T14:21:23-07:00</td>\n      <td>Abbott, Daniel J</td>\n      <td>Daniel J Abbott</td>\n      <td>5111c17d-3171-429f-b223-39548ffa6e24</td>\n      <td>None</td>\n      <td>778.0</td>\n      <td>5111c17d-3171-429f-b223-39548ffa6e24</td>\n      <td>NaN</td>\n    </tr>\n    <tr>\n      <th>2</th>\n      <td>2040</td>\n      <td>Wayne Abbruscato-Orr</td>\n      <td>2020-09-21T18:52:35-06:00</td>\n      <td>Abbruscato-Orr, Wayne</td>\n      <td>Wayne Abbruscato-Orr</td>\n      <td>5ee400a7-91d6-48e9-b785-235818cfeea8</td>\n      <td>None</td>\n      <td>NaN</td>\n      <td>5ee400a7-91d6-48e9-b785-235818cfeea8</td>\n      <td>NaN</td>\n    </tr>\n    <tr>\n      <th>3</th>\n      <td>1231</td>\n      <td>Adham Abdelfattah</td>\n      <td>2020-09-18T14:46:43-06:00</td>\n      <td>Abdelfattah, Adham</td>\n      <td>Adham Abdelfattah</td>\n      <td>18135bc6-feb1-4e69-98b5-f7a1edbdece5</td>\n      <td>None</td>\n      <td>NaN</td>\n      <td>18135bc6-feb1-4e69-98b5-f7a1edbdece5</td>\n      <td>NaN</td>\n    </tr>\n    <tr>\n      <th>4</th>\n      <td>4917</td>\n      <td>Anas Abdelsalam</td>\n      <td>2021-01-06T11:13:42-07:00</td>\n      <td>Abdelsalam, Anas</td>\n      <td>Anas Abdelsalam</td>\n      <td>caeadaa2-ec63-4e83-b0a7-232f8a6009c0</td>\n      <td>None</td>\n      <td>NaN</td>\n      <td>caeadaa2-ec63-4e83-b0a7-232f8a6009c0</td>\n      <td>NaN</td>\n    </tr>\n  </tbody>\n</table>\n</div>"
     },
     "metadata": {},
     "execution_count": 13
    }
   ],
   "source": [
    "df.head()"
   ]
  },
  {
   "cell_type": "code",
   "execution_count": 26,
   "metadata": {},
   "outputs": [
    {
     "output_type": "execute_result",
     "data": {
      "text/plain": [
       "     id                  name                           sis_user_id\n",
       "0  4239           Gilad Abada  4c105a1b-ab63-470e-be91-0b712feed716\n",
       "1  4547       Daniel J Abbott  5111c17d-3171-429f-b223-39548ffa6e24\n",
       "2  2040  Wayne Abbruscato-Orr  5ee400a7-91d6-48e9-b785-235818cfeea8\n",
       "3  1231     Adham Abdelfattah  18135bc6-feb1-4e69-98b5-f7a1edbdece5\n",
       "4  4917       Anas Abdelsalam  caeadaa2-ec63-4e83-b0a7-232f8a6009c0"
      ],
      "text/html": "<div>\n<style scoped>\n    .dataframe tbody tr th:only-of-type {\n        vertical-align: middle;\n    }\n\n    .dataframe tbody tr th {\n        vertical-align: top;\n    }\n\n    .dataframe thead th {\n        text-align: right;\n    }\n</style>\n<table border=\"1\" class=\"dataframe\">\n  <thead>\n    <tr style=\"text-align: right;\">\n      <th></th>\n      <th>id</th>\n      <th>name</th>\n      <th>sis_user_id</th>\n    </tr>\n  </thead>\n  <tbody>\n    <tr>\n      <th>0</th>\n      <td>4239</td>\n      <td>Gilad Abada</td>\n      <td>4c105a1b-ab63-470e-be91-0b712feed716</td>\n    </tr>\n    <tr>\n      <th>1</th>\n      <td>4547</td>\n      <td>Daniel J Abbott</td>\n      <td>5111c17d-3171-429f-b223-39548ffa6e24</td>\n    </tr>\n    <tr>\n      <th>2</th>\n      <td>2040</td>\n      <td>Wayne Abbruscato-Orr</td>\n      <td>5ee400a7-91d6-48e9-b785-235818cfeea8</td>\n    </tr>\n    <tr>\n      <th>3</th>\n      <td>1231</td>\n      <td>Adham Abdelfattah</td>\n      <td>18135bc6-feb1-4e69-98b5-f7a1edbdece5</td>\n    </tr>\n    <tr>\n      <th>4</th>\n      <td>4917</td>\n      <td>Anas Abdelsalam</td>\n      <td>caeadaa2-ec63-4e83-b0a7-232f8a6009c0</td>\n    </tr>\n  </tbody>\n</table>\n</div>"
     },
     "metadata": {},
     "execution_count": 26
    }
   ],
   "source": [
    "less_features = df[[\"id\", \"name\", \"sis_user_id\"]]\n",
    "less_features.head()"
   ]
  },
  {
   "cell_type": "code",
   "execution_count": 17,
   "metadata": {},
   "outputs": [],
   "source": [
    "import sqlite3\n",
    "\n",
    "conn = sqlite3.Connection(\"users_db.sqlite3\")"
   ]
  },
  {
   "cell_type": "code",
   "execution_count": 21,
   "metadata": {},
   "outputs": [],
   "source": [
    "create = \"CREATE TABLE USERS(ID INT, NAME VARCHAR(250), SIS_USER_ID VARCHAR(1000))\"\n",
    "curs = conn.cursor()"
   ]
  },
  {
   "cell_type": "code",
   "execution_count": 22,
   "metadata": {},
   "outputs": [
    {
     "output_type": "execute_result",
     "data": {
      "text/plain": [
       "<sqlite3.Cursor at 0x26e982187a0>"
      ]
     },
     "metadata": {},
     "execution_count": 22
    }
   ],
   "source": [
    "curs.execute(create)"
   ]
  },
  {
   "cell_type": "code",
   "execution_count": 27,
   "metadata": {},
   "outputs": [],
   "source": [
    "less_features.to_sql(\"USERS\", conn, if_exists=\"append\", index=False)"
   ]
  },
  {
   "cell_type": "code",
   "execution_count": 28,
   "metadata": {},
   "outputs": [
    {
     "output_type": "execute_result",
     "data": {
      "text/plain": [
       "[(4239, 'Gilad Abada', '4c105a1b-ab63-470e-be91-0b712feed716'),\n",
       " (4547, 'Daniel J Abbott', '5111c17d-3171-429f-b223-39548ffa6e24'),\n",
       " (2040, 'Wayne Abbruscato-Orr', '5ee400a7-91d6-48e9-b785-235818cfeea8'),\n",
       " (1231, 'Adham Abdelfattah', '18135bc6-feb1-4e69-98b5-f7a1edbdece5'),\n",
       " (4917, 'Anas Abdelsalam', 'caeadaa2-ec63-4e83-b0a7-232f8a6009c0'),\n",
       " (1719, 'Remon Abdou', '257e24cd-70e4-4d5a-b5cb-75969c200dc9'),\n",
       " (842, 'Yusuf Abdulla', '0aeae043-e234-4e99-ae13-d281c2d05313'),\n",
       " (1973, 'Jesus Luis Abellan Matilla', 'e93b8f41-b206-4453-965a-e200a31d1f3d'),\n",
       " (3501, 'Paul Abernathy', 'e19948fd-624c-4633-a822-7425fb4a86a6'),\n",
       " (1254, 'Samuel Aberra', '7dcdb4ab-a489-4944-97c2-d0d7ce8fd174')]"
      ]
     },
     "metadata": {},
     "execution_count": 28
    }
   ],
   "source": [
    "all_users = \"SELECT * FROM USERS\"\n",
    "curs.execute(all_users)\n",
    "curs.fetchall()"
   ]
  },
  {
   "cell_type": "code",
   "execution_count": 39,
   "metadata": {},
   "outputs": [],
   "source": [
    "def get_users():\n",
    "    data_set = []\n",
    "    r = requests.get(\"https://lambdaschool.instructure.com/api/v1/accounts/1/users\", headers=headers)\n",
    "\n",
    "    if \"next\" in r.links.keys():\n",
    "        while \"next\" in r.links.keys():\n",
    "            r = requests.get(r.links[\"next\"][\"url\"], headers=headers)\n",
    "            raw = r.json()\n",
    "            for user in raw:\n",
    "                data_set.append(user)\n",
    "        if \"last\" in r.links.keys() and r.links['current']['url'] == r.links['last']['url']:\n",
    "            print('Done!')\n",
    "    else:\n",
    "        print(\"Just one page!\")\n",
    "    return data_set"
   ]
  },
  {
   "cell_type": "code",
   "execution_count": 40,
   "metadata": {},
   "outputs": [
    {
     "output_type": "stream",
     "name": "stdout",
     "text": [
      "Done!\n"
     ]
    },
    {
     "output_type": "execute_result",
     "data": {
      "text/plain": [
       "4171"
      ]
     },
     "metadata": {},
     "execution_count": 40
    }
   ],
   "source": [
    "users_data = get_users()\n",
    "len(users_data)"
   ]
  },
  {
   "cell_type": "code",
   "execution_count": 41,
   "metadata": {},
   "outputs": [],
   "source": [
    "df = pd.DataFrame(users_data)"
   ]
  },
  {
   "cell_type": "code",
   "execution_count": 42,
   "metadata": {},
   "outputs": [
    {
     "output_type": "execute_result",
     "data": {
      "text/plain": [
       "     id               name                           sis_user_id\n",
       "0   509  Brian AbeytaPratt  d6eff3b7-a3f2-4565-99af-12c5ec319f39\n",
       "1  4201     Emily Abrahart  4a862a75-46b1-42d2-87e3-034c476174ce\n",
       "2  2177       Briana Abreu  90f5cd19-e5a2-4d53-8354-81883420936e\n",
       "3  1631       Oliver Abreu  7400d44f-78b3-44a4-b76b-cf6a5eef83e3\n",
       "4  4584  Mohammed Abumtary  8ba8cb69-ac3b-461e-8b54-79782d359678"
      ],
      "text/html": "<div>\n<style scoped>\n    .dataframe tbody tr th:only-of-type {\n        vertical-align: middle;\n    }\n\n    .dataframe tbody tr th {\n        vertical-align: top;\n    }\n\n    .dataframe thead th {\n        text-align: right;\n    }\n</style>\n<table border=\"1\" class=\"dataframe\">\n  <thead>\n    <tr style=\"text-align: right;\">\n      <th></th>\n      <th>id</th>\n      <th>name</th>\n      <th>sis_user_id</th>\n    </tr>\n  </thead>\n  <tbody>\n    <tr>\n      <th>0</th>\n      <td>509</td>\n      <td>Brian AbeytaPratt</td>\n      <td>d6eff3b7-a3f2-4565-99af-12c5ec319f39</td>\n    </tr>\n    <tr>\n      <th>1</th>\n      <td>4201</td>\n      <td>Emily Abrahart</td>\n      <td>4a862a75-46b1-42d2-87e3-034c476174ce</td>\n    </tr>\n    <tr>\n      <th>2</th>\n      <td>2177</td>\n      <td>Briana Abreu</td>\n      <td>90f5cd19-e5a2-4d53-8354-81883420936e</td>\n    </tr>\n    <tr>\n      <th>3</th>\n      <td>1631</td>\n      <td>Oliver Abreu</td>\n      <td>7400d44f-78b3-44a4-b76b-cf6a5eef83e3</td>\n    </tr>\n    <tr>\n      <th>4</th>\n      <td>4584</td>\n      <td>Mohammed Abumtary</td>\n      <td>8ba8cb69-ac3b-461e-8b54-79782d359678</td>\n    </tr>\n  </tbody>\n</table>\n</div>"
     },
     "metadata": {},
     "execution_count": 42
    }
   ],
   "source": [
    "less_features = df[[\"id\", \"name\", \"sis_user_id\"]]\n",
    "less_features.head()"
   ]
  },
  {
   "cell_type": "code",
   "execution_count": 43,
   "metadata": {},
   "outputs": [],
   "source": [
    "less_features.to_sql(\"USERS\", conn, if_exists=\"replace\", index=False)"
   ]
  },
  {
   "cell_type": "code",
   "execution_count": 47,
   "metadata": {},
   "outputs": [
    {
     "output_type": "execute_result",
     "data": {
      "text/plain": [
       "<sqlite3.Cursor at 0x26e982187a0>"
      ]
     },
     "metadata": {},
     "execution_count": 47
    }
   ],
   "source": [
    "all_users = \"SELECT * FROM USERS\"\n",
    "curs.execute(all_users)\n",
    "#len(curs.fetchall())"
   ]
  },
  {
   "cell_type": "code",
   "execution_count": 48,
   "metadata": {},
   "outputs": [
    {
     "output_type": "execute_result",
     "data": {
      "text/plain": [
       "4171"
      ]
     },
     "metadata": {},
     "execution_count": 48
    }
   ],
   "source": [
    "users = curs.fetchall()\n",
    "len(users)"
   ]
  },
  {
   "cell_type": "code",
   "execution_count": 49,
   "metadata": {},
   "outputs": [
    {
     "output_type": "execute_result",
     "data": {
      "text/plain": [
       "(509, 'Brian AbeytaPratt', 'd6eff3b7-a3f2-4565-99af-12c5ec319f39')"
      ]
     },
     "metadata": {},
     "execution_count": 49
    }
   ],
   "source": [
    "users[0]"
   ]
  },
  {
   "cell_type": "code",
   "execution_count": null,
   "metadata": {},
   "outputs": [],
   "source": []
  }
 ]
}