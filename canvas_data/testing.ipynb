{
 "metadata": {
  "language_info": {
   "codemirror_mode": {
    "name": "ipython",
    "version": 3
   },
   "file_extension": ".py",
   "mimetype": "text/x-python",
   "name": "python",
   "nbconvert_exporter": "python",
   "pygments_lexer": "ipython3",
   "version": "3.8.5-final"
  },
  "orig_nbformat": 2,
  "kernelspec": {
   "name": "canvas-data",
   "display_name": "canvas-data"
  }
 },
 "nbformat": 4,
 "nbformat_minor": 2,
 "cells": [
  {
   "cell_type": "code",
   "execution_count": 1,
   "metadata": {},
   "outputs": [
    {
     "output_type": "execute_result",
     "data": {
      "text/plain": [
       "True"
      ]
     },
     "metadata": {},
     "execution_count": 1
    }
   ],
   "source": [
    "import requests\n",
    "import os\n",
    "from dotenv import load_dotenv\n",
    "load_dotenv()"
   ]
  },
  {
   "cell_type": "code",
   "execution_count": 2,
   "metadata": {},
   "outputs": [
    {
     "output_type": "execute_result",
     "data": {
      "text/plain": [
       "         Full name     Sortable name      Canvas user id  \\\n",
       "0  Michael Edwards  Edwards, Michael  168550000000002232   \n",
       "1      Tevin Davis      Davis, Tevin  168550000000001628   \n",
       "2    Russell Smith    Smith, Russell  168550000000001657   \n",
       "3     Nick Verdina     Verdina, Nick  168550000000001988   \n",
       "4      Toni Darden      Darden, Toni  168550000000002221   \n",
       "\n",
       "   Overall course grade  Assignment on time percent Last page view time  \\\n",
       "0                 16.67                   20.000000        Oct 29, 2020   \n",
       "1                 16.67                   66.666667        Oct 28, 2020   \n",
       "2                 66.67                   64.285714        Oct 25, 2020   \n",
       "3                 16.67                  100.000000        Oct 26, 2020   \n",
       "4                 44.44                   85.714286        Oct 26, 2020   \n",
       "\n",
       "  Last participation time Last logged out Page Views Participations  \\\n",
       "0            Oct 21, 2020               -         86             16   \n",
       "1            Oct 25, 2020               -         44             10   \n",
       "2            Oct 25, 2020               -         75             22   \n",
       "3            Oct 26, 2020               -         20              6   \n",
       "4            Oct 21, 2020               -         81             16   \n",
       "\n",
       "                                Email                                SIS Id  \n",
       "0  michael-edwards@lambdastudents.com  9d51c8f1-da0a-4e49-b598-62b63c26fd6a  \n",
       "1      tevin-davis@lambdastudents.com  99157a50-1a43-4a25-a575-951140640d13  \n",
       "2    russell-smith@lambdastudents.com  3138cc92-5269-4b67-b255-ef387aa27c19  \n",
       "3     nick-verdina@lambdastudents.com  3e847d95-15bc-49e1-8c05-e9b71086c97e  \n",
       "4      toni-darden@lambdastudents.com  56d07311-97b2-4aec-aaed-11f22aff1a88  "
      ],
      "text/html": "<div>\n<style scoped>\n    .dataframe tbody tr th:only-of-type {\n        vertical-align: middle;\n    }\n\n    .dataframe tbody tr th {\n        vertical-align: top;\n    }\n\n    .dataframe thead th {\n        text-align: right;\n    }\n</style>\n<table border=\"1\" class=\"dataframe\">\n  <thead>\n    <tr style=\"text-align: right;\">\n      <th></th>\n      <th>Full name</th>\n      <th>Sortable name</th>\n      <th>Canvas user id</th>\n      <th>Overall course grade</th>\n      <th>Assignment on time percent</th>\n      <th>Last page view time</th>\n      <th>Last participation time</th>\n      <th>Last logged out</th>\n      <th>Page Views</th>\n      <th>Participations</th>\n      <th>Email</th>\n      <th>SIS Id</th>\n    </tr>\n  </thead>\n  <tbody>\n    <tr>\n      <th>0</th>\n      <td>Michael Edwards</td>\n      <td>Edwards, Michael</td>\n      <td>168550000000002232</td>\n      <td>16.67</td>\n      <td>20.000000</td>\n      <td>Oct 29, 2020</td>\n      <td>Oct 21, 2020</td>\n      <td>-</td>\n      <td>86</td>\n      <td>16</td>\n      <td>michael-edwards@lambdastudents.com</td>\n      <td>9d51c8f1-da0a-4e49-b598-62b63c26fd6a</td>\n    </tr>\n    <tr>\n      <th>1</th>\n      <td>Tevin Davis</td>\n      <td>Davis, Tevin</td>\n      <td>168550000000001628</td>\n      <td>16.67</td>\n      <td>66.666667</td>\n      <td>Oct 28, 2020</td>\n      <td>Oct 25, 2020</td>\n      <td>-</td>\n      <td>44</td>\n      <td>10</td>\n      <td>tevin-davis@lambdastudents.com</td>\n      <td>99157a50-1a43-4a25-a575-951140640d13</td>\n    </tr>\n    <tr>\n      <th>2</th>\n      <td>Russell Smith</td>\n      <td>Smith, Russell</td>\n      <td>168550000000001657</td>\n      <td>66.67</td>\n      <td>64.285714</td>\n      <td>Oct 25, 2020</td>\n      <td>Oct 25, 2020</td>\n      <td>-</td>\n      <td>75</td>\n      <td>22</td>\n      <td>russell-smith@lambdastudents.com</td>\n      <td>3138cc92-5269-4b67-b255-ef387aa27c19</td>\n    </tr>\n    <tr>\n      <th>3</th>\n      <td>Nick Verdina</td>\n      <td>Verdina, Nick</td>\n      <td>168550000000001988</td>\n      <td>16.67</td>\n      <td>100.000000</td>\n      <td>Oct 26, 2020</td>\n      <td>Oct 26, 2020</td>\n      <td>-</td>\n      <td>20</td>\n      <td>6</td>\n      <td>nick-verdina@lambdastudents.com</td>\n      <td>3e847d95-15bc-49e1-8c05-e9b71086c97e</td>\n    </tr>\n    <tr>\n      <th>4</th>\n      <td>Toni Darden</td>\n      <td>Darden, Toni</td>\n      <td>168550000000002221</td>\n      <td>44.44</td>\n      <td>85.714286</td>\n      <td>Oct 26, 2020</td>\n      <td>Oct 21, 2020</td>\n      <td>-</td>\n      <td>81</td>\n      <td>16</td>\n      <td>toni-darden@lambdastudents.com</td>\n      <td>56d07311-97b2-4aec-aaed-11f22aff1a88</td>\n    </tr>\n  </tbody>\n</table>\n</div>"
     },
     "metadata": {},
     "execution_count": 2
    }
   ],
   "source": [
    "import pandas as pd\n",
    "\n",
    "students = pd.read_csv(\"students.csv\")\n",
    "students.head()"
   ]
  },
  {
   "cell_type": "code",
   "execution_count": 3,
   "metadata": {},
   "outputs": [],
   "source": [
    "pd.set_option(\"display.max_columns\", None)"
   ]
  },
  {
   "cell_type": "code",
   "execution_count": 4,
   "metadata": {},
   "outputs": [],
   "source": [
    "api_key = os.getenv(\"API-KEY\")\n",
    "api_url = os.getenv(\"API-URL\")\n",
    "headers = {\"Authorization\":\n",
    "           f\"Bearer {api_key}\"}"
   ]
  },
  {
   "cell_type": "code",
   "execution_count": 26,
   "metadata": {},
   "outputs": [],
   "source": [
    "r = requests.get('https://lambdaschool.instructure.com/api/v1'\n",
    "'/users/168550000000002221/', headers=headers)"
   ]
  },
  {
   "cell_type": "code",
   "execution_count": 20,
   "metadata": {},
   "outputs": [],
   "source": [
    "with open(\"graded_subs.json\", 'w') as outfile:\n",
    "    json.dump(graded, outfile)"
   ]
  },
  {
   "cell_type": "code",
   "execution_count": 5,
   "metadata": {},
   "outputs": [],
   "source": [
    "graded_df = pd.read_json('graded_subs.json')"
   ]
  },
  {
   "cell_type": "code",
   "execution_count": 6,
   "metadata": {},
   "outputs": [
    {
     "output_type": "execute_result",
     "data": {
      "text/plain": [
       "       id                                               body  \\\n",
       "0  499907                                               None   \n",
       "1  500054                                               None   \n",
       "2  187304                                                      \n",
       "3  187272                                                      \n",
       "4  187312                                               None   \n",
       "5  187293  user: 2221, quiz: 2744, score: 0.0, time: 2020...   \n",
       "6  187305                                               None   \n",
       "7  187298                                               None   \n",
       "8  187290                                               None   \n",
       "9  187345                                               None   \n",
       "\n",
       "                                                 url  grade  score  \\\n",
       "0                                               None      0      0   \n",
       "1                                               None      0      0   \n",
       "2  https://github.com/Toniddarden/Sprint-Challeng...      0      0   \n",
       "3  https://github.com/Toniddarden/Graphs/tree/ton...      2      2   \n",
       "4                                               None      0      0   \n",
       "5                                               None      0      0   \n",
       "6                                               None      0      0   \n",
       "7                                               None      0      0   \n",
       "8                                               None      0      0   \n",
       "9                                               None      0      0   \n",
       "\n",
       "               submitted_at  assignment_id  user_id submission_type  \\\n",
       "0                       NaT           9489     2221            None   \n",
       "1                       NaT           9586     2221            None   \n",
       "2 2020-11-09 22:26:01+00:00           3533     2221      online_url   \n",
       "3 2020-10-27 00:40:04+00:00           3561     2221      online_url   \n",
       "4                       NaT           2041     2221            None   \n",
       "5 2020-11-09 22:25:29+00:00           3390     2221     online_quiz   \n",
       "6                       NaT           3535     2221            None   \n",
       "7                       NaT           3465     2221            None   \n",
       "8                       NaT           3359     2221            None   \n",
       "9                       NaT           2110     2221            None   \n",
       "\n",
       "  workflow_state  grade_matches_current_submission                 graded_at  \\\n",
       "0         graded                              True 2020-12-07 08:25:16+00:00   \n",
       "1         graded                              True 2020-12-03 08:16:55+00:00   \n",
       "2         graded                              True 2020-11-20 03:05:50+00:00   \n",
       "3         graded                              True 2020-11-20 02:53:58+00:00   \n",
       "4         graded                              True 2020-11-10 08:29:05+00:00   \n",
       "5         graded                              True 2020-11-09 22:25:29+00:00   \n",
       "6         graded                              True 2020-11-06 08:23:28+00:00   \n",
       "7         graded                              True 2020-11-06 08:23:28+00:00   \n",
       "8         graded                              True 2020-11-06 08:23:28+00:00   \n",
       "9         graded                              True 2020-11-06 08:23:28+00:00   \n",
       "\n",
       "   grader_id  attempt       cached_due_date  excused  late_policy_status  \\\n",
       "0        NaN      NaN  2020-12-07T07:59:00Z      NaN                 NaN   \n",
       "1        NaN      NaN  2020-12-03T07:59:00Z      NaN                 NaN   \n",
       "2     2995.0      1.0  2020-11-10T07:59:59Z      0.0                 NaN   \n",
       "3     2995.0      1.0  2020-10-27T06:59:59Z      0.0                 NaN   \n",
       "4        NaN      NaN  2020-11-10T07:59:59Z      NaN                 NaN   \n",
       "5    -2744.0      1.0  2020-11-10T07:59:59Z      NaN                 NaN   \n",
       "6        NaN      NaN  2020-11-06T07:59:59Z      NaN                 NaN   \n",
       "7        NaN      NaN  2020-11-06T07:59:59Z      NaN                 NaN   \n",
       "8        NaN      NaN  2020-11-06T07:59:59Z      NaN                 NaN   \n",
       "9        NaN      NaN  2020-11-06T07:59:59Z      NaN                 NaN   \n",
       "\n",
       "   points_deducted  grading_period_id  extra_attempts  \\\n",
       "0              NaN                NaN             NaN   \n",
       "1              NaN                NaN             NaN   \n",
       "2              NaN                NaN             NaN   \n",
       "3              NaN                NaN             NaN   \n",
       "4              NaN                NaN             NaN   \n",
       "5              NaN                NaN             NaN   \n",
       "6              NaN                NaN             NaN   \n",
       "7              NaN                NaN             NaN   \n",
       "8              NaN                NaN             NaN   \n",
       "9              NaN                NaN             NaN   \n",
       "\n",
       "                  posted_at   late  missing  seconds_late  entered_grade  \\\n",
       "0 2020-12-07 08:25:16+00:00  False     True         58598              0   \n",
       "1 2020-12-03 08:16:55+00:00  False     True        404198              0   \n",
       "2 2020-11-20 03:05:50+00:00  False    False             0              0   \n",
       "3 2020-11-20 02:53:58+00:00  False    False             0              2   \n",
       "4 2020-11-10 08:29:05+00:00  False     True       2391339              0   \n",
       "5 2020-11-09 22:25:29+00:00  False    False             0              0   \n",
       "6 2020-11-06 08:23:28+00:00  False     True       2736940              0   \n",
       "7 2020-11-06 08:23:28+00:00  False     True       2736940              0   \n",
       "8 2020-11-06 08:23:28+00:00  False     True       2736940              0   \n",
       "9 2020-11-06 08:23:28+00:00  False     True       2736940              0   \n",
       "\n",
       "   entered_score                                        preview_url  \\\n",
       "0              0  https://lambdaschool.instructure.com/courses/5...   \n",
       "1              0  https://lambdaschool.instructure.com/courses/5...   \n",
       "2              0  https://lambdaschool.instructure.com/courses/3...   \n",
       "3              2  https://lambdaschool.instructure.com/courses/3...   \n",
       "4              0  https://lambdaschool.instructure.com/courses/3...   \n",
       "5              0  https://lambdaschool.instructure.com/courses/3...   \n",
       "6              0  https://lambdaschool.instructure.com/courses/3...   \n",
       "7              0  https://lambdaschool.instructure.com/courses/3...   \n",
       "8              0  https://lambdaschool.instructure.com/courses/3...   \n",
       "9              0  https://lambdaschool.instructure.com/courses/3...   \n",
       "\n",
       "  anonymous_id                                        attachments  \n",
       "0        ofy3o                                                NaN  \n",
       "1        tYKND                                                NaN  \n",
       "2        78XmV  [{'id': 73583, 'uuid': 'HrU6yXvNNAjvA9U9E5N9xF...  \n",
       "3        4gjvw  [{'id': 49115, 'uuid': 'TeOXLvkPPMMqY7p7Jn98Lh...  \n",
       "4        Jen9e                                                NaN  \n",
       "5        JDHew                                                NaN  \n",
       "6        WvbZe                                                NaN  \n",
       "7        nxgVS                                                NaN  \n",
       "8        BK5rN                                                NaN  \n",
       "9        d6Mni                                                NaN  "
      ],
      "text/html": "<div>\n<style scoped>\n    .dataframe tbody tr th:only-of-type {\n        vertical-align: middle;\n    }\n\n    .dataframe tbody tr th {\n        vertical-align: top;\n    }\n\n    .dataframe thead th {\n        text-align: right;\n    }\n</style>\n<table border=\"1\" class=\"dataframe\">\n  <thead>\n    <tr style=\"text-align: right;\">\n      <th></th>\n      <th>id</th>\n      <th>body</th>\n      <th>url</th>\n      <th>grade</th>\n      <th>score</th>\n      <th>submitted_at</th>\n      <th>assignment_id</th>\n      <th>user_id</th>\n      <th>submission_type</th>\n      <th>workflow_state</th>\n      <th>grade_matches_current_submission</th>\n      <th>graded_at</th>\n      <th>grader_id</th>\n      <th>attempt</th>\n      <th>cached_due_date</th>\n      <th>excused</th>\n      <th>late_policy_status</th>\n      <th>points_deducted</th>\n      <th>grading_period_id</th>\n      <th>extra_attempts</th>\n      <th>posted_at</th>\n      <th>late</th>\n      <th>missing</th>\n      <th>seconds_late</th>\n      <th>entered_grade</th>\n      <th>entered_score</th>\n      <th>preview_url</th>\n      <th>anonymous_id</th>\n      <th>attachments</th>\n    </tr>\n  </thead>\n  <tbody>\n    <tr>\n      <th>0</th>\n      <td>499907</td>\n      <td>None</td>\n      <td>None</td>\n      <td>0</td>\n      <td>0</td>\n      <td>NaT</td>\n      <td>9489</td>\n      <td>2221</td>\n      <td>None</td>\n      <td>graded</td>\n      <td>True</td>\n      <td>2020-12-07 08:25:16+00:00</td>\n      <td>NaN</td>\n      <td>NaN</td>\n      <td>2020-12-07T07:59:00Z</td>\n      <td>NaN</td>\n      <td>NaN</td>\n      <td>NaN</td>\n      <td>NaN</td>\n      <td>NaN</td>\n      <td>2020-12-07 08:25:16+00:00</td>\n      <td>False</td>\n      <td>True</td>\n      <td>58598</td>\n      <td>0</td>\n      <td>0</td>\n      <td>https://lambdaschool.instructure.com/courses/5...</td>\n      <td>ofy3o</td>\n      <td>NaN</td>\n    </tr>\n    <tr>\n      <th>1</th>\n      <td>500054</td>\n      <td>None</td>\n      <td>None</td>\n      <td>0</td>\n      <td>0</td>\n      <td>NaT</td>\n      <td>9586</td>\n      <td>2221</td>\n      <td>None</td>\n      <td>graded</td>\n      <td>True</td>\n      <td>2020-12-03 08:16:55+00:00</td>\n      <td>NaN</td>\n      <td>NaN</td>\n      <td>2020-12-03T07:59:00Z</td>\n      <td>NaN</td>\n      <td>NaN</td>\n      <td>NaN</td>\n      <td>NaN</td>\n      <td>NaN</td>\n      <td>2020-12-03 08:16:55+00:00</td>\n      <td>False</td>\n      <td>True</td>\n      <td>404198</td>\n      <td>0</td>\n      <td>0</td>\n      <td>https://lambdaschool.instructure.com/courses/5...</td>\n      <td>tYKND</td>\n      <td>NaN</td>\n    </tr>\n    <tr>\n      <th>2</th>\n      <td>187304</td>\n      <td></td>\n      <td>https://github.com/Toniddarden/Sprint-Challeng...</td>\n      <td>0</td>\n      <td>0</td>\n      <td>2020-11-09 22:26:01+00:00</td>\n      <td>3533</td>\n      <td>2221</td>\n      <td>online_url</td>\n      <td>graded</td>\n      <td>True</td>\n      <td>2020-11-20 03:05:50+00:00</td>\n      <td>2995.0</td>\n      <td>1.0</td>\n      <td>2020-11-10T07:59:59Z</td>\n      <td>0.0</td>\n      <td>NaN</td>\n      <td>NaN</td>\n      <td>NaN</td>\n      <td>NaN</td>\n      <td>2020-11-20 03:05:50+00:00</td>\n      <td>False</td>\n      <td>False</td>\n      <td>0</td>\n      <td>0</td>\n      <td>0</td>\n      <td>https://lambdaschool.instructure.com/courses/3...</td>\n      <td>78XmV</td>\n      <td>[{'id': 73583, 'uuid': 'HrU6yXvNNAjvA9U9E5N9xF...</td>\n    </tr>\n    <tr>\n      <th>3</th>\n      <td>187272</td>\n      <td></td>\n      <td>https://github.com/Toniddarden/Graphs/tree/ton...</td>\n      <td>2</td>\n      <td>2</td>\n      <td>2020-10-27 00:40:04+00:00</td>\n      <td>3561</td>\n      <td>2221</td>\n      <td>online_url</td>\n      <td>graded</td>\n      <td>True</td>\n      <td>2020-11-20 02:53:58+00:00</td>\n      <td>2995.0</td>\n      <td>1.0</td>\n      <td>2020-10-27T06:59:59Z</td>\n      <td>0.0</td>\n      <td>NaN</td>\n      <td>NaN</td>\n      <td>NaN</td>\n      <td>NaN</td>\n      <td>2020-11-20 02:53:58+00:00</td>\n      <td>False</td>\n      <td>False</td>\n      <td>0</td>\n      <td>2</td>\n      <td>2</td>\n      <td>https://lambdaschool.instructure.com/courses/3...</td>\n      <td>4gjvw</td>\n      <td>[{'id': 49115, 'uuid': 'TeOXLvkPPMMqY7p7Jn98Lh...</td>\n    </tr>\n    <tr>\n      <th>4</th>\n      <td>187312</td>\n      <td>None</td>\n      <td>None</td>\n      <td>0</td>\n      <td>0</td>\n      <td>NaT</td>\n      <td>2041</td>\n      <td>2221</td>\n      <td>None</td>\n      <td>graded</td>\n      <td>True</td>\n      <td>2020-11-10 08:29:05+00:00</td>\n      <td>NaN</td>\n      <td>NaN</td>\n      <td>2020-11-10T07:59:59Z</td>\n      <td>NaN</td>\n      <td>NaN</td>\n      <td>NaN</td>\n      <td>NaN</td>\n      <td>NaN</td>\n      <td>2020-11-10 08:29:05+00:00</td>\n      <td>False</td>\n      <td>True</td>\n      <td>2391339</td>\n      <td>0</td>\n      <td>0</td>\n      <td>https://lambdaschool.instructure.com/courses/3...</td>\n      <td>Jen9e</td>\n      <td>NaN</td>\n    </tr>\n    <tr>\n      <th>5</th>\n      <td>187293</td>\n      <td>user: 2221, quiz: 2744, score: 0.0, time: 2020...</td>\n      <td>None</td>\n      <td>0</td>\n      <td>0</td>\n      <td>2020-11-09 22:25:29+00:00</td>\n      <td>3390</td>\n      <td>2221</td>\n      <td>online_quiz</td>\n      <td>graded</td>\n      <td>True</td>\n      <td>2020-11-09 22:25:29+00:00</td>\n      <td>-2744.0</td>\n      <td>1.0</td>\n      <td>2020-11-10T07:59:59Z</td>\n      <td>NaN</td>\n      <td>NaN</td>\n      <td>NaN</td>\n      <td>NaN</td>\n      <td>NaN</td>\n      <td>2020-11-09 22:25:29+00:00</td>\n      <td>False</td>\n      <td>False</td>\n      <td>0</td>\n      <td>0</td>\n      <td>0</td>\n      <td>https://lambdaschool.instructure.com/courses/3...</td>\n      <td>JDHew</td>\n      <td>NaN</td>\n    </tr>\n    <tr>\n      <th>6</th>\n      <td>187305</td>\n      <td>None</td>\n      <td>None</td>\n      <td>0</td>\n      <td>0</td>\n      <td>NaT</td>\n      <td>3535</td>\n      <td>2221</td>\n      <td>None</td>\n      <td>graded</td>\n      <td>True</td>\n      <td>2020-11-06 08:23:28+00:00</td>\n      <td>NaN</td>\n      <td>NaN</td>\n      <td>2020-11-06T07:59:59Z</td>\n      <td>NaN</td>\n      <td>NaN</td>\n      <td>NaN</td>\n      <td>NaN</td>\n      <td>NaN</td>\n      <td>2020-11-06 08:23:28+00:00</td>\n      <td>False</td>\n      <td>True</td>\n      <td>2736940</td>\n      <td>0</td>\n      <td>0</td>\n      <td>https://lambdaschool.instructure.com/courses/3...</td>\n      <td>WvbZe</td>\n      <td>NaN</td>\n    </tr>\n    <tr>\n      <th>7</th>\n      <td>187298</td>\n      <td>None</td>\n      <td>None</td>\n      <td>0</td>\n      <td>0</td>\n      <td>NaT</td>\n      <td>3465</td>\n      <td>2221</td>\n      <td>None</td>\n      <td>graded</td>\n      <td>True</td>\n      <td>2020-11-06 08:23:28+00:00</td>\n      <td>NaN</td>\n      <td>NaN</td>\n      <td>2020-11-06T07:59:59Z</td>\n      <td>NaN</td>\n      <td>NaN</td>\n      <td>NaN</td>\n      <td>NaN</td>\n      <td>NaN</td>\n      <td>2020-11-06 08:23:28+00:00</td>\n      <td>False</td>\n      <td>True</td>\n      <td>2736940</td>\n      <td>0</td>\n      <td>0</td>\n      <td>https://lambdaschool.instructure.com/courses/3...</td>\n      <td>nxgVS</td>\n      <td>NaN</td>\n    </tr>\n    <tr>\n      <th>8</th>\n      <td>187290</td>\n      <td>None</td>\n      <td>None</td>\n      <td>0</td>\n      <td>0</td>\n      <td>NaT</td>\n      <td>3359</td>\n      <td>2221</td>\n      <td>None</td>\n      <td>graded</td>\n      <td>True</td>\n      <td>2020-11-06 08:23:28+00:00</td>\n      <td>NaN</td>\n      <td>NaN</td>\n      <td>2020-11-06T07:59:59Z</td>\n      <td>NaN</td>\n      <td>NaN</td>\n      <td>NaN</td>\n      <td>NaN</td>\n      <td>NaN</td>\n      <td>2020-11-06 08:23:28+00:00</td>\n      <td>False</td>\n      <td>True</td>\n      <td>2736940</td>\n      <td>0</td>\n      <td>0</td>\n      <td>https://lambdaschool.instructure.com/courses/3...</td>\n      <td>BK5rN</td>\n      <td>NaN</td>\n    </tr>\n    <tr>\n      <th>9</th>\n      <td>187345</td>\n      <td>None</td>\n      <td>None</td>\n      <td>0</td>\n      <td>0</td>\n      <td>NaT</td>\n      <td>2110</td>\n      <td>2221</td>\n      <td>None</td>\n      <td>graded</td>\n      <td>True</td>\n      <td>2020-11-06 08:23:28+00:00</td>\n      <td>NaN</td>\n      <td>NaN</td>\n      <td>2020-11-06T07:59:59Z</td>\n      <td>NaN</td>\n      <td>NaN</td>\n      <td>NaN</td>\n      <td>NaN</td>\n      <td>NaN</td>\n      <td>2020-11-06 08:23:28+00:00</td>\n      <td>False</td>\n      <td>True</td>\n      <td>2736940</td>\n      <td>0</td>\n      <td>0</td>\n      <td>https://lambdaschool.instructure.com/courses/3...</td>\n      <td>d6Mni</td>\n      <td>NaN</td>\n    </tr>\n  </tbody>\n</table>\n</div>"
     },
     "metadata": {},
     "execution_count": 6
    }
   ],
   "source": [
    "graded_df"
   ]
  },
  {
   "cell_type": "code",
   "execution_count": 14,
   "metadata": {},
   "outputs": [],
   "source": [
    "missing = graded_df['submitted_at'].isna()\n",
    "dates = graded_df['graded_at']"
   ]
  },
  {
   "cell_type": "code",
   "execution_count": 19,
   "metadata": {},
   "outputs": [
    {
     "output_type": "execute_result",
     "data": {
      "text/plain": [
       "0   2020-12-07 08:25:16+00:00\n",
       "1   2020-12-03 08:16:55+00:00\n",
       "2   2020-11-20 03:05:50+00:00\n",
       "3   2020-11-20 02:53:58+00:00\n",
       "4   2020-11-10 08:29:05+00:00\n",
       "5   2020-11-09 22:25:29+00:00\n",
       "6   2020-11-06 08:23:28+00:00\n",
       "7   2020-11-06 08:23:28+00:00\n",
       "8   2020-11-06 08:23:28+00:00\n",
       "9   2020-11-06 08:23:28+00:00\n",
       "Name: graded_at, dtype: datetime64[ns, UTC]"
      ]
     },
     "metadata": {},
     "execution_count": 19
    }
   ],
   "source": [
    "dates"
   ]
  },
  {
   "cell_type": "code",
   "execution_count": 8,
   "metadata": {},
   "outputs": [],
   "source": [
    "import matplotlib.pyplot as plt"
   ]
  },
  {
   "cell_type": "code",
   "execution_count": 18,
   "metadata": {},
   "outputs": [
    {
     "output_type": "execute_result",
     "data": {
      "text/plain": [
       "[<matplotlib.lines.Line2D at 0x21a66b5fb80>]"
      ]
     },
     "metadata": {},
     "execution_count": 18
    },
    {
     "output_type": "display_data",
     "data": {
      "text/plain": "<Figure size 432x288 with 1 Axes>",
      "image/svg+xml": "<?xml version=\"1.0\" encoding=\"utf-8\" standalone=\"no\"?>\r\n<!DOCTYPE svg PUBLIC \"-//W3C//DTD SVG 1.1//EN\"\r\n  \"http://www.w3.org/Graphics/SVG/1.1/DTD/svg11.dtd\">\r\n<!-- Created with matplotlib (https://matplotlib.org/) -->\r\n<svg height=\"248.518125pt\" version=\"1.1\" viewBox=\"0 0 376.290005 248.518125\" width=\"376.290005pt\" xmlns=\"http://www.w3.org/2000/svg\" xmlns:xlink=\"http://www.w3.org/1999/xlink\">\r\n <metadata>\r\n  <rdf:RDF xmlns:cc=\"http://creativecommons.org/ns#\" xmlns:dc=\"http://purl.org/dc/elements/1.1/\" xmlns:rdf=\"http://www.w3.org/1999/02/22-rdf-syntax-ns#\">\r\n   <cc:Work>\r\n    <dc:type rdf:resource=\"http://purl.org/dc/dcmitype/StillImage\"/>\r\n    <dc:date>2020-12-07T20:42:27.234678</dc:date>\r\n    <dc:format>image/svg+xml</dc:format>\r\n    <dc:creator>\r\n     <cc:Agent>\r\n      <dc:title>Matplotlib v3.3.3, https://matplotlib.org/</dc:title>\r\n     </cc:Agent>\r\n    </dc:creator>\r\n   </cc:Work>\r\n  </rdf:RDF>\r\n </metadata>\r\n <defs>\r\n  <style type=\"text/css\">*{stroke-linecap:butt;stroke-linejoin:round;}</style>\r\n </defs>\r\n <g id=\"figure_1\">\r\n  <g id=\"patch_1\">\r\n   <path d=\"M 0 248.518125 \r\nL 376.290005 248.518125 \r\nL 376.290005 0 \r\nL 0 0 \r\nz\r\n\" style=\"fill:none;\"/>\r\n  </g>\r\n  <g id=\"axes_1\">\r\n   <g id=\"patch_2\">\r\n    <path d=\"M 34.290005 224.64 \r\nL 369.090005 224.64 \r\nL 369.090005 7.2 \r\nL 34.290005 7.2 \r\nz\r\n\" style=\"fill:#ffffff;\"/>\r\n   </g>\r\n   <g id=\"matplotlib.axis_1\">\r\n    <g id=\"xtick_1\">\r\n     <g id=\"line2d_1\">\r\n      <defs>\r\n       <path d=\"M 0 0 \r\nL 0 3.5 \r\n\" id=\"mcb9809b772\" style=\"stroke:#000000;stroke-width:0.8;\"/>\r\n      </defs>\r\n      <g>\r\n       <use style=\"stroke:#000000;stroke-width:0.8;\" x=\"36.257812\" xlink:href=\"#mcb9809b772\" y=\"224.64\"/>\r\n      </g>\r\n     </g>\r\n     <g id=\"text_1\">\r\n      <!-- 2020-11-05 -->\r\n      <g transform=\"translate(7.2 239.238437)scale(0.1 -0.1)\">\r\n       <defs>\r\n        <path d=\"M 19.1875 8.296875 \r\nL 53.609375 8.296875 \r\nL 53.609375 0 \r\nL 7.328125 0 \r\nL 7.328125 8.296875 \r\nQ 12.9375 14.109375 22.625 23.890625 \r\nQ 32.328125 33.6875 34.8125 36.53125 \r\nQ 39.546875 41.84375 41.421875 45.53125 \r\nQ 43.3125 49.21875 43.3125 52.78125 \r\nQ 43.3125 58.59375 39.234375 62.25 \r\nQ 35.15625 65.921875 28.609375 65.921875 \r\nQ 23.96875 65.921875 18.8125 64.3125 \r\nQ 13.671875 62.703125 7.8125 59.421875 \r\nL 7.8125 69.390625 \r\nQ 13.765625 71.78125 18.9375 73 \r\nQ 24.125 74.21875 28.421875 74.21875 \r\nQ 39.75 74.21875 46.484375 68.546875 \r\nQ 53.21875 62.890625 53.21875 53.421875 \r\nQ 53.21875 48.921875 51.53125 44.890625 \r\nQ 49.859375 40.875 45.40625 35.40625 \r\nQ 44.1875 33.984375 37.640625 27.21875 \r\nQ 31.109375 20.453125 19.1875 8.296875 \r\nz\r\n\" id=\"DejaVuSans-50\"/>\r\n        <path d=\"M 31.78125 66.40625 \r\nQ 24.171875 66.40625 20.328125 58.90625 \r\nQ 16.5 51.421875 16.5 36.375 \r\nQ 16.5 21.390625 20.328125 13.890625 \r\nQ 24.171875 6.390625 31.78125 6.390625 \r\nQ 39.453125 6.390625 43.28125 13.890625 \r\nQ 47.125 21.390625 47.125 36.375 \r\nQ 47.125 51.421875 43.28125 58.90625 \r\nQ 39.453125 66.40625 31.78125 66.40625 \r\nz\r\nM 31.78125 74.21875 \r\nQ 44.046875 74.21875 50.515625 64.515625 \r\nQ 56.984375 54.828125 56.984375 36.375 \r\nQ 56.984375 17.96875 50.515625 8.265625 \r\nQ 44.046875 -1.421875 31.78125 -1.421875 \r\nQ 19.53125 -1.421875 13.0625 8.265625 \r\nQ 6.59375 17.96875 6.59375 36.375 \r\nQ 6.59375 54.828125 13.0625 64.515625 \r\nQ 19.53125 74.21875 31.78125 74.21875 \r\nz\r\n\" id=\"DejaVuSans-48\"/>\r\n        <path d=\"M 4.890625 31.390625 \r\nL 31.203125 31.390625 \r\nL 31.203125 23.390625 \r\nL 4.890625 23.390625 \r\nz\r\n\" id=\"DejaVuSans-45\"/>\r\n        <path d=\"M 12.40625 8.296875 \r\nL 28.515625 8.296875 \r\nL 28.515625 63.921875 \r\nL 10.984375 60.40625 \r\nL 10.984375 69.390625 \r\nL 28.421875 72.90625 \r\nL 38.28125 72.90625 \r\nL 38.28125 8.296875 \r\nL 54.390625 8.296875 \r\nL 54.390625 0 \r\nL 12.40625 0 \r\nz\r\n\" id=\"DejaVuSans-49\"/>\r\n        <path d=\"M 10.796875 72.90625 \r\nL 49.515625 72.90625 \r\nL 49.515625 64.59375 \r\nL 19.828125 64.59375 \r\nL 19.828125 46.734375 \r\nQ 21.96875 47.46875 24.109375 47.828125 \r\nQ 26.265625 48.1875 28.421875 48.1875 \r\nQ 40.625 48.1875 47.75 41.5 \r\nQ 54.890625 34.8125 54.890625 23.390625 \r\nQ 54.890625 11.625 47.5625 5.09375 \r\nQ 40.234375 -1.421875 26.90625 -1.421875 \r\nQ 22.3125 -1.421875 17.546875 -0.640625 \r\nQ 12.796875 0.140625 7.71875 1.703125 \r\nL 7.71875 11.625 \r\nQ 12.109375 9.234375 16.796875 8.0625 \r\nQ 21.484375 6.890625 26.703125 6.890625 \r\nQ 35.15625 6.890625 40.078125 11.328125 \r\nQ 45.015625 15.765625 45.015625 23.390625 \r\nQ 45.015625 31 40.078125 35.4375 \r\nQ 35.15625 39.890625 26.703125 39.890625 \r\nQ 22.75 39.890625 18.8125 39.015625 \r\nQ 14.890625 38.140625 10.796875 36.28125 \r\nz\r\n\" id=\"DejaVuSans-53\"/>\r\n       </defs>\r\n       <use xlink:href=\"#DejaVuSans-50\"/>\r\n       <use x=\"63.623047\" xlink:href=\"#DejaVuSans-48\"/>\r\n       <use x=\"127.246094\" xlink:href=\"#DejaVuSans-50\"/>\r\n       <use x=\"190.869141\" xlink:href=\"#DejaVuSans-48\"/>\r\n       <use x=\"254.492188\" xlink:href=\"#DejaVuSans-45\"/>\r\n       <use x=\"290.576172\" xlink:href=\"#DejaVuSans-49\"/>\r\n       <use x=\"354.199219\" xlink:href=\"#DejaVuSans-49\"/>\r\n       <use x=\"417.822266\" xlink:href=\"#DejaVuSans-45\"/>\r\n       <use x=\"453.90625\" xlink:href=\"#DejaVuSans-48\"/>\r\n       <use x=\"517.529297\" xlink:href=\"#DejaVuSans-53\"/>\r\n      </g>\r\n     </g>\r\n    </g>\r\n    <g id=\"xtick_2\">\r\n     <g id=\"line2d_2\">\r\n      <g>\r\n       <use style=\"stroke:#000000;stroke-width:0.8;\" x=\"75.528956\" xlink:href=\"#mcb9809b772\" y=\"224.64\"/>\r\n      </g>\r\n     </g>\r\n     <g id=\"text_2\">\r\n      <!-- 2020-11-09 -->\r\n      <g transform=\"translate(46.471144 239.238437)scale(0.1 -0.1)\">\r\n       <defs>\r\n        <path d=\"M 10.984375 1.515625 \r\nL 10.984375 10.5 \r\nQ 14.703125 8.734375 18.5 7.8125 \r\nQ 22.3125 6.890625 25.984375 6.890625 \r\nQ 35.75 6.890625 40.890625 13.453125 \r\nQ 46.046875 20.015625 46.78125 33.40625 \r\nQ 43.953125 29.203125 39.59375 26.953125 \r\nQ 35.25 24.703125 29.984375 24.703125 \r\nQ 19.046875 24.703125 12.671875 31.3125 \r\nQ 6.296875 37.9375 6.296875 49.421875 \r\nQ 6.296875 60.640625 12.9375 67.421875 \r\nQ 19.578125 74.21875 30.609375 74.21875 \r\nQ 43.265625 74.21875 49.921875 64.515625 \r\nQ 56.59375 54.828125 56.59375 36.375 \r\nQ 56.59375 19.140625 48.40625 8.859375 \r\nQ 40.234375 -1.421875 26.421875 -1.421875 \r\nQ 22.703125 -1.421875 18.890625 -0.6875 \r\nQ 15.09375 0.046875 10.984375 1.515625 \r\nz\r\nM 30.609375 32.421875 \r\nQ 37.25 32.421875 41.125 36.953125 \r\nQ 45.015625 41.5 45.015625 49.421875 \r\nQ 45.015625 57.28125 41.125 61.84375 \r\nQ 37.25 66.40625 30.609375 66.40625 \r\nQ 23.96875 66.40625 20.09375 61.84375 \r\nQ 16.21875 57.28125 16.21875 49.421875 \r\nQ 16.21875 41.5 20.09375 36.953125 \r\nQ 23.96875 32.421875 30.609375 32.421875 \r\nz\r\n\" id=\"DejaVuSans-57\"/>\r\n       </defs>\r\n       <use xlink:href=\"#DejaVuSans-50\"/>\r\n       <use x=\"63.623047\" xlink:href=\"#DejaVuSans-48\"/>\r\n       <use x=\"127.246094\" xlink:href=\"#DejaVuSans-50\"/>\r\n       <use x=\"190.869141\" xlink:href=\"#DejaVuSans-48\"/>\r\n       <use x=\"254.492188\" xlink:href=\"#DejaVuSans-45\"/>\r\n       <use x=\"290.576172\" xlink:href=\"#DejaVuSans-49\"/>\r\n       <use x=\"354.199219\" xlink:href=\"#DejaVuSans-49\"/>\r\n       <use x=\"417.822266\" xlink:href=\"#DejaVuSans-45\"/>\r\n       <use x=\"453.90625\" xlink:href=\"#DejaVuSans-48\"/>\r\n       <use x=\"517.529297\" xlink:href=\"#DejaVuSans-57\"/>\r\n      </g>\r\n     </g>\r\n    </g>\r\n    <g id=\"xtick_3\">\r\n     <g id=\"line2d_3\">\r\n      <g>\r\n       <use style=\"stroke:#000000;stroke-width:0.8;\" x=\"114.8001\" xlink:href=\"#mcb9809b772\" y=\"224.64\"/>\r\n      </g>\r\n     </g>\r\n     <g id=\"text_3\">\r\n      <!-- 2020-11-13 -->\r\n      <g transform=\"translate(85.742288 239.238437)scale(0.1 -0.1)\">\r\n       <defs>\r\n        <path d=\"M 40.578125 39.3125 \r\nQ 47.65625 37.796875 51.625 33 \r\nQ 55.609375 28.21875 55.609375 21.1875 \r\nQ 55.609375 10.40625 48.1875 4.484375 \r\nQ 40.765625 -1.421875 27.09375 -1.421875 \r\nQ 22.515625 -1.421875 17.65625 -0.515625 \r\nQ 12.796875 0.390625 7.625 2.203125 \r\nL 7.625 11.71875 \r\nQ 11.71875 9.328125 16.59375 8.109375 \r\nQ 21.484375 6.890625 26.8125 6.890625 \r\nQ 36.078125 6.890625 40.9375 10.546875 \r\nQ 45.796875 14.203125 45.796875 21.1875 \r\nQ 45.796875 27.640625 41.28125 31.265625 \r\nQ 36.765625 34.90625 28.71875 34.90625 \r\nL 20.21875 34.90625 \r\nL 20.21875 43.015625 \r\nL 29.109375 43.015625 \r\nQ 36.375 43.015625 40.234375 45.921875 \r\nQ 44.09375 48.828125 44.09375 54.296875 \r\nQ 44.09375 59.90625 40.109375 62.90625 \r\nQ 36.140625 65.921875 28.71875 65.921875 \r\nQ 24.65625 65.921875 20.015625 65.03125 \r\nQ 15.375 64.15625 9.8125 62.3125 \r\nL 9.8125 71.09375 \r\nQ 15.4375 72.65625 20.34375 73.4375 \r\nQ 25.25 74.21875 29.59375 74.21875 \r\nQ 40.828125 74.21875 47.359375 69.109375 \r\nQ 53.90625 64.015625 53.90625 55.328125 \r\nQ 53.90625 49.265625 50.4375 45.09375 \r\nQ 46.96875 40.921875 40.578125 39.3125 \r\nz\r\n\" id=\"DejaVuSans-51\"/>\r\n       </defs>\r\n       <use xlink:href=\"#DejaVuSans-50\"/>\r\n       <use x=\"63.623047\" xlink:href=\"#DejaVuSans-48\"/>\r\n       <use x=\"127.246094\" xlink:href=\"#DejaVuSans-50\"/>\r\n       <use x=\"190.869141\" xlink:href=\"#DejaVuSans-48\"/>\r\n       <use x=\"254.492188\" xlink:href=\"#DejaVuSans-45\"/>\r\n       <use x=\"290.576172\" xlink:href=\"#DejaVuSans-49\"/>\r\n       <use x=\"354.199219\" xlink:href=\"#DejaVuSans-49\"/>\r\n       <use x=\"417.822266\" xlink:href=\"#DejaVuSans-45\"/>\r\n       <use x=\"453.90625\" xlink:href=\"#DejaVuSans-49\"/>\r\n       <use x=\"517.529297\" xlink:href=\"#DejaVuSans-51\"/>\r\n      </g>\r\n     </g>\r\n    </g>\r\n    <g id=\"xtick_4\">\r\n     <g id=\"line2d_4\">\r\n      <g>\r\n       <use style=\"stroke:#000000;stroke-width:0.8;\" x=\"154.071244\" xlink:href=\"#mcb9809b772\" y=\"224.64\"/>\r\n      </g>\r\n     </g>\r\n     <g id=\"text_4\">\r\n      <!-- 2020-11-17 -->\r\n      <g transform=\"translate(125.013431 239.238437)scale(0.1 -0.1)\">\r\n       <defs>\r\n        <path d=\"M 8.203125 72.90625 \r\nL 55.078125 72.90625 \r\nL 55.078125 68.703125 \r\nL 28.609375 0 \r\nL 18.3125 0 \r\nL 43.21875 64.59375 \r\nL 8.203125 64.59375 \r\nz\r\n\" id=\"DejaVuSans-55\"/>\r\n       </defs>\r\n       <use xlink:href=\"#DejaVuSans-50\"/>\r\n       <use x=\"63.623047\" xlink:href=\"#DejaVuSans-48\"/>\r\n       <use x=\"127.246094\" xlink:href=\"#DejaVuSans-50\"/>\r\n       <use x=\"190.869141\" xlink:href=\"#DejaVuSans-48\"/>\r\n       <use x=\"254.492188\" xlink:href=\"#DejaVuSans-45\"/>\r\n       <use x=\"290.576172\" xlink:href=\"#DejaVuSans-49\"/>\r\n       <use x=\"354.199219\" xlink:href=\"#DejaVuSans-49\"/>\r\n       <use x=\"417.822266\" xlink:href=\"#DejaVuSans-45\"/>\r\n       <use x=\"453.90625\" xlink:href=\"#DejaVuSans-49\"/>\r\n       <use x=\"517.529297\" xlink:href=\"#DejaVuSans-55\"/>\r\n      </g>\r\n     </g>\r\n    </g>\r\n    <g id=\"xtick_5\">\r\n     <g id=\"line2d_5\">\r\n      <g>\r\n       <use style=\"stroke:#000000;stroke-width:0.8;\" x=\"193.342388\" xlink:href=\"#mcb9809b772\" y=\"224.64\"/>\r\n      </g>\r\n     </g>\r\n     <g id=\"text_5\">\r\n      <!-- 2020-11-21 -->\r\n      <g transform=\"translate(164.284575 239.238437)scale(0.1 -0.1)\">\r\n       <use xlink:href=\"#DejaVuSans-50\"/>\r\n       <use x=\"63.623047\" xlink:href=\"#DejaVuSans-48\"/>\r\n       <use x=\"127.246094\" xlink:href=\"#DejaVuSans-50\"/>\r\n       <use x=\"190.869141\" xlink:href=\"#DejaVuSans-48\"/>\r\n       <use x=\"254.492188\" xlink:href=\"#DejaVuSans-45\"/>\r\n       <use x=\"290.576172\" xlink:href=\"#DejaVuSans-49\"/>\r\n       <use x=\"354.199219\" xlink:href=\"#DejaVuSans-49\"/>\r\n       <use x=\"417.822266\" xlink:href=\"#DejaVuSans-45\"/>\r\n       <use x=\"453.90625\" xlink:href=\"#DejaVuSans-50\"/>\r\n       <use x=\"517.529297\" xlink:href=\"#DejaVuSans-49\"/>\r\n      </g>\r\n     </g>\r\n    </g>\r\n    <g id=\"xtick_6\">\r\n     <g id=\"line2d_6\">\r\n      <g>\r\n       <use style=\"stroke:#000000;stroke-width:0.8;\" x=\"232.613531\" xlink:href=\"#mcb9809b772\" y=\"224.64\"/>\r\n      </g>\r\n     </g>\r\n     <g id=\"text_6\">\r\n      <!-- 2020-11-25 -->\r\n      <g transform=\"translate(203.555719 239.238437)scale(0.1 -0.1)\">\r\n       <use xlink:href=\"#DejaVuSans-50\"/>\r\n       <use x=\"63.623047\" xlink:href=\"#DejaVuSans-48\"/>\r\n       <use x=\"127.246094\" xlink:href=\"#DejaVuSans-50\"/>\r\n       <use x=\"190.869141\" xlink:href=\"#DejaVuSans-48\"/>\r\n       <use x=\"254.492188\" xlink:href=\"#DejaVuSans-45\"/>\r\n       <use x=\"290.576172\" xlink:href=\"#DejaVuSans-49\"/>\r\n       <use x=\"354.199219\" xlink:href=\"#DejaVuSans-49\"/>\r\n       <use x=\"417.822266\" xlink:href=\"#DejaVuSans-45\"/>\r\n       <use x=\"453.90625\" xlink:href=\"#DejaVuSans-50\"/>\r\n       <use x=\"517.529297\" xlink:href=\"#DejaVuSans-53\"/>\r\n      </g>\r\n     </g>\r\n    </g>\r\n    <g id=\"xtick_7\">\r\n     <g id=\"line2d_7\">\r\n      <g>\r\n       <use style=\"stroke:#000000;stroke-width:0.8;\" x=\"271.884675\" xlink:href=\"#mcb9809b772\" y=\"224.64\"/>\r\n      </g>\r\n     </g>\r\n     <g id=\"text_7\">\r\n      <!-- 2020-11-29 -->\r\n      <g transform=\"translate(242.826863 239.238437)scale(0.1 -0.1)\">\r\n       <use xlink:href=\"#DejaVuSans-50\"/>\r\n       <use x=\"63.623047\" xlink:href=\"#DejaVuSans-48\"/>\r\n       <use x=\"127.246094\" xlink:href=\"#DejaVuSans-50\"/>\r\n       <use x=\"190.869141\" xlink:href=\"#DejaVuSans-48\"/>\r\n       <use x=\"254.492188\" xlink:href=\"#DejaVuSans-45\"/>\r\n       <use x=\"290.576172\" xlink:href=\"#DejaVuSans-49\"/>\r\n       <use x=\"354.199219\" xlink:href=\"#DejaVuSans-49\"/>\r\n       <use x=\"417.822266\" xlink:href=\"#DejaVuSans-45\"/>\r\n       <use x=\"453.90625\" xlink:href=\"#DejaVuSans-50\"/>\r\n       <use x=\"517.529297\" xlink:href=\"#DejaVuSans-57\"/>\r\n      </g>\r\n     </g>\r\n    </g>\r\n    <g id=\"xtick_8\">\r\n     <g id=\"line2d_8\">\r\n      <g>\r\n       <use style=\"stroke:#000000;stroke-width:0.8;\" x=\"291.520247\" xlink:href=\"#mcb9809b772\" y=\"224.64\"/>\r\n      </g>\r\n     </g>\r\n     <g id=\"text_8\">\r\n      <!-- 2020-12-01 -->\r\n      <g transform=\"translate(262.462434 239.238437)scale(0.1 -0.1)\">\r\n       <use xlink:href=\"#DejaVuSans-50\"/>\r\n       <use x=\"63.623047\" xlink:href=\"#DejaVuSans-48\"/>\r\n       <use x=\"127.246094\" xlink:href=\"#DejaVuSans-50\"/>\r\n       <use x=\"190.869141\" xlink:href=\"#DejaVuSans-48\"/>\r\n       <use x=\"254.492188\" xlink:href=\"#DejaVuSans-45\"/>\r\n       <use x=\"290.576172\" xlink:href=\"#DejaVuSans-49\"/>\r\n       <use x=\"354.199219\" xlink:href=\"#DejaVuSans-50\"/>\r\n       <use x=\"417.822266\" xlink:href=\"#DejaVuSans-45\"/>\r\n       <use x=\"453.90625\" xlink:href=\"#DejaVuSans-48\"/>\r\n       <use x=\"517.529297\" xlink:href=\"#DejaVuSans-49\"/>\r\n      </g>\r\n     </g>\r\n    </g>\r\n    <g id=\"xtick_9\">\r\n     <g id=\"line2d_9\">\r\n      <g>\r\n       <use style=\"stroke:#000000;stroke-width:0.8;\" x=\"330.791391\" xlink:href=\"#mcb9809b772\" y=\"224.64\"/>\r\n      </g>\r\n     </g>\r\n     <g id=\"text_9\">\r\n      <!-- 2020-12-05 -->\r\n      <g transform=\"translate(301.733578 239.238437)scale(0.1 -0.1)\">\r\n       <use xlink:href=\"#DejaVuSans-50\"/>\r\n       <use x=\"63.623047\" xlink:href=\"#DejaVuSans-48\"/>\r\n       <use x=\"127.246094\" xlink:href=\"#DejaVuSans-50\"/>\r\n       <use x=\"190.869141\" xlink:href=\"#DejaVuSans-48\"/>\r\n       <use x=\"254.492188\" xlink:href=\"#DejaVuSans-45\"/>\r\n       <use x=\"290.576172\" xlink:href=\"#DejaVuSans-49\"/>\r\n       <use x=\"354.199219\" xlink:href=\"#DejaVuSans-50\"/>\r\n       <use x=\"417.822266\" xlink:href=\"#DejaVuSans-45\"/>\r\n       <use x=\"453.90625\" xlink:href=\"#DejaVuSans-48\"/>\r\n       <use x=\"517.529297\" xlink:href=\"#DejaVuSans-53\"/>\r\n      </g>\r\n     </g>\r\n    </g>\r\n   </g>\r\n   <g id=\"matplotlib.axis_2\">\r\n    <g id=\"ytick_1\">\r\n     <g id=\"line2d_10\">\r\n      <defs>\r\n       <path d=\"M 0 0 \r\nL -3.5 0 \r\n\" id=\"m3721508561\" style=\"stroke:#000000;stroke-width:0.8;\"/>\r\n      </defs>\r\n      <g>\r\n       <use style=\"stroke:#000000;stroke-width:0.8;\" x=\"34.290005\" xlink:href=\"#m3721508561\" y=\"214.756364\"/>\r\n      </g>\r\n     </g>\r\n     <g id=\"text_10\">\r\n      <!-- 0.0 -->\r\n      <g transform=\"translate(11.38688 218.555582)scale(0.1 -0.1)\">\r\n       <defs>\r\n        <path d=\"M 10.6875 12.40625 \r\nL 21 12.40625 \r\nL 21 0 \r\nL 10.6875 0 \r\nz\r\n\" id=\"DejaVuSans-46\"/>\r\n       </defs>\r\n       <use xlink:href=\"#DejaVuSans-48\"/>\r\n       <use x=\"63.623047\" xlink:href=\"#DejaVuSans-46\"/>\r\n       <use x=\"95.410156\" xlink:href=\"#DejaVuSans-48\"/>\r\n      </g>\r\n     </g>\r\n    </g>\r\n    <g id=\"ytick_2\">\r\n     <g id=\"line2d_11\">\r\n      <g>\r\n       <use style=\"stroke:#000000;stroke-width:0.8;\" x=\"34.290005\" xlink:href=\"#m3721508561\" y=\"175.221818\"/>\r\n      </g>\r\n     </g>\r\n     <g id=\"text_11\">\r\n      <!-- 0.2 -->\r\n      <g transform=\"translate(11.38688 179.021037)scale(0.1 -0.1)\">\r\n       <use xlink:href=\"#DejaVuSans-48\"/>\r\n       <use x=\"63.623047\" xlink:href=\"#DejaVuSans-46\"/>\r\n       <use x=\"95.410156\" xlink:href=\"#DejaVuSans-50\"/>\r\n      </g>\r\n     </g>\r\n    </g>\r\n    <g id=\"ytick_3\">\r\n     <g id=\"line2d_12\">\r\n      <g>\r\n       <use style=\"stroke:#000000;stroke-width:0.8;\" x=\"34.290005\" xlink:href=\"#m3721508561\" y=\"135.687273\"/>\r\n      </g>\r\n     </g>\r\n     <g id=\"text_12\">\r\n      <!-- 0.4 -->\r\n      <g transform=\"translate(11.38688 139.486491)scale(0.1 -0.1)\">\r\n       <defs>\r\n        <path d=\"M 37.796875 64.3125 \r\nL 12.890625 25.390625 \r\nL 37.796875 25.390625 \r\nz\r\nM 35.203125 72.90625 \r\nL 47.609375 72.90625 \r\nL 47.609375 25.390625 \r\nL 58.015625 25.390625 \r\nL 58.015625 17.1875 \r\nL 47.609375 17.1875 \r\nL 47.609375 0 \r\nL 37.796875 0 \r\nL 37.796875 17.1875 \r\nL 4.890625 17.1875 \r\nL 4.890625 26.703125 \r\nz\r\n\" id=\"DejaVuSans-52\"/>\r\n       </defs>\r\n       <use xlink:href=\"#DejaVuSans-48\"/>\r\n       <use x=\"63.623047\" xlink:href=\"#DejaVuSans-46\"/>\r\n       <use x=\"95.410156\" xlink:href=\"#DejaVuSans-52\"/>\r\n      </g>\r\n     </g>\r\n    </g>\r\n    <g id=\"ytick_4\">\r\n     <g id=\"line2d_13\">\r\n      <g>\r\n       <use style=\"stroke:#000000;stroke-width:0.8;\" x=\"34.290005\" xlink:href=\"#m3721508561\" y=\"96.152727\"/>\r\n      </g>\r\n     </g>\r\n     <g id=\"text_13\">\r\n      <!-- 0.6 -->\r\n      <g transform=\"translate(11.38688 99.951946)scale(0.1 -0.1)\">\r\n       <defs>\r\n        <path d=\"M 33.015625 40.375 \r\nQ 26.375 40.375 22.484375 35.828125 \r\nQ 18.609375 31.296875 18.609375 23.390625 \r\nQ 18.609375 15.53125 22.484375 10.953125 \r\nQ 26.375 6.390625 33.015625 6.390625 \r\nQ 39.65625 6.390625 43.53125 10.953125 \r\nQ 47.40625 15.53125 47.40625 23.390625 \r\nQ 47.40625 31.296875 43.53125 35.828125 \r\nQ 39.65625 40.375 33.015625 40.375 \r\nz\r\nM 52.59375 71.296875 \r\nL 52.59375 62.3125 \r\nQ 48.875 64.0625 45.09375 64.984375 \r\nQ 41.3125 65.921875 37.59375 65.921875 \r\nQ 27.828125 65.921875 22.671875 59.328125 \r\nQ 17.53125 52.734375 16.796875 39.40625 \r\nQ 19.671875 43.65625 24.015625 45.921875 \r\nQ 28.375 48.1875 33.59375 48.1875 \r\nQ 44.578125 48.1875 50.953125 41.515625 \r\nQ 57.328125 34.859375 57.328125 23.390625 \r\nQ 57.328125 12.15625 50.6875 5.359375 \r\nQ 44.046875 -1.421875 33.015625 -1.421875 \r\nQ 20.359375 -1.421875 13.671875 8.265625 \r\nQ 6.984375 17.96875 6.984375 36.375 \r\nQ 6.984375 53.65625 15.1875 63.9375 \r\nQ 23.390625 74.21875 37.203125 74.21875 \r\nQ 40.921875 74.21875 44.703125 73.484375 \r\nQ 48.484375 72.75 52.59375 71.296875 \r\nz\r\n\" id=\"DejaVuSans-54\"/>\r\n       </defs>\r\n       <use xlink:href=\"#DejaVuSans-48\"/>\r\n       <use x=\"63.623047\" xlink:href=\"#DejaVuSans-46\"/>\r\n       <use x=\"95.410156\" xlink:href=\"#DejaVuSans-54\"/>\r\n      </g>\r\n     </g>\r\n    </g>\r\n    <g id=\"ytick_5\">\r\n     <g id=\"line2d_14\">\r\n      <g>\r\n       <use style=\"stroke:#000000;stroke-width:0.8;\" x=\"34.290005\" xlink:href=\"#m3721508561\" y=\"56.618182\"/>\r\n      </g>\r\n     </g>\r\n     <g id=\"text_14\">\r\n      <!-- 0.8 -->\r\n      <g transform=\"translate(11.38688 60.417401)scale(0.1 -0.1)\">\r\n       <defs>\r\n        <path d=\"M 31.78125 34.625 \r\nQ 24.75 34.625 20.71875 30.859375 \r\nQ 16.703125 27.09375 16.703125 20.515625 \r\nQ 16.703125 13.921875 20.71875 10.15625 \r\nQ 24.75 6.390625 31.78125 6.390625 \r\nQ 38.8125 6.390625 42.859375 10.171875 \r\nQ 46.921875 13.96875 46.921875 20.515625 \r\nQ 46.921875 27.09375 42.890625 30.859375 \r\nQ 38.875 34.625 31.78125 34.625 \r\nz\r\nM 21.921875 38.8125 \r\nQ 15.578125 40.375 12.03125 44.71875 \r\nQ 8.5 49.078125 8.5 55.328125 \r\nQ 8.5 64.0625 14.71875 69.140625 \r\nQ 20.953125 74.21875 31.78125 74.21875 \r\nQ 42.671875 74.21875 48.875 69.140625 \r\nQ 55.078125 64.0625 55.078125 55.328125 \r\nQ 55.078125 49.078125 51.53125 44.71875 \r\nQ 48 40.375 41.703125 38.8125 \r\nQ 48.828125 37.15625 52.796875 32.3125 \r\nQ 56.78125 27.484375 56.78125 20.515625 \r\nQ 56.78125 9.90625 50.3125 4.234375 \r\nQ 43.84375 -1.421875 31.78125 -1.421875 \r\nQ 19.734375 -1.421875 13.25 4.234375 \r\nQ 6.78125 9.90625 6.78125 20.515625 \r\nQ 6.78125 27.484375 10.78125 32.3125 \r\nQ 14.796875 37.15625 21.921875 38.8125 \r\nz\r\nM 18.3125 54.390625 \r\nQ 18.3125 48.734375 21.84375 45.5625 \r\nQ 25.390625 42.390625 31.78125 42.390625 \r\nQ 38.140625 42.390625 41.71875 45.5625 \r\nQ 45.3125 48.734375 45.3125 54.390625 \r\nQ 45.3125 60.0625 41.71875 63.234375 \r\nQ 38.140625 66.40625 31.78125 66.40625 \r\nQ 25.390625 66.40625 21.84375 63.234375 \r\nQ 18.3125 60.0625 18.3125 54.390625 \r\nz\r\n\" id=\"DejaVuSans-56\"/>\r\n       </defs>\r\n       <use xlink:href=\"#DejaVuSans-48\"/>\r\n       <use x=\"63.623047\" xlink:href=\"#DejaVuSans-46\"/>\r\n       <use x=\"95.410156\" xlink:href=\"#DejaVuSans-56\"/>\r\n      </g>\r\n     </g>\r\n    </g>\r\n    <g id=\"ytick_6\">\r\n     <g id=\"line2d_15\">\r\n      <g>\r\n       <use style=\"stroke:#000000;stroke-width:0.8;\" x=\"34.290005\" xlink:href=\"#m3721508561\" y=\"17.083636\"/>\r\n      </g>\r\n     </g>\r\n     <g id=\"text_15\">\r\n      <!-- 1.0 -->\r\n      <g transform=\"translate(11.38688 20.882855)scale(0.1 -0.1)\">\r\n       <use xlink:href=\"#DejaVuSans-49\"/>\r\n       <use x=\"63.623047\" xlink:href=\"#DejaVuSans-46\"/>\r\n       <use x=\"95.410156\" xlink:href=\"#DejaVuSans-48\"/>\r\n      </g>\r\n     </g>\r\n    </g>\r\n   </g>\r\n   <g id=\"line2d_16\">\r\n    <path clip-path=\"url(#p05c522699a)\" d=\"M 353.871824 17.083636 \r\nL 314.54375 17.083636 \r\nL 184.791596 214.756364 \r\nL 184.71069 214.756364 \r\nL 88.817625 17.083636 \r\nL 84.702336 214.756364 \r\nL 49.508187 17.083636 \r\nL 49.508187 17.083636 \r\nL 49.508187 17.083636 \r\nL 49.508187 17.083636 \r\n\" style=\"fill:none;stroke:#1f77b4;stroke-linecap:square;stroke-width:1.5;\"/>\r\n   </g>\r\n   <g id=\"patch_3\">\r\n    <path d=\"M 34.290005 224.64 \r\nL 34.290005 7.2 \r\n\" style=\"fill:none;stroke:#000000;stroke-linecap:square;stroke-linejoin:miter;stroke-width:0.8;\"/>\r\n   </g>\r\n   <g id=\"patch_4\">\r\n    <path d=\"M 369.090005 224.64 \r\nL 369.090005 7.2 \r\n\" style=\"fill:none;stroke:#000000;stroke-linecap:square;stroke-linejoin:miter;stroke-width:0.8;\"/>\r\n   </g>\r\n   <g id=\"patch_5\">\r\n    <path d=\"M 34.290005 224.64 \r\nL 369.090005 224.64 \r\n\" style=\"fill:none;stroke:#000000;stroke-linecap:square;stroke-linejoin:miter;stroke-width:0.8;\"/>\r\n   </g>\r\n   <g id=\"patch_6\">\r\n    <path d=\"M 34.290005 7.2 \r\nL 369.090005 7.2 \r\n\" style=\"fill:none;stroke:#000000;stroke-linecap:square;stroke-linejoin:miter;stroke-width:0.8;\"/>\r\n   </g>\r\n  </g>\r\n </g>\r\n <defs>\r\n  <clipPath id=\"p05c522699a\">\r\n   <rect height=\"217.44\" width=\"334.8\" x=\"34.290005\" y=\"7.2\"/>\r\n  </clipPath>\r\n </defs>\r\n</svg>\r\n",
      "image/png": "[encoded data removed]"
     },
     "metadata": {
      "needs_background": "light"
     }
    }
   ],
   "source": [
    "plt.plot(dates, missing)"
   ]
  },
  {
   "cell_type": "code",
   "execution_count": 67,
   "metadata": {},
   "outputs": [],
   "source": [
    "r = requests.get('https://lambdaschool.instructure.com/api/v1'\n",
    "'/users/168550000000002232/graded_submissions', headers=headers)\n",
    "data_set = []"
   ]
  },
  {
   "cell_type": "code",
   "execution_count": 68,
   "metadata": {},
   "outputs": [],
   "source": [
    "raw = r.json()\n",
    "\n",
    "for submission in raw:\n",
    "    data_set.append(submission)"
   ]
  },
  {
   "cell_type": "code",
   "execution_count": 69,
   "metadata": {},
   "outputs": [
    {
     "output_type": "execute_result",
     "data": {
      "text/plain": [
       "{'id': 499492,\n",
       " 'body': 'user: 2232, quiz: 7795, score: 2.0, time: 2020-12-01 03:14:42 +0000',\n",
       " 'url': None,\n",
       " 'grade': '2',\n",
       " 'score': 2.0,\n",
       " 'submitted_at': '2020-12-01T03:14:42Z',\n",
       " 'assignment_id': 9489,\n",
       " 'user_id': 2232,\n",
       " 'submission_type': 'online_quiz',\n",
       " 'workflow_state': 'graded',\n",
       " 'grade_matches_current_submission': True,\n",
       " 'graded_at': '2020-12-01T03:14:42Z',\n",
       " 'grader_id': -7795,\n",
       " 'attempt': 1,\n",
       " 'cached_due_date': '2020-12-07T07:59:00Z',\n",
       " 'excused': None,\n",
       " 'late_policy_status': None,\n",
       " 'points_deducted': None,\n",
       " 'grading_period_id': None,\n",
       " 'extra_attempts': None,\n",
       " 'posted_at': '2020-12-01T03:14:42Z',\n",
       " 'late': False,\n",
       " 'missing': False,\n",
       " 'seconds_late': 0,\n",
       " 'entered_grade': '2',\n",
       " 'entered_score': 2.0,\n",
       " 'preview_url': 'https://lambdaschool.instructure.com/courses/584/assignments/9489/submissions/2232?preview=1&version=1',\n",
       " 'anonymous_id': '5UDGj'}"
      ]
     },
     "metadata": {},
     "execution_count": 69
    }
   ],
   "source": [
    "data_set[0]"
   ]
  },
  {
   "cell_type": "code",
   "execution_count": 78,
   "metadata": {},
   "outputs": [
    {
     "output_type": "error",
     "ename": "KeyError",
     "evalue": "'next'",
     "traceback": [
      "\u001b[1;31m---------------------------------------------------------------------------\u001b[0m",
      "\u001b[1;31mKeyError\u001b[0m                                  Traceback (most recent call last)",
      "\u001b[1;32m<ipython-input-78-a72042cc7ffd>\u001b[0m in \u001b[0;36m<module>\u001b[1;34m\u001b[0m\n\u001b[0;32m      7\u001b[0m             \u001b[0mdata_set\u001b[0m\u001b[1;33m.\u001b[0m\u001b[0mappend\u001b[0m\u001b[1;33m(\u001b[0m\u001b[0msubmission\u001b[0m\u001b[1;33m)\u001b[0m\u001b[1;33m\u001b[0m\u001b[1;33m\u001b[0m\u001b[0m\n\u001b[0;32m      8\u001b[0m \u001b[1;32melse\u001b[0m\u001b[1;33m:\u001b[0m\u001b[1;33m\u001b[0m\u001b[1;33m\u001b[0m\u001b[0m\n\u001b[1;32m----> 9\u001b[1;33m     \u001b[0mr\u001b[0m \u001b[1;33m=\u001b[0m \u001b[0mrequests\u001b[0m\u001b[1;33m.\u001b[0m\u001b[0mget\u001b[0m\u001b[1;33m(\u001b[0m\u001b[0mr\u001b[0m\u001b[1;33m.\u001b[0m\u001b[0mlinks\u001b[0m\u001b[1;33m[\u001b[0m\u001b[1;34m'next'\u001b[0m\u001b[1;33m]\u001b[0m\u001b[1;33m[\u001b[0m\u001b[1;34m'url'\u001b[0m\u001b[1;33m]\u001b[0m\u001b[1;33m)\u001b[0m\u001b[1;33m\u001b[0m\u001b[1;33m\u001b[0m\u001b[0m\n\u001b[0m\u001b[0;32m     10\u001b[0m     \u001b[0mraw\u001b[0m \u001b[1;33m=\u001b[0m \u001b[0mr\u001b[0m\u001b[1;33m.\u001b[0m\u001b[0mjson\u001b[0m\u001b[1;33m(\u001b[0m\u001b[1;33m)\u001b[0m\u001b[1;33m\u001b[0m\u001b[1;33m\u001b[0m\u001b[0m\n\u001b[0;32m     11\u001b[0m     \u001b[1;32mfor\u001b[0m \u001b[0msubmission\u001b[0m \u001b[1;32min\u001b[0m \u001b[0mraw\u001b[0m\u001b[1;33m:\u001b[0m\u001b[1;33m\u001b[0m\u001b[1;33m\u001b[0m\u001b[0m\n",
      "\u001b[1;31mKeyError\u001b[0m: 'next'"
     ]
    }
   ],
   "source": [
    "if \"last\" in r.links.keys():\n",
    "    while r.links['current']['url']!=r.links['last']['url']:\n",
    "        r = requests.get(r.links['next']['url'], headers=headers)\n",
    "\n",
    "        raw = r.json()\n",
    "        for submission in raw:\n",
    "            data_set.append(submission)\n",
    "else:\n",
    "    r = requests.get(r.links['next']['url'])\n",
    "    raw = r.json()\n",
    "    for submission in raw:\n",
    "        data_set.append(submission)"
   ]
  },
  {
   "cell_type": "code",
   "execution_count": 75,
   "metadata": {},
   "outputs": [
    {
     "output_type": "execute_result",
     "data": {
      "text/plain": [
       "{'current': {'url': 'https://lambdaschool.instructure.com/api/v1/users/168550000000002232/graded_submissions?page=first&per_page=10',\n",
       "  'rel': 'current'},\n",
       " 'next': {'url': 'https://lambdaschool.instructure.com/api/v1/users/168550000000002232/graded_submissions?page=bookmark:WzE2ODU1LFsiMjAyMC0xMS0wMiAwMjozNDowMy4xNTg2NjIiLDE2NTI4NV1d&per_page=10',\n",
       "  'rel': 'next'},\n",
       " 'first': {'url': 'https://lambdaschool.instructure.com/api/v1/users/168550000000002232/graded_submissions?page=first&per_page=10',\n",
       "  'rel': 'first'}}"
      ]
     },
     "metadata": {},
     "execution_count": 75
    }
   ],
   "source": [
    "r.links"
   ]
  },
  {
   "cell_type": "code",
   "execution_count": 55,
   "metadata": {},
   "outputs": [],
   "source": [
    "import json\n",
    "with open(\"graded_subs_2.json\", \"w\") as outfile:\n",
    "    json.dump(data_set, outfile)"
   ]
  },
  {
   "cell_type": "code",
   "execution_count": 56,
   "metadata": {},
   "outputs": [
    {
     "output_type": "execute_result",
     "data": {
      "text/plain": [
       "       id  body                                                url  grade  \\\n",
       "0  499907  None                                               None      0   \n",
       "1  500054  None                                               None      0   \n",
       "2  187304        https://github.com/Toniddarden/Sprint-Challeng...      0   \n",
       "3  187272        https://github.com/Toniddarden/Graphs/tree/ton...      2   \n",
       "4  187312  None                                               None      0   \n",
       "\n",
       "   score              submitted_at  assignment_id  user_id submission_type  \\\n",
       "0      0                       NaT           9489     2221            None   \n",
       "1      0                       NaT           9586     2221            None   \n",
       "2      0 2020-11-09 22:26:01+00:00           3533     2221      online_url   \n",
       "3      2 2020-10-27 00:40:04+00:00           3561     2221      online_url   \n",
       "4      0                       NaT           2041     2221            None   \n",
       "\n",
       "  workflow_state  grade_matches_current_submission                 graded_at  \\\n",
       "0         graded                              True 2020-12-07 08:25:16+00:00   \n",
       "1         graded                              True 2020-12-03 08:16:55+00:00   \n",
       "2         graded                              True 2020-11-20 03:05:50+00:00   \n",
       "3         graded                              True 2020-11-20 02:53:58+00:00   \n",
       "4         graded                              True 2020-11-10 08:29:05+00:00   \n",
       "\n",
       "   grader_id  attempt       cached_due_date  excused  late_policy_status  \\\n",
       "0        NaN      NaN  2020-12-07T07:59:00Z      NaN                 NaN   \n",
       "1        NaN      NaN  2020-12-03T07:59:00Z      NaN                 NaN   \n",
       "2     2995.0      1.0  2020-11-10T07:59:59Z      0.0                 NaN   \n",
       "3     2995.0      1.0  2020-10-27T06:59:59Z      0.0                 NaN   \n",
       "4        NaN      NaN  2020-11-10T07:59:59Z      NaN                 NaN   \n",
       "\n",
       "   points_deducted  grading_period_id  extra_attempts  \\\n",
       "0              NaN                NaN             NaN   \n",
       "1              NaN                NaN             NaN   \n",
       "2              NaN                NaN             NaN   \n",
       "3              NaN                NaN             NaN   \n",
       "4              NaN                NaN             NaN   \n",
       "\n",
       "                  posted_at   late  missing  seconds_late  entered_grade  \\\n",
       "0 2020-12-07 08:25:16+00:00  False     True        130158              0   \n",
       "1 2020-12-03 08:16:55+00:00  False     True        475758              0   \n",
       "2 2020-11-20 03:05:50+00:00  False    False             0              0   \n",
       "3 2020-11-20 02:53:58+00:00  False    False             0              2   \n",
       "4 2020-11-10 08:29:05+00:00  False     True       2462899              0   \n",
       "\n",
       "   entered_score                                        preview_url  \\\n",
       "0              0  https://lambdaschool.instructure.com/courses/5...   \n",
       "1              0  https://lambdaschool.instructure.com/courses/5...   \n",
       "2              0  https://lambdaschool.instructure.com/courses/3...   \n",
       "3              2  https://lambdaschool.instructure.com/courses/3...   \n",
       "4              0  https://lambdaschool.instructure.com/courses/3...   \n",
       "\n",
       "  anonymous_id                                        attachments  \n",
       "0        ofy3o                                                NaN  \n",
       "1        tYKND                                                NaN  \n",
       "2        78XmV  [{'id': 73583, 'uuid': 'HrU6yXvNNAjvA9U9E5N9xF...  \n",
       "3        4gjvw  [{'id': 49115, 'uuid': 'TeOXLvkPPMMqY7p7Jn98Lh...  \n",
       "4        Jen9e                                                NaN  "
      ],
      "text/html": "<div>\n<style scoped>\n    .dataframe tbody tr th:only-of-type {\n        vertical-align: middle;\n    }\n\n    .dataframe tbody tr th {\n        vertical-align: top;\n    }\n\n    .dataframe thead th {\n        text-align: right;\n    }\n</style>\n<table border=\"1\" class=\"dataframe\">\n  <thead>\n    <tr style=\"text-align: right;\">\n      <th></th>\n      <th>id</th>\n      <th>body</th>\n      <th>url</th>\n      <th>grade</th>\n      <th>score</th>\n      <th>submitted_at</th>\n      <th>assignment_id</th>\n      <th>user_id</th>\n      <th>submission_type</th>\n      <th>workflow_state</th>\n      <th>grade_matches_current_submission</th>\n      <th>graded_at</th>\n      <th>grader_id</th>\n      <th>attempt</th>\n      <th>cached_due_date</th>\n      <th>excused</th>\n      <th>late_policy_status</th>\n      <th>points_deducted</th>\n      <th>grading_period_id</th>\n      <th>extra_attempts</th>\n      <th>posted_at</th>\n      <th>late</th>\n      <th>missing</th>\n      <th>seconds_late</th>\n      <th>entered_grade</th>\n      <th>entered_score</th>\n      <th>preview_url</th>\n      <th>anonymous_id</th>\n      <th>attachments</th>\n    </tr>\n  </thead>\n  <tbody>\n    <tr>\n      <th>0</th>\n      <td>499907</td>\n      <td>None</td>\n      <td>None</td>\n      <td>0</td>\n      <td>0</td>\n      <td>NaT</td>\n      <td>9489</td>\n      <td>2221</td>\n      <td>None</td>\n      <td>graded</td>\n      <td>True</td>\n      <td>2020-12-07 08:25:16+00:00</td>\n      <td>NaN</td>\n      <td>NaN</td>\n      <td>2020-12-07T07:59:00Z</td>\n      <td>NaN</td>\n      <td>NaN</td>\n      <td>NaN</td>\n      <td>NaN</td>\n      <td>NaN</td>\n      <td>2020-12-07 08:25:16+00:00</td>\n      <td>False</td>\n      <td>True</td>\n      <td>130158</td>\n      <td>0</td>\n      <td>0</td>\n      <td>https://lambdaschool.instructure.com/courses/5...</td>\n      <td>ofy3o</td>\n      <td>NaN</td>\n    </tr>\n    <tr>\n      <th>1</th>\n      <td>500054</td>\n      <td>None</td>\n      <td>None</td>\n      <td>0</td>\n      <td>0</td>\n      <td>NaT</td>\n      <td>9586</td>\n      <td>2221</td>\n      <td>None</td>\n      <td>graded</td>\n      <td>True</td>\n      <td>2020-12-03 08:16:55+00:00</td>\n      <td>NaN</td>\n      <td>NaN</td>\n      <td>2020-12-03T07:59:00Z</td>\n      <td>NaN</td>\n      <td>NaN</td>\n      <td>NaN</td>\n      <td>NaN</td>\n      <td>NaN</td>\n      <td>2020-12-03 08:16:55+00:00</td>\n      <td>False</td>\n      <td>True</td>\n      <td>475758</td>\n      <td>0</td>\n      <td>0</td>\n      <td>https://lambdaschool.instructure.com/courses/5...</td>\n      <td>tYKND</td>\n      <td>NaN</td>\n    </tr>\n    <tr>\n      <th>2</th>\n      <td>187304</td>\n      <td></td>\n      <td>https://github.com/Toniddarden/Sprint-Challeng...</td>\n      <td>0</td>\n      <td>0</td>\n      <td>2020-11-09 22:26:01+00:00</td>\n      <td>3533</td>\n      <td>2221</td>\n      <td>online_url</td>\n      <td>graded</td>\n      <td>True</td>\n      <td>2020-11-20 03:05:50+00:00</td>\n      <td>2995.0</td>\n      <td>1.0</td>\n      <td>2020-11-10T07:59:59Z</td>\n      <td>0.0</td>\n      <td>NaN</td>\n      <td>NaN</td>\n      <td>NaN</td>\n      <td>NaN</td>\n      <td>2020-11-20 03:05:50+00:00</td>\n      <td>False</td>\n      <td>False</td>\n      <td>0</td>\n      <td>0</td>\n      <td>0</td>\n      <td>https://lambdaschool.instructure.com/courses/3...</td>\n      <td>78XmV</td>\n      <td>[{'id': 73583, 'uuid': 'HrU6yXvNNAjvA9U9E5N9xF...</td>\n    </tr>\n    <tr>\n      <th>3</th>\n      <td>187272</td>\n      <td></td>\n      <td>https://github.com/Toniddarden/Graphs/tree/ton...</td>\n      <td>2</td>\n      <td>2</td>\n      <td>2020-10-27 00:40:04+00:00</td>\n      <td>3561</td>\n      <td>2221</td>\n      <td>online_url</td>\n      <td>graded</td>\n      <td>True</td>\n      <td>2020-11-20 02:53:58+00:00</td>\n      <td>2995.0</td>\n      <td>1.0</td>\n      <td>2020-10-27T06:59:59Z</td>\n      <td>0.0</td>\n      <td>NaN</td>\n      <td>NaN</td>\n      <td>NaN</td>\n      <td>NaN</td>\n      <td>2020-11-20 02:53:58+00:00</td>\n      <td>False</td>\n      <td>False</td>\n      <td>0</td>\n      <td>2</td>\n      <td>2</td>\n      <td>https://lambdaschool.instructure.com/courses/3...</td>\n      <td>4gjvw</td>\n      <td>[{'id': 49115, 'uuid': 'TeOXLvkPPMMqY7p7Jn98Lh...</td>\n    </tr>\n    <tr>\n      <th>4</th>\n      <td>187312</td>\n      <td>None</td>\n      <td>None</td>\n      <td>0</td>\n      <td>0</td>\n      <td>NaT</td>\n      <td>2041</td>\n      <td>2221</td>\n      <td>None</td>\n      <td>graded</td>\n      <td>True</td>\n      <td>2020-11-10 08:29:05+00:00</td>\n      <td>NaN</td>\n      <td>NaN</td>\n      <td>2020-11-10T07:59:59Z</td>\n      <td>NaN</td>\n      <td>NaN</td>\n      <td>NaN</td>\n      <td>NaN</td>\n      <td>NaN</td>\n      <td>2020-11-10 08:29:05+00:00</td>\n      <td>False</td>\n      <td>True</td>\n      <td>2462899</td>\n      <td>0</td>\n      <td>0</td>\n      <td>https://lambdaschool.instructure.com/courses/3...</td>\n      <td>Jen9e</td>\n      <td>NaN</td>\n    </tr>\n  </tbody>\n</table>\n</div>"
     },
     "metadata": {},
     "execution_count": 56
    }
   ],
   "source": [
    "grades_df = pd.read_json('graded_subs_2.json')\n",
    "grades_df.head()"
   ]
  },
  {
   "cell_type": "code",
   "execution_count": 58,
   "metadata": {},
   "outputs": [
    {
     "output_type": "execute_result",
     "data": {
      "text/plain": [
       "                  id      grade      score  assignment_id  user_id  \\\n",
       "count      76.000000  76.000000  76.000000      76.000000     76.0   \n",
       "mean   195531.986842   0.223684   0.223684    3015.434211   2221.0   \n",
       "std     50383.605723   1.053232   1.053232    1273.942106      0.0   \n",
       "min    187254.000000   0.000000   0.000000    2031.000000   2221.0   \n",
       "25%    187278.750000   0.000000   0.000000    2088.000000   2221.0   \n",
       "50%    187303.500000   0.000000   0.000000    3360.000000   2221.0   \n",
       "75%    187330.250000   0.000000   0.000000    3467.000000   2221.0   \n",
       "max    500054.000000   8.000000   8.000000    9586.000000   2221.0   \n",
       "\n",
       "         grader_id    attempt  excused  late_policy_status  points_deducted  \\\n",
       "count    14.000000  14.000000      3.0                 0.0              4.0   \n",
       "mean  -1465.500000   1.071429      0.0                 NaN              0.0   \n",
       "std    2432.947144   0.267261      0.0                 NaN              0.0   \n",
       "min   -2865.000000   1.000000      0.0                 NaN              0.0   \n",
       "25%   -2803.750000   1.000000      0.0                 NaN              0.0   \n",
       "50%   -2731.000000   1.000000      0.0                 NaN              0.0   \n",
       "75%   -1989.750000   1.000000      0.0                 NaN              0.0   \n",
       "max    2995.000000   2.000000      0.0                 NaN              0.0   \n",
       "\n",
       "       grading_period_id  extra_attempts  seconds_late  entered_grade  \\\n",
       "count                0.0             0.0  7.600000e+01      76.000000   \n",
       "mean                 NaN             NaN  2.735620e+06       0.223684   \n",
       "std                  NaN             NaN  1.922024e+06       1.053232   \n",
       "min                  NaN             NaN  0.000000e+00       0.000000   \n",
       "25%                  NaN             NaN  8.659250e+04       0.000000   \n",
       "50%                  NaN             NaN  3.154243e+06       0.000000   \n",
       "75%                  NaN             NaN  4.194644e+06       0.000000   \n",
       "max                  NaN             NaN  5.856045e+06       8.000000   \n",
       "\n",
       "       entered_score  \n",
       "count      76.000000  \n",
       "mean        0.223684  \n",
       "std         1.053232  \n",
       "min         0.000000  \n",
       "25%         0.000000  \n",
       "50%         0.000000  \n",
       "75%         0.000000  \n",
       "max         8.000000  "
      ],
      "text/html": "<div>\n<style scoped>\n    .dataframe tbody tr th:only-of-type {\n        vertical-align: middle;\n    }\n\n    .dataframe tbody tr th {\n        vertical-align: top;\n    }\n\n    .dataframe thead th {\n        text-align: right;\n    }\n</style>\n<table border=\"1\" class=\"dataframe\">\n  <thead>\n    <tr style=\"text-align: right;\">\n      <th></th>\n      <th>id</th>\n      <th>grade</th>\n      <th>score</th>\n      <th>assignment_id</th>\n      <th>user_id</th>\n      <th>grader_id</th>\n      <th>attempt</th>\n      <th>excused</th>\n      <th>late_policy_status</th>\n      <th>points_deducted</th>\n      <th>grading_period_id</th>\n      <th>extra_attempts</th>\n      <th>seconds_late</th>\n      <th>entered_grade</th>\n      <th>entered_score</th>\n    </tr>\n  </thead>\n  <tbody>\n    <tr>\n      <th>count</th>\n      <td>76.000000</td>\n      <td>76.000000</td>\n      <td>76.000000</td>\n      <td>76.000000</td>\n      <td>76.0</td>\n      <td>14.000000</td>\n      <td>14.000000</td>\n      <td>3.0</td>\n      <td>0.0</td>\n      <td>4.0</td>\n      <td>0.0</td>\n      <td>0.0</td>\n      <td>7.600000e+01</td>\n      <td>76.000000</td>\n      <td>76.000000</td>\n    </tr>\n    <tr>\n      <th>mean</th>\n      <td>195531.986842</td>\n      <td>0.223684</td>\n      <td>0.223684</td>\n      <td>3015.434211</td>\n      <td>2221.0</td>\n      <td>-1465.500000</td>\n      <td>1.071429</td>\n      <td>0.0</td>\n      <td>NaN</td>\n      <td>0.0</td>\n      <td>NaN</td>\n      <td>NaN</td>\n      <td>2.735620e+06</td>\n      <td>0.223684</td>\n      <td>0.223684</td>\n    </tr>\n    <tr>\n      <th>std</th>\n      <td>50383.605723</td>\n      <td>1.053232</td>\n      <td>1.053232</td>\n      <td>1273.942106</td>\n      <td>0.0</td>\n      <td>2432.947144</td>\n      <td>0.267261</td>\n      <td>0.0</td>\n      <td>NaN</td>\n      <td>0.0</td>\n      <td>NaN</td>\n      <td>NaN</td>\n      <td>1.922024e+06</td>\n      <td>1.053232</td>\n      <td>1.053232</td>\n    </tr>\n    <tr>\n      <th>min</th>\n      <td>187254.000000</td>\n      <td>0.000000</td>\n      <td>0.000000</td>\n      <td>2031.000000</td>\n      <td>2221.0</td>\n      <td>-2865.000000</td>\n      <td>1.000000</td>\n      <td>0.0</td>\n      <td>NaN</td>\n      <td>0.0</td>\n      <td>NaN</td>\n      <td>NaN</td>\n      <td>0.000000e+00</td>\n      <td>0.000000</td>\n      <td>0.000000</td>\n    </tr>\n    <tr>\n      <th>25%</th>\n      <td>187278.750000</td>\n      <td>0.000000</td>\n      <td>0.000000</td>\n      <td>2088.000000</td>\n      <td>2221.0</td>\n      <td>-2803.750000</td>\n      <td>1.000000</td>\n      <td>0.0</td>\n      <td>NaN</td>\n      <td>0.0</td>\n      <td>NaN</td>\n      <td>NaN</td>\n      <td>8.659250e+04</td>\n      <td>0.000000</td>\n      <td>0.000000</td>\n    </tr>\n    <tr>\n      <th>50%</th>\n      <td>187303.500000</td>\n      <td>0.000000</td>\n      <td>0.000000</td>\n      <td>3360.000000</td>\n      <td>2221.0</td>\n      <td>-2731.000000</td>\n      <td>1.000000</td>\n      <td>0.0</td>\n      <td>NaN</td>\n      <td>0.0</td>\n      <td>NaN</td>\n      <td>NaN</td>\n      <td>3.154243e+06</td>\n      <td>0.000000</td>\n      <td>0.000000</td>\n    </tr>\n    <tr>\n      <th>75%</th>\n      <td>187330.250000</td>\n      <td>0.000000</td>\n      <td>0.000000</td>\n      <td>3467.000000</td>\n      <td>2221.0</td>\n      <td>-1989.750000</td>\n      <td>1.000000</td>\n      <td>0.0</td>\n      <td>NaN</td>\n      <td>0.0</td>\n      <td>NaN</td>\n      <td>NaN</td>\n      <td>4.194644e+06</td>\n      <td>0.000000</td>\n      <td>0.000000</td>\n    </tr>\n    <tr>\n      <th>max</th>\n      <td>500054.000000</td>\n      <td>8.000000</td>\n      <td>8.000000</td>\n      <td>9586.000000</td>\n      <td>2221.0</td>\n      <td>2995.000000</td>\n      <td>2.000000</td>\n      <td>0.0</td>\n      <td>NaN</td>\n      <td>0.0</td>\n      <td>NaN</td>\n      <td>NaN</td>\n      <td>5.856045e+06</td>\n      <td>8.000000</td>\n      <td>8.000000</td>\n    </tr>\n  </tbody>\n</table>\n</div>"
     },
     "metadata": {},
     "execution_count": 58
    }
   ],
   "source": [
    "grades_df.describe()"
   ]
  },
  {
   "cell_type": "code",
   "execution_count": 60,
   "metadata": {},
   "outputs": [
    {
     "output_type": "execute_result",
     "data": {
      "text/plain": [
       "[<matplotlib.lines.Line2D at 0x21a6f9223a0>]"
      ]
     },
     "metadata": {},
     "execution_count": 60
    },
    {
     "output_type": "display_data",
     "data": {
      "text/plain": "<Figure size 432x288 with 1 Axes>",
      "image/svg+xml": "<?xml version=\"1.0\" encoding=\"utf-8\" standalone=\"no\"?>\r\n<!DOCTYPE svg PUBLIC \"-//W3C//DTD SVG 1.1//EN\"\r\n  \"http://www.w3.org/Graphics/SVG/1.1/DTD/svg11.dtd\">\r\n<!-- Created with matplotlib (https://matplotlib.org/) -->\r\n<svg height=\"248.518125pt\" version=\"1.1\" viewBox=\"0 0 372.103125 248.518125\" width=\"372.103125pt\" xmlns=\"http://www.w3.org/2000/svg\" xmlns:xlink=\"http://www.w3.org/1999/xlink\">\r\n <metadata>\r\n  <rdf:RDF xmlns:cc=\"http://creativecommons.org/ns#\" xmlns:dc=\"http://purl.org/dc/elements/1.1/\" xmlns:rdf=\"http://www.w3.org/1999/02/22-rdf-syntax-ns#\">\r\n   <cc:Work>\r\n    <dc:type rdf:resource=\"http://purl.org/dc/dcmitype/StillImage\"/>\r\n    <dc:date>2020-12-08T14:05:02.680993</dc:date>\r\n    <dc:format>image/svg+xml</dc:format>\r\n    <dc:creator>\r\n     <cc:Agent>\r\n      <dc:title>Matplotlib v3.3.3, https://matplotlib.org/</dc:title>\r\n     </cc:Agent>\r\n    </dc:creator>\r\n   </cc:Work>\r\n  </rdf:RDF>\r\n </metadata>\r\n <defs>\r\n  <style type=\"text/css\">*{stroke-linecap:butt;stroke-linejoin:round;}</style>\r\n </defs>\r\n <g id=\"figure_1\">\r\n  <g id=\"patch_1\">\r\n   <path d=\"M 0 248.518125 \r\nL 372.103125 248.518125 \r\nL 372.103125 0 \r\nL 0 0 \r\nz\r\n\" style=\"fill:none;\"/>\r\n  </g>\r\n  <g id=\"axes_1\">\r\n   <g id=\"patch_2\">\r\n    <path d=\"M 30.103125 224.64 \r\nL 364.903125 224.64 \r\nL 364.903125 7.2 \r\nL 30.103125 7.2 \r\nz\r\n\" style=\"fill:#ffffff;\"/>\r\n   </g>\r\n   <g id=\"matplotlib.axis_1\">\r\n    <g id=\"xtick_1\">\r\n     <g id=\"line2d_1\">\r\n      <defs>\r\n       <path d=\"M 0 0 \r\nL 0 3.5 \r\n\" id=\"meaadbcec31\" style=\"stroke:#000000;stroke-width:0.8;\"/>\r\n      </defs>\r\n      <g>\r\n       <use style=\"stroke:#000000;stroke-width:0.8;\" x=\"49.847479\" xlink:href=\"#meaadbcec31\" y=\"224.64\"/>\r\n      </g>\r\n     </g>\r\n     <g id=\"text_1\">\r\n      <!-- 2020-10-01 -->\r\n      <g transform=\"translate(20.789667 239.238437)scale(0.1 -0.1)\">\r\n       <defs>\r\n        <path d=\"M 19.1875 8.296875 \r\nL 53.609375 8.296875 \r\nL 53.609375 0 \r\nL 7.328125 0 \r\nL 7.328125 8.296875 \r\nQ 12.9375 14.109375 22.625 23.890625 \r\nQ 32.328125 33.6875 34.8125 36.53125 \r\nQ 39.546875 41.84375 41.421875 45.53125 \r\nQ 43.3125 49.21875 43.3125 52.78125 \r\nQ 43.3125 58.59375 39.234375 62.25 \r\nQ 35.15625 65.921875 28.609375 65.921875 \r\nQ 23.96875 65.921875 18.8125 64.3125 \r\nQ 13.671875 62.703125 7.8125 59.421875 \r\nL 7.8125 69.390625 \r\nQ 13.765625 71.78125 18.9375 73 \r\nQ 24.125 74.21875 28.421875 74.21875 \r\nQ 39.75 74.21875 46.484375 68.546875 \r\nQ 53.21875 62.890625 53.21875 53.421875 \r\nQ 53.21875 48.921875 51.53125 44.890625 \r\nQ 49.859375 40.875 45.40625 35.40625 \r\nQ 44.1875 33.984375 37.640625 27.21875 \r\nQ 31.109375 20.453125 19.1875 8.296875 \r\nz\r\n\" id=\"DejaVuSans-50\"/>\r\n        <path d=\"M 31.78125 66.40625 \r\nQ 24.171875 66.40625 20.328125 58.90625 \r\nQ 16.5 51.421875 16.5 36.375 \r\nQ 16.5 21.390625 20.328125 13.890625 \r\nQ 24.171875 6.390625 31.78125 6.390625 \r\nQ 39.453125 6.390625 43.28125 13.890625 \r\nQ 47.125 21.390625 47.125 36.375 \r\nQ 47.125 51.421875 43.28125 58.90625 \r\nQ 39.453125 66.40625 31.78125 66.40625 \r\nz\r\nM 31.78125 74.21875 \r\nQ 44.046875 74.21875 50.515625 64.515625 \r\nQ 56.984375 54.828125 56.984375 36.375 \r\nQ 56.984375 17.96875 50.515625 8.265625 \r\nQ 44.046875 -1.421875 31.78125 -1.421875 \r\nQ 19.53125 -1.421875 13.0625 8.265625 \r\nQ 6.59375 17.96875 6.59375 36.375 \r\nQ 6.59375 54.828125 13.0625 64.515625 \r\nQ 19.53125 74.21875 31.78125 74.21875 \r\nz\r\n\" id=\"DejaVuSans-48\"/>\r\n        <path d=\"M 4.890625 31.390625 \r\nL 31.203125 31.390625 \r\nL 31.203125 23.390625 \r\nL 4.890625 23.390625 \r\nz\r\n\" id=\"DejaVuSans-45\"/>\r\n        <path d=\"M 12.40625 8.296875 \r\nL 28.515625 8.296875 \r\nL 28.515625 63.921875 \r\nL 10.984375 60.40625 \r\nL 10.984375 69.390625 \r\nL 28.421875 72.90625 \r\nL 38.28125 72.90625 \r\nL 38.28125 8.296875 \r\nL 54.390625 8.296875 \r\nL 54.390625 0 \r\nL 12.40625 0 \r\nz\r\n\" id=\"DejaVuSans-49\"/>\r\n       </defs>\r\n       <use xlink:href=\"#DejaVuSans-50\"/>\r\n       <use x=\"63.623047\" xlink:href=\"#DejaVuSans-48\"/>\r\n       <use x=\"127.246094\" xlink:href=\"#DejaVuSans-50\"/>\r\n       <use x=\"190.869141\" xlink:href=\"#DejaVuSans-48\"/>\r\n       <use x=\"254.492188\" xlink:href=\"#DejaVuSans-45\"/>\r\n       <use x=\"290.576172\" xlink:href=\"#DejaVuSans-49\"/>\r\n       <use x=\"354.199219\" xlink:href=\"#DejaVuSans-48\"/>\r\n       <use x=\"417.822266\" xlink:href=\"#DejaVuSans-45\"/>\r\n       <use x=\"453.90625\" xlink:href=\"#DejaVuSans-48\"/>\r\n       <use x=\"517.529297\" xlink:href=\"#DejaVuSans-49\"/>\r\n      </g>\r\n     </g>\r\n    </g>\r\n    <g id=\"xtick_2\">\r\n     <g id=\"line2d_2\">\r\n      <g>\r\n       <use style=\"stroke:#000000;stroke-width:0.8;\" x=\"112.173681\" xlink:href=\"#meaadbcec31\" y=\"224.64\"/>\r\n      </g>\r\n     </g>\r\n     <g id=\"text_2\">\r\n      <!-- 2020-10-15 -->\r\n      <g transform=\"translate(83.115868 239.238437)scale(0.1 -0.1)\">\r\n       <defs>\r\n        <path d=\"M 10.796875 72.90625 \r\nL 49.515625 72.90625 \r\nL 49.515625 64.59375 \r\nL 19.828125 64.59375 \r\nL 19.828125 46.734375 \r\nQ 21.96875 47.46875 24.109375 47.828125 \r\nQ 26.265625 48.1875 28.421875 48.1875 \r\nQ 40.625 48.1875 47.75 41.5 \r\nQ 54.890625 34.8125 54.890625 23.390625 \r\nQ 54.890625 11.625 47.5625 5.09375 \r\nQ 40.234375 -1.421875 26.90625 -1.421875 \r\nQ 22.3125 -1.421875 17.546875 -0.640625 \r\nQ 12.796875 0.140625 7.71875 1.703125 \r\nL 7.71875 11.625 \r\nQ 12.109375 9.234375 16.796875 8.0625 \r\nQ 21.484375 6.890625 26.703125 6.890625 \r\nQ 35.15625 6.890625 40.078125 11.328125 \r\nQ 45.015625 15.765625 45.015625 23.390625 \r\nQ 45.015625 31 40.078125 35.4375 \r\nQ 35.15625 39.890625 26.703125 39.890625 \r\nQ 22.75 39.890625 18.8125 39.015625 \r\nQ 14.890625 38.140625 10.796875 36.28125 \r\nz\r\n\" id=\"DejaVuSans-53\"/>\r\n       </defs>\r\n       <use xlink:href=\"#DejaVuSans-50\"/>\r\n       <use x=\"63.623047\" xlink:href=\"#DejaVuSans-48\"/>\r\n       <use x=\"127.246094\" xlink:href=\"#DejaVuSans-50\"/>\r\n       <use x=\"190.869141\" xlink:href=\"#DejaVuSans-48\"/>\r\n       <use x=\"254.492188\" xlink:href=\"#DejaVuSans-45\"/>\r\n       <use x=\"290.576172\" xlink:href=\"#DejaVuSans-49\"/>\r\n       <use x=\"354.199219\" xlink:href=\"#DejaVuSans-48\"/>\r\n       <use x=\"417.822266\" xlink:href=\"#DejaVuSans-45\"/>\r\n       <use x=\"453.90625\" xlink:href=\"#DejaVuSans-49\"/>\r\n       <use x=\"517.529297\" xlink:href=\"#DejaVuSans-53\"/>\r\n      </g>\r\n     </g>\r\n    </g>\r\n    <g id=\"xtick_3\">\r\n     <g id=\"line2d_3\">\r\n      <g>\r\n       <use style=\"stroke:#000000;stroke-width:0.8;\" x=\"187.855497\" xlink:href=\"#meaadbcec31\" y=\"224.64\"/>\r\n      </g>\r\n     </g>\r\n     <g id=\"text_3\">\r\n      <!-- 2020-11-01 -->\r\n      <g transform=\"translate(158.797684 239.238437)scale(0.1 -0.1)\">\r\n       <use xlink:href=\"#DejaVuSans-50\"/>\r\n       <use x=\"63.623047\" xlink:href=\"#DejaVuSans-48\"/>\r\n       <use x=\"127.246094\" xlink:href=\"#DejaVuSans-50\"/>\r\n       <use x=\"190.869141\" xlink:href=\"#DejaVuSans-48\"/>\r\n       <use x=\"254.492188\" xlink:href=\"#DejaVuSans-45\"/>\r\n       <use x=\"290.576172\" xlink:href=\"#DejaVuSans-49\"/>\r\n       <use x=\"354.199219\" xlink:href=\"#DejaVuSans-49\"/>\r\n       <use x=\"417.822266\" xlink:href=\"#DejaVuSans-45\"/>\r\n       <use x=\"453.90625\" xlink:href=\"#DejaVuSans-48\"/>\r\n       <use x=\"517.529297\" xlink:href=\"#DejaVuSans-49\"/>\r\n      </g>\r\n     </g>\r\n    </g>\r\n    <g id=\"xtick_4\">\r\n     <g id=\"line2d_4\">\r\n      <g>\r\n       <use style=\"stroke:#000000;stroke-width:0.8;\" x=\"250.181698\" xlink:href=\"#meaadbcec31\" y=\"224.64\"/>\r\n      </g>\r\n     </g>\r\n     <g id=\"text_4\">\r\n      <!-- 2020-11-15 -->\r\n      <g transform=\"translate(221.123886 239.238437)scale(0.1 -0.1)\">\r\n       <use xlink:href=\"#DejaVuSans-50\"/>\r\n       <use x=\"63.623047\" xlink:href=\"#DejaVuSans-48\"/>\r\n       <use x=\"127.246094\" xlink:href=\"#DejaVuSans-50\"/>\r\n       <use x=\"190.869141\" xlink:href=\"#DejaVuSans-48\"/>\r\n       <use x=\"254.492188\" xlink:href=\"#DejaVuSans-45\"/>\r\n       <use x=\"290.576172\" xlink:href=\"#DejaVuSans-49\"/>\r\n       <use x=\"354.199219\" xlink:href=\"#DejaVuSans-49\"/>\r\n       <use x=\"417.822266\" xlink:href=\"#DejaVuSans-45\"/>\r\n       <use x=\"453.90625\" xlink:href=\"#DejaVuSans-49\"/>\r\n       <use x=\"517.529297\" xlink:href=\"#DejaVuSans-53\"/>\r\n      </g>\r\n     </g>\r\n    </g>\r\n    <g id=\"xtick_5\">\r\n     <g id=\"line2d_5\">\r\n      <g>\r\n       <use style=\"stroke:#000000;stroke-width:0.8;\" x=\"321.411643\" xlink:href=\"#meaadbcec31\" y=\"224.64\"/>\r\n      </g>\r\n     </g>\r\n     <g id=\"text_5\">\r\n      <!-- 2020-12-01 -->\r\n      <g transform=\"translate(292.35383 239.238437)scale(0.1 -0.1)\">\r\n       <use xlink:href=\"#DejaVuSans-50\"/>\r\n       <use x=\"63.623047\" xlink:href=\"#DejaVuSans-48\"/>\r\n       <use x=\"127.246094\" xlink:href=\"#DejaVuSans-50\"/>\r\n       <use x=\"190.869141\" xlink:href=\"#DejaVuSans-48\"/>\r\n       <use x=\"254.492188\" xlink:href=\"#DejaVuSans-45\"/>\r\n       <use x=\"290.576172\" xlink:href=\"#DejaVuSans-49\"/>\r\n       <use x=\"354.199219\" xlink:href=\"#DejaVuSans-50\"/>\r\n       <use x=\"417.822266\" xlink:href=\"#DejaVuSans-45\"/>\r\n       <use x=\"453.90625\" xlink:href=\"#DejaVuSans-48\"/>\r\n       <use x=\"517.529297\" xlink:href=\"#DejaVuSans-49\"/>\r\n      </g>\r\n     </g>\r\n    </g>\r\n   </g>\r\n   <g id=\"matplotlib.axis_2\">\r\n    <g id=\"ytick_1\">\r\n     <g id=\"line2d_6\">\r\n      <defs>\r\n       <path d=\"M 0 0 \r\nL -3.5 0 \r\n\" id=\"m90cc3d2a2d\" style=\"stroke:#000000;stroke-width:0.8;\"/>\r\n      </defs>\r\n      <g>\r\n       <use style=\"stroke:#000000;stroke-width:0.8;\" x=\"30.103125\" xlink:href=\"#m90cc3d2a2d\" y=\"214.756364\"/>\r\n      </g>\r\n     </g>\r\n     <g id=\"text_6\">\r\n      <!-- 0.0 -->\r\n      <g transform=\"translate(7.2 218.555582)scale(0.1 -0.1)\">\r\n       <defs>\r\n        <path d=\"M 10.6875 12.40625 \r\nL 21 12.40625 \r\nL 21 0 \r\nL 10.6875 0 \r\nz\r\n\" id=\"DejaVuSans-46\"/>\r\n       </defs>\r\n       <use xlink:href=\"#DejaVuSans-48\"/>\r\n       <use x=\"63.623047\" xlink:href=\"#DejaVuSans-46\"/>\r\n       <use x=\"95.410156\" xlink:href=\"#DejaVuSans-48\"/>\r\n      </g>\r\n     </g>\r\n    </g>\r\n    <g id=\"ytick_2\">\r\n     <g id=\"line2d_7\">\r\n      <g>\r\n       <use style=\"stroke:#000000;stroke-width:0.8;\" x=\"30.103125\" xlink:href=\"#m90cc3d2a2d\" y=\"175.221818\"/>\r\n      </g>\r\n     </g>\r\n     <g id=\"text_7\">\r\n      <!-- 0.2 -->\r\n      <g transform=\"translate(7.2 179.021037)scale(0.1 -0.1)\">\r\n       <use xlink:href=\"#DejaVuSans-48\"/>\r\n       <use x=\"63.623047\" xlink:href=\"#DejaVuSans-46\"/>\r\n       <use x=\"95.410156\" xlink:href=\"#DejaVuSans-50\"/>\r\n      </g>\r\n     </g>\r\n    </g>\r\n    <g id=\"ytick_3\">\r\n     <g id=\"line2d_8\">\r\n      <g>\r\n       <use style=\"stroke:#000000;stroke-width:0.8;\" x=\"30.103125\" xlink:href=\"#m90cc3d2a2d\" y=\"135.687273\"/>\r\n      </g>\r\n     </g>\r\n     <g id=\"text_8\">\r\n      <!-- 0.4 -->\r\n      <g transform=\"translate(7.2 139.486491)scale(0.1 -0.1)\">\r\n       <defs>\r\n        <path d=\"M 37.796875 64.3125 \r\nL 12.890625 25.390625 \r\nL 37.796875 25.390625 \r\nz\r\nM 35.203125 72.90625 \r\nL 47.609375 72.90625 \r\nL 47.609375 25.390625 \r\nL 58.015625 25.390625 \r\nL 58.015625 17.1875 \r\nL 47.609375 17.1875 \r\nL 47.609375 0 \r\nL 37.796875 0 \r\nL 37.796875 17.1875 \r\nL 4.890625 17.1875 \r\nL 4.890625 26.703125 \r\nz\r\n\" id=\"DejaVuSans-52\"/>\r\n       </defs>\r\n       <use xlink:href=\"#DejaVuSans-48\"/>\r\n       <use x=\"63.623047\" xlink:href=\"#DejaVuSans-46\"/>\r\n       <use x=\"95.410156\" xlink:href=\"#DejaVuSans-52\"/>\r\n      </g>\r\n     </g>\r\n    </g>\r\n    <g id=\"ytick_4\">\r\n     <g id=\"line2d_9\">\r\n      <g>\r\n       <use style=\"stroke:#000000;stroke-width:0.8;\" x=\"30.103125\" xlink:href=\"#m90cc3d2a2d\" y=\"96.152727\"/>\r\n      </g>\r\n     </g>\r\n     <g id=\"text_9\">\r\n      <!-- 0.6 -->\r\n      <g transform=\"translate(7.2 99.951946)scale(0.1 -0.1)\">\r\n       <defs>\r\n        <path d=\"M 33.015625 40.375 \r\nQ 26.375 40.375 22.484375 35.828125 \r\nQ 18.609375 31.296875 18.609375 23.390625 \r\nQ 18.609375 15.53125 22.484375 10.953125 \r\nQ 26.375 6.390625 33.015625 6.390625 \r\nQ 39.65625 6.390625 43.53125 10.953125 \r\nQ 47.40625 15.53125 47.40625 23.390625 \r\nQ 47.40625 31.296875 43.53125 35.828125 \r\nQ 39.65625 40.375 33.015625 40.375 \r\nz\r\nM 52.59375 71.296875 \r\nL 52.59375 62.3125 \r\nQ 48.875 64.0625 45.09375 64.984375 \r\nQ 41.3125 65.921875 37.59375 65.921875 \r\nQ 27.828125 65.921875 22.671875 59.328125 \r\nQ 17.53125 52.734375 16.796875 39.40625 \r\nQ 19.671875 43.65625 24.015625 45.921875 \r\nQ 28.375 48.1875 33.59375 48.1875 \r\nQ 44.578125 48.1875 50.953125 41.515625 \r\nQ 57.328125 34.859375 57.328125 23.390625 \r\nQ 57.328125 12.15625 50.6875 5.359375 \r\nQ 44.046875 -1.421875 33.015625 -1.421875 \r\nQ 20.359375 -1.421875 13.671875 8.265625 \r\nQ 6.984375 17.96875 6.984375 36.375 \r\nQ 6.984375 53.65625 15.1875 63.9375 \r\nQ 23.390625 74.21875 37.203125 74.21875 \r\nQ 40.921875 74.21875 44.703125 73.484375 \r\nQ 48.484375 72.75 52.59375 71.296875 \r\nz\r\n\" id=\"DejaVuSans-54\"/>\r\n       </defs>\r\n       <use xlink:href=\"#DejaVuSans-48\"/>\r\n       <use x=\"63.623047\" xlink:href=\"#DejaVuSans-46\"/>\r\n       <use x=\"95.410156\" xlink:href=\"#DejaVuSans-54\"/>\r\n      </g>\r\n     </g>\r\n    </g>\r\n    <g id=\"ytick_5\">\r\n     <g id=\"line2d_10\">\r\n      <g>\r\n       <use style=\"stroke:#000000;stroke-width:0.8;\" x=\"30.103125\" xlink:href=\"#m90cc3d2a2d\" y=\"56.618182\"/>\r\n      </g>\r\n     </g>\r\n     <g id=\"text_10\">\r\n      <!-- 0.8 -->\r\n      <g transform=\"translate(7.2 60.417401)scale(0.1 -0.1)\">\r\n       <defs>\r\n        <path d=\"M 31.78125 34.625 \r\nQ 24.75 34.625 20.71875 30.859375 \r\nQ 16.703125 27.09375 16.703125 20.515625 \r\nQ 16.703125 13.921875 20.71875 10.15625 \r\nQ 24.75 6.390625 31.78125 6.390625 \r\nQ 38.8125 6.390625 42.859375 10.171875 \r\nQ 46.921875 13.96875 46.921875 20.515625 \r\nQ 46.921875 27.09375 42.890625 30.859375 \r\nQ 38.875 34.625 31.78125 34.625 \r\nz\r\nM 21.921875 38.8125 \r\nQ 15.578125 40.375 12.03125 44.71875 \r\nQ 8.5 49.078125 8.5 55.328125 \r\nQ 8.5 64.0625 14.71875 69.140625 \r\nQ 20.953125 74.21875 31.78125 74.21875 \r\nQ 42.671875 74.21875 48.875 69.140625 \r\nQ 55.078125 64.0625 55.078125 55.328125 \r\nQ 55.078125 49.078125 51.53125 44.71875 \r\nQ 48 40.375 41.703125 38.8125 \r\nQ 48.828125 37.15625 52.796875 32.3125 \r\nQ 56.78125 27.484375 56.78125 20.515625 \r\nQ 56.78125 9.90625 50.3125 4.234375 \r\nQ 43.84375 -1.421875 31.78125 -1.421875 \r\nQ 19.734375 -1.421875 13.25 4.234375 \r\nQ 6.78125 9.90625 6.78125 20.515625 \r\nQ 6.78125 27.484375 10.78125 32.3125 \r\nQ 14.796875 37.15625 21.921875 38.8125 \r\nz\r\nM 18.3125 54.390625 \r\nQ 18.3125 48.734375 21.84375 45.5625 \r\nQ 25.390625 42.390625 31.78125 42.390625 \r\nQ 38.140625 42.390625 41.71875 45.5625 \r\nQ 45.3125 48.734375 45.3125 54.390625 \r\nQ 45.3125 60.0625 41.71875 63.234375 \r\nQ 38.140625 66.40625 31.78125 66.40625 \r\nQ 25.390625 66.40625 21.84375 63.234375 \r\nQ 18.3125 60.0625 18.3125 54.390625 \r\nz\r\n\" id=\"DejaVuSans-56\"/>\r\n       </defs>\r\n       <use xlink:href=\"#DejaVuSans-48\"/>\r\n       <use x=\"63.623047\" xlink:href=\"#DejaVuSans-46\"/>\r\n       <use x=\"95.410156\" xlink:href=\"#DejaVuSans-56\"/>\r\n      </g>\r\n     </g>\r\n    </g>\r\n    <g id=\"ytick_6\">\r\n     <g id=\"line2d_11\">\r\n      <g>\r\n       <use style=\"stroke:#000000;stroke-width:0.8;\" x=\"30.103125\" xlink:href=\"#m90cc3d2a2d\" y=\"17.083636\"/>\r\n      </g>\r\n     </g>\r\n     <g id=\"text_11\">\r\n      <!-- 1.0 -->\r\n      <g transform=\"translate(7.2 20.882855)scale(0.1 -0.1)\">\r\n       <use xlink:href=\"#DejaVuSans-49\"/>\r\n       <use x=\"63.623047\" xlink:href=\"#DejaVuSans-46\"/>\r\n       <use x=\"95.410156\" xlink:href=\"#DejaVuSans-48\"/>\r\n      </g>\r\n     </g>\r\n    </g>\r\n   </g>\r\n   <g id=\"line2d_12\">\r\n    <path clip-path=\"url(#p0630eb62cc)\" d=\"M 349.684943 17.083636 \r\nL 331.851642 17.083636 \r\nL 273.015574 214.756364 \r\nL 272.978887 214.756364 \r\nL 229.496211 17.083636 \r\nL 227.630135 214.756364 \r\nL 211.671361 17.083636 \r\nL 211.671361 17.083636 \r\nL 211.671361 17.083636 \r\nL 211.671361 17.083636 \r\nL 211.671309 17.083636 \r\nL 207.177083 17.083636 \r\nL 207.177083 17.083636 \r\nL 207.177083 17.083636 \r\nL 206.141302 17.083636 \r\nL 198.271073 17.083636 \r\nL 197.286096 17.083636 \r\nL 194.031696 17.083636 \r\nL 194.031696 17.083636 \r\nL 193.817346 17.083636 \r\nL 193.817346 17.083636 \r\nL 193.817346 17.083636 \r\nL 179.241744 17.083636 \r\nL 175.930252 17.083636 \r\nL 175.930252 17.083636 \r\nL 175.930201 17.083636 \r\nL 175.930201 17.083636 \r\nL 174.47618 214.756364 \r\nL 166.959525 17.083636 \r\nL 166.959525 17.083636 \r\nL 166.959525 17.083636 \r\nL 166.959525 17.083636 \r\nL 149.112827 17.083636 \r\nL 149.112827 17.083636 \r\nL 149.112827 17.083636 \r\nL 149.112776 17.083636 \r\nL 149.112776 17.083636 \r\nL 143.628729 17.083636 \r\nL 140.286683 17.083636 \r\nL 140.286631 17.083636 \r\nL 140.286631 17.083636 \r\nL 135.769321 17.083636 \r\nL 135.769321 17.083636 \r\nL 134.35276 214.756364 \r\nL 131.328167 17.083636 \r\nL 131.328167 17.083636 \r\nL 131.328167 17.083636 \r\nL 116.94383 17.083636 \r\nL 113.482242 17.083636 \r\nL 113.482088 17.083636 \r\nL 113.482088 17.083636 \r\nL 112.573061 214.756364 \r\nL 112.569918 214.756364 \r\nL 104.574996 17.083636 \r\nL 104.574996 17.083636 \r\nL 103.559103 214.756364 \r\nL 103.314147 214.756364 \r\nL 86.870614 17.083636 \r\nL 86.870614 17.083636 \r\nL 86.870614 17.083636 \r\nL 86.870614 17.083636 \r\nL 85.765065 214.756364 \r\nL 77.879379 17.083636 \r\nL 77.879379 17.083636 \r\nL 77.879276 17.083636 \r\nL 68.976357 17.083636 \r\nL 68.976357 17.083636 \r\nL 67.837111 214.756364 \r\nL 54.614949 17.083636 \r\nL 54.151831 214.756364 \r\nL 53.979476 17.083636 \r\nL 53.975147 17.083636 \r\nL 51.173921 17.083636 \r\nL 51.173921 17.083636 \r\nL 49.809762 214.756364 \r\nL 45.321307 214.756364 \r\n\" style=\"fill:none;stroke:#1f77b4;stroke-linecap:square;stroke-width:1.5;\"/>\r\n   </g>\r\n   <g id=\"patch_3\">\r\n    <path d=\"M 30.103125 224.64 \r\nL 30.103125 7.2 \r\n\" style=\"fill:none;stroke:#000000;stroke-linecap:square;stroke-linejoin:miter;stroke-width:0.8;\"/>\r\n   </g>\r\n   <g id=\"patch_4\">\r\n    <path d=\"M 364.903125 224.64 \r\nL 364.903125 7.2 \r\n\" style=\"fill:none;stroke:#000000;stroke-linecap:square;stroke-linejoin:miter;stroke-width:0.8;\"/>\r\n   </g>\r\n   <g id=\"patch_5\">\r\n    <path d=\"M 30.103125 224.64 \r\nL 364.903125 224.64 \r\n\" style=\"fill:none;stroke:#000000;stroke-linecap:square;stroke-linejoin:miter;stroke-width:0.8;\"/>\r\n   </g>\r\n   <g id=\"patch_6\">\r\n    <path d=\"M 30.103125 7.2 \r\nL 364.903125 7.2 \r\n\" style=\"fill:none;stroke:#000000;stroke-linecap:square;stroke-linejoin:miter;stroke-width:0.8;\"/>\r\n   </g>\r\n  </g>\r\n </g>\r\n <defs>\r\n  <clipPath id=\"p0630eb62cc\">\r\n   <rect height=\"217.44\" width=\"334.8\" x=\"30.103125\" y=\"7.2\"/>\r\n  </clipPath>\r\n </defs>\r\n</svg>\r\n",
      "image/png": "[encoded data removed]"
     },
     "metadata": {
      "needs_background": "light"
     }
    }
   ],
   "source": [
    "plt.plot(grades_df['graded_at'], grades_df['submitted_at'].isna())"
   ]
  },
  {
   "cell_type": "code",
   "execution_count": 5,
   "metadata": {},
   "outputs": [],
   "source": [
    "r2 = requests.get('https://lambdaschool.instructure.com/api/v1'\n",
    "'/users/168550000000002221/missing_submissions', headers=headers)"
   ]
  },
  {
   "cell_type": "code",
   "execution_count": 6,
   "metadata": {},
   "outputs": [],
   "source": [
    "data_set2 = []"
   ]
  },
  {
   "cell_type": "code",
   "execution_count": 7,
   "metadata": {},
   "outputs": [],
   "source": [
    "raw = r2.json()\n",
    "\n",
    "for submission in raw:\n",
    "    data_set2.append(submission)"
   ]
  },
  {
   "cell_type": "code",
   "execution_count": 8,
   "metadata": {},
   "outputs": [
    {
     "output_type": "error",
     "ename": "NameError",
     "evalue": "name 'r' is not defined",
     "traceback": [
      "\u001b[1;31m---------------------------------------------------------------------------\u001b[0m",
      "\u001b[1;31mNameError\u001b[0m                                 Traceback (most recent call last)",
      "\u001b[1;32m<ipython-input-8-e3d97d841a83>\u001b[0m in \u001b[0;36m<module>\u001b[1;34m\u001b[0m\n\u001b[1;32m----> 1\u001b[1;33m \u001b[1;32mwhile\u001b[0m \u001b[0mr\u001b[0m\u001b[1;33m.\u001b[0m\u001b[0mlinks\u001b[0m\u001b[1;33m[\u001b[0m\u001b[1;34m'current'\u001b[0m\u001b[1;33m]\u001b[0m\u001b[1;33m[\u001b[0m\u001b[1;34m'url'\u001b[0m\u001b[1;33m]\u001b[0m\u001b[1;33m!=\u001b[0m\u001b[0mr\u001b[0m\u001b[1;33m.\u001b[0m\u001b[0mlinks\u001b[0m\u001b[1;33m[\u001b[0m\u001b[1;34m'last'\u001b[0m\u001b[1;33m]\u001b[0m\u001b[1;33m[\u001b[0m\u001b[1;34m'url'\u001b[0m\u001b[1;33m]\u001b[0m\u001b[1;33m:\u001b[0m\u001b[1;33m\u001b[0m\u001b[1;33m\u001b[0m\u001b[0m\n\u001b[0m\u001b[0;32m      2\u001b[0m     \u001b[0mr\u001b[0m \u001b[1;33m=\u001b[0m \u001b[0mrequests\u001b[0m\u001b[1;33m.\u001b[0m\u001b[0mget\u001b[0m\u001b[1;33m(\u001b[0m\u001b[0mr\u001b[0m\u001b[1;33m.\u001b[0m\u001b[0mlinks\u001b[0m\u001b[1;33m[\u001b[0m\u001b[1;34m'next'\u001b[0m\u001b[1;33m]\u001b[0m\u001b[1;33m[\u001b[0m\u001b[1;34m'url'\u001b[0m\u001b[1;33m]\u001b[0m\u001b[1;33m,\u001b[0m \u001b[0mheaders\u001b[0m\u001b[1;33m=\u001b[0m\u001b[0mheaders\u001b[0m\u001b[1;33m)\u001b[0m\u001b[1;33m\u001b[0m\u001b[1;33m\u001b[0m\u001b[0m\n\u001b[0;32m      3\u001b[0m \u001b[1;33m\u001b[0m\u001b[0m\n\u001b[0;32m      4\u001b[0m     \u001b[0mraw\u001b[0m \u001b[1;33m=\u001b[0m \u001b[0mr\u001b[0m\u001b[1;33m.\u001b[0m\u001b[0mjson\u001b[0m\u001b[1;33m(\u001b[0m\u001b[1;33m)\u001b[0m\u001b[1;33m\u001b[0m\u001b[1;33m\u001b[0m\u001b[0m\n\u001b[0;32m      5\u001b[0m     \u001b[1;32mfor\u001b[0m \u001b[0msubmission\u001b[0m \u001b[1;32min\u001b[0m \u001b[0mraw\u001b[0m\u001b[1;33m:\u001b[0m\u001b[1;33m\u001b[0m\u001b[1;33m\u001b[0m\u001b[0m\n",
      "\u001b[1;31mNameError\u001b[0m: name 'r' is not defined"
     ]
    }
   ],
   "source": [
    "if \"last\" in r2.links.keys():\n",
    "    while r2.links['current']['url']!=r2.links['last']['url']:\n",
    "        r2 = requests.get(r2.links['next']['url'], headers=headers)\n",
    "\n",
    "        raw = r2.json()\n",
    "        for submission in raw:\n",
    "            data_set.append(submission)\n",
    "else:\n",
    "    r2 = requests.get(r2.links['next']['url'])\n",
    "    raw = r2.json()\n",
    "    for submission in raw:\n",
    "        data_set.append(submission)"
   ]
  },
  {
   "cell_type": "code",
   "execution_count": 65,
   "metadata": {},
   "outputs": [],
   "source": [
    "import json\n",
    "with open(\"missing_subs.json\", \"w\") as outfile:\n",
    "    json.dump(data_set, outfile)"
   ]
  },
  {
   "cell_type": "code",
   "execution_count": 66,
   "metadata": {},
   "outputs": [
    {
     "output_type": "execute_result",
     "data": {
      "text/plain": [
       "                  id      grade      score  assignment_id  user_id  \\\n",
       "count      97.000000  76.000000  76.000000      76.000000     76.0   \n",
       "mean   154147.360825   0.223684   0.223684    3015.434211   2221.0   \n",
       "std     90814.185487   1.053232   1.053232    1273.942106      0.0   \n",
       "min      3348.000000   0.000000   0.000000    2031.000000   2221.0   \n",
       "25%    187260.000000   0.000000   0.000000    2088.000000   2221.0   \n",
       "50%    187291.000000   0.000000   0.000000    3360.000000   2221.0   \n",
       "75%    187323.000000   0.000000   0.000000    3467.000000   2221.0   \n",
       "max    500054.000000   8.000000   8.000000    9586.000000   2221.0   \n",
       "\n",
       "       grade_matches_current_submission    grader_id    attempt  excused  \\\n",
       "count                              76.0    14.000000  14.000000      3.0   \n",
       "mean                                1.0 -1465.500000   1.071429      0.0   \n",
       "std                                 0.0  2432.947144   0.267261      0.0   \n",
       "min                                 1.0 -2865.000000   1.000000      0.0   \n",
       "25%                                 1.0 -2803.750000   1.000000      0.0   \n",
       "50%                                 1.0 -2731.000000   1.000000      0.0   \n",
       "75%                                 1.0 -1989.750000   1.000000      0.0   \n",
       "max                                 1.0  2995.000000   2.000000      0.0   \n",
       "\n",
       "       late_policy_status  points_deducted  grading_period_id  extra_attempts  \\\n",
       "count                 0.0              4.0                0.0             0.0   \n",
       "mean                  NaN              0.0                NaN             NaN   \n",
       "std                   NaN              0.0                NaN             NaN   \n",
       "min                   NaN              0.0                NaN             NaN   \n",
       "25%                   NaN              0.0                NaN             NaN   \n",
       "50%                   NaN              0.0                NaN             NaN   \n",
       "75%                   NaN              0.0                NaN             NaN   \n",
       "max                   NaN              0.0                NaN             NaN   \n",
       "\n",
       "            late    missing  seconds_late  entered_grade  entered_score  \\\n",
       "count  76.000000  76.000000  7.600000e+01      76.000000      76.000000   \n",
       "mean    0.052632   0.723684  2.735620e+06       0.223684       0.223684   \n",
       "std     0.224781   0.450146  1.922024e+06       1.053232       1.053232   \n",
       "min     0.000000   0.000000  0.000000e+00       0.000000       0.000000   \n",
       "25%     0.000000   0.000000  8.659250e+04       0.000000       0.000000   \n",
       "50%     0.000000   1.000000  3.154243e+06       0.000000       0.000000   \n",
       "75%     0.000000   1.000000  4.194644e+06       0.000000       0.000000   \n",
       "max     1.000000   1.000000  5.856045e+06       8.000000       8.000000   \n",
       "\n",
       "       points_possible  assignment_group_id  grading_standard_id  \\\n",
       "count        21.000000            21.000000                  0.0   \n",
       "mean          1.190476          1031.380952                  NaN   \n",
       "std           3.249908           845.876497                  NaN   \n",
       "min           0.000000           642.000000                  NaN   \n",
       "25%           0.000000           642.000000                  NaN   \n",
       "50%           0.000000           642.000000                  NaN   \n",
       "75%           1.000000           647.000000                  NaN   \n",
       "max          15.000000          3170.000000                  NaN   \n",
       "\n",
       "       peer_reviews  automatic_peer_reviews   position  \\\n",
       "count          21.0                    21.0  21.000000   \n",
       "mean            0.0                     0.0   6.809524   \n",
       "std             0.0                     0.0   5.510164   \n",
       "min             0.0                     0.0   1.000000   \n",
       "25%             0.0                     0.0   3.000000   \n",
       "50%             0.0                     0.0   5.000000   \n",
       "75%             0.0                     0.0  10.000000   \n",
       "max             0.0                     0.0  24.000000   \n",
       "\n",
       "       grade_group_students_individually  anonymous_peer_reviews  \\\n",
       "count                               21.0                    21.0   \n",
       "mean                                 0.0                     0.0   \n",
       "std                                  0.0                     0.0   \n",
       "min                                  0.0                     0.0   \n",
       "25%                                  0.0                     0.0   \n",
       "50%                                  0.0                     0.0   \n",
       "75%                                  0.0                     0.0   \n",
       "max                                  0.0                     0.0   \n",
       "\n",
       "       group_category_id  post_to_sis  moderated_grading  \\\n",
       "count                0.0         21.0               21.0   \n",
       "mean                 NaN          0.0                0.0   \n",
       "std                  NaN          0.0                0.0   \n",
       "min                  NaN          0.0                0.0   \n",
       "25%                  NaN          0.0                0.0   \n",
       "50%                  NaN          0.0                0.0   \n",
       "75%                  NaN          0.0                0.0   \n",
       "max                  NaN          0.0                0.0   \n",
       "\n",
       "       omit_from_final_grade  intra_group_peer_reviews  \\\n",
       "count                   21.0                      21.0   \n",
       "mean                     0.0                       0.0   \n",
       "std                      0.0                       0.0   \n",
       "min                      0.0                       0.0   \n",
       "25%                      0.0                       0.0   \n",
       "50%                      0.0                       0.0   \n",
       "75%                      0.0                       0.0   \n",
       "max                      0.0                       0.0   \n",
       "\n",
       "       anonymous_instructor_annotations  anonymous_grading  \\\n",
       "count                              21.0               21.0   \n",
       "mean                                0.0                0.0   \n",
       "std                                 0.0                0.0   \n",
       "min                                 0.0                0.0   \n",
       "25%                                 0.0                0.0   \n",
       "50%                                 0.0                0.0   \n",
       "75%                                 0.0                0.0   \n",
       "max                                 0.0                0.0   \n",
       "\n",
       "       graders_anonymous_to_graders  grader_count  \\\n",
       "count                          21.0          21.0   \n",
       "mean                            0.0           0.0   \n",
       "std                             0.0           0.0   \n",
       "min                             0.0           0.0   \n",
       "25%                             0.0           0.0   \n",
       "50%                             0.0           0.0   \n",
       "75%                             0.0           0.0   \n",
       "max                             0.0           0.0   \n",
       "\n",
       "       grader_comments_visible_to_graders  final_grader_id  \\\n",
       "count                                21.0              0.0   \n",
       "mean                                  1.0              NaN   \n",
       "std                                   0.0              NaN   \n",
       "min                                   1.0              NaN   \n",
       "25%                                   1.0              NaN   \n",
       "50%                                   1.0              NaN   \n",
       "75%                                   1.0              NaN   \n",
       "max                                   1.0              NaN   \n",
       "\n",
       "       grader_names_visible_to_final_grader  allowed_attempts   course_id  \\\n",
       "count                                  21.0              21.0   21.000000   \n",
       "mean                                    1.0              -1.0  407.952381   \n",
       "std                                     0.0               0.0   82.904449   \n",
       "min                                     1.0              -1.0  375.000000   \n",
       "25%                                     1.0              -1.0  375.000000   \n",
       "50%                                     1.0              -1.0  375.000000   \n",
       "75%                                     1.0              -1.0  376.000000   \n",
       "max                                     1.0              -1.0  645.000000   \n",
       "\n",
       "       has_submitted_submissions  due_date_required  max_name_length  \\\n",
       "count                       21.0               21.0             21.0   \n",
       "mean                         1.0                0.0            255.0   \n",
       "std                          0.0                0.0              0.0   \n",
       "min                          1.0                0.0            255.0   \n",
       "25%                          1.0                0.0            255.0   \n",
       "50%                          1.0                0.0            255.0   \n",
       "75%                          1.0                0.0            255.0   \n",
       "max                          1.0                0.0            255.0   \n",
       "\n",
       "       in_closed_grading_period  is_quiz_assignment  can_duplicate  \\\n",
       "count                      21.0           21.000000      21.000000   \n",
       "mean                        0.0            0.571429       0.190476   \n",
       "std                         0.0            0.507093       0.402374   \n",
       "min                         0.0            0.000000       0.000000   \n",
       "25%                         0.0            0.000000       0.000000   \n",
       "50%                         0.0            1.000000       0.000000   \n",
       "75%                         0.0            1.000000       0.000000   \n",
       "max                         0.0            1.000000       1.000000   \n",
       "\n",
       "       original_course_id  original_assignment_id  original_assignment_name  \\\n",
       "count                 0.0                     0.0                       0.0   \n",
       "mean                  NaN                     NaN                       NaN   \n",
       "std                   NaN                     NaN                       NaN   \n",
       "min                   NaN                     NaN                       NaN   \n",
       "25%                   NaN                     NaN                       NaN   \n",
       "50%                   NaN                     NaN                       NaN   \n",
       "75%                   NaN                     NaN                       NaN   \n",
       "max                   NaN                     NaN                       NaN   \n",
       "\n",
       "       original_quiz_id  muted      quiz_id  anonymous_submissions  published  \\\n",
       "count               0.0   21.0    17.000000                   17.0       21.0   \n",
       "mean                NaN    1.0  3715.411765                    0.0        1.0   \n",
       "std                 NaN    0.0  2114.340620                    0.0        0.0   \n",
       "min                 NaN    1.0  2702.000000                    0.0        1.0   \n",
       "25%                 NaN    1.0  2721.000000                    0.0        1.0   \n",
       "50%                 NaN    1.0  2798.000000                    0.0        1.0   \n",
       "75%                 NaN    1.0  2852.000000                    0.0        1.0   \n",
       "max                 NaN    1.0  8741.000000                    0.0        1.0   \n",
       "\n",
       "       only_visible_to_overrides  locked_for_user  post_manually  \\\n",
       "count                       21.0        21.000000           21.0   \n",
       "mean                         0.0         0.857143            0.0   \n",
       "std                          0.0         0.358569            0.0   \n",
       "min                          0.0         0.000000            0.0   \n",
       "25%                          0.0         1.000000            0.0   \n",
       "50%                          0.0         1.000000            0.0   \n",
       "75%                          0.0         1.000000            0.0   \n",
       "max                          0.0         1.000000            0.0   \n",
       "\n",
       "       anonymize_students  require_lockdown_browser  \n",
       "count                21.0                      21.0  \n",
       "mean                  0.0                       0.0  \n",
       "std                   0.0                       0.0  \n",
       "min                   0.0                       0.0  \n",
       "25%                   0.0                       0.0  \n",
       "50%                   0.0                       0.0  \n",
       "75%                   0.0                       0.0  \n",
       "max                   0.0                       0.0  "
      ],
      "text/html": "<div>\n<style scoped>\n    .dataframe tbody tr th:only-of-type {\n        vertical-align: middle;\n    }\n\n    .dataframe tbody tr th {\n        vertical-align: top;\n    }\n\n    .dataframe thead th {\n        text-align: right;\n    }\n</style>\n<table border=\"1\" class=\"dataframe\">\n  <thead>\n    <tr style=\"text-align: right;\">\n      <th></th>\n      <th>id</th>\n      <th>grade</th>\n      <th>score</th>\n      <th>assignment_id</th>\n      <th>user_id</th>\n      <th>grade_matches_current_submission</th>\n      <th>grader_id</th>\n      <th>attempt</th>\n      <th>excused</th>\n      <th>late_policy_status</th>\n      <th>points_deducted</th>\n      <th>grading_period_id</th>\n      <th>extra_attempts</th>\n      <th>late</th>\n      <th>missing</th>\n      <th>seconds_late</th>\n      <th>entered_grade</th>\n      <th>entered_score</th>\n      <th>points_possible</th>\n      <th>assignment_group_id</th>\n      <th>grading_standard_id</th>\n      <th>peer_reviews</th>\n      <th>automatic_peer_reviews</th>\n      <th>position</th>\n      <th>grade_group_students_individually</th>\n      <th>anonymous_peer_reviews</th>\n      <th>group_category_id</th>\n      <th>post_to_sis</th>\n      <th>moderated_grading</th>\n      <th>omit_from_final_grade</th>\n      <th>intra_group_peer_reviews</th>\n      <th>anonymous_instructor_annotations</th>\n      <th>anonymous_grading</th>\n      <th>graders_anonymous_to_graders</th>\n      <th>grader_count</th>\n      <th>grader_comments_visible_to_graders</th>\n      <th>final_grader_id</th>\n      <th>grader_names_visible_to_final_grader</th>\n      <th>allowed_attempts</th>\n      <th>course_id</th>\n      <th>has_submitted_submissions</th>\n      <th>due_date_required</th>\n      <th>max_name_length</th>\n      <th>in_closed_grading_period</th>\n      <th>is_quiz_assignment</th>\n      <th>can_duplicate</th>\n      <th>original_course_id</th>\n      <th>original_assignment_id</th>\n      <th>original_assignment_name</th>\n      <th>original_quiz_id</th>\n      <th>muted</th>\n      <th>quiz_id</th>\n      <th>anonymous_submissions</th>\n      <th>published</th>\n      <th>only_visible_to_overrides</th>\n      <th>locked_for_user</th>\n      <th>post_manually</th>\n      <th>anonymize_students</th>\n      <th>require_lockdown_browser</th>\n    </tr>\n  </thead>\n  <tbody>\n    <tr>\n      <th>count</th>\n      <td>97.000000</td>\n      <td>76.000000</td>\n      <td>76.000000</td>\n      <td>76.000000</td>\n      <td>76.0</td>\n      <td>76.0</td>\n      <td>14.000000</td>\n      <td>14.000000</td>\n      <td>3.0</td>\n      <td>0.0</td>\n      <td>4.0</td>\n      <td>0.0</td>\n      <td>0.0</td>\n      <td>76.000000</td>\n      <td>76.000000</td>\n      <td>7.600000e+01</td>\n      <td>76.000000</td>\n      <td>76.000000</td>\n      <td>21.000000</td>\n      <td>21.000000</td>\n      <td>0.0</td>\n      <td>21.0</td>\n      <td>21.0</td>\n      <td>21.000000</td>\n      <td>21.0</td>\n      <td>21.0</td>\n      <td>0.0</td>\n      <td>21.0</td>\n      <td>21.0</td>\n      <td>21.0</td>\n      <td>21.0</td>\n      <td>21.0</td>\n      <td>21.0</td>\n      <td>21.0</td>\n      <td>21.0</td>\n      <td>21.0</td>\n      <td>0.0</td>\n      <td>21.0</td>\n      <td>21.0</td>\n      <td>21.000000</td>\n      <td>21.0</td>\n      <td>21.0</td>\n      <td>21.0</td>\n      <td>21.0</td>\n      <td>21.000000</td>\n      <td>21.000000</td>\n      <td>0.0</td>\n      <td>0.0</td>\n      <td>0.0</td>\n      <td>0.0</td>\n      <td>21.0</td>\n      <td>17.000000</td>\n      <td>17.0</td>\n      <td>21.0</td>\n      <td>21.0</td>\n      <td>21.000000</td>\n      <td>21.0</td>\n      <td>21.0</td>\n      <td>21.0</td>\n    </tr>\n    <tr>\n      <th>mean</th>\n      <td>154147.360825</td>\n      <td>0.223684</td>\n      <td>0.223684</td>\n      <td>3015.434211</td>\n      <td>2221.0</td>\n      <td>1.0</td>\n      <td>-1465.500000</td>\n      <td>1.071429</td>\n      <td>0.0</td>\n      <td>NaN</td>\n      <td>0.0</td>\n      <td>NaN</td>\n      <td>NaN</td>\n      <td>0.052632</td>\n      <td>0.723684</td>\n      <td>2.735620e+06</td>\n      <td>0.223684</td>\n      <td>0.223684</td>\n      <td>1.190476</td>\n      <td>1031.380952</td>\n      <td>NaN</td>\n      <td>0.0</td>\n      <td>0.0</td>\n      <td>6.809524</td>\n      <td>0.0</td>\n      <td>0.0</td>\n      <td>NaN</td>\n      <td>0.0</td>\n      <td>0.0</td>\n      <td>0.0</td>\n      <td>0.0</td>\n      <td>0.0</td>\n      <td>0.0</td>\n      <td>0.0</td>\n      <td>0.0</td>\n      <td>1.0</td>\n      <td>NaN</td>\n      <td>1.0</td>\n      <td>-1.0</td>\n      <td>407.952381</td>\n      <td>1.0</td>\n      <td>0.0</td>\n      <td>255.0</td>\n      <td>0.0</td>\n      <td>0.571429</td>\n      <td>0.190476</td>\n      <td>NaN</td>\n      <td>NaN</td>\n      <td>NaN</td>\n      <td>NaN</td>\n      <td>1.0</td>\n      <td>3715.411765</td>\n      <td>0.0</td>\n      <td>1.0</td>\n      <td>0.0</td>\n      <td>0.857143</td>\n      <td>0.0</td>\n      <td>0.0</td>\n      <td>0.0</td>\n    </tr>\n    <tr>\n      <th>std</th>\n      <td>90814.185487</td>\n      <td>1.053232</td>\n      <td>1.053232</td>\n      <td>1273.942106</td>\n      <td>0.0</td>\n      <td>0.0</td>\n      <td>2432.947144</td>\n      <td>0.267261</td>\n      <td>0.0</td>\n      <td>NaN</td>\n      <td>0.0</td>\n      <td>NaN</td>\n      <td>NaN</td>\n      <td>0.224781</td>\n      <td>0.450146</td>\n      <td>1.922024e+06</td>\n      <td>1.053232</td>\n      <td>1.053232</td>\n      <td>3.249908</td>\n      <td>845.876497</td>\n      <td>NaN</td>\n      <td>0.0</td>\n      <td>0.0</td>\n      <td>5.510164</td>\n      <td>0.0</td>\n      <td>0.0</td>\n      <td>NaN</td>\n      <td>0.0</td>\n      <td>0.0</td>\n      <td>0.0</td>\n      <td>0.0</td>\n      <td>0.0</td>\n      <td>0.0</td>\n      <td>0.0</td>\n      <td>0.0</td>\n      <td>0.0</td>\n      <td>NaN</td>\n      <td>0.0</td>\n      <td>0.0</td>\n      <td>82.904449</td>\n      <td>0.0</td>\n      <td>0.0</td>\n      <td>0.0</td>\n      <td>0.0</td>\n      <td>0.507093</td>\n      <td>0.402374</td>\n      <td>NaN</td>\n      <td>NaN</td>\n      <td>NaN</td>\n      <td>NaN</td>\n      <td>0.0</td>\n      <td>2114.340620</td>\n      <td>0.0</td>\n      <td>0.0</td>\n      <td>0.0</td>\n      <td>0.358569</td>\n      <td>0.0</td>\n      <td>0.0</td>\n      <td>0.0</td>\n    </tr>\n    <tr>\n      <th>min</th>\n      <td>3348.000000</td>\n      <td>0.000000</td>\n      <td>0.000000</td>\n      <td>2031.000000</td>\n      <td>2221.0</td>\n      <td>1.0</td>\n      <td>-2865.000000</td>\n      <td>1.000000</td>\n      <td>0.0</td>\n      <td>NaN</td>\n      <td>0.0</td>\n      <td>NaN</td>\n      <td>NaN</td>\n      <td>0.000000</td>\n      <td>0.000000</td>\n      <td>0.000000e+00</td>\n      <td>0.000000</td>\n      <td>0.000000</td>\n      <td>0.000000</td>\n      <td>642.000000</td>\n      <td>NaN</td>\n      <td>0.0</td>\n      <td>0.0</td>\n      <td>1.000000</td>\n      <td>0.0</td>\n      <td>0.0</td>\n      <td>NaN</td>\n      <td>0.0</td>\n      <td>0.0</td>\n      <td>0.0</td>\n      <td>0.0</td>\n      <td>0.0</td>\n      <td>0.0</td>\n      <td>0.0</td>\n      <td>0.0</td>\n      <td>1.0</td>\n      <td>NaN</td>\n      <td>1.0</td>\n      <td>-1.0</td>\n      <td>375.000000</td>\n      <td>1.0</td>\n      <td>0.0</td>\n      <td>255.0</td>\n      <td>0.0</td>\n      <td>0.000000</td>\n      <td>0.000000</td>\n      <td>NaN</td>\n      <td>NaN</td>\n      <td>NaN</td>\n      <td>NaN</td>\n      <td>1.0</td>\n      <td>2702.000000</td>\n      <td>0.0</td>\n      <td>1.0</td>\n      <td>0.0</td>\n      <td>0.000000</td>\n      <td>0.0</td>\n      <td>0.0</td>\n      <td>0.0</td>\n    </tr>\n    <tr>\n      <th>25%</th>\n      <td>187260.000000</td>\n      <td>0.000000</td>\n      <td>0.000000</td>\n      <td>2088.000000</td>\n      <td>2221.0</td>\n      <td>1.0</td>\n      <td>-2803.750000</td>\n      <td>1.000000</td>\n      <td>0.0</td>\n      <td>NaN</td>\n      <td>0.0</td>\n      <td>NaN</td>\n      <td>NaN</td>\n      <td>0.000000</td>\n      <td>0.000000</td>\n      <td>8.659250e+04</td>\n      <td>0.000000</td>\n      <td>0.000000</td>\n      <td>0.000000</td>\n      <td>642.000000</td>\n      <td>NaN</td>\n      <td>0.0</td>\n      <td>0.0</td>\n      <td>3.000000</td>\n      <td>0.0</td>\n      <td>0.0</td>\n      <td>NaN</td>\n      <td>0.0</td>\n      <td>0.0</td>\n      <td>0.0</td>\n      <td>0.0</td>\n      <td>0.0</td>\n      <td>0.0</td>\n      <td>0.0</td>\n      <td>0.0</td>\n      <td>1.0</td>\n      <td>NaN</td>\n      <td>1.0</td>\n      <td>-1.0</td>\n      <td>375.000000</td>\n      <td>1.0</td>\n      <td>0.0</td>\n      <td>255.0</td>\n      <td>0.0</td>\n      <td>0.000000</td>\n      <td>0.000000</td>\n      <td>NaN</td>\n      <td>NaN</td>\n      <td>NaN</td>\n      <td>NaN</td>\n      <td>1.0</td>\n      <td>2721.000000</td>\n      <td>0.0</td>\n      <td>1.0</td>\n      <td>0.0</td>\n      <td>1.000000</td>\n      <td>0.0</td>\n      <td>0.0</td>\n      <td>0.0</td>\n    </tr>\n    <tr>\n      <th>50%</th>\n      <td>187291.000000</td>\n      <td>0.000000</td>\n      <td>0.000000</td>\n      <td>3360.000000</td>\n      <td>2221.0</td>\n      <td>1.0</td>\n      <td>-2731.000000</td>\n      <td>1.000000</td>\n      <td>0.0</td>\n      <td>NaN</td>\n      <td>0.0</td>\n      <td>NaN</td>\n      <td>NaN</td>\n      <td>0.000000</td>\n      <td>1.000000</td>\n      <td>3.154243e+06</td>\n      <td>0.000000</td>\n      <td>0.000000</td>\n      <td>0.000000</td>\n      <td>642.000000</td>\n      <td>NaN</td>\n      <td>0.0</td>\n      <td>0.0</td>\n      <td>5.000000</td>\n      <td>0.0</td>\n      <td>0.0</td>\n      <td>NaN</td>\n      <td>0.0</td>\n      <td>0.0</td>\n      <td>0.0</td>\n      <td>0.0</td>\n      <td>0.0</td>\n      <td>0.0</td>\n      <td>0.0</td>\n      <td>0.0</td>\n      <td>1.0</td>\n      <td>NaN</td>\n      <td>1.0</td>\n      <td>-1.0</td>\n      <td>375.000000</td>\n      <td>1.0</td>\n      <td>0.0</td>\n      <td>255.0</td>\n      <td>0.0</td>\n      <td>1.000000</td>\n      <td>0.000000</td>\n      <td>NaN</td>\n      <td>NaN</td>\n      <td>NaN</td>\n      <td>NaN</td>\n      <td>1.0</td>\n      <td>2798.000000</td>\n      <td>0.0</td>\n      <td>1.0</td>\n      <td>0.0</td>\n      <td>1.000000</td>\n      <td>0.0</td>\n      <td>0.0</td>\n      <td>0.0</td>\n    </tr>\n    <tr>\n      <th>75%</th>\n      <td>187323.000000</td>\n      <td>0.000000</td>\n      <td>0.000000</td>\n      <td>3467.000000</td>\n      <td>2221.0</td>\n      <td>1.0</td>\n      <td>-1989.750000</td>\n      <td>1.000000</td>\n      <td>0.0</td>\n      <td>NaN</td>\n      <td>0.0</td>\n      <td>NaN</td>\n      <td>NaN</td>\n      <td>0.000000</td>\n      <td>1.000000</td>\n      <td>4.194644e+06</td>\n      <td>0.000000</td>\n      <td>0.000000</td>\n      <td>1.000000</td>\n      <td>647.000000</td>\n      <td>NaN</td>\n      <td>0.0</td>\n      <td>0.0</td>\n      <td>10.000000</td>\n      <td>0.0</td>\n      <td>0.0</td>\n      <td>NaN</td>\n      <td>0.0</td>\n      <td>0.0</td>\n      <td>0.0</td>\n      <td>0.0</td>\n      <td>0.0</td>\n      <td>0.0</td>\n      <td>0.0</td>\n      <td>0.0</td>\n      <td>1.0</td>\n      <td>NaN</td>\n      <td>1.0</td>\n      <td>-1.0</td>\n      <td>376.000000</td>\n      <td>1.0</td>\n      <td>0.0</td>\n      <td>255.0</td>\n      <td>0.0</td>\n      <td>1.000000</td>\n      <td>0.000000</td>\n      <td>NaN</td>\n      <td>NaN</td>\n      <td>NaN</td>\n      <td>NaN</td>\n      <td>1.0</td>\n      <td>2852.000000</td>\n      <td>0.0</td>\n      <td>1.0</td>\n      <td>0.0</td>\n      <td>1.000000</td>\n      <td>0.0</td>\n      <td>0.0</td>\n      <td>0.0</td>\n    </tr>\n    <tr>\n      <th>max</th>\n      <td>500054.000000</td>\n      <td>8.000000</td>\n      <td>8.000000</td>\n      <td>9586.000000</td>\n      <td>2221.0</td>\n      <td>1.0</td>\n      <td>2995.000000</td>\n      <td>2.000000</td>\n      <td>0.0</td>\n      <td>NaN</td>\n      <td>0.0</td>\n      <td>NaN</td>\n      <td>NaN</td>\n      <td>1.000000</td>\n      <td>1.000000</td>\n      <td>5.856045e+06</td>\n      <td>8.000000</td>\n      <td>8.000000</td>\n      <td>15.000000</td>\n      <td>3170.000000</td>\n      <td>NaN</td>\n      <td>0.0</td>\n      <td>0.0</td>\n      <td>24.000000</td>\n      <td>0.0</td>\n      <td>0.0</td>\n      <td>NaN</td>\n      <td>0.0</td>\n      <td>0.0</td>\n      <td>0.0</td>\n      <td>0.0</td>\n      <td>0.0</td>\n      <td>0.0</td>\n      <td>0.0</td>\n      <td>0.0</td>\n      <td>1.0</td>\n      <td>NaN</td>\n      <td>1.0</td>\n      <td>-1.0</td>\n      <td>645.000000</td>\n      <td>1.0</td>\n      <td>0.0</td>\n      <td>255.0</td>\n      <td>0.0</td>\n      <td>1.000000</td>\n      <td>1.000000</td>\n      <td>NaN</td>\n      <td>NaN</td>\n      <td>NaN</td>\n      <td>NaN</td>\n      <td>1.0</td>\n      <td>8741.000000</td>\n      <td>0.0</td>\n      <td>1.0</td>\n      <td>0.0</td>\n      <td>1.000000</td>\n      <td>0.0</td>\n      <td>0.0</td>\n      <td>0.0</td>\n    </tr>\n  </tbody>\n</table>\n</div>"
     },
     "metadata": {},
     "execution_count": 66
    }
   ],
   "source": [
    "missing_df = pd.read_json(\"missing_subs.json\")\n",
    "missing_df.describe()"
   ]
  },
  {
   "cell_type": "code",
   "execution_count": 79,
   "metadata": {},
   "outputs": [
    {
     "output_type": "execute_result",
     "data": {
      "text/plain": [
       "       id  body                                                url  grade  \\\n",
       "0  499907  None                                               None    0.0   \n",
       "1  500054  None                                               None    0.0   \n",
       "2  187304        https://github.com/Toniddarden/Sprint-Challeng...    0.0   \n",
       "3  187272        https://github.com/Toniddarden/Graphs/tree/ton...    2.0   \n",
       "4  187312  None                                               None    0.0   \n",
       "\n",
       "   score              submitted_at  assignment_id  user_id submission_type  \\\n",
       "0    0.0                       NaT         9489.0   2221.0            None   \n",
       "1    0.0                       NaT         9586.0   2221.0            None   \n",
       "2    0.0 2020-11-09 22:26:01+00:00         3533.0   2221.0      online_url   \n",
       "3    2.0 2020-10-27 00:40:04+00:00         3561.0   2221.0      online_url   \n",
       "4    0.0                       NaT         2041.0   2221.0            None   \n",
       "\n",
       "  workflow_state  grade_matches_current_submission                 graded_at  \\\n",
       "0         graded                               1.0 2020-12-07 08:25:16+00:00   \n",
       "1         graded                               1.0 2020-12-03 08:16:55+00:00   \n",
       "2         graded                               1.0 2020-11-20 03:05:50+00:00   \n",
       "3         graded                               1.0 2020-11-20 02:53:58+00:00   \n",
       "4         graded                               1.0 2020-11-10 08:29:05+00:00   \n",
       "\n",
       "   grader_id  attempt       cached_due_date  excused  late_policy_status  \\\n",
       "0        NaN      NaN  2020-12-07T07:59:00Z      NaN                 NaN   \n",
       "1        NaN      NaN  2020-12-03T07:59:00Z      NaN                 NaN   \n",
       "2     2995.0      1.0  2020-11-10T07:59:59Z      0.0                 NaN   \n",
       "3     2995.0      1.0  2020-10-27T06:59:59Z      0.0                 NaN   \n",
       "4        NaN      NaN  2020-11-10T07:59:59Z      NaN                 NaN   \n",
       "\n",
       "   points_deducted  grading_period_id  extra_attempts  \\\n",
       "0              NaN                NaN             NaN   \n",
       "1              NaN                NaN             NaN   \n",
       "2              NaN                NaN             NaN   \n",
       "3              NaN                NaN             NaN   \n",
       "4              NaN                NaN             NaN   \n",
       "\n",
       "                  posted_at  late  missing  seconds_late  entered_grade  \\\n",
       "0 2020-12-07 08:25:16+00:00   0.0      1.0      130158.0            0.0   \n",
       "1 2020-12-03 08:16:55+00:00   0.0      1.0      475758.0            0.0   \n",
       "2 2020-11-20 03:05:50+00:00   0.0      0.0           0.0            0.0   \n",
       "3 2020-11-20 02:53:58+00:00   0.0      0.0           0.0            2.0   \n",
       "4 2020-11-10 08:29:05+00:00   0.0      1.0     2462899.0            0.0   \n",
       "\n",
       "   entered_score                                        preview_url  \\\n",
       "0            0.0  https://lambdaschool.instructure.com/courses/5...   \n",
       "1            0.0  https://lambdaschool.instructure.com/courses/5...   \n",
       "2            0.0  https://lambdaschool.instructure.com/courses/3...   \n",
       "3            2.0  https://lambdaschool.instructure.com/courses/3...   \n",
       "4            0.0  https://lambdaschool.instructure.com/courses/3...   \n",
       "\n",
       "  anonymous_id                                        attachments description  \\\n",
       "0        ofy3o                                                NaN         NaN   \n",
       "1        tYKND                                                NaN         NaN   \n",
       "2        78XmV  [{'id': 73583, 'uuid': 'HrU6yXvNNAjvA9U9E5N9xF...         NaN   \n",
       "3        4gjvw  [{'id': 49115, 'uuid': 'TeOXLvkPPMMqY7p7Jn98Lh...         NaN   \n",
       "4        Jen9e                                                NaN         NaN   \n",
       "\n",
       "  due_at unlock_at lock_at  points_possible grading_type  assignment_group_id  \\\n",
       "0    NaT       NaT     NaT              NaN          NaN                  NaN   \n",
       "1    NaT       NaT     NaT              NaN          NaN                  NaN   \n",
       "2    NaT       NaT     NaT              NaN          NaN                  NaN   \n",
       "3    NaT       NaT     NaT              NaN          NaN                  NaN   \n",
       "4    NaT       NaT     NaT              NaN          NaN                  NaN   \n",
       "\n",
       "   grading_standard_id created_at updated_at  peer_reviews  \\\n",
       "0                  NaN        NaT        NaT           NaN   \n",
       "1                  NaN        NaT        NaT           NaN   \n",
       "2                  NaN        NaT        NaT           NaN   \n",
       "3                  NaN        NaT        NaT           NaN   \n",
       "4                  NaN        NaT        NaT           NaN   \n",
       "\n",
       "   automatic_peer_reviews  position  grade_group_students_individually  \\\n",
       "0                     NaN       NaN                                NaN   \n",
       "1                     NaN       NaN                                NaN   \n",
       "2                     NaN       NaN                                NaN   \n",
       "3                     NaN       NaN                                NaN   \n",
       "4                     NaN       NaN                                NaN   \n",
       "\n",
       "   anonymous_peer_reviews  group_category_id  post_to_sis  moderated_grading  \\\n",
       "0                     NaN                NaN          NaN                NaN   \n",
       "1                     NaN                NaN          NaN                NaN   \n",
       "2                     NaN                NaN          NaN                NaN   \n",
       "3                     NaN                NaN          NaN                NaN   \n",
       "4                     NaN                NaN          NaN                NaN   \n",
       "\n",
       "   omit_from_final_grade  intra_group_peer_reviews  \\\n",
       "0                    NaN                       NaN   \n",
       "1                    NaN                       NaN   \n",
       "2                    NaN                       NaN   \n",
       "3                    NaN                       NaN   \n",
       "4                    NaN                       NaN   \n",
       "\n",
       "   anonymous_instructor_annotations  anonymous_grading  \\\n",
       "0                               NaN                NaN   \n",
       "1                               NaN                NaN   \n",
       "2                               NaN                NaN   \n",
       "3                               NaN                NaN   \n",
       "4                               NaN                NaN   \n",
       "\n",
       "   graders_anonymous_to_graders  grader_count  \\\n",
       "0                           NaN           NaN   \n",
       "1                           NaN           NaN   \n",
       "2                           NaN           NaN   \n",
       "3                           NaN           NaN   \n",
       "4                           NaN           NaN   \n",
       "\n",
       "   grader_comments_visible_to_graders  final_grader_id  \\\n",
       "0                                 NaN              NaN   \n",
       "1                                 NaN              NaN   \n",
       "2                                 NaN              NaN   \n",
       "3                                 NaN              NaN   \n",
       "4                                 NaN              NaN   \n",
       "\n",
       "   grader_names_visible_to_final_grader  allowed_attempts lock_info  \\\n",
       "0                                   NaN               NaN       NaN   \n",
       "1                                   NaN               NaN       NaN   \n",
       "2                                   NaN               NaN       NaN   \n",
       "3                                   NaN               NaN       NaN   \n",
       "4                                   NaN               NaN       NaN   \n",
       "\n",
       "  secure_params  course_id name submission_types  has_submitted_submissions  \\\n",
       "0           NaN        NaN  NaN              NaN                        NaN   \n",
       "1           NaN        NaN  NaN              NaN                        NaN   \n",
       "2           NaN        NaN  NaN              NaN                        NaN   \n",
       "3           NaN        NaN  NaN              NaN                        NaN   \n",
       "4           NaN        NaN  NaN              NaN                        NaN   \n",
       "\n",
       "   due_date_required  max_name_length  in_closed_grading_period  \\\n",
       "0                NaN              NaN                       NaN   \n",
       "1                NaN              NaN                       NaN   \n",
       "2                NaN              NaN                       NaN   \n",
       "3                NaN              NaN                       NaN   \n",
       "4                NaN              NaN                       NaN   \n",
       "\n",
       "   is_quiz_assignment  can_duplicate  original_course_id  \\\n",
       "0                 NaN            NaN                 NaN   \n",
       "1                 NaN            NaN                 NaN   \n",
       "2                 NaN            NaN                 NaN   \n",
       "3                 NaN            NaN                 NaN   \n",
       "4                 NaN            NaN                 NaN   \n",
       "\n",
       "   original_assignment_id  original_assignment_name  original_quiz_id  muted  \\\n",
       "0                     NaN                       NaN               NaN    NaN   \n",
       "1                     NaN                       NaN               NaN    NaN   \n",
       "2                     NaN                       NaN               NaN    NaN   \n",
       "3                     NaN                       NaN               NaN    NaN   \n",
       "4                     NaN                       NaN               NaN    NaN   \n",
       "\n",
       "  html_url  quiz_id  anonymous_submissions  published  \\\n",
       "0      NaN      NaN                    NaN        NaN   \n",
       "1      NaN      NaN                    NaN        NaN   \n",
       "2      NaN      NaN                    NaN        NaN   \n",
       "3      NaN      NaN                    NaN        NaN   \n",
       "4      NaN      NaN                    NaN        NaN   \n",
       "\n",
       "   only_visible_to_overrides  locked_for_user lock_explanation  \\\n",
       "0                        NaN              NaN              NaN   \n",
       "1                        NaN              NaN              NaN   \n",
       "2                        NaN              NaN              NaN   \n",
       "3                        NaN              NaN              NaN   \n",
       "4                        NaN              NaN              NaN   \n",
       "\n",
       "  submissions_download_url  post_manually  anonymize_students  \\\n",
       "0                      NaN            NaN                 NaN   \n",
       "1                      NaN            NaN                 NaN   \n",
       "2                      NaN            NaN                 NaN   \n",
       "3                      NaN            NaN                 NaN   \n",
       "4                      NaN            NaN                 NaN   \n",
       "\n",
       "   require_lockdown_browser  \n",
       "0                       NaN  \n",
       "1                       NaN  \n",
       "2                       NaN  \n",
       "3                       NaN  \n",
       "4                       NaN  "
      ],
      "text/html": "<div>\n<style scoped>\n    .dataframe tbody tr th:only-of-type {\n        vertical-align: middle;\n    }\n\n    .dataframe tbody tr th {\n        vertical-align: top;\n    }\n\n    .dataframe thead th {\n        text-align: right;\n    }\n</style>\n<table border=\"1\" class=\"dataframe\">\n  <thead>\n    <tr style=\"text-align: right;\">\n      <th></th>\n      <th>id</th>\n      <th>body</th>\n      <th>url</th>\n      <th>grade</th>\n      <th>score</th>\n      <th>submitted_at</th>\n      <th>assignment_id</th>\n      <th>user_id</th>\n      <th>submission_type</th>\n      <th>workflow_state</th>\n      <th>grade_matches_current_submission</th>\n      <th>graded_at</th>\n      <th>grader_id</th>\n      <th>attempt</th>\n      <th>cached_due_date</th>\n      <th>excused</th>\n      <th>late_policy_status</th>\n      <th>points_deducted</th>\n      <th>grading_period_id</th>\n      <th>extra_attempts</th>\n      <th>posted_at</th>\n      <th>late</th>\n      <th>missing</th>\n      <th>seconds_late</th>\n      <th>entered_grade</th>\n      <th>entered_score</th>\n      <th>preview_url</th>\n      <th>anonymous_id</th>\n      <th>attachments</th>\n      <th>description</th>\n      <th>due_at</th>\n      <th>unlock_at</th>\n      <th>lock_at</th>\n      <th>points_possible</th>\n      <th>grading_type</th>\n      <th>assignment_group_id</th>\n      <th>grading_standard_id</th>\n      <th>created_at</th>\n      <th>updated_at</th>\n      <th>peer_reviews</th>\n      <th>automatic_peer_reviews</th>\n      <th>position</th>\n      <th>grade_group_students_individually</th>\n      <th>anonymous_peer_reviews</th>\n      <th>group_category_id</th>\n      <th>post_to_sis</th>\n      <th>moderated_grading</th>\n      <th>omit_from_final_grade</th>\n      <th>intra_group_peer_reviews</th>\n      <th>anonymous_instructor_annotations</th>\n      <th>anonymous_grading</th>\n      <th>graders_anonymous_to_graders</th>\n      <th>grader_count</th>\n      <th>grader_comments_visible_to_graders</th>\n      <th>final_grader_id</th>\n      <th>grader_names_visible_to_final_grader</th>\n      <th>allowed_attempts</th>\n      <th>lock_info</th>\n      <th>secure_params</th>\n      <th>course_id</th>\n      <th>name</th>\n      <th>submission_types</th>\n      <th>has_submitted_submissions</th>\n      <th>due_date_required</th>\n      <th>max_name_length</th>\n      <th>in_closed_grading_period</th>\n      <th>is_quiz_assignment</th>\n      <th>can_duplicate</th>\n      <th>original_course_id</th>\n      <th>original_assignment_id</th>\n      <th>original_assignment_name</th>\n      <th>original_quiz_id</th>\n      <th>muted</th>\n      <th>html_url</th>\n      <th>quiz_id</th>\n      <th>anonymous_submissions</th>\n      <th>published</th>\n      <th>only_visible_to_overrides</th>\n      <th>locked_for_user</th>\n      <th>lock_explanation</th>\n      <th>submissions_download_url</th>\n      <th>post_manually</th>\n      <th>anonymize_students</th>\n      <th>require_lockdown_browser</th>\n    </tr>\n  </thead>\n  <tbody>\n    <tr>\n      <th>0</th>\n      <td>499907</td>\n      <td>None</td>\n      <td>None</td>\n      <td>0.0</td>\n      <td>0.0</td>\n      <td>NaT</td>\n      <td>9489.0</td>\n      <td>2221.0</td>\n      <td>None</td>\n      <td>graded</td>\n      <td>1.0</td>\n      <td>2020-12-07 08:25:16+00:00</td>\n      <td>NaN</td>\n      <td>NaN</td>\n      <td>2020-12-07T07:59:00Z</td>\n      <td>NaN</td>\n      <td>NaN</td>\n      <td>NaN</td>\n      <td>NaN</td>\n      <td>NaN</td>\n      <td>2020-12-07 08:25:16+00:00</td>\n      <td>0.0</td>\n      <td>1.0</td>\n      <td>130158.0</td>\n      <td>0.0</td>\n      <td>0.0</td>\n      <td>https://lambdaschool.instructure.com/courses/5...</td>\n      <td>ofy3o</td>\n      <td>NaN</td>\n      <td>NaN</td>\n      <td>NaT</td>\n      <td>NaT</td>\n      <td>NaT</td>\n      <td>NaN</td>\n      <td>NaN</td>\n      <td>NaN</td>\n      <td>NaN</td>\n      <td>NaT</td>\n      <td>NaT</td>\n      <td>NaN</td>\n      <td>NaN</td>\n      <td>NaN</td>\n      <td>NaN</td>\n      <td>NaN</td>\n      <td>NaN</td>\n      <td>NaN</td>\n      <td>NaN</td>\n      <td>NaN</td>\n      <td>NaN</td>\n      <td>NaN</td>\n      <td>NaN</td>\n      <td>NaN</td>\n      <td>NaN</td>\n      <td>NaN</td>\n      <td>NaN</td>\n      <td>NaN</td>\n      <td>NaN</td>\n      <td>NaN</td>\n      <td>NaN</td>\n      <td>NaN</td>\n      <td>NaN</td>\n      <td>NaN</td>\n      <td>NaN</td>\n      <td>NaN</td>\n      <td>NaN</td>\n      <td>NaN</td>\n      <td>NaN</td>\n      <td>NaN</td>\n      <td>NaN</td>\n      <td>NaN</td>\n      <td>NaN</td>\n      <td>NaN</td>\n      <td>NaN</td>\n      <td>NaN</td>\n      <td>NaN</td>\n      <td>NaN</td>\n      <td>NaN</td>\n      <td>NaN</td>\n      <td>NaN</td>\n      <td>NaN</td>\n      <td>NaN</td>\n      <td>NaN</td>\n      <td>NaN</td>\n      <td>NaN</td>\n    </tr>\n    <tr>\n      <th>1</th>\n      <td>500054</td>\n      <td>None</td>\n      <td>None</td>\n      <td>0.0</td>\n      <td>0.0</td>\n      <td>NaT</td>\n      <td>9586.0</td>\n      <td>2221.0</td>\n      <td>None</td>\n      <td>graded</td>\n      <td>1.0</td>\n      <td>2020-12-03 08:16:55+00:00</td>\n      <td>NaN</td>\n      <td>NaN</td>\n      <td>2020-12-03T07:59:00Z</td>\n      <td>NaN</td>\n      <td>NaN</td>\n      <td>NaN</td>\n      <td>NaN</td>\n      <td>NaN</td>\n      <td>2020-12-03 08:16:55+00:00</td>\n      <td>0.0</td>\n      <td>1.0</td>\n      <td>475758.0</td>\n      <td>0.0</td>\n      <td>0.0</td>\n      <td>https://lambdaschool.instructure.com/courses/5...</td>\n      <td>tYKND</td>\n      <td>NaN</td>\n      <td>NaN</td>\n      <td>NaT</td>\n      <td>NaT</td>\n      <td>NaT</td>\n      <td>NaN</td>\n      <td>NaN</td>\n      <td>NaN</td>\n      <td>NaN</td>\n      <td>NaT</td>\n      <td>NaT</td>\n      <td>NaN</td>\n      <td>NaN</td>\n      <td>NaN</td>\n      <td>NaN</td>\n      <td>NaN</td>\n      <td>NaN</td>\n      <td>NaN</td>\n      <td>NaN</td>\n      <td>NaN</td>\n      <td>NaN</td>\n      <td>NaN</td>\n      <td>NaN</td>\n      <td>NaN</td>\n      <td>NaN</td>\n      <td>NaN</td>\n      <td>NaN</td>\n      <td>NaN</td>\n      <td>NaN</td>\n      <td>NaN</td>\n      <td>NaN</td>\n      <td>NaN</td>\n      <td>NaN</td>\n      <td>NaN</td>\n      <td>NaN</td>\n      <td>NaN</td>\n      <td>NaN</td>\n      <td>NaN</td>\n      <td>NaN</td>\n      <td>NaN</td>\n      <td>NaN</td>\n      <td>NaN</td>\n      <td>NaN</td>\n      <td>NaN</td>\n      <td>NaN</td>\n      <td>NaN</td>\n      <td>NaN</td>\n      <td>NaN</td>\n      <td>NaN</td>\n      <td>NaN</td>\n      <td>NaN</td>\n      <td>NaN</td>\n      <td>NaN</td>\n      <td>NaN</td>\n      <td>NaN</td>\n      <td>NaN</td>\n    </tr>\n    <tr>\n      <th>2</th>\n      <td>187304</td>\n      <td></td>\n      <td>https://github.com/Toniddarden/Sprint-Challeng...</td>\n      <td>0.0</td>\n      <td>0.0</td>\n      <td>2020-11-09 22:26:01+00:00</td>\n      <td>3533.0</td>\n      <td>2221.0</td>\n      <td>online_url</td>\n      <td>graded</td>\n      <td>1.0</td>\n      <td>2020-11-20 03:05:50+00:00</td>\n      <td>2995.0</td>\n      <td>1.0</td>\n      <td>2020-11-10T07:59:59Z</td>\n      <td>0.0</td>\n      <td>NaN</td>\n      <td>NaN</td>\n      <td>NaN</td>\n      <td>NaN</td>\n      <td>2020-11-20 03:05:50+00:00</td>\n      <td>0.0</td>\n      <td>0.0</td>\n      <td>0.0</td>\n      <td>0.0</td>\n      <td>0.0</td>\n      <td>https://lambdaschool.instructure.com/courses/3...</td>\n      <td>78XmV</td>\n      <td>[{'id': 73583, 'uuid': 'HrU6yXvNNAjvA9U9E5N9xF...</td>\n      <td>NaN</td>\n      <td>NaT</td>\n      <td>NaT</td>\n      <td>NaT</td>\n      <td>NaN</td>\n      <td>NaN</td>\n      <td>NaN</td>\n      <td>NaN</td>\n      <td>NaT</td>\n      <td>NaT</td>\n      <td>NaN</td>\n      <td>NaN</td>\n      <td>NaN</td>\n      <td>NaN</td>\n      <td>NaN</td>\n      <td>NaN</td>\n      <td>NaN</td>\n      <td>NaN</td>\n      <td>NaN</td>\n      <td>NaN</td>\n      <td>NaN</td>\n      <td>NaN</td>\n      <td>NaN</td>\n      <td>NaN</td>\n      <td>NaN</td>\n      <td>NaN</td>\n      <td>NaN</td>\n      <td>NaN</td>\n      <td>NaN</td>\n      <td>NaN</td>\n      <td>NaN</td>\n      <td>NaN</td>\n      <td>NaN</td>\n      <td>NaN</td>\n      <td>NaN</td>\n      <td>NaN</td>\n      <td>NaN</td>\n      <td>NaN</td>\n      <td>NaN</td>\n      <td>NaN</td>\n      <td>NaN</td>\n      <td>NaN</td>\n      <td>NaN</td>\n      <td>NaN</td>\n      <td>NaN</td>\n      <td>NaN</td>\n      <td>NaN</td>\n      <td>NaN</td>\n      <td>NaN</td>\n      <td>NaN</td>\n      <td>NaN</td>\n      <td>NaN</td>\n      <td>NaN</td>\n      <td>NaN</td>\n      <td>NaN</td>\n    </tr>\n    <tr>\n      <th>3</th>\n      <td>187272</td>\n      <td></td>\n      <td>https://github.com/Toniddarden/Graphs/tree/ton...</td>\n      <td>2.0</td>\n      <td>2.0</td>\n      <td>2020-10-27 00:40:04+00:00</td>\n      <td>3561.0</td>\n      <td>2221.0</td>\n      <td>online_url</td>\n      <td>graded</td>\n      <td>1.0</td>\n      <td>2020-11-20 02:53:58+00:00</td>\n      <td>2995.0</td>\n      <td>1.0</td>\n      <td>2020-10-27T06:59:59Z</td>\n      <td>0.0</td>\n      <td>NaN</td>\n      <td>NaN</td>\n      <td>NaN</td>\n      <td>NaN</td>\n      <td>2020-11-20 02:53:58+00:00</td>\n      <td>0.0</td>\n      <td>0.0</td>\n      <td>0.0</td>\n      <td>2.0</td>\n      <td>2.0</td>\n      <td>https://lambdaschool.instructure.com/courses/3...</td>\n      <td>4gjvw</td>\n      <td>[{'id': 49115, 'uuid': 'TeOXLvkPPMMqY7p7Jn98Lh...</td>\n      <td>NaN</td>\n      <td>NaT</td>\n      <td>NaT</td>\n      <td>NaT</td>\n      <td>NaN</td>\n      <td>NaN</td>\n      <td>NaN</td>\n      <td>NaN</td>\n      <td>NaT</td>\n      <td>NaT</td>\n      <td>NaN</td>\n      <td>NaN</td>\n      <td>NaN</td>\n      <td>NaN</td>\n      <td>NaN</td>\n      <td>NaN</td>\n      <td>NaN</td>\n      <td>NaN</td>\n      <td>NaN</td>\n      <td>NaN</td>\n      <td>NaN</td>\n      <td>NaN</td>\n      <td>NaN</td>\n      <td>NaN</td>\n      <td>NaN</td>\n      <td>NaN</td>\n      <td>NaN</td>\n      <td>NaN</td>\n      <td>NaN</td>\n      <td>NaN</td>\n      <td>NaN</td>\n      <td>NaN</td>\n      <td>NaN</td>\n      <td>NaN</td>\n      <td>NaN</td>\n      <td>NaN</td>\n      <td>NaN</td>\n      <td>NaN</td>\n      <td>NaN</td>\n      <td>NaN</td>\n      <td>NaN</td>\n      <td>NaN</td>\n      <td>NaN</td>\n      <td>NaN</td>\n      <td>NaN</td>\n      <td>NaN</td>\n      <td>NaN</td>\n      <td>NaN</td>\n      <td>NaN</td>\n      <td>NaN</td>\n      <td>NaN</td>\n      <td>NaN</td>\n      <td>NaN</td>\n      <td>NaN</td>\n      <td>NaN</td>\n    </tr>\n    <tr>\n      <th>4</th>\n      <td>187312</td>\n      <td>None</td>\n      <td>None</td>\n      <td>0.0</td>\n      <td>0.0</td>\n      <td>NaT</td>\n      <td>2041.0</td>\n      <td>2221.0</td>\n      <td>None</td>\n      <td>graded</td>\n      <td>1.0</td>\n      <td>2020-11-10 08:29:05+00:00</td>\n      <td>NaN</td>\n      <td>NaN</td>\n      <td>2020-11-10T07:59:59Z</td>\n      <td>NaN</td>\n      <td>NaN</td>\n      <td>NaN</td>\n      <td>NaN</td>\n      <td>NaN</td>\n      <td>2020-11-10 08:29:05+00:00</td>\n      <td>0.0</td>\n      <td>1.0</td>\n      <td>2462899.0</td>\n      <td>0.0</td>\n      <td>0.0</td>\n      <td>https://lambdaschool.instructure.com/courses/3...</td>\n      <td>Jen9e</td>\n      <td>NaN</td>\n      <td>NaN</td>\n      <td>NaT</td>\n      <td>NaT</td>\n      <td>NaT</td>\n      <td>NaN</td>\n      <td>NaN</td>\n      <td>NaN</td>\n      <td>NaN</td>\n      <td>NaT</td>\n      <td>NaT</td>\n      <td>NaN</td>\n      <td>NaN</td>\n      <td>NaN</td>\n      <td>NaN</td>\n      <td>NaN</td>\n      <td>NaN</td>\n      <td>NaN</td>\n      <td>NaN</td>\n      <td>NaN</td>\n      <td>NaN</td>\n      <td>NaN</td>\n      <td>NaN</td>\n      <td>NaN</td>\n      <td>NaN</td>\n      <td>NaN</td>\n      <td>NaN</td>\n      <td>NaN</td>\n      <td>NaN</td>\n      <td>NaN</td>\n      <td>NaN</td>\n      <td>NaN</td>\n      <td>NaN</td>\n      <td>NaN</td>\n      <td>NaN</td>\n      <td>NaN</td>\n      <td>NaN</td>\n      <td>NaN</td>\n      <td>NaN</td>\n      <td>NaN</td>\n      <td>NaN</td>\n      <td>NaN</td>\n      <td>NaN</td>\n      <td>NaN</td>\n      <td>NaN</td>\n      <td>NaN</td>\n      <td>NaN</td>\n      <td>NaN</td>\n      <td>NaN</td>\n      <td>NaN</td>\n      <td>NaN</td>\n      <td>NaN</td>\n      <td>NaN</td>\n      <td>NaN</td>\n      <td>NaN</td>\n      <td>NaN</td>\n    </tr>\n  </tbody>\n</table>\n</div>"
     },
     "metadata": {},
     "execution_count": 79
    }
   ],
   "source": [
    "missing_df.head()"
   ]
  },
  {
   "cell_type": "code",
   "execution_count": null,
   "metadata": {},
   "outputs": [],
   "source": []
  }
 ]
}