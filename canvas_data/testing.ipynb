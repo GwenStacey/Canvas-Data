{
 "metadata": {
  "language_info": {
   "codemirror_mode": {
    "name": "ipython",
    "version": 3
   },
   "file_extension": ".py",
   "mimetype": "text/x-python",
   "name": "python",
   "nbconvert_exporter": "python",
   "pygments_lexer": "ipython3",
   "version": "3.8.5-final"
  },
  "orig_nbformat": 2,
  "kernelspec": {
   "name": "canvas-data",
   "display_name": "canvas-data",
   "language": "python"
  }
 },
 "nbformat": 4,
 "nbformat_minor": 2,
 "cells": [
  {
   "cell_type": "code",
   "execution_count": 2,
   "metadata": {},
   "outputs": [
    {
     "output_type": "execute_result",
     "data": {
      "text/plain": [
       "True"
      ]
     },
     "metadata": {},
     "execution_count": 2
    }
   ],
   "source": [
    "import requests\n",
    "import os\n",
    "from dotenv import load_dotenv\n",
    "load_dotenv()"
   ]
  },
  {
   "cell_type": "code",
   "execution_count": 3,
   "metadata": {},
   "outputs": [
    {
     "output_type": "execute_result",
     "data": {
      "text/plain": [
       "         Full name     Sortable name      Canvas user id  \\\n",
       "0  Michael Edwards  Edwards, Michael  168550000000002232   \n",
       "1      Tevin Davis      Davis, Tevin  168550000000001628   \n",
       "2    Russell Smith    Smith, Russell  168550000000001657   \n",
       "3     Nick Verdina     Verdina, Nick  168550000000001988   \n",
       "4      Toni Darden      Darden, Toni  168550000000002221   \n",
       "\n",
       "   Overall course grade  Assignment on time percent Last page view time  \\\n",
       "0                 16.67                   20.000000        Oct 29, 2020   \n",
       "1                 16.67                   66.666667        Oct 28, 2020   \n",
       "2                 66.67                   64.285714        Oct 25, 2020   \n",
       "3                 16.67                  100.000000        Oct 26, 2020   \n",
       "4                 44.44                   85.714286        Oct 26, 2020   \n",
       "\n",
       "  Last participation time Last logged out Page Views Participations  \\\n",
       "0            Oct 21, 2020               -         86             16   \n",
       "1            Oct 25, 2020               -         44             10   \n",
       "2            Oct 25, 2020               -         75             22   \n",
       "3            Oct 26, 2020               -         20              6   \n",
       "4            Oct 21, 2020               -         81             16   \n",
       "\n",
       "                                Email                                SIS Id  \n",
       "0  michael-edwards@lambdastudents.com  9d51c8f1-da0a-4e49-b598-62b63c26fd6a  \n",
       "1      tevin-davis@lambdastudents.com  99157a50-1a43-4a25-a575-951140640d13  \n",
       "2    russell-smith@lambdastudents.com  3138cc92-5269-4b67-b255-ef387aa27c19  \n",
       "3     nick-verdina@lambdastudents.com  3e847d95-15bc-49e1-8c05-e9b71086c97e  \n",
       "4      toni-darden@lambdastudents.com  56d07311-97b2-4aec-aaed-11f22aff1a88  "
      ],
      "text/html": "<div>\n<style scoped>\n    .dataframe tbody tr th:only-of-type {\n        vertical-align: middle;\n    }\n\n    .dataframe tbody tr th {\n        vertical-align: top;\n    }\n\n    .dataframe thead th {\n        text-align: right;\n    }\n</style>\n<table border=\"1\" class=\"dataframe\">\n  <thead>\n    <tr style=\"text-align: right;\">\n      <th></th>\n      <th>Full name</th>\n      <th>Sortable name</th>\n      <th>Canvas user id</th>\n      <th>Overall course grade</th>\n      <th>Assignment on time percent</th>\n      <th>Last page view time</th>\n      <th>Last participation time</th>\n      <th>Last logged out</th>\n      <th>Page Views</th>\n      <th>Participations</th>\n      <th>Email</th>\n      <th>SIS Id</th>\n    </tr>\n  </thead>\n  <tbody>\n    <tr>\n      <th>0</th>\n      <td>Michael Edwards</td>\n      <td>Edwards, Michael</td>\n      <td>168550000000002232</td>\n      <td>16.67</td>\n      <td>20.000000</td>\n      <td>Oct 29, 2020</td>\n      <td>Oct 21, 2020</td>\n      <td>-</td>\n      <td>86</td>\n      <td>16</td>\n      <td>michael-edwards@lambdastudents.com</td>\n      <td>9d51c8f1-da0a-4e49-b598-62b63c26fd6a</td>\n    </tr>\n    <tr>\n      <th>1</th>\n      <td>Tevin Davis</td>\n      <td>Davis, Tevin</td>\n      <td>168550000000001628</td>\n      <td>16.67</td>\n      <td>66.666667</td>\n      <td>Oct 28, 2020</td>\n      <td>Oct 25, 2020</td>\n      <td>-</td>\n      <td>44</td>\n      <td>10</td>\n      <td>tevin-davis@lambdastudents.com</td>\n      <td>99157a50-1a43-4a25-a575-951140640d13</td>\n    </tr>\n    <tr>\n      <th>2</th>\n      <td>Russell Smith</td>\n      <td>Smith, Russell</td>\n      <td>168550000000001657</td>\n      <td>66.67</td>\n      <td>64.285714</td>\n      <td>Oct 25, 2020</td>\n      <td>Oct 25, 2020</td>\n      <td>-</td>\n      <td>75</td>\n      <td>22</td>\n      <td>russell-smith@lambdastudents.com</td>\n      <td>3138cc92-5269-4b67-b255-ef387aa27c19</td>\n    </tr>\n    <tr>\n      <th>3</th>\n      <td>Nick Verdina</td>\n      <td>Verdina, Nick</td>\n      <td>168550000000001988</td>\n      <td>16.67</td>\n      <td>100.000000</td>\n      <td>Oct 26, 2020</td>\n      <td>Oct 26, 2020</td>\n      <td>-</td>\n      <td>20</td>\n      <td>6</td>\n      <td>nick-verdina@lambdastudents.com</td>\n      <td>3e847d95-15bc-49e1-8c05-e9b71086c97e</td>\n    </tr>\n    <tr>\n      <th>4</th>\n      <td>Toni Darden</td>\n      <td>Darden, Toni</td>\n      <td>168550000000002221</td>\n      <td>44.44</td>\n      <td>85.714286</td>\n      <td>Oct 26, 2020</td>\n      <td>Oct 21, 2020</td>\n      <td>-</td>\n      <td>81</td>\n      <td>16</td>\n      <td>toni-darden@lambdastudents.com</td>\n      <td>56d07311-97b2-4aec-aaed-11f22aff1a88</td>\n    </tr>\n  </tbody>\n</table>\n</div>"
     },
     "metadata": {},
     "execution_count": 3
    }
   ],
   "source": [
    "import pandas as pd\n",
    "\n",
    "students = pd.read_csv(\"students.csv\")\n",
    "students.head()"
   ]
  },
  {
   "cell_type": "code",
   "execution_count": 4,
   "metadata": {},
   "outputs": [],
   "source": [
    "pd.set_option(\"display.max_columns\", None)"
   ]
  },
  {
   "cell_type": "code",
   "execution_count": 5,
   "metadata": {},
   "outputs": [],
   "source": [
    "api_key = os.getenv(\"API-KEY\")\n",
    "api_url = os.getenv(\"API-URL\")\n",
    "headers = {\"Authorization\":\n",
    "           f\"Bearer {api_key}\"}"
   ]
  },
  {
   "cell_type": "code",
   "execution_count": 10,
   "metadata": {},
   "outputs": [],
   "source": [
    "r = requests.get('https://lambdaschool.instructure.com/api/v1'\n",
    "'/users/168550000000002221/graded_submissions?per_page=100', headers=headers)\n",
    "data_set = []"
   ]
  },
  {
   "cell_type": "code",
   "execution_count": 11,
   "metadata": {},
   "outputs": [],
   "source": [
    "raw = r.json()\n",
    "\n",
    "for submission in raw:\n",
    "    data_set.append(submission)"
   ]
  },
  {
   "cell_type": "code",
   "execution_count": 72,
   "metadata": {},
   "outputs": [],
   "source": [
    "def get_submissions(r):\n",
    "    data_set = []\n",
    "    raw = r.json()\n",
    "\n",
    "    for submission in raw:\n",
    "        data_set.append(submission)\n",
    "\n",
    "    if \"next\" in r.links.keys():\n",
    "        while \"next\" in r.links.keys():\n",
    "            r = requests.get(r.links[\"next\"][\"url\"], headers=headers)\n",
    "            raw = r.json()\n",
    "            for submission in raw:\n",
    "                data_set.append(submission)\n",
    "        if \"last\" in r.links.keys() and r.links['current']['url'] == r.links['last']['url']:\n",
    "            print('Done!')\n",
    "    else:\n",
    "        print(\"Just one page!\")\n",
    "    return data_set"
   ]
  },
  {
   "cell_type": "code",
   "execution_count": 14,
   "metadata": {},
   "outputs": [
    {
     "output_type": "stream",
     "name": "stdout",
     "text": [
      "Just one page!\n"
     ]
    }
   ],
   "source": [
    "data_set = get_submissions(r)"
   ]
  },
  {
   "cell_type": "code",
   "execution_count": 9,
   "metadata": {},
   "outputs": [
    {
     "output_type": "execute_result",
     "data": {
      "text/plain": [
       "True"
      ]
     },
     "metadata": {},
     "execution_count": 9
    }
   ],
   "source": [
    "r.links['last']['url'] == r.links['current']['url']"
   ]
  },
  {
   "cell_type": "code",
   "execution_count": 15,
   "metadata": {},
   "outputs": [],
   "source": [
    "import json\n",
    "with open(\"graded_subs.json\", \"w\") as outfile:\n",
    "    json.dump(data_set, outfile)"
   ]
  },
  {
   "cell_type": "code",
   "execution_count": 16,
   "metadata": {},
   "outputs": [
    {
     "output_type": "execute_result",
     "data": {
      "text/plain": [
       "       id  body                                                url  grade  \\\n",
       "0  499928  None                                               None      0   \n",
       "1  499991  None                                               None      0   \n",
       "2  499907  None                                               None      0   \n",
       "3  500054  None                                               None      0   \n",
       "4  187304        https://github.com/Toniddarden/Sprint-Challeng...      0   \n",
       "\n",
       "   score              submitted_at  assignment_id  user_id submission_type  \\\n",
       "0      0                       NaT           9503     2221            None   \n",
       "1      0                       NaT           9544     2221            None   \n",
       "2      0                       NaT           9489     2221            None   \n",
       "3      0                       NaT           9586     2221            None   \n",
       "4      0 2020-11-09 22:26:01+00:00           3533     2221      online_url   \n",
       "\n",
       "  workflow_state  grade_matches_current_submission                 graded_at  \\\n",
       "0         graded                              True 2020-12-11 08:18:23+00:00   \n",
       "1         graded                              True 2020-12-09 08:03:59+00:00   \n",
       "2         graded                              True 2020-12-07 08:25:16+00:00   \n",
       "3         graded                              True 2020-12-03 08:16:55+00:00   \n",
       "4         graded                              True 2020-11-20 03:05:50+00:00   \n",
       "\n",
       "   grader_id  attempt       cached_due_date  excused  late_policy_status  \\\n",
       "0        NaN      NaN  2020-12-11T07:59:00Z      NaN                 NaN   \n",
       "1        NaN      NaN  2020-12-09T07:59:00Z      NaN                 NaN   \n",
       "2        NaN      NaN  2020-12-07T07:59:00Z      NaN                 NaN   \n",
       "3        NaN      NaN  2020-12-03T07:59:00Z      NaN                 NaN   \n",
       "4     2995.0      1.0  2020-11-10T07:59:59Z      0.0                 NaN   \n",
       "\n",
       "   points_deducted  grading_period_id  extra_attempts  \\\n",
       "0              NaN                NaN             NaN   \n",
       "1              NaN                NaN             NaN   \n",
       "2              NaN                NaN             NaN   \n",
       "3              NaN                NaN             NaN   \n",
       "4              NaN                NaN             NaN   \n",
       "\n",
       "                  posted_at   late  missing  seconds_late  entered_grade  \\\n",
       "0 2020-12-11 08:18:23+00:00  False     True         50545              0   \n",
       "1 2020-12-09 08:03:59+00:00  False     True        223345              0   \n",
       "2 2020-12-07 08:25:16+00:00  False     True        396145              0   \n",
       "3 2020-12-03 08:16:55+00:00  False     True        741745              0   \n",
       "4 2020-11-20 03:05:50+00:00  False    False             0              0   \n",
       "\n",
       "   entered_score                                        preview_url  \\\n",
       "0              0  https://lambdaschool.instructure.com/courses/5...   \n",
       "1              0  https://lambdaschool.instructure.com/courses/5...   \n",
       "2              0  https://lambdaschool.instructure.com/courses/5...   \n",
       "3              0  https://lambdaschool.instructure.com/courses/5...   \n",
       "4              0  https://lambdaschool.instructure.com/courses/3...   \n",
       "\n",
       "  anonymous_id                                        attachments  \n",
       "0        ocevm                                                NaN  \n",
       "1        GQr9S                                                NaN  \n",
       "2        ofy3o                                                NaN  \n",
       "3        tYKND                                                NaN  \n",
       "4        78XmV  [{'id': 73583, 'uuid': 'HrU6yXvNNAjvA9U9E5N9xF...  "
      ],
      "text/html": "<div>\n<style scoped>\n    .dataframe tbody tr th:only-of-type {\n        vertical-align: middle;\n    }\n\n    .dataframe tbody tr th {\n        vertical-align: top;\n    }\n\n    .dataframe thead th {\n        text-align: right;\n    }\n</style>\n<table border=\"1\" class=\"dataframe\">\n  <thead>\n    <tr style=\"text-align: right;\">\n      <th></th>\n      <th>id</th>\n      <th>body</th>\n      <th>url</th>\n      <th>grade</th>\n      <th>score</th>\n      <th>submitted_at</th>\n      <th>assignment_id</th>\n      <th>user_id</th>\n      <th>submission_type</th>\n      <th>workflow_state</th>\n      <th>grade_matches_current_submission</th>\n      <th>graded_at</th>\n      <th>grader_id</th>\n      <th>attempt</th>\n      <th>cached_due_date</th>\n      <th>excused</th>\n      <th>late_policy_status</th>\n      <th>points_deducted</th>\n      <th>grading_period_id</th>\n      <th>extra_attempts</th>\n      <th>posted_at</th>\n      <th>late</th>\n      <th>missing</th>\n      <th>seconds_late</th>\n      <th>entered_grade</th>\n      <th>entered_score</th>\n      <th>preview_url</th>\n      <th>anonymous_id</th>\n      <th>attachments</th>\n    </tr>\n  </thead>\n  <tbody>\n    <tr>\n      <th>0</th>\n      <td>499928</td>\n      <td>None</td>\n      <td>None</td>\n      <td>0</td>\n      <td>0</td>\n      <td>NaT</td>\n      <td>9503</td>\n      <td>2221</td>\n      <td>None</td>\n      <td>graded</td>\n      <td>True</td>\n      <td>2020-12-11 08:18:23+00:00</td>\n      <td>NaN</td>\n      <td>NaN</td>\n      <td>2020-12-11T07:59:00Z</td>\n      <td>NaN</td>\n      <td>NaN</td>\n      <td>NaN</td>\n      <td>NaN</td>\n      <td>NaN</td>\n      <td>2020-12-11 08:18:23+00:00</td>\n      <td>False</td>\n      <td>True</td>\n      <td>50545</td>\n      <td>0</td>\n      <td>0</td>\n      <td>https://lambdaschool.instructure.com/courses/5...</td>\n      <td>ocevm</td>\n      <td>NaN</td>\n    </tr>\n    <tr>\n      <th>1</th>\n      <td>499991</td>\n      <td>None</td>\n      <td>None</td>\n      <td>0</td>\n      <td>0</td>\n      <td>NaT</td>\n      <td>9544</td>\n      <td>2221</td>\n      <td>None</td>\n      <td>graded</td>\n      <td>True</td>\n      <td>2020-12-09 08:03:59+00:00</td>\n      <td>NaN</td>\n      <td>NaN</td>\n      <td>2020-12-09T07:59:00Z</td>\n      <td>NaN</td>\n      <td>NaN</td>\n      <td>NaN</td>\n      <td>NaN</td>\n      <td>NaN</td>\n      <td>2020-12-09 08:03:59+00:00</td>\n      <td>False</td>\n      <td>True</td>\n      <td>223345</td>\n      <td>0</td>\n      <td>0</td>\n      <td>https://lambdaschool.instructure.com/courses/5...</td>\n      <td>GQr9S</td>\n      <td>NaN</td>\n    </tr>\n    <tr>\n      <th>2</th>\n      <td>499907</td>\n      <td>None</td>\n      <td>None</td>\n      <td>0</td>\n      <td>0</td>\n      <td>NaT</td>\n      <td>9489</td>\n      <td>2221</td>\n      <td>None</td>\n      <td>graded</td>\n      <td>True</td>\n      <td>2020-12-07 08:25:16+00:00</td>\n      <td>NaN</td>\n      <td>NaN</td>\n      <td>2020-12-07T07:59:00Z</td>\n      <td>NaN</td>\n      <td>NaN</td>\n      <td>NaN</td>\n      <td>NaN</td>\n      <td>NaN</td>\n      <td>2020-12-07 08:25:16+00:00</td>\n      <td>False</td>\n      <td>True</td>\n      <td>396145</td>\n      <td>0</td>\n      <td>0</td>\n      <td>https://lambdaschool.instructure.com/courses/5...</td>\n      <td>ofy3o</td>\n      <td>NaN</td>\n    </tr>\n    <tr>\n      <th>3</th>\n      <td>500054</td>\n      <td>None</td>\n      <td>None</td>\n      <td>0</td>\n      <td>0</td>\n      <td>NaT</td>\n      <td>9586</td>\n      <td>2221</td>\n      <td>None</td>\n      <td>graded</td>\n      <td>True</td>\n      <td>2020-12-03 08:16:55+00:00</td>\n      <td>NaN</td>\n      <td>NaN</td>\n      <td>2020-12-03T07:59:00Z</td>\n      <td>NaN</td>\n      <td>NaN</td>\n      <td>NaN</td>\n      <td>NaN</td>\n      <td>NaN</td>\n      <td>2020-12-03 08:16:55+00:00</td>\n      <td>False</td>\n      <td>True</td>\n      <td>741745</td>\n      <td>0</td>\n      <td>0</td>\n      <td>https://lambdaschool.instructure.com/courses/5...</td>\n      <td>tYKND</td>\n      <td>NaN</td>\n    </tr>\n    <tr>\n      <th>4</th>\n      <td>187304</td>\n      <td></td>\n      <td>https://github.com/Toniddarden/Sprint-Challeng...</td>\n      <td>0</td>\n      <td>0</td>\n      <td>2020-11-09 22:26:01+00:00</td>\n      <td>3533</td>\n      <td>2221</td>\n      <td>online_url</td>\n      <td>graded</td>\n      <td>True</td>\n      <td>2020-11-20 03:05:50+00:00</td>\n      <td>2995.0</td>\n      <td>1.0</td>\n      <td>2020-11-10T07:59:59Z</td>\n      <td>0.0</td>\n      <td>NaN</td>\n      <td>NaN</td>\n      <td>NaN</td>\n      <td>NaN</td>\n      <td>2020-11-20 03:05:50+00:00</td>\n      <td>False</td>\n      <td>False</td>\n      <td>0</td>\n      <td>0</td>\n      <td>0</td>\n      <td>https://lambdaschool.instructure.com/courses/3...</td>\n      <td>78XmV</td>\n      <td>[{'id': 73583, 'uuid': 'HrU6yXvNNAjvA9U9E5N9xF...</td>\n    </tr>\n  </tbody>\n</table>\n</div>"
     },
     "metadata": {},
     "execution_count": 16
    }
   ],
   "source": [
    "grades_df = pd.read_json(\"graded_subs.json\")\n",
    "grades_df.head()"
   ]
  },
  {
   "cell_type": "code",
   "execution_count": 17,
   "metadata": {},
   "outputs": [
    {
     "output_type": "execute_result",
     "data": {
      "text/plain": [
       "                  id      grade      score  assignment_id  user_id  \\\n",
       "count      78.000000  78.000000  78.000000      78.000000     78.0   \n",
       "mean   203337.820513   0.217949   0.217949    3182.307692   2221.0   \n",
       "std     69411.971897   1.040073   1.040073    1628.712624      0.0   \n",
       "min    187254.000000   0.000000   0.000000    2031.000000   2221.0   \n",
       "25%    187279.500000   0.000000   0.000000    2090.000000   2221.0   \n",
       "50%    187304.500000   0.000000   0.000000    3363.000000   2221.0   \n",
       "75%    187331.750000   0.000000   0.000000    3473.750000   2221.0   \n",
       "max    500054.000000   8.000000   8.000000    9586.000000   2221.0   \n",
       "\n",
       "         grader_id    attempt  excused  late_policy_status  points_deducted  \\\n",
       "count    14.000000  14.000000      3.0                 0.0              4.0   \n",
       "mean  -1465.500000   1.071429      0.0                 NaN              0.0   \n",
       "std    2432.947144   0.267261      0.0                 NaN              0.0   \n",
       "min   -2865.000000   1.000000      0.0                 NaN              0.0   \n",
       "25%   -2803.750000   1.000000      0.0                 NaN              0.0   \n",
       "50%   -2731.000000   1.000000      0.0                 NaN              0.0   \n",
       "75%   -1989.750000   1.000000      0.0                 NaN              0.0   \n",
       "max    2995.000000   2.000000      0.0                 NaN              0.0   \n",
       "\n",
       "       grading_period_id  extra_attempts  seconds_late  entered_grade  \\\n",
       "count                0.0             0.0  7.800000e+01      78.000000   \n",
       "mean                 NaN             NaN  2.856454e+06       0.217949   \n",
       "std                  NaN             NaN  2.050077e+06       1.040073   \n",
       "min                  NaN             NaN  0.000000e+00       0.000000   \n",
       "25%                  NaN             NaN  8.251750e+04       0.000000   \n",
       "50%                  NaN             NaN  3.418316e+06       0.000000   \n",
       "75%                  NaN             NaN  4.460487e+06       0.000000   \n",
       "max                  NaN             NaN  6.121886e+06       8.000000   \n",
       "\n",
       "       entered_score  \n",
       "count      78.000000  \n",
       "mean        0.217949  \n",
       "std         1.040073  \n",
       "min         0.000000  \n",
       "25%         0.000000  \n",
       "50%         0.000000  \n",
       "75%         0.000000  \n",
       "max         8.000000  "
      ],
      "text/html": "<div>\n<style scoped>\n    .dataframe tbody tr th:only-of-type {\n        vertical-align: middle;\n    }\n\n    .dataframe tbody tr th {\n        vertical-align: top;\n    }\n\n    .dataframe thead th {\n        text-align: right;\n    }\n</style>\n<table border=\"1\" class=\"dataframe\">\n  <thead>\n    <tr style=\"text-align: right;\">\n      <th></th>\n      <th>id</th>\n      <th>grade</th>\n      <th>score</th>\n      <th>assignment_id</th>\n      <th>user_id</th>\n      <th>grader_id</th>\n      <th>attempt</th>\n      <th>excused</th>\n      <th>late_policy_status</th>\n      <th>points_deducted</th>\n      <th>grading_period_id</th>\n      <th>extra_attempts</th>\n      <th>seconds_late</th>\n      <th>entered_grade</th>\n      <th>entered_score</th>\n    </tr>\n  </thead>\n  <tbody>\n    <tr>\n      <th>count</th>\n      <td>78.000000</td>\n      <td>78.000000</td>\n      <td>78.000000</td>\n      <td>78.000000</td>\n      <td>78.0</td>\n      <td>14.000000</td>\n      <td>14.000000</td>\n      <td>3.0</td>\n      <td>0.0</td>\n      <td>4.0</td>\n      <td>0.0</td>\n      <td>0.0</td>\n      <td>7.800000e+01</td>\n      <td>78.000000</td>\n      <td>78.000000</td>\n    </tr>\n    <tr>\n      <th>mean</th>\n      <td>203337.820513</td>\n      <td>0.217949</td>\n      <td>0.217949</td>\n      <td>3182.307692</td>\n      <td>2221.0</td>\n      <td>-1465.500000</td>\n      <td>1.071429</td>\n      <td>0.0</td>\n      <td>NaN</td>\n      <td>0.0</td>\n      <td>NaN</td>\n      <td>NaN</td>\n      <td>2.856454e+06</td>\n      <td>0.217949</td>\n      <td>0.217949</td>\n    </tr>\n    <tr>\n      <th>std</th>\n      <td>69411.971897</td>\n      <td>1.040073</td>\n      <td>1.040073</td>\n      <td>1628.712624</td>\n      <td>0.0</td>\n      <td>2432.947144</td>\n      <td>0.267261</td>\n      <td>0.0</td>\n      <td>NaN</td>\n      <td>0.0</td>\n      <td>NaN</td>\n      <td>NaN</td>\n      <td>2.050077e+06</td>\n      <td>1.040073</td>\n      <td>1.040073</td>\n    </tr>\n    <tr>\n      <th>min</th>\n      <td>187254.000000</td>\n      <td>0.000000</td>\n      <td>0.000000</td>\n      <td>2031.000000</td>\n      <td>2221.0</td>\n      <td>-2865.000000</td>\n      <td>1.000000</td>\n      <td>0.0</td>\n      <td>NaN</td>\n      <td>0.0</td>\n      <td>NaN</td>\n      <td>NaN</td>\n      <td>0.000000e+00</td>\n      <td>0.000000</td>\n      <td>0.000000</td>\n    </tr>\n    <tr>\n      <th>25%</th>\n      <td>187279.500000</td>\n      <td>0.000000</td>\n      <td>0.000000</td>\n      <td>2090.000000</td>\n      <td>2221.0</td>\n      <td>-2803.750000</td>\n      <td>1.000000</td>\n      <td>0.0</td>\n      <td>NaN</td>\n      <td>0.0</td>\n      <td>NaN</td>\n      <td>NaN</td>\n      <td>8.251750e+04</td>\n      <td>0.000000</td>\n      <td>0.000000</td>\n    </tr>\n    <tr>\n      <th>50%</th>\n      <td>187304.500000</td>\n      <td>0.000000</td>\n      <td>0.000000</td>\n      <td>3363.000000</td>\n      <td>2221.0</td>\n      <td>-2731.000000</td>\n      <td>1.000000</td>\n      <td>0.0</td>\n      <td>NaN</td>\n      <td>0.0</td>\n      <td>NaN</td>\n      <td>NaN</td>\n      <td>3.418316e+06</td>\n      <td>0.000000</td>\n      <td>0.000000</td>\n    </tr>\n    <tr>\n      <th>75%</th>\n      <td>187331.750000</td>\n      <td>0.000000</td>\n      <td>0.000000</td>\n      <td>3473.750000</td>\n      <td>2221.0</td>\n      <td>-1989.750000</td>\n      <td>1.000000</td>\n      <td>0.0</td>\n      <td>NaN</td>\n      <td>0.0</td>\n      <td>NaN</td>\n      <td>NaN</td>\n      <td>4.460487e+06</td>\n      <td>0.000000</td>\n      <td>0.000000</td>\n    </tr>\n    <tr>\n      <th>max</th>\n      <td>500054.000000</td>\n      <td>8.000000</td>\n      <td>8.000000</td>\n      <td>9586.000000</td>\n      <td>2221.0</td>\n      <td>2995.000000</td>\n      <td>2.000000</td>\n      <td>0.0</td>\n      <td>NaN</td>\n      <td>0.0</td>\n      <td>NaN</td>\n      <td>NaN</td>\n      <td>6.121886e+06</td>\n      <td>8.000000</td>\n      <td>8.000000</td>\n    </tr>\n  </tbody>\n</table>\n</div>"
     },
     "metadata": {},
     "execution_count": 17
    }
   ],
   "source": [
    "grades_df.describe()"
   ]
  },
  {
   "cell_type": "code",
   "execution_count": 18,
   "metadata": {},
   "outputs": [
    {
     "output_type": "execute_result",
     "data": {
      "text/plain": [
       "[<matplotlib.lines.Line2D at 0x26438da5c10>]"
      ]
     },
     "metadata": {},
     "execution_count": 18
    },
    {
     "output_type": "display_data",
     "data": {
      "text/plain": "<Figure size 432x288 with 1 Axes>",
      "image/svg+xml": "<?xml version=\"1.0\" encoding=\"utf-8\" standalone=\"no\"?>\r\n<!DOCTYPE svg PUBLIC \"-//W3C//DTD SVG 1.1//EN\"\r\n  \"http://www.w3.org/Graphics/SVG/1.1/DTD/svg11.dtd\">\r\n<!-- Created with matplotlib (https://matplotlib.org/) -->\r\n<svg height=\"248.518125pt\" version=\"1.1\" viewBox=\"0 0 372.103125 248.518125\" width=\"372.103125pt\" xmlns=\"http://www.w3.org/2000/svg\" xmlns:xlink=\"http://www.w3.org/1999/xlink\">\r\n <metadata>\r\n  <rdf:RDF xmlns:cc=\"http://creativecommons.org/ns#\" xmlns:dc=\"http://purl.org/dc/elements/1.1/\" xmlns:rdf=\"http://www.w3.org/1999/02/22-rdf-syntax-ns#\">\r\n   <cc:Work>\r\n    <dc:type rdf:resource=\"http://purl.org/dc/dcmitype/StillImage\"/>\r\n    <dc:date>2020-12-11T15:02:25.501624</dc:date>\r\n    <dc:format>image/svg+xml</dc:format>\r\n    <dc:creator>\r\n     <cc:Agent>\r\n      <dc:title>Matplotlib v3.3.3, https://matplotlib.org/</dc:title>\r\n     </cc:Agent>\r\n    </dc:creator>\r\n   </cc:Work>\r\n  </rdf:RDF>\r\n </metadata>\r\n <defs>\r\n  <style type=\"text/css\">*{stroke-linecap:butt;stroke-linejoin:round;}</style>\r\n </defs>\r\n <g id=\"figure_1\">\r\n  <g id=\"patch_1\">\r\n   <path d=\"M 0 248.518125 \r\nL 372.103125 248.518125 \r\nL 372.103125 0 \r\nL 0 0 \r\nz\r\n\" style=\"fill:none;\"/>\r\n  </g>\r\n  <g id=\"axes_1\">\r\n   <g id=\"patch_2\">\r\n    <path d=\"M 30.103125 224.64 \r\nL 364.903125 224.64 \r\nL 364.903125 7.2 \r\nL 30.103125 7.2 \r\nz\r\n\" style=\"fill:#ffffff;\"/>\r\n   </g>\r\n   <g id=\"matplotlib.axis_1\">\r\n    <g id=\"xtick_1\">\r\n     <g id=\"line2d_1\">\r\n      <defs>\r\n       <path d=\"M 0 0 \r\nL 0 3.5 \r\n\" id=\"m81c6b2597d\" style=\"stroke:#000000;stroke-width:0.8;\"/>\r\n      </defs>\r\n      <g>\r\n       <use style=\"stroke:#000000;stroke-width:0.8;\" x=\"49.597585\" xlink:href=\"#m81c6b2597d\" y=\"224.64\"/>\r\n      </g>\r\n     </g>\r\n     <g id=\"text_1\">\r\n      <!-- 2020-10-01 -->\r\n      <g transform=\"translate(20.539772 239.238437)scale(0.1 -0.1)\">\r\n       <defs>\r\n        <path d=\"M 19.1875 8.296875 \r\nL 53.609375 8.296875 \r\nL 53.609375 0 \r\nL 7.328125 0 \r\nL 7.328125 8.296875 \r\nQ 12.9375 14.109375 22.625 23.890625 \r\nQ 32.328125 33.6875 34.8125 36.53125 \r\nQ 39.546875 41.84375 41.421875 45.53125 \r\nQ 43.3125 49.21875 43.3125 52.78125 \r\nQ 43.3125 58.59375 39.234375 62.25 \r\nQ 35.15625 65.921875 28.609375 65.921875 \r\nQ 23.96875 65.921875 18.8125 64.3125 \r\nQ 13.671875 62.703125 7.8125 59.421875 \r\nL 7.8125 69.390625 \r\nQ 13.765625 71.78125 18.9375 73 \r\nQ 24.125 74.21875 28.421875 74.21875 \r\nQ 39.75 74.21875 46.484375 68.546875 \r\nQ 53.21875 62.890625 53.21875 53.421875 \r\nQ 53.21875 48.921875 51.53125 44.890625 \r\nQ 49.859375 40.875 45.40625 35.40625 \r\nQ 44.1875 33.984375 37.640625 27.21875 \r\nQ 31.109375 20.453125 19.1875 8.296875 \r\nz\r\n\" id=\"DejaVuSans-50\"/>\r\n        <path d=\"M 31.78125 66.40625 \r\nQ 24.171875 66.40625 20.328125 58.90625 \r\nQ 16.5 51.421875 16.5 36.375 \r\nQ 16.5 21.390625 20.328125 13.890625 \r\nQ 24.171875 6.390625 31.78125 6.390625 \r\nQ 39.453125 6.390625 43.28125 13.890625 \r\nQ 47.125 21.390625 47.125 36.375 \r\nQ 47.125 51.421875 43.28125 58.90625 \r\nQ 39.453125 66.40625 31.78125 66.40625 \r\nz\r\nM 31.78125 74.21875 \r\nQ 44.046875 74.21875 50.515625 64.515625 \r\nQ 56.984375 54.828125 56.984375 36.375 \r\nQ 56.984375 17.96875 50.515625 8.265625 \r\nQ 44.046875 -1.421875 31.78125 -1.421875 \r\nQ 19.53125 -1.421875 13.0625 8.265625 \r\nQ 6.59375 17.96875 6.59375 36.375 \r\nQ 6.59375 54.828125 13.0625 64.515625 \r\nQ 19.53125 74.21875 31.78125 74.21875 \r\nz\r\n\" id=\"DejaVuSans-48\"/>\r\n        <path d=\"M 4.890625 31.390625 \r\nL 31.203125 31.390625 \r\nL 31.203125 23.390625 \r\nL 4.890625 23.390625 \r\nz\r\n\" id=\"DejaVuSans-45\"/>\r\n        <path d=\"M 12.40625 8.296875 \r\nL 28.515625 8.296875 \r\nL 28.515625 63.921875 \r\nL 10.984375 60.40625 \r\nL 10.984375 69.390625 \r\nL 28.421875 72.90625 \r\nL 38.28125 72.90625 \r\nL 38.28125 8.296875 \r\nL 54.390625 8.296875 \r\nL 54.390625 0 \r\nL 12.40625 0 \r\nz\r\n\" id=\"DejaVuSans-49\"/>\r\n       </defs>\r\n       <use xlink:href=\"#DejaVuSans-50\"/>\r\n       <use x=\"63.623047\" xlink:href=\"#DejaVuSans-48\"/>\r\n       <use x=\"127.246094\" xlink:href=\"#DejaVuSans-50\"/>\r\n       <use x=\"190.869141\" xlink:href=\"#DejaVuSans-48\"/>\r\n       <use x=\"254.492188\" xlink:href=\"#DejaVuSans-45\"/>\r\n       <use x=\"290.576172\" xlink:href=\"#DejaVuSans-49\"/>\r\n       <use x=\"354.199219\" xlink:href=\"#DejaVuSans-48\"/>\r\n       <use x=\"417.822266\" xlink:href=\"#DejaVuSans-45\"/>\r\n       <use x=\"453.90625\" xlink:href=\"#DejaVuSans-48\"/>\r\n       <use x=\"517.529297\" xlink:href=\"#DejaVuSans-49\"/>\r\n      </g>\r\n     </g>\r\n    </g>\r\n    <g id=\"xtick_2\">\r\n     <g id=\"line2d_2\">\r\n      <g>\r\n       <use style=\"stroke:#000000;stroke-width:0.8;\" x=\"108.482696\" xlink:href=\"#m81c6b2597d\" y=\"224.64\"/>\r\n      </g>\r\n     </g>\r\n     <g id=\"text_2\">\r\n      <!-- 2020-10-15 -->\r\n      <g transform=\"translate(79.424884 239.238437)scale(0.1 -0.1)\">\r\n       <defs>\r\n        <path d=\"M 10.796875 72.90625 \r\nL 49.515625 72.90625 \r\nL 49.515625 64.59375 \r\nL 19.828125 64.59375 \r\nL 19.828125 46.734375 \r\nQ 21.96875 47.46875 24.109375 47.828125 \r\nQ 26.265625 48.1875 28.421875 48.1875 \r\nQ 40.625 48.1875 47.75 41.5 \r\nQ 54.890625 34.8125 54.890625 23.390625 \r\nQ 54.890625 11.625 47.5625 5.09375 \r\nQ 40.234375 -1.421875 26.90625 -1.421875 \r\nQ 22.3125 -1.421875 17.546875 -0.640625 \r\nQ 12.796875 0.140625 7.71875 1.703125 \r\nL 7.71875 11.625 \r\nQ 12.109375 9.234375 16.796875 8.0625 \r\nQ 21.484375 6.890625 26.703125 6.890625 \r\nQ 35.15625 6.890625 40.078125 11.328125 \r\nQ 45.015625 15.765625 45.015625 23.390625 \r\nQ 45.015625 31 40.078125 35.4375 \r\nQ 35.15625 39.890625 26.703125 39.890625 \r\nQ 22.75 39.890625 18.8125 39.015625 \r\nQ 14.890625 38.140625 10.796875 36.28125 \r\nz\r\n\" id=\"DejaVuSans-53\"/>\r\n       </defs>\r\n       <use xlink:href=\"#DejaVuSans-50\"/>\r\n       <use x=\"63.623047\" xlink:href=\"#DejaVuSans-48\"/>\r\n       <use x=\"127.246094\" xlink:href=\"#DejaVuSans-50\"/>\r\n       <use x=\"190.869141\" xlink:href=\"#DejaVuSans-48\"/>\r\n       <use x=\"254.492188\" xlink:href=\"#DejaVuSans-45\"/>\r\n       <use x=\"290.576172\" xlink:href=\"#DejaVuSans-49\"/>\r\n       <use x=\"354.199219\" xlink:href=\"#DejaVuSans-48\"/>\r\n       <use x=\"417.822266\" xlink:href=\"#DejaVuSans-45\"/>\r\n       <use x=\"453.90625\" xlink:href=\"#DejaVuSans-49\"/>\r\n       <use x=\"517.529297\" xlink:href=\"#DejaVuSans-53\"/>\r\n      </g>\r\n     </g>\r\n    </g>\r\n    <g id=\"xtick_3\">\r\n     <g id=\"line2d_3\">\r\n      <g>\r\n       <use style=\"stroke:#000000;stroke-width:0.8;\" x=\"179.986046\" xlink:href=\"#m81c6b2597d\" y=\"224.64\"/>\r\n      </g>\r\n     </g>\r\n     <g id=\"text_3\">\r\n      <!-- 2020-11-01 -->\r\n      <g transform=\"translate(150.928233 239.238437)scale(0.1 -0.1)\">\r\n       <use xlink:href=\"#DejaVuSans-50\"/>\r\n       <use x=\"63.623047\" xlink:href=\"#DejaVuSans-48\"/>\r\n       <use x=\"127.246094\" xlink:href=\"#DejaVuSans-50\"/>\r\n       <use x=\"190.869141\" xlink:href=\"#DejaVuSans-48\"/>\r\n       <use x=\"254.492188\" xlink:href=\"#DejaVuSans-45\"/>\r\n       <use x=\"290.576172\" xlink:href=\"#DejaVuSans-49\"/>\r\n       <use x=\"354.199219\" xlink:href=\"#DejaVuSans-49\"/>\r\n       <use x=\"417.822266\" xlink:href=\"#DejaVuSans-45\"/>\r\n       <use x=\"453.90625\" xlink:href=\"#DejaVuSans-48\"/>\r\n       <use x=\"517.529297\" xlink:href=\"#DejaVuSans-49\"/>\r\n      </g>\r\n     </g>\r\n    </g>\r\n    <g id=\"xtick_4\">\r\n     <g id=\"line2d_4\">\r\n      <g>\r\n       <use style=\"stroke:#000000;stroke-width:0.8;\" x=\"238.871157\" xlink:href=\"#m81c6b2597d\" y=\"224.64\"/>\r\n      </g>\r\n     </g>\r\n     <g id=\"text_4\">\r\n      <!-- 2020-11-15 -->\r\n      <g transform=\"translate(209.813345 239.238437)scale(0.1 -0.1)\">\r\n       <use xlink:href=\"#DejaVuSans-50\"/>\r\n       <use x=\"63.623047\" xlink:href=\"#DejaVuSans-48\"/>\r\n       <use x=\"127.246094\" xlink:href=\"#DejaVuSans-50\"/>\r\n       <use x=\"190.869141\" xlink:href=\"#DejaVuSans-48\"/>\r\n       <use x=\"254.492188\" xlink:href=\"#DejaVuSans-45\"/>\r\n       <use x=\"290.576172\" xlink:href=\"#DejaVuSans-49\"/>\r\n       <use x=\"354.199219\" xlink:href=\"#DejaVuSans-49\"/>\r\n       <use x=\"417.822266\" xlink:href=\"#DejaVuSans-45\"/>\r\n       <use x=\"453.90625\" xlink:href=\"#DejaVuSans-49\"/>\r\n       <use x=\"517.529297\" xlink:href=\"#DejaVuSans-53\"/>\r\n      </g>\r\n     </g>\r\n    </g>\r\n    <g id=\"xtick_5\">\r\n     <g id=\"line2d_5\">\r\n      <g>\r\n       <use style=\"stroke:#000000;stroke-width:0.8;\" x=\"306.168427\" xlink:href=\"#m81c6b2597d\" y=\"224.64\"/>\r\n      </g>\r\n     </g>\r\n     <g id=\"text_5\">\r\n      <!-- 2020-12-01 -->\r\n      <g transform=\"translate(277.110615 239.238437)scale(0.1 -0.1)\">\r\n       <use xlink:href=\"#DejaVuSans-50\"/>\r\n       <use x=\"63.623047\" xlink:href=\"#DejaVuSans-48\"/>\r\n       <use x=\"127.246094\" xlink:href=\"#DejaVuSans-50\"/>\r\n       <use x=\"190.869141\" xlink:href=\"#DejaVuSans-48\"/>\r\n       <use x=\"254.492188\" xlink:href=\"#DejaVuSans-45\"/>\r\n       <use x=\"290.576172\" xlink:href=\"#DejaVuSans-49\"/>\r\n       <use x=\"354.199219\" xlink:href=\"#DejaVuSans-50\"/>\r\n       <use x=\"417.822266\" xlink:href=\"#DejaVuSans-45\"/>\r\n       <use x=\"453.90625\" xlink:href=\"#DejaVuSans-48\"/>\r\n       <use x=\"517.529297\" xlink:href=\"#DejaVuSans-49\"/>\r\n      </g>\r\n     </g>\r\n    </g>\r\n   </g>\r\n   <g id=\"matplotlib.axis_2\">\r\n    <g id=\"ytick_1\">\r\n     <g id=\"line2d_6\">\r\n      <defs>\r\n       <path d=\"M 0 0 \r\nL -3.5 0 \r\n\" id=\"ma3d8c8f096\" style=\"stroke:#000000;stroke-width:0.8;\"/>\r\n      </defs>\r\n      <g>\r\n       <use style=\"stroke:#000000;stroke-width:0.8;\" x=\"30.103125\" xlink:href=\"#ma3d8c8f096\" y=\"214.756364\"/>\r\n      </g>\r\n     </g>\r\n     <g id=\"text_6\">\r\n      <!-- 0.0 -->\r\n      <g transform=\"translate(7.2 218.555582)scale(0.1 -0.1)\">\r\n       <defs>\r\n        <path d=\"M 10.6875 12.40625 \r\nL 21 12.40625 \r\nL 21 0 \r\nL 10.6875 0 \r\nz\r\n\" id=\"DejaVuSans-46\"/>\r\n       </defs>\r\n       <use xlink:href=\"#DejaVuSans-48\"/>\r\n       <use x=\"63.623047\" xlink:href=\"#DejaVuSans-46\"/>\r\n       <use x=\"95.410156\" xlink:href=\"#DejaVuSans-48\"/>\r\n      </g>\r\n     </g>\r\n    </g>\r\n    <g id=\"ytick_2\">\r\n     <g id=\"line2d_7\">\r\n      <g>\r\n       <use style=\"stroke:#000000;stroke-width:0.8;\" x=\"30.103125\" xlink:href=\"#ma3d8c8f096\" y=\"175.221818\"/>\r\n      </g>\r\n     </g>\r\n     <g id=\"text_7\">\r\n      <!-- 0.2 -->\r\n      <g transform=\"translate(7.2 179.021037)scale(0.1 -0.1)\">\r\n       <use xlink:href=\"#DejaVuSans-48\"/>\r\n       <use x=\"63.623047\" xlink:href=\"#DejaVuSans-46\"/>\r\n       <use x=\"95.410156\" xlink:href=\"#DejaVuSans-50\"/>\r\n      </g>\r\n     </g>\r\n    </g>\r\n    <g id=\"ytick_3\">\r\n     <g id=\"line2d_8\">\r\n      <g>\r\n       <use style=\"stroke:#000000;stroke-width:0.8;\" x=\"30.103125\" xlink:href=\"#ma3d8c8f096\" y=\"135.687273\"/>\r\n      </g>\r\n     </g>\r\n     <g id=\"text_8\">\r\n      <!-- 0.4 -->\r\n      <g transform=\"translate(7.2 139.486491)scale(0.1 -0.1)\">\r\n       <defs>\r\n        <path d=\"M 37.796875 64.3125 \r\nL 12.890625 25.390625 \r\nL 37.796875 25.390625 \r\nz\r\nM 35.203125 72.90625 \r\nL 47.609375 72.90625 \r\nL 47.609375 25.390625 \r\nL 58.015625 25.390625 \r\nL 58.015625 17.1875 \r\nL 47.609375 17.1875 \r\nL 47.609375 0 \r\nL 37.796875 0 \r\nL 37.796875 17.1875 \r\nL 4.890625 17.1875 \r\nL 4.890625 26.703125 \r\nz\r\n\" id=\"DejaVuSans-52\"/>\r\n       </defs>\r\n       <use xlink:href=\"#DejaVuSans-48\"/>\r\n       <use x=\"63.623047\" xlink:href=\"#DejaVuSans-46\"/>\r\n       <use x=\"95.410156\" xlink:href=\"#DejaVuSans-52\"/>\r\n      </g>\r\n     </g>\r\n    </g>\r\n    <g id=\"ytick_4\">\r\n     <g id=\"line2d_9\">\r\n      <g>\r\n       <use style=\"stroke:#000000;stroke-width:0.8;\" x=\"30.103125\" xlink:href=\"#ma3d8c8f096\" y=\"96.152727\"/>\r\n      </g>\r\n     </g>\r\n     <g id=\"text_9\">\r\n      <!-- 0.6 -->\r\n      <g transform=\"translate(7.2 99.951946)scale(0.1 -0.1)\">\r\n       <defs>\r\n        <path d=\"M 33.015625 40.375 \r\nQ 26.375 40.375 22.484375 35.828125 \r\nQ 18.609375 31.296875 18.609375 23.390625 \r\nQ 18.609375 15.53125 22.484375 10.953125 \r\nQ 26.375 6.390625 33.015625 6.390625 \r\nQ 39.65625 6.390625 43.53125 10.953125 \r\nQ 47.40625 15.53125 47.40625 23.390625 \r\nQ 47.40625 31.296875 43.53125 35.828125 \r\nQ 39.65625 40.375 33.015625 40.375 \r\nz\r\nM 52.59375 71.296875 \r\nL 52.59375 62.3125 \r\nQ 48.875 64.0625 45.09375 64.984375 \r\nQ 41.3125 65.921875 37.59375 65.921875 \r\nQ 27.828125 65.921875 22.671875 59.328125 \r\nQ 17.53125 52.734375 16.796875 39.40625 \r\nQ 19.671875 43.65625 24.015625 45.921875 \r\nQ 28.375 48.1875 33.59375 48.1875 \r\nQ 44.578125 48.1875 50.953125 41.515625 \r\nQ 57.328125 34.859375 57.328125 23.390625 \r\nQ 57.328125 12.15625 50.6875 5.359375 \r\nQ 44.046875 -1.421875 33.015625 -1.421875 \r\nQ 20.359375 -1.421875 13.671875 8.265625 \r\nQ 6.984375 17.96875 6.984375 36.375 \r\nQ 6.984375 53.65625 15.1875 63.9375 \r\nQ 23.390625 74.21875 37.203125 74.21875 \r\nQ 40.921875 74.21875 44.703125 73.484375 \r\nQ 48.484375 72.75 52.59375 71.296875 \r\nz\r\n\" id=\"DejaVuSans-54\"/>\r\n       </defs>\r\n       <use xlink:href=\"#DejaVuSans-48\"/>\r\n       <use x=\"63.623047\" xlink:href=\"#DejaVuSans-46\"/>\r\n       <use x=\"95.410156\" xlink:href=\"#DejaVuSans-54\"/>\r\n      </g>\r\n     </g>\r\n    </g>\r\n    <g id=\"ytick_5\">\r\n     <g id=\"line2d_10\">\r\n      <g>\r\n       <use style=\"stroke:#000000;stroke-width:0.8;\" x=\"30.103125\" xlink:href=\"#ma3d8c8f096\" y=\"56.618182\"/>\r\n      </g>\r\n     </g>\r\n     <g id=\"text_10\">\r\n      <!-- 0.8 -->\r\n      <g transform=\"translate(7.2 60.417401)scale(0.1 -0.1)\">\r\n       <defs>\r\n        <path d=\"M 31.78125 34.625 \r\nQ 24.75 34.625 20.71875 30.859375 \r\nQ 16.703125 27.09375 16.703125 20.515625 \r\nQ 16.703125 13.921875 20.71875 10.15625 \r\nQ 24.75 6.390625 31.78125 6.390625 \r\nQ 38.8125 6.390625 42.859375 10.171875 \r\nQ 46.921875 13.96875 46.921875 20.515625 \r\nQ 46.921875 27.09375 42.890625 30.859375 \r\nQ 38.875 34.625 31.78125 34.625 \r\nz\r\nM 21.921875 38.8125 \r\nQ 15.578125 40.375 12.03125 44.71875 \r\nQ 8.5 49.078125 8.5 55.328125 \r\nQ 8.5 64.0625 14.71875 69.140625 \r\nQ 20.953125 74.21875 31.78125 74.21875 \r\nQ 42.671875 74.21875 48.875 69.140625 \r\nQ 55.078125 64.0625 55.078125 55.328125 \r\nQ 55.078125 49.078125 51.53125 44.71875 \r\nQ 48 40.375 41.703125 38.8125 \r\nQ 48.828125 37.15625 52.796875 32.3125 \r\nQ 56.78125 27.484375 56.78125 20.515625 \r\nQ 56.78125 9.90625 50.3125 4.234375 \r\nQ 43.84375 -1.421875 31.78125 -1.421875 \r\nQ 19.734375 -1.421875 13.25 4.234375 \r\nQ 6.78125 9.90625 6.78125 20.515625 \r\nQ 6.78125 27.484375 10.78125 32.3125 \r\nQ 14.796875 37.15625 21.921875 38.8125 \r\nz\r\nM 18.3125 54.390625 \r\nQ 18.3125 48.734375 21.84375 45.5625 \r\nQ 25.390625 42.390625 31.78125 42.390625 \r\nQ 38.140625 42.390625 41.71875 45.5625 \r\nQ 45.3125 48.734375 45.3125 54.390625 \r\nQ 45.3125 60.0625 41.71875 63.234375 \r\nQ 38.140625 66.40625 31.78125 66.40625 \r\nQ 25.390625 66.40625 21.84375 63.234375 \r\nQ 18.3125 60.0625 18.3125 54.390625 \r\nz\r\n\" id=\"DejaVuSans-56\"/>\r\n       </defs>\r\n       <use xlink:href=\"#DejaVuSans-48\"/>\r\n       <use x=\"63.623047\" xlink:href=\"#DejaVuSans-46\"/>\r\n       <use x=\"95.410156\" xlink:href=\"#DejaVuSans-56\"/>\r\n      </g>\r\n     </g>\r\n    </g>\r\n    <g id=\"ytick_6\">\r\n     <g id=\"line2d_11\">\r\n      <g>\r\n       <use style=\"stroke:#000000;stroke-width:0.8;\" x=\"30.103125\" xlink:href=\"#ma3d8c8f096\" y=\"17.083636\"/>\r\n      </g>\r\n     </g>\r\n     <g id=\"text_11\">\r\n      <!-- 1.0 -->\r\n      <g transform=\"translate(7.2 20.882855)scale(0.1 -0.1)\">\r\n       <use xlink:href=\"#DejaVuSans-49\"/>\r\n       <use x=\"63.623047\" xlink:href=\"#DejaVuSans-46\"/>\r\n       <use x=\"95.410156\" xlink:href=\"#DejaVuSans-48\"/>\r\n      </g>\r\n     </g>\r\n    </g>\r\n   </g>\r\n   <g id=\"line2d_12\">\r\n    <path clip-path=\"url(#p79dae1d6fe)\" d=\"M 349.684943 17.083636 \r\nL 341.230724 17.083636 \r\nL 332.880731 17.083636 \r\nL 316.032024 17.083636 \r\nL 260.444352 214.756364 \r\nL 260.409691 214.756364 \r\nL 219.327736 17.083636 \r\nL 217.564688 214.756364 \r\nL 202.487013 17.083636 \r\nL 202.487013 17.083636 \r\nL 202.487013 17.083636 \r\nL 202.487013 17.083636 \r\nL 202.486964 17.083636 \r\nL 198.240868 17.083636 \r\nL 198.240868 17.083636 \r\nL 198.240868 17.083636 \r\nL 197.262273 17.083636 \r\nL 189.826568 17.083636 \r\nL 188.895973 17.083636 \r\nL 185.821251 17.083636 \r\nL 185.821251 17.083636 \r\nL 185.618736 17.083636 \r\nL 185.618736 17.083636 \r\nL 185.618736 17.083636 \r\nL 171.847866 17.083636 \r\nL 168.719205 17.083636 \r\nL 168.719205 17.083636 \r\nL 168.719157 17.083636 \r\nL 168.719157 17.083636 \r\nL 167.345414 214.756364 \r\nL 160.243761 17.083636 \r\nL 160.243761 17.083636 \r\nL 160.243761 17.083636 \r\nL 160.243761 17.083636 \r\nL 143.382397 17.083636 \r\nL 143.382397 17.083636 \r\nL 143.382397 17.083636 \r\nL 143.382348 17.083636 \r\nL 143.382348 17.083636 \r\nL 138.201081 17.083636 \r\nL 135.043552 17.083636 \r\nL 135.043503 17.083636 \r\nL 135.043503 17.083636 \r\nL 130.775599 17.083636 \r\nL 130.775599 17.083636 \r\nL 129.437247 214.756364 \r\nL 126.579645 17.083636 \r\nL 126.579645 17.083636 \r\nL 126.579645 17.083636 \r\nL 112.989481 17.083636 \r\nL 109.719011 17.083636 \r\nL 109.718865 17.083636 \r\nL 109.718865 17.083636 \r\nL 108.860026 214.756364 \r\nL 108.857057 214.756364 \r\nL 101.303542 17.083636 \r\nL 101.303542 17.083636 \r\nL 100.343738 214.756364 \r\nL 100.112306 214.756364 \r\nL 84.576636 17.083636 \r\nL 84.576636 17.083636 \r\nL 84.576636 17.083636 \r\nL 84.576636 17.083636 \r\nL 83.532126 214.756364 \r\nL 76.081816 17.083636 \r\nL 76.081816 17.083636 \r\nL 76.081719 17.083636 \r\nL 67.670339 17.083636 \r\nL 67.670339 17.083636 \r\nL 66.593991 214.756364 \r\nL 54.101838 17.083636 \r\nL 53.664289 214.756364 \r\nL 53.50145 17.083636 \r\nL 53.49736 17.083636 \r\nL 50.850792 17.083636 \r\nL 50.850792 17.083636 \r\nL 49.56195 214.756364 \r\nL 45.321307 214.756364 \r\n\" style=\"fill:none;stroke:#1f77b4;stroke-linecap:square;stroke-width:1.5;\"/>\r\n   </g>\r\n   <g id=\"patch_3\">\r\n    <path d=\"M 30.103125 224.64 \r\nL 30.103125 7.2 \r\n\" style=\"fill:none;stroke:#000000;stroke-linecap:square;stroke-linejoin:miter;stroke-width:0.8;\"/>\r\n   </g>\r\n   <g id=\"patch_4\">\r\n    <path d=\"M 364.903125 224.64 \r\nL 364.903125 7.2 \r\n\" style=\"fill:none;stroke:#000000;stroke-linecap:square;stroke-linejoin:miter;stroke-width:0.8;\"/>\r\n   </g>\r\n   <g id=\"patch_5\">\r\n    <path d=\"M 30.103125 224.64 \r\nL 364.903125 224.64 \r\n\" style=\"fill:none;stroke:#000000;stroke-linecap:square;stroke-linejoin:miter;stroke-width:0.8;\"/>\r\n   </g>\r\n   <g id=\"patch_6\">\r\n    <path d=\"M 30.103125 7.2 \r\nL 364.903125 7.2 \r\n\" style=\"fill:none;stroke:#000000;stroke-linecap:square;stroke-linejoin:miter;stroke-width:0.8;\"/>\r\n   </g>\r\n  </g>\r\n </g>\r\n <defs>\r\n  <clipPath id=\"p79dae1d6fe\">\r\n   <rect height=\"217.44\" width=\"334.8\" x=\"30.103125\" y=\"7.2\"/>\r\n  </clipPath>\r\n </defs>\r\n</svg>\r\n",
      "image/png": "[encoded data removed]"
     },
     "metadata": {
      "needs_background": "light"
     }
    }
   ],
   "source": [
    "import matplotlib.pyplot as plt\n",
    "plt.plot(grades_df['graded_at'], grades_df['submitted_at'].isna())"
   ]
  },
  {
   "cell_type": "code",
   "execution_count": 27,
   "metadata": {},
   "outputs": [],
   "source": [
    "for i,t in zip(grades_df['submitted_at'],grades_df['graded_at']):\n",
    "    prev_date = None\n",
    "    if i == \"NaT\" and t != prev_date:\n",
    "        prev_date = t\n",
    "        print(\"Boo!!\")\n"
   ]
  },
  {
   "cell_type": "code",
   "execution_count": 19,
   "metadata": {},
   "outputs": [
    {
     "output_type": "stream",
     "name": "stdout",
     "text": [
      "Boo! 1\nBoo! 2\nBoo! 3\nBoo! 4\nBoo! 5\nBoo! 6\nBoo! 7\nBoo! 8\nBoo! 9\nBoo! 10\nBoo! 11\nBoo! 12\nBoo! 13\nBoo! 14\nBoo! 15\nBoo! 16\nBoo! 17\nBoo! 18\nBoo! 19\nBoo! 20\nBoo! 21\nBoo! 22\nBoo! 23\nBoo! 24\nBoo! 25\n"
     ]
    }
   ],
   "source": [
    "sub_grded_df = zip(grades_df['submitted_at'],grades_df['graded_at'])\n",
    "count = 0\n",
    "prev_date = None\n",
    "for i,t in sub_grded_df:\n",
    "    if type(i) == type(pd.NaT) and t.day != prev_date:\n",
    "        prev_date = t.day\n",
    "        count+=1\n",
    "        print(\"Boo!\", count)"
   ]
  },
  {
   "cell_type": "code",
   "execution_count": 49,
   "metadata": {},
   "outputs": [
    {
     "output_type": "stream",
     "name": "stdout",
     "text": [
      "7\n3\n20\n20\n10\n9\n6\n6\n6\n6\n6\n5\n5\n5\n5\n3\n3\n2\n2\n2\n2\n2\n30\n29\n29\n29\n29\n28\n27\n27\n27\n27\n23\n23\n23\n23\n23\n22\n21\n21\n21\n20\n20\n19\n19\n19\n19\n16\n15\n15\n15\n15\n15\n13\n13\n13\n13\n9\n9\n9\n9\n9\n7\n7\n7\n5\n5\n5\n2\n1\n1\n1\n1\n1\n30\n29\n"
     ]
    }
   ],
   "source": [
    "for i in grades_df['graded_at']:\n",
    "    print(i.day)"
   ]
  },
  {
   "cell_type": "code",
   "execution_count": 47,
   "metadata": {},
   "outputs": [
    {
     "output_type": "stream",
     "name": "stdout",
     "text": [
      "NaT NaT\n"
     ]
    },
    {
     "output_type": "execute_result",
     "data": {
      "text/plain": [
       "False"
      ]
     },
     "metadata": {},
     "execution_count": 47
    }
   ],
   "source": [
    "print(grades_df['submitted_at'][0], pd.NaT)\n",
    "grades_df['submitted_at'][0] == pd.NaT"
   ]
  },
  {
   "cell_type": "code",
   "execution_count": 20,
   "metadata": {},
   "outputs": [],
   "source": [
    "r2 = requests.get('https://lambdaschool.instructure.com/api/v1'\n",
    "'/users/168550000000002221/missing_submissions?per_page=100', headers=headers)\n",
    "data_set2 = []"
   ]
  },
  {
   "cell_type": "code",
   "execution_count": 21,
   "metadata": {},
   "outputs": [],
   "source": [
    "raw = r2.json()\n",
    "\n",
    "for submission in raw:\n",
    "    data_set2.append(submission)"
   ]
  },
  {
   "cell_type": "code",
   "execution_count": 11,
   "metadata": {},
   "outputs": [
    {
     "output_type": "execute_result",
     "data": {
      "text/plain": [
       "{'current': {'url': 'https://lambdaschool.instructure.com/api/v1/users/168550000000002221/missing_submissions?page=1&per_page=100',\n",
       "  'rel': 'current'},\n",
       " 'first': {'url': 'https://lambdaschool.instructure.com/api/v1/users/168550000000002221/missing_submissions?page=1&per_page=100',\n",
       "  'rel': 'first'},\n",
       " 'last': {'url': 'https://lambdaschool.instructure.com/api/v1/users/168550000000002221/missing_submissions?page=1&per_page=100',\n",
       "  'rel': 'last'}}"
      ]
     },
     "metadata": {},
     "execution_count": 11
    }
   ],
   "source": [
    "r2.links"
   ]
  },
  {
   "cell_type": "code",
   "execution_count": 16,
   "metadata": {},
   "outputs": [
    {
     "output_type": "stream",
     "name": "stdout",
     "text": [
      "Just one page!\n"
     ]
    }
   ],
   "source": [
    "if \"next\" in r2.links.keys():\n",
    "    while \"next\" in r2.links.keys():\n",
    "        r2 = requests.get(r2.links[\"next\"][\"url\"], headers=headers)\n",
    "        raw = r2.json()\n",
    "        for submission in raw:\n",
    "            data_set.append(submission)\n",
    "    if \"last\" in r2.links.keys() and r2.links['current']['url'] == r2.links['last']['url']:\n",
    "        print(done)\n",
    "else:\n",
    "    print(\"Just one page!\")"
   ]
  },
  {
   "cell_type": "code",
   "execution_count": 17,
   "metadata": {},
   "outputs": [
    {
     "output_type": "execute_result",
     "data": {
      "text/plain": [
       "False"
      ]
     },
     "metadata": {},
     "execution_count": 17
    }
   ],
   "source": [
    "\"next\" in r.links.keys()"
   ]
  },
  {
   "cell_type": "code",
   "execution_count": 22,
   "metadata": {},
   "outputs": [],
   "source": [
    "import json\n",
    "with open(\"missing_subs.json\", \"w\") as outfile:\n",
    "    json.dump(data_set2, outfile)"
   ]
  },
  {
   "cell_type": "code",
   "execution_count": 23,
   "metadata": {},
   "outputs": [
    {
     "output_type": "execute_result",
     "data": {
      "text/plain": [
       "                 id  points_possible  assignment_group_id  \\\n",
       "count     36.000000        36.000000            36.000000   \n",
       "mean    4935.638889         1.138889          1201.166667   \n",
       "std     2836.150683         2.620281           998.294531   \n",
       "min     3348.000000         0.000000           635.000000   \n",
       "25%     3396.500000         0.000000           642.000000   \n",
       "50%     3479.000000         0.000000           647.000000   \n",
       "75%     3554.750000         1.000000           966.000000   \n",
       "max    10773.000000        15.000000          3170.000000   \n",
       "\n",
       "       grading_standard_id   position  group_category_id  grader_count  \\\n",
       "count                  0.0  36.000000                0.0          36.0   \n",
       "mean                   NaN   8.305556                NaN           0.0   \n",
       "std                    NaN   7.478806                NaN           0.0   \n",
       "min                    NaN   1.000000                NaN           0.0   \n",
       "25%                    NaN   3.000000                NaN           0.0   \n",
       "50%                    NaN   6.500000                NaN           0.0   \n",
       "75%                    NaN  10.250000                NaN           0.0   \n",
       "max                    NaN  29.000000                NaN           0.0   \n",
       "\n",
       "       final_grader_id  allowed_attempts   course_id  max_name_length  \\\n",
       "count              0.0              36.0   36.000000             36.0   \n",
       "mean               NaN              -1.0  428.694444            255.0   \n",
       "std                NaN               0.0  101.777859              0.0   \n",
       "min                NaN              -1.0  375.000000            255.0   \n",
       "25%                NaN              -1.0  375.000000            255.0   \n",
       "50%                NaN              -1.0  376.000000            255.0   \n",
       "75%                NaN              -1.0  377.000000            255.0   \n",
       "max                NaN              -1.0  645.000000            255.0   \n",
       "\n",
       "       original_course_id  original_assignment_id  original_assignment_name  \\\n",
       "count                 0.0                     0.0                       0.0   \n",
       "mean                  NaN                     NaN                       NaN   \n",
       "std                   NaN                     NaN                       NaN   \n",
       "min                   NaN                     NaN                       NaN   \n",
       "25%                   NaN                     NaN                       NaN   \n",
       "50%                   NaN                     NaN                       NaN   \n",
       "75%                   NaN                     NaN                       NaN   \n",
       "max                   NaN                     NaN                       NaN   \n",
       "\n",
       "       original_quiz_id      quiz_id  anonymous_submissions  \n",
       "count               0.0    29.000000                   29.0  \n",
       "mean                NaN  4288.862069                    0.0  \n",
       "std                 NaN  2510.664208                    0.0  \n",
       "min                 NaN  2702.000000                    0.0  \n",
       "25%                 NaN  2735.000000                    0.0  \n",
       "50%                 NaN  2808.000000                    0.0  \n",
       "75%                 NaN  7795.000000                    0.0  \n",
       "max                 NaN  8741.000000                    0.0  "
      ],
      "text/html": "<div>\n<style scoped>\n    .dataframe tbody tr th:only-of-type {\n        vertical-align: middle;\n    }\n\n    .dataframe tbody tr th {\n        vertical-align: top;\n    }\n\n    .dataframe thead th {\n        text-align: right;\n    }\n</style>\n<table border=\"1\" class=\"dataframe\">\n  <thead>\n    <tr style=\"text-align: right;\">\n      <th></th>\n      <th>id</th>\n      <th>points_possible</th>\n      <th>assignment_group_id</th>\n      <th>grading_standard_id</th>\n      <th>position</th>\n      <th>group_category_id</th>\n      <th>grader_count</th>\n      <th>final_grader_id</th>\n      <th>allowed_attempts</th>\n      <th>course_id</th>\n      <th>max_name_length</th>\n      <th>original_course_id</th>\n      <th>original_assignment_id</th>\n      <th>original_assignment_name</th>\n      <th>original_quiz_id</th>\n      <th>quiz_id</th>\n      <th>anonymous_submissions</th>\n    </tr>\n  </thead>\n  <tbody>\n    <tr>\n      <th>count</th>\n      <td>36.000000</td>\n      <td>36.000000</td>\n      <td>36.000000</td>\n      <td>0.0</td>\n      <td>36.000000</td>\n      <td>0.0</td>\n      <td>36.0</td>\n      <td>0.0</td>\n      <td>36.0</td>\n      <td>36.000000</td>\n      <td>36.0</td>\n      <td>0.0</td>\n      <td>0.0</td>\n      <td>0.0</td>\n      <td>0.0</td>\n      <td>29.000000</td>\n      <td>29.0</td>\n    </tr>\n    <tr>\n      <th>mean</th>\n      <td>4935.638889</td>\n      <td>1.138889</td>\n      <td>1201.166667</td>\n      <td>NaN</td>\n      <td>8.305556</td>\n      <td>NaN</td>\n      <td>0.0</td>\n      <td>NaN</td>\n      <td>-1.0</td>\n      <td>428.694444</td>\n      <td>255.0</td>\n      <td>NaN</td>\n      <td>NaN</td>\n      <td>NaN</td>\n      <td>NaN</td>\n      <td>4288.862069</td>\n      <td>0.0</td>\n    </tr>\n    <tr>\n      <th>std</th>\n      <td>2836.150683</td>\n      <td>2.620281</td>\n      <td>998.294531</td>\n      <td>NaN</td>\n      <td>7.478806</td>\n      <td>NaN</td>\n      <td>0.0</td>\n      <td>NaN</td>\n      <td>0.0</td>\n      <td>101.777859</td>\n      <td>0.0</td>\n      <td>NaN</td>\n      <td>NaN</td>\n      <td>NaN</td>\n      <td>NaN</td>\n      <td>2510.664208</td>\n      <td>0.0</td>\n    </tr>\n    <tr>\n      <th>min</th>\n      <td>3348.000000</td>\n      <td>0.000000</td>\n      <td>635.000000</td>\n      <td>NaN</td>\n      <td>1.000000</td>\n      <td>NaN</td>\n      <td>0.0</td>\n      <td>NaN</td>\n      <td>-1.0</td>\n      <td>375.000000</td>\n      <td>255.0</td>\n      <td>NaN</td>\n      <td>NaN</td>\n      <td>NaN</td>\n      <td>NaN</td>\n      <td>2702.000000</td>\n      <td>0.0</td>\n    </tr>\n    <tr>\n      <th>25%</th>\n      <td>3396.500000</td>\n      <td>0.000000</td>\n      <td>642.000000</td>\n      <td>NaN</td>\n      <td>3.000000</td>\n      <td>NaN</td>\n      <td>0.0</td>\n      <td>NaN</td>\n      <td>-1.0</td>\n      <td>375.000000</td>\n      <td>255.0</td>\n      <td>NaN</td>\n      <td>NaN</td>\n      <td>NaN</td>\n      <td>NaN</td>\n      <td>2735.000000</td>\n      <td>0.0</td>\n    </tr>\n    <tr>\n      <th>50%</th>\n      <td>3479.000000</td>\n      <td>0.000000</td>\n      <td>647.000000</td>\n      <td>NaN</td>\n      <td>6.500000</td>\n      <td>NaN</td>\n      <td>0.0</td>\n      <td>NaN</td>\n      <td>-1.0</td>\n      <td>376.000000</td>\n      <td>255.0</td>\n      <td>NaN</td>\n      <td>NaN</td>\n      <td>NaN</td>\n      <td>NaN</td>\n      <td>2808.000000</td>\n      <td>0.0</td>\n    </tr>\n    <tr>\n      <th>75%</th>\n      <td>3554.750000</td>\n      <td>1.000000</td>\n      <td>966.000000</td>\n      <td>NaN</td>\n      <td>10.250000</td>\n      <td>NaN</td>\n      <td>0.0</td>\n      <td>NaN</td>\n      <td>-1.0</td>\n      <td>377.000000</td>\n      <td>255.0</td>\n      <td>NaN</td>\n      <td>NaN</td>\n      <td>NaN</td>\n      <td>NaN</td>\n      <td>7795.000000</td>\n      <td>0.0</td>\n    </tr>\n    <tr>\n      <th>max</th>\n      <td>10773.000000</td>\n      <td>15.000000</td>\n      <td>3170.000000</td>\n      <td>NaN</td>\n      <td>29.000000</td>\n      <td>NaN</td>\n      <td>0.0</td>\n      <td>NaN</td>\n      <td>-1.0</td>\n      <td>645.000000</td>\n      <td>255.0</td>\n      <td>NaN</td>\n      <td>NaN</td>\n      <td>NaN</td>\n      <td>NaN</td>\n      <td>8741.000000</td>\n      <td>0.0</td>\n    </tr>\n  </tbody>\n</table>\n</div>"
     },
     "metadata": {},
     "execution_count": 23
    }
   ],
   "source": [
    "missing_df = pd.read_json(\"missing_subs.json\")\n",
    "missing_df.describe()"
   ]
  },
  {
   "cell_type": "code",
   "execution_count": 30,
   "metadata": {},
   "outputs": [
    {
     "output_type": "execute_result",
     "data": {
      "text/plain": [
       "     id                                        description  \\\n",
       "0  3435  <div class=\"description user_content teacher-v...   \n",
       "1  3378                                                      \n",
       "2  3461  <h1 id=\"hash-tables-iii\">Hash Tables III</h1>\\...   \n",
       "3  3554  <h1 id=\"graphs-i\">Graphs I</h1>\\n<p>This is a ...   \n",
       "4  3504  <div class=\"description user_content teacher-v...   \n",
       "\n",
       "                     due_at unlock_at                   lock_at  \\\n",
       "0 2020-10-02 01:30:00+00:00       NaT 2020-10-12 06:59:59+00:00   \n",
       "1 2020-10-07 06:59:59+00:00       NaT 2020-10-12 06:59:59+00:00   \n",
       "2 2020-10-07 06:59:59+00:00       NaT 2020-10-12 06:59:59+00:00   \n",
       "3 2020-10-15 06:59:59+00:00       NaT 2020-10-26 06:59:59+00:00   \n",
       "4 2020-10-16 01:30:00+00:00       NaT 2020-10-26 06:59:59+00:00   \n",
       "\n",
       "   points_possible grading_type  assignment_group_id  grading_standard_id  \\\n",
       "0                0       points                  635                  NaN   \n",
       "1                1       points                  635                  NaN   \n",
       "2                0       points                  636                  NaN   \n",
       "3                0       points                  648                  NaN   \n",
       "4                0       points                  647                  NaN   \n",
       "\n",
       "                 created_at                updated_at  peer_reviews  \\\n",
       "0 2020-09-24 16:00:37+00:00 2020-09-25 05:19:02+00:00         False   \n",
       "1 2020-09-24 16:00:35+00:00 2020-09-25 05:17:57+00:00         False   \n",
       "2 2020-09-24 16:00:38+00:00 2020-09-25 05:17:57+00:00         False   \n",
       "3 2020-09-24 16:00:42+00:00 2020-11-12 17:58:00+00:00         False   \n",
       "4 2020-09-24 16:00:40+00:00 2020-09-25 18:07:41+00:00         False   \n",
       "\n",
       "   automatic_peer_reviews  position  grade_group_students_individually  \\\n",
       "0                   False         4                              False   \n",
       "1                   False        11                              False   \n",
       "2                   False         3                              False   \n",
       "3                   False         1                              False   \n",
       "4                   False         7                              False   \n",
       "\n",
       "   anonymous_peer_reviews  group_category_id  post_to_sis  moderated_grading  \\\n",
       "0                   False                NaN        False              False   \n",
       "1                   False                NaN        False              False   \n",
       "2                   False                NaN        False              False   \n",
       "3                   False                NaN        False              False   \n",
       "4                   False                NaN        False              False   \n",
       "\n",
       "   omit_from_final_grade  intra_group_peer_reviews  \\\n",
       "0                  False                     False   \n",
       "1                  False                     False   \n",
       "2                  False                     False   \n",
       "3                  False                     False   \n",
       "4                  False                     False   \n",
       "\n",
       "   anonymous_instructor_annotations  anonymous_grading  \\\n",
       "0                             False              False   \n",
       "1                             False              False   \n",
       "2                             False              False   \n",
       "3                             False              False   \n",
       "4                             False              False   \n",
       "\n",
       "   graders_anonymous_to_graders  grader_count  \\\n",
       "0                         False             0   \n",
       "1                         False             0   \n",
       "2                         False             0   \n",
       "3                         False             0   \n",
       "4                         False             0   \n",
       "\n",
       "   grader_comments_visible_to_graders  final_grader_id  \\\n",
       "0                                True              NaN   \n",
       "1                                True              NaN   \n",
       "2                                True              NaN   \n",
       "3                                True              NaN   \n",
       "4                                True              NaN   \n",
       "\n",
       "   grader_names_visible_to_final_grader  allowed_attempts  \\\n",
       "0                                  True                -1   \n",
       "1                                  True                -1   \n",
       "2                                  True                -1   \n",
       "3                                  True                -1   \n",
       "4                                  True                -1   \n",
       "\n",
       "                                           lock_info  \\\n",
       "0  {'lock_at': '2020-10-12T06:59:59Z', 'can_view'...   \n",
       "1  {'lock_at': '2020-10-12T06:59:59Z', 'can_view'...   \n",
       "2  {'lock_at': '2020-10-12T06:59:59Z', 'can_view'...   \n",
       "3  {'lock_at': '2020-10-26T06:59:59Z', 'can_view'...   \n",
       "4  {'lock_at': '2020-10-26T06:59:59Z', 'can_view'...   \n",
       "\n",
       "                                       secure_params  course_id  \\\n",
       "0  eyJ0eXAiOiJKV1QiLCJhbGciOiJIUzI1NiJ9.eyJsdGlfY...        377   \n",
       "1  eyJ0eXAiOiJKV1QiLCJhbGciOiJIUzI1NiJ9.eyJsdGlfY...        377   \n",
       "2  eyJ0eXAiOiJKV1QiLCJhbGciOiJIUzI1NiJ9.eyJsdGlfY...        377   \n",
       "3  eyJ0eXAiOiJKV1QiLCJhbGciOiJIUzI1NiJ9.eyJsdGlfY...        376   \n",
       "4  eyJ0eXAiOiJKV1QiLCJhbGciOiJIUzI1NiJ9.eyJsdGlfY...        376   \n",
       "\n",
       "                             name submission_types  has_submitted_submissions  \\\n",
       "0     Hash Tables II Entry Ticket    [online_quiz]                       True   \n",
       "1     Hash Tables III Pulse Check    [online_quiz]                       True   \n",
       "2  Hash Tables III Module Project     [online_url]                       True   \n",
       "3         Graphs I Module Project     [online_url]                       True   \n",
       "4          Graphs II Entry Ticket    [online_quiz]                       True   \n",
       "\n",
       "   due_date_required  max_name_length  in_closed_grading_period  \\\n",
       "0              False              255                     False   \n",
       "1              False              255                     False   \n",
       "2              False              255                     False   \n",
       "3              False              255                     False   \n",
       "4              False              255                     False   \n",
       "\n",
       "   is_quiz_assignment  can_duplicate  original_course_id  \\\n",
       "0               False          False                 NaN   \n",
       "1                True          False                 NaN   \n",
       "2               False           True                 NaN   \n",
       "3               False           True                 NaN   \n",
       "4               False          False                 NaN   \n",
       "\n",
       "   original_assignment_id  original_assignment_name  original_quiz_id  \\\n",
       "0                     NaN                       NaN               NaN   \n",
       "1                     NaN                       NaN               NaN   \n",
       "2                     NaN                       NaN               NaN   \n",
       "3                     NaN                       NaN               NaN   \n",
       "4                     NaN                       NaN               NaN   \n",
       "\n",
       "  workflow_state  muted                                           html_url  \\\n",
       "0      published   True  https://lambdaschool.instructure.com/courses/3...   \n",
       "1      published   True  https://lambdaschool.instructure.com/courses/3...   \n",
       "2      published   True  https://lambdaschool.instructure.com/courses/3...   \n",
       "3      published   True  https://lambdaschool.instructure.com/courses/3...   \n",
       "4      published   True  https://lambdaschool.instructure.com/courses/3...   \n",
       "\n",
       "   quiz_id  anonymous_submissions  published  only_visible_to_overrides  \\\n",
       "0   2790.0                    0.0       True                      False   \n",
       "1   2733.0                    0.0       True                      False   \n",
       "2      NaN                    NaN       True                      False   \n",
       "3      NaN                    NaN       True                      False   \n",
       "4   2850.0                    0.0       True                      False   \n",
       "\n",
       "   locked_for_user                               lock_explanation  \\\n",
       "0             True  This assignment was locked Oct 12 at 12:59am.   \n",
       "1             True  This assignment was locked Oct 12 at 12:59am.   \n",
       "2             True  This assignment was locked Oct 12 at 12:59am.   \n",
       "3             True  This assignment was locked Oct 26 at 12:59am.   \n",
       "4             True  This assignment was locked Oct 26 at 12:59am.   \n",
       "\n",
       "                            submissions_download_url  post_manually  \\\n",
       "0  https://lambdaschool.instructure.com/courses/3...          False   \n",
       "1  https://lambdaschool.instructure.com/courses/3...          False   \n",
       "2  https://lambdaschool.instructure.com/courses/3...          False   \n",
       "3  https://lambdaschool.instructure.com/courses/3...          False   \n",
       "4  https://lambdaschool.instructure.com/courses/3...          False   \n",
       "\n",
       "   anonymize_students  require_lockdown_browser  \n",
       "0               False                     False  \n",
       "1               False                     False  \n",
       "2               False                     False  \n",
       "3               False                     False  \n",
       "4               False                     False  "
      ],
      "text/html": "<div>\n<style scoped>\n    .dataframe tbody tr th:only-of-type {\n        vertical-align: middle;\n    }\n\n    .dataframe tbody tr th {\n        vertical-align: top;\n    }\n\n    .dataframe thead th {\n        text-align: right;\n    }\n</style>\n<table border=\"1\" class=\"dataframe\">\n  <thead>\n    <tr style=\"text-align: right;\">\n      <th></th>\n      <th>id</th>\n      <th>description</th>\n      <th>due_at</th>\n      <th>unlock_at</th>\n      <th>lock_at</th>\n      <th>points_possible</th>\n      <th>grading_type</th>\n      <th>assignment_group_id</th>\n      <th>grading_standard_id</th>\n      <th>created_at</th>\n      <th>updated_at</th>\n      <th>peer_reviews</th>\n      <th>automatic_peer_reviews</th>\n      <th>position</th>\n      <th>grade_group_students_individually</th>\n      <th>anonymous_peer_reviews</th>\n      <th>group_category_id</th>\n      <th>post_to_sis</th>\n      <th>moderated_grading</th>\n      <th>omit_from_final_grade</th>\n      <th>intra_group_peer_reviews</th>\n      <th>anonymous_instructor_annotations</th>\n      <th>anonymous_grading</th>\n      <th>graders_anonymous_to_graders</th>\n      <th>grader_count</th>\n      <th>grader_comments_visible_to_graders</th>\n      <th>final_grader_id</th>\n      <th>grader_names_visible_to_final_grader</th>\n      <th>allowed_attempts</th>\n      <th>lock_info</th>\n      <th>secure_params</th>\n      <th>course_id</th>\n      <th>name</th>\n      <th>submission_types</th>\n      <th>has_submitted_submissions</th>\n      <th>due_date_required</th>\n      <th>max_name_length</th>\n      <th>in_closed_grading_period</th>\n      <th>is_quiz_assignment</th>\n      <th>can_duplicate</th>\n      <th>original_course_id</th>\n      <th>original_assignment_id</th>\n      <th>original_assignment_name</th>\n      <th>original_quiz_id</th>\n      <th>workflow_state</th>\n      <th>muted</th>\n      <th>html_url</th>\n      <th>quiz_id</th>\n      <th>anonymous_submissions</th>\n      <th>published</th>\n      <th>only_visible_to_overrides</th>\n      <th>locked_for_user</th>\n      <th>lock_explanation</th>\n      <th>submissions_download_url</th>\n      <th>post_manually</th>\n      <th>anonymize_students</th>\n      <th>require_lockdown_browser</th>\n    </tr>\n  </thead>\n  <tbody>\n    <tr>\n      <th>0</th>\n      <td>3435</td>\n      <td>&lt;div class=\"description user_content teacher-v...</td>\n      <td>2020-10-02 01:30:00+00:00</td>\n      <td>NaT</td>\n      <td>2020-10-12 06:59:59+00:00</td>\n      <td>0</td>\n      <td>points</td>\n      <td>635</td>\n      <td>NaN</td>\n      <td>2020-09-24 16:00:37+00:00</td>\n      <td>2020-09-25 05:19:02+00:00</td>\n      <td>False</td>\n      <td>False</td>\n      <td>4</td>\n      <td>False</td>\n      <td>False</td>\n      <td>NaN</td>\n      <td>False</td>\n      <td>False</td>\n      <td>False</td>\n      <td>False</td>\n      <td>False</td>\n      <td>False</td>\n      <td>False</td>\n      <td>0</td>\n      <td>True</td>\n      <td>NaN</td>\n      <td>True</td>\n      <td>-1</td>\n      <td>{'lock_at': '2020-10-12T06:59:59Z', 'can_view'...</td>\n      <td>eyJ0eXAiOiJKV1QiLCJhbGciOiJIUzI1NiJ9.eyJsdGlfY...</td>\n      <td>377</td>\n      <td>Hash Tables II Entry Ticket</td>\n      <td>[online_quiz]</td>\n      <td>True</td>\n      <td>False</td>\n      <td>255</td>\n      <td>False</td>\n      <td>False</td>\n      <td>False</td>\n      <td>NaN</td>\n      <td>NaN</td>\n      <td>NaN</td>\n      <td>NaN</td>\n      <td>published</td>\n      <td>True</td>\n      <td>https://lambdaschool.instructure.com/courses/3...</td>\n      <td>2790.0</td>\n      <td>0.0</td>\n      <td>True</td>\n      <td>False</td>\n      <td>True</td>\n      <td>This assignment was locked Oct 12 at 12:59am.</td>\n      <td>https://lambdaschool.instructure.com/courses/3...</td>\n      <td>False</td>\n      <td>False</td>\n      <td>False</td>\n    </tr>\n    <tr>\n      <th>1</th>\n      <td>3378</td>\n      <td></td>\n      <td>2020-10-07 06:59:59+00:00</td>\n      <td>NaT</td>\n      <td>2020-10-12 06:59:59+00:00</td>\n      <td>1</td>\n      <td>points</td>\n      <td>635</td>\n      <td>NaN</td>\n      <td>2020-09-24 16:00:35+00:00</td>\n      <td>2020-09-25 05:17:57+00:00</td>\n      <td>False</td>\n      <td>False</td>\n      <td>11</td>\n      <td>False</td>\n      <td>False</td>\n      <td>NaN</td>\n      <td>False</td>\n      <td>False</td>\n      <td>False</td>\n      <td>False</td>\n      <td>False</td>\n      <td>False</td>\n      <td>False</td>\n      <td>0</td>\n      <td>True</td>\n      <td>NaN</td>\n      <td>True</td>\n      <td>-1</td>\n      <td>{'lock_at': '2020-10-12T06:59:59Z', 'can_view'...</td>\n      <td>eyJ0eXAiOiJKV1QiLCJhbGciOiJIUzI1NiJ9.eyJsdGlfY...</td>\n      <td>377</td>\n      <td>Hash Tables III Pulse Check</td>\n      <td>[online_quiz]</td>\n      <td>True</td>\n      <td>False</td>\n      <td>255</td>\n      <td>False</td>\n      <td>True</td>\n      <td>False</td>\n      <td>NaN</td>\n      <td>NaN</td>\n      <td>NaN</td>\n      <td>NaN</td>\n      <td>published</td>\n      <td>True</td>\n      <td>https://lambdaschool.instructure.com/courses/3...</td>\n      <td>2733.0</td>\n      <td>0.0</td>\n      <td>True</td>\n      <td>False</td>\n      <td>True</td>\n      <td>This assignment was locked Oct 12 at 12:59am.</td>\n      <td>https://lambdaschool.instructure.com/courses/3...</td>\n      <td>False</td>\n      <td>False</td>\n      <td>False</td>\n    </tr>\n    <tr>\n      <th>2</th>\n      <td>3461</td>\n      <td>&lt;h1 id=\"hash-tables-iii\"&gt;Hash Tables III&lt;/h1&gt;\\...</td>\n      <td>2020-10-07 06:59:59+00:00</td>\n      <td>NaT</td>\n      <td>2020-10-12 06:59:59+00:00</td>\n      <td>0</td>\n      <td>points</td>\n      <td>636</td>\n      <td>NaN</td>\n      <td>2020-09-24 16:00:38+00:00</td>\n      <td>2020-09-25 05:17:57+00:00</td>\n      <td>False</td>\n      <td>False</td>\n      <td>3</td>\n      <td>False</td>\n      <td>False</td>\n      <td>NaN</td>\n      <td>False</td>\n      <td>False</td>\n      <td>False</td>\n      <td>False</td>\n      <td>False</td>\n      <td>False</td>\n      <td>False</td>\n      <td>0</td>\n      <td>True</td>\n      <td>NaN</td>\n      <td>True</td>\n      <td>-1</td>\n      <td>{'lock_at': '2020-10-12T06:59:59Z', 'can_view'...</td>\n      <td>eyJ0eXAiOiJKV1QiLCJhbGciOiJIUzI1NiJ9.eyJsdGlfY...</td>\n      <td>377</td>\n      <td>Hash Tables III Module Project</td>\n      <td>[online_url]</td>\n      <td>True</td>\n      <td>False</td>\n      <td>255</td>\n      <td>False</td>\n      <td>False</td>\n      <td>True</td>\n      <td>NaN</td>\n      <td>NaN</td>\n      <td>NaN</td>\n      <td>NaN</td>\n      <td>published</td>\n      <td>True</td>\n      <td>https://lambdaschool.instructure.com/courses/3...</td>\n      <td>NaN</td>\n      <td>NaN</td>\n      <td>True</td>\n      <td>False</td>\n      <td>True</td>\n      <td>This assignment was locked Oct 12 at 12:59am.</td>\n      <td>https://lambdaschool.instructure.com/courses/3...</td>\n      <td>False</td>\n      <td>False</td>\n      <td>False</td>\n    </tr>\n    <tr>\n      <th>3</th>\n      <td>3554</td>\n      <td>&lt;h1 id=\"graphs-i\"&gt;Graphs I&lt;/h1&gt;\\n&lt;p&gt;This is a ...</td>\n      <td>2020-10-15 06:59:59+00:00</td>\n      <td>NaT</td>\n      <td>2020-10-26 06:59:59+00:00</td>\n      <td>0</td>\n      <td>points</td>\n      <td>648</td>\n      <td>NaN</td>\n      <td>2020-09-24 16:00:42+00:00</td>\n      <td>2020-11-12 17:58:00+00:00</td>\n      <td>False</td>\n      <td>False</td>\n      <td>1</td>\n      <td>False</td>\n      <td>False</td>\n      <td>NaN</td>\n      <td>False</td>\n      <td>False</td>\n      <td>False</td>\n      <td>False</td>\n      <td>False</td>\n      <td>False</td>\n      <td>False</td>\n      <td>0</td>\n      <td>True</td>\n      <td>NaN</td>\n      <td>True</td>\n      <td>-1</td>\n      <td>{'lock_at': '2020-10-26T06:59:59Z', 'can_view'...</td>\n      <td>eyJ0eXAiOiJKV1QiLCJhbGciOiJIUzI1NiJ9.eyJsdGlfY...</td>\n      <td>376</td>\n      <td>Graphs I Module Project</td>\n      <td>[online_url]</td>\n      <td>True</td>\n      <td>False</td>\n      <td>255</td>\n      <td>False</td>\n      <td>False</td>\n      <td>True</td>\n      <td>NaN</td>\n      <td>NaN</td>\n      <td>NaN</td>\n      <td>NaN</td>\n      <td>published</td>\n      <td>True</td>\n      <td>https://lambdaschool.instructure.com/courses/3...</td>\n      <td>NaN</td>\n      <td>NaN</td>\n      <td>True</td>\n      <td>False</td>\n      <td>True</td>\n      <td>This assignment was locked Oct 26 at 12:59am.</td>\n      <td>https://lambdaschool.instructure.com/courses/3...</td>\n      <td>False</td>\n      <td>False</td>\n      <td>False</td>\n    </tr>\n    <tr>\n      <th>4</th>\n      <td>3504</td>\n      <td>&lt;div class=\"description user_content teacher-v...</td>\n      <td>2020-10-16 01:30:00+00:00</td>\n      <td>NaT</td>\n      <td>2020-10-26 06:59:59+00:00</td>\n      <td>0</td>\n      <td>points</td>\n      <td>647</td>\n      <td>NaN</td>\n      <td>2020-09-24 16:00:40+00:00</td>\n      <td>2020-09-25 18:07:41+00:00</td>\n      <td>False</td>\n      <td>False</td>\n      <td>7</td>\n      <td>False</td>\n      <td>False</td>\n      <td>NaN</td>\n      <td>False</td>\n      <td>False</td>\n      <td>False</td>\n      <td>False</td>\n      <td>False</td>\n      <td>False</td>\n      <td>False</td>\n      <td>0</td>\n      <td>True</td>\n      <td>NaN</td>\n      <td>True</td>\n      <td>-1</td>\n      <td>{'lock_at': '2020-10-26T06:59:59Z', 'can_view'...</td>\n      <td>eyJ0eXAiOiJKV1QiLCJhbGciOiJIUzI1NiJ9.eyJsdGlfY...</td>\n      <td>376</td>\n      <td>Graphs II Entry Ticket</td>\n      <td>[online_quiz]</td>\n      <td>True</td>\n      <td>False</td>\n      <td>255</td>\n      <td>False</td>\n      <td>False</td>\n      <td>False</td>\n      <td>NaN</td>\n      <td>NaN</td>\n      <td>NaN</td>\n      <td>NaN</td>\n      <td>published</td>\n      <td>True</td>\n      <td>https://lambdaschool.instructure.com/courses/3...</td>\n      <td>2850.0</td>\n      <td>0.0</td>\n      <td>True</td>\n      <td>False</td>\n      <td>True</td>\n      <td>This assignment was locked Oct 26 at 12:59am.</td>\n      <td>https://lambdaschool.instructure.com/courses/3...</td>\n      <td>False</td>\n      <td>False</td>\n      <td>False</td>\n    </tr>\n  </tbody>\n</table>\n</div>"
     },
     "metadata": {},
     "execution_count": 30
    }
   ],
   "source": [
    "missing_df.head()"
   ]
  },
  {
   "cell_type": "code",
   "execution_count": 28,
   "metadata": {},
   "outputs": [
    {
     "output_type": "execute_result",
     "data": {
      "text/plain": [
       "0    9503\n",
       "1    9544\n",
       "2    9489\n",
       "3    9586\n",
       "4    3533\n",
       "Name: assignment_id, dtype: int64"
      ]
     },
     "metadata": {},
     "execution_count": 28
    }
   ],
   "source": [
    "grades_df['assignment_id'].head()"
   ]
  },
  {
   "cell_type": "code",
   "execution_count": 33,
   "metadata": {},
   "outputs": [
    {
     "output_type": "execute_result",
     "data": {
      "text/plain": [
       "     id                    due_at\n",
       "0  3435 2020-10-02 01:30:00+00:00\n",
       "1  3378 2020-10-07 06:59:59+00:00\n",
       "2  3461 2020-10-07 06:59:59+00:00\n",
       "3  3554 2020-10-15 06:59:59+00:00\n",
       "4  3504 2020-10-16 01:30:00+00:00"
      ],
      "text/html": "<div>\n<style scoped>\n    .dataframe tbody tr th:only-of-type {\n        vertical-align: middle;\n    }\n\n    .dataframe tbody tr th {\n        vertical-align: top;\n    }\n\n    .dataframe thead th {\n        text-align: right;\n    }\n</style>\n<table border=\"1\" class=\"dataframe\">\n  <thead>\n    <tr style=\"text-align: right;\">\n      <th></th>\n      <th>id</th>\n      <th>due_at</th>\n    </tr>\n  </thead>\n  <tbody>\n    <tr>\n      <th>0</th>\n      <td>3435</td>\n      <td>2020-10-02 01:30:00+00:00</td>\n    </tr>\n    <tr>\n      <th>1</th>\n      <td>3378</td>\n      <td>2020-10-07 06:59:59+00:00</td>\n    </tr>\n    <tr>\n      <th>2</th>\n      <td>3461</td>\n      <td>2020-10-07 06:59:59+00:00</td>\n    </tr>\n    <tr>\n      <th>3</th>\n      <td>3554</td>\n      <td>2020-10-15 06:59:59+00:00</td>\n    </tr>\n    <tr>\n      <th>4</th>\n      <td>3504</td>\n      <td>2020-10-16 01:30:00+00:00</td>\n    </tr>\n  </tbody>\n</table>\n</div>"
     },
     "metadata": {},
     "execution_count": 33
    }
   ],
   "source": [
    "missing_df[['id', 'due_at']].head()"
   ]
  },
  {
   "cell_type": "code",
   "execution_count": 35,
   "metadata": {},
   "outputs": [
    {
     "output_type": "execute_result",
     "data": {
      "text/plain": [
       "   assignment_id       cached_due_date\n",
       "0           9503  2020-12-11T07:59:00Z\n",
       "1           9544  2020-12-09T07:59:00Z\n",
       "2           9489  2020-12-07T07:59:00Z\n",
       "3           9586  2020-12-03T07:59:00Z\n",
       "4           3533  2020-11-10T07:59:59Z"
      ],
      "text/html": "<div>\n<style scoped>\n    .dataframe tbody tr th:only-of-type {\n        vertical-align: middle;\n    }\n\n    .dataframe tbody tr th {\n        vertical-align: top;\n    }\n\n    .dataframe thead th {\n        text-align: right;\n    }\n</style>\n<table border=\"1\" class=\"dataframe\">\n  <thead>\n    <tr style=\"text-align: right;\">\n      <th></th>\n      <th>assignment_id</th>\n      <th>cached_due_date</th>\n    </tr>\n  </thead>\n  <tbody>\n    <tr>\n      <th>0</th>\n      <td>9503</td>\n      <td>2020-12-11T07:59:00Z</td>\n    </tr>\n    <tr>\n      <th>1</th>\n      <td>9544</td>\n      <td>2020-12-09T07:59:00Z</td>\n    </tr>\n    <tr>\n      <th>2</th>\n      <td>9489</td>\n      <td>2020-12-07T07:59:00Z</td>\n    </tr>\n    <tr>\n      <th>3</th>\n      <td>9586</td>\n      <td>2020-12-03T07:59:00Z</td>\n    </tr>\n    <tr>\n      <th>4</th>\n      <td>3533</td>\n      <td>2020-11-10T07:59:59Z</td>\n    </tr>\n  </tbody>\n</table>\n</div>"
     },
     "metadata": {},
     "execution_count": 35
    }
   ],
   "source": [
    "grades_df[['assignment_id', 'cached_due_date']].head()"
   ]
  },
  {
   "cell_type": "code",
   "execution_count": 47,
   "metadata": {},
   "outputs": [
    {
     "output_type": "execute_result",
     "data": {
      "text/plain": [
       "10"
      ]
     },
     "metadata": {},
     "execution_count": 47
    }
   ],
   "source": [
    "from datetime import date\n",
    "\n",
    "todays_date = date.today()\n",
    "yesterday = todays_date.day-1\n",
    "yesterday"
   ]
  },
  {
   "cell_type": "code",
   "execution_count": 93,
   "metadata": {},
   "outputs": [
    {
     "output_type": "execute_result",
     "data": {
      "text/plain": [
       "2020-11-06T07:59:59Z    5\n",
       "2020-10-23T06:59:59Z    5\n",
       "2020-10-27T06:59:59Z    4\n",
       "2020-10-15T06:59:59Z    4\n",
       "2020-10-13T06:59:59Z    4\n",
       "2020-10-21T06:59:59Z    3\n",
       "2020-11-10T07:59:59Z    3\n",
       "2020-10-29T06:59:59Z    3\n",
       "2020-10-19T06:59:59Z    3\n",
       "2020-10-09T06:59:59Z    3\n",
       "2020-11-02T07:59:59Z    3\n",
       "2020-10-20T06:59:59Z    2\n",
       "2020-11-02T08:59:00Z    2\n",
       "2020-11-05T07:59:00Z    2\n",
       "2020-10-07T06:59:59Z    2\n",
       "2020-10-02T01:30:00Z    1\n",
       "2020-10-06T01:30:00Z    1\n",
       "2020-10-05T06:59:59Z    1\n",
       "2020-10-27T06:59:00Z    1\n",
       "2020-12-11T07:59:00Z    1\n",
       "2020-10-16T01:30:00Z    1\n",
       "2020-10-22T01:30:00Z    1\n",
       "2020-10-01T06:59:59Z    1\n",
       "2020-11-05T07:59:59Z    1\n",
       "2020-11-03T02:30:00Z    1\n",
       "2020-11-05T02:30:00Z    1\n",
       "2020-11-03T07:59:59Z    1\n",
       "2020-10-20T01:30:00Z    1\n",
       "2020-10-30T01:30:00Z    1\n",
       "2020-10-09T06:59:00Z    1\n",
       "2020-10-29T06:59:00Z    1\n",
       "2020-12-09T07:59:00Z    1\n",
       "2020-10-28T01:30:00Z    1\n",
       "2020-10-14T01:30:00Z    1\n",
       "2020-09-30T01:30:00Z    1\n",
       "2020-12-07T07:59:00Z    1\n",
       "2020-12-03T07:59:00Z    1\n",
       "Name: cached_due_date, dtype: int64"
      ]
     },
     "metadata": {},
     "execution_count": 93
    }
   ],
   "source": [
    "grades_df['cached_due_date'].value_counts()"
   ]
  },
  {
   "cell_type": "code",
   "execution_count": 94,
   "metadata": {},
   "outputs": [
    {
     "output_type": "execute_result",
     "data": {
      "text/plain": [
       "2020-11-02 07:59:59+00:00    3\n",
       "2020-10-19 06:59:59+00:00    3\n",
       "2020-10-23 06:59:59+00:00    3\n",
       "2020-11-06 07:59:59+00:00    3\n",
       "2020-10-29 06:59:59+00:00    2\n",
       "2020-10-07 06:59:59+00:00    2\n",
       "2020-12-11 07:59:59+00:00    2\n",
       "2020-12-03 07:59:00+00:00    2\n",
       "2020-11-05 07:59:00+00:00    2\n",
       "2020-10-16 01:30:00+00:00    1\n",
       "2020-10-22 01:30:00+00:00    1\n",
       "2020-12-09 07:59:00+00:00    1\n",
       "2020-10-15 06:59:59+00:00    1\n",
       "2020-10-30 01:30:00+00:00    1\n",
       "2020-10-21 06:59:59+00:00    1\n",
       "2020-11-05 07:59:59+00:00    1\n",
       "2020-11-05 02:30:00+00:00    1\n",
       "2020-10-02 01:30:00+00:00    1\n",
       "2020-12-07 07:59:00+00:00    1\n",
       "2020-10-27 06:59:00+00:00    1\n",
       "2020-12-09 07:59:59+00:00    1\n",
       "2020-12-11 07:59:00+00:00    1\n",
       "2020-11-03 02:30:00+00:00    1\n",
       "Name: due_at, dtype: int64"
      ]
     },
     "metadata": {},
     "execution_count": 94
    }
   ],
   "source": [
    "missing_df['due_at'].value_counts()"
   ]
  },
  {
   "cell_type": "code",
   "execution_count": null,
   "metadata": {},
   "outputs": [],
   "source": []
  }
 ]
}