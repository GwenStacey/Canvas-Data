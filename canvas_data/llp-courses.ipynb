{
 "metadata": {
  "language_info": {
   "codemirror_mode": {
    "name": "ipython",
    "version": 3
   },
   "file_extension": ".py",
   "mimetype": "text/x-python",
   "name": "python",
   "nbconvert_exporter": "python",
   "pygments_lexer": "ipython3",
   "version": "3.8.5-final"
  },
  "orig_nbformat": 2,
  "kernelspec": {
   "name": "canvas-data",
   "display_name": "canvas-data",
   "language": "python"
  }
 },
 "nbformat": 4,
 "nbformat_minor": 2,
 "cells": [
  {
   "cell_type": "code",
   "execution_count": 53,
   "metadata": {},
   "outputs": [
    {
     "output_type": "execute_result",
     "data": {
      "text/plain": [
       "True"
      ]
     },
     "metadata": {},
     "execution_count": 53
    }
   ],
   "source": [
    "import os\n",
    "import json\n",
    "import requests\n",
    "import sqlite3\n",
    "from dotenv import load_dotenv\n",
    "import plotly_express as px\n",
    "load_dotenv()"
   ]
  },
  {
   "cell_type": "code",
   "execution_count": 2,
   "metadata": {},
   "outputs": [],
   "source": [
    "api_key = os.getenv(\"API-KEY\")\n",
    "headers = {\"Authorization\":\n",
    "           f\"Bearer {api_key}\"}"
   ]
  },
  {
   "cell_type": "code",
   "execution_count": 3,
   "metadata": {},
   "outputs": [],
   "source": [
    "import pandas as pd\n",
    "\n",
    "pd.set_option(\"display.max_columns\", None)\n",
    "pd.set_option(\"display.max_colwidth\", None)"
   ]
  },
  {
   "cell_type": "code",
   "execution_count": 47,
   "metadata": {},
   "outputs": [],
   "source": [
    "r = requests.get(f\"https://lambdaschool.instructure.com/api/v1/accounts/1/courses?search_by=course&search_term=Lambda Leadership\", headers=headers)"
   ]
  },
  {
   "cell_type": "code",
   "execution_count": 48,
   "metadata": {},
   "outputs": [
    {
     "output_type": "execute_result",
     "data": {
      "text/plain": [
       "<Response [200]>"
      ]
     },
     "metadata": {},
     "execution_count": 48
    }
   ],
   "source": [
    "r"
   ]
  },
  {
   "cell_type": "code",
   "execution_count": 49,
   "metadata": {},
   "outputs": [],
   "source": [
    "raw = r.json()"
   ]
  },
  {
   "cell_type": "code",
   "execution_count": 50,
   "metadata": {},
   "outputs": [
    {
     "output_type": "execute_result",
     "data": {
      "text/plain": [
       "[{'id': 190,\n",
       "  'name': 'Lambda Leadership Program - Unit 2',\n",
       "  'account_id': 1,\n",
       "  'uuid': 'J9daOUmhhQcLwEinxnXTJNRH86tZjobdOone45U1',\n",
       "  'start_at': None,\n",
       "  'grading_standard_id': None,\n",
       "  'is_public': False,\n",
       "  'created_at': '2020-08-17T17:13:20Z',\n",
       "  'course_code': 'LLP_unit2',\n",
       "  'default_view': 'wiki',\n",
       "  'root_account_id': 1,\n",
       "  'enrollment_term_id': 103,\n",
       "  'license': 'private',\n",
       "  'grade_passback_setting': None,\n",
       "  'end_at': '2020-12-07T08:00:00Z',\n",
       "  'public_syllabus': False,\n",
       "  'public_syllabus_to_auth': False,\n",
       "  'storage_quota_mb': 2000,\n",
       "  'is_public_to_auth_users': False,\n",
       "  'apply_assignment_group_weights': False,\n",
       "  'calendar': {'ics': 'https://lambdaschool.instructure.com/feeds/calendars/course_J9daOUmhhQcLwEinxnXTJNRH86tZjobdOone45U1.ics'},\n",
       "  'time_zone': 'America/Denver',\n",
       "  'blueprint': False,\n",
       "  'sis_course_id': None,\n",
       "  'sis_import_id': None,\n",
       "  'integration_id': None,\n",
       "  'hide_final_grades': False,\n",
       "  'workflow_state': 'unpublished',\n",
       "  'restrict_enrollments_to_course_dates': True,\n",
       "  'overridden_course_visibility': ''},\n",
       " {'id': 283,\n",
       "  'name': 'Lambda Leadership - Rotation C Template',\n",
       "  'account_id': 1,\n",
       "  'uuid': 'nwdlOihsde1UVKa4ijri9IupJuAJMQL2zSaIVlyG',\n",
       "  'start_at': '2020-09-21T16:04:00Z',\n",
       "  'grading_standard_id': None,\n",
       "  'is_public': False,\n",
       "  'created_at': '2020-09-14T15:00:02Z',\n",
       "  'course_code': 'LLP_C_Template_Old',\n",
       "  'default_view': 'wiki',\n",
       "  'root_account_id': 1,\n",
       "  'enrollment_term_id': 1,\n",
       "  'license': 'private',\n",
       "  'grade_passback_setting': None,\n",
       "  'end_at': None,\n",
       "  'public_syllabus': False,\n",
       "  'public_syllabus_to_auth': False,\n",
       "  'storage_quota_mb': 2000,\n",
       "  'is_public_to_auth_users': False,\n",
       "  'apply_assignment_group_weights': False,\n",
       "  'calendar': {'ics': 'https://lambdaschool.instructure.com/feeds/calendars/course_nwdlOihsde1UVKa4ijri9IupJuAJMQL2zSaIVlyG.ics'},\n",
       "  'time_zone': 'America/Denver',\n",
       "  'blueprint': True,\n",
       "  'blueprint_restrictions': {'content': False,\n",
       "   'points': False,\n",
       "   'due_dates': False,\n",
       "   'availability_dates': False},\n",
       "  'sis_course_id': 'LLP_C_Template_Old',\n",
       "  'sis_import_id': None,\n",
       "  'integration_id': None,\n",
       "  'hide_final_grades': False,\n",
       "  'workflow_state': 'available',\n",
       "  'restrict_enrollments_to_course_dates': False,\n",
       "  'overridden_course_visibility': ''},\n",
       " {'id': 330,\n",
       "  'name': 'Lambda Leadership - Rotation C PT',\n",
       "  'account_id': 1,\n",
       "  'uuid': 'vRJPG8f5QRK6ungHvYamiOiGU2n4P9mKwwdKvA7s',\n",
       "  'start_at': '2020-09-21T16:04:00Z',\n",
       "  'grading_standard_id': None,\n",
       "  'is_public': False,\n",
       "  'created_at': '2020-09-22T15:51:59Z',\n",
       "  'course_code': 'LLP_PT_2009',\n",
       "  'default_view': 'wiki',\n",
       "  'root_account_id': 1,\n",
       "  'enrollment_term_id': 103,\n",
       "  'license': 'private',\n",
       "  'grade_passback_setting': None,\n",
       "  'end_at': '2020-11-23T07:00:00Z',\n",
       "  'public_syllabus': False,\n",
       "  'public_syllabus_to_auth': False,\n",
       "  'storage_quota_mb': 2000,\n",
       "  'is_public_to_auth_users': False,\n",
       "  'apply_assignment_group_weights': False,\n",
       "  'calendar': {'ics': 'https://lambdaschool.instructure.com/feeds/calendars/course_vRJPG8f5QRK6ungHvYamiOiGU2n4P9mKwwdKvA7s.ics'},\n",
       "  'time_zone': 'America/Denver',\n",
       "  'blueprint': False,\n",
       "  'sis_course_id': 'LLP_PT_2009',\n",
       "  'sis_import_id': None,\n",
       "  'integration_id': None,\n",
       "  'hide_final_grades': False,\n",
       "  'workflow_state': 'available',\n",
       "  'restrict_enrollments_to_course_dates': True,\n",
       "  'overridden_course_visibility': ''},\n",
       " {'id': 331,\n",
       "  'name': 'Lambda Leadership - Rotation C FT',\n",
       "  'account_id': 1,\n",
       "  'uuid': '2gVSLHMWasuDBJpSomMzFwcI38EFs0qv3i1E5WLw',\n",
       "  'start_at': '2020-09-21T16:04:00Z',\n",
       "  'grading_standard_id': None,\n",
       "  'is_public': False,\n",
       "  'created_at': '2020-09-22T15:52:34Z',\n",
       "  'course_code': 'LLP_FT_2009',\n",
       "  'default_view': 'wiki',\n",
       "  'root_account_id': 1,\n",
       "  'enrollment_term_id': 103,\n",
       "  'license': 'private',\n",
       "  'grade_passback_setting': None,\n",
       "  'end_at': '2020-10-26T06:00:00Z',\n",
       "  'public_syllabus': False,\n",
       "  'public_syllabus_to_auth': False,\n",
       "  'storage_quota_mb': 2000,\n",
       "  'is_public_to_auth_users': False,\n",
       "  'apply_assignment_group_weights': False,\n",
       "  'calendar': {'ics': 'https://lambdaschool.instructure.com/feeds/calendars/course_2gVSLHMWasuDBJpSomMzFwcI38EFs0qv3i1E5WLw.ics'},\n",
       "  'time_zone': 'America/Denver',\n",
       "  'blueprint': False,\n",
       "  'sis_course_id': 'LLP_FT_2009',\n",
       "  'sis_import_id': None,\n",
       "  'integration_id': None,\n",
       "  'hide_final_grades': False,\n",
       "  'workflow_state': 'available',\n",
       "  'restrict_enrollments_to_course_dates': True,\n",
       "  'overridden_course_visibility': ''},\n",
       " {'id': 365,\n",
       "  'name': 'Lambda Leadership - Rotation C FT - LABS',\n",
       "  'account_id': 1,\n",
       "  'uuid': 'uWxZkmEaLcb74oS1EZAESDX82zzXQrgpV6d54BBH',\n",
       "  'start_at': '2020-09-23T23:47:00Z',\n",
       "  'grading_standard_id': None,\n",
       "  'is_public': False,\n",
       "  'created_at': '2020-09-23T23:36:41Z',\n",
       "  'course_code': 'LLP_FT_2009LABS',\n",
       "  'default_view': 'wiki',\n",
       "  'root_account_id': 1,\n",
       "  'enrollment_term_id': 103,\n",
       "  'license': 'private',\n",
       "  'grade_passback_setting': None,\n",
       "  'end_at': '2020-10-26T06:00:00Z',\n",
       "  'public_syllabus': False,\n",
       "  'public_syllabus_to_auth': False,\n",
       "  'storage_quota_mb': 2000,\n",
       "  'is_public_to_auth_users': False,\n",
       "  'apply_assignment_group_weights': False,\n",
       "  'calendar': {'ics': 'https://lambdaschool.instructure.com/feeds/calendars/course_uWxZkmEaLcb74oS1EZAESDX82zzXQrgpV6d54BBH.ics'},\n",
       "  'time_zone': 'America/Denver',\n",
       "  'blueprint': False,\n",
       "  'sis_course_id': 'LLP_FT_2009LABS',\n",
       "  'sis_import_id': None,\n",
       "  'integration_id': None,\n",
       "  'hide_final_grades': False,\n",
       "  'workflow_state': 'available',\n",
       "  'restrict_enrollments_to_course_dates': True,\n",
       "  'overridden_course_visibility': ''},\n",
       " {'id': 366,\n",
       "  'name': 'Lambda Leadership - Rotation C PT - LABS',\n",
       "  'account_id': 1,\n",
       "  'uuid': 'AYSKbWrvCW3JiOUsmyELDOPg6vggoofc923Rlvnf',\n",
       "  'start_at': '2020-09-23T23:52:12Z',\n",
       "  'grading_standard_id': None,\n",
       "  'is_public': False,\n",
       "  'created_at': '2020-09-23T23:49:39Z',\n",
       "  'course_code': 'LLP_PT_2009LABS',\n",
       "  'default_view': 'wiki',\n",
       "  'root_account_id': 1,\n",
       "  'enrollment_term_id': 103,\n",
       "  'license': 'private',\n",
       "  'grade_passback_setting': None,\n",
       "  'end_at': '2020-11-30T07:00:00Z',\n",
       "  'public_syllabus': False,\n",
       "  'public_syllabus_to_auth': False,\n",
       "  'storage_quota_mb': 2000,\n",
       "  'is_public_to_auth_users': False,\n",
       "  'apply_assignment_group_weights': False,\n",
       "  'calendar': {'ics': 'https://lambdaschool.instructure.com/feeds/calendars/course_AYSKbWrvCW3JiOUsmyELDOPg6vggoofc923Rlvnf.ics'},\n",
       "  'time_zone': 'America/Denver',\n",
       "  'blueprint': False,\n",
       "  'sis_course_id': 'LLP_PT_2009LABS',\n",
       "  'sis_import_id': None,\n",
       "  'integration_id': None,\n",
       "  'hide_final_grades': False,\n",
       "  'workflow_state': 'available',\n",
       "  'restrict_enrollments_to_course_dates': True,\n",
       "  'overridden_course_visibility': ''},\n",
       " {'id': 391,\n",
       "  'name': 'Lambda Leadership Rotation C - CS',\n",
       "  'account_id': 1,\n",
       "  'uuid': 'pHq7LPRQhN0zr4l0RNmpXFfzVOSzAWpKliiwyxqk',\n",
       "  'start_at': '2020-09-29T21:25:00Z',\n",
       "  'grading_standard_id': None,\n",
       "  'is_public': False,\n",
       "  'created_at': '2020-09-29T17:02:27Z',\n",
       "  'course_code': 'LLP_FT_2009_CS',\n",
       "  'default_view': 'wiki',\n",
       "  'root_account_id': 1,\n",
       "  'enrollment_term_id': 103,\n",
       "  'license': 'private',\n",
       "  'grade_passback_setting': None,\n",
       "  'end_at': '2020-10-25T07:00:00Z',\n",
       "  'public_syllabus': False,\n",
       "  'public_syllabus_to_auth': False,\n",
       "  'storage_quota_mb': 2000,\n",
       "  'is_public_to_auth_users': False,\n",
       "  'apply_assignment_group_weights': False,\n",
       "  'calendar': {'ics': 'https://lambdaschool.instructure.com/feeds/calendars/course_pHq7LPRQhN0zr4l0RNmpXFfzVOSzAWpKliiwyxqk.ics'},\n",
       "  'time_zone': 'America/Los_Angeles',\n",
       "  'blueprint': False,\n",
       "  'sis_course_id': 'LLP_FT_2009_CS',\n",
       "  'sis_import_id': None,\n",
       "  'integration_id': None,\n",
       "  'hide_final_grades': False,\n",
       "  'workflow_state': 'available',\n",
       "  'restrict_enrollments_to_course_dates': True,\n",
       "  'overridden_course_visibility': ''},\n",
       " {'id': 393,\n",
       "  'name': 'Lambda Leadership Rotation C PT - CS',\n",
       "  'account_id': 1,\n",
       "  'uuid': 'd9jJBBwL2yR1EiBfB5X4BSzvo8XvoSk3yzAcJWYG',\n",
       "  'start_at': '2020-09-27T04:00:00Z',\n",
       "  'grading_standard_id': None,\n",
       "  'is_public': False,\n",
       "  'created_at': '2020-09-29T19:56:24Z',\n",
       "  'course_code': 'LLP_PT_2009_CS',\n",
       "  'default_view': 'wiki',\n",
       "  'root_account_id': 1,\n",
       "  'enrollment_term_id': 103,\n",
       "  'license': 'private',\n",
       "  'grade_passback_setting': None,\n",
       "  'end_at': '2020-11-30T05:00:00Z',\n",
       "  'public_syllabus': False,\n",
       "  'public_syllabus_to_auth': False,\n",
       "  'storage_quota_mb': 2000,\n",
       "  'is_public_to_auth_users': False,\n",
       "  'apply_assignment_group_weights': False,\n",
       "  'calendar': {'ics': 'https://lambdaschool.instructure.com/feeds/calendars/course_d9jJBBwL2yR1EiBfB5X4BSzvo8XvoSk3yzAcJWYG.ics'},\n",
       "  'time_zone': 'America/Los_Angeles',\n",
       "  'blueprint': False,\n",
       "  'sis_course_id': 'LLP_PT_2009_CS',\n",
       "  'sis_import_id': None,\n",
       "  'integration_id': None,\n",
       "  'hide_final_grades': False,\n",
       "  'workflow_state': 'available',\n",
       "  'restrict_enrollments_to_course_dates': True,\n",
       "  'overridden_course_visibility': ''},\n",
       " {'id': 408,\n",
       "  'name': 'Lambda Leadership - Rotation D',\n",
       "  'account_id': 1,\n",
       "  'uuid': 'fOb8zb8yDpfkKvpKjsae0bwTyj7JoT6nZxkP7V2M',\n",
       "  'start_at': None,\n",
       "  'grading_standard_id': None,\n",
       "  'is_public': False,\n",
       "  'created_at': '2020-10-14T17:25:05Z',\n",
       "  'course_code': 'LLP_D_FT_Template',\n",
       "  'default_view': 'wiki',\n",
       "  'root_account_id': 1,\n",
       "  'enrollment_term_id': 1,\n",
       "  'license': 'private',\n",
       "  'grade_passback_setting': None,\n",
       "  'end_at': None,\n",
       "  'public_syllabus': False,\n",
       "  'public_syllabus_to_auth': False,\n",
       "  'storage_quota_mb': 2000,\n",
       "  'is_public_to_auth_users': False,\n",
       "  'apply_assignment_group_weights': False,\n",
       "  'calendar': {'ics': 'https://lambdaschool.instructure.com/feeds/calendars/course_fOb8zb8yDpfkKvpKjsae0bwTyj7JoT6nZxkP7V2M.ics'},\n",
       "  'time_zone': 'America/Los_Angeles',\n",
       "  'blueprint': True,\n",
       "  'blueprint_restrictions': {'content': False,\n",
       "   'points': False,\n",
       "   'due_dates': False,\n",
       "   'availability_dates': False},\n",
       "  'sis_course_id': 'LLP_D_FT_Template',\n",
       "  'sis_import_id': None,\n",
       "  'integration_id': None,\n",
       "  'hide_final_grades': False,\n",
       "  'workflow_state': 'unpublished',\n",
       "  'restrict_enrollments_to_course_dates': False,\n",
       "  'overridden_course_visibility': ''},\n",
       " {'id': 427,\n",
       "  'name': 'Lambda Leadership - Rotation D - Part Time',\n",
       "  'account_id': 1,\n",
       "  'uuid': 'fV5T2YzL2Ez1NnLvsNpbsFxcuXtYiAT4TNoGYmyX',\n",
       "  'start_at': None,\n",
       "  'grading_standard_id': None,\n",
       "  'is_public': False,\n",
       "  'created_at': '2020-10-21T21:47:24Z',\n",
       "  'course_code': 'LLP_D_PT_Template',\n",
       "  'default_view': 'wiki',\n",
       "  'root_account_id': 1,\n",
       "  'enrollment_term_id': 1,\n",
       "  'license': 'private',\n",
       "  'grade_passback_setting': None,\n",
       "  'end_at': None,\n",
       "  'public_syllabus': False,\n",
       "  'public_syllabus_to_auth': False,\n",
       "  'storage_quota_mb': 2000,\n",
       "  'is_public_to_auth_users': False,\n",
       "  'apply_assignment_group_weights': False,\n",
       "  'calendar': {'ics': 'https://lambdaschool.instructure.com/feeds/calendars/course_fV5T2YzL2Ez1NnLvsNpbsFxcuXtYiAT4TNoGYmyX.ics'},\n",
       "  'time_zone': 'America/Los_Angeles',\n",
       "  'blueprint': True,\n",
       "  'blueprint_restrictions': {'content': True,\n",
       "   'points': False,\n",
       "   'due_dates': False,\n",
       "   'availability_dates': False},\n",
       "  'sis_course_id': None,\n",
       "  'sis_import_id': None,\n",
       "  'integration_id': None,\n",
       "  'hide_final_grades': False,\n",
       "  'workflow_state': 'unpublished',\n",
       "  'restrict_enrollments_to_course_dates': False,\n",
       "  'overridden_course_visibility': ''}]"
      ]
     },
     "metadata": {},
     "execution_count": 50
    }
   ],
   "source": [
    "raw"
   ]
  },
  {
   "cell_type": "code",
   "execution_count": 51,
   "metadata": {},
   "outputs": [
    {
     "output_type": "execute_result",
     "data": {
      "text/plain": [
       "    id                                      name  account_id  \\\n",
       "0  190        Lambda Leadership Program - Unit 2           1   \n",
       "1  283   Lambda Leadership - Rotation C Template           1   \n",
       "2  330         Lambda Leadership - Rotation C PT           1   \n",
       "3  331         Lambda Leadership - Rotation C FT           1   \n",
       "4  365  Lambda Leadership - Rotation C FT - LABS           1   \n",
       "\n",
       "                                       uuid              start_at  \\\n",
       "0  J9daOUmhhQcLwEinxnXTJNRH86tZjobdOone45U1                  None   \n",
       "1  nwdlOihsde1UVKa4ijri9IupJuAJMQL2zSaIVlyG  2020-09-21T16:04:00Z   \n",
       "2  vRJPG8f5QRK6ungHvYamiOiGU2n4P9mKwwdKvA7s  2020-09-21T16:04:00Z   \n",
       "3  2gVSLHMWasuDBJpSomMzFwcI38EFs0qv3i1E5WLw  2020-09-21T16:04:00Z   \n",
       "4  uWxZkmEaLcb74oS1EZAESDX82zzXQrgpV6d54BBH  2020-09-23T23:47:00Z   \n",
       "\n",
       "  grading_standard_id  is_public            created_at         course_code  \\\n",
       "0                None      False  2020-08-17T17:13:20Z           LLP_unit2   \n",
       "1                None      False  2020-09-14T15:00:02Z  LLP_C_Template_Old   \n",
       "2                None      False  2020-09-22T15:51:59Z         LLP_PT_2009   \n",
       "3                None      False  2020-09-22T15:52:34Z         LLP_FT_2009   \n",
       "4                None      False  2020-09-23T23:36:41Z     LLP_FT_2009LABS   \n",
       "\n",
       "  default_view  root_account_id  enrollment_term_id  license  \\\n",
       "0         wiki                1                 103  private   \n",
       "1         wiki                1                   1  private   \n",
       "2         wiki                1                 103  private   \n",
       "3         wiki                1                 103  private   \n",
       "4         wiki                1                 103  private   \n",
       "\n",
       "  grade_passback_setting                end_at  public_syllabus  \\\n",
       "0                   None  2020-12-07T08:00:00Z            False   \n",
       "1                   None                  None            False   \n",
       "2                   None  2020-11-23T07:00:00Z            False   \n",
       "3                   None  2020-10-26T06:00:00Z            False   \n",
       "4                   None  2020-10-26T06:00:00Z            False   \n",
       "\n",
       "   public_syllabus_to_auth  storage_quota_mb  is_public_to_auth_users  \\\n",
       "0                    False              2000                    False   \n",
       "1                    False              2000                    False   \n",
       "2                    False              2000                    False   \n",
       "3                    False              2000                    False   \n",
       "4                    False              2000                    False   \n",
       "\n",
       "   apply_assignment_group_weights  \\\n",
       "0                           False   \n",
       "1                           False   \n",
       "2                           False   \n",
       "3                           False   \n",
       "4                           False   \n",
       "\n",
       "                                                                                                              calendar  \\\n",
       "0  {'ics': 'https://lambdaschool.instructure.com/feeds/calendars/course_J9daOUmhhQcLwEinxnXTJNRH86tZjobdOone45U1.ics'}   \n",
       "1  {'ics': 'https://lambdaschool.instructure.com/feeds/calendars/course_nwdlOihsde1UVKa4ijri9IupJuAJMQL2zSaIVlyG.ics'}   \n",
       "2  {'ics': 'https://lambdaschool.instructure.com/feeds/calendars/course_vRJPG8f5QRK6ungHvYamiOiGU2n4P9mKwwdKvA7s.ics'}   \n",
       "3  {'ics': 'https://lambdaschool.instructure.com/feeds/calendars/course_2gVSLHMWasuDBJpSomMzFwcI38EFs0qv3i1E5WLw.ics'}   \n",
       "4  {'ics': 'https://lambdaschool.instructure.com/feeds/calendars/course_uWxZkmEaLcb74oS1EZAESDX82zzXQrgpV6d54BBH.ics'}   \n",
       "\n",
       "        time_zone  blueprint       sis_course_id sis_import_id integration_id  \\\n",
       "0  America/Denver      False                None          None           None   \n",
       "1  America/Denver       True  LLP_C_Template_Old          None           None   \n",
       "2  America/Denver      False         LLP_PT_2009          None           None   \n",
       "3  America/Denver      False         LLP_FT_2009          None           None   \n",
       "4  America/Denver      False     LLP_FT_2009LABS          None           None   \n",
       "\n",
       "   hide_final_grades workflow_state  restrict_enrollments_to_course_dates  \\\n",
       "0              False    unpublished                                  True   \n",
       "1              False      available                                 False   \n",
       "2              False      available                                  True   \n",
       "3              False      available                                  True   \n",
       "4              False      available                                  True   \n",
       "\n",
       "  overridden_course_visibility  \\\n",
       "0                                \n",
       "1                                \n",
       "2                                \n",
       "3                                \n",
       "4                                \n",
       "\n",
       "                                                                 blueprint_restrictions  \n",
       "0                                                                                   NaN  \n",
       "1  {'content': False, 'points': False, 'due_dates': False, 'availability_dates': False}  \n",
       "2                                                                                   NaN  \n",
       "3                                                                                   NaN  \n",
       "4                                                                                   NaN  "
      ],
      "text/html": "<div>\n<style scoped>\n    .dataframe tbody tr th:only-of-type {\n        vertical-align: middle;\n    }\n\n    .dataframe tbody tr th {\n        vertical-align: top;\n    }\n\n    .dataframe thead th {\n        text-align: right;\n    }\n</style>\n<table border=\"1\" class=\"dataframe\">\n  <thead>\n    <tr style=\"text-align: right;\">\n      <th></th>\n      <th>id</th>\n      <th>name</th>\n      <th>account_id</th>\n      <th>uuid</th>\n      <th>start_at</th>\n      <th>grading_standard_id</th>\n      <th>is_public</th>\n      <th>created_at</th>\n      <th>course_code</th>\n      <th>default_view</th>\n      <th>root_account_id</th>\n      <th>enrollment_term_id</th>\n      <th>license</th>\n      <th>grade_passback_setting</th>\n      <th>end_at</th>\n      <th>public_syllabus</th>\n      <th>public_syllabus_to_auth</th>\n      <th>storage_quota_mb</th>\n      <th>is_public_to_auth_users</th>\n      <th>apply_assignment_group_weights</th>\n      <th>calendar</th>\n      <th>time_zone</th>\n      <th>blueprint</th>\n      <th>sis_course_id</th>\n      <th>sis_import_id</th>\n      <th>integration_id</th>\n      <th>hide_final_grades</th>\n      <th>workflow_state</th>\n      <th>restrict_enrollments_to_course_dates</th>\n      <th>overridden_course_visibility</th>\n      <th>blueprint_restrictions</th>\n    </tr>\n  </thead>\n  <tbody>\n    <tr>\n      <th>0</th>\n      <td>190</td>\n      <td>Lambda Leadership Program - Unit 2</td>\n      <td>1</td>\n      <td>J9daOUmhhQcLwEinxnXTJNRH86tZjobdOone45U1</td>\n      <td>None</td>\n      <td>None</td>\n      <td>False</td>\n      <td>2020-08-17T17:13:20Z</td>\n      <td>LLP_unit2</td>\n      <td>wiki</td>\n      <td>1</td>\n      <td>103</td>\n      <td>private</td>\n      <td>None</td>\n      <td>2020-12-07T08:00:00Z</td>\n      <td>False</td>\n      <td>False</td>\n      <td>2000</td>\n      <td>False</td>\n      <td>False</td>\n      <td>{'ics': 'https://lambdaschool.instructure.com/feeds/calendars/course_J9daOUmhhQcLwEinxnXTJNRH86tZjobdOone45U1.ics'}</td>\n      <td>America/Denver</td>\n      <td>False</td>\n      <td>None</td>\n      <td>None</td>\n      <td>None</td>\n      <td>False</td>\n      <td>unpublished</td>\n      <td>True</td>\n      <td></td>\n      <td>NaN</td>\n    </tr>\n    <tr>\n      <th>1</th>\n      <td>283</td>\n      <td>Lambda Leadership - Rotation C Template</td>\n      <td>1</td>\n      <td>nwdlOihsde1UVKa4ijri9IupJuAJMQL2zSaIVlyG</td>\n      <td>2020-09-21T16:04:00Z</td>\n      <td>None</td>\n      <td>False</td>\n      <td>2020-09-14T15:00:02Z</td>\n      <td>LLP_C_Template_Old</td>\n      <td>wiki</td>\n      <td>1</td>\n      <td>1</td>\n      <td>private</td>\n      <td>None</td>\n      <td>None</td>\n      <td>False</td>\n      <td>False</td>\n      <td>2000</td>\n      <td>False</td>\n      <td>False</td>\n      <td>{'ics': 'https://lambdaschool.instructure.com/feeds/calendars/course_nwdlOihsde1UVKa4ijri9IupJuAJMQL2zSaIVlyG.ics'}</td>\n      <td>America/Denver</td>\n      <td>True</td>\n      <td>LLP_C_Template_Old</td>\n      <td>None</td>\n      <td>None</td>\n      <td>False</td>\n      <td>available</td>\n      <td>False</td>\n      <td></td>\n      <td>{'content': False, 'points': False, 'due_dates': False, 'availability_dates': False}</td>\n    </tr>\n    <tr>\n      <th>2</th>\n      <td>330</td>\n      <td>Lambda Leadership - Rotation C PT</td>\n      <td>1</td>\n      <td>vRJPG8f5QRK6ungHvYamiOiGU2n4P9mKwwdKvA7s</td>\n      <td>2020-09-21T16:04:00Z</td>\n      <td>None</td>\n      <td>False</td>\n      <td>2020-09-22T15:51:59Z</td>\n      <td>LLP_PT_2009</td>\n      <td>wiki</td>\n      <td>1</td>\n      <td>103</td>\n      <td>private</td>\n      <td>None</td>\n      <td>2020-11-23T07:00:00Z</td>\n      <td>False</td>\n      <td>False</td>\n      <td>2000</td>\n      <td>False</td>\n      <td>False</td>\n      <td>{'ics': 'https://lambdaschool.instructure.com/feeds/calendars/course_vRJPG8f5QRK6ungHvYamiOiGU2n4P9mKwwdKvA7s.ics'}</td>\n      <td>America/Denver</td>\n      <td>False</td>\n      <td>LLP_PT_2009</td>\n      <td>None</td>\n      <td>None</td>\n      <td>False</td>\n      <td>available</td>\n      <td>True</td>\n      <td></td>\n      <td>NaN</td>\n    </tr>\n    <tr>\n      <th>3</th>\n      <td>331</td>\n      <td>Lambda Leadership - Rotation C FT</td>\n      <td>1</td>\n      <td>2gVSLHMWasuDBJpSomMzFwcI38EFs0qv3i1E5WLw</td>\n      <td>2020-09-21T16:04:00Z</td>\n      <td>None</td>\n      <td>False</td>\n      <td>2020-09-22T15:52:34Z</td>\n      <td>LLP_FT_2009</td>\n      <td>wiki</td>\n      <td>1</td>\n      <td>103</td>\n      <td>private</td>\n      <td>None</td>\n      <td>2020-10-26T06:00:00Z</td>\n      <td>False</td>\n      <td>False</td>\n      <td>2000</td>\n      <td>False</td>\n      <td>False</td>\n      <td>{'ics': 'https://lambdaschool.instructure.com/feeds/calendars/course_2gVSLHMWasuDBJpSomMzFwcI38EFs0qv3i1E5WLw.ics'}</td>\n      <td>America/Denver</td>\n      <td>False</td>\n      <td>LLP_FT_2009</td>\n      <td>None</td>\n      <td>None</td>\n      <td>False</td>\n      <td>available</td>\n      <td>True</td>\n      <td></td>\n      <td>NaN</td>\n    </tr>\n    <tr>\n      <th>4</th>\n      <td>365</td>\n      <td>Lambda Leadership - Rotation C FT - LABS</td>\n      <td>1</td>\n      <td>uWxZkmEaLcb74oS1EZAESDX82zzXQrgpV6d54BBH</td>\n      <td>2020-09-23T23:47:00Z</td>\n      <td>None</td>\n      <td>False</td>\n      <td>2020-09-23T23:36:41Z</td>\n      <td>LLP_FT_2009LABS</td>\n      <td>wiki</td>\n      <td>1</td>\n      <td>103</td>\n      <td>private</td>\n      <td>None</td>\n      <td>2020-10-26T06:00:00Z</td>\n      <td>False</td>\n      <td>False</td>\n      <td>2000</td>\n      <td>False</td>\n      <td>False</td>\n      <td>{'ics': 'https://lambdaschool.instructure.com/feeds/calendars/course_uWxZkmEaLcb74oS1EZAESDX82zzXQrgpV6d54BBH.ics'}</td>\n      <td>America/Denver</td>\n      <td>False</td>\n      <td>LLP_FT_2009LABS</td>\n      <td>None</td>\n      <td>None</td>\n      <td>False</td>\n      <td>available</td>\n      <td>True</td>\n      <td></td>\n      <td>NaN</td>\n    </tr>\n  </tbody>\n</table>\n</div>"
     },
     "metadata": {},
     "execution_count": 51
    }
   ],
   "source": [
    "df = pd.DataFrame(raw)\n",
    "df.head()"
   ]
  },
  {
   "cell_type": "code",
   "execution_count": 52,
   "metadata": {},
   "outputs": [
    {
     "output_type": "execute_result",
     "data": {
      "text/plain": [
       "    id                                      name         course_code  \\\n",
       "0  190        Lambda Leadership Program - Unit 2           LLP_unit2   \n",
       "1  283   Lambda Leadership - Rotation C Template  LLP_C_Template_Old   \n",
       "2  330         Lambda Leadership - Rotation C PT         LLP_PT_2009   \n",
       "3  331         Lambda Leadership - Rotation C FT         LLP_FT_2009   \n",
       "4  365  Lambda Leadership - Rotation C FT - LABS     LLP_FT_2009LABS   \n",
       "\n",
       "        sis_course_id  \n",
       "0                None  \n",
       "1  LLP_C_Template_Old  \n",
       "2         LLP_PT_2009  \n",
       "3         LLP_FT_2009  \n",
       "4     LLP_FT_2009LABS  "
      ],
      "text/html": "<div>\n<style scoped>\n    .dataframe tbody tr th:only-of-type {\n        vertical-align: middle;\n    }\n\n    .dataframe tbody tr th {\n        vertical-align: top;\n    }\n\n    .dataframe thead th {\n        text-align: right;\n    }\n</style>\n<table border=\"1\" class=\"dataframe\">\n  <thead>\n    <tr style=\"text-align: right;\">\n      <th></th>\n      <th>id</th>\n      <th>name</th>\n      <th>course_code</th>\n      <th>sis_course_id</th>\n    </tr>\n  </thead>\n  <tbody>\n    <tr>\n      <th>0</th>\n      <td>190</td>\n      <td>Lambda Leadership Program - Unit 2</td>\n      <td>LLP_unit2</td>\n      <td>None</td>\n    </tr>\n    <tr>\n      <th>1</th>\n      <td>283</td>\n      <td>Lambda Leadership - Rotation C Template</td>\n      <td>LLP_C_Template_Old</td>\n      <td>LLP_C_Template_Old</td>\n    </tr>\n    <tr>\n      <th>2</th>\n      <td>330</td>\n      <td>Lambda Leadership - Rotation C PT</td>\n      <td>LLP_PT_2009</td>\n      <td>LLP_PT_2009</td>\n    </tr>\n    <tr>\n      <th>3</th>\n      <td>331</td>\n      <td>Lambda Leadership - Rotation C FT</td>\n      <td>LLP_FT_2009</td>\n      <td>LLP_FT_2009</td>\n    </tr>\n    <tr>\n      <th>4</th>\n      <td>365</td>\n      <td>Lambda Leadership - Rotation C FT - LABS</td>\n      <td>LLP_FT_2009LABS</td>\n      <td>LLP_FT_2009LABS</td>\n    </tr>\n  </tbody>\n</table>\n</div>"
     },
     "metadata": {},
     "execution_count": 52
    }
   ],
   "source": [
    "#id, name, course_code, sis_course_id\n",
    "df2 = df[['id', 'name', 'course_code', 'sis_course_id']]\n",
    "df2.head()"
   ]
  },
  {
   "cell_type": "code",
   "execution_count": 54,
   "metadata": {},
   "outputs": [],
   "source": [
    "conn = sqlite3.Connection(\"llp_courses_db.sqlite3\")"
   ]
  },
  {
   "cell_type": "code",
   "execution_count": 55,
   "metadata": {},
   "outputs": [],
   "source": [
    "curs = conn.cursor()"
   ]
  },
  {
   "cell_type": "code",
   "execution_count": 57,
   "metadata": {},
   "outputs": [
    {
     "output_type": "execute_result",
     "data": {
      "text/plain": [
       "<sqlite3.Cursor at 0x1c5a89d9340>"
      ]
     },
     "metadata": {},
     "execution_count": 57
    }
   ],
   "source": [
    "create = \"CREATE TABLE LLP_COURSES(ID INT, Name VARCHAR(500), Course_Code VARCHAR(250), SIS_Course_ID VARCHAR(250))\"\n",
    "curs.execute(create)"
   ]
  },
  {
   "cell_type": "code",
   "execution_count": 59,
   "metadata": {},
   "outputs": [],
   "source": [
    "curs.close()"
   ]
  },
  {
   "cell_type": "code",
   "execution_count": 60,
   "metadata": {},
   "outputs": [],
   "source": [
    "conn.commit()"
   ]
  },
  {
   "cell_type": "code",
   "execution_count": 61,
   "metadata": {},
   "outputs": [],
   "source": [
    "conn = sqlite3.Connection(\"llp_courses_db.sqlite3\")"
   ]
  },
  {
   "cell_type": "code",
   "execution_count": 62,
   "metadata": {},
   "outputs": [],
   "source": [
    "df2.to_sql(\"LLP_COURSES\", conn, if_exists=\"replace\")"
   ]
  },
  {
   "cell_type": "code",
   "execution_count": 63,
   "metadata": {},
   "outputs": [],
   "source": [
    "curs = conn.cursor()"
   ]
  },
  {
   "cell_type": "code",
   "execution_count": 64,
   "metadata": {},
   "outputs": [
    {
     "output_type": "execute_result",
     "data": {
      "text/plain": [
       "<sqlite3.Cursor at 0x1c5a8fbb570>"
      ]
     },
     "metadata": {},
     "execution_count": 64
    }
   ],
   "source": [
    "the_all = \"SELECT * FROM LLP_COURSES\"\n",
    "curs.execute(the_all)"
   ]
  },
  {
   "cell_type": "code",
   "execution_count": 65,
   "metadata": {},
   "outputs": [
    {
     "output_type": "stream",
     "name": "stdout",
     "text": [
      "[(0, 190, 'Lambda Leadership Program - Unit 2', 'LLP_unit2', None), (1, 283, 'Lambda Leadership - Rotation C Template', 'LLP_C_Template_Old', 'LLP_C_Template_Old'), (2, 330, 'Lambda Leadership - Rotation C PT', 'LLP_PT_2009', 'LLP_PT_2009'), (3, 331, 'Lambda Leadership - Rotation C FT', 'LLP_FT_2009', 'LLP_FT_2009'), (4, 365, 'Lambda Leadership - Rotation C FT - LABS', 'LLP_FT_2009LABS', 'LLP_FT_2009LABS'), (5, 366, 'Lambda Leadership - Rotation C PT - LABS', 'LLP_PT_2009LABS', 'LLP_PT_2009LABS'), (6, 391, 'Lambda Leadership Rotation C - CS', 'LLP_FT_2009_CS', 'LLP_FT_2009_CS'), (7, 393, 'Lambda Leadership Rotation C PT - CS', 'LLP_PT_2009_CS', 'LLP_PT_2009_CS'), (8, 408, 'Lambda Leadership - Rotation D', 'LLP_D_FT_Template', 'LLP_D_FT_Template'), (9, 427, 'Lambda Leadership - Rotation D - Part Time', 'LLP_D_PT_Template', None)]\n"
     ]
    }
   ],
   "source": [
    "print(curs.fetchall())"
   ]
  },
  {
   "cell_type": "code",
   "execution_count": null,
   "metadata": {},
   "outputs": [],
   "source": []
  }
 ]
}